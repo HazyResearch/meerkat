{
 "cells": [
  {
   "cell_type": "code",
   "execution_count": 1,
   "metadata": {},
   "outputs": [],
   "source": [
    "%load_ext autoreload\n",
    "%autoreload 2"
   ]
  },
  {
   "cell_type": "code",
   "execution_count": 2,
   "metadata": {},
   "outputs": [],
   "source": [
    "import meerkat as mk"
   ]
  },
  {
   "cell_type": "code",
   "execution_count": 3,
   "metadata": {},
   "outputs": [
    {
     "name": "stdout",
     "output_type": "stream",
     "text": [
      "\n",
      "> src@0.0.1 dev\n",
      "> vite dev \"--port\" \"7861\"\n",
      "\n",
      "\n",
      "  VITE v3.0.3  ready in 524 ms\n",
      "\n",
      "  ➜  Local:   http://localhost:7861/\n",
      "  ➜  Network: use --host to expose\n"
     ]
    }
   ],
   "source": [
    "from meerkat.interactive.startup import interactive_mode\n",
    "network, register_api = interactive_mode()"
   ]
  },
  {
   "cell_type": "code",
   "execution_count": 4,
   "metadata": {},
   "outputs": [
    {
     "data": {
      "text/html": [
       "\n",
       "        <iframe\n",
       "            width=\"1\"\n",
       "            height=\"1\"\n",
       "            src=\"http://localhost:7861/network/register?api=http://127.0.0.1:7860\"\n",
       "            frameborder=\"0\"\n",
       "            allowfullscreen\n",
       "            \n",
       "        ></iframe>\n",
       "        "
      ],
      "text/plain": [
       "<IPython.lib.display.IFrame at 0x7ff228abce80>"
      ]
     },
     "execution_count": 4,
     "metadata": {},
     "output_type": "execute_result"
    }
   ],
   "source": [
    "register_api()"
   ]
  },
  {
   "cell_type": "code",
   "execution_count": 5,
   "metadata": {},
   "outputs": [
    {
     "name": "stdout",
     "output_type": "stream",
     "text": [
      "http://127.0.0.1:7860/docs\n",
      "['73cc53c8af284142abdf97a09f314052']\n"
     ]
    }
   ],
   "source": [
    "from meerkat.state import state\n",
    "\n",
    "print(state.network_info.api_docs_url)\n",
    "print(list(state.identifiables.datapanels.keys()))"
   ]
  },
  {
   "cell_type": "code",
   "execution_count": 5,
   "metadata": {},
   "outputs": [],
   "source": [
    "dp = mk.get(\"imagenette\", dataset_dir=\"/Users/arjundesai/.cache/meerkat/datasets\")\n",
    "dp_embed = mk.DataPanel.read(\"/Users/arjundesai/Downloads/imagenette_embedded.mk\")\n",
    "dp[\"clip(img)\"] = dp_embed[\"clip(img)\"]\n",
    "\n",
    "# dp = dp.lz[:500]"
   ]
  },
  {
   "cell_type": "code",
   "execution_count": 7,
   "metadata": {},
   "outputs": [
    {
     "data": {
      "text/plain": [
       "'http://127.0.0.1:7860/docs'"
      ]
     },
     "execution_count": 7,
     "metadata": {},
     "output_type": "execute_result"
    }
   ],
   "source": [
    "from meerkat.state import state\n",
    "\n",
    "state.network_info.api_docs_url"
   ]
  },
  {
   "cell_type": "code",
   "execution_count": 7,
   "metadata": {},
   "outputs": [],
   "source": [
    "# from meerkat.state import state\n",
    "\n",
    "# state.network_info.api_docs\n",
    "# state.network_info.api_docs_url"
   ]
  },
  {
   "cell_type": "code",
   "execution_count": null,
   "metadata": {},
   "outputs": [],
   "source": []
  },
  {
   "cell_type": "code",
   "execution_count": 8,
   "metadata": {},
   "outputs": [
    {
     "name": "stdout",
     "output_type": "stream",
     "text": [
      "http://localhost:7861/interface?id=02d82de662e3402399ea7e1e00a7a8ea\n"
     ]
    },
    {
     "data": {
      "text/html": [
       "\n",
       "        <iframe\n",
       "            width=\"100%\"\n",
       "            height=\"1000\"\n",
       "            src=\"http://localhost:7861/interface?id=02d82de662e3402399ea7e1e00a7a8ea\"\n",
       "            frameborder=\"0\"\n",
       "            allowfullscreen\n",
       "            \n",
       "        ></iframe>\n",
       "        "
      ],
      "text/plain": [
       "<IPython.lib.display.IFrame at 0x7ff218d36580>"
      ]
     },
     "execution_count": 8,
     "metadata": {},
     "output_type": "execute_result"
    },
    {
     "name": "stdout",
     "output_type": "stream",
     "text": [
      "12:13:09 PM [vite-plugin-svelte] /Users/arjundesai/Documents/stanford/research/meerkat/meerkat/interactive/app/src/lib/TableView.svelte:139:1 Unused CSS selector \".dark .table-view\"\n",
      "12:15:05 PM [vite] hmr update /src/lib/TableView.svelte\n",
      "hmr update /src/routes/__layout.svelte\n",
      "12:15:05 PM [vite-plugin-svelte] /Users/arjundesai/Documents/stanford/research/meerkat/meerkat/interactive/app/src/lib/TableView.svelte:143:1 Unused CSS selector \".dark .table-view\"\n",
      "12:16:37 PM [vite-plugin-svelte] /Users/arjundesai/Documents/stanford/research/meerkat/meerkat/interactive/app/src/lib/TableView.svelte:143:1 Unused CSS selector \".dark .table-view\"\n"
     ]
    },
    {
     "data": {
      "application/vnd.jupyter.widget-view+json": {
       "model_id": "4b49ca8c079345e2b42e3443352ecf23",
       "version_major": 2,
       "version_minor": 0
      },
      "text/plain": [
       "  0%|          | 0/1 [00:00<?, ?it/s]"
      ]
     },
     "metadata": {},
     "output_type": "display_data"
    },
    {
     "data": {
      "application/vnd.jupyter.widget-view+json": {
       "model_id": "c8112c42864947b0a64767814c8b0edc",
       "version_major": 2,
       "version_minor": 0
      },
      "text/plain": [
       "  0%|          | 0/1 [00:00<?, ?it/s]"
      ]
     },
     "metadata": {},
     "output_type": "display_data"
    },
    {
     "data": {
      "application/vnd.jupyter.widget-view+json": {
       "model_id": "980b74af251b497289abe64e911442a8",
       "version_major": 2,
       "version_minor": 0
      },
      "text/plain": [
       "  0%|          | 0/1 [00:00<?, ?it/s]"
      ]
     },
     "metadata": {},
     "output_type": "display_data"
    },
    {
     "name": "stderr",
     "output_type": "stream",
     "text": [
      "ERROR:    Exception in ASGI application\n",
      "Traceback (most recent call last):\n",
      "  File \"/Users/arjundesai/anaconda3/envs/mk_interact_env/lib/python3.8/site-packages/uvicorn/protocols/http/h11_impl.py\", line 403, in run_asgi\n",
      "    result = await app(self.scope, self.receive, self.send)\n",
      "  File \"/Users/arjundesai/anaconda3/envs/mk_interact_env/lib/python3.8/site-packages/uvicorn/middleware/proxy_headers.py\", line 78, in __call__\n",
      "    return await self.app(scope, receive, send)\n",
      "  File \"/Users/arjundesai/anaconda3/envs/mk_interact_env/lib/python3.8/site-packages/fastapi/applications.py\", line 269, in __call__\n",
      "    await super().__call__(scope, receive, send)\n",
      "  File \"/Users/arjundesai/anaconda3/envs/mk_interact_env/lib/python3.8/site-packages/starlette/applications.py\", line 124, in __call__\n",
      "    await self.middleware_stack(scope, receive, send)\n",
      "  File \"/Users/arjundesai/anaconda3/envs/mk_interact_env/lib/python3.8/site-packages/starlette/middleware/errors.py\", line 184, in __call__\n",
      "    raise exc\n",
      "  File \"/Users/arjundesai/anaconda3/envs/mk_interact_env/lib/python3.8/site-packages/starlette/middleware/errors.py\", line 162, in __call__\n",
      "    await self.app(scope, receive, _send)\n",
      "  File \"/Users/arjundesai/anaconda3/envs/mk_interact_env/lib/python3.8/site-packages/starlette/middleware/cors.py\", line 92, in __call__\n",
      "    await self.simple_response(scope, receive, send, request_headers=headers)\n",
      "  File \"/Users/arjundesai/anaconda3/envs/mk_interact_env/lib/python3.8/site-packages/starlette/middleware/cors.py\", line 147, in simple_response\n",
      "    await self.app(scope, receive, send)\n",
      "  File \"/Users/arjundesai/anaconda3/envs/mk_interact_env/lib/python3.8/site-packages/starlette/exceptions.py\", line 93, in __call__\n",
      "    raise exc\n",
      "  File \"/Users/arjundesai/anaconda3/envs/mk_interact_env/lib/python3.8/site-packages/starlette/exceptions.py\", line 82, in __call__\n",
      "    await self.app(scope, receive, sender)\n",
      "  File \"/Users/arjundesai/anaconda3/envs/mk_interact_env/lib/python3.8/site-packages/fastapi/middleware/asyncexitstack.py\", line 21, in __call__\n",
      "    raise e\n",
      "  File \"/Users/arjundesai/anaconda3/envs/mk_interact_env/lib/python3.8/site-packages/fastapi/middleware/asyncexitstack.py\", line 18, in __call__\n",
      "    await self.app(scope, receive, send)\n",
      "  File \"/Users/arjundesai/anaconda3/envs/mk_interact_env/lib/python3.8/site-packages/starlette/routing.py\", line 670, in __call__\n",
      "    await route.handle(scope, receive, send)\n",
      "  File \"/Users/arjundesai/anaconda3/envs/mk_interact_env/lib/python3.8/site-packages/starlette/routing.py\", line 266, in handle\n",
      "    await self.app(scope, receive, send)\n",
      "  File \"/Users/arjundesai/anaconda3/envs/mk_interact_env/lib/python3.8/site-packages/starlette/routing.py\", line 65, in app\n",
      "    response = await func(request)\n",
      "  File \"/Users/arjundesai/anaconda3/envs/mk_interact_env/lib/python3.8/site-packages/fastapi/routing.py\", line 227, in app\n",
      "    raw_response = await run_endpoint_function(\n",
      "  File \"/Users/arjundesai/anaconda3/envs/mk_interact_env/lib/python3.8/site-packages/fastapi/routing.py\", line 162, in run_endpoint_function\n",
      "    return await run_in_threadpool(dependant.call, **values)\n",
      "  File \"/Users/arjundesai/anaconda3/envs/mk_interact_env/lib/python3.8/site-packages/starlette/concurrency.py\", line 41, in run_in_threadpool\n",
      "    return await anyio.to_thread.run_sync(func, *args)\n",
      "  File \"/Users/arjundesai/anaconda3/envs/mk_interact_env/lib/python3.8/site-packages/anyio/to_thread.py\", line 31, in run_sync\n",
      "    return await get_asynclib().run_sync_in_worker_thread(\n",
      "  File \"/Users/arjundesai/anaconda3/envs/mk_interact_env/lib/python3.8/site-packages/anyio/_backends/_asyncio.py\", line 937, in run_sync_in_worker_thread\n",
      "    return await future\n",
      "  File \"/Users/arjundesai/anaconda3/envs/mk_interact_env/lib/python3.8/site-packages/anyio/_backends/_asyncio.py\", line 867, in run\n",
      "    result = context.run(func, *args)\n",
      "  File \"/Users/arjundesai/Documents/stanford/research/meerkat/meerkat/interactive/api/routers/datapanel.py\", line 208, in filter\n",
      "    all_series = [\n",
      "  File \"/Users/arjundesai/Documents/stanford/research/meerkat/meerkat/interactive/api/routers/datapanel.py\", line 209, in <listcomp>\n",
      "    _operator_str_to_func[op](dp[col], value)\n",
      "  File \"/Users/arjundesai/Documents/stanford/research/meerkat/meerkat/interactive/api/routers/datapanel.py\", line 188, in <lambda>\n",
      "    \">=\": lambda x, y: x >= y,  # greater than or equal to\n",
      "  File \"/Users/arjundesai/anaconda3/envs/mk_interact_env/lib/python3.8/site-packages/numpy/lib/mixins.py\", line 21, in func\n",
      "    return ufunc(self, other)\n",
      "TypeError: operand type(s) all returned NotImplemented from __array_ufunc__(<ufunc 'greater_equal'>, '__call__', NumpyArrayColumn(array([36.887...dtype=float32)), '15'): 'NumpyArrayColumn', 'str'\n",
      "[2022-08-12 13:52:36,580][ERROR][uvicorn.error:406] :: Exception in ASGI application\n",
      "Traceback (most recent call last):\n",
      "  File \"/Users/arjundesai/anaconda3/envs/mk_interact_env/lib/python3.8/site-packages/uvicorn/protocols/http/h11_impl.py\", line 403, in run_asgi\n",
      "    result = await app(self.scope, self.receive, self.send)\n",
      "  File \"/Users/arjundesai/anaconda3/envs/mk_interact_env/lib/python3.8/site-packages/uvicorn/middleware/proxy_headers.py\", line 78, in __call__\n",
      "    return await self.app(scope, receive, send)\n",
      "  File \"/Users/arjundesai/anaconda3/envs/mk_interact_env/lib/python3.8/site-packages/fastapi/applications.py\", line 269, in __call__\n",
      "    await super().__call__(scope, receive, send)\n",
      "  File \"/Users/arjundesai/anaconda3/envs/mk_interact_env/lib/python3.8/site-packages/starlette/applications.py\", line 124, in __call__\n",
      "    await self.middleware_stack(scope, receive, send)\n",
      "  File \"/Users/arjundesai/anaconda3/envs/mk_interact_env/lib/python3.8/site-packages/starlette/middleware/errors.py\", line 184, in __call__\n",
      "    raise exc\n",
      "  File \"/Users/arjundesai/anaconda3/envs/mk_interact_env/lib/python3.8/site-packages/starlette/middleware/errors.py\", line 162, in __call__\n",
      "    await self.app(scope, receive, _send)\n",
      "  File \"/Users/arjundesai/anaconda3/envs/mk_interact_env/lib/python3.8/site-packages/starlette/middleware/cors.py\", line 92, in __call__\n",
      "    await self.simple_response(scope, receive, send, request_headers=headers)\n",
      "  File \"/Users/arjundesai/anaconda3/envs/mk_interact_env/lib/python3.8/site-packages/starlette/middleware/cors.py\", line 147, in simple_response\n",
      "    await self.app(scope, receive, send)\n",
      "  File \"/Users/arjundesai/anaconda3/envs/mk_interact_env/lib/python3.8/site-packages/starlette/exceptions.py\", line 93, in __call__\n",
      "    raise exc\n",
      "  File \"/Users/arjundesai/anaconda3/envs/mk_interact_env/lib/python3.8/site-packages/starlette/exceptions.py\", line 82, in __call__\n",
      "    await self.app(scope, receive, sender)\n",
      "  File \"/Users/arjundesai/anaconda3/envs/mk_interact_env/lib/python3.8/site-packages/fastapi/middleware/asyncexitstack.py\", line 21, in __call__\n",
      "    raise e\n",
      "  File \"/Users/arjundesai/anaconda3/envs/mk_interact_env/lib/python3.8/site-packages/fastapi/middleware/asyncexitstack.py\", line 18, in __call__\n",
      "    await self.app(scope, receive, send)\n",
      "  File \"/Users/arjundesai/anaconda3/envs/mk_interact_env/lib/python3.8/site-packages/starlette/routing.py\", line 670, in __call__\n",
      "    await route.handle(scope, receive, send)\n",
      "  File \"/Users/arjundesai/anaconda3/envs/mk_interact_env/lib/python3.8/site-packages/starlette/routing.py\", line 266, in handle\n",
      "    await self.app(scope, receive, send)\n",
      "  File \"/Users/arjundesai/anaconda3/envs/mk_interact_env/lib/python3.8/site-packages/starlette/routing.py\", line 65, in app\n",
      "    response = await func(request)\n",
      "  File \"/Users/arjundesai/anaconda3/envs/mk_interact_env/lib/python3.8/site-packages/fastapi/routing.py\", line 227, in app\n",
      "    raw_response = await run_endpoint_function(\n",
      "  File \"/Users/arjundesai/anaconda3/envs/mk_interact_env/lib/python3.8/site-packages/fastapi/routing.py\", line 162, in run_endpoint_function\n",
      "    return await run_in_threadpool(dependant.call, **values)\n",
      "  File \"/Users/arjundesai/anaconda3/envs/mk_interact_env/lib/python3.8/site-packages/starlette/concurrency.py\", line 41, in run_in_threadpool\n",
      "    return await anyio.to_thread.run_sync(func, *args)\n",
      "  File \"/Users/arjundesai/anaconda3/envs/mk_interact_env/lib/python3.8/site-packages/anyio/to_thread.py\", line 31, in run_sync\n",
      "    return await get_asynclib().run_sync_in_worker_thread(\n",
      "  File \"/Users/arjundesai/anaconda3/envs/mk_interact_env/lib/python3.8/site-packages/anyio/_backends/_asyncio.py\", line 937, in run_sync_in_worker_thread\n",
      "    return await future\n",
      "  File \"/Users/arjundesai/anaconda3/envs/mk_interact_env/lib/python3.8/site-packages/anyio/_backends/_asyncio.py\", line 867, in run\n",
      "    result = context.run(func, *args)\n",
      "  File \"/Users/arjundesai/Documents/stanford/research/meerkat/meerkat/interactive/api/routers/datapanel.py\", line 208, in filter\n",
      "    all_series = [\n",
      "  File \"/Users/arjundesai/Documents/stanford/research/meerkat/meerkat/interactive/api/routers/datapanel.py\", line 209, in <listcomp>\n",
      "    _operator_str_to_func[op](dp[col], value)\n",
      "  File \"/Users/arjundesai/Documents/stanford/research/meerkat/meerkat/interactive/api/routers/datapanel.py\", line 188, in <lambda>\n",
      "    \">=\": lambda x, y: x >= y,  # greater than or equal to\n",
      "  File \"/Users/arjundesai/anaconda3/envs/mk_interact_env/lib/python3.8/site-packages/numpy/lib/mixins.py\", line 21, in func\n",
      "    return ufunc(self, other)\n",
      "TypeError: operand type(s) all returned NotImplemented from __array_ufunc__(<ufunc 'greater_equal'>, '__call__', NumpyArrayColumn(array([36.887...dtype=float32)), '15'): 'NumpyArrayColumn', 'str'\n"
     ]
    },
    {
     "name": "stdout",
     "output_type": "stream",
     "text": [
      "1:52:47 PM [vite-plugin-svelte] /Users/arjundesai/Documents/stanford/research/meerkat/meerkat/interactive/app/src/lib/TableView.svelte:143:1 Unused CSS selector \".dark .table-view\"\n"
     ]
    },
    {
     "data": {
      "application/vnd.jupyter.widget-view+json": {
       "model_id": "4b135a7401a3492bb6a48301f5262b04",
       "version_major": 2,
       "version_minor": 0
      },
      "text/plain": [
       "  0%|          | 0/1 [00:00<?, ?it/s]"
      ]
     },
     "metadata": {},
     "output_type": "display_data"
    },
    {
     "data": {
      "application/vnd.jupyter.widget-view+json": {
       "model_id": "e84b83b773af490c86f8ee214f5f40f3",
       "version_major": 2,
       "version_minor": 0
      },
      "text/plain": [
       "  0%|          | 0/1 [00:00<?, ?it/s]"
      ]
     },
     "metadata": {},
     "output_type": "display_data"
    }
   ],
   "source": [
    "from meerkat.interactive.gui import GUI\n",
    "\n",
    "gui = GUI(dp[\"img\", \"path\", \"label\", \"clip(img)\"])\n",
    "gui.table(len(dp), return_iframe=True)"
   ]
  }
 ],
 "metadata": {
  "kernelspec": {
   "display_name": "Python 3.8.13 ('mk_interact_env')",
   "language": "python",
   "name": "python3"
  },
  "language_info": {
   "codemirror_mode": {
    "name": "ipython",
    "version": 3
   },
   "file_extension": ".py",
   "mimetype": "text/x-python",
   "name": "python",
   "nbconvert_exporter": "python",
   "pygments_lexer": "ipython3",
   "version": "3.8.13"
  },
  "orig_nbformat": 4,
  "vscode": {
   "interpreter": {
    "hash": "0466ce2b824eb84f8063724eef9a3de9962518469297387e9836cf00b7aa3c9a"
   }
  }
 },
 "nbformat": 4,
 "nbformat_minor": 2
}
