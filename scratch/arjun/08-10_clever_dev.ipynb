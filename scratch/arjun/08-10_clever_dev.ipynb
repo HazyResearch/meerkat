{
 "cells": [
  {
   "cell_type": "code",
   "execution_count": 1,
   "metadata": {},
   "outputs": [],
   "source": [
    "%load_ext autoreload\n",
    "%autoreload 2"
   ]
  },
  {
   "cell_type": "code",
   "execution_count": 2,
   "metadata": {},
   "outputs": [],
   "source": [
    "import meerkat as mk"
   ]
  },
  {
   "cell_type": "code",
   "execution_count": 3,
   "metadata": {},
   "outputs": [
    {
     "name": "stdout",
     "output_type": "stream",
     "text": [
      "\n",
      "> src@0.0.1 dev\n",
      "> vite dev \"--port\" \"7861\"\n",
      "\n"
     ]
    },
    {
     "name": "stdout",
     "output_type": "stream",
     "text": [
      "\n",
      "  VITE v3.0.3  ready in 1212 ms\n",
      "\n",
      "  ➜  Local:   http://localhost:7861/\n",
      "  ➜  Network: use --host to expose\n"
     ]
    }
   ],
   "source": [
    "from meerkat.interactive.startup import interactive_mode\n",
    "network, register_api = interactive_mode()"
   ]
  },
  {
   "cell_type": "code",
   "execution_count": 4,
   "metadata": {},
   "outputs": [
    {
     "data": {
      "text/html": [
       "\n",
       "        <iframe\n",
       "            width=\"1\"\n",
       "            height=\"1\"\n",
       "            src=\"http://localhost:7861/network/register?api=http://127.0.0.1:7860\"\n",
       "            frameborder=\"0\"\n",
       "            allowfullscreen\n",
       "            \n",
       "        ></iframe>\n",
       "        "
      ],
      "text/plain": [
       "<IPython.lib.display.IFrame at 0x7ff76058c9d0>"
      ]
     },
     "execution_count": 4,
     "metadata": {},
     "output_type": "execute_result"
    }
   ],
   "source": [
    "register_api()"
   ]
  },
  {
   "cell_type": "code",
   "execution_count": 5,
   "metadata": {},
   "outputs": [
    {
     "name": "stdout",
     "output_type": "stream",
     "text": [
      "http://127.0.0.1:7860/docs\n",
      "['0f9136af3b3042bdb6d35ffe8761c85f']\n"
     ]
    }
   ],
   "source": [
    "from meerkat.state import state\n",
    "\n",
    "print(state.network_info.api_docs_url)\n",
    "print(list(state.identifiables.datapanels.keys()))"
   ]
  },
  {
   "cell_type": "code",
   "execution_count": 5,
   "metadata": {},
   "outputs": [],
   "source": [
    "dp = mk.get(\"imagenette\", dataset_dir=\"/Users/arjundesai/.cache/meerkat/datasets\")\n",
    "dp_embed = mk.DataPanel.read(\"/Users/arjundesai/Downloads/imagenette_embedded.mk\")\n",
    "dp[\"clip(img)\"] = dp_embed[\"clip(img)\"]\n",
    "\n",
    "# dp = dp.lz[:500]"
   ]
  },
  {
   "cell_type": "code",
   "execution_count": 7,
   "metadata": {},
   "outputs": [
    {
     "data": {
      "text/plain": [
       "'http://127.0.0.1:7860/docs'"
      ]
     },
     "execution_count": 7,
     "metadata": {},
     "output_type": "execute_result"
    }
   ],
   "source": [
    "from meerkat.state import state\n",
    "\n",
    "state.network_info.api_docs_url"
   ]
  },
  {
   "cell_type": "code",
   "execution_count": 7,
   "metadata": {},
   "outputs": [],
   "source": [
    "# from meerkat.state import state\n",
    "\n",
    "# state.network_info.api_docs\n",
    "# state.network_info.api_docs_url"
   ]
  },
  {
   "cell_type": "code",
   "execution_count": 6,
   "metadata": {},
   "outputs": [
    {
     "data": {
      "text/html": [
       "\n",
       "        <iframe\n",
       "            width=\"100%\"\n",
       "            height=\"1000\"\n",
       "            src=\"http://localhost:7861/interface?id=b54e118ee088405b9815ff2e5e2d0bd8\"\n",
       "            frameborder=\"0\"\n",
       "            allowfullscreen\n",
       "            \n",
       "        ></iframe>\n",
       "        "
      ],
      "text/plain": [
       "<IPython.lib.display.IFrame at 0x7ff791583a00>"
      ]
     },
     "execution_count": 6,
     "metadata": {},
     "output_type": "execute_result"
    },
    {
     "name": "stdout",
     "output_type": "stream",
     "text": [
      "9:32:20 AM [vite-plugin-svelte] /Users/arjundesai/Documents/stanford/research/meerkat/meerkat/interactive/app/src/lib/TableView.svelte:143:1 Unused CSS selector \".dark .table-view\"\n",
      "9:32:20 AM [vite-plugin-svelte] /Users/arjundesai/Documents/stanford/research/meerkat/meerkat/interactive/app/src/lib/components/sliceby/SliceCard.svelte:8:11 SliceCard has unused export property 'datapanel_id'. If it is for external reference only, please consider using `export const datapanel_id`\n",
      "9:32:21 AM [vite-plugin-svelte] /Users/arjundesai/Documents/stanford/research/meerkat/meerkat/interactive/app/src/lib/components/table/Table.svelte:102:1 Unused CSS selector \".dark .table\"\n",
      "9:32:21 AM [vite-plugin-svelte] /Users/arjundesai/Documents/stanford/research/meerkat/meerkat/interactive/app/src/lib/components/match_header/MatchHeader.svelte:93:1 Unused CSS selector \".list-container\"\n",
      "9:32:21 AM [vite-plugin-svelte] /Users/arjundesai/Documents/stanford/research/meerkat/meerkat/interactive/app/src/lib/components/gallery/Gallery.svelte:87:1 Unused CSS selector \".dark .panel\"\n",
      "9:32:21 AM [vite-plugin-svelte] /Users/arjundesai/Documents/stanford/research/meerkat/meerkat/interactive/app/src/lib/components/filter_header/FilterHeader.svelte:133:1 Unused CSS selector \".list-container\"\n",
      "9:32:21 AM [vite-plugin-svelte] /Users/arjundesai/Documents/stanford/research/meerkat/meerkat/interactive/app/src/lib/components/common/Toggle.svelte:31:0 Unused CSS selector \".dark .label\"\n",
      "9:32:21 AM [vite-plugin-svelte] /Users/arjundesai/Documents/stanford/research/meerkat/meerkat/interactive/app/src/lib/components/common/Toggle.svelte:74:1 Unused CSS selector \".dark .toggle\"\n",
      "9:32:22 AM [vite-plugin-svelte] /Users/arjundesai/Documents/stanford/research/meerkat/meerkat/interactive/app/src/lib/components/row/RowCard.svelte:21:11 RowCard has unused export property 'layout'. If it is for external reference only, please consider using `export const layout`\n",
      "9:32:22 AM [vite-plugin-svelte] /Users/arjundesai/Documents/stanford/research/meerkat/meerkat/interactive/app/src/lib/components/row/RowCard.svelte:24:11 RowCard has unused export property 'card_flex_grow'. If it is for external reference only, please consider using `export const card_flex_grow`\n",
      "9:32:22 AM [vite-plugin-svelte] /Users/arjundesai/Documents/stanford/research/meerkat/meerkat/interactive/app/src/lib/components/row/RowCard.svelte:53:11 RowCard has unused export property 'main_modal'. If it is for external reference only, please consider using `export const main_modal`\n",
      "9:32:22 AM [vite-plugin-svelte] /Users/arjundesai/Documents/stanford/research/meerkat/meerkat/interactive/app/src/lib/components/gallery/Card.svelte:110:1 Unused CSS selector \".dark .card\"\n"
     ]
    },
    {
     "name": "stderr",
     "output_type": "stream",
     "text": [
      "(node:2782) ExperimentalWarning: buffer.Blob is an experimental feature. This feature could change at any time\n",
      "(Use `node --trace-warnings ...` to show where the warning was created)\n"
     ]
    },
    {
     "name": "stdout",
     "output_type": "stream",
     "text": [
      "9:32:25 AM [vite-plugin-svelte] /Users/arjundesai/Documents/stanford/research/meerkat/meerkat/interactive/app/src/lib/TableView.svelte:143:1 Unused CSS selector \".dark .table-view\"\n",
      "9:32:26 AM [vite-plugin-svelte] /Users/arjundesai/Documents/stanford/research/meerkat/meerkat/interactive/app/src/lib/components/sliceby/SliceCard.svelte:8:11 SliceCard has unused export property 'datapanel_id'. If it is for external reference only, please consider using `export const datapanel_id`\n",
      "9:32:26 AM [vite-plugin-svelte] /Users/arjundesai/Documents/stanford/research/meerkat/meerkat/interactive/app/src/lib/components/match_header/MatchHeader.svelte:93:1 Unused CSS selector \".list-container\"\n",
      "9:32:26 AM [vite-plugin-svelte] /Users/arjundesai/Documents/stanford/research/meerkat/meerkat/interactive/app/src/lib/components/filter_header/FilterHeader.svelte:133:1 Unused CSS selector \".list-container\"\n",
      "9:32:26 AM [vite-plugin-svelte] /Users/arjundesai/Documents/stanford/research/meerkat/meerkat/interactive/app/src/lib/components/gallery/Gallery.svelte:87:1 Unused CSS selector \".dark .panel\"\n",
      "9:32:26 AM [vite-plugin-svelte] /Users/arjundesai/Documents/stanford/research/meerkat/meerkat/interactive/app/src/lib/components/table/Table.svelte:102:1 Unused CSS selector \".dark .table\"\n",
      "9:32:27 AM [vite-plugin-svelte] /Users/arjundesai/Documents/stanford/research/meerkat/meerkat/interactive/app/src/lib/components/common/Toggle.svelte:31:0 Unused CSS selector \".dark .label\"\n",
      "9:32:27 AM [vite-plugin-svelte] /Users/arjundesai/Documents/stanford/research/meerkat/meerkat/interactive/app/src/lib/components/common/Toggle.svelte:74:1 Unused CSS selector \".dark .toggle\"\n",
      "9:32:27 AM [vite-plugin-svelte] /Users/arjundesai/Documents/stanford/research/meerkat/meerkat/interactive/app/src/lib/components/row/RowCard.svelte:21:11 RowCard has unused export property 'layout'. If it is for external reference only, please consider using `export const layout`\n",
      "9:32:27 AM [vite-plugin-svelte] /Users/arjundesai/Documents/stanford/research/meerkat/meerkat/interactive/app/src/lib/components/row/RowCard.svelte:24:11 RowCard has unused export property 'card_flex_grow'. If it is for external reference only, please consider using `export const card_flex_grow`\n",
      "9:32:27 AM [vite-plugin-svelte] /Users/arjundesai/Documents/stanford/research/meerkat/meerkat/interactive/app/src/lib/components/row/RowCard.svelte:53:11 RowCard has unused export property 'main_modal'. If it is for external reference only, please consider using `export const main_modal`\n",
      "9:32:28 AM [vite-plugin-svelte] /Users/arjundesai/Documents/stanford/research/meerkat/meerkat/interactive/app/src/lib/components/gallery/Card.svelte:110:1 Unused CSS selector \".dark .card\"\n"
     ]
    },
    {
     "data": {
      "application/vnd.jupyter.widget-view+json": {
       "model_id": "7955ca514823407f838654950ff31877",
       "version_major": 2,
       "version_minor": 0
      },
      "text/plain": [
       "  0%|          | 0/1 [00:00<?, ?it/s]"
      ]
     },
     "metadata": {},
     "output_type": "display_data"
    },
    {
     "data": {
      "application/vnd.jupyter.widget-view+json": {
       "model_id": "1e4ebb6766cf4bfdb5ed03c8e8794040",
       "version_major": 2,
       "version_minor": 0
      },
      "text/plain": [
       "  0%|          | 0/1 [00:00<?, ?it/s]"
      ]
     },
     "metadata": {},
     "output_type": "display_data"
    },
    {
     "data": {
      "application/vnd.jupyter.widget-view+json": {
       "model_id": "7870476c58c54135ae4d931f7c5674b6",
       "version_major": 2,
       "version_minor": 0
      },
      "text/plain": [
       "  0%|          | 0/1 [00:00<?, ?it/s]"
      ]
     },
     "metadata": {},
     "output_type": "display_data"
    }
   ],
   "source": [
    "from meerkat.interactive.gui import DataPanelGUI\n",
    "gui = DataPanelGUI(dp[\"img\", \"path\", \"label\", \"clip(img)\"])\n",
    "gui.table(len(dp))"
   ]
  },
  {
   "cell_type": "code",
   "execution_count": 7,
   "metadata": {},
   "outputs": [
    {
     "ename": "TypeError",
     "evalue": "GUI() takes no arguments",
     "output_type": "error",
     "traceback": [
      "\u001b[0;31m---------------------------------------------------------------------------\u001b[0m",
      "\u001b[0;31mTypeError\u001b[0m                                 Traceback (most recent call last)",
      "\u001b[1;32m/Users/arjundesai/Documents/stanford/research/meerkat/scratch/arjun/08-10_clever_dev.ipynb Cell 10\u001b[0m in \u001b[0;36m<cell line: 3>\u001b[0;34m()\u001b[0m\n\u001b[1;32m      <a href='vscode-notebook-cell:/Users/arjundesai/Documents/stanford/research/meerkat/scratch/arjun/08-10_clever_dev.ipynb#X12sZmlsZQ%3D%3D?line=0'>1</a>\u001b[0m \u001b[39mfrom\u001b[39;00m \u001b[39mmeerkat\u001b[39;00m\u001b[39m.\u001b[39;00m\u001b[39minteractive\u001b[39;00m\u001b[39m.\u001b[39;00m\u001b[39mgui\u001b[39;00m \u001b[39mimport\u001b[39;00m GUI\n\u001b[0;32m----> <a href='vscode-notebook-cell:/Users/arjundesai/Documents/stanford/research/meerkat/scratch/arjun/08-10_clever_dev.ipynb#X12sZmlsZQ%3D%3D?line=2'>3</a>\u001b[0m gui \u001b[39m=\u001b[39m GUI(dp[\u001b[39m\"\u001b[39;49m\u001b[39mimg\u001b[39;49m\u001b[39m\"\u001b[39;49m, \u001b[39m\"\u001b[39;49m\u001b[39mpath\u001b[39;49m\u001b[39m\"\u001b[39;49m, \u001b[39m\"\u001b[39;49m\u001b[39mlabel\u001b[39;49m\u001b[39m\"\u001b[39;49m, \u001b[39m\"\u001b[39;49m\u001b[39mclip(img)\u001b[39;49m\u001b[39m\"\u001b[39;49m])\n\u001b[1;32m      <a href='vscode-notebook-cell:/Users/arjundesai/Documents/stanford/research/meerkat/scratch/arjun/08-10_clever_dev.ipynb#X12sZmlsZQ%3D%3D?line=3'>4</a>\u001b[0m gui\u001b[39m.\u001b[39mtable(\u001b[39mlen\u001b[39m(dp), return_iframe\u001b[39m=\u001b[39m\u001b[39mTrue\u001b[39;00m)\n",
      "\u001b[0;31mTypeError\u001b[0m: GUI() takes no arguments"
     ]
    }
   ],
   "source": [
    "from meerkat.interactive.gui import GUI\n",
    "\n",
    "gui = GUI(dp[\"img\", \"path\", \"label\", \"clip(img)\"])\n",
    "gui.table(len(dp), return_iframe=True)"
   ]
  }
 ],
 "metadata": {
  "kernelspec": {
   "display_name": "Python 3.8.13 ('mk_interact_env')",
   "language": "python",
   "name": "python3"
  },
  "language_info": {
   "codemirror_mode": {
    "name": "ipython",
    "version": 3
   },
   "file_extension": ".py",
   "mimetype": "text/x-python",
   "name": "python",
   "nbconvert_exporter": "python",
   "pygments_lexer": "ipython3",
   "version": "3.8.13"
  },
  "orig_nbformat": 4,
  "vscode": {
   "interpreter": {
    "hash": "0466ce2b824eb84f8063724eef9a3de9962518469297387e9836cf00b7aa3c9a"
   }
  }
 },
 "nbformat": 4,
 "nbformat_minor": 2
}
