{
 "cells": [
  {
   "cell_type": "code",
   "execution_count": 1,
   "metadata": {},
   "outputs": [],
   "source": [
    "import meerkat as mk\n",
    "\n",
    "%load_ext autoreload\n",
    "%autoreload 2"
   ]
  },
  {
   "cell_type": "code",
   "execution_count": 2,
   "metadata": {},
   "outputs": [],
   "source": [
    "class MyClass:\n",
    "    def __init__(self, name: str) -> None:\n",
    "        self.name = name\n",
    "\n",
    "obj = MyClass(\"John Doe\")"
   ]
  },
  {
   "cell_type": "code",
   "execution_count": 3,
   "metadata": {},
   "outputs": [
    {
     "name": "stdout",
     "output_type": "stream",
     "text": [
      "store type <class 'meerkat.interactive.graph.Store'>\n",
      "name John Doe <class 'str'>\n"
     ]
    }
   ],
   "source": [
    "# Not reactive on attributes\n",
    "store = mk.gui.Store(obj)\n",
    "name = store.name\n",
    "\n",
    "print(\"store type\", type(store))\n",
    "print(\"name\", name, type(name))"
   ]
  },
  {
   "cell_type": "code",
   "execution_count": 14,
   "metadata": {},
   "outputs": [
    {
     "name": "stdout",
     "output_type": "stream",
     "text": [
      "store type <class 'meerkat.interactive.graph.Store'>\n",
      "name John Doe <class 'meerkat.interactive.graph.Store'>\n",
      "\n",
      "store.inode.has_trigger_children(): True\n",
      "name.inode: Node(John Doe, 0 children)\n",
      "\n",
      "{Node(John Doe, 0 children): True}\n"
     ]
    }
   ],
   "source": [
    "store = mk.gui.Store(obj, reactive_attr=True)\n",
    "\n",
    "with mk.gui.react():\n",
    "    name = store.name\n",
    "\n",
    "print(\"store type\", type(store))\n",
    "print(\"name\", name, type(name))\n",
    "\n",
    "print('')\n",
    "print(\"store.inode.has_trigger_children():\", store.inode.has_trigger_children())\n",
    "print(\"name.inode:\", name.inode)\n",
    "\n",
    "print('')\n",
    "for k, v in store.inode.children.items():\n",
    "    print(k.children)"
   ]
  },
  {
   "attachments": {},
   "cell_type": "markdown",
   "metadata": {},
   "source": [
    "## Overloaded functions for shortcut operators\n",
    "\n",
    "Shortcut operators (``and``, ``or``, ``not``) do not work with Stores.\n",
    "\n",
    "```python\n",
    "\n",
    "# In python, this resolves to \"default\"\n",
    "x = \"\"\n",
    "out = x or \"default\"  # out == \"default\"\n",
    "\n",
    "# But this does not translate to Stores\n",
    "x = Store(\"\")\n",
    "out = x or \"default\"  # out == \"default\", not Store(\"default\")\n",
    "```\n",
    "\n",
    "We introduce overloaded functions for these shortcut operators to make them work with Stores:\n",
    "\n",
    "```python\n",
    "x = Store(\"\")\n",
    "out = mk.cand(x, \"default\")  # Store(\"default\")\n",
    "```\n"
   ]
  },
  {
   "cell_type": "code",
   "execution_count": 1,
   "metadata": {},
   "outputs": [],
   "source": [
    "import meerkat as mk\n",
    "%load_ext autoreload\n",
    "%autoreload 2\n"
   ]
  },
  {
   "cell_type": "code",
   "execution_count": 9,
   "metadata": {},
   "outputs": [
    {
     "data": {
      "text/plain": [
       "False"
      ]
     },
     "execution_count": 9,
     "metadata": {},
     "output_type": "execute_result"
    }
   ],
   "source": [
    "store = mk.gui.Store(\"\")\n",
    "with mk.gui.react():\n",
    "    out = mk.cnot(store)\n",
    "\n",
    "bool(store)"
   ]
  }
 ],
 "metadata": {
  "kernelspec": {
   "display_name": "meerkat_env",
   "language": "python",
   "name": "python3"
  },
  "language_info": {
   "codemirror_mode": {
    "name": "ipython",
    "version": 3
   },
   "file_extension": ".py",
   "mimetype": "text/x-python",
   "name": "python",
   "nbconvert_exporter": "python",
   "pygments_lexer": "ipython3",
   "version": "3.9.15"
  },
  "orig_nbformat": 4,
  "vscode": {
   "interpreter": {
    "hash": "ddcbb88398501e1d5c6d389f98f1e0f0555aa137cbd2c4caf84153dad1867c5b"
   }
  }
 },
 "nbformat": 4,
 "nbformat_minor": 2
}
