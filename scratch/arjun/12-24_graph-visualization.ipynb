{
 "cells": [
  {
   "cell_type": "code",
   "execution_count": 1,
   "metadata": {},
   "outputs": [],
   "source": [
    "import numpy as np\n",
    "import networkx as nx\n",
    "import matplotlib.pyplot as plt\n",
    "\n",
    "import meerkat as mk\n",
    "%load_ext autoreload\n",
    "%autoreload 2"
   ]
  },
  {
   "cell_type": "code",
   "execution_count": 20,
   "metadata": {},
   "outputs": [
    {
     "name": "stderr",
     "output_type": "stream",
     "text": [
      "100%|██████████| 1/1 [00:00<00:00,  1.53it/s]\n"
     ]
    }
   ],
   "source": [
    "IMAGE_COLUMN = \"img\"\n",
    "EMBED_COLUMN = \"img_clip\"\n",
    "\n",
    "df = mk.get(\"imagenette\", version=\"160px\")\n",
    "df = df[100:150]\n",
    "\n",
    "# Embed the image.\n",
    "df = mk.embed(df, input=IMAGE_COLUMN, out_col=EMBED_COLUMN)\n",
    "\n",
    "with mk.gui.react():\n",
    "    # Match\n",
    "    match = mk.gui.Match(\n",
    "        df=df,\n",
    "        against=EMBED_COLUMN,\n",
    "        title=\"Search Examples\",\n",
    "    )\n",
    "    examples_df = match(df)[0]\n",
    "\n",
    "    # Sort\n",
    "    df_sorted = mk.sort(data=examples_df, by=match.criterion.name, ascending=False)[0]"
   ]
  },
  {
   "cell_type": "code",
   "execution_count": 21,
   "metadata": {},
   "outputs": [
    {
     "name": "stdout",
     "output_type": "stream",
     "text": [
      "DataFrame(nrows: 50, ncols: 16)\n"
     ]
    },
    {
     "ename": "AttributeError",
     "evalue": "'ProvenanceObjNode' object has no attribute 'pop'",
     "output_type": "error",
     "traceback": [
      "\u001b[0;31m---------------------------------------------------------------------------\u001b[0m",
      "\u001b[0;31mAttributeError\u001b[0m                            Traceback (most recent call last)",
      "Cell \u001b[0;32mIn [21], line 15\u001b[0m\n\u001b[1;32m     12\u001b[0m             G\u001b[39m.\u001b[39madd_edge(node, child)\n\u001b[1;32m     14\u001b[0m \u001b[39mprint\u001b[39m(examples_df)\n\u001b[0;32m---> 15\u001b[0m build_networkx_graph(examples_df\u001b[39m.\u001b[39;49mnode)\n",
      "Cell \u001b[0;32mIn [21], line 5\u001b[0m, in \u001b[0;36mbuild_networkx_graph\u001b[0;34m(root_nodes)\u001b[0m\n\u001b[1;32m      3\u001b[0m seen_nodes \u001b[39m=\u001b[39m {}\n\u001b[1;32m      4\u001b[0m \u001b[39mwhile\u001b[39;00m root_nodes:\n\u001b[0;32m----> 5\u001b[0m     node \u001b[39m=\u001b[39m root_nodes\u001b[39m.\u001b[39;49mpop(\u001b[39m0\u001b[39m)\n\u001b[1;32m      6\u001b[0m     \u001b[39mif\u001b[39;00m node \u001b[39min\u001b[39;00m seen_nodes:\n\u001b[1;32m      7\u001b[0m         \u001b[39mcontinue\u001b[39;00m\n",
      "\u001b[0;31mAttributeError\u001b[0m: 'ProvenanceObjNode' object has no attribute 'pop'"
     ]
    }
   ],
   "source": [
    "def build_networkx_graph(root_nodes):\n",
    "    G = nx.Graph()\n",
    "    seen_nodes = {}\n",
    "    while root_nodes:\n",
    "        node = root_nodes.pop(0)\n",
    "        if node in seen_nodes:\n",
    "            continue\n",
    "        seen_nodes |= {node}\n",
    "        G.add_node(node)\n",
    "        for child in node.trigger_children:\n",
    "            G.add_node(child)\n",
    "            G.add_edge(node, child)\n",
    "\n",
    "print(examples_df)\n",
    "build_networkx_graph(examples_df.node)\n"
   ]
  },
  {
   "cell_type": "code",
   "execution_count": 23,
   "metadata": {},
   "outputs": [
    {
     "name": "stdout",
     "output_type": "stream",
     "text": [
      "<lambda>\n"
     ]
    }
   ],
   "source": [
    "x = lambda: print(\"hi\")\n",
    "\n",
    "print(x.__name__)"
   ]
  },
  {
   "cell_type": "code",
   "execution_count": 12,
   "metadata": {},
   "outputs": [
    {
     "data": {
      "image/png": "[encoded data removed]",
      "text/plain": [
       "<Figure size 640x480 with 1 Axes>"
      ]
     },
     "metadata": {},
     "output_type": "display_data"
    }
   ],
   "source": [
    "G = nx.Graph()\n",
    "G.add_edges_from([(1, 2), (1, 3)])\n",
    "G.add_node(1)\n",
    "G.add_edge(1, 2)\n",
    "G.add_node(\"spam\")        # adds node \"spam\"\n",
    "# G.add_nodes_from(\"spam\")  # adds 4 nodes: 's', 'p', 'a', 'm'\n",
    "# G.add_edge(3, 'm')\n",
    "\n",
    "nx.draw(G, with_labels=True)\n",
    "plt.show()"
   ]
  }
 ],
 "metadata": {
  "kernelspec": {
   "display_name": "meerkat_env",
   "language": "python",
   "name": "python3"
  },
  "language_info": {
   "codemirror_mode": {
    "name": "ipython",
    "version": 3
   },
   "file_extension": ".py",
   "mimetype": "text/x-python",
   "name": "python",
   "nbconvert_exporter": "python",
   "pygments_lexer": "ipython3",
   "version": "3.9.15"
  },
  "orig_nbformat": 4,
  "vscode": {
   "interpreter": {
    "hash": "ddcbb88398501e1d5c6d389f98f1e0f0555aa137cbd2c4caf84153dad1867c5b"
   }
  }
 },
 "nbformat": 4,
 "nbformat_minor": 2
}
