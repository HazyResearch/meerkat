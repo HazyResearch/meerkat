{
 "cells": [
  {
   "cell_type": "code",
   "execution_count": 1,
   "metadata": {},
   "outputs": [],
   "source": [
    "import meerkat as mk\n",
    "\n",
    "%load_ext autoreload\n",
    "%autoreload 2"
   ]
  },
  {
   "cell_type": "code",
   "execution_count": 20,
   "metadata": {},
   "outputs": [
    {
     "data": {
      "text/html": [
       "<table border=\"1\" class=\"dataframe\">\n",
       "  <thead>\n",
       "    <tr style=\"text-align: right;\">\n",
       "      <th></th>\n",
       "      <th>img_id</th>\n",
       "      <th>img_bit</th>\n",
       "      <th>img_clip</th>\n",
       "    </tr>\n",
       "  </thead>\n",
       "  <tbody>\n",
       "    <tr>\n",
       "      <th>0</th>\n",
       "      <td>n02979186_9036</td>\n",
       "      <td>np.ndarray(shape=(2048,))</td>\n",
       "      <td>np.ndarray(shape=(512,))</td>\n",
       "    </tr>\n",
       "    <tr>\n",
       "      <th>1</th>\n",
       "      <td>n02979186_11957</td>\n",
       "      <td>np.ndarray(shape=(2048,))</td>\n",
       "      <td>np.ndarray(shape=(512,))</td>\n",
       "    </tr>\n",
       "    <tr>\n",
       "      <th>2</th>\n",
       "      <td>n02979186_9715</td>\n",
       "      <td>np.ndarray(shape=(2048,))</td>\n",
       "      <td>np.ndarray(shape=(512,))</td>\n",
       "    </tr>\n",
       "    <tr>\n",
       "      <th>3</th>\n",
       "      <td>n02979186_21736</td>\n",
       "      <td>np.ndarray(shape=(2048,))</td>\n",
       "      <td>np.ndarray(shape=(512,))</td>\n",
       "    </tr>\n",
       "    <tr>\n",
       "      <th>4</th>\n",
       "      <td>ILSVRC2012_val_00046953</td>\n",
       "      <td>np.ndarray(shape=(2048,))</td>\n",
       "      <td>np.ndarray(shape=(512,))</td>\n",
       "    </tr>\n",
       "    <tr>\n",
       "      <th>...</th>\n",
       "      <td>...</td>\n",
       "      <td>...</td>\n",
       "      <td>...</td>\n",
       "    </tr>\n",
       "    <tr>\n",
       "      <th>13389</th>\n",
       "      <td>n03425413_17521</td>\n",
       "      <td>np.ndarray(shape=(2048,))</td>\n",
       "      <td>np.ndarray(shape=(512,))</td>\n",
       "    </tr>\n",
       "    <tr>\n",
       "      <th>13390</th>\n",
       "      <td>n03425413_20711</td>\n",
       "      <td>np.ndarray(shape=(2048,))</td>\n",
       "      <td>np.ndarray(shape=(512,))</td>\n",
       "    </tr>\n",
       "    <tr>\n",
       "      <th>13391</th>\n",
       "      <td>n03425413_19050</td>\n",
       "      <td>np.ndarray(shape=(2048,))</td>\n",
       "      <td>np.ndarray(shape=(512,))</td>\n",
       "    </tr>\n",
       "    <tr>\n",
       "      <th>13392</th>\n",
       "      <td>n03425413_13831</td>\n",
       "      <td>np.ndarray(shape=(2048,))</td>\n",
       "      <td>np.ndarray(shape=(512,))</td>\n",
       "    </tr>\n",
       "    <tr>\n",
       "      <th>13393</th>\n",
       "      <td>n03425413_1242</td>\n",
       "      <td>np.ndarray(shape=(2048,))</td>\n",
       "      <td>np.ndarray(shape=(512,))</td>\n",
       "    </tr>\n",
       "  </tbody>\n",
       "</table>"
      ],
      "text/plain": [
       "DataFrame(nrows: 13394, ncols: 3)"
      ]
     },
     "execution_count": 20,
     "metadata": {},
     "output_type": "execute_result"
    }
   ],
   "source": [
    "version = \"320px\"\n",
    "path = f\"/home/arjun/temp/meerkat-dataframes/embeddings/imagenette_{version}.mk\"\n",
    "df = mk.DataFrame.read(path)\n",
    "df = df[[\"img_id\", \"img_bit\", \"img_clip\"]]\n",
    "df.write(path)\n",
    "df"
   ]
  },
  {
   "cell_type": "code",
   "execution_count": 17,
   "metadata": {},
   "outputs": [
    {
     "data": {
      "application/vnd.jupyter.widget-view+json": {
       "model_id": "b3e890b8dc0c45bdb9c68c78f3c8efb0",
       "version_major": 2,
       "version_minor": 0
      },
      "text/plain": [
       "Downloading:   0%|          | 0.00/114M [00:00<?, ?B/s]"
      ]
     },
     "metadata": {},
     "output_type": "display_data"
    },
    {
     "name": "stdout",
     "output_type": "stream",
     "text": [
      "Extracting tar archive, this may take a few minutes...\n"
     ]
    },
    {
     "data": {
      "text/html": [
       "<table border=\"1\" class=\"dataframe\">\n",
       "  <thead>\n",
       "    <tr style=\"text-align: right;\">\n",
       "      <th></th>\n",
       "      <th>img_path</th>\n",
       "      <th>img_bit</th>\n",
       "      <th>img_clip</th>\n",
       "    </tr>\n",
       "  </thead>\n",
       "  <tbody>\n",
       "    <tr>\n",
       "      <th>0</th>\n",
       "      <td>train/n02979186/n02979186_9036.JPEG</td>\n",
       "      <td>np.ndarray(shape=(2048,))</td>\n",
       "      <td>np.ndarray(shape=(512,))</td>\n",
       "    </tr>\n",
       "    <tr>\n",
       "      <th>1</th>\n",
       "      <td>train/n02979186/n02979186_11957.JPEG</td>\n",
       "      <td>np.ndarray(shape=(2048,))</td>\n",
       "      <td>np.ndarray(shape=(512,))</td>\n",
       "    </tr>\n",
       "    <tr>\n",
       "      <th>2</th>\n",
       "      <td>train/n02979186/n02979186_9715.JPEG</td>\n",
       "      <td>np.ndarray(shape=(2048,))</td>\n",
       "      <td>np.ndarray(shape=(512,))</td>\n",
       "    </tr>\n",
       "    <tr>\n",
       "      <th>3</th>\n",
       "      <td>train/n02979186/n02979186_21736.JPEG</td>\n",
       "      <td>np.ndarray(shape=(2048,))</td>\n",
       "      <td>np.ndarray(shape=(512,))</td>\n",
       "    </tr>\n",
       "    <tr>\n",
       "      <th>4</th>\n",
       "      <td>train/n02979186/ILSVRC2012_val_00046953.JPEG</td>\n",
       "      <td>np.ndarray(shape=(2048,))</td>\n",
       "      <td>np.ndarray(shape=(512,))</td>\n",
       "    </tr>\n",
       "    <tr>\n",
       "      <th>...</th>\n",
       "      <td>...</td>\n",
       "      <td>...</td>\n",
       "      <td>...</td>\n",
       "    </tr>\n",
       "    <tr>\n",
       "      <th>13389</th>\n",
       "      <td>val/n03425413/n03425413_17521.JPEG</td>\n",
       "      <td>np.ndarray(shape=(2048,))</td>\n",
       "      <td>np.ndarray(shape=(512,))</td>\n",
       "    </tr>\n",
       "    <tr>\n",
       "      <th>13390</th>\n",
       "      <td>val/n03425413/n03425413_20711.JPEG</td>\n",
       "      <td>np.ndarray(shape=(2048,))</td>\n",
       "      <td>np.ndarray(shape=(512,))</td>\n",
       "    </tr>\n",
       "    <tr>\n",
       "      <th>13391</th>\n",
       "      <td>val/n03425413/n03425413_19050.JPEG</td>\n",
       "      <td>np.ndarray(shape=(2048,))</td>\n",
       "      <td>np.ndarray(shape=(512,))</td>\n",
       "    </tr>\n",
       "    <tr>\n",
       "      <th>13392</th>\n",
       "      <td>val/n03425413/n03425413_13831.JPEG</td>\n",
       "      <td>np.ndarray(shape=(2048,))</td>\n",
       "      <td>np.ndarray(shape=(512,))</td>\n",
       "    </tr>\n",
       "    <tr>\n",
       "      <th>13393</th>\n",
       "      <td>val/n03425413/n03425413_1242.JPEG</td>\n",
       "      <td>np.ndarray(shape=(2048,))</td>\n",
       "      <td>np.ndarray(shape=(512,))</td>\n",
       "    </tr>\n",
       "  </tbody>\n",
       "</table>"
      ],
      "text/plain": [
       "DataFrame(nrows: 13394, ncols: 3)"
      ]
     },
     "execution_count": 17,
     "metadata": {},
     "output_type": "execute_result"
    }
   ],
   "source": [
    "mk.DataFrame.read(\"https://huggingface.co/datasets/arjundd/meerkat-dataframes/resolve/main/embeddings/imagenette_160px.mk.tar.gz\", overwrite=True)"
   ]
  },
  {
   "cell_type": "code",
   "execution_count": 3,
   "metadata": {},
   "outputs": [
    {
     "name": "stdout",
     "output_type": "stream",
     "text": [
      "['img_path', 'img_id', 'img_bit/BiT-M-R50x1', 'img_bit/BiT-M-R101x3', 'img_bit/Bit-M-R152x4', 'img_clip/RN50', 'img_clip/RN101', 'img_clip/RN50x4', 'img_clip/RN50x16', 'img_clip/RN50x64', 'img_clip/ViT-B/32', 'img_clip/ViT-B/16', 'img_clip/ViT-L/14', 'img_clip/ViT-L/14@336px']\n"
     ]
    }
   ],
   "source": [
    "# Get the column names.\n",
    "print([col for col in df.columns if \"img_\" in col])"
   ]
  },
  {
   "cell_type": "code",
   "execution_count": 7,
   "metadata": {},
   "outputs": [
    {
     "data": {
      "text/plain": [
       "['path',\n",
       " 'noisy_labels_0',\n",
       " 'noisy_labels_1',\n",
       " 'noisy_labels_5',\n",
       " 'noisy_labels_25',\n",
       " 'noisy_labels_50',\n",
       " 'is_valid',\n",
       " 'label_id',\n",
       " 'label',\n",
       " 'label_idx',\n",
       " 'split',\n",
       " 'img_path',\n",
       " 'img_id',\n",
       " 'index',\n",
       " 'img',\n",
       " 'img_bit',\n",
       " 'img_clip']"
      ]
     },
     "execution_count": 7,
     "metadata": {},
     "output_type": "execute_result"
    }
   ],
   "source": [
    "df.columns"
   ]
  }
 ],
 "metadata": {
  "kernelspec": {
   "display_name": "Python 3 (ipykernel)",
   "language": "python",
   "name": "python3"
  },
  "language_info": {
   "codemirror_mode": {
    "name": "ipython",
    "version": 3
   },
   "file_extension": ".py",
   "mimetype": "text/x-python",
   "name": "python",
   "nbconvert_exporter": "python",
   "pygments_lexer": "ipython3",
   "version": "3.9.15"
  },
  "vscode": {
   "interpreter": {
    "hash": "38ccfdd2aa584c1eb550b18f7e4a5fee4887e9a1f32384e7689399a1e193fbd1"
   }
  }
 },
 "nbformat": 4,
 "nbformat_minor": 2
}
