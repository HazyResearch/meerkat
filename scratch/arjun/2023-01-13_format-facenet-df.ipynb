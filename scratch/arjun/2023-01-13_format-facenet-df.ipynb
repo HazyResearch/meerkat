{
 "cells": [
  {
   "cell_type": "code",
   "execution_count": 13,
   "metadata": {},
   "outputs": [
    {
     "name": "stdout",
     "output_type": "stream",
     "text": [
      "The autoreload extension is already loaded. To reload it, use:\n",
      "  %reload_ext autoreload\n"
     ]
    }
   ],
   "source": [
    "import meerkat as mk\n",
    "%load_ext autoreload\n",
    "%autoreload 2"
   ]
  },
  {
   "cell_type": "code",
   "execution_count": 25,
   "metadata": {},
   "outputs": [],
   "source": [
    "path = \"/Users/arjundd/.meerkat/hf/dataframes-gen/facenet_vs_vgg-face.mk\"\n",
    "df = mk.read(path)\n",
    "df[\"image_1\"].base_dir = \"$MEERKAT_DATASETS/rfw/main\"\n",
    "df[\"image_2\"].base_dir = \"$MEERKAT_DATASETS/rfw/main\"\n",
    "df.write(path)"
   ]
  },
  {
   "cell_type": "code",
   "execution_count": 23,
   "metadata": {},
   "outputs": [
    {
     "data": {
      "text/plain": [
       "'/Users/arjundd/.meerkat/datasets'"
      ]
     },
     "execution_count": 23,
     "metadata": {},
     "output_type": "execute_result"
    }
   ],
   "source": [
    "mk.config.datasets.root_dir"
   ]
  },
  {
   "cell_type": "code",
   "execution_count": 26,
   "metadata": {},
   "outputs": [
    {
     "data": {
      "application/vnd.jupyter.widget-view+json": {
       "model_id": "7ba1d7f985de47a6bbf62954ff5dcffd",
       "version_major": 2,
       "version_minor": 0
      },
      "text/plain": [
       "Downloading:   0%|          | 0.00/110M [00:00<?, ?B/s]"
      ]
     },
     "metadata": {},
     "output_type": "display_data"
    },
    {
     "name": "stdout",
     "output_type": "stream",
     "text": [
      "Extracting tar archive, this may take a few minutes...\n"
     ]
    },
    {
     "data": {
      "text/html": [
       "<table border=\"1\" class=\"dataframe\">\n",
       "  <thead>\n",
       "    <tr style=\"text-align: right;\">\n",
       "      <th></th>\n",
       "      <th>pair_id</th>\n",
       "      <th>image_1</th>\n",
       "      <th>image_2</th>\n",
       "      <th>target</th>\n",
       "      <th>score_a</th>\n",
       "      <th>score_b</th>\n",
       "      <th>pred_a</th>\n",
       "      <th>pred_b</th>\n",
       "      <th>identity_1</th>\n",
       "      <th>identity_2</th>\n",
       "      <th>ethnicity_1</th>\n",
       "      <th>ethnicity_2</th>\n",
       "      <th>clip_1</th>\n",
       "      <th>clip_2</th>\n",
       "    </tr>\n",
       "  </thead>\n",
       "  <tbody>\n",
       "    <tr>\n",
       "      <th>0</th>\n",
       "      <td>m.0cqh0q_0001m.0cqh0q_0003</td>\n",
       "      <td><img src=\"data:image/jpeg;base64,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\"></td>\n",
       "      <td><img src=\"data:image/jpeg;base64,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\"></td>\n",
       "      <td>1</td>\n",
       "      <td>0.69648</td>\n",
       "      <td>0.716649</td>\n",
       "      <td>1</td>\n",
       "      <td>1</td>\n",
       "      <td>m.0cqh0q</td>\n",
       "      <td>m.0cqh0q</td>\n",
       "      <td>caucasian</td>\n",
       "      <td>caucasian</td>\n",
       "      <td>np.ndarray(shape=(512,))</td>\n",
       "      <td>np.ndarray(shape=(512,))</td>\n",
       "    </tr>\n",
       "    <tr>\n",
       "      <th>1</th>\n",
       "      <td>m.0cqh0q_0001m.0cqh0q_0004</td>\n",
       "      <td><img src=\"data:image/jpeg;base64,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\"></td>\n",
       "      <td><img src=\"data:image/jpeg;base64,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\"></td>\n",
       "      <td>1</td>\n",
       "      <td>0.244526</td>\n",
       "      <td>0.463933</td>\n",
       "      <td>1</td>\n",
       "      <td>0</td>\n",
       "      <td>m.0cqh0q</td>\n",
       "      <td>m.0cqh0q</td>\n",
       "      <td>caucasian</td>\n",
       "      <td>caucasian</td>\n",
       "      <td>np.ndarray(shape=(512,))</td>\n",
       "      <td>np.ndarray(shape=(512,))</td>\n",
       "    </tr>\n",
       "    <tr>\n",
       "      <th>2</th>\n",
       "      <td>m.0cqh0q_0003m.0cqh0q_0004</td>\n",
       "      <td><img src=\"data:image/jpeg;base64,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\"></td>\n",
       "      <td><img src=\"data:image/jpeg;base64,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\"></td>\n",
       "      <td>1</td>\n",
       "      <td>0.245427</td>\n",
       "      <td>0.294178</td>\n",
       "      <td>1</td>\n",
       "      <td>0</td>\n",
       "      <td>m.0cqh0q</td>\n",
       "      <td>m.0cqh0q</td>\n",
       "      <td>caucasian</td>\n",
       "      <td>caucasian</td>\n",
       "      <td>np.ndarray(shape=(512,))</td>\n",
       "      <td>np.ndarray(shape=(512,))</td>\n",
       "    </tr>\n",
       "    <tr>\n",
       "      <th>3</th>\n",
       "      <td>m.0hn9fq0_0004m.0cqh0q_0004</td>\n",
       "      <td><img src=\"data:image/jpeg;base64,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\"></td>\n",
       "      <td><img src=\"data:image/jpeg;base64,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\"></td>\n",
       "      <td>0</td>\n",
       "      <td>0.176017</td>\n",
       "      <td>0.380186</td>\n",
       "      <td>0</td>\n",
       "      <td>0</td>\n",
       "      <td>m.0hn9fq0</td>\n",
       "      <td>m.0cqh0q</td>\n",
       "      <td>indian</td>\n",
       "      <td>caucasian</td>\n",
       "      <td>np.ndarray(shape=(512,))</td>\n",
       "      <td>np.ndarray(shape=(512,))</td>\n",
       "    </tr>\n",
       "    <tr>\n",
       "      <th>4</th>\n",
       "      <td>m.03cj7mx_0004m.0cqh0q_0004</td>\n",
       "      <td><img src=\"data:image/jpeg;base64,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\"></td>\n",
       "      <td><img src=\"data:image/jpeg;base64,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\"></td>\n",
       "      <td>0</td>\n",
       "      <td>0.410307</td>\n",
       "      <td>0.574182</td>\n",
       "      <td>1</td>\n",
       "      <td>1</td>\n",
       "      <td>m.03cj7mx</td>\n",
       "      <td>m.0cqh0q</td>\n",
       "      <td>asian</td>\n",
       "      <td>caucasian</td>\n",
       "      <td>np.ndarray(shape=(512,))</td>\n",
       "      <td>np.ndarray(shape=(512,))</td>\n",
       "    </tr>\n",
       "    <tr>\n",
       "      <th>...</th>\n",
       "      <td>...</td>\n",
       "      <td>...</td>\n",
       "      <td>...</td>\n",
       "      <td>...</td>\n",
       "      <td>...</td>\n",
       "      <td>...</td>\n",
       "      <td>...</td>\n",
       "      <td>...</td>\n",
       "      <td>...</td>\n",
       "      <td>...</td>\n",
       "      <td>...</td>\n",
       "      <td>...</td>\n",
       "      <td>...</td>\n",
       "      <td>...</td>\n",
       "    </tr>\n",
       "    <tr>\n",
       "      <th>107141</th>\n",
       "      <td>m.077215_0001m.01px2qk_0001</td>\n",
       "      <td><img src=\"data:image/jpeg;base64,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\"></td>\n",
       "      <td><img src=\"data:image/jpeg;base64,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\"></td>\n",
       "      <td>0</td>\n",
       "      <td>0.222881</td>\n",
       "      <td>0.593485</td>\n",
       "      <td>1</td>\n",
       "      <td>1</td>\n",
       "      <td>m.077215</td>\n",
       "      <td>m.01px2qk</td>\n",
       "      <td>indian</td>\n",
       "      <td>indian</td>\n",
       "      <td>np.ndarray(shape=(512,))</td>\n",
       "      <td>np.ndarray(shape=(512,))</td>\n",
       "    </tr>\n",
       "    <tr>\n",
       "      <th>107142</th>\n",
       "      <td>m.024ss0_0004m.027b8b_0002</td>\n",
       "      <td><img src=\"data:image/jpeg;base64,/9j/4AAQSkZJRgABAQAAAQABAAD/2wBDAAgGBgcGBQgHBwcJCQgKDBQNDAsLDBkSEw8UHRofHh0aHBwgJC4nICIsIxwcKDcpLDAxNDQ0Hyc5PTgyPC4zNDL/2wBDAQgJCQwLDBgNDRgyIRwhMjIyMjIyMjIyMjIyMjIyMjIyMjIyMjIyMjIyMjIyMjIyMjIyMjIyMjIyMjIyMjIyMjL/wAARCABAAEADASIAAhEBAxEB/8QAHwAAAQUBAQEBAQEAAAAAAAAAAAECAwQFBgcICQoL/8QAtRAAAgEDAwIEAwUFBAQAAAF9AQIDAAQRBRIhMUEGE1FhByJxFDKBkaEII0KxwRVS0fAkM2JyggkKFhcYGRolJicoKSo0NTY3ODk6Q0RFRkdISUpTVFVWV1hZWmNkZWZnaGlqc3R1dnd4eXqDhIWGh4iJipKTlJWWl5iZmqKjpKWmp6ipqrKztLW2t7i5usLDxMXGx8jJytLT1NXW19jZ2uHi4+Tl5ufo6erx8vP09fb3+Pn6/8QAHwEAAwEBAQEBAQEBAQAAAAAAAAECAwQFBgcICQoL/8QAtREAAgECBAQDBAcFBAQAAQJ3AAECAxEEBSExBhJBUQdhcRMiMoEIFEKRobHBCSMzUvAVYnLRChYkNOEl8RcYGRomJygpKjU2Nzg5OkNERUZHSElKU1RVVldYWVpjZGVmZ2hpanN0dXZ3eHl6goOEhYaHiImKkpOUlZaXmJmaoqOkpaanqKmqsrO0tba3uLm6wsPExcbHyMnK0tPU1dbX2Nna4uPk5ebn6Onq8vP09fb3+Pn6/9oADAMBAAIRAxEAPwDwW3jWWQq2cYzxV0afCUJBbI9xVWx/15/3a0ce9FxpEMdhA2dxb86BZW+4BgRn0Jq9aWxuJlUg7M8kV1Vr8Pbm9Vp/tAQtyqgVEpqK1NYU5TeiOLfTIETPzg+4IqI2luFwF+f3J5r0P/hXepRx5a8Xp0xkVyes6Nc6dM6TJtZepXoR6ioVS+zKnRlFXaMOP7NG5E0BH4mrSR6bIuVjbPpnpUckXnxlT98DKmqkOIwXLEEHGK1TuYtWYth/x8H/AHTWkQc5rN0//j5/4Ca1MY4xQwR0+g2ytqKREDbGAc/UA5r13S4gbdSF+X1FeS+GoruR5p4LRbhgiABxkdcZx36V6PotzNpwRZ4REZSWdAMKcdwO1cdVX1PTwzsrdzobjyY4zuAXPc1w3jLTorvS5pY8F1UkEelbOqyXc1yl3ZWkc07dfOXeoHoFzx61S1COW90iWWW0Wzn8thJHGMI3uBU2srmzfNeNjxUqUCyf3WxUMlkXlMi/cJ6VqXFoyxOuOoDD8D/9eqvzJEwwSV5rphK55sodzN00ZvFHqDW59nBPesPTji9Q+x/lW7HM2eTwK1Mo2tqegeCZxARAuAQgPP511k0JuLmVijyPsAQoeB65rgdFnW21i25+WWBcH3wP/r124OqG6f7LIogPRgmSfrXBNPmPYw7TjY2dOtsW22R9sq5/EdqzNbn3RPEvcbauWkV8qyG7ePpxtXBP1rO1NAkDyscbRnJ9ayb6HSrWZwfiDSjDcoijOIGJIHsDXNrblb25QgDam7mvRL8pd6fLcE7mEYi/EhR/jXE6kqx3upSdAsXlg++P/rVtB9Dyqnc47Tf+P6P8f5VuDOe1Yem4+3x5OBz/ACroFVSR1ruZxRJ2u5Y7WF0JDwglT6EV6f4U1uV9Gt7ueFnWQdU556V5Wyyh1EKkKRg985r1jwfZGHw7b2rdQnf161xVWlselhk7/I1LrUruYEwWUuPVsKK5nxL9sTSZ7m+kVECEiFO57ZPeu6jgPlbW7HmuO8ZxyX1u1tEuQcjGevFYxeup1VE+VnL6dqo/s91cZ2jzCD3bOBXNa9MYrAgn95cMWP0/zmjc2nAxXB2sG5Rjyazr3z9RcylSwIwgB6V1U4a3PLqT0sf/2Q==\"></td>\n",
       "      <td><img src=\"data:image/jpeg;base64,/9j/4AAQSkZJRgABAQAAAQABAAD/2wBDAAgGBgcGBQgHBwcJCQgKDBQNDAsLDBkSEw8UHRofHh0aHBwgJC4nICIsIxwcKDcpLDAxNDQ0Hyc5PTgyPC4zNDL/2wBDAQgJCQwLDBgNDRgyIRwhMjIyMjIyMjIyMjIyMjIyMjIyMjIyMjIyMjIyMjIyMjIyMjIyMjIyMjIyMjIyMjIyMjL/wAARCABAAEADASIAAhEBAxEB/8QAHwAAAQUBAQEBAQEAAAAAAAAAAAECAwQFBgcICQoL/8QAtRAAAgEDAwIEAwUFBAQAAAF9AQIDAAQRBRIhMUEGE1FhByJxFDKBkaEII0KxwRVS0fAkM2JyggkKFhcYGRolJicoKSo0NTY3ODk6Q0RFRkdISUpTVFVWV1hZWmNkZWZnaGlqc3R1dnd4eXqDhIWGh4iJipKTlJWWl5iZmqKjpKWmp6ipqrKztLW2t7i5usLDxMXGx8jJytLT1NXW19jZ2uHi4+Tl5ufo6erx8vP09fb3+Pn6/8QAHwEAAwEBAQEBAQEBAQAAAAAAAAECAwQFBgcICQoL/8QAtREAAgECBAQDBAcFBAQAAQJ3AAECAxEEBSExBhJBUQdhcRMiMoEIFEKRobHBCSMzUvAVYnLRChYkNOEl8RcYGRomJygpKjU2Nzg5OkNERUZHSElKU1RVVldYWVpjZGVmZ2hpanN0dXZ3eHl6goOEhYaHiImKkpOUlZaXmJmaoqOkpaanqKmqsrO0tba3uLm6wsPExcbHyMnK0tPU1dbX2Nna4uPk5ebn6Onq8vP09fb3+Pn6/9oADAMBAAIRAxEAPwDnp/EmmPaSz28EzJFy7uhC9cAA+prKHjeyOcabJt7EuBWbrN9Lf6RbwpbTwQGRnaSQ/wCu9DjpxWNtB2hF6DgCsItvVluC6Hd2njTRCP38NxGe+FDfyrb07xH4cunCrdFCezxkY+teead4fvtTkAhQAeprtvDXgSW01ZJL2ZfKZGG09C2OM+1ROvCPUuNBs9G02ztL22WWzninjP8AFGwYVrx6b5Y/1dcV4c8Knw9q8N/bvLbW7MVmiDZVh6/SvWFQFQRggjINOnUjNXRM6bi7MyYLRlxjirygpwy5qxsFOVOemRWpKPkG9keQrumeQAcBjnFR2sbySrHGpZ2OABVvUtOubN8SW7R56Aiu7+HfhpGtm1K4TdITiPPauepUUIXN4QcpWNPRbODRLCP7VIscrDJHUit/T9Q0+9m8uK6idz/ATgn8DWBr0Wrwyu1sgjRjgyKMtiue0SHV5tWj+2rv53ByuCMHpXnOPMuZs7b2dj1Xw+s8dzcLqMtqbNmIiy/I9ua7LRgZNLQbg2xmQEc5APFeQ+K4NUeezTSoUQbV+cR7stnnrwK9X8JxalD4atV1VomvNuX8sYH/AOuu3DJW0OSu31NIxjNNbKHIHFWKaVBFdZzHjs2hpNMvmxxG1AAHy5LnGc5q/wCHtsSTwxrtSNyoArjLDX9attCnjS0kmt4G+S4KkhR/dzW/4Z1uCe0JLDzHOW+tePUhKN7npwmpanTzGEg78Viy3aQXEnlqoCpnzCuQD+FLdXIkfAbisUtq9t5jI8Cxk8NtLNisUrm6R2Hh+8TUI3k+zTrD0EhUgE9+teh2yCO1QKcjHBrzPwrNrF3BJF9ohZMgtujIOPb3r02Ndlui+gr0cLG2qODE6OwbuaRs0mDSc12nIfM6Xk4OoWJkkWMQM0IVyoV89SO9M0qzubWz85C2SdxArO1aUwavGwPAfBx3FdVpU6spTOU7VxYjRHZhyvDr+1gs3BHrXQ2GuQT7UELO3oozVSTQra8IYxA/Su18IabbWUqIkKrzya4koydjrlJxVzovDNrLJbM09oYUPTIwTXSEAAD0ppnhRdzSoqjuWAqNL+zmBMd1C4HUq4OK9inBQjZHkzk5SuyUKKNtCSRyDdG6uPVTmnFgBmtCT//Z\"></td>\n",
       "      <td>0</td>\n",
       "      <td>0.576201</td>\n",
       "      <td>0.657027</td>\n",
       "      <td>1</td>\n",
       "      <td>1</td>\n",
       "      <td>m.024ss0</td>\n",
       "      <td>m.027b8b</td>\n",
       "      <td>caucasian</td>\n",
       "      <td>indian</td>\n",
       "      <td>np.ndarray(shape=(512,))</td>\n",
       "      <td>np.ndarray(shape=(512,))</td>\n",
       "    </tr>\n",
       "    <tr>\n",
       "      <th>107143</th>\n",
       "      <td>m.04qpwd_0003m.09gh9sl_0002</td>\n",
       "      <td><img src=\"data:image/jpeg;base64,/9j/4AAQSkZJRgABAQAAAQABAAD/2wBDAAgGBgcGBQgHBwcJCQgKDBQNDAsLDBkSEw8UHRofHh0aHBwgJC4nICIsIxwcKDcpLDAxNDQ0Hyc5PTgyPC4zNDL/2wBDAQgJCQwLDBgNDRgyIRwhMjIyMjIyMjIyMjIyMjIyMjIyMjIyMjIyMjIyMjIyMjIyMjIyMjIyMjIyMjIyMjIyMjL/wAARCABAAEADASIAAhEBAxEB/8QAHwAAAQUBAQEBAQEAAAAAAAAAAAECAwQFBgcICQoL/8QAtRAAAgEDAwIEAwUFBAQAAAF9AQIDAAQRBRIhMUEGE1FhByJxFDKBkaEII0KxwRVS0fAkM2JyggkKFhcYGRolJicoKSo0NTY3ODk6Q0RFRkdISUpTVFVWV1hZWmNkZWZnaGlqc3R1dnd4eXqDhIWGh4iJipKTlJWWl5iZmqKjpKWmp6ipqrKztLW2t7i5usLDxMXGx8jJytLT1NXW19jZ2uHi4+Tl5ufo6erx8vP09fb3+Pn6/8QAHwEAAwEBAQEBAQEBAQAAAAAAAAECAwQFBgcICQoL/8QAtREAAgECBAQDBAcFBAQAAQJ3AAECAxEEBSExBhJBUQdhcRMiMoEIFEKRobHBCSMzUvAVYnLRChYkNOEl8RcYGRomJygpKjU2Nzg5OkNERUZHSElKU1RVVldYWVpjZGVmZ2hpanN0dXZ3eHl6goOEhYaHiImKkpOUlZaXmJmaoqOkpaanqKmqsrO0tba3uLm6wsPExcbHyMnK0tPU1dbX2Nna4uPk5ebn6Onq8vP09fb3+Pn6/9oADAMBAAIRAxEAPwDwGiilUZOKADJpyuQeeRVqGxaX2pk9o0LYPNOwDliSRcqR9KjMWDTY+HAJwD+lXTasp5oSE2UhGScAV0uheAvEviBk+waTcNGxx5si7E/M1T0jU30TVYL6OCKV4myEkGQa76++MfifUIRDam3sI8YzCmX/ADPT8BWyXYzbPIqlgGZBUlvbrKHZmChRn6+1PtEAugD0zWJtY2rSBZo2ydu1c5zWZcMmSPMyc1fniaFsgnbjoeN3tmqVjZPeajzCxiU7mXOOPrU3uNqxQZR3rqrGJLzS7ebaGYLsb6jj+WK528jSC9kABKfw11vh6ONtA3RqQTIQ/OecCiT90VtdTD1CFYz93FVYG+YVsash2n5TWJEcPW1J6GU0VEfynIxxUu/dPvBGTzwMUxgC4LLtDU4LsPPas7aGiep0sLfa9N8skYHT2qgjyWhfZv8ALIxletVoZ3Cja2B3FWo5ZPKYmRFiz/EuTUJGrl2KOo3guIUjECqVPDZySPc11XgtHbQ7njI8/wD9lFcjcmIyYE3mJnsuDXqGgXmiadoVvZLeQNOF3y5bBLnr1/L8KJK0dDO93qYer237o5FcYw2zEe9d/r2pW/lMI8H6V59PKWlLdMmrpXJkiAllEkTriQcU+JvNjIP30H5it/XI7aeySdJI42UlgFHMh9ARXMlmjIYH3DetKMr6i3JckcoeO47iplvmiXaVDD3FV3YblYd+uKjlBVyCQfcVTKTHSzGVi2APYUwcVp2cUDuynbtK9+tU7xFik2oQV5waGiFK7saMF402l+Uc70OAT3H1qstpJLbPP2Wr+k4u9PuLVkUMse9W9xVm0kW40qYbACeeP8+ualysC3sf/9k=\"></td>\n",
       "      <td><img src=\"data:image/jpeg;base64,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\"></td>\n",
       "      <td>0</td>\n",
       "      <td>-0.020917</td>\n",
       "      <td>0.298999</td>\n",
       "      <td>0</td>\n",
       "      <td>0</td>\n",
       "      <td>m.04qpwd</td>\n",
       "      <td>m.09gh9sl</td>\n",
       "      <td>african</td>\n",
       "      <td>caucasian</td>\n",
       "      <td>np.ndarray(shape=(512,))</td>\n",
       "      <td>np.ndarray(shape=(512,))</td>\n",
       "    </tr>\n",
       "    <tr>\n",
       "      <th>107144</th>\n",
       "      <td>m.05yhcz_0002m.0cm9v2h_0002</td>\n",
       "      <td><img src=\"data:image/jpeg;base64,/9j/4AAQSkZJRgABAQAAAQABAAD/2wBDAAgGBgcGBQgHBwcJCQgKDBQNDAsLDBkSEw8UHRofHh0aHBwgJC4nICIsIxwcKDcpLDAxNDQ0Hyc5PTgyPC4zNDL/2wBDAQgJCQwLDBgNDRgyIRwhMjIyMjIyMjIyMjIyMjIyMjIyMjIyMjIyMjIyMjIyMjIyMjIyMjIyMjIyMjIyMjIyMjL/wAARCABAAEADASIAAhEBAxEB/8QAHwAAAQUBAQEBAQEAAAAAAAAAAAECAwQFBgcICQoL/8QAtRAAAgEDAwIEAwUFBAQAAAF9AQIDAAQRBRIhMUEGE1FhByJxFDKBkaEII0KxwRVS0fAkM2JyggkKFhcYGRolJicoKSo0NTY3ODk6Q0RFRkdISUpTVFVWV1hZWmNkZWZnaGlqc3R1dnd4eXqDhIWGh4iJipKTlJWWl5iZmqKjpKWmp6ipqrKztLW2t7i5usLDxMXGx8jJytLT1NXW19jZ2uHi4+Tl5ufo6erx8vP09fb3+Pn6/8QAHwEAAwEBAQEBAQEBAQAAAAAAAAECAwQFBgcICQoL/8QAtREAAgECBAQDBAcFBAQAAQJ3AAECAxEEBSExBhJBUQdhcRMiMoEIFEKRobHBCSMzUvAVYnLRChYkNOEl8RcYGRomJygpKjU2Nzg5OkNERUZHSElKU1RVVldYWVpjZGVmZ2hpanN0dXZ3eHl6goOEhYaHiImKkpOUlZaXmJmaoqOkpaanqKmqsrO0tba3uLm6wsPExcbHyMnK0tPU1dbX2Nna4uPk5ebn6Onq8vP09fb3+Pn6/9oADAMBAAIRAxEAPwDsSaM1GTQTx1oAiv8AUbTTLN7q8nSGFByzH/OTXn9/8XbWOQrYadJMoP35X2Z/AZrjvGniKbxDrUiq5+w27FIUHT0LfU1gx2MzrlULemO9S2NJs9b0b4p6ZfTLDqEDWLscBy25PxPau7SRZEV0YMrDIIOQRXzPJaSxjJGARmu9+Gniia3vl0O7kLW82fs5Y52N6fQ00waaPW8+9GaZn3pM0xCbqgvt72FykRxI0TBT74OKfuqlq2X0i7VTgmJsH04pMaV3Y8K00bS6yINwPOR0r0fw5AyQI8aRsp5+ZAa4mwtbi6mkNuu4qx3BTzjP41u2sOt6dNAqyxmGZsKoyCp+mBXJOVnc9GnTvFRaF8TW821pZIlSLcQuABXMaUjHxXpSxLtb7THyPrW9drrOpec8s0flW77PLIJYn8jWTp9rcLrVrFIWjleQYJOCPyp05dRVoXVrHupOTmk3VFuxxRurrPOG7qZIokjdD0ZSD+NN3Uc+XJJj5I1Lu3ZVHUk9hQB5RpEzaRrdxEx2GOVkP511k2qacmr2ctzP5MYAOcZz7k9K4bV9TsdR1m6vLEv5Uj9WGNxxyR7Vb0828o3Xd0kYxnMkZcN7cHiuGrSTdz1aFdqKSNiO/s3vLua3nV0zuBHY5rN0pH1PxnakscB/MJzjheayr0xpcHyZVMefvKpUEfTNO0zX/wCw9Sg1AxCWPPlyL0O09ce/FVSpKLuRicQ5R5We0FvSgNWunhq4urCG8sZEnilQSICcEgjI9qyLiCa1lMU8TxuOzDFdh5pt6N4XmvlW4uy0MB5C/wATD+go+J9tHp/ws1qGxjEX7pQ23qVLrnJ+ld0CAAB0rH8RaaNc0LUtLb/l5tnjGezEcfrinYR8cWLgRyRscZ5U+9athrj2AKGNWPTJGazIbR1up7KUFLlG2hT/AHgSCKdLYXKcPEwP0rKST0Z0U+ZK8Sa81J7643KgQe1VryQGNIgcnO5jU1rYTSuERDk1Noukya74rsdJgyxnnWIkdhn5j+WTRG2yJmpbyPrXwerw+DNFikyHFhDnP+4K072zttRtClxCHGMj1H0NCLHFFHFGMJEoRB7AYx+VPhYqzIfqPcVtYwP/2Q==\"></td>\n",
       "      <td><img src=\"data:image/jpeg;base64,/9j/4AAQSkZJRgABAQAAAQABAAD/2wBDAAgGBgcGBQgHBwcJCQgKDBQNDAsLDBkSEw8UHRofHh0aHBwgJC4nICIsIxwcKDcpLDAxNDQ0Hyc5PTgyPC4zNDL/2wBDAQgJCQwLDBgNDRgyIRwhMjIyMjIyMjIyMjIyMjIyMjIyMjIyMjIyMjIyMjIyMjIyMjIyMjIyMjIyMjIyMjIyMjL/wAARCABAAEADASIAAhEBAxEB/8QAHwAAAQUBAQEBAQEAAAAAAAAAAAECAwQFBgcICQoL/8QAtRAAAgEDAwIEAwUFBAQAAAF9AQIDAAQRBRIhMUEGE1FhByJxFDKBkaEII0KxwRVS0fAkM2JyggkKFhcYGRolJicoKSo0NTY3ODk6Q0RFRkdISUpTVFVWV1hZWmNkZWZnaGlqc3R1dnd4eXqDhIWGh4iJipKTlJWWl5iZmqKjpKWmp6ipqrKztLW2t7i5usLDxMXGx8jJytLT1NXW19jZ2uHi4+Tl5ufo6erx8vP09fb3+Pn6/8QAHwEAAwEBAQEBAQEBAQAAAAAAAAECAwQFBgcICQoL/8QAtREAAgECBAQDBAcFBAQAAQJ3AAECAxEEBSExBhJBUQdhcRMiMoEIFEKRobHBCSMzUvAVYnLRChYkNOEl8RcYGRomJygpKjU2Nzg5OkNERUZHSElKU1RVVldYWVpjZGVmZ2hpanN0dXZ3eHl6goOEhYaHiImKkpOUlZaXmJmaoqOkpaanqKmqsrO0tba3uLm6wsPExcbHyMnK0tPU1dbX2Nna4uPk5ebn6Onq8vP09fb3+Pn6/9oADAMBAAIRAxEAPwDzomCGFfsyTndkbs9azNQllkheORRkMCCK6HxNYXei6zOJYilu7Hymx8rA88Vzd1JmDPO4t8tc0IuMtTrqSjKN0aNrLu0sAnnbitv4Q6vJpnjqNBKEiuInSQscDAGQT+VcxaMfsZBBHWq0ELqGMauXbI+UdvSrh7rZlP3kj3HxR8ZrXT2ltdEiF3cg7TdP/qwfYfxfyryLWPFmta5IX1HUZ5gT9zdhB/wEcVlfZ5nOPLYn6U1oHTG5SufUVpzGfK0PS4KsDjOOa0TrMzJ8gCYAGB0rHCnditayjhMBVmUknkHiplYqN9i/4n8RNqF75CahPd2ETfu3mULk45OBXNTSm4kBAPlrUZKsMMOKehVEwT703q7slOysieC5kDLHECzE4CgZyfTFdgTbWmgRrho7pmKyptI2nuM+ua4MTPDOk0Z2OjBgQehFdZYtdatBM9y0gaSRpCx5DsxyTWNVaHRQ1lYrJJAjcvz9M4q5qGnmfT1dMFhyNvcVXgtZIrqWMugj7EpnJrTtzdx4iZV2diDkVk5W1R08vMrM46aOSPh0KnPQimeawXrXX6xZiaLGBuHQmseDRldGknkIVedqjk1sqqauzmlQle0TAzxTg2KZ3ozk4rY5izbxJJIrTZ8vdyB6d67dNX063It4EManhSVJwvbkVxa8IBXQTxmO3t/JtriIKuQXGQwPNYVVe1zqw8mr2NGCVZbotnJycZ7itIzxRryo471gRXAnw6fKwHIqR5jsOOW71zcup3c10LeXReTA6CktJHd/KiTzHk+QLjOc1SZyB83JPXNJFPJHIkkDlJEO5WHY1fLoZ82pyxOKVGy4Fep674P0q5k80CK3aQZDRttz+HQ1xd14Qv7UGaEx3MSkj90csPwrsumeXYyya1oJby6txMbvaFO3a5649Kz7a0kurtLZVIdjg8dPWt698I6xGqyW1szRHhUZgG/KpklY1g2mVftJiOWIz7d6ZLekYO3GeKmtfB+vX9vcTRwJtt8h90gB45OPWsQpPkoc5HY1CjE0dWXYty3eehp9rIXNVYrZ3/h5rStrYRISetOVkhw5m7n/2Q==\"></td>\n",
       "      <td>0</td>\n",
       "      <td>0.438452</td>\n",
       "      <td>0.674446</td>\n",
       "      <td>1</td>\n",
       "      <td>1</td>\n",
       "      <td>m.05yhcz</td>\n",
       "      <td>m.0cm9v2h</td>\n",
       "      <td>african</td>\n",
       "      <td>african</td>\n",
       "      <td>np.ndarray(shape=(512,))</td>\n",
       "      <td>np.ndarray(shape=(512,))</td>\n",
       "    </tr>\n",
       "    <tr>\n",
       "      <th>107145</th>\n",
       "      <td>m.04yb94k_0003m.0qft6yv_0001</td>\n",
       "      <td><img src=\"data:image/jpeg;base64,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\"></td>\n",
       "      <td><img src=\"data:image/jpeg;base64,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\"></td>\n",
       "      <td>0</td>\n",
       "      <td>0.397059</td>\n",
       "      <td>0.630098</td>\n",
       "      <td>1</td>\n",
       "      <td>1</td>\n",
       "      <td>m.04yb94k</td>\n",
       "      <td>m.0qft6yv</td>\n",
       "      <td>african</td>\n",
       "      <td>african</td>\n",
       "      <td>np.ndarray(shape=(512,))</td>\n",
       "      <td>np.ndarray(shape=(512,))</td>\n",
       "    </tr>\n",
       "  </tbody>\n",
       "</table>"
      ],
      "text/plain": [
       "DataFrame(nrows: 107146, ncols: 14)"
      ]
     },
     "execution_count": 26,
     "metadata": {},
     "output_type": "execute_result"
    }
   ],
   "source": [
    "mk.read(\"https://huggingface.co/datasets/arjundd/meerkat-dataframes/resolve/main/facenet_vs_vgg-face.mk.tar.gz\")"
   ]
  }
 ],
 "metadata": {
  "kernelspec": {
   "display_name": "meerkat_env",
   "language": "python",
   "name": "python3"
  },
  "language_info": {
   "codemirror_mode": {
    "name": "ipython",
    "version": 3
   },
   "file_extension": ".py",
   "mimetype": "text/x-python",
   "name": "python",
   "nbconvert_exporter": "python",
   "pygments_lexer": "ipython3",
   "version": "3.9.15 (main, Nov 24 2022, 08:28:41) \n[Clang 14.0.6 ]"
  },
  "orig_nbformat": 4,
  "vscode": {
   "interpreter": {
    "hash": "ddcbb88398501e1d5c6d389f98f1e0f0555aa137cbd2c4caf84153dad1867c5b"
   }
  }
 },
 "nbformat": 4,
 "nbformat_minor": 2
}
