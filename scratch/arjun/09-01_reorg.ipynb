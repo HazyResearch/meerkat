{
 "cells": [
  {
   "cell_type": "code",
   "execution_count": 1,
   "metadata": {},
   "outputs": [],
   "source": [
    "%load_ext autoreload\n",
    "%autoreload 2\n",
    " \n",
    "import meerkat as mk\n",
    "import requests\n",
    "from IPython.display import IFrame\n",
    "from meerkat.state import state\n",
    "from PIL import Image\n",
    "import numpy as np\n",
    "# mk.config.datasets.root_dir = \"/Users/krandiash/Desktop/workspace/projects/datasci/data/\""
   ]
  },
  {
   "cell_type": "code",
   "execution_count": 2,
   "metadata": {},
   "outputs": [
    {
     "name": "stdout",
     "output_type": "stream",
     "text": [
      "\n",
      "> src@0.0.1 dev\n",
      "> vite dev \"--port\" \"7861\"\n",
      "\n"
     ]
    },
    {
     "name": "stdout",
     "output_type": "stream",
     "text": [
      "\n",
      "  VITE v3.0.3  ready in 766 ms\n",
      "\n",
      "  ➜  Local:   http://localhost:7861/\n",
      "  ➜  Network: use --host to expose\n"
     ]
    }
   ],
   "source": [
    "network, register_api = mk.interactive_mode()"
   ]
  },
  {
   "cell_type": "code",
   "execution_count": 3,
   "metadata": {},
   "outputs": [
    {
     "data": {
      "text/html": [
       "\n",
       "        <iframe\n",
       "            width=\"1\"\n",
       "            height=\"1\"\n",
       "            src=\"http://localhost:7861/network/register?api=http://127.0.0.1:7860\"\n",
       "            frameborder=\"0\"\n",
       "            allowfullscreen\n",
       "            \n",
       "        ></iframe>\n",
       "        "
      ],
      "text/plain": [
       "<IPython.lib.display.IFrame at 0x7fb9d94b4dc0>"
      ]
     },
     "execution_count": 3,
     "metadata": {},
     "output_type": "execute_result"
    }
   ],
   "source": [
    "register_api()"
   ]
  },
  {
   "cell_type": "code",
   "execution_count": 4,
   "metadata": {},
   "outputs": [
    {
     "name": "stderr",
     "output_type": "stream",
     "text": [
      "/Users/arjundesai/Documents/stanford/research/meerkat/meerkat/columns/file_column.py:221: FutureWarning: Reading a LambdaColumn stored in a format that will not be supported in the future. Please re-write the column to the new format.\n",
      "  warnings.warn(\n"
     ]
    }
   ],
   "source": [
    "dp = mk.get('imagenette', version='320px')\n",
    "dp_embed = mk.DataPanel.read(path='/Users/arjundesai/.meerkat/saved/imagenette_embedded.mk')\n",
    "dp['clip(img)'] = dp_embed['clip(img)']"
   ]
  },
  {
   "cell_type": "code",
   "execution_count": 5,
   "metadata": {},
   "outputs": [],
   "source": [
    "from meerkat.interactive.app.src.lib.interfaces.plot_gallery import PlotInterface\n",
    "from meerkat.interactive.app.src.lib.interfaces.match_gallery import MatchGalleryInterface\n",
    "\n",
    "dp = dp[\"path\", \"label\", \"img\", \"clip(img)\", \"img_path\"]\n",
    "\n",
    "# Plot interface.\n",
    "# interface = PlotInterface(dp, id_column=\"img_path\")\n",
    "interface = MatchGalleryInterface(dp, id_column=\"path\", main_column=\"img\", tag_columns=[\"label\"])\n"
   ]
  },
  {
   "cell_type": "code",
   "execution_count": 6,
   "metadata": {},
   "outputs": [
    {
     "name": "stdout",
     "output_type": "stream",
     "text": [
      "[]\n",
      "True\n",
      "05f393a8b6c14245ac78168a3f0f4a9f\n"
     ]
    }
   ],
   "source": [
    "print(interface.components[1].criteria.value)\n",
    "print(interface.components[1].criteria.has_children())\n",
    "print(interface.components[1].criteria.id)"
   ]
  },
  {
   "cell_type": "code",
   "execution_count": 7,
   "metadata": {},
   "outputs": [
    {
     "data": {
      "text/html": [
       "\n",
       "        <iframe\n",
       "            width=\"100%\"\n",
       "            height=\"1000\"\n",
       "            src=\"http://localhost:7861/interface?id=2588540fac094f81bc5c8bfdce30daf2\"\n",
       "            frameborder=\"0\"\n",
       "            allowfullscreen\n",
       "            \n",
       "        ></iframe>\n",
       "        "
      ],
      "text/plain": [
       "<IPython.lib.display.IFrame at 0x7fba082b2280>"
      ]
     },
     "execution_count": 7,
     "metadata": {},
     "output_type": "execute_result"
    },
    {
     "name": "stdout",
     "output_type": "stream",
     "text": [
      "3:54:19 PM [vite-plugin-svelte] /Users/arjundesai/Documents/stanford/research/meerkat/meerkat/interactive/app/src/routes/interface.svelte:213:1 Unused CSS selector \".dragger\"\n",
      "3:54:19 PM [vite-plugin-svelte] /Users/arjundesai/Documents/stanford/research/meerkat/meerkat/interactive/app/src/routes/interface.svelte:228:0 Unused CSS selector \".dragger:hover\"\n",
      "Triggering store 7730ea957f014711a5088e18a923be82 label\n",
      "Triggering store 05f393a8b6c14245ac78168a3f0f4a9f []\n",
      "3:54:19 PM [vite-plugin-svelte] /Users/arjundesai/Documents/stanford/research/meerkat/meerkat/interactive/app/src/routes/interface.svelte:213:1 Unused CSS selector \".dragger\"\n",
      "3:54:19 PM [vite-plugin-svelte] /Users/arjundesai/Documents/stanford/research/meerkat/meerkat/interactive/app/src/routes/interface.svelte:228:0 Unused CSS selector \".dragger:hover\"\n"
     ]
    },
    {
     "name": "stderr",
     "output_type": "stream",
     "text": [
      "(node:16836) ExperimentalWarning: buffer.Blob is an experimental feature. This feature could change at any time\n",
      "(Use `node --trace-warnings ...` to show where the warning was created)\n"
     ]
    },
    {
     "name": "stdout",
     "output_type": "stream",
     "text": [
      "3:54:20 PM [vite-plugin-svelte] /Users/arjundesai/Documents/stanford/research/meerkat/meerkat/interactive/app/src/lib/component/filter/Filter.svelte:180:1 Unused CSS selector \".btn\"\n",
      "3:54:20 PM [vite-plugin-svelte] /Users/arjundesai/Documents/stanford/research/meerkat/meerkat/interactive/app/src/lib/component/filter/Filter.svelte:188:1 Unused CSS selector \".btn-blue\"\n",
      "3:54:20 PM [vite-plugin-svelte] /Users/arjundesai/Documents/stanford/research/meerkat/meerkat/interactive/app/src/lib/component/filter/Filter.svelte:194:1 Unused CSS selector \".btn-blue:hover\"\n",
      "3:54:21 PM [vite-plugin-svelte] /Users/arjundesai/Documents/stanford/research/meerkat/meerkat/interactive/app/src/lib/components/gallery/Gallery.svelte:146:1 Unused CSS selector \".dark .panel\"\n",
      "3:54:21 PM [vite-plugin-svelte] /Users/arjundesai/Documents/stanford/research/meerkat/meerkat/interactive/app/src/lib/components/common/Slider.svelte:6:11 Slider has unused export property 'size'. If it is for external reference only, please consider using `export const size`\n",
      "3:54:21 PM [vite-plugin-svelte] /Users/arjundesai/Documents/stanford/research/meerkat/meerkat/interactive/app/src/lib/components/gallery/Card.svelte:104:1 Unused CSS selector \".card\"\n",
      "3:54:21 PM [vite-plugin-svelte] /Users/arjundesai/Documents/stanford/research/meerkat/meerkat/interactive/app/src/lib/components/gallery/Card.svelte:114:1 Unused CSS selector \".dark .card\"\n",
      "3:54:21 PM [vite-plugin-svelte] /Users/arjundesai/Documents/stanford/research/meerkat/meerkat/interactive/app/src/lib/components/gallery/Card.svelte:149:1 Unused CSS selector \".subcontent\"\n",
      "3:54:21 PM [vite-plugin-svelte] /Users/arjundesai/Documents/stanford/research/meerkat/meerkat/interactive/app/src/lib/components/gallery/Card.svelte:171:1 Unused CSS selector \".subcontent:hover\"\n",
      "3:55:55 PM [vite] hmr update /src/lib/component/filter/Filter.svelte\n",
      "hmr update /src/app.css\n",
      "3:55:56 PM [vite-plugin-svelte] /Users/arjundesai/Documents/stanford/research/meerkat/meerkat/interactive/app/src/lib/component/filter/Filter.svelte:180:1 Unused CSS selector \".btn\"\n",
      "3:55:56 PM [vite-plugin-svelte] /Users/arjundesai/Documents/stanford/research/meerkat/meerkat/interactive/app/src/lib/component/filter/Filter.svelte:188:1 Unused CSS selector \".btn-blue\"\n",
      "3:55:56 PM [vite-plugin-svelte] /Users/arjundesai/Documents/stanford/research/meerkat/meerkat/interactive/app/src/lib/component/filter/Filter.svelte:194:1 Unused CSS selector \".btn-blue:hover\"\n",
      "3:56:05 PM [vite] hmr update /src/lib/component/filter/Filter.svelte\n",
      "hmr update /src/app.css\n",
      "3:56:05 PM [vite-plugin-svelte] /Users/arjundesai/Documents/stanford/research/meerkat/meerkat/interactive/app/src/lib/component/filter/Filter.svelte:180:1 Unused CSS selector \".btn\"\n",
      "3:56:05 PM [vite-plugin-svelte] /Users/arjundesai/Documents/stanford/research/meerkat/meerkat/interactive/app/src/lib/component/filter/Filter.svelte:188:1 Unused CSS selector \".btn-blue\"\n",
      "3:56:05 PM [vite-plugin-svelte] /Users/arjundesai/Documents/stanford/research/meerkat/meerkat/interactive/app/src/lib/component/filter/Filter.svelte:194:1 Unused CSS selector \".btn-blue:hover\"\n"
     ]
    },
    {
     "name": "stderr",
     "output_type": "stream",
     "text": [
      "3:56:16 PM [vite-plugin-svelte] ignoring compiler output js change for /Users/arjundesai/Documents/stanford/research/meerkat/meerkat/interactive/app/src/lib/component/filter/Filter.svelte as it is equal to previous output after normalization\n"
     ]
    },
    {
     "name": "stdout",
     "output_type": "stream",
     "text": [
      "3:56:16 PM [vite-plugin-svelte] /Users/arjundesai/Documents/stanford/research/meerkat/meerkat/interactive/app/src/lib/component/filter/Filter.svelte:180:1 Unused CSS selector \".btn\"\n",
      "3:56:16 PM [vite-plugin-svelte] /Users/arjundesai/Documents/stanford/research/meerkat/meerkat/interactive/app/src/lib/component/filter/Filter.svelte:188:1 Unused CSS selector \".btn-blue\"\n",
      "3:56:16 PM [vite-plugin-svelte] /Users/arjundesai/Documents/stanford/research/meerkat/meerkat/interactive/app/src/lib/component/filter/Filter.svelte:194:1 Unused CSS selector \".btn-blue:hover\"\n",
      "3:56:24 PM [vite] hmr update /src/lib/component/filter/Filter.svelte\n",
      "hmr update /src/app.css\n",
      "3:56:25 PM [vite-plugin-svelte] /Users/arjundesai/Documents/stanford/research/meerkat/meerkat/interactive/app/src/lib/component/filter/Filter.svelte:180:1 Unused CSS selector \".btn\"\n",
      "3:56:25 PM [vite-plugin-svelte] /Users/arjundesai/Documents/stanford/research/meerkat/meerkat/interactive/app/src/lib/component/filter/Filter.svelte:188:1 Unused CSS selector \".btn-blue\"\n",
      "3:56:25 PM [vite-plugin-svelte] /Users/arjundesai/Documents/stanford/research/meerkat/meerkat/interactive/app/src/lib/component/filter/Filter.svelte:194:1 Unused CSS selector \".btn-blue:hover\"\n",
      "3:56:36 PM [vite] hmr update /src/lib/component/filter/Filter.svelte\n",
      "hmr update /src/app.css\n",
      "3:56:36 PM [vite-plugin-svelte] /Users/arjundesai/Documents/stanford/research/meerkat/meerkat/interactive/app/src/lib/component/filter/Filter.svelte:180:1 Unused CSS selector \".btn\"\n",
      "3:56:36 PM [vite-plugin-svelte] /Users/arjundesai/Documents/stanford/research/meerkat/meerkat/interactive/app/src/lib/component/filter/Filter.svelte:188:1 Unused CSS selector \".btn-blue\"\n",
      "3:56:36 PM [vite-plugin-svelte] /Users/arjundesai/Documents/stanford/research/meerkat/meerkat/interactive/app/src/lib/component/filter/Filter.svelte:194:1 Unused CSS selector \".btn-blue:hover\"\n",
      "3:56:43 PM [vite] hmr update /src/lib/component/filter/Filter.svelte\n",
      "hmr update /src/app.css\n",
      "3:56:43 PM [vite-plugin-svelte] /Users/arjundesai/Documents/stanford/research/meerkat/meerkat/interactive/app/src/lib/component/filter/Filter.svelte:180:1 Unused CSS selector \".btn\"\n",
      "3:56:43 PM [vite-plugin-svelte] /Users/arjundesai/Documents/stanford/research/meerkat/meerkat/interactive/app/src/lib/component/filter/Filter.svelte:188:1 Unused CSS selector \".btn-blue\"\n",
      "3:56:43 PM [vite-plugin-svelte] /Users/arjundesai/Documents/stanford/research/meerkat/meerkat/interactive/app/src/lib/component/filter/Filter.svelte:194:1 Unused CSS selector \".btn-blue:hover\"\n",
      "3:56:46 PM [vite] hmr update /src/lib/component/filter/Filter.svelte\n",
      "hmr update /src/app.css\n",
      "3:56:46 PM [vite-plugin-svelte] /Users/arjundesai/Documents/stanford/research/meerkat/meerkat/interactive/app/src/lib/component/filter/Filter.svelte:180:1 Unused CSS selector \".btn\"\n",
      "3:56:46 PM [vite-plugin-svelte] /Users/arjundesai/Documents/stanford/research/meerkat/meerkat/interactive/app/src/lib/component/filter/Filter.svelte:188:1 Unused CSS selector \".btn-blue\"\n",
      "3:56:46 PM [vite-plugin-svelte] /Users/arjundesai/Documents/stanford/research/meerkat/meerkat/interactive/app/src/lib/component/filter/Filter.svelte:194:1 Unused CSS selector \".btn-blue:hover\"\n",
      "3:56:53 PM [vite] hmr update /src/lib/component/filter/Filter.svelte\n",
      "hmr update /src/app.css\n",
      "3:56:53 PM [vite-plugin-svelte] /Users/arjundesai/Documents/stanford/research/meerkat/meerkat/interactive/app/src/lib/component/filter/Filter.svelte:180:1 Unused CSS selector \".btn\"\n",
      "3:56:53 PM [vite-plugin-svelte] /Users/arjundesai/Documents/stanford/research/meerkat/meerkat/interactive/app/src/lib/component/filter/Filter.svelte:188:1 Unused CSS selector \".btn-blue\"\n",
      "3:56:53 PM [vite-plugin-svelte] /Users/arjundesai/Documents/stanford/research/meerkat/meerkat/interactive/app/src/lib/component/filter/Filter.svelte:194:1 Unused CSS selector \".btn-blue:hover\"\n"
     ]
    }
   ],
   "source": [
    "interface.launch()"
   ]
  },
  {
   "cell_type": "code",
   "execution_count": null,
   "metadata": {},
   "outputs": [],
   "source": []
  },
  {
   "cell_type": "code",
   "execution_count": 20,
   "metadata": {},
   "outputs": [
    {
     "data": {
      "application/vnd.jupyter.widget-view+json": {
       "model_id": "e8e4263e10f94575b28c23f90f611f98",
       "version_major": 2,
       "version_minor": 0
      },
      "text/plain": [
       "  0%|          | 0/1 [00:00<?, ?it/s]"
      ]
     },
     "metadata": {},
     "output_type": "display_data"
    }
   ],
   "source": [
    "out = mk.embed(data=mk.PandasSeriesColumn([\"hello\"]))"
   ]
  },
  {
   "cell_type": "code",
   "execution_count": 22,
   "metadata": {},
   "outputs": [
    {
     "data": {
      "text/plain": [
       "(1, 512)"
      ]
     },
     "execution_count": 22,
     "metadata": {},
     "output_type": "execute_result"
    },
    {
     "name": "stdout",
     "output_type": "stream",
     "text": [
      "5:16:35 PM [vite] hmr update /src/lib/component/match/Match.svelte\n",
      "hmr update /src/routes/__layout.svelte\n",
      "5:17:16 PM [vite] hmr update /src/lib/component/match/Match.svelte\n",
      "hmr update /src/app.css\n",
      "5:17:22 PM [vite] hmr update /src/lib/component/match/Match.svelte\n",
      "hmr update /src/app.css\n",
      "5:19:25 PM [vite] hmr update /src/lib/component/match/Match.svelte\n",
      "hmr update /src/app.css\n"
     ]
    }
   ],
   "source": [
    "out.shape"
   ]
  },
  {
   "cell_type": "code",
   "execution_count": null,
   "metadata": {},
   "outputs": [],
   "source": []
  }
 ],
 "metadata": {
  "kernelspec": {
   "display_name": "Python 3.8.13 ('mk_interact_env')",
   "language": "python",
   "name": "python3"
  },
  "language_info": {
   "codemirror_mode": {
    "name": "ipython",
    "version": 3
   },
   "file_extension": ".py",
   "mimetype": "text/x-python",
   "name": "python",
   "nbconvert_exporter": "python",
   "pygments_lexer": "ipython3",
   "version": "3.8.13"
  },
  "orig_nbformat": 4,
  "vscode": {
   "interpreter": {
    "hash": "0466ce2b824eb84f8063724eef9a3de9962518469297387e9836cf00b7aa3c9a"
   }
  }
 },
 "nbformat": 4,
 "nbformat_minor": 2
}
