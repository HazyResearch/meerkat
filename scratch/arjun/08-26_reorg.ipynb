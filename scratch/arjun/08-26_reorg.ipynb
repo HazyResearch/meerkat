{
 "cells": [
  {
   "cell_type": "code",
   "execution_count": 1,
   "metadata": {},
   "outputs": [],
   "source": [
    "%load_ext autoreload\n",
    "%autoreload 2\n",
    " \n",
    "import meerkat as mk\n",
    "import requests\n",
    "from IPython.display import IFrame\n",
    "from meerkat.state import state\n",
    "from PIL import Image\n",
    "import numpy as np\n",
    "# mk.config.datasets.root_dir = \"/Users/krandiash/Desktop/workspace/projects/datasci/data/\""
   ]
  },
  {
   "cell_type": "code",
   "execution_count": 2,
   "metadata": {},
   "outputs": [
    {
     "name": "stdout",
     "output_type": "stream",
     "text": [
      "\n",
      "> src@0.0.1 dev\n",
      "> vite dev \"--port\" \"7862\"\n",
      "\n",
      "\n",
      "  VITE v3.0.3  ready in 565 ms\n",
      "\n",
      "  ➜  Local:   http://localhost:7862/\n",
      "  ➜  Network: use --host to expose\n"
     ]
    }
   ],
   "source": [
    "network, register_api = mk.interactive_mode()"
   ]
  },
  {
   "cell_type": "code",
   "execution_count": 3,
   "metadata": {},
   "outputs": [
    {
     "data": {
      "text/html": [
       "\n",
       "        <iframe\n",
       "            width=\"1\"\n",
       "            height=\"1\"\n",
       "            src=\"http://localhost:7862/network/register?api=http://127.0.0.1:7860\"\n",
       "            frameborder=\"0\"\n",
       "            allowfullscreen\n",
       "            \n",
       "        ></iframe>\n",
       "        "
      ],
      "text/plain": [
       "<IPython.lib.display.IFrame at 0x7f99005e8970>"
      ]
     },
     "execution_count": 3,
     "metadata": {},
     "output_type": "execute_result"
    }
   ],
   "source": [
    "register_api()"
   ]
  },
  {
   "cell_type": "code",
   "execution_count": 4,
   "metadata": {},
   "outputs": [],
   "source": [
    "dp = mk.get('imagenette', version='320px')\n",
    "dp_embed = mk.DataPanel.read(path='/Users/arjundesai/.meerkat/saved/imagenette_embedded.mk')\n",
    "dp['clip(img)'] = dp_embed['clip(img)']"
   ]
  },
  {
   "cell_type": "code",
   "execution_count": 5,
   "metadata": {},
   "outputs": [],
   "source": [
    "from meerkat.interactive.app.src.lib.interfaces.plot_gallery import PlotInterface\n",
    "from meerkat.interactive.app.src.lib.interfaces.match_gallery import MatchGalleryInterface\n",
    "\n",
    "dp = dp[\"path\", \"label\", \"img\", \"clip(img)\", \"img_path\"]\n",
    "\n",
    "# Plot interface.\n",
    "# interface = PlotInterface(dp, id_column=\"img_path\")\n",
    "interface = MatchGalleryInterface(dp, id_column=\"path\", main_column=\"img\", tag_columns=[\"label\"])\n"
   ]
  },
  {
   "cell_type": "code",
   "execution_count": 6,
   "metadata": {},
   "outputs": [
    {
     "name": "stdout",
     "output_type": "stream",
     "text": [
      "[]\n",
      "True\n",
      "5dd7d804cbed412084cbcb47fb88e691\n"
     ]
    }
   ],
   "source": [
    "print(interface.components[1].criteria.value)\n",
    "print(interface.components[1].criteria.has_children())\n",
    "print(interface.components[1].criteria.id)"
   ]
  },
  {
   "cell_type": "code",
   "execution_count": 7,
   "metadata": {},
   "outputs": [
    {
     "data": {
      "text/html": [
       "\n",
       "        <iframe\n",
       "            width=\"100%\"\n",
       "            height=\"1000\"\n",
       "            src=\"http://localhost:7862/interface?id=4e74cde68d4947c9b2e81fa2059530c5\"\n",
       "            frameborder=\"0\"\n",
       "            allowfullscreen\n",
       "            \n",
       "        ></iframe>\n",
       "        "
      ],
      "text/plain": [
       "<IPython.lib.display.IFrame at 0x7f98e1264fd0>"
      ]
     },
     "execution_count": 7,
     "metadata": {},
     "output_type": "execute_result"
    },
    {
     "name": "stdout",
     "output_type": "stream",
     "text": [
      "6:39:50 PM [vite-plugin-svelte] /Users/arjundesai/Documents/stanford/research/meerkat/meerkat/interactive/app/src/routes/interface.svelte:195:1 Unused CSS selector \".dragger\"\n",
      "6:39:50 PM [vite-plugin-svelte] /Users/arjundesai/Documents/stanford/research/meerkat/meerkat/interactive/app/src/routes/interface.svelte:210:0 Unused CSS selector \".dragger:hover\"\n",
      "Triggering store 3498457408b949d99d2bba0e8aec40aa label\n",
      "string\n",
      "{ value: 'label' }\n",
      "Triggering store 5dd7d804cbed412084cbcb47fb88e691 []\n",
      "object\n",
      "{ value: [] }\n",
      "label\n",
      "[]\n",
      "[]\n",
      "[]\n"
     ]
    },
    {
     "name": "stderr",
     "output_type": "stream",
     "text": [
      "(node:9550) ExperimentalWarning: buffer.Blob is an experimental feature. This feature could change at any time\n",
      "(Use `node --trace-warnings ...` to show where the warning was created)\n"
     ]
    },
    {
     "name": "stdout",
     "output_type": "stream",
     "text": [
      "6:39:51 PM [vite-plugin-svelte] /Users/arjundesai/Documents/stanford/research/meerkat/meerkat/interactive/app/src/routes/interface.svelte:195:1 Unused CSS selector \".dragger\"\n",
      "6:39:51 PM [vite-plugin-svelte] /Users/arjundesai/Documents/stanford/research/meerkat/meerkat/interactive/app/src/routes/interface.svelte:210:0 Unused CSS selector \".dragger:hover\"\n",
      "label\n",
      "[]\n",
      "6:39:52 PM [vite-plugin-svelte] /Users/arjundesai/Documents/stanford/research/meerkat/meerkat/interactive/app/src/lib/components/gallery/Gallery.svelte:138:1 Unused CSS selector \".dark .panel\"\n",
      "6:39:52 PM [vite-plugin-svelte] /Users/arjundesai/Documents/stanford/research/meerkat/meerkat/interactive/app/src/lib/components/common/Slider.svelte:6:11 Slider has unused export property 'size'. If it is for external reference only, please consider using `export const size`\n",
      "6:39:52 PM [vite-plugin-svelte] /Users/arjundesai/Documents/stanford/research/meerkat/meerkat/interactive/app/src/lib/components/gallery/Card.svelte:104:1 Unused CSS selector \".card\"\n",
      "6:39:52 PM [vite-plugin-svelte] /Users/arjundesai/Documents/stanford/research/meerkat/meerkat/interactive/app/src/lib/components/gallery/Card.svelte:114:1 Unused CSS selector \".dark .card\"\n",
      "6:39:52 PM [vite-plugin-svelte] /Users/arjundesai/Documents/stanford/research/meerkat/meerkat/interactive/app/src/lib/components/gallery/Card.svelte:149:1 Unused CSS selector \".subcontent\"\n",
      "6:39:52 PM [vite-plugin-svelte] /Users/arjundesai/Documents/stanford/research/meerkat/meerkat/interactive/app/src/lib/components/gallery/Card.svelte:171:1 Unused CSS selector \".subcontent:hover\"\n"
     ]
    },
    {
     "data": {
      "application/vnd.jupyter.widget-view+json": {
       "model_id": "5921eaacdba24546a3f3cadaf9505ce9",
       "version_major": 2,
       "version_minor": 0
      },
      "text/plain": [
       "  0%|          | 0/1 [00:00<?, ?it/s]"
      ]
     },
     "metadata": {},
     "output_type": "display_data"
    },
    {
     "name": "stderr",
     "output_type": "stream",
     "text": [
      "ERROR:    Exception in ASGI application\n",
      "Traceback (most recent call last):\n",
      "  File \"/Users/arjundesai/anaconda3/envs/mk_interact_env/lib/python3.8/site-packages/uvicorn/protocols/http/h11_impl.py\", line 403, in run_asgi\n",
      "    result = await app(self.scope, self.receive, self.send)\n",
      "  File \"/Users/arjundesai/anaconda3/envs/mk_interact_env/lib/python3.8/site-packages/uvicorn/middleware/proxy_headers.py\", line 78, in __call__\n",
      "    return await self.app(scope, receive, send)\n",
      "  File \"/Users/arjundesai/anaconda3/envs/mk_interact_env/lib/python3.8/site-packages/fastapi/applications.py\", line 269, in __call__\n",
      "    await super().__call__(scope, receive, send)\n",
      "  File \"/Users/arjundesai/anaconda3/envs/mk_interact_env/lib/python3.8/site-packages/starlette/applications.py\", line 124, in __call__\n",
      "    await self.middleware_stack(scope, receive, send)\n",
      "  File \"/Users/arjundesai/anaconda3/envs/mk_interact_env/lib/python3.8/site-packages/starlette/middleware/errors.py\", line 184, in __call__\n",
      "    raise exc\n",
      "  File \"/Users/arjundesai/anaconda3/envs/mk_interact_env/lib/python3.8/site-packages/starlette/middleware/errors.py\", line 162, in __call__\n",
      "    await self.app(scope, receive, _send)\n",
      "  File \"/Users/arjundesai/anaconda3/envs/mk_interact_env/lib/python3.8/site-packages/starlette/middleware/cors.py\", line 92, in __call__\n",
      "    await self.simple_response(scope, receive, send, request_headers=headers)\n",
      "  File \"/Users/arjundesai/anaconda3/envs/mk_interact_env/lib/python3.8/site-packages/starlette/middleware/cors.py\", line 147, in simple_response\n",
      "    await self.app(scope, receive, send)\n",
      "  File \"/Users/arjundesai/anaconda3/envs/mk_interact_env/lib/python3.8/site-packages/starlette/exceptions.py\", line 93, in __call__\n",
      "    raise exc\n",
      "  File \"/Users/arjundesai/anaconda3/envs/mk_interact_env/lib/python3.8/site-packages/starlette/exceptions.py\", line 82, in __call__\n",
      "    await self.app(scope, receive, sender)\n",
      "  File \"/Users/arjundesai/anaconda3/envs/mk_interact_env/lib/python3.8/site-packages/fastapi/middleware/asyncexitstack.py\", line 21, in __call__\n",
      "    raise e\n",
      "  File \"/Users/arjundesai/anaconda3/envs/mk_interact_env/lib/python3.8/site-packages/fastapi/middleware/asyncexitstack.py\", line 18, in __call__\n",
      "    await self.app(scope, receive, send)\n",
      "  File \"/Users/arjundesai/anaconda3/envs/mk_interact_env/lib/python3.8/site-packages/starlette/routing.py\", line 670, in __call__\n",
      "    await route.handle(scope, receive, send)\n",
      "  File \"/Users/arjundesai/anaconda3/envs/mk_interact_env/lib/python3.8/site-packages/starlette/routing.py\", line 266, in handle\n",
      "    await self.app(scope, receive, send)\n",
      "  File \"/Users/arjundesai/anaconda3/envs/mk_interact_env/lib/python3.8/site-packages/starlette/routing.py\", line 65, in app\n",
      "    response = await func(request)\n",
      "  File \"/Users/arjundesai/anaconda3/envs/mk_interact_env/lib/python3.8/site-packages/fastapi/routing.py\", line 227, in app\n",
      "    raw_response = await run_endpoint_function(\n",
      "  File \"/Users/arjundesai/anaconda3/envs/mk_interact_env/lib/python3.8/site-packages/fastapi/routing.py\", line 162, in run_endpoint_function\n",
      "    return await run_in_threadpool(dependant.call, **values)\n",
      "  File \"/Users/arjundesai/anaconda3/envs/mk_interact_env/lib/python3.8/site-packages/starlette/concurrency.py\", line 41, in run_in_threadpool\n",
      "    return await anyio.to_thread.run_sync(func, *args)\n",
      "  File \"/Users/arjundesai/anaconda3/envs/mk_interact_env/lib/python3.8/site-packages/anyio/to_thread.py\", line 31, in run_sync\n",
      "    return await get_asynclib().run_sync_in_worker_thread(\n",
      "  File \"/Users/arjundesai/anaconda3/envs/mk_interact_env/lib/python3.8/site-packages/anyio/_backends/_asyncio.py\", line 937, in run_sync_in_worker_thread\n",
      "    return await future\n",
      "  File \"/Users/arjundesai/anaconda3/envs/mk_interact_env/lib/python3.8/site-packages/anyio/_backends/_asyncio.py\", line 867, in run\n",
      "    result = context.run(func, *args)\n",
      "  File \"/Users/arjundesai/Documents/stanford/research/meerkat/meerkat/interactive/api/routers/store.py\", line 37, in store_trigger\n",
      "    modifications = trigger([store_modification])\n",
      "  File \"/Users/arjundesai/Documents/stanford/research/meerkat/meerkat/interactive/graph.py\", line 200, in trigger\n",
      "    new_modifications = [op() for op in order]\n",
      "  File \"/Users/arjundesai/Documents/stanford/research/meerkat/meerkat/interactive/graph.py\", line 200, in <listcomp>\n",
      "    new_modifications = [op() for op in order]\n",
      "  File \"/Users/arjundesai/Documents/stanford/research/meerkat/meerkat/interactive/graph.py\", line 140, in __call__\n",
      "    result = self.fn(*unpacked_args, **unpacked_kwargs)\n",
      "  File \"/Users/arjundesai/Documents/stanford/research/meerkat/meerkat/interactive/app/src/lib/component/filter/__init__.py\", line 84, in filter_by_operator\n",
      "    value = col.dtype.type(criterion.value)\n",
      "AttributeError: 'ImageColumn' object has no attribute 'dtype'\n",
      "[2022-08-31 18:40:15,338][ERROR][uvicorn.error:406] :: Exception in ASGI application\n",
      "Traceback (most recent call last):\n",
      "  File \"/Users/arjundesai/anaconda3/envs/mk_interact_env/lib/python3.8/site-packages/uvicorn/protocols/http/h11_impl.py\", line 403, in run_asgi\n",
      "    result = await app(self.scope, self.receive, self.send)\n",
      "  File \"/Users/arjundesai/anaconda3/envs/mk_interact_env/lib/python3.8/site-packages/uvicorn/middleware/proxy_headers.py\", line 78, in __call__\n",
      "    return await self.app(scope, receive, send)\n",
      "  File \"/Users/arjundesai/anaconda3/envs/mk_interact_env/lib/python3.8/site-packages/fastapi/applications.py\", line 269, in __call__\n",
      "    await super().__call__(scope, receive, send)\n",
      "  File \"/Users/arjundesai/anaconda3/envs/mk_interact_env/lib/python3.8/site-packages/starlette/applications.py\", line 124, in __call__\n",
      "    await self.middleware_stack(scope, receive, send)\n",
      "  File \"/Users/arjundesai/anaconda3/envs/mk_interact_env/lib/python3.8/site-packages/starlette/middleware/errors.py\", line 184, in __call__\n",
      "    raise exc\n",
      "  File \"/Users/arjundesai/anaconda3/envs/mk_interact_env/lib/python3.8/site-packages/starlette/middleware/errors.py\", line 162, in __call__\n",
      "    await self.app(scope, receive, _send)\n",
      "  File \"/Users/arjundesai/anaconda3/envs/mk_interact_env/lib/python3.8/site-packages/starlette/middleware/cors.py\", line 92, in __call__\n",
      "    await self.simple_response(scope, receive, send, request_headers=headers)\n",
      "  File \"/Users/arjundesai/anaconda3/envs/mk_interact_env/lib/python3.8/site-packages/starlette/middleware/cors.py\", line 147, in simple_response\n",
      "    await self.app(scope, receive, send)\n",
      "  File \"/Users/arjundesai/anaconda3/envs/mk_interact_env/lib/python3.8/site-packages/starlette/exceptions.py\", line 93, in __call__\n",
      "    raise exc\n",
      "  File \"/Users/arjundesai/anaconda3/envs/mk_interact_env/lib/python3.8/site-packages/starlette/exceptions.py\", line 82, in __call__\n",
      "    await self.app(scope, receive, sender)\n",
      "  File \"/Users/arjundesai/anaconda3/envs/mk_interact_env/lib/python3.8/site-packages/fastapi/middleware/asyncexitstack.py\", line 21, in __call__\n",
      "    raise e\n",
      "  File \"/Users/arjundesai/anaconda3/envs/mk_interact_env/lib/python3.8/site-packages/fastapi/middleware/asyncexitstack.py\", line 18, in __call__\n",
      "    await self.app(scope, receive, send)\n",
      "  File \"/Users/arjundesai/anaconda3/envs/mk_interact_env/lib/python3.8/site-packages/starlette/routing.py\", line 670, in __call__\n",
      "    await route.handle(scope, receive, send)\n",
      "  File \"/Users/arjundesai/anaconda3/envs/mk_interact_env/lib/python3.8/site-packages/starlette/routing.py\", line 266, in handle\n",
      "    await self.app(scope, receive, send)\n",
      "  File \"/Users/arjundesai/anaconda3/envs/mk_interact_env/lib/python3.8/site-packages/starlette/routing.py\", line 65, in app\n",
      "    response = await func(request)\n",
      "  File \"/Users/arjundesai/anaconda3/envs/mk_interact_env/lib/python3.8/site-packages/fastapi/routing.py\", line 227, in app\n",
      "    raw_response = await run_endpoint_function(\n",
      "  File \"/Users/arjundesai/anaconda3/envs/mk_interact_env/lib/python3.8/site-packages/fastapi/routing.py\", line 162, in run_endpoint_function\n",
      "    return await run_in_threadpool(dependant.call, **values)\n",
      "  File \"/Users/arjundesai/anaconda3/envs/mk_interact_env/lib/python3.8/site-packages/starlette/concurrency.py\", line 41, in run_in_threadpool\n",
      "    return await anyio.to_thread.run_sync(func, *args)\n",
      "  File \"/Users/arjundesai/anaconda3/envs/mk_interact_env/lib/python3.8/site-packages/anyio/to_thread.py\", line 31, in run_sync\n",
      "    return await get_asynclib().run_sync_in_worker_thread(\n",
      "  File \"/Users/arjundesai/anaconda3/envs/mk_interact_env/lib/python3.8/site-packages/anyio/_backends/_asyncio.py\", line 937, in run_sync_in_worker_thread\n",
      "    return await future\n",
      "  File \"/Users/arjundesai/anaconda3/envs/mk_interact_env/lib/python3.8/site-packages/anyio/_backends/_asyncio.py\", line 867, in run\n",
      "    result = context.run(func, *args)\n",
      "  File \"/Users/arjundesai/Documents/stanford/research/meerkat/meerkat/interactive/api/routers/store.py\", line 37, in store_trigger\n",
      "    modifications = trigger([store_modification])\n",
      "  File \"/Users/arjundesai/Documents/stanford/research/meerkat/meerkat/interactive/graph.py\", line 200, in trigger\n",
      "    new_modifications = [op() for op in order]\n",
      "  File \"/Users/arjundesai/Documents/stanford/research/meerkat/meerkat/interactive/graph.py\", line 200, in <listcomp>\n",
      "    new_modifications = [op() for op in order]\n",
      "  File \"/Users/arjundesai/Documents/stanford/research/meerkat/meerkat/interactive/graph.py\", line 140, in __call__\n",
      "    result = self.fn(*unpacked_args, **unpacked_kwargs)\n",
      "  File \"/Users/arjundesai/Documents/stanford/research/meerkat/meerkat/interactive/app/src/lib/component/filter/__init__.py\", line 84, in filter_by_operator\n",
      "    value = col.dtype.type(criterion.value)\n",
      "AttributeError: 'ImageColumn' object has no attribute 'dtype'\n"
     ]
    },
    {
     "name": "stdout",
     "output_type": "stream",
     "text": [
      "[{'is_enabled': True, 'column': 'img', 'op': '==', 'value': 'parachute'}]\n",
      "[{'is_enabled': True, 'column': 'label', 'op': '==', 'value': 'parachute'}]\n",
      "[{'is_enabled': True, 'column': 'label', 'op': '==', 'value': 'parachute'}, {'is_enabled': True, 'column': '_match_img_dog', 'op': '>', 'value': '0'}]\n",
      "[{'is_enabled': True, 'column': 'label', 'op': '==', 'value': 'parachute'}, {'is_enabled': True, 'column': '_match_img_dog', 'op': '>', 'value': '20'}]\n",
      "[{'is_enabled': False, 'column': 'label', 'op': '==', 'value': 'parachute'}, {'is_enabled': True, 'column': '_match_img_dog', 'op': '>', 'value': '20'}]\n",
      "[{'is_enabled': False, 'column': 'label', 'op': '==', 'value': 'parachute'}, {'is_enabled': True, 'column': '_match_img_dog', 'op': '<', 'value': '20'}]\n"
     ]
    }
   ],
   "source": [
    "interface.launch()"
   ]
  },
  {
   "cell_type": "code",
   "execution_count": null,
   "metadata": {},
   "outputs": [],
   "source": []
  },
  {
   "cell_type": "code",
   "execution_count": 20,
   "metadata": {},
   "outputs": [
    {
     "data": {
      "application/vnd.jupyter.widget-view+json": {
       "model_id": "e8e4263e10f94575b28c23f90f611f98",
       "version_major": 2,
       "version_minor": 0
      },
      "text/plain": [
       "  0%|          | 0/1 [00:00<?, ?it/s]"
      ]
     },
     "metadata": {},
     "output_type": "display_data"
    }
   ],
   "source": [
    "out = mk.embed(data=mk.PandasSeriesColumn([\"hello\"]))"
   ]
  },
  {
   "cell_type": "code",
   "execution_count": 22,
   "metadata": {},
   "outputs": [
    {
     "data": {
      "text/plain": [
       "(1, 512)"
      ]
     },
     "execution_count": 22,
     "metadata": {},
     "output_type": "execute_result"
    },
    {
     "name": "stdout",
     "output_type": "stream",
     "text": [
      "5:16:35 PM [vite] hmr update /src/lib/component/match/Match.svelte\n",
      "hmr update /src/routes/__layout.svelte\n",
      "5:17:16 PM [vite] hmr update /src/lib/component/match/Match.svelte\n",
      "hmr update /src/app.css\n",
      "5:17:22 PM [vite] hmr update /src/lib/component/match/Match.svelte\n",
      "hmr update /src/app.css\n",
      "5:19:25 PM [vite] hmr update /src/lib/component/match/Match.svelte\n",
      "hmr update /src/app.css\n"
     ]
    }
   ],
   "source": [
    "out.shape"
   ]
  },
  {
   "cell_type": "code",
   "execution_count": null,
   "metadata": {},
   "outputs": [],
   "source": []
  }
 ],
 "metadata": {
  "kernelspec": {
   "display_name": "Python 3.8.13 ('mk_interact_env')",
   "language": "python",
   "name": "python3"
  },
  "language_info": {
   "codemirror_mode": {
    "name": "ipython",
    "version": 3
   },
   "file_extension": ".py",
   "mimetype": "text/x-python",
   "name": "python",
   "nbconvert_exporter": "python",
   "pygments_lexer": "ipython3",
   "version": "3.8.13"
  },
  "orig_nbformat": 4,
  "vscode": {
   "interpreter": {
    "hash": "0466ce2b824eb84f8063724eef9a3de9962518469297387e9836cf00b7aa3c9a"
   }
  }
 },
 "nbformat": 4,
 "nbformat_minor": 2
}
