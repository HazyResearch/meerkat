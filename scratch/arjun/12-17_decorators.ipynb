{
 "cells": [
  {
   "cell_type": "code",
   "execution_count": 1,
   "metadata": {},
   "outputs": [],
   "source": [
    "import meerkat as mk\n",
    "\n",
    "%load_ext autoreload\n",
    "%autoreload 2"
   ]
  },
  {
   "cell_type": "code",
   "execution_count": 7,
   "metadata": {},
   "outputs": [
    {
     "name": "stdout",
     "output_type": "stream",
     "text": [
      "<class 'meerkat.interactive.graph.Store'>\n",
      "{Node(<meerkat.interactive.graph.Operation object at 0x16861caf0>, 1 children): True, Node(<meerkat.interactive.graph.Operation object at 0x16864c070>, 1 children): True}\n"
     ]
    }
   ],
   "source": [
    "@mk.gui.reactive\n",
    "def add(a, b):\n",
    "    return a + b\n",
    "\n",
    "a = mk.gui.Store(1)\n",
    "b = mk.gui.Store(2)\n",
    "with mk.gui.react():\n",
    "    c = add(a, b)\n",
    "\n",
    "# Stores a,b and add are not on the graph.\n",
    "# We never created the context mk.gui.react()\n",
    "# Thus, mk.gui.is_reactive() is false.\n",
    "\n",
    "print(type(c))  # -> int\n",
    "print(a.inode.children)  # -> None"
   ]
  },
  {
   "cell_type": "code",
   "execution_count": 6,
   "metadata": {},
   "outputs": [
    {
     "name": "stdout",
     "output_type": "stream",
     "text": [
      "<class 'meerkat.interactive.graph.Store'>\n",
      "Node(1, 1 children)\n",
      "Node(2, 1 children)\n",
      "Node(3, 0 children)\n"
     ]
    }
   ],
   "source": [
    "@mk.gui.react()\n",
    "def add(a, b):\n",
    "    return a + b\n",
    "\n",
    "a = mk.gui.Store(1)\n",
    "b = mk.gui.Store(2)\n",
    "c = add(a, b)\n",
    "\n",
    "# Stores a,b and add are not on the graph.\n",
    "# We never created the context mk.gui.react()\n",
    "# Thus, mk.gui.is_reactive() is false.\n",
    "\n",
    "print(type(c))  # -> int\n",
    "print(a.inode)  # -> None\n",
    "print(b.inode)  # -> None\n",
    "print(c.inode)  # -> None"
   ]
  },
  {
   "cell_type": "code",
   "execution_count": 3,
   "metadata": {},
   "outputs": [
    {
     "data": {
      "text/plain": [
       "False"
      ]
     },
     "execution_count": 3,
     "metadata": {},
     "output_type": "execute_result"
    }
   ],
   "source": [
    "class A:\n",
    "    def __init__(self) -> None:\n",
    "        self.info = [1,2,3]\n",
    "    \n",
    "    def __getitem__(self, x):\n",
    "        return self.info[x]\n",
    "\n",
    "\n",
    "class B(A):\n",
    "    def __init__(self) -> None:\n",
    "        self.__getitem__ = lambda *args, **kwargs: \n",
    "        super().__init__()\n",
    "        self.info = [4,5,6]"
   ]
  }
 ],
 "metadata": {
  "kernelspec": {
   "display_name": "meerkat_env",
   "language": "python",
   "name": "python3"
  },
  "language_info": {
   "codemirror_mode": {
    "name": "ipython",
    "version": 3
   },
   "file_extension": ".py",
   "mimetype": "text/x-python",
   "name": "python",
   "nbconvert_exporter": "python",
   "pygments_lexer": "ipython3",
   "version": "3.9.15 (main, Nov 24 2022, 08:28:41) \n[Clang 14.0.6 ]"
  },
  "orig_nbformat": 4,
  "vscode": {
   "interpreter": {
    "hash": "ddcbb88398501e1d5c6d389f98f1e0f0555aa137cbd2c4caf84153dad1867c5b"
   }
  }
 },
 "nbformat": 4,
 "nbformat_minor": 2
}
