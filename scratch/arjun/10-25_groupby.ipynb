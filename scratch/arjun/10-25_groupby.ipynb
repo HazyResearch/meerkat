{
 "cells": [
  {
   "cell_type": "code",
   "execution_count": 2,
   "metadata": {},
   "outputs": [
    {
     "name": "stderr",
     "output_type": "stream",
     "text": [
      "/home/karan/meerkat/meerkat/datapanel.py:436: DtypeWarning: Columns (28) have mixed types. Specify dtype option on import or set low_memory=False.\n",
      "  return cls.from_pandas(pd.read_csv(filepath, *args, **kwargs))\n"
     ]
    }
   ],
   "source": [
    "import io\n",
    "import requests\n",
    "\n",
    "import meerkat as mk\n",
    "\n",
    "from PIL import Image\n",
    "\n",
    "ngoa = mk.get('ngoa', '/data/datasets/opendata/')\n",
    "published_images, objects, constituents = ngoa['published_images'], ngoa['objects'], ngoa[\"constituents\"], ngoa[\"\n"
   ]
  },
  {
   "cell_type": "code",
   "execution_count": null,
   "metadata": {},
   "outputs": [],
   "source": []
  }
 ],
 "metadata": {
  "kernelspec": {
   "display_name": "Python 3 (ipykernel)",
   "language": "python",
   "name": "python3"
  },
  "language_info": {
   "codemirror_mode": {
    "name": "ipython",
    "version": 3
   },
   "file_extension": ".py",
   "mimetype": "text/x-python",
   "name": "python",
   "nbconvert_exporter": "python",
   "pygments_lexer": "ipython3",
   "version": "3.9.12"
  },
  "vscode": {
   "interpreter": {
    "hash": "20bb7c241d86618edf5518b85247068905e84aa6e78f48cfcd632687d9b5a7a6"
   }
  }
 },
 "nbformat": 4,
 "nbformat_minor": 4
}
