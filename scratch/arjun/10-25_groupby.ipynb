{
 "cells": [
  {
   "cell_type": "code",
   "execution_count": null,
   "metadata": {},
   "outputs": [
    {
     "ename": "",
     "evalue": "",
     "output_type": "error",
     "traceback": [
      "\u001b[1;31mFailed to start the Kernel. \n",
      "\u001b[1;31mTraceback (most recent call last):\n",
      "\u001b[1;31m  File \"/home/common/miniconda3/envs/meerkat-kg/lib/python3.9/site-packages/traitlets/traitlets.py\", line 537, in get\n",
      "\u001b[1;31m    value = obj._trait_values[self.name]\n",
      "\u001b[1;31mKeyError: 'port'\n",
      "\u001b[1;31m\n",
      "\u001b[1;31mDuring handling of the above exception, another exception occurred:\n",
      "\u001b[1;31m\n",
      "\u001b[1;31mTraceback (most recent call last):\n",
      "\u001b[1;31m  File \"/root/.vscode-server/extensions/ms-toolsai.jupyter-2022.9.1202862440/pythonFiles/vscode_datascience_helpers/daemon/daemon_python.py\", line 54, in _decorator\n",
      "\u001b[1;31m    return func(self, *args, **kwargs)\n",
      "\u001b[1;31m  File \"/root/.vscode-server/extensions/ms-toolsai.jupyter-2022.9.1202862440/pythonFiles/vscode_datascience_helpers/jupyter_daemon.py\", line 111, in m_exec_module_observable\n",
      "\u001b[1;31m    self._start_notebook(args, cwd, env)\n",
      "\u001b[1;31m  File \"/root/.vscode-server/extensions/ms-toolsai.jupyter-2022.9.1202862440/pythonFiles/vscode_datascience_helpers/jupyter_daemon.py\", line 168, in _start_notebook\n",
      "\u001b[1;31m    app.launch_new_instance()\n",
      "\u001b[1;31m  File \"/home/common/miniconda3/envs/meerkat-kg/lib/python3.9/site-packages/jupyter_core/application.py\", line 269, in launch_instance\n",
      "\u001b[1;31m    return super().launch_instance(argv=argv, **kwargs)\n",
      "\u001b[1;31m  File \"/home/common/miniconda3/envs/meerkat-kg/lib/python3.9/site-packages/traitlets/config/application.py\", line 845, in launch_instance\n",
      "\u001b[1;31m    app.initialize(argv)\n",
      "\u001b[1;31m  File \"/home/common/miniconda3/envs/meerkat-kg/lib/python3.9/site-packages/traitlets/config/application.py\", line 88, in inner\n",
      "\u001b[1;31m    return method(app, *args, **kwargs)\n",
      "\u001b[1;31m  File \"/home/common/miniconda3/envs/meerkat-kg/lib/python3.9/site-packages/notebook/notebookapp.py\", line 2150, in initialize\n",
      "\u001b[1;31m    self.init_terminals()\n",
      "\u001b[1;31m  File \"/home/common/miniconda3/envs/meerkat-kg/lib/python3.9/site-packages/notebook/notebookapp.py\", line 1899, in init_terminals\n",
      "\u001b[1;31m    initialize(nb_app=self)\n",
      "\u001b[1;31m  File \"/home/common/miniconda3/envs/meerkat-kg/lib/python3.9/site-packages/notebook/terminal/__init__.py\", line 38, in initialize\n",
      "\u001b[1;31m    'JUPYTER_SERVER_URL': nb_app.connection_url,\n",
      "\u001b[1;31m  File \"/home/common/miniconda3/envs/meerkat-kg/lib/python3.9/site-packages/notebook/notebookapp.py\", line 1884, in connection_url\n",
      "\u001b[1;31m    return self._tcp_url(ip)\n",
      "\u001b[1;31m  File \"/home/common/miniconda3/envs/meerkat-kg/lib/python3.9/site-packages/notebook/notebookapp.py\", line 1891, in _tcp_url\n",
      "\u001b[1;31m    return \"%s://%s:%i%s\" % (proto, ip, port or self.port, self.base_url)\n",
      "\u001b[1;31m  File \"/home/common/miniconda3/envs/meerkat-kg/lib/python3.9/site-packages/traitlets/traitlets.py\", line 577, in __get__\n",
      "\u001b[1;31m    return self.get(obj, cls)\n",
      "\u001b[1;31m  File \"/home/common/miniconda3/envs/meerkat-kg/lib/python3.9/site-packages/traitlets/traitlets.py\", line 540, in get\n",
      "\u001b[1;31m    default = obj.trait_defaults(self.name)\n",
      "\u001b[1;31m  File \"/home/common/miniconda3/envs/meerkat-kg/lib/python3.9/site-packages/traitlets/traitlets.py\", line 1580, in trait_defaults\n",
      "\u001b[1;31m    return self._get_trait_default_generator(names[0])(self)\n",
      "\u001b[1;31m  File \"/home/common/miniconda3/envs/meerkat-kg/lib/python3.9/site-packages/traitlets/traitlets.py\", line 977, in __call__\n",
      "\u001b[1;31m    return self.func(*args, **kwargs)\n",
      "\u001b[1;31m  File \"/home/common/miniconda3/envs/meerkat-kg/lib/python3.9/site-packages/notebook/notebookapp.py\", line 870, in port_default\n",
      "\u001b[1;31m    return int(os.getenv(self.port_env, self.port_default_value))\n",
      "\u001b[1;31mValueError: invalid literal for int() with base 10: 'tcp://10.84.4.228:8000'\n",
      "\u001b[1;31m\n",
      "\u001b[1;31mFailed to run jupyter as observable with args notebook --no-browser --notebook-dir=\"/home/karan/meerkat/scratch/arjun\" --config=/tmp/1625b192-c7cd-486b-83d2-fe75f47a4123/jupyter_notebook_config.py --NotebookApp.iopub_data_rate_limit=10000000000.0 --ip 127.0.0.1 --allow-root. \n",
      "\u001b[1;31mView Jupyter <a href='command:jupyter.viewOutput'>log</a> for further details."
     ]
    }
   ],
   "source": [
    "import io\n",
    "import requests\n",
    "\n",
    "import meerkat as mk\n",
    "\n",
    "from PIL import Image\n",
    "\n",
    "# ngoa = mk.get(\n",
    "#     'ngoa',\n",
    "#     '/data/datasets/opendata/',\n",
    "# )\n",
    "\n",
    "# ngoa_images = ngoa['published_images']\n",
    "# ngoa_images['image_224'] = ngoa_images['iiifurl'].to_lambda(lambda x: Image.open(io.BytesIO(requests.get(f\"{x}/full/224,224/0/default.jpg\").content)))"
   ]
  },
  {
   "cell_type": "code",
   "execution_count": null,
   "metadata": {},
   "outputs": [],
   "source": []
  }
 ],
 "metadata": {
  "kernelspec": {
   "display_name": "Python 3.9.12 64-bit ('meerkat-kg')",
   "language": "python",
   "name": "python3"
  },
  "language_info": {
   "name": "python",
   "version": "3.9.12"
  },
  "orig_nbformat": 4,
  "vscode": {
   "interpreter": {
    "hash": "20bb7c241d86618edf5518b85247068905e84aa6e78f48cfcd632687d9b5a7a6"
   }
  }
 },
 "nbformat": 4,
 "nbformat_minor": 2
}
