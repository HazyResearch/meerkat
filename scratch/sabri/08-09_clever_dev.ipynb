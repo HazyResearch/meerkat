{
 "cells": [
  {
   "cell_type": "code",
   "execution_count": 1,
   "metadata": {},
   "outputs": [],
   "source": [
    "%load_ext autoreload\n",
    "%autoreload 2"
   ]
  },
  {
   "cell_type": "code",
   "execution_count": 2,
   "metadata": {},
   "outputs": [],
   "source": [
    "import meerkat as mk "
   ]
  },
  {
   "cell_type": "code",
   "execution_count": 3,
   "metadata": {},
   "outputs": [
    {
     "name": "stdout",
     "output_type": "stream",
     "text": [
      "\n",
      "> src@0.0.1 dev\n",
      "> vite dev \"--port\" \"7863\"\n",
      "\n",
      "\n",
      "  VITE v3.0.3  ready in 266 ms\n",
      "\n",
      "  ➜  Local:   http://localhost:7863/\n",
      "  ➜  Network: use --host to expose\n"
     ]
    }
   ],
   "source": [
    "from meerkat.interactive.startup import interactive_mode\n",
    "network, register_api = interactive_mode()"
   ]
  },
  {
   "cell_type": "code",
   "execution_count": 4,
   "metadata": {},
   "outputs": [
    {
     "data": {
      "text/html": [
       "\n",
       "        <iframe\n",
       "            width=\"1\"\n",
       "            height=\"1\"\n",
       "            src=\"http://localhost:7863/network/register?api=http://127.0.0.1:7861\"\n",
       "            frameborder=\"0\"\n",
       "            allowfullscreen\n",
       "            \n",
       "        ></iframe>\n",
       "        "
      ],
      "text/plain": [
       "<IPython.lib.display.IFrame at 0x10848cbb0>"
      ]
     },
     "execution_count": 4,
     "metadata": {},
     "output_type": "execute_result"
    }
   ],
   "source": [
    "register_api()"
   ]
  },
  {
   "cell_type": "code",
   "execution_count": 5,
   "metadata": {},
   "outputs": [
    {
     "name": "stdout",
     "output_type": "stream",
     "text": [
      "http://localhost:7863/interface?id=bb9fb7e113ec4c92a53a0cd94ab0d68b\n"
     ]
    },
    {
     "data": {
      "text/html": [
       "\n",
       "        <iframe\n",
       "            width=\"100%\"\n",
       "            height=\"1000\"\n",
       "            src=\"http://localhost:7863/interface?id=bb9fb7e113ec4c92a53a0cd94ab0d68b\"\n",
       "            frameborder=\"0\"\n",
       "            allowfullscreen\n",
       "            \n",
       "        ></iframe>\n",
       "        "
      ],
      "text/plain": [
       "<IPython.lib.display.IFrame at 0x16a2456a0>"
      ]
     },
     "execution_count": 5,
     "metadata": {},
     "output_type": "execute_result"
    },
    {
     "name": "stdout",
     "output_type": "stream",
     "text": [
      "3:41:47 PM [vite-plugin-svelte] /Users/eyubogln/code/meerkat/meerkat/interactive/app/src/lib/TableView.svelte:79:1 Unused CSS selector \".dark .table-view\"\n",
      "3:41:47 PM [vite-plugin-svelte] /Users/eyubogln/code/meerkat/meerkat/interactive/app/src/lib/components/table/Table.svelte:102:1 Unused CSS selector \".dark .table\"\n",
      "3:41:47 PM [vite-plugin-svelte] /Users/eyubogln/code/meerkat/meerkat/interactive/app/src/lib/components/search_header/SearchHeader.svelte:4:11 SearchHeader has unused export property 'datapanel_id'. If it is for external reference only, please consider using `export const datapanel_id`\n",
      "3:41:47 PM [vite-plugin-svelte] /Users/eyubogln/code/meerkat/meerkat/interactive/app/src/lib/components/gallery/Gallery.svelte:87:1 Unused CSS selector \".dark .panel\"\n",
      "3:41:47 PM [vite-plugin-svelte] /Users/eyubogln/code/meerkat/meerkat/interactive/app/src/lib/components/common/Toggle.svelte:31:0 Unused CSS selector \".dark .label\"\n",
      "3:41:47 PM [vite-plugin-svelte] /Users/eyubogln/code/meerkat/meerkat/interactive/app/src/lib/components/common/Toggle.svelte:74:1 Unused CSS selector \".dark .toggle\"\n",
      "3:41:47 PM [vite-plugin-svelte] /Users/eyubogln/code/meerkat/meerkat/interactive/app/src/lib/components/gallery/Card.svelte:109:1 Unused CSS selector \".dark .card\"\n",
      "First tab\n",
      "Second tab\n",
      "Third tab\n",
      "3:41:52 PM [vite-plugin-svelte] /Users/eyubogln/code/meerkat/meerkat/interactive/app/src/lib/TableView.svelte:79:1 Unused CSS selector \".dark .table-view\"\n",
      "3:41:52 PM [vite-plugin-svelte] /Users/eyubogln/code/meerkat/meerkat/interactive/app/src/lib/components/table/Table.svelte:102:1 Unused CSS selector \".dark .table\"\n",
      "3:41:52 PM [vite-plugin-svelte] /Users/eyubogln/code/meerkat/meerkat/interactive/app/src/lib/components/common/Toggle.svelte:31:0 Unused CSS selector \".dark .label\"\n",
      "3:41:52 PM [vite-plugin-svelte] /Users/eyubogln/code/meerkat/meerkat/interactive/app/src/lib/components/common/Toggle.svelte:74:1 Unused CSS selector \".dark .toggle\"\n",
      "3:41:52 PM [vite-plugin-svelte] /Users/eyubogln/code/meerkat/meerkat/interactive/app/src/lib/components/search_header/SearchHeader.svelte:4:11 SearchHeader has unused export property 'datapanel_id'. If it is for external reference only, please consider using `export const datapanel_id`\n",
      "3:41:52 PM [vite-plugin-svelte] /Users/eyubogln/code/meerkat/meerkat/interactive/app/src/lib/components/gallery/Gallery.svelte:87:1 Unused CSS selector \".dark .panel\"\n",
      "3:41:53 PM [vite-plugin-svelte] /Users/eyubogln/code/meerkat/meerkat/interactive/app/src/lib/components/gallery/Card.svelte:109:1 Unused CSS selector \".dark .card\"\n",
      "3:42:18 PM [vite] hmr update /src/lib/components/header/Tabs.svelte\n",
      "hmr update /src/app.css\n",
      "3:43:44 PM [vite] hmr update /src/lib/components/header/Tab.svelte\n",
      "hmr update /src/app.css\n",
      "3:55:19 PM [vite-plugin-svelte] /Users/eyubogln/code/meerkat/meerkat/interactive/app/src/lib/TableView.svelte:79:1 Unused CSS selector \".dark .table-view\"\n",
      "First tab\n",
      "Second tab\n",
      "Third tab\n",
      "3:55:19 PM [vite-plugin-svelte] /Users/eyubogln/code/meerkat/meerkat/interactive/app/src/lib/TableView.svelte:79:1 Unused CSS selector \".dark .table-view\"\n",
      "3:55:19 PM [vite-plugin-svelte] /Users/eyubogln/code/meerkat/meerkat/interactive/app/src/lib/TableView.svelte:79:1 Unused CSS selector \".dark .table-view\"\n",
      "3:59:56 PM [vite] hmr update /src/lib/components/header/Tab.svelte\n",
      "hmr update /src/routes/__layout.svelte\n",
      "3:59:56 PM [vite-plugin-svelte] /Users/eyubogln/code/meerkat/meerkat/interactive/app/src/lib/components/header/Tab.svelte:7:1 'activetab' is not defined\n",
      "4:00:04 PM [vite] hmr update /src/lib/components/header/Tab.svelte\n",
      "hmr update /src/app.css\n",
      "4:00:04 PM [vite-plugin-svelte] /Users/eyubogln/code/meerkat/meerkat/interactive/app/src/lib/TableView.svelte:79:1 Unused CSS selector \".dark .table-view\"\n",
      "First tab\n",
      "Second tab\n",
      "Third tab\n",
      "4:00:04 PM [vite-plugin-svelte] /Users/eyubogln/code/meerkat/meerkat/interactive/app/src/lib/TableView.svelte:79:1 Unused CSS selector \".dark .table-view\"\n",
      "4:00:04 PM [vite-plugin-svelte] /Users/eyubogln/code/meerkat/meerkat/interactive/app/src/lib/TableView.svelte:79:1 Unused CSS selector \".dark .table-view\"\n",
      "4:00:39 PM [vite] hmr update /src/lib/components/header/Tab.svelte\n",
      "hmr update /src/routes/__layout.svelte\n",
      "4:01:41 PM [vite] hmr update /src/lib/components/header/Tab.svelte\n",
      "hmr update /src/app.css\n",
      "4:02:18 PM [vite] hmr update /src/lib/components/header/Tab.svelte\n",
      "hmr update /src/app.css\n"
     ]
    }
   ],
   "source": [
    "from meerkat.interactive.gui import GUI\n",
    "dp = mk.get(\"imagenette\")\n",
    "gui = GUI(dp[\"img\", \"path\", \"label\"])\n",
    "gui.table(len(dp), return_iframe=True)"
   ]
  },
  {
   "cell_type": "code",
   "execution_count": null,
   "metadata": {},
   "outputs": [],
   "source": []
  },
  {
   "cell_type": "code",
   "execution_count": null,
   "metadata": {},
   "outputs": [],
   "source": []
  },
  {
   "cell_type": "code",
   "execution_count": null,
   "metadata": {},
   "outputs": [],
   "source": []
  },
  {
   "cell_type": "code",
   "execution_count": null,
   "metadata": {},
   "outputs": [],
   "source": []
  },
  {
   "cell_type": "code",
   "execution_count": 6,
   "metadata": {},
   "outputs": [
    {
     "name": "stdout",
     "output_type": "stream",
     "text": [
      "http://localhost:7861/interface?id=bcf19a1b251542e6a2886897a2b354de\n"
     ]
    },
    {
     "data": {
      "text/html": [
       "\n",
       "        <iframe\n",
       "            width=\"800\"\n",
       "            height=\"800\"\n",
       "            src=\"http://localhost:7861/interface?id=bcf19a1b251542e6a2886897a2b354de\"\n",
       "            frameborder=\"0\"\n",
       "            allowfullscreen\n",
       "            \n",
       "        ></iframe>\n",
       "        "
      ],
      "text/plain": [
       "<IPython.lib.display.IFrame at 0x16bb90190>"
      ]
     },
     "execution_count": 6,
     "metadata": {},
     "output_type": "execute_result"
    },
    {
     "name": "stdout",
     "output_type": "stream",
     "text": [
      "in tableview\n",
      "hello in datapanel.ts\n",
      "http://127.0.0.1:7860/dp/537cee6a3e5f427dac77c4b7cc11b93e/rows\n"
     ]
    }
   ],
   "source": [
    "from meerkat.interactive.formatter import CodeFormatter\n",
    "js_code =  \"\"\"\n",
    "//JavaScript program to swap two variables\n",
    "\n",
    "//take input from the users\n",
    "let a = prompt('Enter the first variable: ');\n",
    "let b = prompt('Enter the second variable: ');\n",
    "\n",
    "//create a temporary variable\n",
    "let temp;\n",
    "\n",
    "//swap variables\n",
    "temp = a;\n",
    "a = b;\n",
    "b = temp;\n",
    "\n",
    "console.log(\"The value of a after swapping: \");\n",
    "console.log(\"The value of b after swapping:\");\n",
    "`;\n",
    "\"\"\" \n",
    "css_code = \"\"\"\n",
    "body {\n",
    "\tmin-height: 100vh;\n",
    "\tmargin: 0;\n",
    "\tbackground-color: var(--primary-color);\n",
    "\tbackground: linear-gradient(\n",
    "\t\t180deg,\n",
    "\t\tvar(--primary-color) 0%,\n",
    "\t\tvar(--secondary-color) 10.45%,\n",
    "\t\tvar(--tertiary-color) 41.35%\n",
    "\t);\n",
    "}\n",
    "\n",
    "body::before {\n",
    "\tcontent: '';\n",
    "\twidth: 80vw;\n",
    "\theight: 100vh;\n",
    "\tposition: absolute;\n",
    "\ttop: 0;\n",
    "\tleft: 10vw;\n",
    "\tz-index: -1;\n",
    "\tbackground: radial-gradient(\n",
    "\t\t50% 50% at 50% 50%,\n",
    "\t\tvar(--pure-white) 0%,\n",
    "\t\trgba(255, 255, 255, 0) 100%\n",
    "\t);\n",
    "\topacity: 0.05;\n",
    "}\n",
    "\"\"\"\n",
    "dp = mk.DataPanel({\n",
    "    \"js_code\": [js_code] * 100, \n",
    "    \"css_code\": [css_code] * 100,\n",
    "    \"language\": [\"javascript\"] * 100, \n",
    "})\n",
    "dp[\"js_code\"].formatter = CodeFormatter(language=\"js\")\n",
    "dp[\"css_code\"].formatter = CodeFormatter(language=\"css\")\n",
    "from meerkat.interactive.gui import GUI\n",
    "gui = GUI(dp)\n",
    "gui.table(len(dp))"
   ]
  },
  {
   "cell_type": "code",
   "execution_count": 8,
   "metadata": {},
   "outputs": [
    {
     "data": {
      "text/html": [
       "\n",
       "        <iframe\n",
       "            width=\"400\"\n",
       "            height=\"400\"\n",
       "            src=\"http://localhost:7862/code\"\n",
       "            frameborder=\"0\"\n",
       "            allowfullscreen\n",
       "            \n",
       "        ></iframe>\n",
       "        "
      ],
      "text/plain": [
       "<IPython.lib.display.IFrame at 0x137e2f7f0>"
      ]
     },
     "execution_count": 8,
     "metadata": {},
     "output_type": "execute_result"
    },
    {
     "name": "stderr",
     "output_type": "stream",
     "text": [
      "Unknown file extension \".svelte\" for /Users/eyubogln/code/meerkat/meerkat/interactive/app/node_modules/svelte-highlight/Highlight.svelte\n",
      "TypeError [ERR_UNKNOWN_FILE_EXTENSION]: Unknown file extension \".svelte\" for /Users/eyubogln/code/meerkat/meerkat/interactive/app/node_modules/svelte-highlight/Highlight.svelte\n",
      "    at new NodeError (node:internal/errors:388:5)\n",
      "    at Object.getFileProtocolModuleFormat [as file:] (node:internal/modules/esm/get_format:80:11)\n",
      "    at defaultGetFormat (node:internal/modules/esm/get_format:122:38)\n",
      "    at defaultLoad (node:internal/modules/esm/load:21:20)\n",
      "    at ESMLoader.load (node:internal/modules/esm/loader:431:26)\n",
      "    at ESMLoader.moduleProvider (node:internal/modules/esm/loader:350:22)\n",
      "    at new ModuleJob (node:internal/modules/esm/module_job:66:26)\n",
      "    at #createModuleJob (node:internal/modules/esm/loader:369:17)\n",
      "    at ESMLoader.getModuleJob (node:internal/modules/esm/loader:328:34)\n",
      "    at async ModuleWrap.<anonymous> (node:internal/modules/esm/module_job:82:21)\n"
     ]
    }
   ],
   "source": [
    "from IPython.display import IFrame\n",
    "IFrame(\"http://localhost:7862/code\", width=400, height=400)"
   ]
  },
  {
   "cell_type": "code",
   "execution_count": 5,
   "metadata": {},
   "outputs": [
    {
     "name": "stdout",
     "output_type": "stream",
     "text": [
      "http://localhost:7862/interface?id=a43f3d2788104c6d8850023a1757e84e\n"
     ]
    },
    {
     "data": {
      "text/html": [
       "\n",
       "        <iframe\n",
       "            width=\"800\"\n",
       "            height=\"800\"\n",
       "            src=\"http://localhost:7862/interface?id=a43f3d2788104c6d8850023a1757e84e\"\n",
       "            frameborder=\"0\"\n",
       "            allowfullscreen\n",
       "            \n",
       "        ></iframe>\n",
       "        "
      ],
      "text/plain": [
       "<IPython.lib.display.IFrame at 0x128af2c70>"
      ]
     },
     "execution_count": 5,
     "metadata": {},
     "output_type": "execute_result"
    },
    {
     "name": "stdout",
     "output_type": "stream",
     "text": [
      "3:08:18 PM [vite-plugin-svelte] /Users/eyubogln/code/meerkat/meerkat/interactive/app/src/lib/components/table/Table.svelte:5:11 Table has unused export property 'types'. If it is for external reference only, please consider using `export const types`\n",
      "3:08:27 PM [vite-plugin-svelte] /Users/eyubogln/code/meerkat/meerkat/interactive/app/src/lib/components/table/Table.svelte:5:11 Table has unused export property 'types'. If it is for external reference only, please consider using `export const types`\n"
     ]
    }
   ],
   "source": [
    "from meerkat.interactive.gui import GUI\n",
    "dp = mk.get(\"imagenette\")\n",
    "gui = GUI(dp[\"img\", \"path\", \"label\"])\n",
    "gui.table(len(dp))"
   ]
  },
  {
   "cell_type": "code",
   "execution_count": null,
   "metadata": {},
   "outputs": [],
   "source": []
  },
  {
   "cell_type": "code",
   "execution_count": 10,
   "metadata": {},
   "outputs": [
    {
     "data": {
      "text/plain": [
       "'http://localhost:7861/network'"
      ]
     },
     "execution_count": 10,
     "metadata": {},
     "output_type": "execute_result"
    },
    {
     "name": "stdout",
     "output_type": "stream",
     "text": [
      "4:13:14 PM [vite] page reload src/routes/interface.svelte\n",
      "4:13:15 PM [vite] page reload src/routes/interface.svelte\n"
     ]
    }
   ],
   "source": [
    "network.npm_network_url"
   ]
  },
  {
   "cell_type": "code",
   "execution_count": 11,
   "metadata": {},
   "outputs": [
    {
     "ename": "KeyError",
     "evalue": "'Object with key 6d03018cd7c34656be53000b89ce0b05 no longer exists'",
     "output_type": "error",
     "traceback": [
      "\u001b[0;31m---------------------------------------------------------------------------\u001b[0m",
      "\u001b[0;31mKeyError\u001b[0m                                  Traceback (most recent call last)",
      "\u001b[1;32mUntitled-1.ipynb Cell 10'\u001b[0m in \u001b[0;36m<cell line: 1>\u001b[0;34m()\u001b[0m\n\u001b[0;32m----> <a href='vscode-notebook-cell:Untitled-1.ipynb?jupyter-notebook#ch0000028untitled?line=0'>1</a>\u001b[0m state\u001b[39m.\u001b[39;49midentifiables\u001b[39m.\u001b[39;49minterfaces[\u001b[39m\"\u001b[39;49m\u001b[39m6d03018cd7c34656be53000b89ce0b05\u001b[39;49m\u001b[39m\"\u001b[39;49m]\n",
      "File \u001b[0;32m~/code/meerkat/meerkat/tools/utils.py:19\u001b[0m, in \u001b[0;36mWeakMapping.__getitem__\u001b[0;34m(self, key)\u001b[0m\n\u001b[1;32m     17\u001b[0m obj \u001b[39m=\u001b[39m ref()\n\u001b[1;32m     18\u001b[0m \u001b[39mif\u001b[39;00m obj \u001b[39mis\u001b[39;00m \u001b[39mNone\u001b[39;00m:\n\u001b[0;32m---> 19\u001b[0m     \u001b[39mraise\u001b[39;00m \u001b[39mKeyError\u001b[39;00m(\u001b[39mf\u001b[39m\u001b[39m\"\u001b[39m\u001b[39mObject with key \u001b[39m\u001b[39m{\u001b[39;00mkey\u001b[39m}\u001b[39;00m\u001b[39m no longer exists\u001b[39m\u001b[39m\"\u001b[39m)\n\u001b[1;32m     20\u001b[0m \u001b[39mreturn\u001b[39;00m obj\n",
      "\u001b[0;31mKeyError\u001b[0m: 'Object with key 6d03018cd7c34656be53000b89ce0b05 no longer exists'"
     ]
    }
   ],
   "source": [
    "state.identifiables.interfaces[\"6d03018cd7c34656be53000b89ce0b05\"]"
   ]
  },
  {
   "cell_type": "code",
   "execution_count": 8,
   "metadata": {},
   "outputs": [
    {
     "data": {
      "text/html": [
       "\n",
       "        <iframe\n",
       "            width=\"800\"\n",
       "            height=\"600\"\n",
       "            src=\"http://127.0.0.1:7860/docs\"\n",
       "            frameborder=\"0\"\n",
       "            allowfullscreen\n",
       "            \n",
       "        ></iframe>\n",
       "        "
      ],
      "text/plain": [
       "<IPython.lib.display.IFrame at 0x13efa0d90>"
      ]
     },
     "execution_count": 8,
     "metadata": {},
     "output_type": "execute_result"
    },
    {
     "name": "stdout",
     "output_type": "stream",
     "text": [
      "2:49:26 PM [vite] page reload src/routes/interface.svelte\n",
      "3234acd1f827404a88c4bf71963c90ff\n"
     ]
    },
    {
     "name": "stderr",
     "output_type": "stream",
     "text": [
      "fetch failed\n",
      "TypeError: fetch failed\n",
      "    at Object.processResponse (file:///Users/eyubogln/code/meerkat/meerkat/interactive/app/node_modules/@sveltejs/kit/dist/node/polyfills.js:10373:24)\n",
      "    at file:///Users/eyubogln/code/meerkat/meerkat/interactive/app/node_modules/@sveltejs/kit/dist/node/polyfills.js:11091:39\n",
      "    at node:internal/process/task_queues:140:7\n",
      "    at AsyncResource.runInAsyncScope (node:async_hooks:203:9)\n",
      "    at AsyncResource.runMicrotask (node:internal/process/task_queues:137:8)\n",
      "    at process.processTicksAndRejections (node:internal/process/task_queues:95:5)\n"
     ]
    }
   ],
   "source": [
    "network.api_docs"
   ]
  },
  {
   "cell_type": "code",
   "execution_count": 12,
   "metadata": {},
   "outputs": [
    {
     "data": {
      "application/vnd.jupyter.widget-view+json": {
       "model_id": "620a3d8aae544f20b98ceebf5fe6be4f",
       "version_major": 2,
       "version_minor": 0
      },
      "text/plain": [
       "  0%|          | 0/1 [00:00<?, ?it/s]"
      ]
     },
     "metadata": {},
     "output_type": "display_data"
    }
   ],
   "source": [
    "out = mk.embed(dp.lz[:10], input=\"img\")"
   ]
  },
  {
   "cell_type": "code",
   "execution_count": null,
   "metadata": {},
   "outputs": [],
   "source": [
    "= mk.clusterby(dp, by=\"img\")"
   ]
  },
  {
   "cell_type": "code",
   "execution_count": 10,
   "metadata": {},
   "outputs": [
    {
     "data": {
      "text/plain": [
       "'c4115792c9c24940ba4c676f1d24dcf1'"
      ]
     },
     "execution_count": 10,
     "metadata": {},
     "output_type": "execute_result"
    }
   ],
   "source": [
    "server"
   ]
  },
  {
   "cell_type": "code",
   "execution_count": null,
   "metadata": {},
   "outputs": [],
   "source": [
    "mk.embed(data=\"abc\")"
   ]
  },
  {
   "cell_type": "code",
   "execution_count": 5,
   "metadata": {},
   "outputs": [
    {
     "data": {
      "text/plain": [
       "True"
      ]
     },
     "execution_count": 5,
     "metadata": {},
     "output_type": "execute_result"
    }
   ],
   "source": [
    "dp = mk.DataPanel({\n",
    "    \"a\": [1,2,3]\n",
    "})\n",
    "dp2 = mk.DataPanel(\n",
    "    {\"b\": dp[\"a\"]}\n",
    ")\n",
    "dp[\"a\"] is dp2[\"b\"]"
   ]
  },
  {
   "cell_type": "code",
   "execution_count": null,
   "metadata": {},
   "outputs": [],
   "source": [
    "dp.embed(\"image\")"
   ]
  },
  {
   "cell_type": "code",
   "execution_count": 12,
   "metadata": {},
   "outputs": [],
   "source": [
    "new_dp = mk.DataPanel(\n",
    "    {\"new_img\": dp[\"img\"]}\n",
    ")"
   ]
  },
  {
   "cell_type": "code",
   "execution_count": 15,
   "metadata": {},
   "outputs": [
    {
     "data": {
      "text/plain": [
       "False"
      ]
     },
     "execution_count": 15,
     "metadata": {},
     "output_type": "execute_result"
    }
   ],
   "source": [
    "new_dp[\"new_img\"] is dp[\"img\"]"
   ]
  },
  {
   "cell_type": "code",
   "execution_count": 10,
   "metadata": {},
   "outputs": [],
   "source": [
    "dp[\"new_img\"] = dp[\"img\"]"
   ]
  },
  {
   "cell_type": "code",
   "execution_count": 11,
   "metadata": {},
   "outputs": [
    {
     "name": "stderr",
     "output_type": "stream",
     "text": [
      "[autoreload of meerkat.state failed: Traceback (most recent call last):\n",
      "  File \"/Users/eyubogln/miniconda3/envs/meerkat/lib/python3.8/site-packages/IPython/extensions/autoreload.py\", line 257, in check\n",
      "    superreload(m, reload, self.old_objects)\n",
      "  File \"/Users/eyubogln/miniconda3/envs/meerkat/lib/python3.8/site-packages/IPython/extensions/autoreload.py\", line 455, in superreload\n",
      "    module = reload(module)\n",
      "  File \"/Users/eyubogln/miniconda3/envs/meerkat/lib/python3.8/importlib/__init__.py\", line 169, in reload\n",
      "    _bootstrap._exec(spec, module)\n",
      "  File \"<frozen importlib._bootstrap>\", line 604, in _exec\n",
      "  File \"<frozen importlib._bootstrap_external>\", line 843, in exec_module\n",
      "  File \"<frozen importlib._bootstrap>\", line 219, in _call_with_frames_removed\n",
      "  File \"/Users/eyubogln/code/meerkat/meerkat/state.py\", line 5, in <module>\n",
      "    from meerkat.mixins.identifiable import IdentifiableGroup\n",
      "ImportError: cannot import name 'IdentifiableGroup' from 'meerkat.mixins.identifiable' (/Users/eyubogln/code/meerkat/meerkat/mixins/identifiable.py)\n",
      "]\n",
      "[autoreload of meerkat.interactive.state failed: Traceback (most recent call last):\n",
      "  File \"/Users/eyubogln/miniconda3/envs/meerkat/lib/python3.8/site-packages/IPython/extensions/autoreload.py\", line 257, in check\n",
      "    superreload(m, reload, self.old_objects)\n",
      "  File \"/Users/eyubogln/miniconda3/envs/meerkat/lib/python3.8/site-packages/IPython/extensions/autoreload.py\", line 455, in superreload\n",
      "    module = reload(module)\n",
      "  File \"/Users/eyubogln/miniconda3/envs/meerkat/lib/python3.8/importlib/__init__.py\", line 169, in reload\n",
      "    _bootstrap._exec(spec, module)\n",
      "  File \"<frozen importlib._bootstrap>\", line 604, in _exec\n",
      "  File \"<frozen importlib._bootstrap_external>\", line 843, in exec_module\n",
      "  File \"<frozen importlib._bootstrap>\", line 219, in _call_with_frames_removed\n",
      "  File \"/Users/eyubogln/code/meerkat/meerkat/interactive/state.py\", line 12, in <module>\n",
      "    from meerkat.mixins.identifiable import IdentifiableGroup, IdentifiableMixin\n",
      "ImportError: cannot import name 'IdentifiableGroup' from 'meerkat.mixins.identifiable' (/Users/eyubogln/code/meerkat/meerkat/mixins/identifiable.py)\n",
      "]\n"
     ]
    },
    {
     "ename": "KeyError",
     "evalue": "'aksjbd'",
     "output_type": "error",
     "traceback": [
      "\u001b[0;31m---------------------------------------------------------------------------\u001b[0m",
      "\u001b[0;31mKeyError\u001b[0m                                  Traceback (most recent call last)",
      "\u001b[1;32mUntitled-1.ipynb Cell 18'\u001b[0m in \u001b[0;36m<cell line: 2>\u001b[0;34m()\u001b[0m\n\u001b[1;32m      <a href='vscode-notebook-cell:Untitled-1.ipynb?jupyter-notebook#ch0000006untitled?line=0'>1</a>\u001b[0m obj \u001b[39m=\u001b[39m \u001b[39mdict\u001b[39m()\n\u001b[0;32m----> <a href='vscode-notebook-cell:Untitled-1.ipynb?jupyter-notebook#ch0000006untitled?line=1'>2</a>\u001b[0m obj[\u001b[39m\"\u001b[39;49m\u001b[39maksjbd\u001b[39;49m\u001b[39m\"\u001b[39;49m]\n",
      "\u001b[0;31mKeyError\u001b[0m: 'aksjbd'"
     ]
    },
    {
     "name": "stdout",
     "output_type": "stream",
     "text": [
      "1:56:03 PM [vite] hmr update /src/routes/interface.svelte\n",
      "hmr update /src/app.css\n",
      "1:56:25 PM [vite] hmr update /src/routes/interface.svelte\n",
      "hmr update /src/app.css\n",
      "1:59:01 PM [vite] hmr update /src/routes/interface.svelte\n",
      "hmr update /src/app.css\n",
      "1:59:41 PM [vite] hmr update /src/lib/TableView.svelte\n",
      "hmr update /src/app.css\n",
      "1:59:41 PM [vite-plugin-svelte] /Users/eyubogln/code/meerkat/meerkat/interactive/app/src/lib/TableView.svelte:12:11 TableView has unused export property 'dp'. If it is for external reference only, please consider using `export const dp`\n",
      "2:07:44 PM [vite] hmr update /src/lib/TableView.svelte?svelte&type=style&lang.css\n",
      "hmr update /src/lib/TableView.svelte\n",
      "hmr update /src/app.css\n",
      "2:07:44 PM [vite-plugin-svelte] /Users/eyubogln/code/meerkat/meerkat/interactive/app/src/lib/TableView.svelte:16:37 'api_url' is not defined\n",
      "2:07:55 PM [vite] hmr update /src/lib/TableView.svelte\n",
      "hmr update /src/app.css\n",
      "2:07:55 PM [vite-plugin-svelte] /Users/eyubogln/code/meerkat/meerkat/interactive/app/src/lib/TableView.svelte:16:37 'api_url' is not defined\n",
      "2:07:56 PM [vite-plugin-svelte] /Users/eyubogln/code/meerkat/meerkat/interactive/app/src/lib/TableView.svelte:16:37 'api_url' is not defined\n",
      "2:07:57 PM [vite] hmr update /src/lib/TableView.svelte\n",
      "hmr update /src/routes/__layout.svelte\n",
      "2:07:57 PM [vite-plugin-svelte] /Users/eyubogln/code/meerkat/meerkat/interactive/app/src/lib/TableView.svelte:16:37 'api_url' is not defined\n",
      "2:07:57 PM [vite-plugin-svelte] /Users/eyubogln/code/meerkat/meerkat/interactive/app/src/lib/TableView.svelte:16:37 'api_url' is not defined\n",
      "2:08:10 PM [vite] hmr update /src/lib/TableView.svelte\n",
      "hmr update /src/routes/__layout.svelte\n",
      "2:08:10 PM [vite-plugin-svelte] /Users/eyubogln/code/meerkat/meerkat/interactive/app/src/lib/TableView.svelte:17:37 'api_url' is not defined\n",
      "2:08:27 PM [vite] hmr update /src/routes/interface.svelte\n",
      "hmr update /src/routes/__layout.svelte\n",
      "2:08:27 PM [vite-plugin-svelte] /Users/eyubogln/code/meerkat/meerkat/interactive/app/src/routes/interface.svelte:28:9 'data_promise' is not defined\n",
      "2:08:27 PM [vite-plugin-svelte] /Users/eyubogln/code/meerkat/meerkat/interactive/app/src/routes/interface.svelte:29:39 'rows' is not defined\n",
      "2:08:27 PM [vite-plugin-svelte] /Users/eyubogln/code/meerkat/meerkat/interactive/app/src/routes/interface.svelte:29:46 'types' is not defined\n",
      "2:08:27 PM [vite-plugin-svelte] /Users/eyubogln/code/meerkat/meerkat/interactive/app/src/routes/interface.svelte:29:54 'loader' is not defined\n",
      "2:08:27 PM [vite-plugin-svelte] /Users/eyubogln/code/meerkat/meerkat/interactive/app/src/routes/interface.svelte:24:11 Interface has unused export property 'interface_id'. If it is for external reference only, please consider using `export const interface_id`\n",
      "2:08:50 PM [vite] hmr update /src/routes/interface.svelte\n",
      "hmr update /src/app.css\n",
      "2:08:50 PM [vite-plugin-svelte] /Users/eyubogln/code/meerkat/meerkat/interactive/app/src/routes/interface.svelte:24:11 Interface has unused export property 'interface_id'. If it is for external reference only, please consider using `export const interface_id`\n",
      "2:08:52 PM [vite-plugin-svelte] /Users/eyubogln/code/meerkat/meerkat/interactive/app/src/routes/interface.svelte:24:11 Interface has unused export property 'interface_id'. If it is for external reference only, please consider using `export const interface_id`\n"
     ]
    },
    {
     "name": "stderr",
     "output_type": "stream",
     "text": [
      "2:08:52 PM [vite-plugin-svelte] ignoring compiler output js change for /Users/eyubogln/code/meerkat/meerkat/interactive/app/src/routes/interface.svelte as it is equal to previous output after normalization\n"
     ]
    }
   ],
   "source": [
    "obj = dict()\n",
    "obj[\"aksjbd\"]"
   ]
  },
  {
   "cell_type": "code",
   "execution_count": null,
   "metadata": {},
   "outputs": [],
   "source": []
  }
 ],
 "metadata": {
  "kernelspec": {
   "display_name": "Python 3.8.11 ('meerkat')",
   "language": "python",
   "name": "python3"
  },
  "language_info": {
   "codemirror_mode": {
    "name": "ipython",
    "version": 3
   },
   "file_extension": ".py",
   "mimetype": "text/x-python",
   "name": "python",
   "nbconvert_exporter": "python",
   "pygments_lexer": "ipython3",
   "version": "3.8.11"
  },
  "orig_nbformat": 4,
  "vscode": {
   "interpreter": {
    "hash": "96dff6f5004106d02e498591bec065b0f2cd6ad02b2a1a76f1b2f4046570fc42"
   }
  }
 },
 "nbformat": 4,
 "nbformat_minor": 2
}
