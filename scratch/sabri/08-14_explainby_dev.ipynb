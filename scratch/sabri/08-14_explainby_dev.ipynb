{
 "cells": [
  {
   "cell_type": "code",
   "execution_count": 1,
   "metadata": {},
   "outputs": [],
   "source": [
    "%load_ext autoreload\n",
    "%autoreload 2"
   ]
  },
  {
   "cell_type": "code",
   "execution_count": 2,
   "metadata": {},
   "outputs": [],
   "source": [
    "import meerkat as mk\n",
    "import pathlib\n",
    "\n"
   ]
  },
  {
   "cell_type": "code",
   "execution_count": 3,
   "metadata": {},
   "outputs": [
    {
     "name": "stdout",
     "output_type": "stream",
     "text": [
      "\n",
      "> src@0.0.1 dev\n",
      "> vite dev \"--port\" \"7862\"\n",
      "\n",
      "\n",
      "  VITE v3.0.3  ready in 339 ms\n",
      "\n",
      "  ➜  Local:   http://localhost:7862/\n",
      "  ➜  Network: use --host to expose\n"
     ]
    }
   ],
   "source": [
    "network, register_api = mk.interactive_mode()\n"
   ]
  },
  {
   "cell_type": "code",
   "execution_count": 4,
   "metadata": {},
   "outputs": [
    {
     "data": {
      "text/html": [
       "\n",
       "        <iframe\n",
       "            width=\"1\"\n",
       "            height=\"1\"\n",
       "            src=\"http://localhost:7862/network/register?api=http://127.0.0.1:7861\"\n",
       "            frameborder=\"0\"\n",
       "            allowfullscreen\n",
       "            \n",
       "        ></iframe>\n",
       "        "
      ],
      "text/plain": [
       "<IPython.lib.display.IFrame at 0x10654deb0>"
      ]
     },
     "execution_count": 4,
     "metadata": {},
     "output_type": "execute_result"
    },
    {
     "name": "stdout",
     "output_type": "stream",
     "text": [
      "11:52:14 PM [vite-plugin-svelte] /Users/eyubogln/code/meerkat/meerkat/interactive/app/src/lib/TableView.svelte:160:1 Unused CSS selector \".dark .table-view\"\n",
      "11:52:14 PM [vite-plugin-svelte] /Users/eyubogln/code/meerkat/meerkat/interactive/app/src/lib/components/sliceby/SliceCard.svelte:9:11 SliceCard has unused export property 'datapanel_id'. If it is for external reference only, please consider using `export const datapanel_id`\n",
      "11:52:14 PM [vite-plugin-svelte] /Users/eyubogln/code/meerkat/meerkat/interactive/app/src/lib/components/plot_header/PlotHeader.svelte:6:11 PlotHeader has unused export property 'rows_promise'. If it is for external reference only, please consider using `export const rows_promise`\n",
      "11:52:14 PM [vite-plugin-svelte] /Users/eyubogln/code/meerkat/meerkat/interactive/app/src/lib/components/gallery/Gallery.svelte:112:1 Unused CSS selector \".dark .panel\"\n",
      "11:52:14 PM [vite-plugin-svelte] /Users/eyubogln/code/meerkat/meerkat/interactive/app/src/lib/components/table/Table.svelte:102:1 Unused CSS selector \".dark .table\"\n",
      "11:52:15 PM [vite-plugin-svelte] /Users/eyubogln/code/meerkat/meerkat/interactive/app/src/lib/components/match_header/MatchHeader.svelte:104:1 Unused CSS selector \".list-container\"\n",
      "11:52:15 PM [vite-plugin-svelte] /Users/eyubogln/code/meerkat/meerkat/interactive/app/src/lib/components/filter_header/FilterHeader.svelte:133:1 Unused CSS selector \".list-container\"\n",
      "11:52:15 PM [vite-plugin-svelte] /Users/eyubogln/code/meerkat/meerkat/interactive/app/src/lib/components/row/RowCard.svelte:21:11 RowCard has unused export property 'layout'. If it is for external reference only, please consider using `export const layout`\n",
      "11:52:15 PM [vite-plugin-svelte] /Users/eyubogln/code/meerkat/meerkat/interactive/app/src/lib/components/row/RowCard.svelte:24:11 RowCard has unused export property 'card_flex_grow'. If it is for external reference only, please consider using `export const card_flex_grow`\n",
      "11:52:15 PM [vite-plugin-svelte] /Users/eyubogln/code/meerkat/meerkat/interactive/app/src/lib/components/row/RowCard.svelte:53:11 RowCard has unused export property 'main_modal'. If it is for external reference only, please consider using `export const main_modal`\n",
      "11:52:15 PM [vite-plugin-svelte] /Users/eyubogln/code/meerkat/meerkat/interactive/app/src/lib/components/common/Toggle.svelte:31:0 Unused CSS selector \".dark .label\"\n",
      "11:52:15 PM [vite-plugin-svelte] /Users/eyubogln/code/meerkat/meerkat/interactive/app/src/lib/components/common/Toggle.svelte:74:1 Unused CSS selector \".dark .toggle\"\n",
      "11:52:15 PM [vite-plugin-svelte] /Users/eyubogln/code/meerkat/meerkat/interactive/app/src/lib/components/common/Slider.svelte:6:11 Slider has unused export property 'size'. If it is for external reference only, please consider using `export const size`\n",
      "11:52:15 PM [vite-plugin-svelte] /Users/eyubogln/code/meerkat/meerkat/interactive/app/src/lib/components/gallery/Card.svelte:101:1 Unused CSS selector \".card\"\n",
      "11:52:15 PM [vite-plugin-svelte] /Users/eyubogln/code/meerkat/meerkat/interactive/app/src/lib/components/gallery/Card.svelte:111:1 Unused CSS selector \".dark .card\"\n",
      "11:52:15 PM [vite-plugin-svelte] /Users/eyubogln/code/meerkat/meerkat/interactive/app/src/lib/components/gallery/Card.svelte:146:1 Unused CSS selector \".subcontent\"\n",
      "11:52:15 PM [vite-plugin-svelte] /Users/eyubogln/code/meerkat/meerkat/interactive/app/src/lib/components/gallery/Card.svelte:168:1 Unused CSS selector \".subcontent:hover\"\n"
     ]
    }
   ],
   "source": [
    "register_api()\n"
   ]
  },
  {
   "cell_type": "code",
   "execution_count": 5,
   "metadata": {},
   "outputs": [],
   "source": [
    "dp = mk.get(\"rfw\")"
   ]
  },
  {
   "cell_type": "code",
   "execution_count": 6,
   "metadata": {},
   "outputs": [
    {
     "data": {
      "text/plain": [
       "['image_id',\n",
       " 'identity',\n",
       " 'ethnicity',\n",
       " 'image',\n",
       " 'v6_fnmr',\n",
       " 'clip(image)',\n",
       " 'MixtureSlicer(image,v6_fnmr)']"
      ]
     },
     "execution_count": 6,
     "metadata": {},
     "output_type": "execute_result"
    }
   ],
   "source": [
    "\n",
    "base_dir = pathlib.Path(\"/Users/eyubogln/.meerkat/datasets/rfw/\")\n",
    "dp = mk.get(\"rfw\")\n",
    "dp.columns\n",
    "dp = dp.merge(\n",
    "\tmk.DataPanel.from_csv(base_dir / \"themis/facecompare_v6_errors.csv\"),\n",
    "\ton=\"image_id\",\n",
    ")\n",
    "dp = dp.merge(\n",
    "    mk.DataPanel.read(base_dir / \"main/rfw_embedded.mk\")[\"image_id\", \"clip(image)\"],\n",
    "    on=\"image_id\"\n",
    ")\n",
    "dp = dp.merge(\n",
    "    mk.DataPanel.read(base_dir / \"main/rfw_explained.mk\"),\n",
    "    on=\"image_id\"\n",
    ")\n",
    "dp.columns"
   ]
  },
  {
   "cell_type": "code",
   "execution_count": 10,
   "metadata": {},
   "outputs": [
    {
     "data": {
      "application/vnd.jupyter.widget-view+json": {
       "model_id": "9a148735aa0d4a4dbd3736613f7a9249",
       "version_major": 2,
       "version_minor": 0
      },
      "text/plain": [
       "  0%|          | 0/100 [00:00<?, ?it/s]"
      ]
     },
     "metadata": {},
     "output_type": "display_data"
    }
   ],
   "source": [
    "from meerkat.ops.explain import explain \n",
    "dp, _ = explain(dp, input=\"image\", target=\"v6_fnmr\", n_slices=10)\n",
    "#dp[\"image_id\", \"MixtureSlicer(image,v6_fnmr)\"].write(base_dir / \"main/rfw_explained.mk\")"
   ]
  },
  {
   "cell_type": "code",
   "execution_count": 8,
   "metadata": {},
   "outputs": [],
   "source": [
    "from meerkat.ops.sliceby.explainby import explainby\n",
    "eb = explainby(dp, by=\"image\", target=\"v6_fnmr\")"
   ]
  },
  {
   "cell_type": "code",
   "execution_count": 9,
   "metadata": {},
   "outputs": [
    {
     "data": {
      "text/html": [
       "\n",
       "        <iframe\n",
       "            width=\"100%\"\n",
       "            height=\"1000\"\n",
       "            src=\"http://localhost:7862/interface?id=41f81bdd8e804c3ab928215b0ea5c6ec\"\n",
       "            frameborder=\"0\"\n",
       "            allowfullscreen\n",
       "            \n",
       "        ></iframe>\n",
       "        "
      ],
      "text/plain": [
       "<IPython.lib.display.IFrame at 0x14fa75400>"
      ]
     },
     "execution_count": 9,
     "metadata": {},
     "output_type": "execute_result"
    },
    {
     "name": "stdout",
     "output_type": "stream",
     "text": [
      "Mean FNMR\n",
      "02b302896a584224b1f5b218754e064c\n",
      "STD FNMR\n",
      "e877fbeb64f04aaea9c0f008aba6d99a\n",
      "Size\n",
      "385a1e04b80846369733b8f9085e122a\n",
      "{\n",
      "  'Mean FNMR': {\n",
      "    dp: {\n",
      "      '0': ' 0.098148',\n",
      "      '1': ' 0.049844',\n",
      "      '2': ' 0.043199',\n",
      "      '3': ' 0.036155',\n",
      "      '4': ' 0.035319',\n",
      "      '5': ' 0.034298',\n",
      "      '6': ' 0.033904',\n",
      "      '7': ' 0.030161',\n",
      "      '8': ' 0.021534',\n",
      "      '9': ' 0.019941'\n",
      "    }\n",
      "  },\n",
      "  'STD FNMR': {\n",
      "    dp: {\n",
      "      '0': ' 0.2434',\n",
      "      '1': ' 0.156703',\n",
      "      '2': ' 0.154736',\n",
      "      '3': ' 0.139139',\n",
      "      '4': ' 0.142509',\n",
      "      '5': ' 0.123678',\n",
      "      '6': ' 0.128892',\n",
      "      '7': ' 0.120182',\n",
      "      '8': ' 0.1024',\n",
      "      '9': ' 0.106518'\n",
      "    }\n",
      "  },\n",
      "  Size: {\n",
      "    dp: {\n",
      "      '0': ' 351',\n",
      "      '1': ' 1391',\n",
      "      '2': ' 5590',\n",
      "      '3': ' 2333',\n",
      "      '4': ' 1427',\n",
      "      '5': ' 1106',\n",
      "      '6': ' 409',\n",
      "      '7': ' 930',\n",
      "      '8': ' 2503',\n",
      "      '9': ' 565'\n",
      "    }\n",
      "  }\n",
      "}\n",
      "11:53:09 PM [vite-plugin-svelte] /Users/eyubogln/code/meerkat/meerkat/interactive/app/src/lib/TableView.svelte:160:1 Unused CSS selector \".dark .table-view\"\n",
      "11:53:09 PM [vite-plugin-svelte] /Users/eyubogln/code/meerkat/meerkat/interactive/app/src/lib/components/sliceby/SliceCard.svelte:9:11 SliceCard has unused export property 'datapanel_id'. If it is for external reference only, please consider using `export const datapanel_id`\n",
      "11:53:10 PM [vite-plugin-svelte] /Users/eyubogln/code/meerkat/meerkat/interactive/app/src/lib/components/plot_header/PlotHeader.svelte:6:11 PlotHeader has unused export property 'rows_promise'. If it is for external reference only, please consider using `export const rows_promise`\n",
      "11:53:10 PM [vite-plugin-svelte] /Users/eyubogln/code/meerkat/meerkat/interactive/app/src/lib/components/match_header/MatchHeader.svelte:104:1 Unused CSS selector \".list-container\"\n",
      "11:53:10 PM [vite-plugin-svelte] /Users/eyubogln/code/meerkat/meerkat/interactive/app/src/lib/components/filter_header/FilterHeader.svelte:133:1 Unused CSS selector \".list-container\"\n",
      "11:53:10 PM [vite-plugin-svelte] /Users/eyubogln/code/meerkat/meerkat/interactive/app/src/lib/components/gallery/Gallery.svelte:112:1 Unused CSS selector \".dark .panel\"\n",
      "11:53:10 PM [vite-plugin-svelte] /Users/eyubogln/code/meerkat/meerkat/interactive/app/src/lib/components/table/Table.svelte:102:1 Unused CSS selector \".dark .table\"\n",
      "11:53:10 PM [vite-plugin-svelte] /Users/eyubogln/code/meerkat/meerkat/interactive/app/src/lib/components/row/RowCard.svelte:21:11 RowCard has unused export property 'layout'. If it is for external reference only, please consider using `export const layout`\n",
      "11:53:10 PM [vite-plugin-svelte] /Users/eyubogln/code/meerkat/meerkat/interactive/app/src/lib/components/row/RowCard.svelte:24:11 RowCard has unused export property 'card_flex_grow'. If it is for external reference only, please consider using `export const card_flex_grow`\n",
      "11:53:10 PM [vite-plugin-svelte] /Users/eyubogln/code/meerkat/meerkat/interactive/app/src/lib/components/row/RowCard.svelte:53:11 RowCard has unused export property 'main_modal'. If it is for external reference only, please consider using `export const main_modal`\n",
      "11:53:10 PM [vite-plugin-svelte] /Users/eyubogln/code/meerkat/meerkat/interactive/app/src/lib/components/common/Slider.svelte:6:11 Slider has unused export property 'size'. If it is for external reference only, please consider using `export const size`\n",
      "11:53:10 PM [vite-plugin-svelte] /Users/eyubogln/code/meerkat/meerkat/interactive/app/src/lib/components/common/Toggle.svelte:31:0 Unused CSS selector \".dark .label\"\n",
      "11:53:10 PM [vite-plugin-svelte] /Users/eyubogln/code/meerkat/meerkat/interactive/app/src/lib/components/common/Toggle.svelte:74:1 Unused CSS selector \".dark .toggle\"\n",
      "11:53:10 PM [vite-plugin-svelte] /Users/eyubogln/code/meerkat/meerkat/interactive/app/src/lib/components/gallery/Card.svelte:101:1 Unused CSS selector \".card\"\n",
      "11:53:10 PM [vite-plugin-svelte] /Users/eyubogln/code/meerkat/meerkat/interactive/app/src/lib/components/gallery/Card.svelte:111:1 Unused CSS selector \".dark .card\"\n",
      "11:53:10 PM [vite-plugin-svelte] /Users/eyubogln/code/meerkat/meerkat/interactive/app/src/lib/components/gallery/Card.svelte:146:1 Unused CSS selector \".subcontent\"\n",
      "11:53:10 PM [vite-plugin-svelte] /Users/eyubogln/code/meerkat/meerkat/interactive/app/src/lib/components/gallery/Card.svelte:168:1 Unused CSS selector \".subcontent:hover\"\n"
     ]
    }
   ],
   "source": [
    "eb.gui.cards(\n",
    "    main_column=\"image\", \n",
    "    tag_columns=[\"v6_fnmr\", \"ethnicity\"],\n",
    "    aggregations={\n",
    "        \"Mean FNMR\": lambda x: x[\"v6_fnmr\"].mean(),\n",
    "        \"STD FNMR\": lambda x: x[\"v6_fnmr\"].std(),\n",
    "        \"Size\": len,\n",
    "    }\n",
    ")"
   ]
  },
  {
   "cell_type": "code",
   "execution_count": null,
   "metadata": {},
   "outputs": [],
   "source": [
    "dp = dp.merge(\n",
    "    mk.DataPanel.read(base_dir / \"main/rfw_embedded.mk\")[\"image_id\", \"clip(image)\"],\n",
    "    on=\"image_id\"\n",
    ")"
   ]
  },
  {
   "cell_type": "code",
   "execution_count": null,
   "metadata": {},
   "outputs": [],
   "source": [
    "dp.gui.table()"
   ]
  },
  {
   "cell_type": "code",
   "execution_count": 8,
   "metadata": {},
   "outputs": [
    {
     "data": {
      "text/html": [
       "\n",
       "        <iframe\n",
       "            width=\"100%\"\n",
       "            height=\"1000\"\n",
       "            src=\"http://localhost:7862/interface?id=04574ee178e34867b27f6bac8c4b6024\"\n",
       "            frameborder=\"0\"\n",
       "            allowfullscreen\n",
       "            \n",
       "        ></iframe>\n",
       "        "
      ],
      "text/plain": [
       "<IPython.lib.display.IFrame at 0x2abfc09a0>"
      ]
     },
     "execution_count": 8,
     "metadata": {},
     "output_type": "execute_result"
    },
    {
     "name": "stdout",
     "output_type": "stream",
     "text": [
      "Mean FNMR\n",
      "3dfff492e5e04cadbe13031c9cecc4dd\n",
      "Mean FNMR2\n",
      "426b74286a664feda01c26299e1634cb\n",
      "{\n",
      "  'Mean FNMR': {\n",
      "    dp: {\n",
      "      '0': ' 0.286989',\n",
      "      '1': ' 0.291196',\n",
      "      '2': ' 0.292411',\n",
      "      '3': ' 0.293669',\n",
      "      '4': ' 0.305658',\n",
      "      '5': ' 0.298995',\n",
      "      '6': ' 0.294161',\n",
      "      '7': ' 0.276256'\n",
      "    }\n",
      "  },\n",
      "  'Mean FNMR2': {\n",
      "    dp: {\n",
      "      '0': ' 0.286989',\n",
      "      '1': ' 0.291196',\n",
      "      '2': ' 0.292411',\n",
      "      '3': ' 0.293669',\n",
      "      '4': ' 0.305658',\n",
      "      '5': ' 0.298995',\n",
      "      '6': ' 0.294161',\n",
      "      '7': ' 0.276256'\n",
      "    }\n",
      "  }\n",
      "}\n",
      "5:47:13 PM [vite] hmr update /src/lib/components/sliceby/SliceCard.svelte\n",
      "hmr update /src/routes/__layout.svelte\n",
      "5:47:14 PM [vite-plugin-svelte] /Users/eyubogln/code/meerkat/meerkat/interactive/app/src/lib/components/sliceby/SliceCard.svelte:9:11 SliceCard has unused export property 'datapanel_id'. If it is for external reference only, please consider using `export const datapanel_id`\n",
      "5:48:27 PM [vite] hmr update /src/lib/components/sliceby/SliceCards.svelte\n",
      "hmr update /src/app.css\n",
      "5:48:34 PM [vite] hmr update /src/lib/components/sliceby/SliceCards.svelte\n",
      "hmr update /src/app.css\n",
      "5:48:37 PM [vite] hmr update /src/lib/components/sliceby/SliceCards.svelte\n",
      "hmr update /src/app.css\n",
      "5:48:50 PM [vite] hmr update /src/lib/components/sliceby/SliceCards.svelte\n",
      "hmr update /src/app.css\n",
      "5:48:54 PM [vite] hmr update /src/lib/components/sliceby/SliceCards.svelte\n",
      "hmr update /src/app.css\n",
      "5:48:58 PM [vite] hmr update /src/lib/components/sliceby/SliceCards.svelte\n",
      "hmr update /src/app.css\n",
      "5:49:01 PM [vite] hmr update /src/lib/components/sliceby/SliceCards.svelte\n",
      "hmr update /src/app.css\n",
      "5:49:56 PM [vite] hmr update /src/lib/components/sliceby/SliceCard.svelte?svelte&type=style&lang.css\n",
      "hmr update /src/lib/components/sliceby/SliceCard.svelte\n",
      "hmr update /src/app.css\n",
      "5:49:56 PM [vite-plugin-svelte] /Users/eyubogln/code/meerkat/meerkat/interactive/app/src/lib/components/sliceby/SliceCard.svelte:9:11 SliceCard has unused export property 'datapanel_id'. If it is for external reference only, please consider using `export const datapanel_id`\n",
      "5:49:56 PM [vite-plugin-svelte] /Users/eyubogln/code/meerkat/meerkat/interactive/app/src/lib/components/sliceby/SliceCard.svelte:103:1 Unused CSS selector \".no-scrollbar::-webkit-scrollbar\"\n",
      "5:49:56 PM [vite-plugin-svelte] /Users/eyubogln/code/meerkat/meerkat/interactive/app/src/lib/components/sliceby/SliceCard.svelte:106:1 Unused CSS selector \".no-scrollbar\"\n",
      "5:50:05 PM [vite] hmr update /src/lib/components/sliceby/SliceCard.svelte?svelte&type=style&lang.css\n",
      "hmr update /src/lib/components/sliceby/SliceCard.svelte\n",
      "hmr update /src/app.css\n",
      "5:50:05 PM [vite-plugin-svelte] /Users/eyubogln/code/meerkat/meerkat/interactive/app/src/lib/components/sliceby/SliceCard.svelte:9:11 SliceCard has unused export property 'datapanel_id'. If it is for external reference only, please consider using `export const datapanel_id`\n",
      "5:50:05 PM [vite-plugin-svelte] /Users/eyubogln/code/meerkat/meerkat/interactive/app/src/lib/components/sliceby/SliceCard.svelte:9:11 SliceCard has unused export property 'datapanel_id'. If it is for external reference only, please consider using `export const datapanel_id`\n",
      "5:51:59 PM [vite] hmr update /src/lib/components/sliceby/SliceCard.svelte\n",
      "hmr update /src/app.css\n",
      "5:51:59 PM [vite-plugin-svelte] /Users/eyubogln/code/meerkat/meerkat/interactive/app/src/lib/components/sliceby/SliceCard.svelte:9:11 SliceCard has unused export property 'datapanel_id'. If it is for external reference only, please consider using `export const datapanel_id`\n",
      "5:53:13 PM [vite] hmr update /src/lib/components/sliceby/SliceCards.svelte\n",
      "hmr update /src/app.css\n",
      "5:53:18 PM [vite] hmr update /src/lib/components/sliceby/SliceCards.svelte\n",
      "hmr update /src/app.css\n",
      "5:53:51 PM [vite] hmr update /src/lib/components/sliceby/SliceCard.svelte\n",
      "hmr update /src/app.css\n",
      "5:53:51 PM [vite-plugin-svelte] /Users/eyubogln/code/meerkat/meerkat/interactive/app/src/lib/components/sliceby/SliceCard.svelte:9:11 SliceCard has unused export property 'datapanel_id'. If it is for external reference only, please consider using `export const datapanel_id`\n",
      "5:54:05 PM [vite] hmr update /src/lib/components/sliceby/SliceCard.svelte\n",
      "hmr update /src/app.css\n",
      "5:54:05 PM [vite-plugin-svelte] /Users/eyubogln/code/meerkat/meerkat/interactive/app/src/lib/components/sliceby/SliceCard.svelte:9:11 SliceCard has unused export property 'datapanel_id'. If it is for external reference only, please consider using `export const datapanel_id`\n",
      "5:54:18 PM [vite] hmr update /src/lib/components/sliceby/SliceCard.svelte\n",
      "hmr update /src/app.css\n",
      "5:54:18 PM [vite-plugin-svelte] /Users/eyubogln/code/meerkat/meerkat/interactive/app/src/lib/components/sliceby/SliceCard.svelte:9:11 SliceCard has unused export property 'datapanel_id'. If it is for external reference only, please consider using `export const datapanel_id`\n",
      "5:54:18 PM [vite-plugin-svelte] /Users/eyubogln/code/meerkat/meerkat/interactive/app/src/lib/components/sliceby/SliceCard.svelte:9:11 SliceCard has unused export property 'datapanel_id'. If it is for external reference only, please consider using `export const datapanel_id`\n",
      "5:56:06 PM [vite] hmr update /src/lib/components/sliceby/SliceCard.svelte\n",
      "hmr update /src/app.css\n",
      "5:56:06 PM [vite-plugin-svelte] /Users/eyubogln/code/meerkat/meerkat/interactive/app/src/lib/components/sliceby/SliceCard.svelte:9:11 SliceCard has unused export property 'datapanel_id'. If it is for external reference only, please consider using `export const datapanel_id`\n",
      "5:56:20 PM [vite] hmr update /src/lib/components/sliceby/SliceCard.svelte\n",
      "hmr update /src/app.css\n",
      "5:56:20 PM [vite-plugin-svelte] /Users/eyubogln/code/meerkat/meerkat/interactive/app/src/lib/components/sliceby/SliceCard.svelte:9:11 SliceCard has unused export property 'datapanel_id'. If it is for external reference only, please consider using `export const datapanel_id`\n",
      "5:56:36 PM [vite] hmr update /src/lib/components/sliceby/SliceCard.svelte\n",
      "hmr update /src/app.css\n",
      "5:56:36 PM [vite-plugin-svelte] /Users/eyubogln/code/meerkat/meerkat/interactive/app/src/lib/components/sliceby/SliceCard.svelte:9:11 SliceCard has unused export property 'datapanel_id'. If it is for external reference only, please consider using `export const datapanel_id`\n",
      "5:57:30 PM [vite] hmr update /src/lib/components/sliceby/SliceCard.svelte\n",
      "hmr update /src/app.css\n",
      "5:57:30 PM [vite-plugin-svelte] /Users/eyubogln/code/meerkat/meerkat/interactive/app/src/lib/components/sliceby/SliceCard.svelte:9:11 SliceCard has unused export property 'datapanel_id'. If it is for external reference only, please consider using `export const datapanel_id`\n",
      "5:57:36 PM [vite] hmr update /src/lib/components/sliceby/SliceCard.svelte\n",
      "hmr update /src/app.css\n",
      "5:57:36 PM [vite-plugin-svelte] /Users/eyubogln/code/meerkat/meerkat/interactive/app/src/lib/components/sliceby/SliceCard.svelte:9:11 SliceCard has unused export property 'datapanel_id'. If it is for external reference only, please consider using `export const datapanel_id`\n",
      "5:57:40 PM [vite] hmr update /src/lib/components/sliceby/SliceCard.svelte\n",
      "hmr update /src/app.css\n",
      "5:57:40 PM [vite-plugin-svelte] /Users/eyubogln/code/meerkat/meerkat/interactive/app/src/lib/components/sliceby/SliceCard.svelte:9:11 SliceCard has unused export property 'datapanel_id'. If it is for external reference only, please consider using `export const datapanel_id`\n",
      "5:57:42 PM [vite] hmr update /src/lib/components/sliceby/SliceCard.svelte\n",
      "hmr update /src/app.css\n",
      "5:57:42 PM [vite-plugin-svelte] /Users/eyubogln/code/meerkat/meerkat/interactive/app/src/lib/components/sliceby/SliceCard.svelte:9:11 SliceCard has unused export property 'datapanel_id'. If it is for external reference only, please consider using `export const datapanel_id`\n",
      "5:57:58 PM [vite-plugin-svelte] /Users/eyubogln/code/meerkat/meerkat/interactive/app/src/lib/components/sliceby/SliceCard.svelte:9:11 SliceCard has unused export property 'datapanel_id'. If it is for external reference only, please consider using `export const datapanel_id`\n",
      "5:58:13 PM [vite] hmr update /src/lib/components/sliceby/SliceCard.svelte\n",
      "hmr update /src/app.css\n",
      "5:58:13 PM [vite-plugin-svelte] /Users/eyubogln/code/meerkat/meerkat/interactive/app/src/lib/components/sliceby/SliceCard.svelte:9:11 SliceCard has unused export property 'datapanel_id'. If it is for external reference only, please consider using `export const datapanel_id`\n",
      "5:58:17 PM [vite] hmr update /src/lib/components/sliceby/SliceCard.svelte\n",
      "hmr update /src/app.css\n",
      "5:58:17 PM [vite-plugin-svelte] /Users/eyubogln/code/meerkat/meerkat/interactive/app/src/lib/components/sliceby/SliceCard.svelte:9:11 SliceCard has unused export property 'datapanel_id'. If it is for external reference only, please consider using `export const datapanel_id`\n",
      "5:58:19 PM [vite] hmr update /src/lib/components/sliceby/SliceCard.svelte\n",
      "hmr update /src/app.css\n",
      "5:58:19 PM [vite-plugin-svelte] /Users/eyubogln/code/meerkat/meerkat/interactive/app/src/lib/components/sliceby/SliceCard.svelte:9:11 SliceCard has unused export property 'datapanel_id'. If it is for external reference only, please consider using `export const datapanel_id`\n",
      "6:01:06 PM [vite] hmr update /src/routes/network/register.svelte\n",
      "hmr update /src/app.css\n",
      "hmr update /src/app.css\n",
      "hmr update /src/routes/interface.svelte\n",
      "hmr update /src/app.css\n",
      "hmr update /src/lib/components/sliceby/SliceCards.svelte\n",
      "hmr update /src/app.css\n",
      "hmr update /src/lib/TableView.svelte\n",
      "hmr update /src/app.css\n",
      "hmr update /src/lib/components/sliceby/SliceCard.svelte\n",
      "hmr update /src/app.css\n",
      "hmr update /src/lib/components/plot_header/PlotHeader.svelte\n",
      "hmr update /src/app.css\n",
      "hmr update /src/lib/components/match_header/MatchHeader.svelte\n",
      "hmr update /src/app.css\n",
      "hmr update /src/lib/components/filter_header/FilterHeader.svelte\n",
      "hmr update /src/app.css\n",
      "6:01:06 PM [vite] page reload .svelte-kit/runtime/client/singletons.js\n",
      "6:01:06 PM [vite] page reload .svelte-kit/runtime/client/start.js\n",
      "6:01:06 PM [vite] hmr update /.svelte-kit/runtime/components/error.svelte\n",
      "6:01:06 PM [vite] hmr update /src/routes/network/register.svelte\n",
      "hmr update /src/app.css\n",
      "hmr update /src/app.css\n",
      "hmr update /src/routes/interface.svelte\n",
      "hmr update /src/app.css\n",
      "hmr update /src/lib/components/sliceby/SliceCards.svelte\n",
      "hmr update /src/app.css\n",
      "hmr update /src/lib/TableView.svelte\n",
      "hmr update /src/app.css\n",
      "hmr update /src/lib/components/sliceby/SliceCard.svelte\n",
      "hmr update /src/app.css\n",
      "hmr update /src/lib/components/plot_header/PlotHeader.svelte\n",
      "hmr update /src/app.css\n",
      "hmr update /src/lib/components/match_header/MatchHeader.svelte\n",
      "hmr update /src/app.css\n",
      "hmr update /src/lib/components/filter_header/FilterHeader.svelte\n",
      "hmr update /src/app.css\n",
      "6:01:06 PM [vite] page reload .svelte-kit/runtime/paths.js\n",
      "6:01:06 PM [vite] page reload .svelte-kit/generated/client-manifest.js\n",
      "6:01:06 PM [vite] page reload .svelte-kit/generated/client-matchers.js\n",
      "6:01:06 PM [vite-plugin-svelte] /Users/eyubogln/code/meerkat/meerkat/interactive/app/src/lib/components/plot_header/PlotHeader.svelte:6:11 PlotHeader has unused export property 'rows_promise'. If it is for external reference only, please consider using `export const rows_promise`\n",
      "6:01:06 PM [vite-plugin-svelte] /Users/eyubogln/code/meerkat/meerkat/interactive/app/src/lib/TableView.svelte:160:1 Unused CSS selector \".dark .table-view\"\n",
      "6:01:06 PM [vite-plugin-svelte] /Users/eyubogln/code/meerkat/meerkat/interactive/app/src/lib/components/sliceby/SliceCard.svelte:9:11 SliceCard has unused export property 'datapanel_id'. If it is for external reference only, please consider using `export const datapanel_id`\n",
      "6:01:06 PM [vite-plugin-svelte] /Users/eyubogln/code/meerkat/meerkat/interactive/app/src/lib/TableView.svelte:160:1 Unused CSS selector \".dark .table-view\"\n",
      "6:01:06 PM [vite-plugin-svelte] /Users/eyubogln/code/meerkat/meerkat/interactive/app/src/lib/components/sliceby/SliceCard.svelte:9:11 SliceCard has unused export property 'datapanel_id'. If it is for external reference only, please consider using `export const datapanel_id`\n",
      "6:01:06 PM [vite-plugin-svelte] /Users/eyubogln/code/meerkat/meerkat/interactive/app/src/lib/components/match_header/MatchHeader.svelte:104:1 Unused CSS selector \".list-container\"\n",
      "6:01:06 PM [vite-plugin-svelte] /Users/eyubogln/code/meerkat/meerkat/interactive/app/src/lib/components/match_header/MatchHeader.svelte:104:1 Unused CSS selector \".list-container\"\n",
      "6:01:06 PM [vite-plugin-svelte] /Users/eyubogln/code/meerkat/meerkat/interactive/app/src/lib/components/filter_header/FilterHeader.svelte:133:1 Unused CSS selector \".list-container\"\n",
      "6:01:06 PM [vite-plugin-svelte] /Users/eyubogln/code/meerkat/meerkat/interactive/app/src/lib/components/filter_header/FilterHeader.svelte:133:1 Unused CSS selector \".list-container\"\n",
      "6:01:06 PM [vite-plugin-svelte] /Users/eyubogln/code/meerkat/meerkat/interactive/app/src/lib/TableView.svelte:160:1 Unused CSS selector \".dark .table-view\"\n",
      "6:01:06 PM [vite-plugin-svelte] /Users/eyubogln/code/meerkat/meerkat/interactive/app/src/lib/components/plot_header/PlotHeader.svelte:6:11 PlotHeader has unused export property 'rows_promise'. If it is for external reference only, please consider using `export const rows_promise`\n",
      "6:01:06 PM [vite-plugin-svelte] /Users/eyubogln/code/meerkat/meerkat/interactive/app/src/lib/components/sliceby/SliceCard.svelte:9:11 SliceCard has unused export property 'datapanel_id'. If it is for external reference only, please consider using `export const datapanel_id`\n",
      "6:01:07 PM [vite-plugin-svelte] /Users/eyubogln/code/meerkat/meerkat/interactive/app/src/lib/components/filter_header/FilterHeader.svelte:133:1 Unused CSS selector \".list-container\"\n",
      "6:01:07 PM [vite-plugin-svelte] /Users/eyubogln/code/meerkat/meerkat/interactive/app/src/lib/components/match_header/MatchHeader.svelte:104:1 Unused CSS selector \".list-container\"\n",
      "Mean FNMR\n",
      "3dfff492e5e04cadbe13031c9cecc4dd\n",
      "Mean FNMR2\n",
      "426b74286a664feda01c26299e1634cb\n",
      "{\n",
      "  'Mean FNMR': {\n",
      "    dp: {\n",
      "      '0': ' 0.286989',\n",
      "      '1': ' 0.291196',\n",
      "      '2': ' 0.292411',\n",
      "      '3': ' 0.293669',\n",
      "      '4': ' 0.305658',\n",
      "      '5': ' 0.298995',\n",
      "      '6': ' 0.294161',\n",
      "      '7': ' 0.276256'\n",
      "    }\n",
      "  },\n",
      "  'Mean FNMR2': {\n",
      "    dp: {\n",
      "      '0': ' 0.286989',\n",
      "      '1': ' 0.291196',\n",
      "      '2': ' 0.292411',\n",
      "      '3': ' 0.293669',\n",
      "      '4': ' 0.305658',\n",
      "      '5': ' 0.298995',\n",
      "      '6': ' 0.294161',\n",
      "      '7': ' 0.276256'\n",
      "    }\n",
      "  }\n",
      "}\n",
      "6:01:39 PM [vite] hmr update /src/routes/network/register.svelte\n",
      "hmr update /src/routes/__layout.svelte\n",
      "hmr update /src/routes/__layout.svelte\n",
      "hmr update /src/routes/interface.svelte\n",
      "hmr update /src/routes/__layout.svelte\n",
      "hmr update /src/lib/components/sliceby/SliceCards.svelte\n",
      "hmr update /src/routes/__layout.svelte\n",
      "hmr update /src/lib/TableView.svelte\n",
      "hmr update /src/routes/__layout.svelte\n",
      "hmr update /src/lib/components/sliceby/SliceCard.svelte\n",
      "hmr update /src/routes/__layout.svelte\n",
      "hmr update /src/lib/components/plot_header/PlotHeader.svelte\n",
      "hmr update /src/routes/__layout.svelte\n",
      "hmr update /src/lib/components/match_header/MatchHeader.svelte\n",
      "hmr update /src/routes/__layout.svelte\n",
      "hmr update /src/lib/components/filter_header/FilterHeader.svelte\n",
      "hmr update /src/routes/__layout.svelte\n",
      "6:01:39 PM [vite] page reload .svelte-kit/runtime/client/singletons.js\n",
      "6:01:39 PM [vite] page reload .svelte-kit/runtime/client/start.js\n",
      "6:01:39 PM [vite] hmr update /src/routes/network/register.svelte\n",
      "hmr update /src/routes/__layout.svelte\n",
      "hmr update /src/routes/__layout.svelte\n",
      "hmr update /src/routes/interface.svelte\n",
      "hmr update /src/routes/__layout.svelte\n",
      "hmr update /src/lib/components/sliceby/SliceCards.svelte\n",
      "hmr update /src/routes/__layout.svelte\n",
      "hmr update /src/lib/TableView.svelte\n",
      "hmr update /src/routes/__layout.svelte\n",
      "hmr update /src/lib/components/sliceby/SliceCard.svelte\n",
      "hmr update /src/routes/__layout.svelte\n",
      "hmr update /src/lib/components/plot_header/PlotHeader.svelte\n",
      "hmr update /src/routes/__layout.svelte\n",
      "hmr update /src/lib/components/match_header/MatchHeader.svelte\n",
      "hmr update /src/routes/__layout.svelte\n",
      "hmr update /src/lib/components/filter_header/FilterHeader.svelte\n",
      "hmr update /src/routes/__layout.svelte\n",
      "6:01:39 PM [vite] page reload .svelte-kit/runtime/paths.js\n",
      "6:01:39 PM [vite] page reload .svelte-kit/generated/client-manifest.js\n",
      "6:01:39 PM [vite] page reload .svelte-kit/generated/client-matchers.js\n",
      "6:01:40 PM [vite-plugin-svelte] /Users/eyubogln/code/meerkat/meerkat/interactive/app/src/lib/components/plot_header/PlotHeader.svelte:6:11 PlotHeader has unused export property 'rows_promise'. If it is for external reference only, please consider using `export const rows_promise`\n",
      "6:01:40 PM [vite-plugin-svelte] /Users/eyubogln/code/meerkat/meerkat/interactive/app/src/lib/components/sliceby/SliceCard.svelte:9:11 SliceCard has unused export property 'datapanel_id'. If it is for external reference only, please consider using `export const datapanel_id`\n",
      "6:01:40 PM [vite-plugin-svelte] /Users/eyubogln/code/meerkat/meerkat/interactive/app/src/lib/TableView.svelte:160:1 Unused CSS selector \".dark .table-view\"\n",
      "6:01:40 PM [vite-plugin-svelte] /Users/eyubogln/code/meerkat/meerkat/interactive/app/src/lib/components/sliceby/SliceCard.svelte:9:11 SliceCard has unused export property 'datapanel_id'. If it is for external reference only, please consider using `export const datapanel_id`\n",
      "6:01:40 PM [vite-plugin-svelte] /Users/eyubogln/code/meerkat/meerkat/interactive/app/src/lib/TableView.svelte:160:1 Unused CSS selector \".dark .table-view\"\n",
      "6:01:40 PM [vite-plugin-svelte] /Users/eyubogln/code/meerkat/meerkat/interactive/app/src/lib/components/match_header/MatchHeader.svelte:104:1 Unused CSS selector \".list-container\"\n",
      "6:01:40 PM [vite-plugin-svelte] /Users/eyubogln/code/meerkat/meerkat/interactive/app/src/lib/components/filter_header/FilterHeader.svelte:133:1 Unused CSS selector \".list-container\"\n",
      "6:01:40 PM [vite-plugin-svelte] /Users/eyubogln/code/meerkat/meerkat/interactive/app/src/lib/components/match_header/MatchHeader.svelte:104:1 Unused CSS selector \".list-container\"\n",
      "6:01:40 PM [vite-plugin-svelte] /Users/eyubogln/code/meerkat/meerkat/interactive/app/src/lib/TableView.svelte:160:1 Unused CSS selector \".dark .table-view\"\n",
      "6:01:40 PM [vite-plugin-svelte] /Users/eyubogln/code/meerkat/meerkat/interactive/app/src/lib/components/sliceby/SliceCard.svelte:9:11 SliceCard has unused export property 'datapanel_id'. If it is for external reference only, please consider using `export const datapanel_id`\n",
      "6:01:40 PM [vite-plugin-svelte] /Users/eyubogln/code/meerkat/meerkat/interactive/app/src/lib/components/plot_header/PlotHeader.svelte:6:11 PlotHeader has unused export property 'rows_promise'. If it is for external reference only, please consider using `export const rows_promise`\n",
      "6:01:40 PM [vite-plugin-svelte] /Users/eyubogln/code/meerkat/meerkat/interactive/app/src/lib/components/filter_header/FilterHeader.svelte:133:1 Unused CSS selector \".list-container\"\n",
      "6:01:40 PM [vite-plugin-svelte] /Users/eyubogln/code/meerkat/meerkat/interactive/app/src/lib/components/match_header/MatchHeader.svelte:104:1 Unused CSS selector \".list-container\"\n",
      "6:01:40 PM [vite-plugin-svelte] /Users/eyubogln/code/meerkat/meerkat/interactive/app/src/lib/components/filter_header/FilterHeader.svelte:133:1 Unused CSS selector \".list-container\"\n",
      "Mean FNMR\n",
      "3dfff492e5e04cadbe13031c9cecc4dd\n",
      "Mean FNMR2\n",
      "426b74286a664feda01c26299e1634cb\n",
      "{\n",
      "  'Mean FNMR': {\n",
      "    dp: {\n",
      "      '0': ' 0.286989',\n",
      "      '1': ' 0.291196',\n",
      "      '2': ' 0.292411',\n",
      "      '3': ' 0.293669',\n",
      "      '4': ' 0.305658',\n",
      "      '5': ' 0.298995',\n",
      "      '6': ' 0.294161',\n",
      "      '7': ' 0.276256'\n",
      "    }\n",
      "  },\n",
      "  'Mean FNMR2': {\n",
      "    dp: {\n",
      "      '0': ' 0.286989',\n",
      "      '1': ' 0.291196',\n",
      "      '2': ' 0.292411',\n",
      "      '3': ' 0.293669',\n",
      "      '4': ' 0.305658',\n",
      "      '5': ' 0.298995',\n",
      "      '6': ' 0.294161',\n",
      "      '7': ' 0.276256'\n",
      "    }\n",
      "  }\n",
      "}\n"
     ]
    }
   ],
   "source": [
    "dp = mk.DataPanel.read(\n",
    "    \"/Users/eyubogln/code/meerkat/scratch/sabri/data/imagenette_clustered.mk\"\n",
    ")\n",
    "cb = dp.clusterby(by=\"img\")\n",
    "cb.gui.cards(\n",
    "    main_column=\"img\", \n",
    "    tag_columns=[\"label_idx\"], \n",
    "    aggregations={\n",
    "        \"Mean FNMR\": lambda dp: dp[\"is_valid\"].mean(),\n",
    "        \"Mean FNMR2\": lambda dp: dp[\"is_valid\"].mean()\n",
    "    }\n",
    ")\n"
   ]
  },
  {
   "cell_type": "code",
   "execution_count": 7,
   "metadata": {},
   "outputs": [],
   "source": [
    "dp = mk.DataPanel.read(\n",
    "    \"/Users/eyubogln/code/meerkat/scratch/sabri/data/imagenette_clustered.mk\"\n",
    ")"
   ]
  },
  {
   "cell_type": "code",
   "execution_count": 8,
   "metadata": {},
   "outputs": [
    {
     "data": {
      "text/html": [
       "\n",
       "        <iframe\n",
       "            width=\"100%\"\n",
       "            height=\"1000\"\n",
       "            src=\"http://localhost:7862/interface?id=6888fd98549345ce92e8655b90774d9d\"\n",
       "            frameborder=\"0\"\n",
       "            allowfullscreen\n",
       "            \n",
       "        ></iframe>\n",
       "        "
      ],
      "text/plain": [
       "<IPython.lib.display.IFrame at 0x15005b310>"
      ]
     },
     "execution_count": 8,
     "metadata": {},
     "output_type": "execute_result"
    },
    {
     "name": "stdout",
     "output_type": "stream",
     "text": [
      "2:35:45 PM [vite-plugin-svelte] /Users/eyubogln/code/meerkat/meerkat/interactive/app/src/lib/TableView.svelte:160:1 Unused CSS selector \".dark .table-view\"\n",
      "2:35:45 PM [vite-plugin-svelte] /Users/eyubogln/code/meerkat/meerkat/interactive/app/src/lib/components/plot_header/PlotHeader.svelte:6:11 PlotHeader has unused export property 'rows_promise'. If it is for external reference only, please consider using `export const rows_promise`\n",
      "2:35:45 PM [vite-plugin-svelte] /Users/eyubogln/code/meerkat/meerkat/interactive/app/src/lib/components/sliceby/SliceCard.svelte:8:11 SliceCard has unused export property 'datapanel_id'. If it is for external reference only, please consider using `export const datapanel_id`\n",
      "2:35:45 PM [vite-plugin-svelte] /Users/eyubogln/code/meerkat/meerkat/interactive/app/src/lib/components/table/Table.svelte:102:1 Unused CSS selector \".dark .table\"\n",
      "2:35:45 PM [vite-plugin-svelte] /Users/eyubogln/code/meerkat/meerkat/interactive/app/src/lib/components/match_header/MatchHeader.svelte:104:1 Unused CSS selector \".list-container\"\n",
      "2:35:46 PM [vite-plugin-svelte] /Users/eyubogln/code/meerkat/meerkat/interactive/app/src/lib/components/filter_header/FilterHeader.svelte:133:1 Unused CSS selector \".list-container\"\n",
      "2:35:46 PM [vite-plugin-svelte] /Users/eyubogln/code/meerkat/meerkat/interactive/app/src/lib/components/gallery/Gallery.svelte:112:1 Unused CSS selector \".dark .panel\"\n",
      "2:35:46 PM [vite-plugin-svelte] /Users/eyubogln/code/meerkat/meerkat/interactive/app/src/lib/components/common/Toggle.svelte:31:0 Unused CSS selector \".dark .label\"\n",
      "2:35:46 PM [vite-plugin-svelte] /Users/eyubogln/code/meerkat/meerkat/interactive/app/src/lib/components/common/Toggle.svelte:74:1 Unused CSS selector \".dark .toggle\"\n",
      "2:35:46 PM [vite-plugin-svelte] /Users/eyubogln/code/meerkat/meerkat/interactive/app/src/lib/components/common/Slider.svelte:6:11 Slider has unused export property 'size'. If it is for external reference only, please consider using `export const size`\n",
      "2:35:46 PM [vite-plugin-svelte] /Users/eyubogln/code/meerkat/meerkat/interactive/app/src/lib/components/row/RowCard.svelte:21:11 RowCard has unused export property 'layout'. If it is for external reference only, please consider using `export const layout`\n",
      "2:35:46 PM [vite-plugin-svelte] /Users/eyubogln/code/meerkat/meerkat/interactive/app/src/lib/components/row/RowCard.svelte:24:11 RowCard has unused export property 'card_flex_grow'. If it is for external reference only, please consider using `export const card_flex_grow`\n",
      "2:35:46 PM [vite-plugin-svelte] /Users/eyubogln/code/meerkat/meerkat/interactive/app/src/lib/components/row/RowCard.svelte:53:11 RowCard has unused export property 'main_modal'. If it is for external reference only, please consider using `export const main_modal`\n",
      "2:35:46 PM [vite-plugin-svelte] /Users/eyubogln/code/meerkat/meerkat/interactive/app/src/lib/components/gallery/Card.svelte:101:1 Unused CSS selector \".card\"\n",
      "2:35:46 PM [vite-plugin-svelte] /Users/eyubogln/code/meerkat/meerkat/interactive/app/src/lib/components/gallery/Card.svelte:111:1 Unused CSS selector \".dark .card\"\n",
      "2:35:46 PM [vite-plugin-svelte] /Users/eyubogln/code/meerkat/meerkat/interactive/app/src/lib/components/gallery/Card.svelte:146:1 Unused CSS selector \".subcontent\"\n",
      "2:35:46 PM [vite-plugin-svelte] /Users/eyubogln/code/meerkat/meerkat/interactive/app/src/lib/components/gallery/Card.svelte:168:1 Unused CSS selector \".subcontent:hover\"\n",
      "2:35:46 PM [vite-plugin-svelte] /Users/eyubogln/code/meerkat/meerkat/interactive/app/src/lib/TableView.svelte:160:1 Unused CSS selector \".dark .table-view\"\n",
      "2:35:47 PM [vite-plugin-svelte] /Users/eyubogln/code/meerkat/meerkat/interactive/app/src/lib/components/plot_header/PlotHeader.svelte:6:11 PlotHeader has unused export property 'rows_promise'. If it is for external reference only, please consider using `export const rows_promise`\n",
      "2:35:47 PM [vite-plugin-svelte] /Users/eyubogln/code/meerkat/meerkat/interactive/app/src/lib/components/sliceby/SliceCard.svelte:8:11 SliceCard has unused export property 'datapanel_id'. If it is for external reference only, please consider using `export const datapanel_id`\n",
      "2:35:47 PM [vite-plugin-svelte] /Users/eyubogln/code/meerkat/meerkat/interactive/app/src/lib/components/filter_header/FilterHeader.svelte:133:1 Unused CSS selector \".list-container\"\n",
      "2:35:47 PM [vite-plugin-svelte] /Users/eyubogln/code/meerkat/meerkat/interactive/app/src/lib/components/table/Table.svelte:102:1 Unused CSS selector \".dark .table\"\n",
      "2:35:47 PM [vite-plugin-svelte] /Users/eyubogln/code/meerkat/meerkat/interactive/app/src/lib/components/match_header/MatchHeader.svelte:104:1 Unused CSS selector \".list-container\"\n",
      "2:35:47 PM [vite-plugin-svelte] /Users/eyubogln/code/meerkat/meerkat/interactive/app/src/lib/components/gallery/Gallery.svelte:112:1 Unused CSS selector \".dark .panel\"\n",
      "2:35:47 PM [vite-plugin-svelte] /Users/eyubogln/code/meerkat/meerkat/interactive/app/src/lib/components/common/Toggle.svelte:31:0 Unused CSS selector \".dark .label\"\n",
      "2:35:47 PM [vite-plugin-svelte] /Users/eyubogln/code/meerkat/meerkat/interactive/app/src/lib/components/common/Toggle.svelte:74:1 Unused CSS selector \".dark .toggle\"\n",
      "2:35:47 PM [vite-plugin-svelte] /Users/eyubogln/code/meerkat/meerkat/interactive/app/src/lib/components/common/Slider.svelte:6:11 Slider has unused export property 'size'. If it is for external reference only, please consider using `export const size`\n",
      "2:35:47 PM [vite-plugin-svelte] /Users/eyubogln/code/meerkat/meerkat/interactive/app/src/lib/components/row/RowCard.svelte:21:11 RowCard has unused export property 'layout'. If it is for external reference only, please consider using `export const layout`\n",
      "2:35:47 PM [vite-plugin-svelte] /Users/eyubogln/code/meerkat/meerkat/interactive/app/src/lib/components/row/RowCard.svelte:24:11 RowCard has unused export property 'card_flex_grow'. If it is for external reference only, please consider using `export const card_flex_grow`\n",
      "2:35:47 PM [vite-plugin-svelte] /Users/eyubogln/code/meerkat/meerkat/interactive/app/src/lib/components/row/RowCard.svelte:53:11 RowCard has unused export property 'main_modal'. If it is for external reference only, please consider using `export const main_modal`\n",
      "2:35:47 PM [vite-plugin-svelte] /Users/eyubogln/code/meerkat/meerkat/interactive/app/src/lib/components/gallery/Card.svelte:101:1 Unused CSS selector \".card\"\n",
      "2:35:47 PM [vite-plugin-svelte] /Users/eyubogln/code/meerkat/meerkat/interactive/app/src/lib/components/gallery/Card.svelte:111:1 Unused CSS selector \".dark .card\"\n",
      "2:35:47 PM [vite-plugin-svelte] /Users/eyubogln/code/meerkat/meerkat/interactive/app/src/lib/components/gallery/Card.svelte:146:1 Unused CSS selector \".subcontent\"\n",
      "2:35:47 PM [vite-plugin-svelte] /Users/eyubogln/code/meerkat/meerkat/interactive/app/src/lib/components/gallery/Card.svelte:168:1 Unused CSS selector \".subcontent:hover\"\n"
     ]
    }
   ],
   "source": [
    "new_dp = dp[[\"img\", \"label\"]]\n",
    "new_dp.gui.table()"
   ]
  },
  {
   "cell_type": "code",
   "execution_count": 9,
   "metadata": {},
   "outputs": [],
   "source": [
    "dp = mk.DataPanel.read(\n",
    "    \"/Users/eyubogln/code/meerkat/scratch/sabri/data/imagenette_clustered.mk\"\n",
    ")\n",
    "cb = dp.clusterby(by=\"img\")\n",
    "cb.gui.cards(\n",
    "    main_column=\"img\", \n",
    "    tag_columns=[\"label_idx\"], \n",
    "    aggregations={\n",
    "        \"a\": lambda dp: dp[\"is_valid\"].mean()\n",
    "    }\n",
    ")\n"
   ]
  },
  {
   "cell_type": "code",
   "execution_count": 16,
   "metadata": {},
   "outputs": [
    {
     "name": "stderr",
     "output_type": "stream",
     "text": [
      "[autoreload of meerkat.interactive.api.routers.sliceby failed: Traceback (most recent call last):\n",
      "  File \"/Users/eyubogln/miniconda3/envs/meerkat/lib/python3.8/site-packages/IPython/extensions/autoreload.py\", line 257, in check\n",
      "    superreload(m, reload, self.old_objects)\n",
      "  File \"/Users/eyubogln/miniconda3/envs/meerkat/lib/python3.8/site-packages/IPython/extensions/autoreload.py\", line 480, in superreload\n",
      "    update_generic(old_obj, new_obj)\n",
      "  File \"/Users/eyubogln/miniconda3/envs/meerkat/lib/python3.8/site-packages/IPython/extensions/autoreload.py\", line 377, in update_generic\n",
      "    update(a, b)\n",
      "  File \"/Users/eyubogln/miniconda3/envs/meerkat/lib/python3.8/site-packages/IPython/extensions/autoreload.py\", line 345, in update_class\n",
      "    update_instances(old, new)\n",
      "  File \"/Users/eyubogln/miniconda3/envs/meerkat/lib/python3.8/site-packages/IPython/extensions/autoreload.py\", line 303, in update_instances\n",
      "    ref.__class__ = new\n",
      "  File \"pydantic/main.py\", line 357, in pydantic.main.BaseModel.__setattr__\n",
      "ValueError: \"InfoResponse\" object has no field \"__class__\"\n",
      "]\n"
     ]
    },
    {
     "data": {
      "text/html": [
       "\n",
       "        <iframe\n",
       "            width=\"100%\"\n",
       "            height=\"1000\"\n",
       "            src=\"http://localhost:7862/interface?id=1b0b80a7e7904eb3bbc4913efc3bcdb6\"\n",
       "            frameborder=\"0\"\n",
       "            allowfullscreen\n",
       "            \n",
       "        ></iframe>\n",
       "        "
      ],
      "text/plain": [
       "<IPython.lib.display.IFrame at 0x2a0a17190>"
      ]
     },
     "execution_count": 16,
     "metadata": {},
     "output_type": "execute_result"
    },
    {
     "name": "stdout",
     "output_type": "stream",
     "text": [
      "3:05:33 PM [vite-plugin-svelte] /Users/eyubogln/code/meerkat/meerkat/interactive/app/src/lib/components/sliceby/SliceCards.svelte:8:11 SliceCards has unused export property 'main_column'. If it is for external reference only, please consider using `export const main_column`\n",
      "3:05:33 PM [vite-plugin-svelte] /Users/eyubogln/code/meerkat/meerkat/interactive/app/src/lib/components/sliceby/SliceCards.svelte:9:11 SliceCards has unused export property 'tag_columns'. If it is for external reference only, please consider using `export const tag_columns`\n",
      "http://127.0.0.1:7861/sliceby/3497176d16a843998b52a9fea95f49c4/aggregate\n"
     ]
    }
   ],
   "source": [
    "cb.gui.cards(\n",
    "    main_column=\"img\", \n",
    "    tag_columns=[\"label_idx\"], \n",
    "    aggregations={\n",
    "        \"a\": lambda dp: dp[\"is_valid\"].mean()\n",
    "    }\n",
    ")"
   ]
  },
  {
   "cell_type": "code",
   "execution_count": null,
   "metadata": {},
   "outputs": [],
   "source": []
  }
 ],
 "metadata": {
  "kernelspec": {
   "display_name": "Python 3.8.13 ('domino')",
   "language": "python",
   "name": "python3"
  },
  "language_info": {
   "codemirror_mode": {
    "name": "ipython",
    "version": 3
   },
   "file_extension": ".py",
   "mimetype": "text/x-python",
   "name": "python",
   "nbconvert_exporter": "python",
   "pygments_lexer": "ipython3",
   "version": "3.8.13"
  },
  "orig_nbformat": 4,
  "vscode": {
   "interpreter": {
    "hash": "7dc70abeb586db4fbbb19fd8ec040a8328b2a3c884b1c8ab3f626b1589cb18a0"
   }
  }
 },
 "nbformat": 4,
 "nbformat_minor": 2
}
