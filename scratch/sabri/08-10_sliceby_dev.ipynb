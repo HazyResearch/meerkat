{
 "cells": [
  {
   "cell_type": "code",
   "execution_count": 1,
   "metadata": {},
   "outputs": [],
   "source": [
    "%load_ext autoreload\n",
    "%autoreload 2"
   ]
  },
  {
   "cell_type": "code",
   "execution_count": 2,
   "metadata": {},
   "outputs": [],
   "source": [
    "import meerkat as mk\n"
   ]
  },
  {
   "cell_type": "code",
   "execution_count": 4,
   "metadata": {},
   "outputs": [
    {
     "ename": "TypeError",
     "evalue": "operand type(s) all returned NotImplemented from __array_ufunc__(<ufunc 'add'>, '__call__', NumpyArrayColumn(array([2, 3])), TensorColumn(tensor([6, 7]))): 'NumpyArrayColumn', 'TensorColumn'",
     "output_type": "error",
     "traceback": [
      "\u001b[0;31m---------------------------------------------------------------------------\u001b[0m",
      "\u001b[0;31mTypeError\u001b[0m                                 Traceback (most recent call last)",
      "\u001b[1;32m/Users/eyubogln/code/meerkat/scratch/sabri/08-10_sliceby_dev.ipynb Cell 3'\u001b[0m in \u001b[0;36m<cell line: 14>\u001b[0;34m()\u001b[0m\n\u001b[1;32m     <a href='vscode-notebook-cell:/Users/eyubogln/code/meerkat/scratch/sabri/08-10_sliceby_dev.ipynb#ch0000013?line=11'>12</a>\u001b[0m dp\n\u001b[1;32m     <a href='vscode-notebook-cell:/Users/eyubogln/code/meerkat/scratch/sabri/08-10_sliceby_dev.ipynb#ch0000013?line=12'>13</a>\u001b[0m gb \u001b[39m=\u001b[39m dp\u001b[39m.\u001b[39mgroupby(by\u001b[39m=\u001b[39m\u001b[39m\"\u001b[39m\u001b[39mname\u001b[39m\u001b[39m\"\u001b[39m)\n\u001b[0;32m---> <a href='vscode-notebook-cell:/Users/eyubogln/code/meerkat/scratch/sabri/08-10_sliceby_dev.ipynb#ch0000013?line=13'>14</a>\u001b[0m gb\u001b[39m.\u001b[39;49maggregate(\n\u001b[1;32m     <a href='vscode-notebook-cell:/Users/eyubogln/code/meerkat/scratch/sabri/08-10_sliceby_dev.ipynb#ch0000013?line=14'>15</a>\u001b[0m     \u001b[39mlambda\u001b[39;49;00m dp: (dp[\u001b[39m\"\u001b[39;49m\u001b[39ma\u001b[39;49m\u001b[39m\"\u001b[39;49m] \u001b[39m+\u001b[39;49m dp[\u001b[39m\"\u001b[39;49m\u001b[39mb\u001b[39;49m\u001b[39m\"\u001b[39;49m])\u001b[39m.\u001b[39;49mmean(), accepts_dp\u001b[39m=\u001b[39;49m\u001b[39mTrue\u001b[39;49;00m\n\u001b[1;32m     <a href='vscode-notebook-cell:/Users/eyubogln/code/meerkat/scratch/sabri/08-10_sliceby_dev.ipynb#ch0000013?line=15'>16</a>\u001b[0m )\u001b[39m.\u001b[39mto_pandas()\u001b[39m.\u001b[39mset_index(gb\u001b[39m.\u001b[39mby)\u001b[39m.\u001b[39mto_dict()\n",
      "File \u001b[0;32m~/code/meerkat/meerkat/ops/sliceby/sliceby.py:16\u001b[0m, in \u001b[0;36msets_only.<locals>.wrapped\u001b[0;34m(self, *args, **kwargs)\u001b[0m\n\u001b[1;32m     13\u001b[0m \u001b[39m@wraps\u001b[39m(fn)\n\u001b[1;32m     14\u001b[0m \u001b[39mdef\u001b[39;00m \u001b[39mwrapped\u001b[39m(\u001b[39mself\u001b[39m, \u001b[39m*\u001b[39margs, \u001b[39m*\u001b[39m\u001b[39m*\u001b[39mkwargs):\n\u001b[1;32m     15\u001b[0m     \u001b[39mif\u001b[39;00m \u001b[39mself\u001b[39m\u001b[39m.\u001b[39mslice_type \u001b[39m==\u001b[39m \u001b[39m\"\u001b[39m\u001b[39msets\u001b[39m\u001b[39m\"\u001b[39m:\n\u001b[0;32m---> 16\u001b[0m         \u001b[39mreturn\u001b[39;00m fn(\u001b[39mself\u001b[39;49m, \u001b[39m*\u001b[39;49margs, \u001b[39m*\u001b[39;49m\u001b[39m*\u001b[39;49mkwargs)\n\u001b[1;32m     17\u001b[0m     \u001b[39melse\u001b[39;00m:\n\u001b[1;32m     18\u001b[0m         \u001b[39mraise\u001b[39;00m \u001b[39mValueError\u001b[39;00m(\u001b[39m\"\u001b[39m\u001b[39mThis method is only valid for sets\u001b[39m\u001b[39m\"\u001b[39m)\n",
      "File \u001b[0;32m~/code/meerkat/meerkat/ops/sliceby/sliceby.py:78\u001b[0m, in \u001b[0;36mSliceBy.aggregate\u001b[0;34m(self, function, accepts_dp)\u001b[0m\n\u001b[1;32m     67\u001b[0m \u001b[39m@sets_only\u001b[39m\n\u001b[1;32m     68\u001b[0m \u001b[39mdef\u001b[39;00m \u001b[39maggregate\u001b[39m(\u001b[39mself\u001b[39m, function: Callable, accepts_dp: \u001b[39mbool\u001b[39m \u001b[39m=\u001b[39m \u001b[39mFalse\u001b[39;00m) \u001b[39m-\u001b[39m\u001b[39m>\u001b[39m DataPanel:\n\u001b[1;32m     69\u001b[0m     \u001b[39m\"\"\"_summary_\u001b[39;00m\n\u001b[1;32m     70\u001b[0m \n\u001b[1;32m     71\u001b[0m \u001b[39m    Args:\u001b[39;00m\n\u001b[0;32m   (...)\u001b[0m\n\u001b[1;32m     76\u001b[0m \u001b[39m        DataPanel: _description_\u001b[39;00m\n\u001b[1;32m     77\u001b[0m \u001b[39m    \"\"\"\u001b[39;00m\n\u001b[0;32m---> 78\u001b[0m     \u001b[39mreturn\u001b[39;00m \u001b[39mself\u001b[39;49m\u001b[39m.\u001b[39;49m_aggregate(f\u001b[39m=\u001b[39;49mfunction, accepts_dp\u001b[39m=\u001b[39;49maccepts_dp)\n",
      "File \u001b[0;32m~/code/meerkat/meerkat/ops/sliceby/sliceby.py:94\u001b[0m, in \u001b[0;36mSliceBy._aggregate\u001b[0;34m(self, f, accepts_dp)\u001b[0m\n\u001b[1;32m     92\u001b[0m     \u001b[39melse\u001b[39;00m:\n\u001b[1;32m     93\u001b[0m         slice_dp \u001b[39m=\u001b[39m \u001b[39mself\u001b[39m\u001b[39m.\u001b[39mdata\u001b[39m.\u001b[39mlz[\u001b[39mself\u001b[39m\u001b[39m.\u001b[39mslices[slice_key]]\n\u001b[0;32m---> 94\u001b[0m         slice_values: Dict[\u001b[39mstr\u001b[39m, Any] \u001b[39m=\u001b[39m slice_dp\u001b[39m.\u001b[39;49maggregate(\n\u001b[1;32m     95\u001b[0m             f, accepts_dp\u001b[39m=\u001b[39;49maccepts_dp\n\u001b[1;32m     96\u001b[0m         )\n\u001b[1;32m     98\u001b[0m     out\u001b[39m.\u001b[39mappend(slice_values)\n\u001b[1;32m    100\u001b[0m \u001b[39mfrom\u001b[39;00m \u001b[39mmeerkat\u001b[39;00m\u001b[39m.\u001b[39;00m\u001b[39mdatapanel\u001b[39;00m \u001b[39mimport\u001b[39;00m DataPanel\n",
      "File \u001b[0;32m~/code/meerkat/meerkat/datapanel.py:914\u001b[0m, in \u001b[0;36mDataPanel.aggregate\u001b[0;34m(self, function, nuisance, *args, **kwargs)\u001b[0m\n\u001b[1;32m    909\u001b[0m \u001b[39mdef\u001b[39;00m \u001b[39maggregate\u001b[39m(\n\u001b[1;32m    910\u001b[0m     \u001b[39mself\u001b[39m, function: Union[\u001b[39mstr\u001b[39m, Callable], nuisance: \u001b[39mstr\u001b[39m \u001b[39m=\u001b[39m \u001b[39m\"\u001b[39m\u001b[39mdrop\u001b[39m\u001b[39m\"\u001b[39m, \u001b[39m*\u001b[39margs, \u001b[39m*\u001b[39m\u001b[39m*\u001b[39mkwargs\n\u001b[1;32m    911\u001b[0m ) \u001b[39m-\u001b[39m\u001b[39m>\u001b[39m Dict[\u001b[39mstr\u001b[39m, Any]:\n\u001b[1;32m    912\u001b[0m     \u001b[39mfrom\u001b[39;00m \u001b[39mmeerkat\u001b[39;00m\u001b[39m.\u001b[39;00m\u001b[39mops\u001b[39;00m\u001b[39m.\u001b[39;00m\u001b[39maggregate\u001b[39;00m\u001b[39m.\u001b[39;00m\u001b[39maggregate\u001b[39;00m \u001b[39mimport\u001b[39;00m aggregate\n\u001b[0;32m--> 914\u001b[0m     \u001b[39mreturn\u001b[39;00m aggregate(\u001b[39mself\u001b[39;49m, function, \u001b[39m*\u001b[39;49margs, \u001b[39m*\u001b[39;49m\u001b[39m*\u001b[39;49mkwargs)\n",
      "File \u001b[0;32m~/code/meerkat/meerkat/ops/aggregate/aggregate.py:25\u001b[0m, in \u001b[0;36maggregate\u001b[0;34m(data, function, nuisance, accepts_dp, *args, **kwargs)\u001b[0m\n\u001b[1;32m     22\u001b[0m     \u001b[39mraise\u001b[39;00m \u001b[39mValueError\u001b[39;00m(\u001b[39mf\u001b[39m\u001b[39m\"\u001b[39m\u001b[39mMust pass a callable to aggregate if accepts_dp is True\u001b[39m\u001b[39m\"\u001b[39m)\n\u001b[1;32m     24\u001b[0m \u001b[39mif\u001b[39;00m accepts_dp:\n\u001b[0;32m---> 25\u001b[0m     \u001b[39mreturn\u001b[39;00m {\u001b[39m\"\u001b[39m\u001b[39mdp\u001b[39m\u001b[39m\"\u001b[39m: function(data, \u001b[39m*\u001b[39;49margs, \u001b[39m*\u001b[39;49m\u001b[39m*\u001b[39;49mkwargs)}\n\u001b[1;32m     27\u001b[0m result \u001b[39m=\u001b[39m {}\n\u001b[1;32m     29\u001b[0m \u001b[39mfor\u001b[39;00m name, column \u001b[39min\u001b[39;00m data\u001b[39m.\u001b[39mitems():\n",
      "\u001b[1;32m/Users/eyubogln/code/meerkat/scratch/sabri/08-10_sliceby_dev.ipynb Cell 3'\u001b[0m in \u001b[0;36m<lambda>\u001b[0;34m(dp)\u001b[0m\n\u001b[1;32m     <a href='vscode-notebook-cell:/Users/eyubogln/code/meerkat/scratch/sabri/08-10_sliceby_dev.ipynb#ch0000013?line=11'>12</a>\u001b[0m dp\n\u001b[1;32m     <a href='vscode-notebook-cell:/Users/eyubogln/code/meerkat/scratch/sabri/08-10_sliceby_dev.ipynb#ch0000013?line=12'>13</a>\u001b[0m gb \u001b[39m=\u001b[39m dp\u001b[39m.\u001b[39mgroupby(by\u001b[39m=\u001b[39m\u001b[39m\"\u001b[39m\u001b[39mname\u001b[39m\u001b[39m\"\u001b[39m)\n\u001b[1;32m     <a href='vscode-notebook-cell:/Users/eyubogln/code/meerkat/scratch/sabri/08-10_sliceby_dev.ipynb#ch0000013?line=13'>14</a>\u001b[0m gb\u001b[39m.\u001b[39maggregate(\n\u001b[0;32m---> <a href='vscode-notebook-cell:/Users/eyubogln/code/meerkat/scratch/sabri/08-10_sliceby_dev.ipynb#ch0000013?line=14'>15</a>\u001b[0m     \u001b[39mlambda\u001b[39;00m dp: (dp[\u001b[39m\"\u001b[39;49m\u001b[39ma\u001b[39;49m\u001b[39m\"\u001b[39;49m] \u001b[39m+\u001b[39;49m dp[\u001b[39m\"\u001b[39;49m\u001b[39mb\u001b[39;49m\u001b[39m\"\u001b[39;49m])\u001b[39m.\u001b[39mmean(), accepts_dp\u001b[39m=\u001b[39m\u001b[39mTrue\u001b[39;00m\n\u001b[1;32m     <a href='vscode-notebook-cell:/Users/eyubogln/code/meerkat/scratch/sabri/08-10_sliceby_dev.ipynb#ch0000013?line=15'>16</a>\u001b[0m )\u001b[39m.\u001b[39mto_pandas()\u001b[39m.\u001b[39mset_index(gb\u001b[39m.\u001b[39mby)\u001b[39m.\u001b[39mto_dict()\n",
      "File \u001b[0;32m~/miniconda3/envs/meerkat/lib/python3.8/site-packages/numpy/lib/mixins.py:21\u001b[0m, in \u001b[0;36m_binary_method.<locals>.func\u001b[0;34m(self, other)\u001b[0m\n\u001b[1;32m     19\u001b[0m \u001b[39mif\u001b[39;00m _disables_array_ufunc(other):\n\u001b[1;32m     20\u001b[0m     \u001b[39mreturn\u001b[39;00m \u001b[39mNotImplemented\u001b[39m\n\u001b[0;32m---> 21\u001b[0m \u001b[39mreturn\u001b[39;00m ufunc(\u001b[39mself\u001b[39;49m, other)\n",
      "\u001b[0;31mTypeError\u001b[0m: operand type(s) all returned NotImplemented from __array_ufunc__(<ufunc 'add'>, '__call__', NumpyArrayColumn(array([2, 3])), TensorColumn(tensor([6, 7]))): 'NumpyArrayColumn', 'TensorColumn'"
     ]
    }
   ],
   "source": [
    "import numpy as np\n",
    "import torch\n",
    "\n",
    "dp = mk.DataPanel(\n",
    "    {\n",
    "        \"a\": [1, 2, 2, 1, 3, 2, 3],\n",
    "        \"name\": [\"sam\", \"liam\", \"sam\", \"owen\", \"liam\", \"connor\", \"connor\"],\n",
    "        \"b\": [1, 2, 3, 4, 5, 6, 7],\n",
    "        \"c\": [1.0, 3.2, 2.1, 4.3, 5.4, 6.5, 7.6],\n",
    "    }\n",
    ")\n",
    "dp\n",
    "gb = dp.groupby(by=\"name\")\n",
    "gb.aggregate(\n",
    "    lambda dp: (dp[\"a\"] + dp[\"b\"]).mean(), accepts_dp=True\n",
    ").to_pandas().set_index(gb.by).to_dict()\n"
   ]
  },
  {
   "cell_type": "code",
   "execution_count": 12,
   "metadata": {},
   "outputs": [
    {
     "data": {
      "text/plain": [
       "['name']"
      ]
     },
     "execution_count": 12,
     "metadata": {},
     "output_type": "execute_result"
    }
   ],
   "source": [
    "gb.by\n"
   ]
  },
  {
   "cell_type": "code",
   "execution_count": 5,
   "metadata": {},
   "outputs": [
    {
     "data": {
      "text/html": [
       "<table border=\"1\" class=\"dataframe\">\n",
       "  <thead>\n",
       "    <tr style=\"text-align: right;\">\n",
       "      <th></th>\n",
       "      <th>a (TensorColumn)</th>\n",
       "      <th>name (NumpyArrayColumn)</th>\n",
       "      <th>b (TensorColumn)</th>\n",
       "      <th>c (TensorColumn)</th>\n",
       "    </tr>\n",
       "  </thead>\n",
       "  <tbody>\n",
       "    <tr>\n",
       "      <th>0</th>\n",
       "      <td>tensor(1)</td>\n",
       "      <td>a</td>\n",
       "      <td>tensor([4., 0., 0., 0.], dtype=torch.float64)</td>\n",
       "      <td>tensor(1.)</td>\n",
       "    </tr>\n",
       "    <tr>\n",
       "      <th>1</th>\n",
       "      <td>tensor(2)</td>\n",
       "      <td>b</td>\n",
       "      <td>tensor([0., 3., 0., 0.], dtype=torch.float64)</td>\n",
       "      <td>tensor(3.2000)</td>\n",
       "    </tr>\n",
       "    <tr>\n",
       "      <th>2</th>\n",
       "      <td>tensor(2)</td>\n",
       "      <td>a</td>\n",
       "      <td>tensor([0., 0., 0., 0.], dtype=torch.float64)</td>\n",
       "      <td>tensor(2.1000)</td>\n",
       "    </tr>\n",
       "    <tr>\n",
       "      <th>3</th>\n",
       "      <td>tensor(1)</td>\n",
       "      <td>c</td>\n",
       "      <td>tensor([0., 0., 0., 0.], dtype=torch.float64)</td>\n",
       "      <td>tensor(4.3000)</td>\n",
       "    </tr>\n",
       "    <tr>\n",
       "      <th>4</th>\n",
       "      <td>tensor(3)</td>\n",
       "      <td>b</td>\n",
       "      <td>tensor([0., 0., 0., 0.], dtype=torch.float64)</td>\n",
       "      <td>tensor(5.4000)</td>\n",
       "    </tr>\n",
       "    <tr>\n",
       "      <th>5</th>\n",
       "      <td>tensor(2)</td>\n",
       "      <td>d</td>\n",
       "      <td>tensor([0., 0., 0., 0.], dtype=torch.float64)</td>\n",
       "      <td>tensor(6.5000)</td>\n",
       "    </tr>\n",
       "    <tr>\n",
       "      <th>6</th>\n",
       "      <td>tensor(3)</td>\n",
       "      <td>d</td>\n",
       "      <td>tensor([0., 0., 0., 0.], dtype=torch.float64)</td>\n",
       "      <td>tensor(7.6000)</td>\n",
       "    </tr>\n",
       "  </tbody>\n",
       "</table>"
      ],
      "text/plain": [
       "DataPanel(nrows: 7, ncols: 4)"
      ]
     },
     "execution_count": 5,
     "metadata": {},
     "output_type": "execute_result"
    }
   ],
   "source": [
    "b = np.zeros((7, 4))\n",
    "b[0, 0] = 4\n",
    "b[1, 1] = 3\n",
    "dp = mk.DataPanel(\n",
    "    {\n",
    "        \"a\": mk.TensorColumn([1, 2, 2, 1, 3, 2, 3]),\n",
    "        \"name\": np.array([\"a\", \"b\", \"a\", \"c\", \"b\", \"d\", \"d\"], dtype=str),\n",
    "        \"b\": mk.TensorColumn(b),\n",
    "        \"c\": mk.TensorColumn([1.0, 3.2, 2.1, 4.3, 5.4, 6.5, 7.6]),\n",
    "    }\n",
    ")\n",
    "dp\n"
   ]
  },
  {
   "cell_type": "code",
   "execution_count": 44,
   "metadata": {},
   "outputs": [
    {
     "data": {
      "text/plain": [
       "(3,)"
      ]
     },
     "execution_count": 44,
     "metadata": {},
     "output_type": "execute_result"
    }
   ],
   "source": [
    "out[\"b\"].shape\n"
   ]
  },
  {
   "cell_type": "code",
   "execution_count": null,
   "metadata": {},
   "outputs": [],
   "source": [
    "data[\"a\"]\n"
   ]
  },
  {
   "cell_type": "code",
   "execution_count": 3,
   "metadata": {},
   "outputs": [
    {
     "name": "stdout",
     "output_type": "stream",
     "text": [
      "\n",
      "> src@0.0.1 dev\n",
      "> vite dev \"--port\" \"7862\"\n",
      "\n",
      "\n",
      "  VITE v3.0.3  ready in 400 ms\n",
      "\n",
      "  ➜  Local:   http://localhost:7862/\n",
      "  ➜  Network: use --host to expose\n"
     ]
    }
   ],
   "source": [
    "network, register_api = mk.interactive_mode()\n"
   ]
  },
  {
   "cell_type": "code",
   "execution_count": 5,
   "metadata": {},
   "outputs": [
    {
     "data": {
      "text/html": [
       "\n",
       "        <iframe\n",
       "            width=\"800\"\n",
       "            height=\"600\"\n",
       "            src=\"http://127.0.0.1:7861/docs\"\n",
       "            frameborder=\"0\"\n",
       "            allowfullscreen\n",
       "            \n",
       "        ></iframe>\n",
       "        "
      ],
      "text/plain": [
       "<IPython.lib.display.IFrame at 0x108e36c40>"
      ]
     },
     "execution_count": 5,
     "metadata": {},
     "output_type": "execute_result"
    }
   ],
   "source": [
    "network.api_docs\n"
   ]
  },
  {
   "cell_type": "code",
   "execution_count": 4,
   "metadata": {},
   "outputs": [
    {
     "data": {
      "text/html": [
       "\n",
       "        <iframe\n",
       "            width=\"1\"\n",
       "            height=\"1\"\n",
       "            src=\"http://localhost:7862/network/register?api=http://127.0.0.1:7860\"\n",
       "            frameborder=\"0\"\n",
       "            allowfullscreen\n",
       "            \n",
       "        ></iframe>\n",
       "        "
      ],
      "text/plain": [
       "<IPython.lib.display.IFrame at 0x107ff5520>"
      ]
     },
     "execution_count": 4,
     "metadata": {},
     "output_type": "execute_result"
    }
   ],
   "source": [
    "register_api()\n"
   ]
  },
  {
   "cell_type": "code",
   "execution_count": 5,
   "metadata": {},
   "outputs": [
    {
     "ename": "AttributeError",
     "evalue": "'DataPanel' object has no attribute 'mean'",
     "output_type": "error",
     "traceback": [
      "\u001b[0;31m---------------------------------------------------------------------------\u001b[0m",
      "\u001b[0;31mAttributeError\u001b[0m                            Traceback (most recent call last)",
      "\u001b[1;32m/Users/eyubogln/code/meerkat/scratch/sabri/08-10_sliceby_dev.ipynb Cell 4'\u001b[0m in \u001b[0;36m<cell line: 14>\u001b[0;34m()\u001b[0m\n\u001b[1;32m      <a href='vscode-notebook-cell:/Users/eyubogln/code/meerkat/scratch/sabri/08-10_sliceby_dev.ipynb#ch0000009?line=1'>2</a>\u001b[0m dp \u001b[39m=\u001b[39m mk\u001b[39m.\u001b[39mDataPanel(\n\u001b[1;32m      <a href='vscode-notebook-cell:/Users/eyubogln/code/meerkat/scratch/sabri/08-10_sliceby_dev.ipynb#ch0000009?line=2'>3</a>\u001b[0m     {\n\u001b[1;32m      <a href='vscode-notebook-cell:/Users/eyubogln/code/meerkat/scratch/sabri/08-10_sliceby_dev.ipynb#ch0000009?line=3'>4</a>\u001b[0m         \u001b[39m\"\u001b[39m\u001b[39ma\u001b[39m\u001b[39m\"\u001b[39m: [\u001b[39m1\u001b[39m, \u001b[39m2\u001b[39m, \u001b[39m2\u001b[39m, \u001b[39m1\u001b[39m, \u001b[39m3\u001b[39m, \u001b[39m2\u001b[39m, \u001b[39m3\u001b[39m],\n\u001b[0;32m   (...)\u001b[0m\n\u001b[1;32m     <a href='vscode-notebook-cell:/Users/eyubogln/code/meerkat/scratch/sabri/08-10_sliceby_dev.ipynb#ch0000009?line=10'>11</a>\u001b[0m     }\n\u001b[1;32m     <a href='vscode-notebook-cell:/Users/eyubogln/code/meerkat/scratch/sabri/08-10_sliceby_dev.ipynb#ch0000009?line=11'>12</a>\u001b[0m )\n\u001b[1;32m     <a href='vscode-notebook-cell:/Users/eyubogln/code/meerkat/scratch/sabri/08-10_sliceby_dev.ipynb#ch0000009?line=12'>13</a>\u001b[0m dp\n\u001b[0;32m---> <a href='vscode-notebook-cell:/Users/eyubogln/code/meerkat/scratch/sabri/08-10_sliceby_dev.ipynb#ch0000009?line=13'>14</a>\u001b[0m dp\u001b[39m.\u001b[39;49mgroupby(\u001b[39m\"\u001b[39;49m\u001b[39mname\u001b[39;49m\u001b[39m\"\u001b[39;49m)[\u001b[39m\"\u001b[39;49m\u001b[39mb\u001b[39;49m\u001b[39m\"\u001b[39;49m]\u001b[39m.\u001b[39;49mmean()\n",
      "File \u001b[0;32m~/code/meerkat/meerkat/ops/sliceby/sliceby.py:57\u001b[0m, in \u001b[0;36mSliceBy.mean\u001b[0;34m(self, *args, **kwargs)\u001b[0m\n\u001b[1;32m     56\u001b[0m \u001b[39mdef\u001b[39;00m \u001b[39mmean\u001b[39m(\u001b[39mself\u001b[39m, \u001b[39m*\u001b[39margs, \u001b[39m*\u001b[39m\u001b[39m*\u001b[39mkwargs):\n\u001b[0;32m---> 57\u001b[0m     \u001b[39mreturn\u001b[39;00m \u001b[39mself\u001b[39;49m\u001b[39m.\u001b[39;49m_aggregate(\u001b[39mlambda\u001b[39;49;00m x: x\u001b[39m.\u001b[39;49mmean(\u001b[39m*\u001b[39;49margs, \u001b[39m*\u001b[39;49m\u001b[39m*\u001b[39;49mkwargs))\n",
      "File \u001b[0;32m~/code/meerkat/meerkat/ops/sliceby/sliceby.py:85\u001b[0m, in \u001b[0;36mSliceBy._aggregate\u001b[0;34m(self, f)\u001b[0m\n\u001b[1;32m     83\u001b[0m     \u001b[39melse\u001b[39;00m:\n\u001b[1;32m     84\u001b[0m         slice_dp \u001b[39m=\u001b[39m \u001b[39mself\u001b[39m\u001b[39m.\u001b[39mdata\u001b[39m.\u001b[39mlz[\u001b[39mself\u001b[39m\u001b[39m.\u001b[39mslices[slice_key]]\n\u001b[0;32m---> 85\u001b[0m         slice_values: Dict[\u001b[39mstr\u001b[39m, Any] \u001b[39m=\u001b[39m f(slice_dp)\n\u001b[1;32m     86\u001b[0m     out\u001b[39m.\u001b[39mappend(slice_values)\n\u001b[1;32m     88\u001b[0m \u001b[39mfrom\u001b[39;00m \u001b[39mmeerkat\u001b[39;00m\u001b[39m.\u001b[39;00m\u001b[39mdatapanel\u001b[39;00m \u001b[39mimport\u001b[39;00m DataPanel\n",
      "File \u001b[0;32m~/code/meerkat/meerkat/ops/sliceby/sliceby.py:57\u001b[0m, in \u001b[0;36mSliceBy.mean.<locals>.<lambda>\u001b[0;34m(x)\u001b[0m\n\u001b[1;32m     56\u001b[0m \u001b[39mdef\u001b[39;00m \u001b[39mmean\u001b[39m(\u001b[39mself\u001b[39m, \u001b[39m*\u001b[39margs, \u001b[39m*\u001b[39m\u001b[39m*\u001b[39mkwargs):\n\u001b[0;32m---> 57\u001b[0m     \u001b[39mreturn\u001b[39;00m \u001b[39mself\u001b[39m\u001b[39m.\u001b[39m_aggregate(\u001b[39mlambda\u001b[39;00m x: x\u001b[39m.\u001b[39;49mmean(\u001b[39m*\u001b[39margs, \u001b[39m*\u001b[39m\u001b[39m*\u001b[39mkwargs))\n",
      "\u001b[0;31mAttributeError\u001b[0m: 'DataPanel' object has no attribute 'mean'"
     ]
    }
   ],
   "source": [
    "import numpy as np\n",
    "dp = mk.DataPanel(\n",
    "    {\n",
    "        \"a\": [1, 2, 2, 1, 3, 2, 3],\n",
    "        \"name\": np.array(\n",
    "            [\"sam\", \"liam\", \"sam\", \"owen\", \"liam\", \"connor\", \"connor\"],\n",
    "            dtype=str,\n",
    "        ),\n",
    "        \"b\": [1, 2, 3, 4, 5, 6, 7],\n",
    "        \"c\": [1.0, 3.2, 2.1, 4.3, 5.4, 6.5, 7.6],\n",
    "    }\n",
    ")\n",
    "dp\n",
    "dp.groupby(\"name\")[\""
   ]
  },
  {
   "cell_type": "code",
   "execution_count": null,
   "metadata": {},
   "outputs": [],
   "source": []
  },
  {
   "cell_type": "code",
   "execution_count": 18,
   "metadata": {},
   "outputs": [
    {
     "name": "stderr",
     "output_type": "stream",
     "text": [
      "/var/folders/x4/6t082bp51dx9s8l_6pc9v45r0000gr/T/ipykernel_7312/1156297829.py:14: FutureWarning: Dropping of nuisance columns in DataFrame reductions (with 'numeric_only=None') is deprecated; in a future version this will raise TypeError.  Select only valid columns before calling the reduction.\n",
      "  dp.aggregate(\"mean\")\n"
     ]
    },
    {
     "data": {
      "text/plain": [
       "a    2.0\n",
       "b    4.0\n",
       "c    4.3\n",
       "dtype: float64"
      ]
     },
     "execution_count": 18,
     "metadata": {},
     "output_type": "execute_result"
    }
   ],
   "source": [
    "import numpy as np\n",
    "import pandas as pd\n",
    "\n",
    "dp = pd.DataFrame(\n",
    "    {\n",
    "        \"a\": [1, 2, 2, 1, 3, 2, 3],\n",
    "        \"name\": np.array(\n",
    "            [\"sam\", \"liam\", \"sam\", \"owen\", \"liam\", \"connor\", \"connor\"],\n",
    "            dtype=str,\n",
    "        ),\n",
    "        \"b\": [1, 2, 3, 4, 5, 6, 7],\n",
    "        \"c\": [1.0, 3.2, 2.1, 4.3, 5.4, 6.5, 7.6],\n",
    "    }\n",
    ")\n",
    "dp.aggregate(\"mean\")\n"
   ]
  },
  {
   "cell_type": "code",
   "execution_count": 20,
   "metadata": {},
   "outputs": [
    {
     "ename": "TypeError",
     "evalue": "Could not convert samliamsamowenliamconnorconnor to numeric",
     "output_type": "error",
     "traceback": [
      "\u001b[0;31m---------------------------------------------------------------------------\u001b[0m",
      "\u001b[0;31mValueError\u001b[0m                                Traceback (most recent call last)",
      "File \u001b[0;32m~/miniconda3/envs/meerkat/lib/python3.8/site-packages/pandas/core/nanops.py:1622\u001b[0m, in \u001b[0;36m_ensure_numeric\u001b[0;34m(x)\u001b[0m\n\u001b[1;32m   1621\u001b[0m \u001b[39mtry\u001b[39;00m:\n\u001b[0;32m-> 1622\u001b[0m     x \u001b[39m=\u001b[39m \u001b[39mfloat\u001b[39;49m(x)\n\u001b[1;32m   1623\u001b[0m \u001b[39mexcept\u001b[39;00m (\u001b[39mTypeError\u001b[39;00m, \u001b[39mValueError\u001b[39;00m):\n\u001b[1;32m   1624\u001b[0m     \u001b[39m# e.g. \"1+1j\" or \"foo\"\u001b[39;00m\n",
      "\u001b[0;31mValueError\u001b[0m: could not convert string to float: 'samliamsamowenliamconnorconnor'",
      "\nDuring handling of the above exception, another exception occurred:\n",
      "\u001b[0;31mValueError\u001b[0m                                Traceback (most recent call last)",
      "File \u001b[0;32m~/miniconda3/envs/meerkat/lib/python3.8/site-packages/pandas/core/nanops.py:1626\u001b[0m, in \u001b[0;36m_ensure_numeric\u001b[0;34m(x)\u001b[0m\n\u001b[1;32m   1625\u001b[0m \u001b[39mtry\u001b[39;00m:\n\u001b[0;32m-> 1626\u001b[0m     x \u001b[39m=\u001b[39m \u001b[39mcomplex\u001b[39;49m(x)\n\u001b[1;32m   1627\u001b[0m \u001b[39mexcept\u001b[39;00m \u001b[39mValueError\u001b[39;00m \u001b[39mas\u001b[39;00m err:\n\u001b[1;32m   1628\u001b[0m     \u001b[39m# e.g. \"foo\"\u001b[39;00m\n",
      "\u001b[0;31mValueError\u001b[0m: complex() arg is a malformed string",
      "\nThe above exception was the direct cause of the following exception:\n",
      "\u001b[0;31mTypeError\u001b[0m                                 Traceback (most recent call last)",
      "\u001b[1;32m/Users/eyubogln/code/meerkat/scratch/sabri/08-10_sliceby_dev.ipynb Cell 8'\u001b[0m in \u001b[0;36m<cell line: 1>\u001b[0;34m()\u001b[0m\n\u001b[0;32m----> <a href='vscode-notebook-cell:/Users/eyubogln/code/meerkat/scratch/sabri/08-10_sliceby_dev.ipynb#ch0000011?line=0'>1</a>\u001b[0m dp[\u001b[39m\"\u001b[39;49m\u001b[39mname\u001b[39;49m\u001b[39m\"\u001b[39;49m]\u001b[39m.\u001b[39;49mmean()\n",
      "File \u001b[0;32m~/miniconda3/envs/meerkat/lib/python3.8/site-packages/pandas/core/generic.py:11117\u001b[0m, in \u001b[0;36mNDFrame._add_numeric_operations.<locals>.mean\u001b[0;34m(self, axis, skipna, level, numeric_only, **kwargs)\u001b[0m\n\u001b[1;32m  11099\u001b[0m \u001b[39m@doc\u001b[39m(\n\u001b[1;32m  11100\u001b[0m     _num_doc,\n\u001b[1;32m  11101\u001b[0m     desc\u001b[39m=\u001b[39m\u001b[39m\"\u001b[39m\u001b[39mReturn the mean of the values over the requested axis.\u001b[39m\u001b[39m\"\u001b[39m,\n\u001b[0;32m   (...)\u001b[0m\n\u001b[1;32m  11115\u001b[0m     \u001b[39m*\u001b[39m\u001b[39m*\u001b[39mkwargs,\n\u001b[1;32m  11116\u001b[0m ):\n\u001b[0;32m> 11117\u001b[0m     \u001b[39mreturn\u001b[39;00m NDFrame\u001b[39m.\u001b[39;49mmean(\u001b[39mself\u001b[39;49m, axis, skipna, level, numeric_only, \u001b[39m*\u001b[39;49m\u001b[39m*\u001b[39;49mkwargs)\n",
      "File \u001b[0;32m~/miniconda3/envs/meerkat/lib/python3.8/site-packages/pandas/core/generic.py:10687\u001b[0m, in \u001b[0;36mNDFrame.mean\u001b[0;34m(self, axis, skipna, level, numeric_only, **kwargs)\u001b[0m\n\u001b[1;32m  10679\u001b[0m \u001b[39mdef\u001b[39;00m \u001b[39mmean\u001b[39m(\n\u001b[1;32m  10680\u001b[0m     \u001b[39mself\u001b[39m,\n\u001b[1;32m  10681\u001b[0m     axis: Axis \u001b[39m|\u001b[39m \u001b[39mNone\u001b[39;00m \u001b[39m|\u001b[39m lib\u001b[39m.\u001b[39mNoDefault \u001b[39m=\u001b[39m lib\u001b[39m.\u001b[39mno_default,\n\u001b[0;32m   (...)\u001b[0m\n\u001b[1;32m  10685\u001b[0m     \u001b[39m*\u001b[39m\u001b[39m*\u001b[39mkwargs,\n\u001b[1;32m  10686\u001b[0m ) \u001b[39m-\u001b[39m\u001b[39m>\u001b[39m Series \u001b[39m|\u001b[39m \u001b[39mfloat\u001b[39m:\n\u001b[0;32m> 10687\u001b[0m     \u001b[39mreturn\u001b[39;00m \u001b[39mself\u001b[39;49m\u001b[39m.\u001b[39;49m_stat_function(\n\u001b[1;32m  10688\u001b[0m         \u001b[39m\"\u001b[39;49m\u001b[39mmean\u001b[39;49m\u001b[39m\"\u001b[39;49m, nanops\u001b[39m.\u001b[39;49mnanmean, axis, skipna, level, numeric_only, \u001b[39m*\u001b[39;49m\u001b[39m*\u001b[39;49mkwargs\n\u001b[1;32m  10689\u001b[0m     )\n",
      "File \u001b[0;32m~/miniconda3/envs/meerkat/lib/python3.8/site-packages/pandas/core/generic.py:10639\u001b[0m, in \u001b[0;36mNDFrame._stat_function\u001b[0;34m(self, name, func, axis, skipna, level, numeric_only, **kwargs)\u001b[0m\n\u001b[1;32m  10629\u001b[0m     warnings\u001b[39m.\u001b[39mwarn(\n\u001b[1;32m  10630\u001b[0m         \u001b[39m\"\u001b[39m\u001b[39mUsing the level keyword in DataFrame and Series aggregations is \u001b[39m\u001b[39m\"\u001b[39m\n\u001b[1;32m  10631\u001b[0m         \u001b[39m\"\u001b[39m\u001b[39mdeprecated and will be removed in a future version. Use groupby \u001b[39m\u001b[39m\"\u001b[39m\n\u001b[0;32m   (...)\u001b[0m\n\u001b[1;32m  10634\u001b[0m         stacklevel\u001b[39m=\u001b[39mfind_stack_level(),\n\u001b[1;32m  10635\u001b[0m     )\n\u001b[1;32m  10636\u001b[0m     \u001b[39mreturn\u001b[39;00m \u001b[39mself\u001b[39m\u001b[39m.\u001b[39m_agg_by_level(\n\u001b[1;32m  10637\u001b[0m         name, axis\u001b[39m=\u001b[39maxis, level\u001b[39m=\u001b[39mlevel, skipna\u001b[39m=\u001b[39mskipna, numeric_only\u001b[39m=\u001b[39mnumeric_only\n\u001b[1;32m  10638\u001b[0m     )\n\u001b[0;32m> 10639\u001b[0m \u001b[39mreturn\u001b[39;00m \u001b[39mself\u001b[39;49m\u001b[39m.\u001b[39;49m_reduce(\n\u001b[1;32m  10640\u001b[0m     func, name\u001b[39m=\u001b[39;49mname, axis\u001b[39m=\u001b[39;49maxis, skipna\u001b[39m=\u001b[39;49mskipna, numeric_only\u001b[39m=\u001b[39;49mnumeric_only\n\u001b[1;32m  10641\u001b[0m )\n",
      "File \u001b[0;32m~/miniconda3/envs/meerkat/lib/python3.8/site-packages/pandas/core/series.py:4471\u001b[0m, in \u001b[0;36mSeries._reduce\u001b[0;34m(self, op, name, axis, skipna, numeric_only, filter_type, **kwds)\u001b[0m\n\u001b[1;32m   4467\u001b[0m     \u001b[39mraise\u001b[39;00m \u001b[39mNotImplementedError\u001b[39;00m(\n\u001b[1;32m   4468\u001b[0m         \u001b[39mf\u001b[39m\u001b[39m\"\u001b[39m\u001b[39mSeries.\u001b[39m\u001b[39m{\u001b[39;00mname\u001b[39m}\u001b[39;00m\u001b[39m does not implement \u001b[39m\u001b[39m{\u001b[39;00mkwd_name\u001b[39m}\u001b[39;00m\u001b[39m.\u001b[39m\u001b[39m\"\u001b[39m\n\u001b[1;32m   4469\u001b[0m     )\n\u001b[1;32m   4470\u001b[0m \u001b[39mwith\u001b[39;00m np\u001b[39m.\u001b[39merrstate(\u001b[39mall\u001b[39m\u001b[39m=\u001b[39m\u001b[39m\"\u001b[39m\u001b[39mignore\u001b[39m\u001b[39m\"\u001b[39m):\n\u001b[0;32m-> 4471\u001b[0m     \u001b[39mreturn\u001b[39;00m op(delegate, skipna\u001b[39m=\u001b[39;49mskipna, \u001b[39m*\u001b[39;49m\u001b[39m*\u001b[39;49mkwds)\n",
      "File \u001b[0;32m~/miniconda3/envs/meerkat/lib/python3.8/site-packages/pandas/core/nanops.py:93\u001b[0m, in \u001b[0;36mdisallow.__call__.<locals>._f\u001b[0;34m(*args, **kwargs)\u001b[0m\n\u001b[1;32m     91\u001b[0m \u001b[39mtry\u001b[39;00m:\n\u001b[1;32m     92\u001b[0m     \u001b[39mwith\u001b[39;00m np\u001b[39m.\u001b[39merrstate(invalid\u001b[39m=\u001b[39m\u001b[39m\"\u001b[39m\u001b[39mignore\u001b[39m\u001b[39m\"\u001b[39m):\n\u001b[0;32m---> 93\u001b[0m         \u001b[39mreturn\u001b[39;00m f(\u001b[39m*\u001b[39;49margs, \u001b[39m*\u001b[39;49m\u001b[39m*\u001b[39;49mkwargs)\n\u001b[1;32m     94\u001b[0m \u001b[39mexcept\u001b[39;00m \u001b[39mValueError\u001b[39;00m \u001b[39mas\u001b[39;00m e:\n\u001b[1;32m     95\u001b[0m     \u001b[39m# we want to transform an object array\u001b[39;00m\n\u001b[1;32m     96\u001b[0m     \u001b[39m# ValueError message to the more typical TypeError\u001b[39;00m\n\u001b[1;32m     97\u001b[0m     \u001b[39m# e.g. this is normally a disallowed function on\u001b[39;00m\n\u001b[1;32m     98\u001b[0m     \u001b[39m# object arrays that contain strings\u001b[39;00m\n\u001b[1;32m     99\u001b[0m     \u001b[39mif\u001b[39;00m is_object_dtype(args[\u001b[39m0\u001b[39m]):\n",
      "File \u001b[0;32m~/miniconda3/envs/meerkat/lib/python3.8/site-packages/pandas/core/nanops.py:155\u001b[0m, in \u001b[0;36mbottleneck_switch.__call__.<locals>.f\u001b[0;34m(values, axis, skipna, **kwds)\u001b[0m\n\u001b[1;32m    153\u001b[0m         result \u001b[39m=\u001b[39m alt(values, axis\u001b[39m=\u001b[39maxis, skipna\u001b[39m=\u001b[39mskipna, \u001b[39m*\u001b[39m\u001b[39m*\u001b[39mkwds)\n\u001b[1;32m    154\u001b[0m \u001b[39melse\u001b[39;00m:\n\u001b[0;32m--> 155\u001b[0m     result \u001b[39m=\u001b[39m alt(values, axis\u001b[39m=\u001b[39;49maxis, skipna\u001b[39m=\u001b[39;49mskipna, \u001b[39m*\u001b[39;49m\u001b[39m*\u001b[39;49mkwds)\n\u001b[1;32m    157\u001b[0m \u001b[39mreturn\u001b[39;00m result\n",
      "File \u001b[0;32m~/miniconda3/envs/meerkat/lib/python3.8/site-packages/pandas/core/nanops.py:410\u001b[0m, in \u001b[0;36m_datetimelike_compat.<locals>.new_func\u001b[0;34m(values, axis, skipna, mask, **kwargs)\u001b[0m\n\u001b[1;32m    407\u001b[0m \u001b[39mif\u001b[39;00m datetimelike \u001b[39mand\u001b[39;00m mask \u001b[39mis\u001b[39;00m \u001b[39mNone\u001b[39;00m:\n\u001b[1;32m    408\u001b[0m     mask \u001b[39m=\u001b[39m isna(values)\n\u001b[0;32m--> 410\u001b[0m result \u001b[39m=\u001b[39m func(values, axis\u001b[39m=\u001b[39;49maxis, skipna\u001b[39m=\u001b[39;49mskipna, mask\u001b[39m=\u001b[39;49mmask, \u001b[39m*\u001b[39;49m\u001b[39m*\u001b[39;49mkwargs)\n\u001b[1;32m    412\u001b[0m \u001b[39mif\u001b[39;00m datetimelike:\n\u001b[1;32m    413\u001b[0m     result \u001b[39m=\u001b[39m _wrap_results(result, orig_values\u001b[39m.\u001b[39mdtype, fill_value\u001b[39m=\u001b[39miNaT)\n",
      "File \u001b[0;32m~/miniconda3/envs/meerkat/lib/python3.8/site-packages/pandas/core/nanops.py:698\u001b[0m, in \u001b[0;36mnanmean\u001b[0;34m(values, axis, skipna, mask)\u001b[0m\n\u001b[1;32m    695\u001b[0m     dtype_count \u001b[39m=\u001b[39m dtype\n\u001b[1;32m    697\u001b[0m count \u001b[39m=\u001b[39m _get_counts(values\u001b[39m.\u001b[39mshape, mask, axis, dtype\u001b[39m=\u001b[39mdtype_count)\n\u001b[0;32m--> 698\u001b[0m the_sum \u001b[39m=\u001b[39m _ensure_numeric(values\u001b[39m.\u001b[39;49msum(axis, dtype\u001b[39m=\u001b[39;49mdtype_sum))\n\u001b[1;32m    700\u001b[0m \u001b[39mif\u001b[39;00m axis \u001b[39mis\u001b[39;00m \u001b[39mnot\u001b[39;00m \u001b[39mNone\u001b[39;00m \u001b[39mand\u001b[39;00m \u001b[39mgetattr\u001b[39m(the_sum, \u001b[39m\"\u001b[39m\u001b[39mndim\u001b[39m\u001b[39m\"\u001b[39m, \u001b[39mFalse\u001b[39;00m):\n\u001b[1;32m    701\u001b[0m     count \u001b[39m=\u001b[39m cast(np\u001b[39m.\u001b[39mndarray, count)\n",
      "File \u001b[0;32m~/miniconda3/envs/meerkat/lib/python3.8/site-packages/pandas/core/nanops.py:1629\u001b[0m, in \u001b[0;36m_ensure_numeric\u001b[0;34m(x)\u001b[0m\n\u001b[1;32m   1626\u001b[0m             x \u001b[39m=\u001b[39m \u001b[39mcomplex\u001b[39m(x)\n\u001b[1;32m   1627\u001b[0m         \u001b[39mexcept\u001b[39;00m \u001b[39mValueError\u001b[39;00m \u001b[39mas\u001b[39;00m err:\n\u001b[1;32m   1628\u001b[0m             \u001b[39m# e.g. \"foo\"\u001b[39;00m\n\u001b[0;32m-> 1629\u001b[0m             \u001b[39mraise\u001b[39;00m \u001b[39mTypeError\u001b[39;00m(\u001b[39mf\u001b[39m\u001b[39m\"\u001b[39m\u001b[39mCould not convert \u001b[39m\u001b[39m{\u001b[39;00mx\u001b[39m}\u001b[39;00m\u001b[39m to numeric\u001b[39m\u001b[39m\"\u001b[39m) \u001b[39mfrom\u001b[39;00m \u001b[39merr\u001b[39;00m\n\u001b[1;32m   1630\u001b[0m \u001b[39mreturn\u001b[39;00m x\n",
      "\u001b[0;31mTypeError\u001b[0m: Could not convert samliamsamowenliamconnorconnor to numeric"
     ]
    }
   ],
   "source": [
    "dp[\"name\"].mean()\n"
   ]
  },
  {
   "cell_type": "code",
   "execution_count": 4,
   "metadata": {},
   "outputs": [],
   "source": [
    "dp = mk.DataPanel.read(\n",
    "    \"/Users/eyubogln/code/meerkat/scratch/sabri/data/imagenette_clustered.mk\"\n",
    ")\n",
    "cb = dp.clusterby(by=\"img\")\n"
   ]
  },
  {
   "cell_type": "code",
   "execution_count": 5,
   "metadata": {},
   "outputs": [
    {
     "data": {
      "text/html": [
       "\n",
       "        <iframe\n",
       "            width=\"100%\"\n",
       "            height=\"1000\"\n",
       "            src=\"http://localhost:7861/interface?id=bb291ead693a4f20b2ae4cc7e80a0466\"\n",
       "            frameborder=\"0\"\n",
       "            allowfullscreen\n",
       "            \n",
       "        ></iframe>\n",
       "        "
      ],
      "text/plain": [
       "<IPython.lib.display.IFrame at 0x2a75feb20>"
      ]
     },
     "execution_count": 5,
     "metadata": {},
     "output_type": "execute_result"
    },
    {
     "name": "stdout",
     "output_type": "stream",
     "text": [
      "10:18:15 AM [vite-plugin-svelte] /Users/eyubogln/code/meerkat/meerkat/interactive/app/src/lib/TableView.svelte:77:1 Unused CSS selector \".dark .table-view\"\n",
      "10:18:15 AM [vite-plugin-svelte] /Users/eyubogln/code/meerkat/meerkat/interactive/app/src/lib/components/sliceby/SliceCard.svelte:8:11 SliceCard has unused export property 'datapanel_id'. If it is for external reference only, please consider using `export const datapanel_id`\n",
      "10:18:15 AM [vite-plugin-svelte] /Users/eyubogln/code/meerkat/meerkat/interactive/app/src/lib/components/gallery/Gallery.svelte:87:1 Unused CSS selector \".dark .panel\"\n",
      "10:18:16 AM [vite-plugin-svelte] /Users/eyubogln/code/meerkat/meerkat/interactive/app/src/lib/components/table/Table.svelte:102:1 Unused CSS selector \".dark .table\"\n",
      "10:18:16 AM [vite-plugin-svelte] /Users/eyubogln/code/meerkat/meerkat/interactive/app/src/lib/components/match_header/MatchHeader.svelte:98:1 Unused CSS selector \".list-container\"\n",
      "10:18:16 AM [vite-plugin-svelte] /Users/eyubogln/code/meerkat/meerkat/interactive/app/src/lib/components/common/Toggle.svelte:31:0 Unused CSS selector \".dark .label\"\n",
      "10:18:16 AM [vite-plugin-svelte] /Users/eyubogln/code/meerkat/meerkat/interactive/app/src/lib/components/common/Toggle.svelte:74:1 Unused CSS selector \".dark .toggle\"\n",
      "10:18:16 AM [vite-plugin-svelte] /Users/eyubogln/code/meerkat/meerkat/interactive/app/src/lib/components/row/RowCard.svelte:21:11 RowCard has unused export property 'layout'. If it is for external reference only, please consider using `export const layout`\n",
      "10:18:16 AM [vite-plugin-svelte] /Users/eyubogln/code/meerkat/meerkat/interactive/app/src/lib/components/row/RowCard.svelte:24:11 RowCard has unused export property 'card_flex_grow'. If it is for external reference only, please consider using `export const card_flex_grow`\n",
      "10:18:16 AM [vite-plugin-svelte] /Users/eyubogln/code/meerkat/meerkat/interactive/app/src/lib/components/row/RowCard.svelte:53:11 RowCard has unused export property 'main_modal'. If it is for external reference only, please consider using `export const main_modal`\n",
      "10:18:16 AM [vite-plugin-svelte] /Users/eyubogln/code/meerkat/meerkat/interactive/app/src/lib/components/gallery/Card.svelte:109:1 Unused CSS selector \".dark .card\"\n",
      "10:19:11 AM [vite] hmr update /src/app.css\n",
      "hmr update /src/routes/network/register.svelte\n",
      "hmr update /src/app.css\n",
      "hmr update /src/routes/interface.svelte\n",
      "hmr update /src/app.css\n",
      "hmr update /src/lib/components/sliceby/SliceCards.svelte\n",
      "hmr update /src/app.css\n",
      "hmr update /src/lib/TableView.svelte\n",
      "hmr update /src/app.css\n",
      "hmr update /src/lib/components/sliceby/SliceCard.svelte\n",
      "hmr update /src/app.css\n",
      "hmr update /src/lib/components/match_header/MatchHeader.svelte\n",
      "hmr update /src/app.css\n",
      "10:19:11 AM [vite] page reload .svelte-kit/runtime/client/singletons.js\n",
      "10:19:11 AM [vite] page reload .svelte-kit/runtime/client/start.js\n",
      "10:19:11 AM [vite] hmr update /.svelte-kit/runtime/components/error.svelte\n",
      "10:19:11 AM [vite] hmr update /src/app.css\n",
      "hmr update /src/routes/network/register.svelte\n",
      "hmr update /src/app.css\n",
      "hmr update /src/routes/interface.svelte\n",
      "hmr update /src/app.css\n",
      "hmr update /src/lib/components/sliceby/SliceCards.svelte\n",
      "hmr update /src/app.css\n",
      "hmr update /src/lib/TableView.svelte\n",
      "hmr update /src/app.css\n",
      "hmr update /src/lib/components/sliceby/SliceCard.svelte\n",
      "hmr update /src/app.css\n",
      "hmr update /src/lib/components/match_header/MatchHeader.svelte\n",
      "hmr update /src/app.css\n",
      "10:19:11 AM [vite] page reload .svelte-kit/runtime/paths.js\n",
      "10:19:11 AM [vite] page reload .svelte-kit/generated/client-manifest.js\n",
      "10:19:11 AM [vite] page reload .svelte-kit/generated/client-matchers.js\n",
      "10:19:11 AM [vite-plugin-svelte] /Users/eyubogln/code/meerkat/meerkat/interactive/app/src/lib/TableView.svelte:77:1 Unused CSS selector \".dark .table-view\"\n",
      "10:19:11 AM [vite-plugin-svelte] /Users/eyubogln/code/meerkat/meerkat/interactive/app/src/lib/components/sliceby/SliceCard.svelte:8:11 SliceCard has unused export property 'datapanel_id'. If it is for external reference only, please consider using `export const datapanel_id`\n",
      "10:19:11 AM [vite-plugin-svelte] /Users/eyubogln/code/meerkat/meerkat/interactive/app/src/lib/TableView.svelte:77:1 Unused CSS selector \".dark .table-view\"\n",
      "10:19:11 AM [vite-plugin-svelte] /Users/eyubogln/code/meerkat/meerkat/interactive/app/src/lib/components/sliceby/SliceCard.svelte:8:11 SliceCard has unused export property 'datapanel_id'. If it is for external reference only, please consider using `export const datapanel_id`\n",
      "10:19:11 AM [vite-plugin-svelte] /Users/eyubogln/code/meerkat/meerkat/interactive/app/src/lib/components/match_header/MatchHeader.svelte:98:1 Unused CSS selector \".list-container\"\n",
      "10:19:11 AM [vite-plugin-svelte] /Users/eyubogln/code/meerkat/meerkat/interactive/app/src/lib/TableView.svelte:77:1 Unused CSS selector \".dark .table-view\"\n",
      "10:19:11 AM [vite-plugin-svelte] /Users/eyubogln/code/meerkat/meerkat/interactive/app/src/lib/components/match_header/MatchHeader.svelte:98:1 Unused CSS selector \".list-container\"\n",
      "10:19:11 AM [vite-plugin-svelte] /Users/eyubogln/code/meerkat/meerkat/interactive/app/src/lib/components/sliceby/SliceCard.svelte:8:11 SliceCard has unused export property 'datapanel_id'. If it is for external reference only, please consider using `export const datapanel_id`\n",
      "10:19:11 AM [vite-plugin-svelte] /Users/eyubogln/code/meerkat/meerkat/interactive/app/src/lib/components/match_header/MatchHeader.svelte:98:1 Unused CSS selector \".list-container\"\n",
      "10:19:36 AM [vite] page reload src/routes/tests/TestTableView.svelte\n",
      "10:19:36 AM [vite] page reload .svelte-kit/generated/client-manifest.js\n",
      "10:19:38 AM [vite] hmr update /src/app.css\n",
      "hmr update /src/routes/network/register.svelte\n",
      "hmr update /src/app.css\n",
      "hmr update /src/routes/interface.svelte\n",
      "hmr update /src/app.css\n",
      "hmr update /src/lib/components/sliceby/SliceCards.svelte\n",
      "hmr update /src/app.css\n",
      "hmr update /src/lib/TableView.svelte\n",
      "hmr update /src/app.css\n",
      "hmr update /src/lib/components/sliceby/SliceCard.svelte\n",
      "hmr update /src/app.css\n",
      "hmr update /src/lib/components/match_header/MatchHeader.svelte\n",
      "hmr update /src/app.css\n",
      "10:19:38 AM [vite] page reload .svelte-kit/runtime/client/singletons.js\n",
      "10:19:38 AM [vite] page reload .svelte-kit/runtime/client/start.js\n",
      "10:19:38 AM [vite] hmr update /src/app.css\n",
      "hmr update /src/routes/network/register.svelte\n",
      "hmr update /src/app.css\n",
      "hmr update /src/routes/interface.svelte\n",
      "hmr update /src/app.css\n",
      "hmr update /src/lib/components/sliceby/SliceCards.svelte\n",
      "hmr update /src/app.css\n",
      "hmr update /src/lib/TableView.svelte\n",
      "hmr update /src/app.css\n",
      "hmr update /src/lib/components/sliceby/SliceCard.svelte\n",
      "hmr update /src/app.css\n",
      "hmr update /src/lib/components/match_header/MatchHeader.svelte\n",
      "hmr update /src/app.css\n",
      "10:19:38 AM [vite] page reload .svelte-kit/runtime/paths.js\n",
      "10:19:38 AM [vite] page reload .svelte-kit/generated/client-manifest.js\n",
      "10:19:38 AM [vite] page reload .svelte-kit/generated/client-matchers.js\n",
      "10:19:38 AM [vite-plugin-svelte] /Users/eyubogln/code/meerkat/meerkat/interactive/app/src/lib/TableView.svelte:77:1 Unused CSS selector \".dark .table-view\"\n",
      "10:19:38 AM [vite-plugin-svelte] /Users/eyubogln/code/meerkat/meerkat/interactive/app/src/lib/components/sliceby/SliceCard.svelte:8:11 SliceCard has unused export property 'datapanel_id'. If it is for external reference only, please consider using `export const datapanel_id`\n",
      "10:19:38 AM [vite-plugin-svelte] /Users/eyubogln/code/meerkat/meerkat/interactive/app/src/lib/TableView.svelte:77:1 Unused CSS selector \".dark .table-view\"\n",
      "10:19:38 AM [vite-plugin-svelte] /Users/eyubogln/code/meerkat/meerkat/interactive/app/src/lib/components/sliceby/SliceCard.svelte:8:11 SliceCard has unused export property 'datapanel_id'. If it is for external reference only, please consider using `export const datapanel_id`\n",
      "10:19:38 AM [vite-plugin-svelte] /Users/eyubogln/code/meerkat/meerkat/interactive/app/src/lib/components/match_header/MatchHeader.svelte:98:1 Unused CSS selector \".list-container\"\n",
      "10:19:38 AM [vite-plugin-svelte] /Users/eyubogln/code/meerkat/meerkat/interactive/app/src/lib/TableView.svelte:77:1 Unused CSS selector \".dark .table-view\"\n",
      "10:19:39 AM [vite-plugin-svelte] /Users/eyubogln/code/meerkat/meerkat/interactive/app/src/lib/components/match_header/MatchHeader.svelte:98:1 Unused CSS selector \".list-container\"\n",
      "10:19:39 AM [vite-plugin-svelte] /Users/eyubogln/code/meerkat/meerkat/interactive/app/src/lib/components/sliceby/SliceCard.svelte:8:11 SliceCard has unused export property 'datapanel_id'. If it is for external reference only, please consider using `export const datapanel_id`\n",
      "10:19:39 AM [vite-plugin-svelte] /Users/eyubogln/code/meerkat/meerkat/interactive/app/src/lib/components/match_header/MatchHeader.svelte:98:1 Unused CSS selector \".list-container\"\n",
      "10:21:11 AM [vite] page reload src/routes/tests/table/TestTable.svelte\n",
      "10:21:17 AM [vite] page reload src/routes/tests/table/TestTable.svelte\n",
      "10:21:17 AM [vite] page reload src/routes/tests/table/TestTable.svelte\n",
      "10:21:20 AM [vite] hmr update /src/app.css\n",
      "hmr update /src/routes/network/register.svelte\n",
      "hmr update /src/app.css\n",
      "hmr update /src/routes/interface.svelte\n",
      "hmr update /src/app.css\n",
      "hmr update /src/lib/components/sliceby/SliceCards.svelte\n",
      "hmr update /src/app.css\n",
      "hmr update /src/lib/TableView.svelte\n",
      "hmr update /src/app.css\n",
      "hmr update /src/lib/components/sliceby/SliceCard.svelte\n",
      "hmr update /src/app.css\n",
      "hmr update /src/lib/components/match_header/MatchHeader.svelte\n",
      "hmr update /src/app.css\n",
      "10:21:20 AM [vite] page reload .svelte-kit/runtime/client/singletons.js\n",
      "10:21:20 AM [vite] page reload .svelte-kit/runtime/client/start.js\n",
      "10:21:20 AM [vite] hmr update /src/app.css\n",
      "hmr update /src/routes/network/register.svelte\n",
      "hmr update /src/app.css\n",
      "hmr update /src/routes/interface.svelte\n",
      "hmr update /src/app.css\n",
      "hmr update /src/lib/components/sliceby/SliceCards.svelte\n",
      "hmr update /src/app.css\n",
      "hmr update /src/lib/TableView.svelte\n",
      "hmr update /src/app.css\n",
      "hmr update /src/lib/components/sliceby/SliceCard.svelte\n",
      "hmr update /src/app.css\n",
      "hmr update /src/lib/components/match_header/MatchHeader.svelte\n",
      "hmr update /src/app.css\n",
      "10:21:20 AM [vite] page reload .svelte-kit/runtime/paths.js\n",
      "10:21:20 AM [vite] page reload .svelte-kit/generated/client-manifest.js\n",
      "10:21:20 AM [vite] page reload .svelte-kit/generated/client-matchers.js\n",
      "10:21:20 AM [vite-plugin-svelte] /Users/eyubogln/code/meerkat/meerkat/interactive/app/src/lib/components/sliceby/SliceCard.svelte:8:11 SliceCard has unused export property 'datapanel_id'. If it is for external reference only, please consider using `export const datapanel_id`\n",
      "10:21:20 AM [vite-plugin-svelte] /Users/eyubogln/code/meerkat/meerkat/interactive/app/src/lib/TableView.svelte:77:1 Unused CSS selector \".dark .table-view\"\n",
      "10:21:20 AM [vite-plugin-svelte] /Users/eyubogln/code/meerkat/meerkat/interactive/app/src/lib/TableView.svelte:77:1 Unused CSS selector \".dark .table-view\"\n",
      "10:21:21 AM [vite-plugin-svelte] /Users/eyubogln/code/meerkat/meerkat/interactive/app/src/lib/components/sliceby/SliceCard.svelte:8:11 SliceCard has unused export property 'datapanel_id'. If it is for external reference only, please consider using `export const datapanel_id`\n",
      "10:21:21 AM [vite-plugin-svelte] /Users/eyubogln/code/meerkat/meerkat/interactive/app/src/lib/components/match_header/MatchHeader.svelte:98:1 Unused CSS selector \".list-container\"\n",
      "10:21:21 AM [vite-plugin-svelte] /Users/eyubogln/code/meerkat/meerkat/interactive/app/src/lib/TableView.svelte:77:1 Unused CSS selector \".dark .table-view\"\n",
      "10:21:21 AM [vite-plugin-svelte] /Users/eyubogln/code/meerkat/meerkat/interactive/app/src/lib/components/match_header/MatchHeader.svelte:98:1 Unused CSS selector \".list-container\"\n",
      "10:21:21 AM [vite-plugin-svelte] /Users/eyubogln/code/meerkat/meerkat/interactive/app/src/lib/components/sliceby/SliceCard.svelte:8:11 SliceCard has unused export property 'datapanel_id'. If it is for external reference only, please consider using `export const datapanel_id`\n",
      "10:21:21 AM [vite-plugin-svelte] /Users/eyubogln/code/meerkat/meerkat/interactive/app/src/lib/components/match_header/MatchHeader.svelte:98:1 Unused CSS selector \".list-container\"\n",
      "10:31:14 AM [vite] hmr update /src/lib/TableView.svelte\n",
      "hmr update /src/routes/__layout.svelte\n",
      "10:31:14 AM [vite] hmr update /src/lib/components/gallery/Gallery.svelte\n",
      "hmr update /src/routes/__layout.svelte\n",
      "10:31:14 AM [vite-plugin-svelte] /Users/eyubogln/code/meerkat/meerkat/interactive/app/src/lib/components/gallery/Card.svelte:110:1 Unused CSS selector \".dark .card\"\n",
      "10:31:14 AM [vite] hmr update /src/lib/components/gallery/Card.svelte?svelte&type=style&lang.css\n",
      "10:31:14 AM [vite] hmr update /src/lib/components/match_header/MatchHeader.svelte\n",
      "hmr update /src/routes/__layout.svelte\n",
      "10:31:14 AM [vite] hmr update /src/lib/components/gallery/Pill.svelte?svelte&type=style&lang.css\n",
      "10:31:15 AM [vite-plugin-svelte] /Users/eyubogln/code/meerkat/meerkat/interactive/app/src/lib/TableView.svelte:80:1 Unused CSS selector \".dark .table-view\"\n",
      "10:31:15 AM [vite-plugin-svelte] /Users/eyubogln/code/meerkat/meerkat/interactive/app/src/lib/components/gallery/Gallery.svelte:87:1 Unused CSS selector \".dark .panel\"\n",
      "10:31:15 AM [vite-plugin-svelte] /Users/eyubogln/code/meerkat/meerkat/interactive/app/src/lib/components/match_header/MatchHeader.svelte:96:1 Unused CSS selector \".list-container\"\n",
      "10:31:15 AM [vite-plugin-svelte] /Users/eyubogln/code/meerkat/meerkat/interactive/app/src/lib/TableView.svelte:80:1 Unused CSS selector \".dark .table-view\"\n"
     ]
    },
    {
     "name": "stderr",
     "output_type": "stream",
     "text": [
      "Failed to resolve import \"layercake\" from \"src/lib/components/plot/layercake/ScatterPlot.svelte\". Does the file exist?\n",
      "10:31:15 AM [vite] Internal server error: Failed to resolve import \"layercake\" from \"src/lib/components/plot/layercake/ScatterPlot.svelte\". Does the file exist?\n",
      "  Plugin: vite:import-analysis\n",
      "  File: /Users/eyubogln/code/meerkat/meerkat/interactive/app/src/lib/components/plot/layercake/ScatterPlot.svelte\n",
      "  23 |  } from \"svelte/internal\";\n",
      "  24 |  \n",
      "  25 |  import { Html, LayerCake, Svg } from 'layercake';\n",
      "     |                                        ^\n",
      "  26 |  import SvgAxisX from './axes/AxisX.svg.svelte';\n",
      "  27 |  import SvgAxisY from './axes/AxisY.svg.svelte';\n",
      "      at formatError (file:///Users/eyubogln/code/meerkat/meerkat/interactive/app/node_modules/vite/dist/node/chunks/dep-c6273c7a.js:35035:46)\n",
      "      at TransformContext.error (file:///Users/eyubogln/code/meerkat/meerkat/interactive/app/node_modules/vite/dist/node/chunks/dep-c6273c7a.js:35031:19)\n",
      "      at normalizeUrl (file:///Users/eyubogln/code/meerkat/meerkat/interactive/app/node_modules/vite/dist/node/chunks/dep-c6273c7a.js:40172:33)\n",
      "      at async TransformContext.transform (file:///Users/eyubogln/code/meerkat/meerkat/interactive/app/node_modules/vite/dist/node/chunks/dep-c6273c7a.js:40306:47)\n",
      "      at async Object.transform (file:///Users/eyubogln/code/meerkat/meerkat/interactive/app/node_modules/vite/dist/node/chunks/dep-c6273c7a.js:35284:30)\n",
      "      at async loadAndTransform (file:///Users/eyubogln/code/meerkat/meerkat/interactive/app/node_modules/vite/dist/node/chunks/dep-c6273c7a.js:39803:29)\n"
     ]
    },
    {
     "name": "stdout",
     "output_type": "stream",
     "text": [
      "10:31:15 AM [vite-plugin-svelte] /Users/eyubogln/code/meerkat/meerkat/interactive/app/src/lib/components/gallery/Gallery.svelte:87:1 Unused CSS selector \".dark .panel\"\n",
      "10:31:15 AM [vite-plugin-svelte] /Users/eyubogln/code/meerkat/meerkat/interactive/app/src/lib/components/match_header/MatchHeader.svelte:96:1 Unused CSS selector \".list-container\"\n",
      "10:31:15 AM [vite-plugin-svelte] /Users/eyubogln/code/meerkat/meerkat/interactive/app/src/lib/components/gallery/Card.svelte:110:1 Unused CSS selector \".dark .card\"\n",
      "10:31:15 AM [vite-plugin-svelte] /Users/eyubogln/code/meerkat/meerkat/interactive/app/src/lib/components/match_header/MatchHeader.svelte:96:1 Unused CSS selector \".list-container\"\n",
      "10:31:15 AM [vite-plugin-svelte] /Users/eyubogln/code/meerkat/meerkat/interactive/app/src/lib/components/gallery/Gallery.svelte:87:1 Unused CSS selector \".dark .panel\"\n",
      "10:31:15 AM [vite-plugin-svelte] /Users/eyubogln/code/meerkat/meerkat/interactive/app/src/lib/components/gallery/Card.svelte:110:1 Unused CSS selector \".dark .card\"\n",
      "10:31:15 AM [vite-plugin-svelte] /Users/eyubogln/code/meerkat/meerkat/interactive/app/src/lib/components/gallery/Card.svelte:110:1 Unused CSS selector \".dark .card\"\n"
     ]
    },
    {
     "name": "stderr",
     "output_type": "stream",
     "text": [
      "Cannot find module 'layercake' imported from '/Users/eyubogln/code/meerkat/meerkat/interactive/app/src/lib/components/plot/layercake/ScatterPlot.svelte'\n",
      "Error: Cannot find module 'layercake' imported from '/Users/eyubogln/code/meerkat/meerkat/interactive/app/src/lib/components/plot/layercake/ScatterPlot.svelte'\n",
      "    at viteResolve (file:///Users/eyubogln/code/meerkat/meerkat/interactive/app/node_modules/vite/dist/node/chunks/dep-c6273c7a.js:50392:25)\n",
      "    at nodeImport (file:///Users/eyubogln/code/meerkat/meerkat/interactive/app/node_modules/vite/dist/node/chunks/dep-c6273c7a.js:50427:15)\n",
      "    at ssrImport (file:///Users/eyubogln/code/meerkat/meerkat/interactive/app/node_modules/vite/dist/node/chunks/dep-c6273c7a.js:50322:20)\n",
      "    at eval (/src/lib/components/plot/layercake/ScatterPlot.svelte:7:37)\n",
      "    at async instantiateModule (file:///Users/eyubogln/code/meerkat/meerkat/interactive/app/node_modules/vite/dist/node/chunks/dep-c6273c7a.js:50368:9)\n",
      "Cannot find module 'layercake' imported from '/Users/eyubogln/code/meerkat/meerkat/interactive/app/src/lib/components/plot/layercake/ScatterPlot.svelte'\n",
      "Error: Cannot find module 'layercake' imported from '/Users/eyubogln/code/meerkat/meerkat/interactive/app/src/lib/components/plot/layercake/ScatterPlot.svelte'\n",
      "    at viteResolve (file:///Users/eyubogln/code/meerkat/meerkat/interactive/app/node_modules/vite/dist/node/chunks/dep-c6273c7a.js:50392:25)\n",
      "    at nodeImport (file:///Users/eyubogln/code/meerkat/meerkat/interactive/app/node_modules/vite/dist/node/chunks/dep-c6273c7a.js:50427:15)\n",
      "    at ssrImport (file:///Users/eyubogln/code/meerkat/meerkat/interactive/app/node_modules/vite/dist/node/chunks/dep-c6273c7a.js:50322:20)\n",
      "    at eval (/src/lib/components/plot/layercake/ScatterPlot.svelte:7:37)\n",
      "    at async instantiateModule (file:///Users/eyubogln/code/meerkat/meerkat/interactive/app/node_modules/vite/dist/node/chunks/dep-c6273c7a.js:50368:9)\n",
      "Cannot find module 'layercake' imported from '/Users/eyubogln/code/meerkat/meerkat/interactive/app/src/lib/components/plot/layercake/ScatterPlot.svelte'\n",
      "Error: Cannot find module 'layercake' imported from '/Users/eyubogln/code/meerkat/meerkat/interactive/app/src/lib/components/plot/layercake/ScatterPlot.svelte'\n",
      "    at viteResolve (file:///Users/eyubogln/code/meerkat/meerkat/interactive/app/node_modules/vite/dist/node/chunks/dep-c6273c7a.js:50392:25)\n",
      "    at nodeImport (file:///Users/eyubogln/code/meerkat/meerkat/interactive/app/node_modules/vite/dist/node/chunks/dep-c6273c7a.js:50427:15)\n",
      "    at ssrImport (file:///Users/eyubogln/code/meerkat/meerkat/interactive/app/node_modules/vite/dist/node/chunks/dep-c6273c7a.js:50322:20)\n",
      "    at eval (/src/lib/components/plot/layercake/ScatterPlot.svelte:7:37)\n",
      "    at async instantiateModule (file:///Users/eyubogln/code/meerkat/meerkat/interactive/app/node_modules/vite/dist/node/chunks/dep-c6273c7a.js:50368:9)\n",
      "Cannot find module 'layercake' imported from '/Users/eyubogln/code/meerkat/meerkat/interactive/app/src/lib/components/plot/layercake/ScatterPlot.svelte'\n",
      "Error: Cannot find module 'layercake' imported from '/Users/eyubogln/code/meerkat/meerkat/interactive/app/src/lib/components/plot/layercake/ScatterPlot.svelte'\n",
      "    at viteResolve (file:///Users/eyubogln/code/meerkat/meerkat/interactive/app/node_modules/vite/dist/node/chunks/dep-c6273c7a.js:50392:25)\n",
      "    at nodeImport (file:///Users/eyubogln/code/meerkat/meerkat/interactive/app/node_modules/vite/dist/node/chunks/dep-c6273c7a.js:50427:15)\n",
      "    at ssrImport (file:///Users/eyubogln/code/meerkat/meerkat/interactive/app/node_modules/vite/dist/node/chunks/dep-c6273c7a.js:50322:20)\n",
      "    at eval (/src/lib/components/plot/layercake/ScatterPlot.svelte:7:37)\n",
      "    at async instantiateModule (file:///Users/eyubogln/code/meerkat/meerkat/interactive/app/node_modules/vite/dist/node/chunks/dep-c6273c7a.js:50368:9)\n",
      "Cannot find module 'layercake' imported from '/Users/eyubogln/code/meerkat/meerkat/interactive/app/src/lib/components/plot/layercake/ScatterPlot.svelte'\n",
      "Error: Cannot find module 'layercake' imported from '/Users/eyubogln/code/meerkat/meerkat/interactive/app/src/lib/components/plot/layercake/ScatterPlot.svelte'\n",
      "    at viteResolve (file:///Users/eyubogln/code/meerkat/meerkat/interactive/app/node_modules/vite/dist/node/chunks/dep-c6273c7a.js:50392:25)\n",
      "    at nodeImport (file:///Users/eyubogln/code/meerkat/meerkat/interactive/app/node_modules/vite/dist/node/chunks/dep-c6273c7a.js:50427:15)\n",
      "    at ssrImport (file:///Users/eyubogln/code/meerkat/meerkat/interactive/app/node_modules/vite/dist/node/chunks/dep-c6273c7a.js:50322:20)\n",
      "    at eval (/src/lib/components/plot/layercake/ScatterPlot.svelte:7:37)\n",
      "    at async instantiateModule (file:///Users/eyubogln/code/meerkat/meerkat/interactive/app/node_modules/vite/dist/node/chunks/dep-c6273c7a.js:50368:9)\n",
      "Cannot find module 'layercake' imported from '/Users/eyubogln/code/meerkat/meerkat/interactive/app/src/lib/components/plot/layercake/ScatterPlot.svelte'\n",
      "Error: Cannot find module 'layercake' imported from '/Users/eyubogln/code/meerkat/meerkat/interactive/app/src/lib/components/plot/layercake/ScatterPlot.svelte'\n",
      "    at viteResolve (file:///Users/eyubogln/code/meerkat/meerkat/interactive/app/node_modules/vite/dist/node/chunks/dep-c6273c7a.js:50392:25)\n",
      "    at nodeImport (file:///Users/eyubogln/code/meerkat/meerkat/interactive/app/node_modules/vite/dist/node/chunks/dep-c6273c7a.js:50427:15)\n",
      "    at ssrImport (file:///Users/eyubogln/code/meerkat/meerkat/interactive/app/node_modules/vite/dist/node/chunks/dep-c6273c7a.js:50322:20)\n",
      "    at eval (/src/lib/components/plot/layercake/ScatterPlot.svelte:7:37)\n",
      "    at async instantiateModule (file:///Users/eyubogln/code/meerkat/meerkat/interactive/app/node_modules/vite/dist/node/chunks/dep-c6273c7a.js:50368:9)\n",
      "Cannot find module 'layercake' imported from '/Users/eyubogln/code/meerkat/meerkat/interactive/app/src/lib/components/plot/layercake/ScatterPlot.svelte'\n",
      "Error: Cannot find module 'layercake' imported from '/Users/eyubogln/code/meerkat/meerkat/interactive/app/src/lib/components/plot/layercake/ScatterPlot.svelte'\n",
      "    at viteResolve (file:///Users/eyubogln/code/meerkat/meerkat/interactive/app/node_modules/vite/dist/node/chunks/dep-c6273c7a.js:50392:25)\n",
      "    at nodeImport (file:///Users/eyubogln/code/meerkat/meerkat/interactive/app/node_modules/vite/dist/node/chunks/dep-c6273c7a.js:50427:15)\n",
      "    at ssrImport (file:///Users/eyubogln/code/meerkat/meerkat/interactive/app/node_modules/vite/dist/node/chunks/dep-c6273c7a.js:50322:20)\n",
      "    at eval (/src/lib/components/plot/layercake/ScatterPlot.svelte:7:37)\n",
      "    at async instantiateModule (file:///Users/eyubogln/code/meerkat/meerkat/interactive/app/node_modules/vite/dist/node/chunks/dep-c6273c7a.js:50368:9)\n",
      "Cannot find module 'layercake' imported from '/Users/eyubogln/code/meerkat/meerkat/interactive/app/src/lib/components/plot/layercake/ScatterPlot.svelte'\n",
      "Error: Cannot find module 'layercake' imported from '/Users/eyubogln/code/meerkat/meerkat/interactive/app/src/lib/components/plot/layercake/ScatterPlot.svelte'\n",
      "    at viteResolve (file:///Users/eyubogln/code/meerkat/meerkat/interactive/app/node_modules/vite/dist/node/chunks/dep-c6273c7a.js:50392:25)\n",
      "    at nodeImport (file:///Users/eyubogln/code/meerkat/meerkat/interactive/app/node_modules/vite/dist/node/chunks/dep-c6273c7a.js:50427:15)\n",
      "    at ssrImport (file:///Users/eyubogln/code/meerkat/meerkat/interactive/app/node_modules/vite/dist/node/chunks/dep-c6273c7a.js:50322:20)\n",
      "    at eval (/src/lib/components/plot/layercake/ScatterPlot.svelte:7:37)\n",
      "    at async instantiateModule (file:///Users/eyubogln/code/meerkat/meerkat/interactive/app/node_modules/vite/dist/node/chunks/dep-c6273c7a.js:50368:9)\n"
     ]
    },
    {
     "name": "stdout",
     "output_type": "stream",
     "text": [
      "10:48:04 AM [vite] hmr update /src/routes/index.svelte\n",
      "hmr update /src/app.css\n"
     ]
    },
    {
     "name": "stderr",
     "output_type": "stream",
     "text": [
      "Cannot find module 'layercake' imported from '/Users/eyubogln/code/meerkat/meerkat/interactive/app/src/lib/components/plot/layercake/ScatterPlot.svelte'\n",
      "Error: Cannot find module 'layercake' imported from '/Users/eyubogln/code/meerkat/meerkat/interactive/app/src/lib/components/plot/layercake/ScatterPlot.svelte'\n",
      "    at viteResolve (file:///Users/eyubogln/code/meerkat/meerkat/interactive/app/node_modules/vite/dist/node/chunks/dep-c6273c7a.js:50392:25)\n",
      "    at nodeImport (file:///Users/eyubogln/code/meerkat/meerkat/interactive/app/node_modules/vite/dist/node/chunks/dep-c6273c7a.js:50427:15)\n",
      "    at ssrImport (file:///Users/eyubogln/code/meerkat/meerkat/interactive/app/node_modules/vite/dist/node/chunks/dep-c6273c7a.js:50322:20)\n",
      "    at eval (/src/lib/components/plot/layercake/ScatterPlot.svelte:7:37)\n",
      "    at async instantiateModule (file:///Users/eyubogln/code/meerkat/meerkat/interactive/app/node_modules/vite/dist/node/chunks/dep-c6273c7a.js:50368:9)\n",
      "Cannot find module 'layercake' imported from '/Users/eyubogln/code/meerkat/meerkat/interactive/app/src/lib/components/plot/layercake/ScatterPlot.svelte'\n",
      "Error: Cannot find module 'layercake' imported from '/Users/eyubogln/code/meerkat/meerkat/interactive/app/src/lib/components/plot/layercake/ScatterPlot.svelte'\n",
      "    at viteResolve (file:///Users/eyubogln/code/meerkat/meerkat/interactive/app/node_modules/vite/dist/node/chunks/dep-c6273c7a.js:50392:25)\n",
      "    at nodeImport (file:///Users/eyubogln/code/meerkat/meerkat/interactive/app/node_modules/vite/dist/node/chunks/dep-c6273c7a.js:50427:15)\n",
      "    at ssrImport (file:///Users/eyubogln/code/meerkat/meerkat/interactive/app/node_modules/vite/dist/node/chunks/dep-c6273c7a.js:50322:20)\n",
      "    at eval (/src/lib/components/plot/layercake/ScatterPlot.svelte:7:37)\n",
      "    at async instantiateModule (file:///Users/eyubogln/code/meerkat/meerkat/interactive/app/node_modules/vite/dist/node/chunks/dep-c6273c7a.js:50368:9)\n",
      "Cannot find module 'layercake' imported from '/Users/eyubogln/code/meerkat/meerkat/interactive/app/src/lib/components/plot/layercake/ScatterPlot.svelte'\n",
      "Error: Cannot find module 'layercake' imported from '/Users/eyubogln/code/meerkat/meerkat/interactive/app/src/lib/components/plot/layercake/ScatterPlot.svelte'\n",
      "    at viteResolve (file:///Users/eyubogln/code/meerkat/meerkat/interactive/app/node_modules/vite/dist/node/chunks/dep-c6273c7a.js:50392:25)\n",
      "    at nodeImport (file:///Users/eyubogln/code/meerkat/meerkat/interactive/app/node_modules/vite/dist/node/chunks/dep-c6273c7a.js:50427:15)\n",
      "    at ssrImport (file:///Users/eyubogln/code/meerkat/meerkat/interactive/app/node_modules/vite/dist/node/chunks/dep-c6273c7a.js:50322:20)\n",
      "    at eval (/src/lib/components/plot/layercake/ScatterPlot.svelte:7:37)\n",
      "    at async instantiateModule (file:///Users/eyubogln/code/meerkat/meerkat/interactive/app/node_modules/vite/dist/node/chunks/dep-c6273c7a.js:50368:9)\n",
      "Cannot find module 'layercake' imported from '/Users/eyubogln/code/meerkat/meerkat/interactive/app/src/lib/components/plot/layercake/ScatterPlot.svelte'\n",
      "Error: Cannot find module 'layercake' imported from '/Users/eyubogln/code/meerkat/meerkat/interactive/app/src/lib/components/plot/layercake/ScatterPlot.svelte'\n",
      "    at viteResolve (file:///Users/eyubogln/code/meerkat/meerkat/interactive/app/node_modules/vite/dist/node/chunks/dep-c6273c7a.js:50392:25)\n",
      "    at nodeImport (file:///Users/eyubogln/code/meerkat/meerkat/interactive/app/node_modules/vite/dist/node/chunks/dep-c6273c7a.js:50427:15)\n",
      "    at ssrImport (file:///Users/eyubogln/code/meerkat/meerkat/interactive/app/node_modules/vite/dist/node/chunks/dep-c6273c7a.js:50322:20)\n",
      "    at eval (/src/lib/components/plot/layercake/ScatterPlot.svelte:7:37)\n",
      "    at async instantiateModule (file:///Users/eyubogln/code/meerkat/meerkat/interactive/app/node_modules/vite/dist/node/chunks/dep-c6273c7a.js:50368:9)\n"
     ]
    }
   ],
   "source": [
    "cb.gui.cards(main_column=\"img\", tag_columns=[\"label_idx\"])\n"
   ]
  },
  {
   "cell_type": "code",
   "execution_count": null,
   "metadata": {},
   "outputs": [],
   "source": []
  }
 ],
 "metadata": {
  "kernelspec": {
   "display_name": "Python 3.8.11 ('meerkat')",
   "language": "python",
   "name": "python3"
  },
  "language_info": {
   "codemirror_mode": {
    "name": "ipython",
    "version": 3
   },
   "file_extension": ".py",
   "mimetype": "text/x-python",
   "name": "python",
   "nbconvert_exporter": "python",
   "pygments_lexer": "ipython3",
   "version": "3.8.11"
  },
  "orig_nbformat": 4,
  "vscode": {
   "interpreter": {
    "hash": "96dff6f5004106d02e498591bec065b0f2cd6ad02b2a1a76f1b2f4046570fc42"
   }
  }
 },
 "nbformat": 4,
 "nbformat_minor": 2
}
