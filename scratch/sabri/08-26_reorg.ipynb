{
 "cells": [
  {
   "cell_type": "code",
   "execution_count": 1,
   "metadata": {},
   "outputs": [],
   "source": [
    "%load_ext autoreload\n",
    "%autoreload 2"
   ]
  },
  {
   "cell_type": "code",
   "execution_count": 2,
   "metadata": {},
   "outputs": [],
   "source": [
    "import meerkat as mk"
   ]
  },
  {
   "cell_type": "code",
   "execution_count": 3,
   "metadata": {},
   "outputs": [
    {
     "name": "stdout",
     "output_type": "stream",
     "text": [
      "\n",
      "> src@0.0.1 dev\n",
      "> vite dev \"--port\" \"7861\"\n",
      "\n",
      "\n",
      "  VITE v3.0.3  ready in 352 ms\n",
      "\n",
      "  ➜  Local:   http://localhost:7861/\n",
      "  ➜  Network: use --host to expose\n"
     ]
    }
   ],
   "source": [
    "network, register_api = mk.interactive_mode()"
   ]
  },
  {
   "cell_type": "code",
   "execution_count": 4,
   "metadata": {},
   "outputs": [
    {
     "data": {
      "text/html": [
       "\n",
       "        <iframe\n",
       "            width=\"1\"\n",
       "            height=\"1\"\n",
       "            src=\"http://localhost:7861/network/register?api=http://127.0.0.1:7860\"\n",
       "            frameborder=\"0\"\n",
       "            allowfullscreen\n",
       "            \n",
       "        ></iframe>\n",
       "        "
      ],
      "text/plain": [
       "<IPython.lib.display.IFrame at 0x10768cd30>"
      ]
     },
     "execution_count": 4,
     "metadata": {},
     "output_type": "execute_result"
    }
   ],
   "source": [
    "register_api()"
   ]
  },
  {
   "cell_type": "code",
   "execution_count": 5,
   "metadata": {},
   "outputs": [
    {
     "ename": "TypeError",
     "evalue": "__init__() missing 2 required positional arguments: 'main_column' and 'tag_columns'",
     "output_type": "error",
     "traceback": [
      "\u001b[0;31m---------------------------------------------------------------------------\u001b[0m",
      "\u001b[0;31mTypeError\u001b[0m                                 Traceback (most recent call last)",
      "\u001b[1;32m/Users/eyubogln/code/meerkat/scratch/sabri/08-26_reorg.ipynb Cell 5'\u001b[0m in \u001b[0;36m<cell line: 6>\u001b[0;34m()\u001b[0m\n\u001b[1;32m      <a href='vscode-notebook-cell:/Users/eyubogln/code/meerkat/scratch/sabri/08-26_reorg.ipynb#ch0000004?line=3'>4</a>\u001b[0m dp \u001b[39m=\u001b[39m mk\u001b[39m.\u001b[39mDataPanel\u001b[39m.\u001b[39mread(\u001b[39m\"\u001b[39m\u001b[39mdata/imagenette_clustered.mk\u001b[39m\u001b[39m\"\u001b[39m)\n\u001b[1;32m      <a href='vscode-notebook-cell:/Users/eyubogln/code/meerkat/scratch/sabri/08-26_reorg.ipynb#ch0000004?line=4'>5</a>\u001b[0m dp \u001b[39m=\u001b[39m dp[\u001b[39m\"\u001b[39m\u001b[39mimg\u001b[39m\u001b[39m\"\u001b[39m, \u001b[39m\"\u001b[39m\u001b[39mpath\u001b[39m\u001b[39m\"\u001b[39m, \u001b[39m\"\u001b[39m\u001b[39mlabel\u001b[39m\u001b[39m\"\u001b[39m, \u001b[39m\"\u001b[39m\u001b[39msplit\u001b[39m\u001b[39m\"\u001b[39m, \u001b[39m\"\u001b[39m\u001b[39mimg_path\u001b[39m\u001b[39m\"\u001b[39m, \u001b[39m\"\u001b[39m\u001b[39mlabel_idx\u001b[39m\u001b[39m\"\u001b[39m, \u001b[39m\"\u001b[39m\u001b[39mclip(img)\u001b[39m\u001b[39m\"\u001b[39m]\n\u001b[0;32m----> <a href='vscode-notebook-cell:/Users/eyubogln/code/meerkat/scratch/sabri/08-26_reorg.ipynb#ch0000004?line=5'>6</a>\u001b[0m interface \u001b[39m=\u001b[39m MatchGalleryInterface(\n\u001b[1;32m      <a href='vscode-notebook-cell:/Users/eyubogln/code/meerkat/scratch/sabri/08-26_reorg.ipynb#ch0000004?line=6'>7</a>\u001b[0m     dp,\n\u001b[1;32m      <a href='vscode-notebook-cell:/Users/eyubogln/code/meerkat/scratch/sabri/08-26_reorg.ipynb#ch0000004?line=7'>8</a>\u001b[0m     id_column\u001b[39m=\u001b[39;49m\u001b[39m\"\u001b[39;49m\u001b[39mimg_path\u001b[39;49m\u001b[39m\"\u001b[39;49m,\n\u001b[1;32m      <a href='vscode-notebook-cell:/Users/eyubogln/code/meerkat/scratch/sabri/08-26_reorg.ipynb#ch0000004?line=8'>9</a>\u001b[0m     against\u001b[39m=\u001b[39;49m\u001b[39m\"\u001b[39;49m\u001b[39mimg\u001b[39;49m\u001b[39m\"\u001b[39;49m\n\u001b[1;32m     <a href='vscode-notebook-cell:/Users/eyubogln/code/meerkat/scratch/sabri/08-26_reorg.ipynb#ch0000004?line=9'>10</a>\u001b[0m )\n",
      "\u001b[0;31mTypeError\u001b[0m: __init__() missing 2 required positional arguments: 'main_column' and 'tag_columns'"
     ]
    }
   ],
   "source": [
    "from meerkat.interactive.app.src.lib.interfaces.match_gallery import MatchGalleryInterface\n",
    "\n",
    "\n",
    "dp = mk.DataPanel.read(\"data/imagenette_clustered.mk\")\n",
    "dp = dp[\"img\", \"path\", \"label\", \"split\", \"img_path\", \"label_idx\", \"clip(img)\"]\n",
    "interface = MatchGalleryInterface(\n",
    "    dp,\n",
    "    id_column=\"img_path\",\n",
    "    against=\"img\",\n",
    "    main_column=\"img\",\n",
    "    tag_columns=[\"label\", \"split\"],\n",
    ")\n"
   ]
  },
  {
   "cell_type": "code",
   "execution_count": null,
   "metadata": {},
   "outputs": [],
   "source": []
  },
  {
   "cell_type": "code",
   "execution_count": 11,
   "metadata": {},
   "outputs": [
    {
     "data": {
      "text/html": [
       "\n",
       "        <iframe\n",
       "            width=\"100%\"\n",
       "            height=\"1000\"\n",
       "            src=\"http://localhost:7861/interface?id=744e49b06a5444b49cd4aa23cf014bc8\"\n",
       "            frameborder=\"0\"\n",
       "            allowfullscreen\n",
       "            \n",
       "        ></iframe>\n",
       "        "
      ],
      "text/plain": [
       "<IPython.lib.display.IFrame at 0x13f115490>"
      ]
     },
     "execution_count": 11,
     "metadata": {},
     "output_type": "execute_result"
    },
    {
     "name": "stdout",
     "output_type": "stream",
     "text": [
      "5:40:55 PM [vite-plugin-svelte] /Users/eyubogln/code/meerkat/meerkat/interactive/app/src/routes/interface.svelte:192:1 Unused CSS selector \".dragger\"\n",
      "5:40:55 PM [vite-plugin-svelte] /Users/eyubogln/code/meerkat/meerkat/interactive/app/src/routes/interface.svelte:207:0 Unused CSS selector \".dragger:hover\"\n",
      "Triggering store a31a8ce564774600a48b59c13ba0eb18 \n",
      "Triggering store 2649785ecb064e9aa67f5d80ee08c06e label\n",
      "Triggering store 2b93c1cd3e684b458148e3b5cf9a88b6 label\n",
      "Triggering store 177a5c4a65774e0d8ec4d3123a75d09a label\n",
      "[]\n",
      "[]\n",
      "[]\n",
      "[\n",
      "  {\n",
      "    id: '2b93c1cd3e684b458148e3b5cf9a88b6',\n",
      "    value: 'label',\n",
      "    type: 'store'\n",
      "  },\n",
      "  {\n",
      "    id: '61eadd6ddc13443786ffde1dcdb31158',\n",
      "    scope: [\n",
      "      'img',\n",
      "      'path',\n",
      "      'label',\n",
      "      'split',\n",
      "      'img_path',\n",
      "      'label_idx',\n",
      "      'clip(img)',\n",
      "      '_match_img_cat',\n",
      "      '_match_img_dog'\n",
      "    ],\n",
      "    type: 'box'\n",
      "  }\n",
      "]\n",
      "5:40:56 PM [vite-plugin-svelte] /Users/eyubogln/code/meerkat/meerkat/interactive/app/src/routes/interface.svelte:192:1 Unused CSS selector \".dragger\"\n",
      "5:40:56 PM [vite-plugin-svelte] /Users/eyubogln/code/meerkat/meerkat/interactive/app/src/routes/interface.svelte:207:0 Unused CSS selector \".dragger:hover\"\n"
     ]
    },
    {
     "data": {
      "application/vnd.jupyter.widget-view+json": {
       "model_id": "bd52c8e2134848129f818d02a235b935",
       "version_major": 2,
       "version_minor": 0
      },
      "text/plain": [
       "  0%|          | 0/1 [00:00<?, ?it/s]"
      ]
     },
     "metadata": {},
     "output_type": "display_data"
    },
    {
     "name": "stdout",
     "output_type": "stream",
     "text": [
      "5:47:27 PM [vite] hmr update /src/lib/component/table/Table.svelte\n",
      "hmr update /src/routes/__layout.svelte\n",
      "5:47:27 PM [vite-plugin-svelte] /Users/eyubogln/code/meerkat/meerkat/interactive/app/src/lib/component/table/Table.svelte:12:11 Table_1 has unused export property 'view'. If it is for external reference only, please consider using `export const view`\n",
      "5:50:02 PM [vite] hmr update /src/lib/component/table/Table.svelte\n",
      "hmr update /src/app.css\n",
      "5:52:00 PM [vite] hmr update /src/lib/component/table/Table.svelte\n",
      "hmr update /src/app.css\n",
      "5:52:33 PM [vite] hmr update /src/lib/component/table/Table.svelte\n",
      "hmr update /src/app.css\n",
      "5:52:33 PM [vite-plugin-svelte] /Users/eyubogln/code/meerkat/meerkat/interactive/app/src/lib/components/gallery/Gallery.svelte:138:1 Unused CSS selector \".dark .panel\"\n",
      "5:52:33 PM [vite-plugin-svelte] /Users/eyubogln/code/meerkat/meerkat/interactive/app/src/lib/components/common/Slider.svelte:6:11 Slider has unused export property 'size'. If it is for external reference only, please consider using `export const size`\n",
      "5:52:33 PM [vite-plugin-svelte] /Users/eyubogln/code/meerkat/meerkat/interactive/app/src/lib/components/gallery/Card.svelte:104:1 Unused CSS selector \".card\"\n",
      "5:52:33 PM [vite-plugin-svelte] /Users/eyubogln/code/meerkat/meerkat/interactive/app/src/lib/components/gallery/Card.svelte:114:1 Unused CSS selector \".dark .card\"\n",
      "5:52:33 PM [vite-plugin-svelte] /Users/eyubogln/code/meerkat/meerkat/interactive/app/src/lib/components/gallery/Card.svelte:149:1 Unused CSS selector \".subcontent\"\n",
      "5:52:33 PM [vite-plugin-svelte] /Users/eyubogln/code/meerkat/meerkat/interactive/app/src/lib/components/gallery/Card.svelte:171:1 Unused CSS selector \".subcontent:hover\"\n",
      "5:52:43 PM [vite] hmr update /src/lib/component/table/Table.svelte\n",
      "hmr update /src/app.css\n",
      "5:52:43 PM [vite-plugin-svelte] /Users/eyubogln/code/meerkat/meerkat/interactive/app/src/routes/interface.svelte:192:1 Unused CSS selector \".dragger\"\n",
      "5:52:43 PM [vite-plugin-svelte] /Users/eyubogln/code/meerkat/meerkat/interactive/app/src/routes/interface.svelte:207:0 Unused CSS selector \".dragger:hover\"\n",
      "Triggering store a31a8ce564774600a48b59c13ba0eb18 \n",
      "Triggering store 2649785ecb064e9aa67f5d80ee08c06e label\n",
      "Triggering store 2b93c1cd3e684b458148e3b5cf9a88b6 label\n",
      "Triggering store 177a5c4a65774e0d8ec4d3123a75d09a label\n",
      "[]\n",
      "[]\n",
      "[]\n",
      "[\n",
      "  {\n",
      "    id: '177a5c4a65774e0d8ec4d3123a75d09a',\n",
      "    value: 'label',\n",
      "    type: 'store'\n",
      "  },\n",
      "  {\n",
      "    id: 'edf16dda539a431eb51e388ce05bc613',\n",
      "    scope: [\n",
      "      'img',\n",
      "      'path',\n",
      "      'label',\n",
      "      'split',\n",
      "      'img_path',\n",
      "      'label_idx',\n",
      "      'clip(img)',\n",
      "      '_match_img_cat\\\\'\n",
      "    ],\n",
      "    type: 'box'\n",
      "  }\n",
      "]\n",
      "5:52:43 PM [vite-plugin-svelte] /Users/eyubogln/code/meerkat/meerkat/interactive/app/src/routes/interface.svelte:192:1 Unused CSS selector \".dragger\"\n",
      "5:52:43 PM [vite-plugin-svelte] /Users/eyubogln/code/meerkat/meerkat/interactive/app/src/routes/interface.svelte:207:0 Unused CSS selector \".dragger:hover\"\n",
      "5:53:06 PM [vite] hmr update /src/routes/__layout.svelte\n",
      "hmr update /src/routes/interface.svelte\n",
      "hmr update /src/routes/__layout.svelte\n",
      "5:53:06 PM [vite-plugin-svelte] /Users/eyubogln/code/meerkat/meerkat/interactive/app/src/routes/interface.svelte:192:1 Unused CSS selector \".dragger\"\n",
      "5:53:06 PM [vite-plugin-svelte] /Users/eyubogln/code/meerkat/meerkat/interactive/app/src/routes/interface.svelte:207:0 Unused CSS selector \".dragger:hover\"\n",
      "5:54:11 PM [vite] hmr update /src/lib/component/match/Match.svelte\n",
      "hmr update /src/app.css\n",
      "6:01:14 PM [vite] hmr update /src/app.css\n",
      "hmr update /src/routes/interface.svelte\n",
      "hmr update /src/app.css\n",
      "6:01:14 PM [vite-plugin-svelte] /Users/eyubogln/code/meerkat/meerkat/interactive/app/src/routes/interface.svelte:192:1 Unused CSS selector \".dragger\"\n",
      "6:01:14 PM [vite-plugin-svelte] /Users/eyubogln/code/meerkat/meerkat/interactive/app/src/routes/interface.svelte:207:0 Unused CSS selector \".dragger:hover\"\n",
      "6:01:16 PM [vite] hmr update /src/app.css\n",
      "hmr update /src/routes/interface.svelte\n",
      "hmr update /src/app.css\n",
      "6:01:16 PM [vite-plugin-svelte] /Users/eyubogln/code/meerkat/meerkat/interactive/app/src/routes/interface.svelte:192:1 Unused CSS selector \".dragger\"\n",
      "6:01:16 PM [vite-plugin-svelte] /Users/eyubogln/code/meerkat/meerkat/interactive/app/src/routes/interface.svelte:207:0 Unused CSS selector \".dragger:hover\"\n",
      "6:01:55 PM [vite] hmr update /src/app.css\n",
      "hmr update /src/routes/interface.svelte\n",
      "hmr update /src/app.css\n",
      "6:01:55 PM [vite-plugin-svelte] /Users/eyubogln/code/meerkat/meerkat/interactive/app/src/routes/interface.svelte:192:1 Unused CSS selector \".dragger\"\n",
      "6:01:55 PM [vite-plugin-svelte] /Users/eyubogln/code/meerkat/meerkat/interactive/app/src/routes/interface.svelte:207:0 Unused CSS selector \".dragger:hover\"\n",
      "6:01:57 PM [vite] hmr update /src/app.css\n",
      "hmr update /src/routes/interface.svelte\n",
      "hmr update /src/app.css\n",
      "6:01:57 PM [vite-plugin-svelte] /Users/eyubogln/code/meerkat/meerkat/interactive/app/src/routes/interface.svelte:192:1 Unused CSS selector \".dragger\"\n",
      "6:01:57 PM [vite-plugin-svelte] /Users/eyubogln/code/meerkat/meerkat/interactive/app/src/routes/interface.svelte:207:0 Unused CSS selector \".dragger:hover\"\n"
     ]
    }
   ],
   "source": [
    "interface.launch()"
   ]
  },
  {
   "cell_type": "code",
   "execution_count": 20,
   "metadata": {},
   "outputs": [
    {
     "data": {
      "application/vnd.jupyter.widget-view+json": {
       "model_id": "e8e4263e10f94575b28c23f90f611f98",
       "version_major": 2,
       "version_minor": 0
      },
      "text/plain": [
       "  0%|          | 0/1 [00:00<?, ?it/s]"
      ]
     },
     "metadata": {},
     "output_type": "display_data"
    }
   ],
   "source": [
    "out = mk.embed(data=mk.PandasSeriesColumn([\"hello\"]))"
   ]
  },
  {
   "cell_type": "code",
   "execution_count": 22,
   "metadata": {},
   "outputs": [
    {
     "data": {
      "text/plain": [
       "(1, 512)"
      ]
     },
     "execution_count": 22,
     "metadata": {},
     "output_type": "execute_result"
    },
    {
     "name": "stdout",
     "output_type": "stream",
     "text": [
      "5:16:35 PM [vite] hmr update /src/lib/component/match/Match.svelte\n",
      "hmr update /src/routes/__layout.svelte\n",
      "5:17:16 PM [vite] hmr update /src/lib/component/match/Match.svelte\n",
      "hmr update /src/app.css\n",
      "5:17:22 PM [vite] hmr update /src/lib/component/match/Match.svelte\n",
      "hmr update /src/app.css\n",
      "5:19:25 PM [vite] hmr update /src/lib/component/match/Match.svelte\n",
      "hmr update /src/app.css\n"
     ]
    }
   ],
   "source": [
    "out.shape"
   ]
  },
  {
   "cell_type": "code",
   "execution_count": null,
   "metadata": {},
   "outputs": [],
   "source": []
  }
 ],
 "metadata": {
  "kernelspec": {
   "display_name": "Python 3.8.13 ('domino')",
   "language": "python",
   "name": "python3"
  },
  "language_info": {
   "codemirror_mode": {
    "name": "ipython",
    "version": 3
   },
   "file_extension": ".py",
   "mimetype": "text/x-python",
   "name": "python",
   "nbconvert_exporter": "python",
   "pygments_lexer": "ipython3",
   "version": "3.8.13"
  },
  "orig_nbformat": 4,
  "vscode": {
   "interpreter": {
    "hash": "7dc70abeb586db4fbbb19fd8ec040a8328b2a3c884b1c8ab3f626b1589cb18a0"
   }
  }
 },
 "nbformat": 4,
 "nbformat_minor": 2
}
