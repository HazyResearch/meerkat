{
 "cells": [
  {
   "cell_type": "code",
   "execution_count": 1,
   "metadata": {},
   "outputs": [],
   "source": [
    "%load_ext autoreload\n",
    "%autoreload 2"
   ]
  },
  {
   "cell_type": "code",
   "execution_count": 2,
   "metadata": {},
   "outputs": [],
   "source": [
    "import meerkat as mk"
   ]
  },
  {
   "cell_type": "code",
   "execution_count": 3,
   "metadata": {},
   "outputs": [
    {
     "name": "stdout",
     "output_type": "stream",
     "text": [
      "\n",
      "> src@0.0.1 dev\n",
      "> vite dev \"--port\" \"7861\"\n",
      "\n",
      "\n",
      "  VITE v3.0.3  ready in 332 ms\n",
      "\n",
      "  ➜  Local:   http://localhost:7861/\n",
      "  ➜  Network: use --host to expose\n"
     ]
    },
    {
     "name": "stdout",
     "output_type": "stream",
     "text": [
      "1:45:05 PM [vite-plugin-svelte] /Users/eyubogln/code/meerkat/meerkat/interactive/app/src/routes/interface.svelte:245:1 Unused CSS selector \".dragger\"\n",
      "1:45:05 PM [vite-plugin-svelte] /Users/eyubogln/code/meerkat/meerkat/interactive/app/src/routes/interface.svelte:260:0 Unused CSS selector \".dragger:hover\"\n"
     ]
    }
   ],
   "source": [
    "network, register_api = mk.interactive_mode()"
   ]
  },
  {
   "cell_type": "code",
   "execution_count": 4,
   "metadata": {},
   "outputs": [
    {
     "data": {
      "text/html": [
       "\n",
       "        <iframe\n",
       "            width=\"1\"\n",
       "            height=\"1\"\n",
       "            src=\"http://localhost:7861/network/register?api=http://127.0.0.1:7860\"\n",
       "            frameborder=\"0\"\n",
       "            allowfullscreen\n",
       "            \n",
       "        ></iframe>\n",
       "        "
      ],
      "text/plain": [
       "<IPython.lib.display.IFrame at 0x104ff35b0>"
      ]
     },
     "execution_count": 4,
     "metadata": {},
     "output_type": "execute_result"
    }
   ],
   "source": [
    "register_api()"
   ]
  },
  {
   "cell_type": "code",
   "execution_count": 5,
   "metadata": {},
   "outputs": [],
   "source": [
    "from meerkat.interactive.app.src.lib.interfaces.plot_gallery import PlotInterface\n",
    "\n",
    "dp = mk.DataPanel.read(\"data/imagenette_clustered.mk\")\n",
    "#dp = dp[\"path\", \"label\", \"img\", \"clip(img)\"]\n",
    "interface = PlotInterface(\n",
    "    dp,\n",
    "    id_column=\"img_path\"\n",
    ")\n"
   ]
  },
  {
   "cell_type": "code",
   "execution_count": 6,
   "metadata": {},
   "outputs": [
    {
     "name": "stdout",
     "output_type": "stream",
     "text": [
      "http://localhost:7861/interface?id=f5f0a30044f84874b5b6cc8115c03a08\n"
     ]
    },
    {
     "name": "stdout",
     "output_type": "stream",
     "text": [
      "14482e647dbc4079bcf584735c93608f changed\n",
      "676bbff5baee4443a187f6dfebf1cf73 changed\n",
      "c6eab9bec9e447bfbda0ad9b80fe69fd changed\n",
      "f127f5dd0b7b4f92bbe19113a2d9380c changed\n",
      "2d1b51b2f8a84161b154d199710b4913 changed\n",
      "dd1a95a1bb7848ea96a751bf2d34c635 changed\n",
      "1d0ae7c5b8cd45b4a7c9ffb0ef091536 changed\n",
      "6fa86e5d05d2481287bb63f7e302f528 changed\n",
      "1:45:18 PM [vite-plugin-svelte] /Users/eyubogln/code/meerkat/meerkat/interactive/app/src/routes/interface.svelte:245:1 Unused CSS selector \".dragger\"\n",
      "1:45:18 PM [vite-plugin-svelte] /Users/eyubogln/code/meerkat/meerkat/interactive/app/src/routes/interface.svelte:260:0 Unused CSS selector \".dragger:hover\"\n",
      "1:45:19 PM [vite-plugin-svelte] /Users/eyubogln/code/meerkat/meerkat/interactive/app/src/lib/component/plot/Plot.svelte:6:11 Plot has unused export property 'selection'. If it is for external reference only, please consider using `export const selection`\n"
     ]
    },
    {
     "name": "stderr",
     "output_type": "stream",
     "text": [
      "/Users/eyubogln/code/meerkat/meerkat/columns/pandas_column.py:230: SettingWithCopyWarning: \n",
      "A value is trying to be set on a copy of a slice from a DataFrame\n",
      "\n",
      "See the caveats in the documentation: https://pandas.pydata.org/pandas-docs/stable/user_guide/indexing.html#returning-a-view-versus-a-copy\n",
      "  self._data.iloc[indices] = values\n"
     ]
    },
    {
     "name": "stdout",
     "output_type": "stream",
     "text": [
      "1:48:36 PM [vite] hmr update /src/lib/component/StoreComponent.svelte\n",
      "hmr update /src/app.css\n",
      "1:48:36 PM [vite] hmr update /src/app.css\n",
      "hmr update /src/routes/interface.svelte\n",
      "hmr update /src/app.css\n",
      "hmr update /src/lib/component/StoreComponent.svelte\n",
      "hmr update /src/app.css\n",
      "hmr update /src/app.css\n",
      "hmr update /src/routes/interface.svelte\n",
      "hmr update /src/app.css\n",
      "hmr update /src/app.css\n",
      "hmr update /src/routes/interface.svelte\n",
      "hmr update /src/app.css\n",
      "hmr update /src/lib/component/match/Match.svelte\n",
      "hmr update /src/app.css\n",
      "1:48:36 PM [vite] hmr update /src/app.css\n",
      "hmr update /src/routes/interface.svelte\n",
      "hmr update /src/app.css\n",
      "hmr update /src/app.css\n",
      "hmr update /src/routes/interface.svelte\n",
      "hmr update /src/app.css\n",
      "hmr update /src/lib/component/match/Match.svelte\n",
      "hmr update /src/app.css\n",
      "\u001b[96msrc/routes/interface.svelte\u001b[0m:\u001b[93m97\u001b[0m:\u001b[93m1\u001b[0m - \u001b[91merror\u001b[0m\u001b[90m TS1185: \u001b[0mMerge conflict marker encountered.\n",
      "\n",
      "\u001b[7m97\u001b[0m <<<<<<< HEAD\n",
      "\u001b[7m  \u001b[0m \u001b[91m~~~~~~~\u001b[0m\n",
      "\u001b[96msrc/routes/interface.svelte\u001b[0m:\u001b[93m99\u001b[0m:\u001b[93m1\u001b[0m - \u001b[91merror\u001b[0m\u001b[90m TS1185: \u001b[0mMerge conflict marker encountered.\n",
      "\n",
      "\u001b[7m99\u001b[0m =======\n",
      "\u001b[7m  \u001b[0m \u001b[91m~~~~~~~\u001b[0m\n",
      "\u001b[96msrc/routes/interface.svelte\u001b[0m:\u001b[93m101\u001b[0m:\u001b[93m1\u001b[0m - \u001b[91merror\u001b[0m\u001b[90m TS1185: \u001b[0mMerge conflict marker encountered.\n",
      "\n",
      "\u001b[7m101\u001b[0m >>>>>>> d8891d22e62a3fa113c6ae0819df96cd2eef2111\n",
      "\u001b[7m   \u001b[0m \u001b[91m~~~~~~~\u001b[0m\n",
      "\u001b[96msrc/routes/interface.svelte\u001b[0m:\u001b[93m107\u001b[0m:\u001b[93m1\u001b[0m - \u001b[91merror\u001b[0m\u001b[90m TS1185: \u001b[0mMerge conflict marker encountered.\n",
      "\n",
      "\u001b[7m107\u001b[0m <<<<<<< HEAD\n",
      "\u001b[7m   \u001b[0m \u001b[91m~~~~~~~\u001b[0m\n",
      "\u001b[96msrc/routes/interface.svelte\u001b[0m:\u001b[93m109\u001b[0m:\u001b[93m1\u001b[0m - \u001b[91merror\u001b[0m\u001b[90m TS1185: \u001b[0mMerge conflict marker encountered.\n",
      "\n",
      "\u001b[7m109\u001b[0m =======\n",
      "\u001b[7m   \u001b[0m \u001b[91m~~~~~~~\u001b[0m\n",
      "\u001b[96msrc/routes/interface.svelte\u001b[0m:\u001b[93m111\u001b[0m:\u001b[93m1\u001b[0m - \u001b[91merror\u001b[0m\u001b[90m TS1185: \u001b[0mMerge conflict marker encountered.\n",
      "\n",
      "\u001b[7m111\u001b[0m >>>>>>> d8891d22e62a3fa113c6ae0819df96cd2eef2111\n",
      "\u001b[7m   \u001b[0m \u001b[91m~~~~~~~\u001b[0m\n",
      "\u001b[96msrc/routes/interface.svelte\u001b[0m:\u001b[93m118\u001b[0m:\u001b[93m1\u001b[0m - \u001b[91merror\u001b[0m\u001b[90m TS1185: \u001b[0mMerge conflict marker encountered.\n",
      "\n",
      "\u001b[7m118\u001b[0m <<<<<<< HEAD\n",
      "\u001b[7m   \u001b[0m \u001b[91m~~~~~~~\u001b[0m\n",
      "\u001b[96msrc/routes/interface.svelte\u001b[0m:\u001b[93m120\u001b[0m:\u001b[93m1\u001b[0m - \u001b[91merror\u001b[0m\u001b[90m TS1185: \u001b[0mMerge conflict marker encountered.\n",
      "\n",
      "\u001b[7m120\u001b[0m =======\n",
      "\u001b[7m   \u001b[0m \u001b[91m~~~~~~~\u001b[0m\n",
      "\u001b[96msrc/routes/interface.svelte\u001b[0m:\u001b[93m122\u001b[0m:\u001b[93m1\u001b[0m - \u001b[91merror\u001b[0m\u001b[90m TS1185: \u001b[0mMerge conflict marker encountered.\n",
      "\n",
      "\u001b[7m122\u001b[0m >>>>>>> d8891d22e62a3fa113c6ae0819df96cd2eef2111\n",
      "\u001b[7m   \u001b[0m \u001b[91m~~~~~~~\u001b[0m\n",
      "\n",
      "\u001b[96msrc/routes/interface.svelte\u001b[0m:\u001b[93m97\u001b[0m:\u001b[93m1\u001b[0m - \u001b[91merror\u001b[0m\u001b[90m TS1185: \u001b[0mMerge conflict marker encountered.\n",
      "\n",
      "\u001b[7m97\u001b[0m <<<<<<< HEAD\n",
      "\u001b[7m  \u001b[0m \u001b[91m~~~~~~~\u001b[0m\n",
      "\u001b[96msrc/routes/interface.svelte\u001b[0m:\u001b[93m99\u001b[0m:\u001b[93m1\u001b[0m - \u001b[91merror\u001b[0m\u001b[90m TS1185: \u001b[0mMerge conflict marker encountered.\n",
      "\n",
      "\u001b[7m99\u001b[0m =======\n",
      "\u001b[7m  \u001b[0m \u001b[91m~~~~~~~\u001b[0m\n",
      "\u001b[96msrc/routes/interface.svelte\u001b[0m:\u001b[93m101\u001b[0m:\u001b[93m1\u001b[0m - \u001b[91merror\u001b[0m\u001b[90m TS1185: \u001b[0mMerge conflict marker encountered.\n",
      "\n",
      "\u001b[7m101\u001b[0m >>>>>>> d8891d22e62a3fa113c6ae0819df96cd2eef2111\n",
      "\u001b[7m   \u001b[0m \u001b[91m~~~~~~~\u001b[0m\n",
      "\u001b[96msrc/routes/interface.svelte\u001b[0m:\u001b[93m107\u001b[0m:\u001b[93m1\u001b[0m - \u001b[91merror\u001b[0m\u001b[90m TS1185: \u001b[0mMerge conflict marker encountered.\n",
      "\n",
      "\u001b[7m107\u001b[0m <<<<<<< HEAD\n",
      "\u001b[7m   \u001b[0m \u001b[91m~~~~~~~\u001b[0m\n",
      "\u001b[96msrc/routes/interface.svelte\u001b[0m:\u001b[93m109\u001b[0m:\u001b[93m1\u001b[0m - \u001b[91merror\u001b[0m\u001b[90m TS1185: \u001b[0mMerge conflict marker encountered.\n",
      "\n",
      "\u001b[7m109\u001b[0m =======\n",
      "\u001b[7m   \u001b[0m \u001b[91m~~~~~~~\u001b[0m\n",
      "\u001b[96msrc/routes/interface.svelte\u001b[0m:\u001b[93m111\u001b[0m:\u001b[93m1\u001b[0m - \u001b[91merror\u001b[0m\u001b[90m TS1185: \u001b[0mMerge conflict marker encountered.\n",
      "\n",
      "\u001b[7m111\u001b[0m >>>>>>> d8891d22e62a3fa113c6ae0819df96cd2eef2111\n",
      "\u001b[7m   \u001b[0m \u001b[91m~~~~~~~\u001b[0m\n",
      "\u001b[96msrc/routes/interface.svelte\u001b[0m:\u001b[93m118\u001b[0m:\u001b[93m1\u001b[0m - \u001b[91merror\u001b[0m\u001b[90m TS1185: \u001b[0mMerge conflict marker encountered.\n",
      "\n",
      "\u001b[7m118\u001b[0m <<<<<<< HEAD\n",
      "\u001b[7m   \u001b[0m \u001b[91m~~~~~~~\u001b[0m\n",
      "\u001b[96msrc/routes/interface.svelte\u001b[0m:\u001b[93m120\u001b[0m:\u001b[93m1\u001b[0m - \u001b[91merror\u001b[0m\u001b[90m TS1185: \u001b[0mMerge conflict marker encountered.\n",
      "\n",
      "\u001b[7m120\u001b[0m =======\n",
      "\u001b[7m   \u001b[0m \u001b[91m~~~~~~~\u001b[0m\n",
      "\u001b[96msrc/routes/interface.svelte\u001b[0m:\u001b[93m122\u001b[0m:\u001b[93m1\u001b[0m - \u001b[91merror\u001b[0m\u001b[90m TS1185: \u001b[0mMerge conflict marker encountered.\n",
      "\n",
      "\u001b[7m122\u001b[0m >>>>>>> d8891d22e62a3fa113c6ae0819df96cd2eef2111\n",
      "\u001b[7m   \u001b[0m \u001b[91m~~~~~~~\u001b[0m\n",
      "\n"
     ]
    },
    {
     "name": "stderr",
     "output_type": "stream",
     "text": [
      "1:48:36 PM [vite] Internal server error: Error while preprocessing /Users/eyubogln/code/meerkat/meerkat/interactive/app/src/routes/interface.svelte - [svelte-preprocess] Encountered type error\n",
      "  Plugin: vite-plugin-svelte\n",
      "  File: /Users/eyubogln/code/meerkat/meerkat/interactive/app/src/routes/interface.svelte\n",
      "      at throwError (/Users/eyubogln/code/meerkat/meerkat/interactive/app/node_modules/svelte-preprocess/dist/modules/errors.js:5:11)\n",
      "      at throwTypescriptError (/Users/eyubogln/code/meerkat/meerkat/interactive/app/node_modules/svelte-preprocess/dist/modules/errors.js:9:28)\n",
      "      at transpileTs (/Users/eyubogln/code/meerkat/meerkat/interactive/app/node_modules/svelte-preprocess/dist/transformers/typescript.js:177:47)\n",
      "      at simpleTranspiler (/Users/eyubogln/code/meerkat/meerkat/interactive/app/node_modules/svelte-preprocess/dist/transformers/typescript.js:268:60)\n",
      "      at transformer (/Users/eyubogln/code/meerkat/meerkat/interactive/app/node_modules/svelte-preprocess/dist/transformers/typescript.js:311:11)\n",
      "      at transform (/Users/eyubogln/code/meerkat/meerkat/interactive/app/node_modules/svelte-preprocess/dist/autoProcess.js:37:12)\n",
      "      at async /Users/eyubogln/code/meerkat/meerkat/interactive/app/node_modules/svelte-preprocess/dist/autoProcess.js:118:29\n",
      "      at async script (/Users/eyubogln/code/meerkat/meerkat/interactive/app/node_modules/svelte-preprocess/dist/autoProcess.js:148:33)\n",
      "      at async process_single_tag (file:///Users/eyubogln/code/meerkat/meerkat/interactive/app/node_modules/svelte/compiler.mjs:32581:27)\n",
      "      at async Promise.all (index 1)\n"
     ]
    }
   ],
   "source": [
    "print(interface.launch(return_url=True))"
   ]
  },
  {
   "cell_type": "code",
   "execution_count": 20,
   "metadata": {},
   "outputs": [
    {
     "data": {
      "application/vnd.jupyter.widget-view+json": {
       "model_id": "e8e4263e10f94575b28c23f90f611f98",
       "version_major": 2,
       "version_minor": 0
      },
      "text/plain": [
       "  0%|          | 0/1 [00:00<?, ?it/s]"
      ]
     },
     "metadata": {},
     "output_type": "display_data"
    }
   ],
   "source": [
    "out = mk.embed(data=mk.PandasSeriesColumn([\"hello\"]))"
   ]
  },
  {
   "cell_type": "code",
   "execution_count": 22,
   "metadata": {},
   "outputs": [
    {
     "data": {
      "text/plain": [
       "(1, 512)"
      ]
     },
     "execution_count": 22,
     "metadata": {},
     "output_type": "execute_result"
    },
    {
     "name": "stdout",
     "output_type": "stream",
     "text": [
      "5:16:35 PM [vite] hmr update /src/lib/component/match/Match.svelte\n",
      "hmr update /src/routes/__layout.svelte\n",
      "5:17:16 PM [vite] hmr update /src/lib/component/match/Match.svelte\n",
      "hmr update /src/app.css\n",
      "5:17:22 PM [vite] hmr update /src/lib/component/match/Match.svelte\n",
      "hmr update /src/app.css\n",
      "5:19:25 PM [vite] hmr update /src/lib/component/match/Match.svelte\n",
      "hmr update /src/app.css\n"
     ]
    }
   ],
   "source": [
    "out.shape"
   ]
  },
  {
   "cell_type": "code",
   "execution_count": null,
   "metadata": {},
   "outputs": [],
   "source": []
  }
 ],
 "metadata": {
  "kernelspec": {
   "display_name": "Python 3.8.13 ('domino')",
   "language": "python",
   "name": "python3"
  },
  "language_info": {
   "codemirror_mode": {
    "name": "ipython",
    "version": 3
   },
   "file_extension": ".py",
   "mimetype": "text/x-python",
   "name": "python",
   "nbconvert_exporter": "python",
   "pygments_lexer": "ipython3",
   "version": "3.8.13"
  },
  "orig_nbformat": 4,
  "vscode": {
   "interpreter": {
    "hash": "7dc70abeb586db4fbbb19fd8ec040a8328b2a3c884b1c8ab3f626b1589cb18a0"
   }
  }
 },
 "nbformat": 4,
 "nbformat_minor": 2
}
