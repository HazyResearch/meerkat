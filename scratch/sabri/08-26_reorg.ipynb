{
 "cells": [
  {
   "cell_type": "code",
   "execution_count": 1,
   "metadata": {},
   "outputs": [],
   "source": [
    "%load_ext autoreload\n",
    "%autoreload 2"
   ]
  },
  {
   "cell_type": "code",
   "execution_count": 2,
   "metadata": {},
   "outputs": [],
   "source": [
    "import meerkat as mk"
   ]
  },
  {
   "cell_type": "code",
   "execution_count": 3,
   "metadata": {},
   "outputs": [
    {
     "name": "stdout",
     "output_type": "stream",
     "text": [
      "\n",
      "> src@0.0.1 dev\n",
      "> vite dev \"--port\" \"7861\"\n",
      "\n",
      "\n",
      "  VITE v3.0.3  ready in 444 ms\n",
      "\n",
      "  ➜  Local:   http://localhost:7861/\n",
      "  ➜  Network: use --host to expose\n"
     ]
    }
   ],
   "source": [
    "network, register_api = mk.interactive_mode()"
   ]
  },
  {
   "cell_type": "code",
   "execution_count": 4,
   "metadata": {},
   "outputs": [
    {
     "data": {
      "text/html": [
       "\n",
       "        <iframe\n",
       "            width=\"1\"\n",
       "            height=\"1\"\n",
       "            src=\"http://localhost:7861/network/register?api=http://127.0.0.1:7860\"\n",
       "            frameborder=\"0\"\n",
       "            allowfullscreen\n",
       "            \n",
       "        ></iframe>\n",
       "        "
      ],
      "text/plain": [
       "<IPython.lib.display.IFrame at 0x107f81220>"
      ]
     },
     "execution_count": 4,
     "metadata": {},
     "output_type": "execute_result"
    }
   ],
   "source": [
    "register_api()"
   ]
  },
  {
   "cell_type": "code",
   "execution_count": 7,
   "metadata": {},
   "outputs": [],
   "source": [
    "from meerkat.interactive.app.src.lib.interfaces.plot_gallery import PlotInterface\n",
    "\n",
    "dp = mk.get(\"celeba\")\n",
    "interface = PlotInterface(\n",
    "    dp[\"image\", \"image_id\", \"young\"],\n",
    "    id_column=\"image_id\"\n",
    ")\n"
   ]
  },
  {
   "cell_type": "code",
   "execution_count": 8,
   "metadata": {},
   "outputs": [
    {
     "data": {
      "text/html": [
       "\n",
       "        <iframe\n",
       "            width=\"100%\"\n",
       "            height=\"1000\"\n",
       "            src=\"http://localhost:7861/interface?id=66732d476e524fa7a8d300e85edbef19\"\n",
       "            frameborder=\"0\"\n",
       "            allowfullscreen\n",
       "            \n",
       "        ></iframe>\n",
       "        "
      ],
      "text/plain": [
       "<IPython.lib.display.IFrame at 0x16b787580>"
      ]
     },
     "execution_count": 8,
     "metadata": {},
     "output_type": "execute_result"
    },
    {
     "name": "stdout",
     "output_type": "stream",
     "text": [
      "7:04:43 PM [vite-plugin-svelte] /Users/eyubogln/code/meerkat/meerkat/interactive/app/src/lib/component/plot/Plot.svelte:5:11 Plot has unused export property 'selection'. If it is for external reference only, please consider using `export const selection`\n"
     ]
    }
   ],
   "source": [
    "interface.launch()\n"
   ]
  },
  {
   "cell_type": "code",
   "execution_count": null,
   "metadata": {},
   "outputs": [],
   "source": []
  }
 ],
 "metadata": {
  "kernelspec": {
   "display_name": "Python 3.8.13 ('domino')",
   "language": "python",
   "name": "python3"
  },
  "language_info": {
   "codemirror_mode": {
    "name": "ipython",
    "version": 3
   },
   "file_extension": ".py",
   "mimetype": "text/x-python",
   "name": "python",
   "nbconvert_exporter": "python",
   "pygments_lexer": "ipython3",
   "version": "3.8.13"
  },
  "orig_nbformat": 4,
  "vscode": {
   "interpreter": {
    "hash": "7dc70abeb586db4fbbb19fd8ec040a8328b2a3c884b1c8ab3f626b1589cb18a0"
   }
  }
 },
 "nbformat": 4,
 "nbformat_minor": 2
}
