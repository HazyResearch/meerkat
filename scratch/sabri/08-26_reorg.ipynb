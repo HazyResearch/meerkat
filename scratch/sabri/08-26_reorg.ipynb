{
 "cells": [
  {
   "cell_type": "code",
   "execution_count": 1,
   "metadata": {},
   "outputs": [],
   "source": [
    "%load_ext autoreload\n",
    "%autoreload 2"
   ]
  },
  {
   "cell_type": "code",
   "execution_count": 2,
   "metadata": {},
   "outputs": [],
   "source": [
    "import meerkat as mk"
   ]
  },
  {
   "cell_type": "code",
   "execution_count": 3,
   "metadata": {},
   "outputs": [
    {
     "name": "stdout",
     "output_type": "stream",
     "text": [
      "\n",
      "> src@0.0.1 dev\n",
      "> vite dev \"--port\" \"7862\"\n",
      "\n"
     ]
    },
    {
     "name": "stdout",
     "output_type": "stream",
     "text": [
      "\n",
      "  VITE v3.0.3  ready in 497 ms\n",
      "\n",
      "  ➜  Local:   http://localhost:7862/\n",
      "  ➜  Network: use --host to expose\n"
     ]
    }
   ],
   "source": [
    "network, register_api = mk.interactive_mode()"
   ]
  },
  {
   "cell_type": "code",
   "execution_count": 4,
   "metadata": {},
   "outputs": [
    {
     "data": {
      "text/html": [
       "\n",
       "        <iframe\n",
       "            width=\"1\"\n",
       "            height=\"1\"\n",
       "            src=\"http://localhost:7862/network/register?api=http://127.0.0.1:7860\"\n",
       "            frameborder=\"0\"\n",
       "            allowfullscreen\n",
       "            \n",
       "        ></iframe>\n",
       "        "
      ],
      "text/plain": [
       "<IPython.lib.display.IFrame at 0x10a22e040>"
      ]
     },
     "execution_count": 4,
     "metadata": {},
     "output_type": "execute_result"
    }
   ],
   "source": [
    "register_api()"
   ]
  },
  {
   "cell_type": "code",
   "execution_count": 5,
   "metadata": {},
   "outputs": [
    {
     "name": "stdout",
     "output_type": "stream",
     "text": [
      "4:15:46 PM [vite-plugin-svelte] /Users/eyubogln/code/meerkat/meerkat/interactive/app/src/routes/interface.svelte:192:1 Unused CSS selector \".dragger\"\n",
      "4:15:46 PM [vite-plugin-svelte] /Users/eyubogln/code/meerkat/meerkat/interactive/app/src/routes/interface.svelte:207:0 Unused CSS selector \".dragger:hover\"\n"
     ]
    }
   ],
   "source": [
    "from meerkat.interactive.app.src.lib.interfaces.plot_gallery import PlotInterface\n",
    "\n",
    "dp = mk.DataPanel.read(\"data/imagenette_clustered.mk\")\n",
    "#dp = dp[\"path\", \"label\", \"img\", \"clip(img)\"]\n",
    "interface = PlotInterface(\n",
    "    dp,\n",
    "    id_column=\"img_path\"\n",
    ")\n"
   ]
  },
  {
   "cell_type": "code",
   "execution_count": 9,
   "metadata": {},
   "outputs": [
    {
     "data": {
      "text/plain": [
       "'_match_img_cat'"
      ]
     },
     "execution_count": 9,
     "metadata": {},
     "output_type": "execute_result"
    },
    {
     "name": "stdout",
     "output_type": "stream",
     "text": [
      "4:24:13 PM [vite] hmr update /src/lib/component/StoreComponent.svelte\n",
      "hmr update /src/routes/__layout.svelte\n",
      "4:24:14 PM [vite-plugin-svelte] /Users/eyubogln/code/meerkat/meerkat/interactive/app/src/routes/interface.svelte:192:1 Unused CSS selector \".dragger\"\n",
      "4:24:14 PM [vite-plugin-svelte] /Users/eyubogln/code/meerkat/meerkat/interactive/app/src/routes/interface.svelte:207:0 Unused CSS selector \".dragger:hover\"\n"
     ]
    },
    {
     "data": {
      "application/vnd.jupyter.widget-view+json": {
       "model_id": "2fe2ff0682c745f6ae7ffefbfdb7c915",
       "version_major": 2,
       "version_minor": 0
      },
      "text/plain": [
       "  0%|          | 0/1 [00:00<?, ?it/s]"
      ]
     },
     "metadata": {},
     "output_type": "display_data"
    },
    {
     "data": {
      "application/vnd.jupyter.widget-view+json": {
       "model_id": "7e86b61876634cbbb47e3d46f1b76224",
       "version_major": 2,
       "version_minor": 0
      },
      "text/plain": [
       "  0%|          | 0/1 [00:00<?, ?it/s]"
      ]
     },
     "metadata": {},
     "output_type": "display_data"
    },
    {
     "name": "stdout",
     "output_type": "stream",
     "text": [
      "4:27:00 PM [vite] hmr update /src/routes/__layout.svelte\n",
      "hmr update /src/routes/interface.svelte\n",
      "hmr update /src/routes/__layout.svelte\n",
      "hmr update /src/routes/__layout.svelte\n",
      "hmr update /src/routes/interface.svelte\n",
      "hmr update /src/routes/__layout.svelte\n",
      "hmr update /src/lib/component/match/Match.svelte\n",
      "hmr update /src/routes/__layout.svelte\n",
      "4:27:01 PM [vite-plugin-svelte] /Users/eyubogln/code/meerkat/meerkat/interactive/app/src/routes/interface.svelte:192:1 Unused CSS selector \".dragger\"\n",
      "4:27:01 PM [vite-plugin-svelte] /Users/eyubogln/code/meerkat/meerkat/interactive/app/src/routes/interface.svelte:207:0 Unused CSS selector \".dragger:hover\"\n",
      "4:27:01 PM [vite-plugin-svelte] /Users/eyubogln/code/meerkat/meerkat/interactive/app/src/routes/interface.svelte:192:1 Unused CSS selector \".dragger\"\n",
      "4:27:01 PM [vite-plugin-svelte] /Users/eyubogln/code/meerkat/meerkat/interactive/app/src/routes/interface.svelte:207:0 Unused CSS selector \".dragger:hover\"\n",
      "4:28:15 PM [vite] hmr update /src/app.css\n",
      "hmr update /src/routes/interface.svelte\n",
      "hmr update /src/app.css\n",
      "hmr update /src/app.css\n",
      "hmr update /src/routes/interface.svelte\n",
      "hmr update /src/app.css\n",
      "hmr update /src/lib/component/match/Match.svelte\n",
      "hmr update /src/app.css\n",
      "4:28:15 PM [vite-plugin-svelte] /Users/eyubogln/code/meerkat/meerkat/interactive/app/src/routes/interface.svelte:192:1 Unused CSS selector \".dragger\"\n",
      "4:28:15 PM [vite-plugin-svelte] /Users/eyubogln/code/meerkat/meerkat/interactive/app/src/routes/interface.svelte:207:0 Unused CSS selector \".dragger:hover\"\n",
      "4:28:15 PM [vite-plugin-svelte] /Users/eyubogln/code/meerkat/meerkat/interactive/app/src/routes/interface.svelte:192:1 Unused CSS selector \".dragger\"\n",
      "4:28:15 PM [vite-plugin-svelte] /Users/eyubogln/code/meerkat/meerkat/interactive/app/src/routes/interface.svelte:207:0 Unused CSS selector \".dragger:hover\"\n"
     ]
    }
   ],
   "source": [
    "interface.components[0].col.value"
   ]
  },
  {
   "cell_type": "markdown",
   "metadata": {},
   "source": [
    "1. change the value of store \"a\" on the frontend\n",
    "2. store value on the frontend gets updated \n",
    "3. then the store_trigger is called\n",
    "4. the modifications come in and include the modification to store \"a\"\n",
    "5. store \"a\" is added to the store lock\n",
    "6. the store value is set\n",
    "7. because \"a\" is in the store lock, the store_trigger is not called"
   ]
  },
  {
   "cell_type": "markdown",
   "metadata": {},
   "source": [
    "1. run match from frontend, no stoers are changed\n",
    "2. on backend, match creates new column, and returns storemodification\n",
    "3. on frontend, store modification is applied to the store (ideally this should stop)\n",
    "4. (without trigger) on the frontend, store triggered is called\n",
    "5. on the backend the store is updated, and the store_modification is sent to the front end\n",
    "6. on the frontend, the value in the store modification is the same as teh value of the store – so no trigger is sent"
   ]
  },
  {
   "cell_type": "code",
   "execution_count": 8,
   "metadata": {},
   "outputs": [
    {
     "data": {
      "text/html": [
       "\n",
       "        <iframe\n",
       "            width=\"100%\"\n",
       "            height=\"1000\"\n",
       "            src=\"http://localhost:7862/interface?id=4a7b1edddbcf4ac3817eaaae600d5a9a\"\n",
       "            frameborder=\"0\"\n",
       "            allowfullscreen\n",
       "            \n",
       "        ></iframe>\n",
       "        "
      ],
      "text/plain": [
       "<IPython.lib.display.IFrame at 0x295e98100>"
      ]
     },
     "execution_count": 8,
     "metadata": {},
     "output_type": "execute_result"
    },
    {
     "name": "stdout",
     "output_type": "stream",
     "text": [
      "Store triggered:  {\n",
      "  subscribe: [Function: subscribe],\n",
      "  update: [Function: update],\n",
      "  set: [Function: set],\n",
      "  trigger_store: {\n",
      "    set: [Function: set],\n",
      "    update: [Function: update],\n",
      "    subscribe: [Function: subscribe]\n",
      "  },\n",
      "  store_id: '52d1e1cf1c5948c5a5c227427a636f59',\n",
      "  backend_store: true\n",
      "}\n",
      "Triggering store 52d1e1cf1c5948c5a5c227427a636f59 noisy_labels_50\n",
      "Store triggered:  {\n",
      "  subscribe: [Function: subscribe],\n",
      "  update: [Function: update],\n",
      "  set: [Function: set],\n",
      "  trigger_store: {\n",
      "    set: [Function: set],\n",
      "    update: [Function: update],\n",
      "    subscribe: [Function: subscribe]\n",
      "  },\n",
      "  store_id: '6cf15dbadd4246b6878d064451c64ec9',\n",
      "  backend_store: true\n",
      "}\n",
      "Triggering store 6cf15dbadd4246b6878d064451c64ec9 label\n",
      "[]\n",
      "[]\n",
      "4:17:00 PM [vite-plugin-svelte] /Users/eyubogln/code/meerkat/meerkat/interactive/app/src/routes/interface.svelte:192:1 Unused CSS selector \".dragger\"\n",
      "4:17:00 PM [vite-plugin-svelte] /Users/eyubogln/code/meerkat/meerkat/interactive/app/src/routes/interface.svelte:207:0 Unused CSS selector \".dragger:hover\"\n"
     ]
    },
    {
     "data": {
      "application/vnd.jupyter.widget-view+json": {
       "model_id": "98f8319f26a94f60a25f0b89dae52c74",
       "version_major": 2,
       "version_minor": 0
      },
      "text/plain": [
       "  0%|          | 0/1 [00:00<?, ?it/s]"
      ]
     },
     "metadata": {},
     "output_type": "display_data"
    }
   ],
   "source": [
    "interface.launch()"
   ]
  },
  {
   "cell_type": "code",
   "execution_count": 20,
   "metadata": {},
   "outputs": [
    {
     "data": {
      "application/vnd.jupyter.widget-view+json": {
       "model_id": "e8e4263e10f94575b28c23f90f611f98",
       "version_major": 2,
       "version_minor": 0
      },
      "text/plain": [
       "  0%|          | 0/1 [00:00<?, ?it/s]"
      ]
     },
     "metadata": {},
     "output_type": "display_data"
    }
   ],
   "source": [
    "out = mk.embed(data=mk.PandasSeriesColumn([\"hello\"]))"
   ]
  },
  {
   "cell_type": "code",
   "execution_count": 22,
   "metadata": {},
   "outputs": [
    {
     "data": {
      "text/plain": [
       "(1, 512)"
      ]
     },
     "execution_count": 22,
     "metadata": {},
     "output_type": "execute_result"
    },
    {
     "name": "stdout",
     "output_type": "stream",
     "text": [
      "5:16:35 PM [vite] hmr update /src/lib/component/match/Match.svelte\n",
      "hmr update /src/routes/__layout.svelte\n",
      "5:17:16 PM [vite] hmr update /src/lib/component/match/Match.svelte\n",
      "hmr update /src/app.css\n",
      "5:17:22 PM [vite] hmr update /src/lib/component/match/Match.svelte\n",
      "hmr update /src/app.css\n",
      "5:19:25 PM [vite] hmr update /src/lib/component/match/Match.svelte\n",
      "hmr update /src/app.css\n"
     ]
    }
   ],
   "source": [
    "out.shape"
   ]
  },
  {
   "cell_type": "code",
   "execution_count": null,
   "metadata": {},
   "outputs": [],
   "source": []
  }
 ],
 "metadata": {
  "kernelspec": {
   "display_name": "Python 3.8.13 ('domino')",
   "language": "python",
   "name": "python3"
  },
  "language_info": {
   "codemirror_mode": {
    "name": "ipython",
    "version": 3
   },
   "file_extension": ".py",
   "mimetype": "text/x-python",
   "name": "python",
   "nbconvert_exporter": "python",
   "pygments_lexer": "ipython3",
   "version": "3.8.13"
  },
  "orig_nbformat": 4,
  "vscode": {
   "interpreter": {
    "hash": "7dc70abeb586db4fbbb19fd8ec040a8328b2a3c884b1c8ab3f626b1589cb18a0"
   }
  }
 },
 "nbformat": 4,
 "nbformat_minor": 2
}
