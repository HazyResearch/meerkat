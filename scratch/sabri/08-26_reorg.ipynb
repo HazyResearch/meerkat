{
 "cells": [
  {
   "cell_type": "code",
   "execution_count": 1,
   "metadata": {},
   "outputs": [],
   "source": [
    "%load_ext autoreload\n",
    "%autoreload 2"
   ]
  },
  {
   "cell_type": "code",
   "execution_count": 2,
   "metadata": {},
   "outputs": [],
   "source": [
    "import meerkat as mk"
   ]
  },
  {
   "cell_type": "code",
   "execution_count": 3,
   "metadata": {},
   "outputs": [
    {
     "name": "stdout",
     "output_type": "stream",
     "text": [
      "\n",
      "> src@0.0.1 dev\n",
      "> vite dev \"--port\" \"7861\"\n",
      "\n",
      "\n",
      "  VITE v3.0.3  ready in 397 ms\n",
      "\n",
      "  ➜  Local:   http://localhost:7861/\n",
      "  ➜  Network: use --host to expose\n"
     ]
    }
   ],
   "source": [
    "network, register_api = mk.interactive_mode()"
   ]
  },
  {
   "cell_type": "code",
   "execution_count": 4,
   "metadata": {},
   "outputs": [
    {
     "data": {
      "text/html": [
       "\n",
       "        <iframe\n",
       "            width=\"1\"\n",
       "            height=\"1\"\n",
       "            src=\"http://localhost:7861/network/register?api=http://127.0.0.1:7860\"\n",
       "            frameborder=\"0\"\n",
       "            allowfullscreen\n",
       "            \n",
       "        ></iframe>\n",
       "        "
      ],
      "text/plain": [
       "<IPython.lib.display.IFrame at 0x13e04ce50>"
      ]
     },
     "execution_count": 4,
     "metadata": {},
     "output_type": "execute_result"
    }
   ],
   "source": [
    "register_api()"
   ]
  },
  {
   "cell_type": "code",
   "execution_count": 5,
   "metadata": {},
   "outputs": [],
   "source": [
    "from meerkat.interactive.app.src.lib.interfaces.plot_gallery import PlotInterface\n",
    "\n",
    "dp = mk.DataPanel.read(\"data/imagenette_clustered.mk\")\n",
    "dp = dp[\"path\", \"label\", \"img\", \"clip(img)\"]\n",
    "interface = PlotInterface(\n",
    "    dp,\n",
    "    id_column=\"image_id\"\n",
    ")\n"
   ]
  },
  {
   "cell_type": "code",
   "execution_count": 8,
   "metadata": {},
   "outputs": [
    {
     "data": {
      "text/html": [
       "\n",
       "        <iframe\n",
       "            width=\"100%\"\n",
       "            height=\"1000\"\n",
       "            src=\"http://localhost:7861/interface?id=cf0243298b38405682939763044d8eb0\"\n",
       "            frameborder=\"0\"\n",
       "            allowfullscreen\n",
       "            \n",
       "        ></iframe>\n",
       "        "
      ],
      "text/plain": [
       "<IPython.lib.display.IFrame at 0x10684dbb0>"
      ]
     },
     "execution_count": 8,
     "metadata": {},
     "output_type": "execute_result"
    },
    {
     "name": "stdout",
     "output_type": "stream",
     "text": [
      "7:33:56 PM [vite-plugin-svelte] /Users/eyubogln/code/meerkat/meerkat/interactive/app/src/routes/interface.svelte:231:1 Unused CSS selector \".dragger\"\n",
      "7:33:56 PM [vite-plugin-svelte] /Users/eyubogln/code/meerkat/meerkat/interactive/app/src/routes/interface.svelte:246:0 Unused CSS selector \".dragger:hover\"\n",
      "7:33:56 PM [vite-plugin-svelte] /Users/eyubogln/code/meerkat/meerkat/interactive/app/src/routes/interface.svelte:231:1 Unused CSS selector \".dragger\"\n",
      "7:33:56 PM [vite-plugin-svelte] /Users/eyubogln/code/meerkat/meerkat/interactive/app/src/routes/interface.svelte:246:0 Unused CSS selector \".dragger:hover\"\n",
      "7:33:57 PM [vite-plugin-svelte] /Users/eyubogln/code/meerkat/meerkat/interactive/app/src/lib/component/plot/Plot.svelte:6:11 Plot has unused export property 'selection'. If it is for external reference only, please consider using `export const selection`\n",
      "7:33:57 PM [vite-plugin-svelte] /Users/eyubogln/code/meerkat/meerkat/interactive/app/src/lib/components/table/Table.svelte:102:1 Unused CSS selector \".dark .table\"\n",
      "7:34:10 PM [vite] hmr update /src/routes/interface.svelte\n",
      "hmr update /src/app.css\n",
      "7:34:10 PM [vite-plugin-svelte] /Users/eyubogln/code/meerkat/meerkat/interactive/app/src/routes/interface.svelte:230:1 Unused CSS selector \".dragger\"\n",
      "7:34:10 PM [vite-plugin-svelte] /Users/eyubogln/code/meerkat/meerkat/interactive/app/src/routes/interface.svelte:245:0 Unused CSS selector \".dragger:hover\"\n"
     ]
    },
    {
     "data": {
      "application/vnd.jupyter.widget-view+json": {
       "model_id": "14c1f59eef274c7aaaf301a0c46e322a",
       "version_major": 2,
       "version_minor": 0
      },
      "text/plain": [
       "  0%|          | 0/1 [00:00<?, ?it/s]"
      ]
     },
     "metadata": {},
     "output_type": "display_data"
    },
    {
     "name": "stderr",
     "output_type": "stream",
     "text": [
      "ERROR:    Exception in ASGI application\n",
      "Traceback (most recent call last):\n",
      "  File \"/Users/eyubogln/miniconda3/envs/domino/lib/python3.8/site-packages/uvicorn/protocols/http/h11_impl.py\", line 403, in run_asgi\n",
      "    result = await app(self.scope, self.receive, self.send)\n",
      "  File \"/Users/eyubogln/miniconda3/envs/domino/lib/python3.8/site-packages/uvicorn/middleware/proxy_headers.py\", line 78, in __call__\n",
      "    return await self.app(scope, receive, send)\n",
      "  File \"/Users/eyubogln/miniconda3/envs/domino/lib/python3.8/site-packages/fastapi/applications.py\", line 269, in __call__\n",
      "    await super().__call__(scope, receive, send)\n",
      "  File \"/Users/eyubogln/miniconda3/envs/domino/lib/python3.8/site-packages/starlette/applications.py\", line 124, in __call__\n",
      "    await self.middleware_stack(scope, receive, send)\n",
      "  File \"/Users/eyubogln/miniconda3/envs/domino/lib/python3.8/site-packages/starlette/middleware/errors.py\", line 184, in __call__\n",
      "    raise exc\n",
      "  File \"/Users/eyubogln/miniconda3/envs/domino/lib/python3.8/site-packages/starlette/middleware/errors.py\", line 162, in __call__\n",
      "    await self.app(scope, receive, _send)\n",
      "  File \"/Users/eyubogln/miniconda3/envs/domino/lib/python3.8/site-packages/starlette/middleware/cors.py\", line 92, in __call__\n",
      "    await self.simple_response(scope, receive, send, request_headers=headers)\n",
      "  File \"/Users/eyubogln/miniconda3/envs/domino/lib/python3.8/site-packages/starlette/middleware/cors.py\", line 147, in simple_response\n",
      "    await self.app(scope, receive, send)\n",
      "  File \"/Users/eyubogln/miniconda3/envs/domino/lib/python3.8/site-packages/starlette/exceptions.py\", line 93, in __call__\n",
      "    raise exc\n",
      "  File \"/Users/eyubogln/miniconda3/envs/domino/lib/python3.8/site-packages/starlette/exceptions.py\", line 82, in __call__\n",
      "    await self.app(scope, receive, sender)\n",
      "  File \"/Users/eyubogln/miniconda3/envs/domino/lib/python3.8/site-packages/fastapi/middleware/asyncexitstack.py\", line 21, in __call__\n",
      "    raise e\n",
      "  File \"/Users/eyubogln/miniconda3/envs/domino/lib/python3.8/site-packages/fastapi/middleware/asyncexitstack.py\", line 18, in __call__\n",
      "    await self.app(scope, receive, send)\n",
      "  File \"/Users/eyubogln/miniconda3/envs/domino/lib/python3.8/site-packages/starlette/routing.py\", line 670, in __call__\n",
      "    await route.handle(scope, receive, send)\n",
      "  File \"/Users/eyubogln/miniconda3/envs/domino/lib/python3.8/site-packages/starlette/routing.py\", line 266, in handle\n",
      "    await self.app(scope, receive, send)\n",
      "  File \"/Users/eyubogln/miniconda3/envs/domino/lib/python3.8/site-packages/starlette/routing.py\", line 65, in app\n",
      "    response = await func(request)\n",
      "  File \"/Users/eyubogln/miniconda3/envs/domino/lib/python3.8/site-packages/fastapi/routing.py\", line 227, in app\n",
      "    raw_response = await run_endpoint_function(\n",
      "  File \"/Users/eyubogln/miniconda3/envs/domino/lib/python3.8/site-packages/fastapi/routing.py\", line 162, in run_endpoint_function\n",
      "    return await run_in_threadpool(dependant.call, **values)\n",
      "  File \"/Users/eyubogln/miniconda3/envs/domino/lib/python3.8/site-packages/starlette/concurrency.py\", line 41, in run_in_threadpool\n",
      "    return await anyio.to_thread.run_sync(func, *args)\n",
      "  File \"/Users/eyubogln/miniconda3/envs/domino/lib/python3.8/site-packages/anyio/to_thread.py\", line 31, in run_sync\n",
      "    return await get_asynclib().run_sync_in_worker_thread(\n",
      "  File \"/Users/eyubogln/miniconda3/envs/domino/lib/python3.8/site-packages/anyio/_backends/_asyncio.py\", line 937, in run_sync_in_worker_thread\n",
      "    return await future\n",
      "  File \"/Users/eyubogln/miniconda3/envs/domino/lib/python3.8/site-packages/anyio/_backends/_asyncio.py\", line 867, in run\n",
      "    result = context.run(func, *args)\n",
      "  File \"/Users/eyubogln/code/meerkat/meerkat/interactive/api/routers/ops.py\", line 65, in match\n",
      "    modifications = trigger(modifications)\n",
      "  File \"/Users/eyubogln/code/meerkat/meerkat/interactive/graph.py\", line 186, in trigger\n",
      "    root_nodes = [mod.node for mod in modifications]\n",
      "  File \"/Users/eyubogln/code/meerkat/meerkat/interactive/graph.py\", line 186, in <listcomp>\n",
      "    root_nodes = [mod.node for mod in modifications]\n",
      "  File \"/Users/eyubogln/code/meerkat/meerkat/interactive/graph.py\", line 76, in node\n",
      "    return state.identifiables.get(group=\"store\", id=self.id)\n",
      "  File \"/Users/eyubogln/code/meerkat/meerkat/state.py\", line 126, in get\n",
      "    group, group_name = getattr(self, group), group\n",
      "AttributeError: 'Identifiables' object has no attribute 'store'\n",
      "[2022-08-29 19:34:21,461][ERROR][uvicorn.error:406] :: Exception in ASGI application\n",
      "Traceback (most recent call last):\n",
      "  File \"/Users/eyubogln/miniconda3/envs/domino/lib/python3.8/site-packages/uvicorn/protocols/http/h11_impl.py\", line 403, in run_asgi\n",
      "    result = await app(self.scope, self.receive, self.send)\n",
      "  File \"/Users/eyubogln/miniconda3/envs/domino/lib/python3.8/site-packages/uvicorn/middleware/proxy_headers.py\", line 78, in __call__\n",
      "    return await self.app(scope, receive, send)\n",
      "  File \"/Users/eyubogln/miniconda3/envs/domino/lib/python3.8/site-packages/fastapi/applications.py\", line 269, in __call__\n",
      "    await super().__call__(scope, receive, send)\n",
      "  File \"/Users/eyubogln/miniconda3/envs/domino/lib/python3.8/site-packages/starlette/applications.py\", line 124, in __call__\n",
      "    await self.middleware_stack(scope, receive, send)\n",
      "  File \"/Users/eyubogln/miniconda3/envs/domino/lib/python3.8/site-packages/starlette/middleware/errors.py\", line 184, in __call__\n",
      "    raise exc\n",
      "  File \"/Users/eyubogln/miniconda3/envs/domino/lib/python3.8/site-packages/starlette/middleware/errors.py\", line 162, in __call__\n",
      "    await self.app(scope, receive, _send)\n",
      "  File \"/Users/eyubogln/miniconda3/envs/domino/lib/python3.8/site-packages/starlette/middleware/cors.py\", line 92, in __call__\n",
      "    await self.simple_response(scope, receive, send, request_headers=headers)\n",
      "  File \"/Users/eyubogln/miniconda3/envs/domino/lib/python3.8/site-packages/starlette/middleware/cors.py\", line 147, in simple_response\n",
      "    await self.app(scope, receive, send)\n",
      "  File \"/Users/eyubogln/miniconda3/envs/domino/lib/python3.8/site-packages/starlette/exceptions.py\", line 93, in __call__\n",
      "    raise exc\n",
      "  File \"/Users/eyubogln/miniconda3/envs/domino/lib/python3.8/site-packages/starlette/exceptions.py\", line 82, in __call__\n",
      "    await self.app(scope, receive, sender)\n",
      "  File \"/Users/eyubogln/miniconda3/envs/domino/lib/python3.8/site-packages/fastapi/middleware/asyncexitstack.py\", line 21, in __call__\n",
      "    raise e\n",
      "  File \"/Users/eyubogln/miniconda3/envs/domino/lib/python3.8/site-packages/fastapi/middleware/asyncexitstack.py\", line 18, in __call__\n",
      "    await self.app(scope, receive, send)\n",
      "  File \"/Users/eyubogln/miniconda3/envs/domino/lib/python3.8/site-packages/starlette/routing.py\", line 670, in __call__\n",
      "    await route.handle(scope, receive, send)\n",
      "  File \"/Users/eyubogln/miniconda3/envs/domino/lib/python3.8/site-packages/starlette/routing.py\", line 266, in handle\n",
      "    await self.app(scope, receive, send)\n",
      "  File \"/Users/eyubogln/miniconda3/envs/domino/lib/python3.8/site-packages/starlette/routing.py\", line 65, in app\n",
      "    response = await func(request)\n",
      "  File \"/Users/eyubogln/miniconda3/envs/domino/lib/python3.8/site-packages/fastapi/routing.py\", line 227, in app\n",
      "    raw_response = await run_endpoint_function(\n",
      "  File \"/Users/eyubogln/miniconda3/envs/domino/lib/python3.8/site-packages/fastapi/routing.py\", line 162, in run_endpoint_function\n",
      "    return await run_in_threadpool(dependant.call, **values)\n",
      "  File \"/Users/eyubogln/miniconda3/envs/domino/lib/python3.8/site-packages/starlette/concurrency.py\", line 41, in run_in_threadpool\n",
      "    return await anyio.to_thread.run_sync(func, *args)\n",
      "  File \"/Users/eyubogln/miniconda3/envs/domino/lib/python3.8/site-packages/anyio/to_thread.py\", line 31, in run_sync\n",
      "    return await get_asynclib().run_sync_in_worker_thread(\n",
      "  File \"/Users/eyubogln/miniconda3/envs/domino/lib/python3.8/site-packages/anyio/_backends/_asyncio.py\", line 937, in run_sync_in_worker_thread\n",
      "    return await future\n",
      "  File \"/Users/eyubogln/miniconda3/envs/domino/lib/python3.8/site-packages/anyio/_backends/_asyncio.py\", line 867, in run\n",
      "    result = context.run(func, *args)\n",
      "  File \"/Users/eyubogln/code/meerkat/meerkat/interactive/api/routers/ops.py\", line 65, in match\n",
      "    modifications = trigger(modifications)\n",
      "  File \"/Users/eyubogln/code/meerkat/meerkat/interactive/graph.py\", line 186, in trigger\n",
      "    root_nodes = [mod.node for mod in modifications]\n",
      "  File \"/Users/eyubogln/code/meerkat/meerkat/interactive/graph.py\", line 186, in <listcomp>\n",
      "    root_nodes = [mod.node for mod in modifications]\n",
      "  File \"/Users/eyubogln/code/meerkat/meerkat/interactive/graph.py\", line 76, in node\n",
      "    return state.identifiables.get(group=\"store\", id=self.id)\n",
      "  File \"/Users/eyubogln/code/meerkat/meerkat/state.py\", line 126, in get\n",
      "    group, group_name = getattr(self, group), group\n",
      "AttributeError: 'Identifiables' object has no attribute 'store'\n"
     ]
    }
   ],
   "source": [
    "interface.launch()\n"
   ]
  },
  {
   "cell_type": "code",
   "execution_count": 20,
   "metadata": {},
   "outputs": [
    {
     "data": {
      "application/vnd.jupyter.widget-view+json": {
       "model_id": "e8e4263e10f94575b28c23f90f611f98",
       "version_major": 2,
       "version_minor": 0
      },
      "text/plain": [
       "  0%|          | 0/1 [00:00<?, ?it/s]"
      ]
     },
     "metadata": {},
     "output_type": "display_data"
    }
   ],
   "source": [
    "out = mk.embed(data=mk.PandasSeriesColumn([\"hello\"]))"
   ]
  },
  {
   "cell_type": "code",
   "execution_count": 22,
   "metadata": {},
   "outputs": [
    {
     "data": {
      "text/plain": [
       "(1, 512)"
      ]
     },
     "execution_count": 22,
     "metadata": {},
     "output_type": "execute_result"
    },
    {
     "name": "stdout",
     "output_type": "stream",
     "text": [
      "5:16:35 PM [vite] hmr update /src/lib/component/match/Match.svelte\n",
      "hmr update /src/routes/__layout.svelte\n",
      "5:17:16 PM [vite] hmr update /src/lib/component/match/Match.svelte\n",
      "hmr update /src/app.css\n",
      "5:17:22 PM [vite] hmr update /src/lib/component/match/Match.svelte\n",
      "hmr update /src/app.css\n",
      "5:19:25 PM [vite] hmr update /src/lib/component/match/Match.svelte\n",
      "hmr update /src/app.css\n"
     ]
    }
   ],
   "source": [
    "out.shape"
   ]
  },
  {
   "cell_type": "code",
   "execution_count": null,
   "metadata": {},
   "outputs": [],
   "source": []
  }
 ],
 "metadata": {
  "kernelspec": {
   "display_name": "Python 3.8.13 ('domino')",
   "language": "python",
   "name": "python3"
  },
  "language_info": {
   "codemirror_mode": {
    "name": "ipython",
    "version": 3
   },
   "file_extension": ".py",
   "mimetype": "text/x-python",
   "name": "python",
   "nbconvert_exporter": "python",
   "pygments_lexer": "ipython3",
   "version": "3.8.13"
  },
  "orig_nbformat": 4,
  "vscode": {
   "interpreter": {
    "hash": "7dc70abeb586db4fbbb19fd8ec040a8328b2a3c884b1c8ab3f626b1589cb18a0"
   }
  }
 },
 "nbformat": 4,
 "nbformat_minor": 2
}
