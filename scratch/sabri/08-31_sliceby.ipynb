{
 "cells": [
  {
   "cell_type": "code",
   "execution_count": 1,
   "metadata": {},
   "outputs": [],
   "source": [
    "%load_ext autoreload\n",
    "%autoreload 2"
   ]
  },
  {
   "cell_type": "code",
   "execution_count": 2,
   "metadata": {},
   "outputs": [],
   "source": [
    "import meerkat as mk"
   ]
  },
  {
   "cell_type": "code",
   "execution_count": 3,
   "metadata": {},
   "outputs": [
    {
     "name": "stdout",
     "output_type": "stream",
     "text": [
      "\n",
      "> src@0.0.1 dev\n",
      "> vite dev \"--port\" \"7861\"\n",
      "\n",
      "\n",
      "  VITE v3.0.3  ready in 315 ms\n",
      "\n",
      "  ➜  Local:   http://localhost:7861/\n",
      "  ➜  Network: use --host to expose\n"
     ]
    }
   ],
   "source": [
    "network, register_api = mk.interactive_mode()"
   ]
  },
  {
   "cell_type": "code",
   "execution_count": 4,
   "metadata": {},
   "outputs": [
    {
     "data": {
      "text/html": [
       "\n",
       "        <iframe\n",
       "            width=\"1\"\n",
       "            height=\"1\"\n",
       "            src=\"http://localhost:7861/network/register?api=http://127.0.0.1:7860\"\n",
       "            frameborder=\"0\"\n",
       "            allowfullscreen\n",
       "            \n",
       "        ></iframe>\n",
       "        "
      ],
      "text/plain": [
       "<IPython.lib.display.IFrame at 0x11474bd00>"
      ]
     },
     "execution_count": 4,
     "metadata": {},
     "output_type": "execute_result"
    }
   ],
   "source": [
    "register_api()"
   ]
  },
  {
   "cell_type": "code",
   "execution_count": 5,
   "metadata": {},
   "outputs": [],
   "source": [
    "from meerkat.interactive.app.src.lib.interfaces.match_gallery import MatchGalleryInterface\n",
    "\n",
    "\n",
    "dp = mk.DataPanel.read(\"data/imagenette_clustered.mk\")\n",
    "dp = dp[\"img\", \"path\", \"label\", \"split\", \"img_path\", \"label_idx\", \"clip(img)\"]\n",
    "interface = MatchGalleryInterface(\n",
    "    dp,\n",
    "    id_column=\"img_path\",\n",
    "    against=\"img\",\n",
    "    main_column=\"img\",\n",
    "    tag_columns=[\"label\", \"split\"],\n",
    ")\n"
   ]
  },
  {
   "cell_type": "code",
   "execution_count": 6,
   "metadata": {},
   "outputs": [
    {
     "data": {
      "text/html": [
       "\n",
       "        <iframe\n",
       "            width=\"100%\"\n",
       "            height=\"1000\"\n",
       "            src=\"http://localhost:7861/interface?id=8c161d0e04b5496b8d9ea628d9c0f399\"\n",
       "            frameborder=\"0\"\n",
       "            allowfullscreen\n",
       "            \n",
       "        ></iframe>\n",
       "        "
      ],
      "text/plain": [
       "<IPython.lib.display.IFrame at 0x113d73e20>"
      ]
     },
     "execution_count": 6,
     "metadata": {},
     "output_type": "execute_result"
    },
    {
     "name": "stdout",
     "output_type": "stream",
     "text": [
      "8:44:34 PM [vite-plugin-svelte] /Users/eyubogln/code/meerkat/meerkat/interactive/app/src/routes/interface.svelte:194:1 Unused CSS selector \".dragger\"\n",
      "8:44:34 PM [vite-plugin-svelte] /Users/eyubogln/code/meerkat/meerkat/interactive/app/src/routes/interface.svelte:209:0 Unused CSS selector \".dragger:hover\"\n",
      "Triggering store 7edb95a750054d90a412bae9207fbabc label\n",
      "[]\n",
      "8:44:35 PM [vite-plugin-svelte] /Users/eyubogln/code/meerkat/meerkat/interactive/app/src/routes/interface.svelte:194:1 Unused CSS selector \".dragger\"\n",
      "8:44:35 PM [vite-plugin-svelte] /Users/eyubogln/code/meerkat/meerkat/interactive/app/src/routes/interface.svelte:209:0 Unused CSS selector \".dragger:hover\"\n",
      "8:44:35 PM [vite-plugin-svelte] /Users/eyubogln/code/meerkat/meerkat/interactive/app/src/lib/components/gallery/Gallery.svelte:138:1 Unused CSS selector \".dark .panel\"\n",
      "8:44:35 PM [vite-plugin-svelte] /Users/eyubogln/code/meerkat/meerkat/interactive/app/src/lib/components/common/Slider.svelte:6:11 Slider has unused export property 'size'. If it is for external reference only, please consider using `export const size`\n",
      "8:44:35 PM [vite-plugin-svelte] /Users/eyubogln/code/meerkat/meerkat/interactive/app/src/lib/components/gallery/Card.svelte:104:1 Unused CSS selector \".card\"\n",
      "8:44:35 PM [vite-plugin-svelte] /Users/eyubogln/code/meerkat/meerkat/interactive/app/src/lib/components/gallery/Card.svelte:114:1 Unused CSS selector \".dark .card\"\n",
      "8:44:35 PM [vite-plugin-svelte] /Users/eyubogln/code/meerkat/meerkat/interactive/app/src/lib/components/gallery/Card.svelte:149:1 Unused CSS selector \".subcontent\"\n",
      "8:44:35 PM [vite-plugin-svelte] /Users/eyubogln/code/meerkat/meerkat/interactive/app/src/lib/components/gallery/Card.svelte:171:1 Unused CSS selector \".subcontent:hover\"\n",
      "Triggering store 7edb95a750054d90a412bae9207fbabc label\n",
      "[]\n",
      "Triggering store 7edb95a750054d90a412bae9207fbabc label\n",
      "[]\n",
      "Triggering store 7edb95a750054d90a412bae9207fbabc label\n",
      "[]\n",
      "10:16:18 AM [vite] hmr update /src/routes/interface.svelte\n",
      "hmr update /src/app.css\n",
      "hmr update /src/routes/interface.svelte?svelte&type=style&lang.css\n",
      "10:16:18 AM [vite-plugin-svelte] /Users/eyubogln/code/meerkat/meerkat/interactive/app/src/routes/interface.svelte:194:1 Unused CSS selector \".dragger\"\n",
      "10:16:18 AM [vite-plugin-svelte] /Users/eyubogln/code/meerkat/meerkat/interactive/app/src/routes/interface.svelte:209:0 Unused CSS selector \".dragger:hover\"\n"
     ]
    }
   ],
   "source": [
    "interface.launch()"
   ]
  },
  {
   "cell_type": "code",
   "execution_count": 20,
   "metadata": {},
   "outputs": [
    {
     "data": {
      "application/vnd.jupyter.widget-view+json": {
       "model_id": "e8e4263e10f94575b28c23f90f611f98",
       "version_major": 2,
       "version_minor": 0
      },
      "text/plain": [
       "  0%|          | 0/1 [00:00<?, ?it/s]"
      ]
     },
     "metadata": {},
     "output_type": "display_data"
    }
   ],
   "source": [
    "out = mk.embed(data=mk.PandasSeriesColumn([\"hello\"]))"
   ]
  },
  {
   "cell_type": "code",
   "execution_count": 22,
   "metadata": {},
   "outputs": [
    {
     "data": {
      "text/plain": [
       "(1, 512)"
      ]
     },
     "execution_count": 22,
     "metadata": {},
     "output_type": "execute_result"
    },
    {
     "name": "stdout",
     "output_type": "stream",
     "text": [
      "5:16:35 PM [vite] hmr update /src/lib/component/match/Match.svelte\n",
      "hmr update /src/routes/__layout.svelte\n",
      "5:17:16 PM [vite] hmr update /src/lib/component/match/Match.svelte\n",
      "hmr update /src/app.css\n",
      "5:17:22 PM [vite] hmr update /src/lib/component/match/Match.svelte\n",
      "hmr update /src/app.css\n",
      "5:19:25 PM [vite] hmr update /src/lib/component/match/Match.svelte\n",
      "hmr update /src/app.css\n"
     ]
    }
   ],
   "source": [
    "out.shape"
   ]
  },
  {
   "cell_type": "code",
   "execution_count": null,
   "metadata": {},
   "outputs": [],
   "source": []
  }
 ],
 "metadata": {
  "kernelspec": {
   "display_name": "Python 3.8.13 ('domino')",
   "language": "python",
   "name": "python3"
  },
  "language_info": {
   "codemirror_mode": {
    "name": "ipython",
    "version": 3
   },
   "file_extension": ".py",
   "mimetype": "text/x-python",
   "name": "python",
   "nbconvert_exporter": "python",
   "pygments_lexer": "ipython3",
   "version": "3.8.13"
  },
  "orig_nbformat": 4,
  "vscode": {
   "interpreter": {
    "hash": "7dc70abeb586db4fbbb19fd8ec040a8328b2a3c884b1c8ab3f626b1589cb18a0"
   }
  }
 },
 "nbformat": 4,
 "nbformat_minor": 2
}
