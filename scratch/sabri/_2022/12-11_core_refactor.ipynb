{
 "cells": [
  {
   "cell_type": "code",
   "execution_count": 1,
   "metadata": {},
   "outputs": [],
   "source": [
    "%load_ext autoreload\n",
    "%autoreload 2"
   ]
  },
  {
   "cell_type": "code",
   "execution_count": 2,
   "metadata": {},
   "outputs": [],
   "source": [
    "import meerkat as mk\n",
    "df = mk.get(\"imagenette\")"
   ]
  },
  {
   "cell_type": "code",
   "execution_count": 3,
   "metadata": {},
   "outputs": [
    {
     "data": {
      "text/html": [
       "<pre style=\"white-space:pre;overflow-x:auto;line-height:normal;font-family:Menlo,'DejaVu Sans Mono',consolas,'Courier New',monospace\">Trying to find an open port in <span style=\"font-weight: bold\">(</span><span style=\"color: #008080; text-decoration-color: #008080; font-weight: bold\">7860</span>, <span style=\"color: #008080; text-decoration-color: #008080; font-weight: bold\">7960</span><span style=\"font-weight: bold\">)</span>. </pre>\n"
      ],
      "text/plain": [
       "Trying to find an open port in \u001b[1m(\u001b[0m\u001b[1;36m7860\u001b[0m, \u001b[1;36m7960\u001b[0m\u001b[1m)\u001b[0m. "
      ]
     },
     "metadata": {},
     "output_type": "display_data"
    },
    {
     "data": {
      "text/html": [
       "<pre style=\"white-space:pre;overflow-x:auto;line-height:normal;font-family:Menlo,'DejaVu Sans Mono',consolas,'Courier New',monospace\">Found open port: <span style=\"color: #008080; text-decoration-color: #008080; font-weight: bold\">7860</span>\n",
       "</pre>\n"
      ],
      "text/plain": [
       "Found open port: \u001b[1;36m7860\u001b[0m\n"
      ]
     },
     "metadata": {},
     "output_type": "display_data"
    },
    {
     "data": {
      "text/html": [
       "<pre style=\"white-space:pre;overflow-x:auto;line-height:normal;font-family:Menlo,'DejaVu Sans Mono',consolas,'Courier New',monospace\">Trying to find an open port in <span style=\"font-weight: bold\">(</span><span style=\"color: #008080; text-decoration-color: #008080; font-weight: bold\">7861</span>, <span style=\"color: #008080; text-decoration-color: #008080; font-weight: bold\">7961</span><span style=\"font-weight: bold\">)</span>. </pre>\n"
      ],
      "text/plain": [
       "Trying to find an open port in \u001b[1m(\u001b[0m\u001b[1;36m7861\u001b[0m, \u001b[1;36m7961\u001b[0m\u001b[1m)\u001b[0m. "
      ]
     },
     "metadata": {},
     "output_type": "display_data"
    },
    {
     "data": {
      "text/html": [
       "<pre style=\"white-space:pre;overflow-x:auto;line-height:normal;font-family:Menlo,'DejaVu Sans Mono',consolas,'Courier New',monospace\">Found open port: <span style=\"color: #008080; text-decoration-color: #008080; font-weight: bold\">7893</span>\n",
       "</pre>\n"
      ],
      "text/plain": [
       "Found open port: \u001b[1;36m7893\u001b[0m\n"
      ]
     },
     "metadata": {},
     "output_type": "display_data"
    },
    {
     "data": {
      "text/html": [
       "<pre style=\"white-space:pre;overflow-x:auto;line-height:normal;font-family:Menlo,'DejaVu Sans Mono',consolas,'Courier New',monospace\">Building Application<span style=\"color: #808000; text-decoration-color: #808000\">...</span>\n",
       "</pre>\n"
      ],
      "text/plain": [
       "Building Application\u001b[33m...\u001b[0m\n"
      ]
     },
     "metadata": {},
     "output_type": "display_data"
    },
    {
     "data": {
      "text/html": [
       "<pre style=\"white-space:pre;overflow-x:auto;line-height:normal;font-family:Menlo,'DejaVu Sans Mono',consolas,'Courier New',monospace\"><span style=\"color: #008000; text-decoration-color: #008000\">b'\\n'</span>\r</pre>\n"
      ],
      "text/plain": [
       "\u001b[32mb'\\n'\u001b[0m\r"
      ]
     },
     "metadata": {},
     "output_type": "display_data"
    },
    {
     "data": {
      "text/html": [
       "<pre style=\"white-space:pre;overflow-x:auto;line-height:normal;font-family:Menlo,'DejaVu Sans Mono',consolas,'Courier New',monospace\"><span style=\"color: #008000; text-decoration-color: #008000\">b'&gt; @meerkat-ml/meerkat@0.0.1a build\\n'</span>\r</pre>\n"
      ],
      "text/plain": [
       "\u001b[32mb'> @meerkat-ml/meerkat@0.0.1a build\\n'\u001b[0m\r"
      ]
     },
     "metadata": {},
     "output_type": "display_data"
    },
    {
     "data": {
      "text/html": [
       "<pre style=\"white-space:pre;overflow-x:auto;line-height:normal;font-family:Menlo,'DejaVu Sans Mono',consolas,'Courier New',monospace\"><span style=\"color: #008000; text-decoration-color: #008000\">b'&gt; vite build\\n'</span>\r</pre>\n"
      ],
      "text/plain": [
       "\u001b[32mb'> vite build\\n'\u001b[0m\r"
      ]
     },
     "metadata": {},
     "output_type": "display_data"
    },
    {
     "data": {
      "text/html": [
       "<pre style=\"white-space:pre;overflow-x:auto;line-height:normal;font-family:Menlo,'DejaVu Sans Mono',consolas,'Courier New',monospace\"><span style=\"color: #008000; text-decoration-color: #008000\">b'\\n'</span>\r</pre>\n"
      ],
      "text/plain": [
       "\u001b[32mb'\\n'\u001b[0m\r"
      ]
     },
     "metadata": {},
     "output_type": "display_data"
    },
    {
     "data": {
      "text/html": [
       "<pre style=\"white-space:pre;overflow-x:auto;line-height:normal;font-family:Menlo,'DejaVu Sans Mono',consolas,'Courier New',monospace\"><span style=\"color: #008000; text-decoration-color: #008000\">b'/Users/sabrieyuboglu/code/meerkat/meerkat/interactive/app/src/lib/main.js\\n'</span>\r</pre>\n"
      ],
      "text/plain": [
       "\u001b[32mb'/Users/sabrieyuboglu/code/meerkat/meerkat/interactive/app/src/lib/main.js\\n'\u001b[0m\r"
      ]
     },
     "metadata": {},
     "output_type": "display_data"
    },
    {
     "data": {
      "text/html": [
       "<pre style=\"white-space:pre;overflow-x:auto;line-height:normal;font-family:Menlo,'DejaVu Sans Mono',consolas,'Courier New',monospace\"><span style=\"color: #008000; text-decoration-color: #008000\">b'vite v3.2.4 building for production...\\n'</span>\r</pre>\n"
      ],
      "text/plain": [
       "\u001b[32mb'vite v3.2.4 building for production...\\n'\u001b[0m\r"
      ]
     },
     "metadata": {},
     "output_type": "display_data"
    },
    {
     "data": {
      "text/html": [
       "<pre style=\"white-space:pre;overflow-x:auto;line-height:normal;font-family:Menlo,'DejaVu Sans Mono',consolas,'Courier New',monospace\"><span style=\"color: #008000; text-decoration-color: #008000\">b'transforming...\\n'</span>\r</pre>\n"
      ],
      "text/plain": [
       "\u001b[32mb'transforming...\\n'\u001b[0m\r"
      ]
     },
     "metadata": {},
     "output_type": "display_data"
    },
    {
     "data": {
      "text/html": [
       "<pre style=\"white-space:pre;overflow-x:auto;line-height:normal;font-family:Menlo,'DejaVu Sans Mono',consolas,'Courier New',monospace\"><span style=\"color: #008000; text-decoration-color: #008000\">b'\\xe2\\x9c\\x93 873 modules transformed.\\n'</span>\r</pre>\n"
      ],
      "text/plain": [
       "\u001b[32mb'\\xe2\\x9c\\x93 873 modules transformed.\\n'\u001b[0m\r"
      ]
     },
     "metadata": {},
     "output_type": "display_data"
    },
    {
     "data": {
      "text/html": [
       "<pre style=\"white-space:pre;overflow-x:auto;line-height:normal;font-family:Menlo,'DejaVu Sans Mono',consolas,'Courier New',monospace\"><span style=\"color: #008000; text-decoration-color: #008000\">b'2:44:53 PM [vite-plugin-svelte] dom compile done.\\n'</span>\r</pre>\n"
      ],
      "text/plain": [
       "\u001b[32mb'2:44:53 PM \u001b[0m\u001b[32m[\u001b[0m\u001b[32mvite-plugin-svelte\u001b[0m\u001b[32m]\u001b[0m\u001b[32m dom compile done.\\n'\u001b[0m\r"
      ]
     },
     "metadata": {},
     "output_type": "display_data"
    },
    {
     "data": {
      "text/html": [
       "<pre style=\"white-space:pre;overflow-x:auto;line-height:normal;font-family:Menlo,'DejaVu Sans Mono',consolas,'Courier New',monospace\"><span style=\"color: #008000; text-decoration-color: #008000\">b'package            \\tfiles\\t time\\t  avg\\n'</span>\r</pre>\n"
      ],
      "text/plain": [
       "\u001b[32mb'package            \\tfiles\\t time\\t  avg\\n'\u001b[0m\r"
      ]
     },
     "metadata": {},
     "output_type": "display_data"
    },
    {
     "data": {
      "text/html": [
       "<pre style=\"white-space:pre;overflow-x:auto;line-height:normal;font-family:Menlo,'DejaVu Sans Mono',consolas,'Courier New',monospace\"><span style=\"color: #008000; text-decoration-color: #008000\">b'@meerkat-ml/meerkat\\t  144\\t1.40s\\t9.7ms\\n'</span>\r</pre>\n"
      ],
      "text/plain": [
       "\u001b[32mb'@meerkat-ml/meerkat\\t  144\\t1.40s\\t9.7ms\\n'\u001b[0m\r"
      ]
     },
     "metadata": {},
     "output_type": "display_data"
    },
    {
     "data": {
      "text/html": [
       "<pre style=\"white-space:pre;overflow-x:auto;line-height:normal;font-family:Menlo,'DejaVu Sans Mono',consolas,'Courier New',monospace\"><span style=\"color: #008000; text-decoration-color: #008000\">b'rendering chunks...\\n'</span>\r</pre>\n"
      ],
      "text/plain": [
       "\u001b[32mb'rendering chunks...\\n'\u001b[0m\r"
      ]
     },
     "metadata": {},
     "output_type": "display_data"
    },
    {
     "data": {
      "text/html": [
       "<pre style=\"white-space:pre;overflow-x:auto;line-height:normal;font-family:Menlo,'DejaVu Sans Mono',consolas,'Courier New',monospace\"><span style=\"color: #008000; text-decoration-color: #008000\">b'/Users/sabrieyuboglu/code/meerkat/meerkat/interactive/app/src/lib/main.js\\n'</span>\r</pre>\n"
      ],
      "text/plain": [
       "\u001b[32mb'/Users/sabrieyuboglu/code/meerkat/meerkat/interactive/app/src/lib/main.js\\n'\u001b[0m\r"
      ]
     },
     "metadata": {},
     "output_type": "display_data"
    },
    {
     "data": {
      "text/html": [
       "<pre style=\"white-space:pre;overflow-x:auto;line-height:normal;font-family:Menlo,'DejaVu Sans Mono',consolas,'Courier New',monospace\"><span style=\"color: #008000; text-decoration-color: #008000\">b'vite v3.2.4 building SSR bundle for production...\\n'</span>\r</pre>\n"
      ],
      "text/plain": [
       "\u001b[32mb'vite v3.2.4 building SSR bundle for production...\\n'\u001b[0m\r"
      ]
     },
     "metadata": {},
     "output_type": "display_data"
    },
    {
     "data": {
      "text/html": [
       "<pre style=\"white-space:pre;overflow-x:auto;line-height:normal;font-family:Menlo,'DejaVu Sans Mono',consolas,'Courier New',monospace\"><span style=\"color: #008000; text-decoration-color: #008000\">b'transforming...\\n'</span>\r</pre>\n"
      ],
      "text/plain": [
       "\u001b[32mb'transforming...\\n'\u001b[0m\r"
      ]
     },
     "metadata": {},
     "output_type": "display_data"
    },
    {
     "data": {
      "text/html": [
       "<pre style=\"white-space:pre;overflow-x:auto;line-height:normal;font-family:Menlo,'DejaVu Sans Mono',consolas,'Courier New',monospace\"><span style=\"color: #008000; text-decoration-color: #008000\">b'\\xe2\\x9c\\x93 306 modules transformed.\\n'</span>\r</pre>\n"
      ],
      "text/plain": [
       "\u001b[32mb'\\xe2\\x9c\\x93 306 modules transformed.\\n'\u001b[0m\r"
      ]
     },
     "metadata": {},
     "output_type": "display_data"
    },
    {
     "data": {
      "text/html": [
       "<pre style=\"white-space:pre;overflow-x:auto;line-height:normal;font-family:Menlo,'DejaVu Sans Mono',consolas,'Courier New',monospace\"><span style=\"color: #008000; text-decoration-color: #008000\">b'2:44:55 PM [vite-plugin-svelte] ssr compile done.\\n'</span>\r</pre>\n"
      ],
      "text/plain": [
       "\u001b[32mb'2:44:55 PM \u001b[0m\u001b[32m[\u001b[0m\u001b[32mvite-plugin-svelte\u001b[0m\u001b[32m]\u001b[0m\u001b[32m ssr compile done.\\n'\u001b[0m\r"
      ]
     },
     "metadata": {},
     "output_type": "display_data"
    },
    {
     "data": {
      "text/html": [
       "<pre style=\"white-space:pre;overflow-x:auto;line-height:normal;font-family:Menlo,'DejaVu Sans Mono',consolas,'Courier New',monospace\"><span style=\"color: #008000; text-decoration-color: #008000\">b'package            \\tfiles\\t time\\t  avg\\n'</span>\r</pre>\n"
      ],
      "text/plain": [
       "\u001b[32mb'package            \\tfiles\\t time\\t  avg\\n'\u001b[0m\r"
      ]
     },
     "metadata": {},
     "output_type": "display_data"
    },
    {
     "data": {
      "text/html": [
       "<pre style=\"white-space:pre;overflow-x:auto;line-height:normal;font-family:Menlo,'DejaVu Sans Mono',consolas,'Courier New',monospace\"><span style=\"color: #008000; text-decoration-color: #008000\">b'@meerkat-ml/meerkat\\t  144\\t0.39s\\t2.7ms\\n'</span>\r</pre>\n"
      ],
      "text/plain": [
       "\u001b[32mb'@meerkat-ml/meerkat\\t  144\\t0.39s\\t2.7ms\\n'\u001b[0m\r"
      ]
     },
     "metadata": {},
     "output_type": "display_data"
    },
    {
     "data": {
      "text/html": [
       "<pre style=\"white-space:pre;overflow-x:auto;line-height:normal;font-family:Menlo,'DejaVu Sans Mono',consolas,'Courier New',monospace\"><span style=\"color: #008000; text-decoration-color: #008000\">b'rendering chunks...\\n'</span>\r</pre>\n"
      ],
      "text/plain": [
       "\u001b[32mb'rendering chunks...\\n'\u001b[0m\r"
      ]
     },
     "metadata": {},
     "output_type": "display_data"
    },
    {
     "data": {
      "text/html": [
       "<pre style=\"white-space:pre;overflow-x:auto;line-height:normal;font-family:Menlo,'DejaVu Sans Mono',consolas,'Courier New',monospace\"><span style=\"color: #008000; text-decoration-color: #008000\">b'.svelte-kit/output/server/vite-manifest.json                  1.52 KiB\\n'</span>\r</pre>\n"
      ],
      "text/plain": [
       "\u001b[32mb'.svelte-kit/output/server/vite-manifest.json                  1.52 KiB\\n'\u001b[0m\r"
      ]
     },
     "metadata": {},
     "output_type": "display_data"
    },
    {
     "data": {
      "text/html": [
       "<pre style=\"white-space:pre;overflow-x:auto;line-height:normal;font-family:Menlo,'DejaVu Sans Mono',consolas,'Courier New',monospace\"><span style=\"color: #008000; text-decoration-color: #008000\">b'.svelte-kit/output/server/index.js                            77.17 KiB\\n'</span>\r</pre>\n"
      ],
      "text/plain": [
       "\u001b[32mb'.svelte-kit/output/server/index.js                            77.17 KiB\\n'\u001b[0m\r"
      ]
     },
     "metadata": {},
     "output_type": "display_data"
    },
    {
     "data": {
      "text/html": [
       "<pre style=\"white-space:pre;overflow-x:auto;line-height:normal;font-family:Menlo,'DejaVu Sans Mono',consolas,'Courier New',monospace\"><span style=\"color: #008000; text-decoration-color: #008000\">b'.svelte-kit/output/server/entries/pages/_layout.svelte.js     2.67 KiB\\n'</span>\r</pre>\n"
      ],
      "text/plain": [
       "\u001b[32mb'.svelte-kit/output/server/entries/pages/_layout.svelte.js     2.67 KiB\\n'\u001b[0m\r"
      ]
     },
     "metadata": {},
     "output_type": "display_data"
    },
    {
     "data": {
      "text/html": [
       "<pre style=\"white-space:pre;overflow-x:auto;line-height:normal;font-family:Menlo,'DejaVu Sans Mono',consolas,'Courier New',monospace\"><span style=\"color: #008000; text-decoration-color: #008000\">b'.svelte-kit/output/server/entries/pages/_layout.js            0.05 KiB\\n'</span>\r</pre>\n"
      ],
      "text/plain": [
       "\u001b[32mb'.svelte-kit/output/server/entries/pages/_layout.js            0.05 KiB\\n'\u001b[0m\r"
      ]
     },
     "metadata": {},
     "output_type": "display_data"
    },
    {
     "data": {
      "text/html": [
       "<pre style=\"white-space:pre;overflow-x:auto;line-height:normal;font-family:Menlo,'DejaVu Sans Mono',consolas,'Courier New',monospace\"><span style=\"color: #008000; text-decoration-color: #008000\">b'.svelte-kit/output/server/entries/fallbacks/error.svelte.js   1.50 KiB\\n'</span>\r</pre>\n"
      ],
      "text/plain": [
       "\u001b[32mb'.svelte-kit/output/server/entries/fallbacks/error.svelte.js   1.50 KiB\\n'\u001b[0m\r"
      ]
     },
     "metadata": {},
     "output_type": "display_data"
    },
    {
     "data": {
      "text/html": [
       "<pre style=\"white-space:pre;overflow-x:auto;line-height:normal;font-family:Menlo,'DejaVu Sans Mono',consolas,'Courier New',monospace\"><span style=\"color: #008000; text-decoration-color: #008000\">b'.svelte-kit/output/server/entries/pages/_page.svelte.js       11.71 KiB\\n'</span>\r</pre>\n"
      ],
      "text/plain": [
       "\u001b[32mb'.svelte-kit/output/server/entries/pages/_page.svelte.js       11.71 KiB\\n'\u001b[0m\r"
      ]
     },
     "metadata": {},
     "output_type": "display_data"
    },
    {
     "data": {
      "text/html": [
       "<pre style=\"white-space:pre;overflow-x:auto;line-height:normal;font-family:Menlo,'DejaVu Sans Mono',consolas,'Courier New',monospace\"><span style=\"color: #008000; text-decoration-color: #008000\">b'.svelte-kit/output/server/chunks/index.js                     3.76 KiB\\n'</span>\r</pre>\n"
      ],
      "text/plain": [
       "\u001b[32mb'.svelte-kit/output/server/chunks/index.js                     3.76 KiB\\n'\u001b[0m\r"
      ]
     },
     "metadata": {},
     "output_type": "display_data"
    },
    {
     "data": {
      "text/html": [
       "<pre style=\"white-space:pre;overflow-x:auto;line-height:normal;font-family:Menlo,'DejaVu Sans Mono',consolas,'Courier New',monospace\"><span style=\"color: #008000; text-decoration-color: #008000\">b'.svelte-kit/output/server/chunks/index2.js                    1.29 KiB\\n'</span>\r</pre>\n"
      ],
      "text/plain": [
       "\u001b[32mb'.svelte-kit/output/server/chunks/index2.js                    1.29 KiB\\n'\u001b[0m\r"
      ]
     },
     "metadata": {},
     "output_type": "display_data"
    },
    {
     "data": {
      "text/html": [
       "<pre style=\"white-space:pre;overflow-x:auto;line-height:normal;font-family:Menlo,'DejaVu Sans Mono',consolas,'Courier New',monospace\"><span style=\"color: #008000; text-decoration-color: #008000\">b'.svelte-kit/output/server/chunks/hooks.js                     0.00 KiB\\n'</span>\r</pre>\n"
      ],
      "text/plain": [
       "\u001b[32mb'.svelte-kit/output/server/chunks/hooks.js                     0.00 KiB\\n'\u001b[0m\r"
      ]
     },
     "metadata": {},
     "output_type": "display_data"
    },
    {
     "data": {
      "text/html": [
       "<pre style=\"white-space:pre;overflow-x:auto;line-height:normal;font-family:Menlo,'DejaVu Sans Mono',consolas,'Courier New',monospace\"><span style=\"color: #008000; text-decoration-color: #008000\">b'\\n'</span>\r</pre>\n"
      ],
      "text/plain": [
       "\u001b[32mb'\\n'\u001b[0m\r"
      ]
     },
     "metadata": {},
     "output_type": "display_data"
    },
    {
     "data": {
      "text/html": [
       "<pre style=\"white-space:pre;overflow-x:auto;line-height:normal;font-family:Menlo,'DejaVu Sans Mono',consolas,'Courier New',monospace\"><span style=\"color: #008000; text-decoration-color: #008000\">b'Run npm run preview to preview your production build locally.\\n'</span>\r</pre>\n"
      ],
      "text/plain": [
       "\u001b[32mb'Run npm run preview to preview your production build locally.\\n'\u001b[0m\r"
      ]
     },
     "metadata": {},
     "output_type": "display_data"
    },
    {
     "data": {
      "text/html": [
       "<pre style=\"white-space:pre;overflow-x:auto;line-height:normal;font-family:Menlo,'DejaVu Sans Mono',consolas,'Courier New',monospace\"><span style=\"color: #008000; text-decoration-color: #008000\">b'.svelte-kit/output/client/_app/immutable/assets/banner_small-44893225.png              19.27 KiB\\n'</span>\r</pre>\n"
      ],
      "text/plain": [
       "\u001b[32mb'.svelte-kit/output/client/_app/immutable/assets/banner_small-44893225.png              19.27 KiB\\n'\u001b[0m\r"
      ]
     },
     "metadata": {},
     "output_type": "display_data"
    },
    {
     "data": {
      "text/html": [
       "<pre style=\"white-space:pre;overflow-x:auto;line-height:normal;font-family:Menlo,'DejaVu Sans Mono',consolas,'Courier New',monospace\"><span style=\"color: #008000; text-decoration-color: #008000\">b'.svelte-kit/output/client/vite-manifest.json                                           3.40 KiB\\n'</span>\r</pre>\n"
      ],
      "text/plain": [
       "\u001b[32mb'.svelte-kit/output/client/vite-manifest.json                                           3.40 KiB\\n'\u001b[0m\r"
      ]
     },
     "metadata": {},
     "output_type": "display_data"
    },
    {
     "data": {
      "text/html": [
       "<pre style=\"white-space:pre;overflow-x:auto;line-height:normal;font-family:Menlo,'DejaVu Sans Mono',consolas,'Courier New',monospace\"><span style=\"color: #008000; text-decoration-color: #008000\">b'.svelte-kit/output/client/_app/immutable/components/error.svelte-0c872c0a.js           2.07 KiB / gzip: 0.95 </span>\n",
       "<span style=\"color: #008000; text-decoration-color: #008000\">KiB\\n'</span>\r</pre>\n"
      ],
      "text/plain": [
       "\u001b[32mb'.svelte-kit/output/client/_app/immutable/components/error.svelte-0c872c0a.js           2.07 KiB / gzip: 0.95 \u001b[0m\n",
       "\u001b[32mKiB\\n'\u001b[0m\r"
      ]
     },
     "metadata": {},
     "output_type": "display_data"
    },
    {
     "data": {
      "text/html": [
       "<pre style=\"white-space:pre;overflow-x:auto;line-height:normal;font-family:Menlo,'DejaVu Sans Mono',consolas,'Courier New',monospace\"><span style=\"color: #008000; text-decoration-color: #008000\">b'.svelte-kit/output/client/_app/immutable/components/pages/_layout.svelte-8ee4f329.js   6.18 KiB / gzip: 2.43 </span>\n",
       "<span style=\"color: #008000; text-decoration-color: #008000\">KiB\\n'</span>\r</pre>\n"
      ],
      "text/plain": [
       "\u001b[32mb'.svelte-kit/output/client/_app/immutable/components/pages/_layout.svelte-8ee4f329.js   6.18 KiB / gzip: 2.43 \u001b[0m\n",
       "\u001b[32mKiB\\n'\u001b[0m\r"
      ]
     },
     "metadata": {},
     "output_type": "display_data"
    },
    {
     "data": {
      "text/html": [
       "<pre style=\"white-space:pre;overflow-x:auto;line-height:normal;font-family:Menlo,'DejaVu Sans Mono',consolas,'Courier New',monospace\"><span style=\"color: #008000; text-decoration-color: #008000\">b'.svelte-kit/output/client/_app/immutable/start-f1581f26.js                             26.59 KiB / gzip: 10.25 </span>\n",
       "<span style=\"color: #008000; text-decoration-color: #008000\">KiB\\n'</span>\r</pre>\n"
      ],
      "text/plain": [
       "\u001b[32mb'.svelte-kit/output/client/_app/immutable/start-f1581f26.js                             26.59 KiB / gzip: 10.25 \u001b[0m\n",
       "\u001b[32mKiB\\n'\u001b[0m\r"
      ]
     },
     "metadata": {},
     "output_type": "display_data"
    },
    {
     "data": {
      "text/html": [
       "<pre style=\"white-space:pre;overflow-x:auto;line-height:normal;font-family:Menlo,'DejaVu Sans Mono',consolas,'Courier New',monospace\"><span style=\"color: #008000; text-decoration-color: #008000\">b'.svelte-kit/output/client/_app/immutable/modules/pages/_layout.js-7b9cbfbc.js          0.07 KiB / gzip: 0.08 </span>\n",
       "<span style=\"color: #008000; text-decoration-color: #008000\">KiB\\n'</span>\r</pre>\n"
      ],
      "text/plain": [
       "\u001b[32mb'.svelte-kit/output/client/_app/immutable/modules/pages/_layout.js-7b9cbfbc.js          0.07 KiB / gzip: 0.08 \u001b[0m\n",
       "\u001b[32mKiB\\n'\u001b[0m\r"
      ]
     },
     "metadata": {},
     "output_type": "display_data"
    },
    {
     "data": {
      "text/html": [
       "<pre style=\"white-space:pre;overflow-x:auto;line-height:normal;font-family:Menlo,'DejaVu Sans Mono',consolas,'Courier New',monospace\"><span style=\"color: #008000; text-decoration-color: #008000\">b'.svelte-kit/output/client/_app/immutable/chunks/preload-helper-9b728935.js             0.74 KiB / gzip: 0.47 </span>\n",
       "<span style=\"color: #008000; text-decoration-color: #008000\">KiB\\n'</span>\r</pre>\n"
      ],
      "text/plain": [
       "\u001b[32mb'.svelte-kit/output/client/_app/immutable/chunks/preload-helper-9b728935.js             0.74 KiB / gzip: 0.47 \u001b[0m\n",
       "\u001b[32mKiB\\n'\u001b[0m\r"
      ]
     },
     "metadata": {},
     "output_type": "display_data"
    },
    {
     "data": {
      "text/html": [
       "<pre style=\"white-space:pre;overflow-x:auto;line-height:normal;font-family:Menlo,'DejaVu Sans Mono',consolas,'Courier New',monospace\"><span style=\"color: #008000; text-decoration-color: #008000\">b'.svelte-kit/output/client/_app/immutable/chunks/singletons-da3885fe.js                 2.08 KiB / gzip: 1.12 </span>\n",
       "<span style=\"color: #008000; text-decoration-color: #008000\">KiB\\n'</span>\r</pre>\n"
      ],
      "text/plain": [
       "\u001b[32mb'.svelte-kit/output/client/_app/immutable/chunks/singletons-da3885fe.js                 2.08 KiB / gzip: 1.12 \u001b[0m\n",
       "\u001b[32mKiB\\n'\u001b[0m\r"
      ]
     },
     "metadata": {},
     "output_type": "display_data"
    },
    {
     "data": {
      "text/html": [
       "<pre style=\"white-space:pre;overflow-x:auto;line-height:normal;font-family:Menlo,'DejaVu Sans Mono',consolas,'Courier New',monospace\"><span style=\"color: #008000; text-decoration-color: #008000\">b'.svelte-kit/output/client/_app/immutable/chunks/store-3d37cb54.js                      0.69 KiB / gzip: 0.39 </span>\n",
       "<span style=\"color: #008000; text-decoration-color: #008000\">KiB\\n'</span>\r</pre>\n"
      ],
      "text/plain": [
       "\u001b[32mb'.svelte-kit/output/client/_app/immutable/chunks/store-3d37cb54.js                      0.69 KiB / gzip: 0.39 \u001b[0m\n",
       "\u001b[32mKiB\\n'\u001b[0m\r"
      ]
     },
     "metadata": {},
     "output_type": "display_data"
    },
    {
     "data": {
      "text/html": [
       "<pre style=\"white-space:pre;overflow-x:auto;line-height:normal;font-family:Menlo,'DejaVu Sans Mono',consolas,'Courier New',monospace\"><span style=\"color: #008000; text-decoration-color: #008000\">b'.svelte-kit/output/client/_app/immutable/chunks/_layout-8d2a742b.js                    0.14 KiB / gzip: 0.14 </span>\n",
       "<span style=\"color: #008000; text-decoration-color: #008000\">KiB\\n'</span>\r</pre>\n"
      ],
      "text/plain": [
       "\u001b[32mb'.svelte-kit/output/client/_app/immutable/chunks/_layout-8d2a742b.js                    0.14 KiB / gzip: 0.14 \u001b[0m\n",
       "\u001b[32mKiB\\n'\u001b[0m\r"
      ]
     },
     "metadata": {},
     "output_type": "display_data"
    },
    {
     "data": {
      "text/html": [
       "<pre style=\"white-space:pre;overflow-x:auto;line-height:normal;font-family:Menlo,'DejaVu Sans Mono',consolas,'Courier New',monospace\"><span style=\"color: #008000; text-decoration-color: #008000\">b'.svelte-kit/output/client/_app/immutable/chunks/0-a283a0e8.js                          0.15 KiB / gzip: 0.13 </span>\n",
       "<span style=\"color: #008000; text-decoration-color: #008000\">KiB\\n'</span>\r</pre>\n"
      ],
      "text/plain": [
       "\u001b[32mb'.svelte-kit/output/client/_app/immutable/chunks/0-a283a0e8.js                          0.15 KiB / gzip: 0.13 \u001b[0m\n",
       "\u001b[32mKiB\\n'\u001b[0m\r"
      ]
     },
     "metadata": {},
     "output_type": "display_data"
    },
    {
     "data": {
      "text/html": [
       "<pre style=\"white-space:pre;overflow-x:auto;line-height:normal;font-family:Menlo,'DejaVu Sans Mono',consolas,'Courier New',monospace\"><span style=\"color: #008000; text-decoration-color: #008000\">b'.svelte-kit/output/client/_app/immutable/chunks/1-3de46682.js                          0.09 KiB / gzip: 0.09 </span>\n",
       "<span style=\"color: #008000; text-decoration-color: #008000\">KiB\\n'</span>\r</pre>\n"
      ],
      "text/plain": [
       "\u001b[32mb'.svelte-kit/output/client/_app/immutable/chunks/1-3de46682.js                          0.09 KiB / gzip: 0.09 \u001b[0m\n",
       "\u001b[32mKiB\\n'\u001b[0m\r"
      ]
     },
     "metadata": {},
     "output_type": "display_data"
    },
    {
     "data": {
      "text/html": [
       "<pre style=\"white-space:pre;overflow-x:auto;line-height:normal;font-family:Menlo,'DejaVu Sans Mono',consolas,'Courier New',monospace\"><span style=\"color: #008000; text-decoration-color: #008000\">b'.svelte-kit/output/client/_app/immutable/chunks/2-f4bef3cb.js                          0.09 KiB / gzip: 0.10 </span>\n",
       "<span style=\"color: #008000; text-decoration-color: #008000\">KiB\\n'</span>\r</pre>\n"
      ],
      "text/plain": [
       "\u001b[32mb'.svelte-kit/output/client/_app/immutable/chunks/2-f4bef3cb.js                          0.09 KiB / gzip: 0.10 \u001b[0m\n",
       "\u001b[32mKiB\\n'\u001b[0m\r"
      ]
     },
     "metadata": {},
     "output_type": "display_data"
    },
    {
     "data": {
      "text/html": [
       "<pre style=\"white-space:pre;overflow-x:auto;line-height:normal;font-family:Menlo,'DejaVu Sans Mono',consolas,'Courier New',monospace\"><span style=\"color: #008000; text-decoration-color: #008000\">b'.svelte-kit/output/client/_app/immutable/chunks/index-49da8645.js                      16.13 KiB / gzip: 6.58 </span>\n",
       "<span style=\"color: #008000; text-decoration-color: #008000\">KiB\\n'</span>\r</pre>\n"
      ],
      "text/plain": [
       "\u001b[32mb'.svelte-kit/output/client/_app/immutable/chunks/index-49da8645.js                      16.13 KiB / gzip: 6.58 \u001b[0m\n",
       "\u001b[32mKiB\\n'\u001b[0m\r"
      ]
     },
     "metadata": {},
     "output_type": "display_data"
    },
    {
     "data": {
      "text/html": [
       "<pre style=\"white-space:pre;overflow-x:auto;line-height:normal;font-family:Menlo,'DejaVu Sans Mono',consolas,'Courier New',monospace\"><span style=\"color: #008000; text-decoration-color: #008000\">b'.svelte-kit/output/client/_app/immutable/assets/_page-21761a82.css                     44.79 KiB / gzip: 8.46 </span>\n",
       "<span style=\"color: #008000; text-decoration-color: #008000\">KiB\\n'</span>\r</pre>\n"
      ],
      "text/plain": [
       "\u001b[32mb'.svelte-kit/output/client/_app/immutable/assets/_page-21761a82.css                     44.79 KiB / gzip: 8.46 \u001b[0m\n",
       "\u001b[32mKiB\\n'\u001b[0m\r"
      ]
     },
     "metadata": {},
     "output_type": "display_data"
    },
    {
     "data": {
      "text/html": [
       "<pre style=\"white-space:pre;overflow-x:auto;line-height:normal;font-family:Menlo,'DejaVu Sans Mono',consolas,'Courier New',monospace\"><span style=\"color: #008000; text-decoration-color: #008000\">b'.svelte-kit/output/client/_app/immutable/assets/_layout-31c3294e.css                   96.72 KiB / gzip: 14.44 </span>\n",
       "<span style=\"color: #008000; text-decoration-color: #008000\">KiB\\n'</span>\r</pre>\n"
      ],
      "text/plain": [
       "\u001b[32mb'.svelte-kit/output/client/_app/immutable/assets/_layout-31c3294e.css                   96.72 KiB / gzip: 14.44 \u001b[0m\n",
       "\u001b[32mKiB\\n'\u001b[0m\r"
      ]
     },
     "metadata": {},
     "output_type": "display_data"
    },
    {
     "data": {
      "text/html": [
       "<pre style=\"white-space:pre;overflow-x:auto;line-height:normal;font-family:Menlo,'DejaVu Sans Mono',consolas,'Courier New',monospace\"><span style=\"color: #008000; text-decoration-color: #008000\">b'.svelte-kit/output/client/_app/immutable/components/pages/_page.svelte-6a6ac222.js     452.68 KiB / gzip: 143.21 </span>\n",
       "<span style=\"color: #008000; text-decoration-color: #008000\">KiB\\n'</span>\r</pre>\n"
      ],
      "text/plain": [
       "\u001b[32mb'.svelte-kit/output/client/_app/immutable/components/pages/_page.svelte-6a6ac222.js     452.68 KiB / gzip: 143.21 \u001b[0m\n",
       "\u001b[32mKiB\\n'\u001b[0m\r"
      ]
     },
     "metadata": {},
     "output_type": "display_data"
    },
    {
     "data": {
      "text/html": [
       "<pre style=\"white-space:pre;overflow-x:auto;line-height:normal;font-family:Menlo,'DejaVu Sans Mono',consolas,'Courier New',monospace\"><span style=\"color: #008000; text-decoration-color: #008000\">b'\\n'</span>\r</pre>\n"
      ],
      "text/plain": [
       "\u001b[32mb'\\n'\u001b[0m\r"
      ]
     },
     "metadata": {},
     "output_type": "display_data"
    },
    {
     "data": {
      "text/html": [
       "<pre style=\"white-space:pre;overflow-x:auto;line-height:normal;font-family:Menlo,'DejaVu Sans Mono',consolas,'Courier New',monospace\"><span style=\"color: #008000; text-decoration-color: #008000\">b'&gt; Using @sveltejs/adapter-static\\n'</span>\r</pre>\n"
      ],
      "text/plain": [
       "\u001b[32mb'> Using @sveltejs/adapter-static\\n'\u001b[0m\r"
      ]
     },
     "metadata": {},
     "output_type": "display_data"
    },
    {
     "data": {
      "text/html": [
       "<pre style=\"white-space:pre;overflow-x:auto;line-height:normal;font-family:Menlo,'DejaVu Sans Mono',consolas,'Courier New',monospace\"><span style=\"color: #008000; text-decoration-color: #008000\">b'  Wrote site to \"build\"\\n'</span>\r</pre>\n"
      ],
      "text/plain": [
       "\u001b[32mb'  Wrote site to \"build\"\\n'\u001b[0m\r"
      ]
     },
     "metadata": {},
     "output_type": "display_data"
    },
    {
     "data": {
      "text/html": [
       "<pre style=\"white-space:pre;overflow-x:auto;line-height:normal;font-family:Menlo,'DejaVu Sans Mono',consolas,'Courier New',monospace\"><span style=\"color: #008000; text-decoration-color: #008000\">b'  \\xe2\\x9c\\x94 done\\n'</span>\r</pre>\n"
      ],
      "text/plain": [
       "\u001b[32mb'  \\xe2\\x9c\\x94 done\\n'\u001b[0m\r"
      ]
     },
     "metadata": {},
     "output_type": "display_data"
    },
    {
     "data": {
      "text/html": [
       "<pre style=\"white-space:pre;overflow-x:auto;line-height:normal;font-family:Menlo,'DejaVu Sans Mono',consolas,'Courier New',monospace\"><span style=\"color: #008000; text-decoration-color: #008000\">b''</span>\r</pre>\n"
      ],
      "text/plain": [
       "\u001b[32mb''\u001b[0m\r"
      ]
     },
     "metadata": {},
     "output_type": "display_data"
    },
    {
     "data": {
      "text/html": [
       "<pre style=\"white-space:pre;overflow-x:auto;line-height:normal;font-family:Menlo,'DejaVu Sans Mono',consolas,'Courier New',monospace\">\n",
       "</pre>\n"
      ],
      "text/plain": [
       "\n"
      ]
     },
     "metadata": {},
     "output_type": "display_data"
    },
    {
     "data": {
      "text/html": [
       "<pre style=\"white-space:pre;overflow-x:auto;line-height:normal;font-family:Menlo,'DejaVu Sans Mono',consolas,'Courier New',monospace\">Meerkat interactive mode started! API docs on <span style=\"color: #0000ff; text-decoration-color: #0000ff; text-decoration: underline\">http://127.0.0.1:7860/docs</span> and GUI server on <span style=\"color: #0000ff; text-decoration-color: #0000ff; text-decoration: underline\">http://localhost:7893.</span>\n",
       "</pre>\n"
      ],
      "text/plain": [
       "Meerkat interactive mode started! API docs on \u001b[4;94mhttp://127.0.0.1:7860/docs\u001b[0m and GUI server on \u001b[4;94mhttp://localhost:7893.\u001b[0m\n"
      ]
     },
     "metadata": {},
     "output_type": "display_data"
    },
    {
     "data": {
      "text/plain": [
       "NetworkInfo(api=<fastapi.applications.FastAPI object at 0x160e84340>, api_server_port=7860, api_server=<meerkat.interactive.server.Server object at 0x1613a2b20>, npm_server_port=7893, npm_process=<Popen: returncode: None args: ['python', '-m', 'http.server', '7893']>, api_server_name='127.0.0.1', npm_server_name='localhost', shareable_npm_server_name=None, shareable_api_server_name=None, npm_out_path='/var/folders/0g/9gpzpkwn2j74ntfk90_9t31m0000gp/T/tmpezo0efii.out', npm_err_path='/var/folders/0g/9gpzpkwn2j74ntfk90_9t31m0000gp/T/tmpw2xk6x_s.err')"
      ]
     },
     "execution_count": 3,
     "metadata": {},
     "output_type": "execute_result"
    }
   ],
   "source": [
    "mk.gui.start(dev=False)"
   ]
  },
  {
   "cell_type": "code",
   "execution_count": 4,
   "metadata": {},
   "outputs": [
    {
     "data": {
      "text/html": [
       "\n",
       "        <iframe\n",
       "            width=\"100%\"\n",
       "            height=\"1000px\"\n",
       "            src=\"http://localhost:7893?id=160afc1ce4604866b71a6a3f8e192df3\"\n",
       "            frameborder=\"0\"\n",
       "            allowfullscreen\n",
       "            \n",
       "        ></iframe>\n",
       "        "
      ],
      "text/plain": [
       "<IPython.lib.display.IFrame at 0x110914b20>"
      ]
     },
     "execution_count": 4,
     "metadata": {},
     "output_type": "execute_result"
    }
   ],
   "source": [
    "df.gui.table()"
   ]
  },
  {
   "cell_type": "code",
   "execution_count": 9,
   "metadata": {},
   "outputs": [
    {
     "data": {
      "text/plain": [
       "0    1\n",
       "1    2\n",
       "2    3\n",
       "Name: a, dtype: int64"
      ]
     },
     "execution_count": 9,
     "metadata": {},
     "output_type": "execute_result"
    }
   ],
   "source": [
    "df.remove_column(\"\")"
   ]
  },
  {
   "cell_type": "code",
   "execution_count": 21,
   "metadata": {},
   "outputs": [
    {
     "data": {
      "text/html": [
       "<table border=\"1\" class=\"dataframe\">\n",
       "  <thead>\n",
       "    <tr style=\"text-align: right;\">\n",
       "      <th></th>\n",
       "      <th>label_idx (PandasScalarColumn)</th>\n",
       "      <th>label (PandasScalarColumn)</th>\n",
       "    </tr>\n",
       "  </thead>\n",
       "  <tbody>\n",
       "    <tr>\n",
       "      <th>0</th>\n",
       "      <td>482.0</td>\n",
       "      <td>cassette player</td>\n",
       "    </tr>\n",
       "    <tr>\n",
       "      <th>1</th>\n",
       "      <td>491.0</td>\n",
       "      <td>chainsaw</td>\n",
       "    </tr>\n",
       "    <tr>\n",
       "      <th>2</th>\n",
       "      <td>497.0</td>\n",
       "      <td>church</td>\n",
       "    </tr>\n",
       "    <tr>\n",
       "      <th>3</th>\n",
       "      <td>217.0</td>\n",
       "      <td>english springer spaniel</td>\n",
       "    </tr>\n",
       "    <tr>\n",
       "      <th>4</th>\n",
       "      <td>566.0</td>\n",
       "      <td>french horn</td>\n",
       "    </tr>\n",
       "    <tr>\n",
       "      <th>5</th>\n",
       "      <td>569.0</td>\n",
       "      <td>garbage truck</td>\n",
       "    </tr>\n",
       "    <tr>\n",
       "      <th>6</th>\n",
       "      <td>571.0</td>\n",
       "      <td>gas pump</td>\n",
       "    </tr>\n",
       "    <tr>\n",
       "      <th>7</th>\n",
       "      <td>574.0</td>\n",
       "      <td>golf ball</td>\n",
       "    </tr>\n",
       "    <tr>\n",
       "      <th>8</th>\n",
       "      <td>701.0</td>\n",
       "      <td>parachute</td>\n",
       "    </tr>\n",
       "    <tr>\n",
       "      <th>9</th>\n",
       "      <td>0.0</td>\n",
       "      <td>tench</td>\n",
       "    </tr>\n",
       "  </tbody>\n",
       "</table>"
      ],
      "text/plain": [
       "DataFrame(nrows: 10, ncols: 2)"
      ]
     },
     "execution_count": 21,
     "metadata": {},
     "output_type": "execute_result"
    }
   ],
   "source": [
    "df.groupby(\"label\")[\"label_idx\"].mean()"
   ]
  },
  {
   "cell_type": "code",
   "execution_count": 3,
   "metadata": {},
   "outputs": [
    {
     "data": {
      "text/html": [
       "<table border=\"1\" class=\"dataframe\">\n",
       "  <thead>\n",
       "    <tr style=\"text-align: right;\">\n",
       "      <th></th>\n",
       "      <th>path (PandasScalarColumn)</th>\n",
       "      <th>noisy_labels_0 (PandasScalarColumn)</th>\n",
       "      <th>noisy_labels_1 (PandasScalarColumn)</th>\n",
       "      <th>noisy_labels_5 (PandasScalarColumn)</th>\n",
       "      <th>noisy_labels_25 (PandasScalarColumn)</th>\n",
       "      <th>noisy_labels_50 (PandasScalarColumn)</th>\n",
       "      <th>is_valid (PandasScalarColumn)</th>\n",
       "      <th>label_id (PandasScalarColumn)</th>\n",
       "      <th>label (PandasScalarColumn)</th>\n",
       "      <th>label_idx (PandasScalarColumn)</th>\n",
       "      <th>split (PandasScalarColumn)</th>\n",
       "      <th>img_path (PandasScalarColumn)</th>\n",
       "      <th>img (ImageColumn)</th>\n",
       "    </tr>\n",
       "  </thead>\n",
       "  <tbody>\n",
       "    <tr>\n",
       "      <th>0</th>\n",
       "      <td>train/n02979186/n02979186_9036.JPEG</td>\n",
       "      <td>n02979186</td>\n",
       "      <td>n02979186</td>\n",
       "      <td>n02979186</td>\n",
       "      <td>n02979186</td>\n",
       "      <td>n02979186</td>\n",
       "      <td>False</td>\n",
       "      <td>n02979186</td>\n",
       "      <td>cassette player</td>\n",
       "      <td>482</td>\n",
       "      <td>train</td>\n",
       "      <td>train/n02979186/n02979186_9036.JPEG</td>\n",
       "      <td><img src=\"data:image/jpeg;base64,/9j/4AAQSkZJRgABAQAAAQABAAD/2wBDAAgGBgcGBQgHBwcJCQgKDBQNDAsLDBkSEw8UHRofHh0aHBwgJC4nICIsIxwcKDcpLDAxNDQ0Hyc5PTgyPC4zNDL/2wBDAQgJCQwLDBgNDRgyIRwhMjIyMjIyMjIyMjIyMjIyMjIyMjIyMjIyMjIyMjIyMjIyMjIyMjIyMjIyMjIyMjIyMjL/wAARCAAwAEADASIAAhEBAxEB/8QAHwAAAQUBAQEBAQEAAAAAAAAAAAECAwQFBgcICQoL/8QAtRAAAgEDAwIEAwUFBAQAAAF9AQIDAAQRBRIhMUEGE1FhByJxFDKBkaEII0KxwRVS0fAkM2JyggkKFhcYGRolJicoKSo0NTY3ODk6Q0RFRkdISUpTVFVWV1hZWmNkZWZnaGlqc3R1dnd4eXqDhIWGh4iJipKTlJWWl5iZmqKjpKWmp6ipqrKztLW2t7i5usLDxMXGx8jJytLT1NXW19jZ2uHi4+Tl5ufo6erx8vP09fb3+Pn6/8QAHwEAAwEBAQEBAQEBAQAAAAAAAAECAwQFBgcICQoL/8QAtREAAgECBAQDBAcFBAQAAQJ3AAECAxEEBSExBhJBUQdhcRMiMoEIFEKRobHBCSMzUvAVYnLRChYkNOEl8RcYGRomJygpKjU2Nzg5OkNERUZHSElKU1RVVldYWVpjZGVmZ2hpanN0dXZ3eHl6goOEhYaHiImKkpOUlZaXmJmaoqOkpaanqKmqsrO0tba3uLm6wsPExcbHyMnK0tPU1dbX2Nna4uPk5ebn6Onq8vP09fb3+Pn6/9oADAMBAAIRAxEAPwDdN6hbBJ56ZFQvqCjj5j+BrJuNT1C6kRra005CGBYO+4EZ59CDWjcrb7mMZBHYbqAHDUV/vOtD3VtdjZMIZx/dkUGsGaS4KeQlsTcbhlkwEAOP4iO307VfEY2gMyyEd2UZNAFhtHtyd9lcXNm//TJ96f8AfLf41Lb6p4k0Nt8DJexjr5R2uR7qev4ZqmJ1t5YklYxSzcpEXBLD1ArTWWSPiTDDAPJFAHZ+FPG1tra+TcQvbXIO07xgE+nsamu9WbXbmex02fydPgO28vx690T1Pqe38/N767a6Qwq724YYZ0OCw9P5fSu88LWUWqaVAJTHFbW3yC0iyBuHVmPcnr+NAGFOli7lkmlY+zMf6VmPLaz/ADwSyMOV+XcRkHB7dc1Qudc8SMW8zWtITIz8gPT1+7WSLvU7aBbeLWICoZidkZJLMS57e5/CqUW+g7M2JCjOYlkn3oMsoVs4PQn5fY1GVZjtTzAwGT+7bJH/AHzXNtfXmXmOpB2lUFnCfwqT05/2jVeW+vA5zqCjPyfNgeh9fYU/Zz7P7g5X2OqAuPMyokJAxt2H/ComuHaRiHCncqSPtLbQD3UcnGTxXHJrxEwSS/YoWG4Knp+PvXW6ebeHT7qbktKi4LHknIP8s0Spyj8SsNxa3OwsLCznt3MREox1MZX9DWRp2sXGl65LYxymNyN8Sk8N6qfatnwVdJdxOhHOK57x3EbLWrSe2ASbzAARxkHqK8tuSkz1Fy8q0ujzyXw/qYX5r24IKFdokGB7fSoRol1HJvZ3cZB/eT54A57Vvym4IO5phVRo5JH2eZKzf3QCTXuPF1Hv/X4nne1le5kHQwQDL5ZPP8bfh6dKkh0e1VuIombt8me3vmuosfB2tX5Bg0y4Kn+Ob92v611Gn/Cy/kjzeX0VvzzHANx/76NZSrzZLqSe5wEGnWNiwklEYbrgjc1PvdawmyANgdPWvU4vhXpCSxh57hweGLMMn9Kr+I/h/o2lWCSWfnAhtrNJJuOD0xUOSfvTf6jiueVmyD4UQXEttNdTIyrkgZ71L8QbTzbm0c4CpKGJxmus8HaX/ZWhQwE5wMliMEmud8dTrLNFBgYJz+VeZVabujugkvdP/9k=\"></td>\n",
       "    </tr>\n",
       "    <tr>\n",
       "      <th>1</th>\n",
       "      <td>train/n02979186/n02979186_11957.JPEG</td>\n",
       "      <td>n02979186</td>\n",
       "      <td>n02979186</td>\n",
       "      <td>n02979186</td>\n",
       "      <td>n02979186</td>\n",
       "      <td>n03000684</td>\n",
       "      <td>False</td>\n",
       "      <td>n02979186</td>\n",
       "      <td>cassette player</td>\n",
       "      <td>482</td>\n",
       "      <td>train</td>\n",
       "      <td>train/n02979186/n02979186_11957.JPEG</td>\n",
       "      <td><img src=\"data:image/jpeg;base64,/9j/4AAQSkZJRgABAQAAAQABAAD/2wBDAAgGBgcGBQgHBwcJCQgKDBQNDAsLDBkSEw8UHRofHh0aHBwgJC4nICIsIxwcKDcpLDAxNDQ0Hyc5PTgyPC4zNDL/2wBDAQgJCQwLDBgNDRgyIRwhMjIyMjIyMjIyMjIyMjIyMjIyMjIyMjIyMjIyMjIyMjIyMjIyMjIyMjIyMjIyMjIyMjL/wAARCAArAEADASIAAhEBAxEB/8QAHwAAAQUBAQEBAQEAAAAAAAAAAAECAwQFBgcICQoL/8QAtRAAAgEDAwIEAwUFBAQAAAF9AQIDAAQRBRIhMUEGE1FhByJxFDKBkaEII0KxwRVS0fAkM2JyggkKFhcYGRolJicoKSo0NTY3ODk6Q0RFRkdISUpTVFVWV1hZWmNkZWZnaGlqc3R1dnd4eXqDhIWGh4iJipKTlJWWl5iZmqKjpKWmp6ipqrKztLW2t7i5usLDxMXGx8jJytLT1NXW19jZ2uHi4+Tl5ufo6erx8vP09fb3+Pn6/8QAHwEAAwEBAQEBAQEBAQAAAAAAAAECAwQFBgcICQoL/8QAtREAAgECBAQDBAcFBAQAAQJ3AAECAxEEBSExBhJBUQdhcRMiMoEIFEKRobHBCSMzUvAVYnLRChYkNOEl8RcYGRomJygpKjU2Nzg5OkNERUZHSElKU1RVVldYWVpjZGVmZ2hpanN0dXZ3eHl6goOEhYaHiImKkpOUlZaXmJmaoqOkpaanqKmqsrO0tba3uLm6wsPExcbHyMnK0tPU1dbX2Nna4uPk5ebn6Onq8vP09fb3+Pn6/9oADAMBAAIRAxEAPwBbS+S7GMBSO+6rEpdWUjjBwT7GuQtNQ8u2uNkyeZtBVk/hOQB+PNdoB5iLuI3Ern3rlnGzuiZJItSQqcFX/HFLHbBmAD8/Sob0GOxYqu89Nv1qp4ZMhuYYpPLd/Ld2KHhRkBetc849QWqOlggYIAGH5VDqENx9kl8sBm2nAI6muO1nUPE8Pim3hso7oWXmKGMUe4EFupOD27V6ZLCGUkDiocbWYjze4g8jULQsxL+X8xPc4BNeseDCbvwykTH7rOp/OvMtZTbqFmf7xx+lem/D4/8AEkmT+7Mf5CuiEeayZrF2R4attGxPLBSclQODWvZ3cwlSIbpBnOD1H41n28iuAR0NTfbrWzuoyrF5yCPLjG4kf0qW30MtXudO8X2228l2dFbklTg1d0vSbezuBOjyNJt2Es2cjrzXNxa9DHLGk0c0LSHCeYBgn0yCaivfiBa6bd/ZEhaWUAFmLYVc/mT+VTaTVgsenW6KeatPHlK8qt/itDANzQwzAfwRl1Y/QkY/lXoWgeJ9O8R6Z9rtHKbTh4pSAyH8+nvWbg46sqzOT8QwiO4sm9JQP5iu8+H7/wCi3sfo6n8x/wDWrgvF1/bpNaRCaMOZuNxI6N9Oa7D4e6haBrqCS5UXUr/u42RkJQD0bqevSuijJNpI6HRnGHM1ozyPVZHh8MQTsWFw8D7dq8k56n6VwNhI0cN0GY58huT65FdUbuf7PH8/ReMqKht0jmll8yONsKOqCqguSLTCvNSqOSRhafPPNNHnZwf4eCKfq8ixz3cMq5uPOVt23+HYO9dnY2tulo7rbxBhIuGCDI4NWTGjzMWUEnrmk6ivsYtnl9q/lOrnBZWyN4yv41tvfXSl1gYlJBk+UcLz2HtXodvbQHGYkP4Vtaf4e0i6neafT4JHIyS65qJVb9Drw1ZU73/T9TzDS1ErGWbl0xgE5wa9K8D6tHJqbWWpMptbhCplc4MRHzBg3Y5HWm6lpWnwW0ohsoI+SMogB/MV0Hw3srZNQWZYV8wxsNx59K5fe9vFpnbLEQq05O2x/9k=\"></td>\n",
       "    </tr>\n",
       "    <tr>\n",
       "      <th>2</th>\n",
       "      <td>train/n02979186/n02979186_9715.JPEG</td>\n",
       "      <td>n02979186</td>\n",
       "      <td>n02979186</td>\n",
       "      <td>n02979186</td>\n",
       "      <td>n03417042</td>\n",
       "      <td>n03000684</td>\n",
       "      <td>False</td>\n",
       "      <td>n02979186</td>\n",
       "      <td>cassette player</td>\n",
       "      <td>482</td>\n",
       "      <td>train</td>\n",
       "      <td>train/n02979186/n02979186_9715.JPEG</td>\n",
       "      <td><img src=\"data:image/jpeg;base64,/9j/4AAQSkZJRgABAQAAAQABAAD/2wBDAAgGBgcGBQgHBwcJCQgKDBQNDAsLDBkSEw8UHRofHh0aHBwgJC4nICIsIxwcKDcpLDAxNDQ0Hyc5PTgyPC4zNDL/2wBDAQgJCQwLDBgNDRgyIRwhMjIyMjIyMjIyMjIyMjIyMjIyMjIyMjIyMjIyMjIyMjIyMjIyMjIyMjIyMjIyMjIyMjL/wAARCABAAC8DASIAAhEBAxEB/8QAHwAAAQUBAQEBAQEAAAAAAAAAAAECAwQFBgcICQoL/8QAtRAAAgEDAwIEAwUFBAQAAAF9AQIDAAQRBRIhMUEGE1FhByJxFDKBkaEII0KxwRVS0fAkM2JyggkKFhcYGRolJicoKSo0NTY3ODk6Q0RFRkdISUpTVFVWV1hZWmNkZWZnaGlqc3R1dnd4eXqDhIWGh4iJipKTlJWWl5iZmqKjpKWmp6ipqrKztLW2t7i5usLDxMXGx8jJytLT1NXW19jZ2uHi4+Tl5ufo6erx8vP09fb3+Pn6/8QAHwEAAwEBAQEBAQEBAQAAAAAAAAECAwQFBgcICQoL/8QAtREAAgECBAQDBAcFBAQAAQJ3AAECAxEEBSExBhJBUQdhcRMiMoEIFEKRobHBCSMzUvAVYnLRChYkNOEl8RcYGRomJygpKjU2Nzg5OkNERUZHSElKU1RVVldYWVpjZGVmZ2hpanN0dXZ3eHl6goOEhYaHiImKkpOUlZaXmJmaoqOkpaanqKmqsrO0tba3uLm6wsPExcbHyMnK0tPU1dbX2Nna4uPk5ebn6Onq8vP09fb3+Pn6/9oADAMBAAIRAxEAPwD2PxBqUVnpF+I7uOO8S2eSNBIA/Ckggda8p8I+OdX1LW4IbrULp7dpFR0kIzycdRXOfELT76H4m30PmBpLhvtETluibc4/AKRineF4p7/xNEsRXzTgrngZHP8ASkM9uv7yGBSImlDq5U5lJ6D61yWveLptJsRds7tGZvKUI5znGc8mn6pdTl5objeJhh1j44+hHXPIrFfUJkjaIWMpTdnDQgjPryKALei+O9S1drg29wyfZxllmAOeCe2fSug0/wAXX8moW8E5hdZFJbCYxwSOfy/OuGk1GdQ4SzmjDAg7FVeDxjpV/wAOAz+IobIOqwOmXZRltwQ8Z9M+lAjN+LIltviPZ3EEBnkfTz+7BwTxICfwHP4VgeDLp49bjuCpUqVOOncV3/xK0mefxnpF8igxDT7pWPptRj/7MK4Pw6Fi1JpJE3oACVzjIyOKBnX+KtZWbTdQZGVLmBG8iRTkkrgkHjtmvNtM1m81C5dLzVI7dVXIZ487vYYBr3CSDwTcWmLi/OyRfmjklJPPYjFc1d2nw6tZG2S2+B0wDn+lMR5lq961vDD9j1h7uZ2beEhKBV4x1H1rvvArGXUNLKgmVoizk5znYetRy674NsmxaWgk/wB2LP8AjV3wr4ks9R8V2lpa2rQqwc7yuBwhNAHo3i6236RNdiMyGC3nBC9QHQjP8q8Cud0Fqzjg5Wvo3XlZvD2pBFLMbaTCjqflNfOuoq39mkkY+ZaBmZshJyYUyfak+Rfuxxj6KKUnA/Co2IHJ6VRI5nJHU4rqPhvH5njmxHosp/8AHGrk8g9K7T4Vp5nju29oZT/47/8AXpDPfyAQQRkHqK8M8b6DNp99e21vEWjBE0YUf8syf6dK9zrE8QaOdQWK4hQG4iyPdlPakM+cRa3EhwkErH0VCasRaHqkjApZyqc8Fhtx+derzeErzULhG23CRLncqkrmtaz8EmKARZSJM5J3FmP1ouKx49J4buoVWS8kJ3HAWP52/XpXf/DXRI7TWUuxAyP5TjLHJxx+Vdza+E9OtyGcNKffgfpWxBbQWybIIUjX0UYoCx//2Q==\"></td>\n",
       "    </tr>\n",
       "    <tr>\n",
       "      <th>3</th>\n",
       "      <td>train/n02979186/n02979186_21736.JPEG</td>\n",
       "      <td>n02979186</td>\n",
       "      <td>n02979186</td>\n",
       "      <td>n02979186</td>\n",
       "      <td>n02979186</td>\n",
       "      <td>n03417042</td>\n",
       "      <td>False</td>\n",
       "      <td>n02979186</td>\n",
       "      <td>cassette player</td>\n",
       "      <td>482</td>\n",
       "      <td>train</td>\n",
       "      <td>train/n02979186/n02979186_21736.JPEG</td>\n",
       "      <td><img src=\"data:image/jpeg;base64,/9j/4AAQSkZJRgABAQAAAQABAAD/2wBDAAgGBgcGBQgHBwcJCQgKDBQNDAsLDBkSEw8UHRofHh0aHBwgJC4nICIsIxwcKDcpLDAxNDQ0Hyc5PTgyPC4zNDL/2wBDAQgJCQwLDBgNDRgyIRwhMjIyMjIyMjIyMjIyMjIyMjIyMjIyMjIyMjIyMjIyMjIyMjIyMjIyMjIyMjIyMjIyMjL/wAARCAAwAEADASIAAhEBAxEB/8QAHwAAAQUBAQEBAQEAAAAAAAAAAAECAwQFBgcICQoL/8QAtRAAAgEDAwIEAwUFBAQAAAF9AQIDAAQRBRIhMUEGE1FhByJxFDKBkaEII0KxwRVS0fAkM2JyggkKFhcYGRolJicoKSo0NTY3ODk6Q0RFRkdISUpTVFVWV1hZWmNkZWZnaGlqc3R1dnd4eXqDhIWGh4iJipKTlJWWl5iZmqKjpKWmp6ipqrKztLW2t7i5usLDxMXGx8jJytLT1NXW19jZ2uHi4+Tl5ufo6erx8vP09fb3+Pn6/8QAHwEAAwEBAQEBAQEBAQAAAAAAAAECAwQFBgcICQoL/8QAtREAAgECBAQDBAcFBAQAAQJ3AAECAxEEBSExBhJBUQdhcRMiMoEIFEKRobHBCSMzUvAVYnLRChYkNOEl8RcYGRomJygpKjU2Nzg5OkNERUZHSElKU1RVVldYWVpjZGVmZ2hpanN0dXZ3eHl6goOEhYaHiImKkpOUlZaXmJmaoqOkpaanqKmqsrO0tba3uLm6wsPExcbHyMnK0tPU1dbX2Nna4uPk5ebn6Onq8vP09fb3+Pn6/9oADAMBAAIRAxEAPwD3+iiigDK1Ozv79B9k1aXT9hPMcSPu+u4fpWcIPFUAUxavpl2vH/HxbNGT+Kn+lHia9MFgbSN9sl1I0eQcELjLY/l+NZelaj9kKWM0wMR+VPm5jPp9P5VtGjJw50ZuolLlZovq/iu0ilkuPD9pdKoyPsd6Bx/wMCm+EfH+k+MJ7i3s1miuYFDtHKByvTKkHBwePxFN1p3OkXsayOC0LAYOCOPWvGvgYzx/EOWHzlCraTKUY8t8y9PyzWJofSVFFFABRRRQB5t43mK+J9EQ/d+0n9Vb/AU5HaWcofulsHj/AGfp/jVT4ns9nJZakuQtvdKz49ARn9C35UWN0k8/mxHfBK+6ORQCGG3qCK9Kj/DRy1PiNtpTPpsu5txCMhPrxXjvwiJg+MDRgQYZblD5hw3r8vvx+Wa9ahYG3usdCx/lXknwuhjl+NQZ0kJje6ZCuMA4PX8zXDVSU2kdEXeKZ9NUUUVmUFFFFAHFeMrOHVLC9sHwXPzKuec46fiCR+Ncf4ask0jRks4pnn+YsGK45J9O2K9S1LQLLVH8ycSLJjG6N8fp0/Sucv8AwAZkK2upSJ824bhtOf8AeX/CuilW9mmrGVSnz21KPmCGzYEgnBJPvXmPwchF18VZ7nBJjW5f6ZOP613tz4P8Q6eZGi33aFSNkbKc8e+0/pTvhH8Or7wqLjV9ZITULpCgt1YN5SEgncRwWOB06VjJ3dzRJJWR6nRRRUjP/9k=\"></td>\n",
       "    </tr>\n",
       "    <tr>\n",
       "      <th>4</th>\n",
       "      <td>train/n02979186/ILSVRC2012_val_00046953.JPEG</td>\n",
       "      <td>n02979186</td>\n",
       "      <td>n02979186</td>\n",
       "      <td>n02979186</td>\n",
       "      <td>n02979186</td>\n",
       "      <td>n03394916</td>\n",
       "      <td>False</td>\n",
       "      <td>n02979186</td>\n",
       "      <td>cassette player</td>\n",
       "      <td>482</td>\n",
       "      <td>train</td>\n",
       "      <td>train/n02979186/ILSVRC2012_val_00046953.JPEG</td>\n",
       "      <td><img src=\"data:image/jpeg;base64,/9j/4AAQSkZJRgABAQAAAQABAAD/2wBDAAgGBgcGBQgHBwcJCQgKDBQNDAsLDBkSEw8UHRofHh0aHBwgJC4nICIsIxwcKDcpLDAxNDQ0Hyc5PTgyPC4zNDL/2wBDAQgJCQwLDBgNDRgyIRwhMjIyMjIyMjIyMjIyMjIyMjIyMjIyMjIyMjIyMjIyMjIyMjIyMjIyMjIyMjIyMjIyMjL/wAARCAAlAEADASIAAhEBAxEB/8QAHwAAAQUBAQEBAQEAAAAAAAAAAAECAwQFBgcICQoL/8QAtRAAAgEDAwIEAwUFBAQAAAF9AQIDAAQRBRIhMUEGE1FhByJxFDKBkaEII0KxwRVS0fAkM2JyggkKFhcYGRolJicoKSo0NTY3ODk6Q0RFRkdISUpTVFVWV1hZWmNkZWZnaGlqc3R1dnd4eXqDhIWGh4iJipKTlJWWl5iZmqKjpKWmp6ipqrKztLW2t7i5usLDxMXGx8jJytLT1NXW19jZ2uHi4+Tl5ufo6erx8vP09fb3+Pn6/8QAHwEAAwEBAQEBAQEBAQAAAAAAAAECAwQFBgcICQoL/8QAtREAAgECBAQDBAcFBAQAAQJ3AAECAxEEBSExBhJBUQdhcRMiMoEIFEKRobHBCSMzUvAVYnLRChYkNOEl8RcYGRomJygpKjU2Nzg5OkNERUZHSElKU1RVVldYWVpjZGVmZ2hpanN0dXZ3eHl6goOEhYaHiImKkpOUlZaXmJmaoqOkpaanqKmqsrO0tba3uLm6wsPExcbHyMnK0tPU1dbX2Nna4uPk5ebn6Onq8vP09fb3+Pn6/9oADAMBAAIRAxEAPwDy+WzuzeyJbWc6oDjAjLflxXVaLp7Wtssd1aJI00vWZMELgdMjPrWh4duL1Y3igH7s8jzV3bfXBraH2jejyNEzn5l3IRx+dVBaXZzS3sQwaVpLK7JHZhlXdgoAW9hx1prCxjbMdmje+wD+laUdqLpj+909ywychhjP4U6GwtnbCXOl7vQTFT+oqybGRcX9mqs0tirbRzgLnH5VRfWtGx82mE/gv+FdiPDL3SlEWwlHQqt0n9ayrvw7aWN7sl0vbLGcnZKHU/zBpAkzmLu/0y6066+y6ekTIgIdh8wO4DjH+FctJL716S2i6XM05lt5YI5QN4AODg+qjiuU8W+FJdFiS+tg8lg5ALHnYT0yfQ1LTGkdAl/dWitZ7FUwZjJK8kYGDjtxintqd06EllDZB4H1/wAf0FZS6pLqV3LcSW0iySAGUKu4AgYyCM8Hj6GrUctuTgzxg+hYA1Ss0VJOLsy9aX1y88rqFUMuCBnOMk4z9TU8msmKcpLMgkcYJbrj/Jos1h48l4pZCvKbwCKyNc0OZ783SRJISuAGYgY+opWC+puLq8pIVZUO45HGc/5xVO51q9WaQHYeq8r2xT/D2nSrbF54guD8g64+hqC+tz9qm29nPFOwr62Gf21fRDI2Dp29OlVJvEN9d3VppMgEttdyBZI25BGQOaHR2AXk46CjRLE3HjLTCR8sZLH8ATQ0Fze1vUk0/WxFYWVvbSQEHzUQbmz1H0rsbBbTVrCK5nsoCZBkqyhv6UUVxYepKVecW9D0cXShHDU5Ja/8Albw1oc339LtvqqY/lVWXwPos3MaXEB/6ZTsKKK9A8m5A3gpIQRb6xqEfplww/UVz2peH7uzZ5P7TEpzk+ZbjJ/JhRRQFzlrvUZrZirrHJ7gFf6mur8JFZnimMaBthIwOn40UUhvY//Z\"></td>\n",
       "    </tr>\n",
       "    <tr>\n",
       "      <th>...</th>\n",
       "      <td>...</td>\n",
       "      <td>...</td>\n",
       "      <td>...</td>\n",
       "      <td>...</td>\n",
       "      <td>...</td>\n",
       "      <td>...</td>\n",
       "      <td>...</td>\n",
       "      <td>...</td>\n",
       "      <td>...</td>\n",
       "      <td>...</td>\n",
       "      <td>...</td>\n",
       "      <td>...</td>\n",
       "      <td>...</td>\n",
       "    </tr>\n",
       "    <tr>\n",
       "      <th>995</th>\n",
       "      <td>train/n03417042/n03417042_28773.JPEG</td>\n",
       "      <td>n03417042</td>\n",
       "      <td>n03417042</td>\n",
       "      <td>n03417042</td>\n",
       "      <td>n03417042</td>\n",
       "      <td>n03425413</td>\n",
       "      <td>False</td>\n",
       "      <td>n03417042</td>\n",
       "      <td>garbage truck</td>\n",
       "      <td>569</td>\n",
       "      <td>train</td>\n",
       "      <td>train/n03417042/n03417042_28773.JPEG</td>\n",
       "      <td><img src=\"data:image/jpeg;base64,/9j/4AAQSkZJRgABAQAAAQABAAD/2wBDAAgGBgcGBQgHBwcJCQgKDBQNDAsLDBkSEw8UHRofHh0aHBwgJC4nICIsIxwcKDcpLDAxNDQ0Hyc5PTgyPC4zNDL/2wBDAQgJCQwLDBgNDRgyIRwhMjIyMjIyMjIyMjIyMjIyMjIyMjIyMjIyMjIyMjIyMjIyMjIyMjIyMjIyMjIyMjIyMjL/wAARCAAwAEADASIAAhEBAxEB/8QAHwAAAQUBAQEBAQEAAAAAAAAAAAECAwQFBgcICQoL/8QAtRAAAgEDAwIEAwUFBAQAAAF9AQIDAAQRBRIhMUEGE1FhByJxFDKBkaEII0KxwRVS0fAkM2JyggkKFhcYGRolJicoKSo0NTY3ODk6Q0RFRkdISUpTVFVWV1hZWmNkZWZnaGlqc3R1dnd4eXqDhIWGh4iJipKTlJWWl5iZmqKjpKWmp6ipqrKztLW2t7i5usLDxMXGx8jJytLT1NXW19jZ2uHi4+Tl5ufo6erx8vP09fb3+Pn6/8QAHwEAAwEBAQEBAQEBAQAAAAAAAAECAwQFBgcICQoL/8QAtREAAgECBAQDBAcFBAQAAQJ3AAECAxEEBSExBhJBUQdhcRMiMoEIFEKRobHBCSMzUvAVYnLRChYkNOEl8RcYGRomJygpKjU2Nzg5OkNERUZHSElKU1RVVldYWVpjZGVmZ2hpanN0dXZ3eHl6goOEhYaHiImKkpOUlZaXmJmaoqOkpaanqKmqsrO0tba3uLm6wsPExcbHyMnK0tPU1dbX2Nna4uPk5ebn6Onq8vP09fb3+Pn6/9oADAMBAAIRAxEAPwDtWSNlw2R7VUniXIVQ+6rtvBcXbOkcSKVGSzHAFX4LO3IET3uLlSgcKhKgtnHXBrdyinYwSZiQCQkJ5gH+8KvW+nu2d7rjOBg9TWwfD5Y83ik+vlf/AF6cNAIQr9pQ987CP60c6CxjT6avlFXhGfUmseXTmX/VFPcdCK6LVtLe2snlS+Hm4PlxbCd5Azj24BrzbTPEWp6n4gexhsXuUwWOzsOMc565pc6Hys2Cqwyjzm49AaspqtuiBFTGKhuJowFjudJun64MEyvz+ApbFrSS6WGHS7qKV87PNUnOBk9qftIi5XudNBollZarFKZWlm25BztHHsOtaFxKiz5yu8mJj643kV5lorz2ZWdLeeO4HO9t2D9QTW1qXizS7RJLq5LLPGiiSONhubaxO0Z4IGc+tccZ3N3E9AF2M9aQ3gz1ryub4v6akPnRaBfNHx8zzAD36CqcnxcuJIDNb+HYkjxkNLMzceuARxV6k8p6zLexvbznh9sbHA+leRaLpVvpXi6AWV0TsZSwyTliMjPr6VNqfjvXtNtI5kstMaK8RuIo3yoIBzlj7iuHl1y7tpjKxVrnesm9XAQ4HQgY56VnLma0NYqK3PT9Cmgm8Q3FrdaMImSF5A4LoHbs3Bxk8/Xiqut67d7IFNhPpt1BMzITIdwG0Dv9fWuLstU1C0tor1LxluLhSzSkhti5+6AeMc111r4gj8VSx+daIzQR4klcAFn46D0/+tVOLcLoza1sjQaVu1cxr+kXt/ZzxQRb9xGxVwMZOWz9cClOrajJkeZt/wB1QKqT3d/MpAeWR84xu4rn9r2K5k9CBfD96LCaJ7NEuJEEYeSZRGg459TVnTfD139juLbfbeYyeT5xViUHcqOn41GtrIxBl3K3cFulXY7qWJdh+fHRv4h+P40/bExavroTW/gy3Cp9su7i72DAWV/lH0FXo/DulRABLOHIORlM/qafFqZYRLGTKQBvBX5j61bW9he5e3LbZFxwwxnPpWl/M0VnsZd74etbqORRDGjuuPMVBuWqln4aksYnSPUJTuO4jbgZrpG/3qiJz0B/Gn0sJpM//9k=\"></td>\n",
       "    </tr>\n",
       "    <tr>\n",
       "      <th>996</th>\n",
       "      <td>train/n03417042/n03417042_2794.JPEG</td>\n",
       "      <td>n03417042</td>\n",
       "      <td>n03417042</td>\n",
       "      <td>n03394916</td>\n",
       "      <td>n03417042</td>\n",
       "      <td>n03417042</td>\n",
       "      <td>False</td>\n",
       "      <td>n03417042</td>\n",
       "      <td>garbage truck</td>\n",
       "      <td>569</td>\n",
       "      <td>train</td>\n",
       "      <td>train/n03417042/n03417042_2794.JPEG</td>\n",
       "      <td><img src=\"data:image/jpeg;base64,/9j/4AAQSkZJRgABAQAAAQABAAD/2wBDAAgGBgcGBQgHBwcJCQgKDBQNDAsLDBkSEw8UHRofHh0aHBwgJC4nICIsIxwcKDcpLDAxNDQ0Hyc5PTgyPC4zNDL/2wBDAQgJCQwLDBgNDRgyIRwhMjIyMjIyMjIyMjIyMjIyMjIyMjIyMjIyMjIyMjIyMjIyMjIyMjIyMjIyMjIyMjIyMjL/wAARCAAwAEADASIAAhEBAxEB/8QAHwAAAQUBAQEBAQEAAAAAAAAAAAECAwQFBgcICQoL/8QAtRAAAgEDAwIEAwUFBAQAAAF9AQIDAAQRBRIhMUEGE1FhByJxFDKBkaEII0KxwRVS0fAkM2JyggkKFhcYGRolJicoKSo0NTY3ODk6Q0RFRkdISUpTVFVWV1hZWmNkZWZnaGlqc3R1dnd4eXqDhIWGh4iJipKTlJWWl5iZmqKjpKWmp6ipqrKztLW2t7i5usLDxMXGx8jJytLT1NXW19jZ2uHi4+Tl5ufo6erx8vP09fb3+Pn6/8QAHwEAAwEBAQEBAQEBAQAAAAAAAAECAwQFBgcICQoL/8QAtREAAgECBAQDBAcFBAQAAQJ3AAECAxEEBSExBhJBUQdhcRMiMoEIFEKRobHBCSMzUvAVYnLRChYkNOEl8RcYGRomJygpKjU2Nzg5OkNERUZHSElKU1RVVldYWVpjZGVmZ2hpanN0dXZ3eHl6goOEhYaHiImKkpOUlZaXmJmaoqOkpaanqKmqsrO0tba3uLm6wsPExcbHyMnK0tPU1dbX2Nna4uPk5ebn6Onq8vP09fb3+Pn6/9oADAMBAAIRAxEAPwD36iiigAoqKa5gtl3TzJGPVmArBvPHfhywmeO61Dy9mMuY2K89OQKAOjorB/4TXw1sZ/7ZtQF+9lsEfhW3DNFcQpNDIskTjKuhyCKAHmmGn0000Sx1RzzpbQtLJnauM4GepxXgWrpr+pXQmv73UN5UINjFV4HoOM+9UF1C48Oov2vUL14Jm2iB52CswGRkY5GQB+NQpxbsF32PQNVvVu9RnmjLGNpGK59M4/pXNXcoTV4xLHG1q0WJTJyvBOOPXkVyq/Ey2NzJEbCdvnOGDgD8Bj1zVuy8X2eszGNYmhIBT96ww2Qehq2OK11MmS7tbOMPJeGK3OVRC5JRuflbHr1GcGtXwl4+t9B1G0dtUnWz8z95AkgaPBI3EgnPcnj0rk9esy2jRRhlaVnZgq4AYhic+/Bx+FcaLe4STPksQnXipSfU1ny8zUHdH2/pviDTNZhM2m3H2qMdWjUkD8cVaF0GXPlTD2MZzXz/APDT4k/8I9oVxaNpyzL5wbe0/l/wgY5B9PxzXXy/HOzNpN5GkyNcLlVAnVl3e/A4qjOxzCaxqMboY4nG3nGzHb61W12W78Q2KW9xaOxicSxsuAdw6Z9q2hdTYJWGQDvkrTHluXGCGOe2RXArr7T/AAL5H3OKvPD93d2W2LSbSN2X7wgCOD/vA1zq+HvEOmTJJFpzOwBVsYZSD+Nerj7RHnAcEjuc05ZpeA6O3uDW0atlrqPkZ43etrj+XHJaz/usqm9cHb9AKu6fo813bq09+lrKTykkb8D64xXq8pR8Myv9CoNVZfJjBY5C9/lFN1YvoHJLucifDMDxpHFdJIx++6yhSxHQ4NNt/AWq2pZrLUpIUc90BDfXBrrjdwpyPl/4BnNMXUmKnIU/8BI4/CpUn0b/AADk7n//2Q==\"></td>\n",
       "    </tr>\n",
       "    <tr>\n",
       "      <th>997</th>\n",
       "      <td>train/n03417042/n03417042_9987.JPEG</td>\n",
       "      <td>n03417042</td>\n",
       "      <td>n03417042</td>\n",
       "      <td>n03417042</td>\n",
       "      <td>n03417042</td>\n",
       "      <td>n03417042</td>\n",
       "      <td>False</td>\n",
       "      <td>n03417042</td>\n",
       "      <td>garbage truck</td>\n",
       "      <td>569</td>\n",
       "      <td>train</td>\n",
       "      <td>train/n03417042/n03417042_9987.JPEG</td>\n",
       "      <td><img src=\"data:image/jpeg;base64,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\"></td>\n",
       "    </tr>\n",
       "    <tr>\n",
       "      <th>998</th>\n",
       "      <td>train/n03417042/n03417042_21788.JPEG</td>\n",
       "      <td>n03417042</td>\n",
       "      <td>n03417042</td>\n",
       "      <td>n03417042</td>\n",
       "      <td>n03417042</td>\n",
       "      <td>n03417042</td>\n",
       "      <td>False</td>\n",
       "      <td>n03417042</td>\n",
       "      <td>garbage truck</td>\n",
       "      <td>569</td>\n",
       "      <td>train</td>\n",
       "      <td>train/n03417042/n03417042_21788.JPEG</td>\n",
       "      <td><img src=\"data:image/jpeg;base64,/9j/4AAQSkZJRgABAQAAAQABAAD/2wBDAAgGBgcGBQgHBwcJCQgKDBQNDAsLDBkSEw8UHRofHh0aHBwgJC4nICIsIxwcKDcpLDAxNDQ0Hyc5PTgyPC4zNDL/2wBDAQgJCQwLDBgNDRgyIRwhMjIyMjIyMjIyMjIyMjIyMjIyMjIyMjIyMjIyMjIyMjIyMjIyMjIyMjIyMjIyMjIyMjL/wAARCAAwAEADASIAAhEBAxEB/8QAHwAAAQUBAQEBAQEAAAAAAAAAAAECAwQFBgcICQoL/8QAtRAAAgEDAwIEAwUFBAQAAAF9AQIDAAQRBRIhMUEGE1FhByJxFDKBkaEII0KxwRVS0fAkM2JyggkKFhcYGRolJicoKSo0NTY3ODk6Q0RFRkdISUpTVFVWV1hZWmNkZWZnaGlqc3R1dnd4eXqDhIWGh4iJipKTlJWWl5iZmqKjpKWmp6ipqrKztLW2t7i5usLDxMXGx8jJytLT1NXW19jZ2uHi4+Tl5ufo6erx8vP09fb3+Pn6/8QAHwEAAwEBAQEBAQEBAQAAAAAAAAECAwQFBgcICQoL/8QAtREAAgECBAQDBAcFBAQAAQJ3AAECAxEEBSExBhJBUQdhcRMiMoEIFEKRobHBCSMzUvAVYnLRChYkNOEl8RcYGRomJygpKjU2Nzg5OkNERUZHSElKU1RVVldYWVpjZGVmZ2hpanN0dXZ3eHl6goOEhYaHiImKkpOUlZaXmJmaoqOkpaanqKmqsrO0tba3uLm6wsPExcbHyMnK0tPU1dbX2Nna4uPk5ebn6Onq8vP09fb3+Pn6/9oADAMBAAIRAxEAPwD1nYn90VT1CaGyjimkIVfMCsSexrhdD1/xHbXkMN3dWpt3b5nvJM7R3weCT7ZrT1A2mq20tteeMka3LZaNRAuPQZxmtebTQz5Tt0wANvTtTuc5xXOWOpm1+z26Xs+oRSA7bhigGABjBUc1si7/ANtvzp3uIt/Me1KFb0NZ1zch4SGMjBedqyFSfbgism1QyoZJJb1C3Ij84nZ7ZouB1G1j61zevaBapo17PGJvPCFlcysSD68mooNk15NElzOY0RTkXDZDHOQefpUepQssH7t5ZVIbf5kxIUbTzgn1oGcwEgmtXnvrWJo4p2gCvzhx3/Ks5LbRILmZorS2LzMGKyLuA+grlDe3LPuM7HncQTwT71DJqM4bO0ZHH3xXJGop7FRd0etxT2sEGn+V5ccTEJGqcDJ6AflWib1R3FeW6d4njjtreC/2oIpN8ZLDkAHOPQjPB96huviqibvs+iKwBxukmJH6Y9q3UgcHc9Rl1NIyAW5bpXJeKPFUukXKRQu3myZyu47doHoDXIweP9Z1S5EFva6fallLKTEX4H1PWuc1HWNS16+F1PH5zqNuyFTxjqcD61Mm3oVFJO7PSNB8R61Jfy73VIp4S8bAggvjjP6Dmrlpe68uox22ozsQxYOsduNpBB6vivJ7S8u7ecNBI8Vy3GRjKj0OelekaR4pmur6wtZ40Z3KxvJu5J6E1ai2tyZK7uMi8O6egG7zpMf3nx/KuW8V6e1k7zWl3CF3ALbbdzAd+Tmuhn8TgriGzIz0LsB/Kueuna7nM0wG4+9YOpTj8JCmkcokrhWeWIu5BCrs4X3H40kUTPp8kZgk87OFYjjH+f510ywRr0VR+FKcD0H4Vn7fsg9quxmafc3Vr9naO2jEsSsu4ru3Z74x7U+2s9TjupbmGeSOWYkuwbG7v2q8XVf4vyprzLt45o9u+we08ivHoWpPMbhXWRid2d3LfjWx4es7+PXrVrhkhEc0bbWbJYbsdqw4BLBKzh2KngLu6CtHS5XbWLMlSx89Pf8AiFX7VX2NVXlFcsT/2Q==\"></td>\n",
       "    </tr>\n",
       "    <tr>\n",
       "      <th>999</th>\n",
       "      <td>train/n03417042/n03417042_25224.JPEG</td>\n",
       "      <td>n03417042</td>\n",
       "      <td>n03417042</td>\n",
       "      <td>n03417042</td>\n",
       "      <td>n03417042</td>\n",
       "      <td>n03028079</td>\n",
       "      <td>False</td>\n",
       "      <td>n03417042</td>\n",
       "      <td>garbage truck</td>\n",
       "      <td>569</td>\n",
       "      <td>train</td>\n",
       "      <td>train/n03417042/n03417042_25224.JPEG</td>\n",
       "      <td><img src=\"data:image/jpeg;base64,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\"></td>\n",
       "    </tr>\n",
       "  </tbody>\n",
       "</table>"
      ],
      "text/plain": [
       "DataFrame(nrows: 1000, ncols: 13)"
      ]
     },
     "execution_count": 3,
     "metadata": {},
     "output_type": "execute_result"
    }
   ],
   "source": [
    "df = mk.get(\"imagenette\")\n",
    "df[:1000]"
   ]
  },
  {
   "cell_type": "code",
   "execution_count": 4,
   "metadata": {},
   "outputs": [],
   "source": [
    "import numpy as np\n",
    "df[\"img_array\"] = df[\"img\"].defer(lambda x: np.array(x))"
   ]
  },
  {
   "cell_type": "code",
   "execution_count": 16,
   "metadata": {},
   "outputs": [
    {
     "ename": "NameError",
     "evalue": "name 'df' is not defined",
     "output_type": "error",
     "traceback": [
      "\u001b[0;31m---------------------------------------------------------------------------\u001b[0m",
      "\u001b[0;31mNameError\u001b[0m                                 Traceback (most recent call last)",
      "Cell \u001b[0;32mIn [16], line 1\u001b[0m\n\u001b[0;32m----> 1\u001b[0m df\n",
      "\u001b[0;31mNameError\u001b[0m: name 'df' is not defined"
     ]
    }
   ],
   "source": [
    "df"
   ]
  },
  {
   "cell_type": "code",
   "execution_count": 16,
   "metadata": {},
   "outputs": [
    {
     "data": {
      "text/plain": [
       "True"
      ]
     },
     "execution_count": 16,
     "metadata": {},
     "output_type": "execute_result"
    }
   ],
   "source": [
    "row[\"img_array\"].data.args[0] is row[\"img\"]"
   ]
  },
  {
   "cell_type": "code",
   "execution_count": 14,
   "metadata": {},
   "outputs": [],
   "source": [
    "import pyarrow as pa\n",
    "\n",
    "x = pa.chunked_array([pa.array([1, 2, 3]), pa.array([4, 5, 6])])"
   ]
  },
  {
   "cell_type": "code",
   "execution_count": 2,
   "metadata": {},
   "outputs": [
    {
     "ename": "NameError",
     "evalue": "name 'mk' is not defined",
     "output_type": "error",
     "traceback": [
      "\u001b[0;31m---------------------------------------------------------------------------\u001b[0m",
      "\u001b[0;31mNameError\u001b[0m                                 Traceback (most recent call last)",
      "Cell \u001b[0;32mIn [2], line 1\u001b[0m\n\u001b[0;32m----> 1\u001b[0m x \u001b[39m=\u001b[39m mk\u001b[39m.\u001b[39mArrowScalarColumn([\u001b[39m1\u001b[39m,\u001b[39m2\u001b[39m,\u001b[39m3\u001b[39m])\n",
      "\u001b[0;31mNameError\u001b[0m: name 'mk' is not defined"
     ]
    }
   ],
   "source": [
    "x = mk.ArrowScalarColumn([1,2,3])"
   ]
  },
  {
   "cell_type": "code",
   "execution_count": 7,
   "metadata": {},
   "outputs": [
    {
     "data": {
      "text/html": [
       "<table border=\"1\" class=\"dataframe\">\n",
       "  <thead>\n",
       "    <tr style=\"text-align: right;\">\n",
       "      <th></th>\n",
       "      <th>path (PandasScalarColumn)</th>\n",
       "      <th>noisy_labels_0 (PandasScalarColumn)</th>\n",
       "      <th>noisy_labels_1 (PandasScalarColumn)</th>\n",
       "      <th>noisy_labels_5 (PandasScalarColumn)</th>\n",
       "      <th>noisy_labels_25 (PandasScalarColumn)</th>\n",
       "      <th>noisy_labels_50 (PandasScalarColumn)</th>\n",
       "      <th>is_valid (PandasScalarColumn)</th>\n",
       "      <th>label_id (PandasScalarColumn)</th>\n",
       "      <th>label (PandasScalarColumn)</th>\n",
       "      <th>label_idx (PandasScalarColumn)</th>\n",
       "      <th>split (PandasScalarColumn)</th>\n",
       "      <th>img_path (PandasScalarColumn)</th>\n",
       "      <th>img (ObjectColumn)</th>\n",
       "    </tr>\n",
       "  </thead>\n",
       "  <tbody>\n",
       "    <tr>\n",
       "      <th>0</th>\n",
       "      <td>train/n02979186/n02979186_9036.JPEG</td>\n",
       "      <td>n02979186</td>\n",
       "      <td>n02979186</td>\n",
       "      <td>n02979186</td>\n",
       "      <td>n02979186</td>\n",
       "      <td>n02979186</td>\n",
       "      <td>False</td>\n",
       "      <td>n02979186</td>\n",
       "      <td>cassette player</td>\n",
       "      <td>482</td>\n",
       "      <td>train</td>\n",
       "      <td>train/n02979186/n02979186_9036.JPEG</td>\n",
       "      <td><PIL.Image.Image image mode=RGB size=500x375 at 0x155558F70></td>\n",
       "    </tr>\n",
       "    <tr>\n",
       "      <th>1</th>\n",
       "      <td>train/n02979186/n02979186_11957.JPEG</td>\n",
       "      <td>n02979186</td>\n",
       "      <td>n02979186</td>\n",
       "      <td>n02979186</td>\n",
       "      <td>n02979186</td>\n",
       "      <td>n03000684</td>\n",
       "      <td>False</td>\n",
       "      <td>n02979186</td>\n",
       "      <td>cassette player</td>\n",
       "      <td>482</td>\n",
       "      <td>train</td>\n",
       "      <td>train/n02979186/n02979186_11957.JPEG</td>\n",
       "      <td><PIL.Image.Image image mode=RGB size=500x333 at 0x155558FD0></td>\n",
       "    </tr>\n",
       "    <tr>\n",
       "      <th>2</th>\n",
       "      <td>train/n02979186/n02979186_9715.JPEG</td>\n",
       "      <td>n02979186</td>\n",
       "      <td>n02979186</td>\n",
       "      <td>n02979186</td>\n",
       "      <td>n03417042</td>\n",
       "      <td>n03000684</td>\n",
       "      <td>False</td>\n",
       "      <td>n02979186</td>\n",
       "      <td>cassette player</td>\n",
       "      <td>482</td>\n",
       "      <td>train</td>\n",
       "      <td>train/n02979186/n02979186_9715.JPEG</td>\n",
       "      <td><PIL.Image.Image image mode=RGB size=96x130 at 0x155558F40></td>\n",
       "    </tr>\n",
       "    <tr>\n",
       "      <th>3</th>\n",
       "      <td>train/n02979186/n02979186_21736.JPEG</td>\n",
       "      <td>n02979186</td>\n",
       "      <td>n02979186</td>\n",
       "      <td>n02979186</td>\n",
       "      <td>n02979186</td>\n",
       "      <td>n03417042</td>\n",
       "      <td>False</td>\n",
       "      <td>n02979186</td>\n",
       "      <td>cassette player</td>\n",
       "      <td>482</td>\n",
       "      <td>train</td>\n",
       "      <td>train/n02979186/n02979186_21736.JPEG</td>\n",
       "      <td><PIL.Image.Image image mode=RGB size=200x150 at 0x155558EB0></td>\n",
       "    </tr>\n",
       "    <tr>\n",
       "      <th>4</th>\n",
       "      <td>train/n02979186/ILSVRC2012_val_00046953.JPEG</td>\n",
       "      <td>n02979186</td>\n",
       "      <td>n02979186</td>\n",
       "      <td>n02979186</td>\n",
       "      <td>n02979186</td>\n",
       "      <td>n03394916</td>\n",
       "      <td>False</td>\n",
       "      <td>n02979186</td>\n",
       "      <td>cassette player</td>\n",
       "      <td>482</td>\n",
       "      <td>train</td>\n",
       "      <td>train/n02979186/ILSVRC2012_val_00046953.JPEG</td>\n",
       "      <td><PIL.Image.Image image mode=RGB size=1442x828 at 0x155558E80></td>\n",
       "    </tr>\n",
       "    <tr>\n",
       "      <th>5</th>\n",
       "      <td>train/n02979186/n02979186_10568.JPEG</td>\n",
       "      <td>n02979186</td>\n",
       "      <td>n02979186</td>\n",
       "      <td>n02979186</td>\n",
       "      <td>n02979186</td>\n",
       "      <td>n03000684</td>\n",
       "      <td>False</td>\n",
       "      <td>n02979186</td>\n",
       "      <td>cassette player</td>\n",
       "      <td>482</td>\n",
       "      <td>train</td>\n",
       "      <td>train/n02979186/n02979186_10568.JPEG</td>\n",
       "      <td><PIL.Image.Image image mode=RGB size=85x135 at 0x155558E50></td>\n",
       "    </tr>\n",
       "    <tr>\n",
       "      <th>6</th>\n",
       "      <td>train/n02979186/n02979186_2745.JPEG</td>\n",
       "      <td>n02979186</td>\n",
       "      <td>n02979186</td>\n",
       "      <td>n02979186</td>\n",
       "      <td>n03394916</td>\n",
       "      <td>n02979186</td>\n",
       "      <td>False</td>\n",
       "      <td>n02979186</td>\n",
       "      <td>cassette player</td>\n",
       "      <td>482</td>\n",
       "      <td>train</td>\n",
       "      <td>train/n02979186/n02979186_2745.JPEG</td>\n",
       "      <td><PIL.Image.Image image mode=RGB size=125x87 at 0x155558E20></td>\n",
       "    </tr>\n",
       "    <tr>\n",
       "      <th>7</th>\n",
       "      <td>train/n02979186/n02979186_3529.JPEG</td>\n",
       "      <td>n02979186</td>\n",
       "      <td>n02979186</td>\n",
       "      <td>n02979186</td>\n",
       "      <td>n02979186</td>\n",
       "      <td>n03417042</td>\n",
       "      <td>False</td>\n",
       "      <td>n02979186</td>\n",
       "      <td>cassette player</td>\n",
       "      <td>482</td>\n",
       "      <td>train</td>\n",
       "      <td>train/n02979186/n02979186_3529.JPEG</td>\n",
       "      <td><PIL.Image.Image image mode=RGB size=135x83 at 0x155558DF0></td>\n",
       "    </tr>\n",
       "    <tr>\n",
       "      <th>8</th>\n",
       "      <td>train/n02979186/n02979186_10756.JPEG</td>\n",
       "      <td>n02979186</td>\n",
       "      <td>n02979186</td>\n",
       "      <td>n02979186</td>\n",
       "      <td>n02979186</td>\n",
       "      <td>n03445777</td>\n",
       "      <td>False</td>\n",
       "      <td>n02979186</td>\n",
       "      <td>cassette player</td>\n",
       "      <td>482</td>\n",
       "      <td>train</td>\n",
       "      <td>train/n02979186/n02979186_10756.JPEG</td>\n",
       "      <td><PIL.Image.Image image mode=RGB size=251x81 at 0x155558DC0></td>\n",
       "    </tr>\n",
       "    <tr>\n",
       "      <th>9</th>\n",
       "      <td>train/n02979186/n02979186_7058.JPEG</td>\n",
       "      <td>n02979186</td>\n",
       "      <td>n02979186</td>\n",
       "      <td>n02979186</td>\n",
       "      <td>n02979186</td>\n",
       "      <td>n02979186</td>\n",
       "      <td>False</td>\n",
       "      <td>n02979186</td>\n",
       "      <td>cassette player</td>\n",
       "      <td>482</td>\n",
       "      <td>train</td>\n",
       "      <td>train/n02979186/n02979186_7058.JPEG</td>\n",
       "      <td><PIL.Image.Image image mode=RGB size=500x375 at 0x155558D90></td>\n",
       "    </tr>\n",
       "  </tbody>\n",
       "</table>"
      ],
      "text/plain": [
       "DataFrame(nrows: 10, ncols: 13)"
      ]
     },
     "execution_count": 7,
     "metadata": {},
     "output_type": "execute_result"
    }
   ],
   "source": [
    "df[:10]()"
   ]
  },
  {
   "cell_type": "code",
   "execution_count": 5,
   "metadata": {},
   "outputs": [
    {
     "data": {
      "text/html": [
       "<table border=\"1\" class=\"dataframe\">\n",
       "  <thead>\n",
       "    <tr style=\"text-align: right;\">\n",
       "      <th></th>\n",
       "      <th>(ImageColumn)</th>\n",
       "    </tr>\n",
       "  </thead>\n",
       "  <tbody>\n",
       "    <tr>\n",
       "      <th>0</th>\n",
       "      <td><img src=\"data:image/jpeg;base64,/9j/4AAQSkZJRgABAQAAAQABAAD/2wBDAAgGBgcGBQgHBwcJCQgKDBQNDAsLDBkSEw8UHRofHh0aHBwgJC4nICIsIxwcKDcpLDAxNDQ0Hyc5PTgyPC4zNDL/2wBDAQgJCQwLDBgNDRgyIRwhMjIyMjIyMjIyMjIyMjIyMjIyMjIyMjIyMjIyMjIyMjIyMjIyMjIyMjIyMjIyMjIyMjL/wAARCAAwAEADASIAAhEBAxEB/8QAHwAAAQUBAQEBAQEAAAAAAAAAAAECAwQFBgcICQoL/8QAtRAAAgEDAwIEAwUFBAQAAAF9AQIDAAQRBRIhMUEGE1FhByJxFDKBkaEII0KxwRVS0fAkM2JyggkKFhcYGRolJicoKSo0NTY3ODk6Q0RFRkdISUpTVFVWV1hZWmNkZWZnaGlqc3R1dnd4eXqDhIWGh4iJipKTlJWWl5iZmqKjpKWmp6ipqrKztLW2t7i5usLDxMXGx8jJytLT1NXW19jZ2uHi4+Tl5ufo6erx8vP09fb3+Pn6/8QAHwEAAwEBAQEBAQEBAQAAAAAAAAECAwQFBgcICQoL/8QAtREAAgECBAQDBAcFBAQAAQJ3AAECAxEEBSExBhJBUQdhcRMiMoEIFEKRobHBCSMzUvAVYnLRChYkNOEl8RcYGRomJygpKjU2Nzg5OkNERUZHSElKU1RVVldYWVpjZGVmZ2hpanN0dXZ3eHl6goOEhYaHiImKkpOUlZaXmJmaoqOkpaanqKmqsrO0tba3uLm6wsPExcbHyMnK0tPU1dbX2Nna4uPk5ebn6Onq8vP09fb3+Pn6/9oADAMBAAIRAxEAPwDdN6hbBJ56ZFQvqCjj5j+BrJuNT1C6kRra005CGBYO+4EZ59CDWjcrb7mMZBHYbqAHDUV/vOtD3VtdjZMIZx/dkUGsGaS4KeQlsTcbhlkwEAOP4iO307VfEY2gMyyEd2UZNAFhtHtyd9lcXNm//TJ96f8AfLf41Lb6p4k0Nt8DJexjr5R2uR7qev4ZqmJ1t5YklYxSzcpEXBLD1ArTWWSPiTDDAPJFAHZ+FPG1tra+TcQvbXIO07xgE+nsamu9WbXbmex02fydPgO28vx690T1Pqe38/N767a6Qwq724YYZ0OCw9P5fSu88LWUWqaVAJTHFbW3yC0iyBuHVmPcnr+NAGFOli7lkmlY+zMf6VmPLaz/ADwSyMOV+XcRkHB7dc1Qudc8SMW8zWtITIz8gPT1+7WSLvU7aBbeLWICoZidkZJLMS57e5/CqUW+g7M2JCjOYlkn3oMsoVs4PQn5fY1GVZjtTzAwGT+7bJH/AHzXNtfXmXmOpB2lUFnCfwqT05/2jVeW+vA5zqCjPyfNgeh9fYU/Zz7P7g5X2OqAuPMyokJAxt2H/ComuHaRiHCncqSPtLbQD3UcnGTxXHJrxEwSS/YoWG4Knp+PvXW6ebeHT7qbktKi4LHknIP8s0Spyj8SsNxa3OwsLCznt3MREox1MZX9DWRp2sXGl65LYxymNyN8Sk8N6qfatnwVdJdxOhHOK57x3EbLWrSe2ASbzAARxkHqK8tuSkz1Fy8q0ujzyXw/qYX5r24IKFdokGB7fSoRol1HJvZ3cZB/eT54A57Vvym4IO5phVRo5JH2eZKzf3QCTXuPF1Hv/X4nne1le5kHQwQDL5ZPP8bfh6dKkh0e1VuIombt8me3vmuosfB2tX5Bg0y4Kn+Ob92v611Gn/Cy/kjzeX0VvzzHANx/76NZSrzZLqSe5wEGnWNiwklEYbrgjc1PvdawmyANgdPWvU4vhXpCSxh57hweGLMMn9Kr+I/h/o2lWCSWfnAhtrNJJuOD0xUOSfvTf6jiueVmyD4UQXEttNdTIyrkgZ71L8QbTzbm0c4CpKGJxmus8HaX/ZWhQwE5wMliMEmud8dTrLNFBgYJz+VeZVabujugkvdP/9k=\"></td>\n",
       "    </tr>\n",
       "    <tr>\n",
       "      <th>1</th>\n",
       "      <td><img src=\"data:image/jpeg;base64,/9j/4AAQSkZJRgABAQAAAQABAAD/2wBDAAgGBgcGBQgHBwcJCQgKDBQNDAsLDBkSEw8UHRofHh0aHBwgJC4nICIsIxwcKDcpLDAxNDQ0Hyc5PTgyPC4zNDL/2wBDAQgJCQwLDBgNDRgyIRwhMjIyMjIyMjIyMjIyMjIyMjIyMjIyMjIyMjIyMjIyMjIyMjIyMjIyMjIyMjIyMjIyMjL/wAARCAArAEADASIAAhEBAxEB/8QAHwAAAQUBAQEBAQEAAAAAAAAAAAECAwQFBgcICQoL/8QAtRAAAgEDAwIEAwUFBAQAAAF9AQIDAAQRBRIhMUEGE1FhByJxFDKBkaEII0KxwRVS0fAkM2JyggkKFhcYGRolJicoKSo0NTY3ODk6Q0RFRkdISUpTVFVWV1hZWmNkZWZnaGlqc3R1dnd4eXqDhIWGh4iJipKTlJWWl5iZmqKjpKWmp6ipqrKztLW2t7i5usLDxMXGx8jJytLT1NXW19jZ2uHi4+Tl5ufo6erx8vP09fb3+Pn6/8QAHwEAAwEBAQEBAQEBAQAAAAAAAAECAwQFBgcICQoL/8QAtREAAgECBAQDBAcFBAQAAQJ3AAECAxEEBSExBhJBUQdhcRMiMoEIFEKRobHBCSMzUvAVYnLRChYkNOEl8RcYGRomJygpKjU2Nzg5OkNERUZHSElKU1RVVldYWVpjZGVmZ2hpanN0dXZ3eHl6goOEhYaHiImKkpOUlZaXmJmaoqOkpaanqKmqsrO0tba3uLm6wsPExcbHyMnK0tPU1dbX2Nna4uPk5ebn6Onq8vP09fb3+Pn6/9oADAMBAAIRAxEAPwBbS+S7GMBSO+6rEpdWUjjBwT7GuQtNQ8u2uNkyeZtBVk/hOQB+PNdoB5iLuI3Ern3rlnGzuiZJItSQqcFX/HFLHbBmAD8/Sob0GOxYqu89Nv1qp4ZMhuYYpPLd/Ld2KHhRkBetc849QWqOlggYIAGH5VDqENx9kl8sBm2nAI6muO1nUPE8Pim3hso7oWXmKGMUe4EFupOD27V6ZLCGUkDiocbWYjze4g8jULQsxL+X8xPc4BNeseDCbvwykTH7rOp/OvMtZTbqFmf7xx+lem/D4/8AEkmT+7Mf5CuiEeayZrF2R4attGxPLBSclQODWvZ3cwlSIbpBnOD1H41n28iuAR0NTfbrWzuoyrF5yCPLjG4kf0qW30MtXudO8X2228l2dFbklTg1d0vSbezuBOjyNJt2Es2cjrzXNxa9DHLGk0c0LSHCeYBgn0yCaivfiBa6bd/ZEhaWUAFmLYVc/mT+VTaTVgsenW6KeatPHlK8qt/itDANzQwzAfwRl1Y/QkY/lXoWgeJ9O8R6Z9rtHKbTh4pSAyH8+nvWbg46sqzOT8QwiO4sm9JQP5iu8+H7/wCi3sfo6n8x/wDWrgvF1/bpNaRCaMOZuNxI6N9Oa7D4e6haBrqCS5UXUr/u42RkJQD0bqevSuijJNpI6HRnGHM1ozyPVZHh8MQTsWFw8D7dq8k56n6VwNhI0cN0GY58huT65FdUbuf7PH8/ReMqKht0jmll8yONsKOqCqguSLTCvNSqOSRhafPPNNHnZwf4eCKfq8ixz3cMq5uPOVt23+HYO9dnY2tulo7rbxBhIuGCDI4NWTGjzMWUEnrmk6ivsYtnl9q/lOrnBZWyN4yv41tvfXSl1gYlJBk+UcLz2HtXodvbQHGYkP4Vtaf4e0i6neafT4JHIyS65qJVb9Drw1ZU73/T9TzDS1ErGWbl0xgE5wa9K8D6tHJqbWWpMptbhCplc4MRHzBg3Y5HWm6lpWnwW0ohsoI+SMogB/MV0Hw3srZNQWZYV8wxsNx59K5fe9vFpnbLEQq05O2x/9k=\"></td>\n",
       "    </tr>\n",
       "    <tr>\n",
       "      <th>2</th>\n",
       "      <td><img src=\"data:image/jpeg;base64,/9j/4AAQSkZJRgABAQAAAQABAAD/2wBDAAgGBgcGBQgHBwcJCQgKDBQNDAsLDBkSEw8UHRofHh0aHBwgJC4nICIsIxwcKDcpLDAxNDQ0Hyc5PTgyPC4zNDL/2wBDAQgJCQwLDBgNDRgyIRwhMjIyMjIyMjIyMjIyMjIyMjIyMjIyMjIyMjIyMjIyMjIyMjIyMjIyMjIyMjIyMjIyMjL/wAARCABAAC8DASIAAhEBAxEB/8QAHwAAAQUBAQEBAQEAAAAAAAAAAAECAwQFBgcICQoL/8QAtRAAAgEDAwIEAwUFBAQAAAF9AQIDAAQRBRIhMUEGE1FhByJxFDKBkaEII0KxwRVS0fAkM2JyggkKFhcYGRolJicoKSo0NTY3ODk6Q0RFRkdISUpTVFVWV1hZWmNkZWZnaGlqc3R1dnd4eXqDhIWGh4iJipKTlJWWl5iZmqKjpKWmp6ipqrKztLW2t7i5usLDxMXGx8jJytLT1NXW19jZ2uHi4+Tl5ufo6erx8vP09fb3+Pn6/8QAHwEAAwEBAQEBAQEBAQAAAAAAAAECAwQFBgcICQoL/8QAtREAAgECBAQDBAcFBAQAAQJ3AAECAxEEBSExBhJBUQdhcRMiMoEIFEKRobHBCSMzUvAVYnLRChYkNOEl8RcYGRomJygpKjU2Nzg5OkNERUZHSElKU1RVVldYWVpjZGVmZ2hpanN0dXZ3eHl6goOEhYaHiImKkpOUlZaXmJmaoqOkpaanqKmqsrO0tba3uLm6wsPExcbHyMnK0tPU1dbX2Nna4uPk5ebn6Onq8vP09fb3+Pn6/9oADAMBAAIRAxEAPwD2PxBqUVnpF+I7uOO8S2eSNBIA/Ckggda8p8I+OdX1LW4IbrULp7dpFR0kIzycdRXOfELT76H4m30PmBpLhvtETluibc4/AKRineF4p7/xNEsRXzTgrngZHP8ASkM9uv7yGBSImlDq5U5lJ6D61yWveLptJsRds7tGZvKUI5znGc8mn6pdTl5objeJhh1j44+hHXPIrFfUJkjaIWMpTdnDQgjPryKALei+O9S1drg29wyfZxllmAOeCe2fSug0/wAXX8moW8E5hdZFJbCYxwSOfy/OuGk1GdQ4SzmjDAg7FVeDxjpV/wAOAz+IobIOqwOmXZRltwQ8Z9M+lAjN+LIltviPZ3EEBnkfTz+7BwTxICfwHP4VgeDLp49bjuCpUqVOOncV3/xK0mefxnpF8igxDT7pWPptRj/7MK4Pw6Fi1JpJE3oACVzjIyOKBnX+KtZWbTdQZGVLmBG8iRTkkrgkHjtmvNtM1m81C5dLzVI7dVXIZ487vYYBr3CSDwTcWmLi/OyRfmjklJPPYjFc1d2nw6tZG2S2+B0wDn+lMR5lq961vDD9j1h7uZ2beEhKBV4x1H1rvvArGXUNLKgmVoizk5znYetRy674NsmxaWgk/wB2LP8AjV3wr4ks9R8V2lpa2rQqwc7yuBwhNAHo3i6236RNdiMyGC3nBC9QHQjP8q8Cud0Fqzjg5Wvo3XlZvD2pBFLMbaTCjqflNfOuoq39mkkY+ZaBmZshJyYUyfak+Rfuxxj6KKUnA/Co2IHJ6VRI5nJHU4rqPhvH5njmxHosp/8AHGrk8g9K7T4Vp5nju29oZT/47/8AXpDPfyAQQRkHqK8M8b6DNp99e21vEWjBE0YUf8syf6dK9zrE8QaOdQWK4hQG4iyPdlPakM+cRa3EhwkErH0VCasRaHqkjApZyqc8Fhtx+derzeErzULhG23CRLncqkrmtaz8EmKARZSJM5J3FmP1ouKx49J4buoVWS8kJ3HAWP52/XpXf/DXRI7TWUuxAyP5TjLHJxx+Vdza+E9OtyGcNKffgfpWxBbQWybIIUjX0UYoCx//2Q==\"></td>\n",
       "    </tr>\n",
       "    <tr>\n",
       "      <th>3</th>\n",
       "      <td><img src=\"data:image/jpeg;base64,/9j/4AAQSkZJRgABAQAAAQABAAD/2wBDAAgGBgcGBQgHBwcJCQgKDBQNDAsLDBkSEw8UHRofHh0aHBwgJC4nICIsIxwcKDcpLDAxNDQ0Hyc5PTgyPC4zNDL/2wBDAQgJCQwLDBgNDRgyIRwhMjIyMjIyMjIyMjIyMjIyMjIyMjIyMjIyMjIyMjIyMjIyMjIyMjIyMjIyMjIyMjIyMjL/wAARCAAwAEADASIAAhEBAxEB/8QAHwAAAQUBAQEBAQEAAAAAAAAAAAECAwQFBgcICQoL/8QAtRAAAgEDAwIEAwUFBAQAAAF9AQIDAAQRBRIhMUEGE1FhByJxFDKBkaEII0KxwRVS0fAkM2JyggkKFhcYGRolJicoKSo0NTY3ODk6Q0RFRkdISUpTVFVWV1hZWmNkZWZnaGlqc3R1dnd4eXqDhIWGh4iJipKTlJWWl5iZmqKjpKWmp6ipqrKztLW2t7i5usLDxMXGx8jJytLT1NXW19jZ2uHi4+Tl5ufo6erx8vP09fb3+Pn6/8QAHwEAAwEBAQEBAQEBAQAAAAAAAAECAwQFBgcICQoL/8QAtREAAgECBAQDBAcFBAQAAQJ3AAECAxEEBSExBhJBUQdhcRMiMoEIFEKRobHBCSMzUvAVYnLRChYkNOEl8RcYGRomJygpKjU2Nzg5OkNERUZHSElKU1RVVldYWVpjZGVmZ2hpanN0dXZ3eHl6goOEhYaHiImKkpOUlZaXmJmaoqOkpaanqKmqsrO0tba3uLm6wsPExcbHyMnK0tPU1dbX2Nna4uPk5ebn6Onq8vP09fb3+Pn6/9oADAMBAAIRAxEAPwD3+iiigDK1Ozv79B9k1aXT9hPMcSPu+u4fpWcIPFUAUxavpl2vH/HxbNGT+Kn+lHia9MFgbSN9sl1I0eQcELjLY/l+NZelaj9kKWM0wMR+VPm5jPp9P5VtGjJw50ZuolLlZovq/iu0ilkuPD9pdKoyPsd6Bx/wMCm+EfH+k+MJ7i3s1miuYFDtHKByvTKkHBwePxFN1p3OkXsayOC0LAYOCOPWvGvgYzx/EOWHzlCraTKUY8t8y9PyzWJofSVFFFABRRRQB5t43mK+J9EQ/d+0n9Vb/AU5HaWcofulsHj/AGfp/jVT4ns9nJZakuQtvdKz49ARn9C35UWN0k8/mxHfBK+6ORQCGG3qCK9Kj/DRy1PiNtpTPpsu5txCMhPrxXjvwiJg+MDRgQYZblD5hw3r8vvx+Wa9ahYG3usdCx/lXknwuhjl+NQZ0kJje6ZCuMA4PX8zXDVSU2kdEXeKZ9NUUUVmUFFFFAHFeMrOHVLC9sHwXPzKuec46fiCR+Ncf4ask0jRks4pnn+YsGK45J9O2K9S1LQLLVH8ycSLJjG6N8fp0/Sucv8AwAZkK2upSJ824bhtOf8AeX/CuilW9mmrGVSnz21KPmCGzYEgnBJPvXmPwchF18VZ7nBJjW5f6ZOP613tz4P8Q6eZGi33aFSNkbKc8e+0/pTvhH8Or7wqLjV9ZITULpCgt1YN5SEgncRwWOB06VjJ3dzRJJWR6nRRRUjP/9k=\"></td>\n",
       "    </tr>\n",
       "    <tr>\n",
       "      <th>4</th>\n",
       "      <td><img src=\"data:image/jpeg;base64,/9j/4AAQSkZJRgABAQAAAQABAAD/2wBDAAgGBgcGBQgHBwcJCQgKDBQNDAsLDBkSEw8UHRofHh0aHBwgJC4nICIsIxwcKDcpLDAxNDQ0Hyc5PTgyPC4zNDL/2wBDAQgJCQwLDBgNDRgyIRwhMjIyMjIyMjIyMjIyMjIyMjIyMjIyMjIyMjIyMjIyMjIyMjIyMjIyMjIyMjIyMjIyMjL/wAARCAAlAEADASIAAhEBAxEB/8QAHwAAAQUBAQEBAQEAAAAAAAAAAAECAwQFBgcICQoL/8QAtRAAAgEDAwIEAwUFBAQAAAF9AQIDAAQRBRIhMUEGE1FhByJxFDKBkaEII0KxwRVS0fAkM2JyggkKFhcYGRolJicoKSo0NTY3ODk6Q0RFRkdISUpTVFVWV1hZWmNkZWZnaGlqc3R1dnd4eXqDhIWGh4iJipKTlJWWl5iZmqKjpKWmp6ipqrKztLW2t7i5usLDxMXGx8jJytLT1NXW19jZ2uHi4+Tl5ufo6erx8vP09fb3+Pn6/8QAHwEAAwEBAQEBAQEBAQAAAAAAAAECAwQFBgcICQoL/8QAtREAAgECBAQDBAcFBAQAAQJ3AAECAxEEBSExBhJBUQdhcRMiMoEIFEKRobHBCSMzUvAVYnLRChYkNOEl8RcYGRomJygpKjU2Nzg5OkNERUZHSElKU1RVVldYWVpjZGVmZ2hpanN0dXZ3eHl6goOEhYaHiImKkpOUlZaXmJmaoqOkpaanqKmqsrO0tba3uLm6wsPExcbHyMnK0tPU1dbX2Nna4uPk5ebn6Onq8vP09fb3+Pn6/9oADAMBAAIRAxEAPwDy+WzuzeyJbWc6oDjAjLflxXVaLp7Wtssd1aJI00vWZMELgdMjPrWh4duL1Y3igH7s8jzV3bfXBraH2jejyNEzn5l3IRx+dVBaXZzS3sQwaVpLK7JHZhlXdgoAW9hx1prCxjbMdmje+wD+laUdqLpj+909ywychhjP4U6GwtnbCXOl7vQTFT+oqybGRcX9mqs0tirbRzgLnH5VRfWtGx82mE/gv+FdiPDL3SlEWwlHQqt0n9ayrvw7aWN7sl0vbLGcnZKHU/zBpAkzmLu/0y6066+y6ekTIgIdh8wO4DjH+FctJL716S2i6XM05lt5YI5QN4AODg+qjiuU8W+FJdFiS+tg8lg5ALHnYT0yfQ1LTGkdAl/dWitZ7FUwZjJK8kYGDjtxintqd06EllDZB4H1/wAf0FZS6pLqV3LcSW0iySAGUKu4AgYyCM8Hj6GrUctuTgzxg+hYA1Ss0VJOLsy9aX1y88rqFUMuCBnOMk4z9TU8msmKcpLMgkcYJbrj/Jos1h48l4pZCvKbwCKyNc0OZ783SRJISuAGYgY+opWC+puLq8pIVZUO45HGc/5xVO51q9WaQHYeq8r2xT/D2nSrbF54guD8g64+hqC+tz9qm29nPFOwr62Gf21fRDI2Dp29OlVJvEN9d3VppMgEttdyBZI25BGQOaHR2AXk46CjRLE3HjLTCR8sZLH8ATQ0Fze1vUk0/WxFYWVvbSQEHzUQbmz1H0rsbBbTVrCK5nsoCZBkqyhv6UUVxYepKVecW9D0cXShHDU5Ja/8Albw1oc339LtvqqY/lVWXwPos3MaXEB/6ZTsKKK9A8m5A3gpIQRb6xqEfplww/UVz2peH7uzZ5P7TEpzk+ZbjJ/JhRRQFzlrvUZrZirrHJ7gFf6mur8JFZnimMaBthIwOn40UUhvY//Z\"></td>\n",
       "    </tr>\n",
       "    <tr>\n",
       "      <th>...</th>\n",
       "      <td>...</td>\n",
       "    </tr>\n",
       "    <tr>\n",
       "      <th>13389</th>\n",
       "      <td><img src=\"data:image/jpeg;base64,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\"></td>\n",
       "    </tr>\n",
       "    <tr>\n",
       "      <th>13390</th>\n",
       "      <td><img src=\"data:image/jpeg;base64,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\"></td>\n",
       "    </tr>\n",
       "    <tr>\n",
       "      <th>13391</th>\n",
       "      <td><img src=\"data:image/jpeg;base64,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\"></td>\n",
       "    </tr>\n",
       "    <tr>\n",
       "      <th>13392</th>\n",
       "      <td><img src=\"data:image/jpeg;base64,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\"></td>\n",
       "    </tr>\n",
       "    <tr>\n",
       "      <th>13393</th>\n",
       "      <td><img src=\"data:image/jpeg;base64,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\"></td>\n",
       "    </tr>\n",
       "  </tbody>\n",
       "</table>"
      ],
      "text/plain": [
       "ImageColumn(DeferredOp(ar...rn_index=None))"
      ]
     },
     "execution_count": 5,
     "metadata": {},
     "output_type": "execute_result"
    }
   ],
   "source": [
    "df[\"img\"]"
   ]
  },
  {
   "cell_type": "code",
   "execution_count": 8,
   "metadata": {},
   "outputs": [],
   "source": [
    "class Row(dict):\n",
    "    def __call__():"
   ]
  },
  {
   "cell_type": "code",
   "execution_count": 10,
   "metadata": {},
   "outputs": [
    {
     "data": {
      "text/plain": [
       "1"
      ]
     },
     "execution_count": 10,
     "metadata": {},
     "output_type": "execute_result"
    }
   ],
   "source": [
    "Row({\"a\": 1, \"b\": 2})"
   ]
  },
  {
   "cell_type": "code",
   "execution_count": 12,
   "metadata": {},
   "outputs": [],
   "source": [
    "x = np.array([[1,2,3], [4,5,6]])"
   ]
  },
  {
   "cell_type": "code",
   "execution_count": 18,
   "metadata": {},
   "outputs": [
    {
     "ename": "ModuleNotFoundError",
     "evalue": "No module named 'ray'",
     "output_type": "error",
     "traceback": [
      "\u001b[0;31m---------------------------------------------------------------------------\u001b[0m",
      "\u001b[0;31mModuleNotFoundError\u001b[0m                       Traceback (most recent call last)",
      "Cell \u001b[0;32mIn [18], line 1\u001b[0m\n\u001b[0;32m----> 1\u001b[0m \u001b[39mimport\u001b[39;00m \u001b[39mray\u001b[39;00m\n",
      "\u001b[0;31mModuleNotFoundError\u001b[0m: No module named 'ray'"
     ]
    }
   ],
   "source": []
  },
  {
   "cell_type": "code",
   "execution_count": 9,
   "metadata": {},
   "outputs": [],
   "source": [
    "new_col = col + col"
   ]
  },
  {
   "cell_type": "code",
   "execution_count": 10,
   "metadata": {},
   "outputs": [
    {
     "name": "stdout",
     "output_type": "stream",
     "text": [
      "ScalarColumn(0    2\n",
      "1    4..., dtype: int64)\n"
     ]
    }
   ],
   "source": [
    "print(new_col)"
   ]
  },
  {
   "cell_type": "code",
   "execution_count": 19,
   "metadata": {},
   "outputs": [
    {
     "ename": "AttributeError",
     "evalue": "'ArrowArrayColumn' object has no attribute 'max'",
     "output_type": "error",
     "traceback": [
      "\u001b[0;31m---------------------------------------------------------------------------\u001b[0m",
      "\u001b[0;31mAttributeError\u001b[0m                            Traceback (most recent call last)",
      "Cell \u001b[0;32mIn [19], line 1\u001b[0m\n\u001b[0;32m----> 1\u001b[0m mk\u001b[39m.\u001b[39;49mArrowArrayColumn([\u001b[39m1\u001b[39;49m,\u001b[39m2\u001b[39;49m,\u001b[39m3\u001b[39;49m])\u001b[39m.\u001b[39;49mmax()\n",
      "File \u001b[0;32m~/code/meerkat/meerkat/mixins/reactifiable.py:31\u001b[0m, in \u001b[0;36mReactifiableMixin.__getattribute__\u001b[0;34m(self, name)\u001b[0m\n\u001b[1;32m     29\u001b[0m     \u001b[39mreturn\u001b[39;00m out\n\u001b[1;32m     30\u001b[0m \u001b[39melse\u001b[39;00m:\n\u001b[0;32m---> 31\u001b[0m     \u001b[39mreturn\u001b[39;00m \u001b[39msuper\u001b[39;49m()\u001b[39m.\u001b[39;49m\u001b[39m__getattribute__\u001b[39;49m(name)\n",
      "\u001b[0;31mAttributeError\u001b[0m: 'ArrowArrayColumn' object has no attribute 'max'"
     ]
    }
   ],
   "source": [
    "mk.ArrowArrayColumn([1,2,3])"
   ]
  },
  {
   "cell_type": "code",
   "execution_count": 21,
   "metadata": {},
   "outputs": [
    {
     "ename": "ImportError",
     "evalue": "cannot import name 'PandasSeriesColumn' from 'meerkat.columns.pandas_column' (/Users/sabrieyuboglu/code/meerkat/meerkat/columns/pandas_column.py)",
     "output_type": "error",
     "traceback": [
      "\u001b[0;31m---------------------------------------------------------------------------\u001b[0m",
      "\u001b[0;31mImportError\u001b[0m                               Traceback (most recent call last)",
      "File \u001b[0;32m~/opt/miniconda3/envs/meerkat/lib/python3.9/site-packages/IPython/core/formatters.py:343\u001b[0m, in \u001b[0;36mBaseFormatter.__call__\u001b[0;34m(self, obj)\u001b[0m\n\u001b[1;32m    341\u001b[0m     method \u001b[39m=\u001b[39m get_real_method(obj, \u001b[39mself\u001b[39m\u001b[39m.\u001b[39mprint_method)\n\u001b[1;32m    342\u001b[0m     \u001b[39mif\u001b[39;00m method \u001b[39mis\u001b[39;00m \u001b[39mnot\u001b[39;00m \u001b[39mNone\u001b[39;00m:\n\u001b[0;32m--> 343\u001b[0m         \u001b[39mreturn\u001b[39;00m method()\n\u001b[1;32m    344\u001b[0m     \u001b[39mreturn\u001b[39;00m \u001b[39mNone\u001b[39;00m\n\u001b[1;32m    345\u001b[0m \u001b[39melse\u001b[39;00m:\n",
      "File \u001b[0;32m~/code/meerkat/meerkat/columns/abstract.py:315\u001b[0m, in \u001b[0;36mAbstractColumn._repr_html_\u001b[0;34m(self, max_rows)\u001b[0m\n\u001b[1;32m    312\u001b[0m     pd_index \u001b[39m=\u001b[39m np\u001b[39m.\u001b[39marange(\u001b[39mlen\u001b[39m(\u001b[39mself\u001b[39m))\n\u001b[1;32m    314\u001b[0m col_name \u001b[39m=\u001b[39m \u001b[39mf\u001b[39m\u001b[39m\"\u001b[39m\u001b[39m(\u001b[39m\u001b[39m{\u001b[39;00m\u001b[39mself\u001b[39m\u001b[39m.\u001b[39m\u001b[39m__class__\u001b[39m\u001b[39m.\u001b[39m\u001b[39m__name__\u001b[39m\u001b[39m}\u001b[39;00m\u001b[39m)\u001b[39m\u001b[39m\"\u001b[39m\n\u001b[0;32m--> 315\u001b[0m col, formatter \u001b[39m=\u001b[39m \u001b[39mself\u001b[39;49m\u001b[39m.\u001b[39;49m_repr_pandas_(max_rows\u001b[39m=\u001b[39;49mmax_rows)\n\u001b[1;32m    316\u001b[0m df \u001b[39m=\u001b[39m col\u001b[39m.\u001b[39mto_frame(name\u001b[39m=\u001b[39mcol_name)\n\u001b[1;32m    317\u001b[0m df \u001b[39m=\u001b[39m df\u001b[39m.\u001b[39mset_index(pd_index\u001b[39m.\u001b[39mastype(\u001b[39mint\u001b[39m))\n",
      "File \u001b[0;32m~/code/meerkat/meerkat/columns/abstract.py:294\u001b[0m, in \u001b[0;36mAbstractColumn._repr_pandas_\u001b[0;34m(self, max_rows)\u001b[0m\n\u001b[1;32m    285\u001b[0m     col \u001b[39m=\u001b[39m pd\u001b[39m.\u001b[39mSeries(\n\u001b[1;32m    286\u001b[0m         [\u001b[39mself\u001b[39m\u001b[39m.\u001b[39m_repr_cell(idx) \u001b[39mfor\u001b[39;00m idx \u001b[39min\u001b[39;00m \u001b[39mrange\u001b[39m(max_rows \u001b[39m/\u001b[39m\u001b[39m/\u001b[39m \u001b[39m2\u001b[39m)]\n\u001b[1;32m    287\u001b[0m         \u001b[39m+\u001b[39m [\u001b[39mself\u001b[39m\u001b[39m.\u001b[39m_repr_cell(\u001b[39m0\u001b[39m)]\n\u001b[0;32m   (...)\u001b[0m\n\u001b[1;32m    291\u001b[0m         ]\n\u001b[1;32m    292\u001b[0m     )\n\u001b[1;32m    293\u001b[0m \u001b[39melse\u001b[39;00m:\n\u001b[0;32m--> 294\u001b[0m     col \u001b[39m=\u001b[39m pd\u001b[39m.\u001b[39mSeries([\u001b[39mself\u001b[39m\u001b[39m.\u001b[39m_repr_cell(idx) \u001b[39mfor\u001b[39;00m idx \u001b[39min\u001b[39;00m \u001b[39mrange\u001b[39m(\u001b[39mlen\u001b[39m(\u001b[39mself\u001b[39m))])\n\u001b[1;32m    296\u001b[0m \u001b[39mreturn\u001b[39;00m col, \u001b[39mself\u001b[39m\u001b[39m.\u001b[39mformatter \u001b[39mif\u001b[39;00m \u001b[39mself\u001b[39m\u001b[39m.\u001b[39mformatter \u001b[39mis\u001b[39;00m \u001b[39mNone\u001b[39;00m \u001b[39melse\u001b[39;00m \u001b[39mself\u001b[39m\u001b[39m.\u001b[39mformatter\u001b[39m.\u001b[39mhtml\n",
      "File \u001b[0;32m~/code/meerkat/meerkat/columns/abstract.py:294\u001b[0m, in \u001b[0;36m<listcomp>\u001b[0;34m(.0)\u001b[0m\n\u001b[1;32m    285\u001b[0m     col \u001b[39m=\u001b[39m pd\u001b[39m.\u001b[39mSeries(\n\u001b[1;32m    286\u001b[0m         [\u001b[39mself\u001b[39m\u001b[39m.\u001b[39m_repr_cell(idx) \u001b[39mfor\u001b[39;00m idx \u001b[39min\u001b[39;00m \u001b[39mrange\u001b[39m(max_rows \u001b[39m/\u001b[39m\u001b[39m/\u001b[39m \u001b[39m2\u001b[39m)]\n\u001b[1;32m    287\u001b[0m         \u001b[39m+\u001b[39m [\u001b[39mself\u001b[39m\u001b[39m.\u001b[39m_repr_cell(\u001b[39m0\u001b[39m)]\n\u001b[0;32m   (...)\u001b[0m\n\u001b[1;32m    291\u001b[0m         ]\n\u001b[1;32m    292\u001b[0m     )\n\u001b[1;32m    293\u001b[0m \u001b[39melse\u001b[39;00m:\n\u001b[0;32m--> 294\u001b[0m     col \u001b[39m=\u001b[39m pd\u001b[39m.\u001b[39mSeries([\u001b[39mself\u001b[39;49m\u001b[39m.\u001b[39;49m_repr_cell(idx) \u001b[39mfor\u001b[39;00m idx \u001b[39min\u001b[39;00m \u001b[39mrange\u001b[39m(\u001b[39mlen\u001b[39m(\u001b[39mself\u001b[39m))])\n\u001b[1;32m    296\u001b[0m \u001b[39mreturn\u001b[39;00m col, \u001b[39mself\u001b[39m\u001b[39m.\u001b[39mformatter \u001b[39mif\u001b[39;00m \u001b[39mself\u001b[39m\u001b[39m.\u001b[39mformatter \u001b[39mis\u001b[39;00m \u001b[39mNone\u001b[39;00m \u001b[39melse\u001b[39;00m \u001b[39mself\u001b[39m\u001b[39m.\u001b[39mformatter\u001b[39m.\u001b[39mhtml\n",
      "File \u001b[0;32m~/code/meerkat/meerkat/columns/pandas_column.py:252\u001b[0m, in \u001b[0;36mScalarColumn._repr_cell\u001b[0;34m(self, index)\u001b[0m\n\u001b[1;32m    251\u001b[0m \u001b[39mdef\u001b[39;00m \u001b[39m_repr_cell\u001b[39m(\u001b[39mself\u001b[39m, index) \u001b[39m-\u001b[39m\u001b[39m>\u001b[39m \u001b[39mobject\u001b[39m:\n\u001b[0;32m--> 252\u001b[0m     \u001b[39mreturn\u001b[39;00m \u001b[39mself\u001b[39;49m[index]\n",
      "File \u001b[0;32m~/code/meerkat/meerkat/columns/abstract.py:212\u001b[0m, in \u001b[0;36mAbstractColumn.__getitem__\u001b[0;34m(self, index)\u001b[0m\n\u001b[1;32m    211\u001b[0m \u001b[39mdef\u001b[39;00m \u001b[39m__getitem__\u001b[39m(\u001b[39mself\u001b[39m, index):\n\u001b[0;32m--> 212\u001b[0m     \u001b[39mreturn\u001b[39;00m \u001b[39mself\u001b[39;49m\u001b[39m.\u001b[39;49m_get(index, materialize\u001b[39m=\u001b[39;49m\u001b[39mTrue\u001b[39;49;00m)\n",
      "File \u001b[0;32m~/code/meerkat/meerkat/columns/pandas_column.py:218\u001b[0m, in \u001b[0;36mScalarColumn._get\u001b[0;34m(self, index, materialize)\u001b[0m\n\u001b[1;32m    217\u001b[0m \u001b[39mdef\u001b[39;00m \u001b[39m_get\u001b[39m(\u001b[39mself\u001b[39m, index, materialize: \u001b[39mbool\u001b[39m \u001b[39m=\u001b[39m \u001b[39mTrue\u001b[39;00m):\n\u001b[0;32m--> 218\u001b[0m     index \u001b[39m=\u001b[39m \u001b[39mself\u001b[39;49m\u001b[39m.\u001b[39;49mblock_class\u001b[39m.\u001b[39;49m_convert_index(index)\n\u001b[1;32m    220\u001b[0m     data \u001b[39m=\u001b[39m \u001b[39mself\u001b[39m\u001b[39m.\u001b[39m_data\u001b[39m.\u001b[39miloc[index]\n\u001b[1;32m    221\u001b[0m     \u001b[39mif\u001b[39;00m \u001b[39mself\u001b[39m\u001b[39m.\u001b[39m_is_batch_index(index):\n\u001b[1;32m    222\u001b[0m         \u001b[39m# only create a numpy array column\u001b[39;00m\n",
      "File \u001b[0;32m~/code/meerkat/meerkat/block/pandas_block.py:99\u001b[0m, in \u001b[0;36mPandasBlock._convert_index\u001b[0;34m(index)\u001b[0m\n\u001b[1;32m     96\u001b[0m \u001b[39mif\u001b[39;00m \u001b[39misinstance\u001b[39m(index, pd\u001b[39m.\u001b[39mSeries):\n\u001b[1;32m     97\u001b[0m     \u001b[39m# need to convert to numpy for boolean indexing\u001b[39;00m\n\u001b[1;32m     98\u001b[0m     \u001b[39mreturn\u001b[39;00m index\u001b[39m.\u001b[39mvalues\n\u001b[0;32m---> 99\u001b[0m \u001b[39mfrom\u001b[39;00m \u001b[39mmeerkat\u001b[39;00m\u001b[39m.\u001b[39;00m\u001b[39mcolumns\u001b[39;00m\u001b[39m.\u001b[39;00m\u001b[39mpandas_column\u001b[39;00m \u001b[39mimport\u001b[39;00m PandasSeriesColumn\n\u001b[1;32m    101\u001b[0m \u001b[39mif\u001b[39;00m \u001b[39misinstance\u001b[39m(index, PandasSeriesColumn):\n\u001b[1;32m    102\u001b[0m     \u001b[39mreturn\u001b[39;00m index\u001b[39m.\u001b[39mdata\u001b[39m.\u001b[39mvalues\n",
      "\u001b[0;31mImportError\u001b[0m: cannot import name 'PandasSeriesColumn' from 'meerkat.columns.pandas_column' (/Users/sabrieyuboglu/code/meerkat/meerkat/columns/pandas_column.py)"
     ]
    },
    {
     "data": {
      "text/plain": [
       "PandasSeriesColumn(0    1\n",
       "1    2..., dtype: int64)"
      ]
     },
     "execution_count": 21,
     "metadata": {},
     "output_type": "execute_result"
    }
   ],
   "source": [
    "df[\"a\"]"
   ]
  },
  {
   "cell_type": "code",
   "execution_count": 4,
   "metadata": {},
   "outputs": [],
   "source": [
    "from pyarrow import json\n",
    "table = json.read_json(\"test.json\")"
   ]
  },
  {
   "cell_type": "code",
   "execution_count": 12,
   "metadata": {},
   "outputs": [
    {
     "data": {
      "text/plain": [
       "<pyarrow.lib.Int64Array object at 0x10979eca0>\n",
       "[\n",
       "  1,\n",
       "  2,\n",
       "  3\n",
       "]"
      ]
     },
     "execution_count": 12,
     "metadata": {},
     "output_type": "execute_result"
    }
   ],
   "source": [
    "table[\"b\"][0].values."
   ]
  },
  {
   "cell_type": "code",
   "execution_count": null,
   "metadata": {},
   "outputs": [],
   "source": []
  }
 ],
 "metadata": {
  "kernelspec": {
   "display_name": "Python 3.9.12 ('meerkat')",
   "language": "python",
   "name": "python3"
  },
  "language_info": {
   "codemirror_mode": {
    "name": "ipython",
    "version": 3
   },
   "file_extension": ".py",
   "mimetype": "text/x-python",
   "name": "python",
   "nbconvert_exporter": "python",
   "pygments_lexer": "ipython3",
   "version": "3.9.12"
  },
  "orig_nbformat": 4,
  "vscode": {
   "interpreter": {
    "hash": "fab435020311317453f49d9f6bde54424ac28707d23828314f0465c42622dc69"
   }
  }
 },
 "nbformat": 4,
 "nbformat_minor": 2
}
