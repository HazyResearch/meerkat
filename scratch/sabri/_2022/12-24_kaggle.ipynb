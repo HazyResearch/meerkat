{
 "cells": [
  {
   "cell_type": "code",
   "execution_count": 1,
   "metadata": {},
   "outputs": [],
   "source": [
    "import meerkat as mk \n",
    "df = mk.get(\"imagenette\")\n",
    "df[:10].map(lambda path: {\"x\": [1, 1], \"y\": [2, 2]}, is_batched_fn=True, batch_size=2)"
   ]
  },
  {
   "cell_type": "code",
   "execution_count": 2,
   "metadata": {},
   "outputs": [],
   "source": [
    "df = mk.get(\"imagenette\")"
   ]
  },
  {
   "cell_type": "code",
   "execution_count": 6,
   "metadata": {},
   "outputs": [
    {
     "ename": "KeyError",
     "evalue": "0",
     "output_type": "error",
     "traceback": [
      "\u001b[0;31m---------------------------------------------------------------------------\u001b[0m",
      "\u001b[0;31mKeyError\u001b[0m                                  Traceback (most recent call last)",
      "Cell \u001b[0;32mIn [6], line 1\u001b[0m\n\u001b[0;32m----> 1\u001b[0m df[:\u001b[39m10\u001b[39;49m]\u001b[39m.\u001b[39;49mmap(\u001b[39mlambda\u001b[39;49;00m path: {\u001b[39m\"\u001b[39;49m\u001b[39mx\u001b[39;49m\u001b[39m\"\u001b[39;49m: [\u001b[39m1\u001b[39;49m, \u001b[39m1\u001b[39;49m], \u001b[39m\"\u001b[39;49m\u001b[39my\u001b[39;49m\u001b[39m\"\u001b[39;49m: [\u001b[39m2\u001b[39;49m, \u001b[39m2\u001b[39;49m]}, is_batched_fn\u001b[39m=\u001b[39;49m\u001b[39mTrue\u001b[39;49;00m, batch_size\u001b[39m=\u001b[39;49m\u001b[39m2\u001b[39;49m)\n",
      "File \u001b[0;32m~/code/meerkat/meerkat/dataframe.py:992\u001b[0m, in \u001b[0;36mDataFrame.map\u001b[0;34m(self, function, is_batched_fn, batch_size, inputs, outputs, output_type, materialize, **kwargs)\u001b[0m\n\u001b[1;32m    979\u001b[0m \u001b[39mdef\u001b[39;00m \u001b[39mmap\u001b[39m(\n\u001b[1;32m    980\u001b[0m     \u001b[39mself\u001b[39m,\n\u001b[1;32m    981\u001b[0m     function: Callable,\n\u001b[0;32m   (...)\u001b[0m\n\u001b[1;32m    988\u001b[0m     \u001b[39m*\u001b[39m\u001b[39m*\u001b[39mkwargs,\n\u001b[1;32m    989\u001b[0m ) \u001b[39m-\u001b[39m\u001b[39m>\u001b[39m Optional[Union[Dict, List, Column]]:\n\u001b[1;32m    990\u001b[0m     \u001b[39mfrom\u001b[39;00m \u001b[39mmeerkat\u001b[39;00m\u001b[39m.\u001b[39;00m\u001b[39mops\u001b[39;00m\u001b[39m.\u001b[39;00m\u001b[39mmap\u001b[39;00m \u001b[39mimport\u001b[39;00m \u001b[39mmap\u001b[39m\n\u001b[0;32m--> 992\u001b[0m     \u001b[39mreturn\u001b[39;00m \u001b[39mmap\u001b[39;49m(\n\u001b[1;32m    993\u001b[0m         data\u001b[39m=\u001b[39;49m\u001b[39mself\u001b[39;49m,\n\u001b[1;32m    994\u001b[0m         function\u001b[39m=\u001b[39;49mfunction,\n\u001b[1;32m    995\u001b[0m         is_batched_fn\u001b[39m=\u001b[39;49mis_batched_fn,\n\u001b[1;32m    996\u001b[0m         batch_size\u001b[39m=\u001b[39;49mbatch_size,\n\u001b[1;32m    997\u001b[0m         inputs\u001b[39m=\u001b[39;49minputs,\n\u001b[1;32m    998\u001b[0m         outputs\u001b[39m=\u001b[39;49moutputs,\n\u001b[1;32m    999\u001b[0m         output_type\u001b[39m=\u001b[39;49moutput_type,\n\u001b[1;32m   1000\u001b[0m         materialize\u001b[39m=\u001b[39;49mmaterialize,\n\u001b[1;32m   1001\u001b[0m         \u001b[39m*\u001b[39;49m\u001b[39m*\u001b[39;49mkwargs,\n\u001b[1;32m   1002\u001b[0m     )\n",
      "File \u001b[0;32m~/code/meerkat/meerkat/ops/map.py:416\u001b[0m, in \u001b[0;36mmap\u001b[0;34m(data, function, is_batched_fn, batch_size, inputs, outputs, output_type, materialize, pbar, **kwargs)\u001b[0m\n\u001b[1;32m    301\u001b[0m \u001b[39m@docs\u001b[39m\u001b[39m.\u001b[39mdoc(source\u001b[39m=\u001b[39m_SHARED_DOCS_, data\u001b[39m=\u001b[39m\u001b[39m\"\u001b[39m\u001b[39mdata\u001b[39m\u001b[39m\"\u001b[39m, name\u001b[39m=\u001b[39m\u001b[39m\"\u001b[39m\u001b[39mdefer\u001b[39m\u001b[39m\"\u001b[39m)\n\u001b[1;32m    302\u001b[0m \u001b[39mdef\u001b[39;00m \u001b[39mmap\u001b[39m(\n\u001b[1;32m    303\u001b[0m     data: Union[\u001b[39m\"\u001b[39m\u001b[39mDataFrame\u001b[39m\u001b[39m\"\u001b[39m, \u001b[39m\"\u001b[39m\u001b[39mColumn\u001b[39m\u001b[39m\"\u001b[39m],\n\u001b[0;32m   (...)\u001b[0m\n\u001b[1;32m    312\u001b[0m     \u001b[39m*\u001b[39m\u001b[39m*\u001b[39mkwargs,\n\u001b[1;32m    313\u001b[0m ):\n\u001b[1;32m    314\u001b[0m     \u001b[39m\"\"\"Create a new :class:`Column` or :class:`DataFrame` by applying a\u001b[39;00m\n\u001b[1;32m    315\u001b[0m \u001b[39m    function to each row in ${data}.\u001b[39;00m\n\u001b[1;32m    316\u001b[0m \n\u001b[0;32m   (...)\u001b[0m\n\u001b[1;32m    413\u001b[0m \u001b[39m        df[\"ma_eligible\"]\u001b[39;00m\n\u001b[1;32m    414\u001b[0m \u001b[39m    \"\"\"\u001b[39;00m\n\u001b[0;32m--> 416\u001b[0m     deferred \u001b[39m=\u001b[39m defer(\n\u001b[1;32m    417\u001b[0m         data\u001b[39m=\u001b[39;49mdata,\n\u001b[1;32m    418\u001b[0m         function\u001b[39m=\u001b[39;49mfunction,\n\u001b[1;32m    419\u001b[0m         is_batched_fn\u001b[39m=\u001b[39;49mis_batched_fn,\n\u001b[1;32m    420\u001b[0m         batch_size\u001b[39m=\u001b[39;49mbatch_size,\n\u001b[1;32m    421\u001b[0m         inputs\u001b[39m=\u001b[39;49minputs,\n\u001b[1;32m    422\u001b[0m         outputs\u001b[39m=\u001b[39;49moutputs,\n\u001b[1;32m    423\u001b[0m         output_type\u001b[39m=\u001b[39;49moutput_type,\n\u001b[1;32m    424\u001b[0m         materialize\u001b[39m=\u001b[39;49mmaterialize,\n\u001b[1;32m    425\u001b[0m     )\n\u001b[1;32m    426\u001b[0m     \u001b[39mreturn\u001b[39;00m _materialize(deferred, batch_size\u001b[39m=\u001b[39mbatch_size, pbar\u001b[39m=\u001b[39mpbar)\n",
      "File \u001b[0;32m~/code/meerkat/meerkat/ops/map.py:238\u001b[0m, in \u001b[0;36mdefer\u001b[0;34m(data, function, is_batched_fn, batch_size, inputs, outputs, output_type, materialize)\u001b[0m\n\u001b[1;32m    227\u001b[0m op \u001b[39m=\u001b[39m DeferredOp(\n\u001b[1;32m    228\u001b[0m     fn\u001b[39m=\u001b[39mfunction,\n\u001b[1;32m    229\u001b[0m     args\u001b[39m=\u001b[39margs,\n\u001b[0;32m   (...)\u001b[0m\n\u001b[1;32m    233\u001b[0m     return_format\u001b[39m=\u001b[39m\u001b[39mtype\u001b[39m(outputs),\n\u001b[1;32m    234\u001b[0m )\n\u001b[1;32m    236\u001b[0m block \u001b[39m=\u001b[39m DeferredBlock\u001b[39m.\u001b[39mfrom_block_data(data\u001b[39m=\u001b[39mop)\n\u001b[0;32m--> 238\u001b[0m first_row \u001b[39m=\u001b[39m op\u001b[39m.\u001b[39;49m_get(\u001b[39m0\u001b[39;49m) \u001b[39mif\u001b[39;00m \u001b[39mlen\u001b[39m(op) \u001b[39m>\u001b[39m \u001b[39m0\u001b[39m \u001b[39melse\u001b[39;00m \u001b[39mNone\u001b[39;00m\n\u001b[1;32m    240\u001b[0m \u001b[39mif\u001b[39;00m outputs \u001b[39mis\u001b[39;00m \u001b[39mNone\u001b[39;00m \u001b[39mand\u001b[39;00m \u001b[39misinstance\u001b[39m(first_row, Dict):\n\u001b[1;32m    241\u001b[0m     \u001b[39m# support for splitting a dict into multiple columns without specifying outputs\u001b[39;00m\n\u001b[1;32m    242\u001b[0m     outputs \u001b[39m=\u001b[39m {output_key: output_key \u001b[39mfor\u001b[39;00m output_key \u001b[39min\u001b[39;00m first_row}\n",
      "File \u001b[0;32m~/code/meerkat/meerkat/block/deferred_block.py:279\u001b[0m, in \u001b[0;36mDeferredOp._get\u001b[0;34m(self, index, indexed_inputs, materialize)\u001b[0m\n\u001b[1;32m    277\u001b[0m             \u001b[39mreturn\u001b[39;00m [v[\u001b[39m0\u001b[39m] \u001b[39mfor\u001b[39;00m v \u001b[39min\u001b[39;00m output]\n\u001b[1;32m    278\u001b[0m         \u001b[39melse\u001b[39;00m:\n\u001b[0;32m--> 279\u001b[0m             \u001b[39mreturn\u001b[39;00m output[\u001b[39m0\u001b[39;49m]\n\u001b[1;32m    280\u001b[0m     \u001b[39mreturn\u001b[39;00m output\n\u001b[1;32m    282\u001b[0m \u001b[39melse\u001b[39;00m:\n",
      "\u001b[0;31mKeyError\u001b[0m: 0"
     ]
    }
   ],
   "source": [
    "df[:10].map(lambda path: {\"x\": [1, 1], \"y\": [2, 2]}, is_batched_fn=True, batch_size=2)"
   ]
  },
  {
   "cell_type": "code",
   "execution_count": null,
   "metadata": {},
   "outputs": [],
   "source": []
  }
 ],
 "metadata": {
  "kernelspec": {
   "display_name": "Python 3.9.12 ('meerkat')",
   "language": "python",
   "name": "python3"
  },
  "language_info": {
   "codemirror_mode": {
    "name": "ipython",
    "version": 3
   },
   "file_extension": ".py",
   "mimetype": "text/x-python",
   "name": "python",
   "nbconvert_exporter": "python",
   "pygments_lexer": "ipython3",
   "version": "3.9.12"
  },
  "orig_nbformat": 4,
  "vscode": {
   "interpreter": {
    "hash": "fab435020311317453f49d9f6bde54424ac28707d23828314f0465c42622dc69"
   }
  }
 },
 "nbformat": 4,
 "nbformat_minor": 2
}
