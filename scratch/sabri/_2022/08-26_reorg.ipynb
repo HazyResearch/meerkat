{
 "cells": [
  {
   "cell_type": "code",
   "execution_count": 1,
   "metadata": {},
   "outputs": [],
   "source": [
    "%load_ext autoreload\n",
    "%autoreload 2"
   ]
  },
  {
   "cell_type": "code",
   "execution_count": 2,
   "metadata": {},
   "outputs": [],
   "source": [
    "import meerkat as mk"
   ]
  },
  {
   "cell_type": "code",
   "execution_count": 3,
   "metadata": {},
   "outputs": [
    {
     "name": "stdout",
     "output_type": "stream",
     "text": [
      "\n",
      "> src@0.0.1 dev\n",
      "> vite dev \"--port\" \"7865\"\n",
      "\n",
      "Port 7865 is in use, trying another one...\n",
      "Port 7866 is in use, trying another one...\n",
      "Port 7867 is in use, trying another one...\n",
      "Port 7868 is in use, trying another one...\n",
      "Port 7869 is in use, trying another one...\n",
      "Port 7870 is in use, trying another one...\n",
      "Port 7871 is in use, trying another one...\n",
      "Port 7872 is in use, trying another one...\n",
      "\n",
      "  VITE v3.0.3  ready in 288 ms\n",
      "\n",
      "  ➜  Local:   http://localhost:7873/\n",
      "  ➜  Network: use --host to expose\n"
     ]
    }
   ],
   "source": [
    "network = mk.interactive_mode()"
   ]
  },
  {
   "cell_type": "code",
   "execution_count": 4,
   "metadata": {},
   "outputs": [
    {
     "data": {
      "text/html": [
       "\n",
       "        <iframe\n",
       "            width=\"100%\"\n",
       "            height=\"1000\"\n",
       "            src=\"http://localhost:7865/interface?id=4bb17ec9d34d4477b19b1d4f7ef4d3e8\"\n",
       "            frameborder=\"0\"\n",
       "            allowfullscreen\n",
       "            \n",
       "        ></iframe>\n",
       "        "
      ],
      "text/plain": [
       "<IPython.lib.display.IFrame at 0x1684ed1c0>"
      ]
     },
     "execution_count": 4,
     "metadata": {},
     "output_type": "execute_result"
    }
   ],
   "source": [
    "dp = mk.get(\"imagenette\")\n",
    "dp.gui.table(id_column=\"img_path\")"
   ]
  },
  {
   "cell_type": "code",
   "execution_count": null,
   "metadata": {},
   "outputs": [],
   "source": []
  }
 ],
 "metadata": {
  "kernelspec": {
   "display_name": "Python 3.8.13 ('domino')",
   "language": "python",
   "name": "python3"
  },
  "language_info": {
   "codemirror_mode": {
    "name": "ipython",
    "version": 3
   },
   "file_extension": ".py",
   "mimetype": "text/x-python",
   "name": "python",
   "nbconvert_exporter": "python",
   "pygments_lexer": "ipython3",
   "version": "3.8.13"
  },
  "orig_nbformat": 4,
  "vscode": {
   "interpreter": {
    "hash": "7dc70abeb586db4fbbb19fd8ec040a8328b2a3c884b1c8ab3f626b1589cb18a0"
   }
  }
 },
 "nbformat": 4,
 "nbformat_minor": 2
}
