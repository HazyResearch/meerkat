{
 "cells": [
  {
   "cell_type": "code",
   "execution_count": 2,
   "metadata": {},
   "outputs": [
    {
     "name": "stdout",
     "output_type": "stream",
     "text": [
      "/paintings/210501-211000/210594/painting3.jpg\n",
      "/paintings/242001-242500/242058/painting3.jpg\n",
      "/paintings/369501-370000/369747/painting3.jpg\n",
      "/paintings/291501-292000/291893/painting3.jpg\n",
      "/paintings/71001-71500/71314/painting3.jpg\n",
      "/paintings/72501-73000/72722/painting3.jpg\n",
      "/paintings/214001-214500/214388/painting3.jpg\n",
      "/paintings/92501-93000/92790/painting3.jpg\n",
      "/paintings/264501-265000/264544/painting3.jpg\n"
     ]
    }
   ],
   "source": [
    "import requests\n",
    "from bs4 import BeautifulSoup\n",
    "\n",
    "# URL of the page to scrape\n",
    "url = \"https://www.wikigallery.org/wiki/Main_Page?searchi=Sarah+leading+Hagar+to+Abraham&sartist_id=0&page_id=search&fulltext=Search\"\n",
    "\n",
    "# Send a GET request to the URL and parse the response as HTML\n",
    "response = requests.get(url)\n",
    "soup = BeautifulSoup(response.text, \"html.parser\")\n",
    "\n",
    "# Find all elements with the class \"sdia\" (these are the image elements)\n",
    "images = soup.find_all(class_=\"sdia\")\n",
    "\n",
    "# Print the \"src\" attribute of each image element (this is the URL of the image)\n",
    "for image in images:\n",
    "    print(image[\"src\"])\n"
   ]
  },
  {
   "cell_type": "code",
   "execution_count": 3,
   "metadata": {},
   "outputs": [
    {
     "name": "stdout",
     "output_type": "stream",
     "text": [
      "URL: /paintings/210501-211000/210594/painting3.jpg\n",
      "Title: The Idle Prentice Betrayed by a Prostitute plate IX of Industry and Idleness - William Hogarth\n",
      "URL: /paintings/242001-242500/242058/painting3.jpg\n",
      "Title: Cropley Ashley Cooper, 6th Earl of Shaftesbury, engraved by W. Holl 1807-71, from National Portrait Gallery, volume IV, published c.1835 - William Owen\n",
      "URL: /paintings/369501-370000/369747/painting3.jpg\n",
      "Title: Young Lady In A Studio - Louis-Edmond Pomey\n",
      "URL: /paintings/291501-292000/291893/painting3.jpg\n",
      "Title: The Madonna and Child with the infant Saint John the Baptist - Tuscan School\n",
      "URL: /paintings/71001-71500/71314/painting3.jpg\n",
      "Title: Sorrow - Vincent Van Gogh\n",
      "URL: /paintings/72501-73000/72722/painting3.jpg\n",
      "Title: Four Studies of the Head of a Negro - Peter Paul Rubens\n",
      "URL: /paintings/214001-214500/214388/painting3.jpg\n",
      "Title: Blasted Oak Galloway - James Jnr Faed\n",
      "URL: /paintings/92501-93000/92790/painting3.jpg\n",
      "Title: Monsieur de Pidensat, Butler to the Duke of Orleans, 1769 - Louis (Carrogis) de Carmontelle\n",
      "URL: /paintings/264501-265000/264544/painting3.jpg\n",
      "Title: The old water mill with eel nets - Henry John Boddington\n"
     ]
    }
   ],
   "source": [
    "import requests\n",
    "from bs4 import BeautifulSoup\n",
    "\n",
    "# URL of the page to scrape\n",
    "url = \"https://www.wikigallery.org/wiki/Main_Page?searchi=Sarah+leading+Hagar+to+Abraham&sartist_id=0&page_id=search&fulltext=Search\"\n",
    "\n",
    "# Send a GET request to the URL and parse the response as HTML\n",
    "response = requests.get(url)\n",
    "soup = BeautifulSoup(response.text, \"html.parser\")\n",
    "\n",
    "# Find all elements with the class \"sdia\" (these are the image elements)\n",
    "images = soup.find_all(class_=\"sdia\")\n",
    "\n",
    "# Print the \"src\" and \"title\" attributes of each image element\n",
    "# (these are the URL and title of the image, respectively)\n",
    "for image in images:\n",
    "    print(\"URL:\", image[\"src\"])\n",
    "    print(\"Title:\", image[\"title\"])\n"
   ]
  },
  {
   "cell_type": "code",
   "execution_count": 6,
   "metadata": {},
   "outputs": [],
   "source": [
    "import requests\n",
    "from bs4 import BeautifulSoup\n",
    "\n",
    "# Set the URL to search and the query parameters\n",
    "url = \"https://www.google.com/search\"\n",
    "params = {\n",
    "    \"q\": \"art datasets hello\",\n",
    "    \"start\": 0,\n",
    "}\n",
    "\n",
    "# Make the request to Google\n",
    "response = requests.get(url, params=params)\n",
    "\n",
    "# Parse the response HTML using BeautifulSoup\n",
    "soup = BeautifulSoup(response.text, \"html.parser\")\n",
    "\n",
    "# Find all of the search result links on the page\n",
    "result_links = soup.find_all(\"a\", {\"class\": \"result__a\"})\n",
    "\n",
    "# Print the URLs of the search results\n",
    "for link in result_links:\n",
    "    print(link[\"href\"])"
   ]
  },
  {
   "cell_type": "code",
   "execution_count": 5,
   "metadata": {},
   "outputs": [
    {
     "data": {
      "text/plain": [
       "[]"
      ]
     },
     "execution_count": 5,
     "metadata": {},
     "output_type": "execute_result"
    }
   ],
   "source": [
    "result_links"
   ]
  },
  {
   "cell_type": "code",
   "execution_count": 9,
   "metadata": {},
   "outputs": [
    {
     "ename": "ModuleNotFoundError",
     "evalue": "No module named 'wdqs_client'",
     "output_type": "error",
     "traceback": [
      "\u001b[0;31m---------------------------------------------------------------------------\u001b[0m",
      "\u001b[0;31mModuleNotFoundError\u001b[0m                       Traceback (most recent call last)",
      "Cell \u001b[0;32mIn [9], line 1\u001b[0m\n\u001b[0;32m----> 1\u001b[0m \u001b[39mimport\u001b[39;00m \u001b[39mwdqs_client\u001b[39;00m\n\u001b[1;32m      3\u001b[0m \u001b[39m# Set up a client for the Wikidata Query Service\u001b[39;00m\n\u001b[1;32m      4\u001b[0m wdqs \u001b[39m=\u001b[39m wdqs_client\u001b[39m.\u001b[39mWDQSClient()\n",
      "\u001b[0;31mModuleNotFoundError\u001b[0m: No module named 'wdqs_client'"
     ]
    }
   ],
   "source": [
    "import wdqs_client\n",
    "\n",
    "# Set up a client for the Wikidata Query Service\n",
    "wdqs = wdqs_client.WDQSClient()\n",
    "\n",
    "# Define the SPARQL query\n",
    "query = \"\"\"\n",
    "SELECT ?painting ?paintingLabel\n",
    "WHERE\n",
    "{\n",
    "  ?painting wdt:P31 wd:Q3305213.\n",
    "  SERVICE wikibase:label { bd:serviceParam wikibase:language \"[AUTO_LANGUAGE],en\". }\n",
    "}\n",
    "LIMIT 50\n",
    "\"\"\"\n",
    "\n",
    "# Execute the query and print the results\n",
    "results = wdqs.query(query)\n",
    "for result in results:\n",
    "    print(f\"{result['paintingLabel']} ({result['painting']})\")\n"
   ]
  },
  {
   "cell_type": "code",
   "execution_count": null,
   "metadata": {},
   "outputs": [],
   "source": []
  }
 ],
 "metadata": {
  "kernelspec": {
   "display_name": "Python 3.9.12 ('meerkat')",
   "language": "python",
   "name": "python3"
  },
  "language_info": {
   "codemirror_mode": {
    "name": "ipython",
    "version": 3
   },
   "file_extension": ".py",
   "mimetype": "text/x-python",
   "name": "python",
   "nbconvert_exporter": "python",
   "pygments_lexer": "ipython3",
   "version": "3.9.12"
  },
  "orig_nbformat": 4,
  "vscode": {
   "interpreter": {
    "hash": "fab435020311317453f49d9f6bde54424ac28707d23828314f0465c42622dc69"
   }
  }
 },
 "nbformat": 4,
 "nbformat_minor": 2
}
