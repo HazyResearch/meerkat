{
 "cells": [
  {
   "cell_type": "code",
   "execution_count": 1,
   "metadata": {},
   "outputs": [],
   "source": [
    "# setup\n",
    "import pathlib\n",
    "base_dir = pathlib.Path(\"/Users/eyubogln/.meerkat/datasets/rfw/\")"
   ]
  },
  {
   "cell_type": "markdown",
   "metadata": {},
   "source": [
    "# Auditing Machine Learning Models with Meerkat \n",
    "\n",
    "\n",
    "In this demo, we’ll be using the Racial Faces in the Wild (RFW) dataset to audit AWS’s FaceCompare API. We provide predictions from the API on this dataset. Your task is to analyze model performance on this dataset and identify slices where the model is performing particularly poorly or particularly well.\n",
    "\n",
    "In order to audit the API, we’ll be using a tool we’re developing that helps data scientists help wrangle and analyze unstructured data: it’s called [Meerkat](https://meerkat.readthedocs.io/en/latest/guide/guide.html). Under the hood, it uses techniques like those described in [Domino](https://meerkat.readthedocs.io/en/latest/guide/guide.html) to identifying underperforming populations in machine learning datasets.\n",
    "\n",
    "So, let’s import the Python package and get started!"
   ]
  },
  {
   "cell_type": "code",
   "execution_count": 2,
   "metadata": {},
   "outputs": [],
   "source": [
    "import meerkat as mk"
   ]
  },
  {
   "cell_type": "markdown",
   "metadata": {},
   "source": [
    "## Loading Data\n",
    "\n",
    "Meerkat provides a [registry](https://meerkat.readthedocs.io/en/dev/datasets/datasets.html) of commonly used datasets, like RFW, which allows us to load the data into memory with one line of code.  We can then merge the dataset with a CSV containing the model predictions. \n",
    "\n",
    "In memory, the dataset and model predictions are stored in a [Meerkat DataPanel](https://meerkat.readthedocs.io/en/latest/guide/data_structures.html). A `DataPanel` is in many ways just like a Pandas DataFrame: it’s a tabular data structure made up of columns. Unlike a DataFrame though, the `DataPanel` is designed for unstructured data types like images and audio. As you can see in the table visualization below, there’s a column for the image, the false non-match rate (FNMR), id etc.\n"
   ]
  },
  {
   "cell_type": "code",
   "execution_count": 3,
   "metadata": {},
   "outputs": [
    {
     "data": {
      "text/html": [
       "<table border=\"1\" class=\"dataframe\">\n",
       "  <thead>\n",
       "    <tr style=\"text-align: right;\">\n",
       "      <th></th>\n",
       "      <th>image_id (PandasSeriesColumn)</th>\n",
       "      <th>identity (PandasSeriesColumn)</th>\n",
       "      <th>ethnicity (PandasSeriesColumn)</th>\n",
       "      <th>image (ImageColumn)</th>\n",
       "    </tr>\n",
       "  </thead>\n",
       "  <tbody>\n",
       "    <tr>\n",
       "      <th>0</th>\n",
       "      <td>m.0cqh0q_0001</td>\n",
       "      <td>m.0cqh0q</td>\n",
       "      <td>caucasian</td>\n",
       "      <td><img src=\"data:image/jpeg;base64,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\"></td>\n",
       "    </tr>\n",
       "    <tr>\n",
       "      <th>1</th>\n",
       "      <td>m.0cqh0q_0003</td>\n",
       "      <td>m.0cqh0q</td>\n",
       "      <td>caucasian</td>\n",
       "      <td><img src=\"data:image/jpeg;base64,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\"></td>\n",
       "    </tr>\n",
       "    <tr>\n",
       "      <th>2</th>\n",
       "      <td>m.0cqh0q_0004</td>\n",
       "      <td>m.0cqh0q</td>\n",
       "      <td>caucasian</td>\n",
       "      <td><img src=\"data:image/jpeg;base64,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\"></td>\n",
       "    </tr>\n",
       "  </tbody>\n",
       "</table>"
      ],
      "text/plain": [
       "DataPanel(nrows: 3, ncols: 4)"
      ]
     },
     "execution_count": 3,
     "metadata": {},
     "output_type": "execute_result"
    }
   ],
   "source": [
    "dp = mk.get(\"rfw\")\n",
    "dp.head(3)"
   ]
  },
  {
   "cell_type": "markdown",
   "metadata": {},
   "source": [
    "**Loading CompareFaces Errors**. CompareFaces is an operation in Amazon Rekognition that predicts whether two images are taken of the same person. We've applied CompareFaces v6 (an AWS service) to the RFW dataset and stored the error rates for each image in the file `facecompare_v6_errors.csv`. Specifically, we've computed the *False Non-Match Rate* (FNMR) for each image, a measure of how often the model falsely predicts that two images are **not** of the same person.\n",
    "\n",
    "<div>\n",
    "<img src=\"fnmr.png\" width=\"400\"/>\n",
    "</div>\n",
    "\n",
    "We can load these error rates into our DataPanel with a single `DataPanel.merge` call which is equivalent to a `merge` in Pandas or a `join` in SQL. After doing this, we can see that the FNMR for each image is stored in the new `v6_fnmr` column."
   ]
  },
  {
   "cell_type": "code",
   "execution_count": 4,
   "metadata": {},
   "outputs": [
    {
     "data": {
      "text/html": [
       "<table border=\"1\" class=\"dataframe\">\n",
       "  <thead>\n",
       "    <tr style=\"text-align: right;\">\n",
       "      <th></th>\n",
       "      <th>image_id (PandasSeriesColumn)</th>\n",
       "      <th>identity (PandasSeriesColumn)</th>\n",
       "      <th>ethnicity (PandasSeriesColumn)</th>\n",
       "      <th>image (ImageColumn)</th>\n",
       "      <th>v6_fnmr (PandasSeriesColumn)</th>\n",
       "    </tr>\n",
       "  </thead>\n",
       "  <tbody>\n",
       "    <tr>\n",
       "      <th>0</th>\n",
       "      <td>m.0cqh0q_0001</td>\n",
       "      <td>m.0cqh0q</td>\n",
       "      <td>caucasian</td>\n",
       "      <td><img src=\"data:image/jpeg;base64,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\"></td>\n",
       "      <td>0.0</td>\n",
       "    </tr>\n",
       "    <tr>\n",
       "      <th>1</th>\n",
       "      <td>m.0cqh0q_0003</td>\n",
       "      <td>m.0cqh0q</td>\n",
       "      <td>caucasian</td>\n",
       "      <td><img src=\"data:image/jpeg;base64,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\"></td>\n",
       "      <td>0.0</td>\n",
       "    </tr>\n",
       "    <tr>\n",
       "      <th>2</th>\n",
       "      <td>m.0cqh0q_0004</td>\n",
       "      <td>m.0cqh0q</td>\n",
       "      <td>caucasian</td>\n",
       "      <td><img src=\"data:image/jpeg;base64,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\"></td>\n",
       "      <td>0.0</td>\n",
       "    </tr>\n",
       "  </tbody>\n",
       "</table>"
      ],
      "text/plain": [
       "DataPanel(nrows: 3, ncols: 5)"
      ]
     },
     "execution_count": 4,
     "metadata": {},
     "output_type": "execute_result"
    }
   ],
   "source": [
    "dp = dp.merge(\n",
    "\tmk.DataPanel.from_csv(base_dir / \"themis/facecompare_v6_errors.csv\"),\n",
    "\ton=\"image_id\",\n",
    ")\n",
    "dp.head(3)"
   ]
  },
  {
   "cell_type": "markdown",
   "metadata": {},
   "source": [
    "There are a number of operations that can be performed on a `DataPanel`, for example, we can use `sample` to randomly shuffle the dataset. "
   ]
  },
  {
   "cell_type": "code",
   "execution_count": 5,
   "metadata": {},
   "outputs": [],
   "source": [
    "dp = dp.sample(frac=1, replace=False)"
   ]
  },
  {
   "cell_type": "markdown",
   "metadata": {},
   "source": [
    "## Exploring the Dataset\n",
    "\n",
    "To help with explore datasets with unstructured data types (*e.g.* images), Meerkat allows you to spin up interactive GUIs from within your notebook. These visualizations allow you to efficiently explore large image, audio, and video datasets. \n",
    "\n",
    "Note that the visualizations are highly customizable. There are a few different interface types (*e.g.  “*gallery”, “table”, “plot”) that can be customized from within the notebook.  See the documentation for a full list of interfaces. \n",
    "\n",
    "First though, we'll have to execute the two cells below to launch the interactive mode. "
   ]
  },
  {
   "cell_type": "code",
   "execution_count": 6,
   "metadata": {},
   "outputs": [
    {
     "name": "stdout",
     "output_type": "stream",
     "text": [
      "\n",
      "> src@0.0.1 dev\n",
      "> vite dev \"--port\" \"7861\"\n",
      "\n",
      "\n",
      "  VITE v3.0.3  ready in 325 ms\n",
      "\n",
      "  ➜  Local:   http://localhost:7861/\n",
      "  ➜  Network: use --host to expose\n"
     ]
    }
   ],
   "source": [
    "network, register_api = mk.interactive_mode()"
   ]
  },
  {
   "cell_type": "code",
   "execution_count": 7,
   "metadata": {},
   "outputs": [
    {
     "data": {
      "text/html": [
       "\n",
       "        <iframe\n",
       "            width=\"1\"\n",
       "            height=\"1\"\n",
       "            src=\"http://localhost:7861/network/register?api=http://127.0.0.1:7860\"\n",
       "            frameborder=\"0\"\n",
       "            allowfullscreen\n",
       "            \n",
       "        ></iframe>\n",
       "        "
      ],
      "text/plain": [
       "<IPython.lib.display.IFrame at 0x17713ecd0>"
      ]
     },
     "execution_count": 7,
     "metadata": {},
     "output_type": "execute_result"
    }
   ],
   "source": [
    "register_api()"
   ]
  },
  {
   "cell_type": "markdown",
   "metadata": {},
   "source": [
    "To begin, understanding the errors, we'll sort the DataPanel by the FNMR column and then launch a new interface. "
   ]
  },
  {
   "cell_type": "code",
   "execution_count": 8,
   "metadata": {},
   "outputs": [
    {
     "data": {
      "text/html": [
       "\n",
       "        <iframe\n",
       "            width=\"100%\"\n",
       "            height=\"1000\"\n",
       "            src=\"http://localhost:7861/interface?id=d3dff5ced3454ab487fa22580a188df6\"\n",
       "            frameborder=\"0\"\n",
       "            allowfullscreen\n",
       "            \n",
       "        ></iframe>\n",
       "        "
      ],
      "text/plain": [
       "<IPython.lib.display.IFrame at 0x169b3a910>"
      ]
     },
     "execution_count": 8,
     "metadata": {},
     "output_type": "execute_result"
    },
    {
     "name": "stdout",
     "output_type": "stream",
     "text": [
      "2:22:54 PM [vite-plugin-svelte] /Users/eyubogln/code/meerkat/meerkat/interactive/app/src/lib/TableView.svelte:164:1 Unused CSS selector \".dark .table-view\"\n",
      "2:22:54 PM [vite-plugin-svelte] /Users/eyubogln/code/meerkat/meerkat/interactive/app/src/lib/components/sliceby/SliceCard.svelte:9:11 SliceCard has unused export property 'datapanel_id'. If it is for external reference only, please consider using `export const datapanel_id`\n",
      "2:22:54 PM [vite-plugin-svelte] /Users/eyubogln/code/meerkat/meerkat/interactive/app/src/lib/components/plot_header/PlotHeader.svelte:8:11 PlotHeader has unused export property 'rows_promise'. If it is for external reference only, please consider using `export const rows_promise`\n",
      "2:22:54 PM [vite-plugin-svelte] /Users/eyubogln/code/meerkat/meerkat/interactive/app/src/lib/components/match_header/MatchHeader.svelte:104:1 Unused CSS selector \".list-container\"\n",
      "2:22:54 PM [vite-plugin-svelte] /Users/eyubogln/code/meerkat/meerkat/interactive/app/src/lib/components/table/Table.svelte:102:1 Unused CSS selector \".dark .table\"\n",
      "2:22:54 PM [vite-plugin-svelte] /Users/eyubogln/code/meerkat/meerkat/interactive/app/src/lib/components/filter_header/FilterHeader.svelte:133:1 Unused CSS selector \".list-container\"\n",
      "2:22:54 PM [vite-plugin-svelte] /Users/eyubogln/code/meerkat/meerkat/interactive/app/src/lib/components/gallery/Gallery.svelte:112:1 Unused CSS selector \".dark .panel\"\n",
      "2:22:54 PM [vite-plugin-svelte] /Users/eyubogln/code/meerkat/meerkat/interactive/app/src/lib/components/row/RowCard.svelte:21:11 RowCard has unused export property 'layout'. If it is for external reference only, please consider using `export const layout`\n",
      "2:22:54 PM [vite-plugin-svelte] /Users/eyubogln/code/meerkat/meerkat/interactive/app/src/lib/components/row/RowCard.svelte:24:11 RowCard has unused export property 'card_flex_grow'. If it is for external reference only, please consider using `export const card_flex_grow`\n",
      "2:22:54 PM [vite-plugin-svelte] /Users/eyubogln/code/meerkat/meerkat/interactive/app/src/lib/components/row/RowCard.svelte:53:11 RowCard has unused export property 'main_modal'. If it is for external reference only, please consider using `export const main_modal`\n",
      "2:22:54 PM [vite-plugin-svelte] /Users/eyubogln/code/meerkat/meerkat/interactive/app/src/lib/components/common/Toggle.svelte:31:0 Unused CSS selector \".dark .label\"\n",
      "2:22:54 PM [vite-plugin-svelte] /Users/eyubogln/code/meerkat/meerkat/interactive/app/src/lib/components/common/Toggle.svelte:74:1 Unused CSS selector \".dark .toggle\"\n",
      "2:22:54 PM [vite-plugin-svelte] /Users/eyubogln/code/meerkat/meerkat/interactive/app/src/lib/components/common/Slider.svelte:6:11 Slider has unused export property 'size'. If it is for external reference only, please consider using `export const size`\n",
      "2:22:54 PM [vite-plugin-svelte] /Users/eyubogln/code/meerkat/meerkat/interactive/app/src/lib/components/gallery/Card.svelte:101:1 Unused CSS selector \".card\"\n",
      "2:22:54 PM [vite-plugin-svelte] /Users/eyubogln/code/meerkat/meerkat/interactive/app/src/lib/components/gallery/Card.svelte:111:1 Unused CSS selector \".dark .card\"\n",
      "2:22:54 PM [vite-plugin-svelte] /Users/eyubogln/code/meerkat/meerkat/interactive/app/src/lib/components/gallery/Card.svelte:146:1 Unused CSS selector \".subcontent\"\n",
      "2:22:54 PM [vite-plugin-svelte] /Users/eyubogln/code/meerkat/meerkat/interactive/app/src/lib/components/gallery/Card.svelte:168:1 Unused CSS selector \".subcontent:hover\"\n",
      "In here.\n",
      "In here.\n",
      "In here.\n",
      "In here.\n",
      "http://127.0.0.1:7860\n",
      "Response {\n",
      "  [Symbol(realm)]: null,\n",
      "  [Symbol(state)]: {\n",
      "    aborted: false,\n",
      "    rangeRequested: false,\n",
      "    timingAllowPassed: true,\n",
      "    requestIncludesCredentials: true,\n",
      "    type: 'default',\n",
      "    status: 404,\n",
      "    timingInfo: {\n",
      "      startTime: 2806.8884580135345,\n",
      "      redirectStartTime: 2806.8884580135345,\n",
      "      redirectEndTime: 2810.858666062355,\n",
      "      postRedirectStartTime: 2810.858666062355,\n",
      "      finalServiceWorkerStartTime: 0,\n",
      "      finalNetworkResponseStartTime: 0,\n",
      "      finalNetworkRequestStartTime: 0,\n",
      "      endTime: 0,\n",
      "      encodedBodySize: 0,\n",
      "      decodedBodySize: 0,\n",
      "      finalConnectionTimingInfo: null\n",
      "    },\n",
      "    cacheState: '',\n",
      "    statusText: 'Not Found',\n",
      "    headersList: HeadersList {\n",
      "      [Symbol(headers map)]: [Map],\n",
      "      [Symbol(headers map sorted)]: null\n",
      "    },\n",
      "    urlList: [ [URL], [URL] ],\n",
      "    body: { stream: undefined }\n",
      "  },\n",
      "  [Symbol(headers)]: HeadersList {\n",
      "    [Symbol(headers map)]: Map(4) {\n",
      "      'date' => 'Thu, 18 Aug 2022 21:22:55 GMT',\n",
      "      'server' => 'uvicorn',\n",
      "      'content-length' => '66',\n",
      "      'content-type' => 'application/json'\n",
      "    },\n",
      "    [Symbol(headers map sorted)]: null\n",
      "  }\n",
      "}\n",
      "http://127.0.0.1:7860\n",
      "Response {\n",
      "  [Symbol(realm)]: null,\n",
      "  [Symbol(state)]: {\n",
      "    aborted: false,\n",
      "    rangeRequested: false,\n",
      "    timingAllowPassed: true,\n",
      "    requestIncludesCredentials: true,\n",
      "    type: 'default',\n",
      "    status: 200,\n",
      "    timingInfo: {\n",
      "      startTime: 2806.3306250572205,\n",
      "      redirectStartTime: 2806.3306250572205,\n",
      "      redirectEndTime: 2810.394791007042,\n",
      "      postRedirectStartTime: 2810.394791007042,\n",
      "      finalServiceWorkerStartTime: 0,\n",
      "      finalNetworkResponseStartTime: 0,\n",
      "      finalNetworkRequestStartTime: 0,\n",
      "      endTime: 0,\n",
      "      encodedBodySize: 100,\n",
      "      decodedBodySize: 100,\n",
      "      finalConnectionTimingInfo: null\n",
      "    },\n",
      "    cacheState: '',\n",
      "    statusText: 'OK',\n",
      "    headersList: HeadersList {\n",
      "      [Symbol(headers map)]: [Map],\n",
      "      [Symbol(headers map sorted)]: null\n",
      "    },\n",
      "    urlList: [ [URL], [URL] ],\n",
      "    body: { stream: undefined }\n",
      "  },\n",
      "  [Symbol(headers)]: HeadersList {\n",
      "    [Symbol(headers map)]: Map(4) {\n",
      "      'date' => 'Thu, 18 Aug 2022 21:22:55 GMT',\n",
      "      'server' => 'uvicorn',\n",
      "      'content-length' => '100',\n",
      "      'content-type' => 'application/json'\n",
      "    },\n",
      "    [Symbol(headers map sorted)]: null\n",
      "  }\n",
      "}\n",
      "{\n",
      "  component: 'table',\n",
      "  props: {\n",
      "    type: 'table',\n",
      "    nrows: 40528,\n",
      "    dp: '17c2ab69d5d742aaab225623243d03b4'\n",
      "  }\n",
      "}\n",
      "http://127.0.0.1:7860/dp/17c2ab69d5d742aaab225623243d03b4/rows\n",
      "start: 0\n",
      "end: 100\n",
      "indices: undefined\n",
      "columns: undefined\n",
      "http://127.0.0.1:7860\n",
      "Response {\n",
      "  [Symbol(realm)]: null,\n",
      "  [Symbol(state)]: {\n",
      "    aborted: false,\n",
      "    rangeRequested: false,\n",
      "    timingAllowPassed: true,\n",
      "    requestIncludesCredentials: true,\n",
      "    type: 'default',\n",
      "    status: 404,\n",
      "    timingInfo: {\n",
      "      startTime: 2807.2810829877853,\n",
      "      redirectStartTime: 2807.2810829877853,\n",
      "      redirectEndTime: 2811.1873329877853,\n",
      "      postRedirectStartTime: 2811.1873329877853,\n",
      "      finalServiceWorkerStartTime: 0,\n",
      "      finalNetworkResponseStartTime: 0,\n",
      "      finalNetworkRequestStartTime: 0,\n",
      "      endTime: 0,\n",
      "      encodedBodySize: 66,\n",
      "      decodedBodySize: 66,\n",
      "      finalConnectionTimingInfo: null\n",
      "    },\n",
      "    cacheState: '',\n",
      "    statusText: 'Not Found',\n",
      "    headersList: HeadersList {\n",
      "      [Symbol(headers map)]: [Map],\n",
      "      [Symbol(headers map sorted)]: null\n",
      "    },\n",
      "    urlList: [ [URL], [URL] ],\n",
      "    body: { stream: undefined }\n",
      "  },\n",
      "  [Symbol(headers)]: HeadersList {\n",
      "    [Symbol(headers map)]: Map(4) {\n",
      "      'date' => 'Thu, 18 Aug 2022 21:22:55 GMT',\n",
      "      'server' => 'uvicorn',\n",
      "      'content-length' => '66',\n",
      "      'content-type' => 'application/json'\n",
      "    },\n",
      "    [Symbol(headers map sorted)]: null\n",
      "  }\n",
      "}\n",
      "http://127.0.0.1:7860\n",
      "Response {\n",
      "  [Symbol(realm)]: null,\n",
      "  [Symbol(state)]: {\n",
      "    aborted: false,\n",
      "    rangeRequested: false,\n",
      "    timingAllowPassed: true,\n",
      "    requestIncludesCredentials: true,\n",
      "    type: 'default',\n",
      "    status: 404,\n",
      "    timingInfo: {\n",
      "      startTime: 2807.584750056267,\n",
      "      redirectStartTime: 2807.584750056267,\n",
      "      redirectEndTime: 2811.415291070938,\n",
      "      postRedirectStartTime: 2811.415291070938,\n",
      "      finalServiceWorkerStartTime: 0,\n",
      "      finalNetworkResponseStartTime: 0,\n",
      "      finalNetworkRequestStartTime: 0,\n",
      "      endTime: 0,\n",
      "      encodedBodySize: 66,\n",
      "      decodedBodySize: 66,\n",
      "      finalConnectionTimingInfo: null\n",
      "    },\n",
      "    cacheState: '',\n",
      "    statusText: 'Not Found',\n",
      "    headersList: HeadersList {\n",
      "      [Symbol(headers map)]: [Map],\n",
      "      [Symbol(headers map sorted)]: null\n",
      "    },\n",
      "    urlList: [ [URL], [URL] ],\n",
      "    body: { stream: undefined }\n",
      "  },\n",
      "  [Symbol(headers)]: HeadersList {\n",
      "    [Symbol(headers map)]: Map(4) {\n",
      "      'date' => 'Thu, 18 Aug 2022 21:22:55 GMT',\n",
      "      'server' => 'uvicorn',\n",
      "      'content-length' => '66',\n",
      "      'content-type' => 'application/json'\n",
      "    },\n",
      "    [Symbol(headers map sorted)]: null\n",
      "  }\n",
      "}\n",
      "2:22:55 PM [vite-plugin-svelte] /Users/eyubogln/code/meerkat/meerkat/interactive/app/src/lib/TableView.svelte:164:1 Unused CSS selector \".dark .table-view\"\n",
      "2:22:55 PM [vite-plugin-svelte] /Users/eyubogln/code/meerkat/meerkat/interactive/app/src/lib/components/sliceby/SliceCard.svelte:9:11 SliceCard has unused export property 'datapanel_id'. If it is for external reference only, please consider using `export const datapanel_id`\n",
      "2:22:55 PM [vite-plugin-svelte] /Users/eyubogln/code/meerkat/meerkat/interactive/app/src/lib/components/plot_header/PlotHeader.svelte:8:11 PlotHeader has unused export property 'rows_promise'. If it is for external reference only, please consider using `export const rows_promise`\n",
      "2:22:55 PM [vite-plugin-svelte] /Users/eyubogln/code/meerkat/meerkat/interactive/app/src/lib/components/gallery/Gallery.svelte:112:1 Unused CSS selector \".dark .panel\"\n",
      "2:22:55 PM [vite-plugin-svelte] /Users/eyubogln/code/meerkat/meerkat/interactive/app/src/lib/components/match_header/MatchHeader.svelte:104:1 Unused CSS selector \".list-container\"\n",
      "2:22:55 PM [vite-plugin-svelte] /Users/eyubogln/code/meerkat/meerkat/interactive/app/src/lib/components/filter_header/FilterHeader.svelte:133:1 Unused CSS selector \".list-container\"\n",
      "2:22:55 PM [vite-plugin-svelte] /Users/eyubogln/code/meerkat/meerkat/interactive/app/src/lib/components/table/Table.svelte:102:1 Unused CSS selector \".dark .table\"\n",
      "2:22:56 PM [vite-plugin-svelte] /Users/eyubogln/code/meerkat/meerkat/interactive/app/src/lib/components/row/RowCard.svelte:21:11 RowCard has unused export property 'layout'. If it is for external reference only, please consider using `export const layout`\n",
      "2:22:56 PM [vite-plugin-svelte] /Users/eyubogln/code/meerkat/meerkat/interactive/app/src/lib/components/row/RowCard.svelte:24:11 RowCard has unused export property 'card_flex_grow'. If it is for external reference only, please consider using `export const card_flex_grow`\n",
      "2:22:56 PM [vite-plugin-svelte] /Users/eyubogln/code/meerkat/meerkat/interactive/app/src/lib/components/row/RowCard.svelte:53:11 RowCard has unused export property 'main_modal'. If it is for external reference only, please consider using `export const main_modal`\n",
      "2:22:56 PM [vite-plugin-svelte] /Users/eyubogln/code/meerkat/meerkat/interactive/app/src/lib/components/common/Slider.svelte:6:11 Slider has unused export property 'size'. If it is for external reference only, please consider using `export const size`\n",
      "2:22:56 PM [vite-plugin-svelte] /Users/eyubogln/code/meerkat/meerkat/interactive/app/src/lib/components/common/Toggle.svelte:31:0 Unused CSS selector \".dark .label\"\n",
      "2:22:56 PM [vite-plugin-svelte] /Users/eyubogln/code/meerkat/meerkat/interactive/app/src/lib/components/common/Toggle.svelte:74:1 Unused CSS selector \".dark .toggle\"\n",
      "2:22:56 PM [vite-plugin-svelte] /Users/eyubogln/code/meerkat/meerkat/interactive/app/src/lib/components/gallery/Card.svelte:101:1 Unused CSS selector \".card\"\n",
      "2:22:56 PM [vite-plugin-svelte] /Users/eyubogln/code/meerkat/meerkat/interactive/app/src/lib/components/gallery/Card.svelte:111:1 Unused CSS selector \".dark .card\"\n",
      "2:22:56 PM [vite-plugin-svelte] /Users/eyubogln/code/meerkat/meerkat/interactive/app/src/lib/components/gallery/Card.svelte:146:1 Unused CSS selector \".subcontent\"\n",
      "2:22:56 PM [vite-plugin-svelte] /Users/eyubogln/code/meerkat/meerkat/interactive/app/src/lib/components/gallery/Card.svelte:168:1 Unused CSS selector \".subcontent:hover\"\n"
     ]
    }
   ],
   "source": [
    "dp = dp.sort(by=\"v6_fnmr\", ascending=False) \n",
    "\n",
    "dp.gui.table()"
   ]
  },
  {
   "cell_type": "markdown",
   "metadata": {},
   "source": [
    "## Computing global metrics\n",
    "Next we’ll  compute some average metrics across the entire dataset to get a sense of how the model is performing globally."
   ]
  },
  {
   "cell_type": "code",
   "execution_count": 9,
   "metadata": {},
   "outputs": [
    {
     "name": "stdout",
     "output_type": "stream",
     "text": [
      "Global False Non-Match Rate:  2.29%\n"
     ]
    }
   ],
   "source": [
    "global_fnmr = dp[\"v6_fnmr\"].mean()\n",
    "print(f\"Global False Non-Match Rate: {global_fnmr: .2%}\")"
   ]
  },
  {
   "cell_type": "markdown",
   "metadata": {},
   "source": [
    "## Computing group statistics\n",
    "\n",
    "RFW provides annotations for limited set of high-level racial groups. In ths section, we’ll see how performance varies when stratifying by these groups. To do so, we’ll use `mk.groupby`."
   ]
  },
  {
   "cell_type": "code",
   "execution_count": 10,
   "metadata": {},
   "outputs": [
    {
     "data": {
      "text/html": [
       "<table border=\"1\" class=\"dataframe\">\n",
       "  <thead>\n",
       "    <tr style=\"text-align: right;\">\n",
       "      <th></th>\n",
       "      <th>v6_fnmr (NumpyArrayColumn)</th>\n",
       "      <th>ethnicity (PandasSeriesColumn)</th>\n",
       "    </tr>\n",
       "  </thead>\n",
       "  <tbody>\n",
       "    <tr>\n",
       "      <th>0</th>\n",
       "      <td>0.011847</td>\n",
       "      <td>african</td>\n",
       "    </tr>\n",
       "    <tr>\n",
       "      <th>1</th>\n",
       "      <td>0.028929</td>\n",
       "      <td>asian</td>\n",
       "    </tr>\n",
       "    <tr>\n",
       "      <th>2</th>\n",
       "      <td>0.028373</td>\n",
       "      <td>caucasian</td>\n",
       "    </tr>\n",
       "    <tr>\n",
       "      <th>3</th>\n",
       "      <td>0.022819</td>\n",
       "      <td>indian</td>\n",
       "    </tr>\n",
       "  </tbody>\n",
       "</table>"
      ],
      "text/plain": [
       "DataPanel(nrows: 4, ncols: 2)"
      ]
     },
     "execution_count": 10,
     "metadata": {},
     "output_type": "execute_result"
    }
   ],
   "source": [
    "gb = dp.groupby(\"ethnicity\")\n",
    "gb[\"v6_fnmr\"].mean()"
   ]
  },
  {
   "cell_type": "markdown",
   "metadata": {},
   "source": [
    "We can also visualize the groups in a `GroupBy` with the `cards` interface:"
   ]
  },
  {
   "cell_type": "code",
   "execution_count": 11,
   "metadata": {},
   "outputs": [
    {
     "data": {
      "text/html": [
       "\n",
       "        <iframe\n",
       "            width=\"100%\"\n",
       "            height=\"1000\"\n",
       "            src=\"http://localhost:7861/interface?id=ef89f52da9824c3994320fe7a9311531\"\n",
       "            frameborder=\"0\"\n",
       "            allowfullscreen\n",
       "            \n",
       "        ></iframe>\n",
       "        "
      ],
      "text/plain": [
       "<IPython.lib.display.IFrame at 0x16906aac0>"
      ]
     },
     "execution_count": 11,
     "metadata": {},
     "output_type": "execute_result"
    },
    {
     "name": "stdout",
     "output_type": "stream",
     "text": [
      "In here.\n",
      "http://127.0.0.1:7860\n",
      "Response {\n",
      "  [Symbol(realm)]: null,\n",
      "  [Symbol(state)]: {\n",
      "    aborted: false,\n",
      "    rangeRequested: false,\n",
      "    timingAllowPassed: true,\n",
      "    requestIncludesCredentials: true,\n",
      "    type: 'default',\n",
      "    status: 200,\n",
      "    timingInfo: {\n",
      "      startTime: 6711.939916014671,\n",
      "      redirectStartTime: 6711.939916014671,\n",
      "      redirectEndTime: 6712.9994159936905,\n",
      "      postRedirectStartTime: 6712.9994159936905,\n",
      "      finalServiceWorkerStartTime: 0,\n",
      "      finalNetworkResponseStartTime: 0,\n",
      "      finalNetworkRequestStartTime: 0,\n",
      "      endTime: 0,\n",
      "      encodedBodySize: 0,\n",
      "      decodedBodySize: 0,\n",
      "      finalConnectionTimingInfo: null\n",
      "    },\n",
      "    cacheState: '',\n",
      "    statusText: 'OK',\n",
      "    headersList: HeadersList {\n",
      "      [Symbol(headers map)]: [Map],\n",
      "      [Symbol(headers map sorted)]: null\n",
      "    },\n",
      "    urlList: [ [URL], [URL] ],\n",
      "    body: { stream: undefined }\n",
      "  },\n",
      "  [Symbol(headers)]: HeadersList {\n",
      "    [Symbol(headers map)]: Map(4) {\n",
      "      'date' => 'Thu, 18 Aug 2022 21:22:55 GMT',\n",
      "      'server' => 'uvicorn',\n",
      "      'content-length' => '360',\n",
      "      'content-type' => 'application/json'\n",
      "    },\n",
      "    [Symbol(headers map sorted)]: null\n",
      "  }\n",
      "}\n",
      "{\n",
      "  component: 'sliceby-cards',\n",
      "  props: {\n",
      "    type: 'sliceby-cards',\n",
      "    sliceby_id: '39d2dc4d8b4545a1ab809a2c36dec5eb',\n",
      "    datapanel_id: '17c2ab69d5d742aaab225623243d03b4',\n",
      "    main_column: 'image',\n",
      "    tag_columns: [ 'v6_fnmr' ],\n",
      "    aggregations: {\n",
      "      'Mean FNMR': '5f36bdeee7554d29b8566d96e3202c43',\n",
      "      'STD FNMR': 'e3133f7500954e4f91b1cb556697f192',\n",
      "      Size: '46e76c39bddb46c08643f939405fc3bb'\n",
      "    }\n",
      "  }\n",
      "}\n",
      "Mean FNMR\n",
      "5f36bdeee7554d29b8566d96e3202c43\n",
      "STD FNMR\n",
      "e3133f7500954e4f91b1cb556697f192\n",
      "Size\n",
      "46e76c39bddb46c08643f939405fc3bb\n",
      "{\n",
      "  'Mean FNMR': {\n",
      "    dp: {\n",
      "      african: ' 0.011847',\n",
      "      asian: ' 0.028929',\n",
      "      caucasian: ' 0.028373',\n",
      "      indian: ' 0.022819'\n",
      "    }\n",
      "  },\n",
      "  'STD FNMR': {\n",
      "    dp: {\n",
      "      african: ' 0.080444',\n",
      "      asian: ' 0.120471',\n",
      "      caucasian: ' 0.123075',\n",
      "      indian: ' 0.113273'\n",
      "    }\n",
      "  },\n",
      "  Size: {\n",
      "    dp: {\n",
      "      african: ' 10377',\n",
      "      asian: ' 9677',\n",
      "      caucasian: ' 10194',\n",
      "      indian: ' 10280'\n",
      "    }\n",
      "  }\n",
      "}\n"
     ]
    }
   ],
   "source": [
    "gb.gui.cards(\n",
    "    main_column=\"image\", \n",
    "    tag_columns=[\"v6_fnmr\"],\n",
    "    aggregations={\n",
    "        \"Mean FNMR\": lambda x: x[\"v6_fnmr\"].mean(),\n",
    "        \"STD FNMR\": lambda x: x[\"v6_fnmr\"].std(),\n",
    "        \"Size\": len,\n",
    "    }\n",
    ")"
   ]
  },
  {
   "cell_type": "markdown",
   "metadata": {},
   "source": [
    "## Going beyond available metadata... \n",
    "\n",
    "The trouble is, the subgroup annotations provided in RFW are quite limited. What if there are other groups that we'd like to explore for which we lack annotations?\n",
    "\n",
    "This is where things start to get interesting: we are goinng to use large, pretrained models in order to bootstrap our dataset with more metadata! This is the key idea behind Meerkat.\n",
    "\n",
    "To demonstrate this idea, we've implemented the `match` operation in the GUI. With `match`, we can create new columns by writing natural language queries and matching them to the images. For example, say we want a metadata column that tells us whether the person in the image is wearing sunglasses. We can write a query like: \"A person wearing sunglasses.\"\n",
    "\n",
    "Let's try it out below. First, we'll need to `embed` the images into a latent space using a pretrained encoder (e.g. CLIP). Meerkat includes a registry of available encoders, so we can just specify one in the `mk.embed` call."
   ]
  },
  {
   "cell_type": "code",
   "execution_count": 12,
   "metadata": {},
   "outputs": [],
   "source": [
    "# In practice, columns can be embedded using `mk.embed`, however, for time's sake, we'll \n",
    "# just merge in the embeddings below\n",
    "# dp = mk.embed(dp, input=\"image\", num_workers=0, encoder=\"clip\", device=0)\n",
    "\n",
    "dp = dp.merge(\n",
    "    mk.DataPanel.read(base_dir / \"main/rfw_embedded.mk\")[\"image_id\", \"clip(image)\"],\n",
    "    on=\"image_id\"\n",
    ")"
   ]
  },
  {
   "cell_type": "code",
   "execution_count": 13,
   "metadata": {},
   "outputs": [
    {
     "data": {
      "text/html": [
       "\n",
       "        <iframe\n",
       "            width=\"100%\"\n",
       "            height=\"1000\"\n",
       "            src=\"http://localhost:7861/interface?id=e2b4f627c37d44f399d0cfa882e7faef\"\n",
       "            frameborder=\"0\"\n",
       "            allowfullscreen\n",
       "            \n",
       "        ></iframe>\n",
       "        "
      ],
      "text/plain": [
       "<IPython.lib.display.IFrame at 0x169396310>"
      ]
     },
     "execution_count": 13,
     "metadata": {},
     "output_type": "execute_result"
    },
    {
     "name": "stdout",
     "output_type": "stream",
     "text": [
      "In here.\n",
      "http://127.0.0.1:7860\n",
      "Response {\n",
      "  [Symbol(realm)]: null,\n",
      "  [Symbol(state)]: {\n",
      "    aborted: false,\n",
      "    rangeRequested: false,\n",
      "    timingAllowPassed: true,\n",
      "    requestIncludesCredentials: true,\n",
      "    type: 'default',\n",
      "    status: 200,\n",
      "    timingInfo: {\n",
      "      startTime: 9582.516708016396,\n",
      "      redirectStartTime: 9582.516708016396,\n",
      "      redirectEndTime: 9583.367250084877,\n",
      "      postRedirectStartTime: 9583.367250084877,\n",
      "      finalServiceWorkerStartTime: 0,\n",
      "      finalNetworkResponseStartTime: 0,\n",
      "      finalNetworkRequestStartTime: 0,\n",
      "      endTime: 0,\n",
      "      encodedBodySize: 0,\n",
      "      decodedBodySize: 0,\n",
      "      finalConnectionTimingInfo: null\n",
      "    },\n",
      "    cacheState: '',\n",
      "    statusText: 'OK',\n",
      "    headersList: HeadersList {\n",
      "      [Symbol(headers map)]: [Map],\n",
      "      [Symbol(headers map sorted)]: null\n",
      "    },\n",
      "    urlList: [ [URL], [URL] ],\n",
      "    body: { stream: undefined }\n",
      "  },\n",
      "  [Symbol(headers)]: HeadersList {\n",
      "    [Symbol(headers map)]: Map(4) {\n",
      "      'date' => 'Thu, 18 Aug 2022 21:22:55 GMT',\n",
      "      'server' => 'uvicorn',\n",
      "      'content-length' => '100',\n",
      "      'content-type' => 'application/json'\n",
      "    },\n",
      "    [Symbol(headers map sorted)]: null\n",
      "  }\n",
      "}\n",
      "{\n",
      "  component: 'table',\n",
      "  props: {\n",
      "    type: 'table',\n",
      "    nrows: 40528,\n",
      "    dp: '6f8701691b8444639a91fe24d893cc13'\n",
      "  }\n",
      "}\n",
      "http://127.0.0.1:7860/dp/6f8701691b8444639a91fe24d893cc13/rows\n",
      "start: 0\n",
      "end: 100\n",
      "indices: undefined\n",
      "columns: undefined\n"
     ]
    },
    {
     "data": {
      "application/vnd.jupyter.widget-view+json": {
       "model_id": "52277da6523b46c9b1729f38bb3f0ada",
       "version_major": 2,
       "version_minor": 0
      },
      "text/plain": [
       "  0%|          | 0/1 [00:00<?, ?it/s]"
      ]
     },
     "metadata": {},
     "output_type": "display_data"
    },
    {
     "data": {
      "application/vnd.jupyter.widget-view+json": {
       "model_id": "a1ab9b0f96ac493b81656a71bbc1e218",
       "version_major": 2,
       "version_minor": 0
      },
      "text/plain": [
       "  0%|          | 0/1 [00:00<?, ?it/s]"
      ]
     },
     "metadata": {},
     "output_type": "display_data"
    }
   ],
   "source": [
    "dp.gui.table()"
   ]
  },
  {
   "cell_type": "markdown",
   "metadata": {},
   "source": [
    "Matching produces a continuous score for each image in the dataset. We'd like to find a *threshold score* above which people are wearing sunglasses. Using the gallery view we can find this threshold quite easily. "
   ]
  },
  {
   "cell_type": "code",
   "execution_count": 14,
   "metadata": {},
   "outputs": [
    {
     "data": {
      "text/html": [
       "\n",
       "        <iframe\n",
       "            width=\"100%\"\n",
       "            height=\"1000\"\n",
       "            src=\"http://localhost:7861/interface?id=8649a46396bd4e35a886691e7fc4f672\"\n",
       "            frameborder=\"0\"\n",
       "            allowfullscreen\n",
       "            \n",
       "        ></iframe>\n",
       "        "
      ],
      "text/plain": [
       "<IPython.lib.display.IFrame at 0x28165cf10>"
      ]
     },
     "execution_count": 14,
     "metadata": {},
     "output_type": "execute_result"
    },
    {
     "name": "stdout",
     "output_type": "stream",
     "text": [
      "In here.\n",
      "http://127.0.0.1:7860\n",
      "Response {\n",
      "  [Symbol(realm)]: null,\n",
      "  [Symbol(state)]: {\n",
      "    aborted: false,\n",
      "    rangeRequested: false,\n",
      "    timingAllowPassed: true,\n",
      "    requestIncludesCredentials: true,\n",
      "    type: 'default',\n",
      "    status: 200,\n",
      "    timingInfo: {\n",
      "      startTime: 40864.37191605568,\n",
      "      redirectStartTime: 40864.37191605568,\n",
      "      redirectEndTime: 40865.6775829792,\n",
      "      postRedirectStartTime: 40865.6775829792,\n",
      "      finalServiceWorkerStartTime: 0,\n",
      "      finalNetworkResponseStartTime: 0,\n",
      "      finalNetworkRequestStartTime: 0,\n",
      "      endTime: 0,\n",
      "      encodedBodySize: 0,\n",
      "      decodedBodySize: 0,\n",
      "      finalConnectionTimingInfo: null\n",
      "    },\n",
      "    cacheState: '',\n",
      "    statusText: 'OK',\n",
      "    headersList: HeadersList {\n",
      "      [Symbol(headers map)]: [Map],\n",
      "      [Symbol(headers map sorted)]: null\n",
      "    },\n",
      "    urlList: [ [URL], [URL] ],\n",
      "    body: { stream: undefined }\n",
      "  },\n",
      "  [Symbol(headers)]: HeadersList {\n",
      "    [Symbol(headers map)]: Map(4) {\n",
      "      'date' => 'Thu, 18 Aug 2022 21:23:33 GMT',\n",
      "      'server' => 'uvicorn',\n",
      "      'content-length' => '100',\n",
      "      'content-type' => 'application/json'\n",
      "    },\n",
      "    [Symbol(headers map sorted)]: null\n",
      "  }\n",
      "}\n",
      "{\n",
      "  component: 'table',\n",
      "  props: {\n",
      "    type: 'table',\n",
      "    nrows: 40528,\n",
      "    dp: '72887d51ed3b4be7900273382bc31159'\n",
      "  }\n",
      "}\n",
      "http://127.0.0.1:7860/dp/72887d51ed3b4be7900273382bc31159/rows\n",
      "start: 0\n",
      "end: 100\n",
      "indices: undefined\n",
      "columns: undefined\n"
     ]
    }
   ],
   "source": [
    "dp[\"sunglasses\"] = dp[\"_match_image_A person wearing sunglasses.\"] - dp[\"_match_image_A person.\"]\n",
    "dp = dp.sort(by=\"sunglasses\", ascending=False)\n",
    "dp.gui.table()"
   ]
  },
  {
   "cell_type": "code",
   "execution_count": 15,
   "metadata": {},
   "outputs": [],
   "source": [
    "dp[\"sunglasses\"] = dp[\"sunglasses\"] > -0.23"
   ]
  },
  {
   "cell_type": "code",
   "execution_count": 16,
   "metadata": {},
   "outputs": [],
   "source": [
    "dp = dp.sample(frac=1, replace=False)"
   ]
  },
  {
   "cell_type": "code",
   "execution_count": 17,
   "metadata": {},
   "outputs": [
    {
     "data": {
      "text/html": [
       "<table border=\"1\" class=\"dataframe\">\n",
       "  <thead>\n",
       "    <tr style=\"text-align: right;\">\n",
       "      <th></th>\n",
       "      <th>v6_fnmr (NumpyArrayColumn)</th>\n",
       "      <th>sunglasses (NumpyArrayColumn)</th>\n",
       "    </tr>\n",
       "  </thead>\n",
       "  <tbody>\n",
       "    <tr>\n",
       "      <th>0</th>\n",
       "      <td>0.022541</td>\n",
       "      <td>False</td>\n",
       "    </tr>\n",
       "    <tr>\n",
       "      <th>1</th>\n",
       "      <td>0.038014</td>\n",
       "      <td>True</td>\n",
       "    </tr>\n",
       "  </tbody>\n",
       "</table>"
      ],
      "text/plain": [
       "DataPanel(nrows: 2, ncols: 2)"
      ]
     },
     "execution_count": 17,
     "metadata": {},
     "output_type": "execute_result"
    }
   ],
   "source": [
    "gb = dp.groupby(by=\"sunglasses\")\n",
    "gb[\"v6_fnmr\"].mean()\n"
   ]
  },
  {
   "cell_type": "code",
   "execution_count": 18,
   "metadata": {},
   "outputs": [
    {
     "data": {
      "text/html": [
       "\n",
       "        <iframe\n",
       "            width=\"100%\"\n",
       "            height=\"1000\"\n",
       "            src=\"http://localhost:7861/interface?id=dabbedf56d2d4427b5539d7a079ceb62\"\n",
       "            frameborder=\"0\"\n",
       "            allowfullscreen\n",
       "            \n",
       "        ></iframe>\n",
       "        "
      ],
      "text/plain": [
       "<IPython.lib.display.IFrame at 0x2812b6f40>"
      ]
     },
     "execution_count": 18,
     "metadata": {},
     "output_type": "execute_result"
    },
    {
     "name": "stdout",
     "output_type": "stream",
     "text": [
      "In here.\n",
      "http://127.0.0.1:7860\n",
      "Response {\n",
      "  [Symbol(realm)]: null,\n",
      "  [Symbol(state)]: {\n",
      "    aborted: false,\n",
      "    rangeRequested: false,\n",
      "    timingAllowPassed: true,\n",
      "    requestIncludesCredentials: true,\n",
      "    type: 'default',\n",
      "    status: 200,\n",
      "    timingInfo: {\n",
      "      startTime: 125846.68587505817,\n",
      "      redirectStartTime: 125846.68587505817,\n",
      "      redirectEndTime: 125848.81166601181,\n",
      "      postRedirectStartTime: 125848.81166601181,\n",
      "      finalServiceWorkerStartTime: 0,\n",
      "      finalNetworkResponseStartTime: 0,\n",
      "      finalNetworkRequestStartTime: 0,\n",
      "      endTime: 0,\n",
      "      encodedBodySize: 0,\n",
      "      decodedBodySize: 0,\n",
      "      finalConnectionTimingInfo: null\n",
      "    },\n",
      "    cacheState: '',\n",
      "    statusText: 'OK',\n",
      "    headersList: HeadersList {\n",
      "      [Symbol(headers map)]: [Map],\n",
      "      [Symbol(headers map sorted)]: null\n",
      "    },\n",
      "    urlList: [ [URL], [URL] ],\n",
      "    body: { stream: undefined }\n",
      "  },\n",
      "  [Symbol(headers)]: HeadersList {\n",
      "    [Symbol(headers map)]: Map(4) {\n",
      "      'date' => 'Thu, 18 Aug 2022 21:24:57 GMT',\n",
      "      'server' => 'uvicorn',\n",
      "      'content-length' => '360',\n",
      "      'content-type' => 'application/json'\n",
      "    },\n",
      "    [Symbol(headers map sorted)]: null\n",
      "  }\n",
      "}\n",
      "{\n",
      "  component: 'sliceby-cards',\n",
      "  props: {\n",
      "    type: 'sliceby-cards',\n",
      "    sliceby_id: '5c4ad375833e40ca88725de53794aa32',\n",
      "    datapanel_id: 'dd0b1b55141342c58a2b388a5f1e81c3',\n",
      "    main_column: 'image',\n",
      "    tag_columns: [ 'v6_fnmr' ],\n",
      "    aggregations: {\n",
      "      'Mean FNMR': '3cd52087756f476788171a60eaa70832',\n",
      "      'STD FNMR': '861f1e9db0734f3d93918bcce4ab8cda',\n",
      "      Size: '605fb741cd5b4cf8ae9af0513f28b648'\n",
      "    }\n",
      "  }\n",
      "}\n",
      "Mean FNMR\n",
      "3cd52087756f476788171a60eaa70832\n",
      "STD FNMR\n",
      "861f1e9db0734f3d93918bcce4ab8cda\n",
      "Size\n",
      "605fb741cd5b4cf8ae9af0513f28b648\n",
      "{\n",
      "  'Mean FNMR': { dp: { false: ' 0.022541', true: ' 0.038014' } },\n",
      "  'STD FNMR': { dp: { false: ' 0.109713', true: ' 0.14555' } },\n",
      "  Size: { dp: { false: ' 39677', true: ' 851' } }\n",
      "}\n"
     ]
    }
   ],
   "source": [
    "gb.gui.cards(\n",
    "    main_column=\"image\", \n",
    "    tag_columns=[\"v6_fnmr\"],\n",
    "    aggregations={\n",
    "        \"Mean FNMR\": lambda x: x[\"v6_fnmr\"].mean(),\n",
    "        \"STD FNMR\": lambda x: x[\"v6_fnmr\"].std(),\n",
    "        \"Size\": len,\n",
    "    }\n",
    ")"
   ]
  },
  {
   "cell_type": "code",
   "execution_count": null,
   "metadata": {},
   "outputs": [],
   "source": [
    "dp.gui.table()"
   ]
  },
  {
   "cell_type": "markdown",
   "metadata": {},
   "source": [
    "## Discovering slices\n",
    "\n",
    "The subgroup annotations provided in RFW are quite limited, so we’ll use meerkat to *discover* new slices. To do so, we’ll use `dp.explainby`, a method that identifies a set of slices (*i.e.* scalar functions of the `by` column) that explain the variance in the response variable.\n",
    "\n"
   ]
  },
  {
   "cell_type": "code",
   "execution_count": 19,
   "metadata": {},
   "outputs": [
    {
     "data": {
      "application/vnd.jupyter.widget-view+json": {
       "model_id": "8207ba2ceb234a35a6941df2b6f1585b",
       "version_major": 2,
       "version_minor": 0
      },
      "text/plain": [
       "  0%|          | 0/100 [00:00<?, ?it/s]"
      ]
     },
     "metadata": {},
     "output_type": "display_data"
    }
   ],
   "source": [
    "from meerkat.ops.sliceby.explainby import explainby\n",
    "\n",
    "# dp = mk.DataPanel.read(base_dir / \"themis/facecompare_v6_global_slices.mk\")\n",
    "\n",
    "indian_dp = dp.lz[dp[\"ethnicity\"] == \"indian\"] \n",
    "\n",
    "eb = explainby(indian_dp, by=\"image\", target=\"v6_fnmr\",  n_slices=10, use_cache=True)"
   ]
  },
  {
   "cell_type": "code",
   "execution_count": 20,
   "metadata": {},
   "outputs": [
    {
     "data": {
      "text/html": [
       "\n",
       "        <iframe\n",
       "            width=\"100%\"\n",
       "            height=\"1000\"\n",
       "            src=\"http://localhost:7861/interface?id=c5cb91dd39af44b39fe8588b0bdc8bb1\"\n",
       "            frameborder=\"0\"\n",
       "            allowfullscreen\n",
       "            \n",
       "        ></iframe>\n",
       "        "
      ],
      "text/plain": [
       "<IPython.lib.display.IFrame at 0x315945070>"
      ]
     },
     "execution_count": 20,
     "metadata": {},
     "output_type": "execute_result"
    },
    {
     "name": "stdout",
     "output_type": "stream",
     "text": [
      "In here.\n",
      "http://127.0.0.1:7860\n",
      "Response {\n",
      "  [Symbol(realm)]: null,\n",
      "  [Symbol(state)]: {\n",
      "    aborted: false,\n",
      "    rangeRequested: false,\n",
      "    timingAllowPassed: true,\n",
      "    requestIncludesCredentials: true,\n",
      "    type: 'default',\n",
      "    status: 200,\n",
      "    timingInfo: {\n",
      "      startTime: 182679.6961660385,\n",
      "      redirectStartTime: 182679.6961660385,\n",
      "      redirectEndTime: 182681.21908307076,\n",
      "      postRedirectStartTime: 182681.21908307076,\n",
      "      finalServiceWorkerStartTime: 0,\n",
      "      finalNetworkResponseStartTime: 0,\n",
      "      finalNetworkRequestStartTime: 0,\n",
      "      endTime: 0,\n",
      "      encodedBodySize: 0,\n",
      "      decodedBodySize: 0,\n",
      "      finalConnectionTimingInfo: null\n",
      "    },\n",
      "    cacheState: '',\n",
      "    statusText: 'OK',\n",
      "    headersList: HeadersList {\n",
      "      [Symbol(headers map)]: [Map],\n",
      "      [Symbol(headers map sorted)]: null\n",
      "    },\n",
      "    urlList: [ [URL], [URL] ],\n",
      "    body: { stream: undefined }\n",
      "  },\n",
      "  [Symbol(headers)]: HeadersList {\n",
      "    [Symbol(headers map)]: Map(4) {\n",
      "      'date' => 'Thu, 18 Aug 2022 21:25:54 GMT',\n",
      "      'server' => 'uvicorn',\n",
      "      'content-length' => '372',\n",
      "      'content-type' => 'application/json'\n",
      "    },\n",
      "    [Symbol(headers map sorted)]: null\n",
      "  }\n",
      "}\n",
      "{\n",
      "  component: 'sliceby-cards',\n",
      "  props: {\n",
      "    type: 'sliceby-cards',\n",
      "    sliceby_id: 'd0576819fa9e4706b9c35f320b621324',\n",
      "    datapanel_id: '297c7baaf17f400d82ea0090475989d4',\n",
      "    main_column: 'image',\n",
      "    tag_columns: [ 'v6_fnmr', 'ethnicity' ],\n",
      "    aggregations: {\n",
      "      'Mean FNMR': '96a86835506f45569bcf434724c1882d',\n",
      "      'STD FNMR': 'd123a6b0bcfb4ae49da427a61f5f9c99',\n",
      "      Size: 'fca8f39f3ea543079a8ca65cfaf49967'\n",
      "    }\n",
      "  }\n",
      "}\n",
      "Mean FNMR\n",
      "96a86835506f45569bcf434724c1882d\n",
      "STD FNMR\n",
      "d123a6b0bcfb4ae49da427a61f5f9c99\n",
      "Size\n",
      "fca8f39f3ea543079a8ca65cfaf49967\n",
      "{\n",
      "  'Mean FNMR': {\n",
      "    dp: {\n",
      "      '0': ' 0.071018',\n",
      "      '1': ' 0.059524',\n",
      "      '2': ' 0.058559',\n",
      "      '3': ' 0.047126',\n",
      "      '4': ' 0.047401',\n",
      "      '5': ' 0.044223',\n",
      "      '6': ' 0.042954',\n",
      "      '7': ' 0.035335',\n",
      "      '8': ' 0.03347',\n",
      "      '9': ' 0.032338'\n",
      "    }\n",
      "  },\n",
      "  'STD FNMR': {\n",
      "    dp: {\n",
      "      '0': ' 0.201545',\n",
      "      '1': ' 0.157297',\n",
      "      '2': ' 0.199757',\n",
      "      '3': ' 0.187066',\n",
      "      '4': ' 0.178142',\n",
      "      '5': ' 0.155331',\n",
      "      '6': ' 0.161938',\n",
      "      '7': ' 0.147754',\n",
      "      '8': ' 0.133669',\n",
      "      '9': ' 0.124406'\n",
      "    }\n",
      "  },\n",
      "  Size: {\n",
      "    dp: {\n",
      "      '0': ' 203',\n",
      "      '1': ' 231',\n",
      "      '2': ' 74',\n",
      "      '3': ' 145',\n",
      "      '4': ' 109',\n",
      "      '5': ' 251',\n",
      "      '6': ' 1223',\n",
      "      '7': ' 383',\n",
      "      '8': ' 122',\n",
      "      '9': ' 201'\n",
      "    }\n",
      "  }\n",
      "}\n"
     ]
    }
   ],
   "source": [
    "eb.gui.cards(\n",
    "    main_column=\"image\", \n",
    "    tag_columns=[\"v6_fnmr\", \"ethnicity\"],\n",
    "    aggregations={\n",
    "        \"Mean FNMR\": lambda x: x[\"v6_fnmr\"].mean(),\n",
    "        \"STD FNMR\": lambda x: x[\"v6_fnmr\"].std(),\n",
    "        \"Size\": len,\n",
    "    }\n",
    ")"
   ]
  },
  {
   "cell_type": "code",
   "execution_count": null,
   "metadata": {},
   "outputs": [],
   "source": [
    "indian_dp = indian_dp.sort(by=\"v6_fnmr\", ascending=False)\n",
    "cb = indian_dp.clusterby(by=\"image\")\n",
    "cb.gui.cards(\n",
    "    main_column=\"image\", \n",
    "    tag_columns=[\"v6_fnmr\", \"ethnicity\"],\n",
    "    aggregations={\n",
    "        \"Mean FNMR\": lambda x: x[\"v6_fnmr\"].mean(),\n",
    "        \"STD FNMR\": lambda x: x[\"v6_fnmr\"].std(),\n",
    "        \"Size\": len,\n",
    "    }\n",
    ")"
   ]
  },
  {
   "cell_type": "markdown",
   "metadata": {},
   "source": [
    "## Diving deeper\n",
    "\n",
    "In practice, the slices discovered in the previous section should serve as inspiration for further exploration. One great way to quickly continue exploring other slices is via the plot interface. Unlike standard plotting interfaces, you can actually manipulate the axes and add labels for columns that don’t yet exist."
   ]
  },
  {
   "cell_type": "code",
   "execution_count": 21,
   "metadata": {},
   "outputs": [
    {
     "data": {
      "text/html": [
       "\n",
       "        <iframe\n",
       "            width=\"100%\"\n",
       "            height=\"1000\"\n",
       "            src=\"http://localhost:7861/interface?id=8221c948d71e4d9eac676c06249c90b0\"\n",
       "            frameborder=\"0\"\n",
       "            allowfullscreen\n",
       "            \n",
       "        ></iframe>\n",
       "        "
      ],
      "text/plain": [
       "<IPython.lib.display.IFrame at 0x282fd6670>"
      ]
     },
     "execution_count": 21,
     "metadata": {},
     "output_type": "execute_result"
    },
    {
     "name": "stdout",
     "output_type": "stream",
     "text": [
      "In here.\n",
      "http://127.0.0.1:7860\n",
      "Response {\n",
      "  [Symbol(realm)]: null,\n",
      "  [Symbol(state)]: {\n",
      "    aborted: false,\n",
      "    rangeRequested: false,\n",
      "    timingAllowPassed: true,\n",
      "    requestIncludesCredentials: true,\n",
      "    type: 'default',\n",
      "    status: 200,\n",
      "    timingInfo: {\n",
      "      startTime: 240731.8119159937,\n",
      "      redirectStartTime: 240731.8119159937,\n",
      "      redirectEndTime: 240733.22329103947,\n",
      "      postRedirectStartTime: 240733.22329103947,\n",
      "      finalServiceWorkerStartTime: 0,\n",
      "      finalNetworkResponseStartTime: 0,\n",
      "      finalNetworkRequestStartTime: 0,\n",
      "      endTime: 0,\n",
      "      encodedBodySize: 0,\n",
      "      decodedBodySize: 0,\n",
      "      finalConnectionTimingInfo: null\n",
      "    },\n",
      "    cacheState: '',\n",
      "    statusText: 'OK',\n",
      "    headersList: HeadersList {\n",
      "      [Symbol(headers map)]: [Map],\n",
      "      [Symbol(headers map sorted)]: null\n",
      "    },\n",
      "    urlList: [ [URL], [URL] ],\n",
      "    body: { stream: undefined }\n",
      "  },\n",
      "  [Symbol(headers)]: HeadersList {\n",
      "    [Symbol(headers map)]: Map(4) {\n",
      "      'date' => 'Thu, 18 Aug 2022 21:26:52 GMT',\n",
      "      'server' => 'uvicorn',\n",
      "      'content-length' => '100',\n",
      "      'content-type' => 'application/json'\n",
      "    },\n",
      "    [Symbol(headers map sorted)]: null\n",
      "  }\n",
      "}\n",
      "{\n",
      "  component: 'table',\n",
      "  props: {\n",
      "    type: 'table',\n",
      "    nrows: 10280,\n",
      "    dp: '297c7baaf17f400d82ea0090475989d4'\n",
      "  }\n",
      "}\n",
      "http://127.0.0.1:7860/dp/297c7baaf17f400d82ea0090475989d4/rows\n",
      "start: 0\n",
      "end: 100\n",
      "indices: undefined\n",
      "columns: undefined\n"
     ]
    },
    {
     "data": {
      "application/vnd.jupyter.widget-view+json": {
       "model_id": "4aa5e926715840048a07f6b189daefc2",
       "version_major": 2,
       "version_minor": 0
      },
      "text/plain": [
       "  0%|          | 0/1 [00:00<?, ?it/s]"
      ]
     },
     "metadata": {},
     "output_type": "display_data"
    },
    {
     "data": {
      "application/vnd.jupyter.widget-view+json": {
       "model_id": "e5a9f280de13482baa21c1f06d16f34b",
       "version_major": 2,
       "version_minor": 0
      },
      "text/plain": [
       "  0%|          | 0/1 [00:00<?, ?it/s]"
      ]
     },
     "metadata": {},
     "output_type": "display_data"
    },
    {
     "data": {
      "application/vnd.jupyter.widget-view+json": {
       "model_id": "00e08c3f729b49b68e4819146af7ea86",
       "version_major": 2,
       "version_minor": 0
      },
      "text/plain": [
       "  0%|          | 0/1 [00:00<?, ?it/s]"
      ]
     },
     "metadata": {},
     "output_type": "display_data"
    },
    {
     "data": {
      "application/vnd.jupyter.widget-view+json": {
       "model_id": "84f53afbaf584051a48329ff21d8dc70",
       "version_major": 2,
       "version_minor": 0
      },
      "text/plain": [
       "  0%|          | 0/1 [00:00<?, ?it/s]"
      ]
     },
     "metadata": {},
     "output_type": "display_data"
    }
   ],
   "source": [
    "indian_dp.gui.table()"
   ]
  },
  {
   "cell_type": "code",
   "execution_count": null,
   "metadata": {},
   "outputs": [],
   "source": [
    "slice_idx = 0\n",
    "indian_dp[f\"slice_{slice_idx}\"] = indian_dp[\"MixtureSlicer(image,v6_fnmr)\"][:, slice_idx]"
   ]
  },
  {
   "cell_type": "markdown",
   "metadata": {},
   "source": [
    "**Demo goals.** The purpose of this demo is to collect feedback on the tools we’re developing. We would like to understand how they can be made more useful for the task of auditing machine learning models. We are still in very early days, so your concerns/suggestions will inform how we move forward. So, please be candid – any and all feedback is appreciated. To help guide the discussion, we’ve included below some specific questions that are particularly front-of-mind for us, but feel free to diverge from these topics:\n",
    "\n",
    "❓ **Questions to Guide Feedback.**\n",
    "\n",
    "*Did you learn something new about the behavior of this algorithm? Did you find slices that you would flag for bias concerns?* \n",
    "\n",
    "*Are these slices actionable? What would that action be? How would you address this slice?* \n",
    "\n",
    "*Did the slices you found seem important/interesting to you? If not, what kinds of slices do you think would be important to find?* *Why do you supect it is hard to find those slices?* \n",
    "\n",
    "Interface Questions\n",
    "\n",
    "- *Did you find the natural language descriptions useful for describing discovered slices, or did just looking through the pictures suffice? Did you trust the descriptions? Concrete examples (ideally with screenshots) would be great here.*\n",
    "- *Did you use natural language to test out new slices? What types of prompts did you write? Did you trust the results?*\n",
    "- *The main interface we currently provide for creating new slices is with natural language? Are there other interfaces you would find useful (*e.g. *scribbling, cropping, upload images)? Were there slices you would’ve liked to test, but weren’t able to?*\n",
    "- *Did you trust the statistics computed on the slices? How can we improve trust? *\n",
    "\n",
    "Implementation Questions:\n",
    "\n",
    "- *For the types of datasets you work with, do you think it would be easy to store it in a Meerkat DataPanel? Does this data structure feel like a good fit? How could it be improved to better support your data?*\n",
    "- *Are there views, plots, visualizations of the data that you were craving?*\n",
    "- *Was it easy to use Meerkat in a Jupyter Notebook?*\n",
    "\n"
   ]
  },
  {
   "cell_type": "markdown",
   "metadata": {},
   "source": []
  }
 ],
 "metadata": {
  "kernelspec": {
   "display_name": "Python 3.8.13 ('domino')",
   "language": "python",
   "name": "python3"
  },
  "language_info": {
   "codemirror_mode": {
    "name": "ipython",
    "version": 3
   },
   "file_extension": ".py",
   "mimetype": "text/x-python",
   "name": "python",
   "nbconvert_exporter": "python",
   "pygments_lexer": "ipython3",
   "version": "3.8.13"
  },
  "orig_nbformat": 4,
  "vscode": {
   "interpreter": {
    "hash": "7dc70abeb586db4fbbb19fd8ec040a8328b2a3c884b1c8ab3f626b1589cb18a0"
   }
  }
 },
 "nbformat": 4,
 "nbformat_minor": 2
}
