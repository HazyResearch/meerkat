{
 "cells": [
  {
   "cell_type": "code",
   "execution_count": 15,
   "id": "96a73956-27a0-454f-91dd-1a98a8e6399a",
   "metadata": {},
   "outputs": [],
   "source": [
    "%load_ext autoreload\n",
    "%autoreload 2\n",
    "\n",
    "import glob\n",
    "import os\n",
    "\n",
    "import meerkat as mk"
   ]
  },
  {
   "cell_type": "code",
   "execution_count": 16,
   "id": "e7b8a069-3764-466d-9d45-3766858b5fc7",
   "metadata": {},
   "outputs": [],
   "source": [
    "paths = glob.glob(os.path.expanduser('~/Desktop/workbench/songbird/datasets/**/*'))"
   ]
  },
  {
   "cell_type": "code",
   "execution_count": 26,
   "id": "4ca475e3-de3c-475d-91c4-a2ea30576483",
   "metadata": {},
   "outputs": [
    {
     "name": "stdout",
     "output_type": "stream",
     "text": [
      "/Users/gautam/Desktop/workbench/songbird/datasets/9-25-22_2000_8bar/01 Solstice.m4a\n"
     ]
    }
   ],
   "source": [
    "import librosa\n",
    "\n",
    "data, sr = librosa.load(paths[0])\n",
    "print(paths[0])"
   ]
  },
  {
   "cell_type": "code",
   "execution_count": 48,
   "id": "75aadd21-7bfd-4a75-a1c7-a1725161d559",
   "metadata": {},
   "outputs": [],
   "source": [
    "import soundfile as sf\n",
    "import io\n",
    "import tempfile\n",
    "import base64\n",
    "\n",
    "# replace with tempfile\n"
   ]
  },
  {
   "cell_type": "code",
   "execution_count": 54,
   "id": "bc80e62c-40ea-4e57-95bc-7ef7e5cd7908",
   "metadata": {},
   "outputs": [
    {
     "name": "stdout",
     "output_type": "stream",
     "text": [
      "/var/folders/yc/sg2v7pxx3lx5qvhgy7szdch40000gn/T/mk_xznyw4id\n"
     ]
    }
   ],
   "source": [
    "with tempfile.NamedTemporaryFile(prefix='mk_') as f:\n",
    "    sf.write(f.name, data, sr, format='wav')\n",
    "\n",
    "    # HACK: bug in SoundFile where on certain systems (e.g. Apple Silicon) \n",
    "    # you can't write to buffer with executable permissions\n",
    "    with open(f.name, 'rb') as f:\n",
    "        buf = io.BytesIO(f.read())\n",
    "     = f'data:audio/wav;base64,{base64.b64encode(buf.getvalue()).decode()}'\n",
    "\n",
    "    print(f.name)"
   ]
  },
  {
   "cell_type": "code",
   "execution_count": 63,
   "id": "8951bea1-8402-4273-90b7-4b675cbe66c4",
   "metadata": {},
   "outputs": [
    {
     "data": {
      "text/plain": [
       "'01 Solstice'"
      ]
     },
     "execution_count": 63,
     "metadata": {},
     "output_type": "execute_result"
    }
   ],
   "source": [
    "import pathlib\n",
    "\n",
    "audio_col = mk.AudioColumn(\n",
    "    paths,\n",
    ")\n",
    "\n",
    "map(pathlib.Path(path).stem for path in paths]"
   ]
  },
  {
   "cell_type": "code",
   "execution_count": null,
   "id": "0215c330-4dba-4325-b935-265d8a031d2b",
   "metadata": {},
   "outputs": [],
   "source": []
  },
  {
   "cell_type": "code",
   "execution_count": null,
   "id": "f672e5e5-db8c-4818-9e3b-c288e8899e3a",
   "metadata": {},
   "outputs": [],
   "source": []
  }
 ],
 "metadata": {
  "kernelspec": {
   "display_name": "Python 3",
   "language": "python",
   "name": "python3"
  },
  "language_info": {
   "codemirror_mode": {
    "name": "ipython",
    "version": 3
   },
   "file_extension": ".py",
   "mimetype": "text/x-python",
   "name": "python",
   "nbconvert_exporter": "python",
   "pygments_lexer": "ipython3",
   "version": "3.9.13"
  }
 },
 "nbformat": 4,
 "nbformat_minor": 5
}
