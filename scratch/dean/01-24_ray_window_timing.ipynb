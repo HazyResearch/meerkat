{
 "cells": [
  {
   "cell_type": "code",
   "execution_count": 1,
   "metadata": {},
   "outputs": [],
   "source": [
    "%load_ext autoreload\n",
    "%autoreload 2"
   ]
  },
  {
   "cell_type": "code",
   "execution_count": 5,
   "metadata": {},
   "outputs": [],
   "source": [
    "import time\n",
    "\n",
    "import meerkat as mk\n",
    "import numpy as np\n",
    "import pandas as pd\n",
    "from PIL import Image\n",
    "import seaborn as sb\n",
    "\n",
    "df = mk.get(\"imagenette\", version=\"160px\")"
   ]
  },
  {
   "cell_type": "code",
   "execution_count": 16,
   "metadata": {},
   "outputs": [
    {
     "data": {
      "text/html": [
       "<div>\n",
       "<style scoped>\n",
       "    .dataframe tbody tr th:only-of-type {\n",
       "        vertical-align: middle;\n",
       "    }\n",
       "\n",
       "    .dataframe tbody tr th {\n",
       "        vertical-align: top;\n",
       "    }\n",
       "\n",
       "    .dataframe thead th {\n",
       "        text-align: right;\n",
       "    }\n",
       "</style>\n",
       "<table border=\"1\" class=\"dataframe\">\n",
       "  <thead>\n",
       "    <tr style=\"text-align: right;\">\n",
       "      <th></th>\n",
       "      <th>num_blocks</th>\n",
       "      <th>blocks_per_window</th>\n",
       "      <th>time</th>\n",
       "    </tr>\n",
       "  </thead>\n",
       "  <tbody>\n",
       "  </tbody>\n",
       "</table>\n",
       "</div>"
      ],
      "text/plain": [
       "Empty DataFrame\n",
       "Columns: [num_blocks, blocks_per_window, time]\n",
       "Index: []"
      ]
     },
     "metadata": {},
     "output_type": "display_data"
    },
    {
     "data": {
      "text/html": [
       "<div>\n",
       "<style scoped>\n",
       "    .dataframe tbody tr th:only-of-type {\n",
       "        vertical-align: middle;\n",
       "    }\n",
       "\n",
       "    .dataframe tbody tr th {\n",
       "        vertical-align: top;\n",
       "    }\n",
       "\n",
       "    .dataframe thead th {\n",
       "        text-align: right;\n",
       "    }\n",
       "</style>\n",
       "<table border=\"1\" class=\"dataframe\">\n",
       "  <thead>\n",
       "    <tr style=\"text-align: right;\">\n",
       "      <th></th>\n",
       "      <th>num_blocks</th>\n",
       "      <th>blocks_per_window</th>\n",
       "      <th>time</th>\n",
       "    </tr>\n",
       "  </thead>\n",
       "  <tbody>\n",
       "    <tr>\n",
       "      <th>0</th>\n",
       "      <td>1.0</td>\n",
       "      <td>1.0</td>\n",
       "      <td>8.280432</td>\n",
       "    </tr>\n",
       "    <tr>\n",
       "      <th>1</th>\n",
       "      <td>1.0</td>\n",
       "      <td>1.0</td>\n",
       "      <td>8.280432</td>\n",
       "    </tr>\n",
       "  </tbody>\n",
       "</table>\n",
       "</div>"
      ],
      "text/plain": [
       "   num_blocks  blocks_per_window      time\n",
       "0         1.0                1.0  8.280432\n",
       "1         1.0                1.0  8.280432"
      ]
     },
     "metadata": {},
     "output_type": "display_data"
    }
   ],
   "source": [
    "a = pd.DataFrame(columns=[\"num_blocks\", \"blocks_per_window\", \"time\"])\n",
    "display(a)\n",
    "a.loc[len(a.index)] = [1, 1, 8.280431985855103]\n",
    "a.loc[len(a.index)] = [1, 1, 8.280431985855103]\n",
    "# pd.concat({\"num_blocks\": 1, \"blocks_per_window\": 1, \"time\": 8.280431985855103}, ignore_index=True)\n",
    "display(a)"
   ]
  },
  {
   "cell_type": "code",
   "execution_count": 19,
   "metadata": {},
   "outputs": [
    {
     "name": "stderr",
     "output_type": "stream",
     "text": [
      "2023-01-24 17:57:15,500\tINFO worker.py:1370 -- Calling ray.init() again after it has already been called.\n"
     ]
    },
    {
     "name": "stdout",
     "output_type": "stream",
     "text": [
      "num_blocks: 1, blocks_per_window: 1\n",
      "NUM_BLOCKS 1\n",
      "BLOCKS_PER_WINDOW 1\n"
     ]
    },
    {
     "name": "stderr",
     "output_type": "stream",
     "text": [
      "Repartition: 100%|██████████| 1/1 [00:00<00:00, 32.04it/s]\n",
      "2023-01-24 17:57:15,564\tINFO dataset.py:3693 -- Created DatasetPipeline with 1 windows: 1.18MiB min, 1.18MiB max, 1.18MiB mean\n",
      "2023-01-24 17:57:15,566\tINFO dataset.py:3703 -- Blocks per window: 1 min, 1 max, 1 mean\n",
      "2023-01-24 17:57:15,569\tWARNING dataset.py:3715 -- ⚠️  This pipeline's parallelism is limited by its blocks per window to ~1 concurrent tasks per window. To maximize performance, increase the blocks per window to at least 12. This may require increasing the base dataset's parallelism and/or adjusting the windowing parameters.\n",
      "2023-01-24 17:57:15,573\tINFO dataset.py:3742 -- ✔️  This pipeline's windows likely fit in object store memory without spilling.\n",
      "Stage 1: 100%|██████████| 1/1 [00:30<00:00, 30.97s/it]\n",
      "Stage 0: 100%|██████████| 1/1 [00:30<00:00, 30.97s/it]\n",
      "Stage 0: 100%|██████████| 1/1 [00:30<00:00, 30.96s/it]\n",
      "2023-01-24 17:57:46,667\tINFO worker.py:1370 -- Calling ray.init() again after it has already been called.\n"
     ]
    },
    {
     "name": "stdout",
     "output_type": "stream",
     "text": [
      "Time: 31.144824028015137\n",
      "   num_blocks  blocks_per_window       time\n",
      "0         1.0                1.0  31.144824\n",
      "num_blocks: 1, blocks_per_window: 10\n",
      "NUM_BLOCKS 1\n",
      "BLOCKS_PER_WINDOW 10\n"
     ]
    },
    {
     "name": "stderr",
     "output_type": "stream",
     "text": [
      "Repartition: 100%|██████████| 1/1 [00:00<00:00, 36.57it/s]\n",
      "2023-01-24 17:57:46,718\tINFO dataset.py:3693 -- Created DatasetPipeline with 1 windows: 1.18MiB min, 1.18MiB max, 1.18MiB mean\n",
      "2023-01-24 17:57:46,719\tINFO dataset.py:3703 -- Blocks per window: 1 min, 1 max, 1 mean\n",
      "2023-01-24 17:57:46,723\tWARNING dataset.py:3715 -- ⚠️  This pipeline's parallelism is limited by its blocks per window to ~1 concurrent tasks per window. To maximize performance, increase the blocks per window to at least 12. This may require increasing the base dataset's parallelism and/or adjusting the windowing parameters.\n",
      "2023-01-24 17:57:46,725\tINFO dataset.py:3742 -- ✔️  This pipeline's windows likely fit in object store memory without spilling.\n",
      "Stage 0:   0%|          | 0/1 [11:32<?, ?it/s]\n",
      "Stage 1:   0%|          | 0/10 [11:32<?, ?it/s]\n",
      "Stage 0:  10%|█         | 1/10 [11:32<1:43:48, 692.09s/it]\n",
      "Stage 1: 100%|██████████| 1/1 [01:04<00:00, 64.36s/it]\n",
      "Stage 0: 100%|██████████| 1/1 [01:04<00:00, 64.37s/it]\n",
      "Stage 0: 100%|██████████| 1/1 [01:04<00:00, 64.36s/it]\n"
     ]
    },
    {
     "name": "stdout",
     "output_type": "stream",
     "text": [
      "Time: 64.5627269744873\n",
      "   num_blocks  blocks_per_window       time\n",
      "0         1.0                1.0  31.144824\n",
      "1         1.0               10.0  64.562727\n",
      "num_blocks: 1, blocks_per_window: 100\n"
     ]
    },
    {
     "name": "stderr",
     "output_type": "stream",
     "text": [
      "2023-01-24 17:58:51,517\tINFO worker.py:1370 -- Calling ray.init() again after it has already been called.\n"
     ]
    },
    {
     "name": "stdout",
     "output_type": "stream",
     "text": [
      "NUM_BLOCKS 1\n",
      "BLOCKS_PER_WINDOW 100\n"
     ]
    },
    {
     "name": "stderr",
     "output_type": "stream",
     "text": [
      "Repartition: 100%|██████████| 1/1 [00:00<00:00, 30.43it/s]\n",
      "2023-01-24 17:58:51,645\tINFO dataset.py:3693 -- Created DatasetPipeline with 1 windows: 1.18MiB min, 1.18MiB max, 1.18MiB mean\n",
      "2023-01-24 17:58:51,646\tINFO dataset.py:3703 -- Blocks per window: 1 min, 1 max, 1 mean\n",
      "2023-01-24 17:58:51,650\tWARNING dataset.py:3715 -- ⚠️  This pipeline's parallelism is limited by its blocks per window to ~1 concurrent tasks per window. To maximize performance, increase the blocks per window to at least 12. This may require increasing the base dataset's parallelism and/or adjusting the windowing parameters.\n",
      "2023-01-24 17:58:51,653\tINFO dataset.py:3742 -- ✔️  This pipeline's windows likely fit in object store memory without spilling.\n",
      "Stage 1: 100%|██████████| 1/1 [00:36<00:00, 36.24s/it]\n",
      "Stage 0: 100%|██████████| 1/1 [00:36<00:00, 36.25s/it]\n",
      "Stage 0: 100%|██████████| 1/1 [00:36<00:00, 36.24s/it]\n",
      "2023-01-24 17:59:28,038\tINFO worker.py:1370 -- Calling ray.init() again after it has already been called.\n"
     ]
    },
    {
     "name": "stdout",
     "output_type": "stream",
     "text": [
      "Time: 36.78189015388489\n",
      "   num_blocks  blocks_per_window       time\n",
      "0         1.0                1.0  31.144824\n",
      "1         1.0               10.0  64.562727\n",
      "2         1.0              100.0  36.781890\n",
      "num_blocks: 1, blocks_per_window: 1000\n",
      "NUM_BLOCKS 1\n",
      "BLOCKS_PER_WINDOW 1000\n"
     ]
    },
    {
     "name": "stderr",
     "output_type": "stream",
     "text": [
      "Repartition: 100%|██████████| 1/1 [00:00<00:00, 36.35it/s]\n",
      "2023-01-24 17:59:28,087\tINFO dataset.py:3693 -- Created DatasetPipeline with 1 windows: 1.18MiB min, 1.18MiB max, 1.18MiB mean\n",
      "2023-01-24 17:59:28,088\tINFO dataset.py:3703 -- Blocks per window: 1 min, 1 max, 1 mean\n",
      "2023-01-24 17:59:28,092\tWARNING dataset.py:3715 -- ⚠️  This pipeline's parallelism is limited by its blocks per window to ~1 concurrent tasks per window. To maximize performance, increase the blocks per window to at least 12. This may require increasing the base dataset's parallelism and/or adjusting the windowing parameters.\n",
      "2023-01-24 17:59:28,093\tINFO dataset.py:3742 -- ✔️  This pipeline's windows likely fit in object store memory without spilling.\n",
      "Stage 1: 100%|██████████| 1/1 [00:47<00:00, 47.52s/it]\n",
      "Stage 0: 100%|██████████| 1/1 [00:47<00:00, 47.53s/it]\n",
      "Stage 0: 100%|██████████| 1/1 [00:47<00:00, 47.52s/it]\n",
      "2023-01-24 18:00:15,763\tINFO worker.py:1370 -- Calling ray.init() again after it has already been called.\n"
     ]
    },
    {
     "name": "stdout",
     "output_type": "stream",
     "text": [
      "Time: 47.704753160476685\n",
      "   num_blocks  blocks_per_window       time\n",
      "0         1.0                1.0  31.144824\n",
      "1         1.0               10.0  64.562727\n",
      "2         1.0              100.0  36.781890\n",
      "3         1.0             1000.0  47.704753\n",
      "num_blocks: 10, blocks_per_window: 1\n",
      "NUM_BLOCKS 10\n",
      "BLOCKS_PER_WINDOW 1\n"
     ]
    },
    {
     "name": "stderr",
     "output_type": "stream",
     "text": [
      "Repartition: 100%|██████████| 10/10 [00:00<00:00, 56.30it/s]\n",
      "2023-01-24 18:00:16,047\tINFO dataset.py:3693 -- Created DatasetPipeline with 10 windows: 0.12MiB min, 0.12MiB max, 0.12MiB mean\n",
      "2023-01-24 18:00:16,049\tINFO dataset.py:3703 -- Blocks per window: 1 min, 1 max, 1 mean\n",
      "2023-01-24 18:00:16,054\tWARNING dataset.py:3715 -- ⚠️  This pipeline's parallelism is limited by its blocks per window to ~1 concurrent tasks per window. To maximize performance, increase the blocks per window to at least 12. This may require increasing the base dataset's parallelism and/or adjusting the windowing parameters.\n",
      "2023-01-24 18:00:16,059\tINFO dataset.py:3742 -- ✔️  This pipeline's windows likely fit in object store memory without spilling.\n",
      "Stage 1: 100%|██████████| 10/10 [00:46<00:00,  4.67s/it]\n",
      "Stage 0: 100%|██████████| 10/10 [00:46<00:00,  4.67s/it]\n",
      "Stage 0: 100%|██████████| 1/1 [00:46<00:00, 46.70s/it]\n",
      "2023-01-24 18:01:02,932\tINFO worker.py:1370 -- Calling ray.init() again after it has already been called.\n"
     ]
    },
    {
     "name": "stdout",
     "output_type": "stream",
     "text": [
      "Time: 47.17267990112305\n",
      "   num_blocks  blocks_per_window       time\n",
      "0         1.0                1.0  31.144824\n",
      "1         1.0               10.0  64.562727\n",
      "2         1.0              100.0  36.781890\n",
      "3         1.0             1000.0  47.704753\n",
      "4        10.0                1.0  47.172680\n",
      "num_blocks: 10, blocks_per_window: 10\n",
      "NUM_BLOCKS 10\n",
      "BLOCKS_PER_WINDOW 10\n"
     ]
    },
    {
     "name": "stderr",
     "output_type": "stream",
     "text": [
      "Repartition: 100%|██████████| 10/10 [00:00<00:00, 178.91it/s]\n",
      "2023-01-24 18:01:03,066\tINFO dataset.py:3693 -- Created DatasetPipeline with 1 windows: 1.18MiB min, 1.18MiB max, 1.18MiB mean\n",
      "2023-01-24 18:01:03,070\tINFO dataset.py:3703 -- Blocks per window: 10 min, 10 max, 10 mean\n",
      "2023-01-24 18:01:03,081\tWARNING dataset.py:3715 -- ⚠️  This pipeline's parallelism is limited by its blocks per window to ~10 concurrent tasks per window. To maximize performance, increase the blocks per window to at least 12. This may require increasing the base dataset's parallelism and/or adjusting the windowing parameters.\n",
      "2023-01-24 18:01:03,083\tINFO dataset.py:3742 -- ✔️  This pipeline's windows likely fit in object store memory without spilling.\n",
      "Stage 1: 100%|██████████| 1/1 [00:13<00:00, 13.94s/it]\n",
      "Stage 0: 100%|██████████| 1/1 [00:13<00:00, 13.95s/it]\n",
      "Stage 0: 100%|██████████| 1/1 [00:13<00:00, 13.93s/it]\n",
      "2023-01-24 18:01:17,284\tINFO worker.py:1370 -- Calling ray.init() again after it has already been called.\n"
     ]
    },
    {
     "name": "stdout",
     "output_type": "stream",
     "text": [
      "Time: 14.25377368927002\n",
      "   num_blocks  blocks_per_window       time\n",
      "0         1.0                1.0  31.144824\n",
      "1         1.0               10.0  64.562727\n",
      "2         1.0              100.0  36.781890\n",
      "3         1.0             1000.0  47.704753\n",
      "4        10.0                1.0  47.172680\n",
      "5        10.0               10.0  14.253774\n",
      "num_blocks: 10, blocks_per_window: 100\n",
      "NUM_BLOCKS 10\n",
      "BLOCKS_PER_WINDOW 100\n"
     ]
    },
    {
     "name": "stderr",
     "output_type": "stream",
     "text": [
      "Repartition: 100%|██████████| 10/10 [00:00<00:00, 224.05it/s]\n",
      "2023-01-24 18:01:17,444\tINFO dataset.py:3693 -- Created DatasetPipeline with 1 windows: 1.18MiB min, 1.18MiB max, 1.18MiB mean\n",
      "2023-01-24 18:01:17,446\tINFO dataset.py:3703 -- Blocks per window: 10 min, 10 max, 10 mean\n",
      "2023-01-24 18:01:17,451\tWARNING dataset.py:3715 -- ⚠️  This pipeline's parallelism is limited by its blocks per window to ~10 concurrent tasks per window. To maximize performance, increase the blocks per window to at least 12. This may require increasing the base dataset's parallelism and/or adjusting the windowing parameters.\n",
      "2023-01-24 18:01:17,455\tINFO dataset.py:3742 -- ✔️  This pipeline's windows likely fit in object store memory without spilling.\n",
      "Stage 1: 100%|██████████| 1/1 [00:09<00:00,  9.12s/it]\n",
      "Stage 0: 100%|██████████| 1/1 [00:09<00:00,  9.14s/it]\n",
      "Stage 0: 100%|██████████| 1/1 [00:09<00:00,  9.12s/it]\n"
     ]
    },
    {
     "name": "stdout",
     "output_type": "stream",
     "text": [
      "Time: 9.544790029525757\n",
      "   num_blocks  blocks_per_window       time\n",
      "0         1.0                1.0  31.144824\n",
      "1         1.0               10.0  64.562727\n",
      "2         1.0              100.0  36.781890\n",
      "3         1.0             1000.0  47.704753\n",
      "4        10.0                1.0  47.172680\n",
      "5        10.0               10.0  14.253774\n",
      "6        10.0              100.0   9.544790\n",
      "num_blocks: 10, blocks_per_window: 1000\n"
     ]
    },
    {
     "name": "stderr",
     "output_type": "stream",
     "text": [
      "2023-01-24 18:01:26,940\tINFO worker.py:1370 -- Calling ray.init() again after it has already been called.\n"
     ]
    },
    {
     "name": "stdout",
     "output_type": "stream",
     "text": [
      "NUM_BLOCKS 10\n",
      "BLOCKS_PER_WINDOW 1000\n"
     ]
    },
    {
     "name": "stderr",
     "output_type": "stream",
     "text": [
      "Repartition: 100%|██████████| 10/10 [00:00<00:00, 294.48it/s]\n",
      "2023-01-24 18:01:27,124\tINFO dataset.py:3693 -- Created DatasetPipeline with 1 windows: 1.18MiB min, 1.18MiB max, 1.18MiB mean\n",
      "2023-01-24 18:01:27,126\tINFO dataset.py:3703 -- Blocks per window: 10 min, 10 max, 10 mean\n",
      "2023-01-24 18:01:27,131\tWARNING dataset.py:3715 -- ⚠️  This pipeline's parallelism is limited by its blocks per window to ~10 concurrent tasks per window. To maximize performance, increase the blocks per window to at least 12. This may require increasing the base dataset's parallelism and/or adjusting the windowing parameters.\n",
      "2023-01-24 18:01:27,135\tINFO dataset.py:3742 -- ✔️  This pipeline's windows likely fit in object store memory without spilling.\n",
      "Stage 1: 100%|██████████| 1/1 [00:07<00:00,  7.08s/it]\n",
      "Stage 0: 100%|██████████| 1/1 [00:07<00:00,  7.09s/it]\n",
      "Stage 0: 100%|██████████| 1/1 [00:07<00:00,  7.06s/it]\n",
      "2023-01-24 18:01:34,376\tINFO worker.py:1370 -- Calling ray.init() again after it has already been called.\n"
     ]
    },
    {
     "name": "stdout",
     "output_type": "stream",
     "text": [
      "Time: 7.605973958969116\n",
      "   num_blocks  blocks_per_window       time\n",
      "0         1.0                1.0  31.144824\n",
      "1         1.0               10.0  64.562727\n",
      "2         1.0              100.0  36.781890\n",
      "3         1.0             1000.0  47.704753\n",
      "4        10.0                1.0  47.172680\n",
      "5        10.0               10.0  14.253774\n",
      "6        10.0              100.0   9.544790\n",
      "7        10.0             1000.0   7.605974\n",
      "num_blocks: 100, blocks_per_window: 1\n",
      "NUM_BLOCKS 100\n",
      "BLOCKS_PER_WINDOW 1\n"
     ]
    },
    {
     "name": "stderr",
     "output_type": "stream",
     "text": [
      "Repartition: 100%|██████████| 100/100 [00:00<00:00, 431.22it/s]\n",
      "2023-01-24 18:01:34,998\tINFO dataset.py:3693 -- Created DatasetPipeline with 100 windows: 0.01MiB min, 0.01MiB max, 0.01MiB mean\n",
      "2023-01-24 18:01:34,999\tINFO dataset.py:3703 -- Blocks per window: 1 min, 1 max, 1 mean\n",
      "2023-01-24 18:01:35,003\tWARNING dataset.py:3715 -- ⚠️  This pipeline's parallelism is limited by its blocks per window to ~1 concurrent tasks per window. To maximize performance, increase the blocks per window to at least 12. This may require increasing the base dataset's parallelism and/or adjusting the windowing parameters.\n",
      "2023-01-24 18:01:35,006\tINFO dataset.py:3742 -- ✔️  This pipeline's windows likely fit in object store memory without spilling.\n",
      "Stage 1: 100%|██████████| 100/100 [00:36<00:00,  2.70it/s]\n",
      "Stage 0: 100%|██████████| 100/100 [00:36<00:00,  2.70it/s]\n",
      "Stage 0: 100%|██████████| 1/1 [00:36<00:00, 36.98s/it]\n",
      "2023-01-24 18:02:12,165\tINFO worker.py:1370 -- Calling ray.init() again after it has already been called.\n"
     ]
    },
    {
     "name": "stdout",
     "output_type": "stream",
     "text": [
      "Time: 37.81058406829834\n",
      "   num_blocks  blocks_per_window       time\n",
      "0         1.0                1.0  31.144824\n",
      "1         1.0               10.0  64.562727\n",
      "2         1.0              100.0  36.781890\n",
      "3         1.0             1000.0  47.704753\n",
      "4        10.0                1.0  47.172680\n",
      "5        10.0               10.0  14.253774\n",
      "6        10.0              100.0   9.544790\n",
      "7        10.0             1000.0   7.605974\n",
      "8       100.0                1.0  37.810584\n",
      "num_blocks: 100, blocks_per_window: 10\n",
      "NUM_BLOCKS 100\n",
      "BLOCKS_PER_WINDOW 10\n"
     ]
    },
    {
     "name": "stderr",
     "output_type": "stream",
     "text": [
      "Repartition: 100%|██████████| 100/100 [00:00<00:00, 812.33it/s]\n",
      "2023-01-24 18:02:12,466\tINFO dataset.py:3693 -- Created DatasetPipeline with 10 windows: 0.12MiB min, 0.12MiB max, 0.12MiB mean\n",
      "2023-01-24 18:02:12,466\tINFO dataset.py:3703 -- Blocks per window: 10 min, 10 max, 10 mean\n",
      "2023-01-24 18:02:12,468\tWARNING dataset.py:3715 -- ⚠️  This pipeline's parallelism is limited by its blocks per window to ~10 concurrent tasks per window. To maximize performance, increase the blocks per window to at least 12. This may require increasing the base dataset's parallelism and/or adjusting the windowing parameters.\n",
      "2023-01-24 18:02:12,470\tINFO dataset.py:3742 -- ✔️  This pipeline's windows likely fit in object store memory without spilling.\n",
      "Stage 1: 100%|██████████| 10/10 [00:05<00:00,  1.78it/s]\n",
      "Stage 0: 100%|██████████| 10/10 [00:05<00:00,  1.78it/s]\n",
      "Stage 0: 100%|██████████| 1/1 [00:05<00:00,  5.62s/it]\n",
      "2023-01-24 18:02:18,262\tINFO worker.py:1370 -- Calling ray.init() again after it has already been called.\n"
     ]
    },
    {
     "name": "stdout",
     "output_type": "stream",
     "text": [
      "Time: 6.093486070632935\n",
      "   num_blocks  blocks_per_window       time\n",
      "0         1.0                1.0  31.144824\n",
      "1         1.0               10.0  64.562727\n",
      "2         1.0              100.0  36.781890\n",
      "3         1.0             1000.0  47.704753\n",
      "4        10.0                1.0  47.172680\n",
      "5        10.0               10.0  14.253774\n",
      "6        10.0              100.0   9.544790\n",
      "7        10.0             1000.0   7.605974\n",
      "8       100.0                1.0  37.810584\n",
      "9       100.0               10.0   6.093486\n",
      "num_blocks: 100, blocks_per_window: 100\n",
      "NUM_BLOCKS 100\n",
      "BLOCKS_PER_WINDOW 100\n"
     ]
    },
    {
     "name": "stderr",
     "output_type": "stream",
     "text": [
      "Repartition: 100%|██████████| 100/100 [00:00<00:00, 644.63it/s]\n",
      "2023-01-24 18:02:18,651\tINFO dataset.py:3693 -- Created DatasetPipeline with 1 windows: 1.19MiB min, 1.19MiB max, 1.19MiB mean\n",
      "2023-01-24 18:02:18,653\tINFO dataset.py:3703 -- Blocks per window: 100 min, 100 max, 100 mean\n",
      "2023-01-24 18:02:18,656\tINFO dataset.py:3725 -- ✔️  This pipeline's per-window parallelism is high enough to fully utilize the cluster.\n",
      "2023-01-24 18:02:18,658\tINFO dataset.py:3742 -- ✔️  This pipeline's windows likely fit in object store memory without spilling.\n",
      "Stage 1: 100%|██████████| 1/1 [00:05<00:00,  5.68s/it]\n",
      "Stage 0: 100%|██████████| 1/1 [00:05<00:00,  5.69s/it]\n",
      "Stage 0: 100%|██████████| 1/1 [00:05<00:00,  5.67s/it]\n",
      "2023-01-24 18:02:24,510\tINFO worker.py:1370 -- Calling ray.init() again after it has already been called.\n"
     ]
    },
    {
     "name": "stdout",
     "output_type": "stream",
     "text": [
      "Time: 6.238231658935547\n",
      "    num_blocks  blocks_per_window       time\n",
      "0          1.0                1.0  31.144824\n",
      "1          1.0               10.0  64.562727\n",
      "2          1.0              100.0  36.781890\n",
      "3          1.0             1000.0  47.704753\n",
      "4         10.0                1.0  47.172680\n",
      "5         10.0               10.0  14.253774\n",
      "6         10.0              100.0   9.544790\n",
      "7         10.0             1000.0   7.605974\n",
      "8        100.0                1.0  37.810584\n",
      "9        100.0               10.0   6.093486\n",
      "10       100.0              100.0   6.238232\n",
      "num_blocks: 100, blocks_per_window: 1000\n",
      "NUM_BLOCKS 100\n",
      "BLOCKS_PER_WINDOW 1000\n"
     ]
    },
    {
     "name": "stderr",
     "output_type": "stream",
     "text": [
      "Repartition: 100%|██████████| 100/100 [00:00<00:00, 865.32it/s]\n",
      "2023-01-24 18:02:24,853\tINFO dataset.py:3693 -- Created DatasetPipeline with 1 windows: 1.19MiB min, 1.19MiB max, 1.19MiB mean\n",
      "2023-01-24 18:02:24,854\tINFO dataset.py:3703 -- Blocks per window: 100 min, 100 max, 100 mean\n",
      "2023-01-24 18:02:24,857\tINFO dataset.py:3725 -- ✔️  This pipeline's per-window parallelism is high enough to fully utilize the cluster.\n",
      "2023-01-24 18:02:24,860\tINFO dataset.py:3742 -- ✔️  This pipeline's windows likely fit in object store memory without spilling.\n",
      "Stage 1: 100%|██████████| 1/1 [00:07<00:00,  7.75s/it]\n",
      "Stage 0: 100%|██████████| 1/1 [00:07<00:00,  7.75s/it]\n",
      "Stage 0: 100%|██████████| 1/1 [00:07<00:00,  7.74s/it]\n",
      "2023-01-24 18:02:32,845\tINFO worker.py:1370 -- Calling ray.init() again after it has already been called.\n"
     ]
    },
    {
     "name": "stdout",
     "output_type": "stream",
     "text": [
      "Time: 8.299020051956177\n",
      "    num_blocks  blocks_per_window       time\n",
      "0          1.0                1.0  31.144824\n",
      "1          1.0               10.0  64.562727\n",
      "2          1.0              100.0  36.781890\n",
      "3          1.0             1000.0  47.704753\n",
      "4         10.0                1.0  47.172680\n",
      "5         10.0               10.0  14.253774\n",
      "6         10.0              100.0   9.544790\n",
      "7         10.0             1000.0   7.605974\n",
      "8        100.0                1.0  37.810584\n",
      "9        100.0               10.0   6.093486\n",
      "10       100.0              100.0   6.238232\n",
      "11       100.0             1000.0   8.299020\n",
      "num_blocks: 1000, blocks_per_window: 1\n",
      "NUM_BLOCKS 1000\n",
      "BLOCKS_PER_WINDOW 1\n"
     ]
    },
    {
     "name": "stderr",
     "output_type": "stream",
     "text": [
      "Repartition: 100%|██████████| 1000/1000 [00:01<00:00, 536.76it/s]\n",
      "2023-01-24 18:02:37,585\tINFO dataset.py:3693 -- Created DatasetPipeline with 1000 windows: 1293b min, 1446b max, 1362b mean\n",
      "2023-01-24 18:02:37,587\tINFO dataset.py:3703 -- Blocks per window: 1 min, 1 max, 1 mean\n",
      "2023-01-24 18:02:37,590\tWARNING dataset.py:3715 -- ⚠️  This pipeline's parallelism is limited by its blocks per window to ~1 concurrent tasks per window. To maximize performance, increase the blocks per window to at least 12. This may require increasing the base dataset's parallelism and/or adjusting the windowing parameters.\n",
      "2023-01-24 18:02:37,592\tINFO dataset.py:3742 -- ✔️  This pipeline's windows likely fit in object store memory without spilling.\n",
      "Stage 1: 100%|██████████| 1000/1000 [01:24<00:00, 11.90it/s]\n",
      "Stage 0: 100%|██████████| 1000/1000 [01:24<00:00, 11.90it/s]\n",
      "Stage 0: 100%|██████████| 1/1 [01:23<00:00, 83.98s/it]\n",
      "2023-01-24 18:04:02,237\tINFO worker.py:1370 -- Calling ray.init() again after it has already been called.\n"
     ]
    },
    {
     "name": "stdout",
     "output_type": "stream",
     "text": [
      "Time: 89.41738700866699\n",
      "    num_blocks  blocks_per_window       time\n",
      "0          1.0                1.0  31.144824\n",
      "1          1.0               10.0  64.562727\n",
      "2          1.0              100.0  36.781890\n",
      "3          1.0             1000.0  47.704753\n",
      "4         10.0                1.0  47.172680\n",
      "5         10.0               10.0  14.253774\n",
      "6         10.0              100.0   9.544790\n",
      "7         10.0             1000.0   7.605974\n",
      "8        100.0                1.0  37.810584\n",
      "9        100.0               10.0   6.093486\n",
      "10       100.0              100.0   6.238232\n",
      "11       100.0             1000.0   8.299020\n",
      "12      1000.0                1.0  89.417387\n",
      "num_blocks: 1000, blocks_per_window: 10\n",
      "NUM_BLOCKS 1000\n",
      "BLOCKS_PER_WINDOW 10\n"
     ]
    },
    {
     "name": "stderr",
     "output_type": "stream",
     "text": [
      "Repartition: 100%|██████████| 1000/1000 [00:01<00:00, 913.04it/s]\n",
      "2023-01-24 18:04:04,828\tINFO dataset.py:3693 -- Created DatasetPipeline with 100 windows: 0.01MiB min, 0.01MiB max, 0.01MiB mean\n",
      "2023-01-24 18:04:04,829\tINFO dataset.py:3703 -- Blocks per window: 10 min, 10 max, 10 mean\n",
      "2023-01-24 18:04:04,832\tWARNING dataset.py:3715 -- ⚠️  This pipeline's parallelism is limited by its blocks per window to ~10 concurrent tasks per window. To maximize performance, increase the blocks per window to at least 12. This may require increasing the base dataset's parallelism and/or adjusting the windowing parameters.\n",
      "2023-01-24 18:04:04,833\tINFO dataset.py:3742 -- ✔️  This pipeline's windows likely fit in object store memory without spilling.\n",
      "Stage 1: 100%|██████████| 100/100 [00:10<00:00,  9.57it/s]\n",
      "Stage 0: 100%|██████████| 100/100 [00:10<00:00,  9.57it/s]\n",
      "Stage 0: 100%|██████████| 1/1 [00:10<00:00, 10.45s/it]\n",
      "2023-01-24 18:04:16,164\tINFO worker.py:1370 -- Calling ray.init() again after it has already been called.\n"
     ]
    },
    {
     "name": "stdout",
     "output_type": "stream",
     "text": [
      "Time: 13.899310111999512\n",
      "    num_blocks  blocks_per_window       time\n",
      "0          1.0                1.0  31.144824\n",
      "1          1.0               10.0  64.562727\n",
      "2          1.0              100.0  36.781890\n",
      "3          1.0             1000.0  47.704753\n",
      "4         10.0                1.0  47.172680\n",
      "5         10.0               10.0  14.253774\n",
      "6         10.0              100.0   9.544790\n",
      "7         10.0             1000.0   7.605974\n",
      "8        100.0                1.0  37.810584\n",
      "9        100.0               10.0   6.093486\n",
      "10       100.0              100.0   6.238232\n",
      "11       100.0             1000.0   8.299020\n",
      "12      1000.0                1.0  89.417387\n",
      "13      1000.0               10.0  13.899310\n",
      "num_blocks: 1000, blocks_per_window: 100\n",
      "NUM_BLOCKS 1000\n",
      "BLOCKS_PER_WINDOW 100\n"
     ]
    },
    {
     "name": "stderr",
     "output_type": "stream",
     "text": [
      "Repartition: 100%|██████████| 1000/1000 [00:03<00:00, 290.82it/s]\n",
      "2023-01-24 18:04:21,819\tINFO dataset.py:3693 -- Created DatasetPipeline with 10 windows: 0.13MiB min, 0.13MiB max, 0.13MiB mean\n",
      "2023-01-24 18:04:21,820\tINFO dataset.py:3703 -- Blocks per window: 100 min, 100 max, 100 mean\n",
      "2023-01-24 18:04:21,825\tINFO dataset.py:3725 -- ✔️  This pipeline's per-window parallelism is high enough to fully utilize the cluster.\n",
      "2023-01-24 18:04:21,827\tINFO dataset.py:3742 -- ✔️  This pipeline's windows likely fit in object store memory without spilling.\n",
      "Stage 1: 100%|██████████| 10/10 [00:15<00:00,  1.50s/it]\n",
      "Stage 0: 100%|██████████| 10/10 [00:15<00:00,  1.50s/it]\n",
      "Stage 0: 100%|██████████| 1/1 [00:15<00:00, 15.01s/it]\n",
      "2023-01-24 18:04:38,158\tINFO worker.py:1370 -- Calling ray.init() again after it has already been called.\n"
     ]
    },
    {
     "name": "stdout",
     "output_type": "stream",
     "text": [
      "Time: 21.90692138671875\n",
      "    num_blocks  blocks_per_window       time\n",
      "0          1.0                1.0  31.144824\n",
      "1          1.0               10.0  64.562727\n",
      "2          1.0              100.0  36.781890\n",
      "3          1.0             1000.0  47.704753\n",
      "4         10.0                1.0  47.172680\n",
      "5         10.0               10.0  14.253774\n",
      "6         10.0              100.0   9.544790\n",
      "7         10.0             1000.0   7.605974\n",
      "8        100.0                1.0  37.810584\n",
      "9        100.0               10.0   6.093486\n",
      "10       100.0              100.0   6.238232\n",
      "11       100.0             1000.0   8.299020\n",
      "12      1000.0                1.0  89.417387\n",
      "13      1000.0               10.0  13.899310\n",
      "14      1000.0              100.0  21.906921\n",
      "num_blocks: 1000, blocks_per_window: 1000\n",
      "NUM_BLOCKS 1000\n",
      "BLOCKS_PER_WINDOW 1000\n"
     ]
    },
    {
     "name": "stderr",
     "output_type": "stream",
     "text": [
      "Repartition: 100%|██████████| 1000/1000 [00:02<00:00, 459.32it/s]\n",
      "2023-01-24 18:04:43,530\tINFO dataset.py:3693 -- Created DatasetPipeline with 1 windows: 1.3MiB min, 1.3MiB max, 1.3MiB mean\n",
      "2023-01-24 18:04:43,532\tINFO dataset.py:3703 -- Blocks per window: 1000 min, 1000 max, 1000 mean\n",
      "2023-01-24 18:04:43,536\tINFO dataset.py:3725 -- ✔️  This pipeline's per-window parallelism is high enough to fully utilize the cluster.\n",
      "2023-01-24 18:04:43,538\tINFO dataset.py:3742 -- ✔️  This pipeline's windows likely fit in object store memory without spilling.\n",
      "Stage 1: 100%|██████████| 1/1 [00:13<00:00, 13.65s/it]\n",
      "Stage 0: 100%|██████████| 1/1 [00:13<00:00, 13.66s/it]\n",
      "Stage 0: 100%|██████████| 1/1 [00:13<00:00, 13.64s/it]\n"
     ]
    },
    {
     "name": "stdout",
     "output_type": "stream",
     "text": [
      "Time: 20.390439748764038\n",
      "    num_blocks  blocks_per_window       time\n",
      "0          1.0                1.0  31.144824\n",
      "1          1.0               10.0  64.562727\n",
      "2          1.0              100.0  36.781890\n",
      "3          1.0             1000.0  47.704753\n",
      "4         10.0                1.0  47.172680\n",
      "5         10.0               10.0  14.253774\n",
      "6         10.0              100.0   9.544790\n",
      "7         10.0             1000.0   7.605974\n",
      "8        100.0                1.0  37.810584\n",
      "9        100.0               10.0   6.093486\n",
      "10       100.0              100.0   6.238232\n",
      "11       100.0             1000.0   8.299020\n",
      "12      1000.0                1.0  89.417387\n",
      "13      1000.0               10.0  13.899310\n",
      "14      1000.0              100.0  21.906921\n",
      "15      1000.0             1000.0  20.390440\n"
     ]
    }
   ],
   "source": [
    "pd_df = pd.DataFrame(columns=[\"num_blocks\", \"blocks_per_window\", \"time\"])\n",
    "\n",
    "for num_blocks in [1, 10, 100, 1000]:\n",
    "    for blocks_per_window in [1, 10, 100, 1000]:\n",
    "        print(f\"num_blocks: {num_blocks}, blocks_per_window: {blocks_per_window}\")\n",
    "        \n",
    "        start = time.time()\n",
    "        df.defer(lambda img: np.array(img.resize((100, 100)))) \\\n",
    "            .map(lambda img: img.mean(),\n",
    "                 use_ray=True,\n",
    "                 num_blocks=num_blocks,\n",
    "                 blocks_per_window=blocks_per_window)\n",
    "        end = time.time()\n",
    "        print(f\"Time: {end - start}\")\n",
    "        \n",
    "        pd_df.loc[len(pd_df.index)] = [num_blocks, blocks_per_window, end - start]\n",
    "        display(pd_df)"
   ]
  },
  {
   "cell_type": "code",
   "execution_count": 20,
   "metadata": {},
   "outputs": [
    {
     "data": {
      "text/html": [
       "<div>\n",
       "<style scoped>\n",
       "    .dataframe tbody tr th:only-of-type {\n",
       "        vertical-align: middle;\n",
       "    }\n",
       "\n",
       "    .dataframe tbody tr th {\n",
       "        vertical-align: top;\n",
       "    }\n",
       "\n",
       "    .dataframe thead th {\n",
       "        text-align: right;\n",
       "    }\n",
       "</style>\n",
       "<table border=\"1\" class=\"dataframe\">\n",
       "  <thead>\n",
       "    <tr style=\"text-align: right;\">\n",
       "      <th></th>\n",
       "      <th>num_blocks</th>\n",
       "      <th>blocks_per_window</th>\n",
       "      <th>time</th>\n",
       "    </tr>\n",
       "  </thead>\n",
       "  <tbody>\n",
       "    <tr>\n",
       "      <th>0</th>\n",
       "      <td>1.0</td>\n",
       "      <td>1.0</td>\n",
       "      <td>31.144824</td>\n",
       "    </tr>\n",
       "    <tr>\n",
       "      <th>1</th>\n",
       "      <td>1.0</td>\n",
       "      <td>10.0</td>\n",
       "      <td>64.562727</td>\n",
       "    </tr>\n",
       "    <tr>\n",
       "      <th>2</th>\n",
       "      <td>1.0</td>\n",
       "      <td>100.0</td>\n",
       "      <td>36.781890</td>\n",
       "    </tr>\n",
       "    <tr>\n",
       "      <th>3</th>\n",
       "      <td>1.0</td>\n",
       "      <td>1000.0</td>\n",
       "      <td>47.704753</td>\n",
       "    </tr>\n",
       "    <tr>\n",
       "      <th>4</th>\n",
       "      <td>10.0</td>\n",
       "      <td>1.0</td>\n",
       "      <td>47.172680</td>\n",
       "    </tr>\n",
       "    <tr>\n",
       "      <th>5</th>\n",
       "      <td>10.0</td>\n",
       "      <td>10.0</td>\n",
       "      <td>14.253774</td>\n",
       "    </tr>\n",
       "    <tr>\n",
       "      <th>6</th>\n",
       "      <td>10.0</td>\n",
       "      <td>100.0</td>\n",
       "      <td>9.544790</td>\n",
       "    </tr>\n",
       "    <tr>\n",
       "      <th>7</th>\n",
       "      <td>10.0</td>\n",
       "      <td>1000.0</td>\n",
       "      <td>7.605974</td>\n",
       "    </tr>\n",
       "    <tr>\n",
       "      <th>8</th>\n",
       "      <td>100.0</td>\n",
       "      <td>1.0</td>\n",
       "      <td>37.810584</td>\n",
       "    </tr>\n",
       "    <tr>\n",
       "      <th>9</th>\n",
       "      <td>100.0</td>\n",
       "      <td>10.0</td>\n",
       "      <td>6.093486</td>\n",
       "    </tr>\n",
       "    <tr>\n",
       "      <th>10</th>\n",
       "      <td>100.0</td>\n",
       "      <td>100.0</td>\n",
       "      <td>6.238232</td>\n",
       "    </tr>\n",
       "    <tr>\n",
       "      <th>11</th>\n",
       "      <td>100.0</td>\n",
       "      <td>1000.0</td>\n",
       "      <td>8.299020</td>\n",
       "    </tr>\n",
       "    <tr>\n",
       "      <th>12</th>\n",
       "      <td>1000.0</td>\n",
       "      <td>1.0</td>\n",
       "      <td>89.417387</td>\n",
       "    </tr>\n",
       "    <tr>\n",
       "      <th>13</th>\n",
       "      <td>1000.0</td>\n",
       "      <td>10.0</td>\n",
       "      <td>13.899310</td>\n",
       "    </tr>\n",
       "    <tr>\n",
       "      <th>14</th>\n",
       "      <td>1000.0</td>\n",
       "      <td>100.0</td>\n",
       "      <td>21.906921</td>\n",
       "    </tr>\n",
       "    <tr>\n",
       "      <th>15</th>\n",
       "      <td>1000.0</td>\n",
       "      <td>1000.0</td>\n",
       "      <td>20.390440</td>\n",
       "    </tr>\n",
       "  </tbody>\n",
       "</table>\n",
       "</div>"
      ],
      "text/plain": [
       "    num_blocks  blocks_per_window       time\n",
       "0          1.0                1.0  31.144824\n",
       "1          1.0               10.0  64.562727\n",
       "2          1.0              100.0  36.781890\n",
       "3          1.0             1000.0  47.704753\n",
       "4         10.0                1.0  47.172680\n",
       "5         10.0               10.0  14.253774\n",
       "6         10.0              100.0   9.544790\n",
       "7         10.0             1000.0   7.605974\n",
       "8        100.0                1.0  37.810584\n",
       "9        100.0               10.0   6.093486\n",
       "10       100.0              100.0   6.238232\n",
       "11       100.0             1000.0   8.299020\n",
       "12      1000.0                1.0  89.417387\n",
       "13      1000.0               10.0  13.899310\n",
       "14      1000.0              100.0  21.906921\n",
       "15      1000.0             1000.0  20.390440"
      ]
     },
     "metadata": {},
     "output_type": "display_data"
    }
   ],
   "source": [
    "display(pd_df)"
   ]
  },
  {
   "cell_type": "code",
   "execution_count": 21,
   "metadata": {},
   "outputs": [],
   "source": [
    "pd_df.to_csv(\"ray_window_timing-20230124.csv\")"
   ]
  }
 ],
 "metadata": {
  "kernelspec": {
   "display_name": "meerkat",
   "language": "python",
   "name": "python3"
  },
  "language_info": {
   "codemirror_mode": {
    "name": "ipython",
    "version": 3
   },
   "file_extension": ".py",
   "mimetype": "text/x-python",
   "name": "python",
   "nbconvert_exporter": "python",
   "pygments_lexer": "ipython3",
   "version": "3.9.16"
  },
  "vscode": {
   "interpreter": {
    "hash": "9150b9090735f5da6a986cdda8a99a57a61f2f496b609cece181220443ed1f27"
   }
  }
 },
 "nbformat": 4,
 "nbformat_minor": 4
}
