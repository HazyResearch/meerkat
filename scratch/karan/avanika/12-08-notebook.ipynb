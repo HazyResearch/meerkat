{
 "cells": [
  {
   "cell_type": "code",
   "execution_count": 1,
   "metadata": {},
   "outputs": [],
   "source": [
    "%load_ext autoreload\n",
    "%autoreload 2\n",
    "import meerkat as mk"
   ]
  },
  {
   "cell_type": "code",
   "execution_count": 2,
   "metadata": {},
   "outputs": [
    {
     "data": {
      "text/html": [
       "<pre style=\"white-space:pre;overflow-x:auto;line-height:normal;font-family:Menlo,'DejaVu Sans Mono',consolas,'Courier New',monospace\">Trying to find an open port in <span style=\"font-weight: bold\">(</span><span style=\"color: #008080; text-decoration-color: #008080; font-weight: bold\">7860</span>, <span style=\"color: #008080; text-decoration-color: #008080; font-weight: bold\">7960</span><span style=\"font-weight: bold\">)</span>. </pre>\n"
      ],
      "text/plain": [
       "Trying to find an open port in \u001b[1m(\u001b[0m\u001b[1;36m7860\u001b[0m, \u001b[1;36m7960\u001b[0m\u001b[1m)\u001b[0m. "
      ]
     },
     "metadata": {},
     "output_type": "display_data"
    },
    {
     "data": {
      "text/html": [
       "<pre style=\"white-space:pre;overflow-x:auto;line-height:normal;font-family:Menlo,'DejaVu Sans Mono',consolas,'Courier New',monospace\">Found open port: <span style=\"color: #008080; text-decoration-color: #008080; font-weight: bold\">7860</span>\n",
       "</pre>\n"
      ],
      "text/plain": [
       "Found open port: \u001b[1;36m7860\u001b[0m\n"
      ]
     },
     "metadata": {},
     "output_type": "display_data"
    },
    {
     "data": {
      "text/html": [
       "<pre style=\"white-space:pre;overflow-x:auto;line-height:normal;font-family:Menlo,'DejaVu Sans Mono',consolas,'Courier New',monospace\">Trying to find an open port in <span style=\"font-weight: bold\">(</span><span style=\"color: #008080; text-decoration-color: #008080; font-weight: bold\">7861</span>, <span style=\"color: #008080; text-decoration-color: #008080; font-weight: bold\">7961</span><span style=\"font-weight: bold\">)</span>. </pre>\n"
      ],
      "text/plain": [
       "Trying to find an open port in \u001b[1m(\u001b[0m\u001b[1;36m7861\u001b[0m, \u001b[1;36m7961\u001b[0m\u001b[1m)\u001b[0m. "
      ]
     },
     "metadata": {},
     "output_type": "display_data"
    },
    {
     "data": {
      "text/html": [
       "<pre style=\"white-space:pre;overflow-x:auto;line-height:normal;font-family:Menlo,'DejaVu Sans Mono',consolas,'Courier New',monospace\">Found open port: <span style=\"color: #008080; text-decoration-color: #008080; font-weight: bold\">7878</span>\n",
       "</pre>\n"
      ],
      "text/plain": [
       "Found open port: \u001b[1;36m7878\u001b[0m\n"
      ]
     },
     "metadata": {},
     "output_type": "display_data"
    },
    {
     "data": {
      "text/html": [
       "<pre style=\"white-space:pre;overflow-x:auto;line-height:normal;font-family:Menlo,'DejaVu Sans Mono',consolas,'Courier New',monospace\">Trying port: <span style=\"color: #008080; text-decoration-color: #008080; font-weight: bold\">7878</span>\r</pre>\n"
      ],
      "text/plain": [
       "Trying port: \u001b[1;36m7878\u001b[0m\r"
      ]
     },
     "metadata": {},
     "output_type": "display_data"
    },
    {
     "data": {
      "text/html": [
       "<pre style=\"white-space:pre;overflow-x:auto;line-height:normal;font-family:Menlo,'DejaVu Sans Mono',consolas,'Courier New',monospace\">Meerkat interactive mode started! API docs on <span style=\"color: #0000ff; text-decoration-color: #0000ff; text-decoration: underline\">http://127.0.0.1:7860/docs</span> and GUI server on <span style=\"color: #0000ff; text-decoration-color: #0000ff; text-decoration: underline\">http://localhost:7878.</span>\n",
       "</pre>\n"
      ],
      "text/plain": [
       "Meerkat interactive mode started! API docs on \u001b[4;94mhttp://127.0.0.1:7860/docs\u001b[0m and GUI server on \u001b[4;94mhttp://localhost:7878.\u001b[0m\n"
      ]
     },
     "metadata": {},
     "output_type": "display_data"
    },
    {
     "data": {
      "text/plain": [
       "NetworkInfo(api=<fastapi.applications.FastAPI object at 0x168041f40>, api_server_port=7860, api_server=<meerkat.interactive.server.Server object at 0x1098cb370>, npm_server_port=7878, npm_process=<subprocess.Popen object at 0x16877f550>, api_server_name='127.0.0.1', npm_server_name='localhost', shareable_npm_server_name=None, shareable_api_server_name=None, npm_out_path='/var/folders/_w/s_61q82s15l0_06xwl0k83_40000gn/T/tmpp75zhykb.out', npm_err_path='/var/folders/_w/s_61q82s15l0_06xwl0k83_40000gn/T/tmp11pkqmbf.err')"
      ]
     },
     "execution_count": 2,
     "metadata": {},
     "output_type": "execute_result"
    }
   ],
   "source": [
    "mk.gui.start()"
   ]
  },
  {
   "cell_type": "code",
   "execution_count": 3,
   "metadata": {},
   "outputs": [
    {
     "data": {
      "text/html": [
       "\n",
       "        <iframe\n",
       "            width=\"100%\"\n",
       "            height=\"600px\"\n",
       "            src=\"http://localhost:7878?id=98465ee33e744dbab760c5d6c0b18d77\"\n",
       "            frameborder=\"0\"\n",
       "            allowfullscreen\n",
       "        ></iframe>\n",
       "        "
      ],
      "text/plain": [
       "<IPython.lib.display.IFrame at 0x1687cce80>"
      ]
     },
     "execution_count": 3,
     "metadata": {},
     "output_type": "execute_result"
    }
   ],
   "source": [
    "code = \"\"\"import meerkat as mk\n",
    "import pandas as pd\n",
    "import numpy as np\n",
    "import random\n",
    "\n",
    "df = pd.DataFrame({\n",
    "    \"a\": np.random.randint(0, 100, 100),\n",
    "    \"b\": np.random.randint(0, 100, 100),\n",
    "    \"c\": np.random.randint(0, 100, 100),\n",
    "    \"d\": np.random.randint(0, 100, 100),\n",
    "})\n",
    "\n",
    "def my_fn(a, b, c, d):\n",
    "    return a + b + c + d\n",
    "\"\"\"\n",
    "\n",
    "markdown = \"\"\"\n",
    "# Hello\n",
    "We can write markdown in here.\n",
    "We can even use **bold** and *italics*.\n",
    "And we can even write code like this:\n",
    "```python\n",
    "import meerkat as mk\n",
    "import pandas as pd\n",
    "```\n",
    "or bash:\n",
    "```bash\n",
    "pip install meerkat\n",
    "```\n",
    "\n",
    "and another heading\n",
    "## Hello world!\n",
    "\n",
    "\"\"\"\n",
    "\n",
    "grid = mk.gui.Grid(\n",
    "    components=[\n",
    "        mk.gui.Div(\n",
    "            component=mk.gui.Text(data=\"Hello world!\"),\n",
    "            classes=\"font-bold text-center bg-violet-600\",\n",
    "        ),\n",
    "        mk.gui.Image(data=\"https://upload.wikimedia.org/wikipedia/commons/9/9a/Meerkat_%28Suricata_suricatta%29_Tswalu.jpg\"),\n",
    "        mk.gui.Code(data=code, language=\"python\"),\n",
    "        mk.gui.Div(component=mk.gui.Markdown(data=markdown)),\n",
    "    ],\n",
    "    # Center the grid vertically\n",
    "    classes=\"grid-cols-2 items-center gap-4 h-full\",\n",
    ")\n",
    "mk.gui.Interface(component=grid, height=\"600px\").launch()"
   ]
  },
  {
   "cell_type": "code",
   "execution_count": 6,
   "metadata": {},
   "outputs": [
    {
     "data": {
      "text/html": [
       "\n",
       "        <iframe\n",
       "            width=\"100%\"\n",
       "            height=\"1000px\"\n",
       "            src=\"http://localhost:7862?id=54c378b9307c4b33ab160dd5e8080b14\"\n",
       "            frameborder=\"0\"\n",
       "            allowfullscreen\n",
       "        ></iframe>\n",
       "        "
      ],
      "text/plain": [
       "<IPython.lib.display.IFrame at 0x114f4d520>"
      ]
     },
     "execution_count": 6,
     "metadata": {},
     "output_type": "execute_result"
    }
   ],
   "source": [
    "layout = mk.gui.RowLayout(components=[\n",
    "    mk.gui.Text(data=123.12312321),\n",
    "    mk.gui.CodeDisplay(data=code, language=\"python\"),\n",
    "])\n",
    "mk.gui.Interface(component=layout).launch()"
   ]
  },
  {
   "cell_type": "code",
   "execution_count": 7,
   "metadata": {},
   "outputs": [
    {
     "data": {
      "text/html": [
       "\n",
       "        <iframe\n",
       "            width=\"100%\"\n",
       "            height=\"1000px\"\n",
       "            src=\"http://localhost:7879?id=8e6bebeac2114b36a8cf4e67702eb66f\"\n",
       "            frameborder=\"0\"\n",
       "            allowfullscreen\n",
       "        ></iframe>\n",
       "        "
      ],
      "text/plain": [
       "<IPython.lib.display.IFrame at 0x17e5adf10>"
      ]
     },
     "execution_count": 7,
     "metadata": {},
     "output_type": "execute_result"
    }
   ],
   "source": [
    "text_block = mk.gui.Textbox(title=\"Data Query\")\n",
    "text = mk.gui.Text(data=text_block.text)\n",
    "mk.gui.Interface(component=mk.gui.RowLayout(components=[text_block, text])).launch()"
   ]
  },
  {
   "cell_type": "code",
   "execution_count": 10,
   "metadata": {},
   "outputs": [
    {
     "data": {
      "text/plain": [
       "\"What's going on?\""
      ]
     },
     "execution_count": 10,
     "metadata": {},
     "output_type": "execute_result"
    }
   ],
   "source": [
    "text_block.text.value"
   ]
  },
  {
   "cell_type": "code",
   "execution_count": 4,
   "metadata": {},
   "outputs": [
    {
     "data": {
      "text/html": [
       "\n",
       "        <iframe\n",
       "            width=\"100%\"\n",
       "            height=\"1000px\"\n",
       "            src=\"http://localhost:7878?id=24e42309d4d4422d940376ea75c1545e\"\n",
       "            frameborder=\"0\"\n",
       "            allowfullscreen\n",
       "        ></iframe>\n",
       "        "
      ],
      "text/plain": [
       "<IPython.lib.display.IFrame at 0x14ab5f340>"
      ]
     },
     "execution_count": 4,
     "metadata": {},
     "output_type": "execute_result"
    }
   ],
   "source": [
    "textbox = mk.gui.Textbox(title=\"Enter a number\", text=\"\")\n",
    "mk.gui.Interface(component=textbox).launch()"
   ]
  },
  {
   "cell_type": "code",
   "execution_count": 4,
   "metadata": {},
   "outputs": [
    {
     "data": {
      "text/plain": [
       "Store()"
      ]
     },
     "execution_count": 4,
     "metadata": {},
     "output_type": "execute_result"
    }
   ],
   "source": [
    "textbox.text"
   ]
  },
  {
   "cell_type": "code",
   "execution_count": 10,
   "metadata": {},
   "outputs": [
    {
     "data": {
      "text/html": [
       "\n",
       "        <iframe\n",
       "            width=\"100%\"\n",
       "            height=\"1000\"\n",
       "            src=\"http://localhost:7882?id=b79d163057414c02b5e8b90da2758e2f\"\n",
       "            frameborder=\"0\"\n",
       "            allowfullscreen\n",
       "        ></iframe>\n",
       "        "
      ],
      "text/plain": [
       "<IPython.lib.display.IFrame at 0x13e285e50>"
      ]
     },
     "execution_count": 10,
     "metadata": {},
     "output_type": "execute_result"
    }
   ],
   "source": [
    "multiselect = mk.gui.MultiSelect(choices=['0', '1', '2'], selected=[])\n",
    "mk.gui.Interface(component=mk.gui.ColumnLayout(components=[multiselect])).launch()"
   ]
  },
  {
   "cell_type": "code",
   "execution_count": 12,
   "metadata": {},
   "outputs": [
    {
     "data": {
      "text/plain": [
       "['0', '1', '2']"
      ]
     },
     "execution_count": 12,
     "metadata": {},
     "output_type": "execute_result"
    }
   ],
   "source": [
    "multiselect.selected"
   ]
  },
  {
   "cell_type": "code",
   "execution_count": 3,
   "metadata": {},
   "outputs": [],
   "source": [
    "original_data = mk.DataFrame({\"InvoiceNo\": [43,34,43, 65, 50], \"UnitPrice\": [403, 304, 23, 23, 193], \"UserId\": [0,1,2,3,4] })"
   ]
  },
  {
   "cell_type": "code",
   "execution_count": 5,
   "metadata": {},
   "outputs": [
    {
     "data": {
      "text/html": [
       "\n",
       "        <iframe\n",
       "            width=\"100%\"\n",
       "            height=\"1000px\"\n",
       "            src=\"http://localhost:7878?id=495f8cde5e1e45b0b67abdb8b4a9b8c7\"\n",
       "            frameborder=\"0\"\n",
       "            allowfullscreen\n",
       "        ></iframe>\n",
       "        "
      ],
      "text/plain": [
       "<IPython.lib.display.IFrame at 0x17dac79d0>"
      ]
     },
     "execution_count": 5,
     "metadata": {},
     "output_type": "execute_result"
    }
   ],
   "source": [
    "original_data.gui.table()"
   ]
  },
  {
   "cell_type": "code",
   "execution_count": null,
   "metadata": {},
   "outputs": [],
   "source": []
  }
 ],
 "metadata": {
  "kernelspec": {
   "display_name": "Python 3.8.13 ('main')",
   "language": "python",
   "name": "python3"
  },
  "language_info": {
   "codemirror_mode": {
    "name": "ipython",
    "version": 3
   },
   "file_extension": ".py",
   "mimetype": "text/x-python",
   "name": "python",
   "nbconvert_exporter": "python",
   "pygments_lexer": "ipython3",
   "version": "3.8.13"
  },
  "orig_nbformat": 4,
  "vscode": {
   "interpreter": {
    "hash": "ab18cddb8ae987f9fcad609bab256ee8c7e4643ba1abd7d069292f87b9e782b7"
   }
  }
 },
 "nbformat": 4,
 "nbformat_minor": 2
}
