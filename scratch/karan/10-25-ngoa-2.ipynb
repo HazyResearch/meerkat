{
 "cells": [
  {
   "cell_type": "code",
   "execution_count": 1,
   "id": "aabd86c9-cf88-4804-b7b1-74fc11553fe0",
   "metadata": {},
   "outputs": [],
   "source": [
    "%load_ext autoreload\n",
    "%autoreload 2"
   ]
  },
  {
   "cell_type": "code",
   "execution_count": 2,
   "id": "5e2ef4a9-0161-4754-bf4a-f7fefa21f91f",
   "metadata": {},
   "outputs": [],
   "source": [
    "import io\n",
    "import aiohttp\n",
    "import asyncio\n",
    "import requests\n",
    "from tqdm.auto import tqdm\n",
    "from glob import glob\n",
    "\n",
    "import meerkat as mk\n",
    "\n",
    "from PIL import Image"
   ]
  },
  {
   "cell_type": "code",
   "execution_count": 21,
   "id": "6d61d32a-6ae1-4e6e-a735-cc75758446f7",
   "metadata": {},
   "outputs": [
    {
     "name": "stdout",
     "output_type": "stream",
     "text": [
      "Meerkat interactive mode started! API on http://127.0.0.1:7860,         and GUI server on http://localhost:7861.\n"
     ]
    },
    {
     "data": {
      "text/plain": [
       "NetworkInfo(api=<fastapi.applications.FastAPI object at 0x7f25ee6a0d00>, api_server_port=7860, api_server=<meerkat.interactive.server.Server object at 0x7f25af86c7f0>, npm_server_port=7861, npm_process=<Popen: returncode: None args: ['npm', 'run', 'dev', '--', '--port', '7861',...>, api_server_name='127.0.0.1', npm_server_name='localhost', shareable_npm_server_name=None, shareable_api_server_name=None, npm_out_path='/tmp/tmpiv30qouv.out', npm_err_path='/tmp/tmpkovxcq0t.err')"
      ]
     },
     "execution_count": 21,
     "metadata": {},
     "output_type": "execute_result"
    }
   ],
   "source": [
    "mk.gui.start()"
   ]
  },
  {
   "cell_type": "code",
   "execution_count": 3,
   "id": "10c5f024-fe2a-4061-95a5-e14cb3a9ab2b",
   "metadata": {},
   "outputs": [],
   "source": [
    "# Load NGOA published images at 224 x 224 (rescaled to fit this size) and CLIP embeddings\n",
    "clip_dp = mk.DataPanel({'image_path': glob('/data/datasets/opendata/published_images_224/*')})\n",
    "clip_dp['uuid'] = clip_dp['image_path'].str.split(\"/\").str.get(-1).str.rstrip(\".jpg\")\n",
    "clip_dp['image_224'] = mk.ImageColumn.from_filepaths(clip_dp['image_path'])\n",
    "clip_dp = clip_dp.merge(mk.DataPanel.read('/data/datasets/opendata/ngoa_published_images_224_clip.mk/'), on='uuid')\n",
    "clip_dp = clip_dp.sort('uuid')"
   ]
  },
  {
   "cell_type": "code",
   "execution_count": 4,
   "id": "f8e41165-978d-40b4-895f-75641cadd955",
   "metadata": {},
   "outputs": [
    {
     "name": "stderr",
     "output_type": "stream",
     "text": [
      "/home/karan/meerkat/meerkat/datapanel.py:436: DtypeWarning: Columns (28) have mixed types. Specify dtype option on import or set low_memory=False.\n",
      "  return cls.from_pandas(pd.read_csv(filepath, *args, **kwargs))\n"
     ]
    },
    {
     "data": {
      "text/plain": [
       "{'objects': DataPanel(nrows: 137923, ncols: 29),\n",
       " 'published_images': DataPanel(nrows: 104505, ncols: 13),\n",
       " 'objects_constituents': DataPanel(nrows: 798353, ncols: 12),\n",
       " 'constituents': DataPanel(nrows: 26102, ncols: 13),\n",
       " 'constituents_text_entries': DataPanel(nrows: 6894, ncols: 4),\n",
       " 'locations': DataPanel(nrows: 1083, ncols: 6),\n",
       " 'objects_text_entries': DataPanel(nrows: 210562, ncols: 4)}"
      ]
     },
     "execution_count": 4,
     "metadata": {},
     "output_type": "execute_result"
    }
   ],
   "source": [
    "ngoa = mk.get(\n",
    "    'ngoa',\n",
    "    '/data/datasets/opendata/',\n",
    ")\n",
    "ngoa"
   ]
  },
  {
   "cell_type": "code",
   "execution_count": 5,
   "id": "5cb7b1d1-488b-4c38-b9b2-d34c79a95203",
   "metadata": {},
   "outputs": [],
   "source": [
    "published_images = ngoa['published_images']\n",
    "objects = ngoa['objects']\n",
    "objects_constituents = ngoa['objects_constituents']\n",
    "constituents = ngoa['constituents']\n",
    "constituents_text_entries = ngoa['constituents_text_entries']\n",
    "locations = ngoa['locations']\n",
    "objects_text_entries = ngoa['objects_text_entries']"
   ]
  },
  {
   "cell_type": "code",
   "execution_count": 6,
   "id": "005c309b-36ee-472f-92dc-a4020da9eb39",
   "metadata": {},
   "outputs": [],
   "source": [
    "# Multiple rows in published_images correspond to the same object"
   ]
  },
  {
   "cell_type": "code",
   "execution_count": 7,
   "id": "e3bb6d91-e47f-4780-9a87-80406ce10c9c",
   "metadata": {},
   "outputs": [
    {
     "data": {
      "text/plain": [
       "((137923,), (137923, 29))"
      ]
     },
     "execution_count": 7,
     "metadata": {},
     "output_type": "execute_result"
    }
   ],
   "source": [
    "objects['objectid'].unique().shape, objects.shape"
   ]
  },
  {
   "cell_type": "code",
   "execution_count": 10,
   "id": "60cec2c2-d72e-4154-a118-6a853e32b548",
   "metadata": {},
   "outputs": [],
   "source": [
    "# Merge the images and embeddings into the published_images table\n",
    "published_images = mk.merge(published_images, clip_dp, on=\"uuid\")"
   ]
  },
  {
   "cell_type": "code",
   "execution_count": 12,
   "id": "4dcd5423-e4ce-48e6-affc-5e6a409b7544",
   "metadata": {},
   "outputs": [
    {
     "data": {
      "text/plain": [
       "(104495, 14)"
      ]
     },
     "execution_count": 12,
     "metadata": {},
     "output_type": "execute_result"
    }
   ],
   "source": [
    "# Merge the published_images and objects tables, along with embeddings saved on disk for the text columns in the objects\n",
    "dp = mk.merge(published_images, objects, left_on='depictstmsobjectid', right_on='objectid')\n",
    "dp = dp['objectid', 'uuid', 'image_224', 'clip(image_224)', 'title', 'parentid', 'beginyear', 'endyear', 'medium', 'dimensions', 'inscription', 'attribution', 'creditline', 'visualbrowserclassification']"
   ]
  },
  {
   "cell_type": "code",
   "execution_count": 13,
   "id": "ef473869-b7e6-43fa-a0d3-3ffc65eb30a1",
   "metadata": {},
   "outputs": [],
   "source": [
    "dp = dp.merge(\n",
    "    mk.DataPanel.read(\n",
    "        '/data/datasets/opendata/ngoa_objects_images_clip_embs.mk/', \n",
    "    ),\n",
    "    on='objectid'\n",
    ")"
   ]
  },
  {
   "cell_type": "code",
   "execution_count": 37,
   "id": "1706b162-8160-4dcd-acc0-fb382dcd3f76",
   "metadata": {},
   "outputs": [
    {
     "data": {
      "text/html": [
       "<table border=\"1\" class=\"dataframe\">\n",
       "  <thead>\n",
       "    <tr style=\"text-align: right;\">\n",
       "      <th></th>\n",
       "      <th>objectid (PandasSeriesColumn)</th>\n",
       "      <th>uuid (PandasSeriesColumn)</th>\n",
       "      <th>image_224 (ImageColumn)</th>\n",
       "      <th>clip(image_224) (NumpyArrayColumn)</th>\n",
       "      <th>title (PandasSeriesColumn)</th>\n",
       "      <th>parentid (PandasSeriesColumn)</th>\n",
       "      <th>beginyear (PandasSeriesColumn)</th>\n",
       "      <th>endyear (PandasSeriesColumn)</th>\n",
       "      <th>medium (PandasSeriesColumn)</th>\n",
       "      <th>dimensions (PandasSeriesColumn)</th>\n",
       "      <th>inscription (PandasSeriesColumn)</th>\n",
       "      <th>attribution (PandasSeriesColumn)</th>\n",
       "      <th>creditline (PandasSeriesColumn)</th>\n",
       "      <th>visualbrowserclassification (PandasSeriesColumn)</th>\n",
       "      <th>clip(medium) (NumpyArrayColumn)</th>\n",
       "      <th>clip(dimensions) (NumpyArrayColumn)</th>\n",
       "      <th>clip(inscription) (NumpyArrayColumn)</th>\n",
       "      <th>clip(attribution) (NumpyArrayColumn)</th>\n",
       "      <th>clip(creditline) (NumpyArrayColumn)</th>\n",
       "      <th>clip(title) (NumpyArrayColumn)</th>\n",
       "      <th>_match_image_224_king (NumpyArrayColumn)</th>\n",
       "      <th>_match_image_224_a king in court (NumpyArrayColumn)</th>\n",
       "      <th>_match_image_224_royalty (NumpyArrayColumn)</th>\n",
       "      <th>_match_image_224_an aristocrat (NumpyArrayColumn)</th>\n",
       "    </tr>\n",
       "  </thead>\n",
       "  <tbody>\n",
       "    <tr>\n",
       "      <th>0</th>\n",
       "      <td>143346</td>\n",
       "      <td>953ed257-6e68-4bfd-88b2-528e872348bf</td>\n",
       "      <td><img src=\"data:image/jpeg;base64,/9j/4AAQSkZJRgABAQAAAQABAAD/2wBDAAgGBgcGBQgHBwcJCQgKDBQNDAsLDBkSEw8UHRofHh0aHBwgJC4nICIsIxwcKDcpLDAxNDQ0Hyc5PTgyPC4zNDL/2wBDAQgJCQwLDBgNDRgyIRwhMjIyMjIyMjIyMjIyMjIyMjIyMjIyMjIyMjIyMjIyMjIyMjIyMjIyMjIyMjIyMjIyMjL/wAARCABAAEADASIAAhEBAxEB/8QAHwAAAQUBAQEBAQEAAAAAAAAAAAECAwQFBgcICQoL/8QAtRAAAgEDAwIEAwUFBAQAAAF9AQIDAAQRBRIhMUEGE1FhByJxFDKBkaEII0KxwRVS0fAkM2JyggkKFhcYGRolJicoKSo0NTY3ODk6Q0RFRkdISUpTVFVWV1hZWmNkZWZnaGlqc3R1dnd4eXqDhIWGh4iJipKTlJWWl5iZmqKjpKWmp6ipqrKztLW2t7i5usLDxMXGx8jJytLT1NXW19jZ2uHi4+Tl5ufo6erx8vP09fb3+Pn6/8QAHwEAAwEBAQEBAQEBAQAAAAAAAAECAwQFBgcICQoL/8QAtREAAgECBAQDBAcFBAQAAQJ3AAECAxEEBSExBhJBUQdhcRMiMoEIFEKRobHBCSMzUvAVYnLRChYkNOEl8RcYGRomJygpKjU2Nzg5OkNERUZHSElKU1RVVldYWVpjZGVmZ2hpanN0dXZ3eHl6goOEhYaHiImKkpOUlZaXmJmaoqOkpaanqKmqsrO0tba3uLm6wsPExcbHyMnK0tPU1dbX2Nna4uPk5ebn6Onq8vP09fb3+Pn6/9oADAMBAAIRAxEAPwD0wHBxT80gGaztX1mHRoleVGk3Z+VTzXMbD9R12w0pc3Uu09lxyaxH+IekIu4rIRnHBGa4/V/FcOoX8wW6iNqzZFpf2u9EOOSGXJ96sWVpol8iA6bpczt3tb54T+Csavl7k3OvtPHmiXcqx+a0RboXAx+YrpVIdQQQQeQR3ryLxboNnZWds2kWbK6uzTM0298cY79Otdb4P8SR3en21pOnlzIuzcTw2P60mtLoaZ2FNJ5p34U0ipGDuscbO5AVRkk9q828VayLq7IUBVX5cg53V6LcDdayjHVT1Ge1eOkK15JFLy6uRyKuImYBhtnvmaSRUQtn5un6V01rPpj28lvnzIiNoZV3bT7djUd9pqeQHjUEryeOa3dINhpOnta6pBHd2l0ftCtEOI2xj2OSMflVtiRzklkPsU0ljPOCpwCX8sYx/d5znmsmO/u4iG85sg5BHHP4V0ut/wBiaq1zaafDNE0UJeMu5J8wEcEc8EZ75rnDYi0i0+VnLfast5ePugED9TmhCZ7R4Y1E6poFrPIcy7dr89xWua4fwhfpbXX9noCFJIPoDXcGsmtSkNxkYrhvEnh2OK9a8iyA/UAV3dZ+twefpcqDG8Dcv4UJ2Y2ebwSkSGFj04554q7YaUt9GbaWRFCuWQocgAHof8+tc9Hdn/hIY4XPLMY2B9T0/WukhP8AZ9nPKzKgDYJjG37xx+fIrRkow9PVrOa+EoRmQldwOep5x61RtJ7i51GCSCKKOO2JVZbjlF79O/XpWiI102zeNZFm3tkNjnGOM1zypcXV60cedryEk+metMR6BoXlHXrWK0beqDMsv99v4j+JzXoJrmPB+iiwsxM43SMo5I5FdOazluUgB5ps0YdD93IH8XSgGldfMjKkZBFSUedeKPBd5Pcf2ppcYaVSHZA2ORzx61jahr1i+gXtrdC6j1GVQEQxfKCGB659jXpWsW+pSaeI9GaK3ug4JeQZG3nI6HmuTn+HN7qb+ZqGpxK5GcQRcA/j2q0+5LXY89FxOyKrMcE/nXQ+HrYyTxqU+UtgMRxWu3wrnCkpqxLj7pMf/wBepdP8JeKtOcxxXdltbgSLlWHv901TaFZnosEQgt0jXooxSsahsUuYbCCO8nWe5VAJJVXaHbucVKRnvWRR/9k=\"></td>\n",
       "      <td>np.ndarray(shape=(512,))</td>\n",
       "      <td>Shorty George</td>\n",
       "      <td>NaN</td>\n",
       "      <td>1943.0</td>\n",
       "      <td>1943.0</td>\n",
       "      <td>lithograph</td>\n",
       "      <td>Image: 225 x 145 mm\\r\\nSheet: 260 x 203 mm</td>\n",
       "      <td>Inscribed: Within the print: lower right, NL; in pencil: lower left, \"Shorty George\" (within quotes) 4/14; bottom right Norman Lewis 11/20/43\\r\\n</td>\n",
       "      <td>Norman Lewis</td>\n",
       "      <td>Reba and Dave Williams Collection, Florian Carr Fund and Gift of the Print Research Foundation</td>\n",
       "      <td>print</td>\n",
       "      <td>np.ndarray(shape=(512,))</td>\n",
       "      <td>np.ndarray(shape=(512,))</td>\n",
       "      <td>np.ndarray(shape=(512,))</td>\n",
       "      <td>np.ndarray(shape=(512,))</td>\n",
       "      <td>np.ndarray(shape=(512,))</td>\n",
       "      <td>np.ndarray(shape=(512,))</td>\n",
       "      <td>27.546875</td>\n",
       "      <td>25.890625</td>\n",
       "      <td>23.890625</td>\n",
       "      <td>30.28125</td>\n",
       "    </tr>\n",
       "  </tbody>\n",
       "</table>"
      ],
      "text/plain": [
       "DataPanel(nrows: 1, ncols: 24)"
      ]
     },
     "execution_count": 37,
     "metadata": {},
     "output_type": "execute_result"
    }
   ],
   "source": [
    "dp.head(1)"
   ]
  },
  {
   "cell_type": "code",
   "execution_count": 16,
   "id": "75863970-f68b-4381-9883-1bc0523b110d",
   "metadata": {
    "tags": []
   },
   "outputs": [],
   "source": [
    "# # Code for embedding the text columns in the objects table\n",
    "# dp['medium'] = dp['medium'].astype('str')\n",
    "# mk.embed(dp, 'medium')\n",
    "# dp['dimensions'] = dp['dimensions'].astype('str')\n",
    "# mk.embed(dp, 'dimensions')\n",
    "# dp['inscription'] = dp['inscription'].astype('str')\n",
    "# mk.embed(dp, 'inscription')\n",
    "# dp['attribution'] = dp['attribution'].astype('str')\n",
    "# mk.embed(dp, 'attribution')\n",
    "# dp['creditline'] = dp['creditline'].astype('str')\n",
    "# mk.embed(dp, 'creditline')\n",
    "# dp['title'] = dp['title'].astype('str')\n",
    "# mk.embed(dp, 'title')"
   ]
  },
  {
   "cell_type": "code",
   "execution_count": 18,
   "id": "1012afa0-b05f-46b5-b727-c556fc24b55c",
   "metadata": {},
   "outputs": [],
   "source": [
    "# # Writing the embeddings to disk\n",
    "# dp_temp = dp['objectid', \n",
    "#    'medium', 'dimensions', 'inscription', 'attribution', 'creditline', 'title',\n",
    "#    'clip(medium)', 'clip(dimensions)', 'clip(inscription)', 'clip(attribution)', 'clip(creditline)', 'clip(title)']\n",
    "\n",
    "# dp_temp['objectid', 'clip(medium)', 'clip(dimensions)', 'clip(inscription)', 'clip(attribution)', 'clip(creditline)', 'clip(title)'].write('/data/datasets/opendata/ngoa_objects_images_clip_embs.mk/')"
   ]
  },
  {
   "cell_type": "code",
   "execution_count": 21,
   "id": "2206b792-0527-4463-82af-e01f1b1f31fc",
   "metadata": {},
   "outputs": [],
   "source": [
    "# Reading the embeddings from disk\n",
    "# mk.DataPanel.read('/data/datasets/opendata/ngoa_objects_images_clip_embs.mk/')"
   ]
  },
  {
   "cell_type": "code",
   "execution_count": 17,
   "id": "25696230-d130-47ab-bd3b-5314e91096db",
   "metadata": {},
   "outputs": [
    {
     "data": {
      "text/html": [
       "<table border=\"1\" class=\"dataframe\">\n",
       "  <thead>\n",
       "    <tr style=\"text-align: right;\">\n",
       "      <th></th>\n",
       "      <th>uuid (NumpyArrayColumn)</th>\n",
       "      <th>creditline (PandasSeriesColumn)</th>\n",
       "    </tr>\n",
       "  </thead>\n",
       "  <tbody>\n",
       "    <tr>\n",
       "      <th>0</th>\n",
       "      <td>18200</td>\n",
       "      <td>Index of American Design</td>\n",
       "    </tr>\n",
       "    <tr>\n",
       "      <th>1</th>\n",
       "      <td>17402</td>\n",
       "      <td>Rosenwald Collection</td>\n",
       "    </tr>\n",
       "    <tr>\n",
       "      <th>2</th>\n",
       "      <td>5295</td>\n",
       "      <td>Samuel H. Kress Collection</td>\n",
       "    </tr>\n",
       "    <tr>\n",
       "      <th>3</th>\n",
       "      <td>4465</td>\n",
       "      <td>Ailsa Mellon Bruce Fund</td>\n",
       "    </tr>\n",
       "    <tr>\n",
       "      <th>4</th>\n",
       "      <td>4328</td>\n",
       "      <td>Reba and Dave Williams Collection, Gift of Reba and Dave Williams</td>\n",
       "    </tr>\n",
       "    <tr>\n",
       "      <th>...</th>\n",
       "      <td>...</td>\n",
       "      <td>...</td>\n",
       "    </tr>\n",
       "    <tr>\n",
       "      <th>15</th>\n",
       "      <td>1163</td>\n",
       "      <td>Corcoran Collection (Gift of Dr. Armand Hammer)</td>\n",
       "    </tr>\n",
       "    <tr>\n",
       "      <th>16</th>\n",
       "      <td>1045</td>\n",
       "      <td>Gift of The Mark Rothko Foundation, Inc.</td>\n",
       "    </tr>\n",
       "    <tr>\n",
       "      <th>17</th>\n",
       "      <td>1024</td>\n",
       "      <td>Gift of Charles Isaacs and Gregory Leroy</td>\n",
       "    </tr>\n",
       "    <tr>\n",
       "      <th>18</th>\n",
       "      <td>1019</td>\n",
       "      <td>Gift of Dorothy J. and Benjamin B. Smith</td>\n",
       "    </tr>\n",
       "    <tr>\n",
       "      <th>19</th>\n",
       "      <td>997</td>\n",
       "      <td>Gift of Mrs. Max Beckmann</td>\n",
       "    </tr>\n",
       "  </tbody>\n",
       "</table>"
      ],
      "text/plain": [
       "DataPanel(nrows: 20, ncols: 2)"
      ]
     },
     "execution_count": 17,
     "metadata": {},
     "output_type": "execute_result"
    }
   ],
   "source": [
    "dp.groupby('creditline')['uuid'].count().sort(by='uuid', ascending=False).head(20)"
   ]
  },
  {
   "cell_type": "code",
   "execution_count": 18,
   "id": "ff1d6a48-a14c-47d4-a244-61e0e1018d43",
   "metadata": {},
   "outputs": [
    {
     "data": {
      "text/html": [
       "<table border=\"1\" class=\"dataframe\">\n",
       "  <thead>\n",
       "    <tr style=\"text-align: right;\">\n",
       "      <th></th>\n",
       "      <th>uuid (NumpyArrayColumn)</th>\n",
       "      <th>beginyear (NumpyArrayColumn)</th>\n",
       "    </tr>\n",
       "  </thead>\n",
       "  <tbody>\n",
       "    <tr>\n",
       "      <th>0</th>\n",
       "      <td>5054</td>\n",
       "      <td>1936.0</td>\n",
       "    </tr>\n",
       "    <tr>\n",
       "      <th>1</th>\n",
       "      <td>4496</td>\n",
       "      <td>1935.0</td>\n",
       "    </tr>\n",
       "    <tr>\n",
       "      <th>2</th>\n",
       "      <td>4010</td>\n",
       "      <td>1937.0</td>\n",
       "    </tr>\n",
       "    <tr>\n",
       "      <th>3</th>\n",
       "      <td>3467</td>\n",
       "      <td>1796.0</td>\n",
       "    </tr>\n",
       "    <tr>\n",
       "      <th>4</th>\n",
       "      <td>2837</td>\n",
       "      <td>1938.0</td>\n",
       "    </tr>\n",
       "    <tr>\n",
       "      <th>...</th>\n",
       "      <td>...</td>\n",
       "      <td>...</td>\n",
       "    </tr>\n",
       "    <tr>\n",
       "      <th>15</th>\n",
       "      <td>922</td>\n",
       "      <td>1884.0</td>\n",
       "    </tr>\n",
       "    <tr>\n",
       "      <th>16</th>\n",
       "      <td>853</td>\n",
       "      <td>1967.0</td>\n",
       "    </tr>\n",
       "    <tr>\n",
       "      <th>17</th>\n",
       "      <td>828</td>\n",
       "      <td>1903.0</td>\n",
       "    </tr>\n",
       "    <tr>\n",
       "      <th>18</th>\n",
       "      <td>817</td>\n",
       "      <td>1977.0</td>\n",
       "    </tr>\n",
       "    <tr>\n",
       "      <th>19</th>\n",
       "      <td>813</td>\n",
       "      <td>1969.0</td>\n",
       "    </tr>\n",
       "  </tbody>\n",
       "</table>"
      ],
      "text/plain": [
       "DataPanel(nrows: 20, ncols: 2)"
      ]
     },
     "execution_count": 18,
     "metadata": {},
     "output_type": "execute_result"
    }
   ],
   "source": [
    "dp.groupby(by='beginyear')['uuid'].count().sort(by='uuid', ascending=False).head(20)"
   ]
  },
  {
   "cell_type": "code",
   "execution_count": 19,
   "id": "9873940f-3f32-4d09-b48e-289c9bb0f53e",
   "metadata": {},
   "outputs": [
    {
     "data": {
      "text/html": [
       "<table border=\"1\" class=\"dataframe\">\n",
       "  <thead>\n",
       "    <tr style=\"text-align: right;\">\n",
       "      <th></th>\n",
       "      <th>uuid (NumpyArrayColumn)</th>\n",
       "      <th>attribution (PandasSeriesColumn)</th>\n",
       "    </tr>\n",
       "  </thead>\n",
       "  <tbody>\n",
       "    <tr>\n",
       "      <th>0</th>\n",
       "      <td>3364</td>\n",
       "      <td>Various Artists, including William Blake, after John Gabriel Stedman</td>\n",
       "    </tr>\n",
       "    <tr>\n",
       "      <th>1</th>\n",
       "      <td>2342</td>\n",
       "      <td>Honoré Daumier</td>\n",
       "    </tr>\n",
       "    <tr>\n",
       "      <th>2</th>\n",
       "      <td>1698</td>\n",
       "      <td>Carrie Mae Weems</td>\n",
       "    </tr>\n",
       "    <tr>\n",
       "      <th>3</th>\n",
       "      <td>1672</td>\n",
       "      <td>Jasper Johns</td>\n",
       "    </tr>\n",
       "    <tr>\n",
       "      <th>4</th>\n",
       "      <td>1613</td>\n",
       "      <td>Alfred Stieglitz</td>\n",
       "    </tr>\n",
       "    <tr>\n",
       "      <th>...</th>\n",
       "      <td>...</td>\n",
       "      <td>...</td>\n",
       "    </tr>\n",
       "    <tr>\n",
       "      <th>45</th>\n",
       "      <td>269</td>\n",
       "      <td>Pierre Bonnard</td>\n",
       "    </tr>\n",
       "    <tr>\n",
       "      <th>46</th>\n",
       "      <td>269</td>\n",
       "      <td>Sir Muirhead Bone</td>\n",
       "    </tr>\n",
       "    <tr>\n",
       "      <th>47</th>\n",
       "      <td>262</td>\n",
       "      <td>Marc Chagall</td>\n",
       "    </tr>\n",
       "    <tr>\n",
       "      <th>48</th>\n",
       "      <td>257</td>\n",
       "      <td>Susan Meiselas</td>\n",
       "    </tr>\n",
       "    <tr>\n",
       "      <th>49</th>\n",
       "      <td>257</td>\n",
       "      <td>Deborah Luster</td>\n",
       "    </tr>\n",
       "  </tbody>\n",
       "</table>"
      ],
      "text/plain": [
       "DataPanel(nrows: 50, ncols: 2)"
      ]
     },
     "execution_count": 19,
     "metadata": {},
     "output_type": "execute_result"
    }
   ],
   "source": [
    "dp.groupby('attribution')['uuid'].count().sort(by='uuid', ascending=False).head(50)"
   ]
  },
  {
   "cell_type": "code",
   "execution_count": 20,
   "id": "a5f538e8-86ba-43b2-9e65-44beece991b5",
   "metadata": {},
   "outputs": [
    {
     "data": {
      "text/html": [
       "<table border=\"1\" class=\"dataframe\">\n",
       "  <thead>\n",
       "    <tr style=\"text-align: right;\">\n",
       "      <th></th>\n",
       "      <th>uuid (NumpyArrayColumn)</th>\n",
       "      <th>visualbrowserclassification (PandasSeriesColumn)</th>\n",
       "    </tr>\n",
       "  </thead>\n",
       "  <tbody>\n",
       "    <tr>\n",
       "      <th>0</th>\n",
       "      <td>46249</td>\n",
       "      <td>print</td>\n",
       "    </tr>\n",
       "    <tr>\n",
       "      <th>1</th>\n",
       "      <td>32304</td>\n",
       "      <td>drawing</td>\n",
       "    </tr>\n",
       "    <tr>\n",
       "      <th>2</th>\n",
       "      <td>15440</td>\n",
       "      <td>photograph</td>\n",
       "    </tr>\n",
       "    <tr>\n",
       "      <th>3</th>\n",
       "      <td>13798</td>\n",
       "      <td>sculpture</td>\n",
       "    </tr>\n",
       "    <tr>\n",
       "      <th>4</th>\n",
       "      <td>7962</td>\n",
       "      <td>volume</td>\n",
       "    </tr>\n",
       "    <tr>\n",
       "      <th>5</th>\n",
       "      <td>3830</td>\n",
       "      <td>painting</td>\n",
       "    </tr>\n",
       "    <tr>\n",
       "      <th>6</th>\n",
       "      <td>1632</td>\n",
       "      <td>decorative art</td>\n",
       "    </tr>\n",
       "    <tr>\n",
       "      <th>7</th>\n",
       "      <td>1554</td>\n",
       "      <td>portfolio</td>\n",
       "    </tr>\n",
       "    <tr>\n",
       "      <th>8</th>\n",
       "      <td>69</td>\n",
       "      <td>technical material</td>\n",
       "    </tr>\n",
       "    <tr>\n",
       "      <th>9</th>\n",
       "      <td>5</td>\n",
       "      <td>new media</td>\n",
       "    </tr>\n",
       "  </tbody>\n",
       "</table>"
      ],
      "text/plain": [
       "DataPanel(nrows: 10, ncols: 2)"
      ]
     },
     "execution_count": 20,
     "metadata": {},
     "output_type": "execute_result"
    }
   ],
   "source": [
    "dp.groupby('visualbrowserclassification')['uuid'].count().sort(by='uuid', ascending=False).head(50)"
   ]
  },
  {
   "cell_type": "code",
   "execution_count": 23,
   "id": "5cce9ffe-0197-410a-aeb8-e44edffd2d2a",
   "metadata": {},
   "outputs": [],
   "source": [
    "def match_and_sort(dp, query, input):\n",
    "    return mk.match(dp, query, input).sort(f'_match_{input}_{query}', ascending=False)"
   ]
  },
  {
   "cell_type": "code",
   "execution_count": 31,
   "id": "c00dfc8c-5b5d-46c2-808e-c79e5487c13b",
   "metadata": {},
   "outputs": [],
   "source": [
    "dp = match_and_sort(dp, \"A selfie\", \"image_224\")"
   ]
  },
  {
   "cell_type": "code",
   "execution_count": 20,
   "id": "e28f7efd-e02a-421d-9e25-5df13bd7b0ec",
   "metadata": {},
   "outputs": [
    {
     "data": {
      "text/html": [
       "\n",
       "        <iframe\n",
       "            width=\"100%\"\n",
       "            height=\"1000\"\n",
       "            src=\"http://localhost:7861/interface?id=f41b722f1fc44a03a9fde8bd4953f262\"\n",
       "            frameborder=\"0\"\n",
       "            allowfullscreen\n",
       "            \n",
       "        ></iframe>\n",
       "        "
      ],
      "text/plain": [
       "<IPython.lib.display.IFrame at 0x7f6fd35d20a0>"
      ]
     },
     "execution_count": 20,
     "metadata": {},
     "output_type": "execute_result"
    }
   ],
   "source": [
    "dp.gui.gallery('image_224', tag_columns=['inscription'])"
   ]
  },
  {
   "cell_type": "code",
   "execution_count": 32,
   "id": "f0633840-2e27-4747-8e45-932c2fd70768",
   "metadata": {},
   "outputs": [
    {
     "data": {
      "text/html": [
       "<table border=\"1\" class=\"dataframe\">\n",
       "  <thead>\n",
       "    <tr style=\"text-align: right;\">\n",
       "      <th></th>\n",
       "      <th>objectid (PandasSeriesColumn)</th>\n",
       "      <th>uuid (PandasSeriesColumn)</th>\n",
       "      <th>image_224 (ImageColumn)</th>\n",
       "      <th>clip(image_224) (NumpyArrayColumn)</th>\n",
       "      <th>parentid (PandasSeriesColumn)</th>\n",
       "      <th>beginyear (PandasSeriesColumn)</th>\n",
       "      <th>endyear (PandasSeriesColumn)</th>\n",
       "      <th>medium (PandasSeriesColumn)</th>\n",
       "      <th>dimensions (PandasSeriesColumn)</th>\n",
       "      <th>inscription (PandasSeriesColumn)</th>\n",
       "      <th>attribution (PandasSeriesColumn)</th>\n",
       "      <th>creditline (PandasSeriesColumn)</th>\n",
       "      <th>visualbrowserclassification (PandasSeriesColumn)</th>\n",
       "      <th>clip(medium) (NumpyArrayColumn)</th>\n",
       "      <th>clip(dimensions) (NumpyArrayColumn)</th>\n",
       "      <th>clip(inscription) (NumpyArrayColumn)</th>\n",
       "      <th>clip(attribution) (NumpyArrayColumn)</th>\n",
       "      <th>clip(creditline) (NumpyArrayColumn)</th>\n",
       "      <th>_match_image_224_A selfie (NumpyArrayColumn)</th>\n",
       "    </tr>\n",
       "  </thead>\n",
       "  <tbody>\n",
       "    <tr>\n",
       "      <th>0</th>\n",
       "      <td>71457</td>\n",
       "      <td>0003d4e4-d7fd-4835-8d27-1e9e20672e39</td>\n",
       "      <td><img src=\"data:image/jpeg;base64,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\"></td>\n",
       "      <td>np.ndarray(shape=(512,))</td>\n",
       "      <td>NaN</td>\n",
       "      <td>1989.0</td>\n",
       "      <td>1989.0</td>\n",
       "      <td>bronze</td>\n",
       "      <td>overall: 165.1 x 195.6 x 158.7 cm (65 x 77 x 62 1/2 in.) gross weight: 400 lb.</td>\n",
       "      <td>NaN</td>\n",
       "      <td>Joel Shapiro</td>\n",
       "      <td>Gift of the Collectors Committee</td>\n",
       "      <td>sculpture</td>\n",
       "      <td>np.ndarray(shape=(512,))</td>\n",
       "      <td>np.ndarray(shape=(512,))</td>\n",
       "      <td>np.ndarray(shape=(512,))</td>\n",
       "      <td>np.ndarray(shape=(512,))</td>\n",
       "      <td>np.ndarray(shape=(512,))</td>\n",
       "      <td>19.28125</td>\n",
       "    </tr>\n",
       "    <tr>\n",
       "      <th>1</th>\n",
       "      <td>41526</td>\n",
       "      <td>0009af76-adc6-4656-aaf8-3c63e51c5085</td>\n",
       "      <td><img src=\"data:image/jpeg;base64,/9j/4AAQSkZJRgABAQAAAQABAAD/2wBDAAgGBgcGBQgHBwcJCQgKDBQNDAsLDBkSEw8UHRofHh0aHBwgJC4nICIsIxwcKDcpLDAxNDQ0Hyc5PTgyPC4zNDL/2wBDAQgJCQwLDBgNDRgyIRwhMjIyMjIyMjIyMjIyMjIyMjIyMjIyMjIyMjIyMjIyMjIyMjIyMjIyMjIyMjIyMjIyMjL/wAARCABAAEADASIAAhEBAxEB/8QAHwAAAQUBAQEBAQEAAAAAAAAAAAECAwQFBgcICQoL/8QAtRAAAgEDAwIEAwUFBAQAAAF9AQIDAAQRBRIhMUEGE1FhByJxFDKBkaEII0KxwRVS0fAkM2JyggkKFhcYGRolJicoKSo0NTY3ODk6Q0RFRkdISUpTVFVWV1hZWmNkZWZnaGlqc3R1dnd4eXqDhIWGh4iJipKTlJWWl5iZmqKjpKWmp6ipqrKztLW2t7i5usLDxMXGx8jJytLT1NXW19jZ2uHi4+Tl5ufo6erx8vP09fb3+Pn6/8QAHwEAAwEBAQEBAQEBAQAAAAAAAAECAwQFBgcICQoL/8QAtREAAgECBAQDBAcFBAQAAQJ3AAECAxEEBSExBhJBUQdhcRMiMoEIFEKRobHBCSMzUvAVYnLRChYkNOEl8RcYGRomJygpKjU2Nzg5OkNERUZHSElKU1RVVldYWVpjZGVmZ2hpanN0dXZ3eHl6goOEhYaHiImKkpOUlZaXmJmaoqOkpaanqKmqsrO0tba3uLm6wsPExcbHyMnK0tPU1dbX2Nna4uPk5ebn6Onq8vP09fb3+Pn6/9oADAMBAAIRAxEAPwDq/LpPLq1spNlAFXy6PKqw+yNC7sFUDJZjgAVz0ni2yNyYrOM3IXguG2jPtxyPekNK5seVSeXUWm6nDqe9FUxzR4LIeeD0IPetDZQIpmKk8qrhSmlKAJt9G8VXL00vQB5147nun1xraS6LW5VSkWcKgxySO568+9ULC3isx9oMy+WRhsEAYrsPGVvFLo/2oqnnW7Da56hTwR/I/hXnU9uzoTHE8hkznANZvc0ibdzqZgdLmO4UIxDKqNyBnjpznrXWeD9U1TVDc3F1uFkMCHzByzd8H0FeTz280SASrL5YGfun/PWvWPBWrRal4chWKFovsoEDA8gkDqDTitQk9DqS4ppeoi1MLVZmNLUxnABJIAHUk03cK4O7v7y5uZ7W7v50CkqVQhBj6AdKTdhpXKmua7Lf+IAikyWcBIRFwQeMbvc88Uj6ncWxV7WyIkUdRHjC+uOfzqC3isLa6eXeiQJwZOSXb0A/rVS81qe4uojFPIgTGCOOBx/KoepotB2oavdXTmWWylY4GNqFRWl4Y8XXVlLb2NxbFLF5NqMY8FMn1Hue9UbrXri6iWOcxMqnd9wgk/h/hVu01zS/s5WdZlG7cy7R2HrSQSR6cTTGavNo/G1015BFZSSOJGVBHOmQQTjOeor0QtWidzNqxFIJFHQ1554imnXXZ5ltzyoT514xjrXrBj9qryW4ZjkA0wR4wjSsVHlb3x0I5HvSmAlX3SxIyEZUMB+VexGziPWJD9VFRf2XZnraQH/tmv8AhU8o+Y8fmgjijU7SGPGSR/KqVz8sQThmfoM52j3r2v8Asmx/587f/v0v+FOGl2i8pawqfaMD+lHKHMeUeDz5uvxMUHlxgtkr6A4/WvT1ZmGQKuxWqRt8qKPoKs+WPSqFc//Z\"></td>\n",
       "      <td>np.ndarray(shape=(512,))</td>\n",
       "      <td>NaN</td>\n",
       "      <td>1832.0</td>\n",
       "      <td>1835.0</td>\n",
       "      <td>bronze</td>\n",
       "      <td>overall: 14.6 x 13 x 9.8 cm (5 3/4 x 5 1/8 x 3 7/8 in.)</td>\n",
       "      <td>stamped in wax positive on rear lower center, in incised circle: M.L.G [Maurice Le Garrec]; cold-stamped below that: BRONZE; cold-stamped inside, front right, in incised circle: 23/25</td>\n",
       "      <td>Honoré Daumier</td>\n",
       "      <td>Rosenwald Collection</td>\n",
       "      <td>sculpture</td>\n",
       "      <td>np.ndarray(shape=(512,))</td>\n",
       "      <td>np.ndarray(shape=(512,))</td>\n",
       "      <td>np.ndarray(shape=(512,))</td>\n",
       "      <td>np.ndarray(shape=(512,))</td>\n",
       "      <td>np.ndarray(shape=(512,))</td>\n",
       "      <td>21.125</td>\n",
       "    </tr>\n",
       "    <tr>\n",
       "      <th>2</th>\n",
       "      <td>41526</td>\n",
       "      <td>0009af76-adc6-4656-aaf8-3c63e51c5085</td>\n",
       "      <td><img src=\"data:image/jpeg;base64,/9j/4AAQSkZJRgABAQAAAQABAAD/2wBDAAgGBgcGBQgHBwcJCQgKDBQNDAsLDBkSEw8UHRofHh0aHBwgJC4nICIsIxwcKDcpLDAxNDQ0Hyc5PTgyPC4zNDL/2wBDAQgJCQwLDBgNDRgyIRwhMjIyMjIyMjIyMjIyMjIyMjIyMjIyMjIyMjIyMjIyMjIyMjIyMjIyMjIyMjIyMjIyMjL/wAARCABAAEADASIAAhEBAxEB/8QAHwAAAQUBAQEBAQEAAAAAAAAAAAECAwQFBgcICQoL/8QAtRAAAgEDAwIEAwUFBAQAAAF9AQIDAAQRBRIhMUEGE1FhByJxFDKBkaEII0KxwRVS0fAkM2JyggkKFhcYGRolJicoKSo0NTY3ODk6Q0RFRkdISUpTVFVWV1hZWmNkZWZnaGlqc3R1dnd4eXqDhIWGh4iJipKTlJWWl5iZmqKjpKWmp6ipqrKztLW2t7i5usLDxMXGx8jJytLT1NXW19jZ2uHi4+Tl5ufo6erx8vP09fb3+Pn6/8QAHwEAAwEBAQEBAQEBAQAAAAAAAAECAwQFBgcICQoL/8QAtREAAgECBAQDBAcFBAQAAQJ3AAECAxEEBSExBhJBUQdhcRMiMoEIFEKRobHBCSMzUvAVYnLRChYkNOEl8RcYGRomJygpKjU2Nzg5OkNERUZHSElKU1RVVldYWVpjZGVmZ2hpanN0dXZ3eHl6goOEhYaHiImKkpOUlZaXmJmaoqOkpaanqKmqsrO0tba3uLm6wsPExcbHyMnK0tPU1dbX2Nna4uPk5ebn6Onq8vP09fb3+Pn6/9oADAMBAAIRAxEAPwDq/LpPLq1spNlAFXy6PKqw+yNC7sFUDJZjgAVz0ni2yNyYrOM3IXguG2jPtxyPekNK5seVSeXUWm6nDqe9FUxzR4LIeeD0IPetDZQIpmKk8qrhSmlKAJt9G8VXL00vQB5147nun1xraS6LW5VSkWcKgxySO568+9ULC3isx9oMy+WRhsEAYrsPGVvFLo/2oqnnW7Da56hTwR/I/hXnU9uzoTHE8hkznANZvc0ibdzqZgdLmO4UIxDKqNyBnjpznrXWeD9U1TVDc3F1uFkMCHzByzd8H0FeTz280SASrL5YGfun/PWvWPBWrRal4chWKFovsoEDA8gkDqDTitQk9DqS4ppeoi1MLVZmNLUxnABJIAHUk03cK4O7v7y5uZ7W7v50CkqVQhBj6AdKTdhpXKmua7Lf+IAikyWcBIRFwQeMbvc88Uj6ncWxV7WyIkUdRHjC+uOfzqC3isLa6eXeiQJwZOSXb0A/rVS81qe4uojFPIgTGCOOBx/KoepotB2oavdXTmWWylY4GNqFRWl4Y8XXVlLb2NxbFLF5NqMY8FMn1Hue9UbrXri6iWOcxMqnd9wgk/h/hVu01zS/s5WdZlG7cy7R2HrSQSR6cTTGavNo/G1015BFZSSOJGVBHOmQQTjOeor0QtWidzNqxFIJFHQ1554imnXXZ5ltzyoT514xjrXrBj9qryW4ZjkA0wR4wjSsVHlb3x0I5HvSmAlX3SxIyEZUMB+VexGziPWJD9VFRf2XZnraQH/tmv8AhU8o+Y8fmgjijU7SGPGSR/KqVz8sQThmfoM52j3r2v8Asmx/587f/v0v+FOGl2i8pawqfaMD+lHKHMeUeDz5uvxMUHlxgtkr6A4/WvT1ZmGQKuxWqRt8qKPoKs+WPSqFc//Z\"></td>\n",
       "      <td>np.ndarray(shape=(512,))</td>\n",
       "      <td>NaN</td>\n",
       "      <td>1832.0</td>\n",
       "      <td>1835.0</td>\n",
       "      <td>bronze</td>\n",
       "      <td>overall: 14.6 x 13 x 9.8 cm (5 3/4 x 5 1/8 x 3 7/8 in.)</td>\n",
       "      <td>stamped in wax positive on rear lower center, in incised circle: M.L.G [Maurice Le Garrec]; cold-stamped below that: BRONZE; cold-stamped inside, front right, in incised circle: 23/25</td>\n",
       "      <td>Honoré Daumier</td>\n",
       "      <td>Rosenwald Collection</td>\n",
       "      <td>sculpture</td>\n",
       "      <td>np.ndarray(shape=(512,))</td>\n",
       "      <td>np.ndarray(shape=(512,))</td>\n",
       "      <td>np.ndarray(shape=(512,))</td>\n",
       "      <td>np.ndarray(shape=(512,))</td>\n",
       "      <td>np.ndarray(shape=(512,))</td>\n",
       "      <td>21.125</td>\n",
       "    </tr>\n",
       "    <tr>\n",
       "      <th>3</th>\n",
       "      <td>41526</td>\n",
       "      <td>6a8fa1ff-5dc0-4149-8a55-5a8bc22881fc</td>\n",
       "      <td><img src=\"data:image/jpeg;base64,/9j/4AAQSkZJRgABAQAAAQABAAD/2wBDAAgGBgcGBQgHBwcJCQgKDBQNDAsLDBkSEw8UHRofHh0aHBwgJC4nICIsIxwcKDcpLDAxNDQ0Hyc5PTgyPC4zNDL/2wBDAQgJCQwLDBgNDRgyIRwhMjIyMjIyMjIyMjIyMjIyMjIyMjIyMjIyMjIyMjIyMjIyMjIyMjIyMjIyMjIyMjIyMjL/wAARCABAAEADASIAAhEBAxEB/8QAHwAAAQUBAQEBAQEAAAAAAAAAAAECAwQFBgcICQoL/8QAtRAAAgEDAwIEAwUFBAQAAAF9AQIDAAQRBRIhMUEGE1FhByJxFDKBkaEII0KxwRVS0fAkM2JyggkKFhcYGRolJicoKSo0NTY3ODk6Q0RFRkdISUpTVFVWV1hZWmNkZWZnaGlqc3R1dnd4eXqDhIWGh4iJipKTlJWWl5iZmqKjpKWmp6ipqrKztLW2t7i5usLDxMXGx8jJytLT1NXW19jZ2uHi4+Tl5ufo6erx8vP09fb3+Pn6/8QAHwEAAwEBAQEBAQEBAQAAAAAAAAECAwQFBgcICQoL/8QAtREAAgECBAQDBAcFBAQAAQJ3AAECAxEEBSExBhJBUQdhcRMiMoEIFEKRobHBCSMzUvAVYnLRChYkNOEl8RcYGRomJygpKjU2Nzg5OkNERUZHSElKU1RVVldYWVpjZGVmZ2hpanN0dXZ3eHl6goOEhYaHiImKkpOUlZaXmJmaoqOkpaanqKmqsrO0tba3uLm6wsPExcbHyMnK0tPU1dbX2Nna4uPk5ebn6Onq8vP09fb3+Pn6/9oADAMBAAIRAxEAPwDrAlLsqULS7aAIdlLsqbbWRrOvW2kbIztluZOEi34/M9qANHZSbKw9P8XWt3O0c8JtwoGX37lGeOeOK6LAIBByD0IpJ3G1Yg2UhSrG2k20xEoFLijNLmgDnfFq6gmniezLtCmfPjQ4OP72epA9K8+tIor1JGursxyvuYYYfdHb/wCvXoXi/Vv7N0doljLSXW6JTjhQRyfc+grzOeb7OCkQHlsPlLryo9TjqfbpWctzSOws15bWk37lml3Lgup6Y4x3BB685rqvAWrXd3qU1oXYWqQeYI5H3HJPG30HWudd47vTXhR1TphETbvI77j29q7rwElpD4XiW2ZGk3t55UYIfOcH6DFEdwlsdPikIozQTWhmLkVXu9Qs7CPfeXUMCHoZHC5+nrTt9eM+KiZPGV+jbmPmjG76cY9qTdhpXNTxnqN9qwSdZXXTzJiGMcZwcBiO5PJ5rnFSYELM0kTA8ruxzjOeemfaup1e2mECRRqSlsiZfP8AEFyePwxWB/Yy6nqrSK+YxGrFyTkn0/pWa8zR+RQZLy6kVpiywA/Lgg5GcdcV1Hgm+k0jVENxIyWd6XUs3CbhjB/XFUptNjtlQI7b4490pI3AAdPfrgVbv18iys4JkHlRQbXVvU4Of1/SjqHQ9UjlSRcxurj1Ug07NeSeHLYxeJ7OKMy+Yj+Y+1iFVduSD616n5tWnczasStayY+XrXn/AIm06f8A4SSO7l02Vo0UAyouQ+OmcdMV6x5VRND82abQI8rtmuttwXjldJW5whbHGOePr0rMtZTYK8fkyNOCVjXYQMdixr2fyvc03yRS5R3PGr1ktNOTe7SyyyI0rqM5HUjA7DpVa61KO++eK3udqP5mxoyzO3TtxgYr28w5GKb5A9aOUOY8u8H2WpyarPdtYyLFNGQJZAVxyOMGu7Szm/ixmthYcHNSeVTQrn//2Q==\"></td>\n",
       "      <td>np.ndarray(shape=(512,))</td>\n",
       "      <td>NaN</td>\n",
       "      <td>1832.0</td>\n",
       "      <td>1835.0</td>\n",
       "      <td>bronze</td>\n",
       "      <td>overall: 14.6 x 13 x 9.8 cm (5 3/4 x 5 1/8 x 3 7/8 in.)</td>\n",
       "      <td>stamped in wax positive on rear lower center, in incised circle: M.L.G [Maurice Le Garrec]; cold-stamped below that: BRONZE; cold-stamped inside, front right, in incised circle: 23/25</td>\n",
       "      <td>Honoré Daumier</td>\n",
       "      <td>Rosenwald Collection</td>\n",
       "      <td>sculpture</td>\n",
       "      <td>np.ndarray(shape=(512,))</td>\n",
       "      <td>np.ndarray(shape=(512,))</td>\n",
       "      <td>np.ndarray(shape=(512,))</td>\n",
       "      <td>np.ndarray(shape=(512,))</td>\n",
       "      <td>np.ndarray(shape=(512,))</td>\n",
       "      <td>20.1875</td>\n",
       "    </tr>\n",
       "    <tr>\n",
       "      <th>4</th>\n",
       "      <td>41526</td>\n",
       "      <td>6a8fa1ff-5dc0-4149-8a55-5a8bc22881fc</td>\n",
       "      <td><img src=\"data:image/jpeg;base64,/9j/4AAQSkZJRgABAQAAAQABAAD/2wBDAAgGBgcGBQgHBwcJCQgKDBQNDAsLDBkSEw8UHRofHh0aHBwgJC4nICIsIxwcKDcpLDAxNDQ0Hyc5PTgyPC4zNDL/2wBDAQgJCQwLDBgNDRgyIRwhMjIyMjIyMjIyMjIyMjIyMjIyMjIyMjIyMjIyMjIyMjIyMjIyMjIyMjIyMjIyMjIyMjL/wAARCABAAEADASIAAhEBAxEB/8QAHwAAAQUBAQEBAQEAAAAAAAAAAAECAwQFBgcICQoL/8QAtRAAAgEDAwIEAwUFBAQAAAF9AQIDAAQRBRIhMUEGE1FhByJxFDKBkaEII0KxwRVS0fAkM2JyggkKFhcYGRolJicoKSo0NTY3ODk6Q0RFRkdISUpTVFVWV1hZWmNkZWZnaGlqc3R1dnd4eXqDhIWGh4iJipKTlJWWl5iZmqKjpKWmp6ipqrKztLW2t7i5usLDxMXGx8jJytLT1NXW19jZ2uHi4+Tl5ufo6erx8vP09fb3+Pn6/8QAHwEAAwEBAQEBAQEBAQAAAAAAAAECAwQFBgcICQoL/8QAtREAAgECBAQDBAcFBAQAAQJ3AAECAxEEBSExBhJBUQdhcRMiMoEIFEKRobHBCSMzUvAVYnLRChYkNOEl8RcYGRomJygpKjU2Nzg5OkNERUZHSElKU1RVVldYWVpjZGVmZ2hpanN0dXZ3eHl6goOEhYaHiImKkpOUlZaXmJmaoqOkpaanqKmqsrO0tba3uLm6wsPExcbHyMnK0tPU1dbX2Nna4uPk5ebn6Onq8vP09fb3+Pn6/9oADAMBAAIRAxEAPwDrAlLsqULS7aAIdlLsqbbWRrOvW2kbIztluZOEi34/M9qANHZSbKw9P8XWt3O0c8JtwoGX37lGeOeOK6LAIBByD0IpJ3G1Yg2UhSrG2k20xEoFLijNLmgDnfFq6gmniezLtCmfPjQ4OP72epA9K8+tIor1JGursxyvuYYYfdHb/wCvXoXi/Vv7N0doljLSXW6JTjhQRyfc+grzOeb7OCkQHlsPlLryo9TjqfbpWctzSOws15bWk37lml3Lgup6Y4x3BB685rqvAWrXd3qU1oXYWqQeYI5H3HJPG30HWudd47vTXhR1TphETbvI77j29q7rwElpD4XiW2ZGk3t55UYIfOcH6DFEdwlsdPikIozQTWhmLkVXu9Qs7CPfeXUMCHoZHC5+nrTt9eM+KiZPGV+jbmPmjG76cY9qTdhpXNTxnqN9qwSdZXXTzJiGMcZwcBiO5PJ5rnFSYELM0kTA8ruxzjOeemfaup1e2mECRRqSlsiZfP8AEFyePwxWB/Yy6nqrSK+YxGrFyTkn0/pWa8zR+RQZLy6kVpiywA/Lgg5GcdcV1Hgm+k0jVENxIyWd6XUs3CbhjB/XFUptNjtlQI7b4490pI3AAdPfrgVbv18iys4JkHlRQbXVvU4Of1/SjqHQ9UjlSRcxurj1Ug07NeSeHLYxeJ7OKMy+Yj+Y+1iFVduSD616n5tWnczasStayY+XrXn/AIm06f8A4SSO7l02Vo0UAyouQ+OmcdMV6x5VRND82abQI8rtmuttwXjldJW5whbHGOePr0rMtZTYK8fkyNOCVjXYQMdixr2fyvc03yRS5R3PGr1ktNOTe7SyyyI0rqM5HUjA7DpVa61KO++eK3udqP5mxoyzO3TtxgYr28w5GKb5A9aOUOY8u8H2WpyarPdtYyLFNGQJZAVxyOMGu7Szm/ixmthYcHNSeVTQrn//2Q==\"></td>\n",
       "      <td>np.ndarray(shape=(512,))</td>\n",
       "      <td>NaN</td>\n",
       "      <td>1832.0</td>\n",
       "      <td>1835.0</td>\n",
       "      <td>bronze</td>\n",
       "      <td>overall: 14.6 x 13 x 9.8 cm (5 3/4 x 5 1/8 x 3 7/8 in.)</td>\n",
       "      <td>stamped in wax positive on rear lower center, in incised circle: M.L.G [Maurice Le Garrec]; cold-stamped below that: BRONZE; cold-stamped inside, front right, in incised circle: 23/25</td>\n",
       "      <td>Honoré Daumier</td>\n",
       "      <td>Rosenwald Collection</td>\n",
       "      <td>sculpture</td>\n",
       "      <td>np.ndarray(shape=(512,))</td>\n",
       "      <td>np.ndarray(shape=(512,))</td>\n",
       "      <td>np.ndarray(shape=(512,))</td>\n",
       "      <td>np.ndarray(shape=(512,))</td>\n",
       "      <td>np.ndarray(shape=(512,))</td>\n",
       "      <td>20.1875</td>\n",
       "    </tr>\n",
       "    <tr>\n",
       "      <th>...</th>\n",
       "      <td>...</td>\n",
       "      <td>...</td>\n",
       "      <td>...</td>\n",
       "      <td>...</td>\n",
       "      <td>...</td>\n",
       "      <td>...</td>\n",
       "      <td>...</td>\n",
       "      <td>...</td>\n",
       "      <td>...</td>\n",
       "      <td>...</td>\n",
       "      <td>...</td>\n",
       "      <td>...</td>\n",
       "      <td>...</td>\n",
       "      <td>...</td>\n",
       "      <td>...</td>\n",
       "      <td>...</td>\n",
       "      <td>...</td>\n",
       "      <td>...</td>\n",
       "      <td>...</td>\n",
       "    </tr>\n",
       "    <tr>\n",
       "      <th>13793</th>\n",
       "      <td>103291</td>\n",
       "      <td>ff827978-3806-47ad-b0e7-fcb1a55a44e5</td>\n",
       "      <td><img src=\"data:image/jpeg;base64,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\"></td>\n",
       "      <td>np.ndarray(shape=(512,))</td>\n",
       "      <td>103290.0</td>\n",
       "      <td>1612.0</td>\n",
       "      <td>1612.0</td>\n",
       "      <td>bronze</td>\n",
       "      <td>overall (diameter): 6.4 cm (2 1/2 in.)\\r\\ngross weight: 41.17 gr (0.091 lb.)\\r\\naxis: 12:00</td>\n",
       "      <td>across center: .D.M. / PAVLO V.P.M.FAVENTE / AD AMPLIANDAM AEDEM / S.CAROLI NOMINE / ROMAE PRIMO DEDICATAM / LAPIDEM FVNDAMETALEM / PER ARCHIP.S.PETRI / CLERICI RECVLS.PAVLI / PONI CVRARVNT / ANNO MDCXII</td>\n",
       "      <td>Probably Roman 17th Century</td>\n",
       "      <td>Gift of Lisa and Leonard Baskin</td>\n",
       "      <td>sculpture</td>\n",
       "      <td>np.ndarray(shape=(512,))</td>\n",
       "      <td>np.ndarray(shape=(512,))</td>\n",
       "      <td>np.ndarray(shape=(512,))</td>\n",
       "      <td>np.ndarray(shape=(512,))</td>\n",
       "      <td>np.ndarray(shape=(512,))</td>\n",
       "      <td>20.25</td>\n",
       "    </tr>\n",
       "    <tr>\n",
       "      <th>13794</th>\n",
       "      <td>45066</td>\n",
       "      <td>ff85ba32-f8ae-43d7-bdf5-e23983f8b867</td>\n",
       "      <td><img src=\"data:image/jpeg;base64,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\"></td>\n",
       "      <td>np.ndarray(shape=(512,))</td>\n",
       "      <td>NaN</td>\n",
       "      <td>1538.0</td>\n",
       "      <td>1538.0</td>\n",
       "      <td>bronze//Struck</td>\n",
       "      <td>overall (diameter): 4.06 cm (1 5/8 in.)\\r\\ngross weight: 26.92 gr (0.059 lb.)\\r\\naxis: 6:00</td>\n",
       "      <td>around circumference: ANT[onius] MVLA DVX CRETAE X VIR III CONS[iliarius] IIII</td>\n",
       "      <td>Andrea Spinelli</td>\n",
       "      <td>Samuel H. Kress Collection</td>\n",
       "      <td>sculpture</td>\n",
       "      <td>np.ndarray(shape=(512,))</td>\n",
       "      <td>np.ndarray(shape=(512,))</td>\n",
       "      <td>np.ndarray(shape=(512,))</td>\n",
       "      <td>np.ndarray(shape=(512,))</td>\n",
       "      <td>np.ndarray(shape=(512,))</td>\n",
       "      <td>21.46875</td>\n",
       "    </tr>\n",
       "    <tr>\n",
       "      <th>13795</th>\n",
       "      <td>44188</td>\n",
       "      <td>ffb696b4-f556-4c73-b3e7-94ad5a79e79a</td>\n",
       "      <td><img src=\"data:image/jpeg;base64,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\"></td>\n",
       "      <td>np.ndarray(shape=(512,))</td>\n",
       "      <td>NaN</td>\n",
       "      <td>1450.0</td>\n",
       "      <td>1499.0</td>\n",
       "      <td>bronze//Light brown patina</td>\n",
       "      <td>overall (oval): 4.2 x 3.6 cm (1 5/8 x 1 7/16 in.) gross weight: 44 gr</td>\n",
       "      <td>NaN</td>\n",
       "      <td>Master IO.F.F.</td>\n",
       "      <td>Samuel H. Kress Collection</td>\n",
       "      <td>sculpture</td>\n",
       "      <td>np.ndarray(shape=(512,))</td>\n",
       "      <td>np.ndarray(shape=(512,))</td>\n",
       "      <td>np.ndarray(shape=(512,))</td>\n",
       "      <td>np.ndarray(shape=(512,))</td>\n",
       "      <td>np.ndarray(shape=(512,))</td>\n",
       "      <td>20.6875</td>\n",
       "    </tr>\n",
       "    <tr>\n",
       "      <th>13796</th>\n",
       "      <td>44842</td>\n",
       "      <td>ffd9b608-2d8d-4851-90f8-e05675ba9d3b</td>\n",
       "      <td><img src=\"data:image/jpeg;base64,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\"></td>\n",
       "      <td>np.ndarray(shape=(512,))</td>\n",
       "      <td>NaN</td>\n",
       "      <td>1498.0</td>\n",
       "      <td>1498.0</td>\n",
       "      <td>bronze//Late cast</td>\n",
       "      <td>overall (diameter): 7.26 cm (2 7/8 in.)\\r\\ngross weight: 165.2 gr (0.364 lb.)\\r\\naxis: 1:00</td>\n",
       "      <td>around circumference: OCTAVIANVS SF[ortia] DE RIARIO FORLIVII IMOLAE Q[ue] C[omes]</td>\n",
       "      <td>Style of Niccolò Fiorentino</td>\n",
       "      <td>Samuel H. Kress Collection</td>\n",
       "      <td>sculpture</td>\n",
       "      <td>np.ndarray(shape=(512,))</td>\n",
       "      <td>np.ndarray(shape=(512,))</td>\n",
       "      <td>np.ndarray(shape=(512,))</td>\n",
       "      <td>np.ndarray(shape=(512,))</td>\n",
       "      <td>np.ndarray(shape=(512,))</td>\n",
       "      <td>21.8125</td>\n",
       "    </tr>\n",
       "    <tr>\n",
       "      <th>13797</th>\n",
       "      <td>165884</td>\n",
       "      <td>ffffc381-9fa3-470d-bfc2-441c643c6039</td>\n",
       "      <td><img src=\"data:image/jpeg;base64,/9j/4AAQSkZJRgABAQAAAQABAAD/2wBDAAgGBgcGBQgHBwcJCQgKDBQNDAsLDBkSEw8UHRofHh0aHBwgJC4nICIsIxwcKDcpLDAxNDQ0Hyc5PTgyPC4zNDL/2wBDAQgJCQwLDBgNDRgyIRwhMjIyMjIyMjIyMjIyMjIyMjIyMjIyMjIyMjIyMjIyMjIyMjIyMjIyMjIyMjIyMjIyMjL/wAARCABAAEADASIAAhEBAxEB/8QAHwAAAQUBAQEBAQEAAAAAAAAAAAECAwQFBgcICQoL/8QAtRAAAgEDAwIEAwUFBAQAAAF9AQIDAAQRBRIhMUEGE1FhByJxFDKBkaEII0KxwRVS0fAkM2JyggkKFhcYGRolJicoKSo0NTY3ODk6Q0RFRkdISUpTVFVWV1hZWmNkZWZnaGlqc3R1dnd4eXqDhIWGh4iJipKTlJWWl5iZmqKjpKWmp6ipqrKztLW2t7i5usLDxMXGx8jJytLT1NXW19jZ2uHi4+Tl5ufo6erx8vP09fb3+Pn6/8QAHwEAAwEBAQEBAQEBAQAAAAAAAAECAwQFBgcICQoL/8QAtREAAgECBAQDBAcFBAQAAQJ3AAECAxEEBSExBhJBUQdhcRMiMoEIFEKRobHBCSMzUvAVYnLRChYkNOEl8RcYGRomJygpKjU2Nzg5OkNERUZHSElKU1RVVldYWVpjZGVmZ2hpanN0dXZ3eHl6goOEhYaHiImKkpOUlZaXmJmaoqOkpaanqKmqsrO0tba3uLm6wsPExcbHyMnK0tPU1dbX2Nna4uPk5ebn6Onq8vP09fb3+Pn6/9oADAMBAAIRAxEAPwD1cLzSkcU/bQRxTEV2WozxT7qUW9vLMRkIpbA7+1VRZK6hrrE0p67uVB9AOgH60hlhXB6HiniqbWFueViETdmj+Uj8qWylkJlhlO54n2lsY3AgEH8j+lAGivSmsKFORSk0xEx601qWkNMDD8RSXIt7WC1dEkuLhUy4yMAFv/Za4ODxrrCWRnvdRiTDYJFspHt6dq73xDcwWgsZZ92BO2CFLYPlSdhzXjM89teaJbQgMZ4gcN2bJJ5/OsZt9GaQtbY7TTvGGoapbvLaalay7Bk5tsD+ea1/DWo6pfW8d7eG3D3UkYCxqcFTvGfYgKfXpXlWgRHSLtpRuAkBEinuCP8A9VeseC5IbqPToIpFkMFsJJNp6N84x9fnoi3cJLQ65FYdqcVNWwoHao3GK1MxmDRg1JijFMDCvrO5mN7dSqWEULraxR8k/IefqScYrzddb0vSxHZajpssFxHEiMJIACBgdvwr2UrxmvFfG6wT+KNTSaFmcts37eAoQc5z2rGq+XU1ppPRlZtfsbqVYba2aSQ8LsiyzAc8AV6hoaSRaZolzDEfMS2SCeNhtJQgHv0Ktzj0JrzXwTb2y+JNP8mIqUjbDno3yEZHPfNewQK2RRTd1cJpLQvlyaacmnhTil2mtTIriQetL5i/3hVHdSFqALz3Eajk5+leUeJopLzx9NZpBKltLCJTdCJmAO0cYHXpXoc0ayptYsO4KnBFUZLF2bIu7gH6g/0qJxUtGVGXLqjzfwpK+j+O4NMe1meJAyLceWV35QkcEccnFe1QbSoPAz61y40vMwka7uCw4yCoP54zWpE/kxLGhO1RgZOT+dEI8o5O5tl1HGaUSL61jCdqd9ocd6u5B//Z\"></td>\n",
       "      <td>np.ndarray(shape=(512,))</td>\n",
       "      <td>NaN</td>\n",
       "      <td>1963.0</td>\n",
       "      <td>1963.0</td>\n",
       "      <td>metal, wood, glass, bottle, lightbulb, battery, plaster, and polyester resin</td>\n",
       "      <td>overall: 110.49 × 49.53 × 29.21 cm (43 1/2 × 19 1/2 × 11 1/2 in.)</td>\n",
       "      <td>NaN</td>\n",
       "      <td>Edward Kienholz</td>\n",
       "      <td>Gift of Virginia Dwan</td>\n",
       "      <td>sculpture</td>\n",
       "      <td>np.ndarray(shape=(512,))</td>\n",
       "      <td>np.ndarray(shape=(512,))</td>\n",
       "      <td>np.ndarray(shape=(512,))</td>\n",
       "      <td>np.ndarray(shape=(512,))</td>\n",
       "      <td>np.ndarray(shape=(512,))</td>\n",
       "      <td>22.1875</td>\n",
       "    </tr>\n",
       "  </tbody>\n",
       "</table>"
      ],
      "text/plain": [
       "DataPanel(nrows: 13798, ncols: 19)"
      ]
     },
     "execution_count": 32,
     "metadata": {},
     "output_type": "execute_result"
    }
   ],
   "source": [
    "dp[dp['visualbrowserclassification'] == 'sculpture']"
   ]
  },
  {
   "cell_type": "code",
   "execution_count": 35,
   "id": "93fea181-f9e3-4721-8a1e-e4abfeddf84d",
   "metadata": {},
   "outputs": [],
   "source": [
    "cb = dp.clusterby('image_224', )"
   ]
  },
  {
   "cell_type": "code",
   "execution_count": 61,
   "id": "5149c34e-8771-4c36-824d-55c344215c7a",
   "metadata": {},
   "outputs": [],
   "source": [
    "# dp = match_and_sort(dp, 'Honoré Daumier', 'image_224')\n",
    "dp = match_and_sort(dp, 'Carrie Mae Weems', 'image_224')"
   ]
  },
  {
   "cell_type": "code",
   "execution_count": 33,
   "id": "d47d8117-faf8-465d-9acf-a906100afc07",
   "metadata": {},
   "outputs": [],
   "source": [
    "dp = match_and_sort(dp, 'an aristocrat', 'image_224')"
   ]
  },
  {
   "cell_type": "code",
   "execution_count": 34,
   "id": "5095c20d-6520-40a0-9849-db40354cdf43",
   "metadata": {},
   "outputs": [],
   "source": [
    "# temp = dp[dp['attribution'] != 'Honoré Daumier']['image_224', 'attribution']\n",
    "# temp = dp[dp['attribution'] != 'Carrie Mae Weems']['image_224', 'attribution']\n",
    "temp = dp['image_224', 'attribution']"
   ]
  },
  {
   "cell_type": "code",
   "execution_count": 35,
   "id": "70e60112-c6c3-4e9c-be80-afbb452fc190",
   "metadata": {},
   "outputs": [
    {
     "data": {
      "text/html": [
       "\n",
       "        <iframe\n",
       "            width=\"100%\"\n",
       "            height=\"1000\"\n",
       "            src=\"http://localhost:7861/interface?id=4f3877fd35bd48d4b9f18c1d80c01d13\"\n",
       "            frameborder=\"0\"\n",
       "            allowfullscreen\n",
       "            \n",
       "        ></iframe>\n",
       "        "
      ],
      "text/plain": [
       "<IPython.lib.display.IFrame at 0x7f2598b49400>"
      ]
     },
     "execution_count": 35,
     "metadata": {},
     "output_type": "execute_result"
    }
   ],
   "source": [
    "temp.gui.gallery('image_224', ['attribution'])"
   ]
  },
  {
   "cell_type": "code",
   "execution_count": null,
   "id": "6d914088-a9f7-463d-abde-31d250a767c9",
   "metadata": {},
   "outputs": [],
   "source": []
  }
 ],
 "metadata": {
  "kernelspec": {
   "display_name": "Python 3 (ipykernel)",
   "language": "python",
   "name": "python3"
  },
  "language_info": {
   "codemirror_mode": {
    "name": "ipython",
    "version": 3
   },
   "file_extension": ".py",
   "mimetype": "text/x-python",
   "name": "python",
   "nbconvert_exporter": "python",
   "pygments_lexer": "ipython3",
   "version": "3.9.12"
  }
 },
 "nbformat": 4,
 "nbformat_minor": 5
}
