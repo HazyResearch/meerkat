{
 "cells": [
  {
   "cell_type": "code",
   "execution_count": 1,
   "metadata": {},
   "outputs": [
    {
     "name": "stderr",
     "output_type": "stream",
     "text": [
      "/Users/krandiash/miniforge3/envs/main/lib/python3.8/site-packages/tqdm/auto.py:22: TqdmWarning: IProgress not found. Please update jupyter and ipywidgets. See https://ipywidgets.readthedocs.io/en/stable/user_install.html\n",
      "  from .autonotebook import tqdm as notebook_tqdm\n"
     ]
    }
   ],
   "source": [
    "%load_ext autoreload\n",
    "%autoreload 2\n",
    " \n",
    "import meerkat as mk\n",
    "import requests\n",
    "from IPython.display import IFrame\n",
    "from meerkat.state import state\n",
    "from PIL import Image\n",
    "import numpy as np\n",
    "mk.config.datasets.root_dir = \"/Users/krandiash/Desktop/workspace/projects/datasci/data/\""
   ]
  },
  {
   "cell_type": "code",
   "execution_count": 2,
   "metadata": {},
   "outputs": [
    {
     "name": "stdout",
     "output_type": "stream",
     "text": [
      "\n",
      "> src@0.0.1 dev\n",
      "> vite dev \"--port\" \"7861\"\n",
      "\n",
      "\n",
      "  VITE v3.0.3  ready in 400 ms\n",
      "\n",
      "  ➜  Local:   http://localhost:7861/\n",
      "  ➜  Network: use --host to expose\n"
     ]
    },
    {
     "name": "stderr",
     "output_type": "stream",
     "text": [
      "The following dependencies are imported but could not be resolved:\n",
      "\n",
      "  @datastructures-js/priority-queue (imported by /Users/krandiash/Desktop/workspace/projects/meerkat/meerkat/interactive/app/src/routes/interface.svelte?id=1)\n",
      "\n",
      "Are they installed?\n"
     ]
    }
   ],
   "source": [
    "network, register_api = mk.interactive_mode()"
   ]
  },
  {
   "cell_type": "code",
   "execution_count": 3,
   "metadata": {},
   "outputs": [
    {
     "data": {
      "text/html": [
       "\n",
       "        <iframe\n",
       "            width=\"1\"\n",
       "            height=\"1\"\n",
       "            src=\"http://localhost:7861/network/register?api=http://127.0.0.1:7860\"\n",
       "            frameborder=\"0\"\n",
       "            allowfullscreen\n",
       "        ></iframe>\n",
       "        "
      ],
      "text/plain": [
       "<IPython.lib.display.IFrame at 0x108717e20>"
      ]
     },
     "execution_count": 3,
     "metadata": {},
     "output_type": "execute_result"
    }
   ],
   "source": [
    "register_api()"
   ]
  },
  {
   "cell_type": "code",
   "execution_count": 4,
   "metadata": {},
   "outputs": [
    {
     "data": {
      "text/plain": [
       "MeerkatConfig(display=DisplayConfig(max_rows=10, show_images=True, max_image_height=128, max_image_width=128, show_audio=True), datasets=DatasetsConfig(root_dir='/Users/krandiash/Desktop/workspace/projects/datasci/data/'))"
      ]
     },
     "execution_count": 4,
     "metadata": {},
     "output_type": "execute_result"
    }
   ],
   "source": [
    "mk.config"
   ]
  },
  {
   "cell_type": "code",
   "execution_count": 5,
   "metadata": {},
   "outputs": [],
   "source": [
    "dp = mk.get('imagenette', version='320px')\n",
    "dp_embed = mk.DataPanel.read(path=f'{mk.config.datasets.root_dir}/imagenette/imagenette_embedded.mk')\n",
    "dp['clip(img)'] = dp_embed['clip(img)']"
   ]
  },
  {
   "cell_type": "code",
   "execution_count": 6,
   "metadata": {},
   "outputs": [],
   "source": [
    "from meerkat.interactive.app.src.lib.interfaces.plot_gallery import PlotInterface\n",
    "\n",
    "dp = dp[\"path\", \"label\", \"img\", \"clip(img)\"]\n",
    "interface = PlotInterface(\n",
    "    dp,\n",
    "    id_column=\"image_id\"\n",
    ")\n"
   ]
  },
  {
   "cell_type": "code",
   "execution_count": 7,
   "metadata": {},
   "outputs": [
    {
     "data": {
      "text/html": [
       "\n",
       "        <iframe\n",
       "            width=\"100%\"\n",
       "            height=\"1000\"\n",
       "            src=\"http://localhost:7861/interface?id=76b22a0b2b7140dca928bceb94ac6e5d\"\n",
       "            frameborder=\"0\"\n",
       "            allowfullscreen\n",
       "        ></iframe>\n",
       "        "
      ],
      "text/plain": [
       "<IPython.lib.display.IFrame at 0x108717b80>"
      ]
     },
     "execution_count": 7,
     "metadata": {},
     "output_type": "execute_result"
    },
    {
     "name": "stdout",
     "output_type": "stream",
     "text": [
      "12:41:32 PM [vite-plugin-svelte] /Users/krandiash/Desktop/workspace/projects/meerkat/meerkat/interactive/app/src/routes/interface.svelte:230:1 Unused CSS selector \".dragger\"\n",
      "12:41:32 PM [vite-plugin-svelte] /Users/krandiash/Desktop/workspace/projects/meerkat/meerkat/interactive/app/src/routes/interface.svelte:245:0 Unused CSS selector \".dragger:hover\"\n"
     ]
    },
    {
     "name": "stderr",
     "output_type": "stream",
     "text": [
      "Cannot find module '@datastructures-js/priority-queue' imported from '/Users/krandiash/Desktop/workspace/projects/meerkat/meerkat/interactive/app/src/routes/interface.svelte'\n",
      "Error: Cannot find module '@datastructures-js/priority-queue' imported from '/Users/krandiash/Desktop/workspace/projects/meerkat/meerkat/interactive/app/src/routes/interface.svelte'\n",
      "    at viteResolve (file:///Users/krandiash/Desktop/workspace/projects/meerkat/meerkat/interactive/app/node_modules/vite/dist/node/chunks/dep-c6273c7a.js:50392:25)\n",
      "    at nodeImport (file:///Users/krandiash/Desktop/workspace/projects/meerkat/meerkat/interactive/app/node_modules/vite/dist/node/chunks/dep-c6273c7a.js:50427:15)\n",
      "    at ssrImport (file:///Users/krandiash/Desktop/workspace/projects/meerkat/meerkat/interactive/app/node_modules/vite/dist/node/chunks/dep-c6273c7a.js:50322:20)\n",
      "    at eval (/src/routes/interface.svelte:34:38)\n",
      "    at async instantiateModule (file:///Users/krandiash/Desktop/workspace/projects/meerkat/meerkat/interactive/app/node_modules/vite/dist/node/chunks/dep-c6273c7a.js:50368:9)\n"
     ]
    },
    {
     "name": "stdout",
     "output_type": "stream",
     "text": [
      "12:41:41 PM [vite] page reload .svelte-kit/runtime/app/env.js\n",
      "12:41:41 PM [vite] page reload .svelte-kit/runtime/client/singletons.js\n",
      "12:41:41 PM [vite] page reload .svelte-kit/runtime/client/start.js\n",
      "12:41:41 PM [vite] hmr update /.svelte-kit/runtime/components/error.svelte\n",
      "12:41:41 PM [vite] page reload .svelte-kit/runtime/env.js\n",
      "12:41:41 PM [vite] page reload .svelte-kit/runtime/paths.js\n",
      "12:41:41 PM [vite] page reload .svelte-kit/runtime/client/start.js\n",
      "12:41:41 PM [vite] page reload .svelte-kit/generated/client-manifest.js\n",
      "12:41:41 PM [vite] page reload .svelte-kit/generated/client-matchers.js\n",
      "12:41:41 PM [vite-plugin-svelte] /Users/krandiash/Desktop/workspace/projects/meerkat/meerkat/interactive/app/src/routes/interface.svelte:230:1 Unused CSS selector \".dragger\"\n",
      "12:41:41 PM [vite-plugin-svelte] /Users/krandiash/Desktop/workspace/projects/meerkat/meerkat/interactive/app/src/routes/interface.svelte:245:0 Unused CSS selector \".dragger:hover\"\n"
     ]
    },
    {
     "name": "stderr",
     "output_type": "stream",
     "text": [
      "require is not defined\n",
      "ReferenceError: require is not defined\n",
      "    at /node_modules/@datastructures-js/priority-queue/index.js:1:43\n",
      "    at instantiateModule (file:///Users/krandiash/Desktop/workspace/projects/meerkat/meerkat/interactive/app/node_modules/vite/dist/node/chunks/dep-c6273c7a.js:50368:15)\n",
      "require is not defined\n",
      "ReferenceError: require is not defined\n",
      "    at /node_modules/@datastructures-js/priority-queue/index.js:1:43\n",
      "    at instantiateModule (file:///Users/krandiash/Desktop/workspace/projects/meerkat/meerkat/interactive/app/node_modules/vite/dist/node/chunks/dep-c6273c7a.js:50368:15)\n",
      "`line` must be greater than 0 (lines start at line 1)\n",
      "Error: `line` must be greater than 0 (lines start at line 1)\n",
      "    at originalPositionFor$1 (file:///Users/krandiash/Desktop/workspace/projects/meerkat/meerkat/interactive/app/node_modules/vite/dist/node/chunks/dep-c6273c7a.js:10032:19)\n",
      "    at file:///Users/krandiash/Desktop/workspace/projects/meerkat/meerkat/interactive/app/node_modules/vite/dist/node/chunks/dep-c6273c7a.js:50219:25\n",
      "    at String.replace (<anonymous>)\n",
      "    at file:///Users/krandiash/Desktop/workspace/projects/meerkat/meerkat/interactive/app/node_modules/vite/dist/node/chunks/dep-c6273c7a.js:50210:21\n",
      "    at Array.map (<anonymous>)\n",
      "    at ssrRewriteStacktrace (file:///Users/krandiash/Desktop/workspace/projects/meerkat/meerkat/interactive/app/node_modules/vite/dist/node/chunks/dep-c6273c7a.js:50209:10)\n",
      "    at Object.ssrRewriteStacktrace (file:///Users/krandiash/Desktop/workspace/projects/meerkat/meerkat/interactive/app/node_modules/vite/dist/node/chunks/dep-c6273c7a.js:59058:20)\n",
      "    at fix_stack_trace (file:///Users/krandiash/Desktop/workspace/projects/meerkat/meerkat/interactive/app/node_modules/@sveltejs/kit/dist/vite.js:1514:29)\n",
      "    at Object.get_stack (file:///Users/krandiash/Desktop/workspace/projects/meerkat/meerkat/interactive/app/node_modules/@sveltejs/kit/dist/vite.js:1670:29)\n",
      "    at render_response (file:///Users/krandiash/Desktop/workspace/projects/meerkat/meerkat/interactive/app/.svelte-kit/runtime/server/index.js:1381:25)\n"
     ]
    }
   ],
   "source": [
    "interface.launch()"
   ]
  },
  {
   "cell_type": "code",
   "execution_count": null,
   "metadata": {},
   "outputs": [],
   "source": [
    "<script lang=\"ts\">\n",
    "    export let store_id: string;\n",
    "    export let store: any;\n",
    "    export let callback = () => {};\n",
    "    \n",
    "    export let add = (source: number) => {};\n",
    "\n",
    "    $: $store, callback();\n",
    "</script>\n",
    "\n",
    "{#each Array.from(global_stores.keys()) as store_id}\n",
    "\t<!-- TODO: Things that are not in the computation graph should have a blank callback. -->\n",
    "\t<StoreComponent \n",
    "\t\t{store_id}\n",
    "\t\tstore={global_stores.get(store_id)} \n",
    "\t\tcallback={() => {console.log(store_id, \"changed\")}} \n",
    "\t\tadd={(source: number) => {store_trigger_queue.push({store_id: store_id, source: source})}}\n",
    "\t/>\n",
    "{/each}"
   ]
  },
  {
   "cell_type": "code",
   "execution_count": 20,
   "metadata": {},
   "outputs": [
    {
     "data": {
      "application/vnd.jupyter.widget-view+json": {
       "model_id": "e8e4263e10f94575b28c23f90f611f98",
       "version_major": 2,
       "version_minor": 0
      },
      "text/plain": [
       "  0%|          | 0/1 [00:00<?, ?it/s]"
      ]
     },
     "metadata": {},
     "output_type": "display_data"
    }
   ],
   "source": [
    "out = mk.embed(data=mk.PandasSeriesColumn([\"hello\"]))"
   ]
  },
  {
   "cell_type": "code",
   "execution_count": 22,
   "metadata": {},
   "outputs": [
    {
     "data": {
      "text/plain": [
       "(1, 512)"
      ]
     },
     "execution_count": 22,
     "metadata": {},
     "output_type": "execute_result"
    },
    {
     "name": "stdout",
     "output_type": "stream",
     "text": [
      "5:16:35 PM [vite] hmr update /src/lib/component/match/Match.svelte\n",
      "hmr update /src/routes/__layout.svelte\n",
      "5:17:16 PM [vite] hmr update /src/lib/component/match/Match.svelte\n",
      "hmr update /src/app.css\n",
      "5:17:22 PM [vite] hmr update /src/lib/component/match/Match.svelte\n",
      "hmr update /src/app.css\n",
      "5:19:25 PM [vite] hmr update /src/lib/component/match/Match.svelte\n",
      "hmr update /src/app.css\n"
     ]
    }
   ],
   "source": [
    "out.shape"
   ]
  },
  {
   "cell_type": "code",
   "execution_count": null,
   "metadata": {},
   "outputs": [],
   "source": []
  }
 ],
 "metadata": {
  "kernelspec": {
   "display_name": "Python 3.8.10 ('main')",
   "language": "python",
   "name": "python3"
  },
  "language_info": {
   "codemirror_mode": {
    "name": "ipython",
    "version": 3
   },
   "file_extension": ".py",
   "mimetype": "text/x-python",
   "name": "python",
   "nbconvert_exporter": "python",
   "pygments_lexer": "ipython3",
   "version": "3.8.10"
  },
  "orig_nbformat": 4,
  "vscode": {
   "interpreter": {
    "hash": "ab18cddb8ae987f9fcad609bab256ee8c7e4643ba1abd7d069292f87b9e782b7"
   }
  }
 },
 "nbformat": 4,
 "nbformat_minor": 2
}
