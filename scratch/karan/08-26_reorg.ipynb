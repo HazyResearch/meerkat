{
 "cells": [
  {
   "cell_type": "code",
   "execution_count": 1,
   "metadata": {},
   "outputs": [
    {
     "name": "stderr",
     "output_type": "stream",
     "text": [
      "/Users/krandiash/miniforge3/envs/main/lib/python3.8/site-packages/tqdm/auto.py:22: TqdmWarning: IProgress not found. Please update jupyter and ipywidgets. See https://ipywidgets.readthedocs.io/en/stable/user_install.html\n",
      "  from .autonotebook import tqdm as notebook_tqdm\n"
     ]
    }
   ],
   "source": [
    "%load_ext autoreload\n",
    "%autoreload 2\n",
    " \n",
    "import meerkat as mk\n",
    "import requests\n",
    "from IPython.display import IFrame\n",
    "from meerkat.state import state\n",
    "from PIL import Image\n",
    "import numpy as np\n",
    "mk.config.datasets.root_dir = \"/Users/krandiash/Desktop/workspace/projects/datasci/data/\""
   ]
  },
  {
   "cell_type": "code",
   "execution_count": 2,
   "metadata": {},
   "outputs": [],
   "source": [
    "network = mk.interactive_mode()"
   ]
  },
  {
   "cell_type": "code",
   "execution_count": 3,
   "metadata": {},
   "outputs": [
    {
     "name": "stderr",
     "output_type": "stream",
     "text": [
      "/Users/krandiash/Desktop/workspace/projects/meerkat/meerkat/columns/file_column.py:221: FutureWarning: Reading a LambdaColumn stored in a format that will not be supported in the future. Please re-write the column to the new format.\n",
      "  warnings.warn(\n"
     ]
    }
   ],
   "source": [
    "dp = mk.get('imagenette', version='320px')\n",
    "dp_embed = mk.DataPanel.read(\"/Users/krandiash/Desktop/workspace/projects/datasci/data/imagenette/imagenette_embedded.mk\")\n",
    "dp['clip(img)'] = dp_embed['clip(img)']"
   ]
  },
  {
   "cell_type": "code",
   "execution_count": 4,
   "metadata": {},
   "outputs": [],
   "source": [
    "from meerkat.interactive.app.src.lib.interfaces.plot_gallery import PlotInterface\n",
    "\n",
    "dp = dp[\"path\", \"label\", \"img\", \"clip(img)\", \"img_path\"]\n",
    "interface = PlotInterface(\n",
    "    dp,\n",
    "    id_column=\"img_path\"\n",
    ")\n"
   ]
  },
  {
   "cell_type": "code",
   "execution_count": 5,
   "metadata": {},
   "outputs": [
    {
     "data": {
      "text/html": [
       "\n",
       "        <iframe\n",
       "            width=\"100%\"\n",
       "            height=\"1000\"\n",
       "            src=\"http://localhost:7861/interface?id=e4252ea41d7147288bbd0a2bec2e23d8\"\n",
       "            frameborder=\"0\"\n",
       "            allowfullscreen\n",
       "        ></iframe>\n",
       "        "
      ],
      "text/plain": [
       "<IPython.lib.display.IFrame at 0x10b834d30>"
      ]
     },
     "execution_count": 5,
     "metadata": {},
     "output_type": "execute_result"
    },
    {
     "name": "stderr",
     "output_type": "stream",
     "text": [
      "100%|██████████| 1/1 [00:00<00:00, 17.32it/s]\n"
     ]
    }
   ],
   "source": [
    "interface.launch()"
   ]
  },
  {
   "cell_type": "code",
   "execution_count": 8,
   "metadata": {},
   "outputs": [],
   "source": [
    "import ast\n",
    "import inspect\n",
    "import textwrap\n",
    "\n",
    "tree = ast.parse(textwrap.dedent(inspect.getsource(interface._layout)))\n",
    "result = [\n",
    "    node\n",
    "    for node in ast.walk(tree)\n",
    "    if isinstance(node, ast.Assign) or isinstance(node, ast.AnnAssign)\n",
    "]\n"
   ]
  },
  {
   "cell_type": "code",
   "execution_count": 34,
   "metadata": {},
   "outputs": [
    {
     "data": {
      "text/plain": [
       "[<_ast.Assign at 0x13c641100>,\n",
       " <_ast.Assign at 0x13c641400>,\n",
       " <_ast.Assign at 0x13c6d00d0>,\n",
       " <_ast.Assign at 0x13c6d01c0>,\n",
       " <_ast.AnnAssign at 0x13c6d0340>,\n",
       " <_ast.AnnAssign at 0x13c6d0580>,\n",
       " <_ast.Assign at 0x13c6d0730>,\n",
       " <_ast.Assign at 0x13c6d0a00>,\n",
       " <_ast.Assign at 0x13c6d0c70>,\n",
       " <_ast.AnnAssign at 0x13c6d0d60>,\n",
       " <_ast.AnnAssign at 0x13c6c6070>,\n",
       " <_ast.AnnAssign at 0x13c6c63a0>,\n",
       " <_ast.Assign at 0x13c6c6850>]"
      ]
     },
     "execution_count": 34,
     "metadata": {},
     "output_type": "execute_result"
    }
   ],
   "source": [
    "result"
   ]
  },
  {
   "cell_type": "code",
   "execution_count": 32,
   "metadata": {},
   "outputs": [
    {
     "data": {
      "text/plain": [
       "(<_ast.Store at 0x1030bfbb0>, 'dp_pivot')"
      ]
     },
     "execution_count": 32,
     "metadata": {},
     "output_type": "execute_result"
    }
   ],
   "source": [
    "result[0].targets[0].ctx, result[0].targets[0].id"
   ]
  },
  {
   "cell_type": "code",
   "execution_count": 43,
   "metadata": {},
   "outputs": [],
   "source": [
    "from meerkat.interactive.app.src.lib.component.table import EditTarget, Table"
   ]
  },
  {
   "cell_type": "code",
   "execution_count": 45,
   "metadata": {},
   "outputs": [
    {
     "data": {
      "text/plain": [
       "[meerkat.interactive.app.src.lib.component.table.Table,\n",
       " meerkat.interactive.app.src.lib.component.abstract.Component,\n",
       " meerkat.mixins.identifiable.IdentifiableMixin,\n",
       " object]"
      ]
     },
     "execution_count": 45,
     "metadata": {},
     "output_type": "execute_result"
    }
   ],
   "source": [
    "Table.mro()"
   ]
  },
  {
   "cell_type": "code",
   "execution_count": 41,
   "metadata": {},
   "outputs": [
    {
     "name": "stdout",
     "output_type": "stream",
     "text": [
      "<_ast.Store object at 0x1030bfbb0> dp_pivot <_ast.Call object at 0x13c641490>\n",
      "<_ast.Store object at 0x1030bfbb0> against <_ast.Call object at 0x13c6d0040>\n",
      "<_ast.Store object at 0x1030bfbb0> selection <_ast.Call object at 0x13c6d0130>\n",
      "<_ast.Store object at 0x1030bfbb0> selection_dp <_ast.Call object at 0x13c6d0220>\n",
      "match_x <_ast.Store object at 0x1030bfbb0> Component <_ast.Load object at 0x1030bfb50> <_ast.Call object at 0x13c6d03d0>\n",
      "match_y <_ast.Store object at 0x1030bfbb0> Component <_ast.Load object at 0x1030bfb50> <_ast.Call object at 0x13c6d0610>\n",
      "<_ast.Store object at 0x1030bfbb0> merge_derived <_ast.Call object at 0x13c6d0790>\n",
      "<_ast.Store object at 0x1030bfbb0> sort_derived <_ast.Call object at 0x13c6d0a60>\n",
      "<_ast.Store object at 0x1030bfbb0> result <_ast.Call object at 0x13c6d0cd0>\n",
      "gallery <_ast.Store object at 0x1030bfbb0> Component <_ast.Load object at 0x1030bfb50> <_ast.Call object at 0x13c6d0df0>\n",
      "selected_table <_ast.Store object at 0x1030bfbb0> Component <_ast.Load object at 0x1030bfb50> <_ast.Call object at 0x13c6c6100>\n",
      "plot <_ast.Store object at 0x1030bfbb0> Component <_ast.Load object at 0x1030bfb50> <_ast.Call object at 0x13c6c6430>\n",
      "<_ast.Name object at 0x13c6c68b0> components <_ast.Store object at 0x1030bfbb0> <_ast.List object at 0x13c6c68e0>\n"
     ]
    }
   ],
   "source": [
    "for e in result:\n",
    "    if isinstance(e, ast.Assign):\n",
    "        if not isinstance(e.targets[0], ast.Attribute):\n",
    "            print(e.targets[0].ctx, e.targets[0].id, e.value)\n",
    "        else:\n",
    "            print(e.targets[0].value, e.targets[0].attr, e.targets[0].ctx, e.value)\n",
    "    else:\n",
    "        print(e.target.id, e.target.ctx, e.annotation.id, e.annotation.ctx, e.value)"
   ]
  },
  {
   "cell_type": "code",
   "execution_count": 7,
   "metadata": {},
   "outputs": [
    {
     "data": {
      "text/html": [
       "\n",
       "        <iframe\n",
       "            width=\"100%\"\n",
       "            height=\"1000\"\n",
       "            src=\"http://localhost:7862/interface?id=0cefc551d32d45f191c9379da882f80d\"\n",
       "            frameborder=\"0\"\n",
       "            allowfullscreen\n",
       "            \n",
       "        ></iframe>\n",
       "        "
      ],
      "text/plain": [
       "<IPython.lib.display.IFrame at 0x133340070>"
      ]
     },
     "execution_count": 7,
     "metadata": {},
     "output_type": "execute_result"
    }
   ],
   "source": [
    "interface.launch()"
   ]
  },
  {
   "cell_type": "code",
   "execution_count": 20,
   "metadata": {},
   "outputs": [
    {
     "data": {
      "application/vnd.jupyter.widget-view+json": {
       "model_id": "e8e4263e10f94575b28c23f90f611f98",
       "version_major": 2,
       "version_minor": 0
      },
      "text/plain": [
       "  0%|          | 0/1 [00:00<?, ?it/s]"
      ]
     },
     "metadata": {},
     "output_type": "display_data"
    }
   ],
   "source": [
    "out = mk.embed(data=mk.PandasSeriesColumn([\"hello\"]))"
   ]
  },
  {
   "cell_type": "code",
   "execution_count": 22,
   "metadata": {},
   "outputs": [
    {
     "data": {
      "text/plain": [
       "(1, 512)"
      ]
     },
     "execution_count": 22,
     "metadata": {},
     "output_type": "execute_result"
    },
    {
     "name": "stdout",
     "output_type": "stream",
     "text": [
      "5:16:35 PM [vite] hmr update /src/lib/component/match/Match.svelte\n",
      "hmr update /src/routes/__layout.svelte\n",
      "5:17:16 PM [vite] hmr update /src/lib/component/match/Match.svelte\n",
      "hmr update /src/app.css\n",
      "5:17:22 PM [vite] hmr update /src/lib/component/match/Match.svelte\n",
      "hmr update /src/app.css\n",
      "5:19:25 PM [vite] hmr update /src/lib/component/match/Match.svelte\n",
      "hmr update /src/app.css\n"
     ]
    }
   ],
   "source": [
    "out.shape"
   ]
  },
  {
   "cell_type": "code",
   "execution_count": null,
   "metadata": {},
   "outputs": [],
   "source": []
  }
 ],
 "metadata": {
  "kernelspec": {
   "display_name": "Python 3.8.10 ('main')",
   "language": "python",
   "name": "python3"
  },
  "language_info": {
   "codemirror_mode": {
    "name": "ipython",
    "version": 3
   },
   "file_extension": ".py",
   "mimetype": "text/x-python",
   "name": "python",
   "nbconvert_exporter": "python",
   "pygments_lexer": "ipython3",
   "version": "3.8.10"
  },
  "orig_nbformat": 4,
  "vscode": {
   "interpreter": {
    "hash": "ab18cddb8ae987f9fcad609bab256ee8c7e4643ba1abd7d069292f87b9e782b7"
   }
  }
 },
 "nbformat": 4,
 "nbformat_minor": 2
}
