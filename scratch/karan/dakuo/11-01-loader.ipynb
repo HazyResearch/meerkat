{
 "cells": [
  {
   "cell_type": "code",
   "execution_count": 2,
   "metadata": {},
   "outputs": [],
   "source": [
    "%load_ext autoreload\n",
    "%autoreload 2"
   ]
  },
  {
   "cell_type": "code",
   "execution_count": 3,
   "metadata": {},
   "outputs": [],
   "source": [
    "import meerkat as mk\n",
    "import numpy as np\n",
    "from glob import glob"
   ]
  },
  {
   "cell_type": "code",
   "execution_count": 4,
   "metadata": {},
   "outputs": [],
   "source": [
    "# Set up your paths\n",
    "DATA_DIR = '/Users/krandiash/Desktop/workspace/projects/datasci/data/FairytaleQA_Dataset/'\n",
    "DOC_PATH = DATA_DIR + 'FairytaleQA_Dataset/split_by_origin'\n",
    "SENTENCE_PATH = DATA_DIR + 'FairytaleQA_Dataset_Sentence_Split/split_by_origin'\n"
   ]
  },
  {
   "cell_type": "code",
   "execution_count": 5,
   "metadata": {},
   "outputs": [
    {
     "data": {
      "text/plain": [
       "('/Users/krandiash/Desktop/workspace/projects/datasci/data/FairytaleQA_Dataset/FairytaleQA_Dataset/split_by_origin',\n",
       " '/Users/krandiash/Desktop/workspace/projects/datasci/data/FairytaleQA_Dataset/FairytaleQA_Dataset_Sentence_Split/split_by_origin')"
      ]
     },
     "execution_count": 5,
     "metadata": {},
     "output_type": "execute_result"
    }
   ],
   "source": [
    "DOC_PATH, SENTENCE_PATH"
   ]
  },
  {
   "cell_type": "markdown",
   "metadata": {},
   "source": [
    "## Document DataPanel\n",
    "Load in the document data, from the 'FairytaleQA_Dataset/split_by_origin' directory."
   ]
  },
  {
   "cell_type": "code",
   "execution_count": 6,
   "metadata": {},
   "outputs": [
    {
     "data": {
      "text/html": [
       "<table border=\"1\" class=\"dataframe\">\n",
       "  <thead>\n",
       "    <tr style=\"text-align: right;\">\n",
       "      <th></th>\n",
       "      <th>path (PandasSeriesColumn)</th>\n",
       "      <th>source (PandasSeriesColumn)</th>\n",
       "      <th>name (PandasSeriesColumn)</th>\n",
       "      <th>id (PandasSeriesColumn)</th>\n",
       "    </tr>\n",
       "  </thead>\n",
       "  <tbody>\n",
       "    <tr>\n",
       "      <th>0</th>\n",
       "      <td>/Users/krandiash/Desktop/workspace/projects/datasci/data/FairytaleQA_Dataset/FairytaleQA_Dataset/split_by_origin/chinese-fairybook/laotsze-story.csv</td>\n",
       "      <td>chinese-fairybook</td>\n",
       "      <td>laotsze-story</td>\n",
       "      <td>chinese-fairybook/laotsze-story</td>\n",
       "    </tr>\n",
       "    <tr>\n",
       "      <th>1</th>\n",
       "      <td>/Users/krandiash/Desktop/workspace/projects/datasci/data/FairytaleQA_Dataset/FairytaleQA_Dataset/split_by_origin/chinese-fairybook/why-dog-and-cat-are-enemies-questions.csv</td>\n",
       "      <td>chinese-fairybook</td>\n",
       "      <td>why-dog-and-cat-are-enemies-questions</td>\n",
       "      <td>chinese-fairybook/why-dog-and-cat-are-enemies-questions</td>\n",
       "    </tr>\n",
       "  </tbody>\n",
       "</table>"
      ],
      "text/plain": [
       "DataPanel(nrows: 2, ncols: 4)"
      ]
     },
     "execution_count": 6,
     "metadata": {},
     "output_type": "execute_result"
    }
   ],
   "source": [
    "# Create a Document DataPanel\n",
    "doc_dp = mk.DataPanel({'path': glob(DOC_PATH + '/*/*.csv')}) # put in a column called 'path' with all the paths to the csv files\n",
    "\n",
    "# Create some useful columns\n",
    "doc_dp['source'] = doc_dp['path'].apply(lambda x: x.split('/')[-2]) # the source of the document e.g. \"anderson-fairybook\"\n",
    "doc_dp['name'] = doc_dp['path'].apply(lambda x: x.split('/')[-1].split('.')[0]) # the name of the document e.g. \"brave-tin-soldier-story.csv\"\n",
    "doc_dp['id'] = doc_dp['source'] + '/' + doc_dp['name'] # the id of the document e.g. \"anderson-fairybook/brave-tin-soldier-story\"\n",
    "\n",
    "doc_dp.head(2) # note that the columns are \"PandasSeriesColumns\""
   ]
  },
  {
   "cell_type": "code",
   "execution_count": 7,
   "metadata": {},
   "outputs": [],
   "source": [
    "doc_dp['type'] = doc_dp['name'].str.split(\"-\").str.get(-1) # the type of document among [story, questions] -- here we use pandas string methods directly on the column"
   ]
  },
  {
   "cell_type": "code",
   "execution_count": 8,
   "metadata": {},
   "outputs": [
    {
     "data": {
      "text/html": [
       "<table border=\"1\" class=\"dataframe\">\n",
       "  <thead>\n",
       "    <tr style=\"text-align: right;\">\n",
       "      <th></th>\n",
       "      <th>path (PandasSeriesColumn)</th>\n",
       "      <th>source (PandasSeriesColumn)</th>\n",
       "      <th>name (PandasSeriesColumn)</th>\n",
       "      <th>id (PandasSeriesColumn)</th>\n",
       "      <th>type (PandasSeriesColumn)</th>\n",
       "      <th>section_dp (ListColumn)</th>\n",
       "    </tr>\n",
       "  </thead>\n",
       "  <tbody>\n",
       "    <tr>\n",
       "      <th>0</th>\n",
       "      <td>/Users/krandiash/Desktop/workspace/projects/datasci/data/FairytaleQA_Dataset/FairytaleQA_Dataset/split_by_origin/chinese-fairybook/laotsze-story.csv</td>\n",
       "      <td>chinese-fairybook</td>\n",
       "      <td>laotsze-story</td>\n",
       "      <td>chinese-fairybook/laotsze-story</td>\n",
       "      <td>story</td>\n",
       "      <td>DataPanel(nrows: 5, ncols: 3)</td>\n",
       "    </tr>\n",
       "    <tr>\n",
       "      <th>1</th>\n",
       "      <td>/Users/krandiash/Desktop/workspace/projects/datasci/data/FairytaleQA_Dataset/FairytaleQA_Dataset/split_by_origin/chinese-fairybook/why-dog-and-cat-are-enemies-questions.csv</td>\n",
       "      <td>chinese-fairybook</td>\n",
       "      <td>why-dog-and-cat-are-enemies-questions</td>\n",
       "      <td>chinese-fairybook/why-dog-and-cat-are-enemies-questions</td>\n",
       "      <td>questions</td>\n",
       "      <td>DataPanel(nrows: 20, ncols: 15)</td>\n",
       "    </tr>\n",
       "    <tr>\n",
       "      <th>2</th>\n",
       "      <td>/Users/krandiash/Desktop/workspace/projects/datasci/data/FairytaleQA_Dataset/FairytaleQA_Dataset/split_by_origin/chinese-fairybook/help-in-need-questions.csv</td>\n",
       "      <td>chinese-fairybook</td>\n",
       "      <td>help-in-need-questions</td>\n",
       "      <td>chinese-fairybook/help-in-need-questions</td>\n",
       "      <td>questions</td>\n",
       "      <td>DataPanel(nrows: 28, ncols: 15)</td>\n",
       "    </tr>\n",
       "    <tr>\n",
       "      <th>3</th>\n",
       "      <td>/Users/krandiash/Desktop/workspace/projects/datasci/data/FairytaleQA_Dataset/FairytaleQA_Dataset/split_by_origin/chinese-fairybook/the-disowned-princess-questions.csv</td>\n",
       "      <td>chinese-fairybook</td>\n",
       "      <td>the-disowned-princess-questions</td>\n",
       "      <td>chinese-fairybook/the-disowned-princess-questions</td>\n",
       "      <td>questions</td>\n",
       "      <td>DataPanel(nrows: 23, ncols: 15)</td>\n",
       "    </tr>\n",
       "    <tr>\n",
       "      <th>4</th>\n",
       "      <td>/Users/krandiash/Desktop/workspace/projects/datasci/data/FairytaleQA_Dataset/FairytaleQA_Dataset/split_by_origin/chinese-fairybook/how-the-river-gods-wedding-was-broken-off-story.csv</td>\n",
       "      <td>chinese-fairybook</td>\n",
       "      <td>how-the-river-gods-wedding-was-broken-off-story</td>\n",
       "      <td>chinese-fairybook/how-the-river-gods-wedding-was-broken-off-story</td>\n",
       "      <td>story</td>\n",
       "      <td>DataPanel(nrows: 6, ncols: 3)</td>\n",
       "    </tr>\n",
       "    <tr>\n",
       "      <th>...</th>\n",
       "      <td>...</td>\n",
       "      <td>...</td>\n",
       "      <td>...</td>\n",
       "      <td>...</td>\n",
       "      <td>...</td>\n",
       "      <td>...</td>\n",
       "    </tr>\n",
       "    <tr>\n",
       "      <th>551</th>\n",
       "      <td>/Users/krandiash/Desktop/workspace/projects/datasci/data/FairytaleQA_Dataset/FairytaleQA_Dataset/split_by_origin/native-american-fairybook/the-bird-lover-story.csv</td>\n",
       "      <td>native-american-fairybook</td>\n",
       "      <td>the-bird-lover-story</td>\n",
       "      <td>native-american-fairybook/the-bird-lover-story</td>\n",
       "      <td>story</td>\n",
       "      <td>DataPanel(nrows: 17, ncols: 3)</td>\n",
       "    </tr>\n",
       "    <tr>\n",
       "      <th>552</th>\n",
       "      <td>/Users/krandiash/Desktop/workspace/projects/datasci/data/FairytaleQA_Dataset/FairytaleQA_Dataset/split_by_origin/native-american-fairybook/the-celestial-sisters-story.csv</td>\n",
       "      <td>native-american-fairybook</td>\n",
       "      <td>the-celestial-sisters-story</td>\n",
       "      <td>native-american-fairybook/the-celestial-sisters-story</td>\n",
       "      <td>story</td>\n",
       "      <td>DataPanel(nrows: 10, ncols: 3)</td>\n",
       "    </tr>\n",
       "    <tr>\n",
       "      <th>553</th>\n",
       "      <td>/Users/krandiash/Desktop/workspace/projects/datasci/data/FairytaleQA_Dataset/FairytaleQA_Dataset/split_by_origin/native-american-fairybook/white-feather-and-the-six-giants-story.csv</td>\n",
       "      <td>native-american-fairybook</td>\n",
       "      <td>white-feather-and-the-six-giants-story</td>\n",
       "      <td>native-american-fairybook/white-feather-and-the-six-giants-story</td>\n",
       "      <td>story</td>\n",
       "      <td>DataPanel(nrows: 14, ncols: 3)</td>\n",
       "    </tr>\n",
       "    <tr>\n",
       "      <th>554</th>\n",
       "      <td>/Users/krandiash/Desktop/workspace/projects/datasci/data/FairytaleQA_Dataset/FairytaleQA_Dataset/split_by_origin/native-american-fairybook/the-enchanted-moccasins-story.csv</td>\n",
       "      <td>native-american-fairybook</td>\n",
       "      <td>the-enchanted-moccasins-story</td>\n",
       "      <td>native-american-fairybook/the-enchanted-moccasins-story</td>\n",
       "      <td>story</td>\n",
       "      <td>DataPanel(nrows: 19, ncols: 3)</td>\n",
       "    </tr>\n",
       "    <tr>\n",
       "      <th>555</th>\n",
       "      <td>/Users/krandiash/Desktop/workspace/projects/datasci/data/FairytaleQA_Dataset/FairytaleQA_Dataset/split_by_origin/native-american-fairybook/the-crane-that-crossed-the-river-questions.csv</td>\n",
       "      <td>native-american-fairybook</td>\n",
       "      <td>the-crane-that-crossed-the-river-questions</td>\n",
       "      <td>native-american-fairybook/the-crane-that-crossed-the-river-questions</td>\n",
       "      <td>questions</td>\n",
       "      <td>DataPanel(nrows: 20, ncols: 15)</td>\n",
       "    </tr>\n",
       "  </tbody>\n",
       "</table>"
      ],
      "text/plain": [
       "DataPanel(nrows: 556, ncols: 6)"
      ]
     },
     "execution_count": 8,
     "metadata": {},
     "output_type": "execute_result"
    }
   ],
   "source": [
    "# Next, we can load each of the CSV files in: each CSV will be loaded as a DataPanel\n",
    "# We can store these DataPanels inside the doc_dp DataPanel i.e. it's nested (this is convenient here)\n",
    "def load_doc_csv(row):\n",
    "    \"\"\"\n",
    "    Loader for a single document csv file. This function takes a row of the doc_dp DataPanel\n",
    "    and returns a DataPanel with the contents of the csv file.\n",
    "\n",
    "    row: a row from the doc_dp DataPanel\n",
    "    \"\"\"\n",
    "    # Load the csv file from disk as a DataPanel\n",
    "    doc_data = mk.DataPanel.from_csv(row['path']) # access the 'path'\n",
    "    # Just add a doc_id column, so we know which document this CSV came from\n",
    "    doc_data['doc_id'] = [row['id']] * len(doc_data) # access the 'id'\n",
    "    return doc_data\n",
    "\n",
    "doc_dp['section_dp'] = doc_dp.map(load_doc_csv) # .map will run the function on each line of the DataPanel and put the result in a new column called 'section_dp'\n",
    "doc_dp # you should see a DataPanel with 6 columns (path, source, name, id, type, section_dp) and 556 rows"
   ]
  },
  {
   "cell_type": "code",
   "execution_count": 9,
   "metadata": {},
   "outputs": [
    {
     "data": {
      "text/plain": [
       "((276, 6), (276, 6))"
      ]
     },
     "execution_count": 9,
     "metadata": {},
     "output_type": "execute_result"
    }
   ],
   "source": [
    "# Split the doc_dp DataPanel into two DataPanels, one for stories and one for questions\n",
    "story_doc_dp = doc_dp[doc_dp['type'] == 'story']\n",
    "question_doc_dp = doc_dp[doc_dp['type'] == 'questions']\n",
    "story_doc_dp.shape, question_doc_dp.shape"
   ]
  },
  {
   "cell_type": "code",
   "execution_count": 10,
   "metadata": {},
   "outputs": [
    {
     "data": {
      "text/html": [
       "<table border=\"1\" class=\"dataframe\">\n",
       "  <thead>\n",
       "    <tr style=\"text-align: right;\">\n",
       "      <th></th>\n",
       "      <th>path (PandasSeriesColumn)</th>\n",
       "      <th>source (PandasSeriesColumn)</th>\n",
       "      <th>name (PandasSeriesColumn)</th>\n",
       "      <th>id (PandasSeriesColumn)</th>\n",
       "      <th>type (PandasSeriesColumn)</th>\n",
       "      <th>section_dp (ListColumn)</th>\n",
       "    </tr>\n",
       "  </thead>\n",
       "  <tbody>\n",
       "    <tr>\n",
       "      <th>0</th>\n",
       "      <td>/Users/krandiash/Desktop/workspace/projects/datasci/data/FairytaleQA_Dataset/FairytaleQA_Dataset/split_by_origin/chinese-fairybook/laotsze-story.csv</td>\n",
       "      <td>chinese-fairybook</td>\n",
       "      <td>laotsze-story</td>\n",
       "      <td>chinese-fairybook/laotsze-story</td>\n",
       "      <td>story</td>\n",
       "      <td>DataPanel(nrows: 5, ncols: 3)</td>\n",
       "    </tr>\n",
       "    <tr>\n",
       "      <th>1</th>\n",
       "      <td>/Users/krandiash/Desktop/workspace/projects/datasci/data/FairytaleQA_Dataset/FairytaleQA_Dataset/split_by_origin/chinese-fairybook/how-the-river-gods-wedding-was-broken-off-story.csv</td>\n",
       "      <td>chinese-fairybook</td>\n",
       "      <td>how-the-river-gods-wedding-was-broken-off-story</td>\n",
       "      <td>chinese-fairybook/how-the-river-gods-wedding-was-broken-off-story</td>\n",
       "      <td>story</td>\n",
       "      <td>DataPanel(nrows: 6, ncols: 3)</td>\n",
       "    </tr>\n",
       "  </tbody>\n",
       "</table>"
      ],
      "text/plain": [
       "DataPanel(nrows: 2, ncols: 6)"
      ]
     },
     "execution_count": 10,
     "metadata": {},
     "output_type": "execute_result"
    }
   ],
   "source": [
    "story_doc_dp.head(2)"
   ]
  },
  {
   "cell_type": "code",
   "execution_count": 11,
   "metadata": {},
   "outputs": [
    {
     "data": {
      "text/html": [
       "<table border=\"1\" class=\"dataframe\">\n",
       "  <thead>\n",
       "    <tr style=\"text-align: right;\">\n",
       "      <th></th>\n",
       "      <th>doc_id (PandasSeriesColumn)</th>\n",
       "      <th>text (PandasSeriesColumn)</th>\n",
       "      <th>section (PandasSeriesColumn)</th>\n",
       "    </tr>\n",
       "  </thead>\n",
       "  <tbody>\n",
       "    <tr>\n",
       "      <th>0</th>\n",
       "      <td>chinese-fairybook/laotsze-story</td>\n",
       "      <td>Laotsze is really older than heaven and earth put together. He is the Yellow Lord or Ancient, who created this world together with the other four. At various times he has appeared on earth, under various names. His most celebrated incarnation, however, is that of Laotsze, \"The Old Child,\" which name he was given because he made his appearance on earth with white hair.</td>\n",
       "      <td>1</td>\n",
       "    </tr>\n",
       "    <tr>\n",
       "      <th>1</th>\n",
       "      <td>chinese-fairybook/laotsze-story</td>\n",
       "      <td>He acquired all sorts of magic powers by means of which he extended his life-span. Once he hired a servant to do his bidding. He agreed to give him a hundred pieces of copper daily; yet he did not pay him, and finally he owed him seven million, two hundred thousand pieces of copper. Then he mounted a black steer and rode to the West. He wanted to take his servant along. But when they reached the Han-Gu pass, the servant refused to go further, and insisted on being paid. Yet Laotsze gave him nothing.</td>\n",
       "      <td>2</td>\n",
       "    </tr>\n",
       "  </tbody>\n",
       "</table>"
      ],
      "text/plain": [
       "DataPanel(nrows: 2, ncols: 3)"
      ]
     },
     "execution_count": 11,
     "metadata": {},
     "output_type": "execute_result"
    }
   ],
   "source": [
    "# Magic: we can now access all the DataPanels inside story_doc_dp, concatenate them and get out a single DataPanel\n",
    "story_doc_sections_dp = mk.concat(story_doc_dp['section_dp'])\n",
    "story_doc_sections_dp.head(2)"
   ]
  },
  {
   "cell_type": "code",
   "execution_count": 12,
   "metadata": {},
   "outputs": [
    {
     "name": "stdout",
     "output_type": "stream",
     "text": [
      "These rows have an extra column, while all the others have 15 columns [ 47 109]\n",
      "The extra column is called {'comments'}\n"
     ]
    },
    {
     "data": {
      "text/html": [
       "<table border=\"1\" class=\"dataframe\">\n",
       "  <thead>\n",
       "    <tr style=\"text-align: right;\">\n",
       "      <th></th>\n",
       "      <th>answer2 (PandasSeriesColumn)</th>\n",
       "      <th>attribute1 (PandasSeriesColumn)</th>\n",
       "      <th>answer4 (PandasSeriesColumn)</th>\n",
       "      <th>answer5 (PandasSeriesColumn)</th>\n",
       "      <th>attribute2 (PandasSeriesColumn)</th>\n",
       "      <th>ex-or-im1 (PandasSeriesColumn)</th>\n",
       "      <th>ex-or-im2 (PandasSeriesColumn)</th>\n",
       "      <th>doc_id (PandasSeriesColumn)</th>\n",
       "      <th>local-or-sum (PandasSeriesColumn)</th>\n",
       "      <th>question_id (PandasSeriesColumn)</th>\n",
       "      <th>answer3 (PandasSeriesColumn)</th>\n",
       "      <th>question (PandasSeriesColumn)</th>\n",
       "      <th>answer6 (PandasSeriesColumn)</th>\n",
       "      <th>answer1 (PandasSeriesColumn)</th>\n",
       "      <th>cor_section (PandasSeriesColumn)</th>\n",
       "    </tr>\n",
       "  </thead>\n",
       "  <tbody>\n",
       "    <tr>\n",
       "      <th>0</th>\n",
       "      <td>NaN</td>\n",
       "      <td>causal relationship</td>\n",
       "      <td>Whoever owned it always had enough to live on</td>\n",
       "      <td>NaN</td>\n",
       "      <td>NaN</td>\n",
       "      <td>explicit</td>\n",
       "      <td>explicit</td>\n",
       "      <td>chinese-fairybook/why-dog-and-cat-are-enemies-questions</td>\n",
       "      <td>local</td>\n",
       "      <td>1</td>\n",
       "      <td>NaN</td>\n",
       "      <td>Why was it a lucky ring?</td>\n",
       "      <td>NaN</td>\n",
       "      <td>Whoever owned it always had enough to live on.</td>\n",
       "      <td>1</td>\n",
       "    </tr>\n",
       "    <tr>\n",
       "      <th>1</th>\n",
       "      <td>They did not know whoever owned the ring would always have enough to live on.</td>\n",
       "      <td>causal relationship</td>\n",
       "      <td>They did not know about the ring's power</td>\n",
       "      <td>They did not know it was a lucky ring</td>\n",
       "      <td>NaN</td>\n",
       "      <td>implicit</td>\n",
       "      <td>implicit</td>\n",
       "      <td>chinese-fairybook/why-dog-and-cat-are-enemies-questions</td>\n",
       "      <td>local</td>\n",
       "      <td>2</td>\n",
       "      <td>NaN</td>\n",
       "      <td>Why did the man and his wife sell the ring for a small sum?</td>\n",
       "      <td>NaN</td>\n",
       "      <td>They did not know that it was a lucky ring.</td>\n",
       "      <td>1</td>\n",
       "    </tr>\n",
       "  </tbody>\n",
       "</table>"
      ],
      "text/plain": [
       "DataPanel(nrows: 2, ncols: 15)"
      ]
     },
     "execution_count": 12,
     "metadata": {},
     "output_type": "execute_result"
    }
   ],
   "source": [
    "# Similarly, we can do this for the question DataPanels\n",
    "try:\n",
    "    # This doesn't work, because a couple of the question DataPanels have different columns\n",
    "    question_doc_sections_dp = mk.concat(question_doc_dp['section_dp'])\n",
    "except:\n",
    "    # We can check which rows have different columns\n",
    "    has_extra_column = np.where(question_doc_dp.map(lambda x: len(x['section_dp'].columns)) == 16)[0]\n",
    "    print(\"These rows have an extra column, while all the others have 15 columns\", has_extra_column) # 47, 109\n",
    "    extra_column_name = set(question_doc_dp[47]['section_dp'].columns) - set(question_doc_dp[0]['section_dp'].columns)\n",
    "    print(\"The extra column is called\", extra_column_name) # called \"comments\"\n",
    "    # We can fix this by dropping the extra column if it exists\n",
    "    question_doc_dp['section_dp'] = question_doc_dp['section_dp'].map(lambda x: x.drop(extra_column_name, check_exists=False))\n",
    "    # Now we can concatenate\n",
    "    question_doc_sections_dp = mk.concat(question_doc_dp['section_dp'])\n",
    "    \n",
    "question_doc_sections_dp.head(2)"
   ]
  },
  {
   "cell_type": "code",
   "execution_count": 13,
   "metadata": {},
   "outputs": [
    {
     "data": {
      "text/plain": [
       "((556, 6), (276, 6), (276, 6), (4071, 3), (10553, 15))"
      ]
     },
     "execution_count": 13,
     "metadata": {},
     "output_type": "execute_result"
    }
   ],
   "source": [
    "# These are all the DataPanels we have so far, with their shapes\n",
    "doc_dp.shape, story_doc_dp.shape, question_doc_dp.shape, story_doc_sections_dp.shape, question_doc_sections_dp.shape"
   ]
  },
  {
   "cell_type": "markdown",
   "metadata": {},
   "source": [
    "## Sentence DataPanel"
   ]
  },
  {
   "cell_type": "code",
   "execution_count": 14,
   "metadata": {},
   "outputs": [
    {
     "data": {
      "text/html": [
       "<table border=\"1\" class=\"dataframe\">\n",
       "  <thead>\n",
       "    <tr style=\"text-align: right;\">\n",
       "      <th></th>\n",
       "      <th>path (PandasSeriesColumn)</th>\n",
       "      <th>source (PandasSeriesColumn)</th>\n",
       "      <th>name (PandasSeriesColumn)</th>\n",
       "      <th>id (PandasSeriesColumn)</th>\n",
       "    </tr>\n",
       "  </thead>\n",
       "  <tbody>\n",
       "    <tr>\n",
       "      <th>0</th>\n",
       "      <td>/Users/krandiash/Desktop/workspace/projects/datasci/data/FairytaleQA_Dataset/FairytaleQA_Dataset_Sentence_Split/split_by_origin/chinese-fairybook/laotsze-story.csv</td>\n",
       "      <td>chinese-fairybook</td>\n",
       "      <td>laotsze-story</td>\n",
       "      <td>chinese-fairybook/laotsze-story</td>\n",
       "    </tr>\n",
       "    <tr>\n",
       "      <th>1</th>\n",
       "      <td>/Users/krandiash/Desktop/workspace/projects/datasci/data/FairytaleQA_Dataset/FairytaleQA_Dataset_Sentence_Split/split_by_origin/chinese-fairybook/how-the-river-gods-wedding-was-broken-off-story.csv</td>\n",
       "      <td>chinese-fairybook</td>\n",
       "      <td>how-the-river-gods-wedding-was-broken-off-story</td>\n",
       "      <td>chinese-fairybook/how-the-river-gods-wedding-was-broken-off-story</td>\n",
       "    </tr>\n",
       "  </tbody>\n",
       "</table>"
      ],
      "text/plain": [
       "DataPanel(nrows: 2, ncols: 4)"
      ]
     },
     "execution_count": 14,
     "metadata": {},
     "output_type": "execute_result"
    }
   ],
   "source": [
    "# Create a Sentence DataPanel\n",
    "sentence_dp = mk.DataPanel({'path': glob(SENTENCE_PATH + '/*/*.csv')}) # put in a column called 'path' with all the paths to the csv files\n",
    "\n",
    "# Create some useful columns\n",
    "sentence_dp['source'] = sentence_dp['path'].apply(lambda x: x.split('/')[-2]) # the source of the document e.g. \"anderson-fairybook\"\n",
    "sentence_dp['name'] = sentence_dp['path'].apply(lambda x: x.split('/')[-1].split('.')[0]) # the name of the document e.g. \"brave-tin-soldier-story.csv\"\n",
    "sentence_dp['id'] = sentence_dp['source'] + '/' + sentence_dp['name'] # the id of the document e.g. \"anderson-fairybook/brave-tin-soldier-story\"\n",
    "\n",
    "sentence_dp.head(2) # note that the columns are \"PandasSeriesColumns\""
   ]
  },
  {
   "cell_type": "code",
   "execution_count": 15,
   "metadata": {},
   "outputs": [
    {
     "data": {
      "text/plain": [
       "array(['story', 'mrs'], dtype=object)"
      ]
     },
     "execution_count": 15,
     "metadata": {},
     "output_type": "execute_result"
    }
   ],
   "source": [
    "sentence_dp['type'] = sentence_dp['name'].str.split(\"-\").str.get(-1) # the type of document among [story, mrs] -- here we use pandas string methods directly on the column\n",
    "sentence_dp['type'].unique()"
   ]
  },
  {
   "cell_type": "code",
   "execution_count": 16,
   "metadata": {},
   "outputs": [
    {
     "data": {
      "text/html": [
       "<table border=\"1\" class=\"dataframe\">\n",
       "  <thead>\n",
       "    <tr style=\"text-align: right;\">\n",
       "      <th></th>\n",
       "      <th>path (PandasSeriesColumn)</th>\n",
       "      <th>source (PandasSeriesColumn)</th>\n",
       "      <th>name (PandasSeriesColumn)</th>\n",
       "      <th>id (PandasSeriesColumn)</th>\n",
       "      <th>type (PandasSeriesColumn)</th>\n",
       "      <th>sentence_dp (ListColumn)</th>\n",
       "    </tr>\n",
       "  </thead>\n",
       "  <tbody>\n",
       "    <tr>\n",
       "      <th>0</th>\n",
       "      <td>/Users/krandiash/Desktop/workspace/projects/datasci/data/FairytaleQA_Dataset/FairytaleQA_Dataset_Sentence_Split/split_by_origin/chinese-fairybook/laotsze-story.csv</td>\n",
       "      <td>chinese-fairybook</td>\n",
       "      <td>laotsze-story</td>\n",
       "      <td>chinese-fairybook/laotsze-story</td>\n",
       "      <td>story</td>\n",
       "      <td>DataPanel(nrows: 32, ncols: 2)</td>\n",
       "    </tr>\n",
       "    <tr>\n",
       "      <th>1</th>\n",
       "      <td>/Users/krandiash/Desktop/workspace/projects/datasci/data/FairytaleQA_Dataset/FairytaleQA_Dataset_Sentence_Split/split_by_origin/chinese-fairybook/how-the-river-gods-wedding-was-broken-off-story.csv</td>\n",
       "      <td>chinese-fairybook</td>\n",
       "      <td>how-the-river-gods-wedding-was-broken-off-story</td>\n",
       "      <td>chinese-fairybook/how-the-river-gods-wedding-was-broken-off-story</td>\n",
       "      <td>story</td>\n",
       "      <td>DataPanel(nrows: 45, ncols: 2)</td>\n",
       "    </tr>\n",
       "    <tr>\n",
       "      <th>2</th>\n",
       "      <td>/Users/krandiash/Desktop/workspace/projects/datasci/data/FairytaleQA_Dataset/FairytaleQA_Dataset_Sentence_Split/split_by_origin/chinese-fairybook/how-the-five-ancients-became-men-story.csv</td>\n",
       "      <td>chinese-fairybook</td>\n",
       "      <td>how-the-five-ancients-became-men-story</td>\n",
       "      <td>chinese-fairybook/how-the-five-ancients-became-men-story</td>\n",
       "      <td>story</td>\n",
       "      <td>DataPanel(nrows: 46, ncols: 2)</td>\n",
       "    </tr>\n",
       "    <tr>\n",
       "      <th>3</th>\n",
       "      <td>/Users/krandiash/Desktop/workspace/projects/datasci/data/FairytaleQA_Dataset/FairytaleQA_Dataset_Sentence_Split/split_by_origin/chinese-fairybook/old-dschang-story.csv</td>\n",
       "      <td>chinese-fairybook</td>\n",
       "      <td>old-dschang-story</td>\n",
       "      <td>chinese-fairybook/old-dschang-story</td>\n",
       "      <td>story</td>\n",
       "      <td>DataPanel(nrows: 89, ncols: 2)</td>\n",
       "    </tr>\n",
       "    <tr>\n",
       "      <th>4</th>\n",
       "      <td>/Users/krandiash/Desktop/workspace/projects/datasci/data/FairytaleQA_Dataset/FairytaleQA_Dataset_Sentence_Split/split_by_origin/chinese-fairybook/how-molo-stole-the-lovely-rose-red-story.csv</td>\n",
       "      <td>chinese-fairybook</td>\n",
       "      <td>how-molo-stole-the-lovely-rose-red-story</td>\n",
       "      <td>chinese-fairybook/how-molo-stole-the-lovely-rose-red-story</td>\n",
       "      <td>story</td>\n",
       "      <td>DataPanel(nrows: 72, ncols: 2)</td>\n",
       "    </tr>\n",
       "    <tr>\n",
       "      <th>...</th>\n",
       "      <td>...</td>\n",
       "      <td>...</td>\n",
       "      <td>...</td>\n",
       "      <td>...</td>\n",
       "      <td>...</td>\n",
       "      <td>...</td>\n",
       "    </tr>\n",
       "    <tr>\n",
       "      <th>273</th>\n",
       "      <td>/Users/krandiash/Desktop/workspace/projects/datasci/data/FairytaleQA_Dataset/FairytaleQA_Dataset_Sentence_Split/split_by_origin/native-american-fairybook/the-winter-spirit-and-his-visitor-story.csv</td>\n",
       "      <td>native-american-fairybook</td>\n",
       "      <td>the-winter-spirit-and-his-visitor-story</td>\n",
       "      <td>native-american-fairybook/the-winter-spirit-and-his-visitor-story</td>\n",
       "      <td>story</td>\n",
       "      <td>DataPanel(nrows: 26, ncols: 2)</td>\n",
       "    </tr>\n",
       "    <tr>\n",
       "      <th>274</th>\n",
       "      <td>/Users/krandiash/Desktop/workspace/projects/datasci/data/FairytaleQA_Dataset/FairytaleQA_Dataset_Sentence_Split/split_by_origin/native-american-fairybook/the-bird-lover-story.csv</td>\n",
       "      <td>native-american-fairybook</td>\n",
       "      <td>the-bird-lover-story</td>\n",
       "      <td>native-american-fairybook/the-bird-lover-story</td>\n",
       "      <td>story</td>\n",
       "      <td>DataPanel(nrows: 131, ncols: 2)</td>\n",
       "    </tr>\n",
       "    <tr>\n",
       "      <th>275</th>\n",
       "      <td>/Users/krandiash/Desktop/workspace/projects/datasci/data/FairytaleQA_Dataset/FairytaleQA_Dataset_Sentence_Split/split_by_origin/native-american-fairybook/the-celestial-sisters-story.csv</td>\n",
       "      <td>native-american-fairybook</td>\n",
       "      <td>the-celestial-sisters-story</td>\n",
       "      <td>native-american-fairybook/the-celestial-sisters-story</td>\n",
       "      <td>story</td>\n",
       "      <td>DataPanel(nrows: 115, ncols: 2)</td>\n",
       "    </tr>\n",
       "    <tr>\n",
       "      <th>276</th>\n",
       "      <td>/Users/krandiash/Desktop/workspace/projects/datasci/data/FairytaleQA_Dataset/FairytaleQA_Dataset_Sentence_Split/split_by_origin/native-american-fairybook/white-feather-and-the-six-giants-story.csv</td>\n",
       "      <td>native-american-fairybook</td>\n",
       "      <td>white-feather-and-the-six-giants-story</td>\n",
       "      <td>native-american-fairybook/white-feather-and-the-six-giants-story</td>\n",
       "      <td>story</td>\n",
       "      <td>DataPanel(nrows: 111, ncols: 2)</td>\n",
       "    </tr>\n",
       "    <tr>\n",
       "      <th>277</th>\n",
       "      <td>/Users/krandiash/Desktop/workspace/projects/datasci/data/FairytaleQA_Dataset/FairytaleQA_Dataset_Sentence_Split/split_by_origin/native-american-fairybook/the-enchanted-moccasins-story.csv</td>\n",
       "      <td>native-american-fairybook</td>\n",
       "      <td>the-enchanted-moccasins-story</td>\n",
       "      <td>native-american-fairybook/the-enchanted-moccasins-story</td>\n",
       "      <td>story</td>\n",
       "      <td>DataPanel(nrows: 148, ncols: 2)</td>\n",
       "    </tr>\n",
       "  </tbody>\n",
       "</table>"
      ],
      "text/plain": [
       "DataPanel(nrows: 278, ncols: 6)"
      ]
     },
     "execution_count": 16,
     "metadata": {},
     "output_type": "execute_result"
    }
   ],
   "source": [
    "# Next, we can load each of the CSV files in: each CSV will be loaded as a DataPanel\n",
    "# We can store these DataPanels inside the sentence_dp DataPanel i.e. it's nested (this is convenient here)\n",
    "def load_sentence_csv(row):\n",
    "    \"\"\"\n",
    "    Loader for a single sentence csv file. This function takes a row of the sentence_dp DataPanel\n",
    "    and returns a DataPanel with the contents of the csv file.\n",
    "\n",
    "    row: a row from the sentence_dp DataPanel\n",
    "    \"\"\"\n",
    "    # Load the csv file from disk as a DataPanel\n",
    "    sentence_data = mk.DataPanel.from_csv(row['path']) # access the 'path'\n",
    "    # Just add a sentence_id column, so we know which document this CSV came from\n",
    "    sentence_data['sentence_id'] = [row['id']] * len(sentence_data) # access the 'id'\n",
    "    # Drop the `document_id` column, because we already have the `id` column\n",
    "    sentence_data = sentence_data.drop('document_id')\n",
    "    return sentence_data\n",
    "\n",
    "sentence_dp['sentence_dp'] = sentence_dp.map(load_sentence_csv) # .map will run the function on each line of the DataPanel and put the result in a new column called 'sentence_dp'\n",
    "sentence_dp # you should see a DataPanel with 6 columns (path, source, name, id, type, sentence_dp) and 278 rows"
   ]
  },
  {
   "cell_type": "code",
   "execution_count": 17,
   "metadata": {},
   "outputs": [
    {
     "data": {
      "text/plain": [
       "((276, 6), (2, 6))"
      ]
     },
     "execution_count": 17,
     "metadata": {},
     "output_type": "execute_result"
    }
   ],
   "source": [
    "# Split the sentence_dp DataPanel into two DataPanels, one for stories and one for mrs\n",
    "story_sentence_dp = sentence_dp[sentence_dp['type'] == 'story']\n",
    "mrs_sentence_dp = sentence_dp[sentence_dp['type'] == 'mrs']\n",
    "story_sentence_dp.shape, mrs_sentence_dp.shape"
   ]
  },
  {
   "cell_type": "code",
   "execution_count": 18,
   "metadata": {},
   "outputs": [],
   "source": [
    "# Like before, we can now access all the DataPanels inside story_sentence_dp, concatenate them and get out a single DataPanel\n",
    "story_sentence_sections_dp = mk.concat(story_sentence_dp['sentence_dp'].filter(lambda x: len(x) > 0)) # need to filter out the empty DataPanels\n",
    "mrs_sentence_sections_dp = mk.concat(mrs_sentence_dp['sentence_dp'].filter(lambda x: len(x) > 0)) # need to filter out the empty DataPanels\n",
    "sentence_sections_dp = mk.concat(sentence_dp['sentence_dp'].filter(lambda x: len(x) > 0)) # need to filter out the empty DataPanels"
   ]
  },
  {
   "cell_type": "code",
   "execution_count": 19,
   "metadata": {},
   "outputs": [
    {
     "data": {
      "text/html": [
       "<table border=\"1\" class=\"dataframe\">\n",
       "  <thead>\n",
       "    <tr style=\"text-align: right;\">\n",
       "      <th></th>\n",
       "      <th>text (PandasSeriesColumn)</th>\n",
       "      <th>sentence_id (PandasSeriesColumn)</th>\n",
       "    </tr>\n",
       "  </thead>\n",
       "  <tbody>\n",
       "    <tr>\n",
       "      <th>0</th>\n",
       "      <td>Laotsze is really older than heaven and earth put together.</td>\n",
       "      <td>chinese-fairybook/laotsze-story</td>\n",
       "    </tr>\n",
       "    <tr>\n",
       "      <th>1</th>\n",
       "      <td>He is the Yellow Lord or Ancient, who created this world together with the other four.</td>\n",
       "      <td>chinese-fairybook/laotsze-story</td>\n",
       "    </tr>\n",
       "  </tbody>\n",
       "</table>"
      ],
      "text/plain": [
       "DataPanel(nrows: 2, ncols: 2)"
      ]
     },
     "execution_count": 19,
     "metadata": {},
     "output_type": "execute_result"
    }
   ],
   "source": [
    "sentence_sections_dp.head(2)"
   ]
  },
  {
   "cell_type": "code",
   "execution_count": 20,
   "metadata": {},
   "outputs": [
    {
     "data": {
      "text/plain": [
       "((278, 6), (276, 6), (2, 6), (25213, 2), (169, 2), (25382, 2))"
      ]
     },
     "execution_count": 20,
     "metadata": {},
     "output_type": "execute_result"
    }
   ],
   "source": [
    "# These are all the DataPanels we have so far, with their shapes\n",
    "sentence_dp.shape, story_sentence_dp.shape, mrs_sentence_dp.shape, story_sentence_sections_dp.shape, mrs_sentence_sections_dp.shape, sentence_sections_dp.shape"
   ]
  },
  {
   "cell_type": "code",
   "execution_count": 21,
   "metadata": {},
   "outputs": [
    {
     "data": {
      "text/html": [
       "<table border=\"1\" class=\"dataframe\">\n",
       "  <thead>\n",
       "    <tr style=\"text-align: right;\">\n",
       "      <th></th>\n",
       "      <th>path (PandasSeriesColumn)</th>\n",
       "      <th>source (PandasSeriesColumn)</th>\n",
       "      <th>name (PandasSeriesColumn)</th>\n",
       "      <th>id (PandasSeriesColumn)</th>\n",
       "      <th>type (PandasSeriesColumn)</th>\n",
       "      <th>sentence_dp (ListColumn)</th>\n",
       "    </tr>\n",
       "  </thead>\n",
       "  <tbody>\n",
       "    <tr>\n",
       "      <th>0</th>\n",
       "      <td>/Users/krandiash/Desktop/workspace/projects/datasci/data/FairytaleQA_Dataset/FairytaleQA_Dataset_Sentence_Split/split_by_origin/chinese-fairybook/laotsze-story.csv</td>\n",
       "      <td>chinese-fairybook</td>\n",
       "      <td>laotsze-story</td>\n",
       "      <td>chinese-fairybook/laotsze-story</td>\n",
       "      <td>story</td>\n",
       "      <td>DataPanel(nrows: 32, ncols: 2)</td>\n",
       "    </tr>\n",
       "    <tr>\n",
       "      <th>1</th>\n",
       "      <td>/Users/krandiash/Desktop/workspace/projects/datasci/data/FairytaleQA_Dataset/FairytaleQA_Dataset_Sentence_Split/split_by_origin/chinese-fairybook/how-the-river-gods-wedding-was-broken-off-story.csv</td>\n",
       "      <td>chinese-fairybook</td>\n",
       "      <td>how-the-river-gods-wedding-was-broken-off-story</td>\n",
       "      <td>chinese-fairybook/how-the-river-gods-wedding-was-broken-off-story</td>\n",
       "      <td>story</td>\n",
       "      <td>DataPanel(nrows: 45, ncols: 2)</td>\n",
       "    </tr>\n",
       "    <tr>\n",
       "      <th>2</th>\n",
       "      <td>/Users/krandiash/Desktop/workspace/projects/datasci/data/FairytaleQA_Dataset/FairytaleQA_Dataset_Sentence_Split/split_by_origin/chinese-fairybook/how-the-five-ancients-became-men-story.csv</td>\n",
       "      <td>chinese-fairybook</td>\n",
       "      <td>how-the-five-ancients-became-men-story</td>\n",
       "      <td>chinese-fairybook/how-the-five-ancients-became-men-story</td>\n",
       "      <td>story</td>\n",
       "      <td>DataPanel(nrows: 46, ncols: 2)</td>\n",
       "    </tr>\n",
       "    <tr>\n",
       "      <th>3</th>\n",
       "      <td>/Users/krandiash/Desktop/workspace/projects/datasci/data/FairytaleQA_Dataset/FairytaleQA_Dataset_Sentence_Split/split_by_origin/chinese-fairybook/old-dschang-story.csv</td>\n",
       "      <td>chinese-fairybook</td>\n",
       "      <td>old-dschang-story</td>\n",
       "      <td>chinese-fairybook/old-dschang-story</td>\n",
       "      <td>story</td>\n",
       "      <td>DataPanel(nrows: 89, ncols: 2)</td>\n",
       "    </tr>\n",
       "    <tr>\n",
       "      <th>4</th>\n",
       "      <td>/Users/krandiash/Desktop/workspace/projects/datasci/data/FairytaleQA_Dataset/FairytaleQA_Dataset_Sentence_Split/split_by_origin/chinese-fairybook/how-molo-stole-the-lovely-rose-red-story.csv</td>\n",
       "      <td>chinese-fairybook</td>\n",
       "      <td>how-molo-stole-the-lovely-rose-red-story</td>\n",
       "      <td>chinese-fairybook/how-molo-stole-the-lovely-rose-red-story</td>\n",
       "      <td>story</td>\n",
       "      <td>DataPanel(nrows: 72, ncols: 2)</td>\n",
       "    </tr>\n",
       "    <tr>\n",
       "      <th>...</th>\n",
       "      <td>...</td>\n",
       "      <td>...</td>\n",
       "      <td>...</td>\n",
       "      <td>...</td>\n",
       "      <td>...</td>\n",
       "      <td>...</td>\n",
       "    </tr>\n",
       "    <tr>\n",
       "      <th>273</th>\n",
       "      <td>/Users/krandiash/Desktop/workspace/projects/datasci/data/FairytaleQA_Dataset/FairytaleQA_Dataset_Sentence_Split/split_by_origin/native-american-fairybook/the-winter-spirit-and-his-visitor-story.csv</td>\n",
       "      <td>native-american-fairybook</td>\n",
       "      <td>the-winter-spirit-and-his-visitor-story</td>\n",
       "      <td>native-american-fairybook/the-winter-spirit-and-his-visitor-story</td>\n",
       "      <td>story</td>\n",
       "      <td>DataPanel(nrows: 26, ncols: 2)</td>\n",
       "    </tr>\n",
       "    <tr>\n",
       "      <th>274</th>\n",
       "      <td>/Users/krandiash/Desktop/workspace/projects/datasci/data/FairytaleQA_Dataset/FairytaleQA_Dataset_Sentence_Split/split_by_origin/native-american-fairybook/the-bird-lover-story.csv</td>\n",
       "      <td>native-american-fairybook</td>\n",
       "      <td>the-bird-lover-story</td>\n",
       "      <td>native-american-fairybook/the-bird-lover-story</td>\n",
       "      <td>story</td>\n",
       "      <td>DataPanel(nrows: 131, ncols: 2)</td>\n",
       "    </tr>\n",
       "    <tr>\n",
       "      <th>275</th>\n",
       "      <td>/Users/krandiash/Desktop/workspace/projects/datasci/data/FairytaleQA_Dataset/FairytaleQA_Dataset_Sentence_Split/split_by_origin/native-american-fairybook/the-celestial-sisters-story.csv</td>\n",
       "      <td>native-american-fairybook</td>\n",
       "      <td>the-celestial-sisters-story</td>\n",
       "      <td>native-american-fairybook/the-celestial-sisters-story</td>\n",
       "      <td>story</td>\n",
       "      <td>DataPanel(nrows: 115, ncols: 2)</td>\n",
       "    </tr>\n",
       "    <tr>\n",
       "      <th>276</th>\n",
       "      <td>/Users/krandiash/Desktop/workspace/projects/datasci/data/FairytaleQA_Dataset/FairytaleQA_Dataset_Sentence_Split/split_by_origin/native-american-fairybook/white-feather-and-the-six-giants-story.csv</td>\n",
       "      <td>native-american-fairybook</td>\n",
       "      <td>white-feather-and-the-six-giants-story</td>\n",
       "      <td>native-american-fairybook/white-feather-and-the-six-giants-story</td>\n",
       "      <td>story</td>\n",
       "      <td>DataPanel(nrows: 111, ncols: 2)</td>\n",
       "    </tr>\n",
       "    <tr>\n",
       "      <th>277</th>\n",
       "      <td>/Users/krandiash/Desktop/workspace/projects/datasci/data/FairytaleQA_Dataset/FairytaleQA_Dataset_Sentence_Split/split_by_origin/native-american-fairybook/the-enchanted-moccasins-story.csv</td>\n",
       "      <td>native-american-fairybook</td>\n",
       "      <td>the-enchanted-moccasins-story</td>\n",
       "      <td>native-american-fairybook/the-enchanted-moccasins-story</td>\n",
       "      <td>story</td>\n",
       "      <td>DataPanel(nrows: 148, ncols: 2)</td>\n",
       "    </tr>\n",
       "  </tbody>\n",
       "</table>"
      ],
      "text/plain": [
       "DataPanel(nrows: 278, ncols: 6)"
      ]
     },
     "execution_count": 21,
     "metadata": {},
     "output_type": "execute_result"
    }
   ],
   "source": [
    "sentence_dp"
   ]
  },
  {
   "cell_type": "code",
   "execution_count": 25,
   "metadata": {},
   "outputs": [
    {
     "data": {
      "text/plain": [
       "'Laotsze is really older than heaven and earth put together. He is the Yellow Lord or Ancient, who created this world together with the other four. At various times he has appeared on earth, under various names. His most celebrated incarnation, however, is that of Laotsze, \"The Old Child,\" which name he was given because he made his appearance on earth with white hair. He acquired all sorts of magic powers by means of which he extended his life-span. Once he hired a servant to do his bidding. He agreed to give him a hundred pieces of copper daily; yet he did not pay him, and finally he owed him seven million, two hundred thousand pieces of copper. Then he mounted a black steer and rode to the West. He wanted to take his servant along. But when they reached the Han-Gu pass, the servant refused to go further, and insisted on being paid. Yet Laotsze gave him nothing. When they came to the house of the guardian of the pass, red clouds appeared in the sky. The guardian understood this sign and knew that a holy man was drawing near. So he went out to meet him and took him into his house. He questioned him with regard to hidden knowledge, but Laotsze only stuck out his tongue at him and would not say a word. Nevertheless, the guardian of the pass treated him with the greatest respect in his home. Laotsze\\'s servant told the servant of the guardian that his master owed him a great deal of money, and begged the latter to put in a good word for him. When the guardian\\'s servant heard how large a sum it was, he was tempted to win so wealthy a man for a son-in-law, and he married him to his daughter. Finally the guardian heard of the matter and came to Laotsze together with the servant. Then Laotsze said to his servant: \"You rascally servant. You really should have been dead long ago. I hired you, and since I was poor and could give you no money, I gave you a life-giving talisman to eat. That is how you still happen to be alive. I said to you: \\'If you will follow me into the West, the land of Blessed Repose, I will pay you your wages in yellow gold. But you did not wish to do this.\\'\" And with that he patted his servant\\'s neck. There upon the latter opened his mouth, and spat out the life-giving talisman. The magic signs written on it with cinnabar, quite fresh and well-preserved, might still be seen. But the servant suddenly collapsed and turned into a heap of dry bones. Then the guardian of the pass cast himself to earth and pleaded for him. He promised to pay the servant for Laotsze and begged the latter to restore him to life. So Laotsze placed the talisman among the bones and at once the servant came to life again. The guardian of the pass paid him his wages and dismissed him. Then he adored Laotsze as his master, and the latter taught him the art of eternal life, and left him his teachings, in five thousand words, which the guardian wrote down. The book which thus came into being is the Tao Teh King, \"The Book of the Way and Life.\" Laotsze then disappeared from the eyes of men. The guardian of the pass however, followed his teachings, and was given a place among the immortals.'"
      ]
     },
     "execution_count": 25,
     "metadata": {},
     "output_type": "execute_result"
    }
   ],
   "source": [
    "\" \".join(sentence_sections_dp[sentence_sections_dp['sentence_id'] == 'chinese-fairybook/laotsze-story']['text'])"
   ]
  },
  {
   "cell_type": "code",
   "execution_count": null,
   "metadata": {},
   "outputs": [],
   "source": []
  }
 ],
 "metadata": {
  "kernelspec": {
   "display_name": "Python 3.8.13 ('main')",
   "language": "python",
   "name": "python3"
  },
  "language_info": {
   "codemirror_mode": {
    "name": "ipython",
    "version": 3
   },
   "file_extension": ".py",
   "mimetype": "text/x-python",
   "name": "python",
   "nbconvert_exporter": "python",
   "pygments_lexer": "ipython3",
   "version": "3.8.13"
  },
  "orig_nbformat": 4,
  "vscode": {
   "interpreter": {
    "hash": "ab18cddb8ae987f9fcad609bab256ee8c7e4643ba1abd7d069292f87b9e782b7"
   }
  }
 },
 "nbformat": 4,
 "nbformat_minor": 2
}
