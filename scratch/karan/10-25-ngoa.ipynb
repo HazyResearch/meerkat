{
 "cells": [
  {
   "cell_type": "code",
   "execution_count": 1,
   "metadata": {},
   "outputs": [],
   "source": [
    "import io\n",
    "import aiohttp\n",
    "import asyncio\n",
    "import requests\n",
    "import numpy as np\n",
    "from tqdm.auto import tqdm\n",
    "from glob import glob\n",
    "\n",
    "import meerkat as mk\n",
    "\n",
    "from PIL import Image"
   ]
  },
  {
   "cell_type": "code",
   "execution_count": 2,
   "metadata": {},
   "outputs": [
    {
     "name": "stderr",
     "output_type": "stream",
     "text": [
      "/home/karan/meerkat/meerkat/datapanel.py:436: DtypeWarning: Columns (28) have mixed types. Specify dtype option on import or set low_memory=False.\n",
      "  return cls.from_pandas(pd.read_csv(filepath, *args, **kwargs))\n"
     ]
    }
   ],
   "source": [
    "ngoa = mk.get(\n",
    "    'ngoa',\n",
    "    '/data/datasets/opendata/',\n",
    ")\n",
    "\n",
    "ngoa_images = ngoa['published_images']\n",
    "# ngoa_images['image_224'] = ngoa_images['iiifurl'].to_lambda(lambda x: Image.open(io.BytesIO(requests.get(f\"{x}/full/224,224/0/default.jpg\").content)))"
   ]
  },
  {
   "cell_type": "code",
   "execution_count": 9,
   "metadata": {},
   "outputs": [],
   "source": [
    "ngoa_images['image_224_url'] = ngoa_images['iiifurl'].to_lambda(lambda x: f\"{x}/full/224,224/0/default.jpg\")"
   ]
  },
  {
   "cell_type": "code",
   "execution_count": 10,
   "metadata": {},
   "outputs": [
    {
     "data": {
      "text/html": [
       "<table border=\"1\" class=\"dataframe\">\n",
       "  <thead>\n",
       "    <tr style=\"text-align: right;\">\n",
       "      <th></th>\n",
       "      <th>uuid (PandasSeriesColumn)</th>\n",
       "      <th>iiifurl (PandasSeriesColumn)</th>\n",
       "      <th>iiifthumburl (PandasSeriesColumn)</th>\n",
       "      <th>viewtype (PandasSeriesColumn)</th>\n",
       "      <th>sequence (PandasSeriesColumn)</th>\n",
       "      <th>width (PandasSeriesColumn)</th>\n",
       "      <th>height (PandasSeriesColumn)</th>\n",
       "      <th>maxpixels (PandasSeriesColumn)</th>\n",
       "      <th>created (PandasSeriesColumn)</th>\n",
       "      <th>modified (PandasSeriesColumn)</th>\n",
       "      <th>depictstmsobjectid (PandasSeriesColumn)</th>\n",
       "      <th>assistivetext (PandasSeriesColumn)</th>\n",
       "      <th>image (ImageColumn)</th>\n",
       "      <th>image_224_url (LambdaColumn)</th>\n",
       "    </tr>\n",
       "  </thead>\n",
       "  <tbody>\n",
       "    <tr>\n",
       "      <th>0</th>\n",
       "      <td>00004dec-8300-4487-8d89-562d0126b6a1</td>\n",
       "      <td>https://api.nga.gov/iiif/00004dec-8300-4487-8d89-562d0126b6a1</td>\n",
       "      <td>https://api.nga.gov/iiif/00004dec-8300-4487-8d89-562d0126b6a1/full/!200,200/0/default.jpg</td>\n",
       "      <td>primary</td>\n",
       "      <td>0.0</td>\n",
       "      <td>2623</td>\n",
       "      <td>4000</td>\n",
       "      <td>640.0</td>\n",
       "      <td>2010-09-07 15:08:48-04</td>\n",
       "      <td>2022-06-15 12:51:00-04</td>\n",
       "      <td>11975</td>\n",
       "      <td>NaN</td>\n",
       "      <td><img src=\"data:image/jpeg;base64,/9j/4AAQSkZJRgABAQAAAQABAAD/2wBDAAgGBgcGBQgHBwcJCQgKDBQNDAsLDBkSEw8UHRofHh0aHBwgJC4nICIsIxwcKDcpLDAxNDQ0Hyc5PTgyPC4zNDL/2wBDAQgJCQwLDBgNDRgyIRwhMjIyMjIyMjIyMjIyMjIyMjIyMjIyMjIyMjIyMjIyMjIyMjIyMjIyMjIyMjIyMjIyMjL/wAARCABAACoDASIAAhEBAxEB/8QAHwAAAQUBAQEBAQEAAAAAAAAAAAECAwQFBgcICQoL/8QAtRAAAgEDAwIEAwUFBAQAAAF9AQIDAAQRBRIhMUEGE1FhByJxFDKBkaEII0KxwRVS0fAkM2JyggkKFhcYGRolJicoKSo0NTY3ODk6Q0RFRkdISUpTVFVWV1hZWmNkZWZnaGlqc3R1dnd4eXqDhIWGh4iJipKTlJWWl5iZmqKjpKWmp6ipqrKztLW2t7i5usLDxMXGx8jJytLT1NXW19jZ2uHi4+Tl5ufo6erx8vP09fb3+Pn6/8QAHwEAAwEBAQEBAQEBAQAAAAAAAAECAwQFBgcICQoL/8QAtREAAgECBAQDBAcFBAQAAQJ3AAECAxEEBSExBhJBUQdhcRMiMoEIFEKRobHBCSMzUvAVYnLRChYkNOEl8RcYGRomJygpKjU2Nzg5OkNERUZHSElKU1RVVldYWVpjZGVmZ2hpanN0dXZ3eHl6goOEhYaHiImKkpOUlZaXmJmaoqOkpaanqKmqsrO0tba3uLm6wsPExcbHyMnK0tPU1dbX2Nna4uPk5ebn6Onq8vP09fb3+Pn6/9oADAMBAAIRAxEAPwD2C2s7UWsOLaDGxf8AlmPT6VN9mtx0giH/AAAVTuNQj03TbeaVHZWCIAmM5I/+tVQ+JI+9hegZxkxj/GuGVWEXZs64YepOPNFaf15msbaD/nhF/wB8Ck+zwD/lhF/3wKzTr8Ybb9iu93psGf50xvEcCnBtLrPptH+NL20O5X1Wt/L+X+ZqNbW5HNvEf+ACuMvbG2+33GII8ea38A9TXT2GrxahM8SRSxuq7iJABxnHrWPeRZvZz/00b+daQkpK6MakJQfLJWZc1/nRrI+kkZH/AHyaeJvtylZ3dyP+WajH0Oe1R6//AMgazAGTuTH/AHzQim3tUaMMA8W6XP8AE2cAH/PauSX8R9tD0IW9hHvd/oMKwSPI7vwoAY5yV9/eq80aGdUjkSRBw2AFyKnijllkYFdu7AVt/wB/1BHOR1+lRTxRGOR7VukuzHv6j2IzUtaGkXZ2uTaRD5OuXK79wEC8/U5pt03+lzf9dG/nRom8axcq64byVOPxp1ygN1Mc/wAbfzrfD/D82ceM/iL0X5EmtYOlaeS2PnjP1+Ws+7vrfzfKlll8guXRkXIXPYqe2c/nWve6fLqWk2SwyIjIqPlwcfdrPPhzUCcm5t8+wP8AhWFWM+d8qOvDTpezSnKzV/62HRvutZJI55dxjZwhQKrAdcY5HWodFWxuYGglBW6J+UknH4U9fDupJvK3VuGdSrYzyD26UweHNSQgrcW3HTrx+lRapdPlNb0eVxVRK/8AXYtaSFGv3mwADyUOB0HsKS5z9qm/32/nU+jaPcadcTSzyRvvQKNpPr71Hcn/AEqX/fP8666CajqrHnYtxdT3XdWX5GxYHOnWp/6Yp/6CKs1mWupafb6XbPLf2saLCmWaZQB8o96lg1rSrnHkanZS54Gy4U/yNbHMXaSqy6lYu+1b22ZgcbRKpOfTrUxmj/56LwcdaAHGudumP2ubn/lo3863RdW7KWWeIqBkkOOK5i6vrQ3kxF5b48xv+Wq+v1oQH//Z\"></td>\n",
       "      <td>LambdaCell</td>\n",
       "    </tr>\n",
       "    <tr>\n",
       "      <th>1</th>\n",
       "      <td>00007f61-4922-417b-8f27-893ea328206c</td>\n",
       "      <td>https://api.nga.gov/iiif/00007f61-4922-417b-8f27-893ea328206c</td>\n",
       "      <td>https://api.nga.gov/iiif/00007f61-4922-417b-8f27-893ea328206c/full/!200,200/0/default.jpg</td>\n",
       "      <td>primary</td>\n",
       "      <td>0.0</td>\n",
       "      <td>3365</td>\n",
       "      <td>4332</td>\n",
       "      <td>NaN</td>\n",
       "      <td>2013-07-05 15:41:08-04</td>\n",
       "      <td>2022-05-23 14:59:28-04</td>\n",
       "      <td>17387</td>\n",
       "      <td>NaN</td>\n",
       "      <td><img src=\"data:image/jpeg;base64,/9j/4AAQSkZJRgABAQAAAQABAAD/2wBDAAgGBgcGBQgHBwcJCQgKDBQNDAsLDBkSEw8UHRofHh0aHBwgJC4nICIsIxwcKDcpLDAxNDQ0Hyc5PTgyPC4zNDL/2wBDAQgJCQwLDBgNDRgyIRwhMjIyMjIyMjIyMjIyMjIyMjIyMjIyMjIyMjIyMjIyMjIyMjIyMjIyMjIyMjIyMjIyMjL/wAARCABAADIDASIAAhEBAxEB/8QAHwAAAQUBAQEBAQEAAAAAAAAAAAECAwQFBgcICQoL/8QAtRAAAgEDAwIEAwUFBAQAAAF9AQIDAAQRBRIhMUEGE1FhByJxFDKBkaEII0KxwRVS0fAkM2JyggkKFhcYGRolJicoKSo0NTY3ODk6Q0RFRkdISUpTVFVWV1hZWmNkZWZnaGlqc3R1dnd4eXqDhIWGh4iJipKTlJWWl5iZmqKjpKWmp6ipqrKztLW2t7i5usLDxMXGx8jJytLT1NXW19jZ2uHi4+Tl5ufo6erx8vP09fb3+Pn6/8QAHwEAAwEBAQEBAQEBAQAAAAAAAAECAwQFBgcICQoL/8QAtREAAgECBAQDBAcFBAQAAQJ3AAECAxEEBSExBhJBUQdhcRMiMoEIFEKRobHBCSMzUvAVYnLRChYkNOEl8RcYGRomJygpKjU2Nzg5OkNERUZHSElKU1RVVldYWVpjZGVmZ2hpanN0dXZ3eHl6goOEhYaHiImKkpOUlZaXmJmaoqOkpaanqKmqsrO0tba3uLm6wsPExcbHyMnK0tPU1dbX2Nna4uPk5ebn6Onq8vP09fb3+Pn6/9oADAMBAAIRAxEAPwD0VkDJgkgH0qZVHApBginAVwJHXcXHFKRmlA96WiwXIytRspzUxqNjSsFyuV5PFFOPWipsVckUmiedbe3eZ9xRBk7Rk/gKSPmsnXNWS2j+yp80jkBgOwq72RKV3Y0NO1W31SGSW3EqrG2xvNQoQcZ71PJdxJavc798SAsTH83T0xXCzazcafFdmJd8Vyp3K3G1sYyKjsNeY6a1nEm1HkYgjqRgdfShvQtQZ22narb6okjQLMvlttYSxlCD+NWXNcRp+tvpWpN9q3GGcjf/ALJ6Zrs2cOqspBUjII70XJasxpPNFJkUVIEkZIFcfGiyzSyzB927OCCea6+M1g3du8N9MAPkYhxx6072KirmLrIhlstoLDaCOmOlQwWiW8QwdueVOOo71Lqhd7Yo3bJq3YKt/okEjDJIIzUXutDbbRnN6qpkiyDnHIHrXfaA8knh2yaX73l4/DPFcjeWkj3K2qDcXYKPxrvooVtrWKBMYjQKPwqrmUhm33NFOzRS0JHxkYBqK+RQEmbGB8rZp8TDAzUx2MpVgCD1B5oWwXszidfmRoCsXJYcYp2jO1nosMMqMpGThlIxn2rsBZ2SuHFtCHHQ7BxTpreCfmWNXPQFhStpYvnXY5bQ0+3629wVOyAZBI79q6mQ1GkKQArAqRr6KtIXbBDEH6Cn0Ibuxhfk9aKaXGaKm5R//9k=\"></td>\n",
       "      <td>LambdaCell</td>\n",
       "    </tr>\n",
       "    <tr>\n",
       "      <th>2</th>\n",
       "      <td>0000bd8c-39de-4453-b55d-5e28a9beed38</td>\n",
       "      <td>https://api.nga.gov/iiif/0000bd8c-39de-4453-b55d-5e28a9beed38</td>\n",
       "      <td>https://api.nga.gov/iiif/0000bd8c-39de-4453-b55d-5e28a9beed38/full/!200,200/0/default.jpg</td>\n",
       "      <td>primary</td>\n",
       "      <td>0.0</td>\n",
       "      <td>3500</td>\n",
       "      <td>4688</td>\n",
       "      <td>NaN</td>\n",
       "      <td>2013-08-05 14:31:59-04</td>\n",
       "      <td>2022-05-23 15:05:58-04</td>\n",
       "      <td>19245</td>\n",
       "      <td>NaN</td>\n",
       "      <td><img src=\"data:image/jpeg;base64,/9j/4AAQSkZJRgABAQAAAQABAAD/2wBDAAgGBgcGBQgHBwcJCQgKDBQNDAsLDBkSEw8UHRofHh0aHBwgJC4nICIsIxwcKDcpLDAxNDQ0Hyc5PTgyPC4zNDL/2wBDAQgJCQwLDBgNDRgyIRwhMjIyMjIyMjIyMjIyMjIyMjIyMjIyMjIyMjIyMjIyMjIyMjIyMjIyMjIyMjIyMjIyMjL/wAARCABAADADASIAAhEBAxEB/8QAHwAAAQUBAQEBAQEAAAAAAAAAAAECAwQFBgcICQoL/8QAtRAAAgEDAwIEAwUFBAQAAAF9AQIDAAQRBRIhMUEGE1FhByJxFDKBkaEII0KxwRVS0fAkM2JyggkKFhcYGRolJicoKSo0NTY3ODk6Q0RFRkdISUpTVFVWV1hZWmNkZWZnaGlqc3R1dnd4eXqDhIWGh4iJipKTlJWWl5iZmqKjpKWmp6ipqrKztLW2t7i5usLDxMXGx8jJytLT1NXW19jZ2uHi4+Tl5ufo6erx8vP09fb3+Pn6/8QAHwEAAwEBAQEBAQEBAQAAAAAAAAECAwQFBgcICQoL/8QAtREAAgECBAQDBAcFBAQAAQJ3AAECAxEEBSExBhJBUQdhcRMiMoEIFEKRobHBCSMzUvAVYnLRChYkNOEl8RcYGRomJygpKjU2Nzg5OkNERUZHSElKU1RVVldYWVpjZGVmZ2hpanN0dXZ3eHl6goOEhYaHiImKkpOUlZaXmJmaoqOkpaanqKmqsrO0tba3uLm6wsPExcbHyMnK0tPU1dbX2Nna4uPk5ebn6Onq8vP09fb3+Pn6/9oADAMBAAIRAxEAPwD0VQAabdXVvZW5nuG2oOOFJP5CnjrXN6vrAuvOsxCywJKqGUHkkHBx9DXlneiRfHXh5n2/aZAc4+aFhVpfFugscLeAk/8ATNv8KxrrS1S2Z2UPgZ/izXITRqbhJYYmAzkBsgH8DQtdirI9ehliuIVliO5GGQcYpHUelc94Z1i5ndbK4ZJE8stE4XaQoxwfXriujc5osSMZxHGznooJNchEklxdG6mkUwj5/LA79f511F6CbC5A6+U38q5K1n/dEjn2pNtMqMU0Nvb8Pbu6Tur7C/yuQBgE+mOgrEOoRzW8T3KFpycJheW9xReW0d4JjHPcqiuQ8Kkc4/HBFZMs7O9vGiOsRZgjs+5l455/OuhRjJGV3E1PCepyWWtpHI27fLtc5/vcf4flXqhPNePaPaW8up2xhjkDeaoBLZyd3PevXieTUztfQFew4AEEHkHg1wLKbW7mtz1jdl/AV361xfiBDDrkpxgSqrD8sH+VYyWhpB2ZzF6kkN5K5MixyYKSRnHlnuD9fUg9fase4uXW4iPmCRd+5WB65B/DP0rqpZOq4HPtXOXulNLfpMNvkAksDxzW1KavqKcXbQ6PwXai41eNgNyW4Lluxbpx+NeinrXKeBoFW3uZQMAbUH+fyrrG4FJu5I9a57xTpk9y0F3bxtJsUo4UZOOoOO/et9WqQNUbgtNTzN3VQUkOG9DwazpCZD5cYZ3PACgkmvW3SKX/AFkaP/vKDQkccQzFHGn+6oFCVi3K5i+FdPm0/RVW4QpNI5dlPUDoAfyrYkpzN71CzerZqrkH/9k=\"></td>\n",
       "      <td>LambdaCell</td>\n",
       "    </tr>\n",
       "    <tr>\n",
       "      <th>3</th>\n",
       "      <td>0000e5a4-7d32-4c2a-97c6-a6b571c9fd71</td>\n",
       "      <td>https://api.nga.gov/iiif/0000e5a4-7d32-4c2a-97c6-a6b571c9fd71</td>\n",
       "      <td>https://api.nga.gov/iiif/0000e5a4-7d32-4c2a-97c6-a6b571c9fd71/full/!200,200/0/default.jpg</td>\n",
       "      <td>primary</td>\n",
       "      <td>0.0</td>\n",
       "      <td>2252</td>\n",
       "      <td>3000</td>\n",
       "      <td>NaN</td>\n",
       "      <td>2013-03-18 14:39:55-04</td>\n",
       "      <td>2022-05-17 18:19:25-04</td>\n",
       "      <td>153987</td>\n",
       "      <td>NaN</td>\n",
       "      <td><img src=\"data:image/jpeg;base64,/9j/4AAQSkZJRgABAQAAAQABAAD/2wBDAAgGBgcGBQgHBwcJCQgKDBQNDAsLDBkSEw8UHRofHh0aHBwgJC4nICIsIxwcKDcpLDAxNDQ0Hyc5PTgyPC4zNDL/2wBDAQgJCQwLDBgNDRgyIRwhMjIyMjIyMjIyMjIyMjIyMjIyMjIyMjIyMjIyMjIyMjIyMjIyMjIyMjIyMjIyMjIyMjL/wAARCABAADADASIAAhEBAxEB/8QAHwAAAQUBAQEBAQEAAAAAAAAAAAECAwQFBgcICQoL/8QAtRAAAgEDAwIEAwUFBAQAAAF9AQIDAAQRBRIhMUEGE1FhByJxFDKBkaEII0KxwRVS0fAkM2JyggkKFhcYGRolJicoKSo0NTY3ODk6Q0RFRkdISUpTVFVWV1hZWmNkZWZnaGlqc3R1dnd4eXqDhIWGh4iJipKTlJWWl5iZmqKjpKWmp6ipqrKztLW2t7i5usLDxMXGx8jJytLT1NXW19jZ2uHi4+Tl5ufo6erx8vP09fb3+Pn6/8QAHwEAAwEBAQEBAQEBAQAAAAAAAAECAwQFBgcICQoL/8QAtREAAgECBAQDBAcFBAQAAQJ3AAECAxEEBSExBhJBUQdhcRMiMoEIFEKRobHBCSMzUvAVYnLRChYkNOEl8RcYGRomJygpKjU2Nzg5OkNERUZHSElKU1RVVldYWVpjZGVmZ2hpanN0dXZ3eHl6goOEhYaHiImKkpOUlZaXmJmaoqOkpaanqKmqsrO0tba3uLm6wsPExcbHyMnK0tPU1dbX2Nna4uPk5ebn6Onq8vP09fb3+Pn6/9oADAMBAAIRAxEAPwDCvbi5RZ5Ibm8aUXUisFlbaq7uK04LhrK2W41eeSB2GVhEjNI3vtzgD3NXL69g0mzlulJbZM6RREYDyk5yfUAVxitLe3TT3EjSSucszHqazWpZ0k/ip5VK21syqOjySnP6cU2LX4ipjumYsxOXjuSrD+lamiadp4sUd4fMmJ+8fX0FJrtnp7xyRm3VJduVYjnjknNLTYCibSWf99ZahcSxgEtG8jeYg9cA4YfT8qghu7hZ7OOWeVQmCzeYxLsXwB156flVDQ5JVu5oI5DmH95E46jnBFbd5ZJePa6iHERSVVmQJkbs8EegNAjH8bSsmrQ2Y4SGPcfdnYkn+VZFrJs+fAb2rU8cjd4pl/65p/Ws7ToZJ7uOKCMSSHn5j8oHrVL4Qe517W9tDDGlvdsks+0AqwU4zycevbNZ+tW32BdrzbkJwgBy3TnP1NW0tVSF3JD3C8O4XG302nrWJN9qvLpoCitI3G4dMdyfSkhsteH3hsZZjMwzJEGYtwVwTxWhpOoLqGuSWqDEE0RwCOhUhgf0qs9lb6fbOJAHEnG5+rcf/rqt4UAXxVFtzt2vjPpih9WIZ44Rn8WOiKWd0QBVGSTzQltPo7pG3yyOgd/b2rpdSt408YtdNGSxiUIxGcYyTj3/AMayYfERheSK8tPM2szK2QSBnocjsaE9Blm1imdQIl5cHc8nGPoOv51HcfYtIjZ2XfOy465LnqePTNXBJdm2N1OVhDAlYh1Ve2739u1UYrHzLsSSgPKy5jUjp6HPtSAw71bu+nW5k+QEZRDnnvWj4VBPiWAsMHa/f2rcvtPRbfDusvABBT7px1HpWV4egki8VQ5cMPnHTBA28U76C6mpr1wIfEbsWYBYlPHHr/hWVo2mGa6Nw65t4QNobnc/XH0GfzrpRaz/AG+5a5hkdCzbTtJHXjipPJRRgW8mPaJqhPQozdVdbdPMnf5XYbI16uadpERursyS8gDLL2UdhV94lK/LauX6AmInH50y1gPl5nhl80gBiIzg4A9OPWi+gibU0hksZN6Aq5CtkdqwPD7A67HG3+th3IT6jHFbxtoSOIZfceW2KqS20gvbdrWB05G9tuB1596FtYGf/9k=\"></td>\n",
       "      <td>LambdaCell</td>\n",
       "    </tr>\n",
       "    <tr>\n",
       "      <th>4</th>\n",
       "      <td>0001668a-dd1c-48e8-9267-b6d1697d43c8</td>\n",
       "      <td>https://api.nga.gov/iiif/0001668a-dd1c-48e8-9267-b6d1697d43c8</td>\n",
       "      <td>https://api.nga.gov/iiif/0001668a-dd1c-48e8-9267-b6d1697d43c8/full/!200,200/0/default.jpg</td>\n",
       "      <td>primary</td>\n",
       "      <td>0.0</td>\n",
       "      <td>3446</td>\n",
       "      <td>4448</td>\n",
       "      <td>NaN</td>\n",
       "      <td>2014-01-02 14:50:50-05</td>\n",
       "      <td>2022-05-23 15:39:38-04</td>\n",
       "      <td>23830</td>\n",
       "      <td>NaN</td>\n",
       "      <td><img src=\"data:image/jpeg;base64,/9j/4AAQSkZJRgABAQAAAQABAAD/2wBDAAgGBgcGBQgHBwcJCQgKDBQNDAsLDBkSEw8UHRofHh0aHBwgJC4nICIsIxwcKDcpLDAxNDQ0Hyc5PTgyPC4zNDL/2wBDAQgJCQwLDBgNDRgyIRwhMjIyMjIyMjIyMjIyMjIyMjIyMjIyMjIyMjIyMjIyMjIyMjIyMjIyMjIyMjIyMjIyMjL/wAARCABAADIDASIAAhEBAxEB/8QAHwAAAQUBAQEBAQEAAAAAAAAAAAECAwQFBgcICQoL/8QAtRAAAgEDAwIEAwUFBAQAAAF9AQIDAAQRBRIhMUEGE1FhByJxFDKBkaEII0KxwRVS0fAkM2JyggkKFhcYGRolJicoKSo0NTY3ODk6Q0RFRkdISUpTVFVWV1hZWmNkZWZnaGlqc3R1dnd4eXqDhIWGh4iJipKTlJWWl5iZmqKjpKWmp6ipqrKztLW2t7i5usLDxMXGx8jJytLT1NXW19jZ2uHi4+Tl5ufo6erx8vP09fb3+Pn6/8QAHwEAAwEBAQEBAQEBAQAAAAAAAAECAwQFBgcICQoL/8QAtREAAgECBAQDBAcFBAQAAQJ3AAECAxEEBSExBhJBUQdhcRMiMoEIFEKRobHBCSMzUvAVYnLRChYkNOEl8RcYGRomJygpKjU2Nzg5OkNERUZHSElKU1RVVldYWVpjZGVmZ2hpanN0dXZ3eHl6goOEhYaHiImKkpOUlZaXmJmaoqOkpaanqKmqsrO0tba3uLm6wsPExcbHyMnK0tPU1dbX2Nna4uPk5ebn6Onq8vP09fb3+Pn6/9oADAMBAAIRAxEAPwDvLeIBanyqjJpsQwo+lLubfhduMZ5rz7HTccGQnhl/OlP0ppYEZZEI6feFVI5Ga/nieEqiKpXaeec+n0p2C5bYp3GPqKikhUjOKXCtkLJIp7g//XqRhxiiwXM4wDJoqyRyaKVh3J0+5TQf3n4VXvLoWNjLcupZY13EDrWVHq1xJYLdKnDWjTfeGeD6euO1UibMsTxrLlW3Y3ZGDjBzWfaNI+q3MIedMhRkTE4HPr16/hVS21h7uB5EEmGmkwWA4UglR+HFJb3ji/EgVguYyuADjr/9erdmJJo69F8tdpcuVUDc3U9akByMVzyeIi13ND5ZLiESBduOAmTzn1/Srum6kb67u41UCODCnjkNluPyAqNCrMukc9aKQk5NFKwFLxD8vh27brhP6is+C2i/4R5SY03f2c3zbRnOetX/ABGM+Gb32jz+tVVUJ4dGDjGntjNHUpbHPeH0jNnmTA3Mdrn+E+nPY1oW7o96C6xRozKGdU6Y9OO/UU3wvaR3eiIodgxck5b5VUAckdyT/niprTSbV9TnlW4kUzd2fcARxgcfxdR7DitE9CJL3mV/IQeJbxPLCr9lZwh6r8uB/n1rS8NBBc6ttAGLjH4c1np5a+J7pV+XFpsO5i2G6EZNaHh0EXeq8cef6dazLb0NosMmikOMmimSN1K0bUNJntVIzIuOSQP0rMi0i/l09bdmijUwCI5LMcfTArbhl4HNWVcU0J32Oc0zw5JZQPG9wQjtkxpGApA6d/0q8NLh3S/PK/mkFwSAOBgdBWxuU8HFJhQeAKadhO7MOPw3ZCdpyrszHJDOSOg9/ar0FlbWe9oIlQvjcQMZq6zDHUVXlbAODQBCTz2oqEyc9aKm5Vj/2Q==\"></td>\n",
       "      <td>LambdaCell</td>\n",
       "    </tr>\n",
       "  </tbody>\n",
       "</table>"
      ],
      "text/plain": [
       "DataPanel(nrows: 5, ncols: 14)"
      ]
     },
     "execution_count": 10,
     "metadata": {},
     "output_type": "execute_result"
    }
   ],
   "source": [
    "ngoa_images.lz[:5]"
   ]
  },
  {
   "cell_type": "code",
   "execution_count": null,
   "metadata": {},
   "outputs": [],
   "source": [
    "# Downloading images at 224 x 224 resolution and then running them through CLIP"
   ]
  },
  {
   "cell_type": "code",
   "execution_count": 112,
   "metadata": {
    "tags": []
   },
   "outputs": [],
   "source": [
    "async def get(i, session):\n",
    "    url = ngoa_images['image_224_url'][i]\n",
    "    async with session.get(url=url) as response:\n",
    "        res = await response.read()\n",
    "        try:\n",
    "            res = Image.open(io.BytesIO(res))\n",
    "        except:\n",
    "            res = Image.fromarray(np.zeros((224, 224, 3), dtype=np.uint8))\n",
    "        return res\n",
    "            \n",
    "async def all_work(indices):\n",
    "    async with aiohttp.ClientSession() as session:\n",
    "        return await asyncio.gather(*[get(i, session) for i in indices])\n",
    "\n"
   ]
  },
  {
   "cell_type": "code",
   "execution_count": 113,
   "metadata": {},
   "outputs": [
    {
     "data": {
      "application/vnd.jupyter.widget-view+json": {
       "model_id": "9d1723718ed84f29a9fce06376efe070",
       "version_major": 2,
       "version_minor": 0
      },
      "text/plain": [
       "  0%|          | 0/105 [00:00<?, ?it/s]"
      ]
     },
     "metadata": {},
     "output_type": "display_data"
    }
   ],
   "source": [
    "all_outputs = []\n",
    "for i in tqdm(range(0, len(ngoa_images), 1000)):\n",
    "    outputs = await all_work(range(i, min(i+1000, len(ngoa_images))))\n",
    "    all_outputs.extend(outputs)"
   ]
  },
  {
   "cell_type": "code",
   "execution_count": 116,
   "metadata": {},
   "outputs": [],
   "source": [
    "ngoa_images['image_224'] = all_outputs"
   ]
  },
  {
   "cell_type": "code",
   "execution_count": 117,
   "metadata": {},
   "outputs": [],
   "source": [
    "image_224_dp = ngoa_images['uuid', 'image_224']"
   ]
  },
  {
   "cell_type": "code",
   "execution_count": 122,
   "metadata": {},
   "outputs": [
    {
     "data": {
      "application/vnd.jupyter.widget-view+json": {
       "model_id": "7889cb86949a4607a4e20127d5973cce",
       "version_major": 2,
       "version_minor": 0
      },
      "text/plain": [
       "  0%|          | 0/3266 [00:00<?, ?it/s]"
      ]
     },
     "metadata": {},
     "output_type": "display_data"
    },
    {
     "data": {
      "text/html": [
       "<table border=\"1\" class=\"dataframe\">\n",
       "  <thead>\n",
       "    <tr style=\"text-align: right;\">\n",
       "      <th></th>\n",
       "      <th>uuid (PandasSeriesColumn)</th>\n",
       "      <th>image_224 (ListColumn)</th>\n",
       "      <th>clip(image_224) (NumpyArrayColumn)</th>\n",
       "    </tr>\n",
       "  </thead>\n",
       "  <tbody>\n",
       "    <tr>\n",
       "      <th>0</th>\n",
       "      <td>00004dec-8300-4487-8d89-562d0126b6a1</td>\n",
       "      <td><PIL.JpegImagePlugin.JpegImageFile image mode=RGB size=224x224 at 0x7F31C9AF2730></td>\n",
       "      <td>np.ndarray(shape=(512,))</td>\n",
       "    </tr>\n",
       "    <tr>\n",
       "      <th>1</th>\n",
       "      <td>00007f61-4922-417b-8f27-893ea328206c</td>\n",
       "      <td><PIL.JpegImagePlugin.JpegImageFile image mode=RGB size=224x224 at 0x7F31B2741D60></td>\n",
       "      <td>np.ndarray(shape=(512,))</td>\n",
       "    </tr>\n",
       "    <tr>\n",
       "      <th>2</th>\n",
       "      <td>0000bd8c-39de-4453-b55d-5e28a9beed38</td>\n",
       "      <td><PIL.JpegImagePlugin.JpegImageFile image mode=RGB size=224x224 at 0x7F31B2741940></td>\n",
       "      <td>np.ndarray(shape=(512,))</td>\n",
       "    </tr>\n",
       "    <tr>\n",
       "      <th>3</th>\n",
       "      <td>0000e5a4-7d32-4c2a-97c6-a6b571c9fd71</td>\n",
       "      <td><PIL.JpegImagePlugin.JpegImageFile image mode=RGB size=224x224 at 0x7F31C56704C0></td>\n",
       "      <td>np.ndarray(shape=(512,))</td>\n",
       "    </tr>\n",
       "    <tr>\n",
       "      <th>4</th>\n",
       "      <td>0001668a-dd1c-48e8-9267-b6d1697d43c8</td>\n",
       "      <td><PIL.JpegImagePlugin.JpegImageFile image mode=RGB size=224x224 at 0x7F31C2784130></td>\n",
       "      <td>np.ndarray(shape=(512,))</td>\n",
       "    </tr>\n",
       "    <tr>\n",
       "      <th>...</th>\n",
       "      <td>...</td>\n",
       "      <td>...</td>\n",
       "      <td>...</td>\n",
       "    </tr>\n",
       "    <tr>\n",
       "      <th>104500</th>\n",
       "      <td>fffe6d61-e686-478d-bafb-ddae9a48c4de</td>\n",
       "      <td><PIL.JpegImagePlugin.JpegImageFile image mode=RGB size=224x224 at 0x7F314E243910></td>\n",
       "      <td>np.ndarray(shape=(512,))</td>\n",
       "    </tr>\n",
       "    <tr>\n",
       "      <th>104501</th>\n",
       "      <td>fffeab03-0f91-49ba-884a-648e6f84598f</td>\n",
       "      <td><PIL.JpegImagePlugin.JpegImageFile image mode=RGB size=224x224 at 0x7F314DDF9BE0></td>\n",
       "      <td>np.ndarray(shape=(512,))</td>\n",
       "    </tr>\n",
       "    <tr>\n",
       "      <th>104502</th>\n",
       "      <td>ffff2faf-fb5a-479c-b5dc-408245cdc1a0</td>\n",
       "      <td><PIL.JpegImagePlugin.JpegImageFile image mode=RGB size=224x224 at 0x7F314FC36BB0></td>\n",
       "      <td>np.ndarray(shape=(512,))</td>\n",
       "    </tr>\n",
       "    <tr>\n",
       "      <th>104503</th>\n",
       "      <td>ffff3431-0d5a-4f85-b7f3-2678093d2418</td>\n",
       "      <td><PIL.JpegImagePlugin.JpegImageFile image mode=RGB size=224x224 at 0x7F314FDA7D60></td>\n",
       "      <td>np.ndarray(shape=(512,))</td>\n",
       "    </tr>\n",
       "    <tr>\n",
       "      <th>104504</th>\n",
       "      <td>ffffc381-9fa3-470d-bfc2-441c643c6039</td>\n",
       "      <td><PIL.JpegImagePlugin.JpegImageFile image mode=RGB size=224x224 at 0x7F31509D90D0></td>\n",
       "      <td>np.ndarray(shape=(512,))</td>\n",
       "    </tr>\n",
       "  </tbody>\n",
       "</table>"
      ],
      "text/plain": [
       "DataPanel(nrows: 104505, ncols: 3)"
      ]
     },
     "execution_count": 122,
     "metadata": {},
     "output_type": "execute_result"
    }
   ],
   "source": [
    "mk.embed(image_224_dp, 'image_224', modality='image', pbar=True, batch_size=32)"
   ]
  },
  {
   "cell_type": "code",
   "execution_count": null,
   "metadata": {},
   "outputs": [],
   "source": [
    "image_224_dp['uuid', 'clip(image_224)'].write(path='/data/datasets/opendata/ngoa_published_images_224_clip.mk')"
   ]
  },
  {
   "cell_type": "code",
   "execution_count": 133,
   "metadata": {},
   "outputs": [
    {
     "data": {
      "application/vnd.jupyter.widget-view+json": {
       "model_id": "98f3a309d21349f9a73a261b2d86cf45",
       "version_major": 2,
       "version_minor": 0
      },
      "text/plain": [
       "  0%|          | 0/104505 [00:00<?, ?it/s]"
      ]
     },
     "metadata": {},
     "output_type": "display_data"
    },
    {
     "data": {
      "text/html": [
       "<table border=\"1\" class=\"dataframe\">\n",
       "  <thead>\n",
       "    <tr style=\"text-align: right;\">\n",
       "      <th></th>\n",
       "      <th>(ListColumn)</th>\n",
       "    </tr>\n",
       "  </thead>\n",
       "  <tbody>\n",
       "    <tr>\n",
       "      <th>0</th>\n",
       "      <td>None</td>\n",
       "    </tr>\n",
       "    <tr>\n",
       "      <th>1</th>\n",
       "      <td>None</td>\n",
       "    </tr>\n",
       "    <tr>\n",
       "      <th>2</th>\n",
       "      <td>None</td>\n",
       "    </tr>\n",
       "    <tr>\n",
       "      <th>3</th>\n",
       "      <td>None</td>\n",
       "    </tr>\n",
       "    <tr>\n",
       "      <th>4</th>\n",
       "      <td>None</td>\n",
       "    </tr>\n",
       "    <tr>\n",
       "      <th>...</th>\n",
       "      <td>...</td>\n",
       "    </tr>\n",
       "    <tr>\n",
       "      <th>104500</th>\n",
       "      <td>None</td>\n",
       "    </tr>\n",
       "    <tr>\n",
       "      <th>104501</th>\n",
       "      <td>None</td>\n",
       "    </tr>\n",
       "    <tr>\n",
       "      <th>104502</th>\n",
       "      <td>None</td>\n",
       "    </tr>\n",
       "    <tr>\n",
       "      <th>104503</th>\n",
       "      <td>None</td>\n",
       "    </tr>\n",
       "    <tr>\n",
       "      <th>104504</th>\n",
       "      <td>None</td>\n",
       "    </tr>\n",
       "  </tbody>\n",
       "</table>"
      ],
      "text/plain": [
       "ListColumn([None, None, None, None, None, None, ...])"
      ]
     },
     "execution_count": 133,
     "metadata": {},
     "output_type": "execute_result"
    }
   ],
   "source": [
    "# Save to disk\n",
    "image_224_dp.map(lambda x: x['image_224'].save(f\"/data/datasets/opendata/published_images_224/{x['uuid']}.jpg\"), pbar=True, num_workers=8)"
   ]
  },
  {
   "cell_type": "code",
   "execution_count": 3,
   "metadata": {},
   "outputs": [],
   "source": [
    "# Load back images and CLIP embeddings\n",
    "dp = mk.DataPanel({'image_path': glob('/data/datasets/opendata/published_images_224/*')})\n",
    "dp['uuid'] = dp['image_path'].str.split(\"/\").str.get(-1).str.rstrip(\".jpg\")\n",
    "dp['image_224'] = mk.ImageColumn.from_filepaths(dp['image_path'])\n",
    "dp = dp.merge(mk.DataPanel.read('/data/datasets/opendata/ngoa_published_images_224_clip.mk/'), on='uuid')\n",
    "dp = dp.sort('uuid')"
   ]
  },
  {
   "cell_type": "code",
   "execution_count": 4,
   "metadata": {},
   "outputs": [
    {
     "data": {
      "text/html": [
       "<table border=\"1\" class=\"dataframe\">\n",
       "  <thead>\n",
       "    <tr style=\"text-align: right;\">\n",
       "      <th></th>\n",
       "      <th>uuid (PandasSeriesColumn)</th>\n",
       "      <th>image_path (PandasSeriesColumn)</th>\n",
       "      <th>image_224 (ImageColumn)</th>\n",
       "      <th>clip(image_224) (NumpyArrayColumn)</th>\n",
       "    </tr>\n",
       "  </thead>\n",
       "  <tbody>\n",
       "    <tr>\n",
       "      <th>0</th>\n",
       "      <td>00004dec-8300-4487-8d89-562d0126b6a1</td>\n",
       "      <td>/data/datasets/opendata/published_images_224/00004dec-8300-4487-8d89-562d0126b6a1.jpg</td>\n",
       "      <td><img src=\"data:image/jpeg;base64,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\"></td>\n",
       "      <td>np.ndarray(shape=(512,))</td>\n",
       "    </tr>\n",
       "    <tr>\n",
       "      <th>1</th>\n",
       "      <td>00007f61-4922-417b-8f27-893ea328206c</td>\n",
       "      <td>/data/datasets/opendata/published_images_224/00007f61-4922-417b-8f27-893ea328206c.jpg</td>\n",
       "      <td><img src=\"data:image/jpeg;base64,/9j/4AAQSkZJRgABAQAAAQABAAD/2wBDAAgGBgcGBQgHBwcJCQgKDBQNDAsLDBkSEw8UHRofHh0aHBwgJC4nICIsIxwcKDcpLDAxNDQ0Hyc5PTgyPC4zNDL/2wBDAQgJCQwLDBgNDRgyIRwhMjIyMjIyMjIyMjIyMjIyMjIyMjIyMjIyMjIyMjIyMjIyMjIyMjIyMjIyMjIyMjIyMjL/wAARCABAAEADASIAAhEBAxEB/8QAHwAAAQUBAQEBAQEAAAAAAAAAAAECAwQFBgcICQoL/8QAtRAAAgEDAwIEAwUFBAQAAAF9AQIDAAQRBRIhMUEGE1FhByJxFDKBkaEII0KxwRVS0fAkM2JyggkKFhcYGRolJicoKSo0NTY3ODk6Q0RFRkdISUpTVFVWV1hZWmNkZWZnaGlqc3R1dnd4eXqDhIWGh4iJipKTlJWWl5iZmqKjpKWmp6ipqrKztLW2t7i5usLDxMXGx8jJytLT1NXW19jZ2uHi4+Tl5ufo6erx8vP09fb3+Pn6/8QAHwEAAwEBAQEBAQEBAQAAAAAAAAECAwQFBgcICQoL/8QAtREAAgECBAQDBAcFBAQAAQJ3AAECAxEEBSExBhJBUQdhcRMiMoEIFEKRobHBCSMzUvAVYnLRChYkNOEl8RcYGRomJygpKjU2Nzg5OkNERUZHSElKU1RVVldYWVpjZGVmZ2hpanN0dXZ3eHl6goOEhYaHiImKkpOUlZaXmJmaoqOkpaanqKmqsrO0tba3uLm6wsPExcbHyMnK0tPU1dbX2Nna4uPk5ebn6Onq8vP09fb3+Pn6/9oADAMBAAIRAxEAPwD0baMen0pYkVU4JPfJp4wRSgdhXAkddxQvtTsUAe9OFFguNxmkK0+kNFguRFTUTL8pzVg1C3Sk0NCqSKeDUSGkurqKygMsrYHb3poVipqOv2elSbLpbgkDJMcRYDPvWgJ08gTFtiFQ2X+XAPrnpXGXeqDUGuN6MEf5fyqjfeIbmPTlsLlRJGGX950YqP59qEyuRnoRmTyTKGDIAWyvOR7Vm2PiCz1C6+zQpcLLgsBJCVBA75rk7DxHKNKSzRNuWfBXnILE/h1qJ7+7sbmG7UnMa7QDjlfQ0r62HyOx6ISMVC54qnpOr2+r2nmwnDrw6HqpqyxoZI5K5zXS0uqiNxJsVRtx0PrXRJWdrVszLFcR/eQ4P0ovoOO5kKsFuc8gDvt61i6vDDPcpycFlBB4zzW7MHQcdc+nasDV5GBM2eYyOvsRU3VzZJ2uWIrRbeNRnY4JK8ds1VvDujZQ3ABGf/rV0EMaXulwSlcllOPzrJv7c24AUgqQaXUHqiPwQZotckiAPlmM7sn8v1rvnGawPCOnmG3lvZFw8xwPoK6BsiquYvcSMgipGQSxMh6EYqGJhjmpwy0kIx5niiBSXAdeDXH68xuN0UKFjkDaoyTyO3evRngt5j+8hjc+rKDSRW1pA+6KCKNv7yqAaVtbmnPocrp8rW2lwQyKw2Lg5GKpSu2pahFaxqTlsE9hXcS28E3zSxIx9SOaiS1hgbMEUcbdyF5NDWtw51bYmhiSCBIoxhUAUConbApWaRedyn/gNRu4702zNH//2Q==\"></td>\n",
       "      <td>np.ndarray(shape=(512,))</td>\n",
       "    </tr>\n",
       "    <tr>\n",
       "      <th>2</th>\n",
       "      <td>0000bd8c-39de-4453-b55d-5e28a9beed38</td>\n",
       "      <td>/data/datasets/opendata/published_images_224/0000bd8c-39de-4453-b55d-5e28a9beed38.jpg</td>\n",
       "      <td><img src=\"data:image/jpeg;base64,/9j/4AAQSkZJRgABAQAAAQABAAD/2wBDAAgGBgcGBQgHBwcJCQgKDBQNDAsLDBkSEw8UHRofHh0aHBwgJC4nICIsIxwcKDcpLDAxNDQ0Hyc5PTgyPC4zNDL/2wBDAQgJCQwLDBgNDRgyIRwhMjIyMjIyMjIyMjIyMjIyMjIyMjIyMjIyMjIyMjIyMjIyMjIyMjIyMjIyMjIyMjIyMjL/wAARCABAAEADASIAAhEBAxEB/8QAHwAAAQUBAQEBAQEAAAAAAAAAAAECAwQFBgcICQoL/8QAtRAAAgEDAwIEAwUFBAQAAAF9AQIDAAQRBRIhMUEGE1FhByJxFDKBkaEII0KxwRVS0fAkM2JyggkKFhcYGRolJicoKSo0NTY3ODk6Q0RFRkdISUpTVFVWV1hZWmNkZWZnaGlqc3R1dnd4eXqDhIWGh4iJipKTlJWWl5iZmqKjpKWmp6ipqrKztLW2t7i5usLDxMXGx8jJytLT1NXW19jZ2uHi4+Tl5ufo6erx8vP09fb3+Pn6/8QAHwEAAwEBAQEBAQEBAQAAAAAAAAECAwQFBgcICQoL/8QAtREAAgECBAQDBAcFBAQAAQJ3AAECAxEEBSExBhJBUQdhcRMiMoEIFEKRobHBCSMzUvAVYnLRChYkNOEl8RcYGRomJygpKjU2Nzg5OkNERUZHSElKU1RVVldYWVpjZGVmZ2hpanN0dXZ3eHl6goOEhYaHiImKkpOUlZaXmJmaoqOkpaanqKmqsrO0tba3uLm6wsPExcbHyMnK0tPU1dbX2Nna4uPk5ebn6Onq8vP09fb3+Pn6/9oADAMBAAIRAxEAPwD0QAA/0qVQD2qMdc1R1XV/7LjiCQmaeUkIgOOB1Ofxry7HcN1HxFpelFhdSuCpwdsTNg+nAqhH468OyHAunH+9ERVF2/tXVJiwaOTapABO0rj61HfaYscBZo1faM8bifypXRdjbHi7QTjF4D/2zb/Cr1lqthqRItJd5xn7pHH415TdwxyjfFFIi5xk7hn862dE1O/09cWzxpjG+JkyGHqD1zVWFp0PSSB6VE49qZp96L/T4brbt8wZxn3xUrdaVhXEHWub1yeW4vGggdUMa7dx9+T/AErox1rjr9zHrNyrDkvn8DSk7DirkqbdNtgzsGnkwu/HAGQP61SvrwCCYxXEuYkL7vMPIHJPIxipL6dFtJDIrsijd8hG78PeufuLFLiBZFu7mSAc+UpA75xg8VrBpq7JlFrYmTUkns2e+GQDgMV4YdjWPf3LC6gnjykQXKq3GevOPypLu522Eixwu1uCMh5AxGO/9OtMliheQeckk0zKMANwB6AZ4rVRSdyHJvQ9I8Har9tsZLdsBocMv+6f/r/zro81xHgS1SCa7eIMECKvJzyTmu1zWLtfQocvWuW8U25hvobpR8sq7G+o/wDrfyrqR1rL8SwmbRJWUZaJlkGfrg/oTUNXRUXZnJu4lgZGGVZSDn0rnts9tuinaVJNw23CMdrL79QPoRj3rcV8jp0qJ5cgrgflSjJxNZK5y2oXEn2eXEwkjkRjuB9uAecZ6HPFWIZA8qyEFmOFRB1IHr6Cl1TSZLpv3BUBiN+eOKt6ZZrHPFCijcxCnHc9K6eaPKc/K+Y9E8MWP2LRYywHmTHzGx+n6VsUqRiONY1GAoAH4UNxWTGPHWkmhW4tpYH+7IhU/iKaGp4bmpA8+uNLvdPcrPC4A48wDKn3zVVpYyuCw3Yr07dUbRQPy8MbH/aUGlyl855PJKo43ZPtzWt4X0e7uNWhupYJEtojv3uu0MR0Az15r0NIYU5jhiU/7KgUpY1S0E5XDHU1G/Whm9GIqNm6ZP40yD//2Q==\"></td>\n",
       "      <td>np.ndarray(shape=(512,))</td>\n",
       "    </tr>\n",
       "    <tr>\n",
       "      <th>3</th>\n",
       "      <td>0000e5a4-7d32-4c2a-97c6-a6b571c9fd71</td>\n",
       "      <td>/data/datasets/opendata/published_images_224/0000e5a4-7d32-4c2a-97c6-a6b571c9fd71.jpg</td>\n",
       "      <td><img src=\"data:image/jpeg;base64,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\"></td>\n",
       "      <td>np.ndarray(shape=(512,))</td>\n",
       "    </tr>\n",
       "    <tr>\n",
       "      <th>4</th>\n",
       "      <td>0001668a-dd1c-48e8-9267-b6d1697d43c8</td>\n",
       "      <td>/data/datasets/opendata/published_images_224/0001668a-dd1c-48e8-9267-b6d1697d43c8.jpg</td>\n",
       "      <td><img src=\"data:image/jpeg;base64,/9j/4AAQSkZJRgABAQAAAQABAAD/2wBDAAgGBgcGBQgHBwcJCQgKDBQNDAsLDBkSEw8UHRofHh0aHBwgJC4nICIsIxwcKDcpLDAxNDQ0Hyc5PTgyPC4zNDL/2wBDAQgJCQwLDBgNDRgyIRwhMjIyMjIyMjIyMjIyMjIyMjIyMjIyMjIyMjIyMjIyMjIyMjIyMjIyMjIyMjIyMjIyMjL/wAARCABAAEADASIAAhEBAxEB/8QAHwAAAQUBAQEBAQEAAAAAAAAAAAECAwQFBgcICQoL/8QAtRAAAgEDAwIEAwUFBAQAAAF9AQIDAAQRBRIhMUEGE1FhByJxFDKBkaEII0KxwRVS0fAkM2JyggkKFhcYGRolJicoKSo0NTY3ODk6Q0RFRkdISUpTVFVWV1hZWmNkZWZnaGlqc3R1dnd4eXqDhIWGh4iJipKTlJWWl5iZmqKjpKWmp6ipqrKztLW2t7i5usLDxMXGx8jJytLT1NXW19jZ2uHi4+Tl5ufo6erx8vP09fb3+Pn6/8QAHwEAAwEBAQEBAQEBAQAAAAAAAAECAwQFBgcICQoL/8QAtREAAgECBAQDBAcFBAQAAQJ3AAECAxEEBSExBhJBUQdhcRMiMoEIFEKRobHBCSMzUvAVYnLRChYkNOEl8RcYGRomJygpKjU2Nzg5OkNERUZHSElKU1RVVldYWVpjZGVmZ2hpanN0dXZ3eHl6goOEhYaHiImKkpOUlZaXmJmaoqOkpaanqKmqsrO0tba3uLm6wsPExcbHyMnK0tPU1dbX2Nna4uPk5ebn6Onq8vP09fb3+Pn6/9oADAMBAAIRAxEAPwDuoIQBnFWQoHFNiHyildsAkdR6159jpuKHjzgkA+9KpU9Cp+hpA7gfME/PFISM7TEpJ5HIzTsFx5HtSZXuMfhVC2lkkvrqKSDakZXbsPTIz2q18mQN0qk8DJP9aLBcdtR+mDUE0C4OBVlF2g5ctz1OKZIODzSsFxY/uiklI2NSKSF/Cuej15r6PVGgjZRbRfxEAhvm5H5CqQWubl4f3A+tZssKySBzv3gYBDEfy+lZ3iHW5rMi3ZXjeRI3QoQ2BuO78xRcaixMn7tlj2owU4GeTnPt0q1bYlxe4afNK2oXSB51yy8ibIAC+/Wulih8hI4zK8mD1f6Vx8d1ILqYkPgyoFO0cHaAD/8AWrSvPE32aSBnQqjLNkFOrA4Tv+dS9CrNnRhsGkk5WsHUteNkk2YtrqxRNwyC2wMoOPc1thmMKlwA5UEgetIVmOK/umyc/LXFeHokmsdZd1VsoduRnH3hXbYzC3X7prj/AAwgXTtWOecMD+Bel1KT0ZV8aRRpqdmI1VAYhkKMdzV2FIUgIJjSWMclxlXHY4P64ql42IGsWSk7v3XH610MlhDIrSrMwii48yV85I649AOmaqOjYT2RjRSBp2ZkjiWVlZmKj90RxjkdTjPPvUPieKNJ7Vok2I+5F3cFhwdx+ueP/r1Z07R7QX8sgnmQTncTI+TGdx+Xkcscd/eq3iOKKC4sIBkujndliwIPRuen9MUS1QQ0kSeJooo5cBFGboDjjjYorsWwF9gK5LxJ87o6YYG6PTnoFFdXz5K564pdQeyJly0ZA6kVzNjoV7ZpeW6eXtlOd5dsc5z25roYZPlHNWRIDQu5Oq0OX1Pwzd6jOLh5YvMACgBCdoz1BJrTi0doo40kupJBGAFBRQBjvjnn3rZDgilJU9QKoV3axjR6XCnmqHmYStvfcRgnAHp7VDJ4Zs7iXzHEmQu0fOeOc9zW7hR0AoLZHUUXAzDodgVw9ujZznIz/OrT4VNqgAAYAqZmHrVWaTApMEf/2Q==\"></td>\n",
       "      <td>np.ndarray(shape=(512,))</td>\n",
       "    </tr>\n",
       "    <tr>\n",
       "      <th>...</th>\n",
       "      <td>...</td>\n",
       "      <td>...</td>\n",
       "      <td>...</td>\n",
       "      <td>...</td>\n",
       "    </tr>\n",
       "    <tr>\n",
       "      <th>104500</th>\n",
       "      <td>fffe6d61-e686-478d-bafb-ddae9a48c4de</td>\n",
       "      <td>/data/datasets/opendata/published_images_224/fffe6d61-e686-478d-bafb-ddae9a48c4de.jpg</td>\n",
       "      <td><img src=\"data:image/jpeg;base64,/9j/4AAQSkZJRgABAQAAAQABAAD/2wBDAAgGBgcGBQgHBwcJCQgKDBQNDAsLDBkSEw8UHRofHh0aHBwgJC4nICIsIxwcKDcpLDAxNDQ0Hyc5PTgyPC4zNDL/2wBDAQgJCQwLDBgNDRgyIRwhMjIyMjIyMjIyMjIyMjIyMjIyMjIyMjIyMjIyMjIyMjIyMjIyMjIyMjIyMjIyMjIyMjL/wAARCABAAEADASIAAhEBAxEB/8QAHwAAAQUBAQEBAQEAAAAAAAAAAAECAwQFBgcICQoL/8QAtRAAAgEDAwIEAwUFBAQAAAF9AQIDAAQRBRIhMUEGE1FhByJxFDKBkaEII0KxwRVS0fAkM2JyggkKFhcYGRolJicoKSo0NTY3ODk6Q0RFRkdISUpTVFVWV1hZWmNkZWZnaGlqc3R1dnd4eXqDhIWGh4iJipKTlJWWl5iZmqKjpKWmp6ipqrKztLW2t7i5usLDxMXGx8jJytLT1NXW19jZ2uHi4+Tl5ufo6erx8vP09fb3+Pn6/8QAHwEAAwEBAQEBAQEBAQAAAAAAAAECAwQFBgcICQoL/8QAtREAAgECBAQDBAcFBAQAAQJ3AAECAxEEBSExBhJBUQdhcRMiMoEIFEKRobHBCSMzUvAVYnLRChYkNOEl8RcYGRomJygpKjU2Nzg5OkNERUZHSElKU1RVVldYWVpjZGVmZ2hpanN0dXZ3eHl6goOEhYaHiImKkpOUlZaXmJmaoqOkpaanqKmqsrO0tba3uLm6wsPExcbHyMnK0tPU1dbX2Nna4uPk5ebn6Onq8vP09fb3+Pn6/9oADAMBAAIRAxEAPwD1Wa4aIE7V2qecnpWfF4gt5H2bkBztJByAffHSqmtX3k6ibeRWeIoGKoMknJ4/QfnXDvlg86QpbhlJW6STBJ9CPX/CuFRudDlY9UiufOA2bSMZ4P8An0qVpnAGV/WsnQBs05cszHO0l+vFaN3OkNtJIxwFQt+AFKxaZKJmZc7R+dHmuFztGPrVS3uI3sBKDkMxGR/vYq2xwyr65NACCV9/3QfxqQyNkZAAPvUbMqkZIGeKUtlkU9zQBxHiRFOp3MhnKuWWONWfA3ECuWfSra2K7J0lG0lyRgkhs9O3pxW5q9ks3xBM1y2bcOPlPQYQH+YrElgVLGIGN2ZjyhOSSQx49OufxrVaGLLEGoagFRZGlaKSYZcS8cheg9PmrWS6ure5SDz2mjlYxOJCThT1/T8KyZ7OGzlnT95NiTchGcqvoAfTFJPqMDXrs6tGFmJQt64HcHnp/KjcLncWt7Bc6O3kPuCSrlehwXHb8a2hMGuAnTGRz36f415mt1N9niW03GU7fuHGSBn/ANlrattdnuEFxFEzBgWDoc4BxnP5D9alxKTOtuLhRdLDnBDKfr1/wqwrBpIiO5rgbnxTDa3QMgkMw5UBeSeePpz1rY0zWp5tSsraW3MPmEg7yQTgHoD/AJ4qbMrmM3xLZzy6rdPCrkgN82OFPl4rko75ktI7iaVYp1OAR2H+c16/NBDK8yvgqxwwP0rl/F+mx22gmextbcmFxvDpu+Toce/SqjLoS49Th21Uw3TEO0lyQVKKcqxzxjAHbmrCaOmqa1c2fmBCoWRScqpYD+H8D+lYGl+IbvT7mWKWcorjkyLnBHT6fUV2Fn4gs4Lzzlv43OwFfMkBOT13EZ6Y4+taO62IWpvWPh2QyANcLPBHLhXxtdccHgDH41u6fodnpzbraGJXz94IFP4461zdh4oiik+ywT2rM5Zx5YdtuSSSeMY75JFX9J1uaeDfLN5jq2GAwON33vyrN3NFY1tS0xr1oitz5JjJJ2xq2765qhZ+Fre21yHUnuJ5rhScGRs5yCO/Tr2rdWQPGG2kbhnB60oH7xCexqLsqyI5IledyePm9BVe5shcJjzABnIzGGx9KuyQsXLBxgnPSgQMV++PypDscvc+EbeZXCtEu7JyIuSSepBJB/KudPw8Me8Miy5P348If++elekG3kIwJB1/u0G2kA/1i/8AfNUpNE8qPPV8KRwRgRGWN+TtZAN/txzjvjOK6vTdGhggtHU/cQZ4+8cVrfZJCoDNGw7ApmnpbuiBQy8e1HM2CjYOM89qFZS4wQcNz7UyS1klVkZhhhg4yKS2sfs7/LtClgSB3xUlH//Z\"></td>\n",
       "      <td>np.ndarray(shape=(512,))</td>\n",
       "    </tr>\n",
       "    <tr>\n",
       "      <th>104501</th>\n",
       "      <td>fffeab03-0f91-49ba-884a-648e6f84598f</td>\n",
       "      <td>/data/datasets/opendata/published_images_224/fffeab03-0f91-49ba-884a-648e6f84598f.jpg</td>\n",
       "      <td><img src=\"data:image/jpeg;base64,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\"></td>\n",
       "      <td>np.ndarray(shape=(512,))</td>\n",
       "    </tr>\n",
       "    <tr>\n",
       "      <th>104502</th>\n",
       "      <td>ffff2faf-fb5a-479c-b5dc-408245cdc1a0</td>\n",
       "      <td>/data/datasets/opendata/published_images_224/ffff2faf-fb5a-479c-b5dc-408245cdc1a0.jpg</td>\n",
       "      <td><img src=\"data:image/jpeg;base64,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\"></td>\n",
       "      <td>np.ndarray(shape=(512,))</td>\n",
       "    </tr>\n",
       "    <tr>\n",
       "      <th>104503</th>\n",
       "      <td>ffff3431-0d5a-4f85-b7f3-2678093d2418</td>\n",
       "      <td>/data/datasets/opendata/published_images_224/ffff3431-0d5a-4f85-b7f3-2678093d2418.jpg</td>\n",
       "      <td><img src=\"data:image/jpeg;base64,/9j/4AAQSkZJRgABAQAAAQABAAD/2wBDAAgGBgcGBQgHBwcJCQgKDBQNDAsLDBkSEw8UHRofHh0aHBwgJC4nICIsIxwcKDcpLDAxNDQ0Hyc5PTgyPC4zNDL/2wBDAQgJCQwLDBgNDRgyIRwhMjIyMjIyMjIyMjIyMjIyMjIyMjIyMjIyMjIyMjIyMjIyMjIyMjIyMjIyMjIyMjIyMjL/wAARCABAAEADASIAAhEBAxEB/8QAHwAAAQUBAQEBAQEAAAAAAAAAAAECAwQFBgcICQoL/8QAtRAAAgEDAwIEAwUFBAQAAAF9AQIDAAQRBRIhMUEGE1FhByJxFDKBkaEII0KxwRVS0fAkM2JyggkKFhcYGRolJicoKSo0NTY3ODk6Q0RFRkdISUpTVFVWV1hZWmNkZWZnaGlqc3R1dnd4eXqDhIWGh4iJipKTlJWWl5iZmqKjpKWmp6ipqrKztLW2t7i5usLDxMXGx8jJytLT1NXW19jZ2uHi4+Tl5ufo6erx8vP09fb3+Pn6/8QAHwEAAwEBAQEBAQEBAQAAAAAAAAECAwQFBgcICQoL/8QAtREAAgECBAQDBAcFBAQAAQJ3AAECAxEEBSExBhJBUQdhcRMiMoEIFEKRobHBCSMzUvAVYnLRChYkNOEl8RcYGRomJygpKjU2Nzg5OkNERUZHSElKU1RVVldYWVpjZGVmZ2hpanN0dXZ3eHl6goOEhYaHiImKkpOUlZaXmJmaoqOkpaanqKmqsrO0tba3uLm6wsPExcbHyMnK0tPU1dbX2Nna4uPk5ebn6Onq8vP09fb3+Pn6/9oADAMBAAIRAxEAPwD2DvTPNBGQDin1VI25FYmxP5g9DTZbmKGMySuEQdWY4FQ7uK5bxza3Nzp9rLE5SK3l8yQj16DjuOTSA6aDWLC5k8uG5jd+wB61b3j0NeSwec0qeXKwYkBQqg4PrXqozgZPNAEwfJAwad0qFfvCpqYBVdvvNz3qwKgb7xoAhZyGIVdxHXnAFZ+tWs97pcsSFQ3BwOc47VeDbYXIIzlj+tOD/MygMMdyOP8A69IDhfDunyz6rHMI12QHLFhkD/69d7uf+6D9DVeC2W1L+WF+dtxwMZqZJcuFIKjBzuoAkjIYgjPWrFV4/vcf3jVimAlQufmNT1XcgFiaAOAn1Gc6/JmaSOI3BRhu4C5xXek4NcZc6Lf6rrEkptjaQSNnc2DgepGepx+tb08t7p2g+YQs9xDH84HfHcevFIDRilSZSUzgEjkY6Gud8XXKxx20SyESliSqn+H1NWbO61T7FdD7LGJYyEjAfdljyc/TP86wrjSdROuR/bLeW7idgzvGeGH17Y9KBHSeFZZJdHQy7j+8YKWOcjP/AOuugqnbpHHFGkShY1ACgdAKuUxhVab7wxjO4dasU0x5bcTzQBVZyCoAyT+gpkiCeJ4pPuOCGABziryoAAMA++KR49wABxzngUAUIoY4AwiGFZtxXbxnuakjbdlT1Xg1cKAgDOPcU0QgfxNQBXgxjgYAOPxq5UYiAbO5vpmpKAP/2Q==\"></td>\n",
       "      <td>np.ndarray(shape=(512,))</td>\n",
       "    </tr>\n",
       "    <tr>\n",
       "      <th>104504</th>\n",
       "      <td>ffffc381-9fa3-470d-bfc2-441c643c6039</td>\n",
       "      <td>/data/datasets/opendata/published_images_224/ffffc381-9fa3-470d-bfc2-441c643c6039.jpg</td>\n",
       "      <td><img src=\"data:image/jpeg;base64,/9j/4AAQSkZJRgABAQAAAQABAAD/2wBDAAgGBgcGBQgHBwcJCQgKDBQNDAsLDBkSEw8UHRofHh0aHBwgJC4nICIsIxwcKDcpLDAxNDQ0Hyc5PTgyPC4zNDL/2wBDAQgJCQwLDBgNDRgyIRwhMjIyMjIyMjIyMjIyMjIyMjIyMjIyMjIyMjIyMjIyMjIyMjIyMjIyMjIyMjIyMjIyMjL/wAARCABAAEADASIAAhEBAxEB/8QAHwAAAQUBAQEBAQEAAAAAAAAAAAECAwQFBgcICQoL/8QAtRAAAgEDAwIEAwUFBAQAAAF9AQIDAAQRBRIhMUEGE1FhByJxFDKBkaEII0KxwRVS0fAkM2JyggkKFhcYGRolJicoKSo0NTY3ODk6Q0RFRkdISUpTVFVWV1hZWmNkZWZnaGlqc3R1dnd4eXqDhIWGh4iJipKTlJWWl5iZmqKjpKWmp6ipqrKztLW2t7i5usLDxMXGx8jJytLT1NXW19jZ2uHi4+Tl5ufo6erx8vP09fb3+Pn6/8QAHwEAAwEBAQEBAQEBAQAAAAAAAAECAwQFBgcICQoL/8QAtREAAgECBAQDBAcFBAQAAQJ3AAECAxEEBSExBhJBUQdhcRMiMoEIFEKRobHBCSMzUvAVYnLRChYkNOEl8RcYGRomJygpKjU2Nzg5OkNERUZHSElKU1RVVldYWVpjZGVmZ2hpanN0dXZ3eHl6goOEhYaHiImKkpOUlZaXmJmaoqOkpaanqKmqsrO0tba3uLm6wsPExcbHyMnK0tPU1dbX2Nna4uPk5ebn6Onq8vP09fb3+Pn6/9oADAMBAAIRAxEAPwD1cLzSkcU/bQRxTEV2WozxT7qUW9vLMRkIpbA7+1VRZK6hrrE0p67uVB9AOgH60hlhXB6HiniqbWFueViETdmj+Uj8qWylkJlhlO54n2lsY3AgEH8j+lAGivSmsKFORSk0xEx601qWkNMDD8RSXIt7WC1dEkuLhUy4yMAFv/Za4ODxrrCWRnvdRiTDYJFspHt6dq73xDcwWgsZZ92BO2CFLYPlSdhzXjM89teaJbQgMZ4gcN2bJJ5/OsZt9GaQtbY7TTvGGoapbvLaalay7Bk5tsD+ea1/DWo6pfW8d7eG3D3UkYCxqcFTvGfYgKfXpXlWgRHSLtpRuAkBEinuCP8A9VeseC5IbqPToIpFkMFsJJNp6N84x9fnoi3cJLQ65FYdqcVNWwoHao3GK1MxmDRg1JijFMDCvrO5mN7dSqWEULraxR8k/IefqScYrzddb0vSxHZajpssFxHEiMJIACBgdvwr2UrxmvFfG6wT+KNTSaFmcts37eAoQc5z2rGq+XU1ppPRlZtfsbqVYba2aSQ8LsiyzAc8AV6hoaSRaZolzDEfMS2SCeNhtJQgHv0Ktzj0JrzXwTb2y+JNP8mIqUjbDno3yEZHPfNewQK2RRTd1cJpLQvlyaacmnhTil2mtTIriQetL5i/3hVHdSFqALz3Eajk5+leUeJopLzx9NZpBKltLCJTdCJmAO0cYHXpXoc0ayptYsO4KnBFUZLF2bIu7gH6g/0qJxUtGVGXLqjzfwpK+j+O4NMe1meJAyLceWV35QkcEccnFe1QbSoPAz61y40vMwka7uCw4yCoP54zWpE/kxLGhO1RgZOT+dEI8o5O5tl1HGaUSL61jCdqd9ocd6u5B//Z\"></td>\n",
       "      <td>np.ndarray(shape=(512,))</td>\n",
       "    </tr>\n",
       "  </tbody>\n",
       "</table>"
      ],
      "text/plain": [
       "DataPanel(nrows: 104505, ncols: 4)"
      ]
     },
     "execution_count": 4,
     "metadata": {},
     "output_type": "execute_result"
    }
   ],
   "source": [
    "dp"
   ]
  },
  {
   "cell_type": "code",
   "execution_count": 60,
   "metadata": {},
   "outputs": [],
   "source": []
  },
  {
   "cell_type": "code",
   "execution_count": null,
   "metadata": {},
   "outputs": [],
   "source": []
  }
 ],
 "metadata": {
  "kernelspec": {
   "display_name": "Python 3 (ipykernel)",
   "language": "python",
   "name": "python3"
  },
  "language_info": {
   "codemirror_mode": {
    "name": "ipython",
    "version": 3
   },
   "file_extension": ".py",
   "mimetype": "text/x-python",
   "name": "python",
   "nbconvert_exporter": "python",
   "pygments_lexer": "ipython3",
   "version": "3.9.12"
  },
  "vscode": {
   "interpreter": {
    "hash": "54f32a471856e06f2746377288a1224c48ee90b31e1595636a7536c44ecf07ea"
   }
  }
 },
 "nbformat": 4,
 "nbformat_minor": 4
}
