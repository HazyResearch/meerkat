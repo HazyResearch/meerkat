{
 "cells": [
  {
   "cell_type": "code",
   "execution_count": 296,
   "metadata": {},
   "outputs": [],
   "source": [
    "import warnings\n",
    "warnings.simplefilter(action='ignore', category=FutureWarning)\n",
    "\n",
    "import meerkat as mk\n",
    "import numpy as np\n",
    "import pandas as pd"
   ]
  },
  {
   "cell_type": "code",
   "execution_count": 261,
   "metadata": {},
   "outputs": [
    {
     "data": {
      "text/plain": [
       "NetworkInfo(api=<fastapi.applications.FastAPI object at 0x15c47a760>, api_server_port=7864, api_server=<meerkat.interactive.server.Server object at 0x497db40d0>, npm_server_port=7865, npm_process=<subprocess.Popen object at 0x4b7620e20>, api_server_name='127.0.0.1', npm_server_name='localhost', npm_out_path='/var/folders/_w/s_61q82s15l0_06xwl0k83_40000gn/T/tmp7nltu_ut.out', npm_err_path='/var/folders/_w/s_61q82s15l0_06xwl0k83_40000gn/T/tmp_ibq0rjl.err')"
      ]
     },
     "execution_count": 261,
     "metadata": {},
     "output_type": "execute_result"
    }
   ],
   "source": [
    "mk.gui.start()"
   ]
  },
  {
   "cell_type": "code",
   "execution_count": 2,
   "metadata": {},
   "outputs": [
    {
     "name": "stderr",
     "output_type": "stream",
     "text": [
      "/Users/krandiash/Desktop/workspace/projects/meerkat/meerkat/columns/file_column.py:275: FutureWarning: Reading a LambdaColumn stored in a format that will not be supported in the future. Please re-write the column to the new format.\n",
      "  warnings.warn(\n",
      "/Users/krandiash/Desktop/workspace/projects/meerkat/meerkat/ops/merge.py:109: FutureWarning: iteritems is deprecated and will be removed in a future version. Use .items instead.\n",
      "  for name, column in merged_df.iteritems():\n"
     ]
    }
   ],
   "source": [
    "# Load Racial Faces in the Wild and merge in CLIP embeddings for each image\n",
    "rfw = mk.get('rfw', dataset_dir='/Users/krandiash/Desktop/workspace/projects/datasci/data/rfw/main/')\n",
    "emb = mk.DataPanel.read('/Users/krandiash/Desktop/workspace/projects/datasci/data/rfw/rfw_embedded.mk')\n",
    "dp = mk.merge(rfw, emb['clip(image)', 'image_id'], on='image_id')"
   ]
  },
  {
   "cell_type": "code",
   "execution_count": 3,
   "metadata": {},
   "outputs": [],
   "source": [
    "# Load face embeddings + output of verification on positive pairs\n",
    "face_embs = mk.DataPanel.read('/Users/krandiash/Desktop/workspace/projects/datasci/data/rfw/vgg-face-embeddings.mk')\n",
    "verified_on_positive_pairs = mk.DataPanel.read('/Users/krandiash/Desktop/workspace/projects/datasci/data/rfw/vgg-verified-on-positive-pairs.mk/')"
   ]
  },
  {
   "cell_type": "code",
   "execution_count": 114,
   "metadata": {},
   "outputs": [
    {
     "data": {
      "text/html": [
       "<table border=\"1\" class=\"dataframe\">\n",
       "  <thead>\n",
       "    <tr style=\"text-align: right;\">\n",
       "      <th></th>\n",
       "      <th>identified (NumpyArrayColumn)</th>\n",
       "      <th>distance (NumpyArrayColumn)</th>\n",
       "      <th>threshold (NumpyArrayColumn)</th>\n",
       "    </tr>\n",
       "  </thead>\n",
       "  <tbody>\n",
       "    <tr>\n",
       "      <th>0</th>\n",
       "      <td>True</td>\n",
       "      <td>0.376801</td>\n",
       "      <td>0.4</td>\n",
       "    </tr>\n",
       "    <tr>\n",
       "      <th>1</th>\n",
       "      <td>False</td>\n",
       "      <td>0.546332</td>\n",
       "      <td>0.4</td>\n",
       "    </tr>\n",
       "    <tr>\n",
       "      <th>2</th>\n",
       "      <td>True</td>\n",
       "      <td>0.328873</td>\n",
       "      <td>0.4</td>\n",
       "    </tr>\n",
       "    <tr>\n",
       "      <th>3</th>\n",
       "      <td>False</td>\n",
       "      <td>0.758516</td>\n",
       "      <td>0.4</td>\n",
       "    </tr>\n",
       "    <tr>\n",
       "      <th>4</th>\n",
       "      <td>True</td>\n",
       "      <td>0.263199</td>\n",
       "      <td>0.4</td>\n",
       "    </tr>\n",
       "    <tr>\n",
       "      <th>...</th>\n",
       "      <td>...</td>\n",
       "      <td>...</td>\n",
       "      <td>...</td>\n",
       "    </tr>\n",
       "    <tr>\n",
       "      <th>57148</th>\n",
       "      <td>False</td>\n",
       "      <td>0.861733</td>\n",
       "      <td>0.4</td>\n",
       "    </tr>\n",
       "    <tr>\n",
       "      <th>57149</th>\n",
       "      <td>True</td>\n",
       "      <td>0.256335</td>\n",
       "      <td>0.4</td>\n",
       "    </tr>\n",
       "    <tr>\n",
       "      <th>57150</th>\n",
       "      <td>False</td>\n",
       "      <td>0.458229</td>\n",
       "      <td>0.4</td>\n",
       "    </tr>\n",
       "    <tr>\n",
       "      <th>57151</th>\n",
       "      <td>False</td>\n",
       "      <td>0.679321</td>\n",
       "      <td>0.4</td>\n",
       "    </tr>\n",
       "    <tr>\n",
       "      <th>57152</th>\n",
       "      <td>True</td>\n",
       "      <td>0.321611</td>\n",
       "      <td>0.4</td>\n",
       "    </tr>\n",
       "  </tbody>\n",
       "</table>"
      ],
      "text/plain": [
       "DataPanel(nrows: 57153, ncols: 3)"
      ]
     },
     "execution_count": 114,
     "metadata": {},
     "output_type": "execute_result"
    }
   ],
   "source": [
    "verified_on_positive_pairs"
   ]
  },
  {
   "cell_type": "code",
   "execution_count": 7,
   "metadata": {},
   "outputs": [
    {
     "name": "stderr",
     "output_type": "stream",
     "text": [
      "/Users/krandiash/Desktop/workspace/projects/meerkat/meerkat/ops/merge.py:109: FutureWarning: iteritems is deprecated and will be removed in a future version. Use .items instead.\n",
      "  for name, column in merged_df.iteritems():\n"
     ]
    }
   ],
   "source": [
    "# Create positive pairs, with people having the same identity\n",
    "rfw_positive_pairs = mk.merge(rfw, rfw, on='identity')\n",
    "unique_pairs = rfw_positive_pairs['image_id_x'].str.split(\"_\").str.get(-1) < rfw_positive_pairs['image_id_y'].str.split(\"_\").str.get(-1)\n",
    "rfw_positive_pairs = rfw_positive_pairs.lz[unique_pairs]\n",
    "\n",
    "# Merge in the face embeddings for each image in the positive pairs\n",
    "rfw_positive_pairs = mk.merge(mk.merge(rfw_positive_pairs, face_embs, left_on='image_id_x', right_on='image_id'), face_embs, left_on='image_id_y', right_on='image_id')\n",
    "\n",
    "# Put in the verification results for each pair\n",
    "for col in verified_on_positive_pairs.columns:\n",
    "    rfw_positive_pairs[col] = verified_on_positive_pairs[col]"
   ]
  },
  {
   "cell_type": "code",
   "execution_count": 239,
   "metadata": {},
   "outputs": [],
   "source": [
    "# Reproduces the cosine distance function from DeepFace\n",
    "def cosine_sim(x, y):\n",
    "    return (x[:, None] @ y[:, :, None]).squeeze() / (np.linalg.norm(x, axis=1) * np.linalg.norm(y, axis=1))\n",
    "\n",
    "def cosine_dist(x, y):\n",
    "    return 1 - cosine_sim(x, y)\n",
    "\n",
    "def run_verification(dp, threshold=0.4, classify_positive=True):\n",
    "    # Calculate the cosine distance between the embeddings\n",
    "    dp['distance'] = cosine_dist(dp['embed:vgg-face_x'], dp['embed:vgg-face_y'])\n",
    "\n",
    "    # Calculate the verification result\n",
    "    if classify_positive:\n",
    "        dp['identified'] = dp['distance'] <= threshold\n",
    "    else:\n",
    "        dp['identified'] = dp['distance'] > threshold\n",
    "\n",
    "    return dp\n",
    "\n",
    "def create_negative_pairs(dp):\n",
    "    # Create negative pairs, with people having different identities\n",
    "    np.random.seed(42)\n",
    "\n",
    "    _base_images = dp.lz[np.repeat(np.arange(dp.shape[0]), 5)]\n",
    "    _base_images['idx'] = np.arange(_base_images.shape[0])\n",
    "    _pair_images = dp.lz[np.random.randint(0, dp.shape[0], size=(dp.shape[0], 5)).flatten()]\n",
    "    _pair_images['idx'] = np.arange(_pair_images.shape[0])\n",
    "    dp_negative_pairs = mk.merge(_base_images, _pair_images, on='idx').drop('idx')\n",
    "\n",
    "    # Merge in the face embeddings for each image in the negative pairs\n",
    "    dp_negative_pairs = mk.merge(mk.merge(dp_negative_pairs, face_embs, left_on='image_id_x', right_on='image_id'), face_embs, left_on='image_id_y', right_on='image_id')\n",
    "\n",
    "    return dp_negative_pairs"
   ]
  },
  {
   "cell_type": "code",
   "execution_count": 240,
   "metadata": {},
   "outputs": [
    {
     "name": "stderr",
     "output_type": "stream",
     "text": [
      "/Users/krandiash/Desktop/workspace/projects/meerkat/meerkat/ops/merge.py:109: FutureWarning: iteritems is deprecated and will be removed in a future version. Use .items instead.\n",
      "  for name, column in merged_df.iteritems():\n",
      "/Users/krandiash/Desktop/workspace/projects/meerkat/meerkat/ops/merge.py:109: FutureWarning: iteritems is deprecated and will be removed in a future version. Use .items instead.\n",
      "  for name, column in merged_df.iteritems():\n",
      "/Users/krandiash/Desktop/workspace/projects/meerkat/meerkat/ops/merge.py:109: FutureWarning: iteritems is deprecated and will be removed in a future version. Use .items instead.\n",
      "  for name, column in merged_df.iteritems():\n",
      "/Users/krandiash/Desktop/workspace/projects/meerkat/meerkat/ops/merge.py:109: FutureWarning: iteritems is deprecated and will be removed in a future version. Use .items instead.\n",
      "  for name, column in merged_df.iteritems():\n",
      "/Users/krandiash/Desktop/workspace/projects/meerkat/meerkat/ops/merge.py:109: FutureWarning: iteritems is deprecated and will be removed in a future version. Use .items instead.\n",
      "  for name, column in merged_df.iteritems():\n",
      "/Users/krandiash/Desktop/workspace/projects/meerkat/meerkat/ops/merge.py:109: FutureWarning: iteritems is deprecated and will be removed in a future version. Use .items instead.\n",
      "  for name, column in merged_df.iteritems():\n",
      "/Users/krandiash/Desktop/workspace/projects/meerkat/meerkat/ops/merge.py:109: FutureWarning: iteritems is deprecated and will be removed in a future version. Use .items instead.\n",
      "  for name, column in merged_df.iteritems():\n",
      "/Users/krandiash/Desktop/workspace/projects/meerkat/meerkat/ops/merge.py:109: FutureWarning: iteritems is deprecated and will be removed in a future version. Use .items instead.\n",
      "  for name, column in merged_df.iteritems():\n",
      "/Users/krandiash/Desktop/workspace/projects/meerkat/meerkat/ops/merge.py:109: FutureWarning: iteritems is deprecated and will be removed in a future version. Use .items instead.\n",
      "  for name, column in merged_df.iteritems():\n"
     ]
    }
   ],
   "source": [
    "rfw_negative_pairs = create_negative_pairs(rfw)\n",
    "rfw_negative_pairs = run_verification(rfw_negative_pairs, classify_positive=False)\n",
    "\n",
    "indian_negative_pairs = create_negative_pairs(rfw.lz[rfw['ethnicity'] == 'indian'])\n",
    "african_negative_pairs = create_negative_pairs(rfw.lz[rfw['ethnicity'] == 'african'])\n",
    "\n",
    "indian_negative_pairs = run_verification(indian_negative_pairs, classify_positive=False)\n",
    "african_negative_pairs = run_verification(african_negative_pairs, classify_positive=False)"
   ]
  },
  {
   "cell_type": "code",
   "execution_count": 169,
   "metadata": {},
   "outputs": [
    {
     "data": {
      "text/plain": [
       "<AxesSubplot:>"
      ]
     },
     "execution_count": 169,
     "metadata": {},
     "output_type": "execute_result"
    },
    {
     "data": {
      "image/png": "[encoded data removed]",
      "text/plain": [
       "<Figure size 432x288 with 1 Axes>"
      ]
     },
     "metadata": {
      "needs_background": "light"
     },
     "output_type": "display_data"
    }
   ],
   "source": [
    "rfw_positive_pairs.lz[rfw_positive_pairs['ethnicity_x'] == 'african']['distance'].to_pandas().hist(bins=100)\n",
    "rfw_positive_pairs.lz[rfw_positive_pairs['ethnicity_x'] == 'indian']['distance'].to_pandas().hist(bins=100, alpha=0.5)\n",
    "rfw_positive_pairs.lz[rfw_positive_pairs['ethnicity_x'] == 'caucasian']['distance'].to_pandas().hist(bins=100, alpha=0.5)\n",
    "rfw_positive_pairs.lz[rfw_positive_pairs['ethnicity_x'] == 'asian']['distance'].to_pandas().hist(bins=100, alpha=0.5)"
   ]
  },
  {
   "cell_type": "code",
   "execution_count": 227,
   "metadata": {},
   "outputs": [
    {
     "data": {
      "text/plain": [
       "<AxesSubplot:>"
      ]
     },
     "execution_count": 227,
     "metadata": {},
     "output_type": "execute_result"
    },
    {
     "data": {
      "image/png": "[encoded data removed]",
      "text/plain": [
       "<Figure size 432x288 with 1 Axes>"
      ]
     },
     "metadata": {
      "needs_background": "light"
     },
     "output_type": "display_data"
    }
   ],
   "source": [
    "rfw_negative_pairs.lz[rfw_negative_pairs['ethnicity_x'] == 'african']['distance'].to_pandas().hist(bins=100)\n",
    "rfw_negative_pairs.lz[rfw_negative_pairs['ethnicity_x'] == 'indian']['distance'].to_pandas().hist(bins=100, alpha=0.5)\n",
    "rfw_negative_pairs.lz[rfw_negative_pairs['ethnicity_x'] == 'caucasian']['distance'].to_pandas().hist(bins=100, alpha=0.5)\n",
    "rfw_negative_pairs.lz[rfw_negative_pairs['ethnicity_x'] == 'asian']['distance'].to_pandas().hist(bins=100, alpha=0.5)"
   ]
  },
  {
   "cell_type": "code",
   "execution_count": 243,
   "metadata": {},
   "outputs": [],
   "source": [
    "# Calculate the FNMR\n",
    "def aggregate_verification_results(pair_dp, column_name='identified', new_col='fnmr', invert=True, separate_identity=False):\n",
    "    if separate_identity:\n",
    "        left_identity_col = 'identity_x'\n",
    "        right_identity_col = 'identity_y'\n",
    "    else:\n",
    "        left_identity_col = 'identity'\n",
    "        right_identity_col = 'identity'\n",
    "    left_gb = pair_dp[left_identity_col, column_name, 'image_id_x'].groupby('image_id_x')\n",
    "    right_gb = pair_dp[right_identity_col, column_name, 'image_id_y'].groupby('image_id_y') \n",
    "\n",
    "    temp_count = mk.merge(left_gb[column_name].count(), right_gb[column_name].count(), left_on='image_id_x', right_on='image_id_y', how='outer')\n",
    "    temp_mean = mk.merge(left_gb[column_name].mean(), right_gb[column_name].mean(), left_on='image_id_x', right_on='image_id_y', how='outer')\n",
    "    temp_count['image_id'] = [a if a else b for (a,b) in zip(temp_count['image_id_x'], temp_count['image_id_y'])]\n",
    "    temp_count['count'] = pd.Series(temp_count[f'{column_name}_x'].data).fillna(0, inplace=False) + pd.Series(temp_count[f'{column_name}_y'].data).fillna(0, inplace=False)\n",
    "    temp_mean['image_id'] = [a if a else b for (a,b) in zip(temp_mean['image_id_x'], temp_mean['image_id_y'])]\n",
    "    temp_mean[new_col] = (pd.Series(temp_count[f'{column_name}_x'].data).fillna(0, inplace=False) * pd.Series(temp_mean[f'{column_name}_x'].data).fillna(0, inplace=False) + pd.Series(temp_count[f'{column_name}_y'].data).fillna(0, inplace=False) * pd.Series(temp_mean[f'{column_name}_y'].data).fillna(0, inplace=False))/temp_count['count']\n",
    "    if invert: temp_mean[new_col] = 1 - temp_mean[new_col]\n",
    "    temp_mean['count'] = temp_count['count']\n",
    "    return temp_mean['image_id', new_col, 'count']"
   ]
  },
  {
   "cell_type": "code",
   "execution_count": 249,
   "metadata": {},
   "outputs": [
    {
     "name": "stderr",
     "output_type": "stream",
     "text": [
      "/Users/krandiash/Desktop/workspace/projects/meerkat/meerkat/ops/merge.py:109: FutureWarning: iteritems is deprecated and will be removed in a future version. Use .items instead.\n",
      "  for name, column in merged_df.iteritems():\n",
      "/Users/krandiash/Desktop/workspace/projects/meerkat/meerkat/ops/merge.py:109: FutureWarning: iteritems is deprecated and will be removed in a future version. Use .items instead.\n",
      "  for name, column in merged_df.iteritems():\n",
      "/Users/krandiash/Desktop/workspace/projects/meerkat/meerkat/ops/merge.py:109: FutureWarning: iteritems is deprecated and will be removed in a future version. Use .items instead.\n",
      "  for name, column in merged_df.iteritems():\n",
      "/Users/krandiash/Desktop/workspace/projects/meerkat/meerkat/ops/merge.py:109: FutureWarning: iteritems is deprecated and will be removed in a future version. Use .items instead.\n",
      "  for name, column in merged_df.iteritems():\n",
      "/Users/krandiash/Desktop/workspace/projects/meerkat/meerkat/ops/merge.py:109: FutureWarning: iteritems is deprecated and will be removed in a future version. Use .items instead.\n",
      "  for name, column in merged_df.iteritems():\n",
      "/Users/krandiash/Desktop/workspace/projects/meerkat/meerkat/ops/merge.py:109: FutureWarning: iteritems is deprecated and will be removed in a future version. Use .items instead.\n",
      "  for name, column in merged_df.iteritems():\n",
      "/Users/krandiash/Desktop/workspace/projects/meerkat/meerkat/ops/merge.py:109: FutureWarning: iteritems is deprecated and will be removed in a future version. Use .items instead.\n",
      "  for name, column in merged_df.iteritems():\n",
      "/Users/krandiash/Desktop/workspace/projects/meerkat/meerkat/ops/merge.py:109: FutureWarning: iteritems is deprecated and will be removed in a future version. Use .items instead.\n",
      "  for name, column in merged_df.iteritems():\n"
     ]
    }
   ],
   "source": [
    "rfw_fnmr_by_image_id = aggregate_verification_results(rfw_positive_pairs)\n",
    "rfw_neg_fnmr_by_image_id = aggregate_verification_results(rfw_negative_pairs, invert=False, separate_identity=True)\n",
    "indian_neg_fnmr_by_image_id = aggregate_verification_results(indian_negative_pairs, invert=False, separate_identity=True)\n",
    "african_neg_fnmr_by_image_id = aggregate_verification_results(african_negative_pairs, invert=False, separate_identity=True)"
   ]
  },
  {
   "cell_type": "code",
   "execution_count": 250,
   "metadata": {},
   "outputs": [
    {
     "name": "stderr",
     "output_type": "stream",
     "text": [
      "/Users/krandiash/Desktop/workspace/projects/meerkat/meerkat/ops/merge.py:109: FutureWarning: iteritems is deprecated and will be removed in a future version. Use .items instead.\n",
      "  for name, column in merged_df.iteritems():\n",
      "/Users/krandiash/Desktop/workspace/projects/meerkat/meerkat/ops/merge.py:109: FutureWarning: iteritems is deprecated and will be removed in a future version. Use .items instead.\n",
      "  for name, column in merged_df.iteritems():\n",
      "/Users/krandiash/Desktop/workspace/projects/meerkat/meerkat/ops/merge.py:109: FutureWarning: iteritems is deprecated and will be removed in a future version. Use .items instead.\n",
      "  for name, column in merged_df.iteritems():\n",
      "/Users/krandiash/Desktop/workspace/projects/meerkat/meerkat/ops/merge.py:109: FutureWarning: iteritems is deprecated and will be removed in a future version. Use .items instead.\n",
      "  for name, column in merged_df.iteritems():\n"
     ]
    }
   ],
   "source": [
    "rfw_fnmr_by_image_id = mk.merge(dp, rfw_fnmr_by_image_id, on='image_id')\n",
    "\n",
    "rfw_distance_by_image_id = aggregate_verification_results(rfw_positive_pairs, column_name='distance', new_col='distance', invert=False)\n",
    "rfw_fnmr_by_image_id = mk.merge(rfw_fnmr_by_image_id, rfw_distance_by_image_id, on='image_id')"
   ]
  },
  {
   "cell_type": "code",
   "execution_count": 251,
   "metadata": {},
   "outputs": [
    {
     "name": "stderr",
     "output_type": "stream",
     "text": [
      "/Users/krandiash/Desktop/workspace/projects/meerkat/meerkat/ops/merge.py:109: FutureWarning: iteritems is deprecated and will be removed in a future version. Use .items instead.\n",
      "  for name, column in merged_df.iteritems():\n",
      "/Users/krandiash/Desktop/workspace/projects/meerkat/meerkat/ops/merge.py:109: FutureWarning: iteritems is deprecated and will be removed in a future version. Use .items instead.\n",
      "  for name, column in merged_df.iteritems():\n",
      "/Users/krandiash/Desktop/workspace/projects/meerkat/meerkat/ops/merge.py:109: FutureWarning: iteritems is deprecated and will be removed in a future version. Use .items instead.\n",
      "  for name, column in merged_df.iteritems():\n"
     ]
    }
   ],
   "source": [
    "rfw_neg_fnmr_by_image_id = mk.merge(dp, rfw_neg_fnmr_by_image_id, on='image_id')\n",
    "indian_neg_fnmr_by_image_id = mk.merge(dp, indian_neg_fnmr_by_image_id, on='image_id')\n",
    "african_neg_fnmr_by_image_id = mk.merge(dp, african_neg_fnmr_by_image_id, on='image_id')"
   ]
  },
  {
   "cell_type": "code",
   "execution_count": 252,
   "metadata": {},
   "outputs": [
    {
     "name": "stdout",
     "output_type": "stream",
     "text": [
      "Global Average FNMR across all images:  0.3367147698005377\n"
     ]
    },
    {
     "data": {
      "text/html": [
       "<table border=\"1\" class=\"dataframe\">\n",
       "  <thead>\n",
       "    <tr style=\"text-align: right;\">\n",
       "      <th></th>\n",
       "      <th>fnmr (NumpyArrayColumn)</th>\n",
       "      <th>ethnicity (PandasSeriesColumn)</th>\n",
       "    </tr>\n",
       "  </thead>\n",
       "  <tbody>\n",
       "    <tr>\n",
       "      <th>0</th>\n",
       "      <td>0.14145</td>\n",
       "      <td>african</td>\n",
       "    </tr>\n",
       "    <tr>\n",
       "      <th>1</th>\n",
       "      <td>0.419279</td>\n",
       "      <td>asian</td>\n",
       "    </tr>\n",
       "    <tr>\n",
       "      <th>2</th>\n",
       "      <td>0.415058</td>\n",
       "      <td>caucasian</td>\n",
       "    </tr>\n",
       "    <tr>\n",
       "      <th>3</th>\n",
       "      <td>0.378433</td>\n",
       "      <td>indian</td>\n",
       "    </tr>\n",
       "  </tbody>\n",
       "</table>"
      ],
      "text/plain": [
       "DataPanel(nrows: 4, ncols: 2)"
      ]
     },
     "execution_count": 252,
     "metadata": {},
     "output_type": "execute_result"
    }
   ],
   "source": [
    "print(\"Global Average FNMR across all images: \", rfw_fnmr_by_image_id['fnmr'].mean())\n",
    "rfw_fnmr_by_image_id.groupby('ethnicity')['fnmr'].mean()"
   ]
  },
  {
   "cell_type": "code",
   "execution_count": 254,
   "metadata": {},
   "outputs": [
    {
     "name": "stdout",
     "output_type": "stream",
     "text": [
      "Global Average Precision across all images:  0.8590122950167786\n"
     ]
    },
    {
     "data": {
      "text/html": [
       "<table border=\"1\" class=\"dataframe\">\n",
       "  <thead>\n",
       "    <tr style=\"text-align: right;\">\n",
       "      <th></th>\n",
       "      <th>fnmr (NumpyArrayColumn)</th>\n",
       "      <th>ethnicity (PandasSeriesColumn)</th>\n",
       "    </tr>\n",
       "  </thead>\n",
       "  <tbody>\n",
       "    <tr>\n",
       "      <th>0</th>\n",
       "      <td>0.751778</td>\n",
       "      <td>african</td>\n",
       "    </tr>\n",
       "    <tr>\n",
       "      <th>1</th>\n",
       "      <td>0.8918</td>\n",
       "      <td>asian</td>\n",
       "    </tr>\n",
       "    <tr>\n",
       "      <th>2</th>\n",
       "      <td>0.908744</td>\n",
       "      <td>caucasian</td>\n",
       "    </tr>\n",
       "    <tr>\n",
       "      <th>3</th>\n",
       "      <td>0.887073</td>\n",
       "      <td>indian</td>\n",
       "    </tr>\n",
       "  </tbody>\n",
       "</table>"
      ],
      "text/plain": [
       "DataPanel(nrows: 4, ncols: 2)"
      ]
     },
     "execution_count": 254,
     "metadata": {},
     "output_type": "execute_result"
    }
   ],
   "source": [
    "print(\"Global Average Precision across all images: \", rfw_neg_fnmr_by_image_id['fnmr'].mean())\n",
    "rfw_neg_fnmr_by_image_id.groupby('ethnicity')['fnmr'].mean()"
   ]
  },
  {
   "cell_type": "code",
   "execution_count": 256,
   "metadata": {},
   "outputs": [
    {
     "data": {
      "text/plain": [
       "(0.8562336726376323, 0.2966388244275477)"
      ]
     },
     "execution_count": 256,
     "metadata": {},
     "output_type": "execute_result"
    }
   ],
   "source": [
    "indian_neg_fnmr_by_image_id['fnmr'].mean(), african_neg_fnmr_by_image_id['fnmr'].mean()"
   ]
  },
  {
   "cell_type": "code",
   "execution_count": 319,
   "metadata": {},
   "outputs": [],
   "source": [
    "indian_dp = rfw_fnmr_by_image_id.lz[rfw_fnmr_by_image_id['ethnicity'] == 'indian']\n",
    "african_dp = rfw_fnmr_by_image_id.lz[rfw_fnmr_by_image_id['ethnicity'] == 'african']\n",
    "caucasian_dp = rfw_fnmr_by_image_id.lz[rfw_fnmr_by_image_id['ethnicity'] == 'caucasian']\n",
    "asian_dp = rfw_fnmr_by_image_id.lz[rfw_fnmr_by_image_id['ethnicity'] == 'asian']"
   ]
  },
  {
   "cell_type": "code",
   "execution_count": 266,
   "metadata": {},
   "outputs": [
    {
     "name": "stdout",
     "output_type": "stream",
     "text": [
      "(10281, 1)\n"
     ]
    },
    {
     "name": "stderr",
     "output_type": "stream",
     "text": [
      " 80%|\u001b[38;2;241;122;74m████████  \u001b[0m| 80/100 [00:03<00:00, 20.06it/s]\n"
     ]
    },
    {
     "data": {
      "text/html": [
       "\n",
       "        <iframe\n",
       "            width=\"100%\"\n",
       "            height=\"1000\"\n",
       "            src=\"http://localhost:7865/interface?id=f685b43495644b779b10a003550c6a05\"\n",
       "            frameborder=\"0\"\n",
       "            allowfullscreen\n",
       "        ></iframe>\n",
       "        "
      ],
      "text/plain": [
       "<IPython.lib.display.IFrame at 0x466f9c040>"
      ]
     },
     "execution_count": 266,
     "metadata": {},
     "output_type": "execute_result"
    }
   ],
   "source": [
    "indian_neg_eb = indian_neg_fnmr_by_image_id.explainby(by='image', target='fnmr', n_slices=50, use_cache=False)\n",
    "indian_neg_eb.gui.cards(main_column='image', tag_columns=['ethnicity', 'fnmr'], aggregations={\"Mean Precision\": lambda x: x[\"fnmr\"].mean()})"
   ]
  },
  {
   "cell_type": "code",
   "execution_count": 265,
   "metadata": {},
   "outputs": [
    {
     "name": "stdout",
     "output_type": "stream",
     "text": [
      "(10378, 1)\n"
     ]
    },
    {
     "name": "stderr",
     "output_type": "stream",
     "text": [
      " 27%|\u001b[38;2;241;122;74m██▋       \u001b[0m| 27/100 [00:01<00:03, 20.81it/s]\n"
     ]
    },
    {
     "data": {
      "text/html": [
       "\n",
       "        <iframe\n",
       "            width=\"100%\"\n",
       "            height=\"1000\"\n",
       "            src=\"http://localhost:7865/interface?id=f4337e3d8dfa4b3384c0302fe1c42f40\"\n",
       "            frameborder=\"0\"\n",
       "            allowfullscreen\n",
       "        ></iframe>\n",
       "        "
      ],
      "text/plain": [
       "<IPython.lib.display.IFrame at 0x4e3e3a1c0>"
      ]
     },
     "execution_count": 265,
     "metadata": {},
     "output_type": "execute_result"
    }
   ],
   "source": [
    "african_neg_eb = african_neg_fnmr_by_image_id.explainby(by='image', target='fnmr', n_slices=20, use_cache=False)\n",
    "african_neg_eb.gui.cards(main_column='image', tag_columns=['ethnicity', 'fnmr'], aggregations={\"Mean Precision\": lambda x: x[\"fnmr\"].mean()})"
   ]
  },
  {
   "cell_type": "code",
   "execution_count": 313,
   "metadata": {},
   "outputs": [
    {
     "name": "stdout",
     "output_type": "stream",
     "text": [
      "(10278, 1)\n"
     ]
    },
    {
     "name": "stderr",
     "output_type": "stream",
     "text": [
      " 54%|\u001b[38;2;241;122;74m█████▍    \u001b[0m| 54/100 [00:07<00:06,  7.14it/s]\n"
     ]
    },
    {
     "data": {
      "text/html": [
       "\n",
       "        <iframe\n",
       "            width=\"100%\"\n",
       "            height=\"1000\"\n",
       "            src=\"http://localhost:7865/interface?id=3c4270094fbb45668a8ad31bf44a3d69\"\n",
       "            frameborder=\"0\"\n",
       "            allowfullscreen\n",
       "        ></iframe>\n",
       "        "
      ],
      "text/plain": [
       "<IPython.lib.display.IFrame at 0x4e4235340>"
      ]
     },
     "execution_count": 313,
     "metadata": {},
     "output_type": "execute_result"
    }
   ],
   "source": [
    "np.random.seed(42)\n",
    "eb = indian_dp.explainby(by='image', target='fnmr', n_slices=20, use_cache=False)\n",
    "eb.gui.cards(main_column='image', tag_columns=['ethnicity', 'fnmr'], aggregations={\"Mean FNMR\": lambda x: x[\"fnmr\"].mean(), \"Mean Distance\": lambda x: x[\"distance\"].mean()})"
   ]
  },
  {
   "cell_type": "code",
   "execution_count": 294,
   "metadata": {},
   "outputs": [],
   "source": [
    "def run_precision_workflow(query_dp):\n",
    "    query_dp = create_negative_pairs(query_dp)\n",
    "    query_dp = run_verification(query_dp, classify_positive=False)\n",
    "    query_dp = aggregate_verification_results(query_dp, invert=False, separate_identity=True)\n",
    "    query_dp = mk.merge(dp, query_dp, on='image_id')\n",
    "    return query_dp['fnmr'].mean()"
   ]
  },
  {
   "cell_type": "code",
   "execution_count": 317,
   "metadata": {},
   "outputs": [
    {
     "name": "stdout",
     "output_type": "stream",
     "text": [
      "Precision on Nehru Cap Group 0.4832504377814225\n",
      "FNMR 0.17943548387096775\n",
      "Precision on indian women trad makeup jewelery 0.7030274825356793\n",
      "FNMR 0.48394808743169404\n",
      "Precision on Indian Older women 0.7108996391333376\n",
      "FNMR 0.4220313441832429\n",
      "Precision on Indian Older men 0.29565815047401445\n",
      "FNMR 0.2535882908404155\n",
      "Precision on Indian men in suits 0.6070768999519\n",
      "FNMR 0.2962222222222222\n",
      "Precision on Sikh Group 0.5548554320053379\n",
      "FNMR 0.1505952380952381\n"
     ]
    }
   ],
   "source": [
    "# Indians wearing Nehru cap\n",
    "indian_nehru_cap = indian_dp.lz[eb.slices[3]]\n",
    "print(\"Precision on Nehru Cap Group\", run_precision_workflow(indian_nehru_cap))\n",
    "print(\"FNMR\", indian_nehru_cap['fnmr'].mean())\n",
    "\n",
    "# Indian women wearing makeup / traditional jewelery\n",
    "indian_women_trad = indian_dp.lz[eb.slices[0]]\n",
    "print(\"Precision on indian women trad makeup jewelery\", run_precision_workflow(indian_women_trad))\n",
    "print(\"FNMR\", indian_women_trad['fnmr'].mean())\n",
    "\n",
    "# Older indian women\n",
    "indian_older_women = indian_dp.lz[eb.slices[18]]\n",
    "print(\"Precision on Indian Older women\", run_precision_workflow(indian_older_women))\n",
    "print(\"FNMR\", indian_older_women['fnmr'].mean())\n",
    "\n",
    "# Older white haired indian men\n",
    "indian_older_men = indian_dp.lz[eb.slices[7]]\n",
    "print(\"Precision on Indian Older men\", run_precision_workflow(indian_older_men))\n",
    "print(\"FNMR\", indian_older_men['fnmr'].mean())\n",
    "\n",
    "# Indian men in suits\n",
    "indian_men_suits = indian_dp.lz[eb.slices[13]]\n",
    "print(\"Precision on Indian men in suits\", run_precision_workflow(indian_men_suits))\n",
    "print(\"FNMR\", indian_men_suits['fnmr'].mean())\n",
    "\n",
    "# Sikhs\n",
    "sikh_dp = indian_dp.lz[eb.slices[6]]\n",
    "print(\"Precision on Sikh Group\", run_precision_workflow(sikh_dp))\n",
    "print(\"FNMR\", sikh_dp['fnmr'].mean())"
   ]
  },
  {
   "cell_type": "code",
   "execution_count": 314,
   "metadata": {},
   "outputs": [
    {
     "name": "stdout",
     "output_type": "stream",
     "text": [
      "0 0.7030274825356793\n",
      "1 0.6973066597705515\n",
      "2 0.7602324479736056\n",
      "3 0.4832504377814225\n",
      "4 0.8030110447730273\n",
      "5 0.8279199105179498\n",
      "6 0.5548554320053379\n",
      "7 0.29565815047401445\n",
      "8 0.6918367313606788\n",
      "9 0.5660385540385541\n",
      "10 0.486654761530302\n",
      "11 0.8183520571808685\n",
      "12 0.8249456583499704\n",
      "13 0.6070768999519\n",
      "14 0.7729257366249986\n",
      "15 0.8084310197378379\n",
      "16 0.8091530861645804\n",
      "17 0.6412843679679535\n",
      "18 0.7108996391333376\n",
      "19 0.8688837887071982\n"
     ]
    }
   ],
   "source": [
    "for key in eb.slices:\n",
    "    print(key, run_precision_workflow(indian_dp.lz[eb.slices[key]]))"
   ]
  },
  {
   "cell_type": "code",
   "execution_count": 297,
   "metadata": {},
   "outputs": [
    {
     "name": "stdout",
     "output_type": "stream",
     "text": [
      "Precision on Sikh Group 0.5507325660760094\n"
     ]
    }
   ],
   "source": []
  },
  {
   "cell_type": "code",
   "execution_count": 268,
   "metadata": {},
   "outputs": [
    {
     "name": "stdout",
     "output_type": "stream",
     "text": [
      "(10278, 1)\n"
     ]
    },
    {
     "name": "stderr",
     "output_type": "stream",
     "text": [
      " 31%|\u001b[38;2;241;122;74m███       \u001b[0m| 31/100 [00:01<00:03, 19.75it/s]\n"
     ]
    },
    {
     "data": {
      "text/html": [
       "\n",
       "        <iframe\n",
       "            width=\"100%\"\n",
       "            height=\"1000\"\n",
       "            src=\"http://localhost:7865/interface?id=fac1f051b1e048e28d30d9d147fb5ff6\"\n",
       "            frameborder=\"0\"\n",
       "            allowfullscreen\n",
       "        ></iframe>\n",
       "        "
      ],
      "text/plain": [
       "<IPython.lib.display.IFrame at 0x466f76f40>"
      ]
     },
     "execution_count": 268,
     "metadata": {},
     "output_type": "execute_result"
    }
   ],
   "source": [
    "indian_eb_dist = indian_dp.explainby(by='image', target='distance', n_slices=20, use_cache=False)\n",
    "indian_eb_dist.gui.cards(main_column='image', tag_columns=['ethnicity', 'fnmr'], aggregations={\"Mean FNMR\": lambda x: x[\"fnmr\"].mean(), \"Mean Distance\": lambda x: x[\"distance\"].mean()})"
   ]
  },
  {
   "cell_type": "code",
   "execution_count": 305,
   "metadata": {},
   "outputs": [
    {
     "name": "stdout",
     "output_type": "stream",
     "text": [
      "(10378, 1)\n"
     ]
    },
    {
     "name": "stderr",
     "output_type": "stream",
     "text": [
      " 31%|\u001b[38;2;241;122;74m███       \u001b[0m| 31/100 [00:01<00:03, 20.71it/s]\n"
     ]
    },
    {
     "data": {
      "text/html": [
       "\n",
       "        <iframe\n",
       "            width=\"100%\"\n",
       "            height=\"1000\"\n",
       "            src=\"http://localhost:7865/interface?id=97baeb4e967f41a093c85960bbb330c3\"\n",
       "            frameborder=\"0\"\n",
       "            allowfullscreen\n",
       "        ></iframe>\n",
       "        "
      ],
      "text/plain": [
       "<IPython.lib.display.IFrame at 0x472948280>"
      ]
     },
     "execution_count": 305,
     "metadata": {},
     "output_type": "execute_result"
    }
   ],
   "source": [
    "np.random.seed(42)\n",
    "african_eb = african_dp.explainby(by='image', target='fnmr', n_slices=50, use_cache=False)\n",
    "african_eb.gui.cards(main_column='image', tag_columns=['ethnicity', 'fnmr'], aggregations={\"Mean FNMR\": lambda x: x[\"fnmr\"].mean(), \"Mean Distance\": lambda x: x[\"distance\"].mean(), \"Count\": lambda x: len(x)})"
   ]
  },
  {
   "cell_type": "code",
   "execution_count": 311,
   "metadata": {},
   "outputs": [
    {
     "name": "stdout",
     "output_type": "stream",
     "text": [
      "0 0.14317690938761432\n",
      "1 0.16847329446064682\n",
      "2 0.2233374770741319\n",
      "3 0.24640835220586352\n",
      "4 0.2404430537317276\n",
      "5 0.4235646109866457\n",
      "6 0.1061695520494403\n",
      "7 0.1966245304940158\n",
      "8 0.22388090495675633\n",
      "9 0.3215337382222199\n",
      "10 0.18740007073340406\n",
      "11 0.30960822636959007\n",
      "12 0.10690237681596082\n",
      "13 0.1215811535544592\n",
      "14 0.6292800470101726\n",
      "15 0.28217767046750564\n",
      "16 0.33437508041210434\n",
      "17 0.4809933836168404\n",
      "18 0.10431171696415599\n",
      "19 0.3051903231448686\n",
      "20 0.1190555751249393\n",
      "21 0.1586736795107491\n",
      "22 0.18176598607154165\n",
      "23 0.2647648805156545\n",
      "24 0.16554015942904832\n"
     ]
    }
   ],
   "source": [
    "for key in african_eb.slices:\n",
    "    print(key, run_precision_workflow(african_dp.lz[african_eb.slices[key]]))"
   ]
  },
  {
   "cell_type": "code",
   "execution_count": 318,
   "metadata": {},
   "outputs": [
    {
     "name": "stdout",
     "output_type": "stream",
     "text": [
      "Precision on Bald Africans in Suits Group 0.10431171696415599\n",
      "FNMR 0.07669376693766938\n",
      "Precision on African soccer players 0.1061695520494403\n",
      "FNMR 0.11145251396648047\n",
      "Precision on African basketball players 0.1190555751249393\n",
      "FNMR 0.11030828516377651\n",
      "Precision on African old time photos 0.3051903231448686\n",
      "FNMR 0.16535353535353536\n",
      "Precision on African women 0.6292800470101726\n",
      "FNMR 0.3145048814504881\n",
      "Precision on Forward Facing Athletes Group 0.16847329446064682\n",
      "FNMR 0.12724814063556458\n",
      "Precision on African Fighters and Boxers Group 0.1215811535544592\n",
      "FNMR 0.0904891304347826\n"
     ]
    }
   ],
   "source": [
    "\n",
    "# Bald and older African males in suits or traditional attire and headwear\n",
    "bald_africans_in_suits = african_dp.lz[african_eb.slices[18]]\n",
    "# bald_african_eb = bald_africans_in_suits.explainby(by='image', target='fnmr', n_slices=5, use_cache=False)\n",
    "# bald_african_eb.gui.cards(main_column='image', tag_columns=['ethnicity', 'fnmr'], aggregations={\"Mean FNMR\": lambda x: x[\"fnmr\"].mean(), \"Mean Distance\": lambda x: x[\"distance\"].mean(), \"Count\": lambda x: len(x)})\n",
    "print(\"Precision on Bald Africans in Suits Group\", run_precision_workflow(bald_africans_in_suits))\n",
    "print(\"FNMR\", bald_africans_in_suits['fnmr'].mean())\n",
    "\n",
    "# African soccer players on the field\n",
    "african_soccer = african_dp.lz[african_eb.slices[6]]\n",
    "print(\"Precision on African soccer players\", run_precision_workflow(african_soccer))\n",
    "print(\"FNMR\", african_soccer['fnmr'].mean())\n",
    "\n",
    "# African basketball players\n",
    "african_basketball = african_dp.lz[african_eb.slices[20]]\n",
    "print(\"Precision on African basketball players\", run_precision_workflow(african_basketball))\n",
    "print(\"FNMR\", african_basketball['fnmr'].mean())\n",
    "\n",
    "# Old-timey photos\n",
    "african_old_photos = african_dp.lz[african_eb.slices[19]]\n",
    "print(\"Precision on African old time photos\", run_precision_workflow(african_old_photos))\n",
    "print(\"FNMR\", african_old_photos['fnmr'].mean())\n",
    "\n",
    "# African women\n",
    "african_women = african_dp.lz[african_eb.slices[14]]\n",
    "print(\"Precision on African women\", run_precision_workflow(african_women))\n",
    "print(\"FNMR\", african_women['fnmr'].mean())\n",
    "\n",
    "# Forward facing photos taken for (male) athletes\n",
    "forward_african_athletes = african_dp.lz[african_eb.slices[1]]\n",
    "print(\"Precision on Forward Facing Athletes Group\", run_precision_workflow(forward_african_athletes))\n",
    "print(\"FNMR\", forward_african_athletes['fnmr'].mean())\n",
    "\n",
    "# (Male) African boxers and fighters\n",
    "african_fighters = african_dp.lz[african_eb.slices[13]]\n",
    "print(\"Precision on African Fighters and Boxers Group\", run_precision_workflow(african_fighters))\n",
    "print(\"FNMR\", african_fighters['fnmr'].mean())"
   ]
  },
  {
   "cell_type": "code",
   "execution_count": 320,
   "metadata": {},
   "outputs": [
    {
     "name": "stdout",
     "output_type": "stream",
     "text": [
      "(10196, 1)\n"
     ]
    },
    {
     "name": "stderr",
     "output_type": "stream",
     "text": [
      " 53%|\u001b[38;2;241;122;74m█████▎    \u001b[0m| 53/100 [00:11<00:09,  4.71it/s]\n"
     ]
    },
    {
     "data": {
      "text/html": [
       "\n",
       "        <iframe\n",
       "            width=\"100%\"\n",
       "            height=\"1000\"\n",
       "            src=\"http://localhost:7865/interface?id=f9cdbba6f3ae40b4a5784023009fbd16\"\n",
       "            frameborder=\"0\"\n",
       "            allowfullscreen\n",
       "        ></iframe>\n",
       "        "
      ],
      "text/plain": [
       "<IPython.lib.display.IFrame at 0x4a1d56e50>"
      ]
     },
     "execution_count": 320,
     "metadata": {},
     "output_type": "execute_result"
    }
   ],
   "source": [
    "np.random.seed(42)\n",
    "caucasian_eb = caucasian_dp.explainby(by='image', target='fnmr', n_slices=20, use_cache=False)\n",
    "caucasian_eb.gui.cards(main_column='image', tag_columns=['ethnicity', 'fnmr'], aggregations={\"Mean FNMR\": lambda x: x[\"fnmr\"].mean(), \"Mean Distance\": lambda x: x[\"distance\"].mean(), \"Count\": lambda x: len(x)})"
   ]
  },
  {
   "cell_type": "code",
   "execution_count": 321,
   "metadata": {},
   "outputs": [
    {
     "name": "stdout",
     "output_type": "stream",
     "text": [
      "0 0.8827819018714742\n",
      "1 0.7793922517391905\n",
      "2 0.7056854285170612\n",
      "3 0.8583418907948719\n",
      "4 0.7807834782122683\n",
      "5 0.5924132406433291\n",
      "6 0.9187555780288045\n",
      "7 0.699390146964433\n",
      "8 0.8795777306472494\n",
      "9 0.7951360610049357\n",
      "10 0.9176855580056801\n",
      "11 0.7927401860591514\n",
      "12 0.7871765727464257\n",
      "13 0.7702191555024066\n",
      "14 0.8227482416820653\n",
      "15 0.6691426244325103\n",
      "16 0.8996672848283276\n",
      "17 0.3647411245085664\n",
      "18 0.5838159161786988\n",
      "19 0.9395909406094592\n"
     ]
    }
   ],
   "source": [
    "for key in caucasian_eb.slices:\n",
    "    print(key, run_precision_workflow(caucasian_dp.lz[caucasian_eb.slices[key]]))"
   ]
  },
  {
   "cell_type": "code",
   "execution_count": 322,
   "metadata": {},
   "outputs": [
    {
     "name": "stdout",
     "output_type": "stream",
     "text": [
      "(9676, 1)\n"
     ]
    },
    {
     "name": "stderr",
     "output_type": "stream",
     "text": [
      " 37%|\u001b[38;2;241;122;74m███▋      \u001b[0m| 37/100 [00:02<00:03, 16.20it/s]\n"
     ]
    },
    {
     "data": {
      "text/html": [
       "\n",
       "        <iframe\n",
       "            width=\"100%\"\n",
       "            height=\"1000\"\n",
       "            src=\"http://localhost:7865/interface?id=8ee990a8f295484b918c2f510c54e860\"\n",
       "            frameborder=\"0\"\n",
       "            allowfullscreen\n",
       "        ></iframe>\n",
       "        "
      ],
      "text/plain": [
       "<IPython.lib.display.IFrame at 0x4a1d04520>"
      ]
     },
     "execution_count": 322,
     "metadata": {},
     "output_type": "execute_result"
    }
   ],
   "source": [
    "np.random.seed(42)\n",
    "asian_eb = asian_dp.explainby(by='image', target='fnmr', n_slices=20, use_cache=False)\n",
    "asian_eb.gui.cards(main_column='image', tag_columns=['ethnicity', 'fnmr'], aggregations={\"Mean FNMR\": lambda x: x[\"fnmr\"].mean(), \"Mean Distance\": lambda x: x[\"distance\"].mean(), \"Count\": lambda x: len(x)})"
   ]
  },
  {
   "cell_type": "code",
   "execution_count": 323,
   "metadata": {},
   "outputs": [
    {
     "name": "stdout",
     "output_type": "stream",
     "text": [
      "0 0.4633737244586301\n",
      "1 0.6625442545386365\n",
      "2 0.6087581784412771\n",
      "3 0.798914261907683\n",
      "4 0.5865012415171135\n",
      "5 0.6045568942692837\n",
      "6 0.6763531688899336\n",
      "7 0.8677791586446703\n",
      "8 0.7719199988789541\n",
      "9 0.7159912783615205\n",
      "10 0.582141283018476\n",
      "11 0.47179107784576535\n",
      "12 0.6073507067513917\n",
      "13 0.7366671961499548\n",
      "14 0.7850620322807607\n",
      "15 0.6062296289569016\n",
      "16 0.6863554548632609\n",
      "17 0.6630824471640301\n",
      "18 0.6198134750419549\n",
      "19 0.5999367584330909\n"
     ]
    }
   ],
   "source": [
    "for key in asian_eb.slices:\n",
    "    print(key, run_precision_workflow(asian_dp.lz[asian_eb.slices[key]]))"
   ]
  },
  {
   "cell_type": "code",
   "execution_count": 36,
   "metadata": {},
   "outputs": [
    {
     "data": {
      "text/html": [
       "<table border=\"1\" class=\"dataframe\">\n",
       "  <thead>\n",
       "    <tr style=\"text-align: right;\">\n",
       "      <th></th>\n",
       "      <th>identity (PandasSeriesColumn)</th>\n",
       "      <th>fnmr (NumpyArrayColumn)</th>\n",
       "    </tr>\n",
       "  </thead>\n",
       "  <tbody>\n",
       "    <tr>\n",
       "      <th>0</th>\n",
       "      <td>m.010g87</td>\n",
       "      <td>1.0</td>\n",
       "    </tr>\n",
       "    <tr>\n",
       "      <th>1</th>\n",
       "      <td>m.010lz5</td>\n",
       "      <td>0.0</td>\n",
       "    </tr>\n",
       "    <tr>\n",
       "      <th>2</th>\n",
       "      <td>m.0112yl</td>\n",
       "      <td>0.666667</td>\n",
       "    </tr>\n",
       "    <tr>\n",
       "      <th>3</th>\n",
       "      <td>m.01167d3z</td>\n",
       "      <td>0.0</td>\n",
       "    </tr>\n",
       "    <tr>\n",
       "      <th>4</th>\n",
       "      <td>m.011_2h</td>\n",
       "      <td>0.666667</td>\n",
       "    </tr>\n",
       "    <tr>\n",
       "      <th>...</th>\n",
       "      <td>...</td>\n",
       "      <td>...</td>\n",
       "    </tr>\n",
       "    <tr>\n",
       "      <th>11402</th>\n",
       "      <td>m.0xsk8</td>\n",
       "      <td>0.5</td>\n",
       "    </tr>\n",
       "    <tr>\n",
       "      <th>11403</th>\n",
       "      <td>m.0ywm0</td>\n",
       "      <td>1.0</td>\n",
       "    </tr>\n",
       "    <tr>\n",
       "      <th>11404</th>\n",
       "      <td>m.0ywsp</td>\n",
       "      <td>0.0</td>\n",
       "    </tr>\n",
       "    <tr>\n",
       "      <th>11405</th>\n",
       "      <td>m.0z1z</td>\n",
       "      <td>0.5</td>\n",
       "    </tr>\n",
       "    <tr>\n",
       "      <th>11406</th>\n",
       "      <td>m.0zwh1k1</td>\n",
       "      <td>0.0</td>\n",
       "    </tr>\n",
       "  </tbody>\n",
       "</table>"
      ],
      "text/plain": [
       "DataPanel(nrows: 11407, ncols: 2)"
      ]
     },
     "execution_count": 36,
     "metadata": {},
     "output_type": "execute_result"
    }
   ],
   "source": [
    "true_match_rate_by_identity = rfw_positive_pairs['identity', 'identified', 'image_id_x'].groupby('identity').mean()\n",
    "true_match_rate_by_identity['fnmr'] = 1 - true_match_rate_by_identity['identified']\n",
    "true_match_rate_by_identity = true_match_rate_by_identity['identity', 'fnmr']\n",
    "true_match_rate_by_identity"
   ]
  },
  {
   "cell_type": "code",
   "execution_count": 45,
   "metadata": {},
   "outputs": [],
   "source": []
  },
  {
   "cell_type": "code",
   "execution_count": 52,
   "metadata": {},
   "outputs": [],
   "source": [
    "# Average embedding per identity\n",
    "avg_embs_clip_by_identity = dp['identity', 'clip(image)'].groupby('identity')['clip(image)'].mean(axis=0)"
   ]
  },
  {
   "cell_type": "code",
   "execution_count": 55,
   "metadata": {},
   "outputs": [
    {
     "data": {
      "text/html": [
       "<table border=\"1\" class=\"dataframe\">\n",
       "  <thead>\n",
       "    <tr style=\"text-align: right;\">\n",
       "      <th></th>\n",
       "      <th>clip(image) (NumpyArrayColumn)</th>\n",
       "      <th>identity (PandasSeriesColumn)</th>\n",
       "    </tr>\n",
       "  </thead>\n",
       "  <tbody>\n",
       "    <tr>\n",
       "      <th>0</th>\n",
       "      <td>np.ndarray(shape=(512,))</td>\n",
       "      <td>m.010g87</td>\n",
       "    </tr>\n",
       "    <tr>\n",
       "      <th>1</th>\n",
       "      <td>np.ndarray(shape=(512,))</td>\n",
       "      <td>m.010lz5</td>\n",
       "    </tr>\n",
       "    <tr>\n",
       "      <th>2</th>\n",
       "      <td>np.ndarray(shape=(512,))</td>\n",
       "      <td>m.0112yl</td>\n",
       "    </tr>\n",
       "    <tr>\n",
       "      <th>3</th>\n",
       "      <td>np.ndarray(shape=(512,))</td>\n",
       "      <td>m.01167d3z</td>\n",
       "    </tr>\n",
       "    <tr>\n",
       "      <th>4</th>\n",
       "      <td>np.ndarray(shape=(512,))</td>\n",
       "      <td>m.011_2h</td>\n",
       "    </tr>\n",
       "    <tr>\n",
       "      <th>...</th>\n",
       "      <td>...</td>\n",
       "      <td>...</td>\n",
       "    </tr>\n",
       "    <tr>\n",
       "      <th>11407</th>\n",
       "      <td>np.ndarray(shape=(512,))</td>\n",
       "      <td>m.0xsk8</td>\n",
       "    </tr>\n",
       "    <tr>\n",
       "      <th>11408</th>\n",
       "      <td>np.ndarray(shape=(512,))</td>\n",
       "      <td>m.0ywm0</td>\n",
       "    </tr>\n",
       "    <tr>\n",
       "      <th>11409</th>\n",
       "      <td>np.ndarray(shape=(512,))</td>\n",
       "      <td>m.0ywsp</td>\n",
       "    </tr>\n",
       "    <tr>\n",
       "      <th>11410</th>\n",
       "      <td>np.ndarray(shape=(512,))</td>\n",
       "      <td>m.0z1z</td>\n",
       "    </tr>\n",
       "    <tr>\n",
       "      <th>11411</th>\n",
       "      <td>np.ndarray(shape=(512,))</td>\n",
       "      <td>m.0zwh1k1</td>\n",
       "    </tr>\n",
       "  </tbody>\n",
       "</table>"
      ],
      "text/plain": [
       "DataPanel(nrows: 11412, ncols: 2)"
      ]
     },
     "execution_count": 55,
     "metadata": {},
     "output_type": "execute_result"
    }
   ],
   "source": [
    "avg_embs_clip_by_identity"
   ]
  },
  {
   "cell_type": "code",
   "execution_count": null,
   "metadata": {},
   "outputs": [],
   "source": []
  }
 ],
 "metadata": {
  "kernelspec": {
   "display_name": "Python 3.8.13 ('main')",
   "language": "python",
   "name": "python3"
  },
  "language_info": {
   "codemirror_mode": {
    "name": "ipython",
    "version": 3
   },
   "file_extension": ".py",
   "mimetype": "text/x-python",
   "name": "python",
   "nbconvert_exporter": "python",
   "pygments_lexer": "ipython3",
   "version": "3.8.13"
  },
  "orig_nbformat": 4,
  "vscode": {
   "interpreter": {
    "hash": "ab18cddb8ae987f9fcad609bab256ee8c7e4643ba1abd7d069292f87b9e782b7"
   }
  }
 },
 "nbformat": 4,
 "nbformat_minor": 2
}
