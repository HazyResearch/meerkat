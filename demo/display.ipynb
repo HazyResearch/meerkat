{
 "cells": [
  {
   "cell_type": "code",
   "execution_count": 2,
   "metadata": {},
   "outputs": [
    {
     "data": {
      "text/plain": [
       "(APIInfo(api=<fastapi.applications.FastAPI object at 0x7f81e08bffa0>, port=5003, server=<meerkat.interactive.server.Server object at 0x7f81c02bd220>, name='127.0.0.1', shared=False, process=None, _url=None),\n",
       " FrontendInfo(package_manager='npm', port=8010, name='localhost', shared=False, process=<Popen: returncode: None args: ['python', '-m', 'http.server', '8010']>, _url=None))"
      ]
     },
     "execution_count": 2,
     "metadata": {},
     "output_type": "execute_result"
    }
   ],
   "source": [
    "\"\"\"Demo script.\"\"\"\n",
    "import meerkat as mk\n",
    "\n",
    "mk.gui.start(api_port=5003, frontend_port=8010, dev=False)"
   ]
  },
  {
   "cell_type": "code",
   "execution_count": 3,
   "metadata": {},
   "outputs": [],
   "source": [
    "# Load the dataframe\n",
    "df = mk.get(\"imagenette\", version=\"160px\")"
   ]
  },
  {
   "cell_type": "code",
   "execution_count": 5,
   "metadata": {},
   "outputs": [
    {
     "data": {
      "text/html": [
       "\n",
       "        <iframe\n",
       "            width=\"100%\"\n",
       "            height=\"600px\"\n",
       "            src=\"http://localhost:8010/?id=Gallery90c03929-b4f8-4f62-995e-4c31ac8b409e\"\n",
       "            frameborder=\"0\"\n",
       "            allowfullscreen\n",
       "            \n",
       "        ></iframe>\n",
       "        "
      ],
      "text/plain": [
       "<IPython.lib.display.IFrame at 0x7f81b1840640>"
      ]
     },
     "metadata": {},
     "output_type": "display_data"
    }
   ],
   "source": [
    "df.gui.gallery(main_column=\"img\")"
   ]
  },
  {
   "cell_type": "code",
   "execution_count": null,
   "metadata": {},
   "outputs": [],
   "source": []
  }
 ],
 "metadata": {
  "kernelspec": {
   "display_name": "main",
   "language": "python",
   "name": "python3"
  },
  "language_info": {
   "codemirror_mode": {
    "name": "ipython",
    "version": 3
   },
   "file_extension": ".py",
   "mimetype": "text/x-python",
   "name": "python",
   "nbconvert_exporter": "python",
   "pygments_lexer": "ipython3",
   "version": "3.9.16"
  },
  "orig_nbformat": 4,
  "vscode": {
   "interpreter": {
    "hash": "c9af87224aa1d695b2c89b0f8ed52dfffa74ab321697b30f905d1d200fcf14d4"
   }
  }
 },
 "nbformat": 4,
 "nbformat_minor": 2
}
