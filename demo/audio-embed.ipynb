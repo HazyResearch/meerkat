{
 "cells": [
  {
   "cell_type": "code",
   "execution_count": 1,
   "metadata": {},
   "outputs": [
    {
     "name": "stdout",
     "output_type": "stream",
     "text": [
      "env: PYTORCH_ENABLE_MPS_FALLBACK=1\n"
     ]
    }
   ],
   "source": [
    "\"\"\"A notebook to visualize audio embeddings of the HuggingFace Speech Commands dataset.\"\"\"\n",
    "%set_env PYTORCH_ENABLE_MPS_FALLBACK=1\n",
    "\n",
    "import meerkat as mk\n",
    "\n",
    "%load_ext autoreload\n",
    "%autoreload 2\n",
    "\n",
    "# Set your device here\n",
    "device = \"mps\""
   ]
  },
  {
   "cell_type": "code",
   "execution_count": 2,
   "metadata": {},
   "outputs": [
    {
     "data": {
      "text/plain": [
       "(APIInfo(api=<fastapi.applications.FastAPI object at 0x13f6d96d0>, port=5005, server=<meerkat.interactive.server.Server object at 0x108ab9ca0>, name='127.0.0.1', shared=False, process=None, _url=None),\n",
       " FrontendInfo(package_manager='npm', port=8001, name='localhost', shared=False, process=<Popen: returncode: None args: ['python', '-m', 'http.server', '8001']>, _url=None))"
      ]
     },
     "execution_count": 2,
     "metadata": {},
     "output_type": "execute_result"
    }
   ],
   "source": [
    "mk.gui.start(api_port=5005, frontend_port=8001, dev=False, skip_build=True)"
   ]
  },
  {
   "attachments": {},
   "cell_type": "markdown",
   "metadata": {},
   "source": [
    "## Load the Dataset\n",
    "In this demo, we will be working with [`music_genres_small`](https://huggingface.co/datasets/lewtun/music_genres_small) dataset on HuggingFace."
   ]
  },
  {
   "cell_type": "code",
   "execution_count": 3,
   "metadata": {},
   "outputs": [
    {
     "data": {
      "text/html": [
       "<pre style=\"white-space:pre;overflow-x:auto;line-height:normal;font-family:Menlo,'DejaVu Sans Mono',consolas,'Courier New',monospace\"><span style=\"color: #7fbfbf; text-decoration-color: #7fbfbf\">[03/11/23 19:45:09] </span><span style=\"color: #800000; text-decoration-color: #800000\">WARNING </span> <span style=\"font-weight: bold\">[</span><span style=\"color: #800080; text-decoration-color: #800080; font-weight: bold\">download_and_prepare</span><span style=\"font-weight: bold\">()]</span> <span style=\"font-weight: bold\">[</span>datasets.builder: <span style=\"color: #008080; text-decoration-color: #008080; font-weight: bold\">798</span><span style=\"font-weight: bold\">]</span> :: Found cached        <a href=\"file:///Users/arjundd/miniconda3/envs/meerkat_env/lib/python3.9/site-packages/datasets/builder.py\" target=\"_blank\"><span style=\"color: #7f7f7f; text-decoration-color: #7f7f7f\">builder.py</span></a><span style=\"color: #7f7f7f; text-decoration-color: #7f7f7f\">:</span><a href=\"file:///Users/arjundd/miniconda3/envs/meerkat_env/lib/python3.9/site-packages/datasets/builder.py#798\" target=\"_blank\"><span style=\"color: #7f7f7f; text-decoration-color: #7f7f7f\">798</span></a>\n",
       "<span style=\"color: #7fbfbf; text-decoration-color: #7fbfbf\">                    </span>         dataset parquet                                                         <span style=\"color: #7f7f7f; text-decoration-color: #7f7f7f\">              </span>\n",
       "<span style=\"color: #7fbfbf; text-decoration-color: #7fbfbf\">                    </span>         <span style=\"font-weight: bold\">(</span><span style=\"color: #800080; text-decoration-color: #800080\">/Users/arjundd/.cache/huggingface/datasets/lewtun___parquet/lewtun--mu</span> <span style=\"color: #7f7f7f; text-decoration-color: #7f7f7f\">              </span>\n",
       "<span style=\"color: #7fbfbf; text-decoration-color: #7fbfbf\">                    </span>         <span style=\"color: #800080; text-decoration-color: #800080\">sic_genres_small-2686d03f87ff3ace/0.0.0/</span><span style=\"color: #ff00ff; text-decoration-color: #ff00ff\">2a3b91fbd88a2c90d1dbbb32b460cf6</span> <span style=\"color: #7f7f7f; text-decoration-color: #7f7f7f\">              </span>\n",
       "<span style=\"color: #7fbfbf; text-decoration-color: #7fbfbf\">                    </span>         <span style=\"color: #ff00ff; text-decoration-color: #ff00ff\">21d31bd5b05b934492fdef7d8d6f236ec</span><span style=\"font-weight: bold\">)</span>                                      <span style=\"color: #7f7f7f; text-decoration-color: #7f7f7f\">              </span>\n",
       "</pre>\n"
      ],
      "text/plain": [
       "\u001b[2;36m[03/11/23 19:45:09]\u001b[0m\u001b[2;36m \u001b[0m\u001b[31mWARNING \u001b[0m \u001b[1m[\u001b[0m\u001b[1;35mdownload_and_prepare\u001b[0m\u001b[1m(\u001b[0m\u001b[1m)\u001b[0m\u001b[1m]\u001b[0m \u001b[1m[\u001b[0mdatasets.builder: \u001b[1;36m798\u001b[0m\u001b[1m]\u001b[0m :: Found cached        \u001b]8;id=978767;file:///Users/arjundd/miniconda3/envs/meerkat_env/lib/python3.9/site-packages/datasets/builder.py\u001b\\\u001b[2mbuilder.py\u001b[0m\u001b]8;;\u001b\\\u001b[2m:\u001b[0m\u001b]8;id=954873;file:///Users/arjundd/miniconda3/envs/meerkat_env/lib/python3.9/site-packages/datasets/builder.py#798\u001b\\\u001b[2m798\u001b[0m\u001b]8;;\u001b\\\n",
       "\u001b[2;36m                    \u001b[0m         dataset parquet                                                         \u001b[2m              \u001b[0m\n",
       "\u001b[2;36m                    \u001b[0m         \u001b[1m(\u001b[0m\u001b[35m/Users/arjundd/.cache/huggingface/datasets/lewtun___parquet/lewtun--mu\u001b[0m \u001b[2m              \u001b[0m\n",
       "\u001b[2;36m                    \u001b[0m         \u001b[35msic_genres_small-2686d03f87ff3ace/0.0.0/\u001b[0m\u001b[95m2a3b91fbd88a2c90d1dbbb32b460cf6\u001b[0m \u001b[2m              \u001b[0m\n",
       "\u001b[2;36m                    \u001b[0m         \u001b[95m21d31bd5b05b934492fdef7d8d6f236ec\u001b[0m\u001b[1m)\u001b[0m                                      \u001b[2m              \u001b[0m\n"
      ]
     },
     "metadata": {},
     "output_type": "display_data"
    },
    {
     "data": {
      "application/vnd.jupyter.widget-view+json": {
       "model_id": "f4b77868194d4bcba3265d150d5c2200",
       "version_major": 2,
       "version_minor": 0
      },
      "text/plain": [
       "  0%|          | 0/1 [00:00<?, ?it/s]"
      ]
     },
     "metadata": {},
     "output_type": "display_data"
    },
    {
     "name": "stderr",
     "output_type": "stream",
     "text": [
      "/Users/arjundd/code/meerkat/meerkat/columns/scalar/arrow.py:205: UserWarning: Unable to check if column is a valid primary key: Function 'unique' has no kernel matching input types (struct<bytes: binary, path: string>)\n",
      "  warnings.warn(f\"Unable to check if column is a valid primary key: {e}\")\n"
     ]
    }
   ],
   "source": [
    "dataset = mk.get(name=\"lewtun/music_genres_small\", registry=\"huggingface\")"
   ]
  },
  {
   "cell_type": "code",
   "execution_count": 4,
   "metadata": {},
   "outputs": [],
   "source": [
    "from typing import Any, Dict\n",
    "import datasets as hf_datasets\n",
    "\n",
    "from meerkat.interactive.formatter import AudioFormatterGroup\n",
    "from meerkat.cells.audio import Audio\n",
    "\n",
    "df = dataset[\"train\"].view()\n",
    "\n",
    "# The audio column is a dictionary containing the bytes.\n",
    "# Extract the bytes lazily.\n",
    "# The byte string is actually the fastest way to display the audio,\n",
    "# because the encoding is already done.\n",
    "df[\"audio\"] = df[\"audio\"].defer(lambda x: x[\"bytes\"])\n",
    "# df[\"audio\"] = df[\"audio\"].defer(to_mk_audio)\n",
    "\n",
    "# Set the formatter for this column.\n",
    "df[\"audio\"].formatters = AudioFormatterGroup()"
   ]
  },
  {
   "cell_type": "code",
   "execution_count": 5,
   "metadata": {},
   "outputs": [
    {
     "data": {
      "text/html": [
       "\n",
       "        <iframe\n",
       "            width=\"100%\"\n",
       "            height=\"600px\"\n",
       "            src=\"http://localhost:8001/?id=Table0a214b65-2aab-46e8-832e-87e9f511c781\"\n",
       "            frameborder=\"0\"\n",
       "            allowfullscreen\n",
       "            \n",
       "        ></iframe>\n",
       "        "
      ],
      "text/plain": [
       "<IPython.lib.display.IFrame at 0x2b7f80970>"
      ]
     },
     "metadata": {},
     "output_type": "display_data"
    }
   ],
   "source": [
    "df"
   ]
  },
  {
   "attachments": {},
   "cell_type": "markdown",
   "metadata": {},
   "source": [
    "## Encode the dataset with Wav2Vec2\n",
    "Encode the dataset with Wav2Vec2. This will take a few minutes.\n",
    "\n",
    "You can also optionally download the embeddings from huggingface. See the code for how to do this"
   ]
  },
  {
   "cell_type": "code",
   "execution_count": 6,
   "metadata": {},
   "outputs": [],
   "source": [
    "# Make a column that returns the audio tensors @ sampling rage 16kHz.\n",
    "from meerkat.cells.audio import Audio\n",
    "import datasets as hf_datasets\n",
    "\n",
    "sampling_rate = 16000\n",
    "\n",
    "def to_mk_audio(audio: bytes) -> Audio:\n",
    "    audio_dict = hf_datasets.Audio().decode_example({\"path\": None, \"bytes\": audio})\n",
    "    return Audio(data=audio_dict[\"array\"], sampling_rate=audio_dict[\"sampling_rate\"])\n",
    "\n",
    "def to_array(audio: Audio):\n",
    "    return audio.resample(sampling_rate).data\n",
    "\n",
    "df_embed = df[[\"song_id\", \"audio\"]]\n",
    "df_embed[\"audio\"] = df_embed[\"audio\"].defer(to_mk_audio)\n",
    "df_embed[\"audio_tensor\"] = df_embed[\"audio\"].defer(to_array)"
   ]
  },
  {
   "cell_type": "code",
   "execution_count": 7,
   "metadata": {},
   "outputs": [
    {
     "name": "stderr",
     "output_type": "stream",
     "text": [
      "Some weights of the model checkpoint at facebook/wav2vec2-base-960h were not used when initializing Wav2Vec2Model: ['lm_head.weight', 'lm_head.bias']\n",
      "- This IS expected if you are initializing Wav2Vec2Model from the checkpoint of a model trained on another task or with another architecture (e.g. initializing a BertForSequenceClassification model from a BertForPreTraining model).\n",
      "- This IS NOT expected if you are initializing Wav2Vec2Model from the checkpoint of a model that you expect to be exactly identical (initializing a BertForSequenceClassification model from a BertForSequenceClassification model).\n",
      "Some weights of Wav2Vec2Model were not initialized from the model checkpoint at facebook/wav2vec2-base-960h and are newly initialized: ['wav2vec2.masked_spec_embed']\n",
      "You should probably TRAIN this model on a down-stream task to be able to use it for predictions and inference.\n"
     ]
    }
   ],
   "source": [
    "import torch\n",
    "from transformers import AutoProcessor, Wav2Vec2Model\n",
    "\n",
    "\n",
    "processor = AutoProcessor.from_pretrained(\"facebook/wav2vec2-base-960h\", device=device)\n",
    "model = Wav2Vec2Model.from_pretrained(\"facebook/wav2vec2-base-960h\").to(device)"
   ]
  },
  {
   "cell_type": "code",
   "execution_count": 9,
   "metadata": {},
   "outputs": [
    {
     "name": "stderr",
     "output_type": "stream",
     "text": [
      "100%|██████████| 1000/1000 [04:28<00:00,  3.73it/s]\n"
     ]
    }
   ],
   "source": [
    "def embed(audio_tensor: torch.Tensor):\n",
    "    audio_tensor = audio_tensor.type(torch.float32).to(device)\n",
    "    inputs = processor(audio_tensor, sampling_rate=sampling_rate, return_tensors=\"pt\", device=device)\n",
    "    inputs[\"input_values\"] = inputs[\"input_values\"].to(device)\n",
    "    with torch.no_grad():\n",
    "        outputs = model(**inputs)\n",
    "    last_hidden_states = outputs.last_hidden_state\n",
    "    return last_hidden_states.mean(dim=1).squeeze().cpu()\n",
    "\n",
    "df_embed[\"embeddings\"] = df_embed[\"audio_tensor\"].map(embed, use_ray=False, pbar=True)\n",
    "df_embed[\"embeddings\"] = df_embed[\"embeddings\"].to(\"cpu\")"
   ]
  },
  {
   "cell_type": "code",
   "execution_count": 10,
   "metadata": {},
   "outputs": [],
   "source": [
    "# Optionally download embeddings from huggingface\n",
    "df_embed = mk.DataFrame.read(\"https://huggingface.co/datasets/meerkat-ml/meerkat-dataframes/resolve/main/music_genres_small-wav2vec2-embedded.mk.tar.gz\")\n",
    "\n",
    "df_embed[\"embeddings\"] = df_embed[\"embeddings\"].cpu().numpy()"
   ]
  },
  {
   "cell_type": "code",
   "execution_count": 12,
   "metadata": {},
   "outputs": [],
   "source": [
    "# df_embed[[\"song_id\", \"embeddings\"]].write(\"~/.meerkat/dataframes/music_genres_small-wav2vec2-embedded.mk\")"
   ]
  },
  {
   "attachments": {},
   "cell_type": "markdown",
   "metadata": {},
   "source": [
    "## Make the interface"
   ]
  },
  {
   "cell_type": "code",
   "execution_count": 15,
   "metadata": {},
   "outputs": [
    {
     "data": {
      "text/html": [
       "\n",
       "        <iframe\n",
       "            width=\"100%\"\n",
       "            height=\"600px\"\n",
       "            src=\"http://localhost:8001/?id=Table853ba32b-3e81-473f-b3c6-cf27fdf90659\"\n",
       "            frameborder=\"0\"\n",
       "            allowfullscreen\n",
       "            \n",
       "        ></iframe>\n",
       "        "
      ],
      "text/plain": [
       "<IPython.lib.display.IFrame at 0x2cf2cb940>"
      ]
     },
     "metadata": {},
     "output_type": "display_data"
    }
   ],
   "source": [
    "df_embed"
   ]
  },
  {
   "cell_type": "code",
   "execution_count": 13,
   "metadata": {},
   "outputs": [
    {
     "ename": "TypeError",
     "evalue": "Cannot convert MemoryMappedTable to pyarrow.lib.Table",
     "output_type": "error",
     "traceback": [
      "\u001b[0;31m---------------------------------------------------------------------------\u001b[0m",
      "\u001b[0;31mTypeError\u001b[0m                                 Traceback (most recent call last)",
      "Cell \u001b[0;32mIn[13], line 1\u001b[0m\n\u001b[0;32m----> 1\u001b[0m plot_df \u001b[39m=\u001b[39m df\u001b[39m.\u001b[39;49mmerge(df_embed, on\u001b[39m=\u001b[39;49m\u001b[39m\"\u001b[39;49m\u001b[39msong_id\u001b[39;49m\u001b[39m\"\u001b[39;49m)\n",
      "File \u001b[0;32m~/code/meerkat/meerkat/interactive/graph/reactivity.py:204\u001b[0m, in \u001b[0;36mreactive.<locals>.__reactive.<locals>.wrapper\u001b[0;34m(*args, **kwargs)\u001b[0m\n\u001b[1;32m    202\u001b[0m \u001b[39m# Call the function on the args and kwargs\u001b[39;00m\n\u001b[1;32m    203\u001b[0m \u001b[39mwith\u001b[39;00m unmarked():\n\u001b[0;32m--> 204\u001b[0m     result \u001b[39m=\u001b[39m fn(\u001b[39m*\u001b[39;49munpacked_args, \u001b[39m*\u001b[39;49m\u001b[39m*\u001b[39;49munpacked_kwargs)\n\u001b[1;32m    206\u001b[0m \u001b[39m# TODO: Check if result is equal to one of the inputs.\u001b[39;00m\n\u001b[1;32m    207\u001b[0m \u001b[39m# If it is, we need to copy it.\u001b[39;00m\n\u001b[1;32m    209\u001b[0m \u001b[39mif\u001b[39;00m _is_unmarked_context \u001b[39mor\u001b[39;00m _force_no_react \u001b[39mor\u001b[39;00m \u001b[39mnot\u001b[39;00m any_inputs_marked:\n\u001b[1;32m    210\u001b[0m     \u001b[39m# If we are in an unmarked context, then we don't need to create\u001b[39;00m\n\u001b[1;32m    211\u001b[0m     \u001b[39m# any nodes in the graph.\u001b[39;00m\n\u001b[1;32m    212\u001b[0m     \u001b[39m# `fn` should be run as normal.\u001b[39;00m\n",
      "File \u001b[0;32m~/code/meerkat/meerkat/dataframe.py:1229\u001b[0m, in \u001b[0;36mDataFrame.merge\u001b[0;34m(self, right, how, on, left_on, right_on, sort, suffixes, validate)\u001b[0m\n\u001b[1;32m   1215\u001b[0m \u001b[39m@reactive\u001b[39m()\n\u001b[1;32m   1216\u001b[0m \u001b[39mdef\u001b[39;00m \u001b[39mmerge\u001b[39m(\n\u001b[1;32m   1217\u001b[0m     \u001b[39mself\u001b[39m,\n\u001b[0;32m   (...)\u001b[0m\n\u001b[1;32m   1225\u001b[0m     validate\u001b[39m=\u001b[39m\u001b[39mNone\u001b[39;00m,\n\u001b[1;32m   1226\u001b[0m ):\n\u001b[1;32m   1227\u001b[0m     \u001b[39mfrom\u001b[39;00m \u001b[39mmeerkat\u001b[39;00m \u001b[39mimport\u001b[39;00m merge\n\u001b[0;32m-> 1229\u001b[0m     \u001b[39mreturn\u001b[39;00m merge(\n\u001b[1;32m   1230\u001b[0m         \u001b[39mself\u001b[39;49m,\n\u001b[1;32m   1231\u001b[0m         right,\n\u001b[1;32m   1232\u001b[0m         how\u001b[39m=\u001b[39;49mhow,\n\u001b[1;32m   1233\u001b[0m         on\u001b[39m=\u001b[39;49mon,\n\u001b[1;32m   1234\u001b[0m         left_on\u001b[39m=\u001b[39;49mleft_on,\n\u001b[1;32m   1235\u001b[0m         right_on\u001b[39m=\u001b[39;49mright_on,\n\u001b[1;32m   1236\u001b[0m         sort\u001b[39m=\u001b[39;49msort,\n\u001b[1;32m   1237\u001b[0m         suffixes\u001b[39m=\u001b[39;49msuffixes,\n\u001b[1;32m   1238\u001b[0m         validate\u001b[39m=\u001b[39;49mvalidate,\n\u001b[1;32m   1239\u001b[0m     )\n",
      "File \u001b[0;32m~/code/meerkat/meerkat/provenance.py:205\u001b[0m, in \u001b[0;36mcapture_provenance.<locals>._provenance.<locals>._wrapper\u001b[0;34m(*args, **kwargs)\u001b[0m\n\u001b[1;32m    202\u001b[0m \u001b[39m@wraps\u001b[39m(fn)\n\u001b[1;32m    203\u001b[0m \u001b[39mdef\u001b[39;00m \u001b[39m_wrapper\u001b[39m(\u001b[39m*\u001b[39margs, \u001b[39m*\u001b[39m\u001b[39m*\u001b[39mkwargs):\n\u001b[1;32m    204\u001b[0m     \u001b[39mif\u001b[39;00m \u001b[39mnot\u001b[39;00m is_provenance_enabled():\n\u001b[0;32m--> 205\u001b[0m         \u001b[39mreturn\u001b[39;00m fn(\u001b[39m*\u001b[39;49margs, \u001b[39m*\u001b[39;49m\u001b[39m*\u001b[39;49mkwargs)\n\u001b[1;32m    206\u001b[0m     args_dict \u001b[39m=\u001b[39m getcallargs(fn, \u001b[39m*\u001b[39margs, \u001b[39m*\u001b[39m\u001b[39m*\u001b[39mkwargs)\n\u001b[1;32m    207\u001b[0m     \u001b[39mif\u001b[39;00m \u001b[39m\"\u001b[39m\u001b[39mkwargs\u001b[39m\u001b[39m\"\u001b[39m \u001b[39min\u001b[39;00m args_dict:\n",
      "File \u001b[0;32m~/code/meerkat/meerkat/ops/decorators.py:16\u001b[0m, in \u001b[0;36mcheck_primary_key.<locals>._wrapper\u001b[0;34m(*args, **kwargs)\u001b[0m\n\u001b[1;32m     14\u001b[0m \u001b[39m@wraps\u001b[39m(fn)\n\u001b[1;32m     15\u001b[0m \u001b[39mdef\u001b[39;00m \u001b[39m_wrapper\u001b[39m(\u001b[39m*\u001b[39margs, \u001b[39m*\u001b[39m\u001b[39m*\u001b[39mkwargs):\n\u001b[0;32m---> 16\u001b[0m     out \u001b[39m=\u001b[39m fn(\u001b[39m*\u001b[39;49margs, \u001b[39m*\u001b[39;49m\u001b[39m*\u001b[39;49mkwargs)\n\u001b[1;32m     18\u001b[0m     \u001b[39mif\u001b[39;00m \u001b[39misinstance\u001b[39m(out, DataFrame):\n\u001b[1;32m     19\u001b[0m         \u001b[39mif\u001b[39;00m out\u001b[39m.\u001b[39m_primary_key \u001b[39mis\u001b[39;00m \u001b[39mnot\u001b[39;00m \u001b[39mNone\u001b[39;00m \u001b[39mand\u001b[39;00m (\n\u001b[1;32m     20\u001b[0m             out\u001b[39m.\u001b[39m_primary_key \u001b[39mnot\u001b[39;00m \u001b[39min\u001b[39;00m out\n\u001b[1;32m     21\u001b[0m             \u001b[39mor\u001b[39;00m \u001b[39mnot\u001b[39;00m out\u001b[39m.\u001b[39mprimary_key\u001b[39m.\u001b[39m_is_valid_primary_key()\n\u001b[1;32m     22\u001b[0m         ):\n",
      "File \u001b[0;32m~/code/meerkat/meerkat/interactive/graph/reactivity.py:204\u001b[0m, in \u001b[0;36mreactive.<locals>.__reactive.<locals>.wrapper\u001b[0;34m(*args, **kwargs)\u001b[0m\n\u001b[1;32m    202\u001b[0m \u001b[39m# Call the function on the args and kwargs\u001b[39;00m\n\u001b[1;32m    203\u001b[0m \u001b[39mwith\u001b[39;00m unmarked():\n\u001b[0;32m--> 204\u001b[0m     result \u001b[39m=\u001b[39m fn(\u001b[39m*\u001b[39;49munpacked_args, \u001b[39m*\u001b[39;49m\u001b[39m*\u001b[39;49munpacked_kwargs)\n\u001b[1;32m    206\u001b[0m \u001b[39m# TODO: Check if result is equal to one of the inputs.\u001b[39;00m\n\u001b[1;32m    207\u001b[0m \u001b[39m# If it is, we need to copy it.\u001b[39;00m\n\u001b[1;32m    209\u001b[0m \u001b[39mif\u001b[39;00m _is_unmarked_context \u001b[39mor\u001b[39;00m _force_no_react \u001b[39mor\u001b[39;00m \u001b[39mnot\u001b[39;00m any_inputs_marked:\n\u001b[1;32m    210\u001b[0m     \u001b[39m# If we are in an unmarked context, then we don't need to create\u001b[39;00m\n\u001b[1;32m    211\u001b[0m     \u001b[39m# any nodes in the graph.\u001b[39;00m\n\u001b[1;32m    212\u001b[0m     \u001b[39m# `fn` should be run as normal.\u001b[39;00m\n",
      "File \u001b[0;32m~/code/meerkat/meerkat/ops/merge.py:123\u001b[0m, in \u001b[0;36mmerge\u001b[0;34m(left, right, how, on, left_on, right_on, sort, suffixes, validate)\u001b[0m\n\u001b[1;32m    120\u001b[0m left_cols_to_construct \u001b[39m=\u001b[39m _cols_to_construct(left)\n\u001b[1;32m    121\u001b[0m right_cols_to_construct \u001b[39m=\u001b[39m _cols_to_construct(right)\n\u001b[1;32m    122\u001b[0m new_left \u001b[39m=\u001b[39m (\n\u001b[0;32m--> 123\u001b[0m     _construct_from_indices(left[left_cols_to_construct], left_indices)\n\u001b[1;32m    124\u001b[0m     \u001b[39m# need to check for special case where there are no columns other than those in\u001b[39;00m\n\u001b[1;32m    125\u001b[0m     \u001b[39m# the intersection of `left_on` and `right_on`\u001b[39;00m\n\u001b[1;32m    126\u001b[0m     \u001b[39mif\u001b[39;00m \u001b[39mlen\u001b[39m(left_cols_to_construct) \u001b[39m>\u001b[39m \u001b[39m0\u001b[39m\n\u001b[1;32m    127\u001b[0m     \u001b[39melse\u001b[39;00m \u001b[39mNone\u001b[39;00m\n\u001b[1;32m    128\u001b[0m )\n\u001b[1;32m    129\u001b[0m new_right \u001b[39m=\u001b[39m (\n\u001b[1;32m    130\u001b[0m     _construct_from_indices(right[right_cols_to_construct], right_indices)\n\u001b[1;32m    131\u001b[0m     \u001b[39m# need to check for special case where there are no columns other than those in\u001b[39;00m\n\u001b[0;32m   (...)\u001b[0m\n\u001b[1;32m    134\u001b[0m     \u001b[39melse\u001b[39;00m \u001b[39mNone\u001b[39;00m\n\u001b[1;32m    135\u001b[0m )\n\u001b[1;32m    137\u001b[0m \u001b[39mif\u001b[39;00m new_left \u001b[39mis\u001b[39;00m \u001b[39mNone\u001b[39;00m \u001b[39mand\u001b[39;00m new_right \u001b[39mis\u001b[39;00m \u001b[39mnot\u001b[39;00m \u001b[39mNone\u001b[39;00m:\n",
      "File \u001b[0;32m~/code/meerkat/meerkat/ops/merge.py:197\u001b[0m, in \u001b[0;36m_construct_from_indices\u001b[0;34m(df, indices)\u001b[0m\n\u001b[1;32m    193\u001b[0m     \u001b[39mreturn\u001b[39;00m df\u001b[39m.\u001b[39m_clone(data\u001b[39m=\u001b[39mdata)\n\u001b[1;32m    194\u001b[0m \u001b[39melse\u001b[39;00m:\n\u001b[1;32m    195\u001b[0m     \u001b[39m# if there are no `nan`s in the indices, then we can just lazy index the\u001b[39;00m\n\u001b[1;32m    196\u001b[0m     \u001b[39m# original column\u001b[39;00m\n\u001b[0;32m--> 197\u001b[0m     \u001b[39mreturn\u001b[39;00m df[indices]\n",
      "File \u001b[0;32m~/code/meerkat/meerkat/interactive/graph/reactivity.py:204\u001b[0m, in \u001b[0;36mreactive.<locals>.__reactive.<locals>.wrapper\u001b[0;34m(*args, **kwargs)\u001b[0m\n\u001b[1;32m    202\u001b[0m \u001b[39m# Call the function on the args and kwargs\u001b[39;00m\n\u001b[1;32m    203\u001b[0m \u001b[39mwith\u001b[39;00m unmarked():\n\u001b[0;32m--> 204\u001b[0m     result \u001b[39m=\u001b[39m fn(\u001b[39m*\u001b[39;49munpacked_args, \u001b[39m*\u001b[39;49m\u001b[39m*\u001b[39;49munpacked_kwargs)\n\u001b[1;32m    206\u001b[0m \u001b[39m# TODO: Check if result is equal to one of the inputs.\u001b[39;00m\n\u001b[1;32m    207\u001b[0m \u001b[39m# If it is, we need to copy it.\u001b[39;00m\n\u001b[1;32m    209\u001b[0m \u001b[39mif\u001b[39;00m _is_unmarked_context \u001b[39mor\u001b[39;00m _force_no_react \u001b[39mor\u001b[39;00m \u001b[39mnot\u001b[39;00m any_inputs_marked:\n\u001b[1;32m    210\u001b[0m     \u001b[39m# If we are in an unmarked context, then we don't need to create\u001b[39;00m\n\u001b[1;32m    211\u001b[0m     \u001b[39m# any nodes in the graph.\u001b[39;00m\n\u001b[1;32m    212\u001b[0m     \u001b[39m# `fn` should be run as normal.\u001b[39;00m\n",
      "File \u001b[0;32m~/code/meerkat/meerkat/dataframe.py:537\u001b[0m, in \u001b[0;36mDataFrame.__getitem__\u001b[0;34m(self, posidx)\u001b[0m\n\u001b[1;32m    535\u001b[0m \u001b[39m@reactive\u001b[39m()\n\u001b[1;32m    536\u001b[0m \u001b[39mdef\u001b[39;00m \u001b[39m__getitem__\u001b[39m(\u001b[39mself\u001b[39m, posidx):\n\u001b[0;32m--> 537\u001b[0m     \u001b[39mreturn\u001b[39;00m \u001b[39mself\u001b[39;49m\u001b[39m.\u001b[39;49m_get(posidx, materialize\u001b[39m=\u001b[39;49m\u001b[39mFalse\u001b[39;49;00m)\n",
      "File \u001b[0;32m~/code/meerkat/meerkat/interactive/graph/marking.py:74\u001b[0m, in \u001b[0;36munmarked.__call__.<locals>.decorate_context\u001b[0;34m(*args, **kwargs)\u001b[0m\n\u001b[1;32m     71\u001b[0m \u001b[39m@wraps\u001b[39m(func)\n\u001b[1;32m     72\u001b[0m \u001b[39mdef\u001b[39;00m \u001b[39mdecorate_context\u001b[39m(\u001b[39m*\u001b[39margs, \u001b[39m*\u001b[39m\u001b[39m*\u001b[39mkwargs):\n\u001b[1;32m     73\u001b[0m     \u001b[39mwith\u001b[39;00m \u001b[39mself\u001b[39m\u001b[39m.\u001b[39mclone():\n\u001b[0;32m---> 74\u001b[0m         \u001b[39mreturn\u001b[39;00m reactive(func, nested_return\u001b[39m=\u001b[39;49m\u001b[39mFalse\u001b[39;49;00m)(\u001b[39m*\u001b[39;49margs, \u001b[39m*\u001b[39;49m\u001b[39m*\u001b[39;49mkwargs)\n",
      "File \u001b[0;32m~/code/meerkat/meerkat/interactive/graph/reactivity.py:204\u001b[0m, in \u001b[0;36mreactive.<locals>.__reactive.<locals>.wrapper\u001b[0;34m(*args, **kwargs)\u001b[0m\n\u001b[1;32m    202\u001b[0m \u001b[39m# Call the function on the args and kwargs\u001b[39;00m\n\u001b[1;32m    203\u001b[0m \u001b[39mwith\u001b[39;00m unmarked():\n\u001b[0;32m--> 204\u001b[0m     result \u001b[39m=\u001b[39m fn(\u001b[39m*\u001b[39;49munpacked_args, \u001b[39m*\u001b[39;49m\u001b[39m*\u001b[39;49munpacked_kwargs)\n\u001b[1;32m    206\u001b[0m \u001b[39m# TODO: Check if result is equal to one of the inputs.\u001b[39;00m\n\u001b[1;32m    207\u001b[0m \u001b[39m# If it is, we need to copy it.\u001b[39;00m\n\u001b[1;32m    209\u001b[0m \u001b[39mif\u001b[39;00m _is_unmarked_context \u001b[39mor\u001b[39;00m _force_no_react \u001b[39mor\u001b[39;00m \u001b[39mnot\u001b[39;00m any_inputs_marked:\n\u001b[1;32m    210\u001b[0m     \u001b[39m# If we are in an unmarked context, then we don't need to create\u001b[39;00m\n\u001b[1;32m    211\u001b[0m     \u001b[39m# any nodes in the graph.\u001b[39;00m\n\u001b[1;32m    212\u001b[0m     \u001b[39m# `fn` should be run as normal.\u001b[39;00m\n",
      "File \u001b[0;32m~/code/meerkat/meerkat/interactive/graph/reactivity.py:137\u001b[0m, in \u001b[0;36mreactive.<locals>.__reactive.<locals>.wrapper.<locals>._fn_outer_wrapper.<locals>._fn_wrapper\u001b[0;34m(*args, **kwargs)\u001b[0m\n\u001b[1;32m    135\u001b[0m \u001b[39m@wraps\u001b[39m(_fn)\n\u001b[1;32m    136\u001b[0m \u001b[39mdef\u001b[39;00m \u001b[39m_fn_wrapper\u001b[39m(\u001b[39m*\u001b[39margs, \u001b[39m*\u001b[39m\u001b[39m*\u001b[39mkwargs):\n\u001b[0;32m--> 137\u001b[0m     \u001b[39mreturn\u001b[39;00m _fn(\u001b[39m*\u001b[39;49margs, \u001b[39m*\u001b[39;49m\u001b[39m*\u001b[39;49mkwargs)\n",
      "File \u001b[0;32m~/code/meerkat/meerkat/dataframe.py:531\u001b[0m, in \u001b[0;36mDataFrame._get\u001b[0;34m(self, posidx, materialize)\u001b[0m\n\u001b[1;32m    528\u001b[0m     \u001b[39mreturn\u001b[39;00m df\n\u001b[1;32m    529\u001b[0m \u001b[39melif\u001b[39;00m index_type \u001b[39m==\u001b[39m \u001b[39m\"\u001b[39m\u001b[39mrow\u001b[39m\u001b[39m\"\u001b[39m:  \u001b[39m# pragma: no cover\u001b[39;00m\n\u001b[1;32m    530\u001b[0m     \u001b[39mreturn\u001b[39;00m \u001b[39mself\u001b[39m\u001b[39m.\u001b[39m_clone(\n\u001b[0;32m--> 531\u001b[0m         data\u001b[39m=\u001b[39m\u001b[39mself\u001b[39;49m\u001b[39m.\u001b[39;49mdata\u001b[39m.\u001b[39;49mapply(\u001b[39m\"\u001b[39;49m\u001b[39m_get\u001b[39;49m\u001b[39m\"\u001b[39;49m, index\u001b[39m=\u001b[39;49mposidx, materialize\u001b[39m=\u001b[39;49mmaterialize)\n\u001b[1;32m    532\u001b[0m     )\n",
      "File \u001b[0;32m~/code/meerkat/meerkat/block/manager.py:98\u001b[0m, in \u001b[0;36mBlockManager.apply\u001b[0;34m(self, method_name, *args, **kwargs)\u001b[0m\n\u001b[1;32m     91\u001b[0m     result \u001b[39m=\u001b[39m block_ref\u001b[39m.\u001b[39mapply(\n\u001b[1;32m     92\u001b[0m         method_name\u001b[39m=\u001b[39mmethod_name,\n\u001b[1;32m     93\u001b[0m         indexed_inputs\u001b[39m=\u001b[39mindexed_inputs,\n\u001b[1;32m     94\u001b[0m         \u001b[39m*\u001b[39margs,\n\u001b[1;32m     95\u001b[0m         \u001b[39m*\u001b[39m\u001b[39m*\u001b[39mkwargs,\n\u001b[1;32m     96\u001b[0m     )\n\u001b[1;32m     97\u001b[0m \u001b[39melse\u001b[39;00m:\n\u001b[0;32m---> 98\u001b[0m     result \u001b[39m=\u001b[39m block_ref\u001b[39m.\u001b[39;49mapply(method_name\u001b[39m=\u001b[39;49mmethod_name, \u001b[39m*\u001b[39;49margs, \u001b[39m*\u001b[39;49m\u001b[39m*\u001b[39;49mkwargs)\n\u001b[1;32m    100\u001b[0m \u001b[39mif\u001b[39;00m results \u001b[39mis\u001b[39;00m \u001b[39mNone\u001b[39;00m:\n\u001b[1;32m    101\u001b[0m     \u001b[39m# apply returns one of BlockRef, List[BlockRef], dict\u001b[39;00m\n\u001b[1;32m    102\u001b[0m     results \u001b[39m=\u001b[39m BlockManager() \u001b[39mif\u001b[39;00m \u001b[39misinstance\u001b[39m(result, (BlockRef, List)) \u001b[39melse\u001b[39;00m {}\n",
      "File \u001b[0;32m~/code/meerkat/meerkat/block/ref.py:44\u001b[0m, in \u001b[0;36mBlockRef.apply\u001b[0;34m(self, method_name, *args, **kwargs)\u001b[0m\n\u001b[1;32m     40\u001b[0m \u001b[39mdef\u001b[39;00m \u001b[39mapply\u001b[39m(\n\u001b[1;32m     41\u001b[0m     \u001b[39mself\u001b[39m, method_name: \u001b[39mstr\u001b[39m \u001b[39m=\u001b[39m \u001b[39m\"\u001b[39m\u001b[39m_get\u001b[39m\u001b[39m\"\u001b[39m, \u001b[39m*\u001b[39margs, \u001b[39m*\u001b[39m\u001b[39m*\u001b[39mkwargs\n\u001b[1;32m     42\u001b[0m ) \u001b[39m-\u001b[39m\u001b[39m>\u001b[39m Union[BlockRef, List[BlockRef], \u001b[39mdict\u001b[39m]:\n\u001b[1;32m     43\u001b[0m     \u001b[39m# apply method to the block\u001b[39;00m\n\u001b[0;32m---> 44\u001b[0m     \u001b[39mreturn\u001b[39;00m \u001b[39mgetattr\u001b[39;49m(\u001b[39mself\u001b[39;49m\u001b[39m.\u001b[39;49mblock, method_name)(\u001b[39m*\u001b[39;49margs, \u001b[39m*\u001b[39;49m\u001b[39m*\u001b[39;49mkwargs, block_ref\u001b[39m=\u001b[39;49m\u001b[39mself\u001b[39;49m)\n",
      "File \u001b[0;32m~/code/meerkat/meerkat/block/arrow_block.py:136\u001b[0m, in \u001b[0;36mArrowBlock._get\u001b[0;34m(self, index, block_ref, materialize)\u001b[0m\n\u001b[1;32m    126\u001b[0m     data \u001b[39m=\u001b[39m \u001b[39mself\u001b[39m\u001b[39m.\u001b[39mdata\u001b[39m.\u001b[39mfilter(pa\u001b[39m.\u001b[39marray(index))\n\u001b[1;32m    127\u001b[0m \u001b[39melse\u001b[39;00m:\n\u001b[1;32m    128\u001b[0m     \u001b[39m# we do not want to use ``data = self.data.take(index)``\u001b[39;00m\n\u001b[1;32m    129\u001b[0m     \u001b[39m# because it can't handle ChunkedArrays that don't fit in an Array\u001b[39;00m\n\u001b[0;32m   (...)\u001b[0m\n\u001b[1;32m    134\u001b[0m     \u001b[39m# presumably why Table.slice does\u001b[39;00m\n\u001b[1;32m    135\u001b[0m     \u001b[39m# noqa E501, https://github.com/huggingface/datasets/blob/491dad8507792f6f51077867e22412af7cd5c2f1/src/datasets/table.py#L110\u001b[39;00m\n\u001b[0;32m--> 136\u001b[0m     data \u001b[39m=\u001b[39m pa\u001b[39m.\u001b[39;49mconcat_tables(\u001b[39mself\u001b[39;49m\u001b[39m.\u001b[39;49mdata\u001b[39m.\u001b[39;49mslice(i, \u001b[39m1\u001b[39;49m) \u001b[39mfor\u001b[39;49;00m i \u001b[39min\u001b[39;49;00m index)\n\u001b[1;32m    138\u001b[0m block \u001b[39m=\u001b[39m \u001b[39mself\u001b[39m\u001b[39m.\u001b[39m\u001b[39m__class__\u001b[39m(data)\n\u001b[1;32m    140\u001b[0m columns \u001b[39m=\u001b[39m {\n\u001b[1;32m    141\u001b[0m     name: col\u001b[39m.\u001b[39m_clone(data\u001b[39m=\u001b[39mblock[col\u001b[39m.\u001b[39m_block_index])\n\u001b[1;32m    142\u001b[0m     \u001b[39mfor\u001b[39;00m name, col \u001b[39min\u001b[39;00m block_ref\u001b[39m.\u001b[39mcolumns\u001b[39m.\u001b[39mitems()\n\u001b[1;32m    143\u001b[0m }\n",
      "File \u001b[0;32m~/miniconda3/envs/meerkat_env/lib/python3.9/site-packages/pyarrow/table.pxi:5219\u001b[0m, in \u001b[0;36mpyarrow.lib.concat_tables\u001b[0;34m()\u001b[0m\n",
      "\u001b[0;31mTypeError\u001b[0m: Cannot convert MemoryMappedTable to pyarrow.lib.Table"
     ]
    }
   ],
   "source": [
    "plot_df = df.merge(df_embed, on=\"song_id\")"
   ]
  },
  {
   "cell_type": "code",
   "execution_count": null,
   "metadata": {},
   "outputs": [],
   "source": [
    "from typing import List\n",
    "\n",
    "# we can make a scatter plot with selections visualized in a gallery\n",
    "plot_df = df.mark()\n",
    "plot = mk.gui.plotly.ScatterPlot(df=plot_df, x=\"umap_1\", y=\"umap_2\",)\n",
    "\n",
    "# Because we're using the reactive decorator, the filter function will re-run whenever\n",
    "# plot.selected changes. This will update the gallery to only show the selected points.\n",
    "@mk.gui.reactive\n",
    "def filter(selected: List[str], df: mk.DataFrame):\n",
    "    return df[df.primary_key.isin(plot.selected)]\n",
    "\n",
    "filtered_df = filter(plot.selected, plot_df)\n",
    "gallery = mk.gui.Gallery(filtered_df, main_column=\"tweet\")\n",
    "\n",
    "mk.gui.html.div(\n",
    "    [plot, gallery],\n",
    "    classes=\"h-[1200px]\",\n",
    ")"
   ]
  }
 ],
 "metadata": {
  "kernelspec": {
   "display_name": "meerkat_env",
   "language": "python",
   "name": "python3"
  },
  "language_info": {
   "codemirror_mode": {
    "name": "ipython",
    "version": 3
   },
   "file_extension": ".py",
   "mimetype": "text/x-python",
   "name": "python",
   "nbconvert_exporter": "python",
   "pygments_lexer": "ipython3",
   "version": "3.9.16"
  },
  "orig_nbformat": 4
 },
 "nbformat": 4,
 "nbformat_minor": 2
}
