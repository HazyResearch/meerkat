{
 "cells": [
  {
   "cell_type": "code",
   "execution_count": 1,
   "metadata": {},
   "outputs": [
    {
     "name": "stdout",
     "output_type": "stream",
     "text": [
      "env: PYTORCH_ENABLE_MPS_FALLBACK=1\n"
     ]
    }
   ],
   "source": [
    "\"\"\"A notebook to visualize audio embeddings of the HuggingFace Speech Commands dataset.\"\"\"\n",
    "%set_env PYTORCH_ENABLE_MPS_FALLBACK=1\n",
    "\n",
    "import meerkat as mk\n",
    "\n",
    "%load_ext autoreload\n",
    "%autoreload 2\n",
    "\n",
    "# Set your device here\n",
    "device = \"mps\""
   ]
  },
  {
   "cell_type": "code",
   "execution_count": 3,
   "metadata": {},
   "outputs": [
    {
     "name": "stdout",
     "output_type": "stream",
     "text": [
      "Building (may take up to a minute)... 48.28s\r"
     ]
    },
    {
     "data": {
      "text/plain": [
       "(APIInfo(api=<fastapi.applications.FastAPI object at 0x13ae93d60>, port=5010, server=<meerkat.interactive.server.Server object at 0x103bde3d0>, name='127.0.0.1', shared=False, process=None, _url=None),\n",
       " FrontendInfo(package_manager='npm', port=8003, name='localhost', shared=False, process=<Popen: returncode: None args: ['python', '-m', 'http.server', '8003']>, _url=None))"
      ]
     },
     "execution_count": 3,
     "metadata": {},
     "output_type": "execute_result"
    }
   ],
   "source": [
    "mk.gui.start(api_port=5010, frontend_port=8001, dev=False, skip_build=False)"
   ]
  },
  {
   "attachments": {},
   "cell_type": "markdown",
   "metadata": {},
   "source": [
    "## Load the Dataset\n",
    "In this demo, we will be working with [`music_genres_small`](https://huggingface.co/datasets/lewtun/music_genres_small) dataset on HuggingFace."
   ]
  },
  {
   "cell_type": "code",
   "execution_count": 4,
   "metadata": {},
   "outputs": [
    {
     "name": "stderr",
     "output_type": "stream",
     "text": [
      "/Users/sabrieyuboglu/opt/miniconda3/envs/meerkat/lib/python3.9/site-packages/huggingface_hub/utils/_deprecation.py:97: FutureWarning: Deprecated argument(s) used in 'dataset_info': token. Will not be supported from version '0.12'.\n",
      "  warnings.warn(message, FutureWarning)\n"
     ]
    },
    {
     "data": {
      "text/html": [
       "<pre style=\"white-space:pre;overflow-x:auto;line-height:normal;font-family:Menlo,'DejaVu Sans Mono',consolas,'Courier New',monospace\"><span style=\"color: #7fbfbf; text-decoration-color: #7fbfbf\">[03/11/23 20:45:39] </span><span style=\"color: #800000; text-decoration-color: #800000\">WARNING </span> <span style=\"font-weight: bold\">[</span><span style=\"color: #800080; text-decoration-color: #800080; font-weight: bold\">_create_builder_config</span><span style=\"font-weight: bold\">()]</span> <span style=\"font-weight: bold\">[</span>datasets.builder: <span style=\"color: #008080; text-decoration-color: #008080; font-weight: bold\">463</span><span style=\"font-weight: bold\">]</span> :: Using custom data <a href=\"file:///Users/sabrieyuboglu/opt/miniconda3/envs/meerkat/lib/python3.9/site-packages/datasets/builder.py\" target=\"_blank\"><span style=\"color: #7f7f7f; text-decoration-color: #7f7f7f\">builder.py</span></a><span style=\"color: #7f7f7f; text-decoration-color: #7f7f7f\">:</span><a href=\"file:///Users/sabrieyuboglu/opt/miniconda3/envs/meerkat/lib/python3.9/site-packages/datasets/builder.py#463\" target=\"_blank\"><span style=\"color: #7f7f7f; text-decoration-color: #7f7f7f\">463</span></a>\n",
       "<span style=\"color: #7fbfbf; text-decoration-color: #7fbfbf\">                    </span>         configuration lewtun--music_genres_small-2686d03f87ff3ace               <span style=\"color: #7f7f7f; text-decoration-color: #7f7f7f\">              </span>\n",
       "</pre>\n"
      ],
      "text/plain": [
       "\u001b[2;36m[03/11/23 20:45:39]\u001b[0m\u001b[2;36m \u001b[0m\u001b[31mWARNING \u001b[0m \u001b[1m[\u001b[0m\u001b[1;35m_create_builder_config\u001b[0m\u001b[1m(\u001b[0m\u001b[1m)\u001b[0m\u001b[1m]\u001b[0m \u001b[1m[\u001b[0mdatasets.builder: \u001b[1;36m463\u001b[0m\u001b[1m]\u001b[0m :: Using custom data \u001b]8;id=593159;file:///Users/sabrieyuboglu/opt/miniconda3/envs/meerkat/lib/python3.9/site-packages/datasets/builder.py\u001b\\\u001b[2mbuilder.py\u001b[0m\u001b]8;;\u001b\\\u001b[2m:\u001b[0m\u001b]8;id=759472;file:///Users/sabrieyuboglu/opt/miniconda3/envs/meerkat/lib/python3.9/site-packages/datasets/builder.py#463\u001b\\\u001b[2m463\u001b[0m\u001b]8;;\u001b\\\n",
       "\u001b[2;36m                    \u001b[0m         configuration lewtun--music_genres_small-2686d03f87ff3ace               \u001b[2m              \u001b[0m\n"
      ]
     },
     "metadata": {},
     "output_type": "display_data"
    },
    {
     "data": {
      "text/html": [
       "<pre style=\"white-space:pre;overflow-x:auto;line-height:normal;font-family:Menlo,'DejaVu Sans Mono',consolas,'Courier New',monospace\"><span style=\"color: #7fbfbf; text-decoration-color: #7fbfbf\">                    </span><span style=\"color: #800000; text-decoration-color: #800000\">WARNING </span> <span style=\"font-weight: bold\">[</span><span style=\"color: #800080; text-decoration-color: #800080; font-weight: bold\">download_and_prepare</span><span style=\"font-weight: bold\">()]</span> <span style=\"font-weight: bold\">[</span>datasets.builder: <span style=\"color: #008080; text-decoration-color: #008080; font-weight: bold\">641</span><span style=\"font-weight: bold\">]</span> :: Reusing dataset     <a href=\"file:///Users/sabrieyuboglu/opt/miniconda3/envs/meerkat/lib/python3.9/site-packages/datasets/builder.py\" target=\"_blank\"><span style=\"color: #7f7f7f; text-decoration-color: #7f7f7f\">builder.py</span></a><span style=\"color: #7f7f7f; text-decoration-color: #7f7f7f\">:</span><a href=\"file:///Users/sabrieyuboglu/opt/miniconda3/envs/meerkat/lib/python3.9/site-packages/datasets/builder.py#641\" target=\"_blank\"><span style=\"color: #7f7f7f; text-decoration-color: #7f7f7f\">641</span></a>\n",
       "<span style=\"color: #7fbfbf; text-decoration-color: #7fbfbf\">                    </span>         parquet                                                                 <span style=\"color: #7f7f7f; text-decoration-color: #7f7f7f\">              </span>\n",
       "<span style=\"color: #7fbfbf; text-decoration-color: #7fbfbf\">                    </span>         <span style=\"font-weight: bold\">(</span><span style=\"color: #800080; text-decoration-color: #800080\">/Users/sabrieyuboglu/.cache/huggingface/datasets/lewtun___parquet/lewt</span> <span style=\"color: #7f7f7f; text-decoration-color: #7f7f7f\">              </span>\n",
       "<span style=\"color: #7fbfbf; text-decoration-color: #7fbfbf\">                    </span>         <span style=\"color: #800080; text-decoration-color: #800080\">un--music_genres_small-2686d03f87ff3ace/0.0.0/</span><span style=\"color: #ff00ff; text-decoration-color: #ff00ff\">2a3b91fbd88a2c90d1dbbb32b</span> <span style=\"color: #7f7f7f; text-decoration-color: #7f7f7f\">              </span>\n",
       "<span style=\"color: #7fbfbf; text-decoration-color: #7fbfbf\">                    </span>         <span style=\"color: #ff00ff; text-decoration-color: #ff00ff\">460cf621d31bd5b05b934492fdef7d8d6f236ec</span><span style=\"font-weight: bold\">)</span>                                <span style=\"color: #7f7f7f; text-decoration-color: #7f7f7f\">              </span>\n",
       "</pre>\n"
      ],
      "text/plain": [
       "\u001b[2;36m                   \u001b[0m\u001b[2;36m \u001b[0m\u001b[31mWARNING \u001b[0m \u001b[1m[\u001b[0m\u001b[1;35mdownload_and_prepare\u001b[0m\u001b[1m(\u001b[0m\u001b[1m)\u001b[0m\u001b[1m]\u001b[0m \u001b[1m[\u001b[0mdatasets.builder: \u001b[1;36m641\u001b[0m\u001b[1m]\u001b[0m :: Reusing dataset     \u001b]8;id=774455;file:///Users/sabrieyuboglu/opt/miniconda3/envs/meerkat/lib/python3.9/site-packages/datasets/builder.py\u001b\\\u001b[2mbuilder.py\u001b[0m\u001b]8;;\u001b\\\u001b[2m:\u001b[0m\u001b]8;id=811242;file:///Users/sabrieyuboglu/opt/miniconda3/envs/meerkat/lib/python3.9/site-packages/datasets/builder.py#641\u001b\\\u001b[2m641\u001b[0m\u001b]8;;\u001b\\\n",
       "\u001b[2;36m                    \u001b[0m         parquet                                                                 \u001b[2m              \u001b[0m\n",
       "\u001b[2;36m                    \u001b[0m         \u001b[1m(\u001b[0m\u001b[35m/Users/sabrieyuboglu/.cache/huggingface/datasets/lewtun___parquet/lewt\u001b[0m \u001b[2m              \u001b[0m\n",
       "\u001b[2;36m                    \u001b[0m         \u001b[35mun--music_genres_small-2686d03f87ff3ace/0.0.0/\u001b[0m\u001b[95m2a3b91fbd88a2c90d1dbbb32b\u001b[0m \u001b[2m              \u001b[0m\n",
       "\u001b[2;36m                    \u001b[0m         \u001b[95m460cf621d31bd5b05b934492fdef7d8d6f236ec\u001b[0m\u001b[1m)\u001b[0m                                \u001b[2m              \u001b[0m\n"
      ]
     },
     "metadata": {},
     "output_type": "display_data"
    },
    {
     "data": {
      "application/json": {
       "ascii": false,
       "bar_format": null,
       "colour": null,
       "elapsed": 0.010290145874023438,
       "initial": 0,
       "n": 0,
       "ncols": null,
       "nrows": null,
       "postfix": null,
       "prefix": "",
       "rate": null,
       "total": 1,
       "unit": "it",
       "unit_divisor": 1000,
       "unit_scale": false
      },
      "application/vnd.jupyter.widget-view+json": {
       "model_id": "82c89d26ed254771a82b00dbae167e75",
       "version_major": 2,
       "version_minor": 0
      },
      "text/plain": [
       "  0%|          | 0/1 [00:00<?, ?it/s]"
      ]
     },
     "metadata": {},
     "output_type": "display_data"
    },
    {
     "name": "stderr",
     "output_type": "stream",
     "text": [
      "/Users/sabrieyuboglu/code/meerkat/meerkat/columns/scalar/arrow.py:205: UserWarning: Unable to check if column is a valid primary key: Function 'unique' has no kernel matching input types (struct<bytes: binary, path: string>)\n",
      "  warnings.warn(f\"Unable to check if column is a valid primary key: {e}\")\n"
     ]
    }
   ],
   "source": [
    "dataset = mk.get(name=\"lewtun/music_genres_small\", registry=\"huggingface\")"
   ]
  },
  {
   "cell_type": "code",
   "execution_count": 5,
   "metadata": {},
   "outputs": [],
   "source": [
    "from typing import Any, Dict\n",
    "import datasets as hf_datasets\n",
    "\n",
    "from meerkat.interactive.formatter import AudioFormatterGroup\n",
    "from meerkat.cells.audio import Audio\n",
    "\n",
    "df = dataset[\"train\"].view()\n",
    "\n",
    "# The audio column is a dictionary containing the bytes.\n",
    "# Extract the bytes lazily.\n",
    "# The byte string is actually the fastest way to display the audio,\n",
    "# because the encoding is already done.\n",
    "df[\"audio\"] = df[\"audio\"].defer(lambda x: x[\"bytes\"])\n",
    "\n",
    "# Set the formatter for this column.\n",
    "df[\"audio\"].formatters = AudioFormatterGroup()"
   ]
  },
  {
   "cell_type": "code",
   "execution_count": 6,
   "metadata": {},
   "outputs": [
    {
     "data": {
      "text/html": [
       "\n",
       "        <iframe\n",
       "            width=\"100%\"\n",
       "            height=\"600px\"\n",
       "            src=\"http://localhost:8003/?id=Table545a7b7a-d02d-4c82-b07e-bba3d403e585\"\n",
       "            frameborder=\"0\"\n",
       "            allowfullscreen\n",
       "            \n",
       "        ></iframe>\n",
       "        "
      ],
      "text/plain": [
       "<IPython.lib.display.IFrame at 0x17ffda370>"
      ]
     },
     "metadata": {},
     "output_type": "display_data"
    }
   ],
   "source": [
    "df"
   ]
  },
  {
   "attachments": {},
   "cell_type": "markdown",
   "metadata": {},
   "source": [
    "## Encode the dataset with Wav2Vec2\n",
    "Encode the dataset with Wav2Vec2. This will take a few minutes.\n",
    "\n",
    "You can also optionally download the embeddings from huggingface. See the code for how to do this"
   ]
  },
  {
   "cell_type": "code",
   "execution_count": 7,
   "metadata": {},
   "outputs": [
    {
     "ename": "MemoryError",
     "evalue": "Cannot allocate write+execute memory for ffi.callback(). You might be running on a system that prevents this. For more information, see https://cffi.readthedocs.io/en/latest/using.html#callbacks",
     "output_type": "error",
     "traceback": [
      "\u001b[0;31m---------------------------------------------------------------------------\u001b[0m",
      "\u001b[0;31mMemoryError\u001b[0m                               Traceback (most recent call last)",
      "Cell \u001b[0;32mIn [7], line 15\u001b[0m\n\u001b[1;32m     12\u001b[0m     \u001b[39mreturn\u001b[39;00m audio\u001b[39m.\u001b[39mresample(sampling_rate)\u001b[39m.\u001b[39mdata\n\u001b[1;32m     14\u001b[0m df_embed \u001b[39m=\u001b[39m df[[\u001b[39m\"\u001b[39m\u001b[39msong_id\u001b[39m\u001b[39m\"\u001b[39m, \u001b[39m\"\u001b[39m\u001b[39maudio\u001b[39m\u001b[39m\"\u001b[39m]]\n\u001b[0;32m---> 15\u001b[0m df_embed[\u001b[39m\"\u001b[39m\u001b[39maudio\u001b[39m\u001b[39m\"\u001b[39m] \u001b[39m=\u001b[39m df_embed[\u001b[39m\"\u001b[39;49m\u001b[39maudio\u001b[39;49m\u001b[39m\"\u001b[39;49m]\u001b[39m.\u001b[39;49mdefer(to_mk_audio)\n\u001b[1;32m     16\u001b[0m df_embed[\u001b[39m\"\u001b[39m\u001b[39maudio_tensor\u001b[39m\u001b[39m\"\u001b[39m] \u001b[39m=\u001b[39m df_embed[\u001b[39m\"\u001b[39m\u001b[39maudio\u001b[39m\u001b[39m\"\u001b[39m]\u001b[39m.\u001b[39mdefer(to_array)\n",
      "File \u001b[0;32m~/code/meerkat/meerkat/interactive/graph/marking.py:74\u001b[0m, in \u001b[0;36munmarked.__call__.<locals>.decorate_context\u001b[0;34m(*args, **kwargs)\u001b[0m\n\u001b[1;32m     71\u001b[0m \u001b[39m@wraps\u001b[39m(func)\n\u001b[1;32m     72\u001b[0m \u001b[39mdef\u001b[39;00m \u001b[39mdecorate_context\u001b[39m(\u001b[39m*\u001b[39margs, \u001b[39m*\u001b[39m\u001b[39m*\u001b[39mkwargs):\n\u001b[1;32m     73\u001b[0m     \u001b[39mwith\u001b[39;00m \u001b[39mself\u001b[39m\u001b[39m.\u001b[39mclone():\n\u001b[0;32m---> 74\u001b[0m         \u001b[39mreturn\u001b[39;00m reactive(func, nested_return\u001b[39m=\u001b[39;49m\u001b[39mFalse\u001b[39;49;00m)(\u001b[39m*\u001b[39;49margs, \u001b[39m*\u001b[39;49m\u001b[39m*\u001b[39;49mkwargs)\n",
      "File \u001b[0;32m~/code/meerkat/meerkat/interactive/graph/reactivity.py:204\u001b[0m, in \u001b[0;36mreactive.<locals>.__reactive.<locals>.wrapper\u001b[0;34m(*args, **kwargs)\u001b[0m\n\u001b[1;32m    202\u001b[0m \u001b[39m# Call the function on the args and kwargs\u001b[39;00m\n\u001b[1;32m    203\u001b[0m \u001b[39mwith\u001b[39;00m unmarked():\n\u001b[0;32m--> 204\u001b[0m     result \u001b[39m=\u001b[39m fn(\u001b[39m*\u001b[39;49munpacked_args, \u001b[39m*\u001b[39;49m\u001b[39m*\u001b[39;49munpacked_kwargs)\n\u001b[1;32m    206\u001b[0m \u001b[39m# TODO: Check if result is equal to one of the inputs.\u001b[39;00m\n\u001b[1;32m    207\u001b[0m \u001b[39m# If it is, we need to copy it.\u001b[39;00m\n\u001b[1;32m    209\u001b[0m \u001b[39mif\u001b[39;00m _is_unmarked_context \u001b[39mor\u001b[39;00m _force_no_react \u001b[39mor\u001b[39;00m \u001b[39mnot\u001b[39;00m any_inputs_marked:\n\u001b[1;32m    210\u001b[0m     \u001b[39m# If we are in an unmarked context, then we don't need to create\u001b[39;00m\n\u001b[1;32m    211\u001b[0m     \u001b[39m# any nodes in the graph.\u001b[39;00m\n\u001b[1;32m    212\u001b[0m     \u001b[39m# `fn` should be run as normal.\u001b[39;00m\n",
      "File \u001b[0;32m~/code/meerkat/meerkat/interactive/graph/reactivity.py:137\u001b[0m, in \u001b[0;36mreactive.<locals>.__reactive.<locals>.wrapper.<locals>._fn_outer_wrapper.<locals>._fn_wrapper\u001b[0;34m(*args, **kwargs)\u001b[0m\n\u001b[1;32m    135\u001b[0m \u001b[39m@wraps\u001b[39m(_fn)\n\u001b[1;32m    136\u001b[0m \u001b[39mdef\u001b[39;00m \u001b[39m_fn_wrapper\u001b[39m(\u001b[39m*\u001b[39margs, \u001b[39m*\u001b[39m\u001b[39m*\u001b[39mkwargs):\n\u001b[0;32m--> 137\u001b[0m     \u001b[39mreturn\u001b[39;00m _fn(\u001b[39m*\u001b[39;49margs, \u001b[39m*\u001b[39;49m\u001b[39m*\u001b[39;49mkwargs)\n",
      "File \u001b[0;32m~/code/meerkat/meerkat/mixins/deferable.py:31\u001b[0m, in \u001b[0;36mDeferrableMixin.defer\u001b[0;34m(self, function, is_batched_fn, batch_size, inputs, outputs, output_type, materialize)\u001b[0m\n\u001b[1;32m     20\u001b[0m \u001b[39m@doc\u001b[39m(defer, data\u001b[39m=\u001b[39m\u001b[39m\"\u001b[39m\u001b[39mself\u001b[39m\u001b[39m\"\u001b[39m)\n\u001b[1;32m     21\u001b[0m \u001b[39mdef\u001b[39;00m \u001b[39mdefer\u001b[39m(\n\u001b[1;32m     22\u001b[0m     \u001b[39mself\u001b[39m,\n\u001b[0;32m   (...)\u001b[0m\n\u001b[1;32m     29\u001b[0m     materialize: \u001b[39mbool\u001b[39m \u001b[39m=\u001b[39m \u001b[39mTrue\u001b[39;00m,\n\u001b[1;32m     30\u001b[0m ) \u001b[39m-\u001b[39m\u001b[39m>\u001b[39m Union[\u001b[39m\"\u001b[39m\u001b[39mDataFrame\u001b[39m\u001b[39m\"\u001b[39m, \u001b[39m\"\u001b[39m\u001b[39mDeferredColumn\u001b[39m\u001b[39m\"\u001b[39m]:\n\u001b[0;32m---> 31\u001b[0m     \u001b[39mreturn\u001b[39;00m defer(\n\u001b[1;32m     32\u001b[0m         data\u001b[39m=\u001b[39;49m\u001b[39mself\u001b[39;49m,\n\u001b[1;32m     33\u001b[0m         function\u001b[39m=\u001b[39;49mfunction,\n\u001b[1;32m     34\u001b[0m         is_batched_fn\u001b[39m=\u001b[39;49mis_batched_fn,\n\u001b[1;32m     35\u001b[0m         batch_size\u001b[39m=\u001b[39;49mbatch_size,\n\u001b[1;32m     36\u001b[0m         inputs\u001b[39m=\u001b[39;49minputs,\n\u001b[1;32m     37\u001b[0m         outputs\u001b[39m=\u001b[39;49moutputs,\n\u001b[1;32m     38\u001b[0m         output_type\u001b[39m=\u001b[39;49moutput_type,\n\u001b[1;32m     39\u001b[0m         materialize\u001b[39m=\u001b[39;49mmaterialize,\n\u001b[1;32m     40\u001b[0m     )\n",
      "File \u001b[0;32m~/code/meerkat/meerkat/ops/map.py:298\u001b[0m, in \u001b[0;36mdefer\u001b[0;34m(data, function, is_batched_fn, batch_size, inputs, outputs, output_type, materialize)\u001b[0m\n\u001b[1;32m    286\u001b[0m op \u001b[39m=\u001b[39m DeferredOp(\n\u001b[1;32m    287\u001b[0m     fn\u001b[39m=\u001b[39mfunction,\n\u001b[1;32m    288\u001b[0m     args\u001b[39m=\u001b[39margs,\n\u001b[0;32m   (...)\u001b[0m\n\u001b[1;32m    293\u001b[0m     materialize_inputs\u001b[39m=\u001b[39mmaterialize,\n\u001b[1;32m    294\u001b[0m )\n\u001b[1;32m    296\u001b[0m block \u001b[39m=\u001b[39m DeferredBlock\u001b[39m.\u001b[39mfrom_block_data(data\u001b[39m=\u001b[39mop)\n\u001b[0;32m--> 298\u001b[0m first_row \u001b[39m=\u001b[39m op\u001b[39m.\u001b[39;49m_get(\u001b[39m0\u001b[39;49m) \u001b[39mif\u001b[39;00m \u001b[39mlen\u001b[39m(op) \u001b[39m>\u001b[39m \u001b[39m0\u001b[39m \u001b[39melse\u001b[39;00m \u001b[39mNone\u001b[39;00m\n\u001b[1;32m    300\u001b[0m \u001b[39mif\u001b[39;00m outputs \u001b[39mis\u001b[39;00m \u001b[39mNone\u001b[39;00m \u001b[39mand\u001b[39;00m \u001b[39misinstance\u001b[39m(first_row, Dict):\n\u001b[1;32m    301\u001b[0m     \u001b[39m# support for splitting a dict into multiple columns without specifying outputs\u001b[39;00m\n\u001b[1;32m    302\u001b[0m     outputs \u001b[39m=\u001b[39m {output_key: output_key \u001b[39mfor\u001b[39;00m output_key \u001b[39min\u001b[39;00m first_row}\n",
      "File \u001b[0;32m~/code/meerkat/meerkat/block/deferred_block.py:248\u001b[0m, in \u001b[0;36mDeferredOp._get\u001b[0;34m(self, index, indexed_inputs, materialize)\u001b[0m\n\u001b[1;32m    246\u001b[0m \u001b[39mif\u001b[39;00m \u001b[39misinstance\u001b[39m(index, \u001b[39mint\u001b[39m):\n\u001b[1;32m    247\u001b[0m     \u001b[39mif\u001b[39;00m materialize:\n\u001b[0;32m--> 248\u001b[0m         output \u001b[39m=\u001b[39m \u001b[39mself\u001b[39;49m\u001b[39m.\u001b[39;49mfn(\u001b[39m*\u001b[39;49margs, \u001b[39m*\u001b[39;49m\u001b[39m*\u001b[39;49mkwargs)\n\u001b[1;32m    249\u001b[0m         \u001b[39mif\u001b[39;00m \u001b[39mself\u001b[39m\u001b[39m.\u001b[39mreturn_index \u001b[39mis\u001b[39;00m \u001b[39mnot\u001b[39;00m \u001b[39mNone\u001b[39;00m:\n\u001b[1;32m    250\u001b[0m             output \u001b[39m=\u001b[39m output[\u001b[39mself\u001b[39m\u001b[39m.\u001b[39mreturn_index]\n",
      "Cell \u001b[0;32mIn [7], line 8\u001b[0m, in \u001b[0;36mto_mk_audio\u001b[0;34m(audio)\u001b[0m\n\u001b[1;32m      7\u001b[0m \u001b[39mdef\u001b[39;00m \u001b[39mto_mk_audio\u001b[39m(audio: \u001b[39mbytes\u001b[39m) \u001b[39m-\u001b[39m\u001b[39m>\u001b[39m Audio:\n\u001b[0;32m----> 8\u001b[0m     audio_dict \u001b[39m=\u001b[39m hf_datasets\u001b[39m.\u001b[39;49mAudio()\u001b[39m.\u001b[39;49mdecode_example({\u001b[39m\"\u001b[39;49m\u001b[39mpath\u001b[39;49m\u001b[39m\"\u001b[39;49m: \u001b[39mNone\u001b[39;49;00m, \u001b[39m\"\u001b[39;49m\u001b[39mbytes\u001b[39;49m\u001b[39m\"\u001b[39;49m: audio})\n\u001b[1;32m      9\u001b[0m     \u001b[39mreturn\u001b[39;00m Audio(data\u001b[39m=\u001b[39maudio_dict[\u001b[39m\"\u001b[39m\u001b[39marray\u001b[39m\u001b[39m\"\u001b[39m], sampling_rate\u001b[39m=\u001b[39maudio_dict[\u001b[39m\"\u001b[39m\u001b[39msampling_rate\u001b[39m\u001b[39m\"\u001b[39m])\n",
      "File \u001b[0;32m~/opt/miniconda3/envs/meerkat/lib/python3.9/site-packages/datasets/features/audio.py:154\u001b[0m, in \u001b[0;36mAudio.decode_example\u001b[0;34m(self, value, token_per_repo_id)\u001b[0m\n\u001b[1;32m    152\u001b[0m \u001b[39melse\u001b[39;00m:\n\u001b[1;32m    153\u001b[0m     \u001b[39mif\u001b[39;00m file:\n\u001b[0;32m--> 154\u001b[0m         array, sampling_rate \u001b[39m=\u001b[39m \u001b[39mself\u001b[39;49m\u001b[39m.\u001b[39;49m_decode_non_mp3_file_like(file)\n\u001b[1;32m    155\u001b[0m     \u001b[39melse\u001b[39;00m:\n\u001b[1;32m    156\u001b[0m         array, sampling_rate \u001b[39m=\u001b[39m \u001b[39mself\u001b[39m\u001b[39m.\u001b[39m_decode_non_mp3_path_like(path, token_per_repo_id\u001b[39m=\u001b[39mtoken_per_repo_id)\n",
      "File \u001b[0;32m~/opt/miniconda3/envs/meerkat/lib/python3.9/site-packages/datasets/features/audio.py:273\u001b[0m, in \u001b[0;36mAudio._decode_non_mp3_file_like\u001b[0;34m(self, file, format)\u001b[0m\n\u001b[1;32m    268\u001b[0m     \u001b[39mif\u001b[39;00m version\u001b[39m.\u001b[39mparse(sf\u001b[39m.\u001b[39m__libsndfile_version__) \u001b[39m<\u001b[39m version\u001b[39m.\u001b[39mparse(\u001b[39m\"\u001b[39m\u001b[39m1.0.30\u001b[39m\u001b[39m\"\u001b[39m):\n\u001b[1;32m    269\u001b[0m         \u001b[39mraise\u001b[39;00m \u001b[39mRuntimeError\u001b[39;00m(\n\u001b[1;32m    270\u001b[0m             \u001b[39m\"\u001b[39m\u001b[39mDecoding .opus files requires \u001b[39m\u001b[39m'\u001b[39m\u001b[39mlibsndfile\u001b[39m\u001b[39m'\u001b[39m\u001b[39m>=1.0.30, \u001b[39m\u001b[39m\"\u001b[39m\n\u001b[1;32m    271\u001b[0m             \u001b[39m+\u001b[39m \u001b[39m\"\u001b[39m\u001b[39mit can be installed via conda: `conda install -c conda-forge libsndfile>=1.0.30`\u001b[39m\u001b[39m\"\u001b[39m\n\u001b[1;32m    272\u001b[0m         )\n\u001b[0;32m--> 273\u001b[0m array, sampling_rate \u001b[39m=\u001b[39m sf\u001b[39m.\u001b[39;49mread(file)\n\u001b[1;32m    274\u001b[0m array \u001b[39m=\u001b[39m array\u001b[39m.\u001b[39mT\n\u001b[1;32m    275\u001b[0m \u001b[39mif\u001b[39;00m \u001b[39mself\u001b[39m\u001b[39m.\u001b[39mmono:\n",
      "File \u001b[0;32m~/opt/miniconda3/envs/meerkat/lib/python3.9/site-packages/soundfile.py:285\u001b[0m, in \u001b[0;36mread\u001b[0;34m(file, frames, start, stop, dtype, always_2d, fill_value, out, samplerate, channels, format, subtype, endian, closefd)\u001b[0m\n\u001b[1;32m    199\u001b[0m \u001b[39mdef\u001b[39;00m \u001b[39mread\u001b[39m(file, frames\u001b[39m=\u001b[39m\u001b[39m-\u001b[39m\u001b[39m1\u001b[39m, start\u001b[39m=\u001b[39m\u001b[39m0\u001b[39m, stop\u001b[39m=\u001b[39m\u001b[39mNone\u001b[39;00m, dtype\u001b[39m=\u001b[39m\u001b[39m'\u001b[39m\u001b[39mfloat64\u001b[39m\u001b[39m'\u001b[39m, always_2d\u001b[39m=\u001b[39m\u001b[39mFalse\u001b[39;00m,\n\u001b[1;32m    200\u001b[0m          fill_value\u001b[39m=\u001b[39m\u001b[39mNone\u001b[39;00m, out\u001b[39m=\u001b[39m\u001b[39mNone\u001b[39;00m, samplerate\u001b[39m=\u001b[39m\u001b[39mNone\u001b[39;00m, channels\u001b[39m=\u001b[39m\u001b[39mNone\u001b[39;00m,\n\u001b[1;32m    201\u001b[0m          \u001b[39mformat\u001b[39m\u001b[39m=\u001b[39m\u001b[39mNone\u001b[39;00m, subtype\u001b[39m=\u001b[39m\u001b[39mNone\u001b[39;00m, endian\u001b[39m=\u001b[39m\u001b[39mNone\u001b[39;00m, closefd\u001b[39m=\u001b[39m\u001b[39mTrue\u001b[39;00m):\n\u001b[1;32m    202\u001b[0m     \u001b[39m\"\"\"Provide audio data from a sound file as NumPy array.\u001b[39;00m\n\u001b[1;32m    203\u001b[0m \n\u001b[1;32m    204\u001b[0m \u001b[39m    By default, the whole file is read from the beginning, but the\u001b[39;00m\n\u001b[0;32m   (...)\u001b[0m\n\u001b[1;32m    283\u001b[0m \n\u001b[1;32m    284\u001b[0m \u001b[39m    \"\"\"\u001b[39;00m\n\u001b[0;32m--> 285\u001b[0m     \u001b[39mwith\u001b[39;00m SoundFile(file, \u001b[39m'\u001b[39;49m\u001b[39mr\u001b[39;49m\u001b[39m'\u001b[39;49m, samplerate, channels,\n\u001b[1;32m    286\u001b[0m                    subtype, endian, \u001b[39mformat\u001b[39;49m, closefd) \u001b[39mas\u001b[39;00m f:\n\u001b[1;32m    287\u001b[0m         frames \u001b[39m=\u001b[39m f\u001b[39m.\u001b[39m_prepare_read(start, stop, frames)\n\u001b[1;32m    288\u001b[0m         data \u001b[39m=\u001b[39m f\u001b[39m.\u001b[39mread(frames, dtype, always_2d, fill_value, out)\n",
      "File \u001b[0;32m~/opt/miniconda3/envs/meerkat/lib/python3.9/site-packages/soundfile.py:658\u001b[0m, in \u001b[0;36mSoundFile.__init__\u001b[0;34m(self, file, mode, samplerate, channels, subtype, endian, format, closefd)\u001b[0m\n\u001b[1;32m    655\u001b[0m \u001b[39mself\u001b[39m\u001b[39m.\u001b[39m_mode \u001b[39m=\u001b[39m mode\n\u001b[1;32m    656\u001b[0m \u001b[39mself\u001b[39m\u001b[39m.\u001b[39m_info \u001b[39m=\u001b[39m _create_info_struct(file, mode, samplerate, channels,\n\u001b[1;32m    657\u001b[0m                                  \u001b[39mformat\u001b[39m, subtype, endian)\n\u001b[0;32m--> 658\u001b[0m \u001b[39mself\u001b[39m\u001b[39m.\u001b[39m_file \u001b[39m=\u001b[39m \u001b[39mself\u001b[39;49m\u001b[39m.\u001b[39;49m_open(file, mode_int, closefd)\n\u001b[1;32m    659\u001b[0m \u001b[39mif\u001b[39;00m \u001b[39mset\u001b[39m(mode)\u001b[39m.\u001b[39missuperset(\u001b[39m'\u001b[39m\u001b[39mr+\u001b[39m\u001b[39m'\u001b[39m) \u001b[39mand\u001b[39;00m \u001b[39mself\u001b[39m\u001b[39m.\u001b[39mseekable():\n\u001b[1;32m    660\u001b[0m     \u001b[39m# Move write position to 0 (like in Python file objects)\u001b[39;00m\n\u001b[1;32m    661\u001b[0m     \u001b[39mself\u001b[39m\u001b[39m.\u001b[39mseek(\u001b[39m0\u001b[39m)\n",
      "File \u001b[0;32m~/opt/miniconda3/envs/meerkat/lib/python3.9/site-packages/soundfile.py:1209\u001b[0m, in \u001b[0;36mSoundFile._open\u001b[0;34m(self, file, mode_int, closefd)\u001b[0m\n\u001b[1;32m   1207\u001b[0m     file_ptr \u001b[39m=\u001b[39m _snd\u001b[39m.\u001b[39msf_open_fd(file, mode_int, \u001b[39mself\u001b[39m\u001b[39m.\u001b[39m_info, closefd)\n\u001b[1;32m   1208\u001b[0m \u001b[39melif\u001b[39;00m _has_virtual_io_attrs(file, mode_int):\n\u001b[0;32m-> 1209\u001b[0m     file_ptr \u001b[39m=\u001b[39m _snd\u001b[39m.\u001b[39msf_open_virtual(\u001b[39mself\u001b[39;49m\u001b[39m.\u001b[39;49m_init_virtual_io(file),\n\u001b[1;32m   1210\u001b[0m                                     mode_int, \u001b[39mself\u001b[39m\u001b[39m.\u001b[39m_info, _ffi\u001b[39m.\u001b[39mNULL)\n\u001b[1;32m   1211\u001b[0m \u001b[39melse\u001b[39;00m:\n\u001b[1;32m   1212\u001b[0m     \u001b[39mraise\u001b[39;00m \u001b[39mTypeError\u001b[39;00m(\u001b[39m\"\u001b[39m\u001b[39mInvalid file: \u001b[39m\u001b[39m{0!r}\u001b[39;00m\u001b[39m\"\u001b[39m\u001b[39m.\u001b[39mformat(\u001b[39mself\u001b[39m\u001b[39m.\u001b[39mname))\n",
      "File \u001b[0;32m~/opt/miniconda3/envs/meerkat/lib/python3.9/site-packages/soundfile.py:1229\u001b[0m, in \u001b[0;36mSoundFile._init_virtual_io\u001b[0;34m(self, file)\u001b[0m\n\u001b[1;32m   1226\u001b[0m \u001b[39mdef\u001b[39;00m \u001b[39m_init_virtual_io\u001b[39m(\u001b[39mself\u001b[39m, file):\n\u001b[1;32m   1227\u001b[0m     \u001b[39m\"\"\"Initialize callback functions for sf_open_virtual().\"\"\"\u001b[39;00m\n\u001b[1;32m   1228\u001b[0m     \u001b[39m@_ffi\u001b[39;49m\u001b[39m.\u001b[39;49mcallback(\u001b[39m\"\u001b[39;49m\u001b[39msf_vio_get_filelen\u001b[39;49m\u001b[39m\"\u001b[39;49m)\n\u001b[0;32m-> 1229\u001b[0m     \u001b[39mdef\u001b[39;49;00m \u001b[39mvio_get_filelen\u001b[39;49m(user_data):\n\u001b[1;32m   1230\u001b[0m         curr \u001b[39m=\u001b[39;49m file\u001b[39m.\u001b[39;49mtell()\n\u001b[1;32m   1231\u001b[0m         file\u001b[39m.\u001b[39;49mseek(\u001b[39m0\u001b[39;49m, SEEK_END)\n",
      "\u001b[0;31mMemoryError\u001b[0m: Cannot allocate write+execute memory for ffi.callback(). You might be running on a system that prevents this. For more information, see https://cffi.readthedocs.io/en/latest/using.html#callbacks"
     ]
    }
   ],
   "source": [
    "# Make a column that returns the audio tensors @ sampling rage 16kHz.\n",
    "from meerkat.cells.audio import Audio\n",
    "import datasets as hf_datasets\n",
    "\n",
    "sampling_rate = 16000\n",
    "\n",
    "def to_mk_audio(audio: bytes) -> Audio:\n",
    "    audio_dict = hf_datasets.Audio().decode_example({\"path\": None, \"bytes\": audio})\n",
    "    return Audio(data=audio_dict[\"array\"], sampling_rate=audio_dict[\"sampling_rate\"])\n",
    "\n",
    "def to_array(audio: Audio):\n",
    "    return audio.resample(sampling_rate).data\n",
    "\n",
    "df_embed = df[[\"song_id\", \"audio\"]]\n",
    "df_embed[\"audio\"] = df_embed[\"audio\"].defer(to_mk_audio)\n",
    "df_embed[\"audio_tensor\"] = df_embed[\"audio\"].defer(to_array)"
   ]
  },
  {
   "cell_type": "code",
   "execution_count": null,
   "metadata": {},
   "outputs": [],
   "source": [
    "import torch\n",
    "from transformers import AutoProcessor, Wav2Vec2Model\n",
    "\n",
    "\n",
    "processor = AutoProcessor.from_pretrained(\"facebook/wav2vec2-base-960h\", device=device)\n",
    "model = Wav2Vec2Model.from_pretrained(\"facebook/wav2vec2-base-960h\").to(device)"
   ]
  },
  {
   "cell_type": "code",
   "execution_count": null,
   "metadata": {},
   "outputs": [],
   "source": [
    "def embed(audio_tensor: torch.Tensor):\n",
    "    audio_tensor = audio_tensor.type(torch.float32).to(device)\n",
    "    inputs = processor(audio_tensor, sampling_rate=sampling_rate, return_tensors=\"pt\", device=device)\n",
    "    inputs[\"input_values\"] = inputs[\"input_values\"].to(device)\n",
    "    with torch.no_grad():\n",
    "        outputs = model(**inputs)\n",
    "    last_hidden_states = outputs.last_hidden_state\n",
    "    return last_hidden_states.mean(dim=1).squeeze().cpu()\n",
    "\n",
    "df_embed[\"embeddings\"] = df_embed[\"audio_tensor\"].map(embed, use_ray=False, pbar=True)\n",
    "df_embed[\"embeddings\"] = df_embed[\"embeddings\"].to(\"cpu\")"
   ]
  },
  {
   "cell_type": "code",
   "execution_count": 8,
   "metadata": {},
   "outputs": [],
   "source": [
    "# Optionally download embeddings from huggingface\n",
    "df_embed = mk.DataFrame.read(\"https://huggingface.co/datasets/meerkat-ml/meerkat-dataframes/resolve/main/music_genres_small-wav2vec2-embedded.mk.tar.gz\")"
   ]
  },
  {
   "attachments": {},
   "cell_type": "markdown",
   "metadata": {},
   "source": [
    "## Make the interface"
   ]
  },
  {
   "cell_type": "code",
   "execution_count": 15,
   "metadata": {},
   "outputs": [],
   "source": [
    "plot_df = df.merge(df_embed, on=\"song_id\")"
   ]
  },
  {
   "cell_type": "code",
   "execution_count": 16,
   "metadata": {},
   "outputs": [],
   "source": [
    "# compute umap of embeddings\n",
    "from umap import UMAP\n",
    "\n",
    "umap = UMAP(n_components=2)\n",
    "umap = umap.fit_transform(plot_df[\"embeddings\"])\n",
    "plot_df[\"umap_1\"] = umap[:, 0]\n",
    "plot_df[\"umap_2\"] = umap[:, 1]\n"
   ]
  },
  {
   "cell_type": "code",
   "execution_count": 17,
   "metadata": {},
   "outputs": [
    {
     "data": {
      "text/html": [
       "\n",
       "        <iframe\n",
       "            width=\"100%\"\n",
       "            height=\"1200px\"\n",
       "            src=\"http://localhost:8003/?id=flexcolace07a2a-b0fd-45d1-9598-d1e7af57e208\"\n",
       "            frameborder=\"0\"\n",
       "            allowfullscreen\n",
       "            \n",
       "        ></iframe>\n",
       "        "
      ],
      "text/plain": [
       "<IPython.lib.display.IFrame at 0x2cfde56d0>"
      ]
     },
     "metadata": {},
     "output_type": "display_data"
    }
   ],
   "source": [
    "plot_df = plot_df.mark()\n",
    "plot = mk.gui.plotly.ScatterPlot(df=plot_df, x=\"umap_1\", y=\"umap_2\",)\n",
    "\n",
    "# Because we're using the reactive decorator, the filter function will re-run whenever\n",
    "# plot.selected changes. This will update the gallery to only show the selected points.\n",
    "@mk.gui.reactive\n",
    "def filter(selected: list, df: mk.DataFrame):\n",
    "    return df[df.primary_key.isin(selected)]\n",
    "\n",
    "filtered_df = filter(plot.selected, plot_df)\n",
    "table = mk.gui.Table(filtered_df)\n",
    "\n",
    "mk.gui.html.flexcol(\n",
    "    [plot, table],\n",
    "    classes=\"h-[1200px]\",\n",
    ")"
   ]
  },
  {
   "cell_type": "code",
   "execution_count": null,
   "metadata": {},
   "outputs": [],
   "source": []
  }
 ],
 "metadata": {
  "kernelspec": {
   "display_name": "Python 3.9.12 ('meerkat')",
   "language": "python",
   "name": "python3"
  },
  "language_info": {
   "codemirror_mode": {
    "name": "ipython",
    "version": 3
   },
   "file_extension": ".py",
   "mimetype": "text/x-python",
   "name": "python",
   "nbconvert_exporter": "python",
   "pygments_lexer": "ipython3",
   "version": "3.9.12"
  },
  "orig_nbformat": 4,
  "vscode": {
   "interpreter": {
    "hash": "fab435020311317453f49d9f6bde54424ac28707d23828314f0465c42622dc69"
   }
  }
 },
 "nbformat": 4,
 "nbformat_minor": 2
}
