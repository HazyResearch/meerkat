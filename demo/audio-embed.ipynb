{
 "cells": [
  {
   "attachments": {},
   "cell_type": "markdown",
   "metadata": {},
   "source": [
    "# Visualizing Audio Embeddings\n",
    "\n",
    "In this notebook, we will visualize audio embeddings of the HuggingFace Speech Commands dataset.\n",
    "\n",
    "**Dependencies**\n",
    "\n",
    "    # Install UMAP for dimensionality reduction.\n",
    "    pip install umap-learn\n",
    "\n",
    "    # (Optional) If you want to compute embeddings on your own.\n",
    "    # This is not necessary if you are fetching precomputed embeddings.\n",
    "    pip install transformers librosa soundfile"
   ]
  },
  {
   "cell_type": "code",
   "execution_count": 1,
   "metadata": {},
   "outputs": [
    {
     "name": "stdout",
     "output_type": "stream",
     "text": [
      "env: PYTORCH_ENABLE_MPS_FALLBACK=1\n"
     ]
    }
   ],
   "source": [
    "%set_env PYTORCH_ENABLE_MPS_FALLBACK=1\n",
    "\n",
    "import meerkat as mk\n",
    "\n",
    "%load_ext autoreload\n",
    "%autoreload 2\n",
    "\n",
    "# Set your device here\n",
    "device = \"mps\""
   ]
  },
  {
   "cell_type": "code",
   "execution_count": 2,
   "metadata": {},
   "outputs": [
    {
     "data": {
      "text/plain": [
       "(APIInfo(api=<fastapi.applications.FastAPI object at 0x164c221f0>, port=5000, server=<meerkat.interactive.server.Server object at 0x164f5cdc0>, name='127.0.0.1', shared=False, process=None, _url=None),\n",
       " FrontendInfo(package_manager='npm', port=8000, name='localhost', shared=False, process=<subprocess.Popen object at 0x164f8ad00>, _url=None))"
      ]
     },
     "execution_count": 2,
     "metadata": {},
     "output_type": "execute_result"
    }
   ],
   "source": [
    "# Skip the build if you do not have npm installed.\n",
    "mk.gui.start(dev=False, skip_build=True)"
   ]
  },
  {
   "attachments": {},
   "cell_type": "markdown",
   "metadata": {},
   "source": [
    "## Load the Dataset\n",
    "In this demo, we will be working with [`music_genres_small`](https://huggingface.co/datasets/lewtun/music_genres_small) dataset on HuggingFace."
   ]
  },
  {
   "cell_type": "code",
   "execution_count": 3,
   "metadata": {},
   "outputs": [
    {
     "data": {
      "text/html": [
       "<pre style=\"white-space:pre;overflow-x:auto;line-height:normal;font-family:Menlo,'DejaVu Sans Mono',consolas,'Courier New',monospace\"><span style=\"color: #7fbfbf; text-decoration-color: #7fbfbf\">[03/12/23 11:54:17] </span><span style=\"color: #800000; text-decoration-color: #800000\">WARNING </span> <span style=\"font-weight: bold\">[</span><span style=\"color: #800080; text-decoration-color: #800080; font-weight: bold\">download_and_prepare</span><span style=\"font-weight: bold\">()]</span> <span style=\"font-weight: bold\">[</span>datasets.builder: <span style=\"color: #008080; text-decoration-color: #008080; font-weight: bold\">798</span><span style=\"font-weight: bold\">]</span> :: Found cached        <a href=\"file:///Users/arjundd/miniconda3/envs/meerkat_prod/lib/python3.8/site-packages/datasets/builder.py\" target=\"_blank\"><span style=\"color: #7f7f7f; text-decoration-color: #7f7f7f\">builder.py</span></a><span style=\"color: #7f7f7f; text-decoration-color: #7f7f7f\">:</span><a href=\"file:///Users/arjundd/miniconda3/envs/meerkat_prod/lib/python3.8/site-packages/datasets/builder.py#798\" target=\"_blank\"><span style=\"color: #7f7f7f; text-decoration-color: #7f7f7f\">798</span></a>\n",
       "<span style=\"color: #7fbfbf; text-decoration-color: #7fbfbf\">                    </span>         dataset parquet                                                         <span style=\"color: #7f7f7f; text-decoration-color: #7f7f7f\">              </span>\n",
       "<span style=\"color: #7fbfbf; text-decoration-color: #7fbfbf\">                    </span>         <span style=\"font-weight: bold\">(</span><span style=\"color: #800080; text-decoration-color: #800080\">/Users/arjundd/.cache/huggingface/datasets/lewtun___parquet/lewtun--mu</span> <span style=\"color: #7f7f7f; text-decoration-color: #7f7f7f\">              </span>\n",
       "<span style=\"color: #7fbfbf; text-decoration-color: #7fbfbf\">                    </span>         <span style=\"color: #800080; text-decoration-color: #800080\">sic_genres_small-2686d03f87ff3ace/0.0.0/</span><span style=\"color: #ff00ff; text-decoration-color: #ff00ff\">2a3b91fbd88a2c90d1dbbb32b460cf6</span> <span style=\"color: #7f7f7f; text-decoration-color: #7f7f7f\">              </span>\n",
       "<span style=\"color: #7fbfbf; text-decoration-color: #7fbfbf\">                    </span>         <span style=\"color: #ff00ff; text-decoration-color: #ff00ff\">21d31bd5b05b934492fdef7d8d6f236ec</span><span style=\"font-weight: bold\">)</span>                                      <span style=\"color: #7f7f7f; text-decoration-color: #7f7f7f\">              </span>\n",
       "</pre>\n"
      ],
      "text/plain": [
       "\u001b[2;36m[03/12/23 11:54:17]\u001b[0m\u001b[2;36m \u001b[0m\u001b[31mWARNING \u001b[0m \u001b[1m[\u001b[0m\u001b[1;35mdownload_and_prepare\u001b[0m\u001b[1m(\u001b[0m\u001b[1m)\u001b[0m\u001b[1m]\u001b[0m \u001b[1m[\u001b[0mdatasets.builder: \u001b[1;36m798\u001b[0m\u001b[1m]\u001b[0m :: Found cached        \u001b]8;id=244572;file:///Users/arjundd/miniconda3/envs/meerkat_prod/lib/python3.8/site-packages/datasets/builder.py\u001b\\\u001b[2mbuilder.py\u001b[0m\u001b]8;;\u001b\\\u001b[2m:\u001b[0m\u001b]8;id=761482;file:///Users/arjundd/miniconda3/envs/meerkat_prod/lib/python3.8/site-packages/datasets/builder.py#798\u001b\\\u001b[2m798\u001b[0m\u001b]8;;\u001b\\\n",
       "\u001b[2;36m                    \u001b[0m         dataset parquet                                                         \u001b[2m              \u001b[0m\n",
       "\u001b[2;36m                    \u001b[0m         \u001b[1m(\u001b[0m\u001b[35m/Users/arjundd/.cache/huggingface/datasets/lewtun___parquet/lewtun--mu\u001b[0m \u001b[2m              \u001b[0m\n",
       "\u001b[2;36m                    \u001b[0m         \u001b[35msic_genres_small-2686d03f87ff3ace/0.0.0/\u001b[0m\u001b[95m2a3b91fbd88a2c90d1dbbb32b460cf6\u001b[0m \u001b[2m              \u001b[0m\n",
       "\u001b[2;36m                    \u001b[0m         \u001b[95m21d31bd5b05b934492fdef7d8d6f236ec\u001b[0m\u001b[1m)\u001b[0m                                      \u001b[2m              \u001b[0m\n"
      ]
     },
     "metadata": {},
     "output_type": "display_data"
    },
    {
     "data": {
      "application/vnd.jupyter.widget-view+json": {
       "model_id": "8dd26908aa7742b68faf7ba8d90189b2",
       "version_major": 2,
       "version_minor": 0
      },
      "text/plain": [
       "  0%|          | 0/1 [00:00<?, ?it/s]"
      ]
     },
     "metadata": {},
     "output_type": "display_data"
    },
    {
     "name": "stderr",
     "output_type": "stream",
     "text": [
      "/Users/arjundd/miniconda3/envs/meerkat_prod/lib/python3.8/site-packages/meerkat/columns/scalar/arrow.py:205: UserWarning: Unable to check if column is a valid primary key: Function 'unique' has no kernel matching input types (struct<bytes: binary, path: string>)\n",
      "  warnings.warn(f\"Unable to check if column is a valid primary key: {e}\")\n"
     ]
    }
   ],
   "source": [
    "dataset = mk.get(name=\"lewtun/music_genres_small\", registry=\"huggingface\")"
   ]
  },
  {
   "cell_type": "code",
   "execution_count": 4,
   "metadata": {},
   "outputs": [],
   "source": [
    "from typing import Any, Dict\n",
    "import datasets as hf_datasets\n",
    "\n",
    "from meerkat.interactive.formatter import AudioFormatterGroup\n",
    "from meerkat.cells.audio import Audio\n",
    "\n",
    "df = dataset[\"train\"].view()\n",
    "\n",
    "# The audio column is a dictionary containing the bytes.\n",
    "# Extract the bytes lazily.\n",
    "# The byte string is actually the fastest way to display the audio,\n",
    "# because the encoding is already done.\n",
    "df[\"audio\"] = df[\"audio\"].defer(lambda x: x[\"bytes\"])\n",
    "\n",
    "# Set the formatter for this column.\n",
    "df[\"audio\"].formatters = AudioFormatterGroup()"
   ]
  },
  {
   "cell_type": "code",
   "execution_count": 5,
   "metadata": {},
   "outputs": [
    {
     "data": {
      "text/html": [
       "\n",
       "        <iframe\n",
       "            width=\"100%\"\n",
       "            height=\"600px\"\n",
       "            src=\"http://localhost:8000/?id=Table7c69d119-c91d-452c-ba3c-2a957e31b049\"\n",
       "            frameborder=\"0\"\n",
       "            allowfullscreen\n",
       "            \n",
       "        ></iframe>\n",
       "        "
      ],
      "text/plain": [
       "<IPython.lib.display.IFrame at 0x16bb5e760>"
      ]
     },
     "metadata": {},
     "output_type": "display_data"
    }
   ],
   "source": [
    "df"
   ]
  },
  {
   "attachments": {},
   "cell_type": "markdown",
   "metadata": {},
   "source": [
    "## Encode the dataset with Wav2Vec2\n",
    "Encode the dataset with Wav2Vec2. This will take a few minutes.\n",
    "\n",
    "You can also optionally download the embeddings from huggingface. See the code for how to do this"
   ]
  },
  {
   "cell_type": "code",
   "execution_count": 6,
   "metadata": {},
   "outputs": [
    {
     "data": {
      "application/vnd.jupyter.widget-view+json": {
       "model_id": "e8898afe833e4e1a8dba42136988b07e",
       "version_major": 2,
       "version_minor": 0
      },
      "text/plain": [
       "Downloading:   0%|          | 0.00/2.88M [00:00<?, ?B/s]"
      ]
     },
     "metadata": {},
     "output_type": "display_data"
    },
    {
     "name": "stdout",
     "output_type": "stream",
     "text": [
      "Extracting tar archive, this may take a few minutes...\n"
     ]
    }
   ],
   "source": [
    "# Download embeddings from huggingface.\n",
    "# If you want to generate your own embeddings, see the rest of this section.\n",
    "df_embed = mk.DataFrame.read(\n",
    "    \"https://huggingface.co/datasets/meerkat-ml/meerkat-dataframes/resolve/main/music_genres_small-wav2vec2-embedded.mk.tar.gz\",\n",
    "    overwrite=True\n",
    ")"
   ]
  },
  {
   "cell_type": "code",
   "execution_count": null,
   "metadata": {},
   "outputs": [],
   "source": [
    "from meerkat.cells.audio import Audio\n",
    "import datasets as hf_datasets\n",
    "\n",
    "# The sampling rate used by Wav2Vec2.\n",
    "sampling_rate = 16000\n",
    "\n",
    "def to_mk_audio(audio: bytes) -> Audio:\n",
    "    \"\"\"Convert from bytes to Audio object.\"\"\"\n",
    "    audio_dict = hf_datasets.Audio().decode_example({\"path\": None, \"bytes\": audio})\n",
    "    return Audio(data=audio_dict[\"array\"], sampling_rate=audio_dict[\"sampling_rate\"])\n",
    "\n",
    "def to_array(audio: Audio):\n",
    "    \"\"\"Resample the audio to the sampling rate used by Wav2Vec2 and extract the array.\"\"\"\n",
    "    return audio.resample(sampling_rate).data\n",
    "\n",
    "df_embed = df[[\"song_id\", \"audio\"]]\n",
    "df_embed[\"audio\"] = df_embed[\"audio\"].defer(to_mk_audio)\n",
    "df_embed[\"audio_tensor\"] = df_embed[\"audio\"].defer(to_array)"
   ]
  },
  {
   "cell_type": "code",
   "execution_count": null,
   "metadata": {},
   "outputs": [],
   "source": [
    "import torch\n",
    "from transformers import AutoProcessor, Wav2Vec2Model\n",
    "\n",
    "\n",
    "processor = AutoProcessor.from_pretrained(\"facebook/wav2vec2-base-960h\", device=device)\n",
    "model = Wav2Vec2Model.from_pretrained(\"facebook/wav2vec2-base-960h\").to(device)"
   ]
  },
  {
   "cell_type": "code",
   "execution_count": null,
   "metadata": {},
   "outputs": [],
   "source": [
    "def embed(audio_tensor: torch.Tensor):\n",
    "    audio_tensor = audio_tensor.type(torch.float32).to(device)\n",
    "    inputs = processor(audio_tensor, sampling_rate=sampling_rate, return_tensors=\"pt\", device=device)\n",
    "    inputs[\"input_values\"] = inputs[\"input_values\"].to(device)\n",
    "    with torch.no_grad():\n",
    "        outputs = model(**inputs)\n",
    "    last_hidden_states = outputs.last_hidden_state\n",
    "    return last_hidden_states.mean(dim=1).squeeze().cpu()\n",
    "\n",
    "df_embed[\"embeddings\"] = df_embed[\"audio_tensor\"].map(embed, use_ray=False, pbar=True)\n",
    "df_embed[\"embeddings\"] = df_embed[\"embeddings\"].to(\"cpu\")"
   ]
  },
  {
   "attachments": {},
   "cell_type": "markdown",
   "metadata": {},
   "source": [
    "## Make the interface\n",
    "Build the interface for visualizing the embeddings.\n",
    "\n",
    "We will first merge the embedding dataframe (`df_embed`) with the dataset dataframe (`df`).\n",
    "Then, we will use UMAP to decompose the embeddings."
   ]
  },
  {
   "cell_type": "code",
   "execution_count": 7,
   "metadata": {},
   "outputs": [
    {
     "name": "stderr",
     "output_type": "stream",
     "text": [
      "/Users/arjundd/miniconda3/envs/meerkat_prod/lib/python3.8/site-packages/meerkat/ops/merge.py:151: FutureWarning: iteritems is deprecated and will be removed in a future version. Use .items instead.\n",
      "  for name, column in merged_df.iteritems():\n"
     ]
    }
   ],
   "source": [
    "plot_df = df.merge(df_embed, on=\"song_id\")"
   ]
  },
  {
   "cell_type": "code",
   "execution_count": 8,
   "metadata": {},
   "outputs": [],
   "source": [
    "# Compute umap of embeddings. This may take a few seconds.\n",
    "from umap import UMAP\n",
    "\n",
    "umap = UMAP(n_components=2)\n",
    "umap = umap.fit_transform(plot_df[\"embeddings\"])\n",
    "plot_df[\"umap_1\"] = umap[:, 0]\n",
    "plot_df[\"umap_2\"] = umap[:, 1]\n"
   ]
  },
  {
   "cell_type": "code",
   "execution_count": null,
   "metadata": {},
   "outputs": [],
   "source": [
    "plot_df = plot_df.mark()\n",
    "plot = mk.gui.plotly.ScatterPlot(df=plot_df, x=\"umap_1\", y=\"umap_2\",)\n",
    "\n",
    "# Because we're using the reactive decorator, the filter function will re-run whenever\n",
    "# plot.selected changes. This will update the gallery to only show the selected points.\n",
    "@mk.gui.reactive\n",
    "def filter(selected: list, df: mk.DataFrame):\n",
    "    return df[df.primary_key.isin(selected)]\n",
    "\n",
    "filtered_df = filter(plot.selected, plot_df)\n",
    "table = mk.gui.Table(filtered_df)\n",
    "\n",
    "mk.gui.html.flexcol(\n",
    "    [plot, table],\n",
    "    classes=\"h-[1200px]\",\n",
    ")"
   ]
  },
  {
   "cell_type": "code",
   "execution_count": null,
   "metadata": {},
   "outputs": [],
   "source": []
  }
 ],
 "metadata": {
  "kernelspec": {
   "display_name": "Python 3.9.12 ('meerkat')",
   "language": "python",
   "name": "python3"
  },
  "language_info": {
   "codemirror_mode": {
    "name": "ipython",
    "version": 3
   },
   "file_extension": ".py",
   "mimetype": "text/x-python",
   "name": "python",
   "nbconvert_exporter": "python",
   "pygments_lexer": "ipython3",
   "version": "3.8.16"
  },
  "orig_nbformat": 4,
  "vscode": {
   "interpreter": {
    "hash": "fab435020311317453f49d9f6bde54424ac28707d23828314f0465c42622dc69"
   }
  }
 },
 "nbformat": 4,
 "nbformat_minor": 2
}
