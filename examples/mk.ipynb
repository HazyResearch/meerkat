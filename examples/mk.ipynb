{
 "cells": [
  {
   "cell_type": "code",
   "execution_count": 1,
   "metadata": {},
   "outputs": [],
   "source": [
    "import meerkat as mk"
   ]
  },
  {
   "cell_type": "code",
   "execution_count": 2,
   "metadata": {},
   "outputs": [
    {
     "data": {
      "application/vnd.jupyter.widget-view+json": {
       "model_id": "c52c1b7d4abb40b9bef7b7fd72e7bf0a",
       "version_major": 2,
       "version_minor": 0
      },
      "text/plain": [
       "Downloading:   0%|          | 0.00/1.56G [00:00<?, ?B/s]"
      ]
     },
     "metadata": {},
     "output_type": "display_data"
    },
    {
     "ename": "KeyboardInterrupt",
     "evalue": "",
     "output_type": "error",
     "traceback": [
      "\u001b[0;31m---------------------------------------------------------------------------\u001b[0m",
      "\u001b[0;31mKeyError\u001b[0m                                  Traceback (most recent call last)",
      "File \u001b[0;32m/home/common/miniconda3/envs/meerkat9/lib/python3.9/_collections_abc.py:763\u001b[0m, in \u001b[0;36mMapping.get\u001b[0;34m(self, key, default)\u001b[0m\n\u001b[1;32m    762\u001b[0m \u001b[39mtry\u001b[39;00m:\n\u001b[0;32m--> 763\u001b[0m     \u001b[39mreturn\u001b[39;00m \u001b[39mself\u001b[39;49m[key]\n\u001b[1;32m    764\u001b[0m \u001b[39mexcept\u001b[39;00m \u001b[39mKeyError\u001b[39;00m:\n",
      "File \u001b[0;32m/home/common/miniconda3/envs/meerkat9/lib/python3.9/site-packages/urllib3/_collections.py:157\u001b[0m, in \u001b[0;36mHTTPHeaderDict.__getitem__\u001b[0;34m(self, key)\u001b[0m\n\u001b[1;32m    156\u001b[0m \u001b[39mdef\u001b[39;00m \u001b[39m__getitem__\u001b[39m(\u001b[39mself\u001b[39m, key):\n\u001b[0;32m--> 157\u001b[0m     val \u001b[39m=\u001b[39m \u001b[39mself\u001b[39;49m\u001b[39m.\u001b[39;49m_container[key\u001b[39m.\u001b[39;49mlower()]\n\u001b[1;32m    158\u001b[0m     \u001b[39mreturn\u001b[39;00m \u001b[39m\"\u001b[39m\u001b[39m, \u001b[39m\u001b[39m\"\u001b[39m\u001b[39m.\u001b[39mjoin(val[\u001b[39m1\u001b[39m:])\n",
      "\u001b[0;31mKeyError\u001b[0m: 'content-encoding'",
      "\nDuring handling of the above exception, another exception occurred:\n",
      "\u001b[0;31mKeyboardInterrupt\u001b[0m                         Traceback (most recent call last)",
      "\u001b[1;32m/home/sabri/code/meerkat/examples/mk.ipynb Cell 2'\u001b[0m in \u001b[0;36m<cell line: 1>\u001b[0;34m()\u001b[0m\n\u001b[0;32m----> <a href='vscode-notebook-cell://k8s-container%2Bcontext%3Dgke_hai-gcp-fine-grained_us-west1-a_cluster-1%2Bpodname%3Dpod-sabri-dev%2Bnamespace%3Ddefault%2Bname%3Dpod-sabri-dev%2Bimage%3Dgcr.io%252fhai-gcp-fine-grained%252fdefault/home/sabri/code/meerkat/examples/mk.ipynb#ch0000001vscode-remote?line=0'>1</a>\u001b[0m mk\u001b[39m.\u001b[39;49mget(\u001b[39m\"\u001b[39;49m\u001b[39mimagenette\u001b[39;49m\u001b[39m\"\u001b[39;49m)\n",
      "File \u001b[0;32m/home/sabri/code/meerkat/meerkat/datasets/__init__.py:63\u001b[0m, in \u001b[0;36mget\u001b[0;34m(name, dataset_dir, version, download_mode, registry, **kwargs)\u001b[0m\n\u001b[1;32m     61\u001b[0m \u001b[39mif\u001b[39;00m registry \u001b[39m==\u001b[39m \u001b[39m\"\u001b[39m\u001b[39mmeerkat\u001b[39m\u001b[39m\"\u001b[39m:\n\u001b[1;32m     62\u001b[0m     \u001b[39mtry\u001b[39;00m:\n\u001b[0;32m---> 63\u001b[0m         dataset \u001b[39m=\u001b[39m datasets\u001b[39m.\u001b[39;49mget(\n\u001b[1;32m     64\u001b[0m             name\u001b[39m=\u001b[39;49mname,\n\u001b[1;32m     65\u001b[0m             dataset_dir\u001b[39m=\u001b[39;49mdataset_dir,\n\u001b[1;32m     66\u001b[0m             version\u001b[39m=\u001b[39;49mversion,\n\u001b[1;32m     67\u001b[0m             download_mode\u001b[39m=\u001b[39;49mdownload_mode,\n\u001b[1;32m     68\u001b[0m             \u001b[39m*\u001b[39;49m\u001b[39m*\u001b[39;49mkwargs,\n\u001b[1;32m     69\u001b[0m         )\n\u001b[1;32m     70\u001b[0m         \u001b[39mreturn\u001b[39;00m dataset\n\u001b[1;32m     71\u001b[0m     \u001b[39mexcept\u001b[39;00m \u001b[39mKeyError\u001b[39;00m \u001b[39mas\u001b[39;00m e:\n",
      "File \u001b[0;32m/home/sabri/code/meerkat/meerkat/datasets/registry.py:28\u001b[0m, in \u001b[0;36mRegistry.get\u001b[0;34m(self, name, **kwargs)\u001b[0m\n\u001b[1;32m     23\u001b[0m \u001b[39mif\u001b[39;00m ret \u001b[39mis\u001b[39;00m \u001b[39mNone\u001b[39;00m:\n\u001b[1;32m     24\u001b[0m     \u001b[39mraise\u001b[39;00m \u001b[39mKeyError\u001b[39;00m(\n\u001b[1;32m     25\u001b[0m         \u001b[39m\"\u001b[39m\u001b[39mNo object named \u001b[39m\u001b[39m'\u001b[39m\u001b[39m{}\u001b[39;00m\u001b[39m'\u001b[39m\u001b[39m found in \u001b[39m\u001b[39m'\u001b[39m\u001b[39m{}\u001b[39;00m\u001b[39m'\u001b[39m\u001b[39m registry!\u001b[39m\u001b[39m\"\u001b[39m\u001b[39m.\u001b[39mformat(name, \u001b[39mself\u001b[39m\u001b[39m.\u001b[39m_name)\n\u001b[1;32m     26\u001b[0m     )\n\u001b[0;32m---> 28\u001b[0m \u001b[39mreturn\u001b[39;00m ret(\u001b[39m*\u001b[39;49m\u001b[39m*\u001b[39;49mkwargs)()\n",
      "File \u001b[0;32m/home/sabri/code/meerkat/meerkat/datasets/abstract.py:55\u001b[0m, in \u001b[0;36mDatasetBuilder.__call__\u001b[0;34m(self)\u001b[0m\n\u001b[1;32m     50\u001b[0m \u001b[39mdef\u001b[39;00m \u001b[39m__call__\u001b[39m(\u001b[39mself\u001b[39m):\n\u001b[1;32m     52\u001b[0m     \u001b[39mif\u001b[39;00m \u001b[39mself\u001b[39m\u001b[39m.\u001b[39mdownload_mode \u001b[39min\u001b[39;00m [\u001b[39m\"\u001b[39m\u001b[39mforce\u001b[39m\u001b[39m\"\u001b[39m, \u001b[39m\"\u001b[39m\u001b[39mextract\u001b[39m\u001b[39m\"\u001b[39m] \u001b[39mor\u001b[39;00m (\n\u001b[1;32m     53\u001b[0m         \u001b[39mself\u001b[39m\u001b[39m.\u001b[39mdownload_mode \u001b[39m==\u001b[39m \u001b[39m\"\u001b[39m\u001b[39mreuse\u001b[39m\u001b[39m\"\u001b[39m \u001b[39mand\u001b[39;00m \u001b[39mnot\u001b[39;00m \u001b[39mself\u001b[39m\u001b[39m.\u001b[39mis_downloaded()\n\u001b[1;32m     54\u001b[0m     ):\n\u001b[0;32m---> 55\u001b[0m         \u001b[39mself\u001b[39;49m\u001b[39m.\u001b[39;49mdownload()\n\u001b[1;32m     56\u001b[0m         \u001b[39mself\u001b[39m\u001b[39m.\u001b[39mdump_download_meta()\n\u001b[1;32m     58\u001b[0m     \u001b[39mif\u001b[39;00m \u001b[39mnot\u001b[39;00m \u001b[39mself\u001b[39m\u001b[39m.\u001b[39mis_downloaded():\n",
      "File \u001b[0;32m/home/sabri/code/meerkat/meerkat/datasets/imagenette/__init__.py:75\u001b[0m, in \u001b[0;36mimagenette.download\u001b[0;34m(self)\u001b[0m\n\u001b[1;32m     73\u001b[0m \u001b[39mdef\u001b[39;00m \u001b[39mdownload\u001b[39m(\u001b[39mself\u001b[39m):\n\u001b[1;32m     74\u001b[0m     url \u001b[39m=\u001b[39m \u001b[39mself\u001b[39m\u001b[39m.\u001b[39mVERSION_TO_URL[\u001b[39mself\u001b[39m\u001b[39m.\u001b[39mversion]\n\u001b[0;32m---> 75\u001b[0m     path \u001b[39m=\u001b[39m \u001b[39mself\u001b[39;49m\u001b[39m.\u001b[39;49mdownload_url(url)\n\u001b[1;32m     76\u001b[0m     extract(path, \u001b[39mself\u001b[39m\u001b[39m.\u001b[39mdataset_dir)\n",
      "File \u001b[0;32m/home/sabri/code/meerkat/meerkat/datasets/abstract.py:37\u001b[0m, in \u001b[0;36mDatasetBuilder.download_url\u001b[0;34m(self, url)\u001b[0m\n\u001b[1;32m     36\u001b[0m \u001b[39mdef\u001b[39;00m \u001b[39mdownload_url\u001b[39m(\u001b[39mself\u001b[39m, url: \u001b[39mstr\u001b[39m):\n\u001b[0;32m---> 37\u001b[0m     \u001b[39mreturn\u001b[39;00m download_url(url, \u001b[39mself\u001b[39;49m\u001b[39m.\u001b[39;49mdataset_dir, force\u001b[39m=\u001b[39;49m\u001b[39mself\u001b[39;49m\u001b[39m.\u001b[39;49mdownload_mode \u001b[39m==\u001b[39;49m \u001b[39m\"\u001b[39;49m\u001b[39mforce\u001b[39;49m\u001b[39m\"\u001b[39;49m)\n",
      "File \u001b[0;32m/home/sabri/code/meerkat/meerkat/datasets/utils.py:9\u001b[0m, in \u001b[0;36mdownload_url\u001b[0;34m(url, dataset_dir, force)\u001b[0m\n\u001b[1;32m      5\u001b[0m os\u001b[39m.\u001b[39mmakedirs(dataset_dir, exist_ok\u001b[39m=\u001b[39m\u001b[39mTrue\u001b[39;00m)\n\u001b[1;32m      7\u001b[0m \u001b[39mfrom\u001b[39;00m \u001b[39mdatasets\u001b[39;00m\u001b[39m.\u001b[39;00m\u001b[39mutils\u001b[39;00m\u001b[39m.\u001b[39;00m\u001b[39mfile_utils\u001b[39;00m \u001b[39mimport\u001b[39;00m get_from_cache\n\u001b[0;32m----> 9\u001b[0m \u001b[39mreturn\u001b[39;00m get_from_cache(\n\u001b[1;32m     10\u001b[0m     url, cache_dir\u001b[39m=\u001b[39;49mos\u001b[39m.\u001b[39;49mpath\u001b[39m.\u001b[39;49mjoin(dataset_dir, \u001b[39m\"\u001b[39;49m\u001b[39mdownloads\u001b[39;49m\u001b[39m\"\u001b[39;49m), force_download\u001b[39m=\u001b[39;49mforce\n\u001b[1;32m     11\u001b[0m )\n",
      "File \u001b[0;32m/home/common/miniconda3/envs/meerkat9/lib/python3.9/site-packages/datasets/utils/file_utils.py:577\u001b[0m, in \u001b[0;36mget_from_cache\u001b[0;34m(url, cache_dir, force_download, proxies, etag_timeout, resume_download, user_agent, local_files_only, use_etag, max_retries, use_auth_token, ignore_url_params, download_desc)\u001b[0m\n\u001b[1;32m    575\u001b[0m         ftp_get(url, temp_file)\n\u001b[1;32m    576\u001b[0m     \u001b[39melse\u001b[39;00m:\n\u001b[0;32m--> 577\u001b[0m         http_get(\n\u001b[1;32m    578\u001b[0m             url,\n\u001b[1;32m    579\u001b[0m             temp_file,\n\u001b[1;32m    580\u001b[0m             proxies\u001b[39m=\u001b[39;49mproxies,\n\u001b[1;32m    581\u001b[0m             resume_size\u001b[39m=\u001b[39;49mresume_size,\n\u001b[1;32m    582\u001b[0m             headers\u001b[39m=\u001b[39;49mheaders,\n\u001b[1;32m    583\u001b[0m             cookies\u001b[39m=\u001b[39;49mcookies,\n\u001b[1;32m    584\u001b[0m             max_retries\u001b[39m=\u001b[39;49mmax_retries,\n\u001b[1;32m    585\u001b[0m             desc\u001b[39m=\u001b[39;49mdownload_desc,\n\u001b[1;32m    586\u001b[0m         )\n\u001b[1;32m    588\u001b[0m logger\u001b[39m.\u001b[39minfo(\u001b[39mf\u001b[39m\u001b[39m\"\u001b[39m\u001b[39mstoring \u001b[39m\u001b[39m{\u001b[39;00murl\u001b[39m}\u001b[39;00m\u001b[39m in cache at \u001b[39m\u001b[39m{\u001b[39;00mcache_path\u001b[39m}\u001b[39;00m\u001b[39m\"\u001b[39m)\n\u001b[1;32m    589\u001b[0m shutil\u001b[39m.\u001b[39mmove(temp_file\u001b[39m.\u001b[39mname, cache_path)\n",
      "File \u001b[0;32m/home/common/miniconda3/envs/meerkat9/lib/python3.9/site-packages/datasets/utils/file_utils.py:380\u001b[0m, in \u001b[0;36mhttp_get\u001b[0;34m(url, temp_file, proxies, resume_size, headers, cookies, timeout, max_retries, desc)\u001b[0m\n\u001b[1;32m    371\u001b[0m total \u001b[39m=\u001b[39m resume_size \u001b[39m+\u001b[39m \u001b[39mint\u001b[39m(content_length) \u001b[39mif\u001b[39;00m content_length \u001b[39mis\u001b[39;00m \u001b[39mnot\u001b[39;00m \u001b[39mNone\u001b[39;00m \u001b[39melse\u001b[39;00m \u001b[39mNone\u001b[39;00m\n\u001b[1;32m    372\u001b[0m \u001b[39mwith\u001b[39;00m logging\u001b[39m.\u001b[39mtqdm(\n\u001b[1;32m    373\u001b[0m     unit\u001b[39m=\u001b[39m\u001b[39m\"\u001b[39m\u001b[39mB\u001b[39m\u001b[39m\"\u001b[39m,\n\u001b[1;32m    374\u001b[0m     unit_scale\u001b[39m=\u001b[39m\u001b[39mTrue\u001b[39;00m,\n\u001b[0;32m   (...)\u001b[0m\n\u001b[1;32m    378\u001b[0m     disable\u001b[39m=\u001b[39m\u001b[39mnot\u001b[39;00m logging\u001b[39m.\u001b[39mis_progress_bar_enabled(),\n\u001b[1;32m    379\u001b[0m ) \u001b[39mas\u001b[39;00m progress:\n\u001b[0;32m--> 380\u001b[0m     \u001b[39mfor\u001b[39;00m chunk \u001b[39min\u001b[39;00m response\u001b[39m.\u001b[39miter_content(chunk_size\u001b[39m=\u001b[39m\u001b[39m1024\u001b[39m):\n\u001b[1;32m    381\u001b[0m         progress\u001b[39m.\u001b[39mupdate(\u001b[39mlen\u001b[39m(chunk))\n\u001b[1;32m    382\u001b[0m         temp_file\u001b[39m.\u001b[39mwrite(chunk)\n",
      "File \u001b[0;32m/home/common/miniconda3/envs/meerkat9/lib/python3.9/site-packages/requests/models.py:760\u001b[0m, in \u001b[0;36mResponse.iter_content.<locals>.generate\u001b[0;34m()\u001b[0m\n\u001b[1;32m    758\u001b[0m \u001b[39mif\u001b[39;00m \u001b[39mhasattr\u001b[39m(\u001b[39mself\u001b[39m\u001b[39m.\u001b[39mraw, \u001b[39m'\u001b[39m\u001b[39mstream\u001b[39m\u001b[39m'\u001b[39m):\n\u001b[1;32m    759\u001b[0m     \u001b[39mtry\u001b[39;00m:\n\u001b[0;32m--> 760\u001b[0m         \u001b[39mfor\u001b[39;00m chunk \u001b[39min\u001b[39;00m \u001b[39mself\u001b[39m\u001b[39m.\u001b[39mraw\u001b[39m.\u001b[39mstream(chunk_size, decode_content\u001b[39m=\u001b[39m\u001b[39mTrue\u001b[39;00m):\n\u001b[1;32m    761\u001b[0m             \u001b[39myield\u001b[39;00m chunk\n\u001b[1;32m    762\u001b[0m     \u001b[39mexcept\u001b[39;00m ProtocolError \u001b[39mas\u001b[39;00m e:\n",
      "File \u001b[0;32m/home/common/miniconda3/envs/meerkat9/lib/python3.9/site-packages/urllib3/response.py:579\u001b[0m, in \u001b[0;36mHTTPResponse.stream\u001b[0;34m(self, amt, decode_content)\u001b[0m\n\u001b[1;32m    577\u001b[0m \u001b[39melse\u001b[39;00m:\n\u001b[1;32m    578\u001b[0m     \u001b[39mwhile\u001b[39;00m \u001b[39mnot\u001b[39;00m is_fp_closed(\u001b[39mself\u001b[39m\u001b[39m.\u001b[39m_fp):\n\u001b[0;32m--> 579\u001b[0m         data \u001b[39m=\u001b[39m \u001b[39mself\u001b[39;49m\u001b[39m.\u001b[39;49mread(amt\u001b[39m=\u001b[39;49mamt, decode_content\u001b[39m=\u001b[39;49mdecode_content)\n\u001b[1;32m    581\u001b[0m         \u001b[39mif\u001b[39;00m data:\n\u001b[1;32m    582\u001b[0m             \u001b[39myield\u001b[39;00m data\n",
      "File \u001b[0;32m/home/common/miniconda3/envs/meerkat9/lib/python3.9/site-packages/urllib3/response.py:505\u001b[0m, in \u001b[0;36mHTTPResponse.read\u001b[0;34m(self, amt, decode_content, cache_content)\u001b[0m\n\u001b[1;32m    484\u001b[0m \u001b[39mdef\u001b[39;00m \u001b[39mread\u001b[39m(\u001b[39mself\u001b[39m, amt\u001b[39m=\u001b[39m\u001b[39mNone\u001b[39;00m, decode_content\u001b[39m=\u001b[39m\u001b[39mNone\u001b[39;00m, cache_content\u001b[39m=\u001b[39m\u001b[39mFalse\u001b[39;00m):\n\u001b[1;32m    485\u001b[0m     \u001b[39m\"\"\"\u001b[39;00m\n\u001b[1;32m    486\u001b[0m \u001b[39m    Similar to :meth:`http.client.HTTPResponse.read`, but with two additional\u001b[39;00m\n\u001b[1;32m    487\u001b[0m \u001b[39m    parameters: ``decode_content`` and ``cache_content``.\u001b[39;00m\n\u001b[0;32m   (...)\u001b[0m\n\u001b[1;32m    503\u001b[0m \u001b[39m        set.)\u001b[39;00m\n\u001b[1;32m    504\u001b[0m \u001b[39m    \"\"\"\u001b[39;00m\n\u001b[0;32m--> 505\u001b[0m     \u001b[39mself\u001b[39;49m\u001b[39m.\u001b[39;49m_init_decoder()\n\u001b[1;32m    506\u001b[0m     \u001b[39mif\u001b[39;00m decode_content \u001b[39mis\u001b[39;00m \u001b[39mNone\u001b[39;00m:\n\u001b[1;32m    507\u001b[0m         decode_content \u001b[39m=\u001b[39m \u001b[39mself\u001b[39m\u001b[39m.\u001b[39mdecode_content\n",
      "File \u001b[0;32m/home/common/miniconda3/envs/meerkat9/lib/python3.9/site-packages/urllib3/response.py:378\u001b[0m, in \u001b[0;36mHTTPResponse._init_decoder\u001b[0;34m(self)\u001b[0m\n\u001b[1;32m    373\u001b[0m \u001b[39m\"\"\"\u001b[39;00m\n\u001b[1;32m    374\u001b[0m \u001b[39mSet-up the _decoder attribute if necessary.\u001b[39;00m\n\u001b[1;32m    375\u001b[0m \u001b[39m\"\"\"\u001b[39;00m\n\u001b[1;32m    376\u001b[0m \u001b[39m# Note: content-encoding value should be case-insensitive, per RFC 7230\u001b[39;00m\n\u001b[1;32m    377\u001b[0m \u001b[39m# Section 3.2\u001b[39;00m\n\u001b[0;32m--> 378\u001b[0m content_encoding \u001b[39m=\u001b[39m \u001b[39mself\u001b[39;49m\u001b[39m.\u001b[39;49mheaders\u001b[39m.\u001b[39;49mget(\u001b[39m\"\u001b[39;49m\u001b[39mcontent-encoding\u001b[39;49m\u001b[39m\"\u001b[39;49m, \u001b[39m\"\u001b[39;49m\u001b[39m\"\u001b[39;49m)\u001b[39m.\u001b[39mlower()\n\u001b[1;32m    379\u001b[0m \u001b[39mif\u001b[39;00m \u001b[39mself\u001b[39m\u001b[39m.\u001b[39m_decoder \u001b[39mis\u001b[39;00m \u001b[39mNone\u001b[39;00m:\n\u001b[1;32m    380\u001b[0m     \u001b[39mif\u001b[39;00m content_encoding \u001b[39min\u001b[39;00m \u001b[39mself\u001b[39m\u001b[39m.\u001b[39mCONTENT_DECODERS:\n",
      "File \u001b[0;32m/home/common/miniconda3/envs/meerkat9/lib/python3.9/_collections_abc.py:763\u001b[0m, in \u001b[0;36mMapping.get\u001b[0;34m(self, key, default)\u001b[0m\n\u001b[1;32m    761\u001b[0m \u001b[39m'\u001b[39m\u001b[39mD.get(k[,d]) -> D[k] if k in D, else d.  d defaults to None.\u001b[39m\u001b[39m'\u001b[39m\n\u001b[1;32m    762\u001b[0m \u001b[39mtry\u001b[39;00m:\n\u001b[0;32m--> 763\u001b[0m     \u001b[39mreturn\u001b[39;00m \u001b[39mself\u001b[39;49m[key]\n\u001b[1;32m    764\u001b[0m \u001b[39mexcept\u001b[39;00m \u001b[39mKeyError\u001b[39;00m:\n\u001b[1;32m    765\u001b[0m     \u001b[39mreturn\u001b[39;00m default\n",
      "\u001b[0;31mKeyboardInterrupt\u001b[0m: "
     ]
    }
   ],
   "source": [
    "mk.config.datasets.root_dir = \"./data\"\n",
    "mk.get(\"imagenette\")"
   ]
  },
  {
   "cell_type": "code",
   "execution_count": null,
   "metadata": {},
   "outputs": [],
   "source": []
  }
 ],
 "metadata": {
  "kernelspec": {
   "display_name": "Python 3.9.12 ('meerkat9')",
   "language": "python",
   "name": "python3"
  },
  "language_info": {
   "codemirror_mode": {
    "name": "ipython",
    "version": 3
   },
   "file_extension": ".py",
   "mimetype": "text/x-python",
   "name": "python",
   "nbconvert_exporter": "python",
   "pygments_lexer": "ipython3",
   "version": "3.9.12"
  },
  "orig_nbformat": 4,
  "vscode": {
   "interpreter": {
    "hash": "34702d7ad943297b3afe5e2ac6684c679dd905de509ea3cddd79477c4f8ca990"
   }
  }
 },
 "nbformat": 4,
 "nbformat_minor": 2
}
