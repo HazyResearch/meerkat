{
 "cells": [
  {
   "cell_type": "code",
   "execution_count": 1,
   "source": [
    "import numpy as np\n",
    "from meerkat.contrib.eeg import build_eeg_dp, download_tusz"
   ],
   "outputs": [],
   "metadata": {}
  },
  {
   "cell_type": "code",
   "execution_count": 2,
   "source": [
    "dataset_dir=\"/media/nvme_data/siyitang/TUH_eeg_seq_v1.5.2/resampled_signal\"\n",
    "raw_dataset_dir=\"/media/nvme_data/TUH/v1.5.2/edf\"\n",
    "splits=[\"dev\"]\n",
    "dp = build_eeg_dp(dataset_dir=dataset_dir,raw_dataset_dir=raw_dataset_dir,splits=splits)\n",
    "dp.head()"
   ],
   "outputs": [
    {
     "output_type": "stream",
     "name": "stderr",
     "text": [
      "100%|██████████| 10001/10001 [00:03<00:00, 3305.42it/s]\n"
     ]
    },
    {
     "output_type": "execute_result",
     "data": {
      "text/plain": [
       "DataPanel(nrows: 5, ncols: 9)"
      ],
      "text/html": [
       "<table border=\"1\" class=\"dataframe\">\n",
       "  <thead>\n",
       "    <tr style=\"text-align: right;\">\n",
       "      <th></th>\n",
       "      <th>binary_sz (NumpyArrayColumn)</th>\n",
       "      <th>clip_idx (NumpyArrayColumn)</th>\n",
       "      <th>file_id (PandasSeriesColumn)</th>\n",
       "      <th>filepath (PandasSeriesColumn)</th>\n",
       "      <th>h5_fn (PandasSeriesColumn)</th>\n",
       "      <th>sequence_sz (NumpyArrayColumn)</th>\n",
       "      <th>split (PandasSeriesColumn)</th>\n",
       "      <th>index (PandasSeriesColumn)</th>\n",
       "      <th>eeg_input (LambdaColumn)</th>\n",
       "    </tr>\n",
       "  </thead>\n",
       "  <tbody>\n",
       "    <tr>\n",
       "      <th>0</th>\n",
       "      <td>0</td>\n",
       "      <td>0</td>\n",
       "      <td>00006546_s023_t007</td>\n",
       "      <td>/media/nvme_data/TUH/v1.5.2/edf/dev/01_tcp_ar/065/00006546/s023_2012_02_24/00006546_s023_t007.edf</td>\n",
       "      <td>/media/nvme_data/siyitang/TUH_eeg_seq_v1.5.2/resampled_signal/00006546_s023_t007.h5</td>\n",
       "      <td>np.ndarray(shape=(60,))</td>\n",
       "      <td>dev</td>\n",
       "      <td>0</td>\n",
       "      <td>LambdaCell(fn=functools.partial(<function compute_slice_matrix at 0x7f10de5191f0>, time_step_size=1, clip_len=60, stride=60))</td>\n",
       "    </tr>\n",
       "    <tr>\n",
       "      <th>1</th>\n",
       "      <td>0</td>\n",
       "      <td>1</td>\n",
       "      <td>00006546_s023_t007</td>\n",
       "      <td>/media/nvme_data/TUH/v1.5.2/edf/dev/01_tcp_ar/065/00006546/s023_2012_02_24/00006546_s023_t007.edf</td>\n",
       "      <td>/media/nvme_data/siyitang/TUH_eeg_seq_v1.5.2/resampled_signal/00006546_s023_t007.h5</td>\n",
       "      <td>np.ndarray(shape=(60,))</td>\n",
       "      <td>dev</td>\n",
       "      <td>1</td>\n",
       "      <td>LambdaCell(fn=functools.partial(<function compute_slice_matrix at 0x7f10de5191f0>, time_step_size=1, clip_len=60, stride=60))</td>\n",
       "    </tr>\n",
       "    <tr>\n",
       "      <th>2</th>\n",
       "      <td>0</td>\n",
       "      <td>2</td>\n",
       "      <td>00006546_s023_t007</td>\n",
       "      <td>/media/nvme_data/TUH/v1.5.2/edf/dev/01_tcp_ar/065/00006546/s023_2012_02_24/00006546_s023_t007.edf</td>\n",
       "      <td>/media/nvme_data/siyitang/TUH_eeg_seq_v1.5.2/resampled_signal/00006546_s023_t007.h5</td>\n",
       "      <td>np.ndarray(shape=(60,))</td>\n",
       "      <td>dev</td>\n",
       "      <td>2</td>\n",
       "      <td>LambdaCell(fn=functools.partial(<function compute_slice_matrix at 0x7f10de5191f0>, time_step_size=1, clip_len=60, stride=60))</td>\n",
       "    </tr>\n",
       "    <tr>\n",
       "      <th>3</th>\n",
       "      <td>0</td>\n",
       "      <td>3</td>\n",
       "      <td>00006546_s023_t007</td>\n",
       "      <td>/media/nvme_data/TUH/v1.5.2/edf/dev/01_tcp_ar/065/00006546/s023_2012_02_24/00006546_s023_t007.edf</td>\n",
       "      <td>/media/nvme_data/siyitang/TUH_eeg_seq_v1.5.2/resampled_signal/00006546_s023_t007.h5</td>\n",
       "      <td>np.ndarray(shape=(60,))</td>\n",
       "      <td>dev</td>\n",
       "      <td>3</td>\n",
       "      <td>LambdaCell(fn=functools.partial(<function compute_slice_matrix at 0x7f10de5191f0>, time_step_size=1, clip_len=60, stride=60))</td>\n",
       "    </tr>\n",
       "    <tr>\n",
       "      <th>4</th>\n",
       "      <td>0</td>\n",
       "      <td>4</td>\n",
       "      <td>00006546_s023_t007</td>\n",
       "      <td>/media/nvme_data/TUH/v1.5.2/edf/dev/01_tcp_ar/065/00006546/s023_2012_02_24/00006546_s023_t007.edf</td>\n",
       "      <td>/media/nvme_data/siyitang/TUH_eeg_seq_v1.5.2/resampled_signal/00006546_s023_t007.h5</td>\n",
       "      <td>np.ndarray(shape=(60,))</td>\n",
       "      <td>dev</td>\n",
       "      <td>4</td>\n",
       "      <td>LambdaCell(fn=functools.partial(<function compute_slice_matrix at 0x7f10de5191f0>, time_step_size=1, clip_len=60, stride=60))</td>\n",
       "    </tr>\n",
       "  </tbody>\n",
       "</table>"
      ]
     },
     "metadata": {},
     "execution_count": 2
    }
   ],
   "metadata": {}
  },
  {
   "cell_type": "code",
   "execution_count": 3,
   "source": [
    "len(dp)"
   ],
   "outputs": [
    {
     "output_type": "execute_result",
     "data": {
      "text/plain": [
       "10001"
      ]
     },
     "metadata": {},
     "execution_count": 3
    }
   ],
   "metadata": {}
  },
  {
   "cell_type": "code",
   "execution_count": 4,
   "source": [
    "ndx = 1050\n",
    "dp[\"eeg_input\"][ndx].shape  # (seq_len, # channels, clip_len)"
   ],
   "outputs": [
    {
     "output_type": "execute_result",
     "data": {
      "text/plain": [
       "(60, 19, 200)"
      ]
     },
     "metadata": {},
     "execution_count": 4
    }
   ],
   "metadata": {}
  },
  {
   "cell_type": "code",
   "execution_count": 5,
   "source": [
    "dp[\"sequence_sz\"][ndx] # indicates if there is a seizure at each time step"
   ],
   "outputs": [
    {
     "output_type": "execute_result",
     "data": {
      "text/plain": [
       "array([0, 0, 0, 0, 0, 0, 0, 0, 0, 0, 0, 0, 0, 0, 0, 0, 0, 0, 0, 0, 0, 0,\n",
       "       0, 0, 0, 0, 0, 0, 0, 0, 0, 0, 0, 0, 0, 0, 0, 0, 0, 0, 1, 1, 1, 1,\n",
       "       1, 1, 1, 0, 0, 0, 0, 0, 0, 0, 0, 0, 0, 0, 0, 0])"
      ]
     },
     "metadata": {},
     "execution_count": 5
    }
   ],
   "metadata": {}
  },
  {
   "cell_type": "code",
   "execution_count": 6,
   "source": [
    "dp[\"binary_sz\"][ndx] # indicates if there is a seizure anywhere in the eeg clip"
   ],
   "outputs": [
    {
     "output_type": "execute_result",
     "data": {
      "text/plain": [
       "1"
      ]
     },
     "metadata": {},
     "execution_count": 6
    }
   ],
   "metadata": {}
  },
  {
   "cell_type": "code",
   "execution_count": 7,
   "source": [
    "# can merge seq_len and clip_len dimensions \n",
    "orig_eeg = dp[\"eeg_input\"][ndx]\n",
    "print(orig_eeg.transpose(0,2,1).reshape(-1,19).shape)\n",
    "\n",
    "# if want seq-seq prediction \n",
    "seq_labels = np.array([[y]*orig_eeg.shape[2] for y in dp[\"sequence_sz\"][ndx]]).flatten()\n",
    "print(seq_labels.shape)"
   ],
   "outputs": [
    {
     "output_type": "stream",
     "name": "stdout",
     "text": [
      "(12000, 19)\n",
      "(12000,)\n"
     ]
    }
   ],
   "metadata": {}
  },
  {
   "cell_type": "code",
   "execution_count": null,
   "source": [],
   "outputs": [],
   "metadata": {}
  }
 ],
 "metadata": {
  "orig_nbformat": 4,
  "language_info": {
   "name": "python",
   "version": "3.8.10",
   "mimetype": "text/x-python",
   "codemirror_mode": {
    "name": "ipython",
    "version": 3
   },
   "pygments_lexer": "ipython3",
   "nbconvert_exporter": "python",
   "file_extension": ".py"
  },
  "kernelspec": {
   "name": "python3",
   "display_name": "Python 3.8.10 64-bit ('domino': conda)"
  },
  "interpreter": {
   "hash": "b006b217e8cb0199fc13ea6a087b3b77c18ca9d2bc7dc9a8383728a63838a653"
  }
 },
 "nbformat": 4,
 "nbformat_minor": 2
}