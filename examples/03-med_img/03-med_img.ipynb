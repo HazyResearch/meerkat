{
  "nbformat": 4,
  "nbformat_minor": 0,
  "metadata": {
    "colab": {
      "name": "Mosaic + Medical Imaging.ipynb",
      "provenance": [],
      "collapsed_sections": []
    },
    "kernelspec": {
      "name": "python3",
      "display_name": "Python 3.8.10 64-bit ('domino': conda)"
    },
    "language_info": {
      "name": "python",
      "version": "3.8.10"
    },
    "accelerator": "GPU",
    "widgets": {
      "application/vnd.jupyter.widget-state+json": {
        "c5c6d51959b34063985a4f9707709fb1": {
          "model_module": "@jupyter-widgets/controls",
          "model_name": "HBoxModel",
          "state": {
            "_view_name": "HBoxView",
            "_dom_classes": [],
            "_model_name": "HBoxModel",
            "_view_module": "@jupyter-widgets/controls",
            "_model_module_version": "1.5.0",
            "_view_count": null,
            "_view_module_version": "1.5.0",
            "box_style": "",
            "layout": "IPY_MODEL_35cb6e7ec2f44f54bf2f4ef2738e70ac",
            "_model_module": "@jupyter-widgets/controls",
            "children": [
              "IPY_MODEL_76b655c7f1d24ca3914e3e89757b0a48",
              "IPY_MODEL_274a48a420114e4cada2213378229057",
              "IPY_MODEL_4198eac1305940adbd52bcc6488a6752"
            ]
          }
        },
        "35cb6e7ec2f44f54bf2f4ef2738e70ac": {
          "model_module": "@jupyter-widgets/base",
          "model_name": "LayoutModel",
          "state": {
            "_view_name": "LayoutView",
            "grid_template_rows": null,
            "right": null,
            "justify_content": null,
            "_view_module": "@jupyter-widgets/base",
            "overflow": null,
            "_model_module_version": "1.2.0",
            "_view_count": null,
            "flex_flow": null,
            "width": null,
            "min_width": null,
            "border": null,
            "align_items": null,
            "bottom": null,
            "_model_module": "@jupyter-widgets/base",
            "top": null,
            "grid_column": null,
            "overflow_y": null,
            "overflow_x": null,
            "grid_auto_flow": null,
            "grid_area": null,
            "grid_template_columns": null,
            "flex": null,
            "_model_name": "LayoutModel",
            "justify_items": null,
            "grid_row": null,
            "max_height": null,
            "align_content": null,
            "visibility": null,
            "align_self": null,
            "height": null,
            "min_height": null,
            "padding": null,
            "grid_auto_rows": null,
            "grid_gap": null,
            "max_width": null,
            "order": null,
            "_view_module_version": "1.2.0",
            "grid_template_areas": null,
            "object_position": null,
            "object_fit": null,
            "grid_auto_columns": null,
            "margin": null,
            "display": null,
            "left": null
          }
        },
        "76b655c7f1d24ca3914e3e89757b0a48": {
          "model_module": "@jupyter-widgets/controls",
          "model_name": "HTMLModel",
          "state": {
            "_view_name": "HTMLView",
            "style": "IPY_MODEL_de80e3ba63284cb7adf7dbc9d3d1bc58",
            "_dom_classes": [],
            "description": "",
            "_model_name": "HTMLModel",
            "placeholder": "​",
            "_view_module": "@jupyter-widgets/controls",
            "_model_module_version": "1.5.0",
            "value": "100%",
            "_view_count": null,
            "_view_module_version": "1.5.0",
            "description_tooltip": null,
            "_model_module": "@jupyter-widgets/controls",
            "layout": "IPY_MODEL_2c84a21a8a6243718af3101ef4e56e99"
          }
        },
        "274a48a420114e4cada2213378229057": {
          "model_module": "@jupyter-widgets/controls",
          "model_name": "FloatProgressModel",
          "state": {
            "_view_name": "ProgressView",
            "style": "IPY_MODEL_360787bd25f84406b4e5335e6c0d7e7b",
            "_dom_classes": [],
            "description": "",
            "_model_name": "FloatProgressModel",
            "bar_style": "success",
            "max": 12047,
            "_view_module": "@jupyter-widgets/controls",
            "_model_module_version": "1.5.0",
            "value": 12047,
            "_view_count": null,
            "_view_module_version": "1.5.0",
            "orientation": "horizontal",
            "min": 0,
            "description_tooltip": null,
            "_model_module": "@jupyter-widgets/controls",
            "layout": "IPY_MODEL_2332f3abefe64935991f37c85853ef0a"
          }
        },
        "4198eac1305940adbd52bcc6488a6752": {
          "model_module": "@jupyter-widgets/controls",
          "model_name": "HTMLModel",
          "state": {
            "_view_name": "HTMLView",
            "style": "IPY_MODEL_48931dcf4de14a429981d3acf730aef8",
            "_dom_classes": [],
            "description": "",
            "_model_name": "HTMLModel",
            "placeholder": "​",
            "_view_module": "@jupyter-widgets/controls",
            "_model_module_version": "1.5.0",
            "value": " 12047/12047 [00:07&lt;00:00, 1639.17it/s]",
            "_view_count": null,
            "_view_module_version": "1.5.0",
            "description_tooltip": null,
            "_model_module": "@jupyter-widgets/controls",
            "layout": "IPY_MODEL_9cd63f76cbe54d9cb0c9f0467da8db49"
          }
        },
        "de80e3ba63284cb7adf7dbc9d3d1bc58": {
          "model_module": "@jupyter-widgets/controls",
          "model_name": "DescriptionStyleModel",
          "state": {
            "_view_name": "StyleView",
            "_model_name": "DescriptionStyleModel",
            "description_width": "",
            "_view_module": "@jupyter-widgets/base",
            "_model_module_version": "1.5.0",
            "_view_count": null,
            "_view_module_version": "1.2.0",
            "_model_module": "@jupyter-widgets/controls"
          }
        },
        "2c84a21a8a6243718af3101ef4e56e99": {
          "model_module": "@jupyter-widgets/base",
          "model_name": "LayoutModel",
          "state": {
            "_view_name": "LayoutView",
            "grid_template_rows": null,
            "right": null,
            "justify_content": null,
            "_view_module": "@jupyter-widgets/base",
            "overflow": null,
            "_model_module_version": "1.2.0",
            "_view_count": null,
            "flex_flow": null,
            "width": null,
            "min_width": null,
            "border": null,
            "align_items": null,
            "bottom": null,
            "_model_module": "@jupyter-widgets/base",
            "top": null,
            "grid_column": null,
            "overflow_y": null,
            "overflow_x": null,
            "grid_auto_flow": null,
            "grid_area": null,
            "grid_template_columns": null,
            "flex": null,
            "_model_name": "LayoutModel",
            "justify_items": null,
            "grid_row": null,
            "max_height": null,
            "align_content": null,
            "visibility": null,
            "align_self": null,
            "height": null,
            "min_height": null,
            "padding": null,
            "grid_auto_rows": null,
            "grid_gap": null,
            "max_width": null,
            "order": null,
            "_view_module_version": "1.2.0",
            "grid_template_areas": null,
            "object_position": null,
            "object_fit": null,
            "grid_auto_columns": null,
            "margin": null,
            "display": null,
            "left": null
          }
        },
        "360787bd25f84406b4e5335e6c0d7e7b": {
          "model_module": "@jupyter-widgets/controls",
          "model_name": "ProgressStyleModel",
          "state": {
            "_view_name": "StyleView",
            "_model_name": "ProgressStyleModel",
            "description_width": "",
            "_view_module": "@jupyter-widgets/base",
            "_model_module_version": "1.5.0",
            "_view_count": null,
            "_view_module_version": "1.2.0",
            "bar_color": null,
            "_model_module": "@jupyter-widgets/controls"
          }
        },
        "2332f3abefe64935991f37c85853ef0a": {
          "model_module": "@jupyter-widgets/base",
          "model_name": "LayoutModel",
          "state": {
            "_view_name": "LayoutView",
            "grid_template_rows": null,
            "right": null,
            "justify_content": null,
            "_view_module": "@jupyter-widgets/base",
            "overflow": null,
            "_model_module_version": "1.2.0",
            "_view_count": null,
            "flex_flow": null,
            "width": null,
            "min_width": null,
            "border": null,
            "align_items": null,
            "bottom": null,
            "_model_module": "@jupyter-widgets/base",
            "top": null,
            "grid_column": null,
            "overflow_y": null,
            "overflow_x": null,
            "grid_auto_flow": null,
            "grid_area": null,
            "grid_template_columns": null,
            "flex": null,
            "_model_name": "LayoutModel",
            "justify_items": null,
            "grid_row": null,
            "max_height": null,
            "align_content": null,
            "visibility": null,
            "align_self": null,
            "height": null,
            "min_height": null,
            "padding": null,
            "grid_auto_rows": null,
            "grid_gap": null,
            "max_width": null,
            "order": null,
            "_view_module_version": "1.2.0",
            "grid_template_areas": null,
            "object_position": null,
            "object_fit": null,
            "grid_auto_columns": null,
            "margin": null,
            "display": null,
            "left": null
          }
        },
        "48931dcf4de14a429981d3acf730aef8": {
          "model_module": "@jupyter-widgets/controls",
          "model_name": "DescriptionStyleModel",
          "state": {
            "_view_name": "StyleView",
            "_model_name": "DescriptionStyleModel",
            "description_width": "",
            "_view_module": "@jupyter-widgets/base",
            "_model_module_version": "1.5.0",
            "_view_count": null,
            "_view_module_version": "1.2.0",
            "_model_module": "@jupyter-widgets/controls"
          }
        },
        "9cd63f76cbe54d9cb0c9f0467da8db49": {
          "model_module": "@jupyter-widgets/base",
          "model_name": "LayoutModel",
          "state": {
            "_view_name": "LayoutView",
            "grid_template_rows": null,
            "right": null,
            "justify_content": null,
            "_view_module": "@jupyter-widgets/base",
            "overflow": null,
            "_model_module_version": "1.2.0",
            "_view_count": null,
            "flex_flow": null,
            "width": null,
            "min_width": null,
            "border": null,
            "align_items": null,
            "bottom": null,
            "_model_module": "@jupyter-widgets/base",
            "top": null,
            "grid_column": null,
            "overflow_y": null,
            "overflow_x": null,
            "grid_auto_flow": null,
            "grid_area": null,
            "grid_template_columns": null,
            "flex": null,
            "_model_name": "LayoutModel",
            "justify_items": null,
            "grid_row": null,
            "max_height": null,
            "align_content": null,
            "visibility": null,
            "align_self": null,
            "height": null,
            "min_height": null,
            "padding": null,
            "grid_auto_rows": null,
            "grid_gap": null,
            "max_width": null,
            "order": null,
            "_view_module_version": "1.2.0",
            "grid_template_areas": null,
            "object_position": null,
            "object_fit": null,
            "grid_auto_columns": null,
            "margin": null,
            "display": null,
            "left": null
          }
        },
        "bf235c75324445c7bacd87a715b4813a": {
          "model_module": "@jupyter-widgets/controls",
          "model_name": "HBoxModel",
          "state": {
            "_view_name": "HBoxView",
            "_dom_classes": [],
            "_model_name": "HBoxModel",
            "_view_module": "@jupyter-widgets/controls",
            "_model_module_version": "1.5.0",
            "_view_count": null,
            "_view_module_version": "1.5.0",
            "box_style": "",
            "layout": "IPY_MODEL_a2ffb042e7ad4012b8e2b4b25b717600",
            "_model_module": "@jupyter-widgets/controls",
            "children": [
              "IPY_MODEL_500805a4bfda4744ae4a99871b91b8ab",
              "IPY_MODEL_827f40a2035147d8900f044fe3e9d6cd",
              "IPY_MODEL_2a9b7db185d649d98071714c7bb4fe20"
            ]
          }
        },
        "a2ffb042e7ad4012b8e2b4b25b717600": {
          "model_module": "@jupyter-widgets/base",
          "model_name": "LayoutModel",
          "state": {
            "_view_name": "LayoutView",
            "grid_template_rows": null,
            "right": null,
            "justify_content": null,
            "_view_module": "@jupyter-widgets/base",
            "overflow": null,
            "_model_module_version": "1.2.0",
            "_view_count": null,
            "flex_flow": null,
            "width": null,
            "min_width": null,
            "border": null,
            "align_items": null,
            "bottom": null,
            "_model_module": "@jupyter-widgets/base",
            "top": null,
            "grid_column": null,
            "overflow_y": null,
            "overflow_x": null,
            "grid_auto_flow": null,
            "grid_area": null,
            "grid_template_columns": null,
            "flex": null,
            "_model_name": "LayoutModel",
            "justify_items": null,
            "grid_row": null,
            "max_height": null,
            "align_content": null,
            "visibility": null,
            "align_self": null,
            "height": null,
            "min_height": null,
            "padding": null,
            "grid_auto_rows": null,
            "grid_gap": null,
            "max_width": null,
            "order": null,
            "_view_module_version": "1.2.0",
            "grid_template_areas": null,
            "object_position": null,
            "object_fit": null,
            "grid_auto_columns": null,
            "margin": null,
            "display": null,
            "left": null
          }
        },
        "500805a4bfda4744ae4a99871b91b8ab": {
          "model_module": "@jupyter-widgets/controls",
          "model_name": "HTMLModel",
          "state": {
            "_view_name": "HTMLView",
            "style": "IPY_MODEL_c5ad0a3944e944efb1c2eea2ef644ef7",
            "_dom_classes": [],
            "description": "",
            "_model_name": "HTMLModel",
            "placeholder": "​",
            "_view_module": "@jupyter-widgets/controls",
            "_model_module_version": "1.5.0",
            "value": "  7%",
            "_view_count": null,
            "_view_module_version": "1.5.0",
            "description_tooltip": null,
            "_model_module": "@jupyter-widgets/controls",
            "layout": "IPY_MODEL_4056c515820e4c728f93a02a414805ae"
          }
        },
        "827f40a2035147d8900f044fe3e9d6cd": {
          "model_module": "@jupyter-widgets/controls",
          "model_name": "FloatProgressModel",
          "state": {
            "_view_name": "ProgressView",
            "style": "IPY_MODEL_0b10b9fdbf7549f082c67edceb4942a0",
            "_dom_classes": [],
            "description": "",
            "_model_name": "FloatProgressModel",
            "bar_style": "",
            "max": 12047,
            "_view_module": "@jupyter-widgets/controls",
            "_model_module_version": "1.5.0",
            "value": 880,
            "_view_count": null,
            "_view_module_version": "1.5.0",
            "orientation": "horizontal",
            "min": 0,
            "description_tooltip": null,
            "_model_module": "@jupyter-widgets/controls",
            "layout": "IPY_MODEL_751c55ef04b343c39b0b7bf93d645e2a"
          }
        },
        "2a9b7db185d649d98071714c7bb4fe20": {
          "model_module": "@jupyter-widgets/controls",
          "model_name": "HTMLModel",
          "state": {
            "_view_name": "HTMLView",
            "style": "IPY_MODEL_c56052aa25fa43818be7531cb6d1e9b3",
            "_dom_classes": [],
            "description": "",
            "_model_name": "HTMLModel",
            "placeholder": "​",
            "_view_module": "@jupyter-widgets/controls",
            "_model_module_version": "1.5.0",
            "value": " 880/12047 [00:13&lt;02:45, 67.59it/s]",
            "_view_count": null,
            "_view_module_version": "1.5.0",
            "description_tooltip": null,
            "_model_module": "@jupyter-widgets/controls",
            "layout": "IPY_MODEL_a35272bba6cb4244a3e416e277ee77f2"
          }
        },
        "c5ad0a3944e944efb1c2eea2ef644ef7": {
          "model_module": "@jupyter-widgets/controls",
          "model_name": "DescriptionStyleModel",
          "state": {
            "_view_name": "StyleView",
            "_model_name": "DescriptionStyleModel",
            "description_width": "",
            "_view_module": "@jupyter-widgets/base",
            "_model_module_version": "1.5.0",
            "_view_count": null,
            "_view_module_version": "1.2.0",
            "_model_module": "@jupyter-widgets/controls"
          }
        },
        "4056c515820e4c728f93a02a414805ae": {
          "model_module": "@jupyter-widgets/base",
          "model_name": "LayoutModel",
          "state": {
            "_view_name": "LayoutView",
            "grid_template_rows": null,
            "right": null,
            "justify_content": null,
            "_view_module": "@jupyter-widgets/base",
            "overflow": null,
            "_model_module_version": "1.2.0",
            "_view_count": null,
            "flex_flow": null,
            "width": null,
            "min_width": null,
            "border": null,
            "align_items": null,
            "bottom": null,
            "_model_module": "@jupyter-widgets/base",
            "top": null,
            "grid_column": null,
            "overflow_y": null,
            "overflow_x": null,
            "grid_auto_flow": null,
            "grid_area": null,
            "grid_template_columns": null,
            "flex": null,
            "_model_name": "LayoutModel",
            "justify_items": null,
            "grid_row": null,
            "max_height": null,
            "align_content": null,
            "visibility": null,
            "align_self": null,
            "height": null,
            "min_height": null,
            "padding": null,
            "grid_auto_rows": null,
            "grid_gap": null,
            "max_width": null,
            "order": null,
            "_view_module_version": "1.2.0",
            "grid_template_areas": null,
            "object_position": null,
            "object_fit": null,
            "grid_auto_columns": null,
            "margin": null,
            "display": null,
            "left": null
          }
        },
        "0b10b9fdbf7549f082c67edceb4942a0": {
          "model_module": "@jupyter-widgets/controls",
          "model_name": "ProgressStyleModel",
          "state": {
            "_view_name": "StyleView",
            "_model_name": "ProgressStyleModel",
            "description_width": "",
            "_view_module": "@jupyter-widgets/base",
            "_model_module_version": "1.5.0",
            "_view_count": null,
            "_view_module_version": "1.2.0",
            "bar_color": null,
            "_model_module": "@jupyter-widgets/controls"
          }
        },
        "751c55ef04b343c39b0b7bf93d645e2a": {
          "model_module": "@jupyter-widgets/base",
          "model_name": "LayoutModel",
          "state": {
            "_view_name": "LayoutView",
            "grid_template_rows": null,
            "right": null,
            "justify_content": null,
            "_view_module": "@jupyter-widgets/base",
            "overflow": null,
            "_model_module_version": "1.2.0",
            "_view_count": null,
            "flex_flow": null,
            "width": null,
            "min_width": null,
            "border": null,
            "align_items": null,
            "bottom": null,
            "_model_module": "@jupyter-widgets/base",
            "top": null,
            "grid_column": null,
            "overflow_y": null,
            "overflow_x": null,
            "grid_auto_flow": null,
            "grid_area": null,
            "grid_template_columns": null,
            "flex": null,
            "_model_name": "LayoutModel",
            "justify_items": null,
            "grid_row": null,
            "max_height": null,
            "align_content": null,
            "visibility": null,
            "align_self": null,
            "height": null,
            "min_height": null,
            "padding": null,
            "grid_auto_rows": null,
            "grid_gap": null,
            "max_width": null,
            "order": null,
            "_view_module_version": "1.2.0",
            "grid_template_areas": null,
            "object_position": null,
            "object_fit": null,
            "grid_auto_columns": null,
            "margin": null,
            "display": null,
            "left": null
          }
        },
        "c56052aa25fa43818be7531cb6d1e9b3": {
          "model_module": "@jupyter-widgets/controls",
          "model_name": "DescriptionStyleModel",
          "state": {
            "_view_name": "StyleView",
            "_model_name": "DescriptionStyleModel",
            "description_width": "",
            "_view_module": "@jupyter-widgets/base",
            "_model_module_version": "1.5.0",
            "_view_count": null,
            "_view_module_version": "1.2.0",
            "_model_module": "@jupyter-widgets/controls"
          }
        },
        "a35272bba6cb4244a3e416e277ee77f2": {
          "model_module": "@jupyter-widgets/base",
          "model_name": "LayoutModel",
          "state": {
            "_view_name": "LayoutView",
            "grid_template_rows": null,
            "right": null,
            "justify_content": null,
            "_view_module": "@jupyter-widgets/base",
            "overflow": null,
            "_model_module_version": "1.2.0",
            "_view_count": null,
            "flex_flow": null,
            "width": null,
            "min_width": null,
            "border": null,
            "align_items": null,
            "bottom": null,
            "_model_module": "@jupyter-widgets/base",
            "top": null,
            "grid_column": null,
            "overflow_y": null,
            "overflow_x": null,
            "grid_auto_flow": null,
            "grid_area": null,
            "grid_template_columns": null,
            "flex": null,
            "_model_name": "LayoutModel",
            "justify_items": null,
            "grid_row": null,
            "max_height": null,
            "align_content": null,
            "visibility": null,
            "align_self": null,
            "height": null,
            "min_height": null,
            "padding": null,
            "grid_auto_rows": null,
            "grid_gap": null,
            "max_width": null,
            "order": null,
            "_view_module_version": "1.2.0",
            "grid_template_areas": null,
            "object_position": null,
            "object_fit": null,
            "grid_auto_columns": null,
            "margin": null,
            "display": null,
            "left": null
          }
        }
      }
    },
    "interpreter": {
      "hash": "c69732a7865039e91888aaead3ff2569340c124c546c64a2f5d6518a2cd9a0e4"
    }
  },
  "cells": [
    {
      "cell_type": "markdown",
      "metadata": {
        "id": "GmHR9PFqhm5D"
      },
      "source": [
        "# Mosaic + Medical Imaging"
      ]
    },
    {
      "cell_type": "markdown",
      "metadata": {
        "id": "a78JQBrphqaV"
      },
      "source": [
        "# Setup"
      ]
    },
    {
      "cell_type": "code",
      "metadata": {
        "colab": {
          "base_uri": "https://localhost:8080/"
        },
        "id": "UvqVJfZtdL4I",
        "outputId": "701dec56-60de-4451-e050-17d6468861e0"
      },
      "source": [
        "#!pip install -q git+https://github.com/robustness-gym/mosaic@dev[medimg,text]\n",
        "#!pip install -q torchxrayvision\n",
        "#!python3 -m spacy download en_core_web_sm\n",
        "\n",
        "import mosaic.version as mversion\n",
        "import torch\n",
        "print(\"mosaic version: \", mversion.__version__)\n",
        "print(\"torch version: \", torch.__version__)"
      ],
      "execution_count": 9,
      "outputs": [
        {
          "output_type": "stream",
          "name": "stdout",
          "text": [
            "mosaic version:  0.0.2\ntorch version:  1.8.1\n"
          ]
        }
      ]
    },
    {
      "cell_type": "code",
      "metadata": {
        "id": "_4zZE8XViu79"
      },
      "source": [
        "%load_ext autoreload\n",
        "%autoreload 2\n",
        "\n",
        "import os\n",
        "import mosaic as ms\n",
        "import numpy as np\n",
        "import matplotlib.pyplot as plt\n",
        "import torchxrayvision as xrv\n",
        "\n",
        "# Uncomment the line below to see whats going on under the hood\n",
        "# logging.getLogger(\"mosaic\").setLevel(logging.INFO)"
      ],
      "execution_count": 2,
      "outputs": []
    },
    {
      "cell_type": "markdown",
      "metadata": {
        "id": "Kafz9iimgPe2"
      },
      "source": [
        "## 💾 Downloading the data\n",
        "We'll be using the dataset from the [SIIM-ACR Pneumothorax Segmentation Challenge](https://www.kaggle.com/c/siim-acr-pneumothorax-segmentation/data) (`mosaic.contrib.siim_cxr` provides utility functions for downloading the data). The downloaded dataset includes the inputs, a large number of chest x-ray files stored in [DICOM](https://www.dicomstandard.org/) format, and the targets, a CSV file mapping each file to its binary pneumothorax label.\n",
        "-  Download time: ~2 minutes\n",
        "- Download size:  2.0 GB"
      ]
    },
    {
      "cell_type": "code",
      "metadata": {
        "id": "pgIfg0IFNvnb"
      },
      "source": [
        "from mosaic.contrib.siim_cxr import download_siim_cxr\n",
        "dataset_dir = \"/Users/sabrieyuboglu/data/datasets/siim-cxr\"\n",
        "download_siim_cxr(\n",
        "    dataset_dir, \n",
        "    \"sabrieyuboglu\", \n",
        "    \"8124277674a280e445d0c7c0ed769fd3\"\n",
        ")"
      ],
      "execution_count": 41,
      "outputs": []
    },
    {
      "source": [
        "## 🔨 Building a `DataPanel`"
      ],
      "cell_type": "markdown",
      "metadata": {}
    },
    {
      "cell_type": "code",
      "metadata": {
        "id": "V3vye4H-iOf0"
      },
      "source": [
        "dp = ms.DataPanel.from_csv(os.path.join(dataset_dir, \"siim_cxr.csv\"))\n",
        "dp.head()"
      ],
      "execution_count": 4,
      "outputs": [
        {
          "output_type": "execute_result",
          "data": {
            "text/plain": [
              "DataPanel(num_rows: 5)"
            ],
            "text/html": "<div>\n<style scoped>\n    .dataframe tbody tr th:only-of-type {\n        vertical-align: middle;\n    }\n\n    .dataframe tbody tr th {\n        vertical-align: top;\n    }\n\n    .dataframe thead th {\n        text-align: right;\n    }\n</style>\n<table border=\"1\" class=\"dataframe\">\n  <thead>\n    <tr style=\"text-align: right;\">\n      <th></th>\n      <th>image_id (NumpyArrayColumn)</th>\n      <th>encoded_pixels (NumpyArrayColumn)</th>\n      <th>pmx (NumpyArrayColumn)</th>\n      <th>filepath (NumpyArrayColumn)</th>\n      <th>report (NumpyArrayColumn)</th>\n      <th>index (ListColumn)</th>\n    </tr>\n  </thead>\n  <tbody>\n    <tr>\n      <th>0</th>\n      <td>1.2.276.0.7230010.3.1.4.8323329.6904.151787520...</td>\n      <td>-1</td>\n      <td>0</td>\n      <td>/Users/sabrieyuboglu/data/datasets/siim-cxr/si...</td>\n      <td>The upper lungs are clear. Right lower lobe op...</td>\n      <td>'0'</td>\n    </tr>\n    <tr>\n      <th>1</th>\n      <td>1.2.276.0.7230010.3.1.4.8323329.13666.15178752...</td>\n      <td>557374 2 1015 8 1009 14 1002 20 997 26 990 32 ...</td>\n      <td>1</td>\n      <td>/Users/sabrieyuboglu/data/datasets/siim-cxr/si...</td>\n      <td>The upper lungs are clear. Right lower lobe op...</td>\n      <td>'1'</td>\n    </tr>\n    <tr>\n      <th>2</th>\n      <td>1.2.276.0.7230010.3.1.4.8323329.11028.15178752...</td>\n      <td>-1</td>\n      <td>0</td>\n      <td>/Users/sabrieyuboglu/data/datasets/siim-cxr/si...</td>\n      <td>The upper lungs are clear. Right lower lobe op...</td>\n      <td>'2'</td>\n    </tr>\n    <tr>\n      <th>3</th>\n      <td>1.2.276.0.7230010.3.1.4.8323329.10366.15178752...</td>\n      <td>514175 10 1008 29 994 30 993 32 991 33 990 34 ...</td>\n      <td>1</td>\n      <td>/Users/sabrieyuboglu/data/datasets/siim-cxr/si...</td>\n      <td>Cardiac size cannot be evaluated. Large left p...</td>\n      <td>'3'</td>\n    </tr>\n    <tr>\n      <th>4</th>\n      <td>1.2.276.0.7230010.3.1.4.8323329.10016.15178752...</td>\n      <td>592184 33 976 58 956 73 941 88 926 102 917 109...</td>\n      <td>1</td>\n      <td>/Users/sabrieyuboglu/data/datasets/siim-cxr/si...</td>\n      <td>The upper lungs are clear. Right lower lobe op...</td>\n      <td>'4'</td>\n    </tr>\n  </tbody>\n</table>\n</div>"
          },
          "metadata": {},
          "execution_count": 4
        }
      ]
    },
    {
      "cell_type": "markdown",
      "metadata": {
        "id": "y1gH9JLhjpVM"
      },
      "source": [
        "So far, the DataPanel isn't providing anything we couldn't get with a Pandas `DataFrame` because the columns in the CSV include only strings and numbers. \n",
        "\n",
        "Things get interesting when we start adding columns for objects that don't play nicely with Pandas – things like images, text, time-series, videos, and multi-dimensional arrays. Out-of-the-box, Mosaic comes with a number of common column types including `ImageColumn` for images, `VideoColumn` for videos, `NumpyArrayColumn` for (potentially multi-dimensional) NumPy `ndarray`s, and `TensorColumn` for PyTorch Tensors (see [here](https://github.com/robustness-gym/mosaic/blob/dev/README.md#supported-columns) for a full list of core columns).  \n",
        "\n",
        "To house the X-rays in the dataset, we'll be using the `MedicalVolumeColumn`, a column type similar to `ImageColumn` but optimized for medical images stored in [DICOM format](https://www.dicomstandard.org/). "
      ]
    },
    {
      "cell_type": "code",
      "metadata": {
        "colab": {
          "base_uri": "https://localhost:8080/",
          "height": 338,
          "referenced_widgets": [
            "c5c6d51959b34063985a4f9707709fb1",
            "35cb6e7ec2f44f54bf2f4ef2738e70ac",
            "76b655c7f1d24ca3914e3e89757b0a48",
            "274a48a420114e4cada2213378229057",
            "4198eac1305940adbd52bcc6488a6752",
            "de80e3ba63284cb7adf7dbc9d3d1bc58",
            "2c84a21a8a6243718af3101ef4e56e99",
            "360787bd25f84406b4e5335e6c0d7e7b",
            "2332f3abefe64935991f37c85853ef0a",
            "48931dcf4de14a429981d3acf730aef8",
            "9cd63f76cbe54d9cb0c9f0467da8db49"
          ]
        },
        "id": "rQkKc7mrjT9A",
        "outputId": "8b669261-49fe-4604-a2cd-de66ddaea9a9"
      },
      "source": [
        "# Make a column of MedicalVolumeCells\n",
        "from dosma import DicomReader\n",
        "from mosaic.contrib.siim_cxr import cxr_transform, cxr_transform_pil\n",
        "\n",
        "loader = DicomReader(group_by=None, default_ornt=(\"SI\", \"AP\"))\n",
        "dp[\"img\"] = ms.MedicalVolumeColumn.from_filepaths(\n",
        "    dp[\"filepath\"], loader=loader, transform=cxr_transform_pil\n",
        ")\n",
        "dp[\"input\"] = ms.MedicalVolumeColumn.from_filepaths(\n",
        "    dp[\"filepath\"], loader=loader, transform=cxr_transform\n",
        ")"
      ],
      "execution_count": 5,
      "outputs": []
    },
    {
      "source": [
        "## 📄 Adding in metadata"
      ],
      "cell_type": "markdown",
      "metadata": {}
    },
    {
      "cell_type": "code",
      "metadata": {
        "colab": {
          "base_uri": "https://localhost:8080/",
          "height": 49,
          "referenced_widgets": [
            "bf235c75324445c7bacd87a715b4813a",
            "a2ffb042e7ad4012b8e2b4b25b717600",
            "500805a4bfda4744ae4a99871b91b8ab",
            "827f40a2035147d8900f044fe3e9d6cd",
            "2a9b7db185d649d98071714c7bb4fe20",
            "c5ad0a3944e944efb1c2eea2ef644ef7",
            "4056c515820e4c728f93a02a414805ae",
            "0b10b9fdbf7549f082c67edceb4942a0",
            "751c55ef04b343c39b0b7bf93d645e2a",
            "c56052aa25fa43818be7531cb6d1e9b3",
            "a35272bba6cb4244a3e416e277ee77f2"
          ]
        },
        "id": "dVXoMVL5JWP2",
        "outputId": "62c92ba2-8a28-4b0d-e1da-10177e3b60cc"
      },
      "source": [
        "def unroll_metadata(dp):\n",
        "    img = dp[\"img\"]\n",
        "    if img.get_metadata() is None:\n",
        "      _ = img.get()  # load dicom to get metadata\n",
        "\n",
        "    md = img.get_metadata(as_raw_type=True, readable=True, ignore_bytes=True)\n",
        "\n",
        "    # image metadata can be quite large, flush to avoid RAM overload\n",
        "    img._metadata = None\n",
        "    return md\n",
        "\n",
        "dp = dp.update(unroll_metadata, materialize=False, pbar=True)\n",
        "dp.head()"
      ],
      "execution_count": 8,
      "outputs": [
        {
          "output_type": "stream",
          "name": "stderr",
          "text": [
            "100%|██████████| 12047/12047 [02:28<00:00, 81.33it/s]\n"
          ]
        },
        {
          "output_type": "execute_result",
          "data": {
            "text/plain": [
              "DataPanel(num_rows: 5)"
            ],
            "text/html": "<div>\n<style scoped>\n    .dataframe tbody tr th:only-of-type {\n        vertical-align: middle;\n    }\n\n    .dataframe tbody tr th {\n        vertical-align: top;\n    }\n\n    .dataframe thead th {\n        text-align: right;\n    }\n</style>\n<table border=\"1\" class=\"dataframe\">\n  <thead>\n    <tr style=\"text-align: right;\">\n      <th></th>\n      <th>image_id (NumpyArrayColumn)</th>\n      <th>encoded_pixels (NumpyArrayColumn)</th>\n      <th>pmx (NumpyArrayColumn)</th>\n      <th>filepath (NumpyArrayColumn)</th>\n      <th>report (NumpyArrayColumn)</th>\n      <th>index (ListColumn)</th>\n      <th>img (CellColumn)</th>\n      <th>img_tensor (CellColumn)</th>\n      <th>Specific Character Set (ListColumn)</th>\n      <th>SOP Class UID (ListColumn)</th>\n      <th>...</th>\n      <th>Photometric Interpretation (ListColumn)</th>\n      <th>Rows (NumpyArrayColumn)</th>\n      <th>Columns (NumpyArrayColumn)</th>\n      <th>Pixel Spacing (ListColumn)</th>\n      <th>Bits Allocated (NumpyArrayColumn)</th>\n      <th>Bits Stored (NumpyArrayColumn)</th>\n      <th>High Bit (NumpyArrayColumn)</th>\n      <th>Pixel Representation (NumpyArrayColumn)</th>\n      <th>Lossy Image Compression (ListColumn)</th>\n      <th>Lossy Image Compression Method (ListColumn)</th>\n    </tr>\n  </thead>\n  <tbody>\n    <tr>\n      <th>0</th>\n      <td>1.2.276.0.7230010.3.1.4.8323329.6904.151787520...</td>\n      <td>-1</td>\n      <td>0</td>\n      <td>/Users/sabrieyuboglu/data/datasets/siim-cxr/si...</td>\n      <td>The upper lungs are clear. Right lower lobe op...</td>\n      <td>'0'</td>\n      <td>MedicalVolumeCell([PosixPath('/Users/sabrieyub...</td>\n      <td>MedicalVolumeCell([PosixPath('/Users/sabrieyub...</td>\n      <td>'ISO_IR 100'</td>\n      <td>'1.2.840.10008.5.1.4.1.1.7'</td>\n      <td>...</td>\n      <td>'MONOCHROME2'</td>\n      <td>1024</td>\n      <td>1024</td>\n      <td>[\"0.168\", \"0.168\"]</td>\n      <td>8</td>\n      <td>8</td>\n      <td>7</td>\n      <td>0</td>\n      <td>'01'</td>\n      <td>'ISO_10918_1'</td>\n    </tr>\n    <tr>\n      <th>1</th>\n      <td>1.2.276.0.7230010.3.1.4.8323329.13666.15178752...</td>\n      <td>557374 2 1015 8 1009 14 1002 20 997 26 990 32 ...</td>\n      <td>1</td>\n      <td>/Users/sabrieyuboglu/data/datasets/siim-cxr/si...</td>\n      <td>Cardiac size cannot be evaluated. Large left p...</td>\n      <td>'1'</td>\n      <td>MedicalVolumeCell([PosixPath('/Users/sabrieyub...</td>\n      <td>MedicalVolumeCell([PosixPath('/Users/sabrieyub...</td>\n      <td>'ISO_IR 100'</td>\n      <td>'1.2.840.10008.5.1.4.1.1.7'</td>\n      <td>...</td>\n      <td>'MONOCHROME2'</td>\n      <td>1024</td>\n      <td>1024</td>\n      <td>[\"0.139\", \"0.139\"]</td>\n      <td>8</td>\n      <td>8</td>\n      <td>7</td>\n      <td>0</td>\n      <td>'01'</td>\n      <td>'ISO_10918_1'</td>\n    </tr>\n    <tr>\n      <th>2</th>\n      <td>1.2.276.0.7230010.3.1.4.8323329.11028.15178752...</td>\n      <td>-1</td>\n      <td>0</td>\n      <td>/Users/sabrieyuboglu/data/datasets/siim-cxr/si...</td>\n      <td>Cardiac size cannot be evaluated. Large left p...</td>\n      <td>'2'</td>\n      <td>MedicalVolumeCell([PosixPath('/Users/sabrieyub...</td>\n      <td>MedicalVolumeCell([PosixPath('/Users/sabrieyub...</td>\n      <td>'ISO_IR 100'</td>\n      <td>'1.2.840.10008.5.1.4.1.1.7'</td>\n      <td>...</td>\n      <td>'MONOCHROME2'</td>\n      <td>1024</td>\n      <td>1024</td>\n      <td>[\"0.14300000000000002\", \"0.14300000000000002\"]</td>\n      <td>8</td>\n      <td>8</td>\n      <td>7</td>\n      <td>0</td>\n      <td>'01'</td>\n      <td>'ISO_10918_1'</td>\n    </tr>\n    <tr>\n      <th>3</th>\n      <td>1.2.276.0.7230010.3.1.4.8323329.10366.15178752...</td>\n      <td>514175 10 1008 29 994 30 993 32 991 33 990 34 ...</td>\n      <td>1</td>\n      <td>/Users/sabrieyuboglu/data/datasets/siim-cxr/si...</td>\n      <td>Cardiac size cannot be evaluated. Large left p...</td>\n      <td>'3'</td>\n      <td>MedicalVolumeCell([PosixPath('/Users/sabrieyub...</td>\n      <td>MedicalVolumeCell([PosixPath('/Users/sabrieyub...</td>\n      <td>'ISO_IR 100'</td>\n      <td>'1.2.840.10008.5.1.4.1.1.7'</td>\n      <td>...</td>\n      <td>'MONOCHROME2'</td>\n      <td>1024</td>\n      <td>1024</td>\n      <td>[\"0.139\", \"0.139\"]</td>\n      <td>8</td>\n      <td>8</td>\n      <td>7</td>\n      <td>0</td>\n      <td>'01'</td>\n      <td>'ISO_10918_1'</td>\n    </tr>\n    <tr>\n      <th>4</th>\n      <td>1.2.276.0.7230010.3.1.4.8323329.10016.15178752...</td>\n      <td>592184 33 976 58 956 73 941 88 926 102 917 109...</td>\n      <td>1</td>\n      <td>/Users/sabrieyuboglu/data/datasets/siim-cxr/si...</td>\n      <td>Cardiac size cannot be evaluated. Large left p...</td>\n      <td>'4'</td>\n      <td>MedicalVolumeCell([PosixPath('/Users/sabrieyub...</td>\n      <td>MedicalVolumeCell([PosixPath('/Users/sabrieyub...</td>\n      <td>'ISO_IR 100'</td>\n      <td>'1.2.840.10008.5.1.4.1.1.7'</td>\n      <td>...</td>\n      <td>'MONOCHROME2'</td>\n      <td>1024</td>\n      <td>1024</td>\n      <td>[\"0.139\", \"0.139\"]</td>\n      <td>8</td>\n      <td>8</td>\n      <td>7</td>\n      <td>0</td>\n      <td>'01'</td>\n      <td>'ISO_10918_1'</td>\n    </tr>\n  </tbody>\n</table>\n<p>5 rows × 42 columns</p>\n</div>"
          },
          "metadata": {},
          "execution_count": 8
        }
      ]
    },
    {
      "source": [
        "### 💫 Computing model predictions and activations.\n",
        "We'd like to perform inference and extract:\n",
        "  \n",
        "1. Output predictions  \n",
        "2. Output class probabilities  \n",
        "3. Model activations \n",
        "\n",
        "Note: in order to extract model activations, we'll need to use a [PyTorch forward hook](https://pytorch.org/tutorials/beginner/former_torchies/nnft_tutorial.html#forward-and-backward-function-hooks) and register it on the final layer of the ResNet. Forward hooks are just functions that get executed on the forward pass of a `torch.nn.Module`. "
      ],
      "cell_type": "markdown",
      "metadata": {}
    },
    {
      "cell_type": "code",
      "metadata": {
        "id": "4bNeVWFRCCqE"
      },
      "source": [
        "model = xrv.models.DenseNet(weights=\"chex\").to(\"cuda\")\n",
        "model.eval()\n",
        "\n",
        "# 2. Register the forward hook\n",
        "embedding = None\n",
        "def forward_hook(module, input, output):\n",
        "  global embedding\n",
        "  embedding = output\n",
        "\n",
        "model.features.register_forward_hook(forward_hook)"
      ],
      "execution_count": null,
      "outputs": []
    },
    {
      "cell_type": "code",
      "execution_count": null,
      "metadata": {},
      "outputs": [],
      "source": [
        "import torch\n",
        "from mosaic.columns.prediction_column import ClassificationOutputColumn\n",
        "\n",
        "@torch.no_grad()\n",
        "def predict(batch: ms.DataPanel):\n",
        "  global embedding\n",
        "\n",
        "  x = batch[\"img_tensor\"].data[:, :1, ...]\n",
        "  x = x.to(\"cuda\")  # We get the underlying torch tensor with `data` and move to GPU \n",
        "  probs = model(x)  # Run forward pass\n",
        "\n",
        "  # Returning numpy for now to test memmap\n",
        "  return {\n",
        "      \"output\": ms.NumpyArrayColumn(probs=probs.cpu()),\n",
        "      \"embedding\": ms.NumpyArrayColumn(embedding.mean(dim=[-1,-2]).cpu())\n",
        "  }\n",
        "  # return {\n",
        "  #     \"output\": ClassificationOutputColumn(probs=probs.cpu(), multi_label=True),\n",
        "  #     \"embedding\": ms.EmbeddingColumn(embedding.mean(dim=[-1,-2]).cpu())\n",
        "  # }\n",
        "\n",
        "\n",
        "dp = dp_train.copy()\n",
        "dp.remove_column(\"img\")\n",
        "dp = dp.update(\n",
        "  function=predict, is_batched_fn=True, batch_size=16,\n",
        "  num_workers=0, pbar=True, mmap=True\n",
        ")\n",
        "dp.head()\n",
        "\n",
        "dp[\"Correct\"] = dp[\"pmx\"] == dp[\"output\"].preds\n",
        "dp.head()"
      ]
    },
    {
      "source": [
        "### 📄 Radiologist reports (`SpacyColumn`)\n",
        "\n",
        "In pneuomothorax detection, as in other classification tasks, the binary label does not capture all of the nuance in the X-ray. Radiologists communicate that additional detail via natural language radiologist reports that accompany each scan. For example, a sentence in a chest X-ray report may read \"A medial pneumothorax is present adjacent to the heart.\" Increasingly, these reports are playing a starring role in machine learning for medical imaging. The reports are used to extract weak labels ([Dunnmon *et al.](https://www.ncbi.nlm.nih.gov/pmc/articles/PMC7413132/), [Eyuboglu *et al.*](https://www.nature.com/articles/s41467-021-22018-1)) and perform contrastive learning on paired images and reports ([Zhang *et al.*](https://arxiv.org/pdf/2010.00747.pdf)). With Mosaic, we can store the radiology reports right alongside the X-rays in the same `DataPanel`. This allows us to experiment with multi-modal learning techniques without re-engineering our data pipelines. \n",
        "\n",
        "Additionally, we can use the accompanying radiology reports to select critical subsets of the data and compute subgroup accuracy. For instance, say we're interested in the performance of our model on \"severe\" pneumothorax. Because the radiologist reports are stored in a `SpacyColumn`, a column that holds preprocessed (*e.g.* tokenized) natural language data, it's easy to write a function `is_severe` that accepts a row as input and returns `True` if the X-ray exhibits pneumothorax and the words \"pneumothorax\" and \"severe\" appear in the same sentence."
      ],
      "cell_type": "markdown",
      "metadata": {}
    },
    {
      "cell_type": "code",
      "execution_count": 12,
      "metadata": {},
      "outputs": [],
      "source": [
        "dp[\"report_doc\"] = ms.SpacyColumn.from_texts(dp[\"report\"])"
      ]
    },
    {
      "cell_type": "code",
      "execution_count": 26,
      "metadata": {},
      "outputs": [
        {
          "output_type": "stream",
          "name": "stderr",
          "text": [
            "100%|██████████| 12047/12047 [00:03<00:00, 3589.43it/s]There are 1340 X-rays exhibiting severe pneumothorax.\n",
            "\n"
          ]
        }
      ],
      "source": [
        "def is_severe(row: ms.DataPanel):\n",
        "\t\"\"\" Return `True` if the X-ray exhibits pneumothorax and it is described \n",
        "\tas severe in the report (according to a simple rule-based heuristic).\"\"\"\n",
        "\tif row[\"pmx\"] != 1:\n",
        "\t\treturn False\n",
        "\tfor sent in row[\"report_doc\"].sents:\n",
        "\t\tif \"pneumothorax\" in str(sent) and \"severe\" in str(sent):\n",
        "\t\t\treturn True\n",
        "\treturn False\n",
        "\n",
        "severe_dp = dp.filter(\n",
        "\tfunction=is_severe, is_batched_fn=False, input_columns=[\"report_doc\", \"pmx\"], pbar=True\n",
        ")\n",
        "\n",
        "print(f\"There are {len(severe_dp)} X-rays exhibiting severe pneumothorax.\") "
      ]
    },
    {
      "source": [
        "## 👓  Radiologist eye-tracking data (`GazeSequenceCell` and `CellColumn`)  \n",
        "\n",
        "Our chest X-ray dataset includes an exciting, non-standard data modality, eye-tracking time-series, for which we'll implement a custom column. We have access to this data because a subset of the X-rays in the dataset were labeled by radiologists while their gaze was being recorded by an eye-tracker. This gaze signal can provide additional supervision when training a model or can be used to slice the dataset during evaluation.\n",
        "\n",
        "Mosaic does **not** ship with a column type for eye-tracking data, so we'll have to write our own. In Mosaic, the easiest way to implement a new column is to use the `CellColumn` abstraction. The advantage of using `CellColumn` (or one of its subclasses) is that we can support new data types without dealing with the implementation complexity of a full column. Instead, we can think in terms of the individual elements in the column: the cells. We implement a cell by subclassing `AbstractCell` and adding functionality specific to the new data type."
      ],
      "cell_type": "markdown",
      "metadata": {}
    },
    {
      "cell_type": "code",
      "execution_count": 46,
      "metadata": {},
      "outputs": [],
      "source": [
        "# The gaze data stored in JSON format\n",
        "import json\n",
        "gaze_data = json.load(open(os.path.join(dataset_dir, \"cxr_gaze_data.json\"), 'rb'))"
      ]
    },
    {
      "source": [
        "Below, we provide a simple implementation of a new cell type GazeSequenceCell that houses a sequence of eye-tracking coordinates. In addition to adding __repr__ and _state_keys methods, useful for column inspection and serialization respectively, we implement the utility method to_gaze_heatmap which produces a NumPy array representing the amount of time the radiologist's gaze fell on each patch of the image. "
      ],
      "cell_type": "markdown",
      "metadata": {}
    },
    {
      "cell_type": "code",
      "metadata": {
        "id": "XJl5jT4jPsGW",
        "colab": {
          "base_uri": "https://localhost:8080/",
          "height": 287
        },
        "outputId": "d40796d7-afc2-46e3-f00b-59831fa602f6"
      },
      "source": [
        "from typing import Sequence\n",
        "\n",
        "class GazeSequenceCell(ms.AbstractCell):\n",
        "\n",
        "  def __init__(self, gaze_x: Sequence, gaze_y: Sequence, time: Sequence):\n",
        "    \"\"\"\n",
        "    Args:\n",
        "        gaze_x (Sequence): \n",
        "        gaze_y (Sequence): [description]\n",
        "        time (Sequence): [description]\n",
        "    \"\"\"\n",
        "    self.gaze_coordinates = np.array([gaze_y, gaze_x])\n",
        "    self.time = np.array(time)\n",
        "  \n",
        "  def get(self):\n",
        "    return self\n",
        "  \n",
        "  def to_heatmap(self, num_patches: int = 16) -> np.ndarray:\n",
        "    \"\"\" Convert the sequence to a heatmap showing the cumulative\n",
        "    duration that the gaze fell on each patch of the image.  \n",
        "    Args:\n",
        "      num_patches (int): split the image into `num_patches` x `num_patches`\n",
        "        patches.\n",
        "    Returns:\n",
        "      np.ndarray: an array with shape (num_patches, num_patches) where   \n",
        "    \"\"\"\n",
        "    heatmap = np.zeros(num_patches * num_patches)\n",
        "    patches = (\n",
        "        np.floor(self.gaze_coordinates[0] * num_patches) * num_patches + \n",
        "        np.floor(self.gaze_coordinates[1] * num_patches)\n",
        "    )\n",
        "    np.add.at(heatmap, patches.astype(int), self.time)\n",
        "    return heatmap.reshape(num_patches, num_patches)\n",
        "  \n",
        "  def __repr__(self):\n",
        "      return f\"GazeSequence(length={self.gaze_coordinates.shape[-1]})\"\n",
        "\n",
        "  @classmethod\n",
        "  def _state_keys(cls):\n",
        "      return {\"gaze_coordinates\", \"time\"}"
      ],
      "execution_count": 47,
      "outputs": []
    },
    {
      "source": [
        "We create a full column by instantiating a GazeSequenceCell for each X-ray and passing them into a new CellColumn.  Because we only have gaze data for a subset of the X-rays in the dataset, we store the gaze sequences in a new DataPanel alongside their corresponding \"image_id\" and then perform a database style join (via ms.merge) to combine the original DataPanel with the gaze data.  "
      ],
      "cell_type": "markdown",
      "metadata": {}
    },
    {
      "cell_type": "code",
      "metadata": {
        "id": "bWGPesxU-ftj"
      },
      "source": [
        "image_ids, cells = zip(*[\n",
        "    (row[\"image_id\"], GazeSequenceCell(row[\"gaze_x\"], row[\"gaze_y\"], row[\"time\"])) \n",
        "    for row in gaze_data\n",
        "])\n",
        "gaze_dp = ms.DataPanel.from_batch({\n",
        "    \"gaze\": ms.CellColumn.from_cells(cells),\n",
        "    \"image_id\": ms.NumpyArrayColumn(image_ids)\n",
        "})\n",
        "gaze_dp = ms.merge(dp, gaze_dp, how=\"inner\", on=\"image_id\")"
      ],
      "execution_count": 48,
      "outputs": []
    },
    {
      "cell_type": "code",
      "metadata": {
        "colab": {
          "base_uri": "https://localhost:8080/",
          "height": 619
        },
        "id": "1HKzM-oKCAt7",
        "outputId": "551d6cce-9f5c-4fde-b3bb-c1b9b880bc7f"
      },
      "source": [
        "NUM_PATCHES = 16\n",
        "row = gaze_dp[4]\n",
        "heatmap = row[\"gaze\"].to_heatmap(num_patches=NUM_PATCHES)\n",
        "height, width = np.array(row[\"img\"]).shape\n",
        "plt.imshow(row[\"img\"], cmap=\"gray\")\n",
        "plt.imshow(\n",
        "    heatmap.repeat(height / NUM_PATCHES, axis=0).repeat(width / NUM_PATCHES, axis=1), \n",
        "    alpha=0.4\n",
        ")"
      ],
      "execution_count": 56,
      "outputs": [
        {
          "output_type": "execute_result",
          "data": {
            "text/plain": [
              "<matplotlib.image.AxesImage at 0x7fca2db1f940>"
            ]
          },
          "metadata": {},
          "execution_count": 56
        },
        {
          "output_type": "display_data",
          "data": {
            "text/plain": "<Figure size 432x288 with 1 Axes>",
            "image/svg+xml": "<?xml version=\"1.0\" encoding=\"utf-8\" standalone=\"no\"?>\n<!DOCTYPE svg PUBLIC \"-//W3C//DTD SVG 1.1//EN\"\n  \"http://www.w3.org/Graphics/SVG/1.1/DTD/svg11.dtd\">\n<svg height=\"252.211172pt\" version=\"1.1\" viewBox=\"0 0 272.024922 252.211172\" width=\"272.024922pt\" xmlns=\"http://www.w3.org/2000/svg\" xmlns:xlink=\"http://www.w3.org/1999/xlink\">\n <metadata>\n  <rdf:RDF xmlns:cc=\"http://creativecommons.org/ns#\" xmlns:dc=\"http://purl.org/dc/elements/1.1/\" xmlns:rdf=\"http://www.w3.org/1999/02/22-rdf-syntax-ns#\">\n   <cc:Work>\n    <dc:type rdf:resource=\"http://purl.org/dc/dcmitype/StillImage\"/>\n    <dc:date>2021-06-18T17:48:17.050420</dc:date>\n    <dc:format>image/svg+xml</dc:format>\n    <dc:creator>\n     <cc:Agent>\n      <dc:title>Matplotlib v3.4.2, https://matplotlib.org/</dc:title>\n     </cc:Agent>\n    </dc:creator>\n   </cc:Work>\n  </rdf:RDF>\n </metadata>\n <defs>\n  <style type=\"text/css\">*{stroke-linecap:butt;stroke-linejoin:round;}</style>\n </defs>\n <g id=\"figure_1\">\n  <g id=\"patch_1\">\n   <path d=\"M 0 252.211172 \nL 272.024922 252.211172 \nL 272.024922 0 \nL 0 0 \nz\n\" style=\"fill:none;\"/>\n  </g>\n  <g id=\"axes_1\">\n   <g id=\"patch_2\">\n    <path d=\"M 39.65 228.333047 \nL 257.09 228.333047 \nL 257.09 10.893047 \nL 39.65 10.893047 \nz\n\" style=\"fill:#ffffff;\"/>\n   </g>\n   <g clip-path=\"url(#pe495b9c4f0)\">\n    <image height=\"218\" id=\"image6bd51d6ad7\" transform=\"scale(1 -1)translate(0 -218)\" width=\"218\" x=\"40\" xlink:href=\"data:image/png;base64,\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\" y=\"-10.211172\"/>\n   </g>\n   <g id=\"matplotlib.axis_1\">\n    <g id=\"xtick_1\">\n     <g id=\"line2d_1\">\n      <defs>\n       <path d=\"M 0 0 \nL 0 3.5 \n\" id=\"m84fd75a13b\" style=\"stroke:#000000;stroke-width:0.8;\"/>\n      </defs>\n      <g>\n       <use style=\"stroke:#000000;stroke-width:0.8;\" x=\"39.756172\" xlink:href=\"#m84fd75a13b\" y=\"228.333047\"/>\n      </g>\n     </g>\n     <g id=\"text_1\">\n      <!-- 0 -->\n      <g transform=\"translate(36.574922 242.931484)scale(0.1 -0.1)\">\n       <defs>\n        <path d=\"M 2034 4250 \nQ 1547 4250 1301 3770 \nQ 1056 3291 1056 2328 \nQ 1056 1369 1301 889 \nQ 1547 409 2034 409 \nQ 2525 409 2770 889 \nQ 3016 1369 3016 2328 \nQ 3016 3291 2770 3770 \nQ 2525 4250 2034 4250 \nz\nM 2034 4750 \nQ 2819 4750 3233 4129 \nQ 3647 3509 3647 2328 \nQ 3647 1150 3233 529 \nQ 2819 -91 2034 -91 \nQ 1250 -91 836 529 \nQ 422 1150 422 2328 \nQ 422 3509 836 4129 \nQ 1250 4750 2034 4750 \nz\n\" id=\"DejaVuSans-30\" transform=\"scale(0.015625)\"/>\n       </defs>\n       <use xlink:href=\"#DejaVuSans-30\"/>\n      </g>\n     </g>\n    </g>\n    <g id=\"xtick_2\">\n     <g id=\"line2d_2\">\n      <g>\n       <use style=\"stroke:#000000;stroke-width:0.8;\" x=\"82.224922\" xlink:href=\"#m84fd75a13b\" y=\"228.333047\"/>\n      </g>\n     </g>\n     <g id=\"text_2\">\n      <!-- 200 -->\n      <g transform=\"translate(72.681172 242.931484)scale(0.1 -0.1)\">\n       <defs>\n        <path d=\"M 1228 531 \nL 3431 531 \nL 3431 0 \nL 469 0 \nL 469 531 \nQ 828 903 1448 1529 \nQ 2069 2156 2228 2338 \nQ 2531 2678 2651 2914 \nQ 2772 3150 2772 3378 \nQ 2772 3750 2511 3984 \nQ 2250 4219 1831 4219 \nQ 1534 4219 1204 4116 \nQ 875 4013 500 3803 \nL 500 4441 \nQ 881 4594 1212 4672 \nQ 1544 4750 1819 4750 \nQ 2544 4750 2975 4387 \nQ 3406 4025 3406 3419 \nQ 3406 3131 3298 2873 \nQ 3191 2616 2906 2266 \nQ 2828 2175 2409 1742 \nQ 1991 1309 1228 531 \nz\n\" id=\"DejaVuSans-32\" transform=\"scale(0.015625)\"/>\n       </defs>\n       <use xlink:href=\"#DejaVuSans-32\"/>\n       <use x=\"63.623047\" xlink:href=\"#DejaVuSans-30\"/>\n       <use x=\"127.246094\" xlink:href=\"#DejaVuSans-30\"/>\n      </g>\n     </g>\n    </g>\n    <g id=\"xtick_3\">\n     <g id=\"line2d_3\">\n      <g>\n       <use style=\"stroke:#000000;stroke-width:0.8;\" x=\"124.693672\" xlink:href=\"#m84fd75a13b\" y=\"228.333047\"/>\n      </g>\n     </g>\n     <g id=\"text_3\">\n      <!-- 400 -->\n      <g transform=\"translate(115.149922 242.931484)scale(0.1 -0.1)\">\n       <defs>\n        <path d=\"M 2419 4116 \nL 825 1625 \nL 2419 1625 \nL 2419 4116 \nz\nM 2253 4666 \nL 3047 4666 \nL 3047 1625 \nL 3713 1625 \nL 3713 1100 \nL 3047 1100 \nL 3047 0 \nL 2419 0 \nL 2419 1100 \nL 313 1100 \nL 313 1709 \nL 2253 4666 \nz\n\" id=\"DejaVuSans-34\" transform=\"scale(0.015625)\"/>\n       </defs>\n       <use xlink:href=\"#DejaVuSans-34\"/>\n       <use x=\"63.623047\" xlink:href=\"#DejaVuSans-30\"/>\n       <use x=\"127.246094\" xlink:href=\"#DejaVuSans-30\"/>\n      </g>\n     </g>\n    </g>\n    <g id=\"xtick_4\">\n     <g id=\"line2d_4\">\n      <g>\n       <use style=\"stroke:#000000;stroke-width:0.8;\" x=\"167.162422\" xlink:href=\"#m84fd75a13b\" y=\"228.333047\"/>\n      </g>\n     </g>\n     <g id=\"text_4\">\n      <!-- 600 -->\n      <g transform=\"translate(157.618672 242.931484)scale(0.1 -0.1)\">\n       <defs>\n        <path d=\"M 2113 2584 \nQ 1688 2584 1439 2293 \nQ 1191 2003 1191 1497 \nQ 1191 994 1439 701 \nQ 1688 409 2113 409 \nQ 2538 409 2786 701 \nQ 3034 994 3034 1497 \nQ 3034 2003 2786 2293 \nQ 2538 2584 2113 2584 \nz\nM 3366 4563 \nL 3366 3988 \nQ 3128 4100 2886 4159 \nQ 2644 4219 2406 4219 \nQ 1781 4219 1451 3797 \nQ 1122 3375 1075 2522 \nQ 1259 2794 1537 2939 \nQ 1816 3084 2150 3084 \nQ 2853 3084 3261 2657 \nQ 3669 2231 3669 1497 \nQ 3669 778 3244 343 \nQ 2819 -91 2113 -91 \nQ 1303 -91 875 529 \nQ 447 1150 447 2328 \nQ 447 3434 972 4092 \nQ 1497 4750 2381 4750 \nQ 2619 4750 2861 4703 \nQ 3103 4656 3366 4563 \nz\n\" id=\"DejaVuSans-36\" transform=\"scale(0.015625)\"/>\n       </defs>\n       <use xlink:href=\"#DejaVuSans-36\"/>\n       <use x=\"63.623047\" xlink:href=\"#DejaVuSans-30\"/>\n       <use x=\"127.246094\" xlink:href=\"#DejaVuSans-30\"/>\n      </g>\n     </g>\n    </g>\n    <g id=\"xtick_5\">\n     <g id=\"line2d_5\">\n      <g>\n       <use style=\"stroke:#000000;stroke-width:0.8;\" x=\"209.631172\" xlink:href=\"#m84fd75a13b\" y=\"228.333047\"/>\n      </g>\n     </g>\n     <g id=\"text_5\">\n      <!-- 800 -->\n      <g transform=\"translate(200.087422 242.931484)scale(0.1 -0.1)\">\n       <defs>\n        <path d=\"M 2034 2216 \nQ 1584 2216 1326 1975 \nQ 1069 1734 1069 1313 \nQ 1069 891 1326 650 \nQ 1584 409 2034 409 \nQ 2484 409 2743 651 \nQ 3003 894 3003 1313 \nQ 3003 1734 2745 1975 \nQ 2488 2216 2034 2216 \nz\nM 1403 2484 \nQ 997 2584 770 2862 \nQ 544 3141 544 3541 \nQ 544 4100 942 4425 \nQ 1341 4750 2034 4750 \nQ 2731 4750 3128 4425 \nQ 3525 4100 3525 3541 \nQ 3525 3141 3298 2862 \nQ 3072 2584 2669 2484 \nQ 3125 2378 3379 2068 \nQ 3634 1759 3634 1313 \nQ 3634 634 3220 271 \nQ 2806 -91 2034 -91 \nQ 1263 -91 848 271 \nQ 434 634 434 1313 \nQ 434 1759 690 2068 \nQ 947 2378 1403 2484 \nz\nM 1172 3481 \nQ 1172 3119 1398 2916 \nQ 1625 2713 2034 2713 \nQ 2441 2713 2670 2916 \nQ 2900 3119 2900 3481 \nQ 2900 3844 2670 4047 \nQ 2441 4250 2034 4250 \nQ 1625 4250 1398 4047 \nQ 1172 3844 1172 3481 \nz\n\" id=\"DejaVuSans-38\" transform=\"scale(0.015625)\"/>\n       </defs>\n       <use xlink:href=\"#DejaVuSans-38\"/>\n       <use x=\"63.623047\" xlink:href=\"#DejaVuSans-30\"/>\n       <use x=\"127.246094\" xlink:href=\"#DejaVuSans-30\"/>\n      </g>\n     </g>\n    </g>\n    <g id=\"xtick_6\">\n     <g id=\"line2d_6\">\n      <g>\n       <use style=\"stroke:#000000;stroke-width:0.8;\" x=\"252.099922\" xlink:href=\"#m84fd75a13b\" y=\"228.333047\"/>\n      </g>\n     </g>\n     <g id=\"text_6\">\n      <!-- 1000 -->\n      <g transform=\"translate(239.374922 242.931484)scale(0.1 -0.1)\">\n       <defs>\n        <path d=\"M 794 531 \nL 1825 531 \nL 1825 4091 \nL 703 3866 \nL 703 4441 \nL 1819 4666 \nL 2450 4666 \nL 2450 531 \nL 3481 531 \nL 3481 0 \nL 794 0 \nL 794 531 \nz\n\" id=\"DejaVuSans-31\" transform=\"scale(0.015625)\"/>\n       </defs>\n       <use xlink:href=\"#DejaVuSans-31\"/>\n       <use x=\"63.623047\" xlink:href=\"#DejaVuSans-30\"/>\n       <use x=\"127.246094\" xlink:href=\"#DejaVuSans-30\"/>\n       <use x=\"190.869141\" xlink:href=\"#DejaVuSans-30\"/>\n      </g>\n     </g>\n    </g>\n   </g>\n   <g id=\"matplotlib.axis_2\">\n    <g id=\"ytick_1\">\n     <g id=\"line2d_7\">\n      <defs>\n       <path d=\"M 0 0 \nL -3.5 0 \n\" id=\"m2ecc6df4f3\" style=\"stroke:#000000;stroke-width:0.8;\"/>\n      </defs>\n      <g>\n       <use style=\"stroke:#000000;stroke-width:0.8;\" x=\"39.65\" xlink:href=\"#m2ecc6df4f3\" y=\"10.999219\"/>\n      </g>\n     </g>\n     <g id=\"text_7\">\n      <!-- 0 -->\n      <g transform=\"translate(26.2875 14.798437)scale(0.1 -0.1)\">\n       <use xlink:href=\"#DejaVuSans-30\"/>\n      </g>\n     </g>\n    </g>\n    <g id=\"ytick_2\">\n     <g id=\"line2d_8\">\n      <g>\n       <use style=\"stroke:#000000;stroke-width:0.8;\" x=\"39.65\" xlink:href=\"#m2ecc6df4f3\" y=\"53.467969\"/>\n      </g>\n     </g>\n     <g id=\"text_8\">\n      <!-- 200 -->\n      <g transform=\"translate(13.5625 57.267187)scale(0.1 -0.1)\">\n       <use xlink:href=\"#DejaVuSans-32\"/>\n       <use x=\"63.623047\" xlink:href=\"#DejaVuSans-30\"/>\n       <use x=\"127.246094\" xlink:href=\"#DejaVuSans-30\"/>\n      </g>\n     </g>\n    </g>\n    <g id=\"ytick_3\">\n     <g id=\"line2d_9\">\n      <g>\n       <use style=\"stroke:#000000;stroke-width:0.8;\" x=\"39.65\" xlink:href=\"#m2ecc6df4f3\" y=\"95.936719\"/>\n      </g>\n     </g>\n     <g id=\"text_9\">\n      <!-- 400 -->\n      <g transform=\"translate(13.5625 99.735937)scale(0.1 -0.1)\">\n       <use xlink:href=\"#DejaVuSans-34\"/>\n       <use x=\"63.623047\" xlink:href=\"#DejaVuSans-30\"/>\n       <use x=\"127.246094\" xlink:href=\"#DejaVuSans-30\"/>\n      </g>\n     </g>\n    </g>\n    <g id=\"ytick_4\">\n     <g id=\"line2d_10\">\n      <g>\n       <use style=\"stroke:#000000;stroke-width:0.8;\" x=\"39.65\" xlink:href=\"#m2ecc6df4f3\" y=\"138.405469\"/>\n      </g>\n     </g>\n     <g id=\"text_10\">\n      <!-- 600 -->\n      <g transform=\"translate(13.5625 142.204687)scale(0.1 -0.1)\">\n       <use xlink:href=\"#DejaVuSans-36\"/>\n       <use x=\"63.623047\" xlink:href=\"#DejaVuSans-30\"/>\n       <use x=\"127.246094\" xlink:href=\"#DejaVuSans-30\"/>\n      </g>\n     </g>\n    </g>\n    <g id=\"ytick_5\">\n     <g id=\"line2d_11\">\n      <g>\n       <use style=\"stroke:#000000;stroke-width:0.8;\" x=\"39.65\" xlink:href=\"#m2ecc6df4f3\" y=\"180.874219\"/>\n      </g>\n     </g>\n     <g id=\"text_11\">\n      <!-- 800 -->\n      <g transform=\"translate(13.5625 184.673437)scale(0.1 -0.1)\">\n       <use xlink:href=\"#DejaVuSans-38\"/>\n       <use x=\"63.623047\" xlink:href=\"#DejaVuSans-30\"/>\n       <use x=\"127.246094\" xlink:href=\"#DejaVuSans-30\"/>\n      </g>\n     </g>\n    </g>\n    <g id=\"ytick_6\">\n     <g id=\"line2d_12\">\n      <g>\n       <use style=\"stroke:#000000;stroke-width:0.8;\" x=\"39.65\" xlink:href=\"#m2ecc6df4f3\" y=\"223.342969\"/>\n      </g>\n     </g>\n     <g id=\"text_12\">\n      <!-- 1000 -->\n      <g transform=\"translate(7.2 227.142187)scale(0.1 -0.1)\">\n       <use xlink:href=\"#DejaVuSans-31\"/>\n       <use x=\"63.623047\" xlink:href=\"#DejaVuSans-30\"/>\n       <use x=\"127.246094\" xlink:href=\"#DejaVuSans-30\"/>\n       <use x=\"190.869141\" xlink:href=\"#DejaVuSans-30\"/>\n      </g>\n     </g>\n    </g>\n   </g>\n   <g id=\"patch_3\">\n    <path d=\"M 39.65 228.333047 \nL 39.65 10.893047 \n\" style=\"fill:none;stroke:#000000;stroke-linecap:square;stroke-linejoin:miter;stroke-width:0.8;\"/>\n   </g>\n   <g id=\"patch_4\">\n    <path d=\"M 257.09 228.333047 \nL 257.09 10.893047 \n\" style=\"fill:none;stroke:#000000;stroke-linecap:square;stroke-linejoin:miter;stroke-width:0.8;\"/>\n   </g>\n   <g id=\"patch_5\">\n    <path d=\"M 39.65 228.333047 \nL 257.09 228.333047 \n\" style=\"fill:none;stroke:#000000;stroke-linecap:square;stroke-linejoin:miter;stroke-width:0.8;\"/>\n   </g>\n   <g id=\"patch_6\">\n    <path d=\"M 39.65 10.893047 \nL 257.09 10.893047 \n\" style=\"fill:none;stroke:#000000;stroke-linecap:square;stroke-linejoin:miter;stroke-width:0.8;\"/>\n   </g>\n  </g>\n </g>\n <defs>\n  <clipPath id=\"pe495b9c4f0\">\n   <rect height=\"217.44\" width=\"217.44\" x=\"39.65\" y=\"10.893047\"/>\n  </clipPath>\n </defs>\n</svg>\n",
            "image/png": "[encoded data removed]"
          },
          "metadata": {
            "needs_background": "light"
          }
        }
      ]
    },
    {
      "source": [
        "## Segmentations\n"
      ],
      "cell_type": "markdown",
      "metadata": {}
    },
    {
      "cell_type": "code",
      "metadata": {
        "id": "UJdikltLpmR6"
      },
      "source": [
        "import cv2\n",
        "\n",
        "def rle2mask(rle, orig_dim, resize_dim = None):\n",
        "  height, width = orig_dim\n",
        "  mask = np.zeros(width * height)\n",
        "  array = np.asarray([int(x) for x in rle.split()])\n",
        "  starts = array[0::2]\n",
        "  lengths = array[1::2]\n",
        "  current_position = 0\n",
        "  for index, start in enumerate(starts):\n",
        "    current_position += start\n",
        "    mask[current_position : current_position + lengths[index]] = 1\n",
        "    current_position += lengths[index]\n",
        "  mask = mask.reshape(width, height)\n",
        "  if resize_dim is not None:\n",
        "    mask = cv2.resize(mask, resize_dim, interpolation=cv2.INTER_CUBIC)\n",
        "  return mask\n",
        "\n",
        "def normalize(img):\n",
        "  img = img.permute((1, 2, 0))\n",
        "  return (img - torch.min(img)) / (torch.max(img) - torch.min(img))\n",
        "\n",
        "# plt.imshow(normalize(dp_train[\"img\"][0]))\n",
        "x = dp_train[\"img\"][1]\n",
        "_, ax = plt.subplots(1,1, figsize=(5,5))\n",
        "ax.imshow(x, cmap=\"gray\")\n",
        "mask = rle2mask(dp_train[\"encoded_pixels\"][1], (1024, 1024))\n",
        "mask[mask == 0] = np.nan\n",
        "ax.imshow(mask, alpha=0.6)"
      ],
      "execution_count": null,
      "outputs": []
    }
  ]
}