{
 "cells": [
  {
   "cell_type": "code",
   "execution_count": 1,
   "metadata": {},
   "outputs": [],
   "source": [
    "%load_ext autoreload\n",
    "%autoreload 2"
   ]
  },
  {
   "cell_type": "code",
   "execution_count": 2,
   "metadata": {},
   "outputs": [],
   "source": [
    "import meerkat as mk"
   ]
  },
  {
   "cell_type": "code",
   "execution_count": 3,
   "metadata": {},
   "outputs": [],
   "source": [
    "dp = mk.datasets.get(\"imagenette\")\n",
    "\n"
   ]
  },
  {
   "cell_type": "code",
   "execution_count": 4,
   "metadata": {},
   "outputs": [
    {
     "name": "stdout",
     "output_type": "stream",
     "text": [
      "<meerkat.ops.groupby.DataPanelGroupBy object at 0x13f5faeb0>\n"
     ]
    },
    {
     "data": {
      "text/html": [
       "<table border=\"1\" class=\"dataframe\">\n",
       "  <thead>\n",
       "    <tr style=\"text-align: right;\">\n",
       "      <th></th>\n",
       "      <th>b (NumpyArrayColumn)</th>\n",
       "      <th>c (NumpyArrayColumn)</th>\n",
       "      <th>a (NumpyArrayColumn)</th>\n",
       "    </tr>\n",
       "  </thead>\n",
       "  <tbody>\n",
       "    <tr>\n",
       "      <th>0</th>\n",
       "      <td>2.500000</td>\n",
       "      <td>2.650000</td>\n",
       "      <td>1</td>\n",
       "    </tr>\n",
       "    <tr>\n",
       "      <th>1</th>\n",
       "      <td>3.666667</td>\n",
       "      <td>3.933333</td>\n",
       "      <td>2</td>\n",
       "    </tr>\n",
       "    <tr>\n",
       "      <th>2</th>\n",
       "      <td>6.000000</td>\n",
       "      <td>6.500000</td>\n",
       "      <td>3</td>\n",
       "    </tr>\n",
       "  </tbody>\n",
       "</table>"
      ],
      "text/plain": [
       "DataPanel(nrows: 3, ncols: 3)"
      ]
     },
     "execution_count": 4,
     "metadata": {},
     "output_type": "execute_result"
    }
   ],
   "source": [
    "import meerkat.ops.groupby as gb\n",
    "from meerkat import NumpyArrayColumn\n",
    "import numpy as np\n",
    "from meerkat import DataPanel\n",
    "dp = DataPanel({\n",
    "        'a': NumpyArrayColumn([1, 2, 2, 1, 3, 2, 3]),\n",
    "        'name': NumpyArrayColumn(np.array(['sam', 'liam', 'sam', 'owen', 'liam', 'connor', 'connor'], dtype = str)),\n",
    "        'b': NumpyArrayColumn([1, 2, 3, 4, 5, 6, 7]),\n",
    "        'c': NumpyArrayColumn([1.0, 3.2, 2.1, 4.3, 5.4, 6.5, 7.6])\n",
    "    })\n",
    "\n",
    "df = gb.groupby(dp, by='a')\n",
    "\n",
    "print(df['b'])\n",
    "df[['b', 'c']].mean()"
   ]
  },
  {
   "cell_type": "code",
   "execution_count": 5,
   "metadata": {},
   "outputs": [
    {
     "data": {
      "text/plain": [
       "<meerkat.ops.groupby.DataPanelGroupBy at 0x1062f4520>"
      ]
     },
     "execution_count": 5,
     "metadata": {},
     "output_type": "execute_result"
    }
   ],
   "source": [
    "# Demo\n",
    "# These work.\n",
    "df['a']\n",
    "# print(df['b'].mean())\n",
    "\n",
    "\n",
    "# The following do not because I chose to create a BaseGroupBy class\n",
    "#  that everything inherits from.\n",
    "# 'DataPanel' object has no attribute 'mean'.\n",
    "\n",
    "# print(df[['a']].mean())\n",
    "\n",
    "\n"
   ]
  },
  {
   "cell_type": "code",
   "execution_count": 6,
   "metadata": {},
   "outputs": [],
   "source": [
    "b = np.zeros((7, 4))\n",
    "b[0, 0] = 4\n",
    "b[1, 1] = 3\n",
    "dp = DataPanel({\n",
    "    'a': NumpyArrayColumn([1, 2, 2, 1, 3, 2, 3]),\n",
    "    'name': NumpyArrayColumn(np.array(['a', 'b', 'a', 'c', 'b', 'd', 'd'], dtype = str)),\n",
    "    'b': NumpyArrayColumn(b),\n",
    "    'c': NumpyArrayColumn([1.0, 3.2, 2.1, 4.3, 5.4, 6.5, 7.6])\n",
    "    })\n",
    "\n",
    "df = dp.groupby('a')\n",
    "out = df[\"b\"].mean(axis = 0)"
   ]
  },
  {
   "cell_type": "code",
   "execution_count": 13,
   "metadata": {},
   "outputs": [
    {
     "data": {
      "text/html": [
       "<table border=\"1\" class=\"dataframe\">\n",
       "  <thead>\n",
       "    <tr style=\"text-align: right;\">\n",
       "      <th></th>\n",
       "      <th>b (NumpyArrayColumn)</th>\n",
       "      <th>a (NumpyArrayColumn)</th>\n",
       "    </tr>\n",
       "  </thead>\n",
       "  <tbody>\n",
       "    <tr>\n",
       "      <th>0</th>\n",
       "      <td>[2.0, 0.0, 0.0, 0.0]</td>\n",
       "      <td>1</td>\n",
       "    </tr>\n",
       "    <tr>\n",
       "      <th>1</th>\n",
       "      <td>[0.0, 1.0, 0.0, 0.0]</td>\n",
       "      <td>2</td>\n",
       "    </tr>\n",
       "    <tr>\n",
       "      <th>2</th>\n",
       "      <td>[0.0, 0.0, 0.0, 0.0]</td>\n",
       "      <td>3</td>\n",
       "    </tr>\n",
       "  </tbody>\n",
       "</table>"
      ],
      "text/plain": [
       "DataPanel(nrows: 3, ncols: 2)"
      ]
     },
     "execution_count": 13,
     "metadata": {},
     "output_type": "execute_result"
    }
   ],
   "source": [
    "out"
   ]
  },
  {
   "cell_type": "code",
   "execution_count": 15,
   "metadata": {},
   "outputs": [
    {
     "data": {
      "text/html": [
       "<table border=\"1\" class=\"dataframe\">\n",
       "  <thead>\n",
       "    <tr style=\"text-align: right;\">\n",
       "      <th></th>\n",
       "      <th>(NumpyArrayColumn)</th>\n",
       "    </tr>\n",
       "  </thead>\n",
       "  <tbody>\n",
       "    <tr>\n",
       "      <th>0</th>\n",
       "      <td>[4.0, 0.0, 0.0, 0.0]</td>\n",
       "    </tr>\n",
       "    <tr>\n",
       "      <th>1</th>\n",
       "      <td>[0.0, 3.0, 0.0, 0.0]</td>\n",
       "    </tr>\n",
       "    <tr>\n",
       "      <th>2</th>\n",
       "      <td>[0.0, 0.0, 0.0, 0.0]</td>\n",
       "    </tr>\n",
       "    <tr>\n",
       "      <th>3</th>\n",
       "      <td>[0.0, 0.0, 0.0, 0.0]</td>\n",
       "    </tr>\n",
       "    <tr>\n",
       "      <th>4</th>\n",
       "      <td>[0.0, 0.0, 0.0, 0.0]</td>\n",
       "    </tr>\n",
       "    <tr>\n",
       "      <th>5</th>\n",
       "      <td>[0.0, 0.0, 0.0, 0.0]</td>\n",
       "    </tr>\n",
       "    <tr>\n",
       "      <th>6</th>\n",
       "      <td>[0.0, 0.0, 0.0, 0.0]</td>\n",
       "    </tr>\n",
       "  </tbody>\n",
       "</table>"
      ],
      "text/plain": [
       "NumpyArrayColumn(array([[4., 0... 0., 0., 0.]]))"
      ]
     },
     "execution_count": 15,
     "metadata": {},
     "output_type": "execute_result"
    }
   ],
   "source": [
    "dp[\"b\"]"
   ]
  },
  {
   "cell_type": "code",
   "execution_count": 34,
   "metadata": {},
   "outputs": [
    {
     "data": {
      "text/html": [
       "<table border=\"1\" class=\"dataframe\">\n",
       "  <thead>\n",
       "    <tr style=\"text-align: right;\">\n",
       "      <th></th>\n",
       "      <th>img_path (PandasSeriesColumn)</th>\n",
       "      <th>label (PandasSeriesColumn)</th>\n",
       "      <th>label_id (PandasSeriesColumn)</th>\n",
       "      <th>label_idx (PandasSeriesColumn)</th>\n",
       "      <th>split (PandasSeriesColumn)</th>\n",
       "      <th>img (ImageColumn)</th>\n",
       "    </tr>\n",
       "  </thead>\n",
       "  <tbody>\n",
       "    <tr>\n",
       "      <th>0</th>\n",
       "      <td>train/n02979186/n02979186_9036.JPEG</td>\n",
       "      <td>cassette player</td>\n",
       "      <td>n02979186</td>\n",
       "      <td>482</td>\n",
       "      <td>train</td>\n",
       "      <td><img src=\"data:image/jpeg;base64,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\"></td>\n",
       "    </tr>\n",
       "    <tr>\n",
       "      <th>1</th>\n",
       "      <td>train/n02979186/n02979186_11957.JPEG</td>\n",
       "      <td>cassette player</td>\n",
       "      <td>n02979186</td>\n",
       "      <td>482</td>\n",
       "      <td>train</td>\n",
       "      <td><img src=\"data:image/jpeg;base64,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\"></td>\n",
       "    </tr>\n",
       "    <tr>\n",
       "      <th>2</th>\n",
       "      <td>train/n02979186/n02979186_9715.JPEG</td>\n",
       "      <td>cassette player</td>\n",
       "      <td>n02979186</td>\n",
       "      <td>482</td>\n",
       "      <td>train</td>\n",
       "      <td><img src=\"data:image/jpeg;base64,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\"></td>\n",
       "    </tr>\n",
       "    <tr>\n",
       "      <th>3</th>\n",
       "      <td>train/n02979186/n02979186_21736.JPEG</td>\n",
       "      <td>cassette player</td>\n",
       "      <td>n02979186</td>\n",
       "      <td>482</td>\n",
       "      <td>train</td>\n",
       "      <td><img src=\"data:image/jpeg;base64,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\"></td>\n",
       "    </tr>\n",
       "    <tr>\n",
       "      <th>4</th>\n",
       "      <td>train/n02979186/ILSVRC2012_val_00046953.JPEG</td>\n",
       "      <td>cassette player</td>\n",
       "      <td>n02979186</td>\n",
       "      <td>482</td>\n",
       "      <td>train</td>\n",
       "      <td><img src=\"data:image/jpeg;base64,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\"></td>\n",
       "    </tr>\n",
       "    <tr>\n",
       "      <th>...</th>\n",
       "      <td>...</td>\n",
       "      <td>...</td>\n",
       "      <td>...</td>\n",
       "      <td>...</td>\n",
       "      <td>...</td>\n",
       "      <td>...</td>\n",
       "    </tr>\n",
       "    <tr>\n",
       "      <th>13389</th>\n",
       "      <td>val/n03425413/n03425413_17521.JPEG</td>\n",
       "      <td>gas pump</td>\n",
       "      <td>n03425413</td>\n",
       "      <td>571</td>\n",
       "      <td>valid</td>\n",
       "      <td><img src=\"data:image/jpeg;base64,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\"></td>\n",
       "    </tr>\n",
       "    <tr>\n",
       "      <th>13390</th>\n",
       "      <td>val/n03425413/n03425413_20711.JPEG</td>\n",
       "      <td>gas pump</td>\n",
       "      <td>n03425413</td>\n",
       "      <td>571</td>\n",
       "      <td>valid</td>\n",
       "      <td><img src=\"data:image/jpeg;base64,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\"></td>\n",
       "    </tr>\n",
       "    <tr>\n",
       "      <th>13391</th>\n",
       "      <td>val/n03425413/n03425413_19050.JPEG</td>\n",
       "      <td>gas pump</td>\n",
       "      <td>n03425413</td>\n",
       "      <td>571</td>\n",
       "      <td>valid</td>\n",
       "      <td><img src=\"data:image/jpeg;base64,/9j/4AAQSkZJRgABAQAAAQABAAD/2wBDAAgGBgcGBQgHBwcJCQgKDBQNDAsLDBkSEw8UHRofHh0aHBwgJC4nICIsIxwcKDcpLDAxNDQ0Hyc5PTgyPC4zNDL/2wBDAQkJCQwLDBgNDRgyIRwhMjIyMjIyMjIyMjIyMjIyMjIyMjIyMjIyMjIyMjIyMjIyMjIyMjIyMjIyMjIyMjIyMjL/wAARCABgAIADASIAAhEBAxEB/8QAHwAAAQUBAQEBAQEAAAAAAAAAAAECAwQFBgcICQoL/8QAtRAAAgEDAwIEAwUFBAQAAAF9AQIDAAQRBRIhMUEGE1FhByJxFDKBkaEII0KxwRVS0fAkM2JyggkKFhcYGRolJicoKSo0NTY3ODk6Q0RFRkdISUpTVFVWV1hZWmNkZWZnaGlqc3R1dnd4eXqDhIWGh4iJipKTlJWWl5iZmqKjpKWmp6ipqrKztLW2t7i5usLDxMXGx8jJytLT1NXW19jZ2uHi4+Tl5ufo6erx8vP09fb3+Pn6/8QAHwEAAwEBAQEBAQEBAQAAAAAAAAECAwQFBgcICQoL/8QAtREAAgECBAQDBAcFBAQAAQJ3AAECAxEEBSExBhJBUQdhcRMiMoEIFEKRobHBCSMzUvAVYnLRChYkNOEl8RcYGRomJygpKjU2Nzg5OkNERUZHSElKU1RVVldYWVpjZGVmZ2hpanN0dXZ3eHl6goOEhYaHiImKkpOUlZaXmJmaoqOkpaanqKmqsrO0tba3uLm6wsPExcbHyMnK0tPU1dbX2Nna4uPk5ebn6Onq8vP09fb3+Pn6/9oADAMBAAIRAxEAPwDzpI4n/dMwJxzlqmEyreI0ZeUDkhRkACp/CHhC88Xa6bO1niAH7yWRs4Ve59/pXsWl/BmytFBuL64ZifmCbVHpWKpNq5G+x5TFJuhEgcsW556YPvUa7YpBtQH5hnccA8dM9+K9a1fwD4e0qyc27ozlcSwyznLj2wRj8qvaZ8OvB+oabBcLDIfMBHEzDkdRgntS+r+Y+XS542rJcxjAbeoIVMgAL/kVSEqQhC0uBDHuC4wAVJ4yDya9A1fwt4b0y+lt7AagjRMd3myBl3enrj8a8kv2ePUriMZ/dybfofSm8NKPxdRJp7F+ykmmufMlBMcibgx/u9CR9DirHl28N2r3NwqRhSGjySGbOSR7c/rTLPRdZ1iyWOz0uW4hQbY7hOPK5yVJ79T+ddVoHgu2eAQ6xLJC3KiJcYU+5579qxqOMPidjelh6lR2ijGiks7KEpHIfmBC7AcnjkgfiKc10fspMjkMyqpDcbQa62f4f6OImjstRmW5CEo8hVlDYxg98c1hP4C8QLKViubF0xhd05478jb61leH8xTwtZfZZz1zA9yD5UzAEASIW4ZAcgfzphldCH3MYWBYucMCOAPu9K1Zfhr4od2mNxZB8/djnAAA9Kl0z4d63FeI0nlPFGQMRzqQRwSCM960vHuifq9X+VnL3kc0UhlhJSHb98HgNj/69WbjUXaKBQERZUGXPU8dfbtXSp4U8U2/nI+kGeNmZiEmQby2cknPT2qndeDdbtrfyYNFnMknRWmRse45z3p6Ml0proysZJFjfbKHGxcHHJ+p96y5bt0dzKdwYZyDxnrU02h6ykLi9iuIpUwP3iEfhmq8dpcxSRpJtlRuNrcbacUkZyVtz134RQ2+l65ejAjD2+5mfGQAw7+nNetvrukRpufVLJR6mdf8a8Q8IAS6pPas3M9lPGMdc7CRz9RWzovgXStS0Kyuy0iSSxBmxgjP5VrTneCbFT2Ot8Qv4O1NJGbWrC3uWGfMSZSCe2R/k0zQdd8H+H9PWE69bTzclpOW5PJ28cCuZuvhzZrETFqJhZSMlohz7DPenaf4B05CxOpSXrnbuCbcR8e1W6isXYn8XeJfDOs2k4tblPtoUiORY3+f2Y7cV5guiQWsE+oQybRb5ULKA20EYY7iMd88jivWLjwhpkGlXUghdpRE+3zD0ODg4rgtMgS70e4gM0bi5DZCnoSMEH8aidZyirPZm+Gpxcmn1RzOm+NZdFmdbW6cBsbkLAo3pXa2WvWd0gkuQqeeNx+XIViPcVw8OkWl5p5RdFTzzGcTRM42n1IJIPTpVGaS40/TYUtLqVmiPY4wM+nBPessRRVWzW5vhcU6N4y1R6G8to9/DE15bxRggsWCKXGRwMit9G0WRjtW3xnjYwP+e1eU6Pd3F5qIk1SxOoRrG2EMqqcHv81N1caUL1ZYtEkRNoH2f+IY/i+XGR/hUqlK1m1f0G69Nu8U7erPUtQjje0caesaztnaxLADn688VX0pWNwy3rW8KkdY5Gzu4/2unWvPY7DTJtFmuoIbuCVl/cusjqoOeuM/hj/Gug8ImO68NxNcKJJ4XeJ2blsg+v0IrKspUo8zSfyOjC+zry5E5J+p2lzDDHHK9pcSTOqZQCdhuPp96sPUrnWf7HurjTReC/GIUhV/MOSeTyPQ9qeLaAqW/eL7K55H51TaVo7CF4tQuLd5JGKRxqrtIS3AAI4wMEmsIVOe14pHZOgqKbU29OpzumaB4jlheXX2uI4MERxSSYZjnk4B4H+NTNpEUO4IJQGHdyf51sRC8it83N096rscPKRkY7YA4HvTWe1wfNiPHoSK6ZSTeh4FePv2k9Q8D3V5J4u00vCkVu8pjIbO4hlI+nevRfDM0dp4etraaaKOSANGyM4BXDEcj8K890ZhbarZXCK5EcqPljg8EZr1xtb8MSMZpLZXkbkn7NyT19Oa6IJOFtiadOT+FXMvULvSruMQ3RtrhVO4I0g69MjHfBNRadd6dZM6QWYhyB/qY3Yt168c+1aQ1dL+5YaXaXSKo2kxwLwc+ueO35VaNpqkwaUR3Q54VplU+3TNP2fQ29nb4tCneXc81nJHDpd/M0g2D9ztHPH8RFeFaA0Xh7WteuLqNnkslfIUcY37Sf8AvorXvF94j1W1U7ra0gQTeQcuSwPrjuK+ddZ1GSy8Sa/ZoqN5rTxPvXJZCS2PbkA1cYxWhE4yhZsn0/xXptuoWK3u1csT5hK9ScknBqoxju3WaDaLd2LsAwBAz6Vzks8sFobaSDaWIZXZcMB6A+hqJbqN4tk0WHzxKnH5jvTautDNM7y38O2k+kXmp3Vyba0t49yeafnd842r6/lWdbagNLVhDPO0cgAZcAMvt8vXr6Vz0c128H2dLlzbeYHMStvUY74zn8MV2Fjqkc9kJXsYZTv2jeoDZ6njrjn9aSjYGywmu6IUkitHKhuVjnbke3TGetaHh28s43vYfsqLuYSn5jgk8HBB9h+dY89rbT3JmbTIBCxPyqmM/gOKqJp9vsb7BNNZT9OXZkA9OlRVp88OU2w1b2NRTPRjNbNayFISrhCV/ecfqKqDT9sFrPNfCBIUwV8sZcemetc3bWMF3a/ZrnUrwXUYAmAlyr85BwV6HiurFnYXkSGe6M5wCY2kCIvpkDk1yQoSi0j0KmNhO7s9THvr20tbtYLWNhbkbmkdicMeTgfj0pjyb+mwAnp0yK1NUgs5ImjNzbvdQpkJFGVwmcbTzz2x9K5+xleZ2h+b5SfnZsg1vUpLlv1PJn7zualuszSbxA5Gc5JxivZvC9sG0eMyRxnYzbCV+bIJHJry6JRIrPuC5Hr/ADr1Pw0UuNFgaOQu8R3cHALFeh9RzWlLqac1otFWeTVrTUprTTPs6RxsNkThAhQqOeu7dnP6VPGNfXTbptQvLa3cxr5Ugwu1s/Nk89uAeevSsjxRYedqkcr3drBO0K5jdioOCejYx+dZL6bfPGPtl3GlsnSR5w6/8BAJyfpXpQpUZR5nUS7nDOpXUrKm3fbzG6jJPcJITeS3+4gM4BADA5GB+OK8j8SLp0PjS/lbzpLqSXIIx5YJA/Ovf/C32QwXsFmXZlCkyyjhjyOF7CvCfiOIB8RL97bAhLowwMD7ozj8c1yVFCUm6b0OuTqKmoVVaSLWjND4mVoWs0WMOsf7912sx6CrGp+DbK3ne0u9OihlXH+r4698jrxXN6daE6TqUayK8jxR3CbSfk+b+dd79l1G7Eb6hNulWNULueuPpXBODjL3dieV20OGu/BVvkfZZ2jOeQ53DHtWzoekxiAsiq2R8oPOMcf0rXnt2wyH5uxIPWk8LlJGkgLjAYqGPOfeqhUm4u5UF71pFKSwuVyRexoeoR0+Uj881m3CXTRt5TeXIHAljJ+Un1+ldFqOnyLKpyqMjHcuTjr1qrdRGSMuwJwhBLAAn2P606c2ra7mtSC102MVLiJYZTeCG0kiJ2XYOSp9P9pSe3vWRpfjO2gml+3o7O8md8K/LgAAcE+1aNvax3VrcWfyy+Yrgbl+4f8AOKxLTwdO0ubuREiB52nJb6Vs3FO7MW3Y6WTWrZbFp4IkSW4Usq53yEEluT2GecU3QlaCKS7kRXaUDaQeCOPWgaLZqiqLddicLjoeMetWo4RGoTOwDoB0/CsZVb6Im+pZmv5pm2g7VY8buv1Ner+Br0RaDZytsKSObdmLgbSCccd8ggflXkYPmTqEVt3cnt716P4Mjg/sSeO/Vpo1lJwvzMCwXke/y1dFu5dPV67HY694bTWpY5ftBikjXaPlyCM5rCj8C3QnAe6iEPdlB3flXRaTrNjdA2sN0080SbizJtyP/rcVrl1UZZgo9zWjpQk7s6Y4ivRXIn+BzV1ptvoNpAbRGYtOiykk5kXnOf514T8X4fs/j6fYAEe2iwoHbGP6V9HXLGVpMThI49yuMDByvr7V4L4ztU1nxdaTSyAlLVS5BzwrEDp61TaijnnJyV2YWkw3H2E7oPJ/0AwoW4JfJYHHpW7o9klkLZxLJ5sQ+ZlJxKT13DvSQwXEwVY0BiONoI6/nWhbpNu2Y9vl/lzXG5ybJ1JrxBIAyKcHk5OB+FcybS903U5L+yS4nSRt0sS4IX3A610vly4Jbdg9sYpyJIrHauAMck80k2ndD63K0PiWyu4NswUuOMMdrD2IrC13xBbRwOkIHphGz+ddHd6TpuowHz7aMyZ+9EoDD/gXWs2PwXppkLLbZUj7rOSM+prSLgndIuTk1Y5nw4jSSTTI5ZQcqcfKCfSuigl8o52Bj6Crb6W1smyOLbGnyqFHAFQmzlI+62TwKiV5O5nZkRRXyQNuTnAP8qgdcHliR06VbNtLGvzKwA4z2qN4OcF849qaQMhjmMW0+T5m7nKjpXSaPrUunl3jV9rjDIwxmsAz4kBydo68ZJH0pklw/GHJXGPlHr/+vNWnyou/KdOdeiguIpVtWdkTbtbuRnB6/T8qpX/irU7uVp5rdIwe7E4H4DiuWkuXUGNGII5JXr+H41eW5e6t41K7tpHLH/Paj2mho8RUlrfU0n1rULiFoJbyUwyHc6CQgN27c/r2qWJLVojDaWyJI5UvIByfqe9N0zTkkKSOdxI598DAxWzbW6wXO0JhTyKTlJmau9wjtQ0YypU/pUkNgQ+0EDPcLzV4jAHApe3X6GpsUVngkjQ+VJx6PVYZcBGUoQcH3/GtJ1SQ5J3fXpTBBGAML3zQBRNihbOGI9M1YjjEQ2qDjrz2qxswPlUCk2Z+9zTSEV2TccY69aiMaFdpXp0wKkklCNtAJ46ims+RgZqkgM2+t38vJJZAfugetZMlrOpwhLj1Pf2roZAWXBGR3yKh8hgowxBHbFOxLP/Z\"></td>\n",
       "    </tr>\n",
       "    <tr>\n",
       "      <th>13392</th>\n",
       "      <td>val/n03425413/n03425413_13831.JPEG</td>\n",
       "      <td>gas pump</td>\n",
       "      <td>n03425413</td>\n",
       "      <td>571</td>\n",
       "      <td>valid</td>\n",
       "      <td><img src=\"data:image/jpeg;base64,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\"></td>\n",
       "    </tr>\n",
       "    <tr>\n",
       "      <th>13393</th>\n",
       "      <td>val/n03425413/n03425413_1242.JPEG</td>\n",
       "      <td>gas pump</td>\n",
       "      <td>n03425413</td>\n",
       "      <td>571</td>\n",
       "      <td>valid</td>\n",
       "      <td><img src=\"data:image/jpeg;base64,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\"></td>\n",
       "    </tr>\n",
       "  </tbody>\n",
       "</table>"
      ],
      "text/plain": [
       "DataPanel(nrows: 13394, ncols: 6)"
      ]
     },
     "execution_count": 34,
     "metadata": {},
     "output_type": "execute_result"
    }
   ],
   "source": [
    "dp = mk.datasets.get(\"imagenette\")\n",
    "dp"
   ]
  },
  {
   "cell_type": "code",
   "execution_count": 37,
   "metadata": {},
   "outputs": [
    {
     "data": {
      "application/vnd.jupyter.widget-view+json": {
       "model_id": "5062cfa5c57844caa29c6daf944d060b",
       "version_major": 2,
       "version_minor": 0
      },
      "text/plain": [
       "  0%|          | 0/13394 [00:00<?, ?it/s]"
      ]
     },
     "metadata": {},
     "output_type": "display_data"
    }
   ],
   "source": [
    "dp[\"mean_color\"] = dp[\"img\"].map(lambda x: np.array(x).mean(axis=(0,1)), pbar=True)"
   ]
  },
  {
   "cell_type": "code",
   "execution_count": 33,
   "metadata": {},
   "outputs": [
    {
     "data": {
      "text/html": [
       "<table border=\"1\" class=\"dataframe\">\n",
       "  <thead>\n",
       "    <tr style=\"text-align: right;\">\n",
       "      <th></th>\n",
       "      <th>mean_color (NumpyArrayColumn)</th>\n",
       "      <th>label (PandasSeriesColumn)</th>\n",
       "    </tr>\n",
       "  </thead>\n",
       "  <tbody>\n",
       "    <tr>\n",
       "      <th>0</th>\n",
       "      <td>[131.61022876039007, 127.38068634727605, 123.95438218571711]</td>\n",
       "      <td>cassette player</td>\n",
       "    </tr>\n",
       "    <tr>\n",
       "      <th>1</th>\n",
       "      <td>[129.71891376015418, 122.80859050057, 111.82975066937232]</td>\n",
       "      <td>chainsaw</td>\n",
       "    </tr>\n",
       "    <tr>\n",
       "      <th>2</th>\n",
       "      <td>[107.21309641657878, 105.50154764217454, 102.71316206238356]</td>\n",
       "      <td>church</td>\n",
       "    </tr>\n",
       "    <tr>\n",
       "      <th>3</th>\n",
       "      <td>[114.43275680503707, 111.6762508392646, 98.4922892545524]</td>\n",
       "      <td>english springer spaniel</td>\n",
       "    </tr>\n",
       "    <tr>\n",
       "      <th>4</th>\n",
       "      <td>[110.1711863646949, 98.11608757644655, 86.08412476020979]</td>\n",
       "      <td>french horn</td>\n",
       "    </tr>\n",
       "    <tr>\n",
       "      <th>5</th>\n",
       "      <td>[116.96131897875614, 120.82481196140681, 118.42910708421972]</td>\n",
       "      <td>garbage truck</td>\n",
       "    </tr>\n",
       "    <tr>\n",
       "      <th>6</th>\n",
       "      <td>[117.53785503539153, 110.02785255213281, 104.58773551195688]</td>\n",
       "      <td>gas pump</td>\n",
       "    </tr>\n",
       "    <tr>\n",
       "      <th>7</th>\n",
       "      <td>[114.06176493661128, 118.08734345103629, 98.8501908999849]</td>\n",
       "      <td>golf ball</td>\n",
       "    </tr>\n",
       "    <tr>\n",
       "      <th>8</th>\n",
       "      <td>[129.0015606809407, 142.70545074610195, 157.73612403202506]</td>\n",
       "      <td>parachute</td>\n",
       "    </tr>\n",
       "    <tr>\n",
       "      <th>9</th>\n",
       "      <td>[107.66470397243765, 108.86106519823764, 91.68001633913659]</td>\n",
       "      <td>tench</td>\n",
       "    </tr>\n",
       "  </tbody>\n",
       "</table>"
      ],
      "text/plain": [
       "DataPanel(nrows: 10, ncols: 2)"
      ]
     },
     "execution_count": 33,
     "metadata": {},
     "output_type": "execute_result"
    }
   ],
   "source": [
    "dp.groupby(\"label\")[\"mean_color\"].mean(axis=0)"
   ]
  },
  {
   "cell_type": "code",
   "execution_count": 39,
   "metadata": {},
   "outputs": [],
   "source": [
    "dp[\"blue\"] = dp[\"mean_color\"][:, -1]\n",
    "dp[\"is_blue\"] = dp[\"blue\"] > 100"
   ]
  },
  {
   "cell_type": "code",
   "execution_count": 40,
   "metadata": {},
   "outputs": [
    {
     "data": {
      "text/html": [
       "<table border=\"1\" class=\"dataframe\">\n",
       "  <thead>\n",
       "    <tr style=\"text-align: right;\">\n",
       "      <th></th>\n",
       "      <th>mean_color (NumpyArrayColumn)</th>\n",
       "      <th>label (PandasSeriesColumn)</th>\n",
       "      <th>is_blue (NumpyArrayColumn)</th>\n",
       "    </tr>\n",
       "  </thead>\n",
       "  <tbody>\n",
       "    <tr>\n",
       "      <th>0</th>\n",
       "      <td>[89.99496416055352, 79.46935393022434, 70.63840495715104]</td>\n",
       "      <td>cassette player</td>\n",
       "      <td>False</td>\n",
       "    </tr>\n",
       "    <tr>\n",
       "      <th>1</th>\n",
       "      <td>[152.4872969856693, 151.4162935998795, 150.70132960516443]</td>\n",
       "      <td>cassette player</td>\n",
       "      <td>True</td>\n",
       "    </tr>\n",
       "    <tr>\n",
       "      <th>2</th>\n",
       "      <td>[102.17701137034851, 93.23888500925877, 75.82561860066808]</td>\n",
       "      <td>chainsaw</td>\n",
       "      <td>False</td>\n",
       "    </tr>\n",
       "    <tr>\n",
       "      <th>3</th>\n",
       "      <td>[152.12180229296996, 146.86091654160734, 141.11591057365337]</td>\n",
       "      <td>chainsaw</td>\n",
       "      <td>True</td>\n",
       "    </tr>\n",
       "    <tr>\n",
       "      <th>4</th>\n",
       "      <td>[91.78829211829422, 78.87041330502656, 64.87650299117514]</td>\n",
       "      <td>church</td>\n",
       "      <td>False</td>\n",
       "    </tr>\n",
       "    <tr>\n",
       "      <th>...</th>\n",
       "      <td>...</td>\n",
       "      <td>...</td>\n",
       "      <td>...</td>\n",
       "    </tr>\n",
       "    <tr>\n",
       "      <th>15</th>\n",
       "      <td>[141.79272175687373, 147.09965182688038, 141.52797084926888]</td>\n",
       "      <td>golf ball</td>\n",
       "      <td>True</td>\n",
       "    </tr>\n",
       "    <tr>\n",
       "      <th>16</th>\n",
       "      <td>[108.76167700716873, 99.60890594256333, 78.93274564536317]</td>\n",
       "      <td>parachute</td>\n",
       "      <td>False</td>\n",
       "    </tr>\n",
       "    <tr>\n",
       "      <th>17</th>\n",
       "      <td>[131.2134789460283, 147.41526213383452, 166.34816127559617]</td>\n",
       "      <td>parachute</td>\n",
       "      <td>True</td>\n",
       "    </tr>\n",
       "    <tr>\n",
       "      <th>18</th>\n",
       "      <td>[93.79695377045967, 94.28418674729966, 73.08247421357721]</td>\n",
       "      <td>tench</td>\n",
       "      <td>False</td>\n",
       "    </tr>\n",
       "    <tr>\n",
       "      <th>19</th>\n",
       "      <td>[129.73066350687157, 132.05536891383787, 121.27188279228277]</td>\n",
       "      <td>tench</td>\n",
       "      <td>True</td>\n",
       "    </tr>\n",
       "  </tbody>\n",
       "</table>"
      ],
      "text/plain": [
       "DataPanel(nrows: 20, ncols: 3)"
      ]
     },
     "execution_count": 40,
     "metadata": {},
     "output_type": "execute_result"
    }
   ],
   "source": [
    "dp.groupby([\"label\", \"is_blue\"])[\"mean_color\"].mean(axis=0)"
   ]
  },
  {
   "cell_type": "code",
   "execution_count": 42,
   "metadata": {},
   "outputs": [],
   "source": [
    "gb = dp.groupby([\"label\", \"is_blue\"])"
   ]
  },
  {
   "cell_type": "code",
   "execution_count": 43,
   "metadata": {},
   "outputs": [
    {
     "data": {
      "text/plain": [
       "<meerkat.ops.groupby.DataPanelGroupBy at 0x13f6d5310>"
      ]
     },
     "execution_count": 43,
     "metadata": {},
     "output_type": "execute_result"
    }
   ],
   "source": [
    "gb"
   ]
  },
  {
   "cell_type": "code",
   "execution_count": null,
   "metadata": {},
   "outputs": [],
   "source": []
  }
 ],
 "metadata": {
  "interpreter": {
   "hash": "96dff6f5004106d02e498591bec065b0f2cd6ad02b2a1a76f1b2f4046570fc42"
  },
  "kernelspec": {
   "display_name": "Python 3.8.11 ('meerkat')",
   "language": "python",
   "name": "python3"
  },
  "language_info": {
   "codemirror_mode": {
    "name": "ipython",
    "version": 3
   },
   "file_extension": ".py",
   "mimetype": "text/x-python",
   "name": "python",
   "nbconvert_exporter": "python",
   "pygments_lexer": "ipython3",
   "version": "3.8.11"
  },
  "orig_nbformat": 4
 },
 "nbformat": 4,
 "nbformat_minor": 2
}
