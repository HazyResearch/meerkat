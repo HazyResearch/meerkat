{
 "cells": [
  {
   "cell_type": "code",
   "execution_count": 1,
   "metadata": {},
   "outputs": [],
   "source": [
    "%load_ext autoreload\n",
    "%autoreload 2"
   ]
  },
  {
   "cell_type": "code",
   "execution_count": 2,
   "metadata": {},
   "outputs": [],
   "source": [
    "import meerkat as mk"
   ]
  },
  {
   "cell_type": "code",
   "execution_count": 3,
   "metadata": {},
   "outputs": [],
   "source": [
    "dp = mk.datasets.get(\"imagenette\")\n",
    "\n"
   ]
  },
  {
   "cell_type": "code",
   "execution_count": 4,
   "metadata": {},
   "outputs": [
    {
     "name": "stdout",
     "output_type": "stream",
     "text": [
      "<class 'meerkat.columns.numpy_column.NumpyArrayColumn'>\n",
      "<meerkat.mixins.groupbyable.NumPyArrayGroupBy object at 0x7fa7fc4858b0>\n"
     ]
    },
    {
     "ename": "AttributeError",
     "evalue": "'DataPanel' object has no attribute 'to_group_by'",
     "output_type": "error",
     "traceback": [
      "\u001b[0;31m---------------------------------------------------------------------------\u001b[0m",
      "\u001b[0;31mAttributeError\u001b[0m                            Traceback (most recent call last)",
      "\u001b[1;32m/Users/samrandall/Development/meerkat/examples/04-21_groupby.ipynb Cell 4'\u001b[0m in \u001b[0;36m<cell line: 15>\u001b[0;34m()\u001b[0m\n\u001b[1;32m     <a href='vscode-notebook-cell:/Users/samrandall/Development/meerkat/examples/04-21_groupby.ipynb#ch0000003?line=11'>12</a>\u001b[0m df \u001b[39m=\u001b[39m gb\u001b[39m.\u001b[39mgroupby(dp, by\u001b[39m=\u001b[39m\u001b[39m'\u001b[39m\u001b[39ma\u001b[39m\u001b[39m'\u001b[39m)\n\u001b[1;32m     <a href='vscode-notebook-cell:/Users/samrandall/Development/meerkat/examples/04-21_groupby.ipynb#ch0000003?line=13'>14</a>\u001b[0m \u001b[39mprint\u001b[39m(df[\u001b[39m'\u001b[39m\u001b[39mb\u001b[39m\u001b[39m'\u001b[39m])\n\u001b[0;32m---> <a href='vscode-notebook-cell:/Users/samrandall/Development/meerkat/examples/04-21_groupby.ipynb#ch0000003?line=14'>15</a>\u001b[0m df[[\u001b[39m'\u001b[39;49m\u001b[39mb\u001b[39;49m\u001b[39m'\u001b[39;49m, \u001b[39m'\u001b[39;49m\u001b[39mc\u001b[39;49m\u001b[39m'\u001b[39;49m]]\u001b[39m.\u001b[39mmean()\n",
      "File \u001b[0;32m~/Development/meerkat/meerkat/ops/groupby.py:151\u001b[0m, in \u001b[0;36mDataPanelGroupBy.__getitem__\u001b[0;34m(self, key)\u001b[0m\n\u001b[1;32m    <a href='file:///Users/samrandall/Development/meerkat/meerkat/ops/groupby.py?line=148'>149</a>\u001b[0m     \u001b[39mreturn\u001b[39;00m column\u001b[39m.\u001b[39mto_group_by(indices, column, \u001b[39mself\u001b[39m\u001b[39m.\u001b[39mby, [key]) \u001b[39m# needs to be implemented else where. \u001b[39;00m\n\u001b[1;32m    <a href='file:///Users/samrandall/Development/meerkat/meerkat/ops/groupby.py?line=149'>150</a>\u001b[0m \u001b[39melse\u001b[39;00m:\n\u001b[0;32m--> <a href='file:///Users/samrandall/Development/meerkat/meerkat/ops/groupby.py?line=150'>151</a>\u001b[0m     \u001b[39mreturn\u001b[39;00m \u001b[39mself\u001b[39;49m\u001b[39m.\u001b[39;49mdata[key]\u001b[39m.\u001b[39;49mto_group_by(indices,  \u001b[39mself\u001b[39m\u001b[39m.\u001b[39mdata, \u001b[39mself\u001b[39m\u001b[39m.\u001b[39mby, key)\n",
      "\u001b[0;31mAttributeError\u001b[0m: 'DataPanel' object has no attribute 'to_group_by'"
     ]
    }
   ],
   "source": [
    "import meerkat.ops.groupby as gb\n",
    "from meerkat import NumpyArrayColumn\n",
    "import numpy as np\n",
    "from meerkat import DataPanel\n",
    "dp = DataPanel({\n",
    "        'a': NumpyArrayColumn([1, 2, 2, 1, 3, 2, 3]),\n",
    "        'name': NumpyArrayColumn(np.array(['sam', 'liam', 'sam', 'owen', 'liam', 'connor', 'connor'], dtype = str)),\n",
    "        'b': NumpyArrayColumn([1, 2, 3, 4, 5, 6, 7]),\n",
    "        'c': NumpyArrayColumn([1.0, 3.2, 2.1, 4.3, 5.4, 6.5, 7.6])\n",
    "    })\n",
    "\n",
    "df = gb.groupby(dp, by='a')\n",
    "\n",
    "print(df['b'])\n",
    "df[['b', 'c']].mean()"
   ]
  },
  {
   "cell_type": "code",
   "execution_count": null,
   "metadata": {},
   "outputs": [
    {
     "name": "stdout",
     "output_type": "stream",
     "text": [
      "<class 'meerkat.columns.numpy_column.NumpyArrayColumn'>\n"
     ]
    },
    {
     "data": {
      "text/plain": [
       "<meerkat.mixins.groupbyable.NumPyArrayGroupBy at 0x7fd41cb8aa30>"
      ]
     },
     "execution_count": 5,
     "metadata": {},
     "output_type": "execute_result"
    }
   ],
   "source": [
    "# Demo\n",
    "# These work.\n",
    "df['a']\n",
    "# print(df['b'].mean())\n",
    "\n",
    "\n",
    "# The following do not because I chose to create a BaseGroupBy class\n",
    "#  that everything inherits from.\n",
    "# 'DataPanel' object has no attribute 'mean'.\n",
    "\n",
    "# print(df[['a']].mean())\n",
    "\n",
    "\n"
   ]
  },
  {
   "cell_type": "code",
   "execution_count": null,
   "metadata": {},
   "outputs": [],
   "source": []
  }
 ],
 "metadata": {
  "interpreter": {
   "hash": "15b77fa870c962e5b450d970ef4118d2d704c3b8fb5c64bf8129f5d95a9565b4"
  },
  "kernelspec": {
   "display_name": "Python 3.8.11 ('meerkat')",
   "language": "python",
   "name": "python3"
  },
  "language_info": {
   "codemirror_mode": {
    "name": "ipython",
    "version": 3
   },
   "file_extension": ".py",
   "mimetype": "text/x-python",
   "name": "python",
   "nbconvert_exporter": "python",
   "pygments_lexer": "ipython3",
   "version": "3.8.11"
  },
  "orig_nbformat": 4
 },
 "nbformat": 4,
 "nbformat_minor": 2
}
