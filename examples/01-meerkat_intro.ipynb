{
  "nbformat": 4,
  "nbformat_minor": 0,
  "metadata": {
    "kernelspec": {
      "name": "python385jvsc74a57bd06d7bd4c6039f156d838f2caf01fbd8d7d51ef546e5fb1f60e559c6bdf3c7cc94",
      "display_name": "Python"
    },
    "language_info": {
      "codemirror_mode": {
        "name": "ipython",
        "version": 3
      },
      "file_extension": ".py",
      "mimetype": "text/x-python",
      "name": "python",
      "nbconvert_exporter": "python",
      "pygments_lexer": "ipython3",
      "version": "3.8.5"
    },
    "metadata": {
      "interpreter": {
        "hash": "6d7bd4c6039f156d838f2caf01fbd8d7d51ef546e5fb1f60e559c6bdf3c7cc94"
      }
    },
    "colab": {
      "name": "01_meerkat_intro.ipynb",
      "provenance": [],
      "collapsed_sections": [
        "9NrvqZXNBFvx"
      ]
    },
    "accelerator": "GPU",
    "widgets": {
      "application/vnd.jupyter.widget-state+json": {
        "d297d6f8aef54a0689ee1d5f2544deed": {
          "model_module": "@jupyter-widgets/controls",
          "model_name": "HBoxModel",
          "state": {
            "_view_name": "HBoxView",
            "_dom_classes": [],
            "_model_name": "HBoxModel",
            "_view_module": "@jupyter-widgets/controls",
            "_model_module_version": "1.5.0",
            "_view_count": null,
            "_view_module_version": "1.5.0",
            "box_style": "",
            "layout": "IPY_MODEL_4be99d47e58b44f894635df02ef2e854",
            "_model_module": "@jupyter-widgets/controls",
            "children": [
              "IPY_MODEL_dfa95ea4650743fd9e5c52094f80dbdc",
              "IPY_MODEL_3d022c3b8b9040e9a5ecb0d91df46736",
              "IPY_MODEL_6cfe446e39aa414e83f6d1ab779bca3e"
            ]
          }
        },
        "4be99d47e58b44f894635df02ef2e854": {
          "model_module": "@jupyter-widgets/base",
          "model_name": "LayoutModel",
          "state": {
            "_view_name": "LayoutView",
            "grid_template_rows": null,
            "right": null,
            "justify_content": null,
            "_view_module": "@jupyter-widgets/base",
            "overflow": null,
            "_model_module_version": "1.2.0",
            "_view_count": null,
            "flex_flow": null,
            "width": null,
            "min_width": null,
            "border": null,
            "align_items": null,
            "bottom": null,
            "_model_module": "@jupyter-widgets/base",
            "top": null,
            "grid_column": null,
            "overflow_y": null,
            "overflow_x": null,
            "grid_auto_flow": null,
            "grid_area": null,
            "grid_template_columns": null,
            "flex": null,
            "_model_name": "LayoutModel",
            "justify_items": null,
            "grid_row": null,
            "max_height": null,
            "align_content": null,
            "visibility": null,
            "align_self": null,
            "height": null,
            "min_height": null,
            "padding": null,
            "grid_auto_rows": null,
            "grid_gap": null,
            "max_width": null,
            "order": null,
            "_view_module_version": "1.2.0",
            "grid_template_areas": null,
            "object_position": null,
            "object_fit": null,
            "grid_auto_columns": null,
            "margin": null,
            "display": null,
            "left": null
          }
        },
        "dfa95ea4650743fd9e5c52094f80dbdc": {
          "model_module": "@jupyter-widgets/controls",
          "model_name": "HTMLModel",
          "state": {
            "_view_name": "HTMLView",
            "style": "IPY_MODEL_13d65bb3cbb74568a08fd6e97ce5c7c3",
            "_dom_classes": [],
            "description": "",
            "_model_name": "HTMLModel",
            "placeholder": "​",
            "_view_module": "@jupyter-widgets/controls",
            "_model_module_version": "1.5.0",
            "value": "",
            "_view_count": null,
            "_view_module_version": "1.5.0",
            "description_tooltip": null,
            "_model_module": "@jupyter-widgets/controls",
            "layout": "IPY_MODEL_e66eb082f6cb424aa9398973c7661f6c"
          }
        },
        "3d022c3b8b9040e9a5ecb0d91df46736": {
          "model_module": "@jupyter-widgets/controls",
          "model_name": "FloatProgressModel",
          "state": {
            "_view_name": "ProgressView",
            "style": "IPY_MODEL_3ba6e70c75a644b98792740b6a339430",
            "_dom_classes": [],
            "description": "",
            "_model_name": "FloatProgressModel",
            "bar_style": "success",
            "max": 99003388,
            "_view_module": "@jupyter-widgets/controls",
            "_model_module_version": "1.5.0",
            "value": 99003388,
            "_view_count": null,
            "_view_module_version": "1.5.0",
            "orientation": "horizontal",
            "min": 0,
            "description_tooltip": null,
            "_model_module": "@jupyter-widgets/controls",
            "layout": "IPY_MODEL_a54e97f56646442f8a6dfa14aaba61c0"
          }
        },
        "6cfe446e39aa414e83f6d1ab779bca3e": {
          "model_module": "@jupyter-widgets/controls",
          "model_name": "HTMLModel",
          "state": {
            "_view_name": "HTMLView",
            "style": "IPY_MODEL_630ff0cce8e94045bb68b61d323c5d4f",
            "_dom_classes": [],
            "description": "",
            "_model_name": "HTMLModel",
            "placeholder": "​",
            "_view_module": "@jupyter-widgets/controls",
            "_model_module_version": "1.5.0",
            "value": " 99003392/? [00:02&lt;00:00, 41112590.51it/s]",
            "_view_count": null,
            "_view_module_version": "1.5.0",
            "description_tooltip": null,
            "_model_module": "@jupyter-widgets/controls",
            "layout": "IPY_MODEL_d8b00e6224e8470abf5ac8b20c293f08"
          }
        },
        "13d65bb3cbb74568a08fd6e97ce5c7c3": {
          "model_module": "@jupyter-widgets/controls",
          "model_name": "DescriptionStyleModel",
          "state": {
            "_view_name": "StyleView",
            "_model_name": "DescriptionStyleModel",
            "description_width": "",
            "_view_module": "@jupyter-widgets/base",
            "_model_module_version": "1.5.0",
            "_view_count": null,
            "_view_module_version": "1.2.0",
            "_model_module": "@jupyter-widgets/controls"
          }
        },
        "e66eb082f6cb424aa9398973c7661f6c": {
          "model_module": "@jupyter-widgets/base",
          "model_name": "LayoutModel",
          "state": {
            "_view_name": "LayoutView",
            "grid_template_rows": null,
            "right": null,
            "justify_content": null,
            "_view_module": "@jupyter-widgets/base",
            "overflow": null,
            "_model_module_version": "1.2.0",
            "_view_count": null,
            "flex_flow": null,
            "width": null,
            "min_width": null,
            "border": null,
            "align_items": null,
            "bottom": null,
            "_model_module": "@jupyter-widgets/base",
            "top": null,
            "grid_column": null,
            "overflow_y": null,
            "overflow_x": null,
            "grid_auto_flow": null,
            "grid_area": null,
            "grid_template_columns": null,
            "flex": null,
            "_model_name": "LayoutModel",
            "justify_items": null,
            "grid_row": null,
            "max_height": null,
            "align_content": null,
            "visibility": null,
            "align_self": null,
            "height": null,
            "min_height": null,
            "padding": null,
            "grid_auto_rows": null,
            "grid_gap": null,
            "max_width": null,
            "order": null,
            "_view_module_version": "1.2.0",
            "grid_template_areas": null,
            "object_position": null,
            "object_fit": null,
            "grid_auto_columns": null,
            "margin": null,
            "display": null,
            "left": null
          }
        },
        "3ba6e70c75a644b98792740b6a339430": {
          "model_module": "@jupyter-widgets/controls",
          "model_name": "ProgressStyleModel",
          "state": {
            "_view_name": "StyleView",
            "_model_name": "ProgressStyleModel",
            "description_width": "",
            "_view_module": "@jupyter-widgets/base",
            "_model_module_version": "1.5.0",
            "_view_count": null,
            "_view_module_version": "1.2.0",
            "bar_color": null,
            "_model_module": "@jupyter-widgets/controls"
          }
        },
        "a54e97f56646442f8a6dfa14aaba61c0": {
          "model_module": "@jupyter-widgets/base",
          "model_name": "LayoutModel",
          "state": {
            "_view_name": "LayoutView",
            "grid_template_rows": null,
            "right": null,
            "justify_content": null,
            "_view_module": "@jupyter-widgets/base",
            "overflow": null,
            "_model_module_version": "1.2.0",
            "_view_count": null,
            "flex_flow": null,
            "width": null,
            "min_width": null,
            "border": null,
            "align_items": null,
            "bottom": null,
            "_model_module": "@jupyter-widgets/base",
            "top": null,
            "grid_column": null,
            "overflow_y": null,
            "overflow_x": null,
            "grid_auto_flow": null,
            "grid_area": null,
            "grid_template_columns": null,
            "flex": null,
            "_model_name": "LayoutModel",
            "justify_items": null,
            "grid_row": null,
            "max_height": null,
            "align_content": null,
            "visibility": null,
            "align_self": null,
            "height": null,
            "min_height": null,
            "padding": null,
            "grid_auto_rows": null,
            "grid_gap": null,
            "max_width": null,
            "order": null,
            "_view_module_version": "1.2.0",
            "grid_template_areas": null,
            "object_position": null,
            "object_fit": null,
            "grid_auto_columns": null,
            "margin": null,
            "display": null,
            "left": null
          }
        },
        "630ff0cce8e94045bb68b61d323c5d4f": {
          "model_module": "@jupyter-widgets/controls",
          "model_name": "DescriptionStyleModel",
          "state": {
            "_view_name": "StyleView",
            "_model_name": "DescriptionStyleModel",
            "description_width": "",
            "_view_module": "@jupyter-widgets/base",
            "_model_module_version": "1.5.0",
            "_view_count": null,
            "_view_module_version": "1.2.0",
            "_model_module": "@jupyter-widgets/controls"
          }
        },
        "d8b00e6224e8470abf5ac8b20c293f08": {
          "model_module": "@jupyter-widgets/base",
          "model_name": "LayoutModel",
          "state": {
            "_view_name": "LayoutView",
            "grid_template_rows": null,
            "right": null,
            "justify_content": null,
            "_view_module": "@jupyter-widgets/base",
            "overflow": null,
            "_model_module_version": "1.2.0",
            "_view_count": null,
            "flex_flow": null,
            "width": null,
            "min_width": null,
            "border": null,
            "align_items": null,
            "bottom": null,
            "_model_module": "@jupyter-widgets/base",
            "top": null,
            "grid_column": null,
            "overflow_y": null,
            "overflow_x": null,
            "grid_auto_flow": null,
            "grid_area": null,
            "grid_template_columns": null,
            "flex": null,
            "_model_name": "LayoutModel",
            "justify_items": null,
            "grid_row": null,
            "max_height": null,
            "align_content": null,
            "visibility": null,
            "align_self": null,
            "height": null,
            "min_height": null,
            "padding": null,
            "grid_auto_rows": null,
            "grid_gap": null,
            "max_width": null,
            "order": null,
            "_view_module_version": "1.2.0",
            "grid_template_areas": null,
            "object_position": null,
            "object_fit": null,
            "grid_auto_columns": null,
            "margin": null,
            "display": null,
            "left": null
          }
        },
        "c71a032df9964770973006e2e9dfe69b": {
          "model_module": "@jupyter-widgets/controls",
          "model_name": "HBoxModel",
          "state": {
            "_view_name": "HBoxView",
            "_dom_classes": [],
            "_model_name": "HBoxModel",
            "_view_module": "@jupyter-widgets/controls",
            "_model_module_version": "1.5.0",
            "_view_count": null,
            "_view_module_version": "1.5.0",
            "box_style": "",
            "layout": "IPY_MODEL_ee06dceab96b4396b10aec0c8f6d1880",
            "_model_module": "@jupyter-widgets/controls",
            "children": [
              "IPY_MODEL_b30961e907a54f1a8f432440800784c0",
              "IPY_MODEL_40d288ec9305413ba933374953b9f110",
              "IPY_MODEL_664c4a50259241198b771b00fd37db91"
            ]
          }
        },
        "ee06dceab96b4396b10aec0c8f6d1880": {
          "model_module": "@jupyter-widgets/base",
          "model_name": "LayoutModel",
          "state": {
            "_view_name": "LayoutView",
            "grid_template_rows": null,
            "right": null,
            "justify_content": null,
            "_view_module": "@jupyter-widgets/base",
            "overflow": null,
            "_model_module_version": "1.2.0",
            "_view_count": null,
            "flex_flow": null,
            "width": null,
            "min_width": null,
            "border": null,
            "align_items": null,
            "bottom": null,
            "_model_module": "@jupyter-widgets/base",
            "top": null,
            "grid_column": null,
            "overflow_y": null,
            "overflow_x": null,
            "grid_auto_flow": null,
            "grid_area": null,
            "grid_template_columns": null,
            "flex": null,
            "_model_name": "LayoutModel",
            "justify_items": null,
            "grid_row": null,
            "max_height": null,
            "align_content": null,
            "visibility": null,
            "align_self": null,
            "height": null,
            "min_height": null,
            "padding": null,
            "grid_auto_rows": null,
            "grid_gap": null,
            "max_width": null,
            "order": null,
            "_view_module_version": "1.2.0",
            "grid_template_areas": null,
            "object_position": null,
            "object_fit": null,
            "grid_auto_columns": null,
            "margin": null,
            "display": null,
            "left": null
          }
        },
        "b30961e907a54f1a8f432440800784c0": {
          "model_module": "@jupyter-widgets/controls",
          "model_name": "HTMLModel",
          "state": {
            "_view_name": "HTMLView",
            "style": "IPY_MODEL_14f539ef54bd4e2ea8233198550cc68a",
            "_dom_classes": [],
            "description": "",
            "_model_name": "HTMLModel",
            "placeholder": "​",
            "_view_module": "@jupyter-widgets/controls",
            "_model_module_version": "1.5.0",
            "value": "100%",
            "_view_count": null,
            "_view_module_version": "1.5.0",
            "description_tooltip": null,
            "_model_module": "@jupyter-widgets/controls",
            "layout": "IPY_MODEL_3048de3634504cc98061f5634bdd67bf"
          }
        },
        "40d288ec9305413ba933374953b9f110": {
          "model_module": "@jupyter-widgets/controls",
          "model_name": "FloatProgressModel",
          "state": {
            "_view_name": "ProgressView",
            "style": "IPY_MODEL_287343a41ea44b1e8c74f5c2d5c3d759",
            "_dom_classes": [],
            "description": "",
            "_model_name": "FloatProgressModel",
            "bar_style": "success",
            "max": 3925,
            "_view_module": "@jupyter-widgets/controls",
            "_model_module_version": "1.5.0",
            "value": 3925,
            "_view_count": null,
            "_view_module_version": "1.5.0",
            "orientation": "horizontal",
            "min": 0,
            "description_tooltip": null,
            "_model_module": "@jupyter-widgets/controls",
            "layout": "IPY_MODEL_10b27e05597444758b912b848daafee2"
          }
        },
        "664c4a50259241198b771b00fd37db91": {
          "model_module": "@jupyter-widgets/controls",
          "model_name": "HTMLModel",
          "state": {
            "_view_name": "HTMLView",
            "style": "IPY_MODEL_0dfc24642e2b4831b5f59280464f9cb7",
            "_dom_classes": [],
            "description": "",
            "_model_name": "HTMLModel",
            "placeholder": "​",
            "_view_module": "@jupyter-widgets/controls",
            "_model_module_version": "1.5.0",
            "value": " 3925/3925 [00:11&lt;00:00, 333.21it/s]",
            "_view_count": null,
            "_view_module_version": "1.5.0",
            "description_tooltip": null,
            "_model_module": "@jupyter-widgets/controls",
            "layout": "IPY_MODEL_0f81be50e8c04a73a98e3183e0043d07"
          }
        },
        "14f539ef54bd4e2ea8233198550cc68a": {
          "model_module": "@jupyter-widgets/controls",
          "model_name": "DescriptionStyleModel",
          "state": {
            "_view_name": "StyleView",
            "_model_name": "DescriptionStyleModel",
            "description_width": "",
            "_view_module": "@jupyter-widgets/base",
            "_model_module_version": "1.5.0",
            "_view_count": null,
            "_view_module_version": "1.2.0",
            "_model_module": "@jupyter-widgets/controls"
          }
        },
        "3048de3634504cc98061f5634bdd67bf": {
          "model_module": "@jupyter-widgets/base",
          "model_name": "LayoutModel",
          "state": {
            "_view_name": "LayoutView",
            "grid_template_rows": null,
            "right": null,
            "justify_content": null,
            "_view_module": "@jupyter-widgets/base",
            "overflow": null,
            "_model_module_version": "1.2.0",
            "_view_count": null,
            "flex_flow": null,
            "width": null,
            "min_width": null,
            "border": null,
            "align_items": null,
            "bottom": null,
            "_model_module": "@jupyter-widgets/base",
            "top": null,
            "grid_column": null,
            "overflow_y": null,
            "overflow_x": null,
            "grid_auto_flow": null,
            "grid_area": null,
            "grid_template_columns": null,
            "flex": null,
            "_model_name": "LayoutModel",
            "justify_items": null,
            "grid_row": null,
            "max_height": null,
            "align_content": null,
            "visibility": null,
            "align_self": null,
            "height": null,
            "min_height": null,
            "padding": null,
            "grid_auto_rows": null,
            "grid_gap": null,
            "max_width": null,
            "order": null,
            "_view_module_version": "1.2.0",
            "grid_template_areas": null,
            "object_position": null,
            "object_fit": null,
            "grid_auto_columns": null,
            "margin": null,
            "display": null,
            "left": null
          }
        },
        "287343a41ea44b1e8c74f5c2d5c3d759": {
          "model_module": "@jupyter-widgets/controls",
          "model_name": "ProgressStyleModel",
          "state": {
            "_view_name": "StyleView",
            "_model_name": "ProgressStyleModel",
            "description_width": "",
            "_view_module": "@jupyter-widgets/base",
            "_model_module_version": "1.5.0",
            "_view_count": null,
            "_view_module_version": "1.2.0",
            "bar_color": null,
            "_model_module": "@jupyter-widgets/controls"
          }
        },
        "10b27e05597444758b912b848daafee2": {
          "model_module": "@jupyter-widgets/base",
          "model_name": "LayoutModel",
          "state": {
            "_view_name": "LayoutView",
            "grid_template_rows": null,
            "right": null,
            "justify_content": null,
            "_view_module": "@jupyter-widgets/base",
            "overflow": null,
            "_model_module_version": "1.2.0",
            "_view_count": null,
            "flex_flow": null,
            "width": null,
            "min_width": null,
            "border": null,
            "align_items": null,
            "bottom": null,
            "_model_module": "@jupyter-widgets/base",
            "top": null,
            "grid_column": null,
            "overflow_y": null,
            "overflow_x": null,
            "grid_auto_flow": null,
            "grid_area": null,
            "grid_template_columns": null,
            "flex": null,
            "_model_name": "LayoutModel",
            "justify_items": null,
            "grid_row": null,
            "max_height": null,
            "align_content": null,
            "visibility": null,
            "align_self": null,
            "height": null,
            "min_height": null,
            "padding": null,
            "grid_auto_rows": null,
            "grid_gap": null,
            "max_width": null,
            "order": null,
            "_view_module_version": "1.2.0",
            "grid_template_areas": null,
            "object_position": null,
            "object_fit": null,
            "grid_auto_columns": null,
            "margin": null,
            "display": null,
            "left": null
          }
        },
        "0dfc24642e2b4831b5f59280464f9cb7": {
          "model_module": "@jupyter-widgets/controls",
          "model_name": "DescriptionStyleModel",
          "state": {
            "_view_name": "StyleView",
            "_model_name": "DescriptionStyleModel",
            "description_width": "",
            "_view_module": "@jupyter-widgets/base",
            "_model_module_version": "1.5.0",
            "_view_count": null,
            "_view_module_version": "1.2.0",
            "_model_module": "@jupyter-widgets/controls"
          }
        },
        "0f81be50e8c04a73a98e3183e0043d07": {
          "model_module": "@jupyter-widgets/base",
          "model_name": "LayoutModel",
          "state": {
            "_view_name": "LayoutView",
            "grid_template_rows": null,
            "right": null,
            "justify_content": null,
            "_view_module": "@jupyter-widgets/base",
            "overflow": null,
            "_model_module_version": "1.2.0",
            "_view_count": null,
            "flex_flow": null,
            "width": null,
            "min_width": null,
            "border": null,
            "align_items": null,
            "bottom": null,
            "_model_module": "@jupyter-widgets/base",
            "top": null,
            "grid_column": null,
            "overflow_y": null,
            "overflow_x": null,
            "grid_auto_flow": null,
            "grid_area": null,
            "grid_template_columns": null,
            "flex": null,
            "_model_name": "LayoutModel",
            "justify_items": null,
            "grid_row": null,
            "max_height": null,
            "align_content": null,
            "visibility": null,
            "align_self": null,
            "height": null,
            "min_height": null,
            "padding": null,
            "grid_auto_rows": null,
            "grid_gap": null,
            "max_width": null,
            "order": null,
            "_view_module_version": "1.2.0",
            "grid_template_areas": null,
            "object_position": null,
            "object_fit": null,
            "grid_auto_columns": null,
            "margin": null,
            "display": null,
            "left": null
          }
        },
        "f044ec532d5549d2b17aab1eb9d9134a": {
          "model_module": "@jupyter-widgets/controls",
          "model_name": "HBoxModel",
          "state": {
            "_view_name": "HBoxView",
            "_dom_classes": [],
            "_model_name": "HBoxModel",
            "_view_module": "@jupyter-widgets/controls",
            "_model_module_version": "1.5.0",
            "_view_count": null,
            "_view_module_version": "1.5.0",
            "box_style": "",
            "layout": "IPY_MODEL_669fceff0bf84321b2054504a67f6d84",
            "_model_module": "@jupyter-widgets/controls",
            "children": [
              "IPY_MODEL_d10f7eaf7a994bbf8550113f316337a8",
              "IPY_MODEL_9d0a76ac9c9e46838b55b561df03dc37",
              "IPY_MODEL_77fd0f76f78748f59db217054ad721be"
            ]
          }
        },
        "669fceff0bf84321b2054504a67f6d84": {
          "model_module": "@jupyter-widgets/base",
          "model_name": "LayoutModel",
          "state": {
            "_view_name": "LayoutView",
            "grid_template_rows": null,
            "right": null,
            "justify_content": null,
            "_view_module": "@jupyter-widgets/base",
            "overflow": null,
            "_model_module_version": "1.2.0",
            "_view_count": null,
            "flex_flow": null,
            "width": null,
            "min_width": null,
            "border": null,
            "align_items": null,
            "bottom": null,
            "_model_module": "@jupyter-widgets/base",
            "top": null,
            "grid_column": null,
            "overflow_y": null,
            "overflow_x": null,
            "grid_auto_flow": null,
            "grid_area": null,
            "grid_template_columns": null,
            "flex": null,
            "_model_name": "LayoutModel",
            "justify_items": null,
            "grid_row": null,
            "max_height": null,
            "align_content": null,
            "visibility": null,
            "align_self": null,
            "height": null,
            "min_height": null,
            "padding": null,
            "grid_auto_rows": null,
            "grid_gap": null,
            "max_width": null,
            "order": null,
            "_view_module_version": "1.2.0",
            "grid_template_areas": null,
            "object_position": null,
            "object_fit": null,
            "grid_auto_columns": null,
            "margin": null,
            "display": null,
            "left": null
          }
        },
        "d10f7eaf7a994bbf8550113f316337a8": {
          "model_module": "@jupyter-widgets/controls",
          "model_name": "HTMLModel",
          "state": {
            "_view_name": "HTMLView",
            "style": "IPY_MODEL_e2413859f208465e892fa985ac18865c",
            "_dom_classes": [],
            "description": "",
            "_model_name": "HTMLModel",
            "placeholder": "​",
            "_view_module": "@jupyter-widgets/controls",
            "_model_module_version": "1.5.0",
            "value": "100%",
            "_view_count": null,
            "_view_module_version": "1.5.0",
            "description_tooltip": null,
            "_model_module": "@jupyter-widgets/controls",
            "layout": "IPY_MODEL_c4dfb56cf73b45e1af7415b935dbede5"
          }
        },
        "9d0a76ac9c9e46838b55b561df03dc37": {
          "model_module": "@jupyter-widgets/controls",
          "model_name": "FloatProgressModel",
          "state": {
            "_view_name": "ProgressView",
            "style": "IPY_MODEL_4b8f98fa5f154dfca040965fa38dc046",
            "_dom_classes": [],
            "description": "",
            "_model_name": "FloatProgressModel",
            "bar_style": "success",
            "max": 46830571,
            "_view_module": "@jupyter-widgets/controls",
            "_model_module_version": "1.5.0",
            "value": 46830571,
            "_view_count": null,
            "_view_module_version": "1.5.0",
            "orientation": "horizontal",
            "min": 0,
            "description_tooltip": null,
            "_model_module": "@jupyter-widgets/controls",
            "layout": "IPY_MODEL_b63fe6abd64c40f19e0f333662316e42"
          }
        },
        "77fd0f76f78748f59db217054ad721be": {
          "model_module": "@jupyter-widgets/controls",
          "model_name": "HTMLModel",
          "state": {
            "_view_name": "HTMLView",
            "style": "IPY_MODEL_e99d2984aa034ba381c7467c875fb136",
            "_dom_classes": [],
            "description": "",
            "_model_name": "HTMLModel",
            "placeholder": "​",
            "_view_module": "@jupyter-widgets/controls",
            "_model_module_version": "1.5.0",
            "value": " 44.7M/44.7M [00:00&lt;00:00, 158MB/s]",
            "_view_count": null,
            "_view_module_version": "1.5.0",
            "description_tooltip": null,
            "_model_module": "@jupyter-widgets/controls",
            "layout": "IPY_MODEL_74e758f7db1f468fbbe0fe1f14b64087"
          }
        },
        "e2413859f208465e892fa985ac18865c": {
          "model_module": "@jupyter-widgets/controls",
          "model_name": "DescriptionStyleModel",
          "state": {
            "_view_name": "StyleView",
            "_model_name": "DescriptionStyleModel",
            "description_width": "",
            "_view_module": "@jupyter-widgets/base",
            "_model_module_version": "1.5.0",
            "_view_count": null,
            "_view_module_version": "1.2.0",
            "_model_module": "@jupyter-widgets/controls"
          }
        },
        "c4dfb56cf73b45e1af7415b935dbede5": {
          "model_module": "@jupyter-widgets/base",
          "model_name": "LayoutModel",
          "state": {
            "_view_name": "LayoutView",
            "grid_template_rows": null,
            "right": null,
            "justify_content": null,
            "_view_module": "@jupyter-widgets/base",
            "overflow": null,
            "_model_module_version": "1.2.0",
            "_view_count": null,
            "flex_flow": null,
            "width": null,
            "min_width": null,
            "border": null,
            "align_items": null,
            "bottom": null,
            "_model_module": "@jupyter-widgets/base",
            "top": null,
            "grid_column": null,
            "overflow_y": null,
            "overflow_x": null,
            "grid_auto_flow": null,
            "grid_area": null,
            "grid_template_columns": null,
            "flex": null,
            "_model_name": "LayoutModel",
            "justify_items": null,
            "grid_row": null,
            "max_height": null,
            "align_content": null,
            "visibility": null,
            "align_self": null,
            "height": null,
            "min_height": null,
            "padding": null,
            "grid_auto_rows": null,
            "grid_gap": null,
            "max_width": null,
            "order": null,
            "_view_module_version": "1.2.0",
            "grid_template_areas": null,
            "object_position": null,
            "object_fit": null,
            "grid_auto_columns": null,
            "margin": null,
            "display": null,
            "left": null
          }
        },
        "4b8f98fa5f154dfca040965fa38dc046": {
          "model_module": "@jupyter-widgets/controls",
          "model_name": "ProgressStyleModel",
          "state": {
            "_view_name": "StyleView",
            "_model_name": "ProgressStyleModel",
            "description_width": "",
            "_view_module": "@jupyter-widgets/base",
            "_model_module_version": "1.5.0",
            "_view_count": null,
            "_view_module_version": "1.2.0",
            "bar_color": null,
            "_model_module": "@jupyter-widgets/controls"
          }
        },
        "b63fe6abd64c40f19e0f333662316e42": {
          "model_module": "@jupyter-widgets/base",
          "model_name": "LayoutModel",
          "state": {
            "_view_name": "LayoutView",
            "grid_template_rows": null,
            "right": null,
            "justify_content": null,
            "_view_module": "@jupyter-widgets/base",
            "overflow": null,
            "_model_module_version": "1.2.0",
            "_view_count": null,
            "flex_flow": null,
            "width": null,
            "min_width": null,
            "border": null,
            "align_items": null,
            "bottom": null,
            "_model_module": "@jupyter-widgets/base",
            "top": null,
            "grid_column": null,
            "overflow_y": null,
            "overflow_x": null,
            "grid_auto_flow": null,
            "grid_area": null,
            "grid_template_columns": null,
            "flex": null,
            "_model_name": "LayoutModel",
            "justify_items": null,
            "grid_row": null,
            "max_height": null,
            "align_content": null,
            "visibility": null,
            "align_self": null,
            "height": null,
            "min_height": null,
            "padding": null,
            "grid_auto_rows": null,
            "grid_gap": null,
            "max_width": null,
            "order": null,
            "_view_module_version": "1.2.0",
            "grid_template_areas": null,
            "object_position": null,
            "object_fit": null,
            "grid_auto_columns": null,
            "margin": null,
            "display": null,
            "left": null
          }
        },
        "e99d2984aa034ba381c7467c875fb136": {
          "model_module": "@jupyter-widgets/controls",
          "model_name": "DescriptionStyleModel",
          "state": {
            "_view_name": "StyleView",
            "_model_name": "DescriptionStyleModel",
            "description_width": "",
            "_view_module": "@jupyter-widgets/base",
            "_model_module_version": "1.5.0",
            "_view_count": null,
            "_view_module_version": "1.2.0",
            "_model_module": "@jupyter-widgets/controls"
          }
        },
        "74e758f7db1f468fbbe0fe1f14b64087": {
          "model_module": "@jupyter-widgets/base",
          "model_name": "LayoutModel",
          "state": {
            "_view_name": "LayoutView",
            "grid_template_rows": null,
            "right": null,
            "justify_content": null,
            "_view_module": "@jupyter-widgets/base",
            "overflow": null,
            "_model_module_version": "1.2.0",
            "_view_count": null,
            "flex_flow": null,
            "width": null,
            "min_width": null,
            "border": null,
            "align_items": null,
            "bottom": null,
            "_model_module": "@jupyter-widgets/base",
            "top": null,
            "grid_column": null,
            "overflow_y": null,
            "overflow_x": null,
            "grid_auto_flow": null,
            "grid_area": null,
            "grid_template_columns": null,
            "flex": null,
            "_model_name": "LayoutModel",
            "justify_items": null,
            "grid_row": null,
            "max_height": null,
            "align_content": null,
            "visibility": null,
            "align_self": null,
            "height": null,
            "min_height": null,
            "padding": null,
            "grid_auto_rows": null,
            "grid_gap": null,
            "max_width": null,
            "order": null,
            "_view_module_version": "1.2.0",
            "grid_template_areas": null,
            "object_position": null,
            "object_fit": null,
            "grid_auto_columns": null,
            "margin": null,
            "display": null,
            "left": null
          }
        },
        "dac05275cfa74373b684f12536a75305": {
          "model_module": "@jupyter-widgets/controls",
          "model_name": "HBoxModel",
          "state": {
            "_view_name": "HBoxView",
            "_dom_classes": [],
            "_model_name": "HBoxModel",
            "_view_module": "@jupyter-widgets/controls",
            "_model_module_version": "1.5.0",
            "_view_count": null,
            "_view_module_version": "1.5.0",
            "box_style": "",
            "layout": "IPY_MODEL_3aaa128a5c424e0abdd87bf0e58cd413",
            "_model_module": "@jupyter-widgets/controls",
            "children": [
              "IPY_MODEL_1db9617daf0c4089adf1fdd40e3c26f6",
              "IPY_MODEL_57a37d74adc84e8b81c19c4a2c9b8c36",
              "IPY_MODEL_83346fb76d054a36a49e280d3d5aa332"
            ]
          }
        },
        "3aaa128a5c424e0abdd87bf0e58cd413": {
          "model_module": "@jupyter-widgets/base",
          "model_name": "LayoutModel",
          "state": {
            "_view_name": "LayoutView",
            "grid_template_rows": null,
            "right": null,
            "justify_content": null,
            "_view_module": "@jupyter-widgets/base",
            "overflow": null,
            "_model_module_version": "1.2.0",
            "_view_count": null,
            "flex_flow": null,
            "width": null,
            "min_width": null,
            "border": null,
            "align_items": null,
            "bottom": null,
            "_model_module": "@jupyter-widgets/base",
            "top": null,
            "grid_column": null,
            "overflow_y": null,
            "overflow_x": null,
            "grid_auto_flow": null,
            "grid_area": null,
            "grid_template_columns": null,
            "flex": null,
            "_model_name": "LayoutModel",
            "justify_items": null,
            "grid_row": null,
            "max_height": null,
            "align_content": null,
            "visibility": null,
            "align_self": null,
            "height": null,
            "min_height": null,
            "padding": null,
            "grid_auto_rows": null,
            "grid_gap": null,
            "max_width": null,
            "order": null,
            "_view_module_version": "1.2.0",
            "grid_template_areas": null,
            "object_position": null,
            "object_fit": null,
            "grid_auto_columns": null,
            "margin": null,
            "display": null,
            "left": null
          }
        },
        "1db9617daf0c4089adf1fdd40e3c26f6": {
          "model_module": "@jupyter-widgets/controls",
          "model_name": "HTMLModel",
          "state": {
            "_view_name": "HTMLView",
            "style": "IPY_MODEL_74cb6b7488494dce8794864d7037717a",
            "_dom_classes": [],
            "description": "",
            "_model_name": "HTMLModel",
            "placeholder": "​",
            "_view_module": "@jupyter-widgets/controls",
            "_model_module_version": "1.5.0",
            "value": "100%",
            "_view_count": null,
            "_view_module_version": "1.5.0",
            "description_tooltip": null,
            "_model_module": "@jupyter-widgets/controls",
            "layout": "IPY_MODEL_8ba301f9d56f4f199e25c006e6f80313"
          }
        },
        "57a37d74adc84e8b81c19c4a2c9b8c36": {
          "model_module": "@jupyter-widgets/controls",
          "model_name": "FloatProgressModel",
          "state": {
            "_view_name": "ProgressView",
            "style": "IPY_MODEL_cb75d3c8401d4a7592972107394dd169",
            "_dom_classes": [],
            "description": "",
            "_model_name": "FloatProgressModel",
            "bar_style": "success",
            "max": 123,
            "_view_module": "@jupyter-widgets/controls",
            "_model_module_version": "1.5.0",
            "value": 123,
            "_view_count": null,
            "_view_module_version": "1.5.0",
            "orientation": "horizontal",
            "min": 0,
            "description_tooltip": null,
            "_model_module": "@jupyter-widgets/controls",
            "layout": "IPY_MODEL_fd8107d769d440098193d07824033f13"
          }
        },
        "83346fb76d054a36a49e280d3d5aa332": {
          "model_module": "@jupyter-widgets/controls",
          "model_name": "HTMLModel",
          "state": {
            "_view_name": "HTMLView",
            "style": "IPY_MODEL_d843c945ea6c47ac84b28b28a62012d5",
            "_dom_classes": [],
            "description": "",
            "_model_name": "HTMLModel",
            "placeholder": "​",
            "_view_module": "@jupyter-widgets/controls",
            "_model_module_version": "1.5.0",
            "value": " 123/123 [00:17&lt;00:00,  7.15it/s]",
            "_view_count": null,
            "_view_module_version": "1.5.0",
            "description_tooltip": null,
            "_model_module": "@jupyter-widgets/controls",
            "layout": "IPY_MODEL_ca45c8b3f029453293999b36317afaaf"
          }
        },
        "74cb6b7488494dce8794864d7037717a": {
          "model_module": "@jupyter-widgets/controls",
          "model_name": "DescriptionStyleModel",
          "state": {
            "_view_name": "StyleView",
            "_model_name": "DescriptionStyleModel",
            "description_width": "",
            "_view_module": "@jupyter-widgets/base",
            "_model_module_version": "1.5.0",
            "_view_count": null,
            "_view_module_version": "1.2.0",
            "_model_module": "@jupyter-widgets/controls"
          }
        },
        "8ba301f9d56f4f199e25c006e6f80313": {
          "model_module": "@jupyter-widgets/base",
          "model_name": "LayoutModel",
          "state": {
            "_view_name": "LayoutView",
            "grid_template_rows": null,
            "right": null,
            "justify_content": null,
            "_view_module": "@jupyter-widgets/base",
            "overflow": null,
            "_model_module_version": "1.2.0",
            "_view_count": null,
            "flex_flow": null,
            "width": null,
            "min_width": null,
            "border": null,
            "align_items": null,
            "bottom": null,
            "_model_module": "@jupyter-widgets/base",
            "top": null,
            "grid_column": null,
            "overflow_y": null,
            "overflow_x": null,
            "grid_auto_flow": null,
            "grid_area": null,
            "grid_template_columns": null,
            "flex": null,
            "_model_name": "LayoutModel",
            "justify_items": null,
            "grid_row": null,
            "max_height": null,
            "align_content": null,
            "visibility": null,
            "align_self": null,
            "height": null,
            "min_height": null,
            "padding": null,
            "grid_auto_rows": null,
            "grid_gap": null,
            "max_width": null,
            "order": null,
            "_view_module_version": "1.2.0",
            "grid_template_areas": null,
            "object_position": null,
            "object_fit": null,
            "grid_auto_columns": null,
            "margin": null,
            "display": null,
            "left": null
          }
        },
        "cb75d3c8401d4a7592972107394dd169": {
          "model_module": "@jupyter-widgets/controls",
          "model_name": "ProgressStyleModel",
          "state": {
            "_view_name": "StyleView",
            "_model_name": "ProgressStyleModel",
            "description_width": "",
            "_view_module": "@jupyter-widgets/base",
            "_model_module_version": "1.5.0",
            "_view_count": null,
            "_view_module_version": "1.2.0",
            "bar_color": null,
            "_model_module": "@jupyter-widgets/controls"
          }
        },
        "fd8107d769d440098193d07824033f13": {
          "model_module": "@jupyter-widgets/base",
          "model_name": "LayoutModel",
          "state": {
            "_view_name": "LayoutView",
            "grid_template_rows": null,
            "right": null,
            "justify_content": null,
            "_view_module": "@jupyter-widgets/base",
            "overflow": null,
            "_model_module_version": "1.2.0",
            "_view_count": null,
            "flex_flow": null,
            "width": null,
            "min_width": null,
            "border": null,
            "align_items": null,
            "bottom": null,
            "_model_module": "@jupyter-widgets/base",
            "top": null,
            "grid_column": null,
            "overflow_y": null,
            "overflow_x": null,
            "grid_auto_flow": null,
            "grid_area": null,
            "grid_template_columns": null,
            "flex": null,
            "_model_name": "LayoutModel",
            "justify_items": null,
            "grid_row": null,
            "max_height": null,
            "align_content": null,
            "visibility": null,
            "align_self": null,
            "height": null,
            "min_height": null,
            "padding": null,
            "grid_auto_rows": null,
            "grid_gap": null,
            "max_width": null,
            "order": null,
            "_view_module_version": "1.2.0",
            "grid_template_areas": null,
            "object_position": null,
            "object_fit": null,
            "grid_auto_columns": null,
            "margin": null,
            "display": null,
            "left": null
          }
        },
        "d843c945ea6c47ac84b28b28a62012d5": {
          "model_module": "@jupyter-widgets/controls",
          "model_name": "DescriptionStyleModel",
          "state": {
            "_view_name": "StyleView",
            "_model_name": "DescriptionStyleModel",
            "description_width": "",
            "_view_module": "@jupyter-widgets/base",
            "_model_module_version": "1.5.0",
            "_view_count": null,
            "_view_module_version": "1.2.0",
            "_model_module": "@jupyter-widgets/controls"
          }
        },
        "ca45c8b3f029453293999b36317afaaf": {
          "model_module": "@jupyter-widgets/base",
          "model_name": "LayoutModel",
          "state": {
            "_view_name": "LayoutView",
            "grid_template_rows": null,
            "right": null,
            "justify_content": null,
            "_view_module": "@jupyter-widgets/base",
            "overflow": null,
            "_model_module_version": "1.2.0",
            "_view_count": null,
            "flex_flow": null,
            "width": null,
            "min_width": null,
            "border": null,
            "align_items": null,
            "bottom": null,
            "_model_module": "@jupyter-widgets/base",
            "top": null,
            "grid_column": null,
            "overflow_y": null,
            "overflow_x": null,
            "grid_auto_flow": null,
            "grid_area": null,
            "grid_template_columns": null,
            "flex": null,
            "_model_name": "LayoutModel",
            "justify_items": null,
            "grid_row": null,
            "max_height": null,
            "align_content": null,
            "visibility": null,
            "align_self": null,
            "height": null,
            "min_height": null,
            "padding": null,
            "grid_auto_rows": null,
            "grid_gap": null,
            "max_width": null,
            "order": null,
            "_view_module_version": "1.2.0",
            "grid_template_areas": null,
            "object_position": null,
            "object_fit": null,
            "grid_auto_columns": null,
            "margin": null,
            "display": null,
            "left": null
          }
        }
      }
    }
  },
  "cells": [
    {
      "cell_type": "markdown",
      "metadata": {
        "id": "AAu5Xqw4BFvr"
      },
      "source": [
        "## 🖼 Working with image data in `Meerkat`\n",
        "\n",
        "*What is `Meerkat`?*  `Meerkat` makes it easier for ML practitioners to interact with high-dimensional, multi-modal data. It provides simple abstractions for data inspection, model evaluation and model training supported by efficient and robust IO under the hood.\n",
        "\n",
        "**Colab Runtime**: We recommend running this Colab with a GPU runtime. To change the runtime, \n",
        "1. Click on `Runtime` on the top navigation bar\n",
        "2. Select `Change runtime type`\n",
        "3. Select `GPU` from the dropdown"
      ]
    },
    {
      "cell_type": "code",
      "metadata": {
        "colab": {
          "base_uri": "https://localhost:8080/",
          "height": 1000
        },
        "id": "03nX_l19B5Zt",
        "outputId": "997dbc96-2567-47db-d011-dfc14634ea8a"
      },
      "source": [
        "!pip install git+https://github.com/robustness-gym/meerkat@dev"
      ],
      "execution_count": null,
      "outputs": [
        {
          "output_type": "stream",
          "text": [
            "Collecting git+https://github.com/robustness-gym/meerkat@dev\n",
            "  Cloning https://github.com/robustness-gym/meerkat (to revision dev) to /tmp/pip-req-build-vh_pjtuv\n",
            "  Running command git clone -q https://github.com/robustness-gym/meerkat /tmp/pip-req-build-vh_pjtuv\n",
            "  Running command git checkout -b dev --track origin/dev\n",
            "  Switched to a new branch 'dev'\n",
            "  Branch 'dev' set up to track remote branch 'dev' from 'origin'.\n",
            "Collecting dataclasses>=0.6\n",
            "  Downloading https://files.pythonhosted.org/packages/26/2f/1095cdc2868052dd1e64520f7c0d5c8c550ad297e944e641dbf1ffbb9a5d/dataclasses-0.6-py3-none-any.whl\n",
            "Requirement already satisfied: pandas in /usr/local/lib/python3.7/dist-packages (from meerkat-ml==0.0.2) (1.1.5)\n",
            "Requirement already satisfied: dill>=0.3.3 in /usr/local/lib/python3.7/dist-packages (from meerkat-ml==0.0.2) (0.3.4)\n",
            "Requirement already satisfied: numpy>=1.18.0 in /usr/local/lib/python3.7/dist-packages (from meerkat-ml==0.0.2) (1.19.5)\n",
            "Collecting cytoolz\n",
            "\u001b[?25l  Downloading https://files.pythonhosted.org/packages/58/67/1c60da8ba831bfefedb64c78b9f6820bdf58972797c95644ee3191daf27a/cytoolz-0.11.0.tar.gz (477kB)\n",
            "\u001b[K     |████████████████████████████████| 481kB 8.4MB/s \n",
            "\u001b[?25hCollecting ujson\n",
            "\u001b[?25l  Downloading https://files.pythonhosted.org/packages/17/4e/50e8e4cf5f00b537095711c2c86ac4d7191aed2b4fffd5a19f06898f6929/ujson-4.0.2-cp37-cp37m-manylinux1_x86_64.whl (179kB)\n",
            "\u001b[K     |████████████████████████████████| 184kB 34.3MB/s \n",
            "\u001b[?25hCollecting jsonlines>=1.2.0\n",
            "  Downloading https://files.pythonhosted.org/packages/d4/58/06f430ff7607a2929f80f07bfd820acbc508a4e977542fefcc522cde9dff/jsonlines-2.0.0-py3-none-any.whl\n",
            "Requirement already satisfied: torch>=1.8.0 in /usr/local/lib/python3.7/dist-packages (from meerkat-ml==0.0.2) (1.9.0+cu102)\n",
            "Collecting tqdm>=4.49.0\n",
            "\u001b[?25l  Downloading https://files.pythonhosted.org/packages/b4/20/9f1e974bb4761128fc0d0a32813eaa92827309b1756c4b892d28adfb4415/tqdm-4.61.1-py2.py3-none-any.whl (75kB)\n",
            "\u001b[K     |████████████████████████████████| 81kB 11.6MB/s \n",
            "\u001b[?25hCollecting datasets>=1.4.1\n",
            "\u001b[?25l  Downloading https://files.pythonhosted.org/packages/08/a2/d4e1024c891506e1cee8f9d719d20831bac31cb5b7416983c4d2f65a6287/datasets-1.8.0-py3-none-any.whl (237kB)\n",
            "\u001b[K     |████████████████████████████████| 245kB 33.1MB/s \n",
            "\u001b[?25hCollecting PyYAML>=5.4.1\n",
            "\u001b[?25l  Downloading https://files.pythonhosted.org/packages/7a/a5/393c087efdc78091afa2af9f1378762f9821c9c1d7a22c5753fb5ac5f97a/PyYAML-5.4.1-cp37-cp37m-manylinux1_x86_64.whl (636kB)\n",
            "\u001b[K     |████████████████████████████████| 645kB 33.0MB/s \n",
            "\u001b[?25hCollecting omegaconf>=2.0.5\n",
            "\u001b[?25l  Downloading https://files.pythonhosted.org/packages/f9/96/1966b48bfe6ca64bfadfa7bcc9a8d73c5d83b4be769321fcc5d617abeb0c/omegaconf-2.1.0-py3-none-any.whl (74kB)\n",
            "\u001b[K     |████████████████████████████████| 81kB 11.2MB/s \n",
            "\u001b[?25hCollecting fuzzywuzzy>=0.18.0\n",
            "  Downloading https://files.pythonhosted.org/packages/43/ff/74f23998ad2f93b945c0309f825be92e04e0348e062026998b5eefef4c33/fuzzywuzzy-0.18.0-py2.py3-none-any.whl\n",
            "Requirement already satisfied: semver>=2.13.0 in /usr/local/lib/python3.7/dist-packages (from meerkat-ml==0.0.2) (2.13.0)\n",
            "Requirement already satisfied: multiprocess>=0.70.11Cython>=0.29.21 in /usr/local/lib/python3.7/dist-packages (from meerkat-ml==0.0.2) (0.70.12.2)\n",
            "Collecting progressbar>=2.5\n",
            "  Downloading https://files.pythonhosted.org/packages/a3/a6/b8e451f6cff1c99b4747a2f7235aa904d2d49e8e1464e0b798272aa84358/progressbar-2.5.tar.gz\n",
            "Requirement already satisfied: pytz>=2017.2 in /usr/local/lib/python3.7/dist-packages (from pandas->meerkat-ml==0.0.2) (2018.9)\n",
            "Requirement already satisfied: python-dateutil>=2.7.3 in /usr/local/lib/python3.7/dist-packages (from pandas->meerkat-ml==0.0.2) (2.8.1)\n",
            "Requirement already satisfied: toolz>=0.8.0 in /usr/local/lib/python3.7/dist-packages (from cytoolz->meerkat-ml==0.0.2) (0.11.1)\n",
            "Requirement already satisfied: typing-extensions in /usr/local/lib/python3.7/dist-packages (from torch>=1.8.0->meerkat-ml==0.0.2) (3.7.4.3)\n",
            "Requirement already satisfied: pyarrow<4.0.0,>=1.0.0 in /usr/local/lib/python3.7/dist-packages (from datasets>=1.4.1->meerkat-ml==0.0.2) (3.0.0)\n",
            "Collecting xxhash\n",
            "\u001b[?25l  Downloading https://files.pythonhosted.org/packages/7d/4f/0a862cad26aa2ed7a7cd87178cbbfa824fc1383e472d63596a0d018374e7/xxhash-2.0.2-cp37-cp37m-manylinux2010_x86_64.whl (243kB)\n",
            "\u001b[K     |████████████████████████████████| 245kB 45.4MB/s \n",
            "\u001b[?25hRequirement already satisfied: requests>=2.19.0 in /usr/local/lib/python3.7/dist-packages (from datasets>=1.4.1->meerkat-ml==0.0.2) (2.23.0)\n",
            "Collecting fsspec\n",
            "\u001b[?25l  Downloading https://files.pythonhosted.org/packages/0e/3a/666e63625a19883ae8e1674099e631f9737bd5478c4790e5ad49c5ac5261/fsspec-2021.6.1-py3-none-any.whl (115kB)\n",
            "\u001b[K     |████████████████████████████████| 122kB 37.5MB/s \n",
            "\u001b[?25hRequirement already satisfied: importlib-metadata; python_version < \"3.8\" in /usr/local/lib/python3.7/dist-packages (from datasets>=1.4.1->meerkat-ml==0.0.2) (4.5.0)\n",
            "Collecting huggingface-hub<0.1.0\n",
            "  Downloading https://files.pythonhosted.org/packages/2f/ee/97e253668fda9b17e968b3f97b2f8e53aa0127e8807d24a547687423fe0b/huggingface_hub-0.0.12-py3-none-any.whl\n",
            "Requirement already satisfied: packaging in /usr/local/lib/python3.7/dist-packages (from datasets>=1.4.1->meerkat-ml==0.0.2) (20.9)\n",
            "Collecting antlr4-python3-runtime==4.8\n",
            "\u001b[?25l  Downloading https://files.pythonhosted.org/packages/56/02/789a0bddf9c9b31b14c3e79ec22b9656185a803dc31c15f006f9855ece0d/antlr4-python3-runtime-4.8.tar.gz (112kB)\n",
            "\u001b[K     |████████████████████████████████| 112kB 44.6MB/s \n",
            "\u001b[?25hRequirement already satisfied: six>=1.5 in /usr/local/lib/python3.7/dist-packages (from python-dateutil>=2.7.3->pandas->meerkat-ml==0.0.2) (1.15.0)\n",
            "Requirement already satisfied: certifi>=2017.4.17 in /usr/local/lib/python3.7/dist-packages (from requests>=2.19.0->datasets>=1.4.1->meerkat-ml==0.0.2) (2021.5.30)\n",
            "Requirement already satisfied: chardet<4,>=3.0.2 in /usr/local/lib/python3.7/dist-packages (from requests>=2.19.0->datasets>=1.4.1->meerkat-ml==0.0.2) (3.0.4)\n",
            "Requirement already satisfied: idna<3,>=2.5 in /usr/local/lib/python3.7/dist-packages (from requests>=2.19.0->datasets>=1.4.1->meerkat-ml==0.0.2) (2.10)\n",
            "Requirement already satisfied: urllib3!=1.25.0,!=1.25.1,<1.26,>=1.21.1 in /usr/local/lib/python3.7/dist-packages (from requests>=2.19.0->datasets>=1.4.1->meerkat-ml==0.0.2) (1.24.3)\n",
            "Requirement already satisfied: zipp>=0.5 in /usr/local/lib/python3.7/dist-packages (from importlib-metadata; python_version < \"3.8\"->datasets>=1.4.1->meerkat-ml==0.0.2) (3.4.1)\n",
            "Requirement already satisfied: filelock in /usr/local/lib/python3.7/dist-packages (from huggingface-hub<0.1.0->datasets>=1.4.1->meerkat-ml==0.0.2) (3.0.12)\n",
            "Requirement already satisfied: pyparsing>=2.0.2 in /usr/local/lib/python3.7/dist-packages (from packaging->datasets>=1.4.1->meerkat-ml==0.0.2) (2.4.7)\n",
            "Building wheels for collected packages: meerkat-ml, cytoolz, progressbar, antlr4-python3-runtime\n",
            "  Building wheel for meerkat-ml (setup.py) ... \u001b[?25l\u001b[?25hdone\n",
            "  Created wheel for meerkat-ml: filename=meerkat_ml-0.0.2-cp37-none-any.whl size=89297 sha256=95fef8b1d79cc714756a30544ed3cdb4659bde2765b337d140ed2ef8baa265bb\n",
            "  Stored in directory: /tmp/pip-ephem-wheel-cache-69s643r5/wheels/e3/f1/d2/66de848504e541dc38c77518dbd6b8b4d888dd15f0ca775951\n",
            "  Building wheel for cytoolz (setup.py) ... \u001b[?25l\u001b[?25hdone\n",
            "  Created wheel for cytoolz: filename=cytoolz-0.11.0-cp37-cp37m-linux_x86_64.whl size=1224585 sha256=ba6e590518eb89b614be94e9a14071aa3b6b4b58a3dc13af35e8a53ae49f748f\n",
            "  Stored in directory: /root/.cache/pip/wheels/a1/32/3c/9c9926b510647cacdde744b2c7acdf1ccd5896fbb7f8d5df0c\n",
            "  Building wheel for progressbar (setup.py) ... \u001b[?25l\u001b[?25hdone\n",
            "  Created wheel for progressbar: filename=progressbar-2.5-cp37-none-any.whl size=12083 sha256=12c7c8168d2807521be09435c46aa5b1e058a7b7b04e8f7d633bc6e283f8ebd9\n",
            "  Stored in directory: /root/.cache/pip/wheels/c0/e9/6b/ea01090205e285175842339aa3b491adeb4015206cda272ff0\n",
            "  Building wheel for antlr4-python3-runtime (setup.py) ... \u001b[?25l\u001b[?25hdone\n",
            "  Created wheel for antlr4-python3-runtime: filename=antlr4_python3_runtime-4.8-cp37-none-any.whl size=141231 sha256=9127f20d1765399d301404db2c1c24271526bdb7dbd9854ddc6801fc887ea55f\n",
            "  Stored in directory: /root/.cache/pip/wheels/e3/e2/fa/b78480b448b8579ddf393bebd3f47ee23aa84c89b6a78285c8\n",
            "Successfully built meerkat-ml cytoolz progressbar antlr4-python3-runtime\n",
            "\u001b[31mERROR: datasets 1.8.0 has requirement tqdm<4.50.0,>=4.27, but you'll have tqdm 4.61.1 which is incompatible.\u001b[0m\n",
            "Installing collected packages: dataclasses, cytoolz, ujson, jsonlines, tqdm, xxhash, fsspec, huggingface-hub, datasets, PyYAML, antlr4-python3-runtime, omegaconf, fuzzywuzzy, progressbar, meerkat-ml\n",
            "  Found existing installation: tqdm 4.41.1\n",
            "    Uninstalling tqdm-4.41.1:\n",
            "      Successfully uninstalled tqdm-4.41.1\n",
            "  Found existing installation: PyYAML 3.13\n",
            "    Uninstalling PyYAML-3.13:\n",
            "      Successfully uninstalled PyYAML-3.13\n",
            "Successfully installed PyYAML-5.4.1 antlr4-python3-runtime-4.8 cytoolz-0.11.0 dataclasses-0.6 datasets-1.8.0 fsspec-2021.6.1 fuzzywuzzy-0.18.0 huggingface-hub-0.0.12 jsonlines-2.0.0 meerkat-ml-0.0.2 omegaconf-2.1.0 progressbar-2.5 tqdm-4.61.1 ujson-4.0.2 xxhash-2.0.2\n"
          ],
          "name": "stdout"
        },
        {
          "output_type": "display_data",
          "data": {
            "application/vnd.colab-display-data+json": {
              "pip_warning": {
                "packages": [
                  "pydevd_plugins"
                ]
              }
            }
          },
          "metadata": {
            "tags": []
          }
        }
      ]
    },
    {
      "cell_type": "code",
      "metadata": {
        "id": "iUnl9Q6yBFvt"
      },
      "source": [
        "import os\n",
        "import meerkat as mk\n",
        "import numpy as np\n",
        "# Uncomment the line below to see whats going on under the hood\n",
        "# logging.getLogger(\"meerkat\").setLevel(logging.INFO)"
      ],
      "execution_count": null,
      "outputs": []
    },
    {
      "cell_type": "markdown",
      "metadata": {
        "id": "mkNfn3vqBFvt"
      },
      "source": [
        "## 💾 Downloading the data\n",
        "First, we'll download some data to explore. We're going to use the [Imagenette dataset](https://github.com/fastai/imagenette#image%E7%BD%91), a small subset of the original [ImageNet](https://www.image-net.org/update-mar-11-2021.php).  This dataset is made up of 10 classes (e.g. \"garbage truck\", \"gas pump\", \"golf ball\").\n",
        "- Download time: <1 minute\n",
        "- Download size: 130M\n",
        "\n",
        "In addition to downloading the data, `download_imagnette` prepares a CSV, \"imagenette.csv\", with a row for each image. "
      ]
    },
    {
      "cell_type": "code",
      "metadata": {
        "id": "SFYzaRtYBFvu",
        "colab": {
          "base_uri": "https://localhost:8080/",
          "height": 102,
          "referenced_widgets": [
            "d297d6f8aef54a0689ee1d5f2544deed",
            "4be99d47e58b44f894635df02ef2e854",
            "dfa95ea4650743fd9e5c52094f80dbdc",
            "3d022c3b8b9040e9a5ecb0d91df46736",
            "6cfe446e39aa414e83f6d1ab779bca3e",
            "13d65bb3cbb74568a08fd6e97ce5c7c3",
            "e66eb082f6cb424aa9398973c7661f6c",
            "3ba6e70c75a644b98792740b6a339430",
            "a54e97f56646442f8a6dfa14aaba61c0",
            "630ff0cce8e94045bb68b61d323c5d4f",
            "d8b00e6224e8470abf5ac8b20c293f08"
          ]
        },
        "outputId": "ea832ae4-25c6-41d8-d3e1-598b668e105d"
      },
      "source": [
        "from meerkat.contrib.imagenette import download_imagenette\n",
        "\n",
        "BASE_DIR = \"./datasets\"\n",
        "dataset_dir = download_imagenette(BASE_DIR);"
      ],
      "execution_count": null,
      "outputs": [
        {
          "output_type": "stream",
          "text": [
            "Downloading https://s3.amazonaws.com/fast-ai-imageclas/imagenette2-160.tgz to ./datasets/imagenette2-160.tgz\n"
          ],
          "name": "stdout"
        },
        {
          "output_type": "display_data",
          "data": {
            "application/vnd.jupyter.widget-view+json": {
              "model_id": "d297d6f8aef54a0689ee1d5f2544deed",
              "version_minor": 0,
              "version_major": 2
            },
            "text/plain": [
              "  0%|          | 0/99003388 [00:00<?, ?it/s]"
            ]
          },
          "metadata": {
            "tags": []
          }
        },
        {
          "output_type": "stream",
          "text": [
            "Extracting tar archive, this may take a few minutes...\n"
          ],
          "name": "stdout"
        }
      ]
    },
    {
      "cell_type": "markdown",
      "metadata": {
        "id": "S4DMPES7BFvu"
      },
      "source": [
        "## 📸 Creating an image `DataPanel`\n",
        "Meerkat's core contribution is the DataPanel, a simple columnar data abstraction. The Meerkat DataPanel can house columns of arbitrary type – from integers and strings to complex, high-dimensional objects like videos, images, medical volumes and graphs.\n",
        "\n",
        "We're going to build a `DataPanel` out of the \"imagenette.csv\" file from the download above. \n",
        "\n",
        "1. Create a `DataPanel` from a CSV using the `DataPanel.from_csv` class method.\n",
        "2. Create an `ImageColumn` from the the existing `\"img_path\"` column using the `DataPanel.from_filepaths` class method and add it to the the `DataPanel`. "
      ]
    },
    {
      "cell_type": "code",
      "metadata": {
        "id": "jdVetdvfBFvv",
        "colab": {
          "base_uri": "https://localhost:8080/",
          "height": 324
        },
        "outputId": "130f6a6a-e42a-4785-bd89-c7bd26209946"
      },
      "source": [
        "# 1. Create `DataPanel`\n",
        "dp = mk.DataPanel.from_csv(os.path.join(dataset_dir, \"imagenette.csv\"))\n",
        "# 2. Create `ImageColumn`\n",
        "dp[\"img\"] = mk.ImageColumn.from_filepaths(filepaths=dp[\"img_path\"])\n",
        "dp.head()"
      ],
      "execution_count": null,
      "outputs": [
        {
          "output_type": "execute_result",
          "data": {
            "text/html": [
              "<div>\n",
              "<style scoped>\n",
              "    .dataframe tbody tr th:only-of-type {\n",
              "        vertical-align: middle;\n",
              "    }\n",
              "\n",
              "    .dataframe tbody tr th {\n",
              "        vertical-align: top;\n",
              "    }\n",
              "\n",
              "    .dataframe thead th {\n",
              "        text-align: right;\n",
              "    }\n",
              "</style>\n",
              "<table border=\"1\" class=\"dataframe\">\n",
              "  <thead>\n",
              "    <tr style=\"text-align: right;\">\n",
              "      <th></th>\n",
              "      <th>img_path (NumpyArrayColumn)</th>\n",
              "      <th>label (NumpyArrayColumn)</th>\n",
              "      <th>label_id (NumpyArrayColumn)</th>\n",
              "      <th>label_idx (NumpyArrayColumn)</th>\n",
              "      <th>split (NumpyArrayColumn)</th>\n",
              "      <th>index (ListColumn)</th>\n",
              "      <th>img (ImageColumn)</th>\n",
              "    </tr>\n",
              "  </thead>\n",
              "  <tbody>\n",
              "    <tr>\n",
              "      <th>0</th>\n",
              "      <td>./datasets/imagenette2-160/train/n02979186/n02...</td>\n",
              "      <td>cassette player</td>\n",
              "      <td>n02979186</td>\n",
              "      <td>482</td>\n",
              "      <td>train</td>\n",
              "      <td>'0'</td>\n",
              "      <td>ImagePathCell(n02979186_9036.JPEG)</td>\n",
              "    </tr>\n",
              "    <tr>\n",
              "      <th>1</th>\n",
              "      <td>./datasets/imagenette2-160/train/n02979186/n02...</td>\n",
              "      <td>cassette player</td>\n",
              "      <td>n02979186</td>\n",
              "      <td>482</td>\n",
              "      <td>train</td>\n",
              "      <td>'1'</td>\n",
              "      <td>ImagePathCell(n02979186_11957.JPEG)</td>\n",
              "    </tr>\n",
              "    <tr>\n",
              "      <th>2</th>\n",
              "      <td>./datasets/imagenette2-160/train/n02979186/n02...</td>\n",
              "      <td>cassette player</td>\n",
              "      <td>n02979186</td>\n",
              "      <td>482</td>\n",
              "      <td>train</td>\n",
              "      <td>'2'</td>\n",
              "      <td>ImagePathCell(n02979186_9715.JPEG)</td>\n",
              "    </tr>\n",
              "    <tr>\n",
              "      <th>3</th>\n",
              "      <td>./datasets/imagenette2-160/train/n02979186/n02...</td>\n",
              "      <td>cassette player</td>\n",
              "      <td>n02979186</td>\n",
              "      <td>482</td>\n",
              "      <td>train</td>\n",
              "      <td>'3'</td>\n",
              "      <td>ImagePathCell(n02979186_21736.JPEG)</td>\n",
              "    </tr>\n",
              "    <tr>\n",
              "      <th>4</th>\n",
              "      <td>./datasets/imagenette2-160/train/n02979186/ILS...</td>\n",
              "      <td>cassette player</td>\n",
              "      <td>n02979186</td>\n",
              "      <td>482</td>\n",
              "      <td>train</td>\n",
              "      <td>'4'</td>\n",
              "      <td>ImagePathCell(ILSVRC2012_val_00046953.JPEG)</td>\n",
              "    </tr>\n",
              "  </tbody>\n",
              "</table>\n",
              "</div>"
            ],
            "text/plain": [
              "DataPanel(num_rows: 5)"
            ]
          },
          "metadata": {
            "tags": []
          },
          "execution_count": 7
        }
      ]
    },
    {
      "cell_type": "markdown",
      "metadata": {
        "id": "KwH-w4hPGD5K"
      },
      "source": [
        "The call to `head` shows the first few rows in the `DataPanel`. You can see that there are a few metadata columns, as well as the \"img\" column we added in."
      ]
    },
    {
      "cell_type": "markdown",
      "metadata": {
        "id": "xAwuS4WHBFvw"
      },
      "source": [
        "### 🗂 Indexing.\n",
        "When we create an `ImageColumn` we don't load the images into memory. Instead, `ImageColumn` keeps track of all those filepaths we passed in and only loads the images when they are accessed. "
      ]
    },
    {
      "cell_type": "code",
      "metadata": {
        "id": "tC5CQSkdBFvw",
        "colab": {
          "base_uri": "https://localhost:8080/",
          "height": 214
        },
        "outputId": "68626108-d93b-4cd2-d321-6777f25601b4"
      },
      "source": [
        "img = dp[\"img\"][0]\n",
        "print(f\"Indexing the `ImageColumn` returns an object of type: {type(img)}.\")\n",
        "display(img)"
      ],
      "execution_count": null,
      "outputs": [
        {
          "output_type": "stream",
          "text": [
            "Indexing the `ImageColumn` returns an object of type: <class 'PIL.Image.Image'>.\n"
          ],
          "name": "stdout"
        },
        {
          "output_type": "display_data",
          "data": {
            "image/png": "[encoded data removed]",
            "text/plain": [
              "<PIL.Image.Image image mode=RGB size=213x160 at 0x7FE000B84B90>"
            ]
          },
          "metadata": {
            "tags": []
          }
        }
      ]
    },
    {
      "cell_type": "markdown",
      "metadata": {
        "id": "jWEk5BRuBFvw"
      },
      "source": [
        "We can load a **batch** of images by indexing a slice. Notice that the output is a `ListColumn` of PIL images. "
      ]
    },
    {
      "cell_type": "code",
      "metadata": {
        "id": "PBJ9NqzWBFvx",
        "colab": {
          "base_uri": "https://localhost:8080/",
          "height": 178
        },
        "outputId": "f85e4750-74d7-4c1e-90aa-683fc81f8c1f"
      },
      "source": [
        "img = dp[\"img\"][1:4]\n",
        "print(f\"Indexing a slice of the `ImageColumn` returns a: {type(img)}.\")\n",
        "display(img)"
      ],
      "execution_count": null,
      "outputs": [
        {
          "output_type": "stream",
          "text": [
            "Indexing a slice of the `ImageColumn` returns a: <class 'meerkat.columns.list_column.ListColumn'>.\n"
          ],
          "name": "stdout"
        },
        {
          "output_type": "display_data",
          "data": {
            "text/html": [
              "<div>\n",
              "<style scoped>\n",
              "    .dataframe tbody tr th:only-of-type {\n",
              "        vertical-align: middle;\n",
              "    }\n",
              "\n",
              "    .dataframe tbody tr th {\n",
              "        vertical-align: top;\n",
              "    }\n",
              "\n",
              "    .dataframe thead th {\n",
              "        text-align: right;\n",
              "    }\n",
              "</style>\n",
              "<table border=\"1\" class=\"dataframe\">\n",
              "  <thead>\n",
              "    <tr style=\"text-align: right;\">\n",
              "      <th></th>\n",
              "      <th>(ListColumn)</th>\n",
              "    </tr>\n",
              "  </thead>\n",
              "  <tbody>\n",
              "    <tr>\n",
              "      <th>0</th>\n",
              "      <td>&lt;PIL.Image.Image image mode=RGB size=240x160 a...</td>\n",
              "    </tr>\n",
              "    <tr>\n",
              "      <th>1</th>\n",
              "      <td>&lt;PIL.Image.Image image mode=RGB size=160x216 a...</td>\n",
              "    </tr>\n",
              "    <tr>\n",
              "      <th>2</th>\n",
              "      <td>&lt;PIL.Image.Image image mode=RGB size=213x160 a...</td>\n",
              "    </tr>\n",
              "  </tbody>\n",
              "</table>\n",
              "</div>"
            ],
            "text/plain": [
              "ListColumn([<PIL.Image.Im...x7FE006DC6710>, <PIL.Image.Im...x7FE000280A50>, <PIL.Image.Im...x7FE000280890>])"
            ]
          },
          "metadata": {
            "tags": []
          }
        }
      ]
    },
    {
      "cell_type": "markdown",
      "metadata": {
        "id": "9NrvqZXNBFvx"
      },
      "source": [
        "### 🧫 _Aside_: `ImageColumn` under the hood, `CellColumn`.\n",
        "\n",
        "If you check out the implementation of `ImageColumn` (at [meerkat/columns/image_column.py](https://github.com/robustness-gym/meerkat/blob/main/mosaic/cells/imagepath.py)), you'll notice that it's a super simple subclass of `CellColumn`. \n",
        "\n",
        "_What's a `CellColumn`?_\n",
        "In `meerkat`, high-dimensional data types like images and videos are typically stored in a `CellColumn`. The advantage of using `CellColumn` (or one of its subclasses) is that we can easily create new column types (e.g. for medical volumes, SpacyDocs, or graphs) without dealing with the implementation complexity of a full column. Instead, we can think in terms of the individual elements in the column: the cells.  We implement a cell by subclassing `AbstractCell` and overriding the `get` method. `get` is called when the cell is accessed, like in the example above. Below is a simple implemenation of an `ImageCell` (the actual cell used by `ImageColumn` is `meerkat.cells.imagepath.ImagePath`, which has a few additional features not included here): \n",
        "\n",
        "\n",
        "```python\n",
        "from meerkat.cells.abstract import AbstractCell\n",
        "from torchvision.datasets.folder import default_loader\n",
        "\n",
        "class ImageCell(AbstractCell):\n",
        "\n",
        "    def __init__(self, filepath: str):\n",
        "        super(ImagePath, self).__init__()\n",
        "        self.filepath = filepath\n",
        "\n",
        "    def get(self, *args, **kwargs):\n",
        "        return default_loader(self.filepath)\n",
        "    \n",
        "    @classmethod\n",
        "    def _state_keys(cls) -> Collection:\n",
        "        return {\"filepath\"}\n",
        "```\n",
        "Notice that the `default_loader` isn't called on construction, only on `get`. Additionally, we need to specify the \"_state_keys\", the set of object attributes needed to recreate the cell. When writing the cell to disk, only these attributes are written. These attributes are typically the bare minimum required to reconstruct the cell."
      ]
    },
    {
      "cell_type": "markdown",
      "metadata": {
        "id": "3dUymeI5BFvx"
      },
      "source": [
        "### 🦥 Lazy indexing.\n",
        "What if we don't want to load the images? To access the underlying cell (without loading the image), use the lazy indexer, `lz`."
      ]
    },
    {
      "cell_type": "code",
      "metadata": {
        "id": "2LTim32RBFvy",
        "colab": {
          "base_uri": "https://localhost:8080/",
          "height": 70
        },
        "outputId": "99095a76-da4c-4096-dd58-848546729a9d"
      },
      "source": [
        "cell = dp[\"img\"].lz[8000]\n",
        "print(f\"Lazy indexing the `ImageColumn` returns an object of type: {type(cell)}.\")\n",
        "display(cell)"
      ],
      "execution_count": null,
      "outputs": [
        {
          "output_type": "stream",
          "text": [
            "Lazy indexing the `ImageColumn` returns an object of type: <class 'meerkat.cells.imagepath.ImagePath'>.\n"
          ],
          "name": "stdout"
        },
        {
          "output_type": "display_data",
          "data": {
            "text/plain": [
              "ImagePathCell(n03445777_18428.JPEG)"
            ]
          },
          "metadata": {
            "tags": []
          }
        }
      ]
    },
    {
      "cell_type": "markdown",
      "metadata": {
        "id": "iFQyDL-LBFvy"
      },
      "source": [
        "Note: **cells can survive on their own.** Everything we need to materialize the cell (e.g. the filepath to the image and the loading function) lives inside the cell, so we can call `cell.get()` to load the image even after the cell has been isolated from its original column. "
      ]
    },
    {
      "cell_type": "code",
      "metadata": {
        "id": "b9Vw2MiJBFvy",
        "colab": {
          "base_uri": "https://localhost:8080/",
          "height": 177
        },
        "outputId": "0d41d058-e3d5-45a0-e862-4dc6662f67a5"
      },
      "source": [
        "cell.get()"
      ],
      "execution_count": null,
      "outputs": [
        {
          "output_type": "execute_result",
          "data": {
            "image/png": "[encoded data removed]",
            "text/plain": [
              "<PIL.Image.Image image mode=RGB size=213x160 at 0x7FE000290C90>"
            ]
          },
          "metadata": {
            "tags": []
          },
          "execution_count": 11
        }
      ]
    },
    {
      "cell_type": "markdown",
      "metadata": {
        "id": "RNFGwDwyBFvz"
      },
      "source": [
        "Using the lazy indexer and one of the following indexing schemes, we can also access a **subset** of a `CellColumn`, which is itself a `CellColumn`.\n",
        "- **Slice indexing**: _e.g._ `column.lz[4:10]`\n",
        "- **Integer array indexing**: _e.g._ `column.lz[[0, 4, 6, 11]]`\n",
        "- **Boolean array indexing**: _e.g._ `column.lz[np.array([True, False, False ..., True, False])]`"
      ]
    },
    {
      "cell_type": "code",
      "metadata": {
        "id": "zwzK9i1cBFvz",
        "colab": {
          "base_uri": "https://localhost:8080/",
          "height": 209
        },
        "outputId": "c01ef974-4453-47c1-bf5d-0dd022b41b75"
      },
      "source": [
        "cells = dp[\"img\"].lz[12:16]\n",
        "print(f\"Lazy indexing a slice of the `ImageColumn` returns an object of type: {type(cells)}.\")\n",
        "display(cells)"
      ],
      "execution_count": null,
      "outputs": [
        {
          "output_type": "stream",
          "text": [
            "Lazy indexing a slice of the `ImageColumn` returns an object of type: <class 'meerkat.columns.image_column.ImageColumn'>.\n"
          ],
          "name": "stdout"
        },
        {
          "output_type": "display_data",
          "data": {
            "text/html": [
              "<div>\n",
              "<style scoped>\n",
              "    .dataframe tbody tr th:only-of-type {\n",
              "        vertical-align: middle;\n",
              "    }\n",
              "\n",
              "    .dataframe tbody tr th {\n",
              "        vertical-align: top;\n",
              "    }\n",
              "\n",
              "    .dataframe thead th {\n",
              "        text-align: right;\n",
              "    }\n",
              "</style>\n",
              "<table border=\"1\" class=\"dataframe\">\n",
              "  <thead>\n",
              "    <tr style=\"text-align: right;\">\n",
              "      <th></th>\n",
              "      <th>(ImageColumn)</th>\n",
              "    </tr>\n",
              "  </thead>\n",
              "  <tbody>\n",
              "    <tr>\n",
              "      <th>0</th>\n",
              "      <td>ImagePathCell(n02979186_2733.JPEG)</td>\n",
              "    </tr>\n",
              "    <tr>\n",
              "      <th>1</th>\n",
              "      <td>ImagePathCell(n02979186_23069.JPEG)</td>\n",
              "    </tr>\n",
              "    <tr>\n",
              "      <th>2</th>\n",
              "      <td>ImagePathCell(n02979186_2467.JPEG)</td>\n",
              "    </tr>\n",
              "    <tr>\n",
              "      <th>3</th>\n",
              "      <td>ImagePathCell(n02979186_3293.JPEG)</td>\n",
              "    </tr>\n",
              "  </tbody>\n",
              "</table>\n",
              "</div>"
            ],
            "text/plain": [
              "ImageColumn([ImagePathCell...186_2733.JPEG), ImagePathCell...86_23069.JPEG), ImagePathCell...186_2467.JPEG), ImagePathCell...186_3293.JPEG)])"
            ]
          },
          "metadata": {
            "tags": []
          }
        }
      ]
    },
    {
      "cell_type": "markdown",
      "metadata": {
        "id": "oTRBi48NBFv0"
      },
      "source": [
        "## 🛠 Applying operations over the DataPanel.\n",
        "\n",
        "When training and evaluating our models, we often perform operations on each example in our dataset (e.g. compute a model's prediction on each example, tokenize each sentence, compute a model's embedding for each example) and store them. The `DataPanel` makes it easy to perform these operations:  \n",
        "- Produce new columns (via `DataPanel.map`)\n",
        "- Produce new columns and store the columns alongside the original data (via `DataPanel.update`)\n",
        "- Extract an important subset of the datset (via `DataPanel.filter`).   \n",
        "\n",
        "Under the hood, dataloading is multiprocessed so that costly I/O doesn't bottleneck our computation.\n",
        "\n",
        "Let's start by filtering the `DataPanel` down to the first 1,000 examples in the validation set. Note that we use the lazy indexer `lz` to avoid loading all of the images. "
      ]
    },
    {
      "cell_type": "code",
      "metadata": {
        "id": "VsLKHopyBFv1"
      },
      "source": [
        "valid_dp = dp.lz[dp[\"split\"].data == \"valid\"]"
      ],
      "execution_count": null,
      "outputs": []
    },
    {
      "cell_type": "markdown",
      "metadata": {
        "id": "TTzW0eUnBFv1"
      },
      "source": [
        "### 🫐  Using `DataPanel.map` to compute average intensity of the blue color channel in the images.\n",
        "\n",
        "To demonstrate the utility `map` operation, we'll explore the relationship between the \"blueness\" of an image and the class of the image. \n",
        "\n",
        "We'll quantify the \"blueness\" of each image by simply computing the mean intensity of the blue color channel. This can be accomplished with a simple `map` operation over the `DataPanel`:"
      ]
    },
    {
      "cell_type": "code",
      "metadata": {
        "colab": {
          "base_uri": "https://localhost:8080/",
          "height": 49,
          "referenced_widgets": [
            "c71a032df9964770973006e2e9dfe69b",
            "ee06dceab96b4396b10aec0c8f6d1880",
            "b30961e907a54f1a8f432440800784c0",
            "40d288ec9305413ba933374953b9f110",
            "664c4a50259241198b771b00fd37db91",
            "14f539ef54bd4e2ea8233198550cc68a",
            "3048de3634504cc98061f5634bdd67bf",
            "287343a41ea44b1e8c74f5c2d5c3d759",
            "10b27e05597444758b912b848daafee2",
            "0dfc24642e2b4831b5f59280464f9cb7",
            "0f81be50e8c04a73a98e3183e0043d07"
          ]
        },
        "id": "VHd55kZeBFv1",
        "outputId": "34af4317-2122-4e82-ec35-6ff7684efc7e"
      },
      "source": [
        "blue_col = valid_dp.map(\n",
        "    lambda x: np.array(x[\"img\"])[:, :, 2].mean(), \n",
        "    pbar=True, \n",
        "    num_workers=2\n",
        ")\n",
        "valid_dp[\"avg_blue\"] = blue_col  # add the intensities as a new column in the `DataPanel` "
      ],
      "execution_count": null,
      "outputs": [
        {
          "output_type": "display_data",
          "data": {
            "application/vnd.jupyter.widget-view+json": {
              "model_id": "c71a032df9964770973006e2e9dfe69b",
              "version_minor": 0,
              "version_major": 2
            },
            "text/plain": [
              "  0%|          | 0/3925 [00:00<?, ?it/s]"
            ]
          },
          "metadata": {
            "tags": []
          }
        }
      ]
    },
    {
      "cell_type": "markdown",
      "metadata": {
        "id": "h2Hil5ZOBFv1"
      },
      "source": [
        "🪂 vs. ⛳️\n",
        "Next, we'll explore the relationship between blueness and the class label of the image. To do so, we'll compare the blue intensity distribution of images labeled \"parachute\" to the distribution of of images labeled \"golf ball\".\n",
        "Using the [`seaborn`](https://seaborn.pydata.org/installing.html) plotting package and our `DataPanel`, this can be accomplished in one line: "
      ]
    },
    {
      "cell_type": "code",
      "metadata": {
        "colab": {
          "base_uri": "https://localhost:8080/"
        },
        "id": "L3HmgTQOHETD",
        "outputId": "f74ac6dc-8b3d-4160-d8aa-c44f6675a9d9"
      },
      "source": [
        "!pip install seaborn"
      ],
      "execution_count": null,
      "outputs": [
        {
          "output_type": "stream",
          "text": [
            "Requirement already satisfied: seaborn in /usr/local/lib/python3.7/dist-packages (0.11.1)\n",
            "Requirement already satisfied: matplotlib>=2.2 in /usr/local/lib/python3.7/dist-packages (from seaborn) (3.2.2)\n",
            "Requirement already satisfied: numpy>=1.15 in /usr/local/lib/python3.7/dist-packages (from seaborn) (1.19.5)\n",
            "Requirement already satisfied: scipy>=1.0 in /usr/local/lib/python3.7/dist-packages (from seaborn) (1.4.1)\n",
            "Requirement already satisfied: pandas>=0.23 in /usr/local/lib/python3.7/dist-packages (from seaborn) (1.1.5)\n",
            "Requirement already satisfied: python-dateutil>=2.1 in /usr/local/lib/python3.7/dist-packages (from matplotlib>=2.2->seaborn) (2.8.1)\n",
            "Requirement already satisfied: cycler>=0.10 in /usr/local/lib/python3.7/dist-packages (from matplotlib>=2.2->seaborn) (0.10.0)\n",
            "Requirement already satisfied: kiwisolver>=1.0.1 in /usr/local/lib/python3.7/dist-packages (from matplotlib>=2.2->seaborn) (1.3.1)\n",
            "Requirement already satisfied: pyparsing!=2.0.4,!=2.1.2,!=2.1.6,>=2.0.1 in /usr/local/lib/python3.7/dist-packages (from matplotlib>=2.2->seaborn) (2.4.7)\n",
            "Requirement already satisfied: pytz>=2017.2 in /usr/local/lib/python3.7/dist-packages (from pandas>=0.23->seaborn) (2018.9)\n",
            "Requirement already satisfied: six>=1.5 in /usr/local/lib/python3.7/dist-packages (from python-dateutil>=2.1->matplotlib>=2.2->seaborn) (1.15.0)\n"
          ],
          "name": "stdout"
        }
      ]
    },
    {
      "cell_type": "code",
      "metadata": {
        "id": "FaoPPtJ3BFv2",
        "colab": {
          "base_uri": "https://localhost:8080/",
          "height": 226
        },
        "outputId": "2002ef73-0d2b-4b5e-dfbb-f19e1f69a584"
      },
      "source": [
        "## OPTIONAL: this cell requires the seaborn dependency: https://seaborn.pydata.org/installing.html \n",
        "import seaborn as sns\n",
        "plot_dp = valid_dp[np.isin(valid_dp[\"label\"], [\"golf ball\", \"parachute\"])]\n",
        "sns.displot(\n",
        "    data=plot_dp.to_pandas(), \n",
        "    x=\"avg_blue\", \n",
        "    hue=\"label\", \n",
        "    height=3, \n",
        "    aspect=2\n",
        ");"
      ],
      "execution_count": null,
      "outputs": [
        {
          "output_type": "display_data",
          "data": {
            "image/png": "[encoded data removed]",
            "text/plain": [
              "<Figure size 518.875x216 with 1 Axes>"
            ]
          },
          "metadata": {
            "tags": [],
            "needs_background": "light"
          }
        }
      ]
    },
    {
      "cell_type": "markdown",
      "metadata": {
        "id": "F7AuJ7aRBFv2"
      },
      "source": [
        "Looks like images of parachutes are quite a bit more blue than images of golf balls. To understand why this might be the case, we'll take a look at the image with the highest blue intensity:"
      ]
    },
    {
      "cell_type": "code",
      "metadata": {
        "id": "JwzhyEHVBFv2",
        "colab": {
          "base_uri": "https://localhost:8080/",
          "height": 177
        },
        "outputId": "f9154383-29be-497a-d45b-37915c264d89"
      },
      "source": [
        "valid_dp[\"img\"][int(np.argmax(valid_dp[\"avg_blue\"]))]"
      ],
      "execution_count": null,
      "outputs": [
        {
          "output_type": "execute_result",
          "data": {
            "image/png": "[encoded data removed]",
            "text/plain": [
              "<PIL.Image.Image image mode=RGB size=243x160 at 0x7FE00036A5D0>"
            ]
          },
          "metadata": {
            "tags": []
          },
          "execution_count": 17
        }
      ]
    },
    {
      "cell_type": "markdown",
      "metadata": {
        "id": "uz-Q6aF1BFv2"
      },
      "source": [
        "Photos of parachutes usually have the sky behind them! Checks out that they're so blue..."
      ]
    },
    {
      "cell_type": "markdown",
      "metadata": {
        "id": "8eSWhT6nBFv2"
      },
      "source": [
        "## 📉 ML with images in `meerkat`.\n",
        "\n",
        "Let's do some machine learning on our Imagenette `DataPanel`.\n",
        "We'll take a resnet18 pretrained on the full ImageNet dataset, perform inference on the validation set, and analyze the model's predictions and activations. \n",
        "\n",
        "The cell below downloads the model.. "
      ]
    },
    {
      "cell_type": "code",
      "metadata": {
        "id": "f7exh7muBFv3",
        "colab": {
          "base_uri": "https://localhost:8080/",
          "height": 86,
          "referenced_widgets": [
            "f044ec532d5549d2b17aab1eb9d9134a",
            "669fceff0bf84321b2054504a67f6d84",
            "d10f7eaf7a994bbf8550113f316337a8",
            "9d0a76ac9c9e46838b55b561df03dc37",
            "77fd0f76f78748f59db217054ad721be",
            "e2413859f208465e892fa985ac18865c",
            "c4dfb56cf73b45e1af7415b935dbede5",
            "4b8f98fa5f154dfca040965fa38dc046",
            "b63fe6abd64c40f19e0f333662316e42",
            "e99d2984aa034ba381c7467c875fb136",
            "74e758f7db1f468fbbe0fe1f14b64087"
          ]
        },
        "outputId": "afcddd5c-49fd-4899-a1fb-3b918eb53aba"
      },
      "source": [
        "import torch\n",
        "from torchvision.models import resnet18\n",
        "import torchvision.transforms as transforms\n",
        "model = resnet18(pretrained=True)"
      ],
      "execution_count": null,
      "outputs": [
        {
          "output_type": "stream",
          "text": [
            "Downloading: \"https://download.pytorch.org/models/resnet18-f37072fd.pth\" to /root/.cache/torch/hub/checkpoints/resnet18-f37072fd.pth\n"
          ],
          "name": "stderr"
        },
        {
          "output_type": "display_data",
          "data": {
            "application/vnd.jupyter.widget-view+json": {
              "model_id": "f044ec532d5549d2b17aab1eb9d9134a",
              "version_minor": 0,
              "version_major": 2
            },
            "text/plain": [
              "  0%|          | 0.00/44.7M [00:00<?, ?B/s]"
            ]
          },
          "metadata": {
            "tags": []
          }
        }
      ]
    },
    {
      "cell_type": "markdown",
      "metadata": {
        "id": "BXx8K2HwBFv3"
      },
      "source": [
        "### 💈  Creating an `ImageColumn` with a transform.\n",
        "In order to do inference, we'll need to create a _new_ `ImageColumn`. The `ImageColumn` we defined above (_i.e._ `\"img_path\"`), does not apply any transforms after loading and simply returns a PIL image. Before passing the images through the model, we need to convert the PIL image to a `torch.Tensor` and normalize the color channels (along with a few other transformations). \n",
        "\n",
        "Note: the transforms defined below are the same as the ones used by torchvision, see [here](https://github.com/pytorch/examples/blob/cbb760d5e50a03df667cdc32a61f75ac28e11cbf/imagenet/main.py#L225). \n",
        "\n",
        "In the cell below, we specify a transform when creating the `ImageColumn`."
      ]
    },
    {
      "cell_type": "code",
      "metadata": {
        "id": "xgW1iIkeBFv3"
      },
      "source": [
        "# 1. Define transform\n",
        "transform = transforms.Compose([\n",
        "    transforms.Resize(256),\n",
        "    transforms.CenterCrop(224),\n",
        "    transforms.ToTensor(),\n",
        "    transforms.Normalize(\n",
        "        mean=[0.485, 0.456, 0.406],\n",
        "        std=[0.229, 0.224, 0.225]),\n",
        "])\n",
        "\n",
        "# 2. Create new column with transform \n",
        "valid_dp[\"input\"] = mk.ImageColumn.from_filepaths(\n",
        "    filepaths=valid_dp[\"img_path\"], \n",
        "    transform=transform,\n",
        ")"
      ],
      "execution_count": null,
      "outputs": []
    },
    {
      "cell_type": "markdown",
      "metadata": {
        "id": "2btIlmPSBFv4"
      },
      "source": [
        "Notice that indexing this new `ImageColumn` returns a `torch.Tensor`, not a PIL image...  "
      ]
    },
    {
      "cell_type": "code",
      "metadata": {
        "id": "eAbmpNvmBFv4",
        "colab": {
          "base_uri": "https://localhost:8080/"
        },
        "outputId": "28011e40-be42-4424-f873-310e58793431"
      },
      "source": [
        "img = valid_dp[\"input\"][0]\n",
        "print(f\"Indexing the `ImageColumn` returns an object of type: {type(img)}.\")"
      ],
      "execution_count": null,
      "outputs": [
        {
          "output_type": "stream",
          "text": [
            "Indexing the `ImageColumn` returns an object of type: <class 'torch.Tensor'>.\n"
          ],
          "name": "stdout"
        }
      ]
    },
    {
      "cell_type": "markdown",
      "metadata": {
        "id": "kpfQa-i5BFv5"
      },
      "source": [
        "... and that indexing a slice of this new `ImageColumn` returns a `TensorColumn`, not a `ListColumn` of PIL images."
      ]
    },
    {
      "cell_type": "code",
      "metadata": {
        "id": "UVUkCY6DBFv7",
        "colab": {
          "base_uri": "https://localhost:8080/",
          "height": 178
        },
        "outputId": "b423f238-31bb-4187-9592-400ab9b7cd0c"
      },
      "source": [
        "col = img = valid_dp[\"input\"][:3]\n",
        "print(f\"Indexing a slice of the `ImageColumn` returns an object of type: {type(img)}.\")\n",
        "display(col)"
      ],
      "execution_count": null,
      "outputs": [
        {
          "output_type": "stream",
          "text": [
            "Indexing a slice of the `ImageColumn` returns an object of type: <class 'meerkat.columns.tensor_column.TensorColumn'>.\n"
          ],
          "name": "stdout"
        },
        {
          "output_type": "display_data",
          "data": {
            "text/html": [
              "<div>\n",
              "<style scoped>\n",
              "    .dataframe tbody tr th:only-of-type {\n",
              "        vertical-align: middle;\n",
              "    }\n",
              "\n",
              "    .dataframe tbody tr th {\n",
              "        vertical-align: top;\n",
              "    }\n",
              "\n",
              "    .dataframe thead th {\n",
              "        text-align: right;\n",
              "    }\n",
              "</style>\n",
              "<table border=\"1\" class=\"dataframe\">\n",
              "  <thead>\n",
              "    <tr style=\"text-align: right;\">\n",
              "      <th></th>\n",
              "      <th>(TensorColumn)</th>\n",
              "    </tr>\n",
              "  </thead>\n",
              "  <tbody>\n",
              "    <tr>\n",
              "      <th>0</th>\n",
              "      <td>torch.Tensor(shape=torch.Size([3, 224, 224]))</td>\n",
              "    </tr>\n",
              "    <tr>\n",
              "      <th>1</th>\n",
              "      <td>torch.Tensor(shape=torch.Size([3, 224, 224]))</td>\n",
              "    </tr>\n",
              "    <tr>\n",
              "      <th>2</th>\n",
              "      <td>torch.Tensor(shape=torch.Size([3, 224, 224]))</td>\n",
              "    </tr>\n",
              "  </tbody>\n",
              "</table>\n",
              "</div>"
            ],
            "text/plain": [
              "TensorColumn(tensor([[[[ 2...,  1.1411]]]]))"
            ]
          },
          "metadata": {
            "tags": []
          }
        }
      ]
    },
    {
      "cell_type": "markdown",
      "metadata": {
        "id": "at6OcLsuHj7A"
      },
      "source": [
        "Let's see what the full `DataPanel` looks like now.  "
      ]
    },
    {
      "cell_type": "code",
      "metadata": {
        "colab": {
          "base_uri": "https://localhost:8080/",
          "height": 324
        },
        "id": "yiuEjd8FHhht",
        "outputId": "8eb57a1a-6061-403a-f3fe-04cc407b757f"
      },
      "source": [
        "valid_dp.head()"
      ],
      "execution_count": null,
      "outputs": [
        {
          "output_type": "execute_result",
          "data": {
            "text/html": [
              "<div>\n",
              "<style scoped>\n",
              "    .dataframe tbody tr th:only-of-type {\n",
              "        vertical-align: middle;\n",
              "    }\n",
              "\n",
              "    .dataframe tbody tr th {\n",
              "        vertical-align: top;\n",
              "    }\n",
              "\n",
              "    .dataframe thead th {\n",
              "        text-align: right;\n",
              "    }\n",
              "</style>\n",
              "<table border=\"1\" class=\"dataframe\">\n",
              "  <thead>\n",
              "    <tr style=\"text-align: right;\">\n",
              "      <th></th>\n",
              "      <th>img_path (NumpyArrayColumn)</th>\n",
              "      <th>label (NumpyArrayColumn)</th>\n",
              "      <th>label_id (NumpyArrayColumn)</th>\n",
              "      <th>label_idx (NumpyArrayColumn)</th>\n",
              "      <th>split (NumpyArrayColumn)</th>\n",
              "      <th>index (ListColumn)</th>\n",
              "      <th>img (ImageColumn)</th>\n",
              "      <th>avg_blue (NumpyArrayColumn)</th>\n",
              "      <th>input (ImageColumn)</th>\n",
              "    </tr>\n",
              "  </thead>\n",
              "  <tbody>\n",
              "    <tr>\n",
              "      <th>0</th>\n",
              "      <td>./datasets/imagenette2-160/val/n02979186/n0297...</td>\n",
              "      <td>cassette player</td>\n",
              "      <td>n02979186</td>\n",
              "      <td>482</td>\n",
              "      <td>valid</td>\n",
              "      <td>'9469'</td>\n",
              "      <td>ImagePathCell(n02979186_8971.JPEG)</td>\n",
              "      <td>185.601094</td>\n",
              "      <td>ImagePathCell(n02979186_8971.JPEG)</td>\n",
              "    </tr>\n",
              "    <tr>\n",
              "      <th>1</th>\n",
              "      <td>./datasets/imagenette2-160/val/n02979186/n0297...</td>\n",
              "      <td>cassette player</td>\n",
              "      <td>n02979186</td>\n",
              "      <td>482</td>\n",
              "      <td>valid</td>\n",
              "      <td>'9470'</td>\n",
              "      <td>ImagePathCell(n02979186_14550.JPEG)</td>\n",
              "      <td>62.194748</td>\n",
              "      <td>ImagePathCell(n02979186_14550.JPEG)</td>\n",
              "    </tr>\n",
              "    <tr>\n",
              "      <th>2</th>\n",
              "      <td>./datasets/imagenette2-160/val/n02979186/n0297...</td>\n",
              "      <td>cassette player</td>\n",
              "      <td>n02979186</td>\n",
              "      <td>482</td>\n",
              "      <td>valid</td>\n",
              "      <td>'9471'</td>\n",
              "      <td>ImagePathCell(n02979186_11971.JPEG)</td>\n",
              "      <td>130.162500</td>\n",
              "      <td>ImagePathCell(n02979186_11971.JPEG)</td>\n",
              "    </tr>\n",
              "    <tr>\n",
              "      <th>3</th>\n",
              "      <td>./datasets/imagenette2-160/val/n02979186/n0297...</td>\n",
              "      <td>cassette player</td>\n",
              "      <td>n02979186</td>\n",
              "      <td>482</td>\n",
              "      <td>valid</td>\n",
              "      <td>'9472'</td>\n",
              "      <td>ImagePathCell(n02979186_11550.JPEG)</td>\n",
              "      <td>32.186978</td>\n",
              "      <td>ImagePathCell(n02979186_11550.JPEG)</td>\n",
              "    </tr>\n",
              "    <tr>\n",
              "      <th>4</th>\n",
              "      <td>./datasets/imagenette2-160/val/n02979186/n0297...</td>\n",
              "      <td>cassette player</td>\n",
              "      <td>n02979186</td>\n",
              "      <td>482</td>\n",
              "      <td>valid</td>\n",
              "      <td>'9473'</td>\n",
              "      <td>ImagePathCell(n02979186_8751.JPEG)</td>\n",
              "      <td>57.249444</td>\n",
              "      <td>ImagePathCell(n02979186_8751.JPEG)</td>\n",
              "    </tr>\n",
              "  </tbody>\n",
              "</table>\n",
              "</div>"
            ],
            "text/plain": [
              "DataPanel(num_rows: 5)"
            ]
          },
          "metadata": {
            "tags": []
          },
          "execution_count": 23
        }
      ]
    },
    {
      "cell_type": "markdown",
      "metadata": {
        "id": "hoXRDRjgBFv9"
      },
      "source": [
        "### 💫 Computing model predictions and activations.\n",
        "We'd like to perform inference and extract:\n",
        "  \n",
        "1. Output predictions  \n",
        "2. Output class probabilities  \n",
        "3. Model activations \n",
        "\n",
        "Note: in order to extract model activations, we'll need to use a [PyTorch forward hook](https://pytorch.org/tutorials/beginner/former_torchies/nnft_tutorial.html#forward-and-backward-function-hooks) and register it on the final layer of the ResNet. Forward hooks are just functions that get executed on the forward pass of a `torch.nn.Module`. "
      ]
    },
    {
      "cell_type": "code",
      "metadata": {
        "id": "rY1PbA4oBFv_"
      },
      "source": [
        "# 1. Define the forward hook\n",
        "class ActivationExtractor:\n",
        "    \"\"\"Extracting activations a targetted intermediate layer\"\"\"\n",
        "\n",
        "    def __init__(self):\n",
        "        self.activation = None\n",
        "\n",
        "    def forward_hook(self, module, input, output):\n",
        "        self.activation = output\n",
        "\n",
        "# 2. Register the forward hook\n",
        "extractor = ActivationExtractor()\n",
        "model.layer4.register_forward_hook(extractor.forward_hook);"
      ],
      "execution_count": null,
      "outputs": []
    },
    {
      "cell_type": "markdown",
      "metadata": {
        "id": "2hijH1t8BFwA"
      },
      "source": [
        "We want to apply a forward pass to each image in the `DataPanel` and store the outputs as new columns: `DataPanel.update` is perfectly suited for this task. \n",
        "\n",
        "Like `map`, `update` accepts a function and applies it to batches of rows in the the `DataPanel`. Unlike `map`, `update` must return a dictionary. Each key in the dictionary corresponds to a new column that will be added to the updated `DataPanel`. \n",
        "\n"
      ]
    },
    {
      "cell_type": "code",
      "metadata": {
        "colab": {
          "base_uri": "https://localhost:8080/",
          "height": 102,
          "referenced_widgets": [
            "dac05275cfa74373b684f12536a75305",
            "3aaa128a5c424e0abdd87bf0e58cd413",
            "1db9617daf0c4089adf1fdd40e3c26f6",
            "57a37d74adc84e8b81c19c4a2c9b8c36",
            "83346fb76d054a36a49e280d3d5aa332",
            "74cb6b7488494dce8794864d7037717a",
            "8ba301f9d56f4f199e25c006e6f80313",
            "cb75d3c8401d4a7592972107394dd169",
            "fd8107d769d440098193d07824033f13",
            "d843c945ea6c47ac84b28b28a62012d5",
            "ca45c8b3f029453293999b36317afaaf"
          ]
        },
        "id": "Mpzm2_PXBFwA",
        "outputId": "c336a6b6-822a-4b19-e3d6-ecd2b38814d6"
      },
      "source": [
        "# 1. Move the model to GPU\n",
        "model.to(0).eval()\n",
        "\n",
        "# 2. Define a function that runs a forward pass over a batch \n",
        "@torch.no_grad()\n",
        "def predict(batch: mk.DataPanel):\n",
        "    input_col: mk.TensorColumn = batch[\"input\"] \n",
        "    x: torch.Tensor = input_col.data.to(0)  # We get the underlying torch tensor with `data` and move to GPU \n",
        "    out: torch.Tensor = model(x)  # Run forward pass\n",
        "\n",
        "    # Return a dictionary with one key for each of the new columns. Each value in the\n",
        "    # dictionary should have the same length as the batch. \n",
        "    return {\n",
        "        \"pred\": out.cpu().numpy().argmax(axis=-1),\n",
        "        \"probs\": torch.softmax(out, axis=-1).cpu(),\n",
        "        \"activation\": mk.EmbeddingColumn(extractor.activation.mean(dim=[-1,-2]).cpu())\n",
        "    }\n",
        "# 3. Apply the update. Note that the `predict` function operates on batches, so we set \n",
        "# `batched=True`. Also, the `predict` function only accesses the \"input\" column, by \n",
        "# specifying that here we instruct update to only load that one column and skip others \n",
        "valid_dp = valid_dp.update(\n",
        "    function=predict,\n",
        "    is_batched_fn=True,\n",
        "    batch_size=32,\n",
        "    input_columns=[\"input\"], \n",
        "    pbar=True\n",
        ")"
      ],
      "execution_count": null,
      "outputs": [
        {
          "output_type": "stream",
          "text": [
            "/usr/local/lib/python3.7/dist-packages/torch/nn/functional.py:718: UserWarning: Named tensors and all their associated APIs are an experimental feature and subject to change. Please do not use them for anything important until they are released as stable. (Triggered internally at  /pytorch/c10/core/TensorImpl.h:1156.)\n",
            "  return torch.max_pool2d(input, kernel_size, stride, padding, dilation, ceil_mode)\n"
          ],
          "name": "stderr"
        },
        {
          "output_type": "display_data",
          "data": {
            "application/vnd.jupyter.widget-view+json": {
              "model_id": "dac05275cfa74373b684f12536a75305",
              "version_minor": 0,
              "version_major": 2
            },
            "text/plain": [
              "  0%|          | 0/123 [00:00<?, ?it/s]"
            ]
          },
          "metadata": {
            "tags": []
          }
        }
      ]
    },
    {
      "cell_type": "markdown",
      "metadata": {
        "id": "0iVbqFvWBFwB"
      },
      "source": [
        "The predictions, output probabilities, and activations are now stored alongside the examples in the `DataPanel`. "
      ]
    },
    {
      "cell_type": "code",
      "metadata": {
        "id": "BHOtokVFBFwB",
        "colab": {
          "base_uri": "https://localhost:8080/",
          "height": 240
        },
        "outputId": "d61fd7a5-69cd-4267-c62d-4c197775b715"
      },
      "source": [
        "valid_dp[[\"label_id\", \"input\", \"pred\", \"probs\", \"activation\"]].head()"
      ],
      "execution_count": null,
      "outputs": [
        {
          "output_type": "execute_result",
          "data": {
            "text/html": [
              "<div>\n",
              "<style scoped>\n",
              "    .dataframe tbody tr th:only-of-type {\n",
              "        vertical-align: middle;\n",
              "    }\n",
              "\n",
              "    .dataframe tbody tr th {\n",
              "        vertical-align: top;\n",
              "    }\n",
              "\n",
              "    .dataframe thead th {\n",
              "        text-align: right;\n",
              "    }\n",
              "</style>\n",
              "<table border=\"1\" class=\"dataframe\">\n",
              "  <thead>\n",
              "    <tr style=\"text-align: right;\">\n",
              "      <th></th>\n",
              "      <th>label_id (NumpyArrayColumn)</th>\n",
              "      <th>input (ImageColumn)</th>\n",
              "      <th>pred (NumpyArrayColumn)</th>\n",
              "      <th>probs (TensorColumn)</th>\n",
              "      <th>activation (EmbeddingColumn)</th>\n",
              "      <th>index (ListColumn)</th>\n",
              "    </tr>\n",
              "  </thead>\n",
              "  <tbody>\n",
              "    <tr>\n",
              "      <th>0</th>\n",
              "      <td>n02979186</td>\n",
              "      <td>ImagePathCell(n02979186_8971.JPEG)</td>\n",
              "      <td>482</td>\n",
              "      <td>torch.Tensor(shape=torch.Size([1000]))</td>\n",
              "      <td>torch.Tensor(shape=torch.Size([512]))</td>\n",
              "      <td>'9469'</td>\n",
              "    </tr>\n",
              "    <tr>\n",
              "      <th>1</th>\n",
              "      <td>n02979186</td>\n",
              "      <td>ImagePathCell(n02979186_14550.JPEG)</td>\n",
              "      <td>754</td>\n",
              "      <td>torch.Tensor(shape=torch.Size([1000]))</td>\n",
              "      <td>torch.Tensor(shape=torch.Size([512]))</td>\n",
              "      <td>'9470'</td>\n",
              "    </tr>\n",
              "    <tr>\n",
              "      <th>2</th>\n",
              "      <td>n02979186</td>\n",
              "      <td>ImagePathCell(n02979186_11971.JPEG)</td>\n",
              "      <td>482</td>\n",
              "      <td>torch.Tensor(shape=torch.Size([1000]))</td>\n",
              "      <td>torch.Tensor(shape=torch.Size([512]))</td>\n",
              "      <td>'9471'</td>\n",
              "    </tr>\n",
              "    <tr>\n",
              "      <th>3</th>\n",
              "      <td>n02979186</td>\n",
              "      <td>ImagePathCell(n02979186_11550.JPEG)</td>\n",
              "      <td>482</td>\n",
              "      <td>torch.Tensor(shape=torch.Size([1000]))</td>\n",
              "      <td>torch.Tensor(shape=torch.Size([512]))</td>\n",
              "      <td>'9472'</td>\n",
              "    </tr>\n",
              "    <tr>\n",
              "      <th>4</th>\n",
              "      <td>n02979186</td>\n",
              "      <td>ImagePathCell(n02979186_8751.JPEG)</td>\n",
              "      <td>482</td>\n",
              "      <td>torch.Tensor(shape=torch.Size([1000]))</td>\n",
              "      <td>torch.Tensor(shape=torch.Size([512]))</td>\n",
              "      <td>'9473'</td>\n",
              "    </tr>\n",
              "  </tbody>\n",
              "</table>\n",
              "</div>"
            ],
            "text/plain": [
              "DataPanel(num_rows: 5)"
            ]
          },
          "metadata": {
            "tags": []
          },
          "execution_count": 28
        }
      ]
    },
    {
      "cell_type": "markdown",
      "metadata": {
        "id": "YBjBHfIGBFwB"
      },
      "source": [
        "### 🎯  Computing metrics and analyzing performance. \n",
        "\n",
        "Computing statistics on Meerkat `DataPanels` is straightforward because standard NumPy operators and functions can be applied directly to a `NumpyArrayColumn`. We take advantage of this below to compute the accuracy of the model."
      ]
    },
    {
      "cell_type": "code",
      "metadata": {
        "id": "rs4Wlp5qBFwB",
        "colab": {
          "base_uri": "https://localhost:8080/"
        },
        "outputId": "5f1967f0-97a1-4337-af70-1dc3d6b707e5"
      },
      "source": [
        "valid_dp[\"correct\"] = valid_dp[\"pred\"] == valid_dp[\"label_idx\"]\n",
        "accuracy = np.mean(valid_dp[\"correct\"])\n",
        "print(f\"Micro accuracy across the ten Imagenette classes: {accuracy:0.3}\")"
      ],
      "execution_count": null,
      "outputs": [
        {
          "output_type": "stream",
          "text": [
            "Micro accuracy across the ten Imagenette classes: 0.672\n"
          ],
          "name": "stdout"
        }
      ]
    },
    {
      "cell_type": "markdown",
      "metadata": {
        "id": "IHiy77uWBFwC"
      },
      "source": [
        "Furthermore, since the `DataPanel` is naturally converted to a Pandas DataFrame, it's easy to use data visualization tools that interface with Pandas (_e.g._ seaborn, bokeh)."
      ]
    },
    {
      "cell_type": "code",
      "metadata": {
        "id": "DRDUGt-hBFwD",
        "colab": {
          "base_uri": "https://localhost:8080/",
          "height": 279
        },
        "outputId": "773bb62a-ccd6-4b9e-93cf-5366caf7b789"
      },
      "source": [
        "## OPTIONAL: this cell requires the seaborn dependency: https://seaborn.pydata.org/installing.html \n",
        "import seaborn as sns\n",
        "import matplotlib.pyplot as plt\n",
        "sns.barplot(data=valid_dp.to_pandas(), y=\"label\", x=\"correct\");"
      ],
      "execution_count": null,
      "outputs": [
        {
          "output_type": "display_data",
          "data": {
            "image/png": "[encoded data removed]",
            "text/plain": [
              "<Figure size 432x288 with 1 Axes>"
            ]
          },
          "metadata": {
            "tags": [],
            "needs_background": "light"
          }
        }
      ]
    },
    {
      "cell_type": "markdown",
      "metadata": {
        "id": "IAkoCFPgBFwD"
      },
      "source": [
        "### 🔎  Exploring model activations.\n",
        "To better understand the behavior of our model, we'll explore the activations of the final convolutional layer of the ResNet. Recall that when we performed our forward pass, we extracted these activations and stored them in a new column called `\"activation\"`.\n",
        "\n",
        "Unlike the the `NumpyArrayColumn`s we've been working with so far, the activation column has an additional dimension of size 512."
      ]
    },
    {
      "cell_type": "markdown",
      "metadata": {
        "id": "vYQ4doR6BFwD"
      },
      "source": [
        "To visualize the activations, we'll use a dimensionality reduction technique ([UMAP](https://umap-learn.readthedocs.io/en/latest/)) to embed the activations in two dimensions. We'll store these embeddings in two new columns \"umap_0\" and \"umap_1\". "
      ]
    },
    {
      "cell_type": "code",
      "metadata": {
        "id": "EyZU3zBXBFwD",
        "colab": {
          "base_uri": "https://localhost:8080/"
        },
        "outputId": "abd777f7-6e02-4b96-a167-1fd0089b0c69"
      },
      "source": [
        "## OPTIONAL: this cell requires the umap dependency: https://umap-learn.readthedocs.io/en/latest/\n",
        "!pip install umap-learn\n",
        "from umap import UMAP\n",
        "\n",
        "# 1. Compute UMAP embedding\n",
        "reducer = UMAP()\n",
        "embs = reducer.fit_transform(valid_dp[\"activation\"])\n",
        "\n",
        "# 2. Add the embedding to the DataPanel as two new columns \n",
        "valid_dp[\"umap_0\"] = embs[:, 0]\n",
        "valid_dp[\"umap_1\"] = embs[:, 1]"
      ],
      "execution_count": null,
      "outputs": [
        {
          "output_type": "stream",
          "text": [
            "Collecting umap-learn\n",
            "\u001b[?25l  Downloading https://files.pythonhosted.org/packages/75/69/85e7f950bb75792ad5d666d86c5f3e62eedbb942848e7e3126513af9999c/umap-learn-0.5.1.tar.gz (80kB)\n",
            "\u001b[K     |████████████████████████████████| 81kB 5.3MB/s \n",
            "\u001b[?25hRequirement already satisfied: numpy>=1.17 in /usr/local/lib/python3.7/dist-packages (from umap-learn) (1.19.5)\n",
            "Requirement already satisfied: scikit-learn>=0.22 in /usr/local/lib/python3.7/dist-packages (from umap-learn) (0.22.2.post1)\n",
            "Requirement already satisfied: scipy>=1.0 in /usr/local/lib/python3.7/dist-packages (from umap-learn) (1.4.1)\n",
            "Requirement already satisfied: numba>=0.49 in /usr/local/lib/python3.7/dist-packages (from umap-learn) (0.51.2)\n",
            "Collecting pynndescent>=0.5\n",
            "\u001b[?25l  Downloading https://files.pythonhosted.org/packages/af/65/8189298dd3a05bbad716ee8e249764ff8800e365d8dc652ad2192ca01b4a/pynndescent-0.5.2.tar.gz (1.1MB)\n",
            "\u001b[K     |████████████████████████████████| 1.2MB 42.5MB/s \n",
            "\u001b[?25hRequirement already satisfied: joblib>=0.11 in /usr/local/lib/python3.7/dist-packages (from scikit-learn>=0.22->umap-learn) (1.0.1)\n",
            "Requirement already satisfied: llvmlite<0.35,>=0.34.0.dev0 in /usr/local/lib/python3.7/dist-packages (from numba>=0.49->umap-learn) (0.34.0)\n",
            "Requirement already satisfied: setuptools in /usr/local/lib/python3.7/dist-packages (from numba>=0.49->umap-learn) (57.0.0)\n",
            "Building wheels for collected packages: umap-learn, pynndescent\n",
            "  Building wheel for umap-learn (setup.py) ... \u001b[?25l\u001b[?25hdone\n",
            "  Created wheel for umap-learn: filename=umap_learn-0.5.1-cp37-none-any.whl size=76569 sha256=ff143b9d4a23bc295b04e236b41163a87fd03a919ce3c167f1652e97251165ac\n",
            "  Stored in directory: /root/.cache/pip/wheels/ad/df/d5/a3691296ff779f25cd1cf415a3af954b987fb53111e3392cf4\n",
            "  Building wheel for pynndescent (setup.py) ... \u001b[?25l\u001b[?25hdone\n",
            "  Created wheel for pynndescent: filename=pynndescent-0.5.2-cp37-none-any.whl size=51362 sha256=e86fb3b030c4c08cdf374468bbb83dae05505b875d175b554591182619c22ea2\n",
            "  Stored in directory: /root/.cache/pip/wheels/ba/52/4e/4c28d04d144a28f89e2575fb63628df6e6d49b56c5ddd0c74e\n",
            "Successfully built umap-learn pynndescent\n",
            "Installing collected packages: pynndescent, umap-learn\n",
            "Successfully installed pynndescent-0.5.2 umap-learn-0.5.1\n"
          ],
          "name": "stdout"
        }
      ]
    },
    {
      "cell_type": "markdown",
      "metadata": {
        "id": "sZhdVPVABFwE"
      },
      "source": [
        "Again, we can leverage seaborn to quickly visualize the activations in a 2D scatter plot and color the points by the images label. The activations seem to cluster by the underlying label.  "
      ]
    },
    {
      "cell_type": "code",
      "metadata": {
        "id": "-LiJPhSrBFwE",
        "colab": {
          "base_uri": "https://localhost:8080/",
          "height": 297
        },
        "outputId": "dc579da2-f1c2-4ec6-f551-f44833c0d304"
      },
      "source": [
        "## OPTIONAL: this cell requires the seaborn dependency: https://seaborn.pydata.org/installing.html \n",
        "import seaborn as sns\n",
        "import matplotlib.pyplot as plt\n",
        "sns.scatterplot(data=valid_dp.to_pandas(), x=\"umap_0\", y=\"umap_1\", hue=\"label\");\n",
        "plt.legend(bbox_to_anchor=(1.05, 1), loc='upper left')"
      ],
      "execution_count": null,
      "outputs": [
        {
          "output_type": "execute_result",
          "data": {
            "text/plain": [
              "<matplotlib.legend.Legend at 0x7fdf218eff10>"
            ]
          },
          "metadata": {
            "tags": []
          },
          "execution_count": 32
        },
        {
          "output_type": "display_data",
          "data": {
            "image/png": "[encoded data removed]",
            "text/plain": [
              "<Figure size 432x288 with 1 Axes>"
            ]
          },
          "metadata": {
            "tags": [],
            "needs_background": "light"
          }
        }
      ]
    },
    {
      "cell_type": "markdown",
      "metadata": {
        "id": "VzkasPj_BFwE"
      },
      "source": [
        "## 💾  Writing a `DataPanel` to disk. \n",
        "Finally, we can write the updated `DataPanel`, with all the activations and predictions included, to disk for later use.  \n",
        "\n",
        "`DataPanel` size on disk: 25MB\n",
        "\n",
        "On disk, the `DataPanel` is stored in a directory at the path passed to `DataPanel.write`. Within that directory, each column is stored separately. This allows us to read only a subset of columns from DataPanel on disk. Use the file explorer to the left to further expore the file structure of the `DataPanel`.  \n",
        "```\n",
        "valid_dp\n",
        "|  +-- meta.yml   \n",
        "|  +-- state.dill  \n",
        "|  +-- columns\n",
        "   |   +-- activation\n",
        "   |   +-- avg_blue\n",
        "   |   +-- correct\n",
        "   |   ...\n",
        "   |   +-- umap_1\n",
        "```\n"
      ]
    },
    {
      "cell_type": "code",
      "metadata": {
        "id": "ZvgQtAVfBFwE"
      },
      "source": [
        "valid_dp.write(os.path.join(dataset_dir, \"valid_dp\"))"
      ],
      "execution_count": null,
      "outputs": []
    },
    {
      "cell_type": "code",
      "metadata": {
        "id": "yt1SAjqnBFwE"
      },
      "source": [
        "valid_dp = mk.DataPanel.read(os.path.join(dataset_dir, \"valid_dp\"))"
      ],
      "execution_count": null,
      "outputs": []
    }
  ]
}