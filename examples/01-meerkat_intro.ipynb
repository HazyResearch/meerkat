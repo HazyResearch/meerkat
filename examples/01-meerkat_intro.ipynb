{
 "cells": [
  {
   "cell_type": "markdown",
   "metadata": {
    "id": "AAu5Xqw4BFvr"
   },
   "source": [
    "## 🖼 Working with image data in `Meerkat`\n",
    "\n",
    "*What is `Meerkat`?*  `Meerkat` makes it easier for ML practitioners to interact with high-dimensional, multi-modal data. It provides simple abstractions for data inspection, model evaluation and model training supported by efficient and robust IO under the hood.\n",
    "\n",
    "**Colab Runtime**: We recommend running this Colab with a GPU runtime. To change the runtime, \n",
    "1. Click on `Runtime` on the top navigation bar\n",
    "2. Select `Change runtime type`\n",
    "3. Select `GPU` from the dropdown"
   ]
  },
  {
   "cell_type": "code",
   "execution_count": null,
   "metadata": {
    "colab": {
     "base_uri": "https://localhost:8080/",
     "height": 1000
    },
    "id": "03nX_l19B5Zt",
    "outputId": "997dbc96-2567-47db-d011-dfc14634ea8a"
   },
   "outputs": [
    {
     "name": "stdout",
     "output_type": "stream",
     "text": [
      "Collecting git+https://github.com/robustness-gym/meerkat@dev\n",
      "  Cloning https://github.com/robustness-gym/meerkat (to revision dev) to /tmp/pip-req-build-vh_pjtuv\n",
      "  Running command git clone -q https://github.com/robustness-gym/meerkat /tmp/pip-req-build-vh_pjtuv\n",
      "  Running command git checkout -b dev --track origin/dev\n",
      "  Switched to a new branch 'dev'\n",
      "  Branch 'dev' set up to track remote branch 'dev' from 'origin'.\n",
      "Collecting dataclasses>=0.6\n",
      "  Downloading https://files.pythonhosted.org/packages/26/2f/1095cdc2868052dd1e64520f7c0d5c8c550ad297e944e641dbf1ffbb9a5d/dataclasses-0.6-py3-none-any.whl\n",
      "Requirement already satisfied: pandas in /usr/local/lib/python3.7/dist-packages (from meerkat-ml==0.0.2) (1.1.5)\n",
      "Requirement already satisfied: dill>=0.3.3 in /usr/local/lib/python3.7/dist-packages (from meerkat-ml==0.0.2) (0.3.4)\n",
      "Requirement already satisfied: numpy>=1.18.0 in /usr/local/lib/python3.7/dist-packages (from meerkat-ml==0.0.2) (1.19.5)\n",
      "Collecting cytoolz\n",
      "\u001b[?25l  Downloading https://files.pythonhosted.org/packages/58/67/1c60da8ba831bfefedb64c78b9f6820bdf58972797c95644ee3191daf27a/cytoolz-0.11.0.tar.gz (477kB)\n",
      "\u001b[K     |████████████████████████████████| 481kB 8.4MB/s \n",
      "\u001b[?25hCollecting ujson\n",
      "\u001b[?25l  Downloading https://files.pythonhosted.org/packages/17/4e/50e8e4cf5f00b537095711c2c86ac4d7191aed2b4fffd5a19f06898f6929/ujson-4.0.2-cp37-cp37m-manylinux1_x86_64.whl (179kB)\n",
      "\u001b[K     |████████████████████████████████| 184kB 34.3MB/s \n",
      "\u001b[?25hCollecting jsonlines>=1.2.0\n",
      "  Downloading https://files.pythonhosted.org/packages/d4/58/06f430ff7607a2929f80f07bfd820acbc508a4e977542fefcc522cde9dff/jsonlines-2.0.0-py3-none-any.whl\n",
      "Requirement already satisfied: torch>=1.8.0 in /usr/local/lib/python3.7/dist-packages (from meerkat-ml==0.0.2) (1.9.0+cu102)\n",
      "Collecting tqdm>=4.49.0\n",
      "\u001b[?25l  Downloading https://files.pythonhosted.org/packages/b4/20/9f1e974bb4761128fc0d0a32813eaa92827309b1756c4b892d28adfb4415/tqdm-4.61.1-py2.py3-none-any.whl (75kB)\n",
      "\u001b[K     |████████████████████████████████| 81kB 11.6MB/s \n",
      "\u001b[?25hCollecting datasets>=1.4.1\n",
      "\u001b[?25l  Downloading https://files.pythonhosted.org/packages/08/a2/d4e1024c891506e1cee8f9d719d20831bac31cb5b7416983c4d2f65a6287/datasets-1.8.0-py3-none-any.whl (237kB)\n",
      "\u001b[K     |████████████████████████████████| 245kB 33.1MB/s \n",
      "\u001b[?25hCollecting PyYAML>=5.4.1\n",
      "\u001b[?25l  Downloading https://files.pythonhosted.org/packages/7a/a5/393c087efdc78091afa2af9f1378762f9821c9c1d7a22c5753fb5ac5f97a/PyYAML-5.4.1-cp37-cp37m-manylinux1_x86_64.whl (636kB)\n",
      "\u001b[K     |████████████████████████████████| 645kB 33.0MB/s \n",
      "\u001b[?25hCollecting omegaconf>=2.0.5\n",
      "\u001b[?25l  Downloading https://files.pythonhosted.org/packages/f9/96/1966b48bfe6ca64bfadfa7bcc9a8d73c5d83b4be769321fcc5d617abeb0c/omegaconf-2.1.0-py3-none-any.whl (74kB)\n",
      "\u001b[K     |████████████████████████████████| 81kB 11.2MB/s \n",
      "\u001b[?25hCollecting fuzzywuzzy>=0.18.0\n",
      "  Downloading https://files.pythonhosted.org/packages/43/ff/74f23998ad2f93b945c0309f825be92e04e0348e062026998b5eefef4c33/fuzzywuzzy-0.18.0-py2.py3-none-any.whl\n",
      "Requirement already satisfied: semver>=2.13.0 in /usr/local/lib/python3.7/dist-packages (from meerkat-ml==0.0.2) (2.13.0)\n",
      "Requirement already satisfied: multiprocess>=0.70.11Cython>=0.29.21 in /usr/local/lib/python3.7/dist-packages (from meerkat-ml==0.0.2) (0.70.12.2)\n",
      "Collecting progressbar>=2.5\n",
      "  Downloading https://files.pythonhosted.org/packages/a3/a6/b8e451f6cff1c99b4747a2f7235aa904d2d49e8e1464e0b798272aa84358/progressbar-2.5.tar.gz\n",
      "Requirement already satisfied: pytz>=2017.2 in /usr/local/lib/python3.7/dist-packages (from pandas->meerkat-ml==0.0.2) (2018.9)\n",
      "Requirement already satisfied: python-dateutil>=2.7.3 in /usr/local/lib/python3.7/dist-packages (from pandas->meerkat-ml==0.0.2) (2.8.1)\n",
      "Requirement already satisfied: toolz>=0.8.0 in /usr/local/lib/python3.7/dist-packages (from cytoolz->meerkat-ml==0.0.2) (0.11.1)\n",
      "Requirement already satisfied: typing-extensions in /usr/local/lib/python3.7/dist-packages (from torch>=1.8.0->meerkat-ml==0.0.2) (3.7.4.3)\n",
      "Requirement already satisfied: pyarrow<4.0.0,>=1.0.0 in /usr/local/lib/python3.7/dist-packages (from datasets>=1.4.1->meerkat-ml==0.0.2) (3.0.0)\n",
      "Collecting xxhash\n",
      "\u001b[?25l  Downloading https://files.pythonhosted.org/packages/7d/4f/0a862cad26aa2ed7a7cd87178cbbfa824fc1383e472d63596a0d018374e7/xxhash-2.0.2-cp37-cp37m-manylinux2010_x86_64.whl (243kB)\n",
      "\u001b[K     |████████████████████████████████| 245kB 45.4MB/s \n",
      "\u001b[?25hRequirement already satisfied: requests>=2.19.0 in /usr/local/lib/python3.7/dist-packages (from datasets>=1.4.1->meerkat-ml==0.0.2) (2.23.0)\n",
      "Collecting fsspec\n",
      "\u001b[?25l  Downloading https://files.pythonhosted.org/packages/0e/3a/666e63625a19883ae8e1674099e631f9737bd5478c4790e5ad49c5ac5261/fsspec-2021.6.1-py3-none-any.whl (115kB)\n",
      "\u001b[K     |████████████████████████████████| 122kB 37.5MB/s \n",
      "\u001b[?25hRequirement already satisfied: importlib-metadata; python_version < \"3.8\" in /usr/local/lib/python3.7/dist-packages (from datasets>=1.4.1->meerkat-ml==0.0.2) (4.5.0)\n",
      "Collecting huggingface-hub<0.1.0\n",
      "  Downloading https://files.pythonhosted.org/packages/2f/ee/97e253668fda9b17e968b3f97b2f8e53aa0127e8807d24a547687423fe0b/huggingface_hub-0.0.12-py3-none-any.whl\n",
      "Requirement already satisfied: packaging in /usr/local/lib/python3.7/dist-packages (from datasets>=1.4.1->meerkat-ml==0.0.2) (20.9)\n",
      "Collecting antlr4-python3-runtime==4.8\n",
      "\u001b[?25l  Downloading https://files.pythonhosted.org/packages/56/02/789a0bddf9c9b31b14c3e79ec22b9656185a803dc31c15f006f9855ece0d/antlr4-python3-runtime-4.8.tar.gz (112kB)\n",
      "\u001b[K     |████████████████████████████████| 112kB 44.6MB/s \n",
      "\u001b[?25hRequirement already satisfied: six>=1.5 in /usr/local/lib/python3.7/dist-packages (from python-dateutil>=2.7.3->pandas->meerkat-ml==0.0.2) (1.15.0)\n",
      "Requirement already satisfied: certifi>=2017.4.17 in /usr/local/lib/python3.7/dist-packages (from requests>=2.19.0->datasets>=1.4.1->meerkat-ml==0.0.2) (2021.5.30)\n",
      "Requirement already satisfied: chardet<4,>=3.0.2 in /usr/local/lib/python3.7/dist-packages (from requests>=2.19.0->datasets>=1.4.1->meerkat-ml==0.0.2) (3.0.4)\n",
      "Requirement already satisfied: idna<3,>=2.5 in /usr/local/lib/python3.7/dist-packages (from requests>=2.19.0->datasets>=1.4.1->meerkat-ml==0.0.2) (2.10)\n",
      "Requirement already satisfied: urllib3!=1.25.0,!=1.25.1,<1.26,>=1.21.1 in /usr/local/lib/python3.7/dist-packages (from requests>=2.19.0->datasets>=1.4.1->meerkat-ml==0.0.2) (1.24.3)\n",
      "Requirement already satisfied: zipp>=0.5 in /usr/local/lib/python3.7/dist-packages (from importlib-metadata; python_version < \"3.8\"->datasets>=1.4.1->meerkat-ml==0.0.2) (3.4.1)\n",
      "Requirement already satisfied: filelock in /usr/local/lib/python3.7/dist-packages (from huggingface-hub<0.1.0->datasets>=1.4.1->meerkat-ml==0.0.2) (3.0.12)\n",
      "Requirement already satisfied: pyparsing>=2.0.2 in /usr/local/lib/python3.7/dist-packages (from packaging->datasets>=1.4.1->meerkat-ml==0.0.2) (2.4.7)\n",
      "Building wheels for collected packages: meerkat-ml, cytoolz, progressbar, antlr4-python3-runtime\n",
      "  Building wheel for meerkat-ml (setup.py) ... \u001b[?25l\u001b[?25hdone\n",
      "  Created wheel for meerkat-ml: filename=meerkat_ml-0.0.2-cp37-none-any.whl size=89297 sha256=95fef8b1d79cc714756a30544ed3cdb4659bde2765b337d140ed2ef8baa265bb\n",
      "  Stored in directory: /tmp/pip-ephem-wheel-cache-69s643r5/wheels/e3/f1/d2/66de848504e541dc38c77518dbd6b8b4d888dd15f0ca775951\n",
      "  Building wheel for cytoolz (setup.py) ... \u001b[?25l\u001b[?25hdone\n",
      "  Created wheel for cytoolz: filename=cytoolz-0.11.0-cp37-cp37m-linux_x86_64.whl size=1224585 sha256=ba6e590518eb89b614be94e9a14071aa3b6b4b58a3dc13af35e8a53ae49f748f\n",
      "  Stored in directory: /root/.cache/pip/wheels/a1/32/3c/9c9926b510647cacdde744b2c7acdf1ccd5896fbb7f8d5df0c\n",
      "  Building wheel for progressbar (setup.py) ... \u001b[?25l\u001b[?25hdone\n",
      "  Created wheel for progressbar: filename=progressbar-2.5-cp37-none-any.whl size=12083 sha256=12c7c8168d2807521be09435c46aa5b1e058a7b7b04e8f7d633bc6e283f8ebd9\n",
      "  Stored in directory: /root/.cache/pip/wheels/c0/e9/6b/ea01090205e285175842339aa3b491adeb4015206cda272ff0\n",
      "  Building wheel for antlr4-python3-runtime (setup.py) ... \u001b[?25l\u001b[?25hdone\n",
      "  Created wheel for antlr4-python3-runtime: filename=antlr4_python3_runtime-4.8-cp37-none-any.whl size=141231 sha256=9127f20d1765399d301404db2c1c24271526bdb7dbd9854ddc6801fc887ea55f\n",
      "  Stored in directory: /root/.cache/pip/wheels/e3/e2/fa/b78480b448b8579ddf393bebd3f47ee23aa84c89b6a78285c8\n",
      "Successfully built meerkat-ml cytoolz progressbar antlr4-python3-runtime\n",
      "\u001b[31mERROR: datasets 1.8.0 has requirement tqdm<4.50.0,>=4.27, but you'll have tqdm 4.61.1 which is incompatible.\u001b[0m\n",
      "Installing collected packages: dataclasses, cytoolz, ujson, jsonlines, tqdm, xxhash, fsspec, huggingface-hub, datasets, PyYAML, antlr4-python3-runtime, omegaconf, fuzzywuzzy, progressbar, meerkat-ml\n",
      "  Found existing installation: tqdm 4.41.1\n",
      "    Uninstalling tqdm-4.41.1:\n",
      "      Successfully uninstalled tqdm-4.41.1\n",
      "  Found existing installation: PyYAML 3.13\n",
      "    Uninstalling PyYAML-3.13:\n",
      "      Successfully uninstalled PyYAML-3.13\n",
      "Successfully installed PyYAML-5.4.1 antlr4-python3-runtime-4.8 cytoolz-0.11.0 dataclasses-0.6 datasets-1.8.0 fsspec-2021.6.1 fuzzywuzzy-0.18.0 huggingface-hub-0.0.12 jsonlines-2.0.0 meerkat-ml-0.0.2 omegaconf-2.1.0 progressbar-2.5 tqdm-4.61.1 ujson-4.0.2 xxhash-2.0.2\n"
     ]
    },
    {
     "data": {
      "application/vnd.colab-display-data+json": {
       "pip_warning": {
        "packages": [
         "pydevd_plugins"
        ]
       }
      }
     },
     "metadata": {
      "tags": []
     },
     "output_type": "display_data"
    }
   ],
   "source": [
    "!pip install git+https://github.com/robustness-gym/meerkat@dev"
   ]
  },
  {
   "cell_type": "code",
   "execution_count": 2,
   "metadata": {
    "id": "iUnl9Q6yBFvt"
   },
   "outputs": [],
   "source": [
    "import os\n",
    "import meerkat as mk\n",
    "import numpy as np\n",
    "# Uncomment the line below to see whats going on under the hood\n",
    "# logging.getLogger(\"meerkat\").setLevel(logging.INFO)"
   ]
  },
  {
   "cell_type": "markdown",
   "metadata": {
    "id": "mkNfn3vqBFvt"
   },
   "source": [
    "## 💾 Downloading the data\n",
    "First, we'll download some data to explore. We're going to use the [Imagenette dataset](https://github.com/fastai/imagenette#image%E7%BD%91), a small subset of the original [ImageNet](https://www.image-net.org/update-mar-11-2021.php).  This dataset is made up of 10 classes (e.g. \"garbage truck\", \"gas pump\", \"golf ball\").\n",
    "- Download time: <1 minute\n",
    "- Download size: 130M\n",
    "\n",
    "In addition to downloading the data, `download_imagnette` prepares a CSV, \"imagenette.csv\", with a row for each image. "
   ]
  },
  {
   "cell_type": "code",
   "execution_count": 6,
   "metadata": {
    "colab": {
     "base_uri": "https://localhost:8080/",
     "height": 102,
     "referenced_widgets": [
      "d297d6f8aef54a0689ee1d5f2544deed",
      "4be99d47e58b44f894635df02ef2e854",
      "dfa95ea4650743fd9e5c52094f80dbdc",
      "3d022c3b8b9040e9a5ecb0d91df46736",
      "6cfe446e39aa414e83f6d1ab779bca3e",
      "13d65bb3cbb74568a08fd6e97ce5c7c3",
      "e66eb082f6cb424aa9398973c7661f6c",
      "3ba6e70c75a644b98792740b6a339430",
      "a54e97f56646442f8a6dfa14aaba61c0",
      "630ff0cce8e94045bb68b61d323c5d4f",
      "d8b00e6224e8470abf5ac8b20c293f08"
     ]
    },
    "id": "SFYzaRtYBFvu",
    "outputId": "ea832ae4-25c6-41d8-d3e1-598b668e105d"
   },
   "outputs": [],
   "source": [
    "dp = mk.datasets.get(\"imagenette\")\n"
   ]
  },
  {
   "cell_type": "markdown",
   "metadata": {
    "id": "S4DMPES7BFvu"
   },
   "source": [
    "## 📸 Creating an image `DataPanel`\n",
    "Meerkat's core contribution is the DataPanel, a simple columnar data abstraction. The Meerkat DataPanel can house columns of arbitrary type – from integers and strings to complex, high-dimensional objects like videos, images, medical volumes and graphs.\n",
    "\n",
    "We're going to build a `DataPanel` out of the \"imagenette.csv\" file from the download above. \n",
    "\n",
    "1. Create a `DataPanel` from a CSV using the `DataPanel.from_csv` class method.\n",
    "2. Create an `ImageColumn` from the the existing `\"img_path\"` column using the `DataPanel.from_filepaths` class method and add it to the the `DataPanel`. "
   ]
  },
  {
   "cell_type": "code",
   "execution_count": 8,
   "metadata": {
    "colab": {
     "base_uri": "https://localhost:8080/",
     "height": 324
    },
    "id": "jdVetdvfBFvv",
    "outputId": "130f6a6a-e42a-4785-bd89-c7bd26209946"
   },
   "outputs": [
    {
     "data": {
      "text/html": [
       "<table border=\"1\" class=\"dataframe\">\n",
       "  <thead>\n",
       "    <tr style=\"text-align: right;\">\n",
       "      <th></th>\n",
       "      <th>label (PandasSeriesColumn)</th>\n",
       "      <th>split (PandasSeriesColumn)</th>\n",
       "      <th>img (ImageColumn)</th>\n",
       "    </tr>\n",
       "  </thead>\n",
       "  <tbody>\n",
       "    <tr>\n",
       "      <th>0</th>\n",
       "      <td>cassette player</td>\n",
       "      <td>train</td>\n",
       "      <td><img src=\"data:image/jpeg;base64,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\"></td>\n",
       "    </tr>\n",
       "    <tr>\n",
       "      <th>1</th>\n",
       "      <td>cassette player</td>\n",
       "      <td>train</td>\n",
       "      <td><img src=\"data:image/jpeg;base64,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\"></td>\n",
       "    </tr>\n",
       "    <tr>\n",
       "      <th>2</th>\n",
       "      <td>cassette player</td>\n",
       "      <td>train</td>\n",
       "      <td><img src=\"data:image/jpeg;base64,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\"></td>\n",
       "    </tr>\n",
       "    <tr>\n",
       "      <th>3</th>\n",
       "      <td>cassette player</td>\n",
       "      <td>train</td>\n",
       "      <td><img src=\"data:image/jpeg;base64,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\"></td>\n",
       "    </tr>\n",
       "    <tr>\n",
       "      <th>4</th>\n",
       "      <td>cassette player</td>\n",
       "      <td>train</td>\n",
       "      <td><img src=\"data:image/jpeg;base64,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\"></td>\n",
       "    </tr>\n",
       "    <tr>\n",
       "      <th>...</th>\n",
       "      <td>...</td>\n",
       "      <td>...</td>\n",
       "      <td>...</td>\n",
       "    </tr>\n",
       "    <tr>\n",
       "      <th>13389</th>\n",
       "      <td>gas pump</td>\n",
       "      <td>valid</td>\n",
       "      <td><img src=\"data:image/jpeg;base64,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\"></td>\n",
       "    </tr>\n",
       "    <tr>\n",
       "      <th>13390</th>\n",
       "      <td>gas pump</td>\n",
       "      <td>valid</td>\n",
       "      <td><img src=\"data:image/jpeg;base64,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\"></td>\n",
       "    </tr>\n",
       "    <tr>\n",
       "      <th>13391</th>\n",
       "      <td>gas pump</td>\n",
       "      <td>valid</td>\n",
       "      <td><img src=\"data:image/jpeg;base64,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\"></td>\n",
       "    </tr>\n",
       "    <tr>\n",
       "      <th>13392</th>\n",
       "      <td>gas pump</td>\n",
       "      <td>valid</td>\n",
       "      <td><img src=\"data:image/jpeg;base64,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\"></td>\n",
       "    </tr>\n",
       "    <tr>\n",
       "      <th>13393</th>\n",
       "      <td>gas pump</td>\n",
       "      <td>valid</td>\n",
       "      <td><img src=\"data:image/jpeg;base64,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\"></td>\n",
       "    </tr>\n",
       "  </tbody>\n",
       "</table>"
      ],
      "text/plain": [
       "DataPanel(nrows: 13394, ncols: 3)"
      ]
     },
     "execution_count": 8,
     "metadata": {},
     "output_type": "execute_result"
    }
   ],
   "source": [
    "\n",
    "\n",
    "\n",
    "\n",
    "\n",
    "dp.head()\n",
    "dp[[\"label\", \"split\", \"img\"]]"
   ]
  },
  {
   "cell_type": "markdown",
   "metadata": {
    "id": "KwH-w4hPGD5K"
   },
   "source": [
    "The call to `head` shows the first few rows in the `DataPanel`. You can see that there are a few metadata columns, as well as the \"img\" column we added in."
   ]
  },
  {
   "cell_type": "markdown",
   "metadata": {
    "id": "xAwuS4WHBFvw"
   },
   "source": [
    "### 🗂 Indexing.\n",
    "When we create an `ImageColumn` we don't load the images into memory. Instead, `ImageColumn` keeps track of all those filepaths we passed in and only loads the images when they are accessed. "
   ]
  },
  {
   "cell_type": "code",
   "execution_count": 9,
   "metadata": {
    "colab": {
     "base_uri": "https://localhost:8080/",
     "height": 214
    },
    "id": "tC5CQSkdBFvw",
    "outputId": "68626108-d93b-4cd2-d321-6777f25601b4"
   },
   "outputs": [
    {
     "name": "stdout",
     "output_type": "stream",
     "text": [
      "Indexing the `ImageColumn` returns an object of type: <class 'PIL.Image.Image'>.\n"
     ]
    },
    {
     "data": {
      "image/png": "[encoded data removed]",
      "text/plain": [
       "<PIL.Image.Image image mode=RGB size=213x160>"
      ]
     },
     "metadata": {},
     "output_type": "display_data"
    }
   ],
   "source": [
    "img = dp[\"img\"][0]\n",
    "print(f\"Indexing the `ImageColumn` returns an object of type: {type(img)}.\")\n",
    "display(img)"
   ]
  },
  {
   "cell_type": "markdown",
   "metadata": {
    "id": "jWEk5BRuBFvw"
   },
   "source": [
    "We can load a **batch** of images by indexing a slice. Notice that the output is a `ListColumn` of PIL images. "
   ]
  },
  {
   "cell_type": "code",
   "execution_count": null,
   "metadata": {
    "colab": {
     "base_uri": "https://localhost:8080/",
     "height": 178
    },
    "id": "PBJ9NqzWBFvx",
    "outputId": "f85e4750-74d7-4c1e-90aa-683fc81f8c1f"
   },
   "outputs": [
    {
     "name": "stdout",
     "output_type": "stream",
     "text": [
      "Indexing a slice of the `ImageColumn` returns a: <class 'meerkat.columns.list_column.ListColumn'>.\n"
     ]
    },
    {
     "data": {
      "text/html": [
       "<div>\n",
       "<style scoped>\n",
       "    .dataframe tbody tr th:only-of-type {\n",
       "        vertical-align: middle;\n",
       "    }\n",
       "\n",
       "    .dataframe tbody tr th {\n",
       "        vertical-align: top;\n",
       "    }\n",
       "\n",
       "    .dataframe thead th {\n",
       "        text-align: right;\n",
       "    }\n",
       "</style>\n",
       "<table border=\"1\" class=\"dataframe\">\n",
       "  <thead>\n",
       "    <tr style=\"text-align: right;\">\n",
       "      <th></th>\n",
       "      <th>(ListColumn)</th>\n",
       "    </tr>\n",
       "  </thead>\n",
       "  <tbody>\n",
       "    <tr>\n",
       "      <th>0</th>\n",
       "      <td>&lt;PIL.Image.Image image mode=RGB size=240x160 a...</td>\n",
       "    </tr>\n",
       "    <tr>\n",
       "      <th>1</th>\n",
       "      <td>&lt;PIL.Image.Image image mode=RGB size=160x216 a...</td>\n",
       "    </tr>\n",
       "    <tr>\n",
       "      <th>2</th>\n",
       "      <td>&lt;PIL.Image.Image image mode=RGB size=213x160 a...</td>\n",
       "    </tr>\n",
       "  </tbody>\n",
       "</table>\n",
       "</div>"
      ],
      "text/plain": [
       "ListColumn([<PIL.Image.Im...x7FE006DC6710>, <PIL.Image.Im...x7FE000280A50>, <PIL.Image.Im...x7FE000280890>])"
      ]
     },
     "metadata": {
      "tags": []
     },
     "output_type": "display_data"
    }
   ],
   "source": [
    "img = dp[\"img\"][1:4]\n",
    "print(f\"Indexing a slice of the `ImageColumn` returns a: {type(img)}.\")\n",
    "display(img)"
   ]
  },
  {
   "cell_type": "markdown",
   "metadata": {
    "id": "9NrvqZXNBFvx"
   },
   "source": [
    "### 🧫 _Aside_: `ImageColumn` under the hood, `CellColumn`.\n",
    "\n",
    "If you check out the implementation of `ImageColumn` (at [meerkat/columns/image_column.py](https://github.com/robustness-gym/meerkat/blob/main/mosaic/cells/imagepath.py)), you'll notice that it's a super simple subclass of `CellColumn`. \n",
    "\n",
    "_What's a `CellColumn`?_\n",
    "In `meerkat`, high-dimensional data types like images and videos are typically stored in a `CellColumn`. The advantage of using `CellColumn` (or one of its subclasses) is that we can easily create new column types (e.g. for medical volumes, SpacyDocs, or graphs) without dealing with the implementation complexity of a full column. Instead, we can think in terms of the individual elements in the column: the cells.  We implement a cell by subclassing `AbstractCell` and overriding the `get` method. `get` is called when the cell is accessed, like in the example above. Below is a simple implemenation of an `ImageCell` (the actual cell used by `ImageColumn` is `meerkat.cells.imagepath.ImagePath`, which has a few additional features not included here): \n",
    "\n",
    "\n",
    "```python\n",
    "from meerkat.cells.abstract import AbstractCell\n",
    "from torchvision.datasets.folder import default_loader\n",
    "\n",
    "class ImageCell(AbstractCell):\n",
    "\n",
    "    def __init__(self, filepath: str):\n",
    "        super(ImagePath, self).__init__()\n",
    "        self.filepath = filepath\n",
    "\n",
    "    def get(self, *args, **kwargs):\n",
    "        return default_loader(self.filepath)\n",
    "    \n",
    "    @classmethod\n",
    "    def _state_keys(cls) -> Collection:\n",
    "        return {\"filepath\"}\n",
    "```\n",
    "Notice that the `default_loader` isn't called on construction, only on `get`. Additionally, we need to specify the \"_state_keys\", the set of object attributes needed to recreate the cell. When writing the cell to disk, only these attributes are written. These attributes are typically the bare minimum required to reconstruct the cell."
   ]
  },
  {
   "cell_type": "markdown",
   "metadata": {
    "id": "3dUymeI5BFvx"
   },
   "source": [
    "### 🦥 Lazy indexing.\n",
    "What if we don't want to load the images? To access the underlying cell (without loading the image), use the lazy indexer, `lz`."
   ]
  },
  {
   "cell_type": "code",
   "execution_count": null,
   "metadata": {
    "colab": {
     "base_uri": "https://localhost:8080/",
     "height": 70
    },
    "id": "2LTim32RBFvy",
    "outputId": "99095a76-da4c-4096-dd58-848546729a9d"
   },
   "outputs": [
    {
     "name": "stdout",
     "output_type": "stream",
     "text": [
      "Lazy indexing the `ImageColumn` returns an object of type: <class 'meerkat.cells.imagepath.ImagePath'>.\n"
     ]
    },
    {
     "data": {
      "text/plain": [
       "ImagePathCell(n03445777_18428.JPEG)"
      ]
     },
     "metadata": {
      "tags": []
     },
     "output_type": "display_data"
    }
   ],
   "source": [
    "cell = dp[\"img\"].lz[8000]\n",
    "print(f\"Lazy indexing the `ImageColumn` returns an object of type: {type(cell)}.\")\n",
    "display(cell)"
   ]
  },
  {
   "cell_type": "markdown",
   "metadata": {
    "id": "iFQyDL-LBFvy"
   },
   "source": [
    "Note: **cells can survive on their own.** Everything we need to materialize the cell (e.g. the filepath to the image and the loading function) lives inside the cell, so we can call `cell.get()` to load the image even after the cell has been isolated from its original column. "
   ]
  },
  {
   "cell_type": "code",
   "execution_count": null,
   "metadata": {
    "colab": {
     "base_uri": "https://localhost:8080/",
     "height": 177
    },
    "id": "b9Vw2MiJBFvy",
    "outputId": "0d41d058-e3d5-45a0-e862-4dc6662f67a5"
   },
   "outputs": [
    {
     "data": {
      "image/png": "[encoded data removed]",
      "text/plain": [
       "<PIL.Image.Image image mode=RGB size=213x160 at 0x7FE000290C90>"
      ]
     },
     "execution_count": 11,
     "metadata": {
      "tags": []
     },
     "output_type": "execute_result"
    }
   ],
   "source": [
    "cell.get()"
   ]
  },
  {
   "cell_type": "markdown",
   "metadata": {
    "id": "RNFGwDwyBFvz"
   },
   "source": [
    "Using the lazy indexer and one of the following indexing schemes, we can also access a **subset** of a `CellColumn`, which is itself a `CellColumn`.\n",
    "- **Slice indexing**: _e.g._ `column.lz[4:10]`\n",
    "- **Integer array indexing**: _e.g._ `column.lz[[0, 4, 6, 11]]`\n",
    "- **Boolean array indexing**: _e.g._ `column.lz[np.array([True, False, False ..., True, False])]`"
   ]
  },
  {
   "cell_type": "code",
   "execution_count": null,
   "metadata": {
    "colab": {
     "base_uri": "https://localhost:8080/",
     "height": 209
    },
    "id": "zwzK9i1cBFvz",
    "outputId": "c01ef974-4453-47c1-bf5d-0dd022b41b75"
   },
   "outputs": [
    {
     "name": "stdout",
     "output_type": "stream",
     "text": [
      "Lazy indexing a slice of the `ImageColumn` returns an object of type: <class 'meerkat.columns.image_column.ImageColumn'>.\n"
     ]
    },
    {
     "data": {
      "text/html": [
       "<div>\n",
       "<style scoped>\n",
       "    .dataframe tbody tr th:only-of-type {\n",
       "        vertical-align: middle;\n",
       "    }\n",
       "\n",
       "    .dataframe tbody tr th {\n",
       "        vertical-align: top;\n",
       "    }\n",
       "\n",
       "    .dataframe thead th {\n",
       "        text-align: right;\n",
       "    }\n",
       "</style>\n",
       "<table border=\"1\" class=\"dataframe\">\n",
       "  <thead>\n",
       "    <tr style=\"text-align: right;\">\n",
       "      <th></th>\n",
       "      <th>(ImageColumn)</th>\n",
       "    </tr>\n",
       "  </thead>\n",
       "  <tbody>\n",
       "    <tr>\n",
       "      <th>0</th>\n",
       "      <td>ImagePathCell(n02979186_2733.JPEG)</td>\n",
       "    </tr>\n",
       "    <tr>\n",
       "      <th>1</th>\n",
       "      <td>ImagePathCell(n02979186_23069.JPEG)</td>\n",
       "    </tr>\n",
       "    <tr>\n",
       "      <th>2</th>\n",
       "      <td>ImagePathCell(n02979186_2467.JPEG)</td>\n",
       "    </tr>\n",
       "    <tr>\n",
       "      <th>3</th>\n",
       "      <td>ImagePathCell(n02979186_3293.JPEG)</td>\n",
       "    </tr>\n",
       "  </tbody>\n",
       "</table>\n",
       "</div>"
      ],
      "text/plain": [
       "ImageColumn([ImagePathCell...186_2733.JPEG), ImagePathCell...86_23069.JPEG), ImagePathCell...186_2467.JPEG), ImagePathCell...186_3293.JPEG)])"
      ]
     },
     "metadata": {
      "tags": []
     },
     "output_type": "display_data"
    }
   ],
   "source": [
    "cells = dp[\"img\"].lz[12:16]\n",
    "print(f\"Lazy indexing a slice of the `ImageColumn` returns an object of type: {type(cells)}.\")\n",
    "display(cells)"
   ]
  },
  {
   "cell_type": "markdown",
   "metadata": {
    "id": "oTRBi48NBFv0"
   },
   "source": [
    "## 🛠 Applying operations over the DataPanel.\n",
    "\n",
    "When training and evaluating our models, we often perform operations on each example in our dataset (e.g. compute a model's prediction on each example, tokenize each sentence, compute a model's embedding for each example) and store them. The `DataPanel` makes it easy to perform these operations:  \n",
    "- Produce new columns (via `DataPanel.map`)\n",
    "- Produce new columns and store the columns alongside the original data (via `DataPanel.update`)\n",
    "- Extract an important subset of the datset (via `DataPanel.filter`).   \n",
    "\n",
    "Under the hood, dataloading is multiprocessed so that costly I/O doesn't bottleneck our computation.\n",
    "\n",
    "Let's start by filtering the `DataPanel` down to the first 1,000 examples in the validation set. Note that we use the lazy indexer `lz` to avoid loading all of the images. "
   ]
  },
  {
   "cell_type": "code",
   "execution_count": null,
   "metadata": {
    "id": "VsLKHopyBFv1"
   },
   "outputs": [],
   "source": [
    "valid_dp = dp.lz[dp[\"split\"].data == \"valid\"]"
   ]
  },
  {
   "cell_type": "markdown",
   "metadata": {
    "id": "TTzW0eUnBFv1"
   },
   "source": [
    "### 🫐  Using `DataPanel.map` to compute average intensity of the blue color channel in the images.\n",
    "\n",
    "To demonstrate the utility `map` operation, we'll explore the relationship between the \"blueness\" of an image and the class of the image. \n",
    "\n",
    "We'll quantify the \"blueness\" of each image by simply computing the mean intensity of the blue color channel. This can be accomplished with a simple `map` operation over the `DataPanel`:"
   ]
  },
  {
   "cell_type": "code",
   "execution_count": null,
   "metadata": {
    "colab": {
     "base_uri": "https://localhost:8080/",
     "height": 49,
     "referenced_widgets": [
      "c71a032df9964770973006e2e9dfe69b",
      "ee06dceab96b4396b10aec0c8f6d1880",
      "b30961e907a54f1a8f432440800784c0",
      "40d288ec9305413ba933374953b9f110",
      "664c4a50259241198b771b00fd37db91",
      "14f539ef54bd4e2ea8233198550cc68a",
      "3048de3634504cc98061f5634bdd67bf",
      "287343a41ea44b1e8c74f5c2d5c3d759",
      "10b27e05597444758b912b848daafee2",
      "0dfc24642e2b4831b5f59280464f9cb7",
      "0f81be50e8c04a73a98e3183e0043d07"
     ]
    },
    "id": "VHd55kZeBFv1",
    "outputId": "34af4317-2122-4e82-ec35-6ff7684efc7e"
   },
   "outputs": [
    {
     "data": {
      "application/vnd.jupyter.widget-view+json": {
       "model_id": "c71a032df9964770973006e2e9dfe69b",
       "version_major": 2,
       "version_minor": 0
      },
      "text/plain": [
       "  0%|          | 0/3925 [00:00<?, ?it/s]"
      ]
     },
     "metadata": {
      "tags": []
     },
     "output_type": "display_data"
    }
   ],
   "source": [
    "blue_col = valid_dp.map(\n",
    "    lambda x: np.array(x[\"img\"])[:, :, 2].mean(), \n",
    "    pbar=True, \n",
    "    num_workers=2\n",
    ")\n",
    "valid_dp[\"avg_blue\"] = blue_col  # add the intensities as a new column in the `DataPanel` "
   ]
  },
  {
   "cell_type": "markdown",
   "metadata": {
    "id": "h2Hil5ZOBFv1"
   },
   "source": [
    "🪂 vs. ⛳️\n",
    "Next, we'll explore the relationship between blueness and the class label of the image. To do so, we'll compare the blue intensity distribution of images labeled \"parachute\" to the distribution of of images labeled \"golf ball\".\n",
    "Using the [`seaborn`](https://seaborn.pydata.org/installing.html) plotting package and our `DataPanel`, this can be accomplished in one line: "
   ]
  },
  {
   "cell_type": "code",
   "execution_count": null,
   "metadata": {
    "colab": {
     "base_uri": "https://localhost:8080/"
    },
    "id": "L3HmgTQOHETD",
    "outputId": "f74ac6dc-8b3d-4160-d8aa-c44f6675a9d9"
   },
   "outputs": [
    {
     "name": "stdout",
     "output_type": "stream",
     "text": [
      "Requirement already satisfied: seaborn in /usr/local/lib/python3.7/dist-packages (0.11.1)\n",
      "Requirement already satisfied: matplotlib>=2.2 in /usr/local/lib/python3.7/dist-packages (from seaborn) (3.2.2)\n",
      "Requirement already satisfied: numpy>=1.15 in /usr/local/lib/python3.7/dist-packages (from seaborn) (1.19.5)\n",
      "Requirement already satisfied: scipy>=1.0 in /usr/local/lib/python3.7/dist-packages (from seaborn) (1.4.1)\n",
      "Requirement already satisfied: pandas>=0.23 in /usr/local/lib/python3.7/dist-packages (from seaborn) (1.1.5)\n",
      "Requirement already satisfied: python-dateutil>=2.1 in /usr/local/lib/python3.7/dist-packages (from matplotlib>=2.2->seaborn) (2.8.1)\n",
      "Requirement already satisfied: cycler>=0.10 in /usr/local/lib/python3.7/dist-packages (from matplotlib>=2.2->seaborn) (0.10.0)\n",
      "Requirement already satisfied: kiwisolver>=1.0.1 in /usr/local/lib/python3.7/dist-packages (from matplotlib>=2.2->seaborn) (1.3.1)\n",
      "Requirement already satisfied: pyparsing!=2.0.4,!=2.1.2,!=2.1.6,>=2.0.1 in /usr/local/lib/python3.7/dist-packages (from matplotlib>=2.2->seaborn) (2.4.7)\n",
      "Requirement already satisfied: pytz>=2017.2 in /usr/local/lib/python3.7/dist-packages (from pandas>=0.23->seaborn) (2018.9)\n",
      "Requirement already satisfied: six>=1.5 in /usr/local/lib/python3.7/dist-packages (from python-dateutil>=2.1->matplotlib>=2.2->seaborn) (1.15.0)\n"
     ]
    }
   ],
   "source": [
    "!pip install seaborn"
   ]
  },
  {
   "cell_type": "code",
   "execution_count": null,
   "metadata": {
    "colab": {
     "base_uri": "https://localhost:8080/",
     "height": 226
    },
    "id": "FaoPPtJ3BFv2",
    "outputId": "2002ef73-0d2b-4b5e-dfbb-f19e1f69a584"
   },
   "outputs": [
    {
     "data": {
      "image/png": "[encoded data removed]",
      "text/plain": [
       "<Figure size 518.875x216 with 1 Axes>"
      ]
     },
     "metadata": {
      "needs_background": "light",
      "tags": []
     },
     "output_type": "display_data"
    }
   ],
   "source": [
    "## OPTIONAL: this cell requires the seaborn dependency: https://seaborn.pydata.org/installing.html \n",
    "import seaborn as sns\n",
    "plot_dp = valid_dp[np.isin(valid_dp[\"label\"], [\"golf ball\", \"parachute\"])]\n",
    "sns.displot(\n",
    "    data=plot_dp.to_pandas(), \n",
    "    x=\"avg_blue\", \n",
    "    hue=\"label\", \n",
    "    height=3, \n",
    "    aspect=2\n",
    ");"
   ]
  },
  {
   "cell_type": "markdown",
   "metadata": {
    "id": "F7AuJ7aRBFv2"
   },
   "source": [
    "Looks like images of parachutes are quite a bit more blue than images of golf balls. To understand why this might be the case, we'll take a look at the image with the highest blue intensity:"
   ]
  },
  {
   "cell_type": "code",
   "execution_count": null,
   "metadata": {
    "colab": {
     "base_uri": "https://localhost:8080/",
     "height": 177
    },
    "id": "JwzhyEHVBFv2",
    "outputId": "f9154383-29be-497a-d45b-37915c264d89"
   },
   "outputs": [
    {
     "data": {
      "image/png": "[encoded data removed]",
      "text/plain": [
       "<PIL.Image.Image image mode=RGB size=243x160 at 0x7FE00036A5D0>"
      ]
     },
     "execution_count": 17,
     "metadata": {
      "tags": []
     },
     "output_type": "execute_result"
    }
   ],
   "source": [
    "valid_dp[\"img\"][int(np.argmax(valid_dp[\"avg_blue\"]))]"
   ]
  },
  {
   "cell_type": "markdown",
   "metadata": {
    "id": "uz-Q6aF1BFv2"
   },
   "source": [
    "Photos of parachutes usually have the sky behind them! Checks out that they're so blue..."
   ]
  },
  {
   "cell_type": "markdown",
   "metadata": {
    "id": "8eSWhT6nBFv2"
   },
   "source": [
    "## 📉 ML with images in `meerkat`.\n",
    "\n",
    "Let's do some machine learning on our Imagenette `DataPanel`.\n",
    "We'll take a resnet18 pretrained on the full ImageNet dataset, perform inference on the validation set, and analyze the model's predictions and activations. \n",
    "\n",
    "The cell below downloads the model.. "
   ]
  },
  {
   "cell_type": "code",
   "execution_count": null,
   "metadata": {
    "colab": {
     "base_uri": "https://localhost:8080/",
     "height": 86,
     "referenced_widgets": [
      "f044ec532d5549d2b17aab1eb9d9134a",
      "669fceff0bf84321b2054504a67f6d84",
      "d10f7eaf7a994bbf8550113f316337a8",
      "9d0a76ac9c9e46838b55b561df03dc37",
      "77fd0f76f78748f59db217054ad721be",
      "e2413859f208465e892fa985ac18865c",
      "c4dfb56cf73b45e1af7415b935dbede5",
      "4b8f98fa5f154dfca040965fa38dc046",
      "b63fe6abd64c40f19e0f333662316e42",
      "e99d2984aa034ba381c7467c875fb136",
      "74e758f7db1f468fbbe0fe1f14b64087"
     ]
    },
    "id": "f7exh7muBFv3",
    "outputId": "afcddd5c-49fd-4899-a1fb-3b918eb53aba"
   },
   "outputs": [
    {
     "name": "stderr",
     "output_type": "stream",
     "text": [
      "Downloading: \"https://download.pytorch.org/models/resnet18-f37072fd.pth\" to /root/.cache/torch/hub/checkpoints/resnet18-f37072fd.pth\n"
     ]
    },
    {
     "data": {
      "application/vnd.jupyter.widget-view+json": {
       "model_id": "f044ec532d5549d2b17aab1eb9d9134a",
       "version_major": 2,
       "version_minor": 0
      },
      "text/plain": [
       "  0%|          | 0.00/44.7M [00:00<?, ?B/s]"
      ]
     },
     "metadata": {
      "tags": []
     },
     "output_type": "display_data"
    }
   ],
   "source": [
    "import torch\n",
    "from torchvision.models import resnet18\n",
    "import torchvision.transforms as transforms\n",
    "model = resnet18(pretrained=True)"
   ]
  },
  {
   "cell_type": "markdown",
   "metadata": {
    "id": "BXx8K2HwBFv3"
   },
   "source": [
    "### 💈  Creating an `ImageColumn` with a transform.\n",
    "In order to do inference, we'll need to create a _new_ `ImageColumn`. The `ImageColumn` we defined above (_i.e._ `\"img_path\"`), does not apply any transforms after loading and simply returns a PIL image. Before passing the images through the model, we need to convert the PIL image to a `torch.Tensor` and normalize the color channels (along with a few other transformations). \n",
    "\n",
    "Note: the transforms defined below are the same as the ones used by torchvision, see [here](https://github.com/pytorch/examples/blob/cbb760d5e50a03df667cdc32a61f75ac28e11cbf/imagenet/main.py#L225). \n",
    "\n",
    "In the cell below, we specify a transform when creating the `ImageColumn`."
   ]
  },
  {
   "cell_type": "code",
   "execution_count": null,
   "metadata": {
    "id": "xgW1iIkeBFv3"
   },
   "outputs": [],
   "source": [
    "# 1. Define transform\n",
    "transform = transforms.Compose([\n",
    "    transforms.Resize(256),\n",
    "    transforms.CenterCrop(224),\n",
    "    transforms.ToTensor(),\n",
    "    transforms.Normalize(\n",
    "        mean=[0.485, 0.456, 0.406],\n",
    "        std=[0.229, 0.224, 0.225]),\n",
    "])\n",
    "\n",
    "# 2. Create new column with transform \n",
    "valid_dp[\"input\"] = mk.ImageColumn.from_filepaths(\n",
    "    filepaths=valid_dp[\"img_path\"], \n",
    "    transform=transform,\n",
    ")"
   ]
  },
  {
   "cell_type": "markdown",
   "metadata": {
    "id": "2btIlmPSBFv4"
   },
   "source": [
    "Notice that indexing this new `ImageColumn` returns a `torch.Tensor`, not a PIL image...  "
   ]
  },
  {
   "cell_type": "code",
   "execution_count": null,
   "metadata": {
    "colab": {
     "base_uri": "https://localhost:8080/"
    },
    "id": "eAbmpNvmBFv4",
    "outputId": "28011e40-be42-4424-f873-310e58793431"
   },
   "outputs": [
    {
     "name": "stdout",
     "output_type": "stream",
     "text": [
      "Indexing the `ImageColumn` returns an object of type: <class 'torch.Tensor'>.\n"
     ]
    }
   ],
   "source": [
    "img = valid_dp[\"input\"][0]\n",
    "print(f\"Indexing the `ImageColumn` returns an object of type: {type(img)}.\")"
   ]
  },
  {
   "cell_type": "markdown",
   "metadata": {
    "id": "kpfQa-i5BFv5"
   },
   "source": [
    "... and that indexing a slice of this new `ImageColumn` returns a `TensorColumn`, not a `ListColumn` of PIL images."
   ]
  },
  {
   "cell_type": "code",
   "execution_count": null,
   "metadata": {
    "colab": {
     "base_uri": "https://localhost:8080/",
     "height": 178
    },
    "id": "UVUkCY6DBFv7",
    "outputId": "b423f238-31bb-4187-9592-400ab9b7cd0c"
   },
   "outputs": [
    {
     "name": "stdout",
     "output_type": "stream",
     "text": [
      "Indexing a slice of the `ImageColumn` returns an object of type: <class 'meerkat.columns.tensor_column.TensorColumn'>.\n"
     ]
    },
    {
     "data": {
      "text/html": [
       "<div>\n",
       "<style scoped>\n",
       "    .dataframe tbody tr th:only-of-type {\n",
       "        vertical-align: middle;\n",
       "    }\n",
       "\n",
       "    .dataframe tbody tr th {\n",
       "        vertical-align: top;\n",
       "    }\n",
       "\n",
       "    .dataframe thead th {\n",
       "        text-align: right;\n",
       "    }\n",
       "</style>\n",
       "<table border=\"1\" class=\"dataframe\">\n",
       "  <thead>\n",
       "    <tr style=\"text-align: right;\">\n",
       "      <th></th>\n",
       "      <th>(TensorColumn)</th>\n",
       "    </tr>\n",
       "  </thead>\n",
       "  <tbody>\n",
       "    <tr>\n",
       "      <th>0</th>\n",
       "      <td>torch.Tensor(shape=torch.Size([3, 224, 224]))</td>\n",
       "    </tr>\n",
       "    <tr>\n",
       "      <th>1</th>\n",
       "      <td>torch.Tensor(shape=torch.Size([3, 224, 224]))</td>\n",
       "    </tr>\n",
       "    <tr>\n",
       "      <th>2</th>\n",
       "      <td>torch.Tensor(shape=torch.Size([3, 224, 224]))</td>\n",
       "    </tr>\n",
       "  </tbody>\n",
       "</table>\n",
       "</div>"
      ],
      "text/plain": [
       "TensorColumn(tensor([[[[ 2...,  1.1411]]]]))"
      ]
     },
     "metadata": {
      "tags": []
     },
     "output_type": "display_data"
    }
   ],
   "source": [
    "col = img = valid_dp[\"input\"][:3]\n",
    "print(f\"Indexing a slice of the `ImageColumn` returns an object of type: {type(img)}.\")\n",
    "display(col)"
   ]
  },
  {
   "cell_type": "markdown",
   "metadata": {
    "id": "at6OcLsuHj7A"
   },
   "source": [
    "Let's see what the full `DataPanel` looks like now.  "
   ]
  },
  {
   "cell_type": "code",
   "execution_count": null,
   "metadata": {
    "colab": {
     "base_uri": "https://localhost:8080/",
     "height": 324
    },
    "id": "yiuEjd8FHhht",
    "outputId": "8eb57a1a-6061-403a-f3fe-04cc407b757f"
   },
   "outputs": [
    {
     "data": {
      "text/html": [
       "<div>\n",
       "<style scoped>\n",
       "    .dataframe tbody tr th:only-of-type {\n",
       "        vertical-align: middle;\n",
       "    }\n",
       "\n",
       "    .dataframe tbody tr th {\n",
       "        vertical-align: top;\n",
       "    }\n",
       "\n",
       "    .dataframe thead th {\n",
       "        text-align: right;\n",
       "    }\n",
       "</style>\n",
       "<table border=\"1\" class=\"dataframe\">\n",
       "  <thead>\n",
       "    <tr style=\"text-align: right;\">\n",
       "      <th></th>\n",
       "      <th>img_path (NumpyArrayColumn)</th>\n",
       "      <th>label (NumpyArrayColumn)</th>\n",
       "      <th>label_id (NumpyArrayColumn)</th>\n",
       "      <th>label_idx (NumpyArrayColumn)</th>\n",
       "      <th>split (NumpyArrayColumn)</th>\n",
       "      <th>index (ListColumn)</th>\n",
       "      <th>img (ImageColumn)</th>\n",
       "      <th>avg_blue (NumpyArrayColumn)</th>\n",
       "      <th>input (ImageColumn)</th>\n",
       "    </tr>\n",
       "  </thead>\n",
       "  <tbody>\n",
       "    <tr>\n",
       "      <th>0</th>\n",
       "      <td>./datasets/imagenette2-160/val/n02979186/n0297...</td>\n",
       "      <td>cassette player</td>\n",
       "      <td>n02979186</td>\n",
       "      <td>482</td>\n",
       "      <td>valid</td>\n",
       "      <td>'9469'</td>\n",
       "      <td>ImagePathCell(n02979186_8971.JPEG)</td>\n",
       "      <td>185.601094</td>\n",
       "      <td>ImagePathCell(n02979186_8971.JPEG)</td>\n",
       "    </tr>\n",
       "    <tr>\n",
       "      <th>1</th>\n",
       "      <td>./datasets/imagenette2-160/val/n02979186/n0297...</td>\n",
       "      <td>cassette player</td>\n",
       "      <td>n02979186</td>\n",
       "      <td>482</td>\n",
       "      <td>valid</td>\n",
       "      <td>'9470'</td>\n",
       "      <td>ImagePathCell(n02979186_14550.JPEG)</td>\n",
       "      <td>62.194748</td>\n",
       "      <td>ImagePathCell(n02979186_14550.JPEG)</td>\n",
       "    </tr>\n",
       "    <tr>\n",
       "      <th>2</th>\n",
       "      <td>./datasets/imagenette2-160/val/n02979186/n0297...</td>\n",
       "      <td>cassette player</td>\n",
       "      <td>n02979186</td>\n",
       "      <td>482</td>\n",
       "      <td>valid</td>\n",
       "      <td>'9471'</td>\n",
       "      <td>ImagePathCell(n02979186_11971.JPEG)</td>\n",
       "      <td>130.162500</td>\n",
       "      <td>ImagePathCell(n02979186_11971.JPEG)</td>\n",
       "    </tr>\n",
       "    <tr>\n",
       "      <th>3</th>\n",
       "      <td>./datasets/imagenette2-160/val/n02979186/n0297...</td>\n",
       "      <td>cassette player</td>\n",
       "      <td>n02979186</td>\n",
       "      <td>482</td>\n",
       "      <td>valid</td>\n",
       "      <td>'9472'</td>\n",
       "      <td>ImagePathCell(n02979186_11550.JPEG)</td>\n",
       "      <td>32.186978</td>\n",
       "      <td>ImagePathCell(n02979186_11550.JPEG)</td>\n",
       "    </tr>\n",
       "    <tr>\n",
       "      <th>4</th>\n",
       "      <td>./datasets/imagenette2-160/val/n02979186/n0297...</td>\n",
       "      <td>cassette player</td>\n",
       "      <td>n02979186</td>\n",
       "      <td>482</td>\n",
       "      <td>valid</td>\n",
       "      <td>'9473'</td>\n",
       "      <td>ImagePathCell(n02979186_8751.JPEG)</td>\n",
       "      <td>57.249444</td>\n",
       "      <td>ImagePathCell(n02979186_8751.JPEG)</td>\n",
       "    </tr>\n",
       "  </tbody>\n",
       "</table>\n",
       "</div>"
      ],
      "text/plain": [
       "DataPanel(num_rows: 5)"
      ]
     },
     "execution_count": 23,
     "metadata": {
      "tags": []
     },
     "output_type": "execute_result"
    }
   ],
   "source": [
    "valid_dp.head()"
   ]
  },
  {
   "cell_type": "markdown",
   "metadata": {
    "id": "hoXRDRjgBFv9"
   },
   "source": [
    "### 💫 Computing model predictions and activations.\n",
    "We'd like to perform inference and extract:\n",
    "  \n",
    "1. Output predictions  \n",
    "2. Output class probabilities  \n",
    "3. Model activations \n",
    "\n",
    "Note: in order to extract model activations, we'll need to use a [PyTorch forward hook](https://pytorch.org/tutorials/beginner/former_torchies/nnft_tutorial.html#forward-and-backward-function-hooks) and register it on the final layer of the ResNet. Forward hooks are just functions that get executed on the forward pass of a `torch.nn.Module`. "
   ]
  },
  {
   "cell_type": "code",
   "execution_count": null,
   "metadata": {
    "id": "rY1PbA4oBFv_"
   },
   "outputs": [],
   "source": [
    "# 1. Define the forward hook\n",
    "class ActivationExtractor:\n",
    "    \"\"\"Extracting activations a targetted intermediate layer\"\"\"\n",
    "\n",
    "    def __init__(self):\n",
    "        self.activation = None\n",
    "\n",
    "    def forward_hook(self, module, input, output):\n",
    "        self.activation = output\n",
    "\n",
    "# 2. Register the forward hook\n",
    "extractor = ActivationExtractor()\n",
    "model.layer4.register_forward_hook(extractor.forward_hook);"
   ]
  },
  {
   "cell_type": "markdown",
   "metadata": {
    "id": "2hijH1t8BFwA"
   },
   "source": [
    "We want to apply a forward pass to each image in the `DataPanel` and store the outputs as new columns: `DataPanel.update` is perfectly suited for this task. \n",
    "\n",
    "Like `map`, `update` accepts a function and applies it to batches of rows in the the `DataPanel`. Unlike `map`, `update` must return a dictionary. Each key in the dictionary corresponds to a new column that will be added to the updated `DataPanel`. \n",
    "\n"
   ]
  },
  {
   "cell_type": "code",
   "execution_count": null,
   "metadata": {
    "colab": {
     "base_uri": "https://localhost:8080/",
     "height": 102,
     "referenced_widgets": [
      "dac05275cfa74373b684f12536a75305",
      "3aaa128a5c424e0abdd87bf0e58cd413",
      "1db9617daf0c4089adf1fdd40e3c26f6",
      "57a37d74adc84e8b81c19c4a2c9b8c36",
      "83346fb76d054a36a49e280d3d5aa332",
      "74cb6b7488494dce8794864d7037717a",
      "8ba301f9d56f4f199e25c006e6f80313",
      "cb75d3c8401d4a7592972107394dd169",
      "fd8107d769d440098193d07824033f13",
      "d843c945ea6c47ac84b28b28a62012d5",
      "ca45c8b3f029453293999b36317afaaf"
     ]
    },
    "id": "Mpzm2_PXBFwA",
    "outputId": "c336a6b6-822a-4b19-e3d6-ecd2b38814d6"
   },
   "outputs": [
    {
     "name": "stderr",
     "output_type": "stream",
     "text": [
      "/usr/local/lib/python3.7/dist-packages/torch/nn/functional.py:718: UserWarning: Named tensors and all their associated APIs are an experimental feature and subject to change. Please do not use them for anything important until they are released as stable. (Triggered internally at  /pytorch/c10/core/TensorImpl.h:1156.)\n",
      "  return torch.max_pool2d(input, kernel_size, stride, padding, dilation, ceil_mode)\n"
     ]
    },
    {
     "data": {
      "application/vnd.jupyter.widget-view+json": {
       "model_id": "dac05275cfa74373b684f12536a75305",
       "version_major": 2,
       "version_minor": 0
      },
      "text/plain": [
       "  0%|          | 0/123 [00:00<?, ?it/s]"
      ]
     },
     "metadata": {
      "tags": []
     },
     "output_type": "display_data"
    }
   ],
   "source": [
    "# 1. Move the model to GPU\n",
    "model.to(0).eval()\n",
    "\n",
    "# 2. Define a function that runs a forward pass over a batch \n",
    "@torch.no_grad()\n",
    "def predict(batch: mk.DataPanel):\n",
    "    input_col: mk.TensorColumn = batch[\"input\"] \n",
    "    x: torch.Tensor = input_col.data.to(0)  # We get the underlying torch tensor with `data` and move to GPU \n",
    "    out: torch.Tensor = model(x)  # Run forward pass\n",
    "\n",
    "    # Return a dictionary with one key for each of the new columns. Each value in the\n",
    "    # dictionary should have the same length as the batch. \n",
    "    return {\n",
    "        \"pred\": out.cpu().numpy().argmax(axis=-1),\n",
    "        \"probs\": torch.softmax(out, axis=-1).cpu(),\n",
    "        \"activation\": mk.EmbeddingColumn(extractor.activation.mean(dim=[-1,-2]).cpu())\n",
    "    }\n",
    "# 3. Apply the update. Note that the `predict` function operates on batches, so we set \n",
    "# `batched=True`. Also, the `predict` function only accesses the \"input\" column, by \n",
    "# specifying that here we instruct update to only load that one column and skip others \n",
    "valid_dp = valid_dp.update(\n",
    "    function=predict,\n",
    "    is_batched_fn=True,\n",
    "    batch_size=32,\n",
    "    input_columns=[\"input\"], \n",
    "    pbar=True\n",
    ")"
   ]
  },
  {
   "cell_type": "markdown",
   "metadata": {
    "id": "0iVbqFvWBFwB"
   },
   "source": [
    "The predictions, output probabilities, and activations are now stored alongside the examples in the `DataPanel`. "
   ]
  },
  {
   "cell_type": "code",
   "execution_count": null,
   "metadata": {
    "colab": {
     "base_uri": "https://localhost:8080/",
     "height": 240
    },
    "id": "BHOtokVFBFwB",
    "outputId": "d61fd7a5-69cd-4267-c62d-4c197775b715"
   },
   "outputs": [
    {
     "data": {
      "text/html": [
       "<div>\n",
       "<style scoped>\n",
       "    .dataframe tbody tr th:only-of-type {\n",
       "        vertical-align: middle;\n",
       "    }\n",
       "\n",
       "    .dataframe tbody tr th {\n",
       "        vertical-align: top;\n",
       "    }\n",
       "\n",
       "    .dataframe thead th {\n",
       "        text-align: right;\n",
       "    }\n",
       "</style>\n",
       "<table border=\"1\" class=\"dataframe\">\n",
       "  <thead>\n",
       "    <tr style=\"text-align: right;\">\n",
       "      <th></th>\n",
       "      <th>label_id (NumpyArrayColumn)</th>\n",
       "      <th>input (ImageColumn)</th>\n",
       "      <th>pred (NumpyArrayColumn)</th>\n",
       "      <th>probs (TensorColumn)</th>\n",
       "      <th>activation (EmbeddingColumn)</th>\n",
       "      <th>index (ListColumn)</th>\n",
       "    </tr>\n",
       "  </thead>\n",
       "  <tbody>\n",
       "    <tr>\n",
       "      <th>0</th>\n",
       "      <td>n02979186</td>\n",
       "      <td>ImagePathCell(n02979186_8971.JPEG)</td>\n",
       "      <td>482</td>\n",
       "      <td>torch.Tensor(shape=torch.Size([1000]))</td>\n",
       "      <td>torch.Tensor(shape=torch.Size([512]))</td>\n",
       "      <td>'9469'</td>\n",
       "    </tr>\n",
       "    <tr>\n",
       "      <th>1</th>\n",
       "      <td>n02979186</td>\n",
       "      <td>ImagePathCell(n02979186_14550.JPEG)</td>\n",
       "      <td>754</td>\n",
       "      <td>torch.Tensor(shape=torch.Size([1000]))</td>\n",
       "      <td>torch.Tensor(shape=torch.Size([512]))</td>\n",
       "      <td>'9470'</td>\n",
       "    </tr>\n",
       "    <tr>\n",
       "      <th>2</th>\n",
       "      <td>n02979186</td>\n",
       "      <td>ImagePathCell(n02979186_11971.JPEG)</td>\n",
       "      <td>482</td>\n",
       "      <td>torch.Tensor(shape=torch.Size([1000]))</td>\n",
       "      <td>torch.Tensor(shape=torch.Size([512]))</td>\n",
       "      <td>'9471'</td>\n",
       "    </tr>\n",
       "    <tr>\n",
       "      <th>3</th>\n",
       "      <td>n02979186</td>\n",
       "      <td>ImagePathCell(n02979186_11550.JPEG)</td>\n",
       "      <td>482</td>\n",
       "      <td>torch.Tensor(shape=torch.Size([1000]))</td>\n",
       "      <td>torch.Tensor(shape=torch.Size([512]))</td>\n",
       "      <td>'9472'</td>\n",
       "    </tr>\n",
       "    <tr>\n",
       "      <th>4</th>\n",
       "      <td>n02979186</td>\n",
       "      <td>ImagePathCell(n02979186_8751.JPEG)</td>\n",
       "      <td>482</td>\n",
       "      <td>torch.Tensor(shape=torch.Size([1000]))</td>\n",
       "      <td>torch.Tensor(shape=torch.Size([512]))</td>\n",
       "      <td>'9473'</td>\n",
       "    </tr>\n",
       "  </tbody>\n",
       "</table>\n",
       "</div>"
      ],
      "text/plain": [
       "DataPanel(num_rows: 5)"
      ]
     },
     "execution_count": 28,
     "metadata": {
      "tags": []
     },
     "output_type": "execute_result"
    }
   ],
   "source": [
    "valid_dp[[\"label_id\", \"input\", \"pred\", \"probs\", \"activation\"]].head()"
   ]
  },
  {
   "cell_type": "markdown",
   "metadata": {
    "id": "YBjBHfIGBFwB"
   },
   "source": [
    "### 🎯  Computing metrics and analyzing performance. \n",
    "\n",
    "Computing statistics on Meerkat `DataPanels` is straightforward because standard NumPy operators and functions can be applied directly to a `NumpyArrayColumn`. We take advantage of this below to compute the accuracy of the model."
   ]
  },
  {
   "cell_type": "code",
   "execution_count": null,
   "metadata": {
    "colab": {
     "base_uri": "https://localhost:8080/"
    },
    "id": "rs4Wlp5qBFwB",
    "outputId": "5f1967f0-97a1-4337-af70-1dc3d6b707e5"
   },
   "outputs": [
    {
     "name": "stdout",
     "output_type": "stream",
     "text": [
      "Micro accuracy across the ten Imagenette classes: 0.672\n"
     ]
    }
   ],
   "source": [
    "valid_dp[\"correct\"] = valid_dp[\"pred\"] == valid_dp[\"label_idx\"]\n",
    "accuracy = np.mean(valid_dp[\"correct\"])\n",
    "print(f\"Micro accuracy across the ten Imagenette classes: {accuracy:0.3}\")"
   ]
  },
  {
   "cell_type": "markdown",
   "metadata": {
    "id": "IHiy77uWBFwC"
   },
   "source": [
    "Furthermore, since the `DataPanel` is naturally converted to a Pandas DataFrame, it's easy to use data visualization tools that interface with Pandas (_e.g._ seaborn, bokeh)."
   ]
  },
  {
   "cell_type": "code",
   "execution_count": null,
   "metadata": {
    "colab": {
     "base_uri": "https://localhost:8080/",
     "height": 279
    },
    "id": "DRDUGt-hBFwD",
    "outputId": "773bb62a-ccd6-4b9e-93cf-5366caf7b789"
   },
   "outputs": [
    {
     "data": {
      "image/png": "[encoded data removed]",
      "text/plain": [
       "<Figure size 432x288 with 1 Axes>"
      ]
     },
     "metadata": {
      "needs_background": "light",
      "tags": []
     },
     "output_type": "display_data"
    }
   ],
   "source": [
    "## OPTIONAL: this cell requires the seaborn dependency: https://seaborn.pydata.org/installing.html \n",
    "import seaborn as sns\n",
    "import matplotlib.pyplot as plt\n",
    "sns.barplot(data=valid_dp.to_pandas(), y=\"label\", x=\"correct\");"
   ]
  },
  {
   "cell_type": "markdown",
   "metadata": {
    "id": "IAkoCFPgBFwD"
   },
   "source": [
    "### 🔎  Exploring model activations.\n",
    "To better understand the behavior of our model, we'll explore the activations of the final convolutional layer of the ResNet. Recall that when we performed our forward pass, we extracted these activations and stored them in a new column called `\"activation\"`.\n",
    "\n",
    "Unlike the the `NumpyArrayColumn`s we've been working with so far, the activation column has an additional dimension of size 512."
   ]
  },
  {
   "cell_type": "markdown",
   "metadata": {
    "id": "vYQ4doR6BFwD"
   },
   "source": [
    "To visualize the activations, we'll use a dimensionality reduction technique ([UMAP](https://umap-learn.readthedocs.io/en/latest/)) to embed the activations in two dimensions. We'll store these embeddings in two new columns \"umap_0\" and \"umap_1\". "
   ]
  },
  {
   "cell_type": "code",
   "execution_count": null,
   "metadata": {
    "colab": {
     "base_uri": "https://localhost:8080/"
    },
    "id": "EyZU3zBXBFwD",
    "outputId": "abd777f7-6e02-4b96-a167-1fd0089b0c69"
   },
   "outputs": [
    {
     "name": "stdout",
     "output_type": "stream",
     "text": [
      "Collecting umap-learn\n",
      "\u001b[?25l  Downloading https://files.pythonhosted.org/packages/75/69/85e7f950bb75792ad5d666d86c5f3e62eedbb942848e7e3126513af9999c/umap-learn-0.5.1.tar.gz (80kB)\n",
      "\u001b[K     |████████████████████████████████| 81kB 5.3MB/s \n",
      "\u001b[?25hRequirement already satisfied: numpy>=1.17 in /usr/local/lib/python3.7/dist-packages (from umap-learn) (1.19.5)\n",
      "Requirement already satisfied: scikit-learn>=0.22 in /usr/local/lib/python3.7/dist-packages (from umap-learn) (0.22.2.post1)\n",
      "Requirement already satisfied: scipy>=1.0 in /usr/local/lib/python3.7/dist-packages (from umap-learn) (1.4.1)\n",
      "Requirement already satisfied: numba>=0.49 in /usr/local/lib/python3.7/dist-packages (from umap-learn) (0.51.2)\n",
      "Collecting pynndescent>=0.5\n",
      "\u001b[?25l  Downloading https://files.pythonhosted.org/packages/af/65/8189298dd3a05bbad716ee8e249764ff8800e365d8dc652ad2192ca01b4a/pynndescent-0.5.2.tar.gz (1.1MB)\n",
      "\u001b[K     |████████████████████████████████| 1.2MB 42.5MB/s \n",
      "\u001b[?25hRequirement already satisfied: joblib>=0.11 in /usr/local/lib/python3.7/dist-packages (from scikit-learn>=0.22->umap-learn) (1.0.1)\n",
      "Requirement already satisfied: llvmlite<0.35,>=0.34.0.dev0 in /usr/local/lib/python3.7/dist-packages (from numba>=0.49->umap-learn) (0.34.0)\n",
      "Requirement already satisfied: setuptools in /usr/local/lib/python3.7/dist-packages (from numba>=0.49->umap-learn) (57.0.0)\n",
      "Building wheels for collected packages: umap-learn, pynndescent\n",
      "  Building wheel for umap-learn (setup.py) ... \u001b[?25l\u001b[?25hdone\n",
      "  Created wheel for umap-learn: filename=umap_learn-0.5.1-cp37-none-any.whl size=76569 sha256=ff143b9d4a23bc295b04e236b41163a87fd03a919ce3c167f1652e97251165ac\n",
      "  Stored in directory: /root/.cache/pip/wheels/ad/df/d5/a3691296ff779f25cd1cf415a3af954b987fb53111e3392cf4\n",
      "  Building wheel for pynndescent (setup.py) ... \u001b[?25l\u001b[?25hdone\n",
      "  Created wheel for pynndescent: filename=pynndescent-0.5.2-cp37-none-any.whl size=51362 sha256=e86fb3b030c4c08cdf374468bbb83dae05505b875d175b554591182619c22ea2\n",
      "  Stored in directory: /root/.cache/pip/wheels/ba/52/4e/4c28d04d144a28f89e2575fb63628df6e6d49b56c5ddd0c74e\n",
      "Successfully built umap-learn pynndescent\n",
      "Installing collected packages: pynndescent, umap-learn\n",
      "Successfully installed pynndescent-0.5.2 umap-learn-0.5.1\n"
     ]
    }
   ],
   "source": [
    "## OPTIONAL: this cell requires the umap dependency: https://umap-learn.readthedocs.io/en/latest/\n",
    "!pip install umap-learn\n",
    "from umap import UMAP\n",
    "\n",
    "# 1. Compute UMAP embedding\n",
    "reducer = UMAP()\n",
    "embs = reducer.fit_transform(valid_dp[\"activation\"])\n",
    "\n",
    "# 2. Add the embedding to the DataPanel as two new columns \n",
    "valid_dp[\"umap_0\"] = embs[:, 0]\n",
    "valid_dp[\"umap_1\"] = embs[:, 1]"
   ]
  },
  {
   "cell_type": "markdown",
   "metadata": {
    "id": "sZhdVPVABFwE"
   },
   "source": [
    "Again, we can leverage seaborn to quickly visualize the activations in a 2D scatter plot and color the points by the images label. The activations seem to cluster by the underlying label.  "
   ]
  },
  {
   "cell_type": "code",
   "execution_count": null,
   "metadata": {
    "colab": {
     "base_uri": "https://localhost:8080/",
     "height": 297
    },
    "id": "-LiJPhSrBFwE",
    "outputId": "dc579da2-f1c2-4ec6-f551-f44833c0d304"
   },
   "outputs": [
    {
     "data": {
      "text/plain": [
       "<matplotlib.legend.Legend at 0x7fdf218eff10>"
      ]
     },
     "execution_count": 32,
     "metadata": {
      "tags": []
     },
     "output_type": "execute_result"
    },
    {
     "data": {
      "image/png": "[encoded data removed]",
      "text/plain": [
       "<Figure size 432x288 with 1 Axes>"
      ]
     },
     "metadata": {
      "needs_background": "light",
      "tags": []
     },
     "output_type": "display_data"
    }
   ],
   "source": [
    "## OPTIONAL: this cell requires the seaborn dependency: https://seaborn.pydata.org/installing.html \n",
    "import seaborn as sns\n",
    "import matplotlib.pyplot as plt\n",
    "sns.scatterplot(data=valid_dp.to_pandas(), x=\"umap_0\", y=\"umap_1\", hue=\"label\");\n",
    "plt.legend(bbox_to_anchor=(1.05, 1), loc='upper left')"
   ]
  },
  {
   "cell_type": "markdown",
   "metadata": {
    "id": "VzkasPj_BFwE"
   },
   "source": [
    "## 💾  Writing a `DataPanel` to disk. \n",
    "Finally, we can write the updated `DataPanel`, with all the activations and predictions included, to disk for later use.  \n",
    "\n",
    "`DataPanel` size on disk: 25MB\n",
    "\n",
    "On disk, the `DataPanel` is stored in a directory at the path passed to `DataPanel.write`. Within that directory, each column is stored separately. This allows us to read only a subset of columns from DataPanel on disk. Use the file explorer to the left to further expore the file structure of the `DataPanel`.  \n",
    "```\n",
    "valid_dp\n",
    "|  +-- meta.yml   \n",
    "|  +-- state.dill  \n",
    "|  +-- columns\n",
    "   |   +-- activation\n",
    "   |   +-- avg_blue\n",
    "   |   +-- correct\n",
    "   |   ...\n",
    "   |   +-- umap_1\n",
    "```\n"
   ]
  },
  {
   "cell_type": "code",
   "execution_count": null,
   "metadata": {
    "id": "ZvgQtAVfBFwE"
   },
   "outputs": [],
   "source": [
    "valid_dp.write(os.path.join(dataset_dir, \"valid_dp\"))"
   ]
  },
  {
   "cell_type": "code",
   "execution_count": null,
   "metadata": {
    "id": "yt1SAjqnBFwE"
   },
   "outputs": [],
   "source": [
    "valid_dp = mk.DataPanel.read(os.path.join(dataset_dir, \"valid_dp\"))"
   ]
  }
 ],
 "metadata": {
  "accelerator": "GPU",
  "colab": {
   "collapsed_sections": [
    "9NrvqZXNBFvx"
   ],
   "name": "01_meerkat_intro.ipynb",
   "provenance": []
  },
  "kernelspec": {
   "display_name": "Python 3 (ipykernel)",
   "language": "python",
   "name": "python3"
  },
  "language_info": {
   "codemirror_mode": {
    "name": "ipython",
    "version": 3
   },
   "file_extension": ".py",
   "mimetype": "text/x-python",
   "name": "python",
   "nbconvert_exporter": "python",
   "pygments_lexer": "ipython3",
   "version": "3.8.11"
  },
  "metadata": {
   "interpreter": {
    "hash": "6d7bd4c6039f156d838f2caf01fbd8d7d51ef546e5fb1f60e559c6bdf3c7cc94"
   }
  },
  "widgets": {
   "application/vnd.jupyter.widget-state+json": {
    "0dfc24642e2b4831b5f59280464f9cb7": {
     "model_module": "@jupyter-widgets/controls",
     "model_name": "DescriptionStyleModel",
     "state": {
      "_model_module": "@jupyter-widgets/controls",
      "_model_module_version": "1.5.0",
      "_model_name": "DescriptionStyleModel",
      "_view_count": null,
      "_view_module": "@jupyter-widgets/base",
      "_view_module_version": "1.2.0",
      "_view_name": "StyleView",
      "description_width": ""
     }
    },
    "0f81be50e8c04a73a98e3183e0043d07": {
     "model_module": "@jupyter-widgets/base",
     "model_name": "LayoutModel",
     "state": {
      "_model_module": "@jupyter-widgets/base",
      "_model_module_version": "1.2.0",
      "_model_name": "LayoutModel",
      "_view_count": null,
      "_view_module": "@jupyter-widgets/base",
      "_view_module_version": "1.2.0",
      "_view_name": "LayoutView",
      "align_content": null,
      "align_items": null,
      "align_self": null,
      "border": null,
      "bottom": null,
      "display": null,
      "flex": null,
      "flex_flow": null,
      "grid_area": null,
      "grid_auto_columns": null,
      "grid_auto_flow": null,
      "grid_auto_rows": null,
      "grid_column": null,
      "grid_gap": null,
      "grid_row": null,
      "grid_template_areas": null,
      "grid_template_columns": null,
      "grid_template_rows": null,
      "height": null,
      "justify_content": null,
      "justify_items": null,
      "left": null,
      "margin": null,
      "max_height": null,
      "max_width": null,
      "min_height": null,
      "min_width": null,
      "object_fit": null,
      "object_position": null,
      "order": null,
      "overflow": null,
      "overflow_x": null,
      "overflow_y": null,
      "padding": null,
      "right": null,
      "top": null,
      "visibility": null,
      "width": null
     }
    },
    "10b27e05597444758b912b848daafee2": {
     "model_module": "@jupyter-widgets/base",
     "model_name": "LayoutModel",
     "state": {
      "_model_module": "@jupyter-widgets/base",
      "_model_module_version": "1.2.0",
      "_model_name": "LayoutModel",
      "_view_count": null,
      "_view_module": "@jupyter-widgets/base",
      "_view_module_version": "1.2.0",
      "_view_name": "LayoutView",
      "align_content": null,
      "align_items": null,
      "align_self": null,
      "border": null,
      "bottom": null,
      "display": null,
      "flex": null,
      "flex_flow": null,
      "grid_area": null,
      "grid_auto_columns": null,
      "grid_auto_flow": null,
      "grid_auto_rows": null,
      "grid_column": null,
      "grid_gap": null,
      "grid_row": null,
      "grid_template_areas": null,
      "grid_template_columns": null,
      "grid_template_rows": null,
      "height": null,
      "justify_content": null,
      "justify_items": null,
      "left": null,
      "margin": null,
      "max_height": null,
      "max_width": null,
      "min_height": null,
      "min_width": null,
      "object_fit": null,
      "object_position": null,
      "order": null,
      "overflow": null,
      "overflow_x": null,
      "overflow_y": null,
      "padding": null,
      "right": null,
      "top": null,
      "visibility": null,
      "width": null
     }
    },
    "13d65bb3cbb74568a08fd6e97ce5c7c3": {
     "model_module": "@jupyter-widgets/controls",
     "model_name": "DescriptionStyleModel",
     "state": {
      "_model_module": "@jupyter-widgets/controls",
      "_model_module_version": "1.5.0",
      "_model_name": "DescriptionStyleModel",
      "_view_count": null,
      "_view_module": "@jupyter-widgets/base",
      "_view_module_version": "1.2.0",
      "_view_name": "StyleView",
      "description_width": ""
     }
    },
    "14f539ef54bd4e2ea8233198550cc68a": {
     "model_module": "@jupyter-widgets/controls",
     "model_name": "DescriptionStyleModel",
     "state": {
      "_model_module": "@jupyter-widgets/controls",
      "_model_module_version": "1.5.0",
      "_model_name": "DescriptionStyleModel",
      "_view_count": null,
      "_view_module": "@jupyter-widgets/base",
      "_view_module_version": "1.2.0",
      "_view_name": "StyleView",
      "description_width": ""
     }
    },
    "1db9617daf0c4089adf1fdd40e3c26f6": {
     "model_module": "@jupyter-widgets/controls",
     "model_name": "HTMLModel",
     "state": {
      "_dom_classes": [],
      "_model_module": "@jupyter-widgets/controls",
      "_model_module_version": "1.5.0",
      "_model_name": "HTMLModel",
      "_view_count": null,
      "_view_module": "@jupyter-widgets/controls",
      "_view_module_version": "1.5.0",
      "_view_name": "HTMLView",
      "description": "",
      "description_tooltip": null,
      "layout": "IPY_MODEL_8ba301f9d56f4f199e25c006e6f80313",
      "placeholder": "​",
      "style": "IPY_MODEL_74cb6b7488494dce8794864d7037717a",
      "value": "100%"
     }
    },
    "287343a41ea44b1e8c74f5c2d5c3d759": {
     "model_module": "@jupyter-widgets/controls",
     "model_name": "ProgressStyleModel",
     "state": {
      "_model_module": "@jupyter-widgets/controls",
      "_model_module_version": "1.5.0",
      "_model_name": "ProgressStyleModel",
      "_view_count": null,
      "_view_module": "@jupyter-widgets/base",
      "_view_module_version": "1.2.0",
      "_view_name": "StyleView",
      "bar_color": null,
      "description_width": ""
     }
    },
    "3048de3634504cc98061f5634bdd67bf": {
     "model_module": "@jupyter-widgets/base",
     "model_name": "LayoutModel",
     "state": {
      "_model_module": "@jupyter-widgets/base",
      "_model_module_version": "1.2.0",
      "_model_name": "LayoutModel",
      "_view_count": null,
      "_view_module": "@jupyter-widgets/base",
      "_view_module_version": "1.2.0",
      "_view_name": "LayoutView",
      "align_content": null,
      "align_items": null,
      "align_self": null,
      "border": null,
      "bottom": null,
      "display": null,
      "flex": null,
      "flex_flow": null,
      "grid_area": null,
      "grid_auto_columns": null,
      "grid_auto_flow": null,
      "grid_auto_rows": null,
      "grid_column": null,
      "grid_gap": null,
      "grid_row": null,
      "grid_template_areas": null,
      "grid_template_columns": null,
      "grid_template_rows": null,
      "height": null,
      "justify_content": null,
      "justify_items": null,
      "left": null,
      "margin": null,
      "max_height": null,
      "max_width": null,
      "min_height": null,
      "min_width": null,
      "object_fit": null,
      "object_position": null,
      "order": null,
      "overflow": null,
      "overflow_x": null,
      "overflow_y": null,
      "padding": null,
      "right": null,
      "top": null,
      "visibility": null,
      "width": null
     }
    },
    "3aaa128a5c424e0abdd87bf0e58cd413": {
     "model_module": "@jupyter-widgets/base",
     "model_name": "LayoutModel",
     "state": {
      "_model_module": "@jupyter-widgets/base",
      "_model_module_version": "1.2.0",
      "_model_name": "LayoutModel",
      "_view_count": null,
      "_view_module": "@jupyter-widgets/base",
      "_view_module_version": "1.2.0",
      "_view_name": "LayoutView",
      "align_content": null,
      "align_items": null,
      "align_self": null,
      "border": null,
      "bottom": null,
      "display": null,
      "flex": null,
      "flex_flow": null,
      "grid_area": null,
      "grid_auto_columns": null,
      "grid_auto_flow": null,
      "grid_auto_rows": null,
      "grid_column": null,
      "grid_gap": null,
      "grid_row": null,
      "grid_template_areas": null,
      "grid_template_columns": null,
      "grid_template_rows": null,
      "height": null,
      "justify_content": null,
      "justify_items": null,
      "left": null,
      "margin": null,
      "max_height": null,
      "max_width": null,
      "min_height": null,
      "min_width": null,
      "object_fit": null,
      "object_position": null,
      "order": null,
      "overflow": null,
      "overflow_x": null,
      "overflow_y": null,
      "padding": null,
      "right": null,
      "top": null,
      "visibility": null,
      "width": null
     }
    },
    "3ba6e70c75a644b98792740b6a339430": {
     "model_module": "@jupyter-widgets/controls",
     "model_name": "ProgressStyleModel",
     "state": {
      "_model_module": "@jupyter-widgets/controls",
      "_model_module_version": "1.5.0",
      "_model_name": "ProgressStyleModel",
      "_view_count": null,
      "_view_module": "@jupyter-widgets/base",
      "_view_module_version": "1.2.0",
      "_view_name": "StyleView",
      "bar_color": null,
      "description_width": ""
     }
    },
    "3d022c3b8b9040e9a5ecb0d91df46736": {
     "model_module": "@jupyter-widgets/controls",
     "model_name": "FloatProgressModel",
     "state": {
      "_dom_classes": [],
      "_model_module": "@jupyter-widgets/controls",
      "_model_module_version": "1.5.0",
      "_model_name": "FloatProgressModel",
      "_view_count": null,
      "_view_module": "@jupyter-widgets/controls",
      "_view_module_version": "1.5.0",
      "_view_name": "ProgressView",
      "bar_style": "success",
      "description": "",
      "description_tooltip": null,
      "layout": "IPY_MODEL_a54e97f56646442f8a6dfa14aaba61c0",
      "max": 99003388,
      "min": 0,
      "orientation": "horizontal",
      "style": "IPY_MODEL_3ba6e70c75a644b98792740b6a339430",
      "value": 99003388
     }
    },
    "40d288ec9305413ba933374953b9f110": {
     "model_module": "@jupyter-widgets/controls",
     "model_name": "FloatProgressModel",
     "state": {
      "_dom_classes": [],
      "_model_module": "@jupyter-widgets/controls",
      "_model_module_version": "1.5.0",
      "_model_name": "FloatProgressModel",
      "_view_count": null,
      "_view_module": "@jupyter-widgets/controls",
      "_view_module_version": "1.5.0",
      "_view_name": "ProgressView",
      "bar_style": "success",
      "description": "",
      "description_tooltip": null,
      "layout": "IPY_MODEL_10b27e05597444758b912b848daafee2",
      "max": 3925,
      "min": 0,
      "orientation": "horizontal",
      "style": "IPY_MODEL_287343a41ea44b1e8c74f5c2d5c3d759",
      "value": 3925
     }
    },
    "4b8f98fa5f154dfca040965fa38dc046": {
     "model_module": "@jupyter-widgets/controls",
     "model_name": "ProgressStyleModel",
     "state": {
      "_model_module": "@jupyter-widgets/controls",
      "_model_module_version": "1.5.0",
      "_model_name": "ProgressStyleModel",
      "_view_count": null,
      "_view_module": "@jupyter-widgets/base",
      "_view_module_version": "1.2.0",
      "_view_name": "StyleView",
      "bar_color": null,
      "description_width": ""
     }
    },
    "4be99d47e58b44f894635df02ef2e854": {
     "model_module": "@jupyter-widgets/base",
     "model_name": "LayoutModel",
     "state": {
      "_model_module": "@jupyter-widgets/base",
      "_model_module_version": "1.2.0",
      "_model_name": "LayoutModel",
      "_view_count": null,
      "_view_module": "@jupyter-widgets/base",
      "_view_module_version": "1.2.0",
      "_view_name": "LayoutView",
      "align_content": null,
      "align_items": null,
      "align_self": null,
      "border": null,
      "bottom": null,
      "display": null,
      "flex": null,
      "flex_flow": null,
      "grid_area": null,
      "grid_auto_columns": null,
      "grid_auto_flow": null,
      "grid_auto_rows": null,
      "grid_column": null,
      "grid_gap": null,
      "grid_row": null,
      "grid_template_areas": null,
      "grid_template_columns": null,
      "grid_template_rows": null,
      "height": null,
      "justify_content": null,
      "justify_items": null,
      "left": null,
      "margin": null,
      "max_height": null,
      "max_width": null,
      "min_height": null,
      "min_width": null,
      "object_fit": null,
      "object_position": null,
      "order": null,
      "overflow": null,
      "overflow_x": null,
      "overflow_y": null,
      "padding": null,
      "right": null,
      "top": null,
      "visibility": null,
      "width": null
     }
    },
    "57a37d74adc84e8b81c19c4a2c9b8c36": {
     "model_module": "@jupyter-widgets/controls",
     "model_name": "FloatProgressModel",
     "state": {
      "_dom_classes": [],
      "_model_module": "@jupyter-widgets/controls",
      "_model_module_version": "1.5.0",
      "_model_name": "FloatProgressModel",
      "_view_count": null,
      "_view_module": "@jupyter-widgets/controls",
      "_view_module_version": "1.5.0",
      "_view_name": "ProgressView",
      "bar_style": "success",
      "description": "",
      "description_tooltip": null,
      "layout": "IPY_MODEL_fd8107d769d440098193d07824033f13",
      "max": 123,
      "min": 0,
      "orientation": "horizontal",
      "style": "IPY_MODEL_cb75d3c8401d4a7592972107394dd169",
      "value": 123
     }
    },
    "630ff0cce8e94045bb68b61d323c5d4f": {
     "model_module": "@jupyter-widgets/controls",
     "model_name": "DescriptionStyleModel",
     "state": {
      "_model_module": "@jupyter-widgets/controls",
      "_model_module_version": "1.5.0",
      "_model_name": "DescriptionStyleModel",
      "_view_count": null,
      "_view_module": "@jupyter-widgets/base",
      "_view_module_version": "1.2.0",
      "_view_name": "StyleView",
      "description_width": ""
     }
    },
    "664c4a50259241198b771b00fd37db91": {
     "model_module": "@jupyter-widgets/controls",
     "model_name": "HTMLModel",
     "state": {
      "_dom_classes": [],
      "_model_module": "@jupyter-widgets/controls",
      "_model_module_version": "1.5.0",
      "_model_name": "HTMLModel",
      "_view_count": null,
      "_view_module": "@jupyter-widgets/controls",
      "_view_module_version": "1.5.0",
      "_view_name": "HTMLView",
      "description": "",
      "description_tooltip": null,
      "layout": "IPY_MODEL_0f81be50e8c04a73a98e3183e0043d07",
      "placeholder": "​",
      "style": "IPY_MODEL_0dfc24642e2b4831b5f59280464f9cb7",
      "value": " 3925/3925 [00:11&lt;00:00, 333.21it/s]"
     }
    },
    "669fceff0bf84321b2054504a67f6d84": {
     "model_module": "@jupyter-widgets/base",
     "model_name": "LayoutModel",
     "state": {
      "_model_module": "@jupyter-widgets/base",
      "_model_module_version": "1.2.0",
      "_model_name": "LayoutModel",
      "_view_count": null,
      "_view_module": "@jupyter-widgets/base",
      "_view_module_version": "1.2.0",
      "_view_name": "LayoutView",
      "align_content": null,
      "align_items": null,
      "align_self": null,
      "border": null,
      "bottom": null,
      "display": null,
      "flex": null,
      "flex_flow": null,
      "grid_area": null,
      "grid_auto_columns": null,
      "grid_auto_flow": null,
      "grid_auto_rows": null,
      "grid_column": null,
      "grid_gap": null,
      "grid_row": null,
      "grid_template_areas": null,
      "grid_template_columns": null,
      "grid_template_rows": null,
      "height": null,
      "justify_content": null,
      "justify_items": null,
      "left": null,
      "margin": null,
      "max_height": null,
      "max_width": null,
      "min_height": null,
      "min_width": null,
      "object_fit": null,
      "object_position": null,
      "order": null,
      "overflow": null,
      "overflow_x": null,
      "overflow_y": null,
      "padding": null,
      "right": null,
      "top": null,
      "visibility": null,
      "width": null
     }
    },
    "6cfe446e39aa414e83f6d1ab779bca3e": {
     "model_module": "@jupyter-widgets/controls",
     "model_name": "HTMLModel",
     "state": {
      "_dom_classes": [],
      "_model_module": "@jupyter-widgets/controls",
      "_model_module_version": "1.5.0",
      "_model_name": "HTMLModel",
      "_view_count": null,
      "_view_module": "@jupyter-widgets/controls",
      "_view_module_version": "1.5.0",
      "_view_name": "HTMLView",
      "description": "",
      "description_tooltip": null,
      "layout": "IPY_MODEL_d8b00e6224e8470abf5ac8b20c293f08",
      "placeholder": "​",
      "style": "IPY_MODEL_630ff0cce8e94045bb68b61d323c5d4f",
      "value": " 99003392/? [00:02&lt;00:00, 41112590.51it/s]"
     }
    },
    "74cb6b7488494dce8794864d7037717a": {
     "model_module": "@jupyter-widgets/controls",
     "model_name": "DescriptionStyleModel",
     "state": {
      "_model_module": "@jupyter-widgets/controls",
      "_model_module_version": "1.5.0",
      "_model_name": "DescriptionStyleModel",
      "_view_count": null,
      "_view_module": "@jupyter-widgets/base",
      "_view_module_version": "1.2.0",
      "_view_name": "StyleView",
      "description_width": ""
     }
    },
    "74e758f7db1f468fbbe0fe1f14b64087": {
     "model_module": "@jupyter-widgets/base",
     "model_name": "LayoutModel",
     "state": {
      "_model_module": "@jupyter-widgets/base",
      "_model_module_version": "1.2.0",
      "_model_name": "LayoutModel",
      "_view_count": null,
      "_view_module": "@jupyter-widgets/base",
      "_view_module_version": "1.2.0",
      "_view_name": "LayoutView",
      "align_content": null,
      "align_items": null,
      "align_self": null,
      "border": null,
      "bottom": null,
      "display": null,
      "flex": null,
      "flex_flow": null,
      "grid_area": null,
      "grid_auto_columns": null,
      "grid_auto_flow": null,
      "grid_auto_rows": null,
      "grid_column": null,
      "grid_gap": null,
      "grid_row": null,
      "grid_template_areas": null,
      "grid_template_columns": null,
      "grid_template_rows": null,
      "height": null,
      "justify_content": null,
      "justify_items": null,
      "left": null,
      "margin": null,
      "max_height": null,
      "max_width": null,
      "min_height": null,
      "min_width": null,
      "object_fit": null,
      "object_position": null,
      "order": null,
      "overflow": null,
      "overflow_x": null,
      "overflow_y": null,
      "padding": null,
      "right": null,
      "top": null,
      "visibility": null,
      "width": null
     }
    },
    "77fd0f76f78748f59db217054ad721be": {
     "model_module": "@jupyter-widgets/controls",
     "model_name": "HTMLModel",
     "state": {
      "_dom_classes": [],
      "_model_module": "@jupyter-widgets/controls",
      "_model_module_version": "1.5.0",
      "_model_name": "HTMLModel",
      "_view_count": null,
      "_view_module": "@jupyter-widgets/controls",
      "_view_module_version": "1.5.0",
      "_view_name": "HTMLView",
      "description": "",
      "description_tooltip": null,
      "layout": "IPY_MODEL_74e758f7db1f468fbbe0fe1f14b64087",
      "placeholder": "​",
      "style": "IPY_MODEL_e99d2984aa034ba381c7467c875fb136",
      "value": " 44.7M/44.7M [00:00&lt;00:00, 158MB/s]"
     }
    },
    "83346fb76d054a36a49e280d3d5aa332": {
     "model_module": "@jupyter-widgets/controls",
     "model_name": "HTMLModel",
     "state": {
      "_dom_classes": [],
      "_model_module": "@jupyter-widgets/controls",
      "_model_module_version": "1.5.0",
      "_model_name": "HTMLModel",
      "_view_count": null,
      "_view_module": "@jupyter-widgets/controls",
      "_view_module_version": "1.5.0",
      "_view_name": "HTMLView",
      "description": "",
      "description_tooltip": null,
      "layout": "IPY_MODEL_ca45c8b3f029453293999b36317afaaf",
      "placeholder": "​",
      "style": "IPY_MODEL_d843c945ea6c47ac84b28b28a62012d5",
      "value": " 123/123 [00:17&lt;00:00,  7.15it/s]"
     }
    },
    "8ba301f9d56f4f199e25c006e6f80313": {
     "model_module": "@jupyter-widgets/base",
     "model_name": "LayoutModel",
     "state": {
      "_model_module": "@jupyter-widgets/base",
      "_model_module_version": "1.2.0",
      "_model_name": "LayoutModel",
      "_view_count": null,
      "_view_module": "@jupyter-widgets/base",
      "_view_module_version": "1.2.0",
      "_view_name": "LayoutView",
      "align_content": null,
      "align_items": null,
      "align_self": null,
      "border": null,
      "bottom": null,
      "display": null,
      "flex": null,
      "flex_flow": null,
      "grid_area": null,
      "grid_auto_columns": null,
      "grid_auto_flow": null,
      "grid_auto_rows": null,
      "grid_column": null,
      "grid_gap": null,
      "grid_row": null,
      "grid_template_areas": null,
      "grid_template_columns": null,
      "grid_template_rows": null,
      "height": null,
      "justify_content": null,
      "justify_items": null,
      "left": null,
      "margin": null,
      "max_height": null,
      "max_width": null,
      "min_height": null,
      "min_width": null,
      "object_fit": null,
      "object_position": null,
      "order": null,
      "overflow": null,
      "overflow_x": null,
      "overflow_y": null,
      "padding": null,
      "right": null,
      "top": null,
      "visibility": null,
      "width": null
     }
    },
    "9d0a76ac9c9e46838b55b561df03dc37": {
     "model_module": "@jupyter-widgets/controls",
     "model_name": "FloatProgressModel",
     "state": {
      "_dom_classes": [],
      "_model_module": "@jupyter-widgets/controls",
      "_model_module_version": "1.5.0",
      "_model_name": "FloatProgressModel",
      "_view_count": null,
      "_view_module": "@jupyter-widgets/controls",
      "_view_module_version": "1.5.0",
      "_view_name": "ProgressView",
      "bar_style": "success",
      "description": "",
      "description_tooltip": null,
      "layout": "IPY_MODEL_b63fe6abd64c40f19e0f333662316e42",
      "max": 46830571,
      "min": 0,
      "orientation": "horizontal",
      "style": "IPY_MODEL_4b8f98fa5f154dfca040965fa38dc046",
      "value": 46830571
     }
    },
    "a54e97f56646442f8a6dfa14aaba61c0": {
     "model_module": "@jupyter-widgets/base",
     "model_name": "LayoutModel",
     "state": {
      "_model_module": "@jupyter-widgets/base",
      "_model_module_version": "1.2.0",
      "_model_name": "LayoutModel",
      "_view_count": null,
      "_view_module": "@jupyter-widgets/base",
      "_view_module_version": "1.2.0",
      "_view_name": "LayoutView",
      "align_content": null,
      "align_items": null,
      "align_self": null,
      "border": null,
      "bottom": null,
      "display": null,
      "flex": null,
      "flex_flow": null,
      "grid_area": null,
      "grid_auto_columns": null,
      "grid_auto_flow": null,
      "grid_auto_rows": null,
      "grid_column": null,
      "grid_gap": null,
      "grid_row": null,
      "grid_template_areas": null,
      "grid_template_columns": null,
      "grid_template_rows": null,
      "height": null,
      "justify_content": null,
      "justify_items": null,
      "left": null,
      "margin": null,
      "max_height": null,
      "max_width": null,
      "min_height": null,
      "min_width": null,
      "object_fit": null,
      "object_position": null,
      "order": null,
      "overflow": null,
      "overflow_x": null,
      "overflow_y": null,
      "padding": null,
      "right": null,
      "top": null,
      "visibility": null,
      "width": null
     }
    },
    "b30961e907a54f1a8f432440800784c0": {
     "model_module": "@jupyter-widgets/controls",
     "model_name": "HTMLModel",
     "state": {
      "_dom_classes": [],
      "_model_module": "@jupyter-widgets/controls",
      "_model_module_version": "1.5.0",
      "_model_name": "HTMLModel",
      "_view_count": null,
      "_view_module": "@jupyter-widgets/controls",
      "_view_module_version": "1.5.0",
      "_view_name": "HTMLView",
      "description": "",
      "description_tooltip": null,
      "layout": "IPY_MODEL_3048de3634504cc98061f5634bdd67bf",
      "placeholder": "​",
      "style": "IPY_MODEL_14f539ef54bd4e2ea8233198550cc68a",
      "value": "100%"
     }
    },
    "b63fe6abd64c40f19e0f333662316e42": {
     "model_module": "@jupyter-widgets/base",
     "model_name": "LayoutModel",
     "state": {
      "_model_module": "@jupyter-widgets/base",
      "_model_module_version": "1.2.0",
      "_model_name": "LayoutModel",
      "_view_count": null,
      "_view_module": "@jupyter-widgets/base",
      "_view_module_version": "1.2.0",
      "_view_name": "LayoutView",
      "align_content": null,
      "align_items": null,
      "align_self": null,
      "border": null,
      "bottom": null,
      "display": null,
      "flex": null,
      "flex_flow": null,
      "grid_area": null,
      "grid_auto_columns": null,
      "grid_auto_flow": null,
      "grid_auto_rows": null,
      "grid_column": null,
      "grid_gap": null,
      "grid_row": null,
      "grid_template_areas": null,
      "grid_template_columns": null,
      "grid_template_rows": null,
      "height": null,
      "justify_content": null,
      "justify_items": null,
      "left": null,
      "margin": null,
      "max_height": null,
      "max_width": null,
      "min_height": null,
      "min_width": null,
      "object_fit": null,
      "object_position": null,
      "order": null,
      "overflow": null,
      "overflow_x": null,
      "overflow_y": null,
      "padding": null,
      "right": null,
      "top": null,
      "visibility": null,
      "width": null
     }
    },
    "c4dfb56cf73b45e1af7415b935dbede5": {
     "model_module": "@jupyter-widgets/base",
     "model_name": "LayoutModel",
     "state": {
      "_model_module": "@jupyter-widgets/base",
      "_model_module_version": "1.2.0",
      "_model_name": "LayoutModel",
      "_view_count": null,
      "_view_module": "@jupyter-widgets/base",
      "_view_module_version": "1.2.0",
      "_view_name": "LayoutView",
      "align_content": null,
      "align_items": null,
      "align_self": null,
      "border": null,
      "bottom": null,
      "display": null,
      "flex": null,
      "flex_flow": null,
      "grid_area": null,
      "grid_auto_columns": null,
      "grid_auto_flow": null,
      "grid_auto_rows": null,
      "grid_column": null,
      "grid_gap": null,
      "grid_row": null,
      "grid_template_areas": null,
      "grid_template_columns": null,
      "grid_template_rows": null,
      "height": null,
      "justify_content": null,
      "justify_items": null,
      "left": null,
      "margin": null,
      "max_height": null,
      "max_width": null,
      "min_height": null,
      "min_width": null,
      "object_fit": null,
      "object_position": null,
      "order": null,
      "overflow": null,
      "overflow_x": null,
      "overflow_y": null,
      "padding": null,
      "right": null,
      "top": null,
      "visibility": null,
      "width": null
     }
    },
    "c71a032df9964770973006e2e9dfe69b": {
     "model_module": "@jupyter-widgets/controls",
     "model_name": "HBoxModel",
     "state": {
      "_dom_classes": [],
      "_model_module": "@jupyter-widgets/controls",
      "_model_module_version": "1.5.0",
      "_model_name": "HBoxModel",
      "_view_count": null,
      "_view_module": "@jupyter-widgets/controls",
      "_view_module_version": "1.5.0",
      "_view_name": "HBoxView",
      "box_style": "",
      "children": [
       "IPY_MODEL_b30961e907a54f1a8f432440800784c0",
       "IPY_MODEL_40d288ec9305413ba933374953b9f110",
       "IPY_MODEL_664c4a50259241198b771b00fd37db91"
      ],
      "layout": "IPY_MODEL_ee06dceab96b4396b10aec0c8f6d1880"
     }
    },
    "ca45c8b3f029453293999b36317afaaf": {
     "model_module": "@jupyter-widgets/base",
     "model_name": "LayoutModel",
     "state": {
      "_model_module": "@jupyter-widgets/base",
      "_model_module_version": "1.2.0",
      "_model_name": "LayoutModel",
      "_view_count": null,
      "_view_module": "@jupyter-widgets/base",
      "_view_module_version": "1.2.0",
      "_view_name": "LayoutView",
      "align_content": null,
      "align_items": null,
      "align_self": null,
      "border": null,
      "bottom": null,
      "display": null,
      "flex": null,
      "flex_flow": null,
      "grid_area": null,
      "grid_auto_columns": null,
      "grid_auto_flow": null,
      "grid_auto_rows": null,
      "grid_column": null,
      "grid_gap": null,
      "grid_row": null,
      "grid_template_areas": null,
      "grid_template_columns": null,
      "grid_template_rows": null,
      "height": null,
      "justify_content": null,
      "justify_items": null,
      "left": null,
      "margin": null,
      "max_height": null,
      "max_width": null,
      "min_height": null,
      "min_width": null,
      "object_fit": null,
      "object_position": null,
      "order": null,
      "overflow": null,
      "overflow_x": null,
      "overflow_y": null,
      "padding": null,
      "right": null,
      "top": null,
      "visibility": null,
      "width": null
     }
    },
    "cb75d3c8401d4a7592972107394dd169": {
     "model_module": "@jupyter-widgets/controls",
     "model_name": "ProgressStyleModel",
     "state": {
      "_model_module": "@jupyter-widgets/controls",
      "_model_module_version": "1.5.0",
      "_model_name": "ProgressStyleModel",
      "_view_count": null,
      "_view_module": "@jupyter-widgets/base",
      "_view_module_version": "1.2.0",
      "_view_name": "StyleView",
      "bar_color": null,
      "description_width": ""
     }
    },
    "d10f7eaf7a994bbf8550113f316337a8": {
     "model_module": "@jupyter-widgets/controls",
     "model_name": "HTMLModel",
     "state": {
      "_dom_classes": [],
      "_model_module": "@jupyter-widgets/controls",
      "_model_module_version": "1.5.0",
      "_model_name": "HTMLModel",
      "_view_count": null,
      "_view_module": "@jupyter-widgets/controls",
      "_view_module_version": "1.5.0",
      "_view_name": "HTMLView",
      "description": "",
      "description_tooltip": null,
      "layout": "IPY_MODEL_c4dfb56cf73b45e1af7415b935dbede5",
      "placeholder": "​",
      "style": "IPY_MODEL_e2413859f208465e892fa985ac18865c",
      "value": "100%"
     }
    },
    "d297d6f8aef54a0689ee1d5f2544deed": {
     "model_module": "@jupyter-widgets/controls",
     "model_name": "HBoxModel",
     "state": {
      "_dom_classes": [],
      "_model_module": "@jupyter-widgets/controls",
      "_model_module_version": "1.5.0",
      "_model_name": "HBoxModel",
      "_view_count": null,
      "_view_module": "@jupyter-widgets/controls",
      "_view_module_version": "1.5.0",
      "_view_name": "HBoxView",
      "box_style": "",
      "children": [
       "IPY_MODEL_dfa95ea4650743fd9e5c52094f80dbdc",
       "IPY_MODEL_3d022c3b8b9040e9a5ecb0d91df46736",
       "IPY_MODEL_6cfe446e39aa414e83f6d1ab779bca3e"
      ],
      "layout": "IPY_MODEL_4be99d47e58b44f894635df02ef2e854"
     }
    },
    "d843c945ea6c47ac84b28b28a62012d5": {
     "model_module": "@jupyter-widgets/controls",
     "model_name": "DescriptionStyleModel",
     "state": {
      "_model_module": "@jupyter-widgets/controls",
      "_model_module_version": "1.5.0",
      "_model_name": "DescriptionStyleModel",
      "_view_count": null,
      "_view_module": "@jupyter-widgets/base",
      "_view_module_version": "1.2.0",
      "_view_name": "StyleView",
      "description_width": ""
     }
    },
    "d8b00e6224e8470abf5ac8b20c293f08": {
     "model_module": "@jupyter-widgets/base",
     "model_name": "LayoutModel",
     "state": {
      "_model_module": "@jupyter-widgets/base",
      "_model_module_version": "1.2.0",
      "_model_name": "LayoutModel",
      "_view_count": null,
      "_view_module": "@jupyter-widgets/base",
      "_view_module_version": "1.2.0",
      "_view_name": "LayoutView",
      "align_content": null,
      "align_items": null,
      "align_self": null,
      "border": null,
      "bottom": null,
      "display": null,
      "flex": null,
      "flex_flow": null,
      "grid_area": null,
      "grid_auto_columns": null,
      "grid_auto_flow": null,
      "grid_auto_rows": null,
      "grid_column": null,
      "grid_gap": null,
      "grid_row": null,
      "grid_template_areas": null,
      "grid_template_columns": null,
      "grid_template_rows": null,
      "height": null,
      "justify_content": null,
      "justify_items": null,
      "left": null,
      "margin": null,
      "max_height": null,
      "max_width": null,
      "min_height": null,
      "min_width": null,
      "object_fit": null,
      "object_position": null,
      "order": null,
      "overflow": null,
      "overflow_x": null,
      "overflow_y": null,
      "padding": null,
      "right": null,
      "top": null,
      "visibility": null,
      "width": null
     }
    },
    "dac05275cfa74373b684f12536a75305": {
     "model_module": "@jupyter-widgets/controls",
     "model_name": "HBoxModel",
     "state": {
      "_dom_classes": [],
      "_model_module": "@jupyter-widgets/controls",
      "_model_module_version": "1.5.0",
      "_model_name": "HBoxModel",
      "_view_count": null,
      "_view_module": "@jupyter-widgets/controls",
      "_view_module_version": "1.5.0",
      "_view_name": "HBoxView",
      "box_style": "",
      "children": [
       "IPY_MODEL_1db9617daf0c4089adf1fdd40e3c26f6",
       "IPY_MODEL_57a37d74adc84e8b81c19c4a2c9b8c36",
       "IPY_MODEL_83346fb76d054a36a49e280d3d5aa332"
      ],
      "layout": "IPY_MODEL_3aaa128a5c424e0abdd87bf0e58cd413"
     }
    },
    "dfa95ea4650743fd9e5c52094f80dbdc": {
     "model_module": "@jupyter-widgets/controls",
     "model_name": "HTMLModel",
     "state": {
      "_dom_classes": [],
      "_model_module": "@jupyter-widgets/controls",
      "_model_module_version": "1.5.0",
      "_model_name": "HTMLModel",
      "_view_count": null,
      "_view_module": "@jupyter-widgets/controls",
      "_view_module_version": "1.5.0",
      "_view_name": "HTMLView",
      "description": "",
      "description_tooltip": null,
      "layout": "IPY_MODEL_e66eb082f6cb424aa9398973c7661f6c",
      "placeholder": "​",
      "style": "IPY_MODEL_13d65bb3cbb74568a08fd6e97ce5c7c3",
      "value": ""
     }
    },
    "e2413859f208465e892fa985ac18865c": {
     "model_module": "@jupyter-widgets/controls",
     "model_name": "DescriptionStyleModel",
     "state": {
      "_model_module": "@jupyter-widgets/controls",
      "_model_module_version": "1.5.0",
      "_model_name": "DescriptionStyleModel",
      "_view_count": null,
      "_view_module": "@jupyter-widgets/base",
      "_view_module_version": "1.2.0",
      "_view_name": "StyleView",
      "description_width": ""
     }
    },
    "e66eb082f6cb424aa9398973c7661f6c": {
     "model_module": "@jupyter-widgets/base",
     "model_name": "LayoutModel",
     "state": {
      "_model_module": "@jupyter-widgets/base",
      "_model_module_version": "1.2.0",
      "_model_name": "LayoutModel",
      "_view_count": null,
      "_view_module": "@jupyter-widgets/base",
      "_view_module_version": "1.2.0",
      "_view_name": "LayoutView",
      "align_content": null,
      "align_items": null,
      "align_self": null,
      "border": null,
      "bottom": null,
      "display": null,
      "flex": null,
      "flex_flow": null,
      "grid_area": null,
      "grid_auto_columns": null,
      "grid_auto_flow": null,
      "grid_auto_rows": null,
      "grid_column": null,
      "grid_gap": null,
      "grid_row": null,
      "grid_template_areas": null,
      "grid_template_columns": null,
      "grid_template_rows": null,
      "height": null,
      "justify_content": null,
      "justify_items": null,
      "left": null,
      "margin": null,
      "max_height": null,
      "max_width": null,
      "min_height": null,
      "min_width": null,
      "object_fit": null,
      "object_position": null,
      "order": null,
      "overflow": null,
      "overflow_x": null,
      "overflow_y": null,
      "padding": null,
      "right": null,
      "top": null,
      "visibility": null,
      "width": null
     }
    },
    "e99d2984aa034ba381c7467c875fb136": {
     "model_module": "@jupyter-widgets/controls",
     "model_name": "DescriptionStyleModel",
     "state": {
      "_model_module": "@jupyter-widgets/controls",
      "_model_module_version": "1.5.0",
      "_model_name": "DescriptionStyleModel",
      "_view_count": null,
      "_view_module": "@jupyter-widgets/base",
      "_view_module_version": "1.2.0",
      "_view_name": "StyleView",
      "description_width": ""
     }
    },
    "ee06dceab96b4396b10aec0c8f6d1880": {
     "model_module": "@jupyter-widgets/base",
     "model_name": "LayoutModel",
     "state": {
      "_model_module": "@jupyter-widgets/base",
      "_model_module_version": "1.2.0",
      "_model_name": "LayoutModel",
      "_view_count": null,
      "_view_module": "@jupyter-widgets/base",
      "_view_module_version": "1.2.0",
      "_view_name": "LayoutView",
      "align_content": null,
      "align_items": null,
      "align_self": null,
      "border": null,
      "bottom": null,
      "display": null,
      "flex": null,
      "flex_flow": null,
      "grid_area": null,
      "grid_auto_columns": null,
      "grid_auto_flow": null,
      "grid_auto_rows": null,
      "grid_column": null,
      "grid_gap": null,
      "grid_row": null,
      "grid_template_areas": null,
      "grid_template_columns": null,
      "grid_template_rows": null,
      "height": null,
      "justify_content": null,
      "justify_items": null,
      "left": null,
      "margin": null,
      "max_height": null,
      "max_width": null,
      "min_height": null,
      "min_width": null,
      "object_fit": null,
      "object_position": null,
      "order": null,
      "overflow": null,
      "overflow_x": null,
      "overflow_y": null,
      "padding": null,
      "right": null,
      "top": null,
      "visibility": null,
      "width": null
     }
    },
    "f044ec532d5549d2b17aab1eb9d9134a": {
     "model_module": "@jupyter-widgets/controls",
     "model_name": "HBoxModel",
     "state": {
      "_dom_classes": [],
      "_model_module": "@jupyter-widgets/controls",
      "_model_module_version": "1.5.0",
      "_model_name": "HBoxModel",
      "_view_count": null,
      "_view_module": "@jupyter-widgets/controls",
      "_view_module_version": "1.5.0",
      "_view_name": "HBoxView",
      "box_style": "",
      "children": [
       "IPY_MODEL_d10f7eaf7a994bbf8550113f316337a8",
       "IPY_MODEL_9d0a76ac9c9e46838b55b561df03dc37",
       "IPY_MODEL_77fd0f76f78748f59db217054ad721be"
      ],
      "layout": "IPY_MODEL_669fceff0bf84321b2054504a67f6d84"
     }
    },
    "fd8107d769d440098193d07824033f13": {
     "model_module": "@jupyter-widgets/base",
     "model_name": "LayoutModel",
     "state": {
      "_model_module": "@jupyter-widgets/base",
      "_model_module_version": "1.2.0",
      "_model_name": "LayoutModel",
      "_view_count": null,
      "_view_module": "@jupyter-widgets/base",
      "_view_module_version": "1.2.0",
      "_view_name": "LayoutView",
      "align_content": null,
      "align_items": null,
      "align_self": null,
      "border": null,
      "bottom": null,
      "display": null,
      "flex": null,
      "flex_flow": null,
      "grid_area": null,
      "grid_auto_columns": null,
      "grid_auto_flow": null,
      "grid_auto_rows": null,
      "grid_column": null,
      "grid_gap": null,
      "grid_row": null,
      "grid_template_areas": null,
      "grid_template_columns": null,
      "grid_template_rows": null,
      "height": null,
      "justify_content": null,
      "justify_items": null,
      "left": null,
      "margin": null,
      "max_height": null,
      "max_width": null,
      "min_height": null,
      "min_width": null,
      "object_fit": null,
      "object_position": null,
      "order": null,
      "overflow": null,
      "overflow_x": null,
      "overflow_y": null,
      "padding": null,
      "right": null,
      "top": null,
      "visibility": null,
      "width": null
     }
    }
   }
  }
 },
 "nbformat": 4,
 "nbformat_minor": 1
}
