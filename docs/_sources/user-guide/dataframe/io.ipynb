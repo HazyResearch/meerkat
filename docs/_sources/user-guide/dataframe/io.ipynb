{
 "cells": [
  {
   "cell_type": "markdown",
   "id": "5670c11e",
   "metadata": {},
   "source": [
    "(guide/dataframe/io)=\n",
    "\n",
    "# I/O\n",
    "\n",
    "In this guide, we will discuss how to bring data into Meerkat from various file formats and external libraries.  We will also discuss how to export data in Meerkat DataFrames back into these formats. Finally, we'll also discuss how to persist Meerkat DataFrames using {func}`~meerkat.DataFrame.write` and {func}`~meerkat.DataFrame.read`.\n",
    "\n",
    "```{admonition} Should I export or persist?\n",
    "\n",
    "This guide discusses two different ways of saving data in Meerkat: exporting and persisting.\n",
    "They serve different purposes:\n",
    "1. **Export** your DataFrame to another format using one of the `to_*` methods if you need to use the data with other libraries or tools. (See the section on {ref}`exporting`.)\n",
    "2. **Persist** your DataFrame using {func}`~meerkat.DataFrame.write` if you simply want to save it to disk for later use. (See the section on {ref}`persisting`.)\n",
    "```\n",
    "\n",
    "\n",
    "```{contents}\n",
    ":local:\n",
    "```\n",
    "\n",
    "## Importing DataFrames\n",
    "\n",
    "Meerkat has a number of built-in functions for reading in data from various file formats and Python libraries. \n",
    "We'll provide one in depth example for reading in data from a CSV file, and then provide a list of the other supported file formats and libraries.\n",
    "\n",
    "### *Example*: Importing a dataset from CSV\n",
    "\n",
    "Let's load a CSV file from disk and read it into a Meerkat DataFrame. \n",
    "We will be using a small sample of data from the [National Gallery of Art Open Data Program](https://github.com/NationalGalleryOfArt/opendata). We've included this data at `_data/art_ngoa.csv` in the Meerkat repository.\n",
    "\n",
    "We will use the {func}`~meerkat.from_csv` function to read in the data."
   ]
  },
  {
   "cell_type": "code",
   "execution_count": 1,
   "id": "2f56d7b5",
   "metadata": {
    "tags": [
     "output_scroll"
    ]
   },
   "outputs": [
    {
     "data": {
      "text/html": [
       "<table border=\"1\" class=\"dataframe\">\n",
       "  <thead>\n",
       "    <tr style=\"text-align: right;\">\n",
       "      <th></th>\n",
       "      <th>title</th>\n",
       "      <th>attribution</th>\n",
       "      <th>medium</th>\n",
       "      <th>objectid</th>\n",
       "      <th>iiifthumburl</th>\n",
       "    </tr>\n",
       "  </thead>\n",
       "  <tbody>\n",
       "    <tr>\n",
       "      <th>0</th>\n",
       "      <td>Boy with Cat</td>\n",
       "      <td>Ernst Ludwig Kirchner</td>\n",
       "      <td>lithograph on yellow wove paper</td>\n",
       "      <td>103631</td>\n",
       "      <td>https://api.nga.gov/iiif/b309afc0-b270-4c29-9ce7-e8f39125f40d/full/!200,200/0/default.jpg</td>\n",
       "    </tr>\n",
       "    <tr>\n",
       "      <th>1</th>\n",
       "      <td>A Hound Chasing a Hare</td>\n",
       "      <td>Benozzo Gozzoli</td>\n",
       "      <td>pen and brown ink with traces of red chalk, heightened with white on pink prepared paper</td>\n",
       "      <td>75840</td>\n",
       "      <td>https://api.nga.gov/iiif/6e53c5bd-799d-4ac8-a57d-2c831a57da14/full/!200,200/0/default.jpg</td>\n",
       "    </tr>\n",
       "    <tr>\n",
       "      <th>2</th>\n",
       "      <td>Lamp, Lower Portion</td>\n",
       "      <td>Anonymous Artist after Andrea Briosco, called Riccio</td>\n",
       "      <td>gilded bronze</td>\n",
       "      <td>130749</td>\n",
       "      <td>https://api.nga.gov/iiif/8e5477ed-040f-4240-89ca-08d95b1c955b/full/!200,200/0/default.jpg</td>\n",
       "    </tr>\n",
       "    <tr>\n",
       "      <th>3</th>\n",
       "      <td>Andiron with Putto Finial</td>\n",
       "      <td>Nicolò Roccatagliata</td>\n",
       "      <td>bronze</td>\n",
       "      <td>73441</td>\n",
       "      <td>https://api.nga.gov/iiif/a6126402-696e-4333-96af-43362bef1afa/full/!200,200/0/default.jpg</td>\n",
       "    </tr>\n",
       "    <tr>\n",
       "      <th>4</th>\n",
       "      <td>Dispatch No. 4: THREE VALLEYS. The Valleys of Silicon, San Joaquin, and Death</td>\n",
       "      <td>Alec Soth</td>\n",
       "      <td>inkjet print and 48 page newsprint booklet in portfolio case</td>\n",
       "      <td>221224</td>\n",
       "      <td>https://api.nga.gov/iiif/29e05dbf-f0e3-4088-9ffe-83d4ca8c1968/full/!200,200/0/default.jpg</td>\n",
       "    </tr>\n",
       "  </tbody>\n",
       "</table>"
      ],
      "text/plain": [
       "<IPython.core.display.HTML object>"
      ]
     },
     "metadata": {},
     "output_type": "display_data"
    }
   ],
   "source": [
    "import meerkat as mk\n",
    "\n",
    "df = mk.from_csv(\"_data/art_ngoa.csv\")\n",
    "df.head()"
   ]
  },
  {
   "cell_type": "markdown",
   "id": "eb383d62",
   "metadata": {},
   "source": [
    " Notice that each row corresponds to a single work of art, and each column corresponds to a different attribute of the work of art. \n",
    "\n",
    " **Representing images.** The last column, `iiifthumburl`, contains a URL to a thumbnail image of the work.\n",
    "Using {func}`~meerkat.image`, we can download the thumbnail image and display it in the DataFrame."
   ]
  },
  {
   "cell_type": "code",
   "execution_count": 2,
   "id": "f6e56c5e",
   "metadata": {
    "tags": [
     "output_scroll"
    ]
   },
   "outputs": [
    {
     "data": {
      "text/html": [
       "<table border=\"1\" class=\"dataframe\">\n",
       "  <thead>\n",
       "    <tr style=\"text-align: right;\">\n",
       "      <th></th>\n",
       "      <th>image</th>\n",
       "      <th>title</th>\n",
       "      <th>attribution</th>\n",
       "    </tr>\n",
       "  </thead>\n",
       "  <tbody>\n",
       "    <tr>\n",
       "      <th>0</th>\n",
       "      <td><img src=\"data:image/jpeg;base64,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\"></td>\n",
       "      <td>Boy with Cat</td>\n",
       "      <td>Ernst Ludwig Kirchner</td>\n",
       "    </tr>\n",
       "    <tr>\n",
       "      <th>1</th>\n",
       "      <td><img src=\"data:image/jpeg;base64,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\"></td>\n",
       "      <td>A Hound Chasing a Hare</td>\n",
       "      <td>Benozzo Gozzoli</td>\n",
       "    </tr>\n",
       "    <tr>\n",
       "      <th>2</th>\n",
       "      <td><img src=\"data:image/jpeg;base64,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\"></td>\n",
       "      <td>Lamp, Lower Portion</td>\n",
       "      <td>Anonymous Artist after Andrea Briosco, called Riccio</td>\n",
       "    </tr>\n",
       "    <tr>\n",
       "      <th>3</th>\n",
       "      <td><img src=\"data:image/jpeg;base64,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\"></td>\n",
       "      <td>Andiron with Putto Finial</td>\n",
       "      <td>Nicolò Roccatagliata</td>\n",
       "    </tr>\n",
       "    <tr>\n",
       "      <th>4</th>\n",
       "      <td><img src=\"data:image/jpeg;base64,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\"></td>\n",
       "      <td>Dispatch No. 4: THREE VALLEYS. The Valleys of Silicon, San Joaquin, and Death</td>\n",
       "      <td>Alec Soth</td>\n",
       "    </tr>\n",
       "  </tbody>\n",
       "</table>"
      ],
      "text/plain": [
       "<IPython.core.display.HTML object>"
      ]
     },
     "metadata": {},
     "output_type": "display_data"
    }
   ],
   "source": [
    "df[\"image\"] = mk.image(df[\"iiifthumburl\"], downloader=\"url\")\n",
    "df[[\"image\", \"title\", \"attribution\"]].head()"
   ]
  },
  {
   "cell_type": "markdown",
   "id": "64654cf0",
   "metadata": {},
   "source": [
    "The function `mk.image` creates a {class}`~meerkat.ImageColumn` which defers the downloading of images from the URLs until the data is needed. \n",
    "\n",
    "```{admonition} Deferred Columns\n",
    "If you're wondering how {class}`~meerkat.ImageColumn` works, check out the guide on {doc}`column/deferred`. \n",
    "```\n",
    "\n",
    "**Adding a primary key.** The `objectid` column contains a unique identifier for each work of art. We can use {func}`~meerkat.set_primary_key` to set this column as the primary key for the DataFrame, which allows us to perform key-based indexing on the DataFrame."
   ]
  },
  {
   "cell_type": "code",
   "execution_count": 3,
   "id": "c1b3f8d5",
   "metadata": {},
   "outputs": [
    {
     "data": {
      "text/plain": [
       "{'title': 'Dispatch No. 4: THREE VALLEYS. The Valleys of Silicon, San Joaquin, and Death',\n",
       " 'attribution': 'Alec Soth',\n",
       " 'medium': 'inkjet print and 48 page newsprint booklet in portfolio case',\n",
       " 'objectid': 221224,\n",
       " 'iiifthumburl': 'https://api.nga.gov/iiif/29e05dbf-f0e3-4088-9ffe-83d4ca8c1968/full/!200,200/0/default.jpg',\n",
       " 'image': FileCell(fn=<meerkat.columns.deferred.file.FileLoader object at 0x7ff79742d6d0>)}"
      ]
     },
     "execution_count": 3,
     "metadata": {},
     "output_type": "execute_result"
    }
   ],
   "source": [
    "df = df.set_primary_key(\"objectid\")\n",
    "df.loc[221224]"
   ]
  },
  {
   "cell_type": "markdown",
   "id": "e63c42d3",
   "metadata": {},
   "source": [
    "The {func}`~meerkat.from_csv` function has a utility parameter `primary_key` which can be used to set the primary key when the DataFrame is created."
   ]
  },
  {
   "cell_type": "code",
   "execution_count": 4,
   "id": "43d264a8",
   "metadata": {
    "tags": [
     "output_scroll"
    ]
   },
   "outputs": [
    {
     "data": {
      "text/html": [
       "<table border=\"1\" class=\"dataframe\">\n",
       "  <thead>\n",
       "    <tr style=\"text-align: right;\">\n",
       "      <th></th>\n",
       "      <th>title</th>\n",
       "      <th>attribution</th>\n",
       "      <th>medium</th>\n",
       "      <th>objectid</th>\n",
       "      <th>iiifthumburl</th>\n",
       "    </tr>\n",
       "  </thead>\n",
       "  <tbody>\n",
       "    <tr>\n",
       "      <th>0</th>\n",
       "      <td>Boy with Cat</td>\n",
       "      <td>Ernst Ludwig Kirchner</td>\n",
       "      <td>lithograph on yellow wove paper</td>\n",
       "      <td>103631</td>\n",
       "      <td>https://api.nga.gov/iiif/b309afc0-b270-4c29-9ce7-e8f39125f40d/full/!200,200/0/default.jpg</td>\n",
       "    </tr>\n",
       "    <tr>\n",
       "      <th>1</th>\n",
       "      <td>A Hound Chasing a Hare</td>\n",
       "      <td>Benozzo Gozzoli</td>\n",
       "      <td>pen and brown ink with traces of red chalk, heightened with white on pink prepared paper</td>\n",
       "      <td>75840</td>\n",
       "      <td>https://api.nga.gov/iiif/6e53c5bd-799d-4ac8-a57d-2c831a57da14/full/!200,200/0/default.jpg</td>\n",
       "    </tr>\n",
       "    <tr>\n",
       "      <th>2</th>\n",
       "      <td>Lamp, Lower Portion</td>\n",
       "      <td>Anonymous Artist after Andrea Briosco, called Riccio</td>\n",
       "      <td>gilded bronze</td>\n",
       "      <td>130749</td>\n",
       "      <td>https://api.nga.gov/iiif/8e5477ed-040f-4240-89ca-08d95b1c955b/full/!200,200/0/default.jpg</td>\n",
       "    </tr>\n",
       "    <tr>\n",
       "      <th>3</th>\n",
       "      <td>Andiron with Putto Finial</td>\n",
       "      <td>Nicolò Roccatagliata</td>\n",
       "      <td>bronze</td>\n",
       "      <td>73441</td>\n",
       "      <td>https://api.nga.gov/iiif/a6126402-696e-4333-96af-43362bef1afa/full/!200,200/0/default.jpg</td>\n",
       "    </tr>\n",
       "    <tr>\n",
       "      <th>4</th>\n",
       "      <td>Dispatch No. 4: THREE VALLEYS. The Valleys of Silicon, San Joaquin, and Death</td>\n",
       "      <td>Alec Soth</td>\n",
       "      <td>inkjet print and 48 page newsprint booklet in portfolio case</td>\n",
       "      <td>221224</td>\n",
       "      <td>https://api.nga.gov/iiif/29e05dbf-f0e3-4088-9ffe-83d4ca8c1968/full/!200,200/0/default.jpg</td>\n",
       "    </tr>\n",
       "    <tr>\n",
       "      <th>...</th>\n",
       "      <td>...</td>\n",
       "      <td>...</td>\n",
       "      <td>...</td>\n",
       "      <td>...</td>\n",
       "      <td>...</td>\n",
       "    </tr>\n",
       "    <tr>\n",
       "      <th>94</th>\n",
       "      <td>Mountain Landscape with a Hollow</td>\n",
       "      <td>Alexander Cozens</td>\n",
       "      <td>brush drawing in brown wash on laid paper</td>\n",
       "      <td>65569</td>\n",
       "      <td>https://api.nga.gov/iiif/d26d1ba9-7814-4a7e-9d8b-1c0d24f76d7b/full/!200,200/0/default.jpg</td>\n",
       "    </tr>\n",
       "    <tr>\n",
       "      <th>95</th>\n",
       "      <td>On the Vimy to Lens Road</td>\n",
       "      <td>David Young Cameron</td>\n",
       "      <td>watercolor and graphite</td>\n",
       "      <td>5708</td>\n",
       "      <td>https://api.nga.gov/iiif/5e06918b-e6cb-4639-8452-2e050db3d2e9/full/!200,200/0/default.jpg</td>\n",
       "    </tr>\n",
       "    <tr>\n",
       "      <th>96</th>\n",
       "      <td>Girl Writer</td>\n",
       "      <td>Ralph Austin</td>\n",
       "      <td>lithograph</td>\n",
       "      <td>148623</td>\n",
       "      <td>https://api.nga.gov/iiif/57e15461-94b3-4020-8a8a-46884c2cc50d/full/!200,200/0/default.jpg</td>\n",
       "    </tr>\n",
       "    <tr>\n",
       "      <th>97</th>\n",
       "      <td>Jean de Saulx, 1555-1629, Viscount of Tavanes and Lugny, and Marquess of Mirabet [obverse]</td>\n",
       "      <td>French 17th Century</td>\n",
       "      <td>bronze</td>\n",
       "      <td>45344</td>\n",
       "      <td>https://api.nga.gov/iiif/ccd2d7b2-6119-4326-aa04-cb61e28f11a3/full/!200,200/0/default.jpg</td>\n",
       "    </tr>\n",
       "    <tr>\n",
       "      <th>98</th>\n",
       "      <td>From My Window at the Shelton, North</td>\n",
       "      <td>Alfred Stieglitz</td>\n",
       "      <td>gelatin silver print</td>\n",
       "      <td>36364</td>\n",
       "      <td>https://api.nga.gov/iiif/cc3afc42-5e1a-4228-8c45-7f17f27c224c/full/!200,200/0/default.jpg</td>\n",
       "    </tr>\n",
       "  </tbody>\n",
       "</table>"
      ],
      "text/plain": [
       "<IPython.core.display.HTML object>"
      ]
     },
     "metadata": {},
     "output_type": "display_data"
    }
   ],
   "source": [
    "mk.from_csv(\"_data/art_ngoa.csv\", primary_key=\"objectid\")"
   ]
  },
  {
   "cell_type": "markdown",
   "id": "fdeb944e",
   "metadata": {},
   "source": [
    "```{admonition} Primary Keys\n",
    "To learn more about primary keys and key-based indexing, check out the section {ref}`key-based-selection`. \n",
    "```\n",
    "\n",
    "### Importing from storage formats\n",
    "Meerkat supports importing data from a number of other file formats. As in the example above, you may need to set the primary key and/or add additional columns for complex data (*e.g.* images, audio).\n",
    "\n",
    "- {func}`~meerkat.from_csv()`: Reads in data from a CSV (comma-separated values) file. CSV files are a common format for storing tabular data.\n",
    "\n",
    "- {func}`~meerkat.from_feather()`: Reads in data from a [Feather file](https://arrow.apache.org/docs/python/feather.html). Feather is a language-agnostic file format for storing DataFrames. It can provide significantly faster I/O than CSV. \n",
    "\n",
    "- {func}`~meerkat.from_parquet()`: Reads in data from a [Parquet file](https://parquet.apache.org/). Parquet is a columnar storage format that is designed for efficiency. \n",
    "\n",
    "- {func}`~meerkat.from_json()`: Reads in data from a JSON file. \n",
    "\n",
    "If your data is in a format not listed here, load it into a Pandas DataFrame and use {func}`~meerkat.from_pandas()` to convert it to a Meerkat DataFrame.\n",
    "\n",
    "### Importing from other libraries \n",
    "It's also posible to import data from third-party Python libraries like [Pandas](https://pandas.pydata.org/) and [HuggingFace Datasets](https://huggingface.co/datasets).\n",
    "\n",
    "- {func}`~meerkat.from_pandas()`: Converts a [Pandas DataFrame](https://pandas.pydata.org/docs/reference/api/pandas.DataFrame.html) to a Meerkat DataFrame. By default, the index of the Pandas DataFrame will be used as the primary key for the Meerkat DataFrame.\n",
    "\n",
    "- {func}`~meerkat.from_arrow()`: Converts an [Arrow Table](https://arrow.apache.org/docs/python/generated/pyarrow.Table.html#pyarrow.Table) to a Meerkat DataFrame.\n",
    "\n",
    "\n",
    "- {func}`~meerkat.from_huggingface()`: Converts a HuggingFace Dataset to a Meerkat DataFrame. By default, the index of the HuggingFace Dataset will be used as the primary key for the Meerkat DataFrame.\n",
    "\n",
    "\n",
    "(exporting)=\n",
    "## Exporting DataFrames\n",
    "Meerkat supports exporting DataFrames from Meerkat to other file formats and libraries. These methods are useful for converting data into formats that can be used by other libraries or software.\n",
    "\n",
    "```{warning}\n",
    "\n",
    "Most file formats designed for tabular data do not offer the same flexibility as Meerkat DataFrames, especially when it comes to storing complex data types and multi-dimensional tensors. As a result, exporting a Meerkat DataFrame to a file format may result in data loss.\n",
    "\n",
    "Specifically, any {class}`~meerkat.DeferredColumn` (or its subclasses) will not be exported. If you want to export a {class}`DeferredColumn`, you should first materialize the column(s) by calling the DataFrame. Also, depending on the export destination, any {class}`~meerkat.TensorColumn` and/or {class}`~meerkat.ObjectColumn` in the DataFrame may not be exported.\n",
    "```\n",
    "\n",
    "If you simply want to save a Meerkat DataFrame to disk, you should use {func}`~meerkat.DataFrame.write()` instead (see {ref}`writing-dataframes`). This will persist the DataFrame in a format that can be read back into Meerkat without any data loss.\n",
    "\n",
    "Continuing with the example above, let's export the DataFrame to a CSV file."
   ]
  },
  {
   "cell_type": "code",
   "execution_count": 5,
   "id": "2acc0f25",
   "metadata": {},
   "outputs": [
    {
     "name": "stderr",
     "output_type": "stream",
     "text": [
      "/home/runner/work/meerkat/meerkat/meerkat/dataframe.py:901: UserWarning: Could not convert column image of type <class 'meerkat.columns.deferred.file.FileColumn'>, it will be dropped from the output.\n",
      "  warnings.warn(\n"
     ]
    }
   ],
   "source": [
    "df.to_csv(\"_data/art_ngoa_export.csv\")"
   ]
  },
  {
   "cell_type": "markdown",
   "id": "a668f031",
   "metadata": {},
   "source": [
    "If we inspect the first 5 lines of the CSV file from the command line, we can see that the `image` column is missing. This is because the `image` column is a {class}`~meerkat.DeferredColumn` and was not exported."
   ]
  },
  {
   "cell_type": "code",
   "execution_count": 6,
   "id": "d33366c1",
   "metadata": {},
   "outputs": [
    {
     "name": "stdout",
     "output_type": "stream",
     "text": [
      "title,attribution,medium,objectid,iiifthumburl\r\n",
      "Boy with Cat,Ernst Ludwig Kirchner,lithograph on yellow wove paper,103631,\"https://api.nga.gov/iiif/b309afc0-b270-4c29-9ce7-e8f39125f40d/full/!200,200/0/default.jpg\"\r\n",
      "A Hound Chasing a Hare,Benozzo Gozzoli,\"pen and brown ink with traces of red chalk, heightened with white on pink prepared paper\",75840,\"https://api.nga.gov/iiif/6e53c5bd-799d-4ac8-a57d-2c831a57da14/full/!200,200/0/default.jpg\"\r\n",
      "\"Lamp, Lower Portion\",\"Anonymous Artist after Andrea Briosco, called Riccio\",gilded bronze,130749,\"https://api.nga.gov/iiif/8e5477ed-040f-4240-89ca-08d95b1c955b/full/!200,200/0/default.jpg\"\r\n",
      "Andiron with Putto Finial,Nicolò Roccatagliata,bronze,73441,\"https://api.nga.gov/iiif/a6126402-696e-4333-96af-43362bef1afa/full/!200,200/0/default.jpg\"\r\n"
     ]
    }
   ],
   "source": [
    "!head -n 5 _data/art_ngoa_export.csv"
   ]
  },
  {
   "cell_type": "markdown",
   "id": "1bd3e3b2",
   "metadata": {},
   "source": [
    "When columns are dropped during export, a warning is raised.\n",
    "\n",
    "### Exporting to storage formats\n",
    "\n",
    "Meerkat supports exporting DataFrames to a number of file formats, with the {class}`~meerkat.DataFrame` class providing the methods listed below. \n",
    "\n",
    "- {func}`~meerkat.DataFrame.to_csv()`: Writes the DataFrame to a CSV file. CSV files are a common format for storing tabular data. Unlike some alternatives, CSV files are human-readable in a text-editor and can be easily imported into spreadsheet software.\n",
    "- {func}`~meerkat.DataFrame.to_feather()`: Writes the DataFrame to a [Feather file](https://arrow.apache.org/docs/python/feather.html). Feather is a language-agnostic file format for storing DataFrames. It can provide significantly faster I/O than CSV.\n",
    "- {func}`~meerkat.DataFrame.to_parquet()`: Writes the DataFrame to a [Parquet file](https://parquet.apache.org/). Parquet is a columnar storage format that is designed for efficiency.\n",
    "- {func}`~meerkat.DataFrame.to_json()`: Writes the DataFrame to a JSON file.\n",
    "\n",
    "Note that several of the methods take an optional `engine` parameter. This parameter allows you to control the underlying library that is used to write the DataFrame to disk. Options include: `pandas` and `arrow`. If no `engine` is specified, one is automatically chosen based on the columns in the DataFrame. For example, we can write the DataFrame to a CSV file using the Arrow library instead of Pandas."
   ]
  },
  {
   "cell_type": "code",
   "execution_count": 7,
   "id": "f167e540",
   "metadata": {},
   "outputs": [],
   "source": [
    "df.to_csv(\"_data/art_ngoa_export_arrow.csv\", engine=\"arrow\")"
   ]
  },
  {
   "cell_type": "markdown",
   "id": "22b88080",
   "metadata": {},
   "source": [
    "### Exporting to other libraries\n",
    "\n",
    "It is also possible to export Meerkat DataFrames to other Python DataFrame libraries. \n",
    "\n",
    "- {func}`~meerkat.DataFrame.to_pandas()`: Converts the DataFrame to a [Pandas DataFrame](https://pandas.pydata.org/docs/reference/api/pandas.DataFrame.html)\n",
    "- {func}`~meerkat.DataFrame.to_arrow()`: Converts the DataFrame to an [Arrow Table](https://arrow.apache.org/docs/python/generated/pyarrow.Table.html#pyarrow.Table).\n",
    "\n",
    "(persisting)=\n",
    "## Persisting DataFrames\n",
    "In this section, we discuss how to persist Meerkat DataFrames to disk using the {func}`~meerkat.DataFrame.write()` method. Unlike the export methods discussed above, {func}`~meerkat.DataFrame.write()` guarantees that the DataFrame read back in with {func}`~meerkat.read` will contain the exact sam columns as the original DataFrame.\n",
    "(writing-dataframes)=\n",
    "### Writing DataFrames \n",
    "Above we saw how some column types in Meerkat DataFrames cannot be exported to a single file format. Specifically, we saw that the column we created to display images was dropped when exporting to CSV.\n",
    "\n",
    "{func}`~meerkat.DataFrame.write` allows us to persist the DataFrame to disk in a way that will preserve the image column."
   ]
  },
  {
   "cell_type": "code",
   "execution_count": 8,
   "id": "30a27f07",
   "metadata": {},
   "outputs": [],
   "source": [
    "df.write(\"_data/art_ngoa.mk\")"
   ]
  },
  {
   "cell_type": "markdown",
   "id": "c6ce20ca",
   "metadata": {},
   "source": [
    "*How does it work?* Under the hood, {func}`~meerkat.DataFrame.write` works by splitting the DataFrame among several different files. For example, the {class}`~meerkat.ScalarColumn`s could be stored together in a [Feather file](https://arrow.apache.org/docs/python/feather.html), while the {class}`~meerkat.TensorColumn`s could be stored in [NPY format](https://numpy.org/doc/stable/reference/generated/numpy.lib.format.html#module-numpy.lib.format). The path passed to {func}`~meerkat.DataFrame.write` is the directory where the files will be stored. The directory will also contain a `meta.yaml` file that contains information about the DataFrame. This file is used by {func}`~meerkat.read()` to reconstruct the DataFrame.\n",
    "\n",
    "### Reading DataFrames \n",
    "To read the DataFrame back in from disk, we can use the {func}`~meerkat.read()` function."
   ]
  },
  {
   "cell_type": "code",
   "execution_count": 9,
   "id": "6eec6739",
   "metadata": {
    "tags": [
     "output_scroll"
    ]
   },
   "outputs": [
    {
     "ename": "AttributeError",
     "evalue": "'ImageFormatter' object has no attribute 'mode'",
     "output_type": "error",
     "traceback": [
      "\u001b[0;31m---------------------------------------------------------------------------\u001b[0m",
      "\u001b[0;31mAttributeError\u001b[0m                            Traceback (most recent call last)",
      "File \u001b[0;32m/opt/hostedtoolcache/Python/3.9.16/x64/lib/python3.9/site-packages/IPython/core/formatters.py:922\u001b[0m, in \u001b[0;36mIPythonDisplayFormatter.__call__\u001b[0;34m(self, obj)\u001b[0m\n\u001b[1;32m    920\u001b[0m method \u001b[38;5;241m=\u001b[39m get_real_method(obj, \u001b[38;5;28mself\u001b[39m\u001b[38;5;241m.\u001b[39mprint_method)\n\u001b[1;32m    921\u001b[0m \u001b[38;5;28;01mif\u001b[39;00m method \u001b[38;5;129;01mis\u001b[39;00m \u001b[38;5;129;01mnot\u001b[39;00m \u001b[38;5;28;01mNone\u001b[39;00m:\n\u001b[0;32m--> 922\u001b[0m     \u001b[43mmethod\u001b[49m\u001b[43m(\u001b[49m\u001b[43m)\u001b[49m\n\u001b[1;32m    923\u001b[0m     \u001b[38;5;28;01mreturn\u001b[39;00m \u001b[38;5;28;01mTrue\u001b[39;00m\n",
      "File \u001b[0;32m~/work/meerkat/meerkat/meerkat/interactive/graph/marking.py:74\u001b[0m, in \u001b[0;36munmarked.__call__.<locals>.decorate_context\u001b[0;34m(*args, **kwargs)\u001b[0m\n\u001b[1;32m     71\u001b[0m \u001b[38;5;129m@wraps\u001b[39m(func)\n\u001b[1;32m     72\u001b[0m \u001b[38;5;28;01mdef\u001b[39;00m \u001b[38;5;21mdecorate_context\u001b[39m(\u001b[38;5;241m*\u001b[39margs, \u001b[38;5;241m*\u001b[39m\u001b[38;5;241m*\u001b[39mkwargs):\n\u001b[1;32m     73\u001b[0m     \u001b[38;5;28;01mwith\u001b[39;00m \u001b[38;5;28mself\u001b[39m\u001b[38;5;241m.\u001b[39mclone():\n\u001b[0;32m---> 74\u001b[0m         \u001b[38;5;28;01mreturn\u001b[39;00m \u001b[43mreactive\u001b[49m\u001b[43m(\u001b[49m\u001b[43mfunc\u001b[49m\u001b[43m,\u001b[49m\u001b[43m \u001b[49m\u001b[43mnested_return\u001b[49m\u001b[38;5;241;43m=\u001b[39;49m\u001b[38;5;28;43;01mFalse\u001b[39;49;00m\u001b[43m)\u001b[49m\u001b[43m(\u001b[49m\u001b[38;5;241;43m*\u001b[39;49m\u001b[43margs\u001b[49m\u001b[43m,\u001b[49m\u001b[43m \u001b[49m\u001b[38;5;241;43m*\u001b[39;49m\u001b[38;5;241;43m*\u001b[39;49m\u001b[43mkwargs\u001b[49m\u001b[43m)\u001b[49m\n",
      "File \u001b[0;32m~/work/meerkat/meerkat/meerkat/interactive/graph/reactivity.py:204\u001b[0m, in \u001b[0;36mreactive.<locals>.__reactive.<locals>.wrapper\u001b[0;34m(*args, **kwargs)\u001b[0m\n\u001b[1;32m    202\u001b[0m \u001b[38;5;66;03m# Call the function on the args and kwargs\u001b[39;00m\n\u001b[1;32m    203\u001b[0m \u001b[38;5;28;01mwith\u001b[39;00m unmarked():\n\u001b[0;32m--> 204\u001b[0m     result \u001b[38;5;241m=\u001b[39m \u001b[43mfn\u001b[49m\u001b[43m(\u001b[49m\u001b[38;5;241;43m*\u001b[39;49m\u001b[43munpacked_args\u001b[49m\u001b[43m,\u001b[49m\u001b[43m \u001b[49m\u001b[38;5;241;43m*\u001b[39;49m\u001b[38;5;241;43m*\u001b[39;49m\u001b[43munpacked_kwargs\u001b[49m\u001b[43m)\u001b[49m\n\u001b[1;32m    206\u001b[0m \u001b[38;5;66;03m# TODO: Check if result is equal to one of the inputs.\u001b[39;00m\n\u001b[1;32m    207\u001b[0m \u001b[38;5;66;03m# If it is, we need to copy it.\u001b[39;00m\n\u001b[1;32m    209\u001b[0m \u001b[38;5;28;01mif\u001b[39;00m _is_unmarked_context \u001b[38;5;129;01mor\u001b[39;00m _force_no_react \u001b[38;5;129;01mor\u001b[39;00m \u001b[38;5;129;01mnot\u001b[39;00m any_inputs_marked:\n\u001b[1;32m    210\u001b[0m     \u001b[38;5;66;03m# If we are in an unmarked context, then we don't need to create\u001b[39;00m\n\u001b[1;32m    211\u001b[0m     \u001b[38;5;66;03m# any nodes in the graph.\u001b[39;00m\n\u001b[1;32m    212\u001b[0m     \u001b[38;5;66;03m# `fn` should be run as normal.\u001b[39;00m\n",
      "File \u001b[0;32m~/work/meerkat/meerkat/meerkat/dataframe.py:193\u001b[0m, in \u001b[0;36mDataFrame._ipython_display_\u001b[0;34m(self)\u001b[0m\n\u001b[1;32m    190\u001b[0m     max_rows \u001b[38;5;241m=\u001b[39m meerkat\u001b[38;5;241m.\u001b[39mconfig\u001b[38;5;241m.\u001b[39mdisplay\u001b[38;5;241m.\u001b[39mmax_rows\n\u001b[1;32m    191\u001b[0m     df, formatters \u001b[38;5;241m=\u001b[39m \u001b[38;5;28mself\u001b[39m\u001b[38;5;241m.\u001b[39m_repr_pandas_(max_rows\u001b[38;5;241m=\u001b[39mmax_rows)\n\u001b[1;32m    192\u001b[0m     \u001b[38;5;28;01mreturn\u001b[39;00m display(\n\u001b[0;32m--> 193\u001b[0m         HTML(\u001b[43mdf\u001b[49m\u001b[38;5;241;43m.\u001b[39;49m\u001b[43mto_html\u001b[49m\u001b[43m(\u001b[49m\u001b[43mformatters\u001b[49m\u001b[38;5;241;43m=\u001b[39;49m\u001b[43mformatters\u001b[49m\u001b[43m,\u001b[49m\u001b[43m \u001b[49m\u001b[43mmax_rows\u001b[49m\u001b[38;5;241;43m=\u001b[39;49m\u001b[43mmax_rows\u001b[49m\u001b[43m,\u001b[49m\u001b[43m \u001b[49m\u001b[43mescape\u001b[49m\u001b[38;5;241;43m=\u001b[39;49m\u001b[38;5;28;43;01mFalse\u001b[39;49;00m\u001b[43m)\u001b[49m)\n\u001b[1;32m    194\u001b[0m     )\n\u001b[1;32m    196\u001b[0m \u001b[38;5;28;01mreturn\u001b[39;00m \u001b[38;5;28mself\u001b[39m\u001b[38;5;241m.\u001b[39mgui\u001b[38;5;241m.\u001b[39mtable()\u001b[38;5;241m.\u001b[39m_ipython_display_()\n",
      "File \u001b[0;32m/opt/hostedtoolcache/Python/3.9.16/x64/lib/python3.9/site-packages/pandas/core/frame.py:3129\u001b[0m, in \u001b[0;36mDataFrame.to_html\u001b[0;34m(self, buf, columns, col_space, header, index, na_rep, formatters, float_format, sparsify, index_names, justify, max_rows, max_cols, show_dimensions, decimal, bold_rows, classes, escape, notebook, border, table_id, render_links, encoding)\u001b[0m\n\u001b[1;32m   3109\u001b[0m formatter \u001b[38;5;241m=\u001b[39m fmt\u001b[38;5;241m.\u001b[39mDataFrameFormatter(\n\u001b[1;32m   3110\u001b[0m     \u001b[38;5;28mself\u001b[39m,\n\u001b[1;32m   3111\u001b[0m     columns\u001b[38;5;241m=\u001b[39mcolumns,\n\u001b[0;32m   (...)\u001b[0m\n\u001b[1;32m   3126\u001b[0m     show_dimensions\u001b[38;5;241m=\u001b[39mshow_dimensions,\n\u001b[1;32m   3127\u001b[0m )\n\u001b[1;32m   3128\u001b[0m \u001b[38;5;66;03m# TODO: a generic formatter wld b in DataFrameFormatter\u001b[39;00m\n\u001b[0;32m-> 3129\u001b[0m \u001b[38;5;28;01mreturn\u001b[39;00m \u001b[43mfmt\u001b[49m\u001b[38;5;241;43m.\u001b[39;49m\u001b[43mDataFrameRenderer\u001b[49m\u001b[43m(\u001b[49m\u001b[43mformatter\u001b[49m\u001b[43m)\u001b[49m\u001b[38;5;241;43m.\u001b[39;49m\u001b[43mto_html\u001b[49m\u001b[43m(\u001b[49m\n\u001b[1;32m   3130\u001b[0m \u001b[43m    \u001b[49m\u001b[43mbuf\u001b[49m\u001b[38;5;241;43m=\u001b[39;49m\u001b[43mbuf\u001b[49m\u001b[43m,\u001b[49m\n\u001b[1;32m   3131\u001b[0m \u001b[43m    \u001b[49m\u001b[43mclasses\u001b[49m\u001b[38;5;241;43m=\u001b[39;49m\u001b[43mclasses\u001b[49m\u001b[43m,\u001b[49m\n\u001b[1;32m   3132\u001b[0m \u001b[43m    \u001b[49m\u001b[43mnotebook\u001b[49m\u001b[38;5;241;43m=\u001b[39;49m\u001b[43mnotebook\u001b[49m\u001b[43m,\u001b[49m\n\u001b[1;32m   3133\u001b[0m \u001b[43m    \u001b[49m\u001b[43mborder\u001b[49m\u001b[38;5;241;43m=\u001b[39;49m\u001b[43mborder\u001b[49m\u001b[43m,\u001b[49m\n\u001b[1;32m   3134\u001b[0m \u001b[43m    \u001b[49m\u001b[43mencoding\u001b[49m\u001b[38;5;241;43m=\u001b[39;49m\u001b[43mencoding\u001b[49m\u001b[43m,\u001b[49m\n\u001b[1;32m   3135\u001b[0m \u001b[43m    \u001b[49m\u001b[43mtable_id\u001b[49m\u001b[38;5;241;43m=\u001b[39;49m\u001b[43mtable_id\u001b[49m\u001b[43m,\u001b[49m\n\u001b[1;32m   3136\u001b[0m \u001b[43m    \u001b[49m\u001b[43mrender_links\u001b[49m\u001b[38;5;241;43m=\u001b[39;49m\u001b[43mrender_links\u001b[49m\u001b[43m,\u001b[49m\n\u001b[1;32m   3137\u001b[0m \u001b[43m\u001b[49m\u001b[43m)\u001b[49m\n",
      "File \u001b[0;32m/opt/hostedtoolcache/Python/3.9.16/x64/lib/python3.9/site-packages/pandas/io/formats/format.py:1108\u001b[0m, in \u001b[0;36mDataFrameRenderer.to_html\u001b[0;34m(self, buf, encoding, classes, notebook, border, table_id, render_links)\u001b[0m\n\u001b[1;32m   1099\u001b[0m Klass \u001b[38;5;241m=\u001b[39m NotebookFormatter \u001b[38;5;28;01mif\u001b[39;00m notebook \u001b[38;5;28;01melse\u001b[39;00m HTMLFormatter\n\u001b[1;32m   1101\u001b[0m html_formatter \u001b[38;5;241m=\u001b[39m Klass(\n\u001b[1;32m   1102\u001b[0m     \u001b[38;5;28mself\u001b[39m\u001b[38;5;241m.\u001b[39mfmt,\n\u001b[1;32m   1103\u001b[0m     classes\u001b[38;5;241m=\u001b[39mclasses,\n\u001b[0;32m   (...)\u001b[0m\n\u001b[1;32m   1106\u001b[0m     render_links\u001b[38;5;241m=\u001b[39mrender_links,\n\u001b[1;32m   1107\u001b[0m )\n\u001b[0;32m-> 1108\u001b[0m string \u001b[38;5;241m=\u001b[39m \u001b[43mhtml_formatter\u001b[49m\u001b[38;5;241;43m.\u001b[39;49m\u001b[43mto_string\u001b[49m\u001b[43m(\u001b[49m\u001b[43m)\u001b[49m\n\u001b[1;32m   1109\u001b[0m \u001b[38;5;28;01mreturn\u001b[39;00m save_to_buffer(string, buf\u001b[38;5;241m=\u001b[39mbuf, encoding\u001b[38;5;241m=\u001b[39mencoding)\n",
      "File \u001b[0;32m/opt/hostedtoolcache/Python/3.9.16/x64/lib/python3.9/site-packages/pandas/io/formats/html.py:77\u001b[0m, in \u001b[0;36mHTMLFormatter.to_string\u001b[0;34m(self)\u001b[0m\n\u001b[1;32m     76\u001b[0m \u001b[38;5;28;01mdef\u001b[39;00m \u001b[38;5;21mto_string\u001b[39m(\u001b[38;5;28mself\u001b[39m) \u001b[38;5;241m-\u001b[39m\u001b[38;5;241m>\u001b[39m \u001b[38;5;28mstr\u001b[39m:\n\u001b[0;32m---> 77\u001b[0m     lines \u001b[38;5;241m=\u001b[39m \u001b[38;5;28;43mself\u001b[39;49m\u001b[38;5;241;43m.\u001b[39;49m\u001b[43mrender\u001b[49m\u001b[43m(\u001b[49m\u001b[43m)\u001b[49m\n\u001b[1;32m     78\u001b[0m     \u001b[38;5;28;01mif\u001b[39;00m \u001b[38;5;28many\u001b[39m(\u001b[38;5;28misinstance\u001b[39m(x, \u001b[38;5;28mstr\u001b[39m) \u001b[38;5;28;01mfor\u001b[39;00m x \u001b[38;5;129;01min\u001b[39;00m lines):\n\u001b[1;32m     79\u001b[0m         lines \u001b[38;5;241m=\u001b[39m [\u001b[38;5;28mstr\u001b[39m(x) \u001b[38;5;28;01mfor\u001b[39;00m x \u001b[38;5;129;01min\u001b[39;00m lines]\n",
      "File \u001b[0;32m/opt/hostedtoolcache/Python/3.9.16/x64/lib/python3.9/site-packages/pandas/io/formats/html.py:83\u001b[0m, in \u001b[0;36mHTMLFormatter.render\u001b[0;34m(self)\u001b[0m\n\u001b[1;32m     82\u001b[0m \u001b[38;5;28;01mdef\u001b[39;00m \u001b[38;5;21mrender\u001b[39m(\u001b[38;5;28mself\u001b[39m) \u001b[38;5;241m-\u001b[39m\u001b[38;5;241m>\u001b[39m \u001b[38;5;28mlist\u001b[39m[\u001b[38;5;28mstr\u001b[39m]:\n\u001b[0;32m---> 83\u001b[0m     \u001b[38;5;28;43mself\u001b[39;49m\u001b[38;5;241;43m.\u001b[39;49m\u001b[43m_write_table\u001b[49m\u001b[43m(\u001b[49m\u001b[43m)\u001b[49m\n\u001b[1;32m     85\u001b[0m     \u001b[38;5;28;01mif\u001b[39;00m \u001b[38;5;28mself\u001b[39m\u001b[38;5;241m.\u001b[39mshould_show_dimensions:\n\u001b[1;32m     86\u001b[0m         by \u001b[38;5;241m=\u001b[39m \u001b[38;5;28mchr\u001b[39m(\u001b[38;5;241m215\u001b[39m)  \u001b[38;5;66;03m# ×\u001b[39;00m\n",
      "File \u001b[0;32m/opt/hostedtoolcache/Python/3.9.16/x64/lib/python3.9/site-packages/pandas/io/formats/html.py:258\u001b[0m, in \u001b[0;36mHTMLFormatter._write_table\u001b[0;34m(self, indent)\u001b[0m\n\u001b[1;32m    255\u001b[0m \u001b[38;5;28;01mif\u001b[39;00m \u001b[38;5;28mself\u001b[39m\u001b[38;5;241m.\u001b[39mfmt\u001b[38;5;241m.\u001b[39mheader \u001b[38;5;129;01mor\u001b[39;00m \u001b[38;5;28mself\u001b[39m\u001b[38;5;241m.\u001b[39mshow_row_idx_names:\n\u001b[1;32m    256\u001b[0m     \u001b[38;5;28mself\u001b[39m\u001b[38;5;241m.\u001b[39m_write_header(indent \u001b[38;5;241m+\u001b[39m \u001b[38;5;28mself\u001b[39m\u001b[38;5;241m.\u001b[39mindent_delta)\n\u001b[0;32m--> 258\u001b[0m \u001b[38;5;28;43mself\u001b[39;49m\u001b[38;5;241;43m.\u001b[39;49m\u001b[43m_write_body\u001b[49m\u001b[43m(\u001b[49m\u001b[43mindent\u001b[49m\u001b[43m \u001b[49m\u001b[38;5;241;43m+\u001b[39;49m\u001b[43m \u001b[49m\u001b[38;5;28;43mself\u001b[39;49m\u001b[38;5;241;43m.\u001b[39;49m\u001b[43mindent_delta\u001b[49m\u001b[43m)\u001b[49m\n\u001b[1;32m    260\u001b[0m \u001b[38;5;28mself\u001b[39m\u001b[38;5;241m.\u001b[39mwrite(\u001b[38;5;124m\"\u001b[39m\u001b[38;5;124m</table>\u001b[39m\u001b[38;5;124m\"\u001b[39m, indent)\n",
      "File \u001b[0;32m/opt/hostedtoolcache/Python/3.9.16/x64/lib/python3.9/site-packages/pandas/io/formats/html.py:406\u001b[0m, in \u001b[0;36mHTMLFormatter._write_body\u001b[0;34m(self, indent)\u001b[0m\n\u001b[1;32m    404\u001b[0m \u001b[38;5;28;01mdef\u001b[39;00m \u001b[38;5;21m_write_body\u001b[39m(\u001b[38;5;28mself\u001b[39m, indent: \u001b[38;5;28mint\u001b[39m) \u001b[38;5;241m-\u001b[39m\u001b[38;5;241m>\u001b[39m \u001b[38;5;28;01mNone\u001b[39;00m:\n\u001b[1;32m    405\u001b[0m     \u001b[38;5;28mself\u001b[39m\u001b[38;5;241m.\u001b[39mwrite(\u001b[38;5;124m\"\u001b[39m\u001b[38;5;124m<tbody>\u001b[39m\u001b[38;5;124m\"\u001b[39m, indent)\n\u001b[0;32m--> 406\u001b[0m     fmt_values \u001b[38;5;241m=\u001b[39m \u001b[38;5;28;43mself\u001b[39;49m\u001b[38;5;241;43m.\u001b[39;49m\u001b[43m_get_formatted_values\u001b[49m\u001b[43m(\u001b[49m\u001b[43m)\u001b[49m\n\u001b[1;32m    408\u001b[0m     \u001b[38;5;66;03m# write values\u001b[39;00m\n\u001b[1;32m    409\u001b[0m     \u001b[38;5;28;01mif\u001b[39;00m \u001b[38;5;28mself\u001b[39m\u001b[38;5;241m.\u001b[39mfmt\u001b[38;5;241m.\u001b[39mindex \u001b[38;5;129;01mand\u001b[39;00m \u001b[38;5;28misinstance\u001b[39m(\u001b[38;5;28mself\u001b[39m\u001b[38;5;241m.\u001b[39mframe\u001b[38;5;241m.\u001b[39mindex, MultiIndex):\n",
      "File \u001b[0;32m/opt/hostedtoolcache/Python/3.9.16/x64/lib/python3.9/site-packages/pandas/io/formats/html.py:401\u001b[0m, in \u001b[0;36mHTMLFormatter._get_formatted_values\u001b[0;34m(self)\u001b[0m\n\u001b[1;32m    399\u001b[0m \u001b[38;5;28;01mdef\u001b[39;00m \u001b[38;5;21m_get_formatted_values\u001b[39m(\u001b[38;5;28mself\u001b[39m) \u001b[38;5;241m-\u001b[39m\u001b[38;5;241m>\u001b[39m \u001b[38;5;28mdict\u001b[39m[\u001b[38;5;28mint\u001b[39m, \u001b[38;5;28mlist\u001b[39m[\u001b[38;5;28mstr\u001b[39m]]:\n\u001b[1;32m    400\u001b[0m     \u001b[38;5;28;01mwith\u001b[39;00m option_context(\u001b[38;5;124m\"\u001b[39m\u001b[38;5;124mdisplay.max_colwidth\u001b[39m\u001b[38;5;124m\"\u001b[39m, \u001b[38;5;28;01mNone\u001b[39;00m):\n\u001b[0;32m--> 401\u001b[0m         fmt_values \u001b[38;5;241m=\u001b[39m {i: \u001b[38;5;28mself\u001b[39m\u001b[38;5;241m.\u001b[39mfmt\u001b[38;5;241m.\u001b[39mformat_col(i) \u001b[38;5;28;01mfor\u001b[39;00m i \u001b[38;5;129;01min\u001b[39;00m \u001b[38;5;28mrange\u001b[39m(\u001b[38;5;28mself\u001b[39m\u001b[38;5;241m.\u001b[39mncols)}\n\u001b[1;32m    402\u001b[0m     \u001b[38;5;28;01mreturn\u001b[39;00m fmt_values\n",
      "File \u001b[0;32m/opt/hostedtoolcache/Python/3.9.16/x64/lib/python3.9/site-packages/pandas/io/formats/html.py:401\u001b[0m, in \u001b[0;36m<dictcomp>\u001b[0;34m(.0)\u001b[0m\n\u001b[1;32m    399\u001b[0m \u001b[38;5;28;01mdef\u001b[39;00m \u001b[38;5;21m_get_formatted_values\u001b[39m(\u001b[38;5;28mself\u001b[39m) \u001b[38;5;241m-\u001b[39m\u001b[38;5;241m>\u001b[39m \u001b[38;5;28mdict\u001b[39m[\u001b[38;5;28mint\u001b[39m, \u001b[38;5;28mlist\u001b[39m[\u001b[38;5;28mstr\u001b[39m]]:\n\u001b[1;32m    400\u001b[0m     \u001b[38;5;28;01mwith\u001b[39;00m option_context(\u001b[38;5;124m\"\u001b[39m\u001b[38;5;124mdisplay.max_colwidth\u001b[39m\u001b[38;5;124m\"\u001b[39m, \u001b[38;5;28;01mNone\u001b[39;00m):\n\u001b[0;32m--> 401\u001b[0m         fmt_values \u001b[38;5;241m=\u001b[39m {i: \u001b[38;5;28;43mself\u001b[39;49m\u001b[38;5;241;43m.\u001b[39;49m\u001b[43mfmt\u001b[49m\u001b[38;5;241;43m.\u001b[39;49m\u001b[43mformat_col\u001b[49m\u001b[43m(\u001b[49m\u001b[43mi\u001b[49m\u001b[43m)\u001b[49m \u001b[38;5;28;01mfor\u001b[39;00m i \u001b[38;5;129;01min\u001b[39;00m \u001b[38;5;28mrange\u001b[39m(\u001b[38;5;28mself\u001b[39m\u001b[38;5;241m.\u001b[39mncols)}\n\u001b[1;32m    402\u001b[0m     \u001b[38;5;28;01mreturn\u001b[39;00m fmt_values\n",
      "File \u001b[0;32m/opt/hostedtoolcache/Python/3.9.16/x64/lib/python3.9/site-packages/pandas/io/formats/format.py:895\u001b[0m, in \u001b[0;36mDataFrameFormatter.format_col\u001b[0;34m(self, i)\u001b[0m\n\u001b[1;32m    893\u001b[0m frame \u001b[38;5;241m=\u001b[39m \u001b[38;5;28mself\u001b[39m\u001b[38;5;241m.\u001b[39mtr_frame\n\u001b[1;32m    894\u001b[0m formatter \u001b[38;5;241m=\u001b[39m \u001b[38;5;28mself\u001b[39m\u001b[38;5;241m.\u001b[39m_get_formatter(i)\n\u001b[0;32m--> 895\u001b[0m \u001b[38;5;28;01mreturn\u001b[39;00m \u001b[43mformat_array\u001b[49m\u001b[43m(\u001b[49m\n\u001b[1;32m    896\u001b[0m \u001b[43m    \u001b[49m\u001b[43mframe\u001b[49m\u001b[38;5;241;43m.\u001b[39;49m\u001b[43miloc\u001b[49m\u001b[43m[\u001b[49m\u001b[43m:\u001b[49m\u001b[43m,\u001b[49m\u001b[43m \u001b[49m\u001b[43mi\u001b[49m\u001b[43m]\u001b[49m\u001b[38;5;241;43m.\u001b[39;49m\u001b[43m_values\u001b[49m\u001b[43m,\u001b[49m\n\u001b[1;32m    897\u001b[0m \u001b[43m    \u001b[49m\u001b[43mformatter\u001b[49m\u001b[43m,\u001b[49m\n\u001b[1;32m    898\u001b[0m \u001b[43m    \u001b[49m\u001b[43mfloat_format\u001b[49m\u001b[38;5;241;43m=\u001b[39;49m\u001b[38;5;28;43mself\u001b[39;49m\u001b[38;5;241;43m.\u001b[39;49m\u001b[43mfloat_format\u001b[49m\u001b[43m,\u001b[49m\n\u001b[1;32m    899\u001b[0m \u001b[43m    \u001b[49m\u001b[43mna_rep\u001b[49m\u001b[38;5;241;43m=\u001b[39;49m\u001b[38;5;28;43mself\u001b[39;49m\u001b[38;5;241;43m.\u001b[39;49m\u001b[43mna_rep\u001b[49m\u001b[43m,\u001b[49m\n\u001b[1;32m    900\u001b[0m \u001b[43m    \u001b[49m\u001b[43mspace\u001b[49m\u001b[38;5;241;43m=\u001b[39;49m\u001b[38;5;28;43mself\u001b[39;49m\u001b[38;5;241;43m.\u001b[39;49m\u001b[43mcol_space\u001b[49m\u001b[38;5;241;43m.\u001b[39;49m\u001b[43mget\u001b[49m\u001b[43m(\u001b[49m\u001b[43mframe\u001b[49m\u001b[38;5;241;43m.\u001b[39;49m\u001b[43mcolumns\u001b[49m\u001b[43m[\u001b[49m\u001b[43mi\u001b[49m\u001b[43m]\u001b[49m\u001b[43m)\u001b[49m\u001b[43m,\u001b[49m\n\u001b[1;32m    901\u001b[0m \u001b[43m    \u001b[49m\u001b[43mdecimal\u001b[49m\u001b[38;5;241;43m=\u001b[39;49m\u001b[38;5;28;43mself\u001b[39;49m\u001b[38;5;241;43m.\u001b[39;49m\u001b[43mdecimal\u001b[49m\u001b[43m,\u001b[49m\n\u001b[1;32m    902\u001b[0m \u001b[43m    \u001b[49m\u001b[43mleading_space\u001b[49m\u001b[38;5;241;43m=\u001b[39;49m\u001b[38;5;28;43mself\u001b[39;49m\u001b[38;5;241;43m.\u001b[39;49m\u001b[43mindex\u001b[49m\u001b[43m,\u001b[49m\n\u001b[1;32m    903\u001b[0m \u001b[43m\u001b[49m\u001b[43m)\u001b[49m\n",
      "File \u001b[0;32m/opt/hostedtoolcache/Python/3.9.16/x64/lib/python3.9/site-packages/pandas/io/formats/format.py:1330\u001b[0m, in \u001b[0;36mformat_array\u001b[0;34m(values, formatter, float_format, na_rep, digits, space, justify, decimal, leading_space, quoting, fallback_formatter)\u001b[0m\n\u001b[1;32m   1314\u001b[0m     digits \u001b[38;5;241m=\u001b[39m get_option(\u001b[38;5;124m\"\u001b[39m\u001b[38;5;124mdisplay.precision\u001b[39m\u001b[38;5;124m\"\u001b[39m)\n\u001b[1;32m   1316\u001b[0m fmt_obj \u001b[38;5;241m=\u001b[39m fmt_klass(\n\u001b[1;32m   1317\u001b[0m     values,\n\u001b[1;32m   1318\u001b[0m     digits\u001b[38;5;241m=\u001b[39mdigits,\n\u001b[0;32m   (...)\u001b[0m\n\u001b[1;32m   1327\u001b[0m     fallback_formatter\u001b[38;5;241m=\u001b[39mfallback_formatter,\n\u001b[1;32m   1328\u001b[0m )\n\u001b[0;32m-> 1330\u001b[0m \u001b[38;5;28;01mreturn\u001b[39;00m \u001b[43mfmt_obj\u001b[49m\u001b[38;5;241;43m.\u001b[39;49m\u001b[43mget_result\u001b[49m\u001b[43m(\u001b[49m\u001b[43m)\u001b[49m\n",
      "File \u001b[0;32m/opt/hostedtoolcache/Python/3.9.16/x64/lib/python3.9/site-packages/pandas/io/formats/format.py:1363\u001b[0m, in \u001b[0;36mGenericArrayFormatter.get_result\u001b[0;34m(self)\u001b[0m\n\u001b[1;32m   1362\u001b[0m \u001b[38;5;28;01mdef\u001b[39;00m \u001b[38;5;21mget_result\u001b[39m(\u001b[38;5;28mself\u001b[39m) \u001b[38;5;241m-\u001b[39m\u001b[38;5;241m>\u001b[39m \u001b[38;5;28mlist\u001b[39m[\u001b[38;5;28mstr\u001b[39m]:\n\u001b[0;32m-> 1363\u001b[0m     fmt_values \u001b[38;5;241m=\u001b[39m \u001b[38;5;28;43mself\u001b[39;49m\u001b[38;5;241;43m.\u001b[39;49m\u001b[43m_format_strings\u001b[49m\u001b[43m(\u001b[49m\u001b[43m)\u001b[49m\n\u001b[1;32m   1364\u001b[0m     \u001b[38;5;28;01mreturn\u001b[39;00m _make_fixed_width(fmt_values, \u001b[38;5;28mself\u001b[39m\u001b[38;5;241m.\u001b[39mjustify)\n",
      "File \u001b[0;32m/opt/hostedtoolcache/Python/3.9.16/x64/lib/python3.9/site-packages/pandas/io/formats/format.py:1430\u001b[0m, in \u001b[0;36mGenericArrayFormatter._format_strings\u001b[0;34m(self)\u001b[0m\n\u001b[1;32m   1428\u001b[0m \u001b[38;5;28;01mfor\u001b[39;00m i, v \u001b[38;5;129;01min\u001b[39;00m \u001b[38;5;28menumerate\u001b[39m(vals):\n\u001b[1;32m   1429\u001b[0m     \u001b[38;5;28;01mif\u001b[39;00m \u001b[38;5;129;01mnot\u001b[39;00m is_float_type[i] \u001b[38;5;129;01mand\u001b[39;00m leading_space \u001b[38;5;129;01mor\u001b[39;00m \u001b[38;5;28mself\u001b[39m\u001b[38;5;241m.\u001b[39mformatter \u001b[38;5;129;01mis\u001b[39;00m \u001b[38;5;129;01mnot\u001b[39;00m \u001b[38;5;28;01mNone\u001b[39;00m:\n\u001b[0;32m-> 1430\u001b[0m         fmt_values\u001b[38;5;241m.\u001b[39mappend(\u001b[38;5;124mf\u001b[39m\u001b[38;5;124m\"\u001b[39m\u001b[38;5;124m \u001b[39m\u001b[38;5;132;01m{\u001b[39;00m\u001b[43m_format\u001b[49m\u001b[43m(\u001b[49m\u001b[43mv\u001b[49m\u001b[43m)\u001b[49m\u001b[38;5;132;01m}\u001b[39;00m\u001b[38;5;124m\"\u001b[39m)\n\u001b[1;32m   1431\u001b[0m     \u001b[38;5;28;01melif\u001b[39;00m is_float_type[i]:\n\u001b[1;32m   1432\u001b[0m         fmt_values\u001b[38;5;241m.\u001b[39mappend(float_format(v))\n",
      "File \u001b[0;32m/opt/hostedtoolcache/Python/3.9.16/x64/lib/python3.9/site-packages/pandas/io/formats/format.py:1410\u001b[0m, in \u001b[0;36mGenericArrayFormatter._format_strings.<locals>._format\u001b[0;34m(x)\u001b[0m\n\u001b[1;32m   1407\u001b[0m     \u001b[38;5;28;01mreturn\u001b[39;00m \u001b[38;5;28mrepr\u001b[39m(x)\n\u001b[1;32m   1408\u001b[0m \u001b[38;5;28;01melse\u001b[39;00m:\n\u001b[1;32m   1409\u001b[0m     \u001b[38;5;66;03m# object dtype\u001b[39;00m\n\u001b[0;32m-> 1410\u001b[0m     \u001b[38;5;28;01mreturn\u001b[39;00m \u001b[38;5;28mstr\u001b[39m(\u001b[43mformatter\u001b[49m\u001b[43m(\u001b[49m\u001b[43mx\u001b[49m\u001b[43m)\u001b[49m)\n",
      "File \u001b[0;32m~/work/meerkat/meerkat/meerkat/interactive/formatter/base.py:351\u001b[0m, in \u001b[0;36mDeferredFormatter.html\u001b[0;34m(self, cell)\u001b[0m\n\u001b[1;32m    350\u001b[0m \u001b[38;5;28;01mdef\u001b[39;00m \u001b[38;5;21mhtml\u001b[39m(\u001b[38;5;28mself\u001b[39m, cell: DeferredCell):\n\u001b[0;32m--> 351\u001b[0m     \u001b[38;5;28;01mreturn\u001b[39;00m \u001b[38;5;28;43mself\u001b[39;49m\u001b[38;5;241;43m.\u001b[39;49m\u001b[43mwrapped\u001b[49m\u001b[38;5;241;43m.\u001b[39;49m\u001b[43mhtml\u001b[49m\u001b[43m(\u001b[49m\u001b[43mcell\u001b[49m\u001b[43m(\u001b[49m\u001b[43m)\u001b[49m\u001b[43m)\u001b[49m\n",
      "File \u001b[0;32m~/work/meerkat/meerkat/meerkat/interactive/formatter/image.py:72\u001b[0m, in \u001b[0;36mImageFormatter.html\u001b[0;34m(self, cell)\u001b[0m\n\u001b[1;32m     71\u001b[0m \u001b[38;5;28;01mdef\u001b[39;00m \u001b[38;5;21mhtml\u001b[39m(\u001b[38;5;28mself\u001b[39m, cell: Image) \u001b[38;5;241m-\u001b[39m\u001b[38;5;241m>\u001b[39m \u001b[38;5;28mstr\u001b[39m:\n\u001b[0;32m---> 72\u001b[0m     encoded \u001b[38;5;241m=\u001b[39m \u001b[38;5;28;43mself\u001b[39;49m\u001b[38;5;241;43m.\u001b[39;49m\u001b[43mencode\u001b[49m\u001b[43m(\u001b[49m\u001b[43mcell\u001b[49m\u001b[43m)\u001b[49m\n\u001b[1;32m     73\u001b[0m     \u001b[38;5;28;01mreturn\u001b[39;00m \u001b[38;5;124mf\u001b[39m\u001b[38;5;124m'\u001b[39m\u001b[38;5;124m<img src=\u001b[39m\u001b[38;5;124m\"\u001b[39m\u001b[38;5;132;01m{\u001b[39;00mencoded\u001b[38;5;132;01m}\u001b[39;00m\u001b[38;5;124m\"\u001b[39m\u001b[38;5;124m>\u001b[39m\u001b[38;5;124m'\u001b[39m\n",
      "File \u001b[0;32m~/work/meerkat/meerkat/meerkat/interactive/formatter/image.py:43\u001b[0m, in \u001b[0;36mImageFormatter.encode\u001b[0;34m(self, cell, skip_copy, mode)\u001b[0m\n\u001b[1;32m     33\u001b[0m \u001b[38;5;250m\u001b[39m\u001b[38;5;124;03m\"\"\"Encodes an image as a base64 string.\u001b[39;00m\n\u001b[1;32m     34\u001b[0m \n\u001b[1;32m     35\u001b[0m \u001b[38;5;124;03mArgs:\u001b[39;00m\n\u001b[0;32m   (...)\u001b[0m\n\u001b[1;32m     40\u001b[0m \u001b[38;5;124;03m        This may save time for large images.\u001b[39;00m\n\u001b[1;32m     41\u001b[0m \u001b[38;5;124;03m\"\"\"\u001b[39;00m\n\u001b[1;32m     42\u001b[0m \u001b[38;5;28;01mif\u001b[39;00m mode \u001b[38;5;129;01mis\u001b[39;00m \u001b[38;5;28;01mNone\u001b[39;00m:\n\u001b[0;32m---> 43\u001b[0m     mode \u001b[38;5;241m=\u001b[39m \u001b[38;5;28;43mself\u001b[39;49m\u001b[38;5;241;43m.\u001b[39;49m\u001b[43mmode\u001b[49m\n\u001b[1;32m     45\u001b[0m \u001b[38;5;28;01mif\u001b[39;00m env\u001b[38;5;241m.\u001b[39mpackage_available(\u001b[38;5;124m\"\u001b[39m\u001b[38;5;124mtorch\u001b[39m\u001b[38;5;124m\"\u001b[39m) \u001b[38;5;129;01mand\u001b[39;00m \u001b[38;5;28misinstance\u001b[39m(cell, torch\u001b[38;5;241m.\u001b[39mTensor):\n\u001b[1;32m     46\u001b[0m     cell \u001b[38;5;241m=\u001b[39m cell\u001b[38;5;241m.\u001b[39mcpu()\u001b[38;5;241m.\u001b[39mnumpy()\n",
      "\u001b[0;31mAttributeError\u001b[0m: 'ImageFormatter' object has no attribute 'mode'"
     ]
    },
    {
     "data": {
      "text/plain": [
       "DataFrame(nrows: 99, ncols: 6)"
      ]
     },
     "execution_count": 9,
     "metadata": {},
     "output_type": "execute_result"
    }
   ],
   "source": [
    "mk.read(\"_data/art_ngoa.mk\")"
   ]
  },
  {
   "cell_type": "markdown",
   "id": "ad0cdb27",
   "metadata": {},
   "source": [
    "Note that all the columns are present, including the `image` column, which had previously been lost with {func}`~meerkat.DataFrame.to_csv`."
   ]
  }
 ],
 "metadata": {
  "file_format": "mystnb",
  "kernelspec": {
   "display_name": "python3",
   "name": "python3"
  },
  "language_info": {
   "codemirror_mode": {
    "name": "ipython",
    "version": 3
   },
   "file_extension": ".py",
   "mimetype": "text/x-python",
   "name": "python",
   "nbconvert_exporter": "python",
   "pygments_lexer": "ipython3",
   "version": "3.9.16"
  },
  "source_map": [
   5,
   38,
   45,
   53,
   58,
   67,
   70,
   72,
   76,
   120,
   122,
   125,
   127,
   140,
   142,
   160,
   162,
   169,
   173
  ]
 },
 "nbformat": 4,
 "nbformat_minor": 5
}