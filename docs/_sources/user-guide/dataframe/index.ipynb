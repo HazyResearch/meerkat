{
 "cells": [
  {
   "cell_type": "markdown",
   "id": "82e1c7d0",
   "metadata": {},
   "source": [
    "# DataFrame\n",
    "\n",
    "<!-- Meerkat provides two data structures, the Column and the DataFrame, that together help you build, manage, and explore machine learning datasets. Everything you do with Meerkat will involve one or both of these data structures, so we begin this user guide with their high-level introduction. -->\n",
    "\n",
    "A {class}`~meerkat.DataFrame` is a collection of equal-length columns (analagous to a [`DataFrame`](https://pandas.pydata.org/docs/reference/api/pandas.DataFrame.html#pandas.DataFrame) in Pandas or R). DataFrames in Meerkat are used to manage datasets and per-example artifacts (*e.g.* model predictions and embeddings).  \n",
    "\n",
    "Below we combine the columns we created above into a single DataFrame. We also add an additional column containing labels for the images. Note that we can pass non-Meerkat data structures like ``list``, ``np.ndarray``, ``pd.Series``, and ``torch.Tensor``  directly to the DataFrame constructor and Meerkat will infer the column type. We do not need to first convert to a Meerkat column."
   ]
  },
  {
   "cell_type": "code",
   "execution_count": 1,
   "id": "2341dbe0",
   "metadata": {},
   "outputs": [
    {
     "ename": "NameError",
     "evalue": "name 'mk' is not defined",
     "output_type": "error",
     "traceback": [
      "\u001b[0;31m---------------------------------------------------------------------------\u001b[0m",
      "\u001b[0;31mNameError\u001b[0m                                 Traceback (most recent call last)",
      "Cell \u001b[0;32mIn[1], line 1\u001b[0m\n\u001b[0;32m----> 1\u001b[0m df \u001b[38;5;241m=\u001b[39m \u001b[43mmk\u001b[49m\u001b[38;5;241m.\u001b[39mDataFrame(\n\u001b[1;32m      2\u001b[0m     {\n\u001b[1;32m      3\u001b[0m         \u001b[38;5;124m\"\u001b[39m\u001b[38;5;124mimg\u001b[39m\u001b[38;5;124m\"\u001b[39m: img_col,\n\u001b[1;32m      4\u001b[0m         \u001b[38;5;124m\"\u001b[39m\u001b[38;5;124mlabel\u001b[39m\u001b[38;5;124m\"\u001b[39m: [\u001b[38;5;124m\"\u001b[39m\u001b[38;5;124mboombox\u001b[39m\u001b[38;5;124m\"\u001b[39m, \u001b[38;5;124m\"\u001b[39m\u001b[38;5;124mtruck\u001b[39m\u001b[38;5;124m\"\u001b[39m, \u001b[38;5;124m\"\u001b[39m\u001b[38;5;124mdog\u001b[39m\u001b[38;5;124m\"\u001b[39m],\n\u001b[1;32m      5\u001b[0m         \u001b[38;5;124m\"\u001b[39m\u001b[38;5;124mid\u001b[39m\u001b[38;5;124m\"\u001b[39m: id_col, \n\u001b[1;32m      6\u001b[0m     }\n\u001b[1;32m      7\u001b[0m )\n\u001b[1;32m      8\u001b[0m df\n",
      "\u001b[0;31mNameError\u001b[0m: name 'mk' is not defined"
     ]
    }
   ],
   "source": [
    "df = mk.DataFrame(\n",
    "    {\n",
    "        \"img\": img_col,\n",
    "        \"label\": [\"boombox\", \"truck\", \"dog\"],\n",
    "        \"id\": id_col, \n",
    "    }\n",
    ")\n",
    "df"
   ]
  },
  {
   "cell_type": "markdown",
   "id": "3e1c815b",
   "metadata": {},
   "source": [
    "Read on to learn how we access the data in DataFrames."
   ]
  }
 ],
 "metadata": {
  "file_format": "mystnb",
  "kernelspec": {
   "display_name": "python3",
   "name": "python3"
  },
  "language_info": {
   "codemirror_mode": {
    "name": "ipython",
    "version": 3
   },
   "file_extension": ".py",
   "mimetype": "text/x-python",
   "name": "python",
   "nbconvert_exporter": "python",
   "pygments_lexer": "ipython3",
   "version": "3.8.16"
  },
  "source_map": [
   5,
   15,
   24
  ]
 },
 "nbformat": 4,
 "nbformat_minor": 5
}