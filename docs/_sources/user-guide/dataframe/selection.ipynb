{
 "cells": [
  {
   "cell_type": "markdown",
   "id": "c5cf8cf6",
   "metadata": {},
   "source": [
    "(guide/dataframe/selection)=\n",
    "\n",
    "# Data Selection\n",
    "\n",
    "As discussed in the {doc}`intro`, there are two key data structures in Meerkat: the Column and the DataFrame. In this guide, we'll demonstrate how to access the data stored within them.\n",
    "\n",
    "Throughout, we'll be selecting data from the following DataFrame, which holds the Imagenette dataset, a small subset of the original ImageNet. This DataFrame includes a column holding images, a column holding their labels, and a few others."
   ]
  },
  {
   "cell_type": "code",
   "execution_count": 1,
   "id": "ffe450e0",
   "metadata": {},
   "outputs": [
    {
     "ename": "FileNotFoundError",
     "evalue": "[Errno 2] No such file or directory: '/home/runner/.meerkat/datasets/imagenette/160px/imagenette2-160/noisy_imagenette.csv'",
     "output_type": "error",
     "traceback": [
      "\u001b[0;31m---------------------------------------------------------------------------\u001b[0m",
      "\u001b[0;31mFileNotFoundError\u001b[0m                         Traceback (most recent call last)",
      "Cell \u001b[0;32mIn[1], line 2\u001b[0m\n\u001b[1;32m      1\u001b[0m \u001b[38;5;28;01mimport\u001b[39;00m \u001b[38;5;21;01mmeerkat\u001b[39;00m \u001b[38;5;28;01mas\u001b[39;00m \u001b[38;5;21;01mmk\u001b[39;00m\n\u001b[0;32m----> 2\u001b[0m df \u001b[38;5;241m=\u001b[39m \u001b[43mmk\u001b[49m\u001b[38;5;241;43m.\u001b[39;49m\u001b[43mget\u001b[49m\u001b[43m(\u001b[49m\u001b[38;5;124;43m\"\u001b[39;49m\u001b[38;5;124;43mimagenette\u001b[39;49m\u001b[38;5;124;43m\"\u001b[39;49m\u001b[43m,\u001b[49m\u001b[43m \u001b[49m\u001b[43mversion\u001b[49m\u001b[38;5;241;43m=\u001b[39;49m\u001b[38;5;124;43m\"\u001b[39;49m\u001b[38;5;124;43m160px\u001b[39;49m\u001b[38;5;124;43m\"\u001b[39;49m\u001b[43m)\u001b[49m\n",
      "File \u001b[0;32m~/work/meerkat/meerkat/meerkat/datasets/__init__.py:78\u001b[0m, in \u001b[0;36mget\u001b[0;34m(name, dataset_dir, version, download_mode, registry, **kwargs)\u001b[0m\n\u001b[1;32m     76\u001b[0m \u001b[38;5;28;01mif\u001b[39;00m registry \u001b[38;5;241m==\u001b[39m \u001b[38;5;124m\"\u001b[39m\u001b[38;5;124mmeerkat\u001b[39m\u001b[38;5;124m\"\u001b[39m:\n\u001b[1;32m     77\u001b[0m     \u001b[38;5;28;01mtry\u001b[39;00m:\n\u001b[0;32m---> 78\u001b[0m         dataset \u001b[38;5;241m=\u001b[39m \u001b[43mdatasets\u001b[49m\u001b[38;5;241;43m.\u001b[39;49m\u001b[43mget\u001b[49m\u001b[43m(\u001b[49m\n\u001b[1;32m     79\u001b[0m \u001b[43m            \u001b[49m\u001b[43mname\u001b[49m\u001b[38;5;241;43m=\u001b[39;49m\u001b[43mname\u001b[49m\u001b[43m,\u001b[49m\n\u001b[1;32m     80\u001b[0m \u001b[43m            \u001b[49m\u001b[43mdataset_dir\u001b[49m\u001b[38;5;241;43m=\u001b[39;49m\u001b[43mdataset_dir\u001b[49m\u001b[43m,\u001b[49m\n\u001b[1;32m     81\u001b[0m \u001b[43m            \u001b[49m\u001b[43mversion\u001b[49m\u001b[38;5;241;43m=\u001b[39;49m\u001b[43mversion\u001b[49m\u001b[43m,\u001b[49m\n\u001b[1;32m     82\u001b[0m \u001b[43m            \u001b[49m\u001b[43mdownload_mode\u001b[49m\u001b[38;5;241;43m=\u001b[39;49m\u001b[43mdownload_mode\u001b[49m\u001b[43m,\u001b[49m\n\u001b[1;32m     83\u001b[0m \u001b[43m            \u001b[49m\u001b[38;5;241;43m*\u001b[39;49m\u001b[38;5;241;43m*\u001b[39;49m\u001b[43mkwargs\u001b[49m\u001b[43m,\u001b[49m\n\u001b[1;32m     84\u001b[0m \u001b[43m        \u001b[49m\u001b[43m)\u001b[49m\n\u001b[1;32m     85\u001b[0m         \u001b[38;5;28;01mreturn\u001b[39;00m dataset\n\u001b[1;32m     86\u001b[0m     \u001b[38;5;28;01mexcept\u001b[39;00m \u001b[38;5;167;01mKeyError\u001b[39;00m \u001b[38;5;28;01mas\u001b[39;00m e:\n",
      "File \u001b[0;32m~/work/meerkat/meerkat/meerkat/datasets/registry.py:27\u001b[0m, in \u001b[0;36mRegistry.get\u001b[0;34m(self, name, **kwargs)\u001b[0m\n\u001b[1;32m     22\u001b[0m \u001b[38;5;28;01mif\u001b[39;00m ret \u001b[38;5;129;01mis\u001b[39;00m \u001b[38;5;28;01mNone\u001b[39;00m:\n\u001b[1;32m     23\u001b[0m     \u001b[38;5;28;01mraise\u001b[39;00m \u001b[38;5;167;01mKeyError\u001b[39;00m(\n\u001b[1;32m     24\u001b[0m         \u001b[38;5;124m\"\u001b[39m\u001b[38;5;124mNo object named \u001b[39m\u001b[38;5;124m'\u001b[39m\u001b[38;5;132;01m{}\u001b[39;00m\u001b[38;5;124m'\u001b[39m\u001b[38;5;124m found in \u001b[39m\u001b[38;5;124m'\u001b[39m\u001b[38;5;132;01m{}\u001b[39;00m\u001b[38;5;124m'\u001b[39m\u001b[38;5;124m registry!\u001b[39m\u001b[38;5;124m\"\u001b[39m\u001b[38;5;241m.\u001b[39mformat(name, \u001b[38;5;28mself\u001b[39m\u001b[38;5;241m.\u001b[39m_name)\n\u001b[1;32m     25\u001b[0m     )\n\u001b[0;32m---> 27\u001b[0m \u001b[38;5;28;01mreturn\u001b[39;00m \u001b[43mret\u001b[49m\u001b[43m(\u001b[49m\u001b[38;5;241;43m*\u001b[39;49m\u001b[38;5;241;43m*\u001b[39;49m\u001b[43mkwargs\u001b[49m\u001b[43m)\u001b[49m\u001b[43m(\u001b[49m\u001b[43m)\u001b[49m\n",
      "File \u001b[0;32m~/work/meerkat/meerkat/meerkat/datasets/abstract.py:65\u001b[0m, in \u001b[0;36mDatasetBuilder.__call__\u001b[0;34m(self)\u001b[0m\n\u001b[1;32m     60\u001b[0m \u001b[38;5;28;01mif\u001b[39;00m \u001b[38;5;129;01mnot\u001b[39;00m \u001b[38;5;28mself\u001b[39m\u001b[38;5;241m.\u001b[39mis_downloaded():\n\u001b[1;32m     61\u001b[0m     \u001b[38;5;28;01mraise\u001b[39;00m \u001b[38;5;167;01mValueError\u001b[39;00m(\n\u001b[1;32m     62\u001b[0m         \u001b[38;5;124mf\u001b[39m\u001b[38;5;124m\"\u001b[39m\u001b[38;5;124mDataset \u001b[39m\u001b[38;5;132;01m{\u001b[39;00m\u001b[38;5;28mself\u001b[39m\u001b[38;5;241m.\u001b[39mname\u001b[38;5;132;01m}\u001b[39;00m\u001b[38;5;124m is not downloaded to \u001b[39m\u001b[38;5;132;01m{\u001b[39;00m\u001b[38;5;28mself\u001b[39m\u001b[38;5;241m.\u001b[39mdataset_dir\u001b[38;5;132;01m}\u001b[39;00m\u001b[38;5;124m.\u001b[39m\u001b[38;5;124m\"\u001b[39m\n\u001b[1;32m     63\u001b[0m     )\n\u001b[0;32m---> 65\u001b[0m \u001b[38;5;28;01mreturn\u001b[39;00m \u001b[38;5;28;43mself\u001b[39;49m\u001b[38;5;241;43m.\u001b[39;49m\u001b[43mbuild\u001b[49m\u001b[43m(\u001b[49m\u001b[43m)\u001b[49m\n",
      "File \u001b[0;32m~/work/meerkat/meerkat/meerkat/datasets/imagenette/__init__.py:69\u001b[0m, in \u001b[0;36mimagenette.build\u001b[0;34m(self)\u001b[0m\n\u001b[1;32m     68\u001b[0m \u001b[38;5;28;01mdef\u001b[39;00m \u001b[38;5;21mbuild\u001b[39m(\u001b[38;5;28mself\u001b[39m):\n\u001b[0;32m---> 69\u001b[0m     df \u001b[38;5;241m=\u001b[39m \u001b[38;5;28;43mself\u001b[39;49m\u001b[38;5;241;43m.\u001b[39;49m\u001b[43m_build_df\u001b[49m\u001b[43m(\u001b[49m\u001b[43m)\u001b[49m\n\u001b[1;32m     70\u001b[0m     df \u001b[38;5;241m=\u001b[39m mk\u001b[38;5;241m.\u001b[39mDataFrame\u001b[38;5;241m.\u001b[39mfrom_pandas(df)\n\u001b[1;32m     71\u001b[0m     df[\u001b[38;5;124m\"\u001b[39m\u001b[38;5;124mimg\u001b[39m\u001b[38;5;124m\"\u001b[39m] \u001b[38;5;241m=\u001b[39m mk\u001b[38;5;241m.\u001b[39mfiles(df[\u001b[38;5;124m\"\u001b[39m\u001b[38;5;124mimg_path\u001b[39m\u001b[38;5;124m\"\u001b[39m], base_dir\u001b[38;5;241m=\u001b[39m\u001b[38;5;28mself\u001b[39m\u001b[38;5;241m.\u001b[39mdata_dir, \u001b[38;5;28mtype\u001b[39m\u001b[38;5;241m=\u001b[39m\u001b[38;5;124m\"\u001b[39m\u001b[38;5;124mimage\u001b[39m\u001b[38;5;124m\"\u001b[39m)\n",
      "File \u001b[0;32m~/work/meerkat/meerkat/meerkat/datasets/imagenette/__init__.py:85\u001b[0m, in \u001b[0;36mimagenette._build_df\u001b[0;34m(self)\u001b[0m\n\u001b[1;32m     80\u001b[0m \u001b[38;5;28;01mdef\u001b[39;00m \u001b[38;5;21m_build_df\u001b[39m(\n\u001b[1;32m     81\u001b[0m     \u001b[38;5;28mself\u001b[39m,\n\u001b[1;32m     82\u001b[0m ):\n\u001b[1;32m     83\u001b[0m     csv_path \u001b[38;5;241m=\u001b[39m os\u001b[38;5;241m.\u001b[39mpath\u001b[38;5;241m.\u001b[39mjoin(\u001b[38;5;28mself\u001b[39m\u001b[38;5;241m.\u001b[39mdata_dir, \u001b[38;5;124m\"\u001b[39m\u001b[38;5;124mnoisy_imagenette.csv\u001b[39m\u001b[38;5;124m\"\u001b[39m)\n\u001b[0;32m---> 85\u001b[0m     df \u001b[38;5;241m=\u001b[39m \u001b[43mpd\u001b[49m\u001b[38;5;241;43m.\u001b[39;49m\u001b[43mread_csv\u001b[49m\u001b[43m(\u001b[49m\u001b[43mcsv_path\u001b[49m\u001b[43m)\u001b[49m\n\u001b[1;32m     86\u001b[0m     df[\u001b[38;5;124m\"\u001b[39m\u001b[38;5;124mlabel_id\u001b[39m\u001b[38;5;124m\"\u001b[39m] \u001b[38;5;241m=\u001b[39m df[\u001b[38;5;124m\"\u001b[39m\u001b[38;5;124mnoisy_labels_0\u001b[39m\u001b[38;5;124m\"\u001b[39m]\n\u001b[1;32m     87\u001b[0m     df[\u001b[38;5;124m\"\u001b[39m\u001b[38;5;124mlabel\u001b[39m\u001b[38;5;124m\"\u001b[39m] \u001b[38;5;241m=\u001b[39m df[\u001b[38;5;124m\"\u001b[39m\u001b[38;5;124mlabel_id\u001b[39m\u001b[38;5;124m\"\u001b[39m]\u001b[38;5;241m.\u001b[39mreplace(ID_TO_WORDS)\n",
      "File \u001b[0;32m/opt/hostedtoolcache/Python/3.8.16/x64/lib/python3.8/site-packages/pandas/util/_decorators.py:211\u001b[0m, in \u001b[0;36mdeprecate_kwarg.<locals>._deprecate_kwarg.<locals>.wrapper\u001b[0;34m(*args, **kwargs)\u001b[0m\n\u001b[1;32m    209\u001b[0m     \u001b[38;5;28;01melse\u001b[39;00m:\n\u001b[1;32m    210\u001b[0m         kwargs[new_arg_name] \u001b[38;5;241m=\u001b[39m new_arg_value\n\u001b[0;32m--> 211\u001b[0m \u001b[38;5;28;01mreturn\u001b[39;00m \u001b[43mfunc\u001b[49m\u001b[43m(\u001b[49m\u001b[38;5;241;43m*\u001b[39;49m\u001b[43margs\u001b[49m\u001b[43m,\u001b[49m\u001b[43m \u001b[49m\u001b[38;5;241;43m*\u001b[39;49m\u001b[38;5;241;43m*\u001b[39;49m\u001b[43mkwargs\u001b[49m\u001b[43m)\u001b[49m\n",
      "File \u001b[0;32m/opt/hostedtoolcache/Python/3.8.16/x64/lib/python3.8/site-packages/pandas/util/_decorators.py:331\u001b[0m, in \u001b[0;36mdeprecate_nonkeyword_arguments.<locals>.decorate.<locals>.wrapper\u001b[0;34m(*args, **kwargs)\u001b[0m\n\u001b[1;32m    325\u001b[0m \u001b[38;5;28;01mif\u001b[39;00m \u001b[38;5;28mlen\u001b[39m(args) \u001b[38;5;241m>\u001b[39m num_allow_args:\n\u001b[1;32m    326\u001b[0m     warnings\u001b[38;5;241m.\u001b[39mwarn(\n\u001b[1;32m    327\u001b[0m         msg\u001b[38;5;241m.\u001b[39mformat(arguments\u001b[38;5;241m=\u001b[39m_format_argument_list(allow_args)),\n\u001b[1;32m    328\u001b[0m         \u001b[38;5;167;01mFutureWarning\u001b[39;00m,\n\u001b[1;32m    329\u001b[0m         stacklevel\u001b[38;5;241m=\u001b[39mfind_stack_level(),\n\u001b[1;32m    330\u001b[0m     )\n\u001b[0;32m--> 331\u001b[0m \u001b[38;5;28;01mreturn\u001b[39;00m \u001b[43mfunc\u001b[49m\u001b[43m(\u001b[49m\u001b[38;5;241;43m*\u001b[39;49m\u001b[43margs\u001b[49m\u001b[43m,\u001b[49m\u001b[43m \u001b[49m\u001b[38;5;241;43m*\u001b[39;49m\u001b[38;5;241;43m*\u001b[39;49m\u001b[43mkwargs\u001b[49m\u001b[43m)\u001b[49m\n",
      "File \u001b[0;32m/opt/hostedtoolcache/Python/3.8.16/x64/lib/python3.8/site-packages/pandas/io/parsers/readers.py:950\u001b[0m, in \u001b[0;36mread_csv\u001b[0;34m(filepath_or_buffer, sep, delimiter, header, names, index_col, usecols, squeeze, prefix, mangle_dupe_cols, dtype, engine, converters, true_values, false_values, skipinitialspace, skiprows, skipfooter, nrows, na_values, keep_default_na, na_filter, verbose, skip_blank_lines, parse_dates, infer_datetime_format, keep_date_col, date_parser, dayfirst, cache_dates, iterator, chunksize, compression, thousands, decimal, lineterminator, quotechar, quoting, doublequote, escapechar, comment, encoding, encoding_errors, dialect, error_bad_lines, warn_bad_lines, on_bad_lines, delim_whitespace, low_memory, memory_map, float_precision, storage_options)\u001b[0m\n\u001b[1;32m    935\u001b[0m kwds_defaults \u001b[38;5;241m=\u001b[39m _refine_defaults_read(\n\u001b[1;32m    936\u001b[0m     dialect,\n\u001b[1;32m    937\u001b[0m     delimiter,\n\u001b[0;32m   (...)\u001b[0m\n\u001b[1;32m    946\u001b[0m     defaults\u001b[38;5;241m=\u001b[39m{\u001b[38;5;124m\"\u001b[39m\u001b[38;5;124mdelimiter\u001b[39m\u001b[38;5;124m\"\u001b[39m: \u001b[38;5;124m\"\u001b[39m\u001b[38;5;124m,\u001b[39m\u001b[38;5;124m\"\u001b[39m},\n\u001b[1;32m    947\u001b[0m )\n\u001b[1;32m    948\u001b[0m kwds\u001b[38;5;241m.\u001b[39mupdate(kwds_defaults)\n\u001b[0;32m--> 950\u001b[0m \u001b[38;5;28;01mreturn\u001b[39;00m \u001b[43m_read\u001b[49m\u001b[43m(\u001b[49m\u001b[43mfilepath_or_buffer\u001b[49m\u001b[43m,\u001b[49m\u001b[43m \u001b[49m\u001b[43mkwds\u001b[49m\u001b[43m)\u001b[49m\n",
      "File \u001b[0;32m/opt/hostedtoolcache/Python/3.8.16/x64/lib/python3.8/site-packages/pandas/io/parsers/readers.py:605\u001b[0m, in \u001b[0;36m_read\u001b[0;34m(filepath_or_buffer, kwds)\u001b[0m\n\u001b[1;32m    602\u001b[0m _validate_names(kwds\u001b[38;5;241m.\u001b[39mget(\u001b[38;5;124m\"\u001b[39m\u001b[38;5;124mnames\u001b[39m\u001b[38;5;124m\"\u001b[39m, \u001b[38;5;28;01mNone\u001b[39;00m))\n\u001b[1;32m    604\u001b[0m \u001b[38;5;66;03m# Create the parser.\u001b[39;00m\n\u001b[0;32m--> 605\u001b[0m parser \u001b[38;5;241m=\u001b[39m \u001b[43mTextFileReader\u001b[49m\u001b[43m(\u001b[49m\u001b[43mfilepath_or_buffer\u001b[49m\u001b[43m,\u001b[49m\u001b[43m \u001b[49m\u001b[38;5;241;43m*\u001b[39;49m\u001b[38;5;241;43m*\u001b[39;49m\u001b[43mkwds\u001b[49m\u001b[43m)\u001b[49m\n\u001b[1;32m    607\u001b[0m \u001b[38;5;28;01mif\u001b[39;00m chunksize \u001b[38;5;129;01mor\u001b[39;00m iterator:\n\u001b[1;32m    608\u001b[0m     \u001b[38;5;28;01mreturn\u001b[39;00m parser\n",
      "File \u001b[0;32m/opt/hostedtoolcache/Python/3.8.16/x64/lib/python3.8/site-packages/pandas/io/parsers/readers.py:1442\u001b[0m, in \u001b[0;36mTextFileReader.__init__\u001b[0;34m(self, f, engine, **kwds)\u001b[0m\n\u001b[1;32m   1439\u001b[0m     \u001b[38;5;28mself\u001b[39m\u001b[38;5;241m.\u001b[39moptions[\u001b[38;5;124m\"\u001b[39m\u001b[38;5;124mhas_index_names\u001b[39m\u001b[38;5;124m\"\u001b[39m] \u001b[38;5;241m=\u001b[39m kwds[\u001b[38;5;124m\"\u001b[39m\u001b[38;5;124mhas_index_names\u001b[39m\u001b[38;5;124m\"\u001b[39m]\n\u001b[1;32m   1441\u001b[0m \u001b[38;5;28mself\u001b[39m\u001b[38;5;241m.\u001b[39mhandles: IOHandles \u001b[38;5;241m|\u001b[39m \u001b[38;5;28;01mNone\u001b[39;00m \u001b[38;5;241m=\u001b[39m \u001b[38;5;28;01mNone\u001b[39;00m\n\u001b[0;32m-> 1442\u001b[0m \u001b[38;5;28mself\u001b[39m\u001b[38;5;241m.\u001b[39m_engine \u001b[38;5;241m=\u001b[39m \u001b[38;5;28;43mself\u001b[39;49m\u001b[38;5;241;43m.\u001b[39;49m\u001b[43m_make_engine\u001b[49m\u001b[43m(\u001b[49m\u001b[43mf\u001b[49m\u001b[43m,\u001b[49m\u001b[43m \u001b[49m\u001b[38;5;28;43mself\u001b[39;49m\u001b[38;5;241;43m.\u001b[39;49m\u001b[43mengine\u001b[49m\u001b[43m)\u001b[49m\n",
      "File \u001b[0;32m/opt/hostedtoolcache/Python/3.8.16/x64/lib/python3.8/site-packages/pandas/io/parsers/readers.py:1735\u001b[0m, in \u001b[0;36mTextFileReader._make_engine\u001b[0;34m(self, f, engine)\u001b[0m\n\u001b[1;32m   1733\u001b[0m     \u001b[38;5;28;01mif\u001b[39;00m \u001b[38;5;124m\"\u001b[39m\u001b[38;5;124mb\u001b[39m\u001b[38;5;124m\"\u001b[39m \u001b[38;5;129;01mnot\u001b[39;00m \u001b[38;5;129;01min\u001b[39;00m mode:\n\u001b[1;32m   1734\u001b[0m         mode \u001b[38;5;241m+\u001b[39m\u001b[38;5;241m=\u001b[39m \u001b[38;5;124m\"\u001b[39m\u001b[38;5;124mb\u001b[39m\u001b[38;5;124m\"\u001b[39m\n\u001b[0;32m-> 1735\u001b[0m \u001b[38;5;28mself\u001b[39m\u001b[38;5;241m.\u001b[39mhandles \u001b[38;5;241m=\u001b[39m \u001b[43mget_handle\u001b[49m\u001b[43m(\u001b[49m\n\u001b[1;32m   1736\u001b[0m \u001b[43m    \u001b[49m\u001b[43mf\u001b[49m\u001b[43m,\u001b[49m\n\u001b[1;32m   1737\u001b[0m \u001b[43m    \u001b[49m\u001b[43mmode\u001b[49m\u001b[43m,\u001b[49m\n\u001b[1;32m   1738\u001b[0m \u001b[43m    \u001b[49m\u001b[43mencoding\u001b[49m\u001b[38;5;241;43m=\u001b[39;49m\u001b[38;5;28;43mself\u001b[39;49m\u001b[38;5;241;43m.\u001b[39;49m\u001b[43moptions\u001b[49m\u001b[38;5;241;43m.\u001b[39;49m\u001b[43mget\u001b[49m\u001b[43m(\u001b[49m\u001b[38;5;124;43m\"\u001b[39;49m\u001b[38;5;124;43mencoding\u001b[39;49m\u001b[38;5;124;43m\"\u001b[39;49m\u001b[43m,\u001b[49m\u001b[43m \u001b[49m\u001b[38;5;28;43;01mNone\u001b[39;49;00m\u001b[43m)\u001b[49m\u001b[43m,\u001b[49m\n\u001b[1;32m   1739\u001b[0m \u001b[43m    \u001b[49m\u001b[43mcompression\u001b[49m\u001b[38;5;241;43m=\u001b[39;49m\u001b[38;5;28;43mself\u001b[39;49m\u001b[38;5;241;43m.\u001b[39;49m\u001b[43moptions\u001b[49m\u001b[38;5;241;43m.\u001b[39;49m\u001b[43mget\u001b[49m\u001b[43m(\u001b[49m\u001b[38;5;124;43m\"\u001b[39;49m\u001b[38;5;124;43mcompression\u001b[39;49m\u001b[38;5;124;43m\"\u001b[39;49m\u001b[43m,\u001b[49m\u001b[43m \u001b[49m\u001b[38;5;28;43;01mNone\u001b[39;49;00m\u001b[43m)\u001b[49m\u001b[43m,\u001b[49m\n\u001b[1;32m   1740\u001b[0m \u001b[43m    \u001b[49m\u001b[43mmemory_map\u001b[49m\u001b[38;5;241;43m=\u001b[39;49m\u001b[38;5;28;43mself\u001b[39;49m\u001b[38;5;241;43m.\u001b[39;49m\u001b[43moptions\u001b[49m\u001b[38;5;241;43m.\u001b[39;49m\u001b[43mget\u001b[49m\u001b[43m(\u001b[49m\u001b[38;5;124;43m\"\u001b[39;49m\u001b[38;5;124;43mmemory_map\u001b[39;49m\u001b[38;5;124;43m\"\u001b[39;49m\u001b[43m,\u001b[49m\u001b[43m \u001b[49m\u001b[38;5;28;43;01mFalse\u001b[39;49;00m\u001b[43m)\u001b[49m\u001b[43m,\u001b[49m\n\u001b[1;32m   1741\u001b[0m \u001b[43m    \u001b[49m\u001b[43mis_text\u001b[49m\u001b[38;5;241;43m=\u001b[39;49m\u001b[43mis_text\u001b[49m\u001b[43m,\u001b[49m\n\u001b[1;32m   1742\u001b[0m \u001b[43m    \u001b[49m\u001b[43merrors\u001b[49m\u001b[38;5;241;43m=\u001b[39;49m\u001b[38;5;28;43mself\u001b[39;49m\u001b[38;5;241;43m.\u001b[39;49m\u001b[43moptions\u001b[49m\u001b[38;5;241;43m.\u001b[39;49m\u001b[43mget\u001b[49m\u001b[43m(\u001b[49m\u001b[38;5;124;43m\"\u001b[39;49m\u001b[38;5;124;43mencoding_errors\u001b[39;49m\u001b[38;5;124;43m\"\u001b[39;49m\u001b[43m,\u001b[49m\u001b[43m \u001b[49m\u001b[38;5;124;43m\"\u001b[39;49m\u001b[38;5;124;43mstrict\u001b[39;49m\u001b[38;5;124;43m\"\u001b[39;49m\u001b[43m)\u001b[49m\u001b[43m,\u001b[49m\n\u001b[1;32m   1743\u001b[0m \u001b[43m    \u001b[49m\u001b[43mstorage_options\u001b[49m\u001b[38;5;241;43m=\u001b[39;49m\u001b[38;5;28;43mself\u001b[39;49m\u001b[38;5;241;43m.\u001b[39;49m\u001b[43moptions\u001b[49m\u001b[38;5;241;43m.\u001b[39;49m\u001b[43mget\u001b[49m\u001b[43m(\u001b[49m\u001b[38;5;124;43m\"\u001b[39;49m\u001b[38;5;124;43mstorage_options\u001b[39;49m\u001b[38;5;124;43m\"\u001b[39;49m\u001b[43m,\u001b[49m\u001b[43m \u001b[49m\u001b[38;5;28;43;01mNone\u001b[39;49;00m\u001b[43m)\u001b[49m\u001b[43m,\u001b[49m\n\u001b[1;32m   1744\u001b[0m \u001b[43m\u001b[49m\u001b[43m)\u001b[49m\n\u001b[1;32m   1745\u001b[0m \u001b[38;5;28;01massert\u001b[39;00m \u001b[38;5;28mself\u001b[39m\u001b[38;5;241m.\u001b[39mhandles \u001b[38;5;129;01mis\u001b[39;00m \u001b[38;5;129;01mnot\u001b[39;00m \u001b[38;5;28;01mNone\u001b[39;00m\n\u001b[1;32m   1746\u001b[0m f \u001b[38;5;241m=\u001b[39m \u001b[38;5;28mself\u001b[39m\u001b[38;5;241m.\u001b[39mhandles\u001b[38;5;241m.\u001b[39mhandle\n",
      "File \u001b[0;32m/opt/hostedtoolcache/Python/3.8.16/x64/lib/python3.8/site-packages/pandas/io/common.py:856\u001b[0m, in \u001b[0;36mget_handle\u001b[0;34m(path_or_buf, mode, encoding, compression, memory_map, is_text, errors, storage_options)\u001b[0m\n\u001b[1;32m    851\u001b[0m \u001b[38;5;28;01melif\u001b[39;00m \u001b[38;5;28misinstance\u001b[39m(handle, \u001b[38;5;28mstr\u001b[39m):\n\u001b[1;32m    852\u001b[0m     \u001b[38;5;66;03m# Check whether the filename is to be opened in binary mode.\u001b[39;00m\n\u001b[1;32m    853\u001b[0m     \u001b[38;5;66;03m# Binary mode does not support 'encoding' and 'newline'.\u001b[39;00m\n\u001b[1;32m    854\u001b[0m     \u001b[38;5;28;01mif\u001b[39;00m ioargs\u001b[38;5;241m.\u001b[39mencoding \u001b[38;5;129;01mand\u001b[39;00m \u001b[38;5;124m\"\u001b[39m\u001b[38;5;124mb\u001b[39m\u001b[38;5;124m\"\u001b[39m \u001b[38;5;129;01mnot\u001b[39;00m \u001b[38;5;129;01min\u001b[39;00m ioargs\u001b[38;5;241m.\u001b[39mmode:\n\u001b[1;32m    855\u001b[0m         \u001b[38;5;66;03m# Encoding\u001b[39;00m\n\u001b[0;32m--> 856\u001b[0m         handle \u001b[38;5;241m=\u001b[39m \u001b[38;5;28;43mopen\u001b[39;49m\u001b[43m(\u001b[49m\n\u001b[1;32m    857\u001b[0m \u001b[43m            \u001b[49m\u001b[43mhandle\u001b[49m\u001b[43m,\u001b[49m\n\u001b[1;32m    858\u001b[0m \u001b[43m            \u001b[49m\u001b[43mioargs\u001b[49m\u001b[38;5;241;43m.\u001b[39;49m\u001b[43mmode\u001b[49m\u001b[43m,\u001b[49m\n\u001b[1;32m    859\u001b[0m \u001b[43m            \u001b[49m\u001b[43mencoding\u001b[49m\u001b[38;5;241;43m=\u001b[39;49m\u001b[43mioargs\u001b[49m\u001b[38;5;241;43m.\u001b[39;49m\u001b[43mencoding\u001b[49m\u001b[43m,\u001b[49m\n\u001b[1;32m    860\u001b[0m \u001b[43m            \u001b[49m\u001b[43merrors\u001b[49m\u001b[38;5;241;43m=\u001b[39;49m\u001b[43merrors\u001b[49m\u001b[43m,\u001b[49m\n\u001b[1;32m    861\u001b[0m \u001b[43m            \u001b[49m\u001b[43mnewline\u001b[49m\u001b[38;5;241;43m=\u001b[39;49m\u001b[38;5;124;43m\"\u001b[39;49m\u001b[38;5;124;43m\"\u001b[39;49m\u001b[43m,\u001b[49m\n\u001b[1;32m    862\u001b[0m \u001b[43m        \u001b[49m\u001b[43m)\u001b[49m\n\u001b[1;32m    863\u001b[0m     \u001b[38;5;28;01melse\u001b[39;00m:\n\u001b[1;32m    864\u001b[0m         \u001b[38;5;66;03m# Binary mode\u001b[39;00m\n\u001b[1;32m    865\u001b[0m         handle \u001b[38;5;241m=\u001b[39m \u001b[38;5;28mopen\u001b[39m(handle, ioargs\u001b[38;5;241m.\u001b[39mmode)\n",
      "\u001b[0;31mFileNotFoundError\u001b[0m: [Errno 2] No such file or directory: '/home/runner/.meerkat/datasets/imagenette/160px/imagenette2-160/noisy_imagenette.csv'"
     ]
    }
   ],
   "source": [
    "import meerkat as mk\n",
    "df = mk.get(\"imagenette\", version=\"160px\")"
   ]
  },
  {
   "cell_type": "markdown",
   "id": "e50b3750",
   "metadata": {},
   "source": [
    "Below is an overview of the data selection methods discussed in this guide.\n",
    "\n",
    "```{contents}\n",
    ":local:\n",
    "```\n",
    "\n",
    "## Selecting Columns\n",
    "\n",
    "The columns in a DataFrame are uniquely identified by `str` names. The code\n",
    "below displays the column names in the Imagenette data frame we loaded above:"
   ]
  },
  {
   "cell_type": "code",
   "execution_count": null,
   "id": "4207763c",
   "metadata": {},
   "outputs": [],
   "source": [
    "df.columns"
   ]
  },
  {
   "cell_type": "markdown",
   "id": "f1589bc8",
   "metadata": {},
   "source": [
    "Using these column names, we can pull out an individual column or a subset of them as a new DataFrame.\n",
    "\n",
    "### Selecting a Single Column\n",
    "\n",
    "#### `str` -> {class}`~meerkat.Column`\n",
    "\n",
    "To select a single column, we simply pass it's name to the index operator. For example,"
   ]
  },
  {
   "cell_type": "code",
   "execution_count": null,
   "id": "20256f2b",
   "metadata": {},
   "outputs": [],
   "source": [
    "   col = df[\"img\"]\n",
    "   col.head()"
   ]
  },
  {
   "cell_type": "markdown",
   "id": "c46b0fbf",
   "metadata": {},
   "source": [
    "Passing a `str` that isn't among the column names will raise a `KeyError`.\n",
    "\n",
    "It may be helpful to think of a DataFrame as a dictionary mapping column names to columns.\n",
    "\n",
    "Indeed, a DataFrame implements other parts of the `dict` interface including :meth:`~meerkat.DataFrame.keys()`, :meth:`~meerkat.DataFrame.values()`, and :meth:`~meerkat.DataFrame.items()`. Unlike a dictionary, multiple columns in a DataFrame can be selected at once.\n",
    "\n",
    "### Selecting Multiple Columns\n",
    "\n",
    "#### `List[str]` -> {class}`~meerkat.DataFrame`\n",
    "\n",
    "You can select multiple columns by passing a list of column names. Doing so will return a new DataFrame with a subset of the columns in the original. For example,"
   ]
  },
  {
   "cell_type": "code",
   "execution_count": null,
   "id": "3f651554",
   "metadata": {},
   "outputs": [],
   "source": [
    "    df = df[[\"img\", \"img_id\", \"label\"]]\n",
    "    df.head()"
   ]
  },
  {
   "cell_type": "markdown",
   "id": "691e94a4",
   "metadata": {},
   "source": [
    "Passing a `str` that isn't among the column names will raise a `KeyError`.\n",
    "\n",
    "```{admonition} Copy vs. Reference\n",
    "See {doc}`copying` for more information.\n",
    "\n",
    "You may be wondering whether the columns returned by indexing are copies of the columns in the original DataFrame. The columns returned by the index operator reference the same columns in the original DataFrame. This means that modifying the columns returned by the index operator will modify the columns in the original DataFrame.\n",
    "```\n",
    "\n",
    "## Selecting Rows by Position\n",
    "\n",
    "In Meerkat, the rows of a DataFrame or Column are ordered. This means that rows are uniquely identified by their position in the DataFrame or Column (similar to how the elements of a [Python List](https://www.w3schools.com/python/python_lists.asp) are uniquely identified by their position in the list).\n",
    "\n",
    "Row indices range from 0 to the number of rows in the DataFrame or Column minus one. To see how many rows a DataFrame or a column has we can use `len()`. For example,"
   ]
  },
  {
   "cell_type": "code",
   "execution_count": null,
   "id": "9e1fbc99",
   "metadata": {},
   "outputs": [],
   "source": [
    "   len(df)"
   ]
  },
  {
   "cell_type": "markdown",
   "id": "1c93b09c",
   "metadata": {},
   "source": [
    "Above we mentioned how a DataFrame could be viewed as a dictionary mapping column names to columns. Equivalently, it also may be helpful to think of a DataFrame as a list of dictionaries mapping column names to values. The DataFrame interface supports both of these views – under the hood, storage is organized so as to make both column and row accesses fast.\n",
    "\n",
    "### Selecting a Single Row by Position\n",
    "\n",
    "#### `int` -> {class}`~meerkat.Row`\n",
    "\n",
    "To select a single row from a DataFrame, we simply pass it's position to the index operator."
   ]
  },
  {
   "cell_type": "code",
   "execution_count": null,
   "id": "448f9f31",
   "metadata": {},
   "outputs": [],
   "source": [
    "   row = df[2]\n",
    "   row"
   ]
  },
  {
   "cell_type": "markdown",
   "id": "8818e624",
   "metadata": {},
   "source": [
    "Passing an `int` that is less than `0` or greater than `len(df)` will raise an `IndexError`.\n",
    "\n",
    "Notice that `row` holds a {class}`~meerkat.FileCell` object, not a [PIL Image](https://pillow.readthedocs.io/en/stable/reference/Image.html) or other in-memory image object.\n",
    "The \"image\" has not yet been loaded from disk into memory. The {class}`~meerkat.FileCell` knows how to load the image into memory, but stops just short of doing so.\n",
    "Later on, when we want to access the image, we can _call_ the row or cell to load the image into memory."
   ]
  },
  {
   "cell_type": "code",
   "execution_count": null,
   "id": "24f2b45f",
   "metadata": {},
   "outputs": [],
   "source": [
    "   row()"
   ]
  },
  {
   "cell_type": "code",
   "execution_count": null,
   "id": "22eeb6c4",
   "metadata": {},
   "outputs": [],
   "source": [
    "   row[\"img\"]()"
   ]
  },
  {
   "cell_type": "markdown",
   "id": "ef561dd6",
   "metadata": {},
   "source": [
    "_Why do we wait to load the image into memory?_ Image datasets often don't fit into memory. By deferring the loading of images until they are needed, we can manipulate large image datasets quickly.\n",
    "\n",
    "```{admonition} Materializing Deferred Columns\n",
    "The images in `df` are stored in a subclass of {class}`~meerkat.DeferredColumn` called {class}`~meerkat.ImageColumn`.\n",
    "Deferred columns are a special type of column that defer the materialization of data until it is needed. They play a central role in Meerkat as they make it easy to work with large data types like images and videos.\n",
    "Learn more in the {doc}`deferred` guide.\n",
    "```\n",
    "\n",
    "#### `int` -> {class}`Any`\n",
    "\n",
    "The same position-based indexing works for selecting a single cell from a Column."
   ]
  },
  {
   "cell_type": "code",
   "execution_count": null,
   "id": "f3130cdd",
   "metadata": {},
   "outputs": [],
   "source": [
    "col = df[\"label\"]\n",
    "col[2]"
   ]
  },
  {
   "cell_type": "markdown",
   "id": "e0dcd9e5",
   "metadata": {},
   "source": [
    "Passing an `int` that is less than `0` or greater than `len(df[\"label\"])` will raise an `IndexError`.\n",
    "\n",
    "### Selecting Multiple Rows by Position\n",
    "\n",
    "There are three different ways we can select a subset of rows from a DataFrame or Column: via `slice`, `Sequence[int]`, or `Sequence[bool]`.\n",
    "\n",
    "#### `slice` -> {class}`~meerkat.DataFrame`\n",
    "\n",
    "To select a set of contiguous rows from a DataFrame, we can use an integer slice `[start:end]`.\n",
    "The subset of rows will be returned as a new DataFrame."
   ]
  },
  {
   "cell_type": "code",
   "execution_count": null,
   "id": "d85322c4",
   "metadata": {},
   "outputs": [],
   "source": [
    "    df[50:100]"
   ]
  },
  {
   "cell_type": "markdown",
   "id": "98efe1e9",
   "metadata": {},
   "source": [
    "We can also use integer slices to select a set of evenly spaced rows from a DataFrame `[start:end:step]`. For example, below we select every tenth row from the first 100 rows in the DataFrame."
   ]
  },
  {
   "cell_type": "code",
   "execution_count": null,
   "id": "384fcfa0",
   "metadata": {},
   "outputs": [],
   "source": [
    "    df[0:100:10]"
   ]
  },
  {
   "cell_type": "markdown",
   "id": "46e266c2",
   "metadata": {},
   "source": [
    "#### `Sequence[int]` -> {class}`~meerkat.DataFrame`\n",
    "\n",
    "To select multiple rows from a DataFrame we can also pass a list of `int`."
   ]
  },
  {
   "cell_type": "code",
   "execution_count": null,
   "id": "89755e4e",
   "metadata": {},
   "outputs": [],
   "source": [
    "    small_df = df[[0, 2, 5, 8, 17]]\n",
    "    small_df"
   ]
  },
  {
   "cell_type": "markdown",
   "id": "cd929978",
   "metadata": {},
   "source": [
    "Other valid sequences of `int` that can be used to index are:\n",
    "\n",
    "- `Tuple[int]` – a tuple of integers.\n",
    "- `np.ndarray[np.integer]` - a NumPy NDArray with `dtype` `np.integer`.\n",
    "- `pd.Series[np.integer]` - a Pandas Series with `dtype` `np.integer`.\n",
    "- `torch.Tensor[torch.int64]` - a PyTorch Tensor with `dtype` `torch.int`.\n",
    "- `mk.Column` - a Meerkat column who's cells are `int`, `np.integer`, or `torch.int64`.\n",
    "\n",
    "This is useful when the rows are neither contiguous nor evenly spaced (otherwise slice indexing, described above, is faster).\n",
    "\n",
    "#### `Sequence[bool]` -> {class}`~meerkat.DataFrame`\n",
    "\n",
    "To select multiple rows from a DataFrame we can also pass a list of `bool` the\n",
    "same length as the DataFrame. Below we select the first and last rows from\n",
    "the smaller DataFrame `small_df` that we selected in the panel above."
   ]
  },
  {
   "cell_type": "code",
   "execution_count": null,
   "id": "bf761c70",
   "metadata": {},
   "outputs": [],
   "source": [
    "small_df[[True, False, False, False, True]]"
   ]
  },
  {
   "cell_type": "markdown",
   "id": "095b4f3d",
   "metadata": {},
   "source": [
    "Other valid sequences of `bool` that can be used to select are:\n",
    "\n",
    "- `Tuple[bool]` – a tuple of bool.\n",
    "- `np.ndarray[bool]` - a NumPy NDArray with `dtype` `bool`.\n",
    "- `pd.Series[bool]` - a Pandas Series with `dtype` `bool`.\n",
    "- `torch.Tensor[torch.bool]` - a PyTorch Tensor with `dtype` `torch.bool`.\n",
    "- `mk.Column` - a Meerkat column who's cells are `int`, `bool`, or `torch.bool`.\n",
    "\n",
    "This is very useful for quickly selecting a subset of rows that satisfy a predicate\n",
    "(like you might do with a `WHERE` clause in SQL).\n",
    "For example, say we want to select all rows that have a value of `\"parachute\"` in\n",
    "the `\"label\"` column. We could do this using the following code:"
   ]
  },
  {
   "cell_type": "code",
   "execution_count": null,
   "id": "4ad44335",
   "metadata": {},
   "outputs": [],
   "source": [
    "    parachute_df = df[df[\"label\"] == \"parachute\"]\n",
    "    parachute_df.head()"
   ]
  },
  {
   "cell_type": "markdown",
   "id": "50e7a93e",
   "metadata": {},
   "source": [
    "```{admonition} Copy vs. Reference\n",
    "\n",
    "See {doc}`advanced/copying.rst` for more information.\n",
    "\n",
    "You may be wondering whether the rows returned by indexing are copies or references of the rows in the original DataFrame.\n",
    "This depends on (1) which of the selection strategies above you use (``slice`` vs. ``Sequence[int]`` vs. ``Sequence[bool]``)  and (2) the column type (*e.g.* {class}`PandasSeriesColumn`, {class}`TensorColumn`).\n",
    "\n",
    "In general, columns inherit the copying behavior of their underlying data structure.\n",
    "For example, a {class}`TensorColumn` has the copying behavior of a NumPy array, as described in the `Numpy indexing documentation <https://numpy.org/doc/stable/reference/arrays.indexing.html>`_.\n",
    "See a more detailed discussion in {doc}`advanced/copying.rst` .\n",
    "```\n",
    "\n",
    "(key-based-selection)=\n",
    "\n",
    "## Selecting Rows by Key\n",
    "\n",
    "It is also possible to select rows from a DataFrame by a key column.\n",
    "In Meerkat, a key column is a {class}`~meerkat.ScalarColumn` containing `str` or `int` values that uniquely identify each row. The primary key in Meerkat is analogous to the primary key in a SQL database or the index in a Pandas DataFrame.\n",
    "\n",
    "The primary key of `df` is the `\"img_id\"` column."
   ]
  },
  {
   "cell_type": "code",
   "execution_count": null,
   "id": "c9e28aa2",
   "metadata": {},
   "outputs": [],
   "source": [
    "    print(df.primary_key_name)\n",
    "    df.primary_key"
   ]
  },
  {
   "cell_type": "markdown",
   "id": "1629e44f",
   "metadata": {},
   "source": [
    "The primary key can be set using {func}`~meerkat.DataFrame.set_primary_key`, which takes a column name or a {class}`~meerkat.ScalarColumn` as input.\n",
    "\n",
    "### Selecting a Single Row by Key\n",
    "\n",
    "#### `str|int` -> {class}`~meerkat.Row`\n",
    "\n",
    "To select a single row from a DataFrame by key, we can use the `.loc[]` operator and pass a key value."
   ]
  },
  {
   "cell_type": "code",
   "execution_count": null,
   "id": "495b02c3",
   "metadata": {},
   "outputs": [],
   "source": [
    "    df.loc[\"n03888257_37776\"]"
   ]
  },
  {
   "cell_type": "markdown",
   "id": "c35086e2",
   "metadata": {},
   "source": [
    "### Selecting Multiple Rows by Key\n",
    "\n",
    "#### `Sequence[str|int]` -> {class}`~meerkat.DataFrame`\n",
    "\n",
    "We can also select a subset of rows in a DataFrame by passing a list of key values to `.loc[]`."
   ]
  },
  {
   "cell_type": "code",
   "execution_count": null,
   "id": "b46268a9",
   "metadata": {},
   "outputs": [],
   "source": [
    "    df.loc[[\"n03888257_37776\", \"n03425413_20711\", \"n03425413_1242\"]]"
   ]
  },
  {
   "cell_type": "markdown",
   "id": "b702051e",
   "metadata": {},
   "source": [
    "Passing a `str|int` that isn't in the primary key will raise a `KeyError`.\n",
    "\n",
    "```{admonition} For Pandas Users\n",
    "\n",
    "``index vs. primary key``:\n",
    "Pandas DataFrames maintain an index object that is separate from the DataFrame's columns.\n",
    "The index object is used to select rows by key using the ``.loc[]`` indexer.\n",
    "In Meerkat, there is no separate index object.\n",
    "Instead, we designate one of the columns the primary key and can select rows based on the values in that column using ``.loc[]``.\n",
    "The Meerkat approach, where the primary key is a column in the DataFrame, resembles the approach taken by most SQL databases.\n",
    "\n",
    "``.iloc``:\n",
    "Pandas users are likely familiar with ``.loc`` properties of DataFrame and Series.\n",
    "These properties are used to select data by integer position and by key in the index, respectively.\n",
    "In Meerkat, we do not support ``.iloc`` – to index by position, simply apply the index operator `[]` directly to the object.\n",
    "```"
   ]
  }
 ],
 "metadata": {
  "file_format": "mystnb",
  "kernelspec": {
   "display_name": "python3",
   "name": "python3"
  },
  "language_info": {
   "codemirror_mode": {
    "name": "ipython",
    "version": 3
   },
   "file_extension": ".py",
   "mimetype": "text/x-python",
   "name": "python",
   "nbconvert_exporter": "python",
   "pygments_lexer": "ipython3",
   "version": "3.8.16"
  },
  "source_map": [
   5,
   15,
   18,
   31,
   33,
   43,
   46,
   60,
   63,
   79,
   81,
   91,
   94,
   102,
   106,
   108,
   122,
   125,
   138,
   140,
   144,
   146,
   152,
   155,
   173,
   176,
   191,
   194,
   217,
   220,
   230,
   232,
   240,
   242
  ]
 },
 "nbformat": 4,
 "nbformat_minor": 5
}