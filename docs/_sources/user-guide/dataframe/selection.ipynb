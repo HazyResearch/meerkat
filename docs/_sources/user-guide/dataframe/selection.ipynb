{
 "cells": [
  {
   "cell_type": "markdown",
   "id": "7879479b",
   "metadata": {},
   "source": [
    "(guide/dataframe/selection)=\n",
    "\n",
    "# Data Selection\n",
    "\n",
    "As discussed in the {doc}`intro`, there are two key data structures in Meerkat: the Column and the DataFrame. In this guide, we'll demonstrate how to access the data stored within them.\n",
    "\n",
    "Throughout, we'll be selecting data from the following DataFrame, which holds the Imagenette dataset, a small subset of the original ImageNet. This DataFrame includes a column holding images, a column holding their labels, and a few others."
   ]
  },
  {
   "cell_type": "code",
   "execution_count": 1,
   "id": "735321bf",
   "metadata": {},
   "outputs": [],
   "source": [
    "import meerkat as mk\n",
    "df = mk.get(\"imagenette\", version=\"160px\")"
   ]
  },
  {
   "cell_type": "markdown",
   "id": "1931eda5",
   "metadata": {},
   "source": [
    "Below is an overview of the data selection methods discussed in this guide.\n",
    "\n",
    "```{contents}\n",
    ":local:\n",
    "```\n",
    "\n",
    "## Selecting Columns\n",
    "\n",
    "The columns in a DataFrame are uniquely identified by `str` names. The code\n",
    "below displays the column names in the Imagenette data frame we loaded above:"
   ]
  },
  {
   "cell_type": "code",
   "execution_count": 2,
   "id": "7a55d272",
   "metadata": {},
   "outputs": [
    {
     "data": {
      "text/plain": [
       "['path',\n",
       " 'noisy_labels_0',\n",
       " 'noisy_labels_1',\n",
       " 'noisy_labels_5',\n",
       " 'noisy_labels_25',\n",
       " 'noisy_labels_50',\n",
       " 'is_valid',\n",
       " 'label_id',\n",
       " 'label',\n",
       " 'label_idx',\n",
       " 'split',\n",
       " 'img_path',\n",
       " 'img_id',\n",
       " 'index',\n",
       " 'img']"
      ]
     },
     "execution_count": 2,
     "metadata": {},
     "output_type": "execute_result"
    }
   ],
   "source": [
    "df.columns"
   ]
  },
  {
   "cell_type": "markdown",
   "id": "2ae1ec13",
   "metadata": {},
   "source": [
    "Using these column names, we can pull out an individual column or a subset of them as a new DataFrame.\n",
    "\n",
    "### Selecting a Single Column\n",
    "\n",
    "#### `str` -> {class}`~meerkat.Column`\n",
    "\n",
    "To select a single column, we simply pass it's name to the index operator. For example,"
   ]
  },
  {
   "cell_type": "code",
   "execution_count": 3,
   "id": "e9711144",
   "metadata": {},
   "outputs": [
    {
     "ename": "FileNotFoundError",
     "evalue": "[Errno 2] No such file or directory: '/home/runner/.meerkat/datasets/imagenette/160px/imagenette2-160/train/n02979186/n02979186_9036.JPEG'",
     "output_type": "error",
     "traceback": [
      "\u001b[0;31m---------------------------------------------------------------------------\u001b[0m",
      "\u001b[0;31mFileNotFoundError\u001b[0m                         Traceback (most recent call last)",
      "File \u001b[0;32m/opt/hostedtoolcache/Python/3.8.16/x64/lib/python3.8/site-packages/IPython/core/formatters.py:342\u001b[0m, in \u001b[0;36mBaseFormatter.__call__\u001b[0;34m(self, obj)\u001b[0m\n\u001b[1;32m    340\u001b[0m     method \u001b[38;5;241m=\u001b[39m get_real_method(obj, \u001b[38;5;28mself\u001b[39m\u001b[38;5;241m.\u001b[39mprint_method)\n\u001b[1;32m    341\u001b[0m     \u001b[38;5;28;01mif\u001b[39;00m method \u001b[38;5;129;01mis\u001b[39;00m \u001b[38;5;129;01mnot\u001b[39;00m \u001b[38;5;28;01mNone\u001b[39;00m:\n\u001b[0;32m--> 342\u001b[0m         \u001b[38;5;28;01mreturn\u001b[39;00m \u001b[43mmethod\u001b[49m\u001b[43m(\u001b[49m\u001b[43m)\u001b[49m\n\u001b[1;32m    343\u001b[0m     \u001b[38;5;28;01mreturn\u001b[39;00m \u001b[38;5;28;01mNone\u001b[39;00m\n\u001b[1;32m    344\u001b[0m \u001b[38;5;28;01melse\u001b[39;00m:\n",
      "File \u001b[0;32m~/work/meerkat/meerkat/meerkat/interactive/graph/marking.py:74\u001b[0m, in \u001b[0;36munmarked.__call__.<locals>.decorate_context\u001b[0;34m(*args, **kwargs)\u001b[0m\n\u001b[1;32m     71\u001b[0m \u001b[38;5;129m@wraps\u001b[39m(func)\n\u001b[1;32m     72\u001b[0m \u001b[38;5;28;01mdef\u001b[39;00m \u001b[38;5;21mdecorate_context\u001b[39m(\u001b[38;5;241m*\u001b[39margs, \u001b[38;5;241m*\u001b[39m\u001b[38;5;241m*\u001b[39mkwargs):\n\u001b[1;32m     73\u001b[0m     \u001b[38;5;28;01mwith\u001b[39;00m \u001b[38;5;28mself\u001b[39m\u001b[38;5;241m.\u001b[39mclone():\n\u001b[0;32m---> 74\u001b[0m         \u001b[38;5;28;01mreturn\u001b[39;00m \u001b[43mreactive\u001b[49m\u001b[43m(\u001b[49m\u001b[43mfunc\u001b[49m\u001b[43m,\u001b[49m\u001b[43m \u001b[49m\u001b[43mnested_return\u001b[49m\u001b[38;5;241;43m=\u001b[39;49m\u001b[38;5;28;43;01mFalse\u001b[39;49;00m\u001b[43m)\u001b[49m\u001b[43m(\u001b[49m\u001b[38;5;241;43m*\u001b[39;49m\u001b[43margs\u001b[49m\u001b[43m,\u001b[49m\u001b[43m \u001b[49m\u001b[38;5;241;43m*\u001b[39;49m\u001b[38;5;241;43m*\u001b[39;49m\u001b[43mkwargs\u001b[49m\u001b[43m)\u001b[49m\n",
      "File \u001b[0;32m~/work/meerkat/meerkat/meerkat/interactive/graph/reactivity.py:204\u001b[0m, in \u001b[0;36mreactive.<locals>.__reactive.<locals>.wrapper\u001b[0;34m(*args, **kwargs)\u001b[0m\n\u001b[1;32m    202\u001b[0m \u001b[38;5;66;03m# Call the function on the args and kwargs\u001b[39;00m\n\u001b[1;32m    203\u001b[0m \u001b[38;5;28;01mwith\u001b[39;00m unmarked():\n\u001b[0;32m--> 204\u001b[0m     result \u001b[38;5;241m=\u001b[39m \u001b[43mfn\u001b[49m\u001b[43m(\u001b[49m\u001b[38;5;241;43m*\u001b[39;49m\u001b[43munpacked_args\u001b[49m\u001b[43m,\u001b[49m\u001b[43m \u001b[49m\u001b[38;5;241;43m*\u001b[39;49m\u001b[38;5;241;43m*\u001b[39;49m\u001b[43munpacked_kwargs\u001b[49m\u001b[43m)\u001b[49m\n\u001b[1;32m    206\u001b[0m \u001b[38;5;66;03m# TODO: Check if result is equal to one of the inputs.\u001b[39;00m\n\u001b[1;32m    207\u001b[0m \u001b[38;5;66;03m# If it is, we need to copy it.\u001b[39;00m\n\u001b[1;32m    209\u001b[0m \u001b[38;5;28;01mif\u001b[39;00m _is_unmarked_context \u001b[38;5;129;01mor\u001b[39;00m _force_no_react \u001b[38;5;129;01mor\u001b[39;00m \u001b[38;5;129;01mnot\u001b[39;00m any_inputs_marked:\n\u001b[1;32m    210\u001b[0m     \u001b[38;5;66;03m# If we are in an unmarked context, then we don't need to create\u001b[39;00m\n\u001b[1;32m    211\u001b[0m     \u001b[38;5;66;03m# any nodes in the graph.\u001b[39;00m\n\u001b[1;32m    212\u001b[0m     \u001b[38;5;66;03m# `fn` should be run as normal.\u001b[39;00m\n",
      "File \u001b[0;32m~/work/meerkat/meerkat/meerkat/columns/abstract.py:354\u001b[0m, in \u001b[0;36mColumn._repr_html_\u001b[0;34m(self, max_rows)\u001b[0m\n\u001b[1;32m    352\u001b[0m df \u001b[38;5;241m=\u001b[39m col\u001b[38;5;241m.\u001b[39mto_frame(name\u001b[38;5;241m=\u001b[39mcol_name)\n\u001b[1;32m    353\u001b[0m df \u001b[38;5;241m=\u001b[39m df\u001b[38;5;241m.\u001b[39mset_index(pd_index\u001b[38;5;241m.\u001b[39mastype(\u001b[38;5;28mint\u001b[39m))\n\u001b[0;32m--> 354\u001b[0m \u001b[38;5;28;01mreturn\u001b[39;00m \u001b[43mdf\u001b[49m\u001b[38;5;241;43m.\u001b[39;49m\u001b[43mto_html\u001b[49m\u001b[43m(\u001b[49m\n\u001b[1;32m    355\u001b[0m \u001b[43m    \u001b[49m\u001b[43mmax_rows\u001b[49m\u001b[38;5;241;43m=\u001b[39;49m\u001b[43mmax_rows\u001b[49m\u001b[43m,\u001b[49m\n\u001b[1;32m    356\u001b[0m \u001b[43m    \u001b[49m\u001b[43mformatters\u001b[49m\u001b[38;5;241;43m=\u001b[39;49m\u001b[43m{\u001b[49m\u001b[43mcol_name\u001b[49m\u001b[43m:\u001b[49m\u001b[43m \u001b[49m\u001b[43mformatter\u001b[49m\u001b[43m}\u001b[49m\u001b[43m,\u001b[49m\n\u001b[1;32m    357\u001b[0m \u001b[43m    \u001b[49m\u001b[43mescape\u001b[49m\u001b[38;5;241;43m=\u001b[39;49m\u001b[38;5;28;43;01mFalse\u001b[39;49;00m\u001b[43m,\u001b[49m\n\u001b[1;32m    358\u001b[0m \u001b[43m\u001b[49m\u001b[43m)\u001b[49m\n",
      "File \u001b[0;32m/opt/hostedtoolcache/Python/3.8.16/x64/lib/python3.8/site-packages/pandas/core/frame.py:3218\u001b[0m, in \u001b[0;36mDataFrame.to_html\u001b[0;34m(self, buf, columns, col_space, header, index, na_rep, formatters, float_format, sparsify, index_names, justify, max_rows, max_cols, show_dimensions, decimal, bold_rows, classes, escape, notebook, border, table_id, render_links, encoding)\u001b[0m\n\u001b[1;32m   3198\u001b[0m formatter \u001b[38;5;241m=\u001b[39m fmt\u001b[38;5;241m.\u001b[39mDataFrameFormatter(\n\u001b[1;32m   3199\u001b[0m     \u001b[38;5;28mself\u001b[39m,\n\u001b[1;32m   3200\u001b[0m     columns\u001b[38;5;241m=\u001b[39mcolumns,\n\u001b[0;32m   (...)\u001b[0m\n\u001b[1;32m   3215\u001b[0m     show_dimensions\u001b[38;5;241m=\u001b[39mshow_dimensions,\n\u001b[1;32m   3216\u001b[0m )\n\u001b[1;32m   3217\u001b[0m \u001b[38;5;66;03m# TODO: a generic formatter wld b in DataFrameFormatter\u001b[39;00m\n\u001b[0;32m-> 3218\u001b[0m \u001b[38;5;28;01mreturn\u001b[39;00m \u001b[43mfmt\u001b[49m\u001b[38;5;241;43m.\u001b[39;49m\u001b[43mDataFrameRenderer\u001b[49m\u001b[43m(\u001b[49m\u001b[43mformatter\u001b[49m\u001b[43m)\u001b[49m\u001b[38;5;241;43m.\u001b[39;49m\u001b[43mto_html\u001b[49m\u001b[43m(\u001b[49m\n\u001b[1;32m   3219\u001b[0m \u001b[43m    \u001b[49m\u001b[43mbuf\u001b[49m\u001b[38;5;241;43m=\u001b[39;49m\u001b[43mbuf\u001b[49m\u001b[43m,\u001b[49m\n\u001b[1;32m   3220\u001b[0m \u001b[43m    \u001b[49m\u001b[43mclasses\u001b[49m\u001b[38;5;241;43m=\u001b[39;49m\u001b[43mclasses\u001b[49m\u001b[43m,\u001b[49m\n\u001b[1;32m   3221\u001b[0m \u001b[43m    \u001b[49m\u001b[43mnotebook\u001b[49m\u001b[38;5;241;43m=\u001b[39;49m\u001b[43mnotebook\u001b[49m\u001b[43m,\u001b[49m\n\u001b[1;32m   3222\u001b[0m \u001b[43m    \u001b[49m\u001b[43mborder\u001b[49m\u001b[38;5;241;43m=\u001b[39;49m\u001b[43mborder\u001b[49m\u001b[43m,\u001b[49m\n\u001b[1;32m   3223\u001b[0m \u001b[43m    \u001b[49m\u001b[43mencoding\u001b[49m\u001b[38;5;241;43m=\u001b[39;49m\u001b[43mencoding\u001b[49m\u001b[43m,\u001b[49m\n\u001b[1;32m   3224\u001b[0m \u001b[43m    \u001b[49m\u001b[43mtable_id\u001b[49m\u001b[38;5;241;43m=\u001b[39;49m\u001b[43mtable_id\u001b[49m\u001b[43m,\u001b[49m\n\u001b[1;32m   3225\u001b[0m \u001b[43m    \u001b[49m\u001b[43mrender_links\u001b[49m\u001b[38;5;241;43m=\u001b[39;49m\u001b[43mrender_links\u001b[49m\u001b[43m,\u001b[49m\n\u001b[1;32m   3226\u001b[0m \u001b[43m\u001b[49m\u001b[43m)\u001b[49m\n",
      "File \u001b[0;32m/opt/hostedtoolcache/Python/3.8.16/x64/lib/python3.8/site-packages/pandas/io/formats/format.py:1110\u001b[0m, in \u001b[0;36mDataFrameRenderer.to_html\u001b[0;34m(self, buf, encoding, classes, notebook, border, table_id, render_links)\u001b[0m\n\u001b[1;32m   1101\u001b[0m Klass \u001b[38;5;241m=\u001b[39m NotebookFormatter \u001b[38;5;28;01mif\u001b[39;00m notebook \u001b[38;5;28;01melse\u001b[39;00m HTMLFormatter\n\u001b[1;32m   1103\u001b[0m html_formatter \u001b[38;5;241m=\u001b[39m Klass(\n\u001b[1;32m   1104\u001b[0m     \u001b[38;5;28mself\u001b[39m\u001b[38;5;241m.\u001b[39mfmt,\n\u001b[1;32m   1105\u001b[0m     classes\u001b[38;5;241m=\u001b[39mclasses,\n\u001b[0;32m   (...)\u001b[0m\n\u001b[1;32m   1108\u001b[0m     render_links\u001b[38;5;241m=\u001b[39mrender_links,\n\u001b[1;32m   1109\u001b[0m )\n\u001b[0;32m-> 1110\u001b[0m string \u001b[38;5;241m=\u001b[39m \u001b[43mhtml_formatter\u001b[49m\u001b[38;5;241;43m.\u001b[39;49m\u001b[43mto_string\u001b[49m\u001b[43m(\u001b[49m\u001b[43m)\u001b[49m\n\u001b[1;32m   1111\u001b[0m \u001b[38;5;28;01mreturn\u001b[39;00m save_to_buffer(string, buf\u001b[38;5;241m=\u001b[39mbuf, encoding\u001b[38;5;241m=\u001b[39mencoding)\n",
      "File \u001b[0;32m/opt/hostedtoolcache/Python/3.8.16/x64/lib/python3.8/site-packages/pandas/io/formats/html.py:77\u001b[0m, in \u001b[0;36mHTMLFormatter.to_string\u001b[0;34m(self)\u001b[0m\n\u001b[1;32m     76\u001b[0m \u001b[38;5;28;01mdef\u001b[39;00m \u001b[38;5;21mto_string\u001b[39m(\u001b[38;5;28mself\u001b[39m) \u001b[38;5;241m-\u001b[39m\u001b[38;5;241m>\u001b[39m \u001b[38;5;28mstr\u001b[39m:\n\u001b[0;32m---> 77\u001b[0m     lines \u001b[38;5;241m=\u001b[39m \u001b[38;5;28;43mself\u001b[39;49m\u001b[38;5;241;43m.\u001b[39;49m\u001b[43mrender\u001b[49m\u001b[43m(\u001b[49m\u001b[43m)\u001b[49m\n\u001b[1;32m     78\u001b[0m     \u001b[38;5;28;01mif\u001b[39;00m \u001b[38;5;28many\u001b[39m(\u001b[38;5;28misinstance\u001b[39m(x, \u001b[38;5;28mstr\u001b[39m) \u001b[38;5;28;01mfor\u001b[39;00m x \u001b[38;5;129;01min\u001b[39;00m lines):\n\u001b[1;32m     79\u001b[0m         lines \u001b[38;5;241m=\u001b[39m [\u001b[38;5;28mstr\u001b[39m(x) \u001b[38;5;28;01mfor\u001b[39;00m x \u001b[38;5;129;01min\u001b[39;00m lines]\n",
      "File \u001b[0;32m/opt/hostedtoolcache/Python/3.8.16/x64/lib/python3.8/site-packages/pandas/io/formats/html.py:83\u001b[0m, in \u001b[0;36mHTMLFormatter.render\u001b[0;34m(self)\u001b[0m\n\u001b[1;32m     82\u001b[0m \u001b[38;5;28;01mdef\u001b[39;00m \u001b[38;5;21mrender\u001b[39m(\u001b[38;5;28mself\u001b[39m) \u001b[38;5;241m-\u001b[39m\u001b[38;5;241m>\u001b[39m \u001b[38;5;28mlist\u001b[39m[\u001b[38;5;28mstr\u001b[39m]:\n\u001b[0;32m---> 83\u001b[0m     \u001b[38;5;28;43mself\u001b[39;49m\u001b[38;5;241;43m.\u001b[39;49m\u001b[43m_write_table\u001b[49m\u001b[43m(\u001b[49m\u001b[43m)\u001b[49m\n\u001b[1;32m     85\u001b[0m     \u001b[38;5;28;01mif\u001b[39;00m \u001b[38;5;28mself\u001b[39m\u001b[38;5;241m.\u001b[39mshould_show_dimensions:\n\u001b[1;32m     86\u001b[0m         by \u001b[38;5;241m=\u001b[39m \u001b[38;5;28mchr\u001b[39m(\u001b[38;5;241m215\u001b[39m)  \u001b[38;5;66;03m# ×\u001b[39;00m\n",
      "File \u001b[0;32m/opt/hostedtoolcache/Python/3.8.16/x64/lib/python3.8/site-packages/pandas/io/formats/html.py:258\u001b[0m, in \u001b[0;36mHTMLFormatter._write_table\u001b[0;34m(self, indent)\u001b[0m\n\u001b[1;32m    255\u001b[0m \u001b[38;5;28;01mif\u001b[39;00m \u001b[38;5;28mself\u001b[39m\u001b[38;5;241m.\u001b[39mfmt\u001b[38;5;241m.\u001b[39mheader \u001b[38;5;129;01mor\u001b[39;00m \u001b[38;5;28mself\u001b[39m\u001b[38;5;241m.\u001b[39mshow_row_idx_names:\n\u001b[1;32m    256\u001b[0m     \u001b[38;5;28mself\u001b[39m\u001b[38;5;241m.\u001b[39m_write_header(indent \u001b[38;5;241m+\u001b[39m \u001b[38;5;28mself\u001b[39m\u001b[38;5;241m.\u001b[39mindent_delta)\n\u001b[0;32m--> 258\u001b[0m \u001b[38;5;28;43mself\u001b[39;49m\u001b[38;5;241;43m.\u001b[39;49m\u001b[43m_write_body\u001b[49m\u001b[43m(\u001b[49m\u001b[43mindent\u001b[49m\u001b[43m \u001b[49m\u001b[38;5;241;43m+\u001b[39;49m\u001b[43m \u001b[49m\u001b[38;5;28;43mself\u001b[39;49m\u001b[38;5;241;43m.\u001b[39;49m\u001b[43mindent_delta\u001b[49m\u001b[43m)\u001b[49m\n\u001b[1;32m    260\u001b[0m \u001b[38;5;28mself\u001b[39m\u001b[38;5;241m.\u001b[39mwrite(\u001b[38;5;124m\"\u001b[39m\u001b[38;5;124m</table>\u001b[39m\u001b[38;5;124m\"\u001b[39m, indent)\n",
      "File \u001b[0;32m/opt/hostedtoolcache/Python/3.8.16/x64/lib/python3.8/site-packages/pandas/io/formats/html.py:406\u001b[0m, in \u001b[0;36mHTMLFormatter._write_body\u001b[0;34m(self, indent)\u001b[0m\n\u001b[1;32m    404\u001b[0m \u001b[38;5;28;01mdef\u001b[39;00m \u001b[38;5;21m_write_body\u001b[39m(\u001b[38;5;28mself\u001b[39m, indent: \u001b[38;5;28mint\u001b[39m) \u001b[38;5;241m-\u001b[39m\u001b[38;5;241m>\u001b[39m \u001b[38;5;28;01mNone\u001b[39;00m:\n\u001b[1;32m    405\u001b[0m     \u001b[38;5;28mself\u001b[39m\u001b[38;5;241m.\u001b[39mwrite(\u001b[38;5;124m\"\u001b[39m\u001b[38;5;124m<tbody>\u001b[39m\u001b[38;5;124m\"\u001b[39m, indent)\n\u001b[0;32m--> 406\u001b[0m     fmt_values \u001b[38;5;241m=\u001b[39m \u001b[38;5;28;43mself\u001b[39;49m\u001b[38;5;241;43m.\u001b[39;49m\u001b[43m_get_formatted_values\u001b[49m\u001b[43m(\u001b[49m\u001b[43m)\u001b[49m\n\u001b[1;32m    408\u001b[0m     \u001b[38;5;66;03m# write values\u001b[39;00m\n\u001b[1;32m    409\u001b[0m     \u001b[38;5;28;01mif\u001b[39;00m \u001b[38;5;28mself\u001b[39m\u001b[38;5;241m.\u001b[39mfmt\u001b[38;5;241m.\u001b[39mindex \u001b[38;5;129;01mand\u001b[39;00m \u001b[38;5;28misinstance\u001b[39m(\u001b[38;5;28mself\u001b[39m\u001b[38;5;241m.\u001b[39mframe\u001b[38;5;241m.\u001b[39mindex, MultiIndex):\n",
      "File \u001b[0;32m/opt/hostedtoolcache/Python/3.8.16/x64/lib/python3.8/site-packages/pandas/io/formats/html.py:401\u001b[0m, in \u001b[0;36mHTMLFormatter._get_formatted_values\u001b[0;34m(self)\u001b[0m\n\u001b[1;32m    399\u001b[0m \u001b[38;5;28;01mdef\u001b[39;00m \u001b[38;5;21m_get_formatted_values\u001b[39m(\u001b[38;5;28mself\u001b[39m) \u001b[38;5;241m-\u001b[39m\u001b[38;5;241m>\u001b[39m \u001b[38;5;28mdict\u001b[39m[\u001b[38;5;28mint\u001b[39m, \u001b[38;5;28mlist\u001b[39m[\u001b[38;5;28mstr\u001b[39m]]:\n\u001b[1;32m    400\u001b[0m     \u001b[38;5;28;01mwith\u001b[39;00m option_context(\u001b[38;5;124m\"\u001b[39m\u001b[38;5;124mdisplay.max_colwidth\u001b[39m\u001b[38;5;124m\"\u001b[39m, \u001b[38;5;28;01mNone\u001b[39;00m):\n\u001b[0;32m--> 401\u001b[0m         fmt_values \u001b[38;5;241m=\u001b[39m {i: \u001b[38;5;28mself\u001b[39m\u001b[38;5;241m.\u001b[39mfmt\u001b[38;5;241m.\u001b[39mformat_col(i) \u001b[38;5;28;01mfor\u001b[39;00m i \u001b[38;5;129;01min\u001b[39;00m \u001b[38;5;28mrange\u001b[39m(\u001b[38;5;28mself\u001b[39m\u001b[38;5;241m.\u001b[39mncols)}\n\u001b[1;32m    402\u001b[0m     \u001b[38;5;28;01mreturn\u001b[39;00m fmt_values\n",
      "File \u001b[0;32m/opt/hostedtoolcache/Python/3.8.16/x64/lib/python3.8/site-packages/pandas/io/formats/html.py:401\u001b[0m, in \u001b[0;36m<dictcomp>\u001b[0;34m(.0)\u001b[0m\n\u001b[1;32m    399\u001b[0m \u001b[38;5;28;01mdef\u001b[39;00m \u001b[38;5;21m_get_formatted_values\u001b[39m(\u001b[38;5;28mself\u001b[39m) \u001b[38;5;241m-\u001b[39m\u001b[38;5;241m>\u001b[39m \u001b[38;5;28mdict\u001b[39m[\u001b[38;5;28mint\u001b[39m, \u001b[38;5;28mlist\u001b[39m[\u001b[38;5;28mstr\u001b[39m]]:\n\u001b[1;32m    400\u001b[0m     \u001b[38;5;28;01mwith\u001b[39;00m option_context(\u001b[38;5;124m\"\u001b[39m\u001b[38;5;124mdisplay.max_colwidth\u001b[39m\u001b[38;5;124m\"\u001b[39m, \u001b[38;5;28;01mNone\u001b[39;00m):\n\u001b[0;32m--> 401\u001b[0m         fmt_values \u001b[38;5;241m=\u001b[39m {i: \u001b[38;5;28;43mself\u001b[39;49m\u001b[38;5;241;43m.\u001b[39;49m\u001b[43mfmt\u001b[49m\u001b[38;5;241;43m.\u001b[39;49m\u001b[43mformat_col\u001b[49m\u001b[43m(\u001b[49m\u001b[43mi\u001b[49m\u001b[43m)\u001b[49m \u001b[38;5;28;01mfor\u001b[39;00m i \u001b[38;5;129;01min\u001b[39;00m \u001b[38;5;28mrange\u001b[39m(\u001b[38;5;28mself\u001b[39m\u001b[38;5;241m.\u001b[39mncols)}\n\u001b[1;32m    402\u001b[0m     \u001b[38;5;28;01mreturn\u001b[39;00m fmt_values\n",
      "File \u001b[0;32m/opt/hostedtoolcache/Python/3.8.16/x64/lib/python3.8/site-packages/pandas/io/formats/format.py:897\u001b[0m, in \u001b[0;36mDataFrameFormatter.format_col\u001b[0;34m(self, i)\u001b[0m\n\u001b[1;32m    895\u001b[0m frame \u001b[38;5;241m=\u001b[39m \u001b[38;5;28mself\u001b[39m\u001b[38;5;241m.\u001b[39mtr_frame\n\u001b[1;32m    896\u001b[0m formatter \u001b[38;5;241m=\u001b[39m \u001b[38;5;28mself\u001b[39m\u001b[38;5;241m.\u001b[39m_get_formatter(i)\n\u001b[0;32m--> 897\u001b[0m \u001b[38;5;28;01mreturn\u001b[39;00m \u001b[43mformat_array\u001b[49m\u001b[43m(\u001b[49m\n\u001b[1;32m    898\u001b[0m \u001b[43m    \u001b[49m\u001b[43mframe\u001b[49m\u001b[38;5;241;43m.\u001b[39;49m\u001b[43miloc\u001b[49m\u001b[43m[\u001b[49m\u001b[43m:\u001b[49m\u001b[43m,\u001b[49m\u001b[43m \u001b[49m\u001b[43mi\u001b[49m\u001b[43m]\u001b[49m\u001b[38;5;241;43m.\u001b[39;49m\u001b[43m_values\u001b[49m\u001b[43m,\u001b[49m\n\u001b[1;32m    899\u001b[0m \u001b[43m    \u001b[49m\u001b[43mformatter\u001b[49m\u001b[43m,\u001b[49m\n\u001b[1;32m    900\u001b[0m \u001b[43m    \u001b[49m\u001b[43mfloat_format\u001b[49m\u001b[38;5;241;43m=\u001b[39;49m\u001b[38;5;28;43mself\u001b[39;49m\u001b[38;5;241;43m.\u001b[39;49m\u001b[43mfloat_format\u001b[49m\u001b[43m,\u001b[49m\n\u001b[1;32m    901\u001b[0m \u001b[43m    \u001b[49m\u001b[43mna_rep\u001b[49m\u001b[38;5;241;43m=\u001b[39;49m\u001b[38;5;28;43mself\u001b[39;49m\u001b[38;5;241;43m.\u001b[39;49m\u001b[43mna_rep\u001b[49m\u001b[43m,\u001b[49m\n\u001b[1;32m    902\u001b[0m \u001b[43m    \u001b[49m\u001b[43mspace\u001b[49m\u001b[38;5;241;43m=\u001b[39;49m\u001b[38;5;28;43mself\u001b[39;49m\u001b[38;5;241;43m.\u001b[39;49m\u001b[43mcol_space\u001b[49m\u001b[38;5;241;43m.\u001b[39;49m\u001b[43mget\u001b[49m\u001b[43m(\u001b[49m\u001b[43mframe\u001b[49m\u001b[38;5;241;43m.\u001b[39;49m\u001b[43mcolumns\u001b[49m\u001b[43m[\u001b[49m\u001b[43mi\u001b[49m\u001b[43m]\u001b[49m\u001b[43m)\u001b[49m\u001b[43m,\u001b[49m\n\u001b[1;32m    903\u001b[0m \u001b[43m    \u001b[49m\u001b[43mdecimal\u001b[49m\u001b[38;5;241;43m=\u001b[39;49m\u001b[38;5;28;43mself\u001b[39;49m\u001b[38;5;241;43m.\u001b[39;49m\u001b[43mdecimal\u001b[49m\u001b[43m,\u001b[49m\n\u001b[1;32m    904\u001b[0m \u001b[43m    \u001b[49m\u001b[43mleading_space\u001b[49m\u001b[38;5;241;43m=\u001b[39;49m\u001b[38;5;28;43mself\u001b[39;49m\u001b[38;5;241;43m.\u001b[39;49m\u001b[43mindex\u001b[49m\u001b[43m,\u001b[49m\n\u001b[1;32m    905\u001b[0m \u001b[43m\u001b[49m\u001b[43m)\u001b[49m\n",
      "File \u001b[0;32m/opt/hostedtoolcache/Python/3.8.16/x64/lib/python3.8/site-packages/pandas/io/formats/format.py:1328\u001b[0m, in \u001b[0;36mformat_array\u001b[0;34m(values, formatter, float_format, na_rep, digits, space, justify, decimal, leading_space, quoting)\u001b[0m\n\u001b[1;32m   1313\u001b[0m     digits \u001b[38;5;241m=\u001b[39m get_option(\u001b[38;5;124m\"\u001b[39m\u001b[38;5;124mdisplay.precision\u001b[39m\u001b[38;5;124m\"\u001b[39m)\n\u001b[1;32m   1315\u001b[0m fmt_obj \u001b[38;5;241m=\u001b[39m fmt_klass(\n\u001b[1;32m   1316\u001b[0m     values,\n\u001b[1;32m   1317\u001b[0m     digits\u001b[38;5;241m=\u001b[39mdigits,\n\u001b[0;32m   (...)\u001b[0m\n\u001b[1;32m   1325\u001b[0m     quoting\u001b[38;5;241m=\u001b[39mquoting,\n\u001b[1;32m   1326\u001b[0m )\n\u001b[0;32m-> 1328\u001b[0m \u001b[38;5;28;01mreturn\u001b[39;00m \u001b[43mfmt_obj\u001b[49m\u001b[38;5;241;43m.\u001b[39;49m\u001b[43mget_result\u001b[49m\u001b[43m(\u001b[49m\u001b[43m)\u001b[49m\n",
      "File \u001b[0;32m/opt/hostedtoolcache/Python/3.8.16/x64/lib/python3.8/site-packages/pandas/io/formats/format.py:1359\u001b[0m, in \u001b[0;36mGenericArrayFormatter.get_result\u001b[0;34m(self)\u001b[0m\n\u001b[1;32m   1358\u001b[0m \u001b[38;5;28;01mdef\u001b[39;00m \u001b[38;5;21mget_result\u001b[39m(\u001b[38;5;28mself\u001b[39m) \u001b[38;5;241m-\u001b[39m\u001b[38;5;241m>\u001b[39m \u001b[38;5;28mlist\u001b[39m[\u001b[38;5;28mstr\u001b[39m]:\n\u001b[0;32m-> 1359\u001b[0m     fmt_values \u001b[38;5;241m=\u001b[39m \u001b[38;5;28;43mself\u001b[39;49m\u001b[38;5;241;43m.\u001b[39;49m\u001b[43m_format_strings\u001b[49m\u001b[43m(\u001b[49m\u001b[43m)\u001b[49m\n\u001b[1;32m   1360\u001b[0m     \u001b[38;5;28;01mreturn\u001b[39;00m _make_fixed_width(fmt_values, \u001b[38;5;28mself\u001b[39m\u001b[38;5;241m.\u001b[39mjustify)\n",
      "File \u001b[0;32m/opt/hostedtoolcache/Python/3.8.16/x64/lib/python3.8/site-packages/pandas/io/formats/format.py:1422\u001b[0m, in \u001b[0;36mGenericArrayFormatter._format_strings\u001b[0;34m(self)\u001b[0m\n\u001b[1;32m   1420\u001b[0m \u001b[38;5;28;01mfor\u001b[39;00m i, v \u001b[38;5;129;01min\u001b[39;00m \u001b[38;5;28menumerate\u001b[39m(vals):\n\u001b[1;32m   1421\u001b[0m     \u001b[38;5;28;01mif\u001b[39;00m \u001b[38;5;129;01mnot\u001b[39;00m is_float_type[i] \u001b[38;5;129;01mand\u001b[39;00m leading_space:\n\u001b[0;32m-> 1422\u001b[0m         fmt_values\u001b[38;5;241m.\u001b[39mappend(\u001b[38;5;124mf\u001b[39m\u001b[38;5;124m\"\u001b[39m\u001b[38;5;124m \u001b[39m\u001b[38;5;132;01m{\u001b[39;00m_format(v)\u001b[38;5;132;01m}\u001b[39;00m\u001b[38;5;124m\"\u001b[39m)\n\u001b[1;32m   1423\u001b[0m     \u001b[38;5;28;01melif\u001b[39;00m is_float_type[i]:\n\u001b[1;32m   1424\u001b[0m         fmt_values\u001b[38;5;241m.\u001b[39mappend(float_format(v))\n",
      "File \u001b[0;32m/opt/hostedtoolcache/Python/3.8.16/x64/lib/python3.8/site-packages/pandas/io/formats/format.py:1402\u001b[0m, in \u001b[0;36mGenericArrayFormatter._format_strings.<locals>._format\u001b[0;34m(x)\u001b[0m\n\u001b[1;32m   1399\u001b[0m     \u001b[38;5;28;01mreturn\u001b[39;00m \u001b[38;5;28mstr\u001b[39m(x)\n\u001b[1;32m   1400\u001b[0m \u001b[38;5;28;01melse\u001b[39;00m:\n\u001b[1;32m   1401\u001b[0m     \u001b[38;5;66;03m# object dtype\u001b[39;00m\n\u001b[0;32m-> 1402\u001b[0m     \u001b[38;5;28;01mreturn\u001b[39;00m \u001b[38;5;28mstr\u001b[39m(\u001b[43mformatter\u001b[49m\u001b[43m(\u001b[49m\u001b[43mx\u001b[49m\u001b[43m)\u001b[49m)\n",
      "File \u001b[0;32m~/work/meerkat/meerkat/meerkat/interactive/formatter/image.py:34\u001b[0m, in \u001b[0;36mImageFormatter.html\u001b[0;34m(self, cell)\u001b[0m\n\u001b[1;32m     33\u001b[0m \u001b[38;5;28;01mdef\u001b[39;00m \u001b[38;5;21mhtml\u001b[39m(\u001b[38;5;28mself\u001b[39m, cell: Image) \u001b[38;5;241m-\u001b[39m\u001b[38;5;241m>\u001b[39m \u001b[38;5;28mstr\u001b[39m:\n\u001b[0;32m---> 34\u001b[0m     encoded \u001b[38;5;241m=\u001b[39m \u001b[38;5;28;43mself\u001b[39;49m\u001b[38;5;241;43m.\u001b[39;49m\u001b[43mencode\u001b[49m\u001b[43m(\u001b[49m\u001b[43mcell\u001b[49m\u001b[43m)\u001b[49m\n\u001b[1;32m     35\u001b[0m     \u001b[38;5;28;01mreturn\u001b[39;00m \u001b[38;5;124mf\u001b[39m\u001b[38;5;124m'\u001b[39m\u001b[38;5;124m<img src=\u001b[39m\u001b[38;5;124m\"\u001b[39m\u001b[38;5;132;01m{\u001b[39;00mencoded\u001b[38;5;132;01m}\u001b[39;00m\u001b[38;5;124m\"\u001b[39m\u001b[38;5;124m>\u001b[39m\u001b[38;5;124m'\u001b[39m\n",
      "File \u001b[0;32m~/work/meerkat/meerkat/meerkat/interactive/formatter/image.py:72\u001b[0m, in \u001b[0;36mDeferredImageFormatter.encode\u001b[0;34m(self, image)\u001b[0m\n\u001b[1;32m     70\u001b[0m     \u001b[38;5;28;01mreturn\u001b[39;00m image\u001b[38;5;241m.\u001b[39mabsolute_path\n\u001b[1;32m     71\u001b[0m \u001b[38;5;28;01melse\u001b[39;00m:\n\u001b[0;32m---> 72\u001b[0m     image \u001b[38;5;241m=\u001b[39m \u001b[43mimage\u001b[49m\u001b[43m(\u001b[49m\u001b[43m)\u001b[49m\n\u001b[1;32m     73\u001b[0m     \u001b[38;5;28;01mreturn\u001b[39;00m \u001b[38;5;28msuper\u001b[39m()\u001b[38;5;241m.\u001b[39mencode(image)\n",
      "File \u001b[0;32m~/work/meerkat/meerkat/meerkat/columns/deferred/base.py:45\u001b[0m, in \u001b[0;36mDeferredCell.__call__\u001b[0;34m(self)\u001b[0m\n\u001b[1;32m     44\u001b[0m \u001b[38;5;28;01mdef\u001b[39;00m \u001b[38;5;21m__call__\u001b[39m(\u001b[38;5;28mself\u001b[39m):\n\u001b[0;32m---> 45\u001b[0m     \u001b[38;5;28;01mreturn\u001b[39;00m \u001b[38;5;28;43mself\u001b[39;49m\u001b[38;5;241;43m.\u001b[39;49m\u001b[43mdata\u001b[49m\u001b[38;5;241;43m.\u001b[39;49m\u001b[43m_get\u001b[49m\u001b[43m(\u001b[49m\u001b[43m)\u001b[49m\n",
      "File \u001b[0;32m~/work/meerkat/meerkat/meerkat/block/deferred_block.py:40\u001b[0m, in \u001b[0;36mDeferredCellOp._get\u001b[0;34m(self)\u001b[0m\n\u001b[1;32m     38\u001b[0m args \u001b[38;5;241m=\u001b[39m [\u001b[38;5;28mself\u001b[39m\u001b[38;5;241m.\u001b[39mprepare_arg(arg) \u001b[38;5;28;01mfor\u001b[39;00m arg \u001b[38;5;129;01min\u001b[39;00m \u001b[38;5;28mself\u001b[39m\u001b[38;5;241m.\u001b[39margs]\n\u001b[1;32m     39\u001b[0m kwargs \u001b[38;5;241m=\u001b[39m {kw: \u001b[38;5;28mself\u001b[39m\u001b[38;5;241m.\u001b[39mprepare_arg(arg) \u001b[38;5;28;01mfor\u001b[39;00m kw, arg \u001b[38;5;129;01min\u001b[39;00m \u001b[38;5;28mself\u001b[39m\u001b[38;5;241m.\u001b[39mkwargs\u001b[38;5;241m.\u001b[39mitems()}\n\u001b[0;32m---> 40\u001b[0m out \u001b[38;5;241m=\u001b[39m \u001b[38;5;28;43mself\u001b[39;49m\u001b[38;5;241;43m.\u001b[39;49m\u001b[43mfn\u001b[49m\u001b[43m(\u001b[49m\u001b[38;5;241;43m*\u001b[39;49m\u001b[43margs\u001b[49m\u001b[43m,\u001b[49m\u001b[43m \u001b[49m\u001b[38;5;241;43m*\u001b[39;49m\u001b[38;5;241;43m*\u001b[39;49m\u001b[43mkwargs\u001b[49m\u001b[43m)\u001b[49m\n\u001b[1;32m     42\u001b[0m \u001b[38;5;28;01mif\u001b[39;00m \u001b[38;5;28mself\u001b[39m\u001b[38;5;241m.\u001b[39mreturn_index \u001b[38;5;129;01mis\u001b[39;00m \u001b[38;5;129;01mnot\u001b[39;00m \u001b[38;5;28;01mNone\u001b[39;00m:\n\u001b[1;32m     43\u001b[0m     \u001b[38;5;28;01mreturn\u001b[39;00m out[\u001b[38;5;28mself\u001b[39m\u001b[38;5;241m.\u001b[39mreturn_index]\n",
      "File \u001b[0;32m~/work/meerkat/meerkat/meerkat/columns/deferred/file.py:189\u001b[0m, in \u001b[0;36mFileLoader.__call__\u001b[0;34m(self, filepath)\u001b[0m\n\u001b[1;32m    185\u001b[0m                 \u001b[38;5;28;01mraise\u001b[39;00m e\n\u001b[1;32m    187\u001b[0m     filepath \u001b[38;5;241m=\u001b[39m dst\n\u001b[0;32m--> 189\u001b[0m data \u001b[38;5;241m=\u001b[39m \u001b[38;5;28;43mself\u001b[39;49m\u001b[38;5;241;43m.\u001b[39;49m\u001b[43mloader\u001b[49m\u001b[43m(\u001b[49m\u001b[43mfilepath\u001b[49m\u001b[43m)\u001b[49m\n\u001b[1;32m    191\u001b[0m \u001b[38;5;28;01mreturn\u001b[39;00m data\n",
      "File \u001b[0;32m~/work/meerkat/meerkat/meerkat/columns/deferred/file.py:472\u001b[0m, in \u001b[0;36mload_image\u001b[0;34m(f)\u001b[0m\n\u001b[1;32m    471\u001b[0m \u001b[38;5;28;01mdef\u001b[39;00m \u001b[38;5;21mload_image\u001b[39m(f: Union[\u001b[38;5;28mstr\u001b[39m, io\u001b[38;5;241m.\u001b[39mBytesIO, Path]):\n\u001b[0;32m--> 472\u001b[0m     img \u001b[38;5;241m=\u001b[39m \u001b[43mImage\u001b[49m\u001b[38;5;241;43m.\u001b[39;49m\u001b[43mopen\u001b[49m\u001b[43m(\u001b[49m\u001b[43mf\u001b[49m\u001b[43m)\u001b[49m\n\u001b[1;32m    473\u001b[0m     \u001b[38;5;28;01mreturn\u001b[39;00m img\u001b[38;5;241m.\u001b[39mconvert(\u001b[38;5;124m\"\u001b[39m\u001b[38;5;124mRGB\u001b[39m\u001b[38;5;124m\"\u001b[39m)\n",
      "File \u001b[0;32m/opt/hostedtoolcache/Python/3.8.16/x64/lib/python3.8/site-packages/PIL/Image.py:3227\u001b[0m, in \u001b[0;36mopen\u001b[0;34m(fp, mode, formats)\u001b[0m\n\u001b[1;32m   3224\u001b[0m     filename \u001b[38;5;241m=\u001b[39m fp\n\u001b[1;32m   3226\u001b[0m \u001b[38;5;28;01mif\u001b[39;00m filename:\n\u001b[0;32m-> 3227\u001b[0m     fp \u001b[38;5;241m=\u001b[39m \u001b[43mbuiltins\u001b[49m\u001b[38;5;241;43m.\u001b[39;49m\u001b[43mopen\u001b[49m\u001b[43m(\u001b[49m\u001b[43mfilename\u001b[49m\u001b[43m,\u001b[49m\u001b[43m \u001b[49m\u001b[38;5;124;43m\"\u001b[39;49m\u001b[38;5;124;43mrb\u001b[39;49m\u001b[38;5;124;43m\"\u001b[39;49m\u001b[43m)\u001b[49m\n\u001b[1;32m   3228\u001b[0m     exclusive_fp \u001b[38;5;241m=\u001b[39m \u001b[38;5;28;01mTrue\u001b[39;00m\n\u001b[1;32m   3230\u001b[0m \u001b[38;5;28;01mtry\u001b[39;00m:\n",
      "\u001b[0;31mFileNotFoundError\u001b[0m: [Errno 2] No such file or directory: '/home/runner/.meerkat/datasets/imagenette/160px/imagenette2-160/train/n02979186/n02979186_9036.JPEG'"
     ]
    },
    {
     "data": {
      "text/plain": [
       "column([FileCell(fn=<...7f0a0b45ebe0>), FileCell(fn=<...7f0a0b45ebe0>), FileCell(fn=<...7f0a0b45ebe0>), FileCell(fn=<...7f0a0b45ebe0>), FileCell(fn=<...7f0a0b45ebe0>)], backend=FileColumn"
      ]
     },
     "execution_count": 3,
     "metadata": {},
     "output_type": "execute_result"
    }
   ],
   "source": [
    "   col = df[\"img\"]\n",
    "   col.head()"
   ]
  },
  {
   "cell_type": "markdown",
   "id": "aa619b88",
   "metadata": {},
   "source": [
    "Passing a `str` that isn't among the column names will raise a `KeyError`.\n",
    "\n",
    "It may be helpful to think of a DataFrame as a dictionary mapping column names to columns.\n",
    "\n",
    "Indeed, a DataFrame implements other parts of the `dict` interface including :meth:`~meerkat.DataFrame.keys()`, :meth:`~meerkat.DataFrame.values()`, and :meth:`~meerkat.DataFrame.items()`. Unlike a dictionary, multiple columns in a DataFrame can be selected at once.\n",
    "\n",
    "### Selecting Multiple Columns\n",
    "\n",
    "#### `List[str]` -> {class}`~meerkat.DataFrame`\n",
    "\n",
    "You can select multiple columns by passing a list of column names. Doing so will return a new DataFrame with a subset of the columns in the original. For example,"
   ]
  },
  {
   "cell_type": "code",
   "execution_count": 4,
   "id": "c57fd29f",
   "metadata": {},
   "outputs": [
    {
     "data": {
      "text/html": [
       "<pre style=\"white-space:pre;overflow-x:auto;line-height:normal;font-family:Menlo,'DejaVu Sans Mono',consolas,'Courier New',monospace\">Frontend is not initialized. Running `<span style=\"color: #800080; text-decoration-color: #800080; font-weight: bold\">mk.gui.start</span><span style=\"font-weight: bold\">()</span>`.\n",
       "</pre>\n"
      ],
      "text/plain": [
       "Frontend is not initialized. Running `\u001b[1;35mmk.gui.start\u001b[0m\u001b[1m(\u001b[0m\u001b[1m)\u001b[0m`.\n"
      ]
     },
     "metadata": {},
     "output_type": "display_data"
    },
    {
     "data": {
      "text/html": [
       "\n",
       "        <iframe\n",
       "            width=\"100%\"\n",
       "            height=\"450px\"\n",
       "            src=\"http://localhost:8000/?id=Table12294fbc-4530-498c-9545-e116df8056b0\"\n",
       "            frameborder=\"0\"\n",
       "            allowfullscreen\n",
       "            \n",
       "        ></iframe>\n",
       "        "
      ],
      "text/plain": [
       "<IPython.lib.display.IFrame at 0x7f0992f44340>"
      ]
     },
     "metadata": {},
     "output_type": "display_data"
    }
   ],
   "source": [
    "    df = df[[\"img\", \"img_id\", \"label\"]]\n",
    "    df.head()"
   ]
  },
  {
   "cell_type": "markdown",
   "id": "1643199c",
   "metadata": {},
   "source": [
    "Passing a `str` that isn't among the column names will raise a `KeyError`.\n",
    "\n",
    "```{admonition} Copy vs. Reference\n",
    "See {doc}`copying` for more information.\n",
    "\n",
    "You may be wondering whether the columns returned by indexing are copies of the columns in the original DataFrame. The columns returned by the index operator reference the same columns in the original DataFrame. This means that modifying the columns returned by the index operator will modify the columns in the original DataFrame.\n",
    "```\n",
    "\n",
    "## Selecting Rows by Position\n",
    "\n",
    "In Meerkat, the rows of a DataFrame or Column are ordered. This means that rows are uniquely identified by their position in the DataFrame or Column (similar to how the elements of a [Python List](https://www.w3schools.com/python/python_lists.asp) are uniquely identified by their position in the list).\n",
    "\n",
    "Row indices range from 0 to the number of rows in the DataFrame or Column minus one. To see how many rows a DataFrame or a column has we can use `len()`. For example,"
   ]
  },
  {
   "cell_type": "code",
   "execution_count": 5,
   "id": "9f237772",
   "metadata": {},
   "outputs": [
    {
     "data": {
      "text/plain": [
       "13394"
      ]
     },
     "execution_count": 5,
     "metadata": {},
     "output_type": "execute_result"
    }
   ],
   "source": [
    "   len(df)"
   ]
  },
  {
   "cell_type": "markdown",
   "id": "0b46ee3e",
   "metadata": {},
   "source": [
    "Above we mentioned how a DataFrame could be viewed as a dictionary mapping column names to columns. Equivalently, it also may be helpful to think of a DataFrame as a list of dictionaries mapping column names to values. The DataFrame interface supports both of these views – under the hood, storage is organized so as to make both column and row accesses fast.\n",
    "\n",
    "### Selecting a Single Row by Position\n",
    "\n",
    "#### `int` -> {class}`~meerkat.Row`\n",
    "\n",
    "To select a single row from a DataFrame, we simply pass it's position to the index operator."
   ]
  },
  {
   "cell_type": "code",
   "execution_count": 6,
   "id": "b27ff710",
   "metadata": {},
   "outputs": [
    {
     "data": {
      "text/plain": [
       "{'img': FileCell(fn=<meerkat.columns.deferred.file.FileLoader object at 0x7f0a0b45ebe0>),\n",
       " 'img_id': 'n02979186_9715',\n",
       " 'label': 'cassette player'}"
      ]
     },
     "execution_count": 6,
     "metadata": {},
     "output_type": "execute_result"
    }
   ],
   "source": [
    "   row = df[2]\n",
    "   row"
   ]
  },
  {
   "cell_type": "markdown",
   "id": "20b467df",
   "metadata": {},
   "source": [
    "Passing an `int` that is less than `0` or greater than `len(df)` will raise an `IndexError`.\n",
    "\n",
    "Notice that `row` holds a {class}`~meerkat.FileCell` object, not a [PIL Image](https://pillow.readthedocs.io/en/stable/reference/Image.html) or other in-memory image object.\n",
    "The \"image\" has not yet been loaded from disk into memory. The {class}`~meerkat.FileCell` knows how to load the image into memory, but stops just short of doing so.\n",
    "Later on, when we want to access the image, we can _call_ the row or cell to load the image into memory."
   ]
  },
  {
   "cell_type": "code",
   "execution_count": 7,
   "id": "bf2c968a",
   "metadata": {},
   "outputs": [
    {
     "ename": "FileNotFoundError",
     "evalue": "[Errno 2] No such file or directory: '/home/runner/.meerkat/datasets/imagenette/160px/imagenette2-160/train/n02979186/n02979186_9715.JPEG'",
     "output_type": "error",
     "traceback": [
      "\u001b[0;31m---------------------------------------------------------------------------\u001b[0m",
      "\u001b[0;31mFileNotFoundError\u001b[0m                         Traceback (most recent call last)",
      "Cell \u001b[0;32mIn[7], line 1\u001b[0m\n\u001b[0;32m----> 1\u001b[0m \u001b[43mrow\u001b[49m\u001b[43m(\u001b[49m\u001b[43m)\u001b[49m\n",
      "File \u001b[0;32m~/work/meerkat/meerkat/meerkat/row.py:9\u001b[0m, in \u001b[0;36mRow.__call__\u001b[0;34m(self)\u001b[0m\n\u001b[1;32m      5\u001b[0m \u001b[38;5;28;01mdef\u001b[39;00m \u001b[38;5;21m__call__\u001b[39m(\u001b[38;5;28mself\u001b[39m):\n\u001b[1;32m      6\u001b[0m     \u001b[38;5;66;03m# FIXME(Sabri): Need to actually implement this based on the DAG of the deferred\u001b[39;00m\n\u001b[1;32m      7\u001b[0m     \u001b[38;5;66;03m# cells for effiency.\u001b[39;00m\n\u001b[1;32m      8\u001b[0m     \u001b[38;5;28;01mreturn\u001b[39;00m Row(\n\u001b[0;32m----> 9\u001b[0m         {\n\u001b[1;32m     10\u001b[0m             name: cell() \u001b[38;5;28;01mif\u001b[39;00m \u001b[38;5;28misinstance\u001b[39m(cell, DeferredCell) \u001b[38;5;28;01melse\u001b[39;00m cell\n\u001b[1;32m     11\u001b[0m             \u001b[38;5;28;01mfor\u001b[39;00m name, cell \u001b[38;5;129;01min\u001b[39;00m \u001b[38;5;28mself\u001b[39m\u001b[38;5;241m.\u001b[39mitems()\n\u001b[1;32m     12\u001b[0m         }\n\u001b[1;32m     13\u001b[0m     )\n",
      "File \u001b[0;32m~/work/meerkat/meerkat/meerkat/row.py:10\u001b[0m, in \u001b[0;36m<dictcomp>\u001b[0;34m(.0)\u001b[0m\n\u001b[1;32m      5\u001b[0m \u001b[38;5;28;01mdef\u001b[39;00m \u001b[38;5;21m__call__\u001b[39m(\u001b[38;5;28mself\u001b[39m):\n\u001b[1;32m      6\u001b[0m     \u001b[38;5;66;03m# FIXME(Sabri): Need to actually implement this based on the DAG of the deferred\u001b[39;00m\n\u001b[1;32m      7\u001b[0m     \u001b[38;5;66;03m# cells for effiency.\u001b[39;00m\n\u001b[1;32m      8\u001b[0m     \u001b[38;5;28;01mreturn\u001b[39;00m Row(\n\u001b[1;32m      9\u001b[0m         {\n\u001b[0;32m---> 10\u001b[0m             name: \u001b[43mcell\u001b[49m\u001b[43m(\u001b[49m\u001b[43m)\u001b[49m \u001b[38;5;28;01mif\u001b[39;00m \u001b[38;5;28misinstance\u001b[39m(cell, DeferredCell) \u001b[38;5;28;01melse\u001b[39;00m cell\n\u001b[1;32m     11\u001b[0m             \u001b[38;5;28;01mfor\u001b[39;00m name, cell \u001b[38;5;129;01min\u001b[39;00m \u001b[38;5;28mself\u001b[39m\u001b[38;5;241m.\u001b[39mitems()\n\u001b[1;32m     12\u001b[0m         }\n\u001b[1;32m     13\u001b[0m     )\n",
      "File \u001b[0;32m~/work/meerkat/meerkat/meerkat/columns/deferred/base.py:45\u001b[0m, in \u001b[0;36mDeferredCell.__call__\u001b[0;34m(self)\u001b[0m\n\u001b[1;32m     44\u001b[0m \u001b[38;5;28;01mdef\u001b[39;00m \u001b[38;5;21m__call__\u001b[39m(\u001b[38;5;28mself\u001b[39m):\n\u001b[0;32m---> 45\u001b[0m     \u001b[38;5;28;01mreturn\u001b[39;00m \u001b[38;5;28;43mself\u001b[39;49m\u001b[38;5;241;43m.\u001b[39;49m\u001b[43mdata\u001b[49m\u001b[38;5;241;43m.\u001b[39;49m\u001b[43m_get\u001b[49m\u001b[43m(\u001b[49m\u001b[43m)\u001b[49m\n",
      "File \u001b[0;32m~/work/meerkat/meerkat/meerkat/block/deferred_block.py:40\u001b[0m, in \u001b[0;36mDeferredCellOp._get\u001b[0;34m(self)\u001b[0m\n\u001b[1;32m     38\u001b[0m args \u001b[38;5;241m=\u001b[39m [\u001b[38;5;28mself\u001b[39m\u001b[38;5;241m.\u001b[39mprepare_arg(arg) \u001b[38;5;28;01mfor\u001b[39;00m arg \u001b[38;5;129;01min\u001b[39;00m \u001b[38;5;28mself\u001b[39m\u001b[38;5;241m.\u001b[39margs]\n\u001b[1;32m     39\u001b[0m kwargs \u001b[38;5;241m=\u001b[39m {kw: \u001b[38;5;28mself\u001b[39m\u001b[38;5;241m.\u001b[39mprepare_arg(arg) \u001b[38;5;28;01mfor\u001b[39;00m kw, arg \u001b[38;5;129;01min\u001b[39;00m \u001b[38;5;28mself\u001b[39m\u001b[38;5;241m.\u001b[39mkwargs\u001b[38;5;241m.\u001b[39mitems()}\n\u001b[0;32m---> 40\u001b[0m out \u001b[38;5;241m=\u001b[39m \u001b[38;5;28;43mself\u001b[39;49m\u001b[38;5;241;43m.\u001b[39;49m\u001b[43mfn\u001b[49m\u001b[43m(\u001b[49m\u001b[38;5;241;43m*\u001b[39;49m\u001b[43margs\u001b[49m\u001b[43m,\u001b[49m\u001b[43m \u001b[49m\u001b[38;5;241;43m*\u001b[39;49m\u001b[38;5;241;43m*\u001b[39;49m\u001b[43mkwargs\u001b[49m\u001b[43m)\u001b[49m\n\u001b[1;32m     42\u001b[0m \u001b[38;5;28;01mif\u001b[39;00m \u001b[38;5;28mself\u001b[39m\u001b[38;5;241m.\u001b[39mreturn_index \u001b[38;5;129;01mis\u001b[39;00m \u001b[38;5;129;01mnot\u001b[39;00m \u001b[38;5;28;01mNone\u001b[39;00m:\n\u001b[1;32m     43\u001b[0m     \u001b[38;5;28;01mreturn\u001b[39;00m out[\u001b[38;5;28mself\u001b[39m\u001b[38;5;241m.\u001b[39mreturn_index]\n",
      "File \u001b[0;32m~/work/meerkat/meerkat/meerkat/columns/deferred/file.py:189\u001b[0m, in \u001b[0;36mFileLoader.__call__\u001b[0;34m(self, filepath)\u001b[0m\n\u001b[1;32m    185\u001b[0m                 \u001b[38;5;28;01mraise\u001b[39;00m e\n\u001b[1;32m    187\u001b[0m     filepath \u001b[38;5;241m=\u001b[39m dst\n\u001b[0;32m--> 189\u001b[0m data \u001b[38;5;241m=\u001b[39m \u001b[38;5;28;43mself\u001b[39;49m\u001b[38;5;241;43m.\u001b[39;49m\u001b[43mloader\u001b[49m\u001b[43m(\u001b[49m\u001b[43mfilepath\u001b[49m\u001b[43m)\u001b[49m\n\u001b[1;32m    191\u001b[0m \u001b[38;5;28;01mreturn\u001b[39;00m data\n",
      "File \u001b[0;32m~/work/meerkat/meerkat/meerkat/columns/deferred/file.py:472\u001b[0m, in \u001b[0;36mload_image\u001b[0;34m(f)\u001b[0m\n\u001b[1;32m    471\u001b[0m \u001b[38;5;28;01mdef\u001b[39;00m \u001b[38;5;21mload_image\u001b[39m(f: Union[\u001b[38;5;28mstr\u001b[39m, io\u001b[38;5;241m.\u001b[39mBytesIO, Path]):\n\u001b[0;32m--> 472\u001b[0m     img \u001b[38;5;241m=\u001b[39m \u001b[43mImage\u001b[49m\u001b[38;5;241;43m.\u001b[39;49m\u001b[43mopen\u001b[49m\u001b[43m(\u001b[49m\u001b[43mf\u001b[49m\u001b[43m)\u001b[49m\n\u001b[1;32m    473\u001b[0m     \u001b[38;5;28;01mreturn\u001b[39;00m img\u001b[38;5;241m.\u001b[39mconvert(\u001b[38;5;124m\"\u001b[39m\u001b[38;5;124mRGB\u001b[39m\u001b[38;5;124m\"\u001b[39m)\n",
      "File \u001b[0;32m/opt/hostedtoolcache/Python/3.8.16/x64/lib/python3.8/site-packages/PIL/Image.py:3227\u001b[0m, in \u001b[0;36mopen\u001b[0;34m(fp, mode, formats)\u001b[0m\n\u001b[1;32m   3224\u001b[0m     filename \u001b[38;5;241m=\u001b[39m fp\n\u001b[1;32m   3226\u001b[0m \u001b[38;5;28;01mif\u001b[39;00m filename:\n\u001b[0;32m-> 3227\u001b[0m     fp \u001b[38;5;241m=\u001b[39m \u001b[43mbuiltins\u001b[49m\u001b[38;5;241;43m.\u001b[39;49m\u001b[43mopen\u001b[49m\u001b[43m(\u001b[49m\u001b[43mfilename\u001b[49m\u001b[43m,\u001b[49m\u001b[43m \u001b[49m\u001b[38;5;124;43m\"\u001b[39;49m\u001b[38;5;124;43mrb\u001b[39;49m\u001b[38;5;124;43m\"\u001b[39;49m\u001b[43m)\u001b[49m\n\u001b[1;32m   3228\u001b[0m     exclusive_fp \u001b[38;5;241m=\u001b[39m \u001b[38;5;28;01mTrue\u001b[39;00m\n\u001b[1;32m   3230\u001b[0m \u001b[38;5;28;01mtry\u001b[39;00m:\n",
      "\u001b[0;31mFileNotFoundError\u001b[0m: [Errno 2] No such file or directory: '/home/runner/.meerkat/datasets/imagenette/160px/imagenette2-160/train/n02979186/n02979186_9715.JPEG'"
     ]
    }
   ],
   "source": [
    "   row()"
   ]
  },
  {
   "cell_type": "code",
   "execution_count": null,
   "id": "c59e9a52",
   "metadata": {},
   "outputs": [],
   "source": [
    "   row[\"img\"]()"
   ]
  },
  {
   "cell_type": "markdown",
   "id": "677b01ee",
   "metadata": {},
   "source": [
    "_Why do we wait to load the image into memory?_ Image datasets often don't fit into memory. By deferring the loading of images until they are needed, we can manipulate large image datasets quickly.\n",
    "\n",
    "```{admonition} Materializing Deferred Columns\n",
    "The images in `df` are stored in a subclass of {class}`~meerkat.DeferredColumn` called {class}`~meerkat.ImageColumn`.\n",
    "Deferred columns are a special type of column that defer the materialization of data until it is needed. They play a central role in Meerkat as they make it easy to work with large data types like images and videos.\n",
    "Learn more in the {doc}`deferred` guide.\n",
    "```\n",
    "\n",
    "#### `int` -> {class}`Any`\n",
    "\n",
    "The same position-based indexing works for selecting a single cell from a Column."
   ]
  },
  {
   "cell_type": "code",
   "execution_count": null,
   "id": "8c819394",
   "metadata": {},
   "outputs": [],
   "source": [
    "col = df[\"label\"]\n",
    "col[2]"
   ]
  },
  {
   "cell_type": "markdown",
   "id": "b7314d89",
   "metadata": {},
   "source": [
    "Passing an `int` that is less than `0` or greater than `len(df[\"label\"])` will raise an `IndexError`.\n",
    "\n",
    "### Selecting Multiple Rows by Position\n",
    "\n",
    "There are three different ways we can select a subset of rows from a DataFrame or Column: via `slice`, `Sequence[int]`, or `Sequence[bool]`.\n",
    "\n",
    "#### `slice` -> {class}`~meerkat.DataFrame`\n",
    "\n",
    "To select a set of contiguous rows from a DataFrame, we can use an integer slice `[start:end]`.\n",
    "The subset of rows will be returned as a new DataFrame."
   ]
  },
  {
   "cell_type": "code",
   "execution_count": null,
   "id": "cd77bb18",
   "metadata": {},
   "outputs": [],
   "source": [
    "    df[50:100]"
   ]
  },
  {
   "cell_type": "markdown",
   "id": "30421407",
   "metadata": {},
   "source": [
    "We can also use integer slices to select a set of evenly spaced rows from a DataFrame `[start:end:step]`. For example, below we select every tenth row from the first 100 rows in the DataFrame."
   ]
  },
  {
   "cell_type": "code",
   "execution_count": null,
   "id": "3648c887",
   "metadata": {},
   "outputs": [],
   "source": [
    "    df[0:100:10]"
   ]
  },
  {
   "cell_type": "markdown",
   "id": "0cd3bb63",
   "metadata": {},
   "source": [
    "#### `Sequence[int]` -> {class}`~meerkat.DataFrame`\n",
    "\n",
    "To select multiple rows from a DataFrame we can also pass a list of `int`."
   ]
  },
  {
   "cell_type": "code",
   "execution_count": null,
   "id": "7ccde739",
   "metadata": {},
   "outputs": [],
   "source": [
    "    small_df = df[[0, 2, 5, 8, 17]]\n",
    "    small_df"
   ]
  },
  {
   "cell_type": "markdown",
   "id": "31764b86",
   "metadata": {},
   "source": [
    "Other valid sequences of `int` that can be used to index are:\n",
    "\n",
    "- `Tuple[int]` – a tuple of integers.\n",
    "- `np.ndarray[np.integer]` - a NumPy NDArray with `dtype` `np.integer`.\n",
    "- `pd.Series[np.integer]` - a Pandas Series with `dtype` `np.integer`.\n",
    "- `torch.Tensor[torch.int64]` - a PyTorch Tensor with `dtype` `torch.int`.\n",
    "- `mk.Column` - a Meerkat column who's cells are `int`, `np.integer`, or `torch.int64`.\n",
    "\n",
    "This is useful when the rows are neither contiguous nor evenly spaced (otherwise slice indexing, described above, is faster).\n",
    "\n",
    "#### `Sequence[bool]` -> {class}`~meerkat.DataFrame`\n",
    "\n",
    "To select multiple rows from a DataFrame we can also pass a list of `bool` the\n",
    "same length as the DataFrame. Below we select the first and last rows from\n",
    "the smaller DataFrame `small_df` that we selected in the panel above."
   ]
  },
  {
   "cell_type": "code",
   "execution_count": null,
   "id": "4c582416",
   "metadata": {},
   "outputs": [],
   "source": [
    "small_df[[True, False, False, False, True]]"
   ]
  },
  {
   "cell_type": "markdown",
   "id": "692d0cbd",
   "metadata": {},
   "source": [
    "Other valid sequences of `bool` that can be used to select are:\n",
    "\n",
    "- `Tuple[bool]` – a tuple of bool.\n",
    "- `np.ndarray[bool]` - a NumPy NDArray with `dtype` `bool`.\n",
    "- `pd.Series[bool]` - a Pandas Series with `dtype` `bool`.\n",
    "- `torch.Tensor[torch.bool]` - a PyTorch Tensor with `dtype` `torch.bool`.\n",
    "- `mk.Column` - a Meerkat column who's cells are `int`, `bool`, or `torch.bool`.\n",
    "\n",
    "This is very useful for quickly selecting a subset of rows that satisfy a predicate\n",
    "(like you might do with a `WHERE` clause in SQL).\n",
    "For example, say we want to select all rows that have a value of `\"parachute\"` in\n",
    "the `\"label\"` column. We could do this using the following code:"
   ]
  },
  {
   "cell_type": "code",
   "execution_count": null,
   "id": "64ec0dc9",
   "metadata": {},
   "outputs": [],
   "source": [
    "    parachute_df = df[df[\"label\"] == \"parachute\"]\n",
    "    parachute_df.head()"
   ]
  },
  {
   "cell_type": "markdown",
   "id": "dab47354",
   "metadata": {},
   "source": [
    "```{admonition} Copy vs. Reference\n",
    "\n",
    "See {doc}`advanced/copying.rst` for more information.\n",
    "\n",
    "You may be wondering whether the rows returned by indexing are copies or references of the rows in the original DataFrame.\n",
    "This depends on (1) which of the selection strategies above you use (``slice`` vs. ``Sequence[int]`` vs. ``Sequence[bool]``)  and (2) the column type (*e.g.* {class}`PandasSeriesColumn`, {class}`TensorColumn`).\n",
    "\n",
    "In general, columns inherit the copying behavior of their underlying data structure.\n",
    "For example, a {class}`TensorColumn` has the copying behavior of a NumPy array, as described in the `Numpy indexing documentation <https://numpy.org/doc/stable/reference/arrays.indexing.html>`_.\n",
    "See a more detailed discussion in {doc}`advanced/copying.rst` .\n",
    "```\n",
    "\n",
    "(key-based-selection)=\n",
    "\n",
    "## Selecting Rows by Key\n",
    "\n",
    "It is also possible to select rows from a DataFrame by a key column.\n",
    "In Meerkat, a key column is a {class}`~meerkat.ScalarColumn` containing `str` or `int` values that uniquely identify each row. The primary key in Meerkat is analogous to the primary key in a SQL database or the index in a Pandas DataFrame.\n",
    "\n",
    "The primary key of `df` is the `\"img_id\"` column."
   ]
  },
  {
   "cell_type": "code",
   "execution_count": null,
   "id": "6725e5bc",
   "metadata": {},
   "outputs": [],
   "source": [
    "    print(df.primary_key_name)\n",
    "    df.primary_key"
   ]
  },
  {
   "cell_type": "markdown",
   "id": "39aecd46",
   "metadata": {},
   "source": [
    "The primary key can be set using {func}`~meerkat.DataFrame.set_primary_key`, which takes a column name or a {class}`~meerkat.ScalarColumn` as input.\n",
    "\n",
    "### Selecting a Single Row by Key\n",
    "\n",
    "#### `str|int` -> {class}`~meerkat.Row`\n",
    "\n",
    "To select a single row from a DataFrame by key, we can use the `.loc[]` operator and pass a key value."
   ]
  },
  {
   "cell_type": "code",
   "execution_count": null,
   "id": "0472c0e9",
   "metadata": {},
   "outputs": [],
   "source": [
    "    df.loc[\"n03888257_37776\"]"
   ]
  },
  {
   "cell_type": "markdown",
   "id": "d58abc21",
   "metadata": {},
   "source": [
    "### Selecting Multiple Rows by Key\n",
    "\n",
    "#### `Sequence[str|int]` -> {class}`~meerkat.DataFrame`\n",
    "\n",
    "We can also select a subset of rows in a DataFrame by passing a list of key values to `.loc[]`."
   ]
  },
  {
   "cell_type": "code",
   "execution_count": null,
   "id": "8801f76d",
   "metadata": {},
   "outputs": [],
   "source": [
    "    df.loc[[\"n03888257_37776\", \"n03425413_20711\", \"n03425413_1242\"]]"
   ]
  },
  {
   "cell_type": "markdown",
   "id": "f761d72e",
   "metadata": {},
   "source": [
    "Passing a `str|int` that isn't in the primary key will raise a `KeyError`.\n",
    "\n",
    "```{admonition} For Pandas Users\n",
    "\n",
    "``index vs. primary key``:\n",
    "Pandas DataFrames maintain an index object that is separate from the DataFrame's columns.\n",
    "The index object is used to select rows by key using the ``.loc[]`` indexer.\n",
    "In Meerkat, there is no separate index object.\n",
    "Instead, we designate one of the columns the primary key and can select rows based on the values in that column using ``.loc[]``.\n",
    "The Meerkat approach, where the primary key is a column in the DataFrame, resembles the approach taken by most SQL databases.\n",
    "\n",
    "``.iloc``:\n",
    "Pandas users are likely familiar with ``.loc`` properties of DataFrame and Series.\n",
    "These properties are used to select data by integer position and by key in the index, respectively.\n",
    "In Meerkat, we do not support ``.iloc`` – to index by position, simply apply the index operator `[]` directly to the object.\n",
    "```"
   ]
  }
 ],
 "metadata": {
  "file_format": "mystnb",
  "kernelspec": {
   "display_name": "python3",
   "name": "python3"
  },
  "language_info": {
   "codemirror_mode": {
    "name": "ipython",
    "version": 3
   },
   "file_extension": ".py",
   "mimetype": "text/x-python",
   "name": "python",
   "nbconvert_exporter": "python",
   "pygments_lexer": "ipython3",
   "version": "3.8.16"
  },
  "source_map": [
   5,
   15,
   18,
   31,
   33,
   43,
   46,
   60,
   63,
   79,
   81,
   91,
   94,
   102,
   106,
   108,
   122,
   125,
   138,
   140,
   144,
   146,
   152,
   155,
   173,
   176,
   191,
   194,
   217,
   220,
   230,
   232,
   240,
   242
  ]
 },
 "nbformat": 4,
 "nbformat_minor": 5
}