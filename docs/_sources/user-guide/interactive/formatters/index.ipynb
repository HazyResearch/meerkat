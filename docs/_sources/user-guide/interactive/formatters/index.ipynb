{
 "cells": [
  {
   "cell_type": "markdown",
   "id": "3a747819",
   "metadata": {},
   "source": [
    "(guide/interactive/formatters/overview)=\n",
    "# Formatters\n",
    "Meerkat GUIs can display data of many different types, from images, to long-form text, to audio.  Formatters control how these data types are displayed and interacted with in Meerkat GUIs.\n",
    "\n",
    "For example, images can be displayed using the {class}`meerkat.format.ImageFormatter`. \n",
    "Each formatter, specifies optional parameters that can be used to configure how the data is displayed. For example, the {class}`meerkat.format.ImageFormatter` has a `max_size` parameter that can be used to specify the maximum size of the image to display."
   ]
  },
  {
   "cell_type": "code",
   "execution_count": 1,
   "id": "b72e6ef0",
   "metadata": {},
   "outputs": [],
   "source": [
    "import meerkat as mk\n",
    "formatter = mk.format.ImageFormatter(max_size=(224, 224))"
   ]
  },
  {
   "cell_type": "markdown",
   "id": "ca440234",
   "metadata": {},
   "source": [
    "## Formatter Group\n",
    "Data in a Meerkat column sometimes need to be displayed differently in different GUI contexts. For example, in a table, we display thumbnails of images, but in a carousel view, we display the full image. \n",
    "\n",
    "Because most components in Meerkat work on any data type, it is important that they are implemented in a formatter-agnostic way. So, instead of specifying formatters, components make requests for data specifying a *formatter placeholder*. For example, the {class}`mk.gui.Gallery` component requests data using the `thumbnail` formatter placeholder.\n",
    "\n",
    "For a specific column of data, we specify which formatters to use for each placeholder using a *formatter group*. A formatter group is a mapping from formatter placeholders to formatters. Each column in Meerkat has a `formatter_group` property. A column's formatter group controls how it will be displayed in different contexts in Meerkat GUIs. \n",
    "\n",
    "Much of the time, you don't need to worry about specifying a formatter group, each column automatically populates its formatter group with sensible defaults. \n",
    "\n",
    "For example, let's take a look at the formatter group for a column of images in the `imagenette` dataset."
   ]
  },
  {
   "cell_type": "code",
   "execution_count": 2,
   "id": "4a6a290d",
   "metadata": {},
   "outputs": [
    {
     "data": {
      "application/vnd.jupyter.widget-view+json": {
       "model_id": "9f5f5b083dee4edaa8e4bec968dc30a2",
       "version_major": 2,
       "version_minor": 0
      },
      "text/plain": [
       "Downloading:   0%|          | 0.00/1.56G [00:00<?, ?B/s]"
      ]
     },
     "metadata": {},
     "output_type": "display_data"
    },
    {
     "ename": "AttributeError",
     "evalue": "'FileColumn' object has no attribute 'formatter_group'",
     "output_type": "error",
     "traceback": [
      "\u001b[0;31m---------------------------------------------------------------------------\u001b[0m",
      "\u001b[0;31mAttributeError\u001b[0m                            Traceback (most recent call last)",
      "Cell \u001b[0;32mIn[2], line 4\u001b[0m\n\u001b[1;32m      1\u001b[0m \u001b[38;5;28;01mimport\u001b[39;00m \u001b[38;5;21;01mmeerkat\u001b[39;00m \u001b[38;5;28;01mas\u001b[39;00m \u001b[38;5;21;01mmk\u001b[39;00m\n\u001b[1;32m      3\u001b[0m df \u001b[38;5;241m=\u001b[39m mk\u001b[38;5;241m.\u001b[39mget(\u001b[38;5;124m\"\u001b[39m\u001b[38;5;124mimagenette\u001b[39m\u001b[38;5;124m\"\u001b[39m)\n\u001b[0;32m----> 4\u001b[0m \u001b[43mdf\u001b[49m\u001b[43m[\u001b[49m\u001b[38;5;124;43m\"\u001b[39;49m\u001b[38;5;124;43mimg\u001b[39;49m\u001b[38;5;124;43m\"\u001b[39;49m\u001b[43m]\u001b[49m\u001b[38;5;241;43m.\u001b[39;49m\u001b[43mformatter_group\u001b[49m\n",
      "File \u001b[0;32m~/work/meerkat/meerkat/meerkat/mixins/reactifiable.py:60\u001b[0m, in \u001b[0;36mReactifiableMixin.__getattribute__\u001b[0;34m(self, name)\u001b[0m\n\u001b[1;32m     58\u001b[0m \u001b[38;5;28;01mwith\u001b[39;00m unmarked():\n\u001b[1;32m     59\u001b[0m     is_self_marked \u001b[38;5;241m=\u001b[39m \u001b[38;5;28msuper\u001b[39m()\u001b[38;5;241m.\u001b[39m\u001b[38;5;21m__getattribute__\u001b[39m(\u001b[38;5;124m\"\u001b[39m\u001b[38;5;124m_self_marked\u001b[39m\u001b[38;5;124m\"\u001b[39m)\n\u001b[0;32m---> 60\u001b[0m     attr \u001b[38;5;241m=\u001b[39m \u001b[38;5;28;43msuper\u001b[39;49m\u001b[43m(\u001b[49m\u001b[43m)\u001b[49m\u001b[38;5;241;43m.\u001b[39;49m\u001b[38;5;21;43m__getattribute__\u001b[39;49m\u001b[43m(\u001b[49m\u001b[43mname\u001b[49m\u001b[43m)\u001b[49m\n\u001b[1;32m     61\u001b[0m     is_method_or_fn \u001b[38;5;241m=\u001b[39m inspect\u001b[38;5;241m.\u001b[39mismethod(attr) \u001b[38;5;129;01mor\u001b[39;00m inspect\u001b[38;5;241m.\u001b[39misfunction(attr)\n\u001b[1;32m     62\u001b[0m     attr_is_reactive_fn \u001b[38;5;241m=\u001b[39m is_method_or_fn \u001b[38;5;129;01mand\u001b[39;00m is_reactive_fn(attr)\n",
      "\u001b[0;31mAttributeError\u001b[0m: 'FileColumn' object has no attribute 'formatter_group'"
     ]
    }
   ],
   "source": [
    "import meerkat as mk\n",
    "\n",
    "df = mk.get(\"imagenette\")\n",
    "df[\"img\"].formatter_group"
   ]
  },
  {
   "cell_type": "markdown",
   "id": "7fee6417",
   "metadata": {},
   "source": [
    "This tells Meerkat components to use `ImageFormatter(max_size=(224, 224))` when displaying thumbnails of column values, as in the {class}`mk.gui.Table` component. \n",
    "\n",
    "## Changing Formatters \n",
    "\n",
    "There are two ways you can use formatters to control how data is displayed in Meerkat GUIs.\n",
    "1. By updating a column's formatter:"
   ]
  },
  {
   "cell_type": "code",
   "execution_count": null,
   "id": "47bcf43d",
   "metadata": {},
   "outputs": [],
   "source": [
    "df[\"img\"].formatter_group[\"thumbnail\"] = ImageFormatter(max_size=(48, 48))"
   ]
  },
  {
   "cell_type": "markdown",
   "id": "2b79fd73",
   "metadata": {},
   "source": [
    "2. By specifying it when creating a component:\n",
    "```python\n",
    "df.columns # ['img', 'text']\n",
    "gallery = Gallery(\n",
    "  df=df.format(\n",
    "    img={\"thumbnail\": ImageFormatter(max_size=(48, 48))},\n",
    "    text={\"icon\": TextFormatter()},\n",
    "  )\n",
    ")\n",
    "```\n",
    "\n",
    "\n",
    "## Implementing a Formatter\n",
    "You can implement your own formatter for a custom data type. \n",
    "A formatter implementation must specify three things: a `component_class`, an `encode` method, a `props` method, a `_get_state` method, and a `_set_state` method. \n",
    "\n",
    "Consider the following example of a formatter that encodes images as base64 strings and sends them to the frontend to be displayed using the `Image` component.\n",
    "\n",
    "```python\n",
    "class ImageFormatter(Formatter):\n",
    "    component_class = Image\n",
    "\n",
    "    def __init__(\n",
    "        self, max_size: Tuple[int] = None, classes: str = \"\", grayscale: str = False\n",
    "    ):\n",
    "        self.max_size = max_size\n",
    "        self.classes = classes\n",
    "        self.grayscale = grayscale\n",
    "\n",
    "    def encode(self, cell: Image) -> str:\n",
    "        with BytesIO() as buffer:\n",
    "            if self.max_size:\n",
    "                cell.thumbnail(self.max_size)\n",
    "            cell.save(buffer, \"jpeg\")\n",
    "            return \"data:image/jpeg;base64,{im_base_64}\".format(\n",
    "                im_base_64=base64.b64encode(buffer.getvalue()).decode()\n",
    "            )\n",
    "\n",
    "    @property\n",
    "    def props(self) -> Dict[str, Any]:\n",
    "        return {\"classes\": self.classes, \"grayscale\": self.grayscale}\n",
    "```\n",
    "Let's break down what's happening here. \n",
    "- `component_class` specifies the class of the frontend component that should be created to display the data. In this case, it is the `Image` component defined below.\n",
    "```python\n",
    "class Image(Component):\n",
    "    data: str\n",
    "    classes: str = \"\"\n",
    "    grayscale: str = False\n",
    "```\n",
    "- `props` specifies the values of the properties passed when constructing the components. Notice that the keys in the returned dictionary match the names of the properties defined in the `Image` component above. \n",
    "\n",
    "- `encode` specifies how a single cell from a column should be encoded on the Python side before being sent up to the frontend. In this case we are encoding an image as a base-64 string.\n",
    "\n",
    "It's also important to implement \n",
    "\n",
    "## Formatter Placeholders\n",
    "As we discussed above, components specify formatter placeholders when requesting data from a column. This allows them to be formatter-agnostic, while still being able to display data in different ways depending on the context.\n",
    "\n",
    "Formatter placeholders have special names, such as `icon`, `focus`, and `thumbnail`, which\n",
    "allow you to configure them when using Meerkat components in Python.\n",
    "\n",
    "Components can use one or more of these placeholders (or define custom formatter placeholders) in order to change the encoding of the data fetched from the Python backend. They can pass formatter placeholders to the data fetching API provided by Meerkat, and data in the requested format is then delivered to them.\n",
    "\n",
    "You can also define custom formatter placeholders that you want to associate with a frontend component that you might be building. For example, say you want to define a `anonymous` formatter that will be used to display data in an anonymized way e.g. to blur images, videos and text, and scramble audio.\n",
    "\n",
    "```python\n",
    "class Anonymous(FormatterPlaceholder):\n",
    "  \"\"\"\n",
    "  A placeholder that represents formatters that anonymize data.\n",
    "  \n",
    "  Ideally, should be configured by formatters that blur or \n",
    "  deidentify data e.g. blur images, videos, etc.\n",
    "  \"\"\"\n",
    "  fallbacks: [Small]\n",
    "```\n",
    "\n",
    "Here, you use `fallbacks` to specify a formatter variable to use instead of `anonymous` if the user forgets to configure it. All formatter placeholders fallback to using `base` automatically, which uses a standard encoding of all data types to make sure everything can be displayed.\n",
    "\n",
    "You would then use this `anonymous` variable in your frontend code when fetching data using the Meerkat `js` API.\n",
    "\n",
    "```js\n",
    "// Fetch data from the backend using the anonymous formatter.\n",
    "data = await fetchChunk({\n",
    "  ...,\n",
    "  formatter: \"anonymous\"\n",
    "});\n",
    "```\n",
    "\n",
    "And you can implement custom formatters to achieve the effect of anonymizing data before sending it to the frontend e.g. using a blur filter over image data in the `encode` method of an `ImageBlurFormatter`.\n",
    "\n",
    "When and where do we tell Meerkat how to associate formatter placeholders to these formatters? This is where formatter groups are used, which we discuss next.\n",
    "\n",
    "\n",
    "As a user, when using a component with one or more formatter placeholders, you can pass in the formatter you want to use for each formatter variable. Meerkat will automatically ensure that the frontend gets data using the `encode` method associated with the formatter that was passed in."
   ]
  }
 ],
 "metadata": {
  "file_format": "mystnb",
  "kernelspec": {
   "display_name": "python3",
   "name": "python3"
  },
  "language_info": {
   "codemirror_mode": {
    "name": "ipython",
    "version": 3
   },
   "file_extension": ".py",
   "mimetype": "text/x-python",
   "name": "python",
   "nbconvert_exporter": "python",
   "pygments_lexer": "ipython3",
   "version": "3.8.16"
  },
  "source_map": [
   5,
   15,
   18,
   30,
   35,
   43,
   45
  ]
 },
 "nbformat": 4,
 "nbformat_minor": 5
}