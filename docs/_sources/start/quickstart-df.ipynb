{
 "cells": [
  {
   "cell_type": "markdown",
   "id": "77ec340a",
   "metadata": {},
   "source": [
    "# Quickstart: Data Frames\n",
    "\n",
    "*What is `Meerkat`?*  `Meerkat` is a DataFrame library that enables data scientists and ML practitioners to interact with complex data types like images, video and free text.\n",
    "\n",
    "In this document, we'll walkthrough how a Meerkat can be used to analyze a small image dataset. It is targetted for newcomers, who would like a fast introduction to core concepts in Meerkat."
   ]
  },
  {
   "cell_type": "code",
   "execution_count": 1,
   "id": "aa5047a8",
   "metadata": {},
   "outputs": [],
   "source": [
    "import os\n",
    "import meerkat as mk\n",
    "import numpy as np"
   ]
  },
  {
   "cell_type": "markdown",
   "id": "cad79be0",
   "metadata": {},
   "source": [
    "## 💾 Downloading the data\n",
    "First, we'll download some data to explore. We're going to use the [Imagenette dataset](https://github.com/fastai/imagenette#image%E7%BD%91), a small subset of the original [ImageNet](https://www.image-net.org/update-mar-11-2021.php).  This dataset is made up of 10 classes (e.g. \"garbage truck\", \"gas pump\", \"golf ball\").\n",
    "- Download time: <1 minute\n",
    "- Download size: 130M\n",
    "\n",
    "In addition to downloading the data, `download_imagnette` prepares a CSV, `imagenette.csv`, with a row for each image."
   ]
  },
  {
   "cell_type": "code",
   "execution_count": 2,
   "id": "8ed4aabe",
   "metadata": {},
   "outputs": [
    {
     "data": {
      "application/vnd.jupyter.widget-view+json": {
       "model_id": "465815234ec64becbb862fd3eb91b24f",
       "version_major": 2,
       "version_minor": 0
      },
      "text/plain": [
       "Downloading:   0%|          | 0.00/99.0M [00:00<?, ?B/s]"
      ]
     },
     "metadata": {},
     "output_type": "display_data"
    },
    {
     "name": "stdout",
     "output_type": "stream",
     "text": [
      "Extracting tar archive, this may take a few minutes...\n"
     ]
    },
    {
     "ename": "KeyboardInterrupt",
     "evalue": "",
     "output_type": "error",
     "traceback": [
      "\u001b[0;31m---------------------------------------------------------------------------\u001b[0m",
      "\u001b[0;31mKeyboardInterrupt\u001b[0m                         Traceback (most recent call last)",
      "Cell \u001b[0;32mIn[2], line 5\u001b[0m\n\u001b[1;32m      3\u001b[0m dataset_dir \u001b[38;5;241m=\u001b[39m \u001b[38;5;124m\"\u001b[39m\u001b[38;5;124m./downloads\u001b[39m\u001b[38;5;124m\"\u001b[39m\n\u001b[1;32m      4\u001b[0m os\u001b[38;5;241m.\u001b[39mmakedirs(dataset_dir, exist_ok\u001b[38;5;241m=\u001b[39m\u001b[38;5;28;01mTrue\u001b[39;00m)\n\u001b[0;32m----> 5\u001b[0m \u001b[43mdownload_imagenette\u001b[49m\u001b[43m(\u001b[49m\u001b[43mdataset_dir\u001b[49m\u001b[43m,\u001b[49m\u001b[43m \u001b[49m\u001b[43moverwrite\u001b[49m\u001b[38;5;241;43m=\u001b[39;49m\u001b[38;5;28;43;01mTrue\u001b[39;49;00m\u001b[43m)\u001b[49m;\n",
      "File \u001b[0;32m~/work/meerkat/meerkat/meerkat/datasets/imagenette/__init__.py:132\u001b[0m, in \u001b[0;36mdownload_imagenette\u001b[0;34m(download_dir, version, overwrite, return_df)\u001b[0m\n\u001b[1;32m    130\u001b[0m     \u001b[38;5;28mprint\u001b[39m(\u001b[38;5;124m\"\u001b[39m\u001b[38;5;124mExtracting tar archive, this may take a few minutes...\u001b[39m\u001b[38;5;124m\"\u001b[39m)\n\u001b[1;32m    131\u001b[0m     tar \u001b[38;5;241m=\u001b[39m tarfile\u001b[38;5;241m.\u001b[39mopen(cached_tar_path)\n\u001b[0;32m--> 132\u001b[0m     \u001b[43mtar\u001b[49m\u001b[38;5;241;43m.\u001b[39;49m\u001b[43mextractall\u001b[49m\u001b[43m(\u001b[49m\u001b[43mdownload_dir\u001b[49m\u001b[43m)\u001b[49m\n\u001b[1;32m    133\u001b[0m     tar\u001b[38;5;241m.\u001b[39mclose()\n\u001b[1;32m    134\u001b[0m     \u001b[38;5;66;03m# os.remove(tar_path)\u001b[39;00m\n\u001b[1;32m    135\u001b[0m \u001b[38;5;28;01melse\u001b[39;00m:\n",
      "File \u001b[0;32m/opt/hostedtoolcache/Python/3.8.16/x64/lib/python3.8/tarfile.py:2028\u001b[0m, in \u001b[0;36mTarFile.extractall\u001b[0;34m(self, path, members, numeric_owner)\u001b[0m\n\u001b[1;32m   2026\u001b[0m         tarinfo\u001b[38;5;241m.\u001b[39mmode \u001b[38;5;241m=\u001b[39m \u001b[38;5;241m0o700\u001b[39m\n\u001b[1;32m   2027\u001b[0m     \u001b[38;5;66;03m# Do not set_attrs directories, as we will do that further down\u001b[39;00m\n\u001b[0;32m-> 2028\u001b[0m     \u001b[38;5;28;43mself\u001b[39;49m\u001b[38;5;241;43m.\u001b[39;49m\u001b[43mextract\u001b[49m\u001b[43m(\u001b[49m\u001b[43mtarinfo\u001b[49m\u001b[43m,\u001b[49m\u001b[43m \u001b[49m\u001b[43mpath\u001b[49m\u001b[43m,\u001b[49m\u001b[43m \u001b[49m\u001b[43mset_attrs\u001b[49m\u001b[38;5;241;43m=\u001b[39;49m\u001b[38;5;129;43;01mnot\u001b[39;49;00m\u001b[43m \u001b[49m\u001b[43mtarinfo\u001b[49m\u001b[38;5;241;43m.\u001b[39;49m\u001b[43misdir\u001b[49m\u001b[43m(\u001b[49m\u001b[43m)\u001b[49m\u001b[43m,\u001b[49m\n\u001b[1;32m   2029\u001b[0m \u001b[43m                 \u001b[49m\u001b[43mnumeric_owner\u001b[49m\u001b[38;5;241;43m=\u001b[39;49m\u001b[43mnumeric_owner\u001b[49m\u001b[43m)\u001b[49m\n\u001b[1;32m   2031\u001b[0m \u001b[38;5;66;03m# Reverse sort directories.\u001b[39;00m\n\u001b[1;32m   2032\u001b[0m directories\u001b[38;5;241m.\u001b[39msort(key\u001b[38;5;241m=\u001b[39m\u001b[38;5;28;01mlambda\u001b[39;00m a: a\u001b[38;5;241m.\u001b[39mname)\n",
      "File \u001b[0;32m/opt/hostedtoolcache/Python/3.8.16/x64/lib/python3.8/tarfile.py:2069\u001b[0m, in \u001b[0;36mTarFile.extract\u001b[0;34m(self, member, path, set_attrs, numeric_owner)\u001b[0m\n\u001b[1;32m   2066\u001b[0m     tarinfo\u001b[38;5;241m.\u001b[39m_link_target \u001b[38;5;241m=\u001b[39m os\u001b[38;5;241m.\u001b[39mpath\u001b[38;5;241m.\u001b[39mjoin(path, tarinfo\u001b[38;5;241m.\u001b[39mlinkname)\n\u001b[1;32m   2068\u001b[0m \u001b[38;5;28;01mtry\u001b[39;00m:\n\u001b[0;32m-> 2069\u001b[0m     \u001b[38;5;28;43mself\u001b[39;49m\u001b[38;5;241;43m.\u001b[39;49m\u001b[43m_extract_member\u001b[49m\u001b[43m(\u001b[49m\u001b[43mtarinfo\u001b[49m\u001b[43m,\u001b[49m\u001b[43m \u001b[49m\u001b[43mos\u001b[49m\u001b[38;5;241;43m.\u001b[39;49m\u001b[43mpath\u001b[49m\u001b[38;5;241;43m.\u001b[39;49m\u001b[43mjoin\u001b[49m\u001b[43m(\u001b[49m\u001b[43mpath\u001b[49m\u001b[43m,\u001b[49m\u001b[43m \u001b[49m\u001b[43mtarinfo\u001b[49m\u001b[38;5;241;43m.\u001b[39;49m\u001b[43mname\u001b[49m\u001b[43m)\u001b[49m\u001b[43m,\u001b[49m\n\u001b[1;32m   2070\u001b[0m \u001b[43m                         \u001b[49m\u001b[43mset_attrs\u001b[49m\u001b[38;5;241;43m=\u001b[39;49m\u001b[43mset_attrs\u001b[49m\u001b[43m,\u001b[49m\n\u001b[1;32m   2071\u001b[0m \u001b[43m                         \u001b[49m\u001b[43mnumeric_owner\u001b[49m\u001b[38;5;241;43m=\u001b[39;49m\u001b[43mnumeric_owner\u001b[49m\u001b[43m)\u001b[49m\n\u001b[1;32m   2072\u001b[0m \u001b[38;5;28;01mexcept\u001b[39;00m \u001b[38;5;167;01mOSError\u001b[39;00m \u001b[38;5;28;01mas\u001b[39;00m e:\n\u001b[1;32m   2073\u001b[0m     \u001b[38;5;28;01mif\u001b[39;00m \u001b[38;5;28mself\u001b[39m\u001b[38;5;241m.\u001b[39merrorlevel \u001b[38;5;241m>\u001b[39m \u001b[38;5;241m0\u001b[39m:\n",
      "File \u001b[0;32m/opt/hostedtoolcache/Python/3.8.16/x64/lib/python3.8/tarfile.py:2141\u001b[0m, in \u001b[0;36mTarFile._extract_member\u001b[0;34m(self, tarinfo, targetpath, set_attrs, numeric_owner)\u001b[0m\n\u001b[1;32m   2138\u001b[0m     \u001b[38;5;28mself\u001b[39m\u001b[38;5;241m.\u001b[39m_dbg(\u001b[38;5;241m1\u001b[39m, tarinfo\u001b[38;5;241m.\u001b[39mname)\n\u001b[1;32m   2140\u001b[0m \u001b[38;5;28;01mif\u001b[39;00m tarinfo\u001b[38;5;241m.\u001b[39misreg():\n\u001b[0;32m-> 2141\u001b[0m     \u001b[38;5;28;43mself\u001b[39;49m\u001b[38;5;241;43m.\u001b[39;49m\u001b[43mmakefile\u001b[49m\u001b[43m(\u001b[49m\u001b[43mtarinfo\u001b[49m\u001b[43m,\u001b[49m\u001b[43m \u001b[49m\u001b[43mtargetpath\u001b[49m\u001b[43m)\u001b[49m\n\u001b[1;32m   2142\u001b[0m \u001b[38;5;28;01melif\u001b[39;00m tarinfo\u001b[38;5;241m.\u001b[39misdir():\n\u001b[1;32m   2143\u001b[0m     \u001b[38;5;28mself\u001b[39m\u001b[38;5;241m.\u001b[39mmakedir(tarinfo, targetpath)\n",
      "File \u001b[0;32m/opt/hostedtoolcache/Python/3.8.16/x64/lib/python3.8/tarfile.py:2182\u001b[0m, in \u001b[0;36mTarFile.makefile\u001b[0;34m(self, tarinfo, targetpath)\u001b[0m\n\u001b[1;32m   2180\u001b[0m source\u001b[38;5;241m.\u001b[39mseek(tarinfo\u001b[38;5;241m.\u001b[39moffset_data)\n\u001b[1;32m   2181\u001b[0m bufsize \u001b[38;5;241m=\u001b[39m \u001b[38;5;28mself\u001b[39m\u001b[38;5;241m.\u001b[39mcopybufsize\n\u001b[0;32m-> 2182\u001b[0m \u001b[38;5;28;01mwith\u001b[39;00m bltn_open(targetpath, \u001b[38;5;124m\"\u001b[39m\u001b[38;5;124mwb\u001b[39m\u001b[38;5;124m\"\u001b[39m) \u001b[38;5;28;01mas\u001b[39;00m target:\n\u001b[1;32m   2183\u001b[0m     \u001b[38;5;28;01mif\u001b[39;00m tarinfo\u001b[38;5;241m.\u001b[39msparse \u001b[38;5;129;01mis\u001b[39;00m \u001b[38;5;129;01mnot\u001b[39;00m \u001b[38;5;28;01mNone\u001b[39;00m:\n\u001b[1;32m   2184\u001b[0m         \u001b[38;5;28;01mfor\u001b[39;00m offset, size \u001b[38;5;129;01min\u001b[39;00m tarinfo\u001b[38;5;241m.\u001b[39msparse:\n",
      "\u001b[0;31mKeyboardInterrupt\u001b[0m: "
     ]
    }
   ],
   "source": [
    "from meerkat.datasets.imagenette import download_imagenette\n",
    "\n",
    "dataset_dir = \"./downloads\"\n",
    "os.makedirs(dataset_dir, exist_ok=True)\n",
    "download_imagenette(dataset_dir, overwrite=True);"
   ]
  },
  {
   "cell_type": "markdown",
   "id": "b850e8ca",
   "metadata": {},
   "source": [
    "Let's take a look at the CSV."
   ]
  },
  {
   "cell_type": "code",
   "execution_count": null,
   "id": "5270a4be",
   "metadata": {
    "tags": [
     "output_scroll"
    ]
   },
   "outputs": [],
   "source": [
    "!head -n 5 downloads/imagenette2-160/imagenette.csv"
   ]
  },
  {
   "cell_type": "markdown",
   "id": "aff43bc9",
   "metadata": {},
   "source": [
    "Next, we'll load it into a Meerkat `DataFrame`.\n",
    "\n",
    "## 📸 Creating an image `DataFrame`\n",
    "*For more information on creating DataFrames from various data sources, see the user guide section on {ref}`guide/dataframe/io`.*\n",
    "\n",
    "Meerkat's core contribution is the DataFrame, a simple columnar data abstraction. The Meerkat DataFrame can house columns of arbitrary type – from integers and strings to complex, high-dimensional objects like videos, images, medical volumes and graphs.\n",
    "\n",
    "We're going to build a `DataFrame` out of the `imagenette.csv` file from the download above."
   ]
  },
  {
   "cell_type": "code",
   "execution_count": null,
   "id": "f91a8f1b",
   "metadata": {
    "tags": [
     "output_scroll"
    ]
   },
   "outputs": [],
   "source": [
    "# Create a `DataFrame`\n",
    "df = mk.from_csv(\"./downloads/imagenette2-160/imagenette.csv\")\n",
    "\n",
    "# Create an `ImageColumn`` and add it to the `DataFrame`\n",
    "df[\"img\"] = mk.image(\n",
    "    df[\"img_path\"], \n",
    "    base_dir=os.path.join(dataset_dir, \"imagenette2-160\")\n",
    ")\n",
    "df"
   ]
  },
  {
   "cell_type": "markdown",
   "id": "9fae6e9c",
   "metadata": {},
   "source": [
    "The call to `head` shows the first few rows in the `DataFrame`. You can see that there are a few metadata columns, as well as the \"img\" column we added in.\n",
    "\n",
    "## 🗂 Selecting data\n",
    "*For more information see the user guide section on {ref}`guide/dataframe/selection`.*\n",
    "\n",
    "When we create an `ImageColumn` we don't load the images into memory. Instead, `ImageColumn` keeps track of all those filepaths we passed in and only loads the images when they are needed. \n",
    "\n",
    "When we select a row of the `ImageColumn`, we get an instance `FileCell` back. A `FileCell` is an object that holds everything we need to materialize the cell (e.g. the filepath to the image and the loading function), but stops just short of doing so."
   ]
  },
  {
   "cell_type": "code",
   "execution_count": null,
   "id": "10ac9e80",
   "metadata": {},
   "outputs": [],
   "source": [
    "img_cell = df[\"img\"][0]\n",
    "print(f\"Indexing the `ImageColumn` returns an object of type: {type(img_cell)}.\")"
   ]
  },
  {
   "cell_type": "markdown",
   "id": "effdb200",
   "metadata": {},
   "source": [
    "To actually materialize the image, we simply call the cell."
   ]
  },
  {
   "cell_type": "code",
   "execution_count": null,
   "id": "5b69692b",
   "metadata": {},
   "outputs": [],
   "source": [
    "img = img_cell()\n",
    "img"
   ]
  },
  {
   "cell_type": "markdown",
   "id": "5b6b7251",
   "metadata": {},
   "source": [
    "We can subselect a **batch** of images by indexing with a slice.  Notice that this returns a smaller {class}`~meerkat.DataFrame`."
   ]
  },
  {
   "cell_type": "code",
   "execution_count": null,
   "id": "884a5f3f",
   "metadata": {},
   "outputs": [],
   "source": [
    "imgs = df[\"img\"][1:4]\n",
    "print(f\"Indexing a slice of the `ImageColumn` returns a: {type(imgs)}.\")\n",
    "imgs"
   ]
  },
  {
   "cell_type": "markdown",
   "id": "08e0af50",
   "metadata": {},
   "source": [
    "The whole batch of images can be loaded together by calling the column. \n",
    "```\n",
    "imgs();\n",
    "```\n",
    "\n",
    "One can load multiple rows using any one of following indexing schemes:\n",
    "- **Slice indexing**: _e.g._ `column[4:10]`\n",
    "- **Integer array indexing**: _e.g._ `column[[0, 4, 6, 11]]`\n",
    "- **Boolean array indexing**: _e.g._ `column[np.array([True, False, False ..., True, False])]`\n",
    "\n",
    "### 📎 _Aside_: `ImageColumn` under the hood, `DeferredColumn`.\n",
    "\n",
    "If you check out the implementation of `ImageColumn` (at [meerkat/columns/image_column.py](https://github.com/HazyResearch/meerkat/blob/main/meerkat/columns/image_column.py)), you'll notice that it's a super simple subclass of `DeferredColumn`. \n",
    "\n",
    "_What's a `DeferredColumn`?_\n",
    "In `meerkat`, high-dimensional data types like images and videos are typically stored in a `DeferredColumn`. A  `DeferredColumn` wraps around another column and lazily applies a function to it's content as it is indexed. Consider the following example, where we create a simple `meerkat` column..."
   ]
  },
  {
   "cell_type": "code",
   "execution_count": null,
   "id": "dd103e71",
   "metadata": {},
   "outputs": [],
   "source": [
    "  col = mk.column([0,1,2])"
   ]
  },
  {
   "cell_type": "markdown",
   "id": "60517028",
   "metadata": {},
   "source": [
    "...and wrap it in a deferred column.\n",
    "```\n",
    "  dcol = col.defer(fn=lambda x: x + 10)\n",
    "  dcol[1]()  # the function is only called at this point!\n",
    "```\n",
    "Critically, the function inside a lambda column is only called at the time the column is called! This is very useful for columns with large data types that we don't want to load all into memory at once. For example, we could create a `DeferredColumn` that lazily loads images...\n",
    "```\n",
    "  >>> filepath_col = mk.PandasSeriesColumn([\"path/to/image0.jpg\", ...])\n",
    "  >>> img_col = filepath.defer(lambda x: load_image(x))\n",
    "```\n",
    "An `ImageColumn` is a just a `DeferredColumn` like this one, with a few more bells and whistles!\n",
    "\n",
    "## 🛠 Applying operations over the DataFrame.\n",
    "\n",
    "When analyzing data, we often perform operations on each example in our dataset (e.g. compute a model's prediction on each example, tokenize each sentence, compute a model's embedding for each example) and store them. The `DataFrame` makes it easy to perform these operations:  \n",
    "- Produce new columns (via `DataFrame.map`)\n",
    "- Produce new columns and store the columns alongside the original data (via `DataFrame.update`)\n",
    "- Extract an important subset of the datset (via `DataFrame.filter`).   \n",
    "\n",
    "Under the hood, dataloading is multiprocessed so that costly I/O doesn't bottleneck our computation.\n",
    "\n",
    "Let's start by filtering the `DataFrame` down to the examples in the validation set."
   ]
  },
  {
   "cell_type": "code",
   "execution_count": null,
   "id": "66454b3d",
   "metadata": {},
   "outputs": [],
   "source": [
    "valid_df = df.filter(lambda split: split == \"valid\")"
   ]
  },
  {
   "cell_type": "markdown",
   "id": "03923a98",
   "metadata": {},
   "source": [
    "### 🫐  Using `DataFrame.map` to compute average intensity of the blue color channel in the images.\n",
    "\n",
    "To demonstrate the utility of the `map` operation, we'll explore the relationship between the \"blueness\" of an image and the class of the image. \n",
    "\n",
    "We'll quantify the \"blueness\" of each image by simply computing the mean intensity of the blue color channel. This can be accomplished with a simple `map` operation over the `DataFrame`:"
   ]
  },
  {
   "cell_type": "code",
   "execution_count": null,
   "id": "fb673199",
   "metadata": {},
   "outputs": [],
   "source": [
    "blue_col = valid_df.map(\n",
    "    lambda img: np.array(img)[:, :, 2].mean(), \n",
    "    num_workers=2\n",
    ")\n",
    "\n",
    "# Add the intensities as a new column in the `DataFrame` \n",
    "valid_df[\"avg_blue\"] = blue_col"
   ]
  },
  {
   "cell_type": "markdown",
   "id": "817fcdb2",
   "metadata": {},
   "source": [
    "### 🪂 vs. ⛳️\n",
    "Next, we'll explore the relationship between blueness and the class label of the image. To do so, we'll compare the blue intensity distribution of images labeled \"parachute\" to the distribution of of images labeled \"golf ball\".\n",
    "Using the [`seaborn`](https://seaborn.pydata.org/installing.html) plotting package and our `DataFrame`, this can be accomplished in one line:"
   ]
  },
  {
   "cell_type": "code",
   "execution_count": null,
   "id": "189c3c4e",
   "metadata": {},
   "outputs": [],
   "source": [
    "## OPTIONAL: this cell requires the seaborn dependency: https://seaborn.pydata.org/installing.html \n",
    "import seaborn as sns\n",
    "\n",
    "plot_df = valid_df[np.isin(valid_df[\"label\"], [\"golf ball\", \"parachute\"])]\n",
    "sns.displot(\n",
    "    data=plot_df.to_pandas(), \n",
    "    x=\"avg_blue\", \n",
    "    hue=\"label\", \n",
    "    height=3, \n",
    "    aspect=2\n",
    ")"
   ]
  },
  {
   "cell_type": "code",
   "execution_count": null,
   "id": "7991951c",
   "metadata": {},
   "outputs": [],
   "source": [
    "valid_df[\"img\"][int(np.argmax(valid_df[\"avg_blue\"]))]"
   ]
  },
  {
   "cell_type": "markdown",
   "id": "282adf04",
   "metadata": {},
   "source": [
    "## 📉 ML with images in `meerkat`.\n",
    "\n",
    "Let's do some machine learning on our Imagenette `DataFrame`.\n",
    "We'll take a resnet18 pretrained on the full ImageNet dataset, perform inference on the validation set, and analyze the model's predictions and activations. \n",
    "\n",
    "The cell below downloads the model.."
   ]
  },
  {
   "cell_type": "code",
   "execution_count": null,
   "id": "b20342c1",
   "metadata": {},
   "outputs": [],
   "source": [
    "import torch\n",
    "from torchvision.models import resnet18\n",
    "import torchvision.transforms as transforms\n",
    "model = resnet18(pretrained=True)"
   ]
  },
  {
   "cell_type": "markdown",
   "id": "aa8d5e58",
   "metadata": {},
   "source": [
    "### 💈  Applying a transform to the images.\n",
    "In order to do inference, we'll need to create a _new_ {class}`~meerkat.DeferredColumn`. The `ImageColumn` we defined above (_i.e._ `\"img_path\"`), does not apply any transforms after loading and simply returns a PIL image. Before passing the images through the model, we need to convert the PIL image to a `torch.Tensor` and normalize the color channels (along with a few other transformations). \n",
    "\n",
    "Note: the transforms defined below are the same as the ones used by torchvision, see [here](https://github.com/pytorch/examples/blob/cbb760d5e50a03df667cdc32a61f75ac28e11cbf/imagenet/main.py#L225). \n",
    "\n",
    "In the cell below, we specify a transform when creating the `ImageColumn`."
   ]
  },
  {
   "cell_type": "code",
   "execution_count": null,
   "id": "2265b3bb",
   "metadata": {},
   "outputs": [],
   "source": [
    "# Define transform\n",
    "transform = transforms.Compose([\n",
    "    transforms.Resize(256),\n",
    "    transforms.CenterCrop(224),\n",
    "    transforms.ToTensor(),\n",
    "    transforms.Normalize(\n",
    "        mean=[0.485, 0.456, 0.406],\n",
    "        std=[0.229, 0.224, 0.225]),\n",
    "])\n",
    "\n",
    "# Create new column with transform \n",
    "valid_df[\"input\"] = valid_df[\"img\"].defer(transform)"
   ]
  },
  {
   "cell_type": "markdown",
   "id": "0b3f97b9",
   "metadata": {},
   "source": [
    "Notice that indexing this new column returns a `torch.Tensor`, not a PIL image..."
   ]
  },
  {
   "cell_type": "code",
   "execution_count": null,
   "id": "87ed004a",
   "metadata": {},
   "outputs": [],
   "source": [
    "img = valid_df[\"input\"][0]()\n",
    "print(f\"Indexing the `ImageColumn` returns an object of type: {type(img)}.\")"
   ]
  },
  {
   "cell_type": "markdown",
   "id": "39f9201b",
   "metadata": {},
   "source": [
    "... and that indexing a slice of this new column returns a {class}`~meerkat.TensorColumn`."
   ]
  },
  {
   "cell_type": "code",
   "execution_count": null,
   "id": "069512bc",
   "metadata": {},
   "outputs": [],
   "source": [
    "col = img = valid_df[\"input\"][:3]()\n",
    "print(f\"Indexing a slice of the `ImageColumn` returns an object of type: {type(img)}.\")\n",
    "col"
   ]
  },
  {
   "cell_type": "markdown",
   "id": "b07e673b",
   "metadata": {},
   "source": [
    "Let's see what the full `DataFrame` looks like now."
   ]
  },
  {
   "cell_type": "code",
   "execution_count": null,
   "id": "e1178f96",
   "metadata": {},
   "outputs": [],
   "source": [
    "valid_df.head()"
   ]
  },
  {
   "cell_type": "markdown",
   "id": "5fbb35e5",
   "metadata": {},
   "source": [
    "### 💫 Computing model predictions and activations.\n",
    "We'd like to perform inference and extract:\n",
    "  \n",
    "1. Output predictions  \n",
    "2. Output class probabilities  \n",
    "3. Model activations \n",
    "\n",
    "Note: in order to extract model activations, we'll need to use a [PyTorch forward hook](https://pytorch.org/tutorials/beginner/former_torchies/nnft_tutorial.html#forward-and-backward-function-hooks) and register it on the final layer of the ResNet. Forward hooks are just functions that get executed on the forward pass of a `torch.nn.Module`."
   ]
  },
  {
   "cell_type": "code",
   "execution_count": null,
   "id": "31486570",
   "metadata": {},
   "outputs": [],
   "source": [
    "# Define forward hook in ActivationExtractor class\n",
    "class ActivationExtractor:\n",
    "    \"\"\"Extracting activations a targetted intermediate layer\"\"\"\n",
    "\n",
    "    def __init__(self):\n",
    "        self.activation = None\n",
    "\n",
    "    def forward_hook(self, module, input, output):\n",
    "        self.activation = output\n",
    "\n",
    "# Register forward hook\n",
    "extractor = ActivationExtractor()\n",
    "model.layer4.register_forward_hook(extractor.forward_hook);"
   ]
  },
  {
   "cell_type": "markdown",
   "id": "dcc49cdf",
   "metadata": {},
   "source": [
    "We want to apply a forward pass to each image in the `DataFrame` and store the outputs as new columns: `DataFrame.map` is perfectly suited for this task."
   ]
  },
  {
   "cell_type": "code",
   "execution_count": null,
   "id": "50b447be",
   "metadata": {},
   "outputs": [],
   "source": [
    "# 1. Move the model to GPU, if available\n",
    "# device = 0\n",
    "device = \"cpu\"\n",
    "model.to(device).eval()\n",
    "\n",
    "# 2. Define a function that runs a forward pass over a batch \n",
    "@torch.no_grad()\n",
    "def predict(input: mk.TensorColumn):\n",
    "    x: torch.Tensor = input.data.to(device)  # We get the underlying torch tensor with `data` and move to GPU \n",
    "    out: torch.Tensor = model(x)  # Run forward pass\n",
    "\n",
    "    # Return a dictionary with one key for each of the new columns. Each value in the\n",
    "    # dictionary should have the same length as the batch. \n",
    "    return {\n",
    "        \"pred\": out.cpu().numpy().argmax(axis=-1),\n",
    "        \"probs\": torch.softmax(out, axis=-1).cpu(),\n",
    "        \"activation\": extractor.activation.mean(dim=[-1,-2]).cpu()\n",
    "    }\n",
    "# 3. Apply the update. Note that the `predict` function operates on batches, so we set \n",
    "# `batched=True`. Also, the `predict` function only accesses the \"input\" column, by \n",
    "# specifying that here we instruct update to only load that one column and skip others \n",
    "pred_df = valid_df.map(function=predict, is_batched_fn=True, batch_size=32)\n",
    "valid_df = mk.concat([valid_df, pred_df], axis=\"columns\")"
   ]
  },
  {
   "cell_type": "markdown",
   "id": "8f2811e7",
   "metadata": {},
   "source": [
    "The predictions, output probabilities, and activations are now stored alongside the examples in the `DataFrame`."
   ]
  },
  {
   "cell_type": "code",
   "execution_count": null,
   "id": "15ea262c",
   "metadata": {},
   "outputs": [],
   "source": [
    "valid_df[[\"label_id\", \"input\", \"pred\", \"probs\", \"activation\"]].head()"
   ]
  },
  {
   "cell_type": "markdown",
   "id": "3d18895e",
   "metadata": {},
   "source": [
    "### 🎯  Computing metrics and analyzing performance. \n",
    "\n",
    "Computing statistics on Meerkat `DataFrames` is straightforward because standard NumPy operators and functions can be applied directly to a `NumpyArrayColumn`. We take advantage of this below to compute the accuracy of the model."
   ]
  },
  {
   "cell_type": "code",
   "execution_count": null,
   "id": "0116cdfa",
   "metadata": {},
   "outputs": [],
   "source": [
    "valid_df[\"correct\"] = valid_df[\"pred\"] == valid_df[\"label_idx\"].data\n",
    "accuracy = valid_df[\"correct\"].mean()\n",
    "print(f\"Micro accuracy across the ten Imagenette classes: {accuracy:0.3}\")"
   ]
  },
  {
   "cell_type": "markdown",
   "id": "d5a13b01",
   "metadata": {},
   "source": [
    "Furthermore, since the `DataFrame` is naturally converted to a Pandas DataFrame, it's easy to use data visualization tools that interface with Pandas (_e.g._ seaborn, bokeh)."
   ]
  },
  {
   "cell_type": "code",
   "execution_count": null,
   "id": "107014fe",
   "metadata": {},
   "outputs": [],
   "source": [
    "## OPTIONAL: this cell requires the seaborn dependency: https://seaborn.pydata.org/installing.html \n",
    "import seaborn as sns\n",
    "import matplotlib.pyplot as plt\n",
    "sns.barplot(data=valid_df.to_pandas(), y=\"label\", x=\"correct\");"
   ]
  },
  {
   "cell_type": "markdown",
   "id": "e3f2dc49",
   "metadata": {},
   "source": [
    "### 🔎  Exploring model activations.\n",
    "To better understand the behavior of our model, we'll explore the activations of the final convolutional layer of the ResNet. Recall that when we performed our forward pass, we extracted these activations and stored them in a new column called `\"activation\"`.\n",
    "\n",
    "Unlike the the `NumpyArrayColumn`s we've been working with so far, the activation column has an additional dimension of size 512.\n",
    "\n",
    "To visualize the activations, we'll use a dimensionality reduction technique ([UMAP](https://umap-learn.readthedocs.io/en/latest/)) to embed the activations in two dimensions. We'll store these embeddings in two new columns \"umap_0\" and \"umap_1\"."
   ]
  },
  {
   "cell_type": "code",
   "execution_count": null,
   "id": "5112f086",
   "metadata": {},
   "outputs": [],
   "source": [
    "## OPTIONAL: this cell requires the umap dependency: https://umap-learn.readthedocs.io/en/latest/\n",
    "!pip install umap-learn\n",
    "from umap import UMAP\n",
    "\n",
    "# 1. Compute UMAP embedding\n",
    "reducer = UMAP()\n",
    "embs = reducer.fit_transform(valid_df[\"activation\"])\n",
    "\n",
    "# 2. Add the embedding to the DataFrame as two new columns \n",
    "valid_df[\"umap_0\"] = embs[:, 0]\n",
    "valid_df[\"umap_1\"] = embs[:, 1]\n",
    "\n",
    "## OPTIONAL: this cell requires the seaborn dependency: https://seaborn.pydata.org/installing.html \n",
    "import seaborn as sns\n",
    "import matplotlib.pyplot as plt\n",
    "sns.scatterplot(data=valid_df.to_pandas(), x=\"umap_0\", y=\"umap_1\", hue=\"label\");\n",
    "plt.legend(bbox_to_anchor=(1.05, 1), loc='upper left')"
   ]
  },
  {
   "cell_type": "markdown",
   "id": "a01aec9f",
   "metadata": {},
   "source": [
    "## 💾  Writing a `DataFrame` to disk. \n",
    "Finally, we can write the updated `DataFrame`, with all the activations and predictions included, to disk for later use.  \n",
    "\n",
    "`DataFrame` size on disk: 25MB\n",
    "\n",
    "On disk, the `DataFrame` is stored in a directory at the path passed to `DataFrame.write`. Within that directory, each column is stored separately. This allows us to read only a subset of columns from DataFrame on disk. Use the file explorer to the left to further expore the file structure of the `DataFrame`.  \n",
    "```\n",
    "valid_df\n",
    "|  +-- meta.yml   \n",
    "|  +-- state.dill  \n",
    "|  +-- columns\n",
    "   |   +-- activation\n",
    "   |   +-- avg_blue\n",
    "   |   +-- correct\n",
    "   |   ...\n",
    "   |   +-- umap_1\n",
    "```"
   ]
  },
  {
   "cell_type": "code",
   "execution_count": null,
   "id": "988c35ad",
   "metadata": {},
   "outputs": [],
   "source": [
    "valid_df.write(os.path.join(dataset_dir, \"valid_df\"))"
   ]
  },
  {
   "cell_type": "code",
   "execution_count": null,
   "id": "d643dc6c",
   "metadata": {},
   "outputs": [],
   "source": [
    "valid_df = mk.read(os.path.join(dataset_dir, \"valid_df\"))"
   ]
  }
 ],
 "metadata": {
  "file_format": "mystnb",
  "kernelspec": {
   "display_name": "python3",
   "name": "python3"
  },
  "language_info": {
   "codemirror_mode": {
    "name": "ipython",
    "version": 3
   },
   "file_extension": ".py",
   "mimetype": "text/x-python",
   "name": "python",
   "nbconvert_exporter": "python",
   "pygments_lexer": "ipython3",
   "version": "3.8.16"
  },
  "source_map": [
   5,
   14,
   18,
   27,
   33,
   37,
   41,
   51,
   63,
   72,
   75,
   78,
   81,
   84,
   88,
   106,
   108,
   131,
   133,
   141,
   149,
   155,
   169,
   171,
   180,
   185,
   194,
   207,
   210,
   213,
   216,
   220,
   223,
   225,
   236,
   250,
   254,
   278,
   282,
   284,
   290,
   294,
   298,
   303,
   312,
   330,
   350,
   354
  ]
 },
 "nbformat": 4,
 "nbformat_minor": 5
}