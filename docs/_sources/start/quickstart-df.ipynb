{
 "cells": [
  {
   "cell_type": "markdown",
   "id": "98104508",
   "metadata": {},
   "source": [
    "# Quickstart: Data Frames\n",
    "\n",
    "*What is `Meerkat`?*  `Meerkat` is a DataFrame library that enables data scientists and ML practitioners to interact with complex data types like images, video and free text.\n",
    "\n",
    "In this document, we'll walkthrough how a Meerkat can be used to analyze a small image dataset. It is targetted for newcomers, who would like a fast introduction to core concepts in Meerkat."
   ]
  },
  {
   "cell_type": "code",
   "execution_count": 1,
   "id": "7bf8b6d0",
   "metadata": {},
   "outputs": [],
   "source": [
    "import os\n",
    "import meerkat as mk\n",
    "import numpy as np"
   ]
  },
  {
   "cell_type": "markdown",
   "id": "6da7d23c",
   "metadata": {},
   "source": [
    "## 💾 Downloading the data\n",
    "First, we'll download some data to explore. We're going to use the [Imagenette dataset](https://github.com/fastai/imagenette#image%E7%BD%91), a small subset of the original [ImageNet](https://www.image-net.org/update-mar-11-2021.php).  This dataset is made up of 10 classes (e.g. \"garbage truck\", \"gas pump\", \"golf ball\").\n",
    "- Download time: <1 minute\n",
    "- Download size: 130M\n",
    "\n",
    "In addition to downloading the data, `download_imagnette` prepares a CSV, `imagenette.csv`, with a row for each image."
   ]
  },
  {
   "cell_type": "code",
   "execution_count": 2,
   "id": "8e8fe176",
   "metadata": {},
   "outputs": [
    {
     "data": {
      "application/vnd.jupyter.widget-view+json": {
       "model_id": "5eec77a2294a4e2db7520ea5e69c8edf",
       "version_major": 2,
       "version_minor": 0
      },
      "text/plain": [
       "Downloading:   0%|          | 0.00/99.0M [00:00<?, ?B/s]"
      ]
     },
     "metadata": {},
     "output_type": "display_data"
    },
    {
     "name": "stdout",
     "output_type": "stream",
     "text": [
      "Extracting tar archive, this may take a few minutes...\n"
     ]
    },
    {
     "ename": "KeyboardInterrupt",
     "evalue": "",
     "output_type": "error",
     "traceback": [
      "\u001b[0;31m---------------------------------------------------------------------------\u001b[0m",
      "\u001b[0;31mKeyboardInterrupt\u001b[0m                         Traceback (most recent call last)",
      "Cell \u001b[0;32mIn[2], line 5\u001b[0m\n\u001b[1;32m      3\u001b[0m dataset_dir \u001b[38;5;241m=\u001b[39m \u001b[38;5;124m\"\u001b[39m\u001b[38;5;124m./downloads\u001b[39m\u001b[38;5;124m\"\u001b[39m\n\u001b[1;32m      4\u001b[0m os\u001b[38;5;241m.\u001b[39mmakedirs(dataset_dir, exist_ok\u001b[38;5;241m=\u001b[39m\u001b[38;5;28;01mTrue\u001b[39;00m)\n\u001b[0;32m----> 5\u001b[0m \u001b[43mdownload_imagenette\u001b[49m\u001b[43m(\u001b[49m\u001b[43mdataset_dir\u001b[49m\u001b[43m,\u001b[49m\u001b[43m \u001b[49m\u001b[43moverwrite\u001b[49m\u001b[38;5;241;43m=\u001b[39;49m\u001b[38;5;28;43;01mTrue\u001b[39;49;00m\u001b[43m)\u001b[49m;\n",
      "File \u001b[0;32m~/work/meerkat/meerkat/meerkat/datasets/imagenette/__init__.py:145\u001b[0m, in \u001b[0;36mdownload_imagenette\u001b[0;34m(download_dir, version, overwrite, return_df)\u001b[0m\n\u001b[1;32m    143\u001b[0m df[\u001b[38;5;124m\"\u001b[39m\u001b[38;5;124msplit\u001b[39m\u001b[38;5;124m\"\u001b[39m] \u001b[38;5;241m=\u001b[39m df[\u001b[38;5;124m\"\u001b[39m\u001b[38;5;124mis_valid\u001b[39m\u001b[38;5;124m\"\u001b[39m]\u001b[38;5;241m.\u001b[39mreplace({\u001b[38;5;28;01mFalse\u001b[39;00m: \u001b[38;5;124m\"\u001b[39m\u001b[38;5;124mtrain\u001b[39m\u001b[38;5;124m\"\u001b[39m, \u001b[38;5;28;01mTrue\u001b[39;00m: \u001b[38;5;124m\"\u001b[39m\u001b[38;5;124mvalid\u001b[39m\u001b[38;5;124m\"\u001b[39m})\n\u001b[1;32m    144\u001b[0m df[\u001b[38;5;124m\"\u001b[39m\u001b[38;5;124mimg_path\u001b[39m\u001b[38;5;124m\"\u001b[39m] \u001b[38;5;241m=\u001b[39m df\u001b[38;5;241m.\u001b[39mpath\n\u001b[0;32m--> 145\u001b[0m \u001b[43mdf\u001b[49m\u001b[43m[\u001b[49m\u001b[43m[\u001b[49m\u001b[38;5;124;43m\"\u001b[39;49m\u001b[38;5;124;43mlabel\u001b[39;49m\u001b[38;5;124;43m\"\u001b[39;49m\u001b[43m,\u001b[49m\u001b[43m \u001b[49m\u001b[38;5;124;43m\"\u001b[39;49m\u001b[38;5;124;43msplit\u001b[39;49m\u001b[38;5;124;43m\"\u001b[39;49m\u001b[43m,\u001b[49m\u001b[43m \u001b[49m\u001b[38;5;124;43m\"\u001b[39;49m\u001b[38;5;124;43mimg_path\u001b[39;49m\u001b[38;5;124;43m\"\u001b[39;49m\u001b[43m]\u001b[49m\u001b[43m]\u001b[49m\u001b[38;5;241;43m.\u001b[39;49m\u001b[43mto_csv\u001b[49m\u001b[43m(\u001b[49m\u001b[43mcsv_path\u001b[49m\u001b[43m,\u001b[49m\u001b[43m \u001b[49m\u001b[43mindex\u001b[49m\u001b[38;5;241;43m=\u001b[39;49m\u001b[38;5;28;43;01mFalse\u001b[39;49;00m\u001b[43m)\u001b[49m\n",
      "File \u001b[0;32m/opt/hostedtoolcache/Python/3.8.16/x64/lib/python3.8/site-packages/pandas/util/_decorators.py:211\u001b[0m, in \u001b[0;36mdeprecate_kwarg.<locals>._deprecate_kwarg.<locals>.wrapper\u001b[0;34m(*args, **kwargs)\u001b[0m\n\u001b[1;32m    209\u001b[0m     \u001b[38;5;28;01melse\u001b[39;00m:\n\u001b[1;32m    210\u001b[0m         kwargs[new_arg_name] \u001b[38;5;241m=\u001b[39m new_arg_value\n\u001b[0;32m--> 211\u001b[0m \u001b[38;5;28;01mreturn\u001b[39;00m \u001b[43mfunc\u001b[49m\u001b[43m(\u001b[49m\u001b[38;5;241;43m*\u001b[39;49m\u001b[43margs\u001b[49m\u001b[43m,\u001b[49m\u001b[43m \u001b[49m\u001b[38;5;241;43m*\u001b[39;49m\u001b[38;5;241;43m*\u001b[39;49m\u001b[43mkwargs\u001b[49m\u001b[43m)\u001b[49m\n",
      "File \u001b[0;32m/opt/hostedtoolcache/Python/3.8.16/x64/lib/python3.8/site-packages/pandas/core/generic.py:3720\u001b[0m, in \u001b[0;36mNDFrame.to_csv\u001b[0;34m(self, path_or_buf, sep, na_rep, float_format, columns, header, index, index_label, mode, encoding, compression, quoting, quotechar, lineterminator, chunksize, date_format, doublequote, escapechar, decimal, errors, storage_options)\u001b[0m\n\u001b[1;32m   3709\u001b[0m df \u001b[38;5;241m=\u001b[39m \u001b[38;5;28mself\u001b[39m \u001b[38;5;28;01mif\u001b[39;00m \u001b[38;5;28misinstance\u001b[39m(\u001b[38;5;28mself\u001b[39m, ABCDataFrame) \u001b[38;5;28;01melse\u001b[39;00m \u001b[38;5;28mself\u001b[39m\u001b[38;5;241m.\u001b[39mto_frame()\n\u001b[1;32m   3711\u001b[0m formatter \u001b[38;5;241m=\u001b[39m DataFrameFormatter(\n\u001b[1;32m   3712\u001b[0m     frame\u001b[38;5;241m=\u001b[39mdf,\n\u001b[1;32m   3713\u001b[0m     header\u001b[38;5;241m=\u001b[39mheader,\n\u001b[0;32m   (...)\u001b[0m\n\u001b[1;32m   3717\u001b[0m     decimal\u001b[38;5;241m=\u001b[39mdecimal,\n\u001b[1;32m   3718\u001b[0m )\n\u001b[0;32m-> 3720\u001b[0m \u001b[38;5;28;01mreturn\u001b[39;00m \u001b[43mDataFrameRenderer\u001b[49m\u001b[43m(\u001b[49m\u001b[43mformatter\u001b[49m\u001b[43m)\u001b[49m\u001b[38;5;241;43m.\u001b[39;49m\u001b[43mto_csv\u001b[49m\u001b[43m(\u001b[49m\n\u001b[1;32m   3721\u001b[0m \u001b[43m    \u001b[49m\u001b[43mpath_or_buf\u001b[49m\u001b[43m,\u001b[49m\n\u001b[1;32m   3722\u001b[0m \u001b[43m    \u001b[49m\u001b[43mlineterminator\u001b[49m\u001b[38;5;241;43m=\u001b[39;49m\u001b[43mlineterminator\u001b[49m\u001b[43m,\u001b[49m\n\u001b[1;32m   3723\u001b[0m \u001b[43m    \u001b[49m\u001b[43msep\u001b[49m\u001b[38;5;241;43m=\u001b[39;49m\u001b[43msep\u001b[49m\u001b[43m,\u001b[49m\n\u001b[1;32m   3724\u001b[0m \u001b[43m    \u001b[49m\u001b[43mencoding\u001b[49m\u001b[38;5;241;43m=\u001b[39;49m\u001b[43mencoding\u001b[49m\u001b[43m,\u001b[49m\n\u001b[1;32m   3725\u001b[0m \u001b[43m    \u001b[49m\u001b[43merrors\u001b[49m\u001b[38;5;241;43m=\u001b[39;49m\u001b[43merrors\u001b[49m\u001b[43m,\u001b[49m\n\u001b[1;32m   3726\u001b[0m \u001b[43m    \u001b[49m\u001b[43mcompression\u001b[49m\u001b[38;5;241;43m=\u001b[39;49m\u001b[43mcompression\u001b[49m\u001b[43m,\u001b[49m\n\u001b[1;32m   3727\u001b[0m \u001b[43m    \u001b[49m\u001b[43mquoting\u001b[49m\u001b[38;5;241;43m=\u001b[39;49m\u001b[43mquoting\u001b[49m\u001b[43m,\u001b[49m\n\u001b[1;32m   3728\u001b[0m \u001b[43m    \u001b[49m\u001b[43mcolumns\u001b[49m\u001b[38;5;241;43m=\u001b[39;49m\u001b[43mcolumns\u001b[49m\u001b[43m,\u001b[49m\n\u001b[1;32m   3729\u001b[0m \u001b[43m    \u001b[49m\u001b[43mindex_label\u001b[49m\u001b[38;5;241;43m=\u001b[39;49m\u001b[43mindex_label\u001b[49m\u001b[43m,\u001b[49m\n\u001b[1;32m   3730\u001b[0m \u001b[43m    \u001b[49m\u001b[43mmode\u001b[49m\u001b[38;5;241;43m=\u001b[39;49m\u001b[43mmode\u001b[49m\u001b[43m,\u001b[49m\n\u001b[1;32m   3731\u001b[0m \u001b[43m    \u001b[49m\u001b[43mchunksize\u001b[49m\u001b[38;5;241;43m=\u001b[39;49m\u001b[43mchunksize\u001b[49m\u001b[43m,\u001b[49m\n\u001b[1;32m   3732\u001b[0m \u001b[43m    \u001b[49m\u001b[43mquotechar\u001b[49m\u001b[38;5;241;43m=\u001b[39;49m\u001b[43mquotechar\u001b[49m\u001b[43m,\u001b[49m\n\u001b[1;32m   3733\u001b[0m \u001b[43m    \u001b[49m\u001b[43mdate_format\u001b[49m\u001b[38;5;241;43m=\u001b[39;49m\u001b[43mdate_format\u001b[49m\u001b[43m,\u001b[49m\n\u001b[1;32m   3734\u001b[0m \u001b[43m    \u001b[49m\u001b[43mdoublequote\u001b[49m\u001b[38;5;241;43m=\u001b[39;49m\u001b[43mdoublequote\u001b[49m\u001b[43m,\u001b[49m\n\u001b[1;32m   3735\u001b[0m \u001b[43m    \u001b[49m\u001b[43mescapechar\u001b[49m\u001b[38;5;241;43m=\u001b[39;49m\u001b[43mescapechar\u001b[49m\u001b[43m,\u001b[49m\n\u001b[1;32m   3736\u001b[0m \u001b[43m    \u001b[49m\u001b[43mstorage_options\u001b[49m\u001b[38;5;241;43m=\u001b[39;49m\u001b[43mstorage_options\u001b[49m\u001b[43m,\u001b[49m\n\u001b[1;32m   3737\u001b[0m \u001b[43m\u001b[49m\u001b[43m)\u001b[49m\n",
      "File \u001b[0;32m/opt/hostedtoolcache/Python/3.8.16/x64/lib/python3.8/site-packages/pandas/util/_decorators.py:211\u001b[0m, in \u001b[0;36mdeprecate_kwarg.<locals>._deprecate_kwarg.<locals>.wrapper\u001b[0;34m(*args, **kwargs)\u001b[0m\n\u001b[1;32m    209\u001b[0m     \u001b[38;5;28;01melse\u001b[39;00m:\n\u001b[1;32m    210\u001b[0m         kwargs[new_arg_name] \u001b[38;5;241m=\u001b[39m new_arg_value\n\u001b[0;32m--> 211\u001b[0m \u001b[38;5;28;01mreturn\u001b[39;00m \u001b[43mfunc\u001b[49m\u001b[43m(\u001b[49m\u001b[38;5;241;43m*\u001b[39;49m\u001b[43margs\u001b[49m\u001b[43m,\u001b[49m\u001b[43m \u001b[49m\u001b[38;5;241;43m*\u001b[39;49m\u001b[38;5;241;43m*\u001b[39;49m\u001b[43mkwargs\u001b[49m\u001b[43m)\u001b[49m\n",
      "File \u001b[0;32m/opt/hostedtoolcache/Python/3.8.16/x64/lib/python3.8/site-packages/pandas/io/formats/format.py:1189\u001b[0m, in \u001b[0;36mDataFrameRenderer.to_csv\u001b[0;34m(self, path_or_buf, encoding, sep, columns, index_label, mode, compression, quoting, quotechar, lineterminator, chunksize, date_format, doublequote, escapechar, errors, storage_options)\u001b[0m\n\u001b[1;32m   1168\u001b[0m     created_buffer \u001b[38;5;241m=\u001b[39m \u001b[38;5;28;01mFalse\u001b[39;00m\n\u001b[1;32m   1170\u001b[0m csv_formatter \u001b[38;5;241m=\u001b[39m CSVFormatter(\n\u001b[1;32m   1171\u001b[0m     path_or_buf\u001b[38;5;241m=\u001b[39mpath_or_buf,\n\u001b[1;32m   1172\u001b[0m     lineterminator\u001b[38;5;241m=\u001b[39mlineterminator,\n\u001b[0;32m   (...)\u001b[0m\n\u001b[1;32m   1187\u001b[0m     formatter\u001b[38;5;241m=\u001b[39m\u001b[38;5;28mself\u001b[39m\u001b[38;5;241m.\u001b[39mfmt,\n\u001b[1;32m   1188\u001b[0m )\n\u001b[0;32m-> 1189\u001b[0m \u001b[43mcsv_formatter\u001b[49m\u001b[38;5;241;43m.\u001b[39;49m\u001b[43msave\u001b[49m\u001b[43m(\u001b[49m\u001b[43m)\u001b[49m\n\u001b[1;32m   1191\u001b[0m \u001b[38;5;28;01mif\u001b[39;00m created_buffer:\n\u001b[1;32m   1192\u001b[0m     \u001b[38;5;28;01massert\u001b[39;00m \u001b[38;5;28misinstance\u001b[39m(path_or_buf, StringIO)\n",
      "File \u001b[0;32m/opt/hostedtoolcache/Python/3.8.16/x64/lib/python3.8/site-packages/pandas/io/formats/csvs.py:261\u001b[0m, in \u001b[0;36mCSVFormatter.save\u001b[0;34m(self)\u001b[0m\n\u001b[1;32m    241\u001b[0m \u001b[38;5;28;01mwith\u001b[39;00m get_handle(\n\u001b[1;32m    242\u001b[0m     \u001b[38;5;28mself\u001b[39m\u001b[38;5;241m.\u001b[39mfilepath_or_buffer,\n\u001b[1;32m    243\u001b[0m     \u001b[38;5;28mself\u001b[39m\u001b[38;5;241m.\u001b[39mmode,\n\u001b[0;32m   (...)\u001b[0m\n\u001b[1;32m    249\u001b[0m \n\u001b[1;32m    250\u001b[0m     \u001b[38;5;66;03m# Note: self.encoding is irrelevant here\u001b[39;00m\n\u001b[1;32m    251\u001b[0m     \u001b[38;5;28mself\u001b[39m\u001b[38;5;241m.\u001b[39mwriter \u001b[38;5;241m=\u001b[39m csvlib\u001b[38;5;241m.\u001b[39mwriter(\n\u001b[1;32m    252\u001b[0m         handles\u001b[38;5;241m.\u001b[39mhandle,\n\u001b[1;32m    253\u001b[0m         lineterminator\u001b[38;5;241m=\u001b[39m\u001b[38;5;28mself\u001b[39m\u001b[38;5;241m.\u001b[39mlineterminator,\n\u001b[0;32m   (...)\u001b[0m\n\u001b[1;32m    258\u001b[0m         quotechar\u001b[38;5;241m=\u001b[39m\u001b[38;5;28mself\u001b[39m\u001b[38;5;241m.\u001b[39mquotechar,\n\u001b[1;32m    259\u001b[0m     )\n\u001b[0;32m--> 261\u001b[0m     \u001b[38;5;28;43mself\u001b[39;49m\u001b[38;5;241;43m.\u001b[39;49m\u001b[43m_save\u001b[49m\u001b[43m(\u001b[49m\u001b[43m)\u001b[49m\n",
      "File \u001b[0;32m/opt/hostedtoolcache/Python/3.8.16/x64/lib/python3.8/site-packages/pandas/io/formats/csvs.py:266\u001b[0m, in \u001b[0;36mCSVFormatter._save\u001b[0;34m(self)\u001b[0m\n\u001b[1;32m    264\u001b[0m \u001b[38;5;28;01mif\u001b[39;00m \u001b[38;5;28mself\u001b[39m\u001b[38;5;241m.\u001b[39m_need_to_save_header:\n\u001b[1;32m    265\u001b[0m     \u001b[38;5;28mself\u001b[39m\u001b[38;5;241m.\u001b[39m_save_header()\n\u001b[0;32m--> 266\u001b[0m \u001b[38;5;28;43mself\u001b[39;49m\u001b[38;5;241;43m.\u001b[39;49m\u001b[43m_save_body\u001b[49m\u001b[43m(\u001b[49m\u001b[43m)\u001b[49m\n",
      "File \u001b[0;32m/opt/hostedtoolcache/Python/3.8.16/x64/lib/python3.8/site-packages/pandas/io/formats/csvs.py:304\u001b[0m, in \u001b[0;36mCSVFormatter._save_body\u001b[0;34m(self)\u001b[0m\n\u001b[1;32m    302\u001b[0m \u001b[38;5;28;01mif\u001b[39;00m start_i \u001b[38;5;241m>\u001b[39m\u001b[38;5;241m=\u001b[39m end_i:\n\u001b[1;32m    303\u001b[0m     \u001b[38;5;28;01mbreak\u001b[39;00m\n\u001b[0;32m--> 304\u001b[0m \u001b[38;5;28;43mself\u001b[39;49m\u001b[38;5;241;43m.\u001b[39;49m\u001b[43m_save_chunk\u001b[49m\u001b[43m(\u001b[49m\u001b[43mstart_i\u001b[49m\u001b[43m,\u001b[49m\u001b[43m \u001b[49m\u001b[43mend_i\u001b[49m\u001b[43m)\u001b[49m\n",
      "File \u001b[0;32m/opt/hostedtoolcache/Python/3.8.16/x64/lib/python3.8/site-packages/pandas/io/formats/csvs.py:315\u001b[0m, in \u001b[0;36mCSVFormatter._save_chunk\u001b[0;34m(self, start_i, end_i)\u001b[0m\n\u001b[1;32m    312\u001b[0m data \u001b[38;5;241m=\u001b[39m [res\u001b[38;5;241m.\u001b[39miget_values(i) \u001b[38;5;28;01mfor\u001b[39;00m i \u001b[38;5;129;01min\u001b[39;00m \u001b[38;5;28mrange\u001b[39m(\u001b[38;5;28mlen\u001b[39m(res\u001b[38;5;241m.\u001b[39mitems))]\n\u001b[1;32m    314\u001b[0m ix \u001b[38;5;241m=\u001b[39m \u001b[38;5;28mself\u001b[39m\u001b[38;5;241m.\u001b[39mdata_index[slicer]\u001b[38;5;241m.\u001b[39m_format_native_types(\u001b[38;5;241m*\u001b[39m\u001b[38;5;241m*\u001b[39m\u001b[38;5;28mself\u001b[39m\u001b[38;5;241m.\u001b[39m_number_format)\n\u001b[0;32m--> 315\u001b[0m \u001b[43mlibwriters\u001b[49m\u001b[38;5;241;43m.\u001b[39;49m\u001b[43mwrite_csv_rows\u001b[49m\u001b[43m(\u001b[49m\n\u001b[1;32m    316\u001b[0m \u001b[43m    \u001b[49m\u001b[43mdata\u001b[49m\u001b[43m,\u001b[49m\n\u001b[1;32m    317\u001b[0m \u001b[43m    \u001b[49m\u001b[43mix\u001b[49m\u001b[43m,\u001b[49m\n\u001b[1;32m    318\u001b[0m \u001b[43m    \u001b[49m\u001b[38;5;28;43mself\u001b[39;49m\u001b[38;5;241;43m.\u001b[39;49m\u001b[43mnlevels\u001b[49m\u001b[43m,\u001b[49m\n\u001b[1;32m    319\u001b[0m \u001b[43m    \u001b[49m\u001b[38;5;28;43mself\u001b[39;49m\u001b[38;5;241;43m.\u001b[39;49m\u001b[43mcols\u001b[49m\u001b[43m,\u001b[49m\n\u001b[1;32m    320\u001b[0m \u001b[43m    \u001b[49m\u001b[38;5;28;43mself\u001b[39;49m\u001b[38;5;241;43m.\u001b[39;49m\u001b[43mwriter\u001b[49m\u001b[43m,\u001b[49m\n\u001b[1;32m    321\u001b[0m \u001b[43m\u001b[49m\u001b[43m)\u001b[49m\n",
      "File \u001b[0;32m/opt/hostedtoolcache/Python/3.8.16/x64/lib/python3.8/site-packages/pandas/_libs/writers.pyx:72\u001b[0m, in \u001b[0;36mpandas._libs.writers.write_csv_rows\u001b[0;34m()\u001b[0m\n",
      "\u001b[0;31mKeyboardInterrupt\u001b[0m: "
     ]
    }
   ],
   "source": [
    "from meerkat.datasets.imagenette import download_imagenette\n",
    "\n",
    "dataset_dir = \"./downloads\"\n",
    "os.makedirs(dataset_dir, exist_ok=True)\n",
    "download_imagenette(dataset_dir, overwrite=True);"
   ]
  },
  {
   "cell_type": "markdown",
   "id": "5721a6d3",
   "metadata": {},
   "source": [
    "Let's take a look at the CSV."
   ]
  },
  {
   "cell_type": "code",
   "execution_count": null,
   "id": "4594d8ad",
   "metadata": {
    "tags": [
     "output_scroll"
    ]
   },
   "outputs": [],
   "source": [
    "!head -n 5 downloads/imagenette2-160/imagenette.csv"
   ]
  },
  {
   "cell_type": "markdown",
   "id": "a886e675",
   "metadata": {},
   "source": [
    "Next, we'll load it into a Meerkat `DataFrame`.\n",
    "\n",
    "## 📸 Creating an image `DataFrame`\n",
    "*For more information on creating DataFrames from various data sources, see the user guide section on {ref}`guide/dataframe/io`.*\n",
    "\n",
    "Meerkat's core contribution is the DataFrame, a simple columnar data abstraction. The Meerkat DataFrame can house columns of arbitrary type – from integers and strings to complex, high-dimensional objects like videos, images, medical volumes and graphs.\n",
    "\n",
    "We're going to build a `DataFrame` out of the `imagenette.csv` file from the download above."
   ]
  },
  {
   "cell_type": "code",
   "execution_count": null,
   "id": "d7de65c9",
   "metadata": {
    "tags": [
     "output_scroll"
    ]
   },
   "outputs": [],
   "source": [
    "# Create a `DataFrame`\n",
    "df = mk.from_csv(\"./downloads/imagenette2-160/imagenette.csv\")\n",
    "\n",
    "# Create an `ImageColumn`` and add it to the `DataFrame`\n",
    "df[\"img\"] = mk.image(\n",
    "    df[\"img_path\"], \n",
    "    base_dir=os.path.join(dataset_dir, \"imagenette2-160\")\n",
    ")\n",
    "df"
   ]
  },
  {
   "cell_type": "markdown",
   "id": "16463933",
   "metadata": {},
   "source": [
    "The call to `head` shows the first few rows in the `DataFrame`. You can see that there are a few metadata columns, as well as the \"img\" column we added in.\n",
    "\n",
    "## 🗂 Selecting data\n",
    "*For more information see the user guide section on {ref}`guide/dataframe/selection`.*\n",
    "\n",
    "When we create an `ImageColumn` we don't load the images into memory. Instead, `ImageColumn` keeps track of all those filepaths we passed in and only loads the images when they are needed. \n",
    "\n",
    "When we select a row of the `ImageColumn`, we get an instance `FileCell` back. A `FileCell` is an object that holds everything we need to materialize the cell (e.g. the filepath to the image and the loading function), but stops just short of doing so."
   ]
  },
  {
   "cell_type": "code",
   "execution_count": null,
   "id": "dbc811d6",
   "metadata": {},
   "outputs": [],
   "source": [
    "img_cell = df[\"img\"][0]\n",
    "print(f\"Indexing the `ImageColumn` returns an object of type: {type(img_cell)}.\")"
   ]
  },
  {
   "cell_type": "markdown",
   "id": "a99b7403",
   "metadata": {},
   "source": [
    "To actually materialize the image, we simply call the cell."
   ]
  },
  {
   "cell_type": "code",
   "execution_count": null,
   "id": "17614bab",
   "metadata": {},
   "outputs": [],
   "source": [
    "img = img_cell()\n",
    "img"
   ]
  },
  {
   "cell_type": "markdown",
   "id": "b05b9445",
   "metadata": {},
   "source": [
    "We can subselect a **batch** of images by indexing with a slice.  Notice that this returns a smaller {class}`~meerkat.DataFrame`."
   ]
  },
  {
   "cell_type": "code",
   "execution_count": null,
   "id": "c62f94d9",
   "metadata": {},
   "outputs": [],
   "source": [
    "imgs = df[\"img\"][1:4]\n",
    "print(f\"Indexing a slice of the `ImageColumn` returns a: {type(imgs)}.\")\n",
    "imgs"
   ]
  },
  {
   "cell_type": "markdown",
   "id": "746a227e",
   "metadata": {},
   "source": [
    "The whole batch of images can be loaded together by calling the column. \n",
    "```\n",
    "imgs();\n",
    "```\n",
    "\n",
    "One can load multiple rows using any one of following indexing schemes:\n",
    "- **Slice indexing**: _e.g._ `column[4:10]`\n",
    "- **Integer array indexing**: _e.g._ `column[[0, 4, 6, 11]]`\n",
    "- **Boolean array indexing**: _e.g._ `column[np.array([True, False, False ..., True, False])]`\n",
    "\n",
    "### 📎 _Aside_: `ImageColumn` under the hood, `DeferredColumn`.\n",
    "\n",
    "If you check out the implementation of `ImageColumn` (at [meerkat/columns/image_column.py](https://github.com/robustness-gym/meerkat/blob/main/meerkat/columns/image_column.py)), you'll notice that it's a super simple subclass of `DeferredColumn`. \n",
    "\n",
    "_What's a `DeferredColumn`?_\n",
    "In `meerkat`, high-dimensional data types like images and videos are typically stored in a `DeferredColumn`. A  `DeferredColumn` wraps around another column and lazily applies a function to it's content as it is indexed. Consider the following example, where we create a simple `meerkat` column..."
   ]
  },
  {
   "cell_type": "code",
   "execution_count": null,
   "id": "0a372eae",
   "metadata": {},
   "outputs": [],
   "source": [
    "  col = mk.column([0,1,2])"
   ]
  },
  {
   "cell_type": "markdown",
   "id": "c4eaf7fc",
   "metadata": {},
   "source": [
    "...and wrap it in a deferred column.\n",
    "```\n",
    "  dcol = col.defer(fn=lambda x: x + 10)\n",
    "  dcol[1]()  # the function is only called at this point!\n",
    "```\n",
    "Critically, the function inside a lambda column is only called at the time the column is called! This is very useful for columns with large data types that we don't want to load all into memory at once. For example, we could create a `DeferredColumn` that lazily loads images...\n",
    "```\n",
    "  >>> filepath_col = mk.PandasSeriesColumn([\"path/to/image0.jpg\", ...])\n",
    "  >>> img_col = filepath.defer(lambda x: load_image(x))\n",
    "```\n",
    "An `ImageColumn` is a just a `DeferredColumn` like this one, with a few more bells and whistles!\n",
    "\n",
    "## 🛠 Applying operations over the DataFrame.\n",
    "\n",
    "When analyzing data, we often perform operations on each example in our dataset (e.g. compute a model's prediction on each example, tokenize each sentence, compute a model's embedding for each example) and store them. The `DataFrame` makes it easy to perform these operations:  \n",
    "- Produce new columns (via `DataFrame.map`)\n",
    "- Produce new columns and store the columns alongside the original data (via `DataFrame.update`)\n",
    "- Extract an important subset of the datset (via `DataFrame.filter`).   \n",
    "\n",
    "Under the hood, dataloading is multiprocessed so that costly I/O doesn't bottleneck our computation.\n",
    "\n",
    "Let's start by filtering the `DataFrame` down to the examples in the validation set."
   ]
  },
  {
   "cell_type": "code",
   "execution_count": null,
   "id": "ce3f2105",
   "metadata": {},
   "outputs": [],
   "source": [
    "valid_df = df.filter(lambda split: split == \"valid\")"
   ]
  },
  {
   "cell_type": "markdown",
   "id": "44cca453",
   "metadata": {},
   "source": [
    "### 🫐  Using `DataFrame.map` to compute average intensity of the blue color channel in the images.\n",
    "\n",
    "To demonstrate the utility of the `map` operation, we'll explore the relationship between the \"blueness\" of an image and the class of the image. \n",
    "\n",
    "We'll quantify the \"blueness\" of each image by simply computing the mean intensity of the blue color channel. This can be accomplished with a simple `map` operation over the `DataFrame`:"
   ]
  },
  {
   "cell_type": "code",
   "execution_count": null,
   "id": "a1a7cfd1",
   "metadata": {},
   "outputs": [],
   "source": [
    "blue_col = valid_df.map(\n",
    "    lambda img: np.array(img)[:, :, 2].mean(), \n",
    "    num_workers=2\n",
    ")\n",
    "\n",
    "# Add the intensities as a new column in the `DataFrame` \n",
    "valid_df[\"avg_blue\"] = blue_col"
   ]
  },
  {
   "cell_type": "markdown",
   "id": "d72b036c",
   "metadata": {},
   "source": [
    "### 🪂 vs. ⛳️\n",
    "Next, we'll explore the relationship between blueness and the class label of the image. To do so, we'll compare the blue intensity distribution of images labeled \"parachute\" to the distribution of of images labeled \"golf ball\".\n",
    "Using the [`seaborn`](https://seaborn.pydata.org/installing.html) plotting package and our `DataFrame`, this can be accomplished in one line:"
   ]
  },
  {
   "cell_type": "code",
   "execution_count": null,
   "id": "9be4d608",
   "metadata": {},
   "outputs": [],
   "source": [
    "## OPTIONAL: this cell requires the seaborn dependency: https://seaborn.pydata.org/installing.html \n",
    "import seaborn as sns\n",
    "\n",
    "plot_df = valid_df[np.isin(valid_df[\"label\"], [\"golf ball\", \"parachute\"])]\n",
    "sns.displot(\n",
    "    data=plot_df.to_pandas(), \n",
    "    x=\"avg_blue\", \n",
    "    hue=\"label\", \n",
    "    height=3, \n",
    "    aspect=2\n",
    ")"
   ]
  },
  {
   "cell_type": "code",
   "execution_count": null,
   "id": "b784b3be",
   "metadata": {},
   "outputs": [],
   "source": [
    "valid_df[\"img\"][int(np.argmax(valid_df[\"avg_blue\"]))]"
   ]
  },
  {
   "cell_type": "markdown",
   "id": "990db1b5",
   "metadata": {},
   "source": [
    "## 📉 ML with images in `meerkat`.\n",
    "\n",
    "Let's do some machine learning on our Imagenette `DataFrame`.\n",
    "We'll take a resnet18 pretrained on the full ImageNet dataset, perform inference on the validation set, and analyze the model's predictions and activations. \n",
    "\n",
    "The cell below downloads the model.."
   ]
  },
  {
   "cell_type": "code",
   "execution_count": null,
   "id": "94a6ece6",
   "metadata": {},
   "outputs": [],
   "source": [
    "import torch\n",
    "from torchvision.models import resnet18\n",
    "import torchvision.transforms as transforms\n",
    "model = resnet18(pretrained=True)"
   ]
  },
  {
   "cell_type": "markdown",
   "id": "67742172",
   "metadata": {},
   "source": [
    "### 💈  Applying a transform to the images.\n",
    "In order to do inference, we'll need to create a _new_ {class}`~meerkat.DeferredColumn`. The `ImageColumn` we defined above (_i.e._ `\"img_path\"`), does not apply any transforms after loading and simply returns a PIL image. Before passing the images through the model, we need to convert the PIL image to a `torch.Tensor` and normalize the color channels (along with a few other transformations). \n",
    "\n",
    "Note: the transforms defined below are the same as the ones used by torchvision, see [here](https://github.com/pytorch/examples/blob/cbb760d5e50a03df667cdc32a61f75ac28e11cbf/imagenet/main.py#L225). \n",
    "\n",
    "In the cell below, we specify a transform when creating the `ImageColumn`."
   ]
  },
  {
   "cell_type": "code",
   "execution_count": null,
   "id": "135d2254",
   "metadata": {},
   "outputs": [],
   "source": [
    "# Define transform\n",
    "transform = transforms.Compose([\n",
    "    transforms.Resize(256),\n",
    "    transforms.CenterCrop(224),\n",
    "    transforms.ToTensor(),\n",
    "    transforms.Normalize(\n",
    "        mean=[0.485, 0.456, 0.406],\n",
    "        std=[0.229, 0.224, 0.225]),\n",
    "])\n",
    "\n",
    "# Create new column with transform \n",
    "valid_df[\"input\"] = valid_df[\"img\"].defer(transform)"
   ]
  },
  {
   "cell_type": "markdown",
   "id": "d59c5196",
   "metadata": {},
   "source": [
    "Notice that indexing this new column returns a `torch.Tensor`, not a PIL image..."
   ]
  },
  {
   "cell_type": "code",
   "execution_count": null,
   "id": "05f82a3a",
   "metadata": {},
   "outputs": [],
   "source": [
    "img = valid_df[\"input\"][0]()\n",
    "print(f\"Indexing the `ImageColumn` returns an object of type: {type(img)}.\")"
   ]
  },
  {
   "cell_type": "markdown",
   "id": "59a232d3",
   "metadata": {},
   "source": [
    "... and that indexing a slice of this new column returns a {class}`~meerkat.TensorColumn`."
   ]
  },
  {
   "cell_type": "code",
   "execution_count": null,
   "id": "68e4d692",
   "metadata": {},
   "outputs": [],
   "source": [
    "col = img = valid_df[\"input\"][:3]()\n",
    "print(f\"Indexing a slice of the `ImageColumn` returns an object of type: {type(img)}.\")\n",
    "col"
   ]
  },
  {
   "cell_type": "markdown",
   "id": "7c34898b",
   "metadata": {},
   "source": [
    "Let's see what the full `DataFrame` looks like now."
   ]
  },
  {
   "cell_type": "code",
   "execution_count": null,
   "id": "ab15a068",
   "metadata": {},
   "outputs": [],
   "source": [
    "valid_df.head()"
   ]
  },
  {
   "cell_type": "markdown",
   "id": "296e603b",
   "metadata": {},
   "source": [
    "### 💫 Computing model predictions and activations.\n",
    "We'd like to perform inference and extract:\n",
    "  \n",
    "1. Output predictions  \n",
    "2. Output class probabilities  \n",
    "3. Model activations \n",
    "\n",
    "Note: in order to extract model activations, we'll need to use a [PyTorch forward hook](https://pytorch.org/tutorials/beginner/former_torchies/nnft_tutorial.html#forward-and-backward-function-hooks) and register it on the final layer of the ResNet. Forward hooks are just functions that get executed on the forward pass of a `torch.nn.Module`."
   ]
  },
  {
   "cell_type": "code",
   "execution_count": null,
   "id": "edd6a09d",
   "metadata": {},
   "outputs": [],
   "source": [
    "# Define forward hook in ActivationExtractor class\n",
    "class ActivationExtractor:\n",
    "    \"\"\"Extracting activations a targetted intermediate layer\"\"\"\n",
    "\n",
    "    def __init__(self):\n",
    "        self.activation = None\n",
    "\n",
    "    def forward_hook(self, module, input, output):\n",
    "        self.activation = output\n",
    "\n",
    "# Register forward hook\n",
    "extractor = ActivationExtractor()\n",
    "model.layer4.register_forward_hook(extractor.forward_hook);"
   ]
  },
  {
   "cell_type": "markdown",
   "id": "856cafff",
   "metadata": {},
   "source": [
    "We want to apply a forward pass to each image in the `DataFrame` and store the outputs as new columns: `DataFrame.map` is perfectly suited for this task."
   ]
  },
  {
   "cell_type": "code",
   "execution_count": null,
   "id": "d5b9bfd2",
   "metadata": {},
   "outputs": [],
   "source": [
    "# 1. Move the model to GPU, if available\n",
    "# device = 0\n",
    "device = \"cpu\"\n",
    "model.to(device).eval()\n",
    "\n",
    "# 2. Define a function that runs a forward pass over a batch \n",
    "@torch.no_grad()\n",
    "def predict(input: mk.TensorColumn):\n",
    "    x: torch.Tensor = input.data.to(device)  # We get the underlying torch tensor with `data` and move to GPU \n",
    "    out: torch.Tensor = model(x)  # Run forward pass\n",
    "\n",
    "    # Return a dictionary with one key for each of the new columns. Each value in the\n",
    "    # dictionary should have the same length as the batch. \n",
    "    return {\n",
    "        \"pred\": out.cpu().numpy().argmax(axis=-1),\n",
    "        \"probs\": torch.softmax(out, axis=-1).cpu(),\n",
    "        \"activation\": extractor.activation.mean(dim=[-1,-2]).cpu()\n",
    "    }\n",
    "# 3. Apply the update. Note that the `predict` function operates on batches, so we set \n",
    "# `batched=True`. Also, the `predict` function only accesses the \"input\" column, by \n",
    "# specifying that here we instruct update to only load that one column and skip others \n",
    "pred_df = valid_df.map(function=predict, is_batched_fn=True, batch_size=32)\n",
    "valid_df = mk.concat([valid_df, pred_df], axis=\"columns\")"
   ]
  },
  {
   "cell_type": "markdown",
   "id": "0f5930f2",
   "metadata": {},
   "source": [
    "The predictions, output probabilities, and activations are now stored alongside the examples in the `DataFrame`."
   ]
  },
  {
   "cell_type": "code",
   "execution_count": null,
   "id": "4caffa90",
   "metadata": {},
   "outputs": [],
   "source": [
    "valid_df[[\"label_id\", \"input\", \"pred\", \"probs\", \"activation\"]].head()"
   ]
  },
  {
   "cell_type": "markdown",
   "id": "12ff8ae0",
   "metadata": {},
   "source": [
    "### 🎯  Computing metrics and analyzing performance. \n",
    "\n",
    "Computing statistics on Meerkat `DataFrames` is straightforward because standard NumPy operators and functions can be applied directly to a `NumpyArrayColumn`. We take advantage of this below to compute the accuracy of the model."
   ]
  },
  {
   "cell_type": "code",
   "execution_count": null,
   "id": "16acf5fd",
   "metadata": {},
   "outputs": [],
   "source": [
    "valid_df[\"correct\"] = valid_df[\"pred\"] == valid_df[\"label_idx\"].data\n",
    "accuracy = valid_df[\"correct\"].mean()\n",
    "print(f\"Micro accuracy across the ten Imagenette classes: {accuracy:0.3}\")"
   ]
  },
  {
   "cell_type": "markdown",
   "id": "fbefea86",
   "metadata": {},
   "source": [
    "Furthermore, since the `DataFrame` is naturally converted to a Pandas DataFrame, it's easy to use data visualization tools that interface with Pandas (_e.g._ seaborn, bokeh)."
   ]
  },
  {
   "cell_type": "code",
   "execution_count": null,
   "id": "9450d5ed",
   "metadata": {},
   "outputs": [],
   "source": [
    "## OPTIONAL: this cell requires the seaborn dependency: https://seaborn.pydata.org/installing.html \n",
    "import seaborn as sns\n",
    "import matplotlib.pyplot as plt\n",
    "sns.barplot(data=valid_df.to_pandas(), y=\"label\", x=\"correct\");"
   ]
  },
  {
   "cell_type": "markdown",
   "id": "b0617164",
   "metadata": {},
   "source": [
    "### 🔎  Exploring model activations.\n",
    "To better understand the behavior of our model, we'll explore the activations of the final convolutional layer of the ResNet. Recall that when we performed our forward pass, we extracted these activations and stored them in a new column called `\"activation\"`.\n",
    "\n",
    "Unlike the the `NumpyArrayColumn`s we've been working with so far, the activation column has an additional dimension of size 512.\n",
    "\n",
    "To visualize the activations, we'll use a dimensionality reduction technique ([UMAP](https://umap-learn.readthedocs.io/en/latest/)) to embed the activations in two dimensions. We'll store these embeddings in two new columns \"umap_0\" and \"umap_1\"."
   ]
  },
  {
   "cell_type": "code",
   "execution_count": null,
   "id": "1ad91939",
   "metadata": {},
   "outputs": [],
   "source": [
    "## OPTIONAL: this cell requires the umap dependency: https://umap-learn.readthedocs.io/en/latest/\n",
    "!pip install umap-learn\n",
    "from umap import UMAP\n",
    "\n",
    "# 1. Compute UMAP embedding\n",
    "reducer = UMAP()\n",
    "embs = reducer.fit_transform(valid_df[\"activation\"])\n",
    "\n",
    "# 2. Add the embedding to the DataFrame as two new columns \n",
    "valid_df[\"umap_0\"] = embs[:, 0]\n",
    "valid_df[\"umap_1\"] = embs[:, 1]\n",
    "\n",
    "## OPTIONAL: this cell requires the seaborn dependency: https://seaborn.pydata.org/installing.html \n",
    "import seaborn as sns\n",
    "import matplotlib.pyplot as plt\n",
    "sns.scatterplot(data=valid_df.to_pandas(), x=\"umap_0\", y=\"umap_1\", hue=\"label\");\n",
    "plt.legend(bbox_to_anchor=(1.05, 1), loc='upper left')"
   ]
  },
  {
   "cell_type": "markdown",
   "id": "19a470a6",
   "metadata": {},
   "source": [
    "## 💾  Writing a `DataFrame` to disk. \n",
    "Finally, we can write the updated `DataFrame`, with all the activations and predictions included, to disk for later use.  \n",
    "\n",
    "`DataFrame` size on disk: 25MB\n",
    "\n",
    "On disk, the `DataFrame` is stored in a directory at the path passed to `DataFrame.write`. Within that directory, each column is stored separately. This allows us to read only a subset of columns from DataFrame on disk. Use the file explorer to the left to further expore the file structure of the `DataFrame`.  \n",
    "```\n",
    "valid_df\n",
    "|  +-- meta.yml   \n",
    "|  +-- state.dill  \n",
    "|  +-- columns\n",
    "   |   +-- activation\n",
    "   |   +-- avg_blue\n",
    "   |   +-- correct\n",
    "   |   ...\n",
    "   |   +-- umap_1\n",
    "```"
   ]
  },
  {
   "cell_type": "code",
   "execution_count": null,
   "id": "6a5d2156",
   "metadata": {},
   "outputs": [],
   "source": [
    "valid_df.write(os.path.join(dataset_dir, \"valid_df\"))"
   ]
  },
  {
   "cell_type": "code",
   "execution_count": null,
   "id": "1d5d230b",
   "metadata": {},
   "outputs": [],
   "source": [
    "valid_df = mk.read(os.path.join(dataset_dir, \"valid_df\"))"
   ]
  }
 ],
 "metadata": {
  "file_format": "mystnb",
  "kernelspec": {
   "display_name": "python3",
   "name": "python3"
  },
  "language_info": {
   "codemirror_mode": {
    "name": "ipython",
    "version": 3
   },
   "file_extension": ".py",
   "mimetype": "text/x-python",
   "name": "python",
   "nbconvert_exporter": "python",
   "pygments_lexer": "ipython3",
   "version": "3.8.16"
  },
  "source_map": [
   5,
   14,
   18,
   27,
   33,
   37,
   41,
   51,
   63,
   72,
   75,
   78,
   81,
   84,
   88,
   106,
   108,
   131,
   133,
   141,
   149,
   155,
   169,
   171,
   180,
   185,
   194,
   207,
   210,
   213,
   216,
   220,
   223,
   225,
   236,
   250,
   254,
   278,
   282,
   284,
   290,
   294,
   298,
   303,
   312,
   330,
   350,
   354
  ]
 },
 "nbformat": 4,
 "nbformat_minor": 5
}