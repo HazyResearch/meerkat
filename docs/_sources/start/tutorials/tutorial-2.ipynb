{
 "cells": [
  {
   "cell_type": "markdown",
   "id": "93ca6e38",
   "metadata": {},
   "source": [
    "# Tutorial 2: Reactive Image Viewer\n",
    "\n",
    "In this tutorial, we will build a simple image viewer that shows a random subset of images from\n",
    "a class in an image dataset.\n",
    "\n",
    "Through this tutorial, you will learn about:\n",
    "- the concept of **reactive functions** in Meerkat\n",
    "- how **chaining reactive functions** together can be used to build complex applications\n",
    "- a few more components that you can use in Meerkat\n",
    "\n",
    "To get started, run the tutorial demo script.\n",
    "```{code-block} bash\n",
    "mk demo tutorial-2\n",
    "```\n",
    "You should see the tutorial app when you open the link in your browser.\n",
    "\n",
    "Let's break down the code in the demo script.\n",
    "\n",
    "**Data loading**\n",
    "\n",
    "The first few lines just load in the `imagenette` dataset, a small 10-class subset of ImageNet.\n",
    "```{margin}\n",
    "`df` is an `mk.DataFrame`, which behaves quite similarly to a `pandas.DataFrame`.\n",
    "```"
   ]
  },
  {
   "cell_type": "code",
   "execution_count": 1,
   "id": "94cd8d58",
   "metadata": {},
   "outputs": [
    {
     "data": {
      "application/vnd.jupyter.widget-view+json": {
       "model_id": "e8d08f368ca84fcba3e845c5f3834e52",
       "version_major": 2,
       "version_minor": 0
      },
      "text/plain": [
       "Downloading:   0%|          | 0.00/99.0M [00:00<?, ?B/s]"
      ]
     },
     "metadata": {},
     "output_type": "display_data"
    },
    {
     "ename": "KeyboardInterrupt",
     "evalue": "",
     "output_type": "error",
     "traceback": [
      "\u001b[0;31m---------------------------------------------------------------------------\u001b[0m",
      "\u001b[0;31mKeyboardInterrupt\u001b[0m                         Traceback (most recent call last)",
      "Cell \u001b[0;32mIn[1], line 4\u001b[0m\n\u001b[1;32m      1\u001b[0m \u001b[38;5;28;01mimport\u001b[39;00m \u001b[38;5;21;01mmeerkat\u001b[39;00m \u001b[38;5;28;01mas\u001b[39;00m \u001b[38;5;21;01mmk\u001b[39;00m\n\u001b[1;32m      2\u001b[0m \u001b[38;5;28;01mimport\u001b[39;00m \u001b[38;5;21;01mrich\u001b[39;00m\n\u001b[0;32m----> 4\u001b[0m df \u001b[38;5;241m=\u001b[39m \u001b[43mmk\u001b[49m\u001b[38;5;241;43m.\u001b[39;49m\u001b[43mget\u001b[49m\u001b[43m(\u001b[49m\u001b[38;5;124;43m\"\u001b[39;49m\u001b[38;5;124;43mimagenette\u001b[39;49m\u001b[38;5;124;43m\"\u001b[39;49m\u001b[43m,\u001b[49m\u001b[43m \u001b[49m\u001b[43mversion\u001b[49m\u001b[38;5;241;43m=\u001b[39;49m\u001b[38;5;124;43m\"\u001b[39;49m\u001b[38;5;124;43m160px\u001b[39;49m\u001b[38;5;124;43m\"\u001b[39;49m\u001b[43m)\u001b[49m\n\u001b[1;32m      5\u001b[0m IMAGE_COL \u001b[38;5;241m=\u001b[39m \u001b[38;5;124m\"\u001b[39m\u001b[38;5;124mimg\u001b[39m\u001b[38;5;124m\"\u001b[39m\n\u001b[1;32m      6\u001b[0m LABEL_COL \u001b[38;5;241m=\u001b[39m \u001b[38;5;124m\"\u001b[39m\u001b[38;5;124mlabel\u001b[39m\u001b[38;5;124m\"\u001b[39m\n",
      "File \u001b[0;32m~/work/meerkat/meerkat/meerkat/datasets/__init__.py:78\u001b[0m, in \u001b[0;36mget\u001b[0;34m(name, dataset_dir, version, download_mode, registry, **kwargs)\u001b[0m\n\u001b[1;32m     76\u001b[0m \u001b[38;5;28;01mif\u001b[39;00m registry \u001b[38;5;241m==\u001b[39m \u001b[38;5;124m\"\u001b[39m\u001b[38;5;124mmeerkat\u001b[39m\u001b[38;5;124m\"\u001b[39m:\n\u001b[1;32m     77\u001b[0m     \u001b[38;5;28;01mtry\u001b[39;00m:\n\u001b[0;32m---> 78\u001b[0m         dataset \u001b[38;5;241m=\u001b[39m \u001b[43mdatasets\u001b[49m\u001b[38;5;241;43m.\u001b[39;49m\u001b[43mget\u001b[49m\u001b[43m(\u001b[49m\n\u001b[1;32m     79\u001b[0m \u001b[43m            \u001b[49m\u001b[43mname\u001b[49m\u001b[38;5;241;43m=\u001b[39;49m\u001b[43mname\u001b[49m\u001b[43m,\u001b[49m\n\u001b[1;32m     80\u001b[0m \u001b[43m            \u001b[49m\u001b[43mdataset_dir\u001b[49m\u001b[38;5;241;43m=\u001b[39;49m\u001b[43mdataset_dir\u001b[49m\u001b[43m,\u001b[49m\n\u001b[1;32m     81\u001b[0m \u001b[43m            \u001b[49m\u001b[43mversion\u001b[49m\u001b[38;5;241;43m=\u001b[39;49m\u001b[43mversion\u001b[49m\u001b[43m,\u001b[49m\n\u001b[1;32m     82\u001b[0m \u001b[43m            \u001b[49m\u001b[43mdownload_mode\u001b[49m\u001b[38;5;241;43m=\u001b[39;49m\u001b[43mdownload_mode\u001b[49m\u001b[43m,\u001b[49m\n\u001b[1;32m     83\u001b[0m \u001b[43m            \u001b[49m\u001b[38;5;241;43m*\u001b[39;49m\u001b[38;5;241;43m*\u001b[39;49m\u001b[43mkwargs\u001b[49m\u001b[43m,\u001b[49m\n\u001b[1;32m     84\u001b[0m \u001b[43m        \u001b[49m\u001b[43m)\u001b[49m\n\u001b[1;32m     85\u001b[0m         \u001b[38;5;28;01mreturn\u001b[39;00m dataset\n\u001b[1;32m     86\u001b[0m     \u001b[38;5;28;01mexcept\u001b[39;00m \u001b[38;5;167;01mKeyError\u001b[39;00m \u001b[38;5;28;01mas\u001b[39;00m e:\n",
      "File \u001b[0;32m~/work/meerkat/meerkat/meerkat/datasets/registry.py:27\u001b[0m, in \u001b[0;36mRegistry.get\u001b[0;34m(self, name, **kwargs)\u001b[0m\n\u001b[1;32m     22\u001b[0m \u001b[38;5;28;01mif\u001b[39;00m ret \u001b[38;5;129;01mis\u001b[39;00m \u001b[38;5;28;01mNone\u001b[39;00m:\n\u001b[1;32m     23\u001b[0m     \u001b[38;5;28;01mraise\u001b[39;00m \u001b[38;5;167;01mKeyError\u001b[39;00m(\n\u001b[1;32m     24\u001b[0m         \u001b[38;5;124m\"\u001b[39m\u001b[38;5;124mNo object named \u001b[39m\u001b[38;5;124m'\u001b[39m\u001b[38;5;132;01m{}\u001b[39;00m\u001b[38;5;124m'\u001b[39m\u001b[38;5;124m found in \u001b[39m\u001b[38;5;124m'\u001b[39m\u001b[38;5;132;01m{}\u001b[39;00m\u001b[38;5;124m'\u001b[39m\u001b[38;5;124m registry!\u001b[39m\u001b[38;5;124m\"\u001b[39m\u001b[38;5;241m.\u001b[39mformat(name, \u001b[38;5;28mself\u001b[39m\u001b[38;5;241m.\u001b[39m_name)\n\u001b[1;32m     25\u001b[0m     )\n\u001b[0;32m---> 27\u001b[0m \u001b[38;5;28;01mreturn\u001b[39;00m \u001b[43mret\u001b[49m\u001b[43m(\u001b[49m\u001b[38;5;241;43m*\u001b[39;49m\u001b[38;5;241;43m*\u001b[39;49m\u001b[43mkwargs\u001b[49m\u001b[43m)\u001b[49m\u001b[43m(\u001b[49m\u001b[43m)\u001b[49m\n",
      "File \u001b[0;32m~/work/meerkat/meerkat/meerkat/datasets/abstract.py:57\u001b[0m, in \u001b[0;36mDatasetBuilder.__call__\u001b[0;34m(self)\u001b[0m\n\u001b[1;32m     53\u001b[0m \u001b[38;5;28;01mdef\u001b[39;00m \u001b[38;5;21m__call__\u001b[39m(\u001b[38;5;28mself\u001b[39m):\n\u001b[1;32m     54\u001b[0m     \u001b[38;5;28;01mif\u001b[39;00m \u001b[38;5;28mself\u001b[39m\u001b[38;5;241m.\u001b[39mdownload_mode \u001b[38;5;129;01min\u001b[39;00m [\u001b[38;5;124m\"\u001b[39m\u001b[38;5;124mforce\u001b[39m\u001b[38;5;124m\"\u001b[39m, \u001b[38;5;124m\"\u001b[39m\u001b[38;5;124mextract\u001b[39m\u001b[38;5;124m\"\u001b[39m] \u001b[38;5;129;01mor\u001b[39;00m (\n\u001b[1;32m     55\u001b[0m         \u001b[38;5;28mself\u001b[39m\u001b[38;5;241m.\u001b[39mdownload_mode \u001b[38;5;241m==\u001b[39m \u001b[38;5;124m\"\u001b[39m\u001b[38;5;124mreuse\u001b[39m\u001b[38;5;124m\"\u001b[39m \u001b[38;5;129;01mand\u001b[39;00m \u001b[38;5;129;01mnot\u001b[39;00m \u001b[38;5;28mself\u001b[39m\u001b[38;5;241m.\u001b[39mis_downloaded()\n\u001b[1;32m     56\u001b[0m     ):\n\u001b[0;32m---> 57\u001b[0m         \u001b[38;5;28;43mself\u001b[39;49m\u001b[38;5;241;43m.\u001b[39;49m\u001b[43mdownload\u001b[49m\u001b[43m(\u001b[49m\u001b[43m)\u001b[49m\n\u001b[1;32m     58\u001b[0m         \u001b[38;5;28mself\u001b[39m\u001b[38;5;241m.\u001b[39mdump_download_meta()\n\u001b[1;32m     60\u001b[0m     \u001b[38;5;28;01mif\u001b[39;00m \u001b[38;5;129;01mnot\u001b[39;00m \u001b[38;5;28mself\u001b[39m\u001b[38;5;241m.\u001b[39mis_downloaded():\n",
      "File \u001b[0;32m~/work/meerkat/meerkat/meerkat/datasets/imagenette/__init__.py:78\u001b[0m, in \u001b[0;36mimagenette.download\u001b[0;34m(self)\u001b[0m\n\u001b[1;32m     76\u001b[0m url \u001b[38;5;241m=\u001b[39m \u001b[38;5;28mself\u001b[39m\u001b[38;5;241m.\u001b[39mVERSION_TO_URL[\u001b[38;5;28mself\u001b[39m\u001b[38;5;241m.\u001b[39mversion]\n\u001b[1;32m     77\u001b[0m path \u001b[38;5;241m=\u001b[39m \u001b[38;5;28mself\u001b[39m\u001b[38;5;241m.\u001b[39mdownload_url(url)\n\u001b[0;32m---> 78\u001b[0m \u001b[43mextract\u001b[49m\u001b[43m(\u001b[49m\u001b[43mpath\u001b[49m\u001b[43m,\u001b[49m\u001b[43m \u001b[49m\u001b[38;5;28;43mself\u001b[39;49m\u001b[38;5;241;43m.\u001b[39;49m\u001b[43mdataset_dir\u001b[49m\u001b[43m)\u001b[49m\n",
      "File \u001b[0;32m~/work/meerkat/meerkat/meerkat/datasets/utils.py:37\u001b[0m, in \u001b[0;36mextract\u001b[0;34m(path, dst, extractor)\u001b[0m\n\u001b[1;32m     35\u001b[0m \u001b[38;5;28;01mfor\u001b[39;00m extractor \u001b[38;5;129;01min\u001b[39;00m extractors:\n\u001b[1;32m     36\u001b[0m     \u001b[38;5;28;01mif\u001b[39;00m extractor\u001b[38;5;241m.\u001b[39mis_extractable(path):\n\u001b[0;32m---> 37\u001b[0m         \u001b[38;5;28;01mreturn\u001b[39;00m \u001b[43mextractor\u001b[49m\u001b[38;5;241;43m.\u001b[39;49m\u001b[43mextract\u001b[49m\u001b[43m(\u001b[49m\u001b[43mpath\u001b[49m\u001b[43m,\u001b[49m\u001b[43m \u001b[49m\u001b[43mdst\u001b[49m\u001b[43m)\u001b[49m\n\u001b[1;32m     38\u001b[0m \u001b[38;5;28;01mraise\u001b[39;00m \u001b[38;5;167;01mValueError\u001b[39;00m(\u001b[38;5;124m\"\u001b[39m\u001b[38;5;124mExtraction method not found for \u001b[39m\u001b[38;5;132;01m{}\u001b[39;00m\u001b[38;5;124m\"\u001b[39m\u001b[38;5;241m.\u001b[39mformat(path))\n",
      "File \u001b[0;32m/opt/hostedtoolcache/Python/3.8.16/x64/lib/python3.8/site-packages/datasets/utils/extract.py:126\u001b[0m, in \u001b[0;36mTarExtractor.extract\u001b[0;34m(input_path, output_path)\u001b[0m\n\u001b[1;32m    124\u001b[0m os\u001b[38;5;241m.\u001b[39mmakedirs(output_path, exist_ok\u001b[38;5;241m=\u001b[39m\u001b[38;5;28;01mTrue\u001b[39;00m)\n\u001b[1;32m    125\u001b[0m tar_file \u001b[38;5;241m=\u001b[39m tarfile\u001b[38;5;241m.\u001b[39mopen(input_path)\n\u001b[0;32m--> 126\u001b[0m \u001b[43mtar_file\u001b[49m\u001b[38;5;241;43m.\u001b[39;49m\u001b[43mextractall\u001b[49m\u001b[43m(\u001b[49m\u001b[43moutput_path\u001b[49m\u001b[43m,\u001b[49m\u001b[43m \u001b[49m\u001b[43mmembers\u001b[49m\u001b[38;5;241;43m=\u001b[39;49m\u001b[43mTarExtractor\u001b[49m\u001b[38;5;241;43m.\u001b[39;49m\u001b[43msafemembers\u001b[49m\u001b[43m(\u001b[49m\u001b[43mtar_file\u001b[49m\u001b[43m,\u001b[49m\u001b[43m \u001b[49m\u001b[43moutput_path\u001b[49m\u001b[43m)\u001b[49m\u001b[43m)\u001b[49m\n\u001b[1;32m    127\u001b[0m tar_file\u001b[38;5;241m.\u001b[39mclose()\n",
      "File \u001b[0;32m/opt/hostedtoolcache/Python/3.8.16/x64/lib/python3.8/tarfile.py:2028\u001b[0m, in \u001b[0;36mTarFile.extractall\u001b[0;34m(self, path, members, numeric_owner)\u001b[0m\n\u001b[1;32m   2026\u001b[0m         tarinfo\u001b[38;5;241m.\u001b[39mmode \u001b[38;5;241m=\u001b[39m \u001b[38;5;241m0o700\u001b[39m\n\u001b[1;32m   2027\u001b[0m     \u001b[38;5;66;03m# Do not set_attrs directories, as we will do that further down\u001b[39;00m\n\u001b[0;32m-> 2028\u001b[0m     \u001b[38;5;28;43mself\u001b[39;49m\u001b[38;5;241;43m.\u001b[39;49m\u001b[43mextract\u001b[49m\u001b[43m(\u001b[49m\u001b[43mtarinfo\u001b[49m\u001b[43m,\u001b[49m\u001b[43m \u001b[49m\u001b[43mpath\u001b[49m\u001b[43m,\u001b[49m\u001b[43m \u001b[49m\u001b[43mset_attrs\u001b[49m\u001b[38;5;241;43m=\u001b[39;49m\u001b[38;5;129;43;01mnot\u001b[39;49;00m\u001b[43m \u001b[49m\u001b[43mtarinfo\u001b[49m\u001b[38;5;241;43m.\u001b[39;49m\u001b[43misdir\u001b[49m\u001b[43m(\u001b[49m\u001b[43m)\u001b[49m\u001b[43m,\u001b[49m\n\u001b[1;32m   2029\u001b[0m \u001b[43m                 \u001b[49m\u001b[43mnumeric_owner\u001b[49m\u001b[38;5;241;43m=\u001b[39;49m\u001b[43mnumeric_owner\u001b[49m\u001b[43m)\u001b[49m\n\u001b[1;32m   2031\u001b[0m \u001b[38;5;66;03m# Reverse sort directories.\u001b[39;00m\n\u001b[1;32m   2032\u001b[0m directories\u001b[38;5;241m.\u001b[39msort(key\u001b[38;5;241m=\u001b[39m\u001b[38;5;28;01mlambda\u001b[39;00m a: a\u001b[38;5;241m.\u001b[39mname)\n",
      "File \u001b[0;32m/opt/hostedtoolcache/Python/3.8.16/x64/lib/python3.8/tarfile.py:2069\u001b[0m, in \u001b[0;36mTarFile.extract\u001b[0;34m(self, member, path, set_attrs, numeric_owner)\u001b[0m\n\u001b[1;32m   2066\u001b[0m     tarinfo\u001b[38;5;241m.\u001b[39m_link_target \u001b[38;5;241m=\u001b[39m os\u001b[38;5;241m.\u001b[39mpath\u001b[38;5;241m.\u001b[39mjoin(path, tarinfo\u001b[38;5;241m.\u001b[39mlinkname)\n\u001b[1;32m   2068\u001b[0m \u001b[38;5;28;01mtry\u001b[39;00m:\n\u001b[0;32m-> 2069\u001b[0m     \u001b[38;5;28;43mself\u001b[39;49m\u001b[38;5;241;43m.\u001b[39;49m\u001b[43m_extract_member\u001b[49m\u001b[43m(\u001b[49m\u001b[43mtarinfo\u001b[49m\u001b[43m,\u001b[49m\u001b[43m \u001b[49m\u001b[43mos\u001b[49m\u001b[38;5;241;43m.\u001b[39;49m\u001b[43mpath\u001b[49m\u001b[38;5;241;43m.\u001b[39;49m\u001b[43mjoin\u001b[49m\u001b[43m(\u001b[49m\u001b[43mpath\u001b[49m\u001b[43m,\u001b[49m\u001b[43m \u001b[49m\u001b[43mtarinfo\u001b[49m\u001b[38;5;241;43m.\u001b[39;49m\u001b[43mname\u001b[49m\u001b[43m)\u001b[49m\u001b[43m,\u001b[49m\n\u001b[1;32m   2070\u001b[0m \u001b[43m                         \u001b[49m\u001b[43mset_attrs\u001b[49m\u001b[38;5;241;43m=\u001b[39;49m\u001b[43mset_attrs\u001b[49m\u001b[43m,\u001b[49m\n\u001b[1;32m   2071\u001b[0m \u001b[43m                         \u001b[49m\u001b[43mnumeric_owner\u001b[49m\u001b[38;5;241;43m=\u001b[39;49m\u001b[43mnumeric_owner\u001b[49m\u001b[43m)\u001b[49m\n\u001b[1;32m   2072\u001b[0m \u001b[38;5;28;01mexcept\u001b[39;00m \u001b[38;5;167;01mOSError\u001b[39;00m \u001b[38;5;28;01mas\u001b[39;00m e:\n\u001b[1;32m   2073\u001b[0m     \u001b[38;5;28;01mif\u001b[39;00m \u001b[38;5;28mself\u001b[39m\u001b[38;5;241m.\u001b[39merrorlevel \u001b[38;5;241m>\u001b[39m \u001b[38;5;241m0\u001b[39m:\n",
      "File \u001b[0;32m/opt/hostedtoolcache/Python/3.8.16/x64/lib/python3.8/tarfile.py:2141\u001b[0m, in \u001b[0;36mTarFile._extract_member\u001b[0;34m(self, tarinfo, targetpath, set_attrs, numeric_owner)\u001b[0m\n\u001b[1;32m   2138\u001b[0m     \u001b[38;5;28mself\u001b[39m\u001b[38;5;241m.\u001b[39m_dbg(\u001b[38;5;241m1\u001b[39m, tarinfo\u001b[38;5;241m.\u001b[39mname)\n\u001b[1;32m   2140\u001b[0m \u001b[38;5;28;01mif\u001b[39;00m tarinfo\u001b[38;5;241m.\u001b[39misreg():\n\u001b[0;32m-> 2141\u001b[0m     \u001b[38;5;28;43mself\u001b[39;49m\u001b[38;5;241;43m.\u001b[39;49m\u001b[43mmakefile\u001b[49m\u001b[43m(\u001b[49m\u001b[43mtarinfo\u001b[49m\u001b[43m,\u001b[49m\u001b[43m \u001b[49m\u001b[43mtargetpath\u001b[49m\u001b[43m)\u001b[49m\n\u001b[1;32m   2142\u001b[0m \u001b[38;5;28;01melif\u001b[39;00m tarinfo\u001b[38;5;241m.\u001b[39misdir():\n\u001b[1;32m   2143\u001b[0m     \u001b[38;5;28mself\u001b[39m\u001b[38;5;241m.\u001b[39mmakedir(tarinfo, targetpath)\n",
      "File \u001b[0;32m/opt/hostedtoolcache/Python/3.8.16/x64/lib/python3.8/tarfile.py:2182\u001b[0m, in \u001b[0;36mTarFile.makefile\u001b[0;34m(self, tarinfo, targetpath)\u001b[0m\n\u001b[1;32m   2180\u001b[0m source\u001b[38;5;241m.\u001b[39mseek(tarinfo\u001b[38;5;241m.\u001b[39moffset_data)\n\u001b[1;32m   2181\u001b[0m bufsize \u001b[38;5;241m=\u001b[39m \u001b[38;5;28mself\u001b[39m\u001b[38;5;241m.\u001b[39mcopybufsize\n\u001b[0;32m-> 2182\u001b[0m \u001b[38;5;28;01mwith\u001b[39;00m bltn_open(targetpath, \u001b[38;5;124m\"\u001b[39m\u001b[38;5;124mwb\u001b[39m\u001b[38;5;124m\"\u001b[39m) \u001b[38;5;28;01mas\u001b[39;00m target:\n\u001b[1;32m   2183\u001b[0m     \u001b[38;5;28;01mif\u001b[39;00m tarinfo\u001b[38;5;241m.\u001b[39msparse \u001b[38;5;129;01mis\u001b[39;00m \u001b[38;5;129;01mnot\u001b[39;00m \u001b[38;5;28;01mNone\u001b[39;00m:\n\u001b[1;32m   2184\u001b[0m         \u001b[38;5;28;01mfor\u001b[39;00m offset, size \u001b[38;5;129;01min\u001b[39;00m tarinfo\u001b[38;5;241m.\u001b[39msparse:\n",
      "\u001b[0;31mKeyboardInterrupt\u001b[0m: "
     ]
    }
   ],
   "source": [
    "import meerkat as mk\n",
    "import rich\n",
    "\n",
    "df = mk.get(\"imagenette\", version=\"160px\")\n",
    "IMAGE_COL = \"img\"\n",
    "LABEL_COL = \"label\""
   ]
  },
  {
   "cell_type": "markdown",
   "id": "f4220612",
   "metadata": {},
   "source": [
    "<!-- Show the dataset and hide the input cell. -->"
   ]
  },
  {
   "cell_type": "code",
   "execution_count": null,
   "id": "ee32f461",
   "metadata": {
    "tags": [
     "remove-input"
    ]
   },
   "outputs": [],
   "source": [
    "df.head()"
   ]
  },
  {
   "cell_type": "code",
   "execution_count": null,
   "id": "cfe73740",
   "metadata": {},
   "outputs": [],
   "source": [
    "# Unique classes in the dataset.\n",
    "labels = list(df[LABEL_COL].unique())"
   ]
  },
  {
   "cell_type": "code",
   "execution_count": null,
   "id": "376fc0bf",
   "metadata": {
    "tags": [
     "remove-input"
    ]
   },
   "outputs": [],
   "source": [
    "rich.print(labels)"
   ]
  },
  {
   "cell_type": "markdown",
   "id": "2ca36377",
   "metadata": {},
   "source": [
    "**Selecting a class**\n",
    "\n",
    "Next, let's create a {class}`~meerkat.gui.Select` component that allows the user to select a class. Once a user picks the class, we'll then show a random subset of images from that class.\n",
    "\n",
    "```{margin}\n",
    "A list of the components in Meerkat can be found in the\n",
    "[component guide](../../guide/components/inbuilts.rst).\n",
    "```\n",
    "\n",
    "Meerkat provides many components like `Select` that can be used to build useful\n",
    "apps."
   ]
  },
  {
   "cell_type": "code",
   "execution_count": null,
   "id": "1d2d0ff1",
   "metadata": {},
   "outputs": [],
   "source": [
    "# Give the user a way to select a class.\n",
    "class_selector = mk.gui.Select(\n",
    "    values=list(labels),\n",
    "    value=labels[0],\n",
    ")"
   ]
  },
  {
   "cell_type": "code",
   "execution_count": null,
   "id": "cad91b12",
   "metadata": {
    "tags": [
     "remove-input"
    ]
   },
   "outputs": [],
   "source": [
    "rich.print(\n",
    "    \"[blue]class_selector.value[/blue]:\", \n",
    "    f\"\\n\\t{str(class_selector.value)}\",\n",
    "    \"\\n[blue]type(class_selector.value)[/blue]:\", \n",
    "    f\"\\n\\t{str(type(class_selector.value))}\",\n",
    ")"
   ]
  },
  {
   "cell_type": "markdown",
   "id": "fa533da7",
   "metadata": {},
   "source": [
    "Notice here that `class_selector.value` is a `Store` object and not a `str`! A `Store` is a special object in Meerkat that serves as a thin wrapper around any Python object. It's incredibly useful to connect different components to each other, and we'll see more about how it plays a role in the next section.\n",
    "\n",
    "\n",
    "You can access the value of a `Store` object by using the `.value` attribute e.g."
   ]
  },
  {
   "cell_type": "code",
   "execution_count": null,
   "id": "23f3e819",
   "metadata": {
    "tags": [
     "remove-input"
    ]
   },
   "outputs": [],
   "source": [
    "rich.print(\n",
    "    \"[blue]class_selector.value.value[/blue]:\", \n",
    "    f\"\\n\\t{str(class_selector.value.value)}\",\n",
    "    \"\\n[blue]type(class_selector.value.value)[/blue]:\", \n",
    "    f\"\\n\\t{str(type(class_selector.value.value))}\",\n",
    ")"
   ]
  },
  {
   "cell_type": "markdown",
   "id": "e623114b",
   "metadata": {},
   "source": [
    "We can also look at the `class_selector` component itself."
   ]
  },
  {
   "cell_type": "code",
   "execution_count": null,
   "id": "8f13c23e",
   "metadata": {
    "tags": [
     "remove-input"
    ]
   },
   "outputs": [],
   "source": [
    "rich.print(class_selector)"
   ]
  },
  {
   "cell_type": "markdown",
   "id": "f850cb75",
   "metadata": {},
   "source": [
    "Notice that all of the attributes of the `Select` component are also `Store` objects. This is done automatically by all classes that subclass `Component` in Meerkat, of which `Select` is one. This is very useful because as `Store` objects all of these attributes are synchronized between the frontend interface and the backend Python code.\n",
    "\n",
    "**Filtering the dataset by class**\n",
    "\n",
    "Once the user selects a class, the dataset should be filtered to that class. \n",
    "**Importantly, we want this to happen every time the user selects a new class.**\n",
    "\n",
    "Let's think about what would happen if we did the obvious thing and just filtered the dataset once."
   ]
  },
  {
   "cell_type": "code",
   "execution_count": null,
   "id": "242f28b7",
   "metadata": {},
   "outputs": [],
   "source": [
    "# Filter the dataset to the selected class. Do it normally.\n",
    "filtered_df = df[df[LABEL_COL] == class_selector.value]"
   ]
  },
  {
   "cell_type": "code",
   "execution_count": null,
   "id": "0c56a3e8",
   "metadata": {
    "tags": [
     "remove-input"
    ]
   },
   "outputs": [],
   "source": [
    "rich.print(\n",
    "    \"[blue]filtered_df[/blue]:\", \n",
    "    f\"\\n\\t{str(filtered_df)}\",\n",
    ")"
   ]
  },
  {
   "cell_type": "markdown",
   "id": "777535e5",
   "metadata": {},
   "source": [
    "The problem that will arise is that this filter uses the class label in `class_selector.value` **at the time of script execution. Once the user chooses a different class, there's no way to go back to this line of code and rerun it.**\n",
    "\n",
    "\n",
    "This is where **reactive functions** come in. A reactive function is a function that is automatically re-executed whenever one of its inputs updates. \n",
    "\n",
    "In this example, we would want to re-execute the filter whenever the user selects a class and `class_selector.value` changes. Let's write a simple reactive function that filters the dataset to the selected class, using the {py:func}`@reactive() <meerkat.reactive>` decorator."
   ]
  },
  {
   "cell_type": "code",
   "execution_count": null,
   "id": "7ee70360",
   "metadata": {},
   "outputs": [],
   "source": [
    "# Filter the dataset to the selected class. Use a reactive function.\n",
    "@mk.reactive()\n",
    "def filter_by_class(df: mk.DataFrame, label: str):\n",
    "    return df[df[LABEL_COL] == label]"
   ]
  },
  {
   "cell_type": "markdown",
   "id": "7e4f0f36",
   "metadata": {},
   "source": [
    "Note a couple of things here:\n",
    "- The function `filter_by_class` is decorated with `@mk.reactive()`. This is what makes it reactive.\n",
    "- `filter_by_class` is written as a normal Python function. This is true in general for reactive functions: there's no special syntax or anything.\n",
    "\n",
    "Let's now call this reactive function on the dataset and the `Store` object `class_selector.value`."
   ]
  },
  {
   "cell_type": "code",
   "execution_count": null,
   "id": "4ff996c9",
   "metadata": {},
   "outputs": [],
   "source": [
    "filtered_df = filter_by_class(df, class_selector.value)"
   ]
  },
  {
   "cell_type": "markdown",
   "id": "12ba9f1b",
   "metadata": {},
   "source": [
    "```{margin}\n",
    "In Meerkat, only `marked` objects can cause a reactive function to re-execute when they are updated. All Meerkat objects have `.mark()` and `.unmark()` methods, and only `Store` objects are marked by default. You can read more about how this works in the [user guide on reactive functions](../../guide/reactive-functions/concepts.md).\n",
    "```\n",
    "\n",
    "When calling `filter_by_class`, we pass it the `DataFrame` and **the `Store` object `class_selector.value`, and not the actual string value of the class!** \n",
    "This is critical to understand: in order for an argument to trigger re-execution of a reactive function, it must be a Meerkat object like a `Store` or `DataFrame`, and not a Python object like `str`.\n",
    "\n",
    "Of course, reactive functions can be used like normal Python functions, e.g. it would be perfectly fine to pass in `str` objects to `filter_by_class` instead of `Store` objects."
   ]
  },
  {
   "cell_type": "code",
   "execution_count": null,
   "id": "64a4f6ea",
   "metadata": {},
   "outputs": [],
   "source": [
    "filter_by_class(df, \"cassette player\")"
   ]
  },
  {
   "cell_type": "markdown",
   "id": "57b850d4",
   "metadata": {},
   "source": [
    "Let's also note a couple of other ways in which we could create reactive functions that wouldn't quite have worked."
   ]
  },
  {
   "cell_type": "code",
   "execution_count": null,
   "id": "18a1e3ac",
   "metadata": {},
   "outputs": [],
   "source": [
    "@mk.reactive()\n",
    "def filter_by_class(df: mk.DataFrame):\n",
    "    return df[df[LABEL_COL] == class_selector.value]"
   ]
  },
  {
   "cell_type": "markdown",
   "id": "9cac2542",
   "metadata": {},
   "source": [
    "Here, we've forgotten to create an argument for the class label, so using this reactive function would not work. It would never re-run when the user selects a new class!\n",
    "\n",
    "So far so good. We've created and used a reactive function that filters the dataset to the selected class. \n",
    "\n",
    "**Selecting a random subset of images**\n",
    "\n",
    "Let's now create another reactive function that selects a random subset of images from the filtered dataset. Then, we'll chain together the two reactive functions we've created so far to get the final result."
   ]
  },
  {
   "cell_type": "code",
   "execution_count": null,
   "id": "8948fa11",
   "metadata": {},
   "outputs": [],
   "source": [
    "\"\"\"Select a random subset of images from the filtered dataset.\"\"\"\n",
    "@mk.reactive()\n",
    "def random_images(df: mk.DataFrame):\n",
    "    # Sample 16 images from the filtered dataset.\n",
    "    # `images` will be a `Column` object.\n",
    "    images = df.sample(16)[IMAGE_COL]\n",
    "\n",
    "    # Encode the images as base64 strings.\n",
    "    # Use a `Formatter` object to do this.\n",
    "    formatter = images.formatters['base']\n",
    "\n",
    "    # All Formatter objects have an `encode` method that\n",
    "    # can be used to take a data object and encode it in some way.\n",
    "    return [formatter.encode(img) for img in images]"
   ]
  },
  {
   "cell_type": "markdown",
   "id": "e4f3fd64",
   "metadata": {},
   "source": [
    "Here, `random_images` takes in a `DataFrame` and returns a list of base64-encoded images. It's decorated with `@mk.reactive()` so that it will be re-executed whenever the `DataFrame` is updated.\n",
    "\n",
    "Let's pass the output of `filter_by_class` to `random_images`."
   ]
  },
  {
   "cell_type": "code",
   "execution_count": null,
   "id": "d2d03fee",
   "metadata": {},
   "outputs": [],
   "source": [
    "images = random_images(filtered_df)"
   ]
  },
  {
   "cell_type": "code",
   "execution_count": null,
   "id": "b4478b32",
   "metadata": {
    "tags": [
     "remove-input"
    ]
   },
   "outputs": [],
   "source": [
    "rich.print(\n",
    "    \"[blue]images[/blue]:\", \n",
    "    f\"\\n\\t[{str(images[-1])}, ...]\",\n",
    ")"
   ]
  },
  {
   "cell_type": "markdown",
   "id": "97aa765f",
   "metadata": {},
   "source": [
    "This sets up a chain of reactive functions that will be re-executed whenever the user selects a new class.\n",
    "\n",
    "**Displaying the images**\n",
    "Finally, let's show the user the images using a grid of `Image` components."
   ]
  },
  {
   "cell_type": "code",
   "execution_count": null,
   "id": "42497e20",
   "metadata": {
    "tags": [
     "remove-output"
    ]
   },
   "outputs": [],
   "source": [
    "# Make a grid with 4 columns\n",
    "grid = mk.gui.html.gridcols4([\n",
    "    # Use equal-sized square boxes in the grid\n",
    "    mk.gui.html.div(\n",
    "        # Wrap the image in a `mk.gui.Image` component\n",
    "        mk.gui.Image(data=img), \n",
    "        style=\"aspect-ratio: 1 / 1\",\n",
    "    )\n",
    "    for img in images\n",
    "], classes=\"gap-2\") # Add some spacing in the grid."
   ]
  },
  {
   "cell_type": "markdown",
   "id": "8a6398f9",
   "metadata": {},
   "source": [
    "Many components in Meerkat accept \n",
    "- a `classes` attribute that can be used to add Tailwind CSS classes to the component, and\n",
    "- a `style` attribute that can be used to add inline CSS styles to the component.\n",
    "\n",
    "Finally, let's use the `flexcol` component to stack the class selector and the grid of images vertically."
   ]
  },
  {
   "cell_type": "code",
   "execution_count": null,
   "id": "f6f6f60f",
   "metadata": {},
   "outputs": [],
   "source": [
    "layout = mk.gui.html.flexcol([\n",
    "    mk.gui.html.div(\n",
    "        [mk.gui.Caption(\"Choose a class:\"), class_selector], \n",
    "        classes=\"flex justify-center items-center mb-2 gap-4\"\n",
    "    ),\n",
    "    grid,\n",
    "])"
   ]
  },
  {
   "cell_type": "markdown",
   "id": "485bc3ba",
   "metadata": {},
   "source": [
    "We can pass everything into a `Page` component to render the app."
   ]
  },
  {
   "cell_type": "code",
   "execution_count": null,
   "id": "d9a502db",
   "metadata": {
    "tags": [
     "remove-output"
    ]
   },
   "outputs": [],
   "source": [
    "page = mk.gui.Page(component=layout, id=\"tutorial-2\")\n",
    "page.launch()"
   ]
  },
  {
   "cell_type": "markdown",
   "id": "1ccd92b4",
   "metadata": {},
   "source": [
    "That's it!"
   ]
  }
 ],
 "metadata": {
  "file_format": "mystnb",
  "kernelspec": {
   "display_name": "python3",
   "name": "python3"
  },
  "language_info": {
   "codemirror_mode": {
    "name": "ipython",
    "version": 3
   },
   "file_extension": ".py",
   "mimetype": "text/x-python",
   "name": "python",
   "nbconvert_exporter": "python",
   "pygments_lexer": "ipython3",
   "version": "3.8.16"
  },
  "source_map": [
   5,
   31,
   38,
   41,
   46,
   51,
   54,
   69,
   77,
   85,
   93,
   101,
   106,
   109,
   120,
   125,
   131,
   140,
   145,
   153,
   155,
   166,
   168,
   172,
   176,
   185,
   200,
   206,
   210,
   216,
   223,
   235,
   242,
   250,
   254,
   258
  ]
 },
 "nbformat": 4,
 "nbformat_minor": 5
}