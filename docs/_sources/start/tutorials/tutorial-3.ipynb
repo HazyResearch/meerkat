{
 "cells": [
  {
   "cell_type": "markdown",
   "id": "9762808c",
   "metadata": {},
   "source": [
    "# Tutorial 3: Query a Large Language Model\n",
    "\n",
    "In this tutorial, we will build a simple demo interface to ask a large language model (LLM) questions.\n",
    "\n",
    "Through this tutorial, you will learn about:\n",
    "- the concept of **endpoints**\n",
    "- how to pass **endpoints** to components to run on events\n",
    "- Using `Textbox` and `Button` components\n",
    "- Advanced: Using [`manifest`](https://github.com/hazyresearch/manifest), a server-client manager for running LLMs\n",
    "****\n",
    "````{admonition} Prerequisites\n",
    ":class: tip\n",
    "You will need to install `manifest` and set up your OPENAI API key:\n",
    "\n",
    "```bash\n",
    "# Install manifest\n",
    "pip install manifest-ml\n",
    "\n",
    "# Set up your OpenAI key.\n",
    "export OPENAI_API_KEY=\"your-api-key\"\n",
    "```\n",
    "````\n",
    "\n",
    "To get started, run the tutorial demo script\n",
    "\n",
    "```{code-block} bash\n",
    "mk demo tutorial-qa\n",
    "```\n",
    "\n",
    "You should see the tutorial app when you open the link in your browser. Let's break down the code in the demo script.\n",
    "\n",
    "## Overview\n",
    "In this interface, we want to ask the LLM for an answer to our question when we press a button.\n",
    "\n",
    "This requires having\n",
    "\n",
    "1. An LLM to return answers to our questions\n",
    "1. An input text field to ask our question\n",
    "1. A Python API that runs the LLM\n",
    "1. A button to call the Python API on click\n",
    "\n",
    "## (Aside) Setting up LLMs with Manifest\n",
    "[Manifest](https://github.com/hazyresearch/manifest) is a Python library that provides a convenient interface to call foundation model APIs, e.g. large language models from OpenAI, Cohere, Together, etc.\n",
    "\n",
    "Let's set up manifest to connect to OpenAI."
   ]
  },
  {
   "cell_type": "code",
   "execution_count": 1,
   "id": "07f1cf3b",
   "metadata": {
    "tags": [
     "remove-cell"
    ]
   },
   "outputs": [],
   "source": [
    "import meerkat as mk\n",
    "import rich"
   ]
  },
  {
   "cell_type": "markdown",
   "id": "12a5f07d",
   "metadata": {},
   "source": [
    "```python\n",
    "manifest = Manifest(\n",
    "  client_name=\"openai\",\n",
    "  client_connection=os.getenv(\"OPENAI_API_KEY\"),\n",
    "  engine=\"text-davinci-003\",\n",
    ")\n",
    "```\n",
    "Running a prompt through manifest will be easy:\n",
    "\n",
    "```python\n",
    "manifest.run(\"What is the meaning of life?\", max_tokens=100)\n",
    "```\n",
    "That's it! You can refer to the Manifest codebase to learn more about how to use it. Let's now move on to the rest of the application.\n",
    "\n",
    "## Adding an Input TextField Component\n",
    "\n",
    "Let's add a text field where a user can type out their questions.\n",
    "Meerkat provides a `Textbox` component that we can use."
   ]
  },
  {
   "cell_type": "code",
   "execution_count": 2,
   "id": "d8a9de53",
   "metadata": {},
   "outputs": [],
   "source": [
    "textbox = mk.gui.Textbox()"
   ]
  },
  {
   "cell_type": "markdown",
   "id": "bdd7f2a2",
   "metadata": {},
   "source": [
    "This component will do a few things:\n",
    "- create a text field on the frontend that the user can type into\n",
    "- synchronize the value of this text field with a `Store` object on the Python backend\n",
    "\n",
    "Here, `textbox.text` will be a `Store`, a Meerkat data object that is synchronized with the value of the text field on the frontend. This will be important when we want to pass the value of the text field to our LLM API."
   ]
  },
  {
   "cell_type": "code",
   "execution_count": 3,
   "id": "b5a50770",
   "metadata": {
    "tags": [
     "remove-input"
    ]
   },
   "outputs": [
    {
     "data": {
      "text/html": [
       "<pre style=\"white-space:pre;overflow-x:auto;line-height:normal;font-family:Menlo,'DejaVu Sans Mono',consolas,'Courier New',monospace\"><span style=\"color: #000080; text-decoration-color: #000080; font-weight: bold\">type(</span><span style=\"color: #000080; text-decoration-color: #000080\">textbox.text</span><span style=\"color: #000080; text-decoration-color: #000080; font-weight: bold\">)</span><span style=\"color: #000080; text-decoration-color: #000080\">:</span> \n",
       "        <span style=\"font-weight: bold\">&lt;</span><span style=\"color: #ff00ff; text-decoration-color: #ff00ff; font-weight: bold\">class</span><span style=\"color: #000000; text-decoration-color: #000000\"> </span><span style=\"color: #008000; text-decoration-color: #008000\">'meerkat.interactive.graph.store.Store'</span><span style=\"font-weight: bold\">&gt;</span>\n",
       "</pre>\n"
      ],
      "text/plain": [
       "\u001b[1;34mtype\u001b[0m\u001b[1;34m(\u001b[0m\u001b[34mtextbox.text\u001b[0m\u001b[1;34m)\u001b[0m\u001b[34m:\u001b[0m \n",
       "        \u001b[1m<\u001b[0m\u001b[1;95mclass\u001b[0m\u001b[39m \u001b[0m\u001b[32m'meerkat.interactive.graph.store.Store'\u001b[0m\u001b[1m>\u001b[0m\n"
      ]
     },
     "metadata": {},
     "output_type": "display_data"
    }
   ],
   "source": [
    "rich.print(\n",
    "  \"[blue]type(textbox.text):[/blue]\",\n",
    "  f\"\\n\\t{type(textbox.text)}\",\n",
    ")"
   ]
  },
  {
   "cell_type": "markdown",
   "id": "2cc02f9c",
   "metadata": {},
   "source": [
    "## Endpoints\n",
    "Now that we have our LLM and our input field, we want to write a Python function that will run the LLM on the input.\n",
    "\n",
    "This function has to be special in a few ways:\n",
    "1. It should be able to take in the value of the input field\n",
    "2. It should run when an event on the frontend happens, e.g. a button is clicked\n",
    "\n",
    "To do this, we can use the {py:class}`@mk.endpoint <meerkat.endpoint>` decorator. This decorator will convert a Python function into an `Endpoint` object, which is a special type of Python function that can be passed to components to run on events."
   ]
  },
  {
   "cell_type": "code",
   "execution_count": 4,
   "id": "861e45ee",
   "metadata": {
    "tags": [
     "remove-cell"
    ]
   },
   "outputs": [],
   "source": [
    "class DummyManifest:\n",
    "    def run(self, question):\n",
    "        return \"42\"\n",
    "\n",
    "manifest = DummyManifest()"
   ]
  },
  {
   "cell_type": "code",
   "execution_count": 5,
   "id": "34f52d15",
   "metadata": {},
   "outputs": [],
   "source": [
    "@mk.endpoint()\n",
    "def get_answer(question: str, answer: mk.Store):\n",
    "    response = manifest.run(question, max_tokens=100)\n",
    "    answer.set(response)\n",
    "    return answer"
   ]
  },
  {
   "cell_type": "markdown",
   "id": "ee7922fd",
   "metadata": {},
   "source": [
    "If you print this endpoint out, you'll see that it the decorator has converted the `get_answer` function into an {py:class}`Endpoint <meerkat.interactive.Endpoint>` object."
   ]
  },
  {
   "cell_type": "code",
   "execution_count": 6,
   "id": "b6364d6a",
   "metadata": {
    "tags": [
     "remove-input"
    ]
   },
   "outputs": [
    {
     "data": {
      "text/html": [
       "<pre style=\"white-space:pre;overflow-x:auto;line-height:normal;font-family:Menlo,'DejaVu Sans Mono',consolas,'Courier New',monospace\"><span style=\"color: #000080; text-decoration-color: #000080\">get_answer:</span> \n",
       "        <span style=\"color: #800080; text-decoration-color: #800080; font-weight: bold\">Endpoint</span><span style=\"font-weight: bold\">(</span><span style=\"color: #808000; text-decoration-color: #808000\">id</span>=<span style=\"color: #800080; text-decoration-color: #800080\">__mkid__4a1100c0e27d488aa85887e881a3de1d</span>, <span style=\"color: #808000; text-decoration-color: #808000\">name</span>=<span style=\"color: #800080; text-decoration-color: #800080\">get_answer</span>, <span style=\"color: #808000; text-decoration-color: #808000\">prefix</span>=<span style=\"color: #800080; text-decoration-color: #800080; font-style: italic\">None</span>, <span style=\"color: #808000; text-decoration-color: #808000\">route</span>=<span style=\"color: #800080; text-decoration-color: #800080; font-style: italic\">None</span><span style=\"font-weight: bold\">)</span>\n",
       "</pre>\n"
      ],
      "text/plain": [
       "\u001b[34mget_answer:\u001b[0m \n",
       "        \u001b[1;35mEndpoint\u001b[0m\u001b[1m(\u001b[0m\u001b[33mid\u001b[0m=\u001b[35m__mkid__4a1100c0e27d488aa85887e881a3de1d\u001b[0m, \u001b[33mname\u001b[0m=\u001b[35mget_answer\u001b[0m, \u001b[33mprefix\u001b[0m=\u001b[3;35mNone\u001b[0m, \u001b[33mroute\u001b[0m=\u001b[3;35mNone\u001b[0m\u001b[1m)\u001b[0m\n"
      ]
     },
     "metadata": {},
     "output_type": "display_data"
    }
   ],
   "source": [
    "rich.print(\n",
    "  \"[blue]get_answer:[/blue]\",\n",
    "  f\"\\n\\t{get_answer}\",\n",
    ")"
   ]
  },
  {
   "cell_type": "markdown",
   "id": "be957446",
   "metadata": {},
   "source": [
    "Notice that in addition to the `question`, we also pass in an `answer` argument. This allows us to update the `answer` store with the response from the LLM. When the store is updated, it will tell all frontend components that depend on this store to also update their values.\n",
    "\n",
    "## Running Endpoints with Component Events\n",
    "\n",
    "Now that we have our endpoint, we want to run it when a button is clicked.\n",
    "\n",
    "We can do this by passing the endpoint to the `on_click` argument of a `Button` component."
   ]
  },
  {
   "cell_type": "code",
   "execution_count": 7,
   "id": "c42bae2c",
   "metadata": {},
   "outputs": [],
   "source": [
    "# The store to keep track of the LLM answer.\n",
    "answer = mk.Store(\"\")\n",
    "\n",
    "button = mk.gui.Button(\n",
    "  title=\"Ask\",\n",
    "  on_click=get_answer.partial(question=textbox.text, answer=answer),\n",
    ")"
   ]
  },
  {
   "cell_type": "markdown",
   "id": "562fec6f",
   "metadata": {},
   "source": [
    "When the button is clicked, the `get_answer` endpoint will be called with the value of the `textbox.text` store as the `question` argument.\n",
    "\n",
    "We can simulate this button click by running the `on_click` endpoint directly. Since it's an `Endpoint` object, we can call it with the `.run()` method."
   ]
  },
  {
   "cell_type": "code",
   "execution_count": 8,
   "id": "9b928ea7",
   "metadata": {
    "tags": [
     "remove-output"
    ]
   },
   "outputs": [
    {
     "data": {
      "text/html": [
       "<pre style=\"white-space:pre;overflow-x:auto;line-height:normal;font-family:Menlo,'DejaVu Sans Mono',consolas,'Courier New',monospace\"><span style=\"color: #7fbfbf; text-decoration-color: #7fbfbf\">[02/26/23 20:24:47] </span><span style=\"color: #800000; text-decoration-color: #800000; font-weight: bold\">ERROR   </span> <span style=\"font-weight: bold\">[</span><span style=\"color: #800080; text-decoration-color: #800080; font-weight: bold\">wrapper</span><span style=\"font-weight: bold\">()]</span> <span style=\"font-weight: bold\">[</span>meerkat.interactive.endpoint: <span style=\"color: #008080; text-decoration-color: #008080; font-weight: bold\">677</span><span style=\"font-weight: bold\">]</span> :: <span style=\"color: #800080; text-decoration-color: #800080; font-weight: bold\">run</span><span style=\"font-weight: bold\">()</span> got an        <a href=\"file:///home/runner/work/meerkat/meerkat/meerkat/interactive/endpoint.py\" target=\"_blank\"><span style=\"color: #7f7f7f; text-decoration-color: #7f7f7f\">endpoint.py</span></a><span style=\"color: #7f7f7f; text-decoration-color: #7f7f7f\">:</span><a href=\"file:///home/runner/work/meerkat/meerkat/meerkat/interactive/endpoint.py#677\" target=\"_blank\"><span style=\"color: #7f7f7f; text-decoration-color: #7f7f7f\">677</span></a>\n",
       "<span style=\"color: #7fbfbf; text-decoration-color: #7fbfbf\">                    </span>         unexpected keyword argument <span style=\"color: #008000; text-decoration-color: #008000\">'max_tokens'</span>                               <span style=\"color: #7f7f7f; text-decoration-color: #7f7f7f\">               </span>\n",
       "<span style=\"color: #7fbfbf; text-decoration-color: #7fbfbf\">                    </span>         <span style=\"color: #800000; text-decoration-color: #800000\">╭──────────────── </span><span style=\"color: #800000; text-decoration-color: #800000; font-weight: bold\">Traceback </span><span style=\"color: #bf7f7f; text-decoration-color: #bf7f7f; font-weight: bold\">(most recent call last)</span><span style=\"color: #800000; text-decoration-color: #800000\"> ─────────────────╮</span> <span style=\"color: #7f7f7f; text-decoration-color: #7f7f7f\">               </span>\n",
       "<span style=\"color: #7fbfbf; text-decoration-color: #7fbfbf\">                    </span>         <span style=\"color: #800000; text-decoration-color: #800000\">│</span> <span style=\"color: #bfbf7f; text-decoration-color: #bfbf7f\">/home/runner/work/meerkat/meerkat/meerkat/interactive/</span><span style=\"color: #808000; text-decoration-color: #808000; font-weight: bold\">endpoint.py</span>: <span style=\"color: #800000; text-decoration-color: #800000\">│</span> <span style=\"color: #7f7f7f; text-decoration-color: #7f7f7f\">               </span>\n",
       "<span style=\"color: #7fbfbf; text-decoration-color: #7fbfbf\">                    </span>         <span style=\"color: #800000; text-decoration-color: #800000\">│</span> <span style=\"color: #0000ff; text-decoration-color: #0000ff\">652</span> in <span style=\"color: #00ff00; text-decoration-color: #00ff00\">wrapper</span>                                                     <span style=\"color: #800000; text-decoration-color: #800000\">│</span> <span style=\"color: #7f7f7f; text-decoration-color: #7f7f7f\">               </span>\n",
       "<span style=\"color: #7fbfbf; text-decoration-color: #7fbfbf\">                    </span>         <span style=\"color: #800000; text-decoration-color: #800000\">│</span>                                                                    <span style=\"color: #800000; text-decoration-color: #800000\">│</span> <span style=\"color: #7f7f7f; text-decoration-color: #7f7f7f\">               </span>\n",
       "<span style=\"color: #7fbfbf; text-decoration-color: #7fbfbf\">                    </span>         <span style=\"color: #800000; text-decoration-color: #800000\">│</span>   <span style=\"color: #7f7f7f; text-decoration-color: #7f7f7f\">649 │   │   │   </span><span style=\"color: #0000ff; text-decoration-color: #0000ff\">try</span>:                                             <span style=\"color: #800000; text-decoration-color: #800000\">│</span> <span style=\"color: #7f7f7f; text-decoration-color: #7f7f7f\">               </span>\n",
       "<span style=\"color: #7fbfbf; text-decoration-color: #7fbfbf\">                    </span>         <span style=\"color: #800000; text-decoration-color: #800000\">│</span>   <span style=\"color: #7f7f7f; text-decoration-color: #7f7f7f\">650 │   │   │   │   </span><span style=\"color: #0000ff; text-decoration-color: #0000ff\">with</span> unmarked():                             <span style=\"color: #800000; text-decoration-color: #800000\">│</span> <span style=\"color: #7f7f7f; text-decoration-color: #7f7f7f\">               </span>\n",
       "<span style=\"color: #7fbfbf; text-decoration-color: #7fbfbf\">                    </span>         <span style=\"color: #800000; text-decoration-color: #800000\">│</span>   <span style=\"color: #7f7f7f; text-decoration-color: #7f7f7f\">651 │   │   │   │   │   # Run the function</span>                       <span style=\"color: #800000; text-decoration-color: #800000\">│</span> <span style=\"color: #7f7f7f; text-decoration-color: #7f7f7f\">               </span>\n",
       "<span style=\"color: #7fbfbf; text-decoration-color: #7fbfbf\">                    </span>         <span style=\"color: #800000; text-decoration-color: #800000\">│</span> <span style=\"color: #800000; text-decoration-color: #800000\">❱ </span>652 <span style=\"color: #7f7f7f; text-decoration-color: #7f7f7f\">│   │   │   │   │   </span>result = fn(*_args, **_kwargs)           <span style=\"color: #800000; text-decoration-color: #800000\">│</span> <span style=\"color: #7f7f7f; text-decoration-color: #7f7f7f\">               </span>\n",
       "<span style=\"color: #7fbfbf; text-decoration-color: #7fbfbf\">                    </span>         <span style=\"color: #800000; text-decoration-color: #800000\">│</span>   <span style=\"color: #7f7f7f; text-decoration-color: #7f7f7f\">653 │   │   │   </span><span style=\"color: #0000ff; text-decoration-color: #0000ff\">except</span> <span style=\"color: #00ffff; text-decoration-color: #00ffff\">Exception</span> <span style=\"color: #0000ff; text-decoration-color: #0000ff\">as</span> e:                           <span style=\"color: #800000; text-decoration-color: #800000\">│</span> <span style=\"color: #7f7f7f; text-decoration-color: #7f7f7f\">               </span>\n",
       "<span style=\"color: #7fbfbf; text-decoration-color: #7fbfbf\">                    </span>         <span style=\"color: #800000; text-decoration-color: #800000\">│</span>   <span style=\"color: #7f7f7f; text-decoration-color: #7f7f7f\">654 │   │   │   │   # If the function raises an exception, log i</span> <span style=\"color: #800000; text-decoration-color: #800000\">│</span> <span style=\"color: #7f7f7f; text-decoration-color: #7f7f7f\">               </span>\n",
       "<span style=\"color: #7fbfbf; text-decoration-color: #7fbfbf\">                    </span>         <span style=\"color: #800000; text-decoration-color: #800000\">│</span>   <span style=\"color: #7f7f7f; text-decoration-color: #7f7f7f\">655 │   │   │   │   # the exception</span>                              <span style=\"color: #800000; text-decoration-color: #800000\">│</span> <span style=\"color: #7f7f7f; text-decoration-color: #7f7f7f\">               </span>\n",
       "<span style=\"color: #7fbfbf; text-decoration-color: #7fbfbf\">                    </span>         <span style=\"color: #800000; text-decoration-color: #800000\">│</span>                                                                    <span style=\"color: #800000; text-decoration-color: #800000\">│</span> <span style=\"color: #7f7f7f; text-decoration-color: #7f7f7f\">               </span>\n",
       "<span style=\"color: #7fbfbf; text-decoration-color: #7fbfbf\">                    </span>         <span style=\"color: #800000; text-decoration-color: #800000\">│</span> in <span style=\"color: #00ff00; text-decoration-color: #00ff00\">get_answer</span>                                                      <span style=\"color: #800000; text-decoration-color: #800000\">│</span> <span style=\"color: #7f7f7f; text-decoration-color: #7f7f7f\">               </span>\n",
       "<span style=\"color: #7fbfbf; text-decoration-color: #7fbfbf\">                    </span>         <span style=\"color: #800000; text-decoration-color: #800000\">│</span>                                                                    <span style=\"color: #800000; text-decoration-color: #800000\">│</span> <span style=\"color: #7f7f7f; text-decoration-color: #7f7f7f\">               </span>\n",
       "<span style=\"color: #7fbfbf; text-decoration-color: #7fbfbf\">                    </span>         <span style=\"color: #800000; text-decoration-color: #800000\">│</span>   <span style=\"color: #7f7f7f; text-decoration-color: #7f7f7f\">1 </span><span style=\"color: #ff00ff; text-decoration-color: #ff00ff; font-weight: bold\">@mk</span>.endpoint()                                                 <span style=\"color: #800000; text-decoration-color: #800000\">│</span> <span style=\"color: #7f7f7f; text-decoration-color: #7f7f7f\">               </span>\n",
       "<span style=\"color: #7fbfbf; text-decoration-color: #7fbfbf\">                    </span>         <span style=\"color: #800000; text-decoration-color: #800000\">│</span>   <span style=\"color: #7f7f7f; text-decoration-color: #7f7f7f\">2 </span><span style=\"color: #0000ff; text-decoration-color: #0000ff\">def</span> <span style=\"color: #00ff00; text-decoration-color: #00ff00\">get_answer</span>(question: <span style=\"color: #00ffff; text-decoration-color: #00ffff\">str</span>, answer: mk.Store):               <span style=\"color: #800000; text-decoration-color: #800000\">│</span> <span style=\"color: #7f7f7f; text-decoration-color: #7f7f7f\">               </span>\n",
       "<span style=\"color: #7fbfbf; text-decoration-color: #7fbfbf\">                    </span>         <span style=\"color: #800000; text-decoration-color: #800000\">│</span> <span style=\"color: #800000; text-decoration-color: #800000\">❱ </span>3 <span style=\"color: #7f7f7f; text-decoration-color: #7f7f7f\">│   </span>response = manifest.run(question, max_tokens=<span style=\"color: #0000ff; text-decoration-color: #0000ff\">100</span>)          <span style=\"color: #800000; text-decoration-color: #800000\">│</span> <span style=\"color: #7f7f7f; text-decoration-color: #7f7f7f\">               </span>\n",
       "<span style=\"color: #7fbfbf; text-decoration-color: #7fbfbf\">                    </span>         <span style=\"color: #800000; text-decoration-color: #800000\">│</span>   <span style=\"color: #7f7f7f; text-decoration-color: #7f7f7f\">4 │   </span>answer.set(response)                                       <span style=\"color: #800000; text-decoration-color: #800000\">│</span> <span style=\"color: #7f7f7f; text-decoration-color: #7f7f7f\">               </span>\n",
       "<span style=\"color: #7fbfbf; text-decoration-color: #7fbfbf\">                    </span>         <span style=\"color: #800000; text-decoration-color: #800000\">│</span>   <span style=\"color: #7f7f7f; text-decoration-color: #7f7f7f\">5 │   </span><span style=\"color: #0000ff; text-decoration-color: #0000ff\">return</span> answer                                              <span style=\"color: #800000; text-decoration-color: #800000\">│</span> <span style=\"color: #7f7f7f; text-decoration-color: #7f7f7f\">               </span>\n",
       "<span style=\"color: #7fbfbf; text-decoration-color: #7fbfbf\">                    </span>         <span style=\"color: #800000; text-decoration-color: #800000\">│</span>   <span style=\"color: #7f7f7f; text-decoration-color: #7f7f7f\">6 </span>                                                               <span style=\"color: #800000; text-decoration-color: #800000\">│</span> <span style=\"color: #7f7f7f; text-decoration-color: #7f7f7f\">               </span>\n",
       "<span style=\"color: #7fbfbf; text-decoration-color: #7fbfbf\">                    </span>         <span style=\"color: #800000; text-decoration-color: #800000\">╰────────────────────────────────────────────────────────────────────╯</span> <span style=\"color: #7f7f7f; text-decoration-color: #7f7f7f\">               </span>\n",
       "<span style=\"color: #7fbfbf; text-decoration-color: #7fbfbf\">                    </span>         <span style=\"color: #ff0000; text-decoration-color: #ff0000; font-weight: bold\">TypeError: </span><span style=\"color: #800080; text-decoration-color: #800080; font-weight: bold\">run</span><span style=\"font-weight: bold\">()</span> got an unexpected keyword argument <span style=\"color: #008000; text-decoration-color: #008000\">'max_tokens'</span>       <span style=\"color: #7f7f7f; text-decoration-color: #7f7f7f\">               </span>\n",
       "</pre>\n"
      ],
      "text/plain": [
       "\u001b[2;36m[02/26/23 20:24:47]\u001b[0m\u001b[2;36m \u001b[0m\u001b[1;31mERROR   \u001b[0m \u001b[1m[\u001b[0m\u001b[1;35mwrapper\u001b[0m\u001b[1m(\u001b[0m\u001b[1m)\u001b[0m\u001b[1m]\u001b[0m \u001b[1m[\u001b[0mmeerkat.interactive.endpoint: \u001b[1;36m677\u001b[0m\u001b[1m]\u001b[0m :: \u001b[1;35mrun\u001b[0m\u001b[1m(\u001b[0m\u001b[1m)\u001b[0m got an        \u001b]8;id=383283;file:///home/runner/work/meerkat/meerkat/meerkat/interactive/endpoint.py\u001b\\\u001b[2mendpoint.py\u001b[0m\u001b]8;;\u001b\\\u001b[2m:\u001b[0m\u001b]8;id=336269;file:///home/runner/work/meerkat/meerkat/meerkat/interactive/endpoint.py#677\u001b\\\u001b[2m677\u001b[0m\u001b]8;;\u001b\\\n",
       "\u001b[2;36m                    \u001b[0m         unexpected keyword argument \u001b[32m'max_tokens'\u001b[0m                               \u001b[2m               \u001b[0m\n",
       "\u001b[2;36m                    \u001b[0m         \u001b[31m╭─\u001b[0m\u001b[31m───────────────\u001b[0m\u001b[31m \u001b[0m\u001b[1;31mTraceback \u001b[0m\u001b[1;2;31m(most recent call last)\u001b[0m\u001b[31m \u001b[0m\u001b[31m────────────────\u001b[0m\u001b[31m─╮\u001b[0m \u001b[2m               \u001b[0m\n",
       "\u001b[2;36m                    \u001b[0m         \u001b[31m│\u001b[0m \u001b[2;33m/home/runner/work/meerkat/meerkat/meerkat/interactive/\u001b[0m\u001b[1;33mendpoint.py\u001b[0m: \u001b[31m│\u001b[0m \u001b[2m               \u001b[0m\n",
       "\u001b[2;36m                    \u001b[0m         \u001b[31m│\u001b[0m \u001b[94m652\u001b[0m in \u001b[92mwrapper\u001b[0m                                                     \u001b[31m│\u001b[0m \u001b[2m               \u001b[0m\n",
       "\u001b[2;36m                    \u001b[0m         \u001b[31m│\u001b[0m                                                                    \u001b[31m│\u001b[0m \u001b[2m               \u001b[0m\n",
       "\u001b[2;36m                    \u001b[0m         \u001b[31m│\u001b[0m   \u001b[2m649 \u001b[0m\u001b[2m│   │   │   \u001b[0m\u001b[94mtry\u001b[0m:                                             \u001b[31m│\u001b[0m \u001b[2m               \u001b[0m\n",
       "\u001b[2;36m                    \u001b[0m         \u001b[31m│\u001b[0m   \u001b[2m650 \u001b[0m\u001b[2m│   │   │   │   \u001b[0m\u001b[94mwith\u001b[0m unmarked():                             \u001b[31m│\u001b[0m \u001b[2m               \u001b[0m\n",
       "\u001b[2;36m                    \u001b[0m         \u001b[31m│\u001b[0m   \u001b[2m651 \u001b[0m\u001b[2m│   │   │   │   │   \u001b[0m\u001b[2m# Run the function\u001b[0m                       \u001b[31m│\u001b[0m \u001b[2m               \u001b[0m\n",
       "\u001b[2;36m                    \u001b[0m         \u001b[31m│\u001b[0m \u001b[31m❱ \u001b[0m652 \u001b[2m│   │   │   │   │   \u001b[0mresult = fn(*_args, **_kwargs)           \u001b[31m│\u001b[0m \u001b[2m               \u001b[0m\n",
       "\u001b[2;36m                    \u001b[0m         \u001b[31m│\u001b[0m   \u001b[2m653 \u001b[0m\u001b[2m│   │   │   \u001b[0m\u001b[94mexcept\u001b[0m \u001b[96mException\u001b[0m \u001b[94mas\u001b[0m e:                           \u001b[31m│\u001b[0m \u001b[2m               \u001b[0m\n",
       "\u001b[2;36m                    \u001b[0m         \u001b[31m│\u001b[0m   \u001b[2m654 \u001b[0m\u001b[2m│   │   │   │   \u001b[0m\u001b[2m# If the function raises an exception, log i\u001b[0m \u001b[31m│\u001b[0m \u001b[2m               \u001b[0m\n",
       "\u001b[2;36m                    \u001b[0m         \u001b[31m│\u001b[0m   \u001b[2m655 \u001b[0m\u001b[2m│   │   │   │   \u001b[0m\u001b[2m# the exception\u001b[0m                              \u001b[31m│\u001b[0m \u001b[2m               \u001b[0m\n",
       "\u001b[2;36m                    \u001b[0m         \u001b[31m│\u001b[0m                                                                    \u001b[31m│\u001b[0m \u001b[2m               \u001b[0m\n",
       "\u001b[2;36m                    \u001b[0m         \u001b[31m│\u001b[0m in \u001b[92mget_answer\u001b[0m                                                      \u001b[31m│\u001b[0m \u001b[2m               \u001b[0m\n",
       "\u001b[2;36m                    \u001b[0m         \u001b[31m│\u001b[0m                                                                    \u001b[31m│\u001b[0m \u001b[2m               \u001b[0m\n",
       "\u001b[2;36m                    \u001b[0m         \u001b[31m│\u001b[0m   \u001b[2m1 \u001b[0m\u001b[1;95m@mk\u001b[0m.endpoint()                                                 \u001b[31m│\u001b[0m \u001b[2m               \u001b[0m\n",
       "\u001b[2;36m                    \u001b[0m         \u001b[31m│\u001b[0m   \u001b[2m2 \u001b[0m\u001b[94mdef\u001b[0m \u001b[92mget_answer\u001b[0m(question: \u001b[96mstr\u001b[0m, answer: mk.Store):               \u001b[31m│\u001b[0m \u001b[2m               \u001b[0m\n",
       "\u001b[2;36m                    \u001b[0m         \u001b[31m│\u001b[0m \u001b[31m❱ \u001b[0m3 \u001b[2m│   \u001b[0mresponse = manifest.run(question, max_tokens=\u001b[94m100\u001b[0m)          \u001b[31m│\u001b[0m \u001b[2m               \u001b[0m\n",
       "\u001b[2;36m                    \u001b[0m         \u001b[31m│\u001b[0m   \u001b[2m4 \u001b[0m\u001b[2m│   \u001b[0manswer.set(response)                                       \u001b[31m│\u001b[0m \u001b[2m               \u001b[0m\n",
       "\u001b[2;36m                    \u001b[0m         \u001b[31m│\u001b[0m   \u001b[2m5 \u001b[0m\u001b[2m│   \u001b[0m\u001b[94mreturn\u001b[0m answer                                              \u001b[31m│\u001b[0m \u001b[2m               \u001b[0m\n",
       "\u001b[2;36m                    \u001b[0m         \u001b[31m│\u001b[0m   \u001b[2m6 \u001b[0m                                                               \u001b[31m│\u001b[0m \u001b[2m               \u001b[0m\n",
       "\u001b[2;36m                    \u001b[0m         \u001b[31m╰────────────────────────────────────────────────────────────────────╯\u001b[0m \u001b[2m               \u001b[0m\n",
       "\u001b[2;36m                    \u001b[0m         \u001b[1;91mTypeError: \u001b[0m\u001b[1;35mrun\u001b[0m\u001b[1m(\u001b[0m\u001b[1m)\u001b[0m got an unexpected keyword argument \u001b[32m'max_tokens'\u001b[0m       \u001b[2m               \u001b[0m\n"
      ]
     },
     "metadata": {},
     "output_type": "display_data"
    },
    {
     "ename": "TypeError",
     "evalue": "run() got an unexpected keyword argument 'max_tokens'",
     "output_type": "error",
     "traceback": [
      "\u001b[0;31m---------------------------------------------------------------------------\u001b[0m",
      "\u001b[0;31mTypeError\u001b[0m                                 Traceback (most recent call last)",
      "Cell \u001b[0;32mIn[8], line 1\u001b[0m\n\u001b[0;32m----> 1\u001b[0m \u001b[43mbutton\u001b[49m\u001b[38;5;241;43m.\u001b[39;49m\u001b[43mon_click\u001b[49m\u001b[38;5;241;43m.\u001b[39;49m\u001b[43mrun\u001b[49m\u001b[43m(\u001b[49m\u001b[43m)\u001b[49m\n",
      "File \u001b[0;32m~/work/meerkat/meerkat/meerkat/interactive/endpoint.py:261\u001b[0m, in \u001b[0;36mEndpoint.run\u001b[0;34m(self, *args, **kwargs)\u001b[0m\n\u001b[1;32m    258\u001b[0m \u001b[38;5;28;01mexcept\u001b[39;00m \u001b[38;5;167;01mException\u001b[39;00m \u001b[38;5;28;01mas\u001b[39;00m e:\n\u001b[1;32m    259\u001b[0m     \u001b[38;5;66;03m# Unready the modification queue\u001b[39;00m\n\u001b[1;32m    260\u001b[0m     state\u001b[38;5;241m.\u001b[39mmodification_queue\u001b[38;5;241m.\u001b[39munready()\n\u001b[0;32m--> 261\u001b[0m     \u001b[38;5;28;01mraise\u001b[39;00m e\n\u001b[1;32m    263\u001b[0m \u001b[38;5;28;01mwith\u001b[39;00m unmarked():\n\u001b[1;32m    264\u001b[0m     modifications \u001b[38;5;241m=\u001b[39m trigger()\n",
      "File \u001b[0;32m~/work/meerkat/meerkat/meerkat/interactive/endpoint.py:257\u001b[0m, in \u001b[0;36mEndpoint.run\u001b[0;34m(self, *args, **kwargs)\u001b[0m\n\u001b[1;32m    254\u001b[0m \u001b[38;5;28;01mtry\u001b[39;00m:\n\u001b[1;32m    255\u001b[0m     \u001b[38;5;66;03m# The function should not add any operations to the graph.\u001b[39;00m\n\u001b[1;32m    256\u001b[0m     \u001b[38;5;28;01mwith\u001b[39;00m unmarked():\n\u001b[0;32m--> 257\u001b[0m         result \u001b[38;5;241m=\u001b[39m \u001b[43mpartial_fn\u001b[49m\u001b[43m(\u001b[49m\u001b[43m)\u001b[49m\n\u001b[1;32m    258\u001b[0m \u001b[38;5;28;01mexcept\u001b[39;00m \u001b[38;5;167;01mException\u001b[39;00m \u001b[38;5;28;01mas\u001b[39;00m e:\n\u001b[1;32m    259\u001b[0m     \u001b[38;5;66;03m# Unready the modification queue\u001b[39;00m\n\u001b[1;32m    260\u001b[0m     state\u001b[38;5;241m.\u001b[39mmodification_queue\u001b[38;5;241m.\u001b[39munready()\n",
      "File \u001b[0;32m~/work/meerkat/meerkat/meerkat/interactive/endpoint.py:678\u001b[0m, in \u001b[0;36mendpoint.<locals>._endpoint.<locals>.wrapper\u001b[0;34m(*args, **kwargs)\u001b[0m\n\u001b[1;32m    663\u001b[0m         e \u001b[38;5;241m=\u001b[39m \u001b[38;5;167;01mAttributeError\u001b[39;00m(\n\u001b[1;32m    664\u001b[0m             \u001b[38;5;124mf\u001b[39m\u001b[38;5;124m\"\u001b[39m\u001b[38;5;124mException raised in endpoint `\u001b[39m\u001b[38;5;132;01m{\u001b[39;00mfn\u001b[38;5;241m.\u001b[39m\u001b[38;5;18m__name__\u001b[39m\u001b[38;5;132;01m}\u001b[39;00m\u001b[38;5;124m`. \u001b[39m\u001b[38;5;124m\"\u001b[39m\n\u001b[1;32m    665\u001b[0m             \u001b[38;5;124mf\u001b[39m\u001b[38;5;124m\"\u001b[39m\u001b[38;5;124mThe object of type `\u001b[39m\u001b[38;5;132;01m{\u001b[39;00mobj_name\u001b[38;5;132;01m}\u001b[39;00m\u001b[38;5;124m` that you called to \u001b[39m\u001b[38;5;124m\"\u001b[39m\n\u001b[0;32m   (...)\u001b[0m\n\u001b[1;32m    674\u001b[0m             \u001b[38;5;124m\"\u001b[39m\u001b[38;5;124mif it is a `Store`.\u001b[39m\u001b[38;5;124m\"\u001b[39m\n\u001b[1;32m    675\u001b[0m         )\n\u001b[1;32m    677\u001b[0m     logger\u001b[38;5;241m.\u001b[39mexception(e)\n\u001b[0;32m--> 678\u001b[0m     \u001b[38;5;28;01mraise\u001b[39;00m e\n\u001b[1;32m    680\u001b[0m \u001b[38;5;66;03m# Return the result of the function\u001b[39;00m\n\u001b[1;32m    681\u001b[0m \u001b[38;5;28;01mreturn\u001b[39;00m result\n",
      "File \u001b[0;32m~/work/meerkat/meerkat/meerkat/interactive/endpoint.py:652\u001b[0m, in \u001b[0;36mendpoint.<locals>._endpoint.<locals>.wrapper\u001b[0;34m(*args, **kwargs)\u001b[0m\n\u001b[1;32m    649\u001b[0m \u001b[38;5;28;01mtry\u001b[39;00m:\n\u001b[1;32m    650\u001b[0m     \u001b[38;5;28;01mwith\u001b[39;00m unmarked():\n\u001b[1;32m    651\u001b[0m         \u001b[38;5;66;03m# Run the function\u001b[39;00m\n\u001b[0;32m--> 652\u001b[0m         result \u001b[38;5;241m=\u001b[39m \u001b[43mfn\u001b[49m\u001b[43m(\u001b[49m\u001b[38;5;241;43m*\u001b[39;49m\u001b[43m_args\u001b[49m\u001b[43m,\u001b[49m\u001b[43m \u001b[49m\u001b[38;5;241;43m*\u001b[39;49m\u001b[38;5;241;43m*\u001b[39;49m\u001b[43m_kwargs\u001b[49m\u001b[43m)\u001b[49m\n\u001b[1;32m    653\u001b[0m \u001b[38;5;28;01mexcept\u001b[39;00m \u001b[38;5;167;01mException\u001b[39;00m \u001b[38;5;28;01mas\u001b[39;00m e:\n\u001b[1;32m    654\u001b[0m     \u001b[38;5;66;03m# If the function raises an exception, log it and return\u001b[39;00m\n\u001b[1;32m    655\u001b[0m     \u001b[38;5;66;03m# the exception\u001b[39;00m\n\u001b[1;32m    656\u001b[0m     \u001b[38;5;66;03m# In case the exception is about .set() being missing, add\u001b[39;00m\n\u001b[1;32m    657\u001b[0m     \u001b[38;5;66;03m# a more helpful error message\u001b[39;00m\n\u001b[1;32m    658\u001b[0m     \u001b[38;5;28;01mif\u001b[39;00m \u001b[38;5;124m\"\u001b[39m\u001b[38;5;124mno attribute \u001b[39m\u001b[38;5;124m'\u001b[39m\u001b[38;5;124mset\u001b[39m\u001b[38;5;124m'\u001b[39m\u001b[38;5;124m\"\u001b[39m \u001b[38;5;129;01min\u001b[39;00m \u001b[38;5;28mstr\u001b[39m(e):\n\u001b[1;32m    659\u001b[0m         \u001b[38;5;66;03m# Get the name of the object that was passed in\u001b[39;00m\n\u001b[1;32m    660\u001b[0m         \u001b[38;5;66;03m# as a Store, but did not have a .set() method\u001b[39;00m\n",
      "Cell \u001b[0;32mIn[5], line 3\u001b[0m, in \u001b[0;36mget_answer\u001b[0;34m(question, answer)\u001b[0m\n\u001b[1;32m      1\u001b[0m \u001b[38;5;129m@mk\u001b[39m\u001b[38;5;241m.\u001b[39mendpoint()\n\u001b[1;32m      2\u001b[0m \u001b[38;5;28;01mdef\u001b[39;00m \u001b[38;5;21mget_answer\u001b[39m(question: \u001b[38;5;28mstr\u001b[39m, answer: mk\u001b[38;5;241m.\u001b[39mStore):\n\u001b[0;32m----> 3\u001b[0m     response \u001b[38;5;241m=\u001b[39m \u001b[43mmanifest\u001b[49m\u001b[38;5;241;43m.\u001b[39;49m\u001b[43mrun\u001b[49m\u001b[43m(\u001b[49m\u001b[43mquestion\u001b[49m\u001b[43m,\u001b[49m\u001b[43m \u001b[49m\u001b[43mmax_tokens\u001b[49m\u001b[38;5;241;43m=\u001b[39;49m\u001b[38;5;241;43m100\u001b[39;49m\u001b[43m)\u001b[49m\n\u001b[1;32m      4\u001b[0m     answer\u001b[38;5;241m.\u001b[39mset(response)\n\u001b[1;32m      5\u001b[0m     \u001b[38;5;28;01mreturn\u001b[39;00m answer\n",
      "\u001b[0;31mTypeError\u001b[0m: run() got an unexpected keyword argument 'max_tokens'"
     ]
    }
   ],
   "source": [
    "button.on_click.run()"
   ]
  },
  {
   "cell_type": "code",
   "execution_count": null,
   "id": "0aa0f586",
   "metadata": {
    "tags": [
     "remove-input"
    ]
   },
   "outputs": [],
   "source": [
    "rich.print(button.on_click.run())"
   ]
  },
  {
   "cell_type": "markdown",
   "id": "ed61e693",
   "metadata": {},
   "source": [
    "Different components expose different events that can be tied to endpoints. All endpoints start with `on_` and are followed by the name of the event. For example, the `on_click` event is tied to the `click` event of a `Button` component.\n",
    "\n",
    "## Putting it all together\n",
    "Now we display these different components on the frontend."
   ]
  },
  {
   "cell_type": "code",
   "execution_count": null,
   "id": "f76fb640",
   "metadata": {},
   "outputs": [],
   "source": [
    "page = mk.gui.Page(\n",
    "    component=mk.gui.html.flexcol([textbox, button, mk.gui.Text(answer)]),\n",
    "    id=\"tutorial-query-llm\",\n",
    ")"
   ]
  },
  {
   "cell_type": "markdown",
   "id": "df8387bc",
   "metadata": {},
   "source": [
    "When you run the app, you should see the following interface:\n",
    "\n",
    "```python\n",
    "page.launch()\n",
    "```"
   ]
  }
 ],
 "metadata": {
  "file_format": "mystnb",
  "kernelspec": {
   "display_name": "python3",
   "name": "python3"
  },
  "language_info": {
   "codemirror_mode": {
    "name": "ipython",
    "version": 3
   },
   "file_extension": ".py",
   "mimetype": "text/x-python",
   "name": "python",
   "nbconvert_exporter": "python",
   "pygments_lexer": "ipython3",
   "version": "3.8.16"
  },
  "source_map": [
   5,
   54,
   58,
   79,
   81,
   89,
   95,
   107,
   117,
   123,
   127,
   133,
   143,
   151,
   157,
   161,
   164,
   171,
   176
  ]
 },
 "nbformat": 4,
 "nbformat_minor": 5
}