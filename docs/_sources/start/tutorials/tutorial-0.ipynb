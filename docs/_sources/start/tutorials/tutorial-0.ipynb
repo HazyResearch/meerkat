{
 "cells": [
  {
   "cell_type": "markdown",
   "id": "c901ed7f",
   "metadata": {},
   "source": [
    "# Tutorial 0: Data Frames (Wrangling an Image Dataset)\n",
    "\n",
    "In this tutorial, we'll learn how to use Meerkat to explore a dataset of images. We'll use the `imagenette` dataset, a small 10-class subset of ImageNet.\n",
    "\n",
    "Through this tutorial, you will learn about:\n",
    "- the concept of **data frames** in Meerkat\n",
    "- the different types of data that you can store in a Meerkat data frame\n",
    "- how to use **data frames** to explore unstructured data\n",
    "\n",
    "The content of this tutorial is provided in the `tutorial-0.ipynb` Jupyter notebook.\n",
    "\n",
    "## 🔮 Importing Meerkat\n",
    "Let's start by importing Meerkat.\n",
    "\n",
    "```{margin}\n",
    "The first time you import Meerkat after installation may take upto a minute, due to dependencies like `pandas`, `numpy`, and `torch`.\n",
    "```"
   ]
  },
  {
   "cell_type": "code",
   "execution_count": 1,
   "id": "3c09faa0",
   "metadata": {},
   "outputs": [],
   "source": [
    "import os\n",
    "import meerkat as mk\n",
    "import numpy as np"
   ]
  },
  {
   "cell_type": "markdown",
   "id": "9ba8e203",
   "metadata": {},
   "source": [
    "## 💾 Downloading the data\n",
    "First, we'll download some data to explore. We're going to use the [Imagenette dataset](https://github.com/fastai/imagenette#image%E7%BD%91), a small subset of the original [ImageNet](https://www.image-net.org/update-mar-11-2021.php). \n",
    "This dataset is made up of 10 classes (e.g. \"garbage truck\", \"gas pump\", \"golf ball\").\n",
    "- Download time: <1 minute\n",
    "- Download size: 130M\n",
    "\n",
    "In addition to downloading the data, `download_imagnette` prepares a CSV, `imagenette.csv`, with a row for each image. \n",
    "\n",
    "````{margin}\n",
    "Meerkat lets you load in any dataset from [Huggingface Datasets](https://huggingface.co/docs/datasets/index).\n",
    "```python\n",
    "mk.get(\"dataset_name\", registry=\"huggingface\")\n",
    "```\n",
    "````"
   ]
  },
  {
   "cell_type": "code",
   "execution_count": 2,
   "id": "db425d59",
   "metadata": {},
   "outputs": [
    {
     "data": {
      "application/vnd.jupyter.widget-view+json": {
       "model_id": "a8d0b174fbfa438c9cc65f73c41cf294",
       "version_major": 2,
       "version_minor": 0
      },
      "text/plain": [
       "Downloading:   0%|          | 0.00/99.0M [00:00<?, ?B/s]"
      ]
     },
     "metadata": {},
     "output_type": "display_data"
    },
    {
     "name": "stdout",
     "output_type": "stream",
     "text": [
      "Extracting tar archive, this may take a few minutes...\n"
     ]
    }
   ],
   "source": [
    "from meerkat.datasets.imagenette import download_imagenette\n",
    "\n",
    "dataset_dir = \"./downloads\"\n",
    "os.makedirs(dataset_dir, exist_ok=True)\n",
    "download_imagenette(dataset_dir, overwrite=True);"
   ]
  },
  {
   "cell_type": "markdown",
   "id": "a7d1808e",
   "metadata": {},
   "source": [
    "Let's take a look at the CSV."
   ]
  },
  {
   "cell_type": "code",
   "execution_count": 3,
   "id": "df24a938",
   "metadata": {
    "tags": [
     "output_scroll"
    ]
   },
   "outputs": [
    {
     "name": "stdout",
     "output_type": "stream",
     "text": [
      "label,split,img_path\r\n",
      "cassette player,train,train/n02979186/n02979186_9036.JPEG\r\n",
      "cassette player,train,train/n02979186/n02979186_11957.JPEG\r\n",
      "cassette player,train,train/n02979186/n02979186_9715.JPEG\r\n",
      "cassette player,train,train/n02979186/n02979186_21736.JPEG\r\n"
     ]
    }
   ],
   "source": [
    "!head -n 5 downloads/imagenette2-160/imagenette.csv"
   ]
  },
  {
   "cell_type": "markdown",
   "id": "3d4c9709",
   "metadata": {},
   "source": [
    "Next, we'll load it into a Meerkat `DataFrame`.\n",
    "\n",
    "## 📸 Creating an image `DataFrame`\n",
    "*For more information on creating DataFrames from various data sources, see the user guide section on {ref}`guide/dataframe/io`.*\n",
    "\n",
    "Meerkat's core contribution is the DataFrame, a simple columnar data abstraction. The Meerkat DataFrame can house columns of arbitrary type – from integers and strings to complex, high-dimensional objects like videos, images, medical volumes and graphs.\n",
    "\n",
    "We're going to build a `DataFrame` out of the `imagenette.csv` file from the download above."
   ]
  },
  {
   "cell_type": "code",
   "execution_count": 4,
   "id": "e054f41e",
   "metadata": {
    "tags": [
     "output_scroll"
    ]
   },
   "outputs": [
    {
     "data": {
      "text/html": [
       "<pre style=\"white-space:pre;overflow-x:auto;line-height:normal;font-family:Menlo,'DejaVu Sans Mono',consolas,'Courier New',monospace\">Frontend is not initialized. Running `<span style=\"color: #800080; text-decoration-color: #800080; font-weight: bold\">mk.gui.start</span><span style=\"font-weight: bold\">()</span>`.\n",
       "</pre>\n"
      ],
      "text/plain": [
       "Frontend is not initialized. Running `\u001b[1;35mmk.gui.start\u001b[0m\u001b[1m(\u001b[0m\u001b[1m)\u001b[0m`.\n"
      ]
     },
     "metadata": {},
     "output_type": "display_data"
    },
    {
     "data": {
      "text/html": [
       "\n",
       "        <iframe\n",
       "            width=\"100%\"\n",
       "            height=\"450px\"\n",
       "            src=\"http://localhost:8000/?id=Tablef81e7768-c59c-4eea-a5cb-47f70c2e580b\"\n",
       "            frameborder=\"0\"\n",
       "            allowfullscreen\n",
       "            \n",
       "        ></iframe>\n",
       "        "
      ],
      "text/plain": [
       "<IPython.lib.display.IFrame at 0x7f1f6cebbbe0>"
      ]
     },
     "metadata": {},
     "output_type": "display_data"
    }
   ],
   "source": [
    "# Create a `DataFrame`\n",
    "df = mk.from_csv(\"./downloads/imagenette2-160/imagenette.csv\")\n",
    "\n",
    "# Create an `ImageColumn`` and add it to the `DataFrame`\n",
    "df[\"img\"] = mk.image(\n",
    "    df[\"img_path\"], \n",
    "    base_dir=os.path.join(dataset_dir, \"imagenette2-160\")\n",
    ")\n",
    "df"
   ]
  },
  {
   "cell_type": "markdown",
   "id": "88f3dbff",
   "metadata": {},
   "source": [
    "The call to `head` shows the first few rows in the `DataFrame`. You can see that there are a few metadata columns, as well as the \"img\" column we added in.\n",
    "\n",
    "## 🗂 Selecting data\n",
    "*For more information see the user guide section on {ref}`guide/dataframe/selection`.*\n",
    "\n",
    "When we create an `ImageColumn` we don't load the images into memory. Instead, `ImageColumn` keeps track of all those filepaths we passed in and only loads the images when they are needed. \n",
    "\n",
    "When we select a row of the `ImageColumn`, we get an instance `FileCell` back. A `FileCell` is an object that holds everything we need to materialize the cell (e.g. the filepath to the image and the loading function), but stops just short of doing so."
   ]
  },
  {
   "cell_type": "code",
   "execution_count": 5,
   "id": "a4e35e04",
   "metadata": {},
   "outputs": [
    {
     "name": "stdout",
     "output_type": "stream",
     "text": [
      "Indexing the `ImageColumn` returns an object of type: <class 'meerkat.columns.deferred.file.FileCell'>.\n"
     ]
    }
   ],
   "source": [
    "img_cell = df[\"img\"][0]\n",
    "print(f\"Indexing the `ImageColumn` returns an object of type: {type(img_cell)}.\")"
   ]
  },
  {
   "cell_type": "markdown",
   "id": "f81fb715",
   "metadata": {},
   "source": [
    "To actually materialize the image, we simply call the cell."
   ]
  },
  {
   "cell_type": "code",
   "execution_count": 6,
   "id": "e080ab90",
   "metadata": {},
   "outputs": [
    {
     "data": {
      "image/png": "[encoded data removed]",
      "text/plain": [
       "<PIL.Image.Image image mode=RGB size=213x160>"
      ]
     },
     "execution_count": 6,
     "metadata": {},
     "output_type": "execute_result"
    }
   ],
   "source": [
    "img = img_cell()\n",
    "img"
   ]
  },
  {
   "cell_type": "markdown",
   "id": "8750d7ad",
   "metadata": {},
   "source": [
    "We can subselect a **batch** of images by indexing with a slice.  Notice that this returns a smaller {class}`~meerkat.DataFrame`."
   ]
  },
  {
   "cell_type": "code",
   "execution_count": 7,
   "id": "c139d99f",
   "metadata": {},
   "outputs": [
    {
     "name": "stdout",
     "output_type": "stream",
     "text": [
      "Indexing a slice of the `ImageColumn` returns a: <class 'meerkat.columns.deferred.file.FileColumn'>.\n"
     ]
    },
    {
     "data": {
      "text/html": [
       "<table border=\"1\" class=\"dataframe\">\n",
       "  <thead>\n",
       "    <tr style=\"text-align: right;\">\n",
       "      <th></th>\n",
       "      <th>(FileColumn)</th>\n",
       "    </tr>\n",
       "  </thead>\n",
       "  <tbody>\n",
       "    <tr>\n",
       "      <th>0</th>\n",
       "      <td><img src=\"data:image/jpeg;base64,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\"></td>\n",
       "    </tr>\n",
       "    <tr>\n",
       "      <th>1</th>\n",
       "      <td><img src=\"data:image/jpeg;base64,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\"></td>\n",
       "    </tr>\n",
       "    <tr>\n",
       "      <th>2</th>\n",
       "      <td><img src=\"data:image/jpeg;base64,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\"></td>\n",
       "    </tr>\n",
       "  </tbody>\n",
       "</table>"
      ],
      "text/plain": [
       "column([FileCell(fn=<...7f1f6cef2df0>), FileCell(fn=<...7f1f6cef2df0>), FileCell(fn=<...7f1f6cef2df0>)], backend=FileColumn"
      ]
     },
     "execution_count": 7,
     "metadata": {},
     "output_type": "execute_result"
    }
   ],
   "source": [
    "imgs = df[\"img\"][1:4]\n",
    "print(f\"Indexing a slice of the `ImageColumn` returns a: {type(imgs)}.\")\n",
    "imgs"
   ]
  },
  {
   "cell_type": "markdown",
   "id": "531ff0f3",
   "metadata": {},
   "source": [
    "The whole batch of images can be loaded together by calling the column. \n",
    "```\n",
    "imgs();\n",
    "```\n",
    "\n",
    "One can load multiple rows using any one of following indexing schemes:\n",
    "- **Slice indexing**: _e.g._ `column[4:10]`\n",
    "- **Integer array indexing**: _e.g._ `column[[0, 4, 6, 11]]`\n",
    "- **Boolean array indexing**: _e.g._ `column[np.array([True, False, False ..., True, False])]`\n",
    "\n",
    "### 📎 _Aside_: `ImageColumn` under the hood, `DeferredColumn`.\n",
    "\n",
    "If you check out the implementation of `ImageColumn` (at [meerkat/column/image_column.py](https://github.com/HazyResearch/meerkat/blob/main/meerkat/column/image_column.py)), you'll notice that it's a super simple subclass of `DeferredColumn`. \n",
    "\n",
    "_What's a `DeferredColumn`?_\n",
    "In `meerkat`, high-dimensional data types like images and videos are typically stored in a `DeferredColumn`. A  `DeferredColumn` wraps around another column and lazily applies a function to it's content as it is indexed. Consider the following example, where we create a simple `meerkat` column..."
   ]
  },
  {
   "cell_type": "code",
   "execution_count": 8,
   "id": "184f2fde",
   "metadata": {},
   "outputs": [],
   "source": [
    "  col = mk.column([0,1,2])"
   ]
  },
  {
   "cell_type": "markdown",
   "id": "0dbe47aa",
   "metadata": {},
   "source": [
    "...and wrap it in a deferred column.\n",
    "```\n",
    "  dcol = col.defer(fn=lambda x: x + 10)\n",
    "  dcol[1]()  # the function is only called at this point!\n",
    "```\n",
    "Critically, the function inside a lambda column is only called at the time the column is called! This is very useful for columns with large data types that we don't want to load all into memory at once. For example, we could create a `DeferredColumn` that lazily loads images...\n",
    "```\n",
    "  >>> filepath_col = mk.PandasSeriesColumn([\"path/to/image0.jpg\", ...])\n",
    "  >>> img_col = filepath.defer(lambda x: load_image(x))\n",
    "```\n",
    "An `ImageColumn` is a just a `DeferredColumn` like this one, with a few more bells and whistles!\n",
    "\n",
    "## 🛠 Applying operations over the DataFrame.\n",
    "\n",
    "When analyzing data, we often perform operations on each example in our dataset (e.g. compute a model's prediction on each example, tokenize each sentence, compute a model's embedding for each example) and store them. The `DataFrame` makes it easy to perform these operations:  \n",
    "- Produce new columns (via `DataFrame.map`)\n",
    "- Produce new columns and store the columns alongside the original data (via `DataFrame.update`)\n",
    "- Extract an important subset of the datset (via `DataFrame.filter`).   \n",
    "\n",
    "Under the hood, dataloading is multiprocessed so that costly I/O doesn't bottleneck our computation.\n",
    "\n",
    "Let's start by filtering the `DataFrame` down to the examples in the validation set."
   ]
  },
  {
   "cell_type": "code",
   "execution_count": 9,
   "id": "9be337e5",
   "metadata": {},
   "outputs": [],
   "source": [
    "valid_df = df.filter(lambda split: split == \"valid\")"
   ]
  },
  {
   "cell_type": "markdown",
   "id": "87afdf68",
   "metadata": {},
   "source": [
    "### 🫐  Using `DataFrame.map` to compute average intensity of the blue color channel in the images.\n",
    "\n",
    "To demonstrate the utility of the `map` operation, we'll explore the relationship between the \"blueness\" of an image and the class of the image. \n",
    "\n",
    "We'll quantify the \"blueness\" of each image by simply computing the mean intensity of the blue color channel. This can be accomplished with a simple `map` operation over the `DataFrame`:"
   ]
  },
  {
   "cell_type": "code",
   "execution_count": 10,
   "id": "43cdb604",
   "metadata": {},
   "outputs": [],
   "source": [
    "blue_col = valid_df.map(\n",
    "    lambda img: np.array(img)[:, :, 2].mean(), \n",
    "    num_workers=2\n",
    ")\n",
    "\n",
    "# Add the intensities as a new column in the `DataFrame` \n",
    "valid_df[\"avg_blue\"] = blue_col"
   ]
  },
  {
   "cell_type": "markdown",
   "id": "ba179f28",
   "metadata": {},
   "source": [
    "### 🪂 vs. ⛳️\n",
    "Next, we'll explore the relationship between blueness and the class label of the image. To do so, we'll compare the blue intensity distribution of images labeled \"parachute\" to the distribution of of images labeled \"golf ball\".\n",
    "Using the [`seaborn`](https://seaborn.pydata.org/installing.html) plotting package and our `DataFrame`, this can be accomplished in one line:"
   ]
  },
  {
   "cell_type": "code",
   "execution_count": 11,
   "id": "d6e6c17c",
   "metadata": {},
   "outputs": [
    {
     "ename": "ModuleNotFoundError",
     "evalue": "No module named 'seaborn'",
     "output_type": "error",
     "traceback": [
      "\u001b[0;31m---------------------------------------------------------------------------\u001b[0m",
      "\u001b[0;31mModuleNotFoundError\u001b[0m                       Traceback (most recent call last)",
      "Cell \u001b[0;32mIn[11], line 2\u001b[0m\n\u001b[1;32m      1\u001b[0m \u001b[38;5;66;03m## OPTIONAL: this cell requires the seaborn dependency: https://seaborn.pydata.org/installing.html \u001b[39;00m\n\u001b[0;32m----> 2\u001b[0m \u001b[38;5;28;01mimport\u001b[39;00m \u001b[38;5;21;01mseaborn\u001b[39;00m \u001b[38;5;28;01mas\u001b[39;00m \u001b[38;5;21;01msns\u001b[39;00m\n\u001b[1;32m      4\u001b[0m plot_df \u001b[38;5;241m=\u001b[39m valid_df[np\u001b[38;5;241m.\u001b[39misin(valid_df[\u001b[38;5;124m\"\u001b[39m\u001b[38;5;124mlabel\u001b[39m\u001b[38;5;124m\"\u001b[39m], [\u001b[38;5;124m\"\u001b[39m\u001b[38;5;124mgolf ball\u001b[39m\u001b[38;5;124m\"\u001b[39m, \u001b[38;5;124m\"\u001b[39m\u001b[38;5;124mparachute\u001b[39m\u001b[38;5;124m\"\u001b[39m])]\n\u001b[1;32m      5\u001b[0m sns\u001b[38;5;241m.\u001b[39mdisplot(\n\u001b[1;32m      6\u001b[0m     data\u001b[38;5;241m=\u001b[39mplot_df\u001b[38;5;241m.\u001b[39mto_pandas(), \n\u001b[1;32m      7\u001b[0m     x\u001b[38;5;241m=\u001b[39m\u001b[38;5;124m\"\u001b[39m\u001b[38;5;124mavg_blue\u001b[39m\u001b[38;5;124m\"\u001b[39m, \n\u001b[0;32m   (...)\u001b[0m\n\u001b[1;32m     10\u001b[0m     aspect\u001b[38;5;241m=\u001b[39m\u001b[38;5;241m2\u001b[39m\n\u001b[1;32m     11\u001b[0m )\n",
      "\u001b[0;31mModuleNotFoundError\u001b[0m: No module named 'seaborn'"
     ]
    }
   ],
   "source": [
    "## OPTIONAL: this cell requires the seaborn dependency: https://seaborn.pydata.org/installing.html \n",
    "import seaborn as sns\n",
    "\n",
    "plot_df = valid_df[np.isin(valid_df[\"label\"], [\"golf ball\", \"parachute\"])]\n",
    "sns.displot(\n",
    "    data=plot_df.to_pandas(), \n",
    "    x=\"avg_blue\", \n",
    "    hue=\"label\", \n",
    "    height=3, \n",
    "    aspect=2\n",
    ")"
   ]
  },
  {
   "cell_type": "code",
   "execution_count": null,
   "id": "5a025d2b",
   "metadata": {},
   "outputs": [],
   "source": [
    "valid_df[\"img\"][int(np.argmax(valid_df[\"avg_blue\"]))]"
   ]
  },
  {
   "cell_type": "markdown",
   "id": "e5fa7953",
   "metadata": {},
   "source": [
    "## 📉 ML with images in `meerkat`.\n",
    "\n",
    "Let's do some machine learning on our Imagenette `DataFrame`.\n",
    "We'll take a resnet18 pretrained on the full ImageNet dataset, perform inference on the validation set, and analyze the model's predictions and activations. \n",
    "\n",
    "The cell below downloads the model.."
   ]
  },
  {
   "cell_type": "code",
   "execution_count": null,
   "id": "147380c1",
   "metadata": {},
   "outputs": [],
   "source": [
    "import torch\n",
    "from torchvision.models import resnet18\n",
    "import torchvision.transforms as transforms\n",
    "model = resnet18(pretrained=True)"
   ]
  },
  {
   "cell_type": "markdown",
   "id": "27f99fbd",
   "metadata": {},
   "source": [
    "### 💈  Applying a transform to the images.\n",
    "In order to do inference, we'll need to create a _new_ {class}`~meerkat.DeferredColumn`. The `ImageColumn` we defined above (_i.e._ `\"img_path\"`), does not apply any transforms after loading and simply returns a PIL image. Before passing the images through the model, we need to convert the PIL image to a `torch.Tensor` and normalize the color channels (along with a few other transformations). \n",
    "\n",
    "Note: the transforms defined below are the same as the ones used by torchvision, see [here](https://github.com/pytorch/examples/blob/cbb760d5e50a03df667cdc32a61f75ac28e11cbf/imagenet/main.py#L225). \n",
    "\n",
    "In the cell below, we specify a transform when creating the `ImageColumn`."
   ]
  },
  {
   "cell_type": "code",
   "execution_count": null,
   "id": "86d80ca0",
   "metadata": {},
   "outputs": [],
   "source": [
    "# Define transform\n",
    "transform = transforms.Compose([\n",
    "    transforms.Resize(256),\n",
    "    transforms.CenterCrop(224),\n",
    "    transforms.ToTensor(),\n",
    "    transforms.Normalize(\n",
    "        mean=[0.485, 0.456, 0.406],\n",
    "        std=[0.229, 0.224, 0.225]),\n",
    "])\n",
    "\n",
    "# Create new column with transform \n",
    "valid_df[\"input\"] = valid_df[\"img\"].defer(transform)"
   ]
  },
  {
   "cell_type": "markdown",
   "id": "ae156826",
   "metadata": {},
   "source": [
    "Notice that indexing this new column returns a `torch.Tensor`, not a PIL image..."
   ]
  },
  {
   "cell_type": "code",
   "execution_count": null,
   "id": "fa4ad8f2",
   "metadata": {},
   "outputs": [],
   "source": [
    "img = valid_df[\"input\"][0]()\n",
    "print(f\"Indexing the `ImageColumn` returns an object of type: {type(img)}.\")"
   ]
  },
  {
   "cell_type": "markdown",
   "id": "ea8c3eda",
   "metadata": {},
   "source": [
    "... and that indexing a slice of this new column returns a {class}`~meerkat.TensorColumn`."
   ]
  },
  {
   "cell_type": "code",
   "execution_count": null,
   "id": "d5c52c9b",
   "metadata": {},
   "outputs": [],
   "source": [
    "col = img = valid_df[\"input\"][:3]()\n",
    "print(f\"Indexing a slice of the `ImageColumn` returns an object of type: {type(img)}.\")\n",
    "col"
   ]
  },
  {
   "cell_type": "markdown",
   "id": "3ee710f1",
   "metadata": {},
   "source": [
    "Let's see what the full `DataFrame` looks like now."
   ]
  },
  {
   "cell_type": "code",
   "execution_count": null,
   "id": "73c2e39c",
   "metadata": {},
   "outputs": [],
   "source": [
    "valid_df.head()"
   ]
  },
  {
   "cell_type": "markdown",
   "id": "0cc23b1c",
   "metadata": {},
   "source": [
    "### 💫 Computing model predictions and activations.\n",
    "We'd like to perform inference and extract:\n",
    "  \n",
    "1. Output predictions  \n",
    "2. Output class probabilities  \n",
    "3. Model activations \n",
    "\n",
    "Note: in order to extract model activations, we'll need to use a [PyTorch forward hook](https://pytorch.org/tutorials/beginner/former_torchies/nnft_tutorial.html#forward-and-backward-function-hooks) and register it on the final layer of the ResNet. Forward hooks are just functions that get executed on the forward pass of a `torch.nn.Module`."
   ]
  },
  {
   "cell_type": "code",
   "execution_count": null,
   "id": "36a54252",
   "metadata": {},
   "outputs": [],
   "source": [
    "# Define forward hook in ActivationExtractor class\n",
    "class ActivationExtractor:\n",
    "    \"\"\"Extracting activations a targetted intermediate layer\"\"\"\n",
    "\n",
    "    def __init__(self):\n",
    "        self.activation = None\n",
    "\n",
    "    def forward_hook(self, module, input, output):\n",
    "        self.activation = output\n",
    "\n",
    "# Register forward hook\n",
    "extractor = ActivationExtractor()\n",
    "model.layer4.register_forward_hook(extractor.forward_hook);"
   ]
  },
  {
   "cell_type": "markdown",
   "id": "4f809b69",
   "metadata": {},
   "source": [
    "We want to apply a forward pass to each image in the `DataFrame` and store the outputs as new columns: `DataFrame.map` is perfectly suited for this task."
   ]
  },
  {
   "cell_type": "code",
   "execution_count": null,
   "id": "88554baf",
   "metadata": {},
   "outputs": [],
   "source": [
    "# 1. Move the model to GPU, if available\n",
    "# device = 0\n",
    "device = \"cpu\"\n",
    "model.to(device).eval()\n",
    "\n",
    "# 2. Define a function that runs a forward pass over a batch \n",
    "@torch.no_grad()\n",
    "def predict(input: mk.TensorColumn):\n",
    "    x: torch.Tensor = input.data.to(device)  # We get the underlying torch tensor with `data` and move to GPU \n",
    "    out: torch.Tensor = model(x)  # Run forward pass\n",
    "\n",
    "    # Return a dictionary with one key for each of the new columns. Each value in the\n",
    "    # dictionary should have the same length as the batch. \n",
    "    return {\n",
    "        \"pred\": out.cpu().numpy().argmax(axis=-1),\n",
    "        \"probs\": torch.softmax(out, axis=-1).cpu(),\n",
    "        \"activation\": extractor.activation.mean(dim=[-1,-2]).cpu()\n",
    "    }\n",
    "# 3. Apply the update. Note that the `predict` function operates on batches, so we set \n",
    "# `batched=True`. Also, the `predict` function only accesses the \"input\" column, by \n",
    "# specifying that here we instruct update to only load that one column and skip others \n",
    "pred_df = valid_df.map(function=predict, is_batched_fn=True, batch_size=32)\n",
    "valid_df = mk.concat([valid_df, pred_df], axis=\"columns\")"
   ]
  },
  {
   "cell_type": "markdown",
   "id": "b74f5e1e",
   "metadata": {},
   "source": [
    "The predictions, output probabilities, and activations are now stored alongside the examples in the `DataFrame`."
   ]
  },
  {
   "cell_type": "code",
   "execution_count": null,
   "id": "0540ba66",
   "metadata": {},
   "outputs": [],
   "source": [
    "valid_df[[\"label_id\", \"input\", \"pred\", \"probs\", \"activation\"]].head()"
   ]
  },
  {
   "cell_type": "markdown",
   "id": "2f42b4ba",
   "metadata": {},
   "source": [
    "### 🎯  Computing metrics and analyzing performance. \n",
    "\n",
    "Computing statistics on Meerkat `DataFrames` is straightforward because standard NumPy operators and functions can be applied directly to a `NumpyArrayColumn`. We take advantage of this below to compute the accuracy of the model."
   ]
  },
  {
   "cell_type": "code",
   "execution_count": null,
   "id": "fb97bf71",
   "metadata": {},
   "outputs": [],
   "source": [
    "valid_df[\"correct\"] = valid_df[\"pred\"] == valid_df[\"label_idx\"].data\n",
    "accuracy = valid_df[\"correct\"].mean()\n",
    "print(f\"Micro accuracy across the ten Imagenette classes: {accuracy:0.3}\")"
   ]
  },
  {
   "cell_type": "markdown",
   "id": "29a53c7d",
   "metadata": {},
   "source": [
    "Furthermore, since the `DataFrame` is naturally converted to a Pandas DataFrame, it's easy to use data visualization tools that interface with Pandas (_e.g._ seaborn, bokeh)."
   ]
  },
  {
   "cell_type": "code",
   "execution_count": null,
   "id": "54eb7637",
   "metadata": {},
   "outputs": [],
   "source": [
    "## OPTIONAL: this cell requires the seaborn dependency: https://seaborn.pydata.org/installing.html \n",
    "import seaborn as sns\n",
    "import matplotlib.pyplot as plt\n",
    "sns.barplot(data=valid_df.to_pandas(), y=\"label\", x=\"correct\");"
   ]
  },
  {
   "cell_type": "markdown",
   "id": "8867d0bb",
   "metadata": {},
   "source": [
    "### 🔎  Exploring model activations.\n",
    "To better understand the behavior of our model, we'll explore the activations of the final convolutional layer of the ResNet. Recall that when we performed our forward pass, we extracted these activations and stored them in a new column called `\"activation\"`.\n",
    "\n",
    "Unlike the the `NumpyArrayColumn`s we've been working with so far, the activation column has an additional dimension of size 512.\n",
    "\n",
    "To visualize the activations, we'll use a dimensionality reduction technique ([UMAP](https://umap-learn.readthedocs.io/en/latest/)) to embed the activations in two dimensions. We'll store these embeddings in two new columns \"umap_0\" and \"umap_1\"."
   ]
  },
  {
   "cell_type": "code",
   "execution_count": null,
   "id": "27cad9c7",
   "metadata": {},
   "outputs": [],
   "source": [
    "## OPTIONAL: this cell requires the umap dependency: https://umap-learn.readthedocs.io/en/latest/\n",
    "!pip install umap-learn\n",
    "from umap import UMAP\n",
    "\n",
    "# 1. Compute UMAP embedding\n",
    "reducer = UMAP()\n",
    "embs = reducer.fit_transform(valid_df[\"activation\"])\n",
    "\n",
    "# 2. Add the embedding to the DataFrame as two new columns \n",
    "valid_df[\"umap_0\"] = embs[:, 0]\n",
    "valid_df[\"umap_1\"] = embs[:, 1]\n",
    "\n",
    "## OPTIONAL: this cell requires the seaborn dependency: https://seaborn.pydata.org/installing.html \n",
    "import seaborn as sns\n",
    "import matplotlib.pyplot as plt\n",
    "sns.scatterplot(data=valid_df.to_pandas(), x=\"umap_0\", y=\"umap_1\", hue=\"label\");\n",
    "plt.legend(bbox_to_anchor=(1.05, 1), loc='upper left')"
   ]
  },
  {
   "cell_type": "markdown",
   "id": "5a99a707",
   "metadata": {},
   "source": [
    "## 💾  Writing a `DataFrame` to disk. \n",
    "Finally, we can write the updated `DataFrame`, with all the activations and predictions included, to disk for later use.  \n",
    "\n",
    "`DataFrame` size on disk: 25MB\n",
    "\n",
    "On disk, the `DataFrame` is stored in a directory at the path passed to `DataFrame.write`. Within that directory, each column is stored separately. This allows us to read only a subset of columns from DataFrame on disk. Use the file explorer to the left to further expore the file structure of the `DataFrame`.  \n",
    "```\n",
    "valid_df\n",
    "|  +-- meta.yml   \n",
    "|  +-- state.dill  \n",
    "|  +-- columns\n",
    "   |   +-- activation\n",
    "   |   +-- avg_blue\n",
    "   |   +-- correct\n",
    "   |   ...\n",
    "   |   +-- umap_1\n",
    "```"
   ]
  },
  {
   "cell_type": "code",
   "execution_count": null,
   "id": "450358d7",
   "metadata": {},
   "outputs": [],
   "source": [
    "valid_df.write(os.path.join(dataset_dir, \"valid_df\"))"
   ]
  },
  {
   "cell_type": "code",
   "execution_count": null,
   "id": "c148d6f7",
   "metadata": {},
   "outputs": [],
   "source": [
    "valid_df = mk.read(os.path.join(dataset_dir, \"valid_df\"))"
   ]
  }
 ],
 "metadata": {
  "file_format": "mystnb",
  "kernelspec": {
   "display_name": "python3",
   "name": "python3"
  },
  "language_info": {
   "codemirror_mode": {
    "name": "ipython",
    "version": 3
   },
   "file_extension": ".py",
   "mimetype": "text/x-python",
   "name": "python",
   "nbconvert_exporter": "python",
   "pygments_lexer": "ipython3",
   "version": "3.8.16"
  },
  "source_map": [
   5,
   25,
   29,
   46,
   52,
   56,
   60,
   70,
   82,
   91,
   94,
   97,
   100,
   103,
   107,
   125,
   127,
   150,
   152,
   160,
   168,
   174,
   188,
   190,
   199,
   204,
   213,
   226,
   229,
   232,
   235,
   239,
   242,
   244,
   255,
   269,
   273,
   297,
   301,
   303,
   309,
   313,
   317,
   322,
   331,
   349,
   369,
   373
  ]
 },
 "nbformat": 4,
 "nbformat_minor": 5
}