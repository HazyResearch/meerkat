{
 "cells": [
  {
   "cell_type": "markdown",
   "id": "4cdee0b0",
   "metadata": {},
   "source": [
    "# Tutorial 6: Complex Components (Embedding Based Search Engine)\n",
    "\n",
    "In this tutorial, we'll show you how you can build a simple search engine over a dataset, using the CLIP model to drive the search. Users will be able to type in a query to search over images, and will see the dataset images ranked by their similarity to the query.\n",
    "\n",
    "\n",
    "To get started, run the tutorial demo script.\n",
    "\n",
    "```{code-block} bash\n",
    "mk demo match\n",
    "```\n",
    "\n",
    "You should see the tutorial app when you open the link in your browser. Let's break down the code in the demo script.\n",
    "\n",
    "## Installing dependencies\n",
    "This tutorial has additional dependencies that you need to install. Run the following command to install them.\n",
    "\n",
    "```{code-block} bash\n",
    "pip install ftfy regex git+https://github.com/openai/CLIP.git\n",
    "```\n",
    "\n",
    "Once you run the script, it will download the CLIP model and cache it in your home directory. This will take a few minutes.\n",
    "\n",
    "## Loading in the dataset"
   ]
  },
  {
   "cell_type": "code",
   "execution_count": 1,
   "id": "a5e8884f",
   "metadata": {
    "tags": [
     "remove-cell"
    ]
   },
   "outputs": [],
   "source": [
    "import meerkat as mk\n",
    "import rich"
   ]
  },
  {
   "cell_type": "markdown",
   "id": "6b0fbc6a",
   "metadata": {},
   "source": [
    "The first few lines just load in the `imagenette` dataset, a small 10-class subset of ImageNet."
   ]
  },
  {
   "cell_type": "code",
   "execution_count": 2,
   "id": "289677fb",
   "metadata": {},
   "outputs": [],
   "source": [
    "IMAGE_COLUMN = \"img\"\n",
    "df = mk.get(\"imagenette\", version=\"160px\")"
   ]
  },
  {
   "cell_type": "code",
   "execution_count": 3,
   "id": "327eaa4e",
   "metadata": {},
   "outputs": [
    {
     "data": {
      "application/vnd.jupyter.widget-view+json": {
       "model_id": "48bc25d696944b688d967299eafdf7b0",
       "version_major": 2,
       "version_minor": 0
      },
      "text/plain": [
       "Downloading:   0%|          | 0.00/114M [00:00<?, ?B/s]"
      ]
     },
     "metadata": {},
     "output_type": "display_data"
    },
    {
     "name": "stdout",
     "output_type": "stream",
     "text": [
      "Extracting tar archive, this may take a few minutes...\n"
     ]
    }
   ],
   "source": [
    "EMBED_COLUMN = \"img_clip\"\n",
    "\n",
    "# Download the precomupted CLIP embeddings for imagenette.\n",
    "df_clip = mk.DataFrame.read(\n",
    "    \"https://huggingface.co/datasets/meerkat-ml/meerkat-dataframes/resolve/main/embeddings/imagenette_160px.mk.tar.gz\",\n",
    "    overwrite=False,\n",
    ")"
   ]
  },
  {
   "cell_type": "code",
   "execution_count": 4,
   "id": "3c995daa",
   "metadata": {
    "tags": [
     "remove-output"
    ]
   },
   "outputs": [
    {
     "name": "stderr",
     "output_type": "stream",
     "text": [
      "/home/runner/work/meerkat/meerkat/meerkat/ops/merge.py:151: FutureWarning: iteritems is deprecated and will be removed in a future version. Use .items instead.\n",
      "  for name, column in merged_df.iteritems():\n"
     ]
    }
   ],
   "source": [
    "df = df.merge(df_clip[[\"img_id\", \"img_clip\"]], on=\"img_id\")"
   ]
  },
  {
   "cell_type": "code",
   "execution_count": 5,
   "id": "26c48ad9",
   "metadata": {
    "tags": [
     "remove-input"
    ]
   },
   "outputs": [
    {
     "data": {
      "text/html": [
       "<pre style=\"white-space:pre;overflow-x:auto;line-height:normal;font-family:Menlo,'DejaVu Sans Mono',consolas,'Courier New',monospace\">Frontend is not initialized. Running `<span style=\"color: #800080; text-decoration-color: #800080; font-weight: bold\">mk.gui.start</span><span style=\"font-weight: bold\">()</span>`.\n",
       "</pre>\n"
      ],
      "text/plain": [
       "Frontend is not initialized. Running `\u001b[1;35mmk.gui.start\u001b[0m\u001b[1m(\u001b[0m\u001b[1m)\u001b[0m`.\n"
      ]
     },
     "metadata": {},
     "output_type": "display_data"
    },
    {
     "data": {
      "text/html": [
       "\n",
       "        <iframe\n",
       "            width=\"100%\"\n",
       "            height=\"450px\"\n",
       "            src=\"http://localhost:8000/?id=Table12777448-d130-43ec-9ac7-e5b0e3f40b25\"\n",
       "            frameborder=\"0\"\n",
       "            allowfullscreen\n",
       "            \n",
       "        ></iframe>\n",
       "        "
      ],
      "text/plain": [
       "<IPython.lib.display.IFrame at 0x7f7258132160>"
      ]
     },
     "metadata": {},
     "output_type": "display_data"
    }
   ],
   "source": [
    "df.head()"
   ]
  },
  {
   "cell_type": "markdown",
   "id": "babf2211",
   "metadata": {},
   "source": [
    "## Creating the `Match` component\n",
    "Now that we have a data frame with the dataset and CLIP image embeddings, we want to be able to run a search over the dataset. To do this, we'll use the `Match` component, which allows us to match a query to the dataset."
   ]
  },
  {
   "cell_type": "code",
   "execution_count": 6,
   "id": "d22a6292",
   "metadata": {},
   "outputs": [],
   "source": [
    "match = mk.gui.Match(df, against=EMBED_COLUMN)"
   ]
  },
  {
   "cell_type": "markdown",
   "id": "b04f8ef2",
   "metadata": {},
   "source": [
    "Here, `against` is the column in the data frame that we want to match against. In this case, we want to match against the CLIP embeddings.\n",
    "\n",
    "`Match` is a complex component that does a few things:\n",
    "- as a component, it visualizes a search bar where users can type in a query\n",
    "- it provides an endpoint attribute, `on_match`, which can be used to run an endpoint when the user types in a query\n",
    "- by default, `Match` assigns `on_match` to an endpoint that adds a column to the data frame with the match scores\n",
    "\n",
    "## Getting the match criteria\n",
    "\n",
    "When a match query is run, it generates a new column in the data frame with the match scores. The name of this column is stored in the `criterion` attribute of the `Match` component. We can use this to get the name of the match criterion.\n",
    "\n",
    "Let's use a `magic` context manager to get the name of the match criterion. Using `magic` makes the `match.criterion` Store property accessors reactive, so accessing its `name` attribute will cause this property access to re-run when the criterion is updated."
   ]
  },
  {
   "cell_type": "code",
   "execution_count": 7,
   "id": "eaa8000a",
   "metadata": {},
   "outputs": [],
   "source": [
    "# Get the name of the match criterion in a reactive way.\n",
    "with mk.magic():\n",
    "    criterion_name = match.criterion.name"
   ]
  },
  {
   "cell_type": "markdown",
   "id": "904e7907",
   "metadata": {},
   "source": [
    "Now, when a new match query is run, `criterion_name` will be updated to the name of the new match criterion.\n",
    "\n",
    "## Sorting by match scores\n",
    "Now that we have the name of the match criterion, we'll use it to sort the data frame by the match scores. We'll use the `mk.sort` function to do this.\n",
    "\n",
    "We also want sorting to be reactive, so that when a new match query is run, the data frame is sorted by the new match scores. Fortunately, `mk.sort` is a reactive function.\n",
    "\n",
    "However, before we run `sort`, we need to _mark_ the data frame `df`. Any reactive functions that take `df` as an argument when it is marked will re-run when it is updated."
   ]
  },
  {
   "cell_type": "code",
   "execution_count": 8,
   "id": "546602a0",
   "metadata": {},
   "outputs": [],
   "source": [
    "df.mark()\n",
    "df_sorted = mk.sort(data=df, by=criterion_name, ascending=False)"
   ]
  },
  {
   "cell_type": "markdown",
   "id": "f33ac4d7",
   "metadata": {},
   "source": [
    "With this, we now ensure that when `df` is updated with the new match scores from the user's query, `df_sorted` will be re-sorted by the column with the new match scores.\n",
    "\n",
    "## Visualizing results in a `Gallery`\n",
    "Now that we have a sorted data frame, we can visualize the results. Let's use a `Gallery` component to visualize the data frame, and show the images by default."
   ]
  },
  {
   "cell_type": "code",
   "execution_count": 9,
   "id": "31ca90fd",
   "metadata": {},
   "outputs": [],
   "source": [
    "gallery = mk.gui.Gallery(df_sorted, main_column=IMAGE_COLUMN)"
   ]
  },
  {
   "cell_type": "markdown",
   "id": "5bfdd81d",
   "metadata": {},
   "source": [
    "## Putting it all together\n",
    "With all the pieces, let's put them together into a `Page` and launch the app.\n",
    "```python\n",
    "page = mk.gui.Page(\n",
    "    component=mk.gui.html.flexcol([match, gallery]),\n",
    "    id=\"match\",\n",
    ")\n",
    "page.launch()\n",
    "```"
   ]
  }
 ],
 "metadata": {
  "file_format": "mystnb",
  "kernelspec": {
   "display_name": "python3",
   "name": "python3"
  },
  "language_info": {
   "codemirror_mode": {
    "name": "ipython",
    "version": 3
   },
   "file_extension": ".py",
   "mimetype": "text/x-python",
   "name": "python",
   "nbconvert_exporter": "python",
   "pygments_lexer": "ipython3",
   "version": "3.8.16"
  },
  "source_map": [
   5,
   31,
   35,
   39,
   44,
   54,
   59,
   62,
   68,
   70,
   83,
   87,
   97,
   100,
   107,
   109
  ],
  "widgets": {
   "application/vnd.jupyter.widget-state+json": {
    "state": {
     "00aee5cdedf1403eb283badec35366ca": {
      "model_module": "@jupyter-widgets/controls",
      "model_module_version": "2.0.0",
      "model_name": "HTMLStyleModel",
      "state": {
       "_model_module": "@jupyter-widgets/controls",
       "_model_module_version": "2.0.0",
       "_model_name": "HTMLStyleModel",
       "_view_count": null,
       "_view_module": "@jupyter-widgets/base",
       "_view_module_version": "2.0.0",
       "_view_name": "StyleView",
       "background": null,
       "description_width": "",
       "font_size": null,
       "text_color": null
      }
     },
     "0fae68ae3bc948e6ad660378b13ed5cd": {
      "model_module": "@jupyter-widgets/base",
      "model_module_version": "2.0.0",
      "model_name": "LayoutModel",
      "state": {
       "_model_module": "@jupyter-widgets/base",
       "_model_module_version": "2.0.0",
       "_model_name": "LayoutModel",
       "_view_count": null,
       "_view_module": "@jupyter-widgets/base",
       "_view_module_version": "2.0.0",
       "_view_name": "LayoutView",
       "align_content": null,
       "align_items": null,
       "align_self": null,
       "border_bottom": null,
       "border_left": null,
       "border_right": null,
       "border_top": null,
       "bottom": null,
       "display": null,
       "flex": null,
       "flex_flow": null,
       "grid_area": null,
       "grid_auto_columns": null,
       "grid_auto_flow": null,
       "grid_auto_rows": null,
       "grid_column": null,
       "grid_gap": null,
       "grid_row": null,
       "grid_template_areas": null,
       "grid_template_columns": null,
       "grid_template_rows": null,
       "height": null,
       "justify_content": null,
       "justify_items": null,
       "left": null,
       "margin": null,
       "max_height": null,
       "max_width": null,
       "min_height": null,
       "min_width": null,
       "object_fit": null,
       "object_position": null,
       "order": null,
       "overflow": null,
       "padding": null,
       "right": null,
       "top": null,
       "visibility": null,
       "width": null
      }
     },
     "21eb20b85d2b4da4b4df72c8c7bb5b70": {
      "model_module": "@jupyter-widgets/controls",
      "model_module_version": "2.0.0",
      "model_name": "ProgressStyleModel",
      "state": {
       "_model_module": "@jupyter-widgets/controls",
       "_model_module_version": "2.0.0",
       "_model_name": "ProgressStyleModel",
       "_view_count": null,
       "_view_module": "@jupyter-widgets/base",
       "_view_module_version": "2.0.0",
       "_view_name": "StyleView",
       "bar_color": null,
       "description_width": ""
      }
     },
     "405d38954f344da3b43f9bad47a17d56": {
      "model_module": "@jupyter-widgets/base",
      "model_module_version": "2.0.0",
      "model_name": "LayoutModel",
      "state": {
       "_model_module": "@jupyter-widgets/base",
       "_model_module_version": "2.0.0",
       "_model_name": "LayoutModel",
       "_view_count": null,
       "_view_module": "@jupyter-widgets/base",
       "_view_module_version": "2.0.0",
       "_view_name": "LayoutView",
       "align_content": null,
       "align_items": null,
       "align_self": null,
       "border_bottom": null,
       "border_left": null,
       "border_right": null,
       "border_top": null,
       "bottom": null,
       "display": null,
       "flex": null,
       "flex_flow": null,
       "grid_area": null,
       "grid_auto_columns": null,
       "grid_auto_flow": null,
       "grid_auto_rows": null,
       "grid_column": null,
       "grid_gap": null,
       "grid_row": null,
       "grid_template_areas": null,
       "grid_template_columns": null,
       "grid_template_rows": null,
       "height": null,
       "justify_content": null,
       "justify_items": null,
       "left": null,
       "margin": null,
       "max_height": null,
       "max_width": null,
       "min_height": null,
       "min_width": null,
       "object_fit": null,
       "object_position": null,
       "order": null,
       "overflow": null,
       "padding": null,
       "right": null,
       "top": null,
       "visibility": null,
       "width": null
      }
     },
     "41e52cbc3bb147b082f3b6f90b935f76": {
      "model_module": "@jupyter-widgets/controls",
      "model_module_version": "2.0.0",
      "model_name": "FloatProgressModel",
      "state": {
       "_dom_classes": [],
       "_model_module": "@jupyter-widgets/controls",
       "_model_module_version": "2.0.0",
       "_model_name": "FloatProgressModel",
       "_view_count": null,
       "_view_module": "@jupyter-widgets/controls",
       "_view_module_version": "2.0.0",
       "_view_name": "ProgressView",
       "bar_style": "success",
       "description": "",
       "description_allow_html": false,
       "layout": "IPY_MODEL_d2d6f230dffc451dbf34c4f0f0ded730",
       "max": 114352332.0,
       "min": 0.0,
       "orientation": "horizontal",
       "style": "IPY_MODEL_21eb20b85d2b4da4b4df72c8c7bb5b70",
       "tabbable": null,
       "tooltip": null,
       "value": 114352332.0
      }
     },
     "48bc25d696944b688d967299eafdf7b0": {
      "model_module": "@jupyter-widgets/controls",
      "model_module_version": "2.0.0",
      "model_name": "HBoxModel",
      "state": {
       "_dom_classes": [],
       "_model_module": "@jupyter-widgets/controls",
       "_model_module_version": "2.0.0",
       "_model_name": "HBoxModel",
       "_view_count": null,
       "_view_module": "@jupyter-widgets/controls",
       "_view_module_version": "2.0.0",
       "_view_name": "HBoxView",
       "box_style": "",
       "children": [
        "IPY_MODEL_c2e5ac56a9934d589caa196d7a8fa9ee",
        "IPY_MODEL_41e52cbc3bb147b082f3b6f90b935f76",
        "IPY_MODEL_db2339b45a9c46a28061bf834f18f409"
       ],
       "layout": "IPY_MODEL_0fae68ae3bc948e6ad660378b13ed5cd",
       "tabbable": null,
       "tooltip": null
      }
     },
     "8b567ec2c39745929f62355db3e691ad": {
      "model_module": "@jupyter-widgets/base",
      "model_module_version": "2.0.0",
      "model_name": "LayoutModel",
      "state": {
       "_model_module": "@jupyter-widgets/base",
       "_model_module_version": "2.0.0",
       "_model_name": "LayoutModel",
       "_view_count": null,
       "_view_module": "@jupyter-widgets/base",
       "_view_module_version": "2.0.0",
       "_view_name": "LayoutView",
       "align_content": null,
       "align_items": null,
       "align_self": null,
       "border_bottom": null,
       "border_left": null,
       "border_right": null,
       "border_top": null,
       "bottom": null,
       "display": null,
       "flex": null,
       "flex_flow": null,
       "grid_area": null,
       "grid_auto_columns": null,
       "grid_auto_flow": null,
       "grid_auto_rows": null,
       "grid_column": null,
       "grid_gap": null,
       "grid_row": null,
       "grid_template_areas": null,
       "grid_template_columns": null,
       "grid_template_rows": null,
       "height": null,
       "justify_content": null,
       "justify_items": null,
       "left": null,
       "margin": null,
       "max_height": null,
       "max_width": null,
       "min_height": null,
       "min_width": null,
       "object_fit": null,
       "object_position": null,
       "order": null,
       "overflow": null,
       "padding": null,
       "right": null,
       "top": null,
       "visibility": null,
       "width": null
      }
     },
     "96a6e1f061be4f74a81a15d9a8bd7695": {
      "model_module": "@jupyter-widgets/controls",
      "model_module_version": "2.0.0",
      "model_name": "HTMLStyleModel",
      "state": {
       "_model_module": "@jupyter-widgets/controls",
       "_model_module_version": "2.0.0",
       "_model_name": "HTMLStyleModel",
       "_view_count": null,
       "_view_module": "@jupyter-widgets/base",
       "_view_module_version": "2.0.0",
       "_view_name": "StyleView",
       "background": null,
       "description_width": "",
       "font_size": null,
       "text_color": null
      }
     },
     "c2e5ac56a9934d589caa196d7a8fa9ee": {
      "model_module": "@jupyter-widgets/controls",
      "model_module_version": "2.0.0",
      "model_name": "HTMLModel",
      "state": {
       "_dom_classes": [],
       "_model_module": "@jupyter-widgets/controls",
       "_model_module_version": "2.0.0",
       "_model_name": "HTMLModel",
       "_view_count": null,
       "_view_module": "@jupyter-widgets/controls",
       "_view_module_version": "2.0.0",
       "_view_name": "HTMLView",
       "description": "",
       "description_allow_html": false,
       "layout": "IPY_MODEL_8b567ec2c39745929f62355db3e691ad",
       "placeholder": "​",
       "style": "IPY_MODEL_96a6e1f061be4f74a81a15d9a8bd7695",
       "tabbable": null,
       "tooltip": null,
       "value": "Downloading: 100%"
      }
     },
     "d2d6f230dffc451dbf34c4f0f0ded730": {
      "model_module": "@jupyter-widgets/base",
      "model_module_version": "2.0.0",
      "model_name": "LayoutModel",
      "state": {
       "_model_module": "@jupyter-widgets/base",
       "_model_module_version": "2.0.0",
       "_model_name": "LayoutModel",
       "_view_count": null,
       "_view_module": "@jupyter-widgets/base",
       "_view_module_version": "2.0.0",
       "_view_name": "LayoutView",
       "align_content": null,
       "align_items": null,
       "align_self": null,
       "border_bottom": null,
       "border_left": null,
       "border_right": null,
       "border_top": null,
       "bottom": null,
       "display": null,
       "flex": null,
       "flex_flow": null,
       "grid_area": null,
       "grid_auto_columns": null,
       "grid_auto_flow": null,
       "grid_auto_rows": null,
       "grid_column": null,
       "grid_gap": null,
       "grid_row": null,
       "grid_template_areas": null,
       "grid_template_columns": null,
       "grid_template_rows": null,
       "height": null,
       "justify_content": null,
       "justify_items": null,
       "left": null,
       "margin": null,
       "max_height": null,
       "max_width": null,
       "min_height": null,
       "min_width": null,
       "object_fit": null,
       "object_position": null,
       "order": null,
       "overflow": null,
       "padding": null,
       "right": null,
       "top": null,
       "visibility": null,
       "width": null
      }
     },
     "db2339b45a9c46a28061bf834f18f409": {
      "model_module": "@jupyter-widgets/controls",
      "model_module_version": "2.0.0",
      "model_name": "HTMLModel",
      "state": {
       "_dom_classes": [],
       "_model_module": "@jupyter-widgets/controls",
       "_model_module_version": "2.0.0",
       "_model_name": "HTMLModel",
       "_view_count": null,
       "_view_module": "@jupyter-widgets/controls",
       "_view_module_version": "2.0.0",
       "_view_name": "HTMLView",
       "description": "",
       "description_allow_html": false,
       "layout": "IPY_MODEL_405d38954f344da3b43f9bad47a17d56",
       "placeholder": "​",
       "style": "IPY_MODEL_00aee5cdedf1403eb283badec35366ca",
       "tabbable": null,
       "tooltip": null,
       "value": " 114M/114M [00:01&lt;00:00, 79.0MB/s]"
      }
     }
    },
    "version_major": 2,
    "version_minor": 0
   }
  }
 },
 "nbformat": 4,
 "nbformat_minor": 5
}