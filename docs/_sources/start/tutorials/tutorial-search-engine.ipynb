{
 "cells": [
  {
   "cell_type": "markdown",
   "id": "d4812005",
   "metadata": {},
   "source": [
    "# Tutorial 6: Complex Components (Embedding Based Search Engine)\n",
    "\n",
    "In this tutorial, we'll show you how you can build a simple search engine over a dataset, using the CLIP model to drive the search. Users will be able to type in a query to search over images, and will see the dataset images ranked by their similarity to the query.\n",
    "\n",
    "\n",
    "To get started, run the tutorial demo script.\n",
    "\n",
    "```{code-block} bash\n",
    "mk demo match\n",
    "```\n",
    "\n",
    "You should see the tutorial app when you open the link in your browser. Let's break down the code in the demo script.\n",
    "\n",
    "## Installing dependencies\n",
    "This tutorial has additional dependencies that you need to install. Run the following command to install them.\n",
    "\n",
    "```{code-block} bash\n",
    "pip install ftfy regex git+https://github.com/openai/CLIP.git\n",
    "```\n",
    "\n",
    "Once you run the script, it will download the CLIP model and cache it in your home directory. This will take a few minutes.\n",
    "\n",
    "## Loading in the dataset"
   ]
  },
  {
   "cell_type": "code",
   "execution_count": 1,
   "id": "9eea41ca",
   "metadata": {
    "tags": [
     "remove-cell"
    ]
   },
   "outputs": [],
   "source": [
    "import meerkat as mk\n",
    "import rich"
   ]
  },
  {
   "cell_type": "markdown",
   "id": "27a20bd8",
   "metadata": {},
   "source": [
    "The first few lines just load in the `imagenette` dataset, a small 10-class subset of ImageNet."
   ]
  },
  {
   "cell_type": "code",
   "execution_count": 2,
   "id": "0151f05c",
   "metadata": {},
   "outputs": [],
   "source": [
    "IMAGE_COLUMN = \"img\"\n",
    "df = mk.get(\"imagenette\", version=\"160px\")"
   ]
  },
  {
   "cell_type": "code",
   "execution_count": 3,
   "id": "a56c0bac",
   "metadata": {},
   "outputs": [
    {
     "data": {
      "application/vnd.jupyter.widget-view+json": {
       "model_id": "e1a8bc3c09014aa5869e6a63cefb498f",
       "version_major": 2,
       "version_minor": 0
      },
      "text/plain": [
       "Downloading:   0%|          | 0.00/114M [00:00<?, ?B/s]"
      ]
     },
     "metadata": {},
     "output_type": "display_data"
    },
    {
     "name": "stdout",
     "output_type": "stream",
     "text": [
      "Extracting tar archive, this may take a few minutes...\n"
     ]
    }
   ],
   "source": [
    "EMBED_COLUMN = \"img_clip\"\n",
    "\n",
    "# Download the precomupted CLIP embeddings for imagenette.\n",
    "df_clip = mk.DataFrame.read(\n",
    "    \"https://huggingface.co/datasets/meerkat-ml/meerkat-dataframes/resolve/main/embeddings/imagenette_160px.mk.tar.gz\",\n",
    "    overwrite=False,\n",
    ")"
   ]
  },
  {
   "cell_type": "code",
   "execution_count": 4,
   "id": "9f78e8f7",
   "metadata": {
    "tags": [
     "remove-output"
    ]
   },
   "outputs": [
    {
     "name": "stderr",
     "output_type": "stream",
     "text": [
      "/home/runner/work/meerkat/meerkat/meerkat/ops/merge.py:151: FutureWarning: iteritems is deprecated and will be removed in a future version. Use .items instead.\n",
      "  for name, column in merged_df.iteritems():\n"
     ]
    }
   ],
   "source": [
    "df = df.merge(df_clip[[\"img_id\", \"img_clip\"]], on=\"img_id\")"
   ]
  },
  {
   "cell_type": "code",
   "execution_count": 5,
   "id": "f7fad219",
   "metadata": {
    "tags": [
     "remove-input"
    ]
   },
   "outputs": [
    {
     "data": {
      "text/html": [
       "<table border=\"1\" class=\"dataframe\">\n",
       "  <thead>\n",
       "    <tr style=\"text-align: right;\">\n",
       "      <th></th>\n",
       "      <th>img_id</th>\n",
       "      <th>path</th>\n",
       "      <th>noisy_labels_0</th>\n",
       "      <th>noisy_labels_1</th>\n",
       "      <th>noisy_labels_5</th>\n",
       "      <th>noisy_labels_25</th>\n",
       "      <th>noisy_labels_50</th>\n",
       "      <th>is_valid</th>\n",
       "      <th>label_id</th>\n",
       "      <th>label</th>\n",
       "      <th>label_idx</th>\n",
       "      <th>split</th>\n",
       "      <th>img_path</th>\n",
       "      <th>index</th>\n",
       "      <th>img</th>\n",
       "      <th>img_clip</th>\n",
       "    </tr>\n",
       "  </thead>\n",
       "  <tbody>\n",
       "    <tr>\n",
       "      <th>0</th>\n",
       "      <td>n02979186_9036</td>\n",
       "      <td>train/n02979186/n02979186_9036.JPEG</td>\n",
       "      <td>n02979186</td>\n",
       "      <td>n02979186</td>\n",
       "      <td>n02979186</td>\n",
       "      <td>n02979186</td>\n",
       "      <td>n02979186</td>\n",
       "      <td>False</td>\n",
       "      <td>n02979186</td>\n",
       "      <td>cassette player</td>\n",
       "      <td>482</td>\n",
       "      <td>train</td>\n",
       "      <td>train/n02979186/n02979186_9036.JPEG</td>\n",
       "      <td>0</td>\n",
       "      <td><img src=\"data:image/jpeg;base64,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\"></td>\n",
       "      <td>np.ndarray(shape=(512,))</td>\n",
       "    </tr>\n",
       "    <tr>\n",
       "      <th>1</th>\n",
       "      <td>n02979186_11957</td>\n",
       "      <td>train/n02979186/n02979186_11957.JPEG</td>\n",
       "      <td>n02979186</td>\n",
       "      <td>n02979186</td>\n",
       "      <td>n02979186</td>\n",
       "      <td>n02979186</td>\n",
       "      <td>n03000684</td>\n",
       "      <td>False</td>\n",
       "      <td>n02979186</td>\n",
       "      <td>cassette player</td>\n",
       "      <td>482</td>\n",
       "      <td>train</td>\n",
       "      <td>train/n02979186/n02979186_11957.JPEG</td>\n",
       "      <td>1</td>\n",
       "      <td><img src=\"data:image/jpeg;base64,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\"></td>\n",
       "      <td>np.ndarray(shape=(512,))</td>\n",
       "    </tr>\n",
       "    <tr>\n",
       "      <th>2</th>\n",
       "      <td>n02979186_9715</td>\n",
       "      <td>train/n02979186/n02979186_9715.JPEG</td>\n",
       "      <td>n02979186</td>\n",
       "      <td>n02979186</td>\n",
       "      <td>n02979186</td>\n",
       "      <td>n03417042</td>\n",
       "      <td>n03000684</td>\n",
       "      <td>False</td>\n",
       "      <td>n02979186</td>\n",
       "      <td>cassette player</td>\n",
       "      <td>482</td>\n",
       "      <td>train</td>\n",
       "      <td>train/n02979186/n02979186_9715.JPEG</td>\n",
       "      <td>2</td>\n",
       "      <td><img src=\"data:image/jpeg;base64,/9j/4AAQSkZJRgABAQAAAQABAAD/2wBDAAgGBgcGBQgHBwcJCQgKDBQNDAsLDBkSEw8UHRofHh0aHBwgJC4nICIsIxwcKDcpLDAxNDQ0Hyc5PTgyPC4zNDL/2wBDAQkJCQwLDBgNDRgyIRwhMjIyMjIyMjIyMjIyMjIyMjIyMjIyMjIyMjIyMjIyMjIyMjIyMjIyMjIyMjIyMjIyMjL/wAARCADYAKADASIAAhEBAxEB/8QAHwAAAQUBAQEBAQEAAAAAAAAAAAECAwQFBgcICQoL/8QAtRAAAgEDAwIEAwUFBAQAAAF9AQIDAAQRBRIhMUEGE1FhByJxFDKBkaEII0KxwRVS0fAkM2JyggkKFhcYGRolJicoKSo0NTY3ODk6Q0RFRkdISUpTVFVWV1hZWmNkZWZnaGlqc3R1dnd4eXqDhIWGh4iJipKTlJWWl5iZmqKjpKWmp6ipqrKztLW2t7i5usLDxMXGx8jJytLT1NXW19jZ2uHi4+Tl5ufo6erx8vP09fb3+Pn6/8QAHwEAAwEBAQEBAQEBAQAAAAAAAAECAwQFBgcICQoL/8QAtREAAgECBAQDBAcFBAQAAQJ3AAECAxEEBSExBhJBUQdhcRMiMoEIFEKRobHBCSMzUvAVYnLRChYkNOEl8RcYGRomJygpKjU2Nzg5OkNERUZHSElKU1RVVldYWVpjZGVmZ2hpanN0dXZ3eHl6goOEhYaHiImKkpOUlZaXmJmaoqOkpaanqKmqsrO0tba3uLm6wsPExcbHyMnK0tPU1dbX2Nna4uPk5ebn6Onq8vP09fb3+Pn6/9oADAMBAAIRAxEAPwD3qkY4Hb8aXr0o564/SgZFPOsUEkhyUjUsdvtXFn4oaMrtGYLn5TgnArr9RB/sy8+bH7l+3tXzzMLRpG33CK5PTNJgetr8TtEbgJcD8BV218eaPd5KGVedvQV4fNEkaF0kVh9av6U2LVyDyHoQHuH9tGYf6HbSSAdGI4qMatqC5zZ4H0o8HSrN4bt3J+bndx71tNKocptBI6jFMDDOr3gP/HtjNH9s3n3RHGfrmte4uY4bSSfyx8vbFc+17ey5YXAiB6bUBpAWv7YvO8Ao/tu4H3oBWY97c4bGoZK9QEFZI1u4uC3kzXUgBxlYBigDop9duwcqigUsXiYiP9/GxbPVRxXKzapdK+2RrpT/ALUAFVJNUmbq1x/36FVewHeJ4os/4lkH4Uo8U6duwWYfWvOmv5c/8t/xipjajccf61gRkHyhUiuerw6rZXABScfSrAuYWH+sH515H9vu44xJnaCON3FWbLUb2eQI0o3EZGDQxnqwdG43KR6ZpQe/AQV5XJqN9CzAzOhHBzW54R125u777LNJ5iGmB3B689fakZkUfMQPq1YPjLxF/wAIzoE16oBkPyR55+avn6/8aa3qV2Zp72dN38MblRQB9LakQdIvDxjyH6H2r5W1yLdds4BU+oNdFo/xD1bSYpYLid7iGVGX96dxAqB7O31GBZQWVnGeTxSYHNabJL84aQsPeuw0k/6K49WrnrjThYA4kBz6CtjR3JjwemaEB7D4Bu3bSWjB/wBW2PWtbUVZ70mC+aGQj5gE3fSuW+H9x5cV0ueNwNdFf28V86uTIjc/6p9pNMCW+k+z6UsbSmRnOWYjGTWWJf3C887cfjT7uPzbDyYy5eLpvbcaxVvw0bKflkT+E9zSAmeQy2EUPl+XNGD5z/3qm8MyqNNZRgZY9uetZAnkaXB3fXPWrXhwSLbzoykZfP4e1AHn/jKdl8S3iNe3Me1VKqrEjpXN2815NHva8uM5wP3h6V6P4i8FTavqk15HdiEOFXBQnOKx1+Hd1CuBqClc5/1ZoeqKi0nqcYbm5S62veXGP+uhr0bwvOJ9GiLOzsOMtWO3w9uDJ5hvlY+nlmuh0jSX0qy8h5PNOeCoxQiZWvobetNClnbu0QKqMHFZ+m2yNciYNsSP52/mKt6/+60uIllJ4JFc9BqDQwSITsVx1PNAi3f38t3dySRoPK3Hk9K1vB8h/wCEitwdoz2WufEs10ILa3gY7iBwP1rqtPsf7J8Yabbsy+YwycfQ0wKfxqknj0a1Cxk23mDLe9eHCRAAck4719P+OtBPiHwzPbIMzJ+8jX1Ir5fubeW0uGgnQI6MQwNACyzIEbBzxW3pl5KllGCcjsKytH0efxBfm1twAyIzn6AZrVSL7Ooh4+QY4pMaEv7jznAOFq/ovCP7GsyUZNa+iR7lz0ycUIGd14QuRFcSpuwDW3qNzdx3Ec1uC8YyMA1Qt9CvLGFGitywcA5pWmuYMiVSqj1oEWbWa8inMkqlWm+6prN1aELeRXC/K4Pzgd6tfaftDo7zSRlBxsxVXV5B9j2oGJTjf3oAUyHaTxtxkGkhu7u1YoxZN3II44rLa7ZrRimGc9MVWj16+vHSG6B/d8AjpigDoJNQv9rFS8iJjJJ9ajW5v7gfunZm9M1zs+s6hbO8URP2Z+opsl/dLCj28pEi80Abb3F6JSkjuj/Wo5hqUQDzhkRumDWJ9uuJ0fz5B5j9zUP9p38siwzSlkj6E0AbNxZ6nLbmZo3eAdWLDpS6VaQXVjfNN0QDYT2NYEuqahEHhSUtDIeVPSuh0qMp4fnaYhFnIBf6UwKdhr93pcihESUpn5vbtW54OkvNY8YQ3l0SzR/N9BXHSWkUFwy2pJb+9616D8MsLqFyHH7zyh/OgD0w8DI5bHFfJniyMDxNqBkbJEp4r6y9h9418seO7ZbbxdqUc33y4IpAWfhi3/FUysFAP2Ocf+OVBIAJW+tWPhfGX8TzEHAFnN/6DUE2POfnoaBorOcmtnQ8iKUjkq3GaxXbnit3QxmF/rzQgZ7jp9352mwSbiQUGBj0FRahbR3dpJEUG4jg1l+GrgvoNuCfmXIP51ozXOz5urHtQI4JEks75o2J+ViDVkyR7sumdxyea2r+0jug08cY83HIziuG17UptFSKS5h2qz7c7vagDYl03SXO8X91E39xUBFQGw0aPIGpXmDyR5S9a5M+M7Mn7r/981HJ4psJOHEgHstMDrDBo45+33R9QYxUTRaPztubhh6lAK5ZPEGnN0SU/wDATSP4hs0X5beQ/UGgDpSNGC8s5x0Jpgk0VRkWgkJ65YiuVPilGOyG1BPvUM3iOeNtr2ojPvQB2AmsUO6KxQAc4LGkur1rqMR7RFCOVQHvXDyeJbrBKlV44rZ0CafU4pHuJD8uMYWgDWhzvy3B6Cu3+HMn/E7uF/6ZD+dcvY2CsZPNYjCnbniuh+HjbNfI9UxQI9WHPA6jpXzP8VLRh4+vNzABtv8AKvpcnnPtXzr8ZFWPxlI/PzKP5CkM47Q9bn8Nak1xAyszRvHkjjDDBpr300sm4EANz0q94Q8PxeJNTmtZG8srA8g/AZrOuNLmglKI2VU4zQNFpS3BJrpdB/495vrXMQxOmA5rqNCXFvL9aEDO/wDDFyws3TP3WGBUus6vNYSR3UQBVMhlIzWVoEmwSrnHIx9ah17XILKeGCWMyM5IIAzQI1tM1d7+N5mAAY5GBiuX+JRWXR7c4BxKTz9Kt6pq0ek2MEsUZUSnoB0rH8YXLXnhmCUggk55+lAHm5pNxzSmmHp1I+lMDq9L8Oahc2q3EcY2N0Na8fgy/lQ+dsHHABFZ2jeNNRs7BLOGGNwndhmrE/jTX2JZILUY/wBn/wCvQBd0vwDcC8iJdQCfmyM1j/EDT20/VYo2TZlMkD1qVvF3iUuSogXjI2kD+tc9rmrX+s3nm6jJmRRgYNAGaByR7V2Pgtj5dym4k/LxXHhHYH5Wz7Cup8HeZC1zuUr93BIxQI7CYTBlLggjpzXQ+ABnxIoI5CVyU0kkkm4zEge9dr8PId2tzS5ztj/rQB6eefyr59+NsRHiSJ/7yGvoL0HfNeE/HGPbrGnt3eJ+O/WkUc98KRnxDc/9ekv/AKCao3A/0qX/AHjWj8J1/wCKiuSf+fWUY9PlNUrkf6XN/vmgCgw+eui0LH2WXk9e9YDD566LQFIt5xktzxmhAzotNJid3yNuKtSSW00scrwguvfFbXgtdOvQ1pdwI8h5Ga7EeG9Hy3+grx9aYjzG4ltrgFZowwzlQR0rJ8SWp1Wx+yRkRtuyDivZx4e0jbxZximt4a0sj/j0U+9AHzY3gyYH57yH8Aaa3hJU5e9TH0NfR7eHdNXkWiE1mNb22W8rS2wMjJSgDwiLw4sKMEu2G7sgPP6VKnhZp1A2XTD1GK9w+xtsWSO2gC9ww5qNbKTBdhHz/dHSgDxyLwOxIItLo/UitKDwKT832WED/bBr0+az/dblmdfoBVZ4AgAkfcP9rigDiIvBzxr8qxJ/uCrUfhqNP9ZMfpXVv5SfLGQBjsaz5biJSQ0ij6mgDKTR7SLqm73NdH4NVIdX2qMDbWDPfwR/xlh7Vr+CbwXOuNsB2qvJNAHpAwWwevUGvM/jJokN34ei1LH+kQOEB9jXpnbHpWF4xso7/wAK6hHIu7bEzr9QOKQzyj4P6bC1trt6RmVIdqn6g5rlblR9rl4/iOa9O+FlnHD4Hv5guJJA4Y+uM15vdJi7mz/fNAFAp89b2iZ+zOV9ax9ozWjZ3BtbVnHHz4P0oQM37e4ktLhZ4WIdDnrivVtJ8S2N1psU1xPHHIBggtXh8+vxRIXS3L9jzWc/jAg7fsbAemaYj6MPiDS15+2xfgRUEninSFPNwD9K+dj4ukY5FqR+NMPiy6P3bagD6Cm8ZaQp/wBY5wOwrKXxtp0buirIRu7rXhr+JtVkzshUZ/2ar/2rrMjsxIBbr8tOwHtq+NLYbgkBb5j1rOfxy6LJ/o6DLEDLdq8g8zVnOfOYZ9OKatret/rLhzn1aiwHpd14ycxFRPCmf9qsW88aAx7JLnd/u1yC6Yp4eQn6mnf2fbpycGiwGu3i+AHl5W/OoJfFrsCIrVm9yTWf5Vuo4RSfpTSFzwAKQD5db1K4xs/dKew5r0r4L3VwdTvoLiXzGMQYce9eZ4r0f4O5/wCEiuj6QAfrQB7XVXUYfP025i/vxkVapGAK4PQ8Y9aBnFeB7QWvgq6jHeScfkTXkV4uL2cH++a9dgmk8Mfb7C+Urp8m+SCf0Zskj868fuXMt7MynKlzg+tJgQ7eakmbZphJ7v8A0pdnrTb4bdIP/XYfyoQMqW10I9yOgKmmkwyMT5Yqop+fNS1RJJtiz9ynjyl/gqLNGTQBKZkXotJ55xwoFRE0w0wJjcP2phlcjk0zNBNACls8kmmZozRmgBOPSjAozRSGJ616X8HFzrl4f+mI/nXmvrXqHwaT/iZ37f8ATAD9aAPYaKKKQzO1uxh1HR7mC4UOnlnAPY4614DJCsEzxLyEbbn1r6Jux/oU4/6Zt/Kvnq8/4/7j/roaTAhNQajxpB/67D+VWKg1P/kDn/rsP5UIGYan5s1PniqynmrJ+6KpEhzRk0CimAhNNzQTTaAFzSZopDQAZozRSGkAZpc02loGL/SvV/g0P398/wDsf1rygda9c+DSfubxv+A0AerUfQZooGe1IZBeE/Yrk5xiMk/lXztdTB9RucdPMNfRdyhltpFUZZ1K188X1jJa6veRyjBEzY+maTAYOag1QY0f/tsP5VbVKr6rGTo5/wCuw/lQgZzyjmrJHyiqwBBqwc7RVIkTpQTSUE0wEptLmkoAKT8KDTGcA/eFADsmiovPj9c1LSAKKKKBijvXsnwcQDSrqTHPnEZ9sV42Ohr2v4Or/wAU9dN/03P8hQB6PRjPHrRRSGGQPwFeVeP9GNrqa3qL+5lHP1r1Xvx071j+JtOGp6HPEVBZRuSgDxPHQ+pqvqP/ACCsf9NR/KrhUq5VgQV4wexqlq2f7MJHQSj+VShM5sjD1Ix+UUzJyCRxTic1oITvQaUjmmmgAxTcjPNOPHWm5GQaQDZdxQ44Pc1aS00pYVeSV2lxyoPFV+NxJ5z2ppAzt6d+KALT3NmbcxQ2gWTsxFVjQffr2oP15PagA/HFLz6AVdt9KvLnBSE7T3NasHh6OIh7yQZ/uikBgJE8rBY0JNe5fCi1kt/C86yDYWnJ/QVwsNjCkQkiVCBxx1r1HwPGY9DwR/y0Oc/SgZ01FFFAwprfdOeR6U6jGefSgDyPxrpI0zWS8Y/dXA3/AENcxfWj3OjSGNc7XzgfSvXvGelf2lpPmRrmSM7l9q870QbvPV+hbHIpCPOGGHKkEFeMGn44rvtU8LW+oP50R8l8/MQM5/Cs0+Dl6G9cf8AFO4HJEU0iuwHhG2jwZL5sHuUAqVPDujxbfNuI5PXL4p3EcSc+hFKqyMcJuJ9AK7jyfD1p92JN3+y+6tK0ks5wBBGoHvGBQB56mnXkh+SCRs/7NX7fw1fS4LhIl9H4au/Nmigneo+gpMQR4J+Y/WlcDloPCsCcySO5/wBkZqzNaWeiweaYcHsAM1vm7C/6uP8ASqV9byahEqOnHpii4HNvrF3N/qYgino3elgtrq8mDTSE+1b6aGw24VeB3OKvW+myI67VDN6CgLEVna+TCAykA16T4WTy9Iwe7ZrnrfSr2+iVPK2IPUV2Gl2ZsbIRMeRQOxcooooGFHUiiigBrIHR1YZQ8YrzW900adrdzEq4hZspXplYfiDSvtcf2iMZcdqTA49FyQTxjjiqs8WJuCTV8IQ2G+Ujgih4txzikI4rxFDcGWERsyoT2NVIdFd/vlj9a7HUNPM6Ruq5w3f/AAq/bWFtEFklcuSPuAYqgORt/DyFvu4PoBmum0nR4kTEy7AO5OP0rTyxGLW2VF9SuWqeLR724XdsYj1Y0BYwbmzzcsqMStItkoHzcmurh8MysQZH2juK07bQLKHBYbz70BY4mO0J4SIt9BmtC10S8uRxHtH+0MV28drBD9yBV9xUuKQWOdtfC8Qw1w24/wB0GtaDSrO2I2QjPqeauYxRTGAAH3eB9KOh45oooAKKKKACiiigAo/r1oooAzLzRLa6JdV2uayx4dnD4EibaKKVgLkXhyFcmU846iraaNaLtym/H96iimBbit4YeY4lU+oFS8+pz60UUAHToT+NGfQAUUUAH4miiigAooooAKKKKAP/2Q==\"></td>\n",
       "      <td>np.ndarray(shape=(512,))</td>\n",
       "    </tr>\n",
       "    <tr>\n",
       "      <th>3</th>\n",
       "      <td>n02979186_21736</td>\n",
       "      <td>train/n02979186/n02979186_21736.JPEG</td>\n",
       "      <td>n02979186</td>\n",
       "      <td>n02979186</td>\n",
       "      <td>n02979186</td>\n",
       "      <td>n02979186</td>\n",
       "      <td>n03417042</td>\n",
       "      <td>False</td>\n",
       "      <td>n02979186</td>\n",
       "      <td>cassette player</td>\n",
       "      <td>482</td>\n",
       "      <td>train</td>\n",
       "      <td>train/n02979186/n02979186_21736.JPEG</td>\n",
       "      <td>3</td>\n",
       "      <td><img src=\"data:image/jpeg;base64,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\"></td>\n",
       "      <td>np.ndarray(shape=(512,))</td>\n",
       "    </tr>\n",
       "    <tr>\n",
       "      <th>4</th>\n",
       "      <td>ILSVRC2012_val_00046953</td>\n",
       "      <td>train/n02979186/ILSVRC2012_val_00046953.JPEG</td>\n",
       "      <td>n02979186</td>\n",
       "      <td>n02979186</td>\n",
       "      <td>n02979186</td>\n",
       "      <td>n02979186</td>\n",
       "      <td>n03394916</td>\n",
       "      <td>False</td>\n",
       "      <td>n02979186</td>\n",
       "      <td>cassette player</td>\n",
       "      <td>482</td>\n",
       "      <td>train</td>\n",
       "      <td>train/n02979186/ILSVRC2012_val_00046953.JPEG</td>\n",
       "      <td>4</td>\n",
       "      <td><img src=\"data:image/jpeg;base64,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\"></td>\n",
       "      <td>np.ndarray(shape=(512,))</td>\n",
       "    </tr>\n",
       "  </tbody>\n",
       "</table>"
      ],
      "text/plain": [
       "<IPython.core.display.HTML object>"
      ]
     },
     "metadata": {},
     "output_type": "display_data"
    }
   ],
   "source": [
    "df.head()"
   ]
  },
  {
   "cell_type": "markdown",
   "id": "54dca8d9",
   "metadata": {},
   "source": [
    "## Creating the `Match` component\n",
    "Now that we have a data frame with the dataset and CLIP image embeddings, we want to be able to run a search over the dataset. To do this, we'll use the `Match` component, which allows us to match a query to the dataset."
   ]
  },
  {
   "cell_type": "code",
   "execution_count": 6,
   "id": "5060f817",
   "metadata": {},
   "outputs": [],
   "source": [
    "match = mk.gui.Match(df, against=EMBED_COLUMN)"
   ]
  },
  {
   "cell_type": "markdown",
   "id": "a203851b",
   "metadata": {},
   "source": [
    "Here, `against` is the column in the data frame that we want to match against. In this case, we want to match against the CLIP embeddings.\n",
    "\n",
    "`Match` is a complex component that does a few things:\n",
    "- as a component, it visualizes a search bar where users can type in a query\n",
    "- it provides an endpoint attribute, `on_match`, which can be used to run an endpoint when the user types in a query\n",
    "- by default, `Match` assigns `on_match` to an endpoint that adds a column to the data frame with the match scores\n",
    "\n",
    "## Getting the match criteria\n",
    "\n",
    "When a match query is run, it generates a new column in the data frame with the match scores. The name of this column is stored in the `criterion` attribute of the `Match` component. We can use this to get the name of the match criterion.\n",
    "\n",
    "Let's use a `magic` context manager to get the name of the match criterion. Using `magic` makes the `match.criterion` Store property accessors reactive, so accessing its `name` attribute will cause this property access to re-run when the criterion is updated."
   ]
  },
  {
   "cell_type": "code",
   "execution_count": 7,
   "id": "16c520c5",
   "metadata": {},
   "outputs": [],
   "source": [
    "# Get the name of the match criterion in a reactive way.\n",
    "with mk.magic():\n",
    "    criterion_name = match.criterion.name"
   ]
  },
  {
   "cell_type": "markdown",
   "id": "d7682665",
   "metadata": {},
   "source": [
    "Now, when a new match query is run, `criterion_name` will be updated to the name of the new match criterion.\n",
    "\n",
    "## Sorting by match scores\n",
    "Now that we have the name of the match criterion, we'll use it to sort the data frame by the match scores. We'll use the `mk.sort` function to do this.\n",
    "\n",
    "We also want sorting to be reactive, so that when a new match query is run, the data frame is sorted by the new match scores. Fortunately, `mk.sort` is a reactive function.\n",
    "\n",
    "However, before we run `sort`, we need to _mark_ the data frame `df`. Any reactive functions that take `df` as an argument when it is marked will re-run when it is updated."
   ]
  },
  {
   "cell_type": "code",
   "execution_count": 8,
   "id": "5011d547",
   "metadata": {},
   "outputs": [],
   "source": [
    "df.mark()\n",
    "df_sorted = mk.sort(data=df, by=criterion_name, ascending=False)"
   ]
  },
  {
   "cell_type": "markdown",
   "id": "9714fee2",
   "metadata": {},
   "source": [
    "With this, we now ensure that when `df` is updated with the new match scores from the user's query, `df_sorted` will be re-sorted by the column with the new match scores.\n",
    "\n",
    "## Visualizing results in a `Gallery`\n",
    "Now that we have a sorted data frame, we can visualize the results. Let's use a `Gallery` component to visualize the data frame, and show the images by default."
   ]
  },
  {
   "cell_type": "code",
   "execution_count": 9,
   "id": "c7fde94d",
   "metadata": {},
   "outputs": [],
   "source": [
    "gallery = mk.gui.Gallery(df_sorted, main_column=IMAGE_COLUMN)"
   ]
  },
  {
   "cell_type": "markdown",
   "id": "89e4c5be",
   "metadata": {},
   "source": [
    "## Putting it all together\n",
    "With all the pieces, let's put them together into a `Page` and launch the app.\n",
    "```python\n",
    "page = mk.gui.Page(\n",
    "    component=mk.gui.html.flexcol([match, gallery]),\n",
    "    id=\"match\",\n",
    ")\n",
    "page.launch()\n",
    "```"
   ]
  }
 ],
 "metadata": {
  "file_format": "mystnb",
  "kernelspec": {
   "display_name": "python3",
   "name": "python3"
  },
  "language_info": {
   "codemirror_mode": {
    "name": "ipython",
    "version": 3
   },
   "file_extension": ".py",
   "mimetype": "text/x-python",
   "name": "python",
   "nbconvert_exporter": "python",
   "pygments_lexer": "ipython3",
   "version": "3.8.16"
  },
  "source_map": [
   5,
   31,
   35,
   39,
   44,
   54,
   59,
   62,
   68,
   70,
   83,
   87,
   97,
   100,
   107,
   109
  ],
  "widgets": {
   "application/vnd.jupyter.widget-state+json": {
    "state": {
     "04265af7dc084eab99f468da141a3b87": {
      "model_module": "@jupyter-widgets/base",
      "model_module_version": "2.0.0",
      "model_name": "LayoutModel",
      "state": {
       "_model_module": "@jupyter-widgets/base",
       "_model_module_version": "2.0.0",
       "_model_name": "LayoutModel",
       "_view_count": null,
       "_view_module": "@jupyter-widgets/base",
       "_view_module_version": "2.0.0",
       "_view_name": "LayoutView",
       "align_content": null,
       "align_items": null,
       "align_self": null,
       "border_bottom": null,
       "border_left": null,
       "border_right": null,
       "border_top": null,
       "bottom": null,
       "display": null,
       "flex": null,
       "flex_flow": null,
       "grid_area": null,
       "grid_auto_columns": null,
       "grid_auto_flow": null,
       "grid_auto_rows": null,
       "grid_column": null,
       "grid_gap": null,
       "grid_row": null,
       "grid_template_areas": null,
       "grid_template_columns": null,
       "grid_template_rows": null,
       "height": null,
       "justify_content": null,
       "justify_items": null,
       "left": null,
       "margin": null,
       "max_height": null,
       "max_width": null,
       "min_height": null,
       "min_width": null,
       "object_fit": null,
       "object_position": null,
       "order": null,
       "overflow": null,
       "padding": null,
       "right": null,
       "top": null,
       "visibility": null,
       "width": null
      }
     },
     "298c4b46dbac4bf990d03393dd151f08": {
      "model_module": "@jupyter-widgets/base",
      "model_module_version": "2.0.0",
      "model_name": "LayoutModel",
      "state": {
       "_model_module": "@jupyter-widgets/base",
       "_model_module_version": "2.0.0",
       "_model_name": "LayoutModel",
       "_view_count": null,
       "_view_module": "@jupyter-widgets/base",
       "_view_module_version": "2.0.0",
       "_view_name": "LayoutView",
       "align_content": null,
       "align_items": null,
       "align_self": null,
       "border_bottom": null,
       "border_left": null,
       "border_right": null,
       "border_top": null,
       "bottom": null,
       "display": null,
       "flex": null,
       "flex_flow": null,
       "grid_area": null,
       "grid_auto_columns": null,
       "grid_auto_flow": null,
       "grid_auto_rows": null,
       "grid_column": null,
       "grid_gap": null,
       "grid_row": null,
       "grid_template_areas": null,
       "grid_template_columns": null,
       "grid_template_rows": null,
       "height": null,
       "justify_content": null,
       "justify_items": null,
       "left": null,
       "margin": null,
       "max_height": null,
       "max_width": null,
       "min_height": null,
       "min_width": null,
       "object_fit": null,
       "object_position": null,
       "order": null,
       "overflow": null,
       "padding": null,
       "right": null,
       "top": null,
       "visibility": null,
       "width": null
      }
     },
     "3338384251a34d1da54595156eaac663": {
      "model_module": "@jupyter-widgets/base",
      "model_module_version": "2.0.0",
      "model_name": "LayoutModel",
      "state": {
       "_model_module": "@jupyter-widgets/base",
       "_model_module_version": "2.0.0",
       "_model_name": "LayoutModel",
       "_view_count": null,
       "_view_module": "@jupyter-widgets/base",
       "_view_module_version": "2.0.0",
       "_view_name": "LayoutView",
       "align_content": null,
       "align_items": null,
       "align_self": null,
       "border_bottom": null,
       "border_left": null,
       "border_right": null,
       "border_top": null,
       "bottom": null,
       "display": null,
       "flex": null,
       "flex_flow": null,
       "grid_area": null,
       "grid_auto_columns": null,
       "grid_auto_flow": null,
       "grid_auto_rows": null,
       "grid_column": null,
       "grid_gap": null,
       "grid_row": null,
       "grid_template_areas": null,
       "grid_template_columns": null,
       "grid_template_rows": null,
       "height": null,
       "justify_content": null,
       "justify_items": null,
       "left": null,
       "margin": null,
       "max_height": null,
       "max_width": null,
       "min_height": null,
       "min_width": null,
       "object_fit": null,
       "object_position": null,
       "order": null,
       "overflow": null,
       "padding": null,
       "right": null,
       "top": null,
       "visibility": null,
       "width": null
      }
     },
     "3f73e8f954cd4994b8c03c9be58fd0d1": {
      "model_module": "@jupyter-widgets/controls",
      "model_module_version": "2.0.0",
      "model_name": "ProgressStyleModel",
      "state": {
       "_model_module": "@jupyter-widgets/controls",
       "_model_module_version": "2.0.0",
       "_model_name": "ProgressStyleModel",
       "_view_count": null,
       "_view_module": "@jupyter-widgets/base",
       "_view_module_version": "2.0.0",
       "_view_name": "StyleView",
       "bar_color": null,
       "description_width": ""
      }
     },
     "42c37b774f604920bf4b56051b5699c7": {
      "model_module": "@jupyter-widgets/base",
      "model_module_version": "2.0.0",
      "model_name": "LayoutModel",
      "state": {
       "_model_module": "@jupyter-widgets/base",
       "_model_module_version": "2.0.0",
       "_model_name": "LayoutModel",
       "_view_count": null,
       "_view_module": "@jupyter-widgets/base",
       "_view_module_version": "2.0.0",
       "_view_name": "LayoutView",
       "align_content": null,
       "align_items": null,
       "align_self": null,
       "border_bottom": null,
       "border_left": null,
       "border_right": null,
       "border_top": null,
       "bottom": null,
       "display": null,
       "flex": null,
       "flex_flow": null,
       "grid_area": null,
       "grid_auto_columns": null,
       "grid_auto_flow": null,
       "grid_auto_rows": null,
       "grid_column": null,
       "grid_gap": null,
       "grid_row": null,
       "grid_template_areas": null,
       "grid_template_columns": null,
       "grid_template_rows": null,
       "height": null,
       "justify_content": null,
       "justify_items": null,
       "left": null,
       "margin": null,
       "max_height": null,
       "max_width": null,
       "min_height": null,
       "min_width": null,
       "object_fit": null,
       "object_position": null,
       "order": null,
       "overflow": null,
       "padding": null,
       "right": null,
       "top": null,
       "visibility": null,
       "width": null
      }
     },
     "70e8f830e06b41538a1c68a035771516": {
      "model_module": "@jupyter-widgets/controls",
      "model_module_version": "2.0.0",
      "model_name": "HTMLModel",
      "state": {
       "_dom_classes": [],
       "_model_module": "@jupyter-widgets/controls",
       "_model_module_version": "2.0.0",
       "_model_name": "HTMLModel",
       "_view_count": null,
       "_view_module": "@jupyter-widgets/controls",
       "_view_module_version": "2.0.0",
       "_view_name": "HTMLView",
       "description": "",
       "description_allow_html": false,
       "layout": "IPY_MODEL_3338384251a34d1da54595156eaac663",
       "placeholder": "​",
       "style": "IPY_MODEL_efc6732f974247a5a7821b13fc00f93e",
       "tabbable": null,
       "tooltip": null,
       "value": "Downloading: 100%"
      }
     },
     "8ddba0ab35344bb1b78d27a58cff97e3": {
      "model_module": "@jupyter-widgets/controls",
      "model_module_version": "2.0.0",
      "model_name": "HTMLModel",
      "state": {
       "_dom_classes": [],
       "_model_module": "@jupyter-widgets/controls",
       "_model_module_version": "2.0.0",
       "_model_name": "HTMLModel",
       "_view_count": null,
       "_view_module": "@jupyter-widgets/controls",
       "_view_module_version": "2.0.0",
       "_view_name": "HTMLView",
       "description": "",
       "description_allow_html": false,
       "layout": "IPY_MODEL_04265af7dc084eab99f468da141a3b87",
       "placeholder": "​",
       "style": "IPY_MODEL_e9bd9326f671492cbdf42140940a6754",
       "tabbable": null,
       "tooltip": null,
       "value": " 114M/114M [00:01&lt;00:00, 77.8MB/s]"
      }
     },
     "e1a8bc3c09014aa5869e6a63cefb498f": {
      "model_module": "@jupyter-widgets/controls",
      "model_module_version": "2.0.0",
      "model_name": "HBoxModel",
      "state": {
       "_dom_classes": [],
       "_model_module": "@jupyter-widgets/controls",
       "_model_module_version": "2.0.0",
       "_model_name": "HBoxModel",
       "_view_count": null,
       "_view_module": "@jupyter-widgets/controls",
       "_view_module_version": "2.0.0",
       "_view_name": "HBoxView",
       "box_style": "",
       "children": [
        "IPY_MODEL_70e8f830e06b41538a1c68a035771516",
        "IPY_MODEL_fbc1dc20aed4499d9979de1851846895",
        "IPY_MODEL_8ddba0ab35344bb1b78d27a58cff97e3"
       ],
       "layout": "IPY_MODEL_298c4b46dbac4bf990d03393dd151f08",
       "tabbable": null,
       "tooltip": null
      }
     },
     "e9bd9326f671492cbdf42140940a6754": {
      "model_module": "@jupyter-widgets/controls",
      "model_module_version": "2.0.0",
      "model_name": "HTMLStyleModel",
      "state": {
       "_model_module": "@jupyter-widgets/controls",
       "_model_module_version": "2.0.0",
       "_model_name": "HTMLStyleModel",
       "_view_count": null,
       "_view_module": "@jupyter-widgets/base",
       "_view_module_version": "2.0.0",
       "_view_name": "StyleView",
       "background": null,
       "description_width": "",
       "font_size": null,
       "text_color": null
      }
     },
     "efc6732f974247a5a7821b13fc00f93e": {
      "model_module": "@jupyter-widgets/controls",
      "model_module_version": "2.0.0",
      "model_name": "HTMLStyleModel",
      "state": {
       "_model_module": "@jupyter-widgets/controls",
       "_model_module_version": "2.0.0",
       "_model_name": "HTMLStyleModel",
       "_view_count": null,
       "_view_module": "@jupyter-widgets/base",
       "_view_module_version": "2.0.0",
       "_view_name": "StyleView",
       "background": null,
       "description_width": "",
       "font_size": null,
       "text_color": null
      }
     },
     "fbc1dc20aed4499d9979de1851846895": {
      "model_module": "@jupyter-widgets/controls",
      "model_module_version": "2.0.0",
      "model_name": "FloatProgressModel",
      "state": {
       "_dom_classes": [],
       "_model_module": "@jupyter-widgets/controls",
       "_model_module_version": "2.0.0",
       "_model_name": "FloatProgressModel",
       "_view_count": null,
       "_view_module": "@jupyter-widgets/controls",
       "_view_module_version": "2.0.0",
       "_view_name": "ProgressView",
       "bar_style": "success",
       "description": "",
       "description_allow_html": false,
       "layout": "IPY_MODEL_42c37b774f604920bf4b56051b5699c7",
       "max": 114352332.0,
       "min": 0.0,
       "orientation": "horizontal",
       "style": "IPY_MODEL_3f73e8f954cd4994b8c03c9be58fd0d1",
       "tabbable": null,
       "tooltip": null,
       "value": 114352332.0
      }
     }
    },
    "version_major": 2,
    "version_minor": 0
   }
  }
 },
 "nbformat": 4,
 "nbformat_minor": 5
}