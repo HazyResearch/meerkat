{
 "cells": [
  {
   "cell_type": "markdown",
   "id": "7b4a63fc",
   "metadata": {},
   "source": [
    "# Tutorial 6: Complex Components (Embedding Based Search Engine)\n",
    "\n",
    "In this tutorial, we'll show you how you can build a simple search engine over a dataset, using the CLIP model to drive the search. Users will be able to type in a query to search over images, and will see the dataset images ranked by their similarity to the query.\n",
    "\n",
    "\n",
    "To get started, run the tutorial demo script.\n",
    "\n",
    "```{code-block} bash\n",
    "mk demo match\n",
    "```\n",
    "\n",
    "You should see the tutorial app when you open the link in your browser. Let's break down the code in the demo script.\n",
    "\n",
    "## Installing dependencies\n",
    "This tutorial has additional dependencies that you need to install. Run the following command to install them.\n",
    "\n",
    "```{code-block} bash\n",
    "pip install ftfy regex git+https://github.com/openai/CLIP.git\n",
    "```\n",
    "\n",
    "Once you run the script, it will download the CLIP model and cache it in your home directory. This will take a few minutes.\n",
    "\n",
    "## Loading in the dataset"
   ]
  },
  {
   "cell_type": "code",
   "execution_count": 1,
   "id": "0b35012e",
   "metadata": {
    "tags": [
     "remove-cell"
    ]
   },
   "outputs": [],
   "source": [
    "import meerkat as mk\n",
    "import rich"
   ]
  },
  {
   "cell_type": "markdown",
   "id": "f9bc2ee8",
   "metadata": {},
   "source": [
    "The first few lines just load in the `imagenette` dataset, a small 10-class subset of ImageNet."
   ]
  },
  {
   "cell_type": "code",
   "execution_count": 2,
   "id": "77b013a0",
   "metadata": {},
   "outputs": [],
   "source": [
    "IMAGE_COLUMN = \"img\"\n",
    "df = mk.get(\"imagenette\", version=\"160px\")"
   ]
  },
  {
   "cell_type": "code",
   "execution_count": 3,
   "id": "8a0b5bbe",
   "metadata": {},
   "outputs": [
    {
     "data": {
      "application/vnd.jupyter.widget-view+json": {
       "model_id": "b113388d4e6246f6b7db8234a5393bae",
       "version_major": 2,
       "version_minor": 0
      },
      "text/plain": [
       "Downloading:   0%|          | 0.00/114M [00:00<?, ?B/s]"
      ]
     },
     "metadata": {},
     "output_type": "display_data"
    },
    {
     "name": "stdout",
     "output_type": "stream",
     "text": [
      "Extracting tar archive, this may take a few minutes...\n"
     ]
    }
   ],
   "source": [
    "EMBED_COLUMN = \"img_clip\"\n",
    "\n",
    "# Download the precomupted CLIP embeddings for imagenette.\n",
    "df_clip = mk.DataFrame.read(\n",
    "    \"https://huggingface.co/datasets/meerkat-ml/meerkat-dataframes/resolve/main/embeddings/imagenette_160px.mk.tar.gz\",\n",
    "    overwrite=False,\n",
    ")"
   ]
  },
  {
   "cell_type": "code",
   "execution_count": 4,
   "id": "b8f0e3af",
   "metadata": {
    "tags": [
     "remove-output"
    ]
   },
   "outputs": [
    {
     "name": "stderr",
     "output_type": "stream",
     "text": [
      "/home/runner/work/meerkat/meerkat/meerkat/ops/merge.py:151: FutureWarning: iteritems is deprecated and will be removed in a future version. Use .items instead.\n",
      "  for name, column in merged_df.iteritems():\n"
     ]
    }
   ],
   "source": [
    "df = df.merge(df_clip[[\"img_id\", \"img_clip\"]], on=\"img_id\")"
   ]
  },
  {
   "cell_type": "code",
   "execution_count": 5,
   "id": "c4fd9a09",
   "metadata": {
    "tags": [
     "remove-input"
    ]
   },
   "outputs": [
    {
     "data": {
      "text/html": [
       "<pre style=\"white-space:pre;overflow-x:auto;line-height:normal;font-family:Menlo,'DejaVu Sans Mono',consolas,'Courier New',monospace\">Frontend is not initialized. Running `<span style=\"color: #800080; text-decoration-color: #800080; font-weight: bold\">mk.gui.start</span><span style=\"font-weight: bold\">()</span>`.\n",
       "</pre>\n"
      ],
      "text/plain": [
       "Frontend is not initialized. Running `\u001b[1;35mmk.gui.start\u001b[0m\u001b[1m(\u001b[0m\u001b[1m)\u001b[0m`.\n"
      ]
     },
     "metadata": {},
     "output_type": "display_data"
    },
    {
     "data": {
      "text/html": [
       "\n",
       "        <iframe\n",
       "            width=\"100%\"\n",
       "            height=\"450px\"\n",
       "            src=\"http://localhost:8000/?id=Tablea1fba97f-8bb2-418d-914c-273bbd64bd62\"\n",
       "            frameborder=\"0\"\n",
       "            allowfullscreen\n",
       "            \n",
       "        ></iframe>\n",
       "        "
      ],
      "text/plain": [
       "<IPython.lib.display.IFrame at 0x7fc599fec1f0>"
      ]
     },
     "metadata": {},
     "output_type": "display_data"
    }
   ],
   "source": [
    "df.head()"
   ]
  },
  {
   "cell_type": "markdown",
   "id": "8725d19f",
   "metadata": {},
   "source": [
    "## Creating the `Match` component\n",
    "Now that we have a data frame with the dataset and CLIP image embeddings, we want to be able to run a search over the dataset. To do this, we'll use the `Match` component, which allows us to match a query to the dataset."
   ]
  },
  {
   "cell_type": "code",
   "execution_count": 6,
   "id": "95582ef1",
   "metadata": {},
   "outputs": [],
   "source": [
    "match = mk.gui.Match(df, against=EMBED_COLUMN)"
   ]
  },
  {
   "cell_type": "markdown",
   "id": "5746bfa1",
   "metadata": {},
   "source": [
    "Here, `against` is the column in the data frame that we want to match against. In this case, we want to match against the CLIP embeddings.\n",
    "\n",
    "`Match` is a complex component that does a few things:\n",
    "- as a component, it visualizes a search bar where users can type in a query\n",
    "- it provides an endpoint attribute, `on_match`, which can be used to run an endpoint when the user types in a query\n",
    "- by default, `Match` assigns `on_match` to an endpoint that adds a column to the data frame with the match scores\n",
    "\n",
    "## Getting the match criteria\n",
    "\n",
    "When a match query is run, it generates a new column in the data frame with the match scores. The name of this column is stored in the `criterion` attribute of the `Match` component. We can use this to get the name of the match criterion.\n",
    "\n",
    "Let's use a `magic` context manager to get the name of the match criterion. Using `magic` makes the `match.criterion` Store property accessors reactive, so accessing its `name` attribute will cause this property access to re-run when the criterion is updated."
   ]
  },
  {
   "cell_type": "code",
   "execution_count": 7,
   "id": "e9f0d9ba",
   "metadata": {},
   "outputs": [],
   "source": [
    "# Get the name of the match criterion in a reactive way.\n",
    "with mk.magic():\n",
    "    criterion_name = match.criterion.name"
   ]
  },
  {
   "cell_type": "markdown",
   "id": "33498ed4",
   "metadata": {},
   "source": [
    "Now, when a new match query is run, `criterion_name` will be updated to the name of the new match criterion.\n",
    "\n",
    "## Sorting by match scores\n",
    "Now that we have the name of the match criterion, we'll use it to sort the data frame by the match scores. We'll use the `mk.sort` function to do this.\n",
    "\n",
    "We also want sorting to be reactive, so that when a new match query is run, the data frame is sorted by the new match scores. Fortunately, `mk.sort` is a reactive function.\n",
    "\n",
    "However, before we run `sort`, we need to _mark_ the data frame `df`. Any reactive functions that take `df` as an argument when it is marked will re-run when it is updated."
   ]
  },
  {
   "cell_type": "code",
   "execution_count": 8,
   "id": "dc7adc4a",
   "metadata": {},
   "outputs": [],
   "source": [
    "df.mark()\n",
    "df_sorted = mk.sort(data=df, by=criterion_name, ascending=False)"
   ]
  },
  {
   "cell_type": "markdown",
   "id": "162cc764",
   "metadata": {},
   "source": [
    "With this, we now ensure that when `df` is updated with the new match scores from the user's query, `df_sorted` will be re-sorted by the column with the new match scores.\n",
    "\n",
    "## Visualizing results in a `Gallery`\n",
    "Now that we have a sorted data frame, we can visualize the results. Let's use a `Gallery` component to visualize the data frame, and show the images by default."
   ]
  },
  {
   "cell_type": "code",
   "execution_count": 9,
   "id": "ee7fe14d",
   "metadata": {},
   "outputs": [],
   "source": [
    "gallery = mk.gui.Gallery(df_sorted, main_column=IMAGE_COLUMN)"
   ]
  },
  {
   "cell_type": "markdown",
   "id": "76afe38d",
   "metadata": {},
   "source": [
    "## Putting it all together\n",
    "With all the pieces, let's put them together into a `Page` and launch the app.\n",
    "```python\n",
    "page = mk.gui.Page(\n",
    "    component=mk.gui.html.flexcol([match, gallery]),\n",
    "    id=\"match\",\n",
    ")\n",
    "page.launch()\n",
    "```"
   ]
  }
 ],
 "metadata": {
  "file_format": "mystnb",
  "kernelspec": {
   "display_name": "python3",
   "name": "python3"
  },
  "language_info": {
   "codemirror_mode": {
    "name": "ipython",
    "version": 3
   },
   "file_extension": ".py",
   "mimetype": "text/x-python",
   "name": "python",
   "nbconvert_exporter": "python",
   "pygments_lexer": "ipython3",
   "version": "3.8.16"
  },
  "source_map": [
   5,
   31,
   35,
   39,
   44,
   54,
   59,
   62,
   68,
   70,
   83,
   87,
   97,
   100,
   107,
   109
  ],
  "widgets": {
   "application/vnd.jupyter.widget-state+json": {
    "state": {
     "152136470f30445691aca0d8325ebb16": {
      "model_module": "@jupyter-widgets/base",
      "model_module_version": "2.0.0",
      "model_name": "LayoutModel",
      "state": {
       "_model_module": "@jupyter-widgets/base",
       "_model_module_version": "2.0.0",
       "_model_name": "LayoutModel",
       "_view_count": null,
       "_view_module": "@jupyter-widgets/base",
       "_view_module_version": "2.0.0",
       "_view_name": "LayoutView",
       "align_content": null,
       "align_items": null,
       "align_self": null,
       "border_bottom": null,
       "border_left": null,
       "border_right": null,
       "border_top": null,
       "bottom": null,
       "display": null,
       "flex": null,
       "flex_flow": null,
       "grid_area": null,
       "grid_auto_columns": null,
       "grid_auto_flow": null,
       "grid_auto_rows": null,
       "grid_column": null,
       "grid_gap": null,
       "grid_row": null,
       "grid_template_areas": null,
       "grid_template_columns": null,
       "grid_template_rows": null,
       "height": null,
       "justify_content": null,
       "justify_items": null,
       "left": null,
       "margin": null,
       "max_height": null,
       "max_width": null,
       "min_height": null,
       "min_width": null,
       "object_fit": null,
       "object_position": null,
       "order": null,
       "overflow": null,
       "padding": null,
       "right": null,
       "top": null,
       "visibility": null,
       "width": null
      }
     },
     "4c3229b68b084ecf942b73fd51d456bb": {
      "model_module": "@jupyter-widgets/controls",
      "model_module_version": "2.0.0",
      "model_name": "ProgressStyleModel",
      "state": {
       "_model_module": "@jupyter-widgets/controls",
       "_model_module_version": "2.0.0",
       "_model_name": "ProgressStyleModel",
       "_view_count": null,
       "_view_module": "@jupyter-widgets/base",
       "_view_module_version": "2.0.0",
       "_view_name": "StyleView",
       "bar_color": null,
       "description_width": ""
      }
     },
     "6d44408da0254bf4bd2e9556a60f6ae9": {
      "model_module": "@jupyter-widgets/controls",
      "model_module_version": "2.0.0",
      "model_name": "HTMLModel",
      "state": {
       "_dom_classes": [],
       "_model_module": "@jupyter-widgets/controls",
       "_model_module_version": "2.0.0",
       "_model_name": "HTMLModel",
       "_view_count": null,
       "_view_module": "@jupyter-widgets/controls",
       "_view_module_version": "2.0.0",
       "_view_name": "HTMLView",
       "description": "",
       "description_allow_html": false,
       "layout": "IPY_MODEL_152136470f30445691aca0d8325ebb16",
       "placeholder": "​",
       "style": "IPY_MODEL_ef87e2ceb4d24bb1aade20227b5486b7",
       "tabbable": null,
       "tooltip": null,
       "value": "Downloading: 100%"
      }
     },
     "72615b7edf2b47ae83b62ab6dd028d4d": {
      "model_module": "@jupyter-widgets/controls",
      "model_module_version": "2.0.0",
      "model_name": "HTMLStyleModel",
      "state": {
       "_model_module": "@jupyter-widgets/controls",
       "_model_module_version": "2.0.0",
       "_model_name": "HTMLStyleModel",
       "_view_count": null,
       "_view_module": "@jupyter-widgets/base",
       "_view_module_version": "2.0.0",
       "_view_name": "StyleView",
       "background": null,
       "description_width": "",
       "font_size": null,
       "text_color": null
      }
     },
     "739636eee4a44f5ebcaa264f76c77f9a": {
      "model_module": "@jupyter-widgets/controls",
      "model_module_version": "2.0.0",
      "model_name": "HTMLModel",
      "state": {
       "_dom_classes": [],
       "_model_module": "@jupyter-widgets/controls",
       "_model_module_version": "2.0.0",
       "_model_name": "HTMLModel",
       "_view_count": null,
       "_view_module": "@jupyter-widgets/controls",
       "_view_module_version": "2.0.0",
       "_view_name": "HTMLView",
       "description": "",
       "description_allow_html": false,
       "layout": "IPY_MODEL_cc8f4a436728439fa894881dd5759b8f",
       "placeholder": "​",
       "style": "IPY_MODEL_72615b7edf2b47ae83b62ab6dd028d4d",
       "tabbable": null,
       "tooltip": null,
       "value": " 114M/114M [00:01&lt;00:00, 78.4MB/s]"
      }
     },
     "800f99a10f1d4a95acc47b666f9a65d9": {
      "model_module": "@jupyter-widgets/controls",
      "model_module_version": "2.0.0",
      "model_name": "FloatProgressModel",
      "state": {
       "_dom_classes": [],
       "_model_module": "@jupyter-widgets/controls",
       "_model_module_version": "2.0.0",
       "_model_name": "FloatProgressModel",
       "_view_count": null,
       "_view_module": "@jupyter-widgets/controls",
       "_view_module_version": "2.0.0",
       "_view_name": "ProgressView",
       "bar_style": "success",
       "description": "",
       "description_allow_html": false,
       "layout": "IPY_MODEL_cccb68deddb84cb1add42d90e71299bd",
       "max": 114352332.0,
       "min": 0.0,
       "orientation": "horizontal",
       "style": "IPY_MODEL_4c3229b68b084ecf942b73fd51d456bb",
       "tabbable": null,
       "tooltip": null,
       "value": 114352332.0
      }
     },
     "a528f5414e5149aabd35901a05ecc4ca": {
      "model_module": "@jupyter-widgets/base",
      "model_module_version": "2.0.0",
      "model_name": "LayoutModel",
      "state": {
       "_model_module": "@jupyter-widgets/base",
       "_model_module_version": "2.0.0",
       "_model_name": "LayoutModel",
       "_view_count": null,
       "_view_module": "@jupyter-widgets/base",
       "_view_module_version": "2.0.0",
       "_view_name": "LayoutView",
       "align_content": null,
       "align_items": null,
       "align_self": null,
       "border_bottom": null,
       "border_left": null,
       "border_right": null,
       "border_top": null,
       "bottom": null,
       "display": null,
       "flex": null,
       "flex_flow": null,
       "grid_area": null,
       "grid_auto_columns": null,
       "grid_auto_flow": null,
       "grid_auto_rows": null,
       "grid_column": null,
       "grid_gap": null,
       "grid_row": null,
       "grid_template_areas": null,
       "grid_template_columns": null,
       "grid_template_rows": null,
       "height": null,
       "justify_content": null,
       "justify_items": null,
       "left": null,
       "margin": null,
       "max_height": null,
       "max_width": null,
       "min_height": null,
       "min_width": null,
       "object_fit": null,
       "object_position": null,
       "order": null,
       "overflow": null,
       "padding": null,
       "right": null,
       "top": null,
       "visibility": null,
       "width": null
      }
     },
     "b113388d4e6246f6b7db8234a5393bae": {
      "model_module": "@jupyter-widgets/controls",
      "model_module_version": "2.0.0",
      "model_name": "HBoxModel",
      "state": {
       "_dom_classes": [],
       "_model_module": "@jupyter-widgets/controls",
       "_model_module_version": "2.0.0",
       "_model_name": "HBoxModel",
       "_view_count": null,
       "_view_module": "@jupyter-widgets/controls",
       "_view_module_version": "2.0.0",
       "_view_name": "HBoxView",
       "box_style": "",
       "children": [
        "IPY_MODEL_6d44408da0254bf4bd2e9556a60f6ae9",
        "IPY_MODEL_800f99a10f1d4a95acc47b666f9a65d9",
        "IPY_MODEL_739636eee4a44f5ebcaa264f76c77f9a"
       ],
       "layout": "IPY_MODEL_a528f5414e5149aabd35901a05ecc4ca",
       "tabbable": null,
       "tooltip": null
      }
     },
     "cc8f4a436728439fa894881dd5759b8f": {
      "model_module": "@jupyter-widgets/base",
      "model_module_version": "2.0.0",
      "model_name": "LayoutModel",
      "state": {
       "_model_module": "@jupyter-widgets/base",
       "_model_module_version": "2.0.0",
       "_model_name": "LayoutModel",
       "_view_count": null,
       "_view_module": "@jupyter-widgets/base",
       "_view_module_version": "2.0.0",
       "_view_name": "LayoutView",
       "align_content": null,
       "align_items": null,
       "align_self": null,
       "border_bottom": null,
       "border_left": null,
       "border_right": null,
       "border_top": null,
       "bottom": null,
       "display": null,
       "flex": null,
       "flex_flow": null,
       "grid_area": null,
       "grid_auto_columns": null,
       "grid_auto_flow": null,
       "grid_auto_rows": null,
       "grid_column": null,
       "grid_gap": null,
       "grid_row": null,
       "grid_template_areas": null,
       "grid_template_columns": null,
       "grid_template_rows": null,
       "height": null,
       "justify_content": null,
       "justify_items": null,
       "left": null,
       "margin": null,
       "max_height": null,
       "max_width": null,
       "min_height": null,
       "min_width": null,
       "object_fit": null,
       "object_position": null,
       "order": null,
       "overflow": null,
       "padding": null,
       "right": null,
       "top": null,
       "visibility": null,
       "width": null
      }
     },
     "cccb68deddb84cb1add42d90e71299bd": {
      "model_module": "@jupyter-widgets/base",
      "model_module_version": "2.0.0",
      "model_name": "LayoutModel",
      "state": {
       "_model_module": "@jupyter-widgets/base",
       "_model_module_version": "2.0.0",
       "_model_name": "LayoutModel",
       "_view_count": null,
       "_view_module": "@jupyter-widgets/base",
       "_view_module_version": "2.0.0",
       "_view_name": "LayoutView",
       "align_content": null,
       "align_items": null,
       "align_self": null,
       "border_bottom": null,
       "border_left": null,
       "border_right": null,
       "border_top": null,
       "bottom": null,
       "display": null,
       "flex": null,
       "flex_flow": null,
       "grid_area": null,
       "grid_auto_columns": null,
       "grid_auto_flow": null,
       "grid_auto_rows": null,
       "grid_column": null,
       "grid_gap": null,
       "grid_row": null,
       "grid_template_areas": null,
       "grid_template_columns": null,
       "grid_template_rows": null,
       "height": null,
       "justify_content": null,
       "justify_items": null,
       "left": null,
       "margin": null,
       "max_height": null,
       "max_width": null,
       "min_height": null,
       "min_width": null,
       "object_fit": null,
       "object_position": null,
       "order": null,
       "overflow": null,
       "padding": null,
       "right": null,
       "top": null,
       "visibility": null,
       "width": null
      }
     },
     "ef87e2ceb4d24bb1aade20227b5486b7": {
      "model_module": "@jupyter-widgets/controls",
      "model_module_version": "2.0.0",
      "model_name": "HTMLStyleModel",
      "state": {
       "_model_module": "@jupyter-widgets/controls",
       "_model_module_version": "2.0.0",
       "_model_name": "HTMLStyleModel",
       "_view_count": null,
       "_view_module": "@jupyter-widgets/base",
       "_view_module_version": "2.0.0",
       "_view_name": "StyleView",
       "background": null,
       "description_width": "",
       "font_size": null,
       "text_color": null
      }
     }
    },
    "version_major": 2,
    "version_minor": 0
   }
  }
 },
 "nbformat": 4,
 "nbformat_minor": 5
}