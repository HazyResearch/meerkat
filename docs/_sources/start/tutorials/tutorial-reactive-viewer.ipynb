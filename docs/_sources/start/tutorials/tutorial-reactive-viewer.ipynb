{
 "cells": [
  {
   "cell_type": "markdown",
   "id": "445110b6",
   "metadata": {},
   "source": [
    "# Tutorial 4: Reactive Functions (Reactive Image Viewer)\n",
    "\n",
    "In this tutorial, we will build a simple image viewer that shows a random subset of images from\n",
    "a class in an image dataset.\n",
    "\n",
    "Through this tutorial, you will learn about:\n",
    "- the concept of **reactive functions** in Meerkat\n",
    "- how **chaining reactive functions** together can be used to build complex applications\n",
    "- a few more components that you can use in Meerkat\n",
    "\n",
    "To get started, run the tutorial demo script.\n",
    "```{code-block} bash\n",
    "mk demo tutorial-2\n",
    "```\n",
    "You should see the tutorial app when you open the link in your browser.\n",
    "\n",
    "Let's break down the code in the demo script.\n",
    "\n",
    "**Data loading**\n",
    "\n",
    "The first few lines just load in the `imagenette` dataset, a small 10-class subset of ImageNet.\n",
    "```{margin}\n",
    "`df` is an `mk.DataFrame`, which behaves quite similarly to a `pandas.DataFrame`.\n",
    "```"
   ]
  },
  {
   "cell_type": "code",
   "execution_count": 1,
   "id": "2c4a0463",
   "metadata": {},
   "outputs": [],
   "source": [
    "import meerkat as mk\n",
    "import rich\n",
    "\n",
    "df = mk.get(\"imagenette\", version=\"160px\")\n",
    "IMAGE_COL = \"img\"\n",
    "LABEL_COL = \"label\""
   ]
  },
  {
   "cell_type": "markdown",
   "id": "8aa2a272",
   "metadata": {},
   "source": [
    "<!-- Show the dataset and hide the input cell. -->"
   ]
  },
  {
   "cell_type": "code",
   "execution_count": 2,
   "id": "7e653872",
   "metadata": {
    "tags": [
     "remove-input"
    ]
   },
   "outputs": [
    {
     "data": {
      "text/html": [
       "<pre style=\"white-space:pre;overflow-x:auto;line-height:normal;font-family:Menlo,'DejaVu Sans Mono',consolas,'Courier New',monospace\">Frontend is not initialized. Running `<span style=\"color: #800080; text-decoration-color: #800080; font-weight: bold\">mk.gui.start</span><span style=\"font-weight: bold\">()</span>`.\n",
       "</pre>\n"
      ],
      "text/plain": [
       "Frontend is not initialized. Running `\u001b[1;35mmk.gui.start\u001b[0m\u001b[1m(\u001b[0m\u001b[1m)\u001b[0m`.\n"
      ]
     },
     "metadata": {},
     "output_type": "display_data"
    },
    {
     "data": {
      "text/html": [
       "\n",
       "        <iframe\n",
       "            width=\"100%\"\n",
       "            height=\"450px\"\n",
       "            src=\"http://localhost:8000/?id=Table8bf7a073-c30e-48f2-a82a-1fd32e1c9de2\"\n",
       "            frameborder=\"0\"\n",
       "            allowfullscreen\n",
       "            \n",
       "        ></iframe>\n",
       "        "
      ],
      "text/plain": [
       "<IPython.lib.display.IFrame at 0x7f8bd813ceb0>"
      ]
     },
     "metadata": {},
     "output_type": "display_data"
    }
   ],
   "source": [
    "df.head()"
   ]
  },
  {
   "cell_type": "code",
   "execution_count": 3,
   "id": "a89368fb",
   "metadata": {},
   "outputs": [],
   "source": [
    "# Unique classes in the dataset.\n",
    "labels = list(df[LABEL_COL].unique())"
   ]
  },
  {
   "cell_type": "code",
   "execution_count": 4,
   "id": "5ae8315d",
   "metadata": {
    "tags": [
     "remove-input"
    ]
   },
   "outputs": [
    {
     "data": {
      "text/html": [
       "<pre style=\"white-space:pre;overflow-x:auto;line-height:normal;font-family:Menlo,'DejaVu Sans Mono',consolas,'Courier New',monospace\"><span style=\"font-weight: bold\">[</span>\n",
       "    <span style=\"color: #008000; text-decoration-color: #008000\">'cassette player'</span>,\n",
       "    <span style=\"color: #008000; text-decoration-color: #008000\">'garbage truck'</span>,\n",
       "    <span style=\"color: #008000; text-decoration-color: #008000\">'tench'</span>,\n",
       "    <span style=\"color: #008000; text-decoration-color: #008000\">'english springer spaniel'</span>,\n",
       "    <span style=\"color: #008000; text-decoration-color: #008000\">'church'</span>,\n",
       "    <span style=\"color: #008000; text-decoration-color: #008000\">'parachute'</span>,\n",
       "    <span style=\"color: #008000; text-decoration-color: #008000\">'french horn'</span>,\n",
       "    <span style=\"color: #008000; text-decoration-color: #008000\">'chainsaw'</span>,\n",
       "    <span style=\"color: #008000; text-decoration-color: #008000\">'golf ball'</span>,\n",
       "    <span style=\"color: #008000; text-decoration-color: #008000\">'gas pump'</span>\n",
       "<span style=\"font-weight: bold\">]</span>\n",
       "</pre>\n"
      ],
      "text/plain": [
       "\u001b[1m[\u001b[0m\n",
       "    \u001b[32m'cassette player'\u001b[0m,\n",
       "    \u001b[32m'garbage truck'\u001b[0m,\n",
       "    \u001b[32m'tench'\u001b[0m,\n",
       "    \u001b[32m'english springer spaniel'\u001b[0m,\n",
       "    \u001b[32m'church'\u001b[0m,\n",
       "    \u001b[32m'parachute'\u001b[0m,\n",
       "    \u001b[32m'french horn'\u001b[0m,\n",
       "    \u001b[32m'chainsaw'\u001b[0m,\n",
       "    \u001b[32m'golf ball'\u001b[0m,\n",
       "    \u001b[32m'gas pump'\u001b[0m\n",
       "\u001b[1m]\u001b[0m\n"
      ]
     },
     "metadata": {},
     "output_type": "display_data"
    }
   ],
   "source": [
    "rich.print(labels)"
   ]
  },
  {
   "cell_type": "markdown",
   "id": "dc6e1f55",
   "metadata": {},
   "source": [
    "**Selecting a class**\n",
    "\n",
    "Next, let's create a {class}`~meerkat.gui.Select` component that allows the user to select a class. Once a user picks the class, we'll then show a random subset of images from that class.\n",
    "\n",
    "```{margin}\n",
    "A list of the components in Meerkat can be found in the\n",
    "[component guide](../../guide/components/inbuilts.rst).\n",
    "```\n",
    "\n",
    "Meerkat provides many components like `Select` that can be used to build useful\n",
    "apps."
   ]
  },
  {
   "cell_type": "code",
   "execution_count": 5,
   "id": "141feaa3",
   "metadata": {},
   "outputs": [],
   "source": [
    "# Give the user a way to select a class.\n",
    "class_selector = mk.gui.Select(\n",
    "    values=list(labels),\n",
    "    value=labels[0],\n",
    ")"
   ]
  },
  {
   "cell_type": "code",
   "execution_count": 6,
   "id": "c44ba719",
   "metadata": {
    "tags": [
     "remove-input"
    ]
   },
   "outputs": [
    {
     "data": {
      "text/html": [
       "<pre style=\"white-space:pre;overflow-x:auto;line-height:normal;font-family:Menlo,'DejaVu Sans Mono',consolas,'Courier New',monospace\"><span style=\"color: #000080; text-decoration-color: #000080\">class_selector.value</span>: \n",
       "        cassette player \n",
       "<span style=\"color: #000080; text-decoration-color: #000080; font-weight: bold\">type(</span><span style=\"color: #000080; text-decoration-color: #000080\">class_selector.value</span><span style=\"color: #000080; text-decoration-color: #000080; font-weight: bold\">)</span>: \n",
       "        <span style=\"font-weight: bold\">&lt;</span><span style=\"color: #ff00ff; text-decoration-color: #ff00ff; font-weight: bold\">class</span><span style=\"color: #000000; text-decoration-color: #000000\"> </span><span style=\"color: #008000; text-decoration-color: #008000\">'meerkat.interactive.graph.store.Store'</span><span style=\"font-weight: bold\">&gt;</span>\n",
       "</pre>\n"
      ],
      "text/plain": [
       "\u001b[34mclass_selector.value\u001b[0m: \n",
       "        cassette player \n",
       "\u001b[1;34mtype\u001b[0m\u001b[1;34m(\u001b[0m\u001b[34mclass_selector.value\u001b[0m\u001b[1;34m)\u001b[0m: \n",
       "        \u001b[1m<\u001b[0m\u001b[1;95mclass\u001b[0m\u001b[39m \u001b[0m\u001b[32m'meerkat.interactive.graph.store.Store'\u001b[0m\u001b[1m>\u001b[0m\n"
      ]
     },
     "metadata": {},
     "output_type": "display_data"
    }
   ],
   "source": [
    "rich.print(\n",
    "    \"[blue]class_selector.value[/blue]:\", \n",
    "    f\"\\n\\t{str(class_selector.value)}\",\n",
    "    \"\\n[blue]type(class_selector.value)[/blue]:\", \n",
    "    f\"\\n\\t{str(type(class_selector.value))}\",\n",
    ")"
   ]
  },
  {
   "cell_type": "markdown",
   "id": "339dceeb",
   "metadata": {},
   "source": [
    "Notice here that `class_selector.value` is a `Store` object and not a `str`! A `Store` is a special object in Meerkat that serves as a thin wrapper around any Python object. It's incredibly useful to connect different components to each other, and we'll see more about how it plays a role in the next section.\n",
    "\n",
    "\n",
    "You can access the value of a `Store` object by using the `.value` attribute e.g."
   ]
  },
  {
   "cell_type": "code",
   "execution_count": 7,
   "id": "f81315b0",
   "metadata": {
    "tags": [
     "remove-input"
    ]
   },
   "outputs": [
    {
     "data": {
      "text/html": [
       "<pre style=\"white-space:pre;overflow-x:auto;line-height:normal;font-family:Menlo,'DejaVu Sans Mono',consolas,'Courier New',monospace\"><span style=\"color: #000080; text-decoration-color: #000080\">class_selector.value.value</span>: \n",
       "        cassette player \n",
       "<span style=\"color: #000080; text-decoration-color: #000080; font-weight: bold\">type(</span><span style=\"color: #000080; text-decoration-color: #000080\">class_selector.value.value</span><span style=\"color: #000080; text-decoration-color: #000080; font-weight: bold\">)</span>: \n",
       "        <span style=\"font-weight: bold\">&lt;</span><span style=\"color: #ff00ff; text-decoration-color: #ff00ff; font-weight: bold\">class</span><span style=\"color: #000000; text-decoration-color: #000000\"> </span><span style=\"color: #008000; text-decoration-color: #008000\">'str'</span><span style=\"font-weight: bold\">&gt;</span>\n",
       "</pre>\n"
      ],
      "text/plain": [
       "\u001b[34mclass_selector.value.value\u001b[0m: \n",
       "        cassette player \n",
       "\u001b[1;34mtype\u001b[0m\u001b[1;34m(\u001b[0m\u001b[34mclass_selector.value.value\u001b[0m\u001b[1;34m)\u001b[0m: \n",
       "        \u001b[1m<\u001b[0m\u001b[1;95mclass\u001b[0m\u001b[39m \u001b[0m\u001b[32m'str'\u001b[0m\u001b[1m>\u001b[0m\n"
      ]
     },
     "metadata": {},
     "output_type": "display_data"
    }
   ],
   "source": [
    "rich.print(\n",
    "    \"[blue]class_selector.value.value[/blue]:\", \n",
    "    f\"\\n\\t{str(class_selector.value.value)}\",\n",
    "    \"\\n[blue]type(class_selector.value.value)[/blue]:\", \n",
    "    f\"\\n\\t{str(type(class_selector.value.value))}\",\n",
    ")"
   ]
  },
  {
   "cell_type": "markdown",
   "id": "0f181c81",
   "metadata": {},
   "source": [
    "We can also look at the `class_selector` component itself."
   ]
  },
  {
   "cell_type": "code",
   "execution_count": 8,
   "id": "4f09e8ff",
   "metadata": {
    "tags": [
     "remove-input"
    ]
   },
   "outputs": [
    {
     "data": {
      "text/html": [
       "<pre style=\"white-space:pre;overflow-x:auto;line-height:normal;font-family:Menlo,'DejaVu Sans Mono',consolas,'Courier New',monospace\"><span style=\"color: #800080; text-decoration-color: #800080; font-weight: bold\">Select</span><span style=\"font-weight: bold\">(</span>\n",
       "    <span style=\"color: #808000; text-decoration-color: #808000\">values</span>=<span style=\"color: #800080; text-decoration-color: #800080; font-weight: bold\">Store</span><span style=\"font-weight: bold\">([</span><span style=\"color: #008000; text-decoration-color: #008000\">'cassette player'</span>, <span style=\"color: #008000; text-decoration-color: #008000\">'garbage truck'</span>, <span style=\"color: #008000; text-decoration-color: #008000\">'tench'</span>, <span style=\"color: #008000; text-decoration-color: #008000\">'english springer spaniel'</span>, <span style=\"color: #008000; text-decoration-color: #008000\">'church'</span>, <span style=\"color: #008000; text-decoration-color: #008000\">'parachute'</span>, \n",
       "<span style=\"color: #008000; text-decoration-color: #008000\">'french horn'</span>, <span style=\"color: #008000; text-decoration-color: #008000\">'chainsaw'</span>, <span style=\"color: #008000; text-decoration-color: #008000\">'golf ball'</span>, <span style=\"color: #008000; text-decoration-color: #008000\">'gas pump'</span><span style=\"font-weight: bold\">])</span>,\n",
       "    <span style=\"color: #808000; text-decoration-color: #808000\">labels</span>=<span style=\"color: #800080; text-decoration-color: #800080; font-weight: bold\">Store</span><span style=\"font-weight: bold\">([</span><span style=\"color: #008000; text-decoration-color: #008000\">'cassette player'</span>, <span style=\"color: #008000; text-decoration-color: #008000\">'garbage truck'</span>, <span style=\"color: #008000; text-decoration-color: #008000\">'tench'</span>, <span style=\"color: #008000; text-decoration-color: #008000\">'english springer spaniel'</span>, <span style=\"color: #008000; text-decoration-color: #008000\">'church'</span>, <span style=\"color: #008000; text-decoration-color: #008000\">'parachute'</span>, \n",
       "<span style=\"color: #008000; text-decoration-color: #008000\">'french horn'</span>, <span style=\"color: #008000; text-decoration-color: #008000\">'chainsaw'</span>, <span style=\"color: #008000; text-decoration-color: #008000\">'golf ball'</span>, <span style=\"color: #008000; text-decoration-color: #008000\">'gas pump'</span><span style=\"font-weight: bold\">])</span>,\n",
       "    <span style=\"color: #808000; text-decoration-color: #808000\">value</span>=<span style=\"color: #800080; text-decoration-color: #800080; font-weight: bold\">Store</span><span style=\"font-weight: bold\">(</span><span style=\"color: #008000; text-decoration-color: #008000\">'cassette player'</span><span style=\"font-weight: bold\">)</span>,\n",
       "    <span style=\"color: #808000; text-decoration-color: #808000\">disabled</span>=<span style=\"color: #800080; text-decoration-color: #800080; font-weight: bold\">Store</span><span style=\"font-weight: bold\">(</span><span style=\"color: #ff0000; text-decoration-color: #ff0000; font-style: italic\">False</span><span style=\"font-weight: bold\">)</span>,\n",
       "    <span style=\"color: #808000; text-decoration-color: #808000\">classes</span>=<span style=\"color: #800080; text-decoration-color: #800080; font-weight: bold\">Store</span><span style=\"font-weight: bold\">(</span><span style=\"color: #008000; text-decoration-color: #008000\">''</span><span style=\"font-weight: bold\">)</span>,\n",
       "    <span style=\"color: #808000; text-decoration-color: #808000\">on_change</span>=<span style=\"color: #800080; text-decoration-color: #800080; font-style: italic\">None</span>,\n",
       "    <span style=\"color: #808000; text-decoration-color: #808000\">_slots</span>=<span style=\"font-weight: bold\">[]</span>,\n",
       "    <span style=\"color: #808000; text-decoration-color: #808000\">_self_id</span>=<span style=\"color: #008000; text-decoration-color: #008000\">'__mkid__ab87eaee408a459eb97bc50bfaf7ef94'</span>\n",
       "<span style=\"font-weight: bold\">)</span>\n",
       "</pre>\n"
      ],
      "text/plain": [
       "\u001b[1;35mSelect\u001b[0m\u001b[1m(\u001b[0m\n",
       "    \u001b[33mvalues\u001b[0m=\u001b[1;35mStore\u001b[0m\u001b[1m(\u001b[0m\u001b[1m[\u001b[0m\u001b[32m'cassette player'\u001b[0m, \u001b[32m'garbage truck'\u001b[0m, \u001b[32m'tench'\u001b[0m, \u001b[32m'english springer spaniel'\u001b[0m, \u001b[32m'church'\u001b[0m, \u001b[32m'parachute'\u001b[0m, \n",
       "\u001b[32m'french horn'\u001b[0m, \u001b[32m'chainsaw'\u001b[0m, \u001b[32m'golf ball'\u001b[0m, \u001b[32m'gas pump'\u001b[0m\u001b[1m]\u001b[0m\u001b[1m)\u001b[0m,\n",
       "    \u001b[33mlabels\u001b[0m=\u001b[1;35mStore\u001b[0m\u001b[1m(\u001b[0m\u001b[1m[\u001b[0m\u001b[32m'cassette player'\u001b[0m, \u001b[32m'garbage truck'\u001b[0m, \u001b[32m'tench'\u001b[0m, \u001b[32m'english springer spaniel'\u001b[0m, \u001b[32m'church'\u001b[0m, \u001b[32m'parachute'\u001b[0m, \n",
       "\u001b[32m'french horn'\u001b[0m, \u001b[32m'chainsaw'\u001b[0m, \u001b[32m'golf ball'\u001b[0m, \u001b[32m'gas pump'\u001b[0m\u001b[1m]\u001b[0m\u001b[1m)\u001b[0m,\n",
       "    \u001b[33mvalue\u001b[0m=\u001b[1;35mStore\u001b[0m\u001b[1m(\u001b[0m\u001b[32m'cassette player'\u001b[0m\u001b[1m)\u001b[0m,\n",
       "    \u001b[33mdisabled\u001b[0m=\u001b[1;35mStore\u001b[0m\u001b[1m(\u001b[0m\u001b[3;91mFalse\u001b[0m\u001b[1m)\u001b[0m,\n",
       "    \u001b[33mclasses\u001b[0m=\u001b[1;35mStore\u001b[0m\u001b[1m(\u001b[0m\u001b[32m''\u001b[0m\u001b[1m)\u001b[0m,\n",
       "    \u001b[33mon_change\u001b[0m=\u001b[3;35mNone\u001b[0m,\n",
       "    \u001b[33m_slots\u001b[0m=\u001b[1m[\u001b[0m\u001b[1m]\u001b[0m,\n",
       "    \u001b[33m_self_id\u001b[0m=\u001b[32m'__mkid__ab87eaee408a459eb97bc50bfaf7ef94'\u001b[0m\n",
       "\u001b[1m)\u001b[0m\n"
      ]
     },
     "metadata": {},
     "output_type": "display_data"
    }
   ],
   "source": [
    "rich.print(class_selector)"
   ]
  },
  {
   "cell_type": "markdown",
   "id": "9203e571",
   "metadata": {},
   "source": [
    "Notice that all of the attributes of the `Select` component are also `Store` objects. This is done automatically by all classes that subclass `Component` in Meerkat, of which `Select` is one. This is very useful because as `Store` objects all of these attributes are synchronized between the frontend interface and the backend Python code.\n",
    "\n",
    "**Filtering the dataset by class**\n",
    "\n",
    "Once the user selects a class, the dataset should be filtered to that class. \n",
    "**Importantly, we want this to happen every time the user selects a new class.**\n",
    "\n",
    "Let's think about what would happen if we did the obvious thing and just filtered the dataset once."
   ]
  },
  {
   "cell_type": "code",
   "execution_count": 9,
   "id": "56cf220d",
   "metadata": {},
   "outputs": [],
   "source": [
    "# Filter the dataset to the selected class. Do it normally.\n",
    "filtered_df = df[df[LABEL_COL] == class_selector.value]"
   ]
  },
  {
   "cell_type": "code",
   "execution_count": 10,
   "id": "78eaa2e7",
   "metadata": {
    "tags": [
     "remove-input"
    ]
   },
   "outputs": [
    {
     "data": {
      "text/html": [
       "<pre style=\"white-space:pre;overflow-x:auto;line-height:normal;font-family:Menlo,'DejaVu Sans Mono',consolas,'Courier New',monospace\"><span style=\"color: #000080; text-decoration-color: #000080\">filtered_df</span>: \n",
       "        <span style=\"color: #800080; text-decoration-color: #800080; font-weight: bold\">DataFrame</span><span style=\"font-weight: bold\">(</span>nrows: <span style=\"color: #008080; text-decoration-color: #008080; font-weight: bold\">1350</span>, ncols: <span style=\"color: #008080; text-decoration-color: #008080; font-weight: bold\">15</span><span style=\"font-weight: bold\">)</span>\n",
       "</pre>\n"
      ],
      "text/plain": [
       "\u001b[34mfiltered_df\u001b[0m: \n",
       "        \u001b[1;35mDataFrame\u001b[0m\u001b[1m(\u001b[0mnrows: \u001b[1;36m1350\u001b[0m, ncols: \u001b[1;36m15\u001b[0m\u001b[1m)\u001b[0m\n"
      ]
     },
     "metadata": {},
     "output_type": "display_data"
    }
   ],
   "source": [
    "rich.print(\n",
    "    \"[blue]filtered_df[/blue]:\", \n",
    "    f\"\\n\\t{str(filtered_df)}\",\n",
    ")"
   ]
  },
  {
   "cell_type": "markdown",
   "id": "3fa8f689",
   "metadata": {},
   "source": [
    "The problem that will arise is that this filter uses the class label in `class_selector.value` **at the time of script execution. Once the user chooses a different class, there's no way to go back to this line of code and rerun it.**\n",
    "\n",
    "\n",
    "This is where **reactive functions** come in. A reactive function is a function that is automatically re-executed whenever one of its inputs updates. \n",
    "\n",
    "In this example, we would want to re-execute the filter whenever the user selects a class and `class_selector.value` changes. Let's write a simple reactive function that filters the dataset to the selected class, using the {py:func}`@reactive() <meerkat.reactive>` decorator."
   ]
  },
  {
   "cell_type": "code",
   "execution_count": 11,
   "id": "d0ec735c",
   "metadata": {},
   "outputs": [],
   "source": [
    "# Filter the dataset to the selected class. Use a reactive function.\n",
    "@mk.reactive()\n",
    "def filter_by_class(df: mk.DataFrame, label: str):\n",
    "    return df[df[LABEL_COL] == label]"
   ]
  },
  {
   "cell_type": "markdown",
   "id": "04750dfd",
   "metadata": {},
   "source": [
    "Note a couple of things here:\n",
    "- The function `filter_by_class` is decorated with `@mk.reactive()`. This is what makes it reactive.\n",
    "- `filter_by_class` is written as a normal Python function. This is true in general for reactive functions: there's no special syntax or anything.\n",
    "\n",
    "Let's now call this reactive function on the dataset and the `Store` object `class_selector.value`."
   ]
  },
  {
   "cell_type": "code",
   "execution_count": 12,
   "id": "2cf1a832",
   "metadata": {},
   "outputs": [],
   "source": [
    "filtered_df = filter_by_class(df, class_selector.value)"
   ]
  },
  {
   "cell_type": "markdown",
   "id": "53b2c4ed",
   "metadata": {},
   "source": [
    "```{margin}\n",
    "In Meerkat, only `marked` objects can cause a reactive function to re-execute when they are updated. All Meerkat objects have `.mark()` and `.unmark()` methods, and only `Store` objects are marked by default. You can read more about how this works in the [user guide on reactive functions](../../guide/reactive-functions/concepts.md).\n",
    "```\n",
    "\n",
    "When calling `filter_by_class`, we pass it the `DataFrame` and **the `Store` object `class_selector.value`, and not the actual string value of the class!** \n",
    "This is critical to understand: in order for an argument to trigger re-execution of a reactive function, it must be a Meerkat object like a `Store` or `DataFrame`, and not a Python object like `str`.\n",
    "\n",
    "Of course, reactive functions can be used like normal Python functions, e.g. it would be perfectly fine to pass in `str` objects to `filter_by_class` instead of `Store` objects."
   ]
  },
  {
   "cell_type": "code",
   "execution_count": 13,
   "id": "f17af70b",
   "metadata": {},
   "outputs": [
    {
     "data": {
      "text/html": [
       "\n",
       "        <iframe\n",
       "            width=\"100%\"\n",
       "            height=\"450px\"\n",
       "            src=\"http://localhost:8000/?id=Tablef4076d36-a7e5-4db8-8707-f83d331868b7\"\n",
       "            frameborder=\"0\"\n",
       "            allowfullscreen\n",
       "            \n",
       "        ></iframe>\n",
       "        "
      ],
      "text/plain": [
       "<IPython.lib.display.IFrame at 0x7f8c887d3460>"
      ]
     },
     "metadata": {},
     "output_type": "display_data"
    }
   ],
   "source": [
    "filter_by_class(df, \"cassette player\")"
   ]
  },
  {
   "cell_type": "markdown",
   "id": "6c787c2d",
   "metadata": {},
   "source": [
    "Let's also note a couple of other ways in which we could create reactive functions that wouldn't quite have worked."
   ]
  },
  {
   "cell_type": "code",
   "execution_count": 14,
   "id": "f1f4a11a",
   "metadata": {},
   "outputs": [],
   "source": [
    "@mk.reactive()\n",
    "def filter_by_class(df: mk.DataFrame):\n",
    "    return df[df[LABEL_COL] == class_selector.value]"
   ]
  },
  {
   "cell_type": "markdown",
   "id": "f54d2e2b",
   "metadata": {},
   "source": [
    "Here, we've forgotten to create an argument for the class label, so using this reactive function would not work. It would never re-run when the user selects a new class!\n",
    "\n",
    "So far so good. We've created and used a reactive function that filters the dataset to the selected class. \n",
    "\n",
    "**Selecting a random subset of images**\n",
    "\n",
    "Let's now create another reactive function that selects a random subset of images from the filtered dataset. Then, we'll chain together the two reactive functions we've created so far to get the final result."
   ]
  },
  {
   "cell_type": "code",
   "execution_count": 15,
   "id": "3c340adb",
   "metadata": {},
   "outputs": [],
   "source": [
    "\"\"\"Select a random subset of images from the filtered dataset.\"\"\"\n",
    "@mk.reactive()\n",
    "def random_images(df: mk.DataFrame):\n",
    "    # Sample 16 images from the filtered dataset.\n",
    "    # `images` will be a `Column` object.\n",
    "    images = df.sample(16)[IMAGE_COL]\n",
    "\n",
    "    # Encode the images as base64 strings.\n",
    "    # Use a `Formatter` object to do this.\n",
    "    formatter = images.formatters['base']\n",
    "\n",
    "    # All Formatter objects have an `encode` method that\n",
    "    # can be used to take a data object and encode it in some way.\n",
    "    return [formatter.encode(img) for img in images]"
   ]
  },
  {
   "cell_type": "markdown",
   "id": "41d7a146",
   "metadata": {},
   "source": [
    "Here, `random_images` takes in a `DataFrame` and returns a list of base64-encoded images. It's decorated with `@mk.reactive()` so that it will be re-executed whenever the `DataFrame` is updated.\n",
    "\n",
    "Let's pass the output of `filter_by_class` to `random_images`."
   ]
  },
  {
   "cell_type": "code",
   "execution_count": 16,
   "id": "357ae788",
   "metadata": {},
   "outputs": [],
   "source": [
    "images = random_images(filtered_df)"
   ]
  },
  {
   "cell_type": "code",
   "execution_count": 17,
   "id": "edcf6174",
   "metadata": {
    "tags": [
     "remove-input"
    ]
   },
   "outputs": [
    {
     "data": {
      "text/html": [
       "<pre style=\"white-space:pre;overflow-x:auto;line-height:normal;font-family:Menlo,'DejaVu Sans Mono',consolas,'Courier New',monospace\"><span style=\"color: #000080; text-decoration-color: #000080\">images</span>: \n",
       "        \n",
       "</pre>\n"
      ],
      "text/plain": [
       "\u001b[34mimages\u001b[0m: \n",
       "        \n"
      ]
     },
     "metadata": {},
     "output_type": "display_data"
    }
   ],
   "source": [
    "rich.print(\n",
    "    \"[blue]images[/blue]:\", \n",
    "    f\"\\n\\t[{str(images[-1])}, ...]\",\n",
    ")"
   ]
  },
  {
   "cell_type": "markdown",
   "id": "e1c55210",
   "metadata": {},
   "source": [
    "This sets up a chain of reactive functions that will be re-executed whenever the user selects a new class.\n",
    "\n",
    "**Displaying the images**\n",
    "Finally, let's show the user the images using a grid of `Image` components."
   ]
  },
  {
   "cell_type": "code",
   "execution_count": 18,
   "id": "23d927b6",
   "metadata": {
    "tags": [
     "remove-output"
    ]
   },
   "outputs": [],
   "source": [
    "# Make a grid with 4 columns\n",
    "grid = mk.gui.html.gridcols4([\n",
    "    # Use equal-sized square boxes in the grid\n",
    "    mk.gui.html.div(\n",
    "        # Wrap the image in a `mk.gui.Image` component\n",
    "        mk.gui.Image(data=img), \n",
    "        style=\"aspect-ratio: 1 / 1\",\n",
    "    )\n",
    "    for img in images\n",
    "], classes=\"gap-2\") # Add some spacing in the grid."
   ]
  },
  {
   "cell_type": "markdown",
   "id": "0819ac4a",
   "metadata": {},
   "source": [
    "Many components in Meerkat accept \n",
    "- a `classes` attribute that can be used to add Tailwind CSS classes to the component, and\n",
    "- a `style` attribute that can be used to add inline CSS styles to the component.\n",
    "\n",
    "Finally, let's use the `flexcol` component to stack the class selector and the grid of images vertically."
   ]
  },
  {
   "cell_type": "code",
   "execution_count": 19,
   "id": "da20bfb3",
   "metadata": {},
   "outputs": [],
   "source": [
    "layout = mk.gui.html.flexcol([\n",
    "    mk.gui.html.div(\n",
    "        [mk.gui.Caption(\"Choose a class:\"), class_selector], \n",
    "        classes=\"flex justify-center items-center mb-2 gap-4\"\n",
    "    ),\n",
    "    grid,\n",
    "])"
   ]
  },
  {
   "cell_type": "markdown",
   "id": "52ca5ff4",
   "metadata": {},
   "source": [
    "We can pass everything into a `Page` component to render the app."
   ]
  },
  {
   "cell_type": "code",
   "execution_count": 20,
   "id": "8a265f28",
   "metadata": {
    "tags": [
     "remove-output"
    ]
   },
   "outputs": [
    {
     "data": {
      "text/html": [
       "\n",
       "        <iframe\n",
       "            width=\"100%\"\n",
       "            height=\"100%\"\n",
       "            src=\"http://localhost:8000/?id=tutorial-2\"\n",
       "            frameborder=\"0\"\n",
       "            allowfullscreen\n",
       "            \n",
       "        ></iframe>\n",
       "        "
      ],
      "text/plain": [
       "<IPython.lib.display.IFrame at 0x7f8c8878ccd0>"
      ]
     },
     "execution_count": 20,
     "metadata": {},
     "output_type": "execute_result"
    }
   ],
   "source": [
    "page = mk.gui.Page(component=layout, id=\"tutorial-2\")\n",
    "page.launch()"
   ]
  },
  {
   "cell_type": "markdown",
   "id": "7372cbac",
   "metadata": {},
   "source": [
    "That's it!"
   ]
  }
 ],
 "metadata": {
  "file_format": "mystnb",
  "kernelspec": {
   "display_name": "python3",
   "name": "python3"
  },
  "language_info": {
   "codemirror_mode": {
    "name": "ipython",
    "version": 3
   },
   "file_extension": ".py",
   "mimetype": "text/x-python",
   "name": "python",
   "nbconvert_exporter": "python",
   "pygments_lexer": "ipython3",
   "version": "3.8.16"
  },
  "source_map": [
   5,
   31,
   38,
   41,
   46,
   51,
   54,
   69,
   77,
   85,
   93,
   101,
   106,
   109,
   120,
   125,
   131,
   140,
   145,
   153,
   155,
   166,
   168,
   172,
   176,
   185,
   200,
   206,
   210,
   216,
   223,
   235,
   242,
   250,
   254,
   258
  ]
 },
 "nbformat": 4,
 "nbformat_minor": 5
}