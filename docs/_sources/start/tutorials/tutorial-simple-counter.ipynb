{
 "cells": [
  {
   "cell_type": "markdown",
   "id": "d152d1f8",
   "metadata": {},
   "source": [
    "# Tutorial 3: Basic Interactive Apps (Building A Simple Counter)\n",
    "\n",
    "Let's go through a simple example to get familiar with interactivity. We'll build a simple counter that increments by 1 every time the user clicks on it.\n",
    "\n",
    "## Import\n",
    "\n",
    "First, we'll import the Meerkat library."
   ]
  },
  {
   "cell_type": "code",
   "execution_count": 1,
   "id": "2952d037",
   "metadata": {},
   "outputs": [],
   "source": [
    "import meerkat as mk"
   ]
  },
  {
   "cell_type": "markdown",
   "id": "18e15fb9",
   "metadata": {},
   "source": [
    "## Store\n",
    "\n",
    "Next, let's create a `Store` object to keep track of the state of the counter. `Stores` in Meerkat are borrowed from their Svelte counterparts, and provide a way for users to create values that are synchronized between the GUI and the Python code."
   ]
  },
  {
   "cell_type": "code",
   "execution_count": 2,
   "id": "0b191e73",
   "metadata": {},
   "outputs": [],
   "source": [
    "# Initialize the counter to 0\n",
    "counter = mk.Store(0)"
   ]
  },
  {
   "cell_type": "markdown",
   "id": "1824236a",
   "metadata": {},
   "source": [
    "There are a couple of things to keep in mind when it comes to `Stores`.\n",
    "\n",
    "- If the `Store` value is manipulated on the frontend, the updated value will be reflected here.\n",
    "- If the `Store` value is set using the special `.set()` method here, the updated value will be reflected in the frontend.\n",
    "\n",
    "## Endpoint\n",
    "\n",
    "Then, we'll create an `Endpoint` in Meerkat, which is a Python function that can be called from the frontend. In this case, we'll create an endpoint that increments the counter by 1."
   ]
  },
  {
   "cell_type": "code",
   "execution_count": 3,
   "id": "1a09b02f",
   "metadata": {},
   "outputs": [
    {
     "ename": "NameError",
     "evalue": "name 'Store' is not defined",
     "output_type": "error",
     "traceback": [
      "\u001b[0;31m---------------------------------------------------------------------------\u001b[0m",
      "\u001b[0;31mNameError\u001b[0m                                 Traceback (most recent call last)",
      "Cell \u001b[0;32mIn[3], line 2\u001b[0m\n\u001b[1;32m      1\u001b[0m \u001b[38;5;129m@mk\u001b[39m\u001b[38;5;241m.\u001b[39mgui\u001b[38;5;241m.\u001b[39mendpoint\n\u001b[0;32m----> 2\u001b[0m \u001b[38;5;28;01mdef\u001b[39;00m \u001b[38;5;21mincrement\u001b[39m(counter: \u001b[43mStore\u001b[49m[\u001b[38;5;28mint\u001b[39m]):\n\u001b[1;32m      3\u001b[0m     \u001b[38;5;66;03m# Use the special .set() method to update the Store\u001b[39;00m\n\u001b[1;32m      4\u001b[0m     counter\u001b[38;5;241m.\u001b[39mset(counter \u001b[38;5;241m+\u001b[39m \u001b[38;5;241m1\u001b[39m)\n",
      "\u001b[0;31mNameError\u001b[0m: name 'Store' is not defined"
     ]
    }
   ],
   "source": [
    "@mk.gui.endpoint\n",
    "def increment(counter: Store[int]):\n",
    "    # Use the special .set() method to update the Store\n",
    "    counter.set(counter + 1)"
   ]
  },
  {
   "cell_type": "markdown",
   "id": "14dac421",
   "metadata": {},
   "source": [
    "What's great here is that Meerkat uses FastAPI under the hood to automatically setup an API endpoint for `increment`. This can then be called by other services as well!\n",
    "\n",
    "## Component\n",
    "\n",
    "Next, we'll want to assemble our GUI: we want a button that we can press to increment the counter, as well as a way to display the current count value."
   ]
  },
  {
   "cell_type": "code",
   "execution_count": null,
   "id": "d597f31a",
   "metadata": {},
   "outputs": [],
   "source": [
    "# A button, which when clicked calls the `increment` endpoint with the `counter` argument filled in\n",
    "button = mk.gui.Button(title=\"Increment\", on_click=increment.partial(counter))\n",
    "# Display the counter value\n",
    "text = mk.gui.Text(data=counter)"
   ]
  },
  {
   "cell_type": "markdown",
   "id": "f8abbf0e",
   "metadata": {},
   "source": [
    "Meerkat comes with a collection of prebuilt Components that can be used to assemble interfaces.\n",
    "\n",
    "## Page\n",
    "\n",
    "Finally, we can launch the interface.\n",
    "\n",
    "```python\n",
    "# Launch the interface\n",
    "mk.gui.Page(\n",
    "    # Put the components into a layout for display\n",
    "    mk.gui.html.div([button, text]),\n",
    "    id=\"counter\",\n",
    ").launch()\n",
    "```"
   ]
  }
 ],
 "metadata": {
  "file_format": "mystnb",
  "kernelspec": {
   "display_name": "python3",
   "name": "python3"
  },
  "language_info": {
   "codemirror_mode": {
    "name": "ipython",
    "version": 3
   },
   "file_extension": ".py",
   "mimetype": "text/x-python",
   "name": "python",
   "nbconvert_exporter": "python",
   "pygments_lexer": "ipython3",
   "version": "3.8.16"
  },
  "source_map": [
   5,
   15,
   17,
   23,
   26,
   37,
   42,
   50,
   55
  ]
 },
 "nbformat": 4,
 "nbformat_minor": 5
}