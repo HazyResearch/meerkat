{
 "cells": [
  {
   "cell_type": "markdown",
   "id": "5dc2075e",
   "metadata": {},
   "source": [
    "# Tutorial 3: Basic Interactive Apps (Building A Simple Counter)\n",
    "\n",
    "Let's go through a simple example to get familiar with interactivity. We'll build a simple counter that increments by 1 every time the user clicks on it.\n",
    "\n",
    "\n",
    "\n",
    "## 🔮 Importing Meerkat\n",
    "\n",
    "First, we'll import the Meerkat library."
   ]
  },
  {
   "cell_type": "code",
   "execution_count": 1,
   "id": "7d0a7df2",
   "metadata": {},
   "outputs": [],
   "source": [
    "import meerkat as mk"
   ]
  },
  {
   "cell_type": "markdown",
   "id": "04791545",
   "metadata": {},
   "source": [
    "## 🧺 Store: Keeping Track of State\n",
    "\n",
    "Next, let's create a `Store` object to keep track of the state of the counter. `Stores` in Meerkat are borrowed from their Svelte counterparts, and provide a way for users to create values that are synchronized between the GUI and the Python code."
   ]
  },
  {
   "cell_type": "code",
   "execution_count": 2,
   "id": "efa8de88",
   "metadata": {},
   "outputs": [],
   "source": [
    "# Initialize the counter to 0\n",
    "counter = mk.Store(0)"
   ]
  },
  {
   "cell_type": "markdown",
   "id": "a6a0c9fb",
   "metadata": {},
   "source": [
    "There are a couple of things to keep in mind when it comes to `Stores`.\n",
    "\n",
    "- If the `Store` value is manipulated on the frontend, the updated value will be reflected here.\n",
    "- If the `Store` value is set using the special `.set()` method here, the updated value will be reflected in the frontend.\n",
    "\n",
    "## 🔚 Endpoint: Updating the State\n",
    "\n",
    "Then, we'll create an `Endpoint` in Meerkat, which is a Python function that can be called from the frontend. In this case, we'll create an endpoint that increments the counter by 1."
   ]
  },
  {
   "cell_type": "code",
   "execution_count": 3,
   "id": "bf5a6135",
   "metadata": {},
   "outputs": [],
   "source": [
    "@mk.gui.endpoint\n",
    "def increment(counter: mk.Store[int]):\n",
    "    # Use the special .set() method to update the Store\n",
    "    counter.set(counter + 1)"
   ]
  },
  {
   "cell_type": "markdown",
   "id": "2b761ef1",
   "metadata": {},
   "source": [
    "What's great here is that Meerkat uses FastAPI under the hood to automatically setup an API endpoint for `increment`. This can then be called by other services as well!\n",
    "\n",
    "## 🖼️ Component: Assembling the GUI\n",
    "\n",
    "Next, we'll want to assemble our GUI: we want a button that we can press to increment the counter, as well as a way to display the current count value."
   ]
  },
  {
   "cell_type": "code",
   "execution_count": 4,
   "id": "018786c9",
   "metadata": {},
   "outputs": [],
   "source": [
    "# A button, which when clicked calls the `increment` endpoint with the `counter` argument filled in\n",
    "button = mk.gui.Button(title=\"Increment\", on_click=increment.partial(counter))\n",
    "# Display the counter value\n",
    "text = mk.gui.Text(data=counter)"
   ]
  },
  {
   "cell_type": "markdown",
   "id": "3e576495",
   "metadata": {},
   "source": [
    "Meerkat comes with a collection of prebuilt Components that can be used to assemble interfaces.\n",
    "\n",
    "## 📃 Page: Launching the GUI\n",
    "\n",
    "Finally, we can launch the interface.\n",
    "\n",
    "```python\n",
    "# Launch the interface\n",
    "mk.gui.Page(\n",
    "    # Put the components into a layout for display\n",
    "    mk.gui.html.div([button, text]),\n",
    "    id=\"counter\",\n",
    ").launch()\n",
    "```"
   ]
  }
 ],
 "metadata": {
  "file_format": "mystnb",
  "kernelspec": {
   "display_name": "python3",
   "name": "python3"
  },
  "language_info": {
   "codemirror_mode": {
    "name": "ipython",
    "version": 3
   },
   "file_extension": ".py",
   "mimetype": "text/x-python",
   "name": "python",
   "nbconvert_exporter": "python",
   "pygments_lexer": "ipython3",
   "version": "3.8.16"
  },
  "source_map": [
   5,
   17,
   19,
   25,
   28,
   39,
   44,
   52,
   57
  ]
 },
 "nbformat": 4,
 "nbformat_minor": 5
}