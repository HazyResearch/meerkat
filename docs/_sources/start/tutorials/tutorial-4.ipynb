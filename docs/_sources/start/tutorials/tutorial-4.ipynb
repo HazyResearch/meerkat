{
 "cells": [
  {
   "cell_type": "markdown",
   "id": "16ab376a",
   "metadata": {},
   "source": [
    "# Tutorial 4: Search Engine over a Dataset\n",
    "\n",
    "In this tutorial, we'll show you how you can build a simple search engine over a dataset, using the CLIP model to drive the search. Users will be able to type in a query to search over images, and will see the dataset images ranked by their similarity to the query.\n",
    "\n",
    "\n",
    "To get started, run the tutorial demo script.\n",
    "\n",
    "```{code-block} bash\n",
    "mk demo match\n",
    "```\n",
    "\n",
    "You should see the tutorial app when you open the link in your browser. Let’s break down the code in the demo script.\n",
    "\n",
    "## Installing dependencies\n",
    "This tutorial has additional dependencies that you need to install. Run the following command to install them.\n",
    "\n",
    "```{code-block} bash\n",
    "pip install ftfy regex git+https://github.com/openai/CLIP.git\n",
    "```\n",
    "\n",
    "Once you run the script, it will download the CLIP model and cache it in your home directory. This will take a few minutes.\n",
    "\n",
    "## Loading in the dataset"
   ]
  },
  {
   "cell_type": "code",
   "execution_count": 1,
   "id": "deb22718",
   "metadata": {
    "tags": [
     "remove-cell"
    ]
   },
   "outputs": [],
   "source": [
    "import meerkat as mk\n",
    "import rich"
   ]
  },
  {
   "cell_type": "markdown",
   "id": "99273e2b",
   "metadata": {},
   "source": [
    "The first few lines just load in the `imagenette` dataset, a small 10-class subset of ImageNet."
   ]
  },
  {
   "cell_type": "code",
   "execution_count": 2,
   "id": "e32a09f2",
   "metadata": {},
   "outputs": [
    {
     "ename": "ValueError",
     "evalue": "Invalid file type None.",
     "output_type": "error",
     "traceback": [
      "\u001b[0;31m---------------------------------------------------------------------------\u001b[0m",
      "\u001b[0;31mValueError\u001b[0m                                Traceback (most recent call last)",
      "Cell \u001b[0;32mIn[2], line 2\u001b[0m\n\u001b[1;32m      1\u001b[0m IMAGE_COLUMN \u001b[38;5;241m=\u001b[39m \u001b[38;5;124m\"\u001b[39m\u001b[38;5;124mimg\u001b[39m\u001b[38;5;124m\"\u001b[39m\n\u001b[0;32m----> 2\u001b[0m df \u001b[38;5;241m=\u001b[39m \u001b[43mmk\u001b[49m\u001b[38;5;241;43m.\u001b[39;49m\u001b[43mget\u001b[49m\u001b[43m(\u001b[49m\u001b[38;5;124;43m\"\u001b[39;49m\u001b[38;5;124;43mimagenette\u001b[39;49m\u001b[38;5;124;43m\"\u001b[39;49m\u001b[43m,\u001b[49m\u001b[43m \u001b[49m\u001b[43mversion\u001b[49m\u001b[38;5;241;43m=\u001b[39;49m\u001b[38;5;124;43m\"\u001b[39;49m\u001b[38;5;124;43m160px\u001b[39;49m\u001b[38;5;124;43m\"\u001b[39;49m\u001b[43m)\u001b[49m\n",
      "File \u001b[0;32m~/work/meerkat/meerkat/meerkat/datasets/__init__.py:78\u001b[0m, in \u001b[0;36mget\u001b[0;34m(name, dataset_dir, version, download_mode, registry, **kwargs)\u001b[0m\n\u001b[1;32m     76\u001b[0m \u001b[38;5;28;01mif\u001b[39;00m registry \u001b[38;5;241m==\u001b[39m \u001b[38;5;124m\"\u001b[39m\u001b[38;5;124mmeerkat\u001b[39m\u001b[38;5;124m\"\u001b[39m:\n\u001b[1;32m     77\u001b[0m     \u001b[38;5;28;01mtry\u001b[39;00m:\n\u001b[0;32m---> 78\u001b[0m         dataset \u001b[38;5;241m=\u001b[39m \u001b[43mdatasets\u001b[49m\u001b[38;5;241;43m.\u001b[39;49m\u001b[43mget\u001b[49m\u001b[43m(\u001b[49m\n\u001b[1;32m     79\u001b[0m \u001b[43m            \u001b[49m\u001b[43mname\u001b[49m\u001b[38;5;241;43m=\u001b[39;49m\u001b[43mname\u001b[49m\u001b[43m,\u001b[49m\n\u001b[1;32m     80\u001b[0m \u001b[43m            \u001b[49m\u001b[43mdataset_dir\u001b[49m\u001b[38;5;241;43m=\u001b[39;49m\u001b[43mdataset_dir\u001b[49m\u001b[43m,\u001b[49m\n\u001b[1;32m     81\u001b[0m \u001b[43m            \u001b[49m\u001b[43mversion\u001b[49m\u001b[38;5;241;43m=\u001b[39;49m\u001b[43mversion\u001b[49m\u001b[43m,\u001b[49m\n\u001b[1;32m     82\u001b[0m \u001b[43m            \u001b[49m\u001b[43mdownload_mode\u001b[49m\u001b[38;5;241;43m=\u001b[39;49m\u001b[43mdownload_mode\u001b[49m\u001b[43m,\u001b[49m\n\u001b[1;32m     83\u001b[0m \u001b[43m            \u001b[49m\u001b[38;5;241;43m*\u001b[39;49m\u001b[38;5;241;43m*\u001b[39;49m\u001b[43mkwargs\u001b[49m\u001b[43m,\u001b[49m\n\u001b[1;32m     84\u001b[0m \u001b[43m        \u001b[49m\u001b[43m)\u001b[49m\n\u001b[1;32m     85\u001b[0m         \u001b[38;5;28;01mreturn\u001b[39;00m dataset\n\u001b[1;32m     86\u001b[0m     \u001b[38;5;28;01mexcept\u001b[39;00m \u001b[38;5;167;01mKeyError\u001b[39;00m \u001b[38;5;28;01mas\u001b[39;00m e:\n",
      "File \u001b[0;32m~/work/meerkat/meerkat/meerkat/datasets/registry.py:27\u001b[0m, in \u001b[0;36mRegistry.get\u001b[0;34m(self, name, **kwargs)\u001b[0m\n\u001b[1;32m     22\u001b[0m \u001b[38;5;28;01mif\u001b[39;00m ret \u001b[38;5;129;01mis\u001b[39;00m \u001b[38;5;28;01mNone\u001b[39;00m:\n\u001b[1;32m     23\u001b[0m     \u001b[38;5;28;01mraise\u001b[39;00m \u001b[38;5;167;01mKeyError\u001b[39;00m(\n\u001b[1;32m     24\u001b[0m         \u001b[38;5;124m\"\u001b[39m\u001b[38;5;124mNo object named \u001b[39m\u001b[38;5;124m'\u001b[39m\u001b[38;5;132;01m{}\u001b[39;00m\u001b[38;5;124m'\u001b[39m\u001b[38;5;124m found in \u001b[39m\u001b[38;5;124m'\u001b[39m\u001b[38;5;132;01m{}\u001b[39;00m\u001b[38;5;124m'\u001b[39m\u001b[38;5;124m registry!\u001b[39m\u001b[38;5;124m\"\u001b[39m\u001b[38;5;241m.\u001b[39mformat(name, \u001b[38;5;28mself\u001b[39m\u001b[38;5;241m.\u001b[39m_name)\n\u001b[1;32m     25\u001b[0m     )\n\u001b[0;32m---> 27\u001b[0m \u001b[38;5;28;01mreturn\u001b[39;00m \u001b[43mret\u001b[49m\u001b[43m(\u001b[49m\u001b[38;5;241;43m*\u001b[39;49m\u001b[38;5;241;43m*\u001b[39;49m\u001b[43mkwargs\u001b[49m\u001b[43m)\u001b[49m\u001b[43m(\u001b[49m\u001b[43m)\u001b[49m\n",
      "File \u001b[0;32m~/work/meerkat/meerkat/meerkat/datasets/abstract.py:65\u001b[0m, in \u001b[0;36mDatasetBuilder.__call__\u001b[0;34m(self)\u001b[0m\n\u001b[1;32m     60\u001b[0m \u001b[38;5;28;01mif\u001b[39;00m \u001b[38;5;129;01mnot\u001b[39;00m \u001b[38;5;28mself\u001b[39m\u001b[38;5;241m.\u001b[39mis_downloaded():\n\u001b[1;32m     61\u001b[0m     \u001b[38;5;28;01mraise\u001b[39;00m \u001b[38;5;167;01mValueError\u001b[39;00m(\n\u001b[1;32m     62\u001b[0m         \u001b[38;5;124mf\u001b[39m\u001b[38;5;124m\"\u001b[39m\u001b[38;5;124mDataset \u001b[39m\u001b[38;5;132;01m{\u001b[39;00m\u001b[38;5;28mself\u001b[39m\u001b[38;5;241m.\u001b[39mname\u001b[38;5;132;01m}\u001b[39;00m\u001b[38;5;124m is not downloaded to \u001b[39m\u001b[38;5;132;01m{\u001b[39;00m\u001b[38;5;28mself\u001b[39m\u001b[38;5;241m.\u001b[39mdataset_dir\u001b[38;5;132;01m}\u001b[39;00m\u001b[38;5;124m.\u001b[39m\u001b[38;5;124m\"\u001b[39m\n\u001b[1;32m     63\u001b[0m     )\n\u001b[0;32m---> 65\u001b[0m \u001b[38;5;28;01mreturn\u001b[39;00m \u001b[38;5;28;43mself\u001b[39;49m\u001b[38;5;241;43m.\u001b[39;49m\u001b[43mbuild\u001b[49m\u001b[43m(\u001b[49m\u001b[43m)\u001b[49m\n",
      "File \u001b[0;32m~/work/meerkat/meerkat/meerkat/datasets/imagenette/__init__.py:71\u001b[0m, in \u001b[0;36mimagenette.build\u001b[0;34m(self)\u001b[0m\n\u001b[1;32m     69\u001b[0m df \u001b[38;5;241m=\u001b[39m \u001b[38;5;28mself\u001b[39m\u001b[38;5;241m.\u001b[39m_build_df()\n\u001b[1;32m     70\u001b[0m df \u001b[38;5;241m=\u001b[39m mk\u001b[38;5;241m.\u001b[39mDataFrame\u001b[38;5;241m.\u001b[39mfrom_pandas(df)\n\u001b[0;32m---> 71\u001b[0m df[\u001b[38;5;124m\"\u001b[39m\u001b[38;5;124mimg\u001b[39m\u001b[38;5;124m\"\u001b[39m] \u001b[38;5;241m=\u001b[39m \u001b[43mmk\u001b[49m\u001b[38;5;241;43m.\u001b[39;49m\u001b[43mimage\u001b[49m\u001b[43m(\u001b[49m\u001b[43mdf\u001b[49m\u001b[43m[\u001b[49m\u001b[38;5;124;43m\"\u001b[39;49m\u001b[38;5;124;43mimg_path\u001b[39;49m\u001b[38;5;124;43m\"\u001b[39;49m\u001b[43m]\u001b[49m\u001b[43m,\u001b[49m\u001b[43m \u001b[49m\u001b[43mbase_dir\u001b[49m\u001b[38;5;241;43m=\u001b[39;49m\u001b[38;5;28;43mself\u001b[39;49m\u001b[38;5;241;43m.\u001b[39;49m\u001b[43mdata_dir\u001b[49m\u001b[43m)\u001b[49m\n\u001b[1;32m     72\u001b[0m df\u001b[38;5;241m.\u001b[39mset_primary_key(\u001b[38;5;124m\"\u001b[39m\u001b[38;5;124mimg_id\u001b[39m\u001b[38;5;124m\"\u001b[39m, inplace\u001b[38;5;241m=\u001b[39m\u001b[38;5;28;01mTrue\u001b[39;00m)\n\u001b[1;32m     73\u001b[0m \u001b[38;5;28;01mreturn\u001b[39;00m df\n",
      "File \u001b[0;32m~/work/meerkat/meerkat/meerkat/columns/deferred/image.py:43\u001b[0m, in \u001b[0;36mimage\u001b[0;34m(filepaths, base_dir, downloader, loader, cache_dir)\u001b[0m\n\u001b[1;32m     23\u001b[0m \u001b[38;5;129m@docs\u001b[39m\u001b[38;5;241m.\u001b[39mdoc(source\u001b[38;5;241m=\u001b[39mFILE_SHARED_DOCS)\n\u001b[1;32m     24\u001b[0m \u001b[38;5;28;01mdef\u001b[39;00m \u001b[38;5;21mimage\u001b[39m(\n\u001b[1;32m     25\u001b[0m     filepaths: Sequence[\u001b[38;5;28mstr\u001b[39m],\n\u001b[0;32m   (...)\u001b[0m\n\u001b[1;32m     29\u001b[0m     cache_dir: \u001b[38;5;28mstr\u001b[39m \u001b[38;5;241m=\u001b[39m \u001b[38;5;28;01mNone\u001b[39;00m,\n\u001b[1;32m     30\u001b[0m ):\n\u001b[1;32m     31\u001b[0m \u001b[38;5;250m    \u001b[39m\u001b[38;5;124;03m\"\"\"Create a :class:`FileColumn` where each cell represents an image stored\u001b[39;00m\n\u001b[1;32m     32\u001b[0m \u001b[38;5;124;03m    on disk. The underlying data is a :class:`ScalarColumn` of strings, where\u001b[39;00m\n\u001b[1;32m     33\u001b[0m \u001b[38;5;124;03m    each string is the path to an image.\u001b[39;00m\n\u001b[0;32m   (...)\u001b[0m\n\u001b[1;32m     41\u001b[0m \u001b[38;5;124;03m        ${cache_dir}\u001b[39;00m\n\u001b[1;32m     42\u001b[0m \u001b[38;5;124;03m    \"\"\"\u001b[39;00m\n\u001b[0;32m---> 43\u001b[0m     \u001b[38;5;28;01mreturn\u001b[39;00m \u001b[43mFileColumn\u001b[49m\u001b[43m(\u001b[49m\n\u001b[1;32m     44\u001b[0m \u001b[43m        \u001b[49m\u001b[43mfilepaths\u001b[49m\u001b[43m,\u001b[49m\n\u001b[1;32m     45\u001b[0m \u001b[43m        \u001b[49m\u001b[43mbase_dir\u001b[49m\u001b[38;5;241;43m=\u001b[39;49m\u001b[43mbase_dir\u001b[49m\u001b[43m,\u001b[49m\n\u001b[1;32m     46\u001b[0m \u001b[43m        \u001b[49m\u001b[43mloader\u001b[49m\u001b[38;5;241;43m=\u001b[39;49m\u001b[43mloader\u001b[49m\u001b[43m,\u001b[49m\n\u001b[1;32m     47\u001b[0m \u001b[43m        \u001b[49m\u001b[43mdownloader\u001b[49m\u001b[38;5;241;43m=\u001b[39;49m\u001b[43mdownloader\u001b[49m\u001b[43m,\u001b[49m\n\u001b[1;32m     48\u001b[0m \u001b[43m        \u001b[49m\u001b[43mcache_dir\u001b[49m\u001b[38;5;241;43m=\u001b[39;49m\u001b[43mcache_dir\u001b[49m\u001b[43m,\u001b[49m\n\u001b[1;32m     49\u001b[0m \u001b[43m        \u001b[49m\u001b[43mformatters\u001b[49m\u001b[38;5;241;43m=\u001b[39;49m\u001b[43mdeferred_formatter_group\u001b[49m\u001b[43m(\u001b[49m\u001b[43mImageFormatterGroup\u001b[49m\u001b[43m(\u001b[49m\u001b[43m)\u001b[49m\u001b[43m)\u001b[49m\u001b[43m,\u001b[49m\n\u001b[1;32m     50\u001b[0m \u001b[43m    \u001b[49m\u001b[43m)\u001b[49m\n",
      "File \u001b[0;32m~/work/meerkat/meerkat/meerkat/columns/deferred/file.py:314\u001b[0m, in \u001b[0;36mFileColumn.__init__\u001b[0;34m(self, data, type, loader, downloader, base_dir, cache_dir, formatters, *args, **kwargs)\u001b[0m\n\u001b[1;32m    311\u001b[0m     \u001b[38;5;28mtype\u001b[39m \u001b[38;5;241m=\u001b[39m _infer_file_type(data)\n\u001b[1;32m    313\u001b[0m \u001b[38;5;28;01mif\u001b[39;00m \u001b[38;5;28mtype\u001b[39m \u001b[38;5;129;01mnot\u001b[39;00m \u001b[38;5;129;01min\u001b[39;00m FILE_TYPES:\n\u001b[0;32m--> 314\u001b[0m     \u001b[38;5;28;01mraise\u001b[39;00m \u001b[38;5;167;01mValueError\u001b[39;00m(\u001b[38;5;124mf\u001b[39m\u001b[38;5;124m\"\u001b[39m\u001b[38;5;124mInvalid file type \u001b[39m\u001b[38;5;132;01m{\u001b[39;00m\u001b[38;5;28mtype\u001b[39m\u001b[38;5;132;01m}\u001b[39;00m\u001b[38;5;124m.\u001b[39m\u001b[38;5;124m\"\u001b[39m)\n\u001b[1;32m    316\u001b[0m spec \u001b[38;5;241m=\u001b[39m FILE_TYPES[\u001b[38;5;28mtype\u001b[39m]\n\u001b[1;32m    317\u001b[0m loader \u001b[38;5;241m=\u001b[39m spec[\u001b[38;5;124m\"\u001b[39m\u001b[38;5;124mloader\u001b[39m\u001b[38;5;124m\"\u001b[39m] \u001b[38;5;28;01mif\u001b[39;00m loader \u001b[38;5;129;01mis\u001b[39;00m \u001b[38;5;28;01mNone\u001b[39;00m \u001b[38;5;28;01melse\u001b[39;00m loader\n",
      "\u001b[0;31mValueError\u001b[0m: Invalid file type None."
     ]
    }
   ],
   "source": [
    "IMAGE_COLUMN = \"img\"\n",
    "df = mk.get(\"imagenette\", version=\"160px\")"
   ]
  },
  {
   "cell_type": "code",
   "execution_count": null,
   "id": "20b93998",
   "metadata": {},
   "outputs": [],
   "source": [
    "EMBED_COLUMN = \"img_clip\"\n",
    "\n",
    "# Download the precomupted CLIP embeddings for imagenette.\n",
    "df_clip = mk.DataFrame.read(\n",
    "    \"https://huggingface.co/datasets/meerkat-ml/meerkat-dataframes/resolve/main/embeddings/imagenette_160px.mk.tar.gz\",\n",
    "    overwrite=False,\n",
    ")"
   ]
  },
  {
   "cell_type": "code",
   "execution_count": null,
   "id": "4d424374",
   "metadata": {
    "tags": [
     "remove-output"
    ]
   },
   "outputs": [],
   "source": [
    "df = df.merge(df_clip[[\"img_id\", \"img_clip\"]], on=\"img_id\")"
   ]
  },
  {
   "cell_type": "code",
   "execution_count": null,
   "id": "5374e1e3",
   "metadata": {
    "tags": [
     "remove-input"
    ]
   },
   "outputs": [],
   "source": [
    "df.head()"
   ]
  },
  {
   "cell_type": "markdown",
   "id": "a187f492",
   "metadata": {},
   "source": [
    "## Creating the `Match` component\n",
    "Now that we have a data frame with the dataset and CLIP image embeddings, we want to be able to run a search over the dataset. To do this, we'll use the `Match` component, which allows us to match a query to the dataset."
   ]
  },
  {
   "cell_type": "code",
   "execution_count": null,
   "id": "2f74a321",
   "metadata": {},
   "outputs": [],
   "source": [
    "match = mk.gui.Match(df, against=EMBED_COLUMN)"
   ]
  },
  {
   "cell_type": "markdown",
   "id": "ed653bca",
   "metadata": {},
   "source": [
    "Here, `against` is the column in the data frame that we want to match against. In this case, we want to match against the CLIP embeddings.\n",
    "\n",
    "`Match` is a complex component that does a few things:\n",
    "- as a component, it visualizes a search bar where users can type in a query\n",
    "- it provides an endpoint attribute, `on_match`, which can be used to run an endpoint when the user types in a query\n",
    "- by default, `Match` assigns `on_match` to an endpoint that adds a column to the data frame with the match scores\n",
    "\n",
    "## Getting the match criteria\n",
    "\n",
    "When a match query is run, it generates a new column in the data frame with the match scores. The name of this column is stored in the `criterion` attribute of the `Match` component. We can use this to get the name of the match criterion.\n",
    "\n",
    "Let's use a `magic` context manager to get the name of the match criterion. Using `magic` makes the `match.criterion` Store property accessors reactive, so accessing its `name` attribute will cause this property access to re-run when the criterion is updated."
   ]
  },
  {
   "cell_type": "code",
   "execution_count": null,
   "id": "5a626ad6",
   "metadata": {},
   "outputs": [],
   "source": [
    "# Get the name of the match criterion in a reactive way.\n",
    "with mk.magic():\n",
    "    criterion_name = match.criterion.name"
   ]
  },
  {
   "cell_type": "markdown",
   "id": "0d6febad",
   "metadata": {},
   "source": [
    "Now, when a new match query is run, `criterion_name` will be updated to the name of the new match criterion.\n",
    "\n",
    "## Sorting by match scores\n",
    "Now that we have the name of the match criterion, we'll use it to sort the data frame by the match scores. We'll use the `mk.sort` function to do this.\n",
    "\n",
    "We also want sorting to be reactive, so that when a new match query is run, the data frame is sorted by the new match scores. Fortunately, `mk.sort` is a reactive function.\n",
    "\n",
    "However, before we run `sort`, we need to _mark_ the data frame `df`. Any reactive functions that take `df` as an argument when it is marked will re-run when it is updated."
   ]
  },
  {
   "cell_type": "code",
   "execution_count": null,
   "id": "8df81017",
   "metadata": {},
   "outputs": [],
   "source": [
    "df.mark()\n",
    "df_sorted = mk.sort(data=df, by=criterion_name, ascending=False)"
   ]
  },
  {
   "cell_type": "markdown",
   "id": "ca6e283a",
   "metadata": {},
   "source": [
    "With this, we now ensure that when `df` is updated with the new match scores from the user's query, `df_sorted` will be re-sorted by the column with the new match scores.\n",
    "\n",
    "## Visualizing results in a `Gallery`\n",
    "Now that we have a sorted data frame, we can visualize the results. Let's use a `Gallery` component to visualize the data frame, and show the images by default."
   ]
  },
  {
   "cell_type": "code",
   "execution_count": null,
   "id": "420199c2",
   "metadata": {},
   "outputs": [],
   "source": [
    "gallery = mk.gui.Gallery(df_sorted, main_column=IMAGE_COLUMN)"
   ]
  },
  {
   "cell_type": "markdown",
   "id": "ff157188",
   "metadata": {},
   "source": [
    "## Putting it all together\n",
    "With all the pieces, let's put them together into a `Page` and launch the app.\n",
    "```python\n",
    "page = mk.gui.Page(\n",
    "    component=mk.gui.html.flexcol([match, gallery]),\n",
    "    id=\"match\",\n",
    ")\n",
    "page.launch()\n",
    "```"
   ]
  }
 ],
 "metadata": {
  "file_format": "mystnb",
  "kernelspec": {
   "display_name": "python3",
   "name": "python3"
  },
  "language_info": {
   "codemirror_mode": {
    "name": "ipython",
    "version": 3
   },
   "file_extension": ".py",
   "mimetype": "text/x-python",
   "name": "python",
   "nbconvert_exporter": "python",
   "pygments_lexer": "ipython3",
   "version": "3.8.16"
  },
  "source_map": [
   5,
   31,
   35,
   39,
   44,
   54,
   59,
   62,
   68,
   70,
   83,
   87,
   97,
   100,
   107,
   109
  ]
 },
 "nbformat": 4,
 "nbformat_minor": 5
}