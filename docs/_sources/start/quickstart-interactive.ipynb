{
 "cells": [
  {
   "cell_type": "markdown",
   "id": "da10c105",
   "metadata": {},
   "source": [
    "(quickstart_interactive)=\n",
    "\n",
    "# Quickstart: Interactive Apps\n",
    "\n",
    "We'll do a quick tour of how to build interactive applications with Meerkat. Along with our data frames, we also provide tools for you to build applications over unstructured data. If you haven't already, go check out our {ref}`Quickstart: DataFrames <quickstart-df>` guide to learn more about the basics of working with data frames in Meerkat.\n",
    "\n",
    "Working with unstructured data frequently involves interacting with it and visualizing it.\n",
    "There's no better way to do that than through an interactive application.\n",
    "These applications can range from simple user input forms inside Jupyter notebooks to full-blown dashboards and web applications that are deployed to the cloud.\n",
    "\n",
    "Make sure you have Meerkat {ref}`installed and running <install>` before you go through this quickstart. You can run the code in this demo using\n",
    "\n",
    "```bash\n",
    "mk demo quickstart-interactive\n",
    "```\n",
    "\n",
    "## 🖼️ Components: Display Elements\n",
    "\n",
    "In Meerkat, components split up the visual, user interface into independent, resuable pieces.\n",
    "Each piece can be simple, such as a slider that allows you to choose a number, or complex, such as a dashboard that helps you explore your data.\n",
    "\n",
    "Let's look at an example with a {py:class}`meerkat.interactive.core.Slider` component. The code below creates a slider with an initial value of `2.0`.\n",
    "\n",
    "````{margin}\n",
    "```{admonition} In-Built Components and Customization\n",
    ":class: tip\n",
    "Meerkat offers many components out-of-the-box, and gives you a lot of support to create custom components, whether in pure Python, or with a little bit of Svelte. Check out our {ref}`Components guide <component>`.\n",
    "```\n",
    "````"
   ]
  },
  {
   "cell_type": "code",
   "execution_count": 1,
   "id": "645fd6b4",
   "metadata": {},
   "outputs": [],
   "source": [
    "import meerkat as mk\n",
    "\n",
    "input_slider = mk.gui.core.Slider(value=2.0)"
   ]
  },
  {
   "cell_type": "markdown",
   "id": "f7a9af08",
   "metadata": {},
   "source": [
    "All components live under the `mk.gui.*` namespace e.g. `mk.gui.core` (core Meerkat components), `mk.gui.html` (html tags as components), `mk.gui.flowbite` (Flowbite components) and `mk.gui.plotly` (Plotly components).\n",
    "\n",
    "Once a component is created, it needs to be rendered. We can do this by passing the component to a {py:class}`meerkat.interactive.Page`, giving it an `id`, and launching it.\n",
    "\n",
    "```python\n",
    "page = mk.gui.Page(input_slider, id=\"quickstart\")\n",
    "page.launch()\n",
    "```\n",
    "\n",
    "If you're in a Jupyter notebook, `page.launch()` will render the component directly in the notebook. If you're in a Python script, Meerkat will give you a link where you can navigate to see the page in a browser.\n",
    "\n",
    "Now we have a slider! When we move the slider, the value will automatically be updated in the Python program for us to use.\n",
    "\n",
    "## 📋 Data Components: Display Data Frames\n",
    "\n",
    "Meerkat also includes components that allow us to visualize and interact with data frames (see our quickstart on data frames if you're not familiar). Let's take a look at an example."
   ]
  },
  {
   "cell_type": "code",
   "execution_count": 2,
   "id": "b0f913eb",
   "metadata": {},
   "outputs": [
    {
     "data": {
      "application/vnd.jupyter.widget-view+json": {
       "model_id": "7baf4e076092470da592ae51b7a0ff84",
       "version_major": 2,
       "version_minor": 0
      },
      "text/plain": [
       "Downloading:   0%|          | 0.00/99.0M [00:00<?, ?B/s]"
      ]
     },
     "metadata": {},
     "output_type": "display_data"
    }
   ],
   "source": [
    "df = mk.get(\"imagenette\", version=\"160px\")\n",
    "gallery = mk.gui.Gallery(df, main_column=\"img\")"
   ]
  },
  {
   "cell_type": "markdown",
   "id": "a0dceab0",
   "metadata": {},
   "source": [
    "The {class}`~meerkat.interactive.core.Gallery` component takes in a `mk.DataFrame` as input and visualizes it in a interactive gallery view. Check out other data components like `Table`, `Filter` and `Match` in the list of available components {ref}`here <components_inbuilts>`.\n",
    "\n",
    "````{margin}\n",
    "```{admonition} Declarative Component Interfaces\n",
    ":class: note\n",
    "\n",
    "One of our goals in Meerkat is to provide a consistent interface for data frame components.\n",
    "\n",
    "For example, we generally implement DataFrame components so they can be called with `ComponentName(df, kwarg1=value1, kwarg2=value2, ...)`. This is reminiscent of how data frames in Pandas are used with Seaborn's plotting library.\n",
    "```\n",
    "\n",
    "````\n",
    "\n",
    "## 🧩 Composing Components for Layout\n",
    "\n",
    "Components are composable, so you can take multiple components and put them together to build an application. For example, let's say you have two components.\n",
    "\n",
    "```python\n",
    "input_slider = mk.gui.Slider(value=2.0)\n",
    "input_field = mk.gui.NumberInput(value=2.0)\n",
    "```\n",
    "\n",
    "You can put them together like so:\n",
    "\n",
    "```python\n",
    "page = mk.gui.Page(\n",
    "    mk.gui.html.div([input_slider, input_field]), \n",
    "    id=\"quickstart\",\n",
    ")\n",
    "page.launch()\n",
    "```\n",
    "\n",
    "Here, a `div` is used to stack up the two components and lay them out.\n",
    "You can use HTML tags like `span`, `div`, `p` as components in Meerkat.\n",
    "A full list of supported HTML components is available {ref}`here <components_inbuilts_html>`.\n",
    "\n",
    "```{admonition} More on Components\n",
    ":class: note\n",
    "There's a lot more to Meerkat components that you can learn about in the {ref}`Components <components_index>` guide. We go over other components in Meerkat from the [flowbite library](https://flowbite.com/docs/getting-started/introduction/), how to add components from any Svelte component library using only Python, and how to write custom Meerkat components in Svelte.\n",
    "```\n",
    "\n",
    "## 🖇️ Connecting Components\n",
    "\n",
    "We might like to tie the values of the the slider and the input, so that they stay in-sync. This can be done by simply passing `input_slider.value` to the input component.\n",
    "\n",
    "```python\n",
    "input_slider = mk.gui.Slider(value=2.0)\n",
    "input_field = mk.gui.NumberInput(value=input_slider.value)\n",
    "```\n",
    "\n",
    "## 🏃‍♂️ Reactive Functions\n",
    "\n",
    "In the app created above, moving the slider in the UI will affect the displayed value. Let's upgrade our app by displaying the square of the current value, not the original. This will require writing a function that runs every time the slider value changes. Introducing _reactive functions_!\n",
    "\n",
    "```{admonition} Definition: _reactive function_\n",
    "A function that reruns when one of its inputs changes.\n",
    "```\n",
    "\n",
    "Reactive functions in Meerkat are created with the `mk.reactive()` decorator.\n",
    "\n",
    "Let's create a reactive function called `square`."
   ]
  },
  {
   "cell_type": "code",
   "execution_count": 3,
   "id": "e71d4bb6",
   "metadata": {
    "tags": [
     "remove-cell"
    ]
   },
   "outputs": [],
   "source": [
    "import meerkat as mk"
   ]
  },
  {
   "cell_type": "code",
   "execution_count": 4,
   "id": "16d8b23a",
   "metadata": {},
   "outputs": [],
   "source": [
    "@mk.reactive()\n",
    "def square(a: float) -> float:\n",
    "    return a ** 2\n",
    "\n",
    "input_slider = mk.gui.Slider(value=2.0)\n",
    "\n",
    "result = square(input_slider.value)"
   ]
  },
  {
   "cell_type": "markdown",
   "id": "6b1631f8",
   "metadata": {},
   "source": [
    "```python\n",
    "page = mk.gui.Page(mk.gui.html.div([input_slider, mk.gui.Text(result)]), id=\"quickstart\")\n",
    "page.launch()\n",
    "```\n",
    "\n",
    "_How does this work?_\n",
    "\n",
    "Since we invoke `square` by passing in `input_slider.value`, whenever that value changes, the function reruns.\n",
    "\n",
    "Let's be precise about how this happens.\n",
    "\n",
    "1. The value of the `input_slider` is a floating point number, but when we check the type of `input_slider.value`, we'll see it is actually a special Meerkat object called a `Store`."
   ]
  },
  {
   "cell_type": "code",
   "execution_count": 5,
   "id": "73a56994",
   "metadata": {},
   "outputs": [
    {
     "data": {
      "text/plain": [
       "meerkat.interactive.graph.store.Store"
      ]
     },
     "execution_count": 5,
     "metadata": {},
     "output_type": "execute_result"
    }
   ],
   "source": [
    "type(input_slider.value)"
   ]
  },
  {
   "cell_type": "markdown",
   "id": "3a6e5be2",
   "metadata": {},
   "source": [
    "   A `Store` can wrap around arbitrary Python objects, while still exposing all of their functions and properties. In almost all cases, we can use a `Store` as if it were unwrapped."
   ]
  },
  {
   "cell_type": "code",
   "execution_count": 6,
   "id": "5248c76f",
   "metadata": {},
   "outputs": [
    {
     "data": {
      "text/plain": [
       "True"
      ]
     },
     "execution_count": 6,
     "metadata": {},
     "output_type": "execute_result"
    }
   ],
   "source": [
    "input_slider.value.is_integer()"
   ]
  },
  {
   "cell_type": "markdown",
   "id": "37d40147",
   "metadata": {},
   "source": [
    "   By any Python object, we mean **_any_**, so we can even do this:"
   ]
  },
  {
   "cell_type": "code",
   "execution_count": 7,
   "id": "c46b319e",
   "metadata": {},
   "outputs": [
    {
     "data": {
      "text/plain": [
       "<pandas.core.groupby.generic.DataFrameGroupBy object at 0x7f61da471a00>"
      ]
     },
     "execution_count": 7,
     "metadata": {},
     "output_type": "execute_result"
    }
   ],
   "source": [
    "import pandas as pd\n",
    "\n",
    "df = mk.Store(pd.DataFrame({'a': [1, 2, 3], 'b': [1, 1, 2]}))\n",
    "df.groupby(by='b')"
   ]
  },
  {
   "cell_type": "markdown",
   "id": "f7053dc9",
   "metadata": {},
   "source": [
    "```{margin}\n",
    "`Store` does have gotchas with certain objects that you can read more about {ref}`here <guide_interactive_concepts_store_gotchas>` (e.g., `Store(None) is None` will return `False`).\n",
    "```\n",
    "\n",
    "2. Passing this `Store` to `square` tells Meerkat to watch `input_slider.value` and rerun `square` when it changes. Remember that this only works because `square` is decorated with `@mk.reactive()`."
   ]
  },
  {
   "cell_type": "code",
   "execution_count": 8,
   "id": "c12fc3f7",
   "metadata": {},
   "outputs": [],
   "source": [
    "squared_value = square(input_slider.value)"
   ]
  },
  {
   "cell_type": "markdown",
   "id": "596782f8",
   "metadata": {},
   "source": [
    "## 🔗 Chaining Reactive Functions\n",
    "\n",
    "Because it is a reactive function, the result of `square` is a `Store`, so we can pass it into other reactive functions and create a chain! Let's write a function `multiply` that takes as input a coefficient and the result of `square` and returns the product of the two."
   ]
  },
  {
   "cell_type": "code",
   "execution_count": 9,
   "id": "1b6dabe5",
   "metadata": {},
   "outputs": [],
   "source": [
    "@mk.reactive()\n",
    "def square(a: float) -> float:\n",
    "    return a ** 2\n",
    "\n",
    "\n",
    "@mk.reactive()\n",
    "def multiply(coef: float, a: float) -> float:\n",
    "    return coef * a\n",
    "\n",
    "\n",
    "input_slider = mk.gui.Slider(value=2.0)\n",
    "coef_slider = mk.gui.Slider(value=2.0)\n",
    "\n",
    "squared_value = square(input_slider.value)\n",
    "result = multiply(coef_slider.value, squared_value)"
   ]
  },
  {
   "cell_type": "markdown",
   "id": "0517c3de",
   "metadata": {},
   "source": [
    "```python\n",
    "page = mk.gui.Page(\n",
    "    mk.gui.html.div([input_slider, coef_slider, mk.gui.Text(result)]),\n",
    "    id=\"quickstart\",\n",
    ")\n",
    "page.launch()\n",
    "```\n",
    "\n",
    "Moving the `input_slider` sets off a chain reaction!\n",
    "\n",
    "The `square` function is rerun, which changes the value of the `squared_value` `Store`, which in turn triggers the `multiply` function. At the end we get a new `result` that is displayed to the user.\n",
    "\n",
    "Now, if we we instead move the `coef_slider`, _only_ the `multiply` function will rerun. Meerkat will save the cost of running `square` again, since its input (`input_slider.value`) was not changed.\n",
    "\n",
    "```{margin}\n",
    "📌 **Return values of reactive functions.**\n",
    "An important concept to remember when chaining reactive functions is that reactive functions will always wrap their return values in `Store` objects before returning them. This is handled automatically by Meerkat on any function decorated with `@mk.reactive()`.\n",
    "\n",
    "You can read more about this in the {ref}`Reactive FAQs <reactivity_faqs>`.\n",
    "```\n",
    "\n",
    "The paradigm of reactivity shows up all the time in our applications, so it is important to understand how it works. Here are some examples of when you might want to use reactivity:\n",
    "\n",
    "- Say you have a DataFrame, and you create a view of that DataFrame by filtering it. When you edit the DataFrame, you will want the view to update automatically.\n",
    "- More generally, say you have a set of inputs that define some output. If any of the inputs change, you will want the output to update automatically.\n",
    "- Even more generally, say you have a graph that has many sets of inputs and outputs. If some input is changed, you will want all the outputs that depend directly or indirectly on that input to update automatically.\n",
    "\n",
    "## 🔚 Endpoints\n",
    "\n",
    "Often, we want the frontend to trigger a function on the Python backend. This is exactly what _endpoints_ are for.\n",
    "\n",
    "```{admonition} Definition: _endpoint_\n",
    "A function that is run when an event occurs on the frontend.\n",
    "```\n",
    "\n",
    "Similar to reactive functions, endpoints in Meerkat are created with the `@mk.endpoint()` decorator. Inside an endpoint, you can update the value of a `Store` by calling `.set(new_value)` on it.\n",
    "\n",
    "```{margin}\n",
    "Endpoints will automatically unwrap `Store` objects, unless you explicitly type-hint arguments that should be left as `Store` objects.\n",
    "```\n",
    "\n",
    "To demonstrate this, let's add a button that increments `slider.value` when clicked. We'll need to define an endpoint called `increment` that takes as input a `Store`."
   ]
  },
  {
   "cell_type": "code",
   "execution_count": 10,
   "id": "b2d9a93f",
   "metadata": {},
   "outputs": [],
   "source": [
    "@mk.endpoint()\n",
    "def increment(value: mk.Store):\n",
    "    value.set(value + 1)"
   ]
  },
  {
   "cell_type": "markdown",
   "id": "8dc57a0a",
   "metadata": {},
   "source": [
    "Next, we'll use `endpoint.partial` to bind the endpoint to `slider.value`.\n",
    "\n",
    "<!-- TODO: explain `endpoint.partial` -->\n",
    "\n",
    "We can create a new `Button` component and pass the partialed endpoint to its `on_click` argument, which tells the button to run this endpoint when clicked."
   ]
  },
  {
   "cell_type": "code",
   "execution_count": 11,
   "id": "c971f53e",
   "metadata": {},
   "outputs": [],
   "source": [
    "button = mk.gui.Button(\n",
    "    title=\"Increment\", on_click=increment.partial(value=input_slider.value)\n",
    ")"
   ]
  },
  {
   "cell_type": "markdown",
   "id": "ea60988a",
   "metadata": {},
   "source": [
    "## 🥂 Putting it all together\n",
    "\n",
    "```python\n",
    "import meerkat as mk\n",
    "\n",
    "@mk.reactive()\n",
    "def square(a: float) -> float:\n",
    "    return a**2\n",
    "\n",
    "\n",
    "@mk.reactive()\n",
    "def multiply(coef: float, a: float) -> float:\n",
    "    return coef * a\n",
    "\n",
    "\n",
    "@mk.endpoint()\n",
    "def increment(value: mk.Store):\n",
    "    value.set(value + 1)\n",
    "\n",
    "\n",
    "input_slider = mk.gui.Slider(value=2.0)\n",
    "coef_slider = mk.gui.Slider(value=2.0)\n",
    "\n",
    "squared_value = square(input_slider.value)\n",
    "result = multiply(coef_slider.value, squared_value)\n",
    "\n",
    "button = mk.gui.Button(\n",
    "    title=\"Increment\", on_click=increment.partial(value=input_slider.value)\n",
    ")\n",
    "\n",
    "page = mk.gui.Page(\n",
    "    component=mk.gui.html.div([input_slider, coef_slider, button, mk.gui.Text(result)]),\n",
    "    id=\"quickstart\",\n",
    ")\n",
    "page.launch()\n",
    "```\n",
    "\n",
    "\n",
    "## 📚 Where to go next\n",
    "Check out our [tutorials](./tutorials/index.md) to learn more about Meerkat's core concepts."
   ]
  }
 ],
 "metadata": {
  "file_format": "mystnb",
  "kernelspec": {
   "display_name": "python3",
   "name": "python3"
  },
  "language_info": {
   "codemirror_mode": {
    "name": "ipython",
    "version": 3
   },
   "file_extension": ".py",
   "mimetype": "text/x-python",
   "name": "python",
   "nbconvert_exporter": "python",
   "pygments_lexer": "ipython3",
   "version": "3.8.16"
  },
  "source_map": [
   5,
   37,
   41,
   60,
   63,
   127,
   132,
   140,
   155,
   157,
   161,
   163,
   167,
   172,
   180,
   182,
   188,
   204,
   249,
   253,
   261,
   265
  ],
  "widgets": {
   "application/vnd.jupyter.widget-state+json": {
    "state": {
     "0adf1bb756f74c02b7d1d86090347eb2": {
      "model_module": "@jupyter-widgets/base",
      "model_module_version": "2.0.0",
      "model_name": "LayoutModel",
      "state": {
       "_model_module": "@jupyter-widgets/base",
       "_model_module_version": "2.0.0",
       "_model_name": "LayoutModel",
       "_view_count": null,
       "_view_module": "@jupyter-widgets/base",
       "_view_module_version": "2.0.0",
       "_view_name": "LayoutView",
       "align_content": null,
       "align_items": null,
       "align_self": null,
       "border_bottom": null,
       "border_left": null,
       "border_right": null,
       "border_top": null,
       "bottom": null,
       "display": null,
       "flex": null,
       "flex_flow": null,
       "grid_area": null,
       "grid_auto_columns": null,
       "grid_auto_flow": null,
       "grid_auto_rows": null,
       "grid_column": null,
       "grid_gap": null,
       "grid_row": null,
       "grid_template_areas": null,
       "grid_template_columns": null,
       "grid_template_rows": null,
       "height": null,
       "justify_content": null,
       "justify_items": null,
       "left": null,
       "margin": null,
       "max_height": null,
       "max_width": null,
       "min_height": null,
       "min_width": null,
       "object_fit": null,
       "object_position": null,
       "order": null,
       "overflow": null,
       "padding": null,
       "right": null,
       "top": null,
       "visibility": null,
       "width": null
      }
     },
     "1bbd6969f82f4c6f9652c247e74968d6": {
      "model_module": "@jupyter-widgets/controls",
      "model_module_version": "2.0.0",
      "model_name": "FloatProgressModel",
      "state": {
       "_dom_classes": [],
       "_model_module": "@jupyter-widgets/controls",
       "_model_module_version": "2.0.0",
       "_model_name": "FloatProgressModel",
       "_view_count": null,
       "_view_module": "@jupyter-widgets/controls",
       "_view_module_version": "2.0.0",
       "_view_name": "ProgressView",
       "bar_style": "success",
       "description": "",
       "description_allow_html": false,
       "layout": "IPY_MODEL_0adf1bb756f74c02b7d1d86090347eb2",
       "max": 99003388.0,
       "min": 0.0,
       "orientation": "horizontal",
       "style": "IPY_MODEL_6f5f79903d2b48e3a7e22cce867063a1",
       "tabbable": null,
       "tooltip": null,
       "value": 99003388.0
      }
     },
     "348e5a39771b42778414b0b5be9a175b": {
      "model_module": "@jupyter-widgets/controls",
      "model_module_version": "2.0.0",
      "model_name": "HTMLStyleModel",
      "state": {
       "_model_module": "@jupyter-widgets/controls",
       "_model_module_version": "2.0.0",
       "_model_name": "HTMLStyleModel",
       "_view_count": null,
       "_view_module": "@jupyter-widgets/base",
       "_view_module_version": "2.0.0",
       "_view_name": "StyleView",
       "background": null,
       "description_width": "",
       "font_size": null,
       "text_color": null
      }
     },
     "39feea0cc90144a1951eb83b2cfe2073": {
      "model_module": "@jupyter-widgets/base",
      "model_module_version": "2.0.0",
      "model_name": "LayoutModel",
      "state": {
       "_model_module": "@jupyter-widgets/base",
       "_model_module_version": "2.0.0",
       "_model_name": "LayoutModel",
       "_view_count": null,
       "_view_module": "@jupyter-widgets/base",
       "_view_module_version": "2.0.0",
       "_view_name": "LayoutView",
       "align_content": null,
       "align_items": null,
       "align_self": null,
       "border_bottom": null,
       "border_left": null,
       "border_right": null,
       "border_top": null,
       "bottom": null,
       "display": null,
       "flex": null,
       "flex_flow": null,
       "grid_area": null,
       "grid_auto_columns": null,
       "grid_auto_flow": null,
       "grid_auto_rows": null,
       "grid_column": null,
       "grid_gap": null,
       "grid_row": null,
       "grid_template_areas": null,
       "grid_template_columns": null,
       "grid_template_rows": null,
       "height": null,
       "justify_content": null,
       "justify_items": null,
       "left": null,
       "margin": null,
       "max_height": null,
       "max_width": null,
       "min_height": null,
       "min_width": null,
       "object_fit": null,
       "object_position": null,
       "order": null,
       "overflow": null,
       "padding": null,
       "right": null,
       "top": null,
       "visibility": null,
       "width": null
      }
     },
     "6f5f79903d2b48e3a7e22cce867063a1": {
      "model_module": "@jupyter-widgets/controls",
      "model_module_version": "2.0.0",
      "model_name": "ProgressStyleModel",
      "state": {
       "_model_module": "@jupyter-widgets/controls",
       "_model_module_version": "2.0.0",
       "_model_name": "ProgressStyleModel",
       "_view_count": null,
       "_view_module": "@jupyter-widgets/base",
       "_view_module_version": "2.0.0",
       "_view_name": "StyleView",
       "bar_color": null,
       "description_width": ""
      }
     },
     "7baf4e076092470da592ae51b7a0ff84": {
      "model_module": "@jupyter-widgets/controls",
      "model_module_version": "2.0.0",
      "model_name": "HBoxModel",
      "state": {
       "_dom_classes": [],
       "_model_module": "@jupyter-widgets/controls",
       "_model_module_version": "2.0.0",
       "_model_name": "HBoxModel",
       "_view_count": null,
       "_view_module": "@jupyter-widgets/controls",
       "_view_module_version": "2.0.0",
       "_view_name": "HBoxView",
       "box_style": "",
       "children": [
        "IPY_MODEL_b678dca2204c47a7a0a06e00b25d73b4",
        "IPY_MODEL_1bbd6969f82f4c6f9652c247e74968d6",
        "IPY_MODEL_d0e7cf582cfa442ab05e13343fcd7b51"
       ],
       "layout": "IPY_MODEL_39feea0cc90144a1951eb83b2cfe2073",
       "tabbable": null,
       "tooltip": null
      }
     },
     "9e85462fcc9146828d9951ccb455005e": {
      "model_module": "@jupyter-widgets/base",
      "model_module_version": "2.0.0",
      "model_name": "LayoutModel",
      "state": {
       "_model_module": "@jupyter-widgets/base",
       "_model_module_version": "2.0.0",
       "_model_name": "LayoutModel",
       "_view_count": null,
       "_view_module": "@jupyter-widgets/base",
       "_view_module_version": "2.0.0",
       "_view_name": "LayoutView",
       "align_content": null,
       "align_items": null,
       "align_self": null,
       "border_bottom": null,
       "border_left": null,
       "border_right": null,
       "border_top": null,
       "bottom": null,
       "display": null,
       "flex": null,
       "flex_flow": null,
       "grid_area": null,
       "grid_auto_columns": null,
       "grid_auto_flow": null,
       "grid_auto_rows": null,
       "grid_column": null,
       "grid_gap": null,
       "grid_row": null,
       "grid_template_areas": null,
       "grid_template_columns": null,
       "grid_template_rows": null,
       "height": null,
       "justify_content": null,
       "justify_items": null,
       "left": null,
       "margin": null,
       "max_height": null,
       "max_width": null,
       "min_height": null,
       "min_width": null,
       "object_fit": null,
       "object_position": null,
       "order": null,
       "overflow": null,
       "padding": null,
       "right": null,
       "top": null,
       "visibility": null,
       "width": null
      }
     },
     "b678dca2204c47a7a0a06e00b25d73b4": {
      "model_module": "@jupyter-widgets/controls",
      "model_module_version": "2.0.0",
      "model_name": "HTMLModel",
      "state": {
       "_dom_classes": [],
       "_model_module": "@jupyter-widgets/controls",
       "_model_module_version": "2.0.0",
       "_model_name": "HTMLModel",
       "_view_count": null,
       "_view_module": "@jupyter-widgets/controls",
       "_view_module_version": "2.0.0",
       "_view_name": "HTMLView",
       "description": "",
       "description_allow_html": false,
       "layout": "IPY_MODEL_9e85462fcc9146828d9951ccb455005e",
       "placeholder": "​",
       "style": "IPY_MODEL_ce4a2919137a4014acfd2e5e0ec1aaf3",
       "tabbable": null,
       "tooltip": null,
       "value": "Downloading: 100%"
      }
     },
     "b7a1cf090a4c45308c490a3148ee2c4d": {
      "model_module": "@jupyter-widgets/base",
      "model_module_version": "2.0.0",
      "model_name": "LayoutModel",
      "state": {
       "_model_module": "@jupyter-widgets/base",
       "_model_module_version": "2.0.0",
       "_model_name": "LayoutModel",
       "_view_count": null,
       "_view_module": "@jupyter-widgets/base",
       "_view_module_version": "2.0.0",
       "_view_name": "LayoutView",
       "align_content": null,
       "align_items": null,
       "align_self": null,
       "border_bottom": null,
       "border_left": null,
       "border_right": null,
       "border_top": null,
       "bottom": null,
       "display": null,
       "flex": null,
       "flex_flow": null,
       "grid_area": null,
       "grid_auto_columns": null,
       "grid_auto_flow": null,
       "grid_auto_rows": null,
       "grid_column": null,
       "grid_gap": null,
       "grid_row": null,
       "grid_template_areas": null,
       "grid_template_columns": null,
       "grid_template_rows": null,
       "height": null,
       "justify_content": null,
       "justify_items": null,
       "left": null,
       "margin": null,
       "max_height": null,
       "max_width": null,
       "min_height": null,
       "min_width": null,
       "object_fit": null,
       "object_position": null,
       "order": null,
       "overflow": null,
       "padding": null,
       "right": null,
       "top": null,
       "visibility": null,
       "width": null
      }
     },
     "ce4a2919137a4014acfd2e5e0ec1aaf3": {
      "model_module": "@jupyter-widgets/controls",
      "model_module_version": "2.0.0",
      "model_name": "HTMLStyleModel",
      "state": {
       "_model_module": "@jupyter-widgets/controls",
       "_model_module_version": "2.0.0",
       "_model_name": "HTMLStyleModel",
       "_view_count": null,
       "_view_module": "@jupyter-widgets/base",
       "_view_module_version": "2.0.0",
       "_view_name": "StyleView",
       "background": null,
       "description_width": "",
       "font_size": null,
       "text_color": null
      }
     },
     "d0e7cf582cfa442ab05e13343fcd7b51": {
      "model_module": "@jupyter-widgets/controls",
      "model_module_version": "2.0.0",
      "model_name": "HTMLModel",
      "state": {
       "_dom_classes": [],
       "_model_module": "@jupyter-widgets/controls",
       "_model_module_version": "2.0.0",
       "_model_name": "HTMLModel",
       "_view_count": null,
       "_view_module": "@jupyter-widgets/controls",
       "_view_module_version": "2.0.0",
       "_view_name": "HTMLView",
       "description": "",
       "description_allow_html": false,
       "layout": "IPY_MODEL_b7a1cf090a4c45308c490a3148ee2c4d",
       "placeholder": "​",
       "style": "IPY_MODEL_348e5a39771b42778414b0b5be9a175b",
       "tabbable": null,
       "tooltip": null,
       "value": " 99.0M/99.0M [00:01&lt;00:00, 59.3MB/s]"
      }
     }
    },
    "version_major": 2,
    "version_minor": 0
   }
  }
 },
 "nbformat": 4,
 "nbformat_minor": 5
}