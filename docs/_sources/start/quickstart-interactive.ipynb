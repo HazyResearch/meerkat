{
 "cells": [
  {
   "cell_type": "markdown",
   "id": "54ee7d61",
   "metadata": {},
   "source": [
    "(quickstart_interactive)=\n",
    "\n",
    "# Quickstart: Interactive Apps\n",
    "\n",
    "We'll do a quick tour of how to build interactive applications with Meerkat. Along with our data frames, we also provide tools for you to build applications over unstructured data. If you haven't already, go check out our {ref}`Quickstart: DataFrames <quickstart-df>` guide to learn more about the basics of working with data frames in Meerkat.\n",
    "\n",
    "Working with unstructured data frequently involves interacting with it and visualizing it.\n",
    "There's no better way to do that than through an interactive application.\n",
    "These applications can range from simple user input forms inside Jupyter notebooks to full-blown dashboards and web applications that are deployed to the cloud.\n",
    "\n",
    "Make sure you have Meerkat {ref}`installed and running <install>` before you go through this quickstart. You can run the code in this demo using\n",
    "\n",
    "```bash\n",
    "mk demo quickstart-interactive\n",
    "```\n",
    "\n",
    "## 🖼️ Components: Display Elements\n",
    "\n",
    "In Meerkat, components split up the visual, user interface into independent, resuable pieces.\n",
    "Each piece can be simple, such as a slider that allows you to choose a number, or complex, such as a dashboard that helps you explore your data.\n",
    "\n",
    "Let's look at an example with a {py:class}`meerkat.interactive.core.Slider` component. The code below creates a slider with an initial value of `2.0`.\n",
    "\n",
    "````{margin}\n",
    "```{admonition} In-Built Components and Customization\n",
    ":class: tip\n",
    "Meerkat offers many components out-of-the-box, and gives you a lot of support to create custom components, whether in pure Python, or with a little bit of Svelte. Check out our {ref}`Components guide <component>`.\n",
    "```\n",
    "````"
   ]
  },
  {
   "cell_type": "code",
   "execution_count": 1,
   "id": "405ed104",
   "metadata": {},
   "outputs": [],
   "source": [
    "import meerkat as mk\n",
    "\n",
    "input_slider = mk.gui.core.Slider(value=2.0)"
   ]
  },
  {
   "cell_type": "markdown",
   "id": "06e6a9fd",
   "metadata": {},
   "source": [
    "All components live under the `mk.gui.*` namespace e.g. `mk.gui.core` (core Meerkat components), `mk.gui.html` (html tags as components), `mk.gui.flowbite` (Flowbite components) and `mk.gui.plotly` (Plotly components).\n",
    "\n",
    "Once a component is created, it needs to be rendered. We can do this by passing the component to a {py:class}`meerkat.interactive.Page`, giving it an `id`, and launching it.\n",
    "\n",
    "```python\n",
    "page = mk.gui.Page(input_slider, id=\"quickstart\")\n",
    "page.launch()\n",
    "```\n",
    "\n",
    "If you're in a Jupyter notebook, `page.launch()` will render the component directly in the notebook. If you're in a Python script, Meerkat will give you a link where you can navigate to see the page in a browser.\n",
    "\n",
    "Now we have a slider! When we move the slider, the value will automatically be updated in the Python program for us to use.\n",
    "\n",
    "## 📋 Data Components: Display Data Frames\n",
    "\n",
    "Meerkat also includes components that allow us to visualize and interact with data frames (see our quickstart on data frames if you're not familiar). Let's take a look at an example."
   ]
  },
  {
   "cell_type": "code",
   "execution_count": 2,
   "id": "526c1b28",
   "metadata": {},
   "outputs": [
    {
     "data": {
      "application/vnd.jupyter.widget-view+json": {
       "model_id": "36b63292e04d4b81893c2ca2020755c7",
       "version_major": 2,
       "version_minor": 0
      },
      "text/plain": [
       "Downloading:   0%|          | 0.00/99.0M [00:00<?, ?B/s]"
      ]
     },
     "metadata": {},
     "output_type": "display_data"
    }
   ],
   "source": [
    "df = mk.get(\"imagenette\", version=\"160px\")\n",
    "gallery = mk.gui.Gallery(df, main_column=\"img\")"
   ]
  },
  {
   "cell_type": "markdown",
   "id": "c197c8c5",
   "metadata": {},
   "source": [
    "The {class}`~meerkat.interactive.core.Gallery` component takes in a `mk.DataFrame` as input and visualizes it in a interactive gallery view. Check out other data components like `Table`, `Filter` and `Match` in the list of available components {ref}`here <components_inbuilts>`.\n",
    "\n",
    "````{margin}\n",
    "```{admonition} Declarative Component Interfaces\n",
    ":class: note\n",
    "\n",
    "One of our goals in Meerkat is to provide a consistent interface for data frame components.\n",
    "\n",
    "For example, we generally implement DataFrame components so they can be called with `ComponentName(df, kwarg1=value1, kwarg2=value2, ...)`. This is reminiscent of how data frames in Pandas are used with Seaborn's plotting library.\n",
    "```\n",
    "\n",
    "````\n",
    "\n",
    "## 🧩 Composing Components for Layout\n",
    "\n",
    "Components are composable, so you can take multiple components and put them together to build an application. For example, let's say you have two components.\n",
    "\n",
    "```python\n",
    "input_slider = mk.gui.Slider(value=2.0)\n",
    "input_field = mk.gui.NumberInput(value=2.0)\n",
    "```\n",
    "\n",
    "You can put them together like so:\n",
    "\n",
    "```python\n",
    "page = mk.gui.Page(\n",
    "    mk.gui.html.div([input_slider, input_field]), \n",
    "    id=\"quickstart\",\n",
    ")\n",
    "page.launch()\n",
    "```\n",
    "\n",
    "Here, a `div` is used to stack up the two components and lay them out.\n",
    "You can use HTML tags like `span`, `div`, `p` as components in Meerkat.\n",
    "A full list of supported HTML components is available {ref}`here <components_inbuilts_html>`.\n",
    "\n",
    "```{admonition} More on Components\n",
    ":class: note\n",
    "There's a lot more to Meerkat components that you can learn about in the {ref}`Components <components_index>` guide. We go over other components in Meerkat from the [flowbite library](https://flowbite.com/docs/getting-started/introduction/), how to add components from any Svelte component library using only Python, and how to write custom Meerkat components in Svelte.\n",
    "```\n",
    "\n",
    "## 🖇️ Connecting Components\n",
    "\n",
    "We might like to tie the values of the the slider and the input, so that they stay in-sync. This can be done by simply passing `input_slider.value` to the input component.\n",
    "\n",
    "```python\n",
    "input_slider = mk.gui.Slider(value=2.0)\n",
    "input_field = mk.gui.NumberInput(value=input_slider.value)\n",
    "```\n",
    "\n",
    "## 🏃‍♂️ Reactive Functions\n",
    "\n",
    "In the app created above, moving the slider in the UI will affect the displayed value. Let's upgrade our app by displaying the square of the current value, not the original. This will require writing a function that runs every time the slider value changes. Introducing _reactive functions_!\n",
    "\n",
    "```{admonition} Definition: _reactive function_\n",
    "A function that reruns when one of its inputs changes.\n",
    "```\n",
    "\n",
    "Reactive functions in Meerkat are created with the `mk.reactive()` decorator.\n",
    "\n",
    "Let's create a reactive function called `square`."
   ]
  },
  {
   "cell_type": "code",
   "execution_count": 3,
   "id": "113c67b5",
   "metadata": {
    "tags": [
     "remove-cell"
    ]
   },
   "outputs": [],
   "source": [
    "import meerkat as mk"
   ]
  },
  {
   "cell_type": "code",
   "execution_count": 4,
   "id": "02eb16eb",
   "metadata": {},
   "outputs": [],
   "source": [
    "@mk.reactive()\n",
    "def square(a: float) -> float:\n",
    "    return a ** 2\n",
    "\n",
    "input_slider = mk.gui.Slider(value=2.0)\n",
    "\n",
    "result = square(input_slider.value)"
   ]
  },
  {
   "cell_type": "markdown",
   "id": "83b26420",
   "metadata": {},
   "source": [
    "```python\n",
    "page = mk.gui.Page(mk.gui.html.div([input_slider, mk.gui.Text(result)]), id=\"quickstart\")\n",
    "page.launch()\n",
    "```\n",
    "\n",
    "_How does this work?_\n",
    "\n",
    "Since we invoke `square` by passing in `input_slider.value`, whenever that value changes, the function reruns.\n",
    "\n",
    "Let's be precise about how this happens.\n",
    "\n",
    "1. The value of the `input_slider` is a floating point number, but when we check the type of `input_slider.value`, we'll see it is actually a special Meerkat object called a `Store`."
   ]
  },
  {
   "cell_type": "code",
   "execution_count": 5,
   "id": "0ff446f7",
   "metadata": {},
   "outputs": [
    {
     "data": {
      "text/plain": [
       "meerkat.interactive.graph.store.Store"
      ]
     },
     "execution_count": 5,
     "metadata": {},
     "output_type": "execute_result"
    }
   ],
   "source": [
    "type(input_slider.value)"
   ]
  },
  {
   "cell_type": "markdown",
   "id": "dde9043e",
   "metadata": {},
   "source": [
    "   A `Store` can wrap around arbitrary Python objects, while still exposing all of their functions and properties. In almost all cases, we can use a `Store` as if it were unwrapped."
   ]
  },
  {
   "cell_type": "code",
   "execution_count": 6,
   "id": "5d9e24cf",
   "metadata": {},
   "outputs": [
    {
     "data": {
      "text/plain": [
       "True"
      ]
     },
     "execution_count": 6,
     "metadata": {},
     "output_type": "execute_result"
    }
   ],
   "source": [
    "input_slider.value.is_integer()"
   ]
  },
  {
   "cell_type": "markdown",
   "id": "758a90fe",
   "metadata": {},
   "source": [
    "   By any Python object, we mean **_any_**, so we can even do this:"
   ]
  },
  {
   "cell_type": "code",
   "execution_count": 7,
   "id": "84b14941",
   "metadata": {},
   "outputs": [
    {
     "data": {
      "text/plain": [
       "<pandas.core.groupby.generic.DataFrameGroupBy object at 0x7f06e8abff10>"
      ]
     },
     "execution_count": 7,
     "metadata": {},
     "output_type": "execute_result"
    }
   ],
   "source": [
    "import pandas as pd\n",
    "\n",
    "df = mk.Store(pd.DataFrame({'a': [1, 2, 3], 'b': [1, 1, 2]}))\n",
    "df.groupby(by='b')"
   ]
  },
  {
   "cell_type": "markdown",
   "id": "5aa239ee",
   "metadata": {},
   "source": [
    "```{margin}\n",
    "`Store` does have gotchas with certain objects that you can read more about {ref}`here <guide_interactive_concepts_store_gotchas>` (e.g., `Store(None) is None` will return `False`).\n",
    "```\n",
    "\n",
    "2. Passing this `Store` to `square` tells Meerkat to watch `input_slider.value` and rerun `square` when it changes. Remember that this only works because `square` is decorated with `@mk.reactive()`."
   ]
  },
  {
   "cell_type": "code",
   "execution_count": 8,
   "id": "96b98f76",
   "metadata": {},
   "outputs": [],
   "source": [
    "squared_value = square(input_slider.value)"
   ]
  },
  {
   "cell_type": "markdown",
   "id": "21c56512",
   "metadata": {},
   "source": [
    "## 🔗 Chaining Reactive Functions\n",
    "\n",
    "Because it is a reactive function, the result of `square` is a `Store`, so we can pass it into other reactive functions and create a chain! Let's write a function `multiply` that takes as input a coefficient and the result of `square` and returns the product of the two."
   ]
  },
  {
   "cell_type": "code",
   "execution_count": 9,
   "id": "ab404a34",
   "metadata": {},
   "outputs": [],
   "source": [
    "@mk.reactive()\n",
    "def square(a: float) -> float:\n",
    "    return a ** 2\n",
    "\n",
    "\n",
    "@mk.reactive()\n",
    "def multiply(coef: float, a: float) -> float:\n",
    "    return coef * a\n",
    "\n",
    "\n",
    "input_slider = mk.gui.Slider(value=2.0)\n",
    "coef_slider = mk.gui.Slider(value=2.0)\n",
    "\n",
    "squared_value = square(input_slider.value)\n",
    "result = multiply(coef_slider.value, squared_value)"
   ]
  },
  {
   "cell_type": "markdown",
   "id": "35d75a5d",
   "metadata": {},
   "source": [
    "```python\n",
    "page = mk.gui.Page(\n",
    "    mk.gui.html.div([input_slider, coef_slider, mk.gui.Text(result)]),\n",
    "    id=\"quickstart\",\n",
    ")\n",
    "page.launch()\n",
    "```\n",
    "\n",
    "Moving the `input_slider` sets off a chain reaction!\n",
    "\n",
    "The `square` function is rerun, which changes the value of the `squared_value` `Store`, which in turn triggers the `multiply` function. At the end we get a new `result` that is displayed to the user.\n",
    "\n",
    "Now, if we we instead move the `coef_slider`, _only_ the `multiply` function will rerun. Meerkat will save the cost of running `square` again, since its input (`input_slider.value`) was not changed.\n",
    "\n",
    "```{margin}\n",
    "📌 **Return values of reactive functions.**\n",
    "An important concept to remember when chaining reactive functions is that reactive functions will always wrap their return values in `Store` objects before returning them. This is handled automatically by Meerkat on any function decorated with `@mk.reactive()`.\n",
    "\n",
    "You can read more about this in the {ref}`Reactive FAQs <reactivity_faqs>`.\n",
    "```\n",
    "\n",
    "The paradigm of reactivity shows up all the time in our applications, so it is important to understand how it works. Here are some examples of when you might want to use reactivity:\n",
    "\n",
    "- Say you have a DataFrame, and you create a view of that DataFrame by filtering it. When you edit the DataFrame, you will want the view to update automatically.\n",
    "- More generally, say you have a set of inputs that define some output. If any of the inputs change, you will want the output to update automatically.\n",
    "- Even more generally, say you have a graph that has many sets of inputs and outputs. If some input is changed, you will want all the outputs that depend directly or indirectly on that input to update automatically.\n",
    "\n",
    "## 🔚 Endpoints\n",
    "\n",
    "Often, we want the frontend to trigger a function on the Python backend. This is exactly what _endpoints_ are for.\n",
    "\n",
    "```{admonition} Definition: _endpoint_\n",
    "A function that is run when an event occurs on the frontend.\n",
    "```\n",
    "\n",
    "Similar to reactive functions, endpoints in Meerkat are created with the `@mk.endpoint()` decorator. Inside an endpoint, you can update the value of a `Store` by calling `.set(new_value)` on it.\n",
    "\n",
    "```{margin}\n",
    "Endpoints will automatically unwrap `Store` objects, unless you explicitly type-hint arguments that should be left as `Store` objects.\n",
    "```\n",
    "\n",
    "To demonstrate this, let's add a button that increments `slider.value` when clicked. We'll need to define an endpoint called `increment` that takes as input a `Store`."
   ]
  },
  {
   "cell_type": "code",
   "execution_count": 10,
   "id": "0d88c524",
   "metadata": {},
   "outputs": [],
   "source": [
    "@mk.endpoint()\n",
    "def increment(value: mk.Store):\n",
    "    value.set(value + 1)"
   ]
  },
  {
   "cell_type": "markdown",
   "id": "95cbb429",
   "metadata": {},
   "source": [
    "Next, we'll use `endpoint.partial` to bind the endpoint to `slider.value`.\n",
    "\n",
    "<!-- TODO: explain `endpoint.partial` -->\n",
    "\n",
    "We can create a new `Button` component and pass the partialed endpoint to its `on_click` argument, which tells the button to run this endpoint when clicked."
   ]
  },
  {
   "cell_type": "code",
   "execution_count": 11,
   "id": "dc526d56",
   "metadata": {},
   "outputs": [],
   "source": [
    "button = mk.gui.Button(\n",
    "    title=\"Increment\", on_click=increment.partial(value=input_slider.value)\n",
    ")"
   ]
  },
  {
   "cell_type": "markdown",
   "id": "2e88efb7",
   "metadata": {},
   "source": [
    "## 🥂 Putting it all together\n",
    "\n",
    "```python\n",
    "import meerkat as mk\n",
    "\n",
    "@mk.reactive()\n",
    "def square(a: float) -> float:\n",
    "    return a**2\n",
    "\n",
    "\n",
    "@mk.reactive()\n",
    "def multiply(coef: float, a: float) -> float:\n",
    "    return coef * a\n",
    "\n",
    "\n",
    "@mk.endpoint()\n",
    "def increment(value: mk.Store):\n",
    "    value.set(value + 1)\n",
    "\n",
    "\n",
    "input_slider = mk.gui.Slider(value=2.0)\n",
    "coef_slider = mk.gui.Slider(value=2.0)\n",
    "\n",
    "squared_value = square(input_slider.value)\n",
    "result = multiply(coef_slider.value, squared_value)\n",
    "\n",
    "button = mk.gui.Button(\n",
    "    title=\"Increment\", on_click=increment.partial(value=input_slider.value)\n",
    ")\n",
    "\n",
    "page = mk.gui.Page(\n",
    "    component=mk.gui.html.div([input_slider, coef_slider, button, mk.gui.Text(result)]),\n",
    "    id=\"quickstart\",\n",
    ")\n",
    "page.launch()\n",
    "```\n",
    "\n",
    "\n",
    "## 📚 Where to go next\n",
    "Check out our [tutorials](./tutorials/index.md) to learn more about Meerkat's core concepts."
   ]
  }
 ],
 "metadata": {
  "file_format": "mystnb",
  "kernelspec": {
   "display_name": "python3",
   "name": "python3"
  },
  "language_info": {
   "codemirror_mode": {
    "name": "ipython",
    "version": 3
   },
   "file_extension": ".py",
   "mimetype": "text/x-python",
   "name": "python",
   "nbconvert_exporter": "python",
   "pygments_lexer": "ipython3",
   "version": "3.8.16"
  },
  "source_map": [
   5,
   37,
   41,
   60,
   63,
   127,
   132,
   140,
   155,
   157,
   161,
   163,
   167,
   172,
   180,
   182,
   188,
   204,
   249,
   253,
   261,
   265
  ],
  "widgets": {
   "application/vnd.jupyter.widget-state+json": {
    "state": {
     "1e06101baf1f4d0e80d9c4ad34103f2c": {
      "model_module": "@jupyter-widgets/controls",
      "model_module_version": "2.0.0",
      "model_name": "HTMLModel",
      "state": {
       "_dom_classes": [],
       "_model_module": "@jupyter-widgets/controls",
       "_model_module_version": "2.0.0",
       "_model_name": "HTMLModel",
       "_view_count": null,
       "_view_module": "@jupyter-widgets/controls",
       "_view_module_version": "2.0.0",
       "_view_name": "HTMLView",
       "description": "",
       "description_allow_html": false,
       "layout": "IPY_MODEL_3d62bdd1ad254b469bacb7827cc21fed",
       "placeholder": "​",
       "style": "IPY_MODEL_ee23b00219344bf3b3d5313c15e86812",
       "tabbable": null,
       "tooltip": null,
       "value": "Downloading: 100%"
      }
     },
     "2dea8388b480488faf2dc8ea4b77f32e": {
      "model_module": "@jupyter-widgets/base",
      "model_module_version": "2.0.0",
      "model_name": "LayoutModel",
      "state": {
       "_model_module": "@jupyter-widgets/base",
       "_model_module_version": "2.0.0",
       "_model_name": "LayoutModel",
       "_view_count": null,
       "_view_module": "@jupyter-widgets/base",
       "_view_module_version": "2.0.0",
       "_view_name": "LayoutView",
       "align_content": null,
       "align_items": null,
       "align_self": null,
       "border_bottom": null,
       "border_left": null,
       "border_right": null,
       "border_top": null,
       "bottom": null,
       "display": null,
       "flex": null,
       "flex_flow": null,
       "grid_area": null,
       "grid_auto_columns": null,
       "grid_auto_flow": null,
       "grid_auto_rows": null,
       "grid_column": null,
       "grid_gap": null,
       "grid_row": null,
       "grid_template_areas": null,
       "grid_template_columns": null,
       "grid_template_rows": null,
       "height": null,
       "justify_content": null,
       "justify_items": null,
       "left": null,
       "margin": null,
       "max_height": null,
       "max_width": null,
       "min_height": null,
       "min_width": null,
       "object_fit": null,
       "object_position": null,
       "order": null,
       "overflow": null,
       "padding": null,
       "right": null,
       "top": null,
       "visibility": null,
       "width": null
      }
     },
     "36b63292e04d4b81893c2ca2020755c7": {
      "model_module": "@jupyter-widgets/controls",
      "model_module_version": "2.0.0",
      "model_name": "HBoxModel",
      "state": {
       "_dom_classes": [],
       "_model_module": "@jupyter-widgets/controls",
       "_model_module_version": "2.0.0",
       "_model_name": "HBoxModel",
       "_view_count": null,
       "_view_module": "@jupyter-widgets/controls",
       "_view_module_version": "2.0.0",
       "_view_name": "HBoxView",
       "box_style": "",
       "children": [
        "IPY_MODEL_1e06101baf1f4d0e80d9c4ad34103f2c",
        "IPY_MODEL_ec96f5e8c4c7443a9417647de79f520e",
        "IPY_MODEL_5de69d555f7d4fd4a0e3e18597252af1"
       ],
       "layout": "IPY_MODEL_ab3273e1cd1646488b51b6b26b43edc7",
       "tabbable": null,
       "tooltip": null
      }
     },
     "3d62bdd1ad254b469bacb7827cc21fed": {
      "model_module": "@jupyter-widgets/base",
      "model_module_version": "2.0.0",
      "model_name": "LayoutModel",
      "state": {
       "_model_module": "@jupyter-widgets/base",
       "_model_module_version": "2.0.0",
       "_model_name": "LayoutModel",
       "_view_count": null,
       "_view_module": "@jupyter-widgets/base",
       "_view_module_version": "2.0.0",
       "_view_name": "LayoutView",
       "align_content": null,
       "align_items": null,
       "align_self": null,
       "border_bottom": null,
       "border_left": null,
       "border_right": null,
       "border_top": null,
       "bottom": null,
       "display": null,
       "flex": null,
       "flex_flow": null,
       "grid_area": null,
       "grid_auto_columns": null,
       "grid_auto_flow": null,
       "grid_auto_rows": null,
       "grid_column": null,
       "grid_gap": null,
       "grid_row": null,
       "grid_template_areas": null,
       "grid_template_columns": null,
       "grid_template_rows": null,
       "height": null,
       "justify_content": null,
       "justify_items": null,
       "left": null,
       "margin": null,
       "max_height": null,
       "max_width": null,
       "min_height": null,
       "min_width": null,
       "object_fit": null,
       "object_position": null,
       "order": null,
       "overflow": null,
       "padding": null,
       "right": null,
       "top": null,
       "visibility": null,
       "width": null
      }
     },
     "4ba2b2143f6649878756e61adf44ccd6": {
      "model_module": "@jupyter-widgets/controls",
      "model_module_version": "2.0.0",
      "model_name": "HTMLStyleModel",
      "state": {
       "_model_module": "@jupyter-widgets/controls",
       "_model_module_version": "2.0.0",
       "_model_name": "HTMLStyleModel",
       "_view_count": null,
       "_view_module": "@jupyter-widgets/base",
       "_view_module_version": "2.0.0",
       "_view_name": "StyleView",
       "background": null,
       "description_width": "",
       "font_size": null,
       "text_color": null
      }
     },
     "5de69d555f7d4fd4a0e3e18597252af1": {
      "model_module": "@jupyter-widgets/controls",
      "model_module_version": "2.0.0",
      "model_name": "HTMLModel",
      "state": {
       "_dom_classes": [],
       "_model_module": "@jupyter-widgets/controls",
       "_model_module_version": "2.0.0",
       "_model_name": "HTMLModel",
       "_view_count": null,
       "_view_module": "@jupyter-widgets/controls",
       "_view_module_version": "2.0.0",
       "_view_name": "HTMLView",
       "description": "",
       "description_allow_html": false,
       "layout": "IPY_MODEL_2dea8388b480488faf2dc8ea4b77f32e",
       "placeholder": "​",
       "style": "IPY_MODEL_4ba2b2143f6649878756e61adf44ccd6",
       "tabbable": null,
       "tooltip": null,
       "value": " 99.0M/99.0M [00:01&lt;00:00, 67.1MB/s]"
      }
     },
     "8602f479093c43548c4e8b2eb705d5f6": {
      "model_module": "@jupyter-widgets/base",
      "model_module_version": "2.0.0",
      "model_name": "LayoutModel",
      "state": {
       "_model_module": "@jupyter-widgets/base",
       "_model_module_version": "2.0.0",
       "_model_name": "LayoutModel",
       "_view_count": null,
       "_view_module": "@jupyter-widgets/base",
       "_view_module_version": "2.0.0",
       "_view_name": "LayoutView",
       "align_content": null,
       "align_items": null,
       "align_self": null,
       "border_bottom": null,
       "border_left": null,
       "border_right": null,
       "border_top": null,
       "bottom": null,
       "display": null,
       "flex": null,
       "flex_flow": null,
       "grid_area": null,
       "grid_auto_columns": null,
       "grid_auto_flow": null,
       "grid_auto_rows": null,
       "grid_column": null,
       "grid_gap": null,
       "grid_row": null,
       "grid_template_areas": null,
       "grid_template_columns": null,
       "grid_template_rows": null,
       "height": null,
       "justify_content": null,
       "justify_items": null,
       "left": null,
       "margin": null,
       "max_height": null,
       "max_width": null,
       "min_height": null,
       "min_width": null,
       "object_fit": null,
       "object_position": null,
       "order": null,
       "overflow": null,
       "padding": null,
       "right": null,
       "top": null,
       "visibility": null,
       "width": null
      }
     },
     "ab3273e1cd1646488b51b6b26b43edc7": {
      "model_module": "@jupyter-widgets/base",
      "model_module_version": "2.0.0",
      "model_name": "LayoutModel",
      "state": {
       "_model_module": "@jupyter-widgets/base",
       "_model_module_version": "2.0.0",
       "_model_name": "LayoutModel",
       "_view_count": null,
       "_view_module": "@jupyter-widgets/base",
       "_view_module_version": "2.0.0",
       "_view_name": "LayoutView",
       "align_content": null,
       "align_items": null,
       "align_self": null,
       "border_bottom": null,
       "border_left": null,
       "border_right": null,
       "border_top": null,
       "bottom": null,
       "display": null,
       "flex": null,
       "flex_flow": null,
       "grid_area": null,
       "grid_auto_columns": null,
       "grid_auto_flow": null,
       "grid_auto_rows": null,
       "grid_column": null,
       "grid_gap": null,
       "grid_row": null,
       "grid_template_areas": null,
       "grid_template_columns": null,
       "grid_template_rows": null,
       "height": null,
       "justify_content": null,
       "justify_items": null,
       "left": null,
       "margin": null,
       "max_height": null,
       "max_width": null,
       "min_height": null,
       "min_width": null,
       "object_fit": null,
       "object_position": null,
       "order": null,
       "overflow": null,
       "padding": null,
       "right": null,
       "top": null,
       "visibility": null,
       "width": null
      }
     },
     "ec96f5e8c4c7443a9417647de79f520e": {
      "model_module": "@jupyter-widgets/controls",
      "model_module_version": "2.0.0",
      "model_name": "FloatProgressModel",
      "state": {
       "_dom_classes": [],
       "_model_module": "@jupyter-widgets/controls",
       "_model_module_version": "2.0.0",
       "_model_name": "FloatProgressModel",
       "_view_count": null,
       "_view_module": "@jupyter-widgets/controls",
       "_view_module_version": "2.0.0",
       "_view_name": "ProgressView",
       "bar_style": "success",
       "description": "",
       "description_allow_html": false,
       "layout": "IPY_MODEL_8602f479093c43548c4e8b2eb705d5f6",
       "max": 99003388.0,
       "min": 0.0,
       "orientation": "horizontal",
       "style": "IPY_MODEL_fd3d6895ad8b4bc28a16452ad908baac",
       "tabbable": null,
       "tooltip": null,
       "value": 99003388.0
      }
     },
     "ee23b00219344bf3b3d5313c15e86812": {
      "model_module": "@jupyter-widgets/controls",
      "model_module_version": "2.0.0",
      "model_name": "HTMLStyleModel",
      "state": {
       "_model_module": "@jupyter-widgets/controls",
       "_model_module_version": "2.0.0",
       "_model_name": "HTMLStyleModel",
       "_view_count": null,
       "_view_module": "@jupyter-widgets/base",
       "_view_module_version": "2.0.0",
       "_view_name": "StyleView",
       "background": null,
       "description_width": "",
       "font_size": null,
       "text_color": null
      }
     },
     "fd3d6895ad8b4bc28a16452ad908baac": {
      "model_module": "@jupyter-widgets/controls",
      "model_module_version": "2.0.0",
      "model_name": "ProgressStyleModel",
      "state": {
       "_model_module": "@jupyter-widgets/controls",
       "_model_module_version": "2.0.0",
       "_model_name": "ProgressStyleModel",
       "_view_count": null,
       "_view_module": "@jupyter-widgets/base",
       "_view_module_version": "2.0.0",
       "_view_name": "StyleView",
       "bar_color": null,
       "description_width": ""
      }
     }
    },
    "version_major": 2,
    "version_minor": 0
   }
  }
 },
 "nbformat": 4,
 "nbformat_minor": 5
}