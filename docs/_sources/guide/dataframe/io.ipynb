{
 "cells": [
  {
   "cell_type": "markdown",
   "id": "ab1e98f8",
   "metadata": {},
   "source": [
    "(guide/dataframe/io)=\n",
    "\n",
    "# I/O\n",
    "\n",
    "In this guide, we will discuss how to bring data into Meerkat from various file formats and external libraries.  We will also discuss how to export data in Meerkat DataFrames back into these formats. Finally, we'll also discuss how to persist Meerkat DataFrames using {func}`~meerkat.DataFrame.write` and {func}`~meerkat.DataFrame.read`.\n",
    "\n",
    "```{admonition} Should I export or persist?\n",
    "\n",
    "This guide discusses two different ways of saving data in Meerkat: exporting and persisting.\n",
    "They serve different purposes:\n",
    "1. **Export** your DataFrame to another format using one of the `to_*` methods if you need to use the data with other libraries or tools. (See the section on {ref}`exporting`.)\n",
    "2. **Persist** your DataFrame using {func}`~meerkat.DataFrame.write` if you simply want to save it to disk for later use. (See the section on {ref}`persisting`.)\n",
    "```\n",
    "\n",
    "\n",
    "```{contents}\n",
    ":local:\n",
    "```\n",
    "\n",
    "## Importing DataFrames\n",
    "\n",
    "Meerkat has a number of built-in functions for reading in data from various file formats and Python libraries. \n",
    "We'll provide one in depth example for reading in data from a CSV file, and then provide a list of the other supported file formats and libraries.\n",
    "\n",
    "### *Example*: Importing a dataset from CSV\n",
    "\n",
    "Let's load a CSV file from disk and read it into a Meerkat DataFrame. \n",
    "We will be using a small sample of data from the [National Gallery of Art Open Data Program](https://github.com/NationalGalleryOfArt/opendata). We've included this data at `_data/art_ngoa.csv` in the Meerkat repository.\n",
    "\n",
    "We will use the {func}`~meerkat.from_csv` function to read in the data."
   ]
  },
  {
   "cell_type": "code",
   "execution_count": 1,
   "id": "f945b374",
   "metadata": {
    "tags": [
     "output_scroll"
    ]
   },
   "outputs": [
    {
     "data": {
      "text/html": [
       "<table border=\"1\" class=\"dataframe\">\n",
       "  <thead>\n",
       "    <tr style=\"text-align: right;\">\n",
       "      <th></th>\n",
       "      <th>title</th>\n",
       "      <th>attribution</th>\n",
       "      <th>medium</th>\n",
       "      <th>objectid</th>\n",
       "      <th>iiifthumburl</th>\n",
       "    </tr>\n",
       "  </thead>\n",
       "  <tbody>\n",
       "    <tr>\n",
       "      <th>0</th>\n",
       "      <td>Boy with Cat</td>\n",
       "      <td>Ernst Ludwig Kirchner</td>\n",
       "      <td>lithograph on yellow wove paper</td>\n",
       "      <td>103631</td>\n",
       "      <td>https://api.nga.gov/iiif/b309afc0-b270-4c29-9ce7-e8f39125f40d/full/!200,200/0/default.jpg</td>\n",
       "    </tr>\n",
       "    <tr>\n",
       "      <th>1</th>\n",
       "      <td>A Hound Chasing a Hare</td>\n",
       "      <td>Benozzo Gozzoli</td>\n",
       "      <td>pen and brown ink with traces of red chalk, heightened with white on pink prepared paper</td>\n",
       "      <td>75840</td>\n",
       "      <td>https://api.nga.gov/iiif/6e53c5bd-799d-4ac8-a57d-2c831a57da14/full/!200,200/0/default.jpg</td>\n",
       "    </tr>\n",
       "    <tr>\n",
       "      <th>2</th>\n",
       "      <td>Lamp, Lower Portion</td>\n",
       "      <td>Anonymous Artist after Andrea Briosco, called Riccio</td>\n",
       "      <td>gilded bronze</td>\n",
       "      <td>130749</td>\n",
       "      <td>https://api.nga.gov/iiif/8e5477ed-040f-4240-89ca-08d95b1c955b/full/!200,200/0/default.jpg</td>\n",
       "    </tr>\n",
       "    <tr>\n",
       "      <th>3</th>\n",
       "      <td>Andiron with Putto Finial</td>\n",
       "      <td>Nicolò Roccatagliata</td>\n",
       "      <td>bronze</td>\n",
       "      <td>73441</td>\n",
       "      <td>https://api.nga.gov/iiif/a6126402-696e-4333-96af-43362bef1afa/full/!200,200/0/default.jpg</td>\n",
       "    </tr>\n",
       "    <tr>\n",
       "      <th>4</th>\n",
       "      <td>Dispatch No. 4: THREE VALLEYS. The Valleys of Silicon, San Joaquin, and Death</td>\n",
       "      <td>Alec Soth</td>\n",
       "      <td>inkjet print and 48 page newsprint booklet in portfolio case</td>\n",
       "      <td>221224</td>\n",
       "      <td>https://api.nga.gov/iiif/29e05dbf-f0e3-4088-9ffe-83d4ca8c1968/full/!200,200/0/default.jpg</td>\n",
       "    </tr>\n",
       "  </tbody>\n",
       "</table>"
      ],
      "text/plain": [
       "DataFrame(nrows: 5, ncols: 5)"
      ]
     },
     "execution_count": 1,
     "metadata": {},
     "output_type": "execute_result"
    }
   ],
   "source": [
    "import meerkat as mk\n",
    "\n",
    "df = mk.from_csv(\"_data/art_ngoa.csv\")\n",
    "df.head()"
   ]
  },
  {
   "cell_type": "markdown",
   "id": "5ba76578",
   "metadata": {},
   "source": [
    " Notice that each row corresponds to a single work of art, and each column corresponds to a different attribute of the work of art. \n",
    "\n",
    " **Representing images.** The last column, `iiifthumburl`, contains a URL to a thumbnail image of the work.\n",
    "Using {func}`~meerkat.image`, we can download the thumbnail image and display it in the DataFrame."
   ]
  },
  {
   "cell_type": "code",
   "execution_count": 2,
   "id": "cfe5a1f2",
   "metadata": {
    "tags": [
     "output_scroll"
    ]
   },
   "outputs": [
    {
     "ename": "ValueError",
     "evalue": "Invalid file type None.",
     "output_type": "error",
     "traceback": [
      "\u001b[0;31m---------------------------------------------------------------------------\u001b[0m",
      "\u001b[0;31mValueError\u001b[0m                                Traceback (most recent call last)",
      "Cell \u001b[0;32mIn[2], line 1\u001b[0m\n\u001b[0;32m----> 1\u001b[0m df[\u001b[38;5;124m\"\u001b[39m\u001b[38;5;124mimage\u001b[39m\u001b[38;5;124m\"\u001b[39m] \u001b[38;5;241m=\u001b[39m \u001b[43mmk\u001b[49m\u001b[38;5;241;43m.\u001b[39;49m\u001b[43mimage\u001b[49m\u001b[43m(\u001b[49m\u001b[43mdf\u001b[49m\u001b[43m[\u001b[49m\u001b[38;5;124;43m\"\u001b[39;49m\u001b[38;5;124;43miiifthumburl\u001b[39;49m\u001b[38;5;124;43m\"\u001b[39;49m\u001b[43m]\u001b[49m\u001b[43m,\u001b[49m\u001b[43m \u001b[49m\u001b[43mdownloader\u001b[49m\u001b[38;5;241;43m=\u001b[39;49m\u001b[38;5;124;43m\"\u001b[39;49m\u001b[38;5;124;43murl\u001b[39;49m\u001b[38;5;124;43m\"\u001b[39;49m\u001b[43m)\u001b[49m\n\u001b[1;32m      2\u001b[0m df[[\u001b[38;5;124m\"\u001b[39m\u001b[38;5;124mimage\u001b[39m\u001b[38;5;124m\"\u001b[39m, \u001b[38;5;124m\"\u001b[39m\u001b[38;5;124mtitle\u001b[39m\u001b[38;5;124m\"\u001b[39m, \u001b[38;5;124m\"\u001b[39m\u001b[38;5;124mattribution\u001b[39m\u001b[38;5;124m\"\u001b[39m]]\u001b[38;5;241m.\u001b[39mhead()\n",
      "File \u001b[0;32m~/work/meerkat/meerkat/meerkat/columns/deferred/image.py:43\u001b[0m, in \u001b[0;36mimage\u001b[0;34m(filepaths, base_dir, downloader, loader, cache_dir)\u001b[0m\n\u001b[1;32m     23\u001b[0m \u001b[38;5;129m@docs\u001b[39m\u001b[38;5;241m.\u001b[39mdoc(source\u001b[38;5;241m=\u001b[39mFILE_SHARED_DOCS)\n\u001b[1;32m     24\u001b[0m \u001b[38;5;28;01mdef\u001b[39;00m \u001b[38;5;21mimage\u001b[39m(\n\u001b[1;32m     25\u001b[0m     filepaths: Sequence[\u001b[38;5;28mstr\u001b[39m],\n\u001b[0;32m   (...)\u001b[0m\n\u001b[1;32m     29\u001b[0m     cache_dir: \u001b[38;5;28mstr\u001b[39m \u001b[38;5;241m=\u001b[39m \u001b[38;5;28;01mNone\u001b[39;00m,\n\u001b[1;32m     30\u001b[0m ):\n\u001b[1;32m     31\u001b[0m \u001b[38;5;250m    \u001b[39m\u001b[38;5;124;03m\"\"\"Create a :class:`FileColumn` where each cell represents an image stored\u001b[39;00m\n\u001b[1;32m     32\u001b[0m \u001b[38;5;124;03m    on disk. The underlying data is a :class:`ScalarColumn` of strings, where\u001b[39;00m\n\u001b[1;32m     33\u001b[0m \u001b[38;5;124;03m    each string is the path to an image.\u001b[39;00m\n\u001b[0;32m   (...)\u001b[0m\n\u001b[1;32m     41\u001b[0m \u001b[38;5;124;03m        ${cache_dir}\u001b[39;00m\n\u001b[1;32m     42\u001b[0m \u001b[38;5;124;03m    \"\"\"\u001b[39;00m\n\u001b[0;32m---> 43\u001b[0m     \u001b[38;5;28;01mreturn\u001b[39;00m \u001b[43mFileColumn\u001b[49m\u001b[43m(\u001b[49m\n\u001b[1;32m     44\u001b[0m \u001b[43m        \u001b[49m\u001b[43mfilepaths\u001b[49m\u001b[43m,\u001b[49m\n\u001b[1;32m     45\u001b[0m \u001b[43m        \u001b[49m\u001b[43mbase_dir\u001b[49m\u001b[38;5;241;43m=\u001b[39;49m\u001b[43mbase_dir\u001b[49m\u001b[43m,\u001b[49m\n\u001b[1;32m     46\u001b[0m \u001b[43m        \u001b[49m\u001b[43mloader\u001b[49m\u001b[38;5;241;43m=\u001b[39;49m\u001b[43mloader\u001b[49m\u001b[43m,\u001b[49m\n\u001b[1;32m     47\u001b[0m \u001b[43m        \u001b[49m\u001b[43mdownloader\u001b[49m\u001b[38;5;241;43m=\u001b[39;49m\u001b[43mdownloader\u001b[49m\u001b[43m,\u001b[49m\n\u001b[1;32m     48\u001b[0m \u001b[43m        \u001b[49m\u001b[43mcache_dir\u001b[49m\u001b[38;5;241;43m=\u001b[39;49m\u001b[43mcache_dir\u001b[49m\u001b[43m,\u001b[49m\n\u001b[1;32m     49\u001b[0m \u001b[43m        \u001b[49m\u001b[43mformatters\u001b[49m\u001b[38;5;241;43m=\u001b[39;49m\u001b[43mdeferred_formatter_group\u001b[49m\u001b[43m(\u001b[49m\u001b[43mImageFormatterGroup\u001b[49m\u001b[43m(\u001b[49m\u001b[43m)\u001b[49m\u001b[43m)\u001b[49m\u001b[43m,\u001b[49m\n\u001b[1;32m     50\u001b[0m \u001b[43m    \u001b[49m\u001b[43m)\u001b[49m\n",
      "File \u001b[0;32m~/work/meerkat/meerkat/meerkat/columns/deferred/file.py:314\u001b[0m, in \u001b[0;36mFileColumn.__init__\u001b[0;34m(self, data, type, loader, downloader, base_dir, cache_dir, formatters, *args, **kwargs)\u001b[0m\n\u001b[1;32m    311\u001b[0m     \u001b[38;5;28mtype\u001b[39m \u001b[38;5;241m=\u001b[39m _infer_file_type(data)\n\u001b[1;32m    313\u001b[0m \u001b[38;5;28;01mif\u001b[39;00m \u001b[38;5;28mtype\u001b[39m \u001b[38;5;129;01mnot\u001b[39;00m \u001b[38;5;129;01min\u001b[39;00m FILE_TYPES:\n\u001b[0;32m--> 314\u001b[0m     \u001b[38;5;28;01mraise\u001b[39;00m \u001b[38;5;167;01mValueError\u001b[39;00m(\u001b[38;5;124mf\u001b[39m\u001b[38;5;124m\"\u001b[39m\u001b[38;5;124mInvalid file type \u001b[39m\u001b[38;5;132;01m{\u001b[39;00m\u001b[38;5;28mtype\u001b[39m\u001b[38;5;132;01m}\u001b[39;00m\u001b[38;5;124m.\u001b[39m\u001b[38;5;124m\"\u001b[39m)\n\u001b[1;32m    316\u001b[0m spec \u001b[38;5;241m=\u001b[39m FILE_TYPES[\u001b[38;5;28mtype\u001b[39m]\n\u001b[1;32m    317\u001b[0m loader \u001b[38;5;241m=\u001b[39m spec[\u001b[38;5;124m\"\u001b[39m\u001b[38;5;124mloader\u001b[39m\u001b[38;5;124m\"\u001b[39m] \u001b[38;5;28;01mif\u001b[39;00m loader \u001b[38;5;129;01mis\u001b[39;00m \u001b[38;5;28;01mNone\u001b[39;00m \u001b[38;5;28;01melse\u001b[39;00m loader\n",
      "\u001b[0;31mValueError\u001b[0m: Invalid file type None."
     ]
    }
   ],
   "source": [
    "df[\"image\"] = mk.image(df[\"iiifthumburl\"], downloader=\"url\")\n",
    "df[[\"image\", \"title\", \"attribution\"]].head()"
   ]
  },
  {
   "cell_type": "markdown",
   "id": "1b93a407",
   "metadata": {},
   "source": [
    "The function `mk.image` creates a {class}`~meerkat.ImageColumn` which defers the downloading of images from the URLs until the data is needed. \n",
    "\n",
    "```{admonition} Deferred Columns\n",
    "If you're wondering how {class}`~meerkat.ImageColumn` works, check out the guide on {doc}`columns/deferred`. \n",
    "```\n",
    "\n",
    "**Adding a primary key.** The `objectid` column contains a unique identifier for each work of art. We can use {func}`~meerkat.set_primary_key` to set this column as the primary key for the DataFrame, which allows us to perform key-based indexing on the DataFrame."
   ]
  },
  {
   "cell_type": "code",
   "execution_count": null,
   "id": "e35ca610",
   "metadata": {},
   "outputs": [],
   "source": [
    "df = df.set_primary_key(\"objectid\")\n",
    "df.loc[221224]"
   ]
  },
  {
   "cell_type": "markdown",
   "id": "de5f32b1",
   "metadata": {},
   "source": [
    "The {func}`~meerkat.from_csv` function has a utility parameter `primary_key` which can be used to set the primary key when the DataFrame is created."
   ]
  },
  {
   "cell_type": "code",
   "execution_count": null,
   "id": "0fb11fe6",
   "metadata": {
    "tags": [
     "output_scroll"
    ]
   },
   "outputs": [],
   "source": [
    "mk.from_csv(\"_data/art_ngoa.csv\", primary_key=\"objectid\")"
   ]
  },
  {
   "cell_type": "markdown",
   "id": "d0a9aaa0",
   "metadata": {},
   "source": [
    "```{admonition} Primary Keys\n",
    "To learn more about primary keys and key-based indexing, check out the section {ref}`key-based-selection`. \n",
    "```\n",
    "\n",
    "### Importing from storage formats\n",
    "Meerkat supports importing data from a number of other file formats. As in the example above, you may need to set the primary key and/or add additional columns for complex data (*e.g.* images, audio).\n",
    "\n",
    "- {func}`~meerkat.from_csv()`: Reads in data from a CSV (comma-separated values) file. CSV files are a common format for storing tabular data.\n",
    "\n",
    "- {func}`~meerkat.from_feather()`: Reads in data from a [Feather file](https://arrow.apache.org/docs/python/feather.html). Feather is a language-agnostic file format for storing DataFrames. It can provide significantly faster I/O than CSV. \n",
    "\n",
    "- {func}`~meerkat.from_parquet()`: Reads in data from a [Parquet file](https://parquet.apache.org/). Parquet is a columnar storage format that is designed for efficiency. \n",
    "\n",
    "- {func}`~meerkat.from_json()`: Reads in data from a JSON file. \n",
    "\n",
    "If your data is in a format not listed here, load it into a Pandas DataFrame and use {func}`~meerkat.from_pandas()` to convert it to a Meerkat DataFrame.\n",
    "\n",
    "### Importing from other libraries \n",
    "It's also posible to import data from third-party Python libraries like [Pandas](https://pandas.pydata.org/) and [HuggingFace Datasets](https://huggingface.co/datasets).\n",
    "\n",
    "- {func}`~meerkat.from_pandas()`: Converts a [Pandas DataFrame](https://pandas.pydata.org/docs/reference/api/pandas.DataFrame.html) to a Meerkat DataFrame. By default, the index of the Pandas DataFrame will be used as the primary key for the Meerkat DataFrame.\n",
    "\n",
    "- {func}`~meerkat.from_arrow()`: Converts an [Arrow Table](https://arrow.apache.org/docs/python/generated/pyarrow.Table.html#pyarrow.Table) to a Meerkat DataFrame.\n",
    "\n",
    "\n",
    "- {func}`~meerkat.from_huggingface()`: Converts a HuggingFace Dataset to a Meerkat DataFrame. By default, the index of the HuggingFace Dataset will be used as the primary key for the Meerkat DataFrame.\n",
    "\n",
    "\n",
    "(exporting)=\n",
    "## Exporting DataFrames\n",
    "Meerkat supports exporting DataFrames from Meerkat to other file formats and libraries. These methods are useful for converting data into formats that can be used by other libraries or software.\n",
    "\n",
    "````{warning}\n",
    "\n",
    "Most file formats designed for tabular data do not offer the same flexibility as Meerkat DataFrames, especially when it comes to storing complex data types and multi-dimensional tensors. As a result, exporting a Meerkat DataFrame to a file format may result in data loss.\n",
    "\n",
    "Specifically, any {class}`~meerkat.DeferredColumn` (or its subclasses) will not be exported. If you want to export a {class}`DeferredColumn`, you should first materialize the column(s) by calling the DataFrame. Also, depending on the export destination, any {class}`~meerkat.TensorColumn` and/or {class}`~meerkat.ObjectColumn` in the DataFrame may not be exported.\n",
    "````\n",
    "\n",
    "If you simply want to save a Meerkat DataFrame to disk, you should use {func}`~meerkat.DataFrame.write()` instead (see {ref}`writing-dataframes`). This will persist the DataFrame in a format that can be read back into Meerkat without any data loss.\n",
    "\n",
    "Continuing with the example above, let's export the DataFrame to a CSV file."
   ]
  },
  {
   "cell_type": "code",
   "execution_count": null,
   "id": "0c4c9ea2",
   "metadata": {},
   "outputs": [],
   "source": [
    "df.to_csv(\"_data/art_ngoa_export.csv\")"
   ]
  },
  {
   "cell_type": "markdown",
   "id": "a431defc",
   "metadata": {},
   "source": [
    "If we inspect the first 5 lines of the CSV file from the command line, we can see that the `image` column is missing. This is because the `image` column is a {class}`~meerkat.DeferredColumn` and was not exported."
   ]
  },
  {
   "cell_type": "code",
   "execution_count": null,
   "id": "11a91424",
   "metadata": {},
   "outputs": [],
   "source": [
    "!head -n 5 _data/art_ngoa_export.csv"
   ]
  },
  {
   "cell_type": "markdown",
   "id": "8a67cccf",
   "metadata": {},
   "source": [
    "When columns are dropped during export, a warning is raised.\n",
    "\n",
    "### Exporting to storage formats\n",
    "\n",
    "Meerkat supports exporting DataFrames to a number of file formats, with the {class}`~meerkat.DataFrame` class providing the methods listed below. \n",
    "\n",
    "- {func}`~meerkat.DataFrame.to_csv()`: Writes the DataFrame to a CSV file. CSV files are a common format for storing tabular data. Unlike some alternatives, CSV files are human-readable in a text-editor and can be easily imported into spreadsheet software.\n",
    "- {func}`~meerkat.DataFrame.to_feather()`: Writes the DataFrame to a [Feather file](https://arrow.apache.org/docs/python/feather.html). Feather is a language-agnostic file format for storing DataFrames. It can provide significantly faster I/O than CSV.\n",
    "- {func}`~meerkat.DataFrame.to_parquet()`: Writes the DataFrame to a [Parquet file](https://parquet.apache.org/). Parquet is a columnar storage format that is designed for efficiency.\n",
    "- {func}`~meerkat.DataFrame.to_json()`: Writes the DataFrame to a JSON file.\n",
    "\n",
    "Note that several of the methods take an optional `engine` parameter. This parameter allows you to control the underlying library that is used to write the DataFrame to disk. Options include: `pandas` and `arrow`. If no `engine` is specified, one is automatically chosen based on the columns in the DataFrame. For example, we can write the DataFrame to a CSV file using the Arrow library instead of Pandas."
   ]
  },
  {
   "cell_type": "code",
   "execution_count": null,
   "id": "2f51bb7b",
   "metadata": {},
   "outputs": [],
   "source": [
    "df.to_csv(\"_data/art_ngoa_export_arrow.csv\", engine=\"arrow\")"
   ]
  },
  {
   "cell_type": "markdown",
   "id": "f7bae73d",
   "metadata": {},
   "source": [
    "### Exporting to other libraries\n",
    "\n",
    "It is also possible to export Meerkat DataFrames to other Python DataFrame libraries. \n",
    "\n",
    "- {func}`~meerkat.DataFrame.to_pandas()`: Converts the DataFrame to a [Pandas DataFrame](https://pandas.pydata.org/docs/reference/api/pandas.DataFrame.html)\n",
    "- {func}`~meerkat.DataFrame.to_arrow()`: Converts the DataFrame to an [Arrow Table](https://arrow.apache.org/docs/python/generated/pyarrow.Table.html#pyarrow.Table).\n",
    "\n",
    "(persisting)=\n",
    "## Persisting DataFrames\n",
    "In this section, we discuss how to persist Meerkat DataFrames to disk using the {func}`~meerkat.DataFrame.write()` method. Unlike the export methods discussed above, {func}`~meerkat.DataFrame.write()` guarantees that the DataFrame read back in with {func}`~meerkat.read` will contain the exact sam columns as the original DataFrame.\n",
    "(writing-dataframes)=\n",
    "### Writing DataFrames \n",
    "Above we saw how some column types in Meerkat DataFrames cannot be exported to a single file format. Specifically, we saw that the column we created to display images was dropped when exporting to CSV.\n",
    "\n",
    "{func}`~meerkat.DataFrame.write` allows us to persist the DataFrame to disk in a way that will preserve the image column."
   ]
  },
  {
   "cell_type": "code",
   "execution_count": null,
   "id": "0f5e6798",
   "metadata": {},
   "outputs": [],
   "source": [
    "df.write(\"_data/art_ngoa.mk\")"
   ]
  },
  {
   "cell_type": "markdown",
   "id": "717e3d1f",
   "metadata": {},
   "source": [
    "*How does it work?* Under the hood, {func}`~meerkat.DataFrame.write` works by splitting the DataFrame among several different files. For example, the {class}`~meerkat.ScalarColumn`s could be stored together in a [Feather file](https://arrow.apache.org/docs/python/feather.html), while the {class}`~meerkat.TensorColumn`s could be stored in [NPY format](https://numpy.org/doc/stable/reference/generated/numpy.lib.format.html#module-numpy.lib.format). The path passed to {func}`~meerkat.DataFrame.write` is the directory where the files will be stored. The directory will also contain a `meta.yaml` file that contains information about the DataFrame. This file is used by {func}`~meerkat.read()` to reconstruct the DataFrame.\n",
    "\n",
    "### Reading DataFrames \n",
    "To read the DataFrame back in from disk, we can use the {func}`~meerkat.read()` function."
   ]
  },
  {
   "cell_type": "code",
   "execution_count": null,
   "id": "61e315c0",
   "metadata": {
    "tags": [
     "output_scroll"
    ]
   },
   "outputs": [],
   "source": [
    "mk.read(\"_data/art_ngoa.mk\")"
   ]
  },
  {
   "cell_type": "markdown",
   "id": "359a6944",
   "metadata": {},
   "source": [
    "Note that all the columns are present, including the `image` column, which had previously been lost with {func}`~meerkat.DataFrame.to_csv`."
   ]
  }
 ],
 "metadata": {
  "file_format": "mystnb",
  "kernelspec": {
   "display_name": "python3",
   "name": "python3"
  },
  "language_info": {
   "codemirror_mode": {
    "name": "ipython",
    "version": 3
   },
   "file_extension": ".py",
   "mimetype": "text/x-python",
   "name": "python",
   "nbconvert_exporter": "python",
   "pygments_lexer": "ipython3",
   "version": "3.8.16"
  },
  "source_map": [
   5,
   38,
   45,
   53,
   58,
   67,
   70,
   72,
   76,
   120,
   122,
   125,
   127,
   140,
   142,
   160,
   162,
   169,
   173
  ]
 },
 "nbformat": 4,
 "nbformat_minor": 5
}