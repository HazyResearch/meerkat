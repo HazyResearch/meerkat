{
 "cells": [
  {
   "cell_type": "markdown",
   "id": "ac9ad131",
   "metadata": {},
   "source": [
    "(guide/dataframe/selection)=\n",
    "\n",
    "# Data Selection\n",
    "\n",
    "\n",
    "As discussed in the {doc}`intro`, there are two key data structures in Meerkat: the Column and the DataFrame. In this guide, we'll demonstrate how to access the data stored within them.\n",
    "\n",
    "Throughout, we'll be selecting data from the following DataFrame, which holds the Imagenette dataset, a small subset of the original ImageNet. This DataFrame includes a column holding images, a column holding their labels, and a few others."
   ]
  },
  {
   "cell_type": "code",
   "execution_count": 1,
   "id": "09013854",
   "metadata": {},
   "outputs": [
    {
     "data": {
      "application/vnd.jupyter.widget-view+json": {
       "model_id": "18b0e64d595f42b093fe0e9e961ddefe",
       "version_major": 2,
       "version_minor": 0
      },
      "text/plain": [
       "Downloading:   0%|          | 0.00/99.0M [00:00<?, ?B/s]"
      ]
     },
     "metadata": {},
     "output_type": "display_data"
    },
    {
     "ename": "KeyboardInterrupt",
     "evalue": "",
     "output_type": "error",
     "traceback": [
      "\u001b[0;31m---------------------------------------------------------------------------\u001b[0m",
      "\u001b[0;31mKeyboardInterrupt\u001b[0m                         Traceback (most recent call last)",
      "Cell \u001b[0;32mIn[1], line 2\u001b[0m\n\u001b[1;32m      1\u001b[0m \u001b[38;5;28;01mimport\u001b[39;00m \u001b[38;5;21;01mmeerkat\u001b[39;00m \u001b[38;5;28;01mas\u001b[39;00m \u001b[38;5;21;01mmk\u001b[39;00m\n\u001b[0;32m----> 2\u001b[0m df \u001b[38;5;241m=\u001b[39m \u001b[43mmk\u001b[49m\u001b[38;5;241;43m.\u001b[39;49m\u001b[43mget\u001b[49m\u001b[43m(\u001b[49m\u001b[38;5;124;43m\"\u001b[39;49m\u001b[38;5;124;43mimagenette\u001b[39;49m\u001b[38;5;124;43m\"\u001b[39;49m\u001b[43m,\u001b[49m\u001b[43m \u001b[49m\u001b[43mversion\u001b[49m\u001b[38;5;241;43m=\u001b[39;49m\u001b[38;5;124;43m\"\u001b[39;49m\u001b[38;5;124;43m160px\u001b[39;49m\u001b[38;5;124;43m\"\u001b[39;49m\u001b[43m)\u001b[49m\n",
      "File \u001b[0;32m~/work/meerkat/meerkat/meerkat/datasets/__init__.py:78\u001b[0m, in \u001b[0;36mget\u001b[0;34m(name, dataset_dir, version, download_mode, registry, **kwargs)\u001b[0m\n\u001b[1;32m     76\u001b[0m \u001b[38;5;28;01mif\u001b[39;00m registry \u001b[38;5;241m==\u001b[39m \u001b[38;5;124m\"\u001b[39m\u001b[38;5;124mmeerkat\u001b[39m\u001b[38;5;124m\"\u001b[39m:\n\u001b[1;32m     77\u001b[0m     \u001b[38;5;28;01mtry\u001b[39;00m:\n\u001b[0;32m---> 78\u001b[0m         dataset \u001b[38;5;241m=\u001b[39m \u001b[43mdatasets\u001b[49m\u001b[38;5;241;43m.\u001b[39;49m\u001b[43mget\u001b[49m\u001b[43m(\u001b[49m\n\u001b[1;32m     79\u001b[0m \u001b[43m            \u001b[49m\u001b[43mname\u001b[49m\u001b[38;5;241;43m=\u001b[39;49m\u001b[43mname\u001b[49m\u001b[43m,\u001b[49m\n\u001b[1;32m     80\u001b[0m \u001b[43m            \u001b[49m\u001b[43mdataset_dir\u001b[49m\u001b[38;5;241;43m=\u001b[39;49m\u001b[43mdataset_dir\u001b[49m\u001b[43m,\u001b[49m\n\u001b[1;32m     81\u001b[0m \u001b[43m            \u001b[49m\u001b[43mversion\u001b[49m\u001b[38;5;241;43m=\u001b[39;49m\u001b[43mversion\u001b[49m\u001b[43m,\u001b[49m\n\u001b[1;32m     82\u001b[0m \u001b[43m            \u001b[49m\u001b[43mdownload_mode\u001b[49m\u001b[38;5;241;43m=\u001b[39;49m\u001b[43mdownload_mode\u001b[49m\u001b[43m,\u001b[49m\n\u001b[1;32m     83\u001b[0m \u001b[43m            \u001b[49m\u001b[38;5;241;43m*\u001b[39;49m\u001b[38;5;241;43m*\u001b[39;49m\u001b[43mkwargs\u001b[49m\u001b[43m,\u001b[49m\n\u001b[1;32m     84\u001b[0m \u001b[43m        \u001b[49m\u001b[43m)\u001b[49m\n\u001b[1;32m     85\u001b[0m         \u001b[38;5;28;01mreturn\u001b[39;00m dataset\n\u001b[1;32m     86\u001b[0m     \u001b[38;5;28;01mexcept\u001b[39;00m \u001b[38;5;167;01mKeyError\u001b[39;00m \u001b[38;5;28;01mas\u001b[39;00m e:\n",
      "File \u001b[0;32m~/work/meerkat/meerkat/meerkat/datasets/registry.py:27\u001b[0m, in \u001b[0;36mRegistry.get\u001b[0;34m(self, name, **kwargs)\u001b[0m\n\u001b[1;32m     22\u001b[0m \u001b[38;5;28;01mif\u001b[39;00m ret \u001b[38;5;129;01mis\u001b[39;00m \u001b[38;5;28;01mNone\u001b[39;00m:\n\u001b[1;32m     23\u001b[0m     \u001b[38;5;28;01mraise\u001b[39;00m \u001b[38;5;167;01mKeyError\u001b[39;00m(\n\u001b[1;32m     24\u001b[0m         \u001b[38;5;124m\"\u001b[39m\u001b[38;5;124mNo object named \u001b[39m\u001b[38;5;124m'\u001b[39m\u001b[38;5;132;01m{}\u001b[39;00m\u001b[38;5;124m'\u001b[39m\u001b[38;5;124m found in \u001b[39m\u001b[38;5;124m'\u001b[39m\u001b[38;5;132;01m{}\u001b[39;00m\u001b[38;5;124m'\u001b[39m\u001b[38;5;124m registry!\u001b[39m\u001b[38;5;124m\"\u001b[39m\u001b[38;5;241m.\u001b[39mformat(name, \u001b[38;5;28mself\u001b[39m\u001b[38;5;241m.\u001b[39m_name)\n\u001b[1;32m     25\u001b[0m     )\n\u001b[0;32m---> 27\u001b[0m \u001b[38;5;28;01mreturn\u001b[39;00m \u001b[43mret\u001b[49m\u001b[43m(\u001b[49m\u001b[38;5;241;43m*\u001b[39;49m\u001b[38;5;241;43m*\u001b[39;49m\u001b[43mkwargs\u001b[49m\u001b[43m)\u001b[49m\u001b[43m(\u001b[49m\u001b[43m)\u001b[49m\n",
      "File \u001b[0;32m~/work/meerkat/meerkat/meerkat/datasets/abstract.py:57\u001b[0m, in \u001b[0;36mDatasetBuilder.__call__\u001b[0;34m(self)\u001b[0m\n\u001b[1;32m     53\u001b[0m \u001b[38;5;28;01mdef\u001b[39;00m \u001b[38;5;21m__call__\u001b[39m(\u001b[38;5;28mself\u001b[39m):\n\u001b[1;32m     54\u001b[0m     \u001b[38;5;28;01mif\u001b[39;00m \u001b[38;5;28mself\u001b[39m\u001b[38;5;241m.\u001b[39mdownload_mode \u001b[38;5;129;01min\u001b[39;00m [\u001b[38;5;124m\"\u001b[39m\u001b[38;5;124mforce\u001b[39m\u001b[38;5;124m\"\u001b[39m, \u001b[38;5;124m\"\u001b[39m\u001b[38;5;124mextract\u001b[39m\u001b[38;5;124m\"\u001b[39m] \u001b[38;5;129;01mor\u001b[39;00m (\n\u001b[1;32m     55\u001b[0m         \u001b[38;5;28mself\u001b[39m\u001b[38;5;241m.\u001b[39mdownload_mode \u001b[38;5;241m==\u001b[39m \u001b[38;5;124m\"\u001b[39m\u001b[38;5;124mreuse\u001b[39m\u001b[38;5;124m\"\u001b[39m \u001b[38;5;129;01mand\u001b[39;00m \u001b[38;5;129;01mnot\u001b[39;00m \u001b[38;5;28mself\u001b[39m\u001b[38;5;241m.\u001b[39mis_downloaded()\n\u001b[1;32m     56\u001b[0m     ):\n\u001b[0;32m---> 57\u001b[0m         \u001b[38;5;28;43mself\u001b[39;49m\u001b[38;5;241;43m.\u001b[39;49m\u001b[43mdownload\u001b[49m\u001b[43m(\u001b[49m\u001b[43m)\u001b[49m\n\u001b[1;32m     58\u001b[0m         \u001b[38;5;28mself\u001b[39m\u001b[38;5;241m.\u001b[39mdump_download_meta()\n\u001b[1;32m     60\u001b[0m     \u001b[38;5;28;01mif\u001b[39;00m \u001b[38;5;129;01mnot\u001b[39;00m \u001b[38;5;28mself\u001b[39m\u001b[38;5;241m.\u001b[39mis_downloaded():\n",
      "File \u001b[0;32m~/work/meerkat/meerkat/meerkat/datasets/imagenette/__init__.py:78\u001b[0m, in \u001b[0;36mimagenette.download\u001b[0;34m(self)\u001b[0m\n\u001b[1;32m     76\u001b[0m url \u001b[38;5;241m=\u001b[39m \u001b[38;5;28mself\u001b[39m\u001b[38;5;241m.\u001b[39mVERSION_TO_URL[\u001b[38;5;28mself\u001b[39m\u001b[38;5;241m.\u001b[39mversion]\n\u001b[1;32m     77\u001b[0m path \u001b[38;5;241m=\u001b[39m \u001b[38;5;28mself\u001b[39m\u001b[38;5;241m.\u001b[39mdownload_url(url)\n\u001b[0;32m---> 78\u001b[0m \u001b[43mextract\u001b[49m\u001b[43m(\u001b[49m\u001b[43mpath\u001b[49m\u001b[43m,\u001b[49m\u001b[43m \u001b[49m\u001b[38;5;28;43mself\u001b[39;49m\u001b[38;5;241;43m.\u001b[39;49m\u001b[43mdataset_dir\u001b[49m\u001b[43m)\u001b[49m\n",
      "File \u001b[0;32m~/work/meerkat/meerkat/meerkat/datasets/utils.py:37\u001b[0m, in \u001b[0;36mextract\u001b[0;34m(path, dst, extractor)\u001b[0m\n\u001b[1;32m     35\u001b[0m \u001b[38;5;28;01mfor\u001b[39;00m extractor \u001b[38;5;129;01min\u001b[39;00m extractors:\n\u001b[1;32m     36\u001b[0m     \u001b[38;5;28;01mif\u001b[39;00m extractor\u001b[38;5;241m.\u001b[39mis_extractable(path):\n\u001b[0;32m---> 37\u001b[0m         \u001b[38;5;28;01mreturn\u001b[39;00m \u001b[43mextractor\u001b[49m\u001b[38;5;241;43m.\u001b[39;49m\u001b[43mextract\u001b[49m\u001b[43m(\u001b[49m\u001b[43mpath\u001b[49m\u001b[43m,\u001b[49m\u001b[43m \u001b[49m\u001b[43mdst\u001b[49m\u001b[43m)\u001b[49m\n\u001b[1;32m     38\u001b[0m \u001b[38;5;28;01mraise\u001b[39;00m \u001b[38;5;167;01mValueError\u001b[39;00m(\u001b[38;5;124m\"\u001b[39m\u001b[38;5;124mExtraction method not found for \u001b[39m\u001b[38;5;132;01m{}\u001b[39;00m\u001b[38;5;124m\"\u001b[39m\u001b[38;5;241m.\u001b[39mformat(path))\n",
      "File \u001b[0;32m/opt/hostedtoolcache/Python/3.8.16/x64/lib/python3.8/site-packages/datasets/utils/extract.py:126\u001b[0m, in \u001b[0;36mTarExtractor.extract\u001b[0;34m(input_path, output_path)\u001b[0m\n\u001b[1;32m    124\u001b[0m os\u001b[38;5;241m.\u001b[39mmakedirs(output_path, exist_ok\u001b[38;5;241m=\u001b[39m\u001b[38;5;28;01mTrue\u001b[39;00m)\n\u001b[1;32m    125\u001b[0m tar_file \u001b[38;5;241m=\u001b[39m tarfile\u001b[38;5;241m.\u001b[39mopen(input_path)\n\u001b[0;32m--> 126\u001b[0m \u001b[43mtar_file\u001b[49m\u001b[38;5;241;43m.\u001b[39;49m\u001b[43mextractall\u001b[49m\u001b[43m(\u001b[49m\u001b[43moutput_path\u001b[49m\u001b[43m,\u001b[49m\u001b[43m \u001b[49m\u001b[43mmembers\u001b[49m\u001b[38;5;241;43m=\u001b[39;49m\u001b[43mTarExtractor\u001b[49m\u001b[38;5;241;43m.\u001b[39;49m\u001b[43msafemembers\u001b[49m\u001b[43m(\u001b[49m\u001b[43mtar_file\u001b[49m\u001b[43m,\u001b[49m\u001b[43m \u001b[49m\u001b[43moutput_path\u001b[49m\u001b[43m)\u001b[49m\u001b[43m)\u001b[49m\n\u001b[1;32m    127\u001b[0m tar_file\u001b[38;5;241m.\u001b[39mclose()\n",
      "File \u001b[0;32m/opt/hostedtoolcache/Python/3.8.16/x64/lib/python3.8/tarfile.py:2021\u001b[0m, in \u001b[0;36mTarFile.extractall\u001b[0;34m(self, path, members, numeric_owner)\u001b[0m\n\u001b[1;32m   2018\u001b[0m \u001b[38;5;28;01mif\u001b[39;00m members \u001b[38;5;129;01mis\u001b[39;00m \u001b[38;5;28;01mNone\u001b[39;00m:\n\u001b[1;32m   2019\u001b[0m     members \u001b[38;5;241m=\u001b[39m \u001b[38;5;28mself\u001b[39m\n\u001b[0;32m-> 2021\u001b[0m \u001b[38;5;28;01mfor\u001b[39;00m tarinfo \u001b[38;5;129;01min\u001b[39;00m members:\n\u001b[1;32m   2022\u001b[0m     \u001b[38;5;28;01mif\u001b[39;00m tarinfo\u001b[38;5;241m.\u001b[39misdir():\n\u001b[1;32m   2023\u001b[0m         \u001b[38;5;66;03m# Extract directories with a safe mode.\u001b[39;00m\n\u001b[1;32m   2024\u001b[0m         directories\u001b[38;5;241m.\u001b[39mappend(tarinfo)\n",
      "File \u001b[0;32m/opt/hostedtoolcache/Python/3.8.16/x64/lib/python3.8/site-packages/datasets/utils/extract.py:113\u001b[0m, in \u001b[0;36mTarExtractor.safemembers\u001b[0;34m(members, output_path)\u001b[0m\n\u001b[1;32m    110\u001b[0m base \u001b[38;5;241m=\u001b[39m resolved(output_path)\n\u001b[1;32m    112\u001b[0m \u001b[38;5;28;01mfor\u001b[39;00m finfo \u001b[38;5;129;01min\u001b[39;00m members:\n\u001b[0;32m--> 113\u001b[0m     \u001b[38;5;28;01mif\u001b[39;00m \u001b[43mbadpath\u001b[49m\u001b[43m(\u001b[49m\u001b[43mfinfo\u001b[49m\u001b[38;5;241;43m.\u001b[39;49m\u001b[43mname\u001b[49m\u001b[43m,\u001b[49m\u001b[43m \u001b[49m\u001b[43mbase\u001b[49m\u001b[43m)\u001b[49m:\n\u001b[1;32m    114\u001b[0m         logger\u001b[38;5;241m.\u001b[39merror(\u001b[38;5;124mf\u001b[39m\u001b[38;5;124m\"\u001b[39m\u001b[38;5;124mExtraction of \u001b[39m\u001b[38;5;132;01m{\u001b[39;00mfinfo\u001b[38;5;241m.\u001b[39mname\u001b[38;5;132;01m}\u001b[39;00m\u001b[38;5;124m is blocked (illegal path)\u001b[39m\u001b[38;5;124m\"\u001b[39m)\n\u001b[1;32m    115\u001b[0m     \u001b[38;5;28;01melif\u001b[39;00m finfo\u001b[38;5;241m.\u001b[39missym() \u001b[38;5;129;01mand\u001b[39;00m badlink(finfo, base):\n",
      "File \u001b[0;32m/opt/hostedtoolcache/Python/3.8.16/x64/lib/python3.8/site-packages/datasets/utils/extract.py:103\u001b[0m, in \u001b[0;36mTarExtractor.safemembers.<locals>.badpath\u001b[0;34m(path, base)\u001b[0m\n\u001b[1;32m    101\u001b[0m \u001b[38;5;28;01mdef\u001b[39;00m \u001b[38;5;21mbadpath\u001b[39m(path: \u001b[38;5;28mstr\u001b[39m, base: \u001b[38;5;28mstr\u001b[39m) \u001b[38;5;241m-\u001b[39m\u001b[38;5;241m>\u001b[39m \u001b[38;5;28mbool\u001b[39m:\n\u001b[1;32m    102\u001b[0m     \u001b[38;5;66;03m# joinpath will ignore base if path is absolute\u001b[39;00m\n\u001b[0;32m--> 103\u001b[0m     \u001b[38;5;28;01mreturn\u001b[39;00m \u001b[38;5;129;01mnot\u001b[39;00m \u001b[43mresolved\u001b[49m\u001b[43m(\u001b[49m\u001b[43mos\u001b[49m\u001b[38;5;241;43m.\u001b[39;49m\u001b[43mpath\u001b[49m\u001b[38;5;241;43m.\u001b[39;49m\u001b[43mjoin\u001b[49m\u001b[43m(\u001b[49m\u001b[43mbase\u001b[49m\u001b[43m,\u001b[49m\u001b[43m \u001b[49m\u001b[43mpath\u001b[49m\u001b[43m)\u001b[49m\u001b[43m)\u001b[49m\u001b[38;5;241m.\u001b[39mstartswith(base)\n",
      "File \u001b[0;32m/opt/hostedtoolcache/Python/3.8.16/x64/lib/python3.8/site-packages/datasets/utils/extract.py:99\u001b[0m, in \u001b[0;36mTarExtractor.safemembers.<locals>.resolved\u001b[0;34m(path)\u001b[0m\n\u001b[1;32m     98\u001b[0m \u001b[38;5;28;01mdef\u001b[39;00m \u001b[38;5;21mresolved\u001b[39m(path: \u001b[38;5;28mstr\u001b[39m) \u001b[38;5;241m-\u001b[39m\u001b[38;5;241m>\u001b[39m \u001b[38;5;28mstr\u001b[39m:\n\u001b[0;32m---> 99\u001b[0m     \u001b[38;5;28;01mreturn\u001b[39;00m \u001b[43mos\u001b[49m\u001b[38;5;241;43m.\u001b[39;49m\u001b[43mpath\u001b[49m\u001b[38;5;241;43m.\u001b[39;49m\u001b[43mrealpath\u001b[49m\u001b[43m(\u001b[49m\u001b[43mos\u001b[49m\u001b[38;5;241;43m.\u001b[39;49m\u001b[43mpath\u001b[49m\u001b[38;5;241;43m.\u001b[39;49m\u001b[43mabspath\u001b[49m\u001b[43m(\u001b[49m\u001b[43mpath\u001b[49m\u001b[43m)\u001b[49m\u001b[43m)\u001b[49m\n",
      "File \u001b[0;32m/opt/hostedtoolcache/Python/3.8.16/x64/lib/python3.8/posixpath.py:391\u001b[0m, in \u001b[0;36mrealpath\u001b[0;34m(filename)\u001b[0m\n\u001b[1;32m    388\u001b[0m \u001b[38;5;250m    \u001b[39m\u001b[38;5;124;03m\"\"\"Return the canonical path of the specified filename, eliminating any\u001b[39;00m\n\u001b[1;32m    389\u001b[0m \u001b[38;5;124;03msymbolic links encountered in the path.\"\"\"\u001b[39;00m\n\u001b[1;32m    390\u001b[0m     filename \u001b[38;5;241m=\u001b[39m os\u001b[38;5;241m.\u001b[39mfspath(filename)\n\u001b[0;32m--> 391\u001b[0m     path, ok \u001b[38;5;241m=\u001b[39m \u001b[43m_joinrealpath\u001b[49m\u001b[43m(\u001b[49m\u001b[43mfilename\u001b[49m\u001b[43m[\u001b[49m\u001b[43m:\u001b[49m\u001b[38;5;241;43m0\u001b[39;49m\u001b[43m]\u001b[49m\u001b[43m,\u001b[49m\u001b[43m \u001b[49m\u001b[43mfilename\u001b[49m\u001b[43m,\u001b[49m\u001b[43m \u001b[49m\u001b[43m{\u001b[49m\u001b[43m}\u001b[49m\u001b[43m)\u001b[49m\n\u001b[1;32m    392\u001b[0m     \u001b[38;5;28;01mreturn\u001b[39;00m abspath(path)\n",
      "File \u001b[0;32m/opt/hostedtoolcache/Python/3.8.16/x64/lib/python3.8/posixpath.py:425\u001b[0m, in \u001b[0;36m_joinrealpath\u001b[0;34m(path, rest, seen)\u001b[0m\n\u001b[1;32m    423\u001b[0m     \u001b[38;5;28;01mcontinue\u001b[39;00m\n\u001b[1;32m    424\u001b[0m newpath \u001b[38;5;241m=\u001b[39m join(path, name)\n\u001b[0;32m--> 425\u001b[0m \u001b[38;5;28;01mif\u001b[39;00m \u001b[38;5;129;01mnot\u001b[39;00m \u001b[43mislink\u001b[49m\u001b[43m(\u001b[49m\u001b[43mnewpath\u001b[49m\u001b[43m)\u001b[49m:\n\u001b[1;32m    426\u001b[0m     path \u001b[38;5;241m=\u001b[39m newpath\n\u001b[1;32m    427\u001b[0m     \u001b[38;5;28;01mcontinue\u001b[39;00m\n",
      "File \u001b[0;32m/opt/hostedtoolcache/Python/3.8.16/x64/lib/python3.8/posixpath.py:167\u001b[0m, in \u001b[0;36mislink\u001b[0;34m(path)\u001b[0m\n\u001b[1;32m    165\u001b[0m \u001b[38;5;250m\u001b[39m\u001b[38;5;124;03m\"\"\"Test whether a path is a symbolic link\"\"\"\u001b[39;00m\n\u001b[1;32m    166\u001b[0m \u001b[38;5;28;01mtry\u001b[39;00m:\n\u001b[0;32m--> 167\u001b[0m     st \u001b[38;5;241m=\u001b[39m \u001b[43mos\u001b[49m\u001b[38;5;241;43m.\u001b[39;49m\u001b[43mlstat\u001b[49m\u001b[43m(\u001b[49m\u001b[43mpath\u001b[49m\u001b[43m)\u001b[49m\n\u001b[1;32m    168\u001b[0m \u001b[38;5;28;01mexcept\u001b[39;00m (\u001b[38;5;167;01mOSError\u001b[39;00m, \u001b[38;5;167;01mValueError\u001b[39;00m, \u001b[38;5;167;01mAttributeError\u001b[39;00m):\n\u001b[1;32m    169\u001b[0m     \u001b[38;5;28;01mreturn\u001b[39;00m \u001b[38;5;28;01mFalse\u001b[39;00m\n",
      "\u001b[0;31mKeyboardInterrupt\u001b[0m: "
     ]
    }
   ],
   "source": [
    "import meerkat as mk\n",
    "df = mk.get(\"imagenette\", version=\"160px\")"
   ]
  },
  {
   "cell_type": "markdown",
   "id": "d7d98658",
   "metadata": {},
   "source": [
    "Below is an overview of the data selection methods discussed in this guide. \n",
    "```{contents}\n",
    ":local:\n",
    "```\n",
    "\n",
    "## Selecting Columns\n",
    "The columns in a DataFrame are uniquely identified by `str` names. The code\n",
    "below displays the column names in the Imagenette dataframe we loaded above:"
   ]
  },
  {
   "cell_type": "code",
   "execution_count": null,
   "id": "17155972",
   "metadata": {},
   "outputs": [],
   "source": [
    "   df.columns"
   ]
  },
  {
   "cell_type": "markdown",
   "id": "857ed5f7",
   "metadata": {},
   "source": [
    "Using these column names, we can pull out an individual column or a subset of them as a new DataFrame. \n",
    "\n",
    "\n",
    "\n",
    "### Selecting a Single Column \n",
    "\n",
    "#### ``str`` -> {class}`~meerkat.Column`\n",
    "\n",
    "To select a single column, we simply pass it's name to the index operator. For example,"
   ]
  },
  {
   "cell_type": "code",
   "execution_count": null,
   "id": "19a9cb25",
   "metadata": {},
   "outputs": [],
   "source": [
    "   col = df[\"img\"]\n",
    "   col.head()"
   ]
  },
  {
   "cell_type": "markdown",
   "id": "d0e79c53",
   "metadata": {},
   "source": [
    "Passing a ``str`` that isn't among the column names will raise a ``KeyError``.  \n",
    "\n",
    "It may be helpful to think of a DataFrame as a dictionary mapping column names to columns. \n",
    "\n",
    "Indeed, a DataFrame implements other parts of the ``dict`` interface including :meth:`~meerkat.DataFrame.keys()`, :meth:`~meerkat.DataFrame.values()`, and :meth:`~meerkat.DataFrame.items()`. Unlike a dictionary, multiple columns in a DataFrame can be selected at once.\n",
    "\n",
    "### Selecting Multiple Columns\n",
    "\n",
    "#### ``List[str]`` -> {class}`~meerkat.DataFrame`\n",
    "\n",
    "\n",
    "You can select multiple columns by passing a list of column names. Doing so will return a new DataFrame with a subset of the columns in the original. For example,"
   ]
  },
  {
   "cell_type": "code",
   "execution_count": null,
   "id": "25ec738c",
   "metadata": {},
   "outputs": [],
   "source": [
    "    df = df[[\"img\", \"img_id\", \"label\"]]\n",
    "    df.head()"
   ]
  },
  {
   "cell_type": "markdown",
   "id": "f318b673",
   "metadata": {},
   "source": [
    "Passing a ``str`` that isn't among the column names will raise a ``KeyError``.\n",
    "\n",
    "\n",
    "```{admonition} Copy vs. Reference\n",
    "See {doc}`copying` for more information.\n",
    "\n",
    "You may be wondering whether the columns returned by indexing are copies of the columns in the original DataFrame. The columns returned by the index operator reference the same columns in the original DataFrame. This means that modifying the columns returned by the index operator will modify the columns in the original DataFrame.\n",
    "```\n",
    "\n",
    "## Selecting Rows by Position\n",
    "\n",
    "In Meerkat, the rows of a DataFrame or Column are ordered. This means that rows are uniquely identified by their position in the DataFrame or Column (similar to how the elements of a [Python List](https://www.w3schools.com/python/python_lists.asp) are uniquely identified by their position in the list).\n",
    "\n",
    "Row indices range from 0 to the number of rows in the DataFrame or Column minus one. To see how many rows a DataFrame or a column has we can use `len()`. For example,"
   ]
  },
  {
   "cell_type": "code",
   "execution_count": null,
   "id": "d5ec9e04",
   "metadata": {},
   "outputs": [],
   "source": [
    "   len(df)"
   ]
  },
  {
   "cell_type": "markdown",
   "id": "8abc8cd2",
   "metadata": {},
   "source": [
    "Above we mentioned how a DataFrame could be viewed as a dictionary mapping column names to columns. Equivalently, it also may be helpful to think of a DataFrame as a list of dictionaries mapping column names to values. The DataFrame interface supports both of these views – under the hood, storage is organized so as to make both column and row accesses fast.\n",
    "\n",
    "\n",
    "### Selecting a Single Row by Position \n",
    "#### ``int`` -> {class}`~meerkat.Row`\n",
    "\n",
    "To select a single row from a DataFrame, we simply pass it's position to the index operator."
   ]
  },
  {
   "cell_type": "code",
   "execution_count": null,
   "id": "1c7238b1",
   "metadata": {},
   "outputs": [],
   "source": [
    "   row = df[2]\n",
    "   row"
   ]
  },
  {
   "cell_type": "markdown",
   "id": "024bf705",
   "metadata": {},
   "source": [
    "Passing an ``int`` that is less than ``0`` or greater than ``len(df)`` will raise an ``IndexError``.\n",
    "\n",
    "\n",
    "Notice that `row` holds a {class}`~meerkat.FileCell` object, not a [PIL Image](https://pillow.readthedocs.io/en/stable/reference/Image.html) or other in-memory image object. \n",
    "The \"image\" has not yet been loaded from disk into memory. The {class}`~meerkat.FileCell` knows how to load the image into memory, but stops just short of doing so. \n",
    "Later on, when we want to access the image, we can *call* the row or cell to load the image into memory."
   ]
  },
  {
   "cell_type": "code",
   "execution_count": null,
   "id": "3994e360",
   "metadata": {},
   "outputs": [],
   "source": [
    "   row()"
   ]
  },
  {
   "cell_type": "code",
   "execution_count": null,
   "id": "16079e1f",
   "metadata": {},
   "outputs": [],
   "source": [
    "   row[\"img\"]()"
   ]
  },
  {
   "cell_type": "markdown",
   "id": "85150102",
   "metadata": {},
   "source": [
    "*Why do we wait to load the image into memory?* Image datasets often don't fit into memory. By deferring the loading of images until they are needed, we can manipulate large image datasets quickly. \n",
    "\n",
    "\n",
    "```{admonition} Materializing Deferred Columns\n",
    "The images in `df` are stored in a subclass of {class}`~meerkat.DeferredColumn` called {class}`~meerkat.ImageColumn`.\n",
    "Deferred columns are a special type of column that defer the materialization of data until it is needed. They play a central role in Meerkat as they make it easy to work with large data types like images and videos.\n",
    "Learn more in the {doc}`deferred` guide.\n",
    "```\n",
    "#### ``int`` -> {class}``Any``\n",
    "The same position-based indexing works for selecting a single cell from a Column."
   ]
  },
  {
   "cell_type": "code",
   "execution_count": null,
   "id": "0a2af926",
   "metadata": {},
   "outputs": [],
   "source": [
    "col = df[\"label\"]\n",
    "col[2]"
   ]
  },
  {
   "cell_type": "markdown",
   "id": "16ebd7e3",
   "metadata": {},
   "source": [
    "Passing an ``int`` that is less than ``0`` or greater than ``len(df[\"label\"])`` will raise an ``IndexError``.\n",
    "\n",
    "\n",
    "\n",
    "### Selecting Multiple Rows by Position\n",
    "There are three different ways we can select a subset of rows from a DataFrame or Column: via `slice`, `Sequence[int]`, or `Sequence[bool]`.\n",
    "\n",
    "#### ``slice`` -> {class}`~meerkat.DataFrame`\n",
    "To select a set of contiguous rows from a DataFrame, we can use an integer slice ``[start:end]``.\n",
    "The subset of rows will be returned as a new DataFrame."
   ]
  },
  {
   "cell_type": "code",
   "execution_count": null,
   "id": "fcdb9e09",
   "metadata": {},
   "outputs": [],
   "source": [
    "    df[50:100]"
   ]
  },
  {
   "cell_type": "markdown",
   "id": "d3b9e8fa",
   "metadata": {},
   "source": [
    "We can also use integer slices to select a set of evenly spaced rows from a DataFrame ``[start:end:step]``. For example, below we select every tenth row from the first 100 rows in the DataFrame."
   ]
  },
  {
   "cell_type": "code",
   "execution_count": null,
   "id": "cd83daa0",
   "metadata": {},
   "outputs": [],
   "source": [
    "    df[0:100:10]"
   ]
  },
  {
   "cell_type": "markdown",
   "id": "556be0ef",
   "metadata": {},
   "source": [
    "#### ``Sequence[int]`` -> {class}`~meerkat.DataFrame`\n",
    "To select multiple rows from a DataFrame we can also pass a list of ``int``."
   ]
  },
  {
   "cell_type": "code",
   "execution_count": null,
   "id": "a16dbf88",
   "metadata": {},
   "outputs": [],
   "source": [
    "    small_df = df[[0, 2, 5, 8, 17]]\n",
    "    small_df"
   ]
  },
  {
   "cell_type": "markdown",
   "id": "184366cf",
   "metadata": {},
   "source": [
    "Other valid sequences of ``int`` that can be used to index are:\n",
    "\n",
    "* ``Tuple[int]`` – a tuple of integers.\n",
    "* ``np.ndarray[np.integer]`` - a NumPy NDArray with `dtype` `np.integer`.\n",
    "* ``pd.Series[np.integer]`` - a Pandas Series with `dtype` `np.integer`.\n",
    "* ``torch.Tensor[torch.int64]`` - a PyTorch Tensor with `dtype` `torch.int`.\n",
    "* ``mk.Column`` - a Meerkat column who's cells are ``int``, ``np.integer``, or ``torch.int64``.\n",
    "\n",
    "This is useful when the rows are neither contiguous nor evenly spaced (otherwise slice indexing, described above, is faster).\n",
    "\n",
    "#### ``Sequence[bool]`` -> {class}`~meerkat.DataFrame`\n",
    "\n",
    "To select multiple rows from a DataFrame we can also pass a list of ``bool`` the\n",
    "same length as the DataFrame. Below we select the first and last rows from\n",
    "the smaller DataFrame ``small_df`` that we selected in the panel above."
   ]
  },
  {
   "cell_type": "code",
   "execution_count": null,
   "id": "625aa8ca",
   "metadata": {},
   "outputs": [],
   "source": [
    "small_df[[True, False, False, False, True]]"
   ]
  },
  {
   "cell_type": "markdown",
   "id": "bfb2a002",
   "metadata": {},
   "source": [
    "Other valid sequences of ``bool`` that can be used to select  are:\n",
    "\n",
    "* ``Tuple[bool]`` – a tuple of bool.\n",
    "* ``np.ndarray[bool]`` - a NumPy NDArray with `dtype` `bool`.\n",
    "* ``pd.Series[bool]`` - a Pandas Series with `dtype` `bool`.\n",
    "* ``torch.Tensor[torch.bool]`` - a PyTorch Tensor with `dtype` `torch.bool`.\n",
    "* ``mk.Column`` - a Meerkat column who's cells are ``int``, ``bool``, or ``torch.bool``.\n",
    "\n",
    "This is very useful for quickly selecting a subset of rows that satisfy a predicate\n",
    "(like you might do with a ``WHERE`` clause in SQL).\n",
    "For example, say we want to select all rows that have a value of ``\"parachute\"`` in\n",
    "the ``\"label\"`` column. We could do this using the following code:"
   ]
  },
  {
   "cell_type": "code",
   "execution_count": null,
   "id": "e163a27d",
   "metadata": {},
   "outputs": [],
   "source": [
    "    parachute_df = df[df[\"label\"] == \"parachute\"]\n",
    "    parachute_df.head()"
   ]
  },
  {
   "cell_type": "markdown",
   "id": "d5d4ecd2",
   "metadata": {},
   "source": [
    "```{admonition} Copy vs. Reference\n",
    "\n",
    "See {doc}`advanced/copying.rst` for more information.\n",
    "\n",
    "You may be wondering whether the rows returned by indexing are copies or references of the rows in the original DataFrame. \n",
    "This depends on (1) which of the selection strategies above you use (``slice`` vs. ``Sequence[int]`` vs. ``Sequence[bool]``)  and (2) the column type (*e.g.* {class}`PandasSeriesColumn`, {class}`TensorColumn`). \n",
    "\n",
    "In general, columns inherit the copying behavior of their underlying data structure. \n",
    "For example, a {class}`TensorColumn` has the copying behavior of a NumPy array, as described in the `Numpy indexing documentation <https://numpy.org/doc/stable/reference/arrays.indexing.html>`_.  \n",
    "See a more detailed discussion in {doc}`advanced/copying.rst` . \n",
    "```\n",
    "\n",
    "\n",
    "(key-based-selection)=\n",
    "## Selecting Rows by Key\n",
    "It is also possible to select rows from a DataFrame by a key column. \n",
    "In Meerkat, a key column is a {class}`~meerkat.ScalarColumn` containing `str` or `int` values that uniquely identify each row. The primary key in Meerkat is analogous to the primary key in a SQL database or the index in a Pandas DataFrame.\n",
    "\n",
    "The primary key of `df` is the `\"img_id\"` column."
   ]
  },
  {
   "cell_type": "code",
   "execution_count": null,
   "id": "f22042fb",
   "metadata": {},
   "outputs": [],
   "source": [
    "    print(df.primary_key_name)\n",
    "    df.primary_key"
   ]
  },
  {
   "cell_type": "markdown",
   "id": "04e44202",
   "metadata": {},
   "source": [
    "The primary key can be set using {func}`~meerkat.DataFrame.set_primary_key`, which takes a column name or a {class}`~meerkat.ScalarColumn` as input. \n",
    "\n",
    "### Selecting a Single Row by Key\n",
    "#### `str|int` -> {class}`~meerkat.Row`\n",
    "To select a single row from a DataFrame by key, we can use the ``.loc[]`` operator and pass a key value."
   ]
  },
  {
   "cell_type": "code",
   "execution_count": null,
   "id": "51ac198a",
   "metadata": {},
   "outputs": [],
   "source": [
    "    df.loc[\"n03888257_37776\"]"
   ]
  },
  {
   "cell_type": "markdown",
   "id": "40e4830e",
   "metadata": {},
   "source": [
    "### Selecting Multiple Rows by Key\n",
    "#### `Sequence[str|int]` -> {class}`~meerkat.DataFrame`\n",
    "We can also select a subset of rows in a DataFrame by passing a list of key values to ``.loc[]``."
   ]
  },
  {
   "cell_type": "code",
   "execution_count": null,
   "id": "d9d1ffdf",
   "metadata": {},
   "outputs": [],
   "source": [
    "    df.loc[[\"n03888257_37776\", \"n03425413_20711\", \"n03425413_1242\"]]"
   ]
  },
  {
   "cell_type": "markdown",
   "id": "ba116484",
   "metadata": {},
   "source": [
    "Passing a ``str|int`` that isn't in the primary key will raise a ``KeyError``.\n",
    "\n",
    "```{admonition} For Pandas Users\n",
    "\n",
    "``index vs. primary key``:\n",
    "Pandas DataFrames maintain an index object that is separate from the DataFrame's columns.\n",
    "The index object is used to select rows by key using the ``.loc[]`` indexer.\n",
    "In Meerkat, there is no separate index object. \n",
    "Instead, we designate one of the columns the primary key and can select rows based on the values in that column using ``.loc[]``.\n",
    "The Meerkat approach, where the primary key is a column in the DataFrame, resembles the approach taken by most SQL databases. \n",
    "\n",
    "``.iloc``:\n",
    "Pandas users are likely familiar with ``.loc`` properties of DataFrame and Series.\n",
    "These properties are used to select data by integer position and by key in the index, respectively. \n",
    "In Meerkat, we do not support ``.iloc`` – to index by position, simply apply the index operator `[]` directly to the object.\n",
    "```"
   ]
  }
 ],
 "metadata": {
  "file_format": "mystnb",
  "kernelspec": {
   "display_name": "python3",
   "name": "python3"
  },
  "language_info": {
   "codemirror_mode": {
    "name": "ipython",
    "version": 3
   },
   "file_extension": ".py",
   "mimetype": "text/x-python",
   "name": "python",
   "nbconvert_exporter": "python",
   "pygments_lexer": "ipython3",
   "version": "3.8.16"
  },
  "source_map": [
   5,
   16,
   19,
   31,
   33,
   45,
   48,
   62,
   65,
   82,
   84,
   95,
   98,
   107,
   111,
   113,
   126,
   129,
   141,
   143,
   147,
   149,
   153,
   156,
   173,
   176,
   191,
   194,
   216,
   219,
   225,
   227,
   232,
   234
  ]
 },
 "nbformat": 4,
 "nbformat_minor": 5
}