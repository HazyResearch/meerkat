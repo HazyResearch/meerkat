{
 "cells": [
  {
   "cell_type": "markdown",
   "id": "2c5ff6ee",
   "metadata": {},
   "source": [
    "# Introduction to DataFrames \n",
    "\n",
    "Meerkat provides two data structures, the column and the dataframe, that together help \n",
    "you build, manage, and explore machine learning datasets . Everything you do with Meerkat will \n",
    "involve one or both of these data structures, so we begin this user guide with their\n",
    "high-level introduction. \n",
    "\n",
    "## Column\n",
    "\n",
    "A column is a sequential data structure (analagous to a [`Series`](https://pandas.pydata.org/docs/reference/api/pandas.Series.html) in Pandas or a [`Vector`](https://cran.r-project.org/doc/manuals/r-release/R-intro.html#Simple-manipulations-numbers-and-vectors) in R). \n",
    "Meerkat supports a diverse set of column types (*e.g.* {py:class}`TensorColumn <meerkat.TensorColumn>`, \n",
    "{py:class}`ImageColumn <meerkat.ImageColumn>`), each intended for different kinds of data. To see a\n",
    "list of the core column types and their capabilities, see {py:doc}`column_types <column_types>`.\n",
    "\n",
    "Below we create a simple column to hold a set of images stored on disk. To create it,\n",
    "we simply pass filepaths to the {py:class}`ImageColumn <meerkat.ImageColumn>` constructor."
   ]
  },
  {
   "cell_type": "code",
   "execution_count": 1,
   "id": "61345161",
   "metadata": {
    "tags": [
     "remove-cell"
    ]
   },
   "outputs": [],
   "source": [
    "import os\n",
    "import meerkat as mk\n",
    "abs_path_to_img_dir = os.path.join(os.path.dirname(os.path.dirname(mk.__file__)), \"docs/assets/guide/data_structures\")"
   ]
  },
  {
   "cell_type": "code",
   "execution_count": 2,
   "id": "b6ad2d7d",
   "metadata": {},
   "outputs": [
    {
     "ename": "ValueError",
     "evalue": "Invalid file type None.",
     "output_type": "error",
     "traceback": [
      "\u001b[0;31m---------------------------------------------------------------------------\u001b[0m",
      "\u001b[0;31mValueError\u001b[0m                                Traceback (most recent call last)",
      "Cell \u001b[0;32mIn[2], line 1\u001b[0m\n\u001b[0;32m----> 1\u001b[0m img_col \u001b[38;5;241m=\u001b[39m \u001b[43mmk\u001b[49m\u001b[38;5;241;43m.\u001b[39;49m\u001b[43mimage\u001b[49m\u001b[43m(\u001b[49m\n\u001b[1;32m      2\u001b[0m \u001b[43m    \u001b[49m\u001b[43m[\u001b[49m\u001b[38;5;124;43m\"\u001b[39;49m\u001b[38;5;124;43mimg_0.jpg\u001b[39;49m\u001b[38;5;124;43m\"\u001b[39;49m\u001b[43m,\u001b[49m\u001b[43m \u001b[49m\u001b[38;5;124;43m\"\u001b[39;49m\u001b[38;5;124;43mimg_1.jpg\u001b[39;49m\u001b[38;5;124;43m\"\u001b[39;49m\u001b[43m,\u001b[49m\u001b[43m \u001b[49m\u001b[38;5;124;43m\"\u001b[39;49m\u001b[38;5;124;43mimg_2.jpg\u001b[39;49m\u001b[38;5;124;43m\"\u001b[39;49m\u001b[43m]\u001b[49m\u001b[43m,\u001b[49m\u001b[43m \u001b[49m\n\u001b[1;32m      3\u001b[0m \u001b[43m    \u001b[49m\u001b[43mbase_dir\u001b[49m\u001b[38;5;241;43m=\u001b[39;49m\u001b[43mabs_path_to_img_dir\u001b[49m\n\u001b[1;32m      4\u001b[0m \u001b[43m)\u001b[49m\n\u001b[1;32m      5\u001b[0m img_col\n",
      "File \u001b[0;32m~/work/meerkat/meerkat/meerkat/columns/deferred/image.py:43\u001b[0m, in \u001b[0;36mimage\u001b[0;34m(filepaths, base_dir, downloader, loader, cache_dir)\u001b[0m\n\u001b[1;32m     23\u001b[0m \u001b[38;5;129m@docs\u001b[39m\u001b[38;5;241m.\u001b[39mdoc(source\u001b[38;5;241m=\u001b[39mFILE_SHARED_DOCS)\n\u001b[1;32m     24\u001b[0m \u001b[38;5;28;01mdef\u001b[39;00m \u001b[38;5;21mimage\u001b[39m(\n\u001b[1;32m     25\u001b[0m     filepaths: Sequence[\u001b[38;5;28mstr\u001b[39m],\n\u001b[0;32m   (...)\u001b[0m\n\u001b[1;32m     29\u001b[0m     cache_dir: \u001b[38;5;28mstr\u001b[39m \u001b[38;5;241m=\u001b[39m \u001b[38;5;28;01mNone\u001b[39;00m,\n\u001b[1;32m     30\u001b[0m ):\n\u001b[1;32m     31\u001b[0m \u001b[38;5;250m    \u001b[39m\u001b[38;5;124;03m\"\"\"Create a :class:`FileColumn` where each cell represents an image stored\u001b[39;00m\n\u001b[1;32m     32\u001b[0m \u001b[38;5;124;03m    on disk. The underlying data is a :class:`ScalarColumn` of strings, where\u001b[39;00m\n\u001b[1;32m     33\u001b[0m \u001b[38;5;124;03m    each string is the path to an image.\u001b[39;00m\n\u001b[0;32m   (...)\u001b[0m\n\u001b[1;32m     41\u001b[0m \u001b[38;5;124;03m        ${cache_dir}\u001b[39;00m\n\u001b[1;32m     42\u001b[0m \u001b[38;5;124;03m    \"\"\"\u001b[39;00m\n\u001b[0;32m---> 43\u001b[0m     \u001b[38;5;28;01mreturn\u001b[39;00m \u001b[43mFileColumn\u001b[49m\u001b[43m(\u001b[49m\n\u001b[1;32m     44\u001b[0m \u001b[43m        \u001b[49m\u001b[43mfilepaths\u001b[49m\u001b[43m,\u001b[49m\n\u001b[1;32m     45\u001b[0m \u001b[43m        \u001b[49m\u001b[43mbase_dir\u001b[49m\u001b[38;5;241;43m=\u001b[39;49m\u001b[43mbase_dir\u001b[49m\u001b[43m,\u001b[49m\n\u001b[1;32m     46\u001b[0m \u001b[43m        \u001b[49m\u001b[43mloader\u001b[49m\u001b[38;5;241;43m=\u001b[39;49m\u001b[43mloader\u001b[49m\u001b[43m,\u001b[49m\n\u001b[1;32m     47\u001b[0m \u001b[43m        \u001b[49m\u001b[43mdownloader\u001b[49m\u001b[38;5;241;43m=\u001b[39;49m\u001b[43mdownloader\u001b[49m\u001b[43m,\u001b[49m\n\u001b[1;32m     48\u001b[0m \u001b[43m        \u001b[49m\u001b[43mcache_dir\u001b[49m\u001b[38;5;241;43m=\u001b[39;49m\u001b[43mcache_dir\u001b[49m\u001b[43m,\u001b[49m\n\u001b[1;32m     49\u001b[0m \u001b[43m        \u001b[49m\u001b[43mformatters\u001b[49m\u001b[38;5;241;43m=\u001b[39;49m\u001b[43mdeferred_formatter_group\u001b[49m\u001b[43m(\u001b[49m\u001b[43mImageFormatterGroup\u001b[49m\u001b[43m(\u001b[49m\u001b[43m)\u001b[49m\u001b[43m)\u001b[49m\u001b[43m,\u001b[49m\n\u001b[1;32m     50\u001b[0m \u001b[43m    \u001b[49m\u001b[43m)\u001b[49m\n",
      "File \u001b[0;32m~/work/meerkat/meerkat/meerkat/columns/deferred/file.py:314\u001b[0m, in \u001b[0;36mFileColumn.__init__\u001b[0;34m(self, data, type, loader, downloader, base_dir, cache_dir, formatters, *args, **kwargs)\u001b[0m\n\u001b[1;32m    311\u001b[0m     \u001b[38;5;28mtype\u001b[39m \u001b[38;5;241m=\u001b[39m _infer_file_type(data)\n\u001b[1;32m    313\u001b[0m \u001b[38;5;28;01mif\u001b[39;00m \u001b[38;5;28mtype\u001b[39m \u001b[38;5;129;01mnot\u001b[39;00m \u001b[38;5;129;01min\u001b[39;00m FILE_TYPES:\n\u001b[0;32m--> 314\u001b[0m     \u001b[38;5;28;01mraise\u001b[39;00m \u001b[38;5;167;01mValueError\u001b[39;00m(\u001b[38;5;124mf\u001b[39m\u001b[38;5;124m\"\u001b[39m\u001b[38;5;124mInvalid file type \u001b[39m\u001b[38;5;132;01m{\u001b[39;00m\u001b[38;5;28mtype\u001b[39m\u001b[38;5;132;01m}\u001b[39;00m\u001b[38;5;124m.\u001b[39m\u001b[38;5;124m\"\u001b[39m)\n\u001b[1;32m    316\u001b[0m spec \u001b[38;5;241m=\u001b[39m FILE_TYPES[\u001b[38;5;28mtype\u001b[39m]\n\u001b[1;32m    317\u001b[0m loader \u001b[38;5;241m=\u001b[39m spec[\u001b[38;5;124m\"\u001b[39m\u001b[38;5;124mloader\u001b[39m\u001b[38;5;124m\"\u001b[39m] \u001b[38;5;28;01mif\u001b[39;00m loader \u001b[38;5;129;01mis\u001b[39;00m \u001b[38;5;28;01mNone\u001b[39;00m \u001b[38;5;28;01melse\u001b[39;00m loader\n",
      "\u001b[0;31mValueError\u001b[0m: Invalid file type None."
     ]
    }
   ],
   "source": [
    "img_col = mk.image(\n",
    "    [\"img_0.jpg\", \"img_1.jpg\", \"img_2.jpg\"], \n",
    "    base_dir=abs_path_to_img_dir\n",
    ")\n",
    "img_col"
   ]
  },
  {
   "cell_type": "markdown",
   "id": "e7054520",
   "metadata": {},
   "source": [
    "All Meerkat columns are subclasses of {py:class}`Column <meerkat.Column>` and share a common \n",
    "interface, which includes \n",
    "{py:meth}`__len__ <meerkat.Column.__len__>`,\n",
    "{py:meth}`__getitem__ <meerkat.Column.__getitem__>`, \n",
    "{py:meth}`__setitem__ <meerkat.Column.__setitem__>`, \n",
    "{py:meth}`filter <meerkat.Column.filter>`, \n",
    "{py:meth}`map <meerkat.Column.map>`, \n",
    "and {py:meth}`concat <meerkat.Column.concat>`. Below we get the length of the column we just created."
   ]
  },
  {
   "cell_type": "code",
   "execution_count": null,
   "id": "5dea94cb",
   "metadata": {},
   "outputs": [],
   "source": [
    "len(img_col)"
   ]
  },
  {
   "cell_type": "markdown",
   "id": "2959d755",
   "metadata": {},
   "source": [
    "Certain column types may expose additional functionality. For example, \n",
    "{py:class}`TensorColumn <meerkat.TensorColumn>`\n",
    "inherits most of the functionality of an\n",
    "[`ndarray`](https://numpy.org/doc/stable/reference/generated/numpy.ndarray.html)."
   ]
  },
  {
   "cell_type": "code",
   "execution_count": null,
   "id": "1e3a540f",
   "metadata": {},
   "outputs": [],
   "source": [
    "id_col = mk.TensorColumn([0, 1, 2])\n",
    "id_col.sum()\n",
    "id_col == 1"
   ]
  },
  {
   "cell_type": "markdown",
   "id": "3ddf7c5f",
   "metadata": {},
   "source": [
    "If you don't know which column type to use, you can just pass a familiar data \n",
    "structure like a ``list``, ``np.ndarray``, ``pd.Series``, and ``torch.Tensor`` to \n",
    "{py:meth}`Column.from_data <meerkat.Column.from_data>`\n",
    "and Meerkat will automatically pick an appropriate column type."
   ]
  },
  {
   "cell_type": "code",
   "execution_count": null,
   "id": "621fda72",
   "metadata": {},
   "outputs": [],
   "source": [
    "import torch\n",
    "tensor = torch.tensor([1,2,3])\n",
    "mk.Column.from_data(tensor)"
   ]
  },
  {
   "cell_type": "markdown",
   "id": "0846d10c",
   "metadata": {},
   "source": [
    "## DataFrame\n",
    "\n",
    "A \n",
    "{py:class}`DataFrame <meerkat.DataFrame>`\n",
    "is a collection of equal-length columns (analagous to a \n",
    "[`DataFrame`](https://pandas.pydata.org/docs/reference/api/pandas.DataFrame.html#pandas.DataFrame) in Pandas or R). \n",
    "DataFrames in Meerkat are used to manage datasets and per-example artifacts (*e.g.* model predictions and embeddings).  \n",
    "\n",
    "Below we combine the columns we created above into a single DataFrame. We also add an \n",
    "additional column containing labels for the images. Note that we can pass non-Meerkat data \n",
    "structures like ``list``, ``np.ndarray``, ``pd.Series``, and ``torch.Tensor``  directly to the \n",
    "DataFrame constructor and Meerkat will infer the column type. We do not need to first \n",
    "convert to a Meerkat column."
   ]
  },
  {
   "cell_type": "code",
   "execution_count": null,
   "id": "b907e00f",
   "metadata": {},
   "outputs": [],
   "source": [
    "df = mk.DataFrame(\n",
    "    {\n",
    "        \"img\": img_col,\n",
    "        \"label\": [\"boombox\", \"truck\", \"dog\"],\n",
    "        \"id\": id_col, \n",
    "    }\n",
    ")\n",
    "df"
   ]
  },
  {
   "cell_type": "markdown",
   "id": "4efcd10c",
   "metadata": {},
   "source": [
    "Read on to learn how we access the data in Columns and DataFrames."
   ]
  }
 ],
 "metadata": {
  "file_format": "mystnb",
  "kernelspec": {
   "display_name": "python3",
   "name": "python3"
  },
  "language_info": {
   "codemirror_mode": {
    "name": "ipython",
    "version": 3
   },
   "file_extension": ".py",
   "mimetype": "text/x-python",
   "name": "python",
   "nbconvert_exporter": "python",
   "pygments_lexer": "ipython3",
   "version": "3.8.16"
  },
  "source_map": [
   5,
   24,
   31,
   37,
   48,
   50,
   58,
   62,
   69,
   73,
   89,
   98
  ]
 },
 "nbformat": 4,
 "nbformat_minor": 5
}